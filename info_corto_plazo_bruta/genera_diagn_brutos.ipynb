{
 "cells": [
  {
   "cell_type": "code",
   "execution_count": 27,
   "id": "d2a37d7e",
   "metadata": {},
   "outputs": [],
   "source": [
    "import pandas as pd\n",
    "import os\n",
    "from google import genai\n",
    "from docx import Document"
   ]
  },
  {
   "cell_type": "code",
   "execution_count": 28,
   "id": "168df6c1",
   "metadata": {},
   "outputs": [],
   "source": [
    "#Cambiar directorio de trabajo\n",
    "os.chdir(r\"H:/Mi unidad\\pgd\\informacion_corto_plazo\")"
   ]
  },
  {
   "cell_type": "code",
   "execution_count": 29,
   "id": "235662d8",
   "metadata": {},
   "outputs": [],
   "source": [
    "##Leer matriz de consolidación\n",
    "matriz=pd.read_excel(\"matriz_consolidacion.xlsx\", usecols=range(8))\n",
    "#Leer credenciales de google\n",
    "\n",
    "with open('C:/cred_google_gemini.txt', 'r') as file:\n",
    "    llave = file.read()"
   ]
  },
  {
   "cell_type": "code",
   "execution_count": 38,
   "id": "eb9f0e4a",
   "metadata": {},
   "outputs": [],
   "source": [
    "# 2) Función que arma el “documento” por grupo\n",
    "def documento_por_grupo(g, salto=\"\\n\\n\"):\n",
    "    diag = salto.join(\n",
    "        f\"Diagnóstico: {t.strip()}\"\n",
    "        for t in g.loc[g.variable.str.contains(\"Diagnóstico\", na=False), \"texto\"]\n",
    "    )\n",
    "    obj  = salto.join(\n",
    "        f\"Objetivo: {t.strip()}\"\n",
    "        for t in g.loc[g.variable.str.contains(\"Objetivo\", na=False), \"texto\"]\n",
    "    )\n",
    "    est  = salto.join(\n",
    "        f\"Estrategia: {t.strip()}\"\n",
    "        for t in g.loc[g.variable.str.contains(\"Estrategia\", na=False), \"texto\"]\n",
    "    )\n",
    "    return diag, obj, est"
   ]
  },
  {
   "cell_type": "code",
   "execution_count": 39,
   "id": "86f67dac",
   "metadata": {},
   "outputs": [
    {
     "name": "stdout",
     "output_type": "stream",
     "text": [
      "Se generarán 5 documentos Word\n"
     ]
    },
    {
     "name": "stderr",
     "output_type": "stream",
     "text": [
      "C:\\Users\\claud\\AppData\\Local\\Temp\\ipykernel_24908\\1336391203.py:3: DeprecationWarning: DataFrameGroupBy.apply operated on the grouping columns. This behavior is deprecated, and in a future version of pandas the grouping columns will be excluded from the operation. Either pass `include_groups=False` to exclude the groupings or explicitly select the grouping columns after groupby to silence this warning.\n",
      "  .apply(documento_por_grupo)\n"
     ]
    },
    {
     "data": {
      "text/plain": [
       "linea                                       eje                                                                                                  tema                 documento                                                           \n",
       "Plena de derechos de infancia y juventudes  Educación, cultura, disfrute, salud y cuidados que promuevan el libre desarrollo de la personalidad  Cultura              Programa provisional de gobierno del Gobierno de la Ciudad de México    (Diagnóstico: La capital concentra la mayor pr...\n",
       "                                                                                                                                                 Educación            Programa provisional de gobierno del Gobierno de la Ciudad de México    (Diagnóstico: Datos de la Secretaría de Educac...\n",
       "                                            Trabajo y vivienda, para juventudes                                                                  Grupos prioritarios  Programa provisional de gobierno del Gobierno de la Ciudad de México    (Diagnóstico: A inicios de 2025, la población ...\n",
       "                                                                                                                                                 Trabajo              Programa provisional de gobierno del Gobierno de la Ciudad de México    (Diagnóstico: En cuanto a la población económi...\n",
       "                                                                                                                                                 Vivienda             Programa provisional de gobierno del Gobierno de la Ciudad de México    (Diagnóstico: En la ciudad, se estima que 6% d...\n",
       "dtype: object"
      ]
     },
     "execution_count": 39,
     "metadata": {},
     "output_type": "execute_result"
    }
   ],
   "source": [
    "grupos = (\n",
    "    matriz.groupby([\"linea\", \"eje\", \"tema\", \"documento\"], dropna=False)\n",
    "          .apply(documento_por_grupo)\n",
    ")\n",
    "\n",
    "print(f\"Se generarán {len(grupos)} documentos Word\")\n",
    "grupos"
   ]
  },
  {
   "cell_type": "code",
   "execution_count": 32,
   "id": "1996633a",
   "metadata": {},
   "outputs": [],
   "source": [
    "# 4. Crear carpeta de salida si no existe\n",
    "if not os.path.exists(\"resumenes_docx\"):\n",
    "    os.makedirs(\"resumenes_docx\")"
   ]
  },
  {
   "cell_type": "code",
   "execution_count": 33,
   "id": "b60d06a9",
   "metadata": {},
   "outputs": [],
   "source": [
    "client=genai.Client(api_key=llave)"
   ]
  },
  {
   "cell_type": "code",
   "execution_count": 44,
   "id": "c4205cc3",
   "metadata": {},
   "outputs": [
    {
     "name": "stdout",
     "output_type": "stream",
     "text": [
      "✓ Guardado: resumenes_docx\\Plena_de_derechos_de_infancia__Cultura.docx\n",
      "✓ Guardado: resumenes_docx\\Plena_de_derechos_de_infancia__Educación.docx\n",
      "✓ Guardado: resumenes_docx\\Plena_de_derechos_de_infancia__Grupos_prioritarios.docx\n",
      "✓ Guardado: resumenes_docx\\Plena_de_derechos_de_infancia__Trabajo.docx\n",
      "✓ Guardado: resumenes_docx\\Plena_de_derechos_de_infancia__Vivienda.docx\n"
     ]
    }
   ],
   "source": [
    "for clave, (diag, obj, est) in grupos.items():\n",
    "    linea, eje, tema, documento = clave\n",
    "\n",
    "    # --- Prompt con prefijos ya incluidos -----------------------------------\n",
    "    prompt = (\n",
    "        \"Redacta un documento extenso en donde se utilice la siguiente información:\\n\\n\"\n",
    "        f\"{diag}\\n\\n{obj}\\n\\n{est}\"\n",
    "        \"No redactes en primera persona, ni uses el pronombre 'yo' Y modifica marginalmente la redacción para que tenga coherencia y no sea íntegra.\\n\"\n",
    "        \"La estructura del documento debe ser la siguiente:\\n\"\n",
    "        \"Diagnóstico: [texto del diagnóstico]\\n\" \\\n",
    "        \"Objetivos de corto plazo: [texto del objetivo]. No establezcas temporalidad en el título\\n\" \\\n",
    "        \"Estrategias de corto plazo: [texto de la estrategia]\\n\\n\"\n",
    "    )\n",
    "\n",
    "    resp = client.models.generate_content(\n",
    "        model=\"gemini-2.0-flash\",\n",
    "        contents=[prompt]\n",
    "    )\n",
    "    resumen = resp.candidates[0].content.parts[0].text.strip()\n",
    "\n",
    "\n",
    "    # --- Crear DOCX ----------------------------------------------------------\n",
    "    doc = Document()\n",
    "    doc.add_heading(f\"{linea} – {tema}\", level=1)\n",
    "    doc.add_paragraph(f\"Eje: {eje}\")\n",
    "    #doc.add_paragraph(f\"Documento fuente: {documento}\")\n",
    "    doc.add_heading(\"Documento\", level=2)\n",
    "    doc.add_paragraph(resumen)\n",
    "\n",
    "    # Anexo con texto completo\n",
    "    doc.add_page_break()\n",
    "    doc.add_heading(\"Anexo: texto íntegro\", level=2)\n",
    "    if diag: doc.add_paragraph(diag)\n",
    "    if obj:  doc.add_paragraph(\"\\n\" + obj)\n",
    "    if est:  doc.add_paragraph(\"\\n\" + est)\n",
    "\n",
    "    # Guardar\n",
    "    nombre = f\"{linea[:30]}_{tema[:20]}.docx\".replace(\" \", \"_\")\n",
    "    ruta = os.path.join(\"resumenes_docx\", nombre)\n",
    "    doc.save(ruta)\n",
    "    print(\"✓ Guardado:\", ruta)"
   ]
  }
 ],
 "metadata": {
  "kernelspec": {
   "display_name": "base",
   "language": "python",
   "name": "python3"
  },
  "language_info": {
   "codemirror_mode": {
    "name": "ipython",
    "version": 3
   },
   "file_extension": ".py",
   "mimetype": "text/x-python",
   "name": "python",
   "nbconvert_exporter": "python",
   "pygments_lexer": "ipython3",
   "version": "3.13.2"
  }
 },
 "nbformat": 4,
 "nbformat_minor": 5
}
