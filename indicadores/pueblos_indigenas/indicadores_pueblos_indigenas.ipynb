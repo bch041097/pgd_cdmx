{
  "cells": [
    {
      "cell_type": "markdown",
      "metadata": {
        "id": "view-in-github",
        "colab_type": "text"
      },
      "source": [
        "<a href=\"https://colab.research.google.com/github/cpyp-ipdp/pgd_cdmx/blob/main/indicadores/pueblos_indigenas/indicadores_pueblos_indigenas.ipynb\" target=\"_parent\"><img src=\"https://colab.research.google.com/assets/colab-badge.svg\" alt=\"Open In Colab\"/></a>"
      ]
    },
    {
      "cell_type": "code",
      "id": "initial_id",
      "metadata": {
        "collapsed": true,
        "id": "initial_id",
        "outputId": "8360908e-1d63-4f78-8500-98dfc2012b8f",
        "colab": {
          "base_uri": "https://localhost:8080/"
        },
        "ExecuteTime": {
          "end_time": "2025-02-06T00:34:40.948667Z",
          "start_time": "2025-02-06T00:34:35.603163Z"
        }
      },
      "source": [
        "##Estimación de indicadores de población indígena en la Ciudad de México\n",
        "#Se borra todo lo que se encuentra en el entorno\n",
        "\n",
        "rm(list=ls())\n",
        "\n",
        "# Librerías ====\n",
        "if(!require('pacman')) install.packages('pacman')\n",
        "pacman::p_load(tidyverse, showtext, srvyr, haven, googledrive)"
      ],
      "outputs": [
        {
          "output_type": "stream",
          "name": "stderr",
          "text": [
            "Loading required package: pacman\n",
            "\n"
          ]
        }
      ],
      "execution_count": 69
    },
    {
      "cell_type": "code",
      "source": [
        "#Fuente para los gráficos\n",
        "font_add_google(\"Poppins\", \"pop\")\n",
        "showtext_auto()"
      ],
      "metadata": {
        "id": "lL1aCwgrgyDQ"
      },
      "id": "lL1aCwgrgyDQ",
      "execution_count": 70,
      "outputs": []
    },
    {
      "metadata": {
        "id": "2c1e57f58d2e1b46",
        "ExecuteTime": {
          "end_time": "2025-02-06T00:34:40.993299Z",
          "start_time": "2025-02-06T00:34:40.957426Z"
        }
      },
      "cell_type": "code",
      "source": [
        "#Crear directorio para guardar los archivos\n",
        "dir.create(\"data\", showWarnings = FALSE)"
      ],
      "id": "2c1e57f58d2e1b46",
      "outputs": [],
      "execution_count": 71
    },
    {
      "metadata": {
        "id": "99a663be0841e1d",
        "ExecuteTime": {
          "end_time": "2025-02-06T00:34:41.034430Z",
          "start_time": "2025-02-06T00:34:41.013684Z"
        }
      },
      "cell_type": "code",
      "source": [
        "url_basica<-\"https://www.inegi.org.mx/contenidos/programas/enigh/nc/\"\n",
        "segunda_parte<-\"microdatos/enigh\"\n",
        "fin1<-\"_ns_\"\n",
        "fin2<-\"_csv.zip\""
      ],
      "id": "99a663be0841e1d",
      "outputs": [],
      "execution_count": 72
    },
    {
      "metadata": {
        "id": "321dc0cb33aa35e0",
        "ExecuteTime": {
          "end_time": "2025-02-06T00:34:41.106669Z",
          "start_time": "2025-02-06T00:34:41.090718Z"
        }
      },
      "cell_type": "code",
      "source": [
        "years<-c(\"2016\", \"2018\", \"2020\", \"2022\")"
      ],
      "id": "321dc0cb33aa35e0",
      "outputs": [],
      "execution_count": 73
    },
    {
      "metadata": {
        "id": "963b6b0b33057fa9",
        "ExecuteTime": {
          "end_time": "2025-02-06T00:34:41.142458Z",
          "start_time": "2025-02-06T00:34:41.126161Z"
        }
      },
      "cell_type": "code",
      "source": [
        "# Función genérica para descargar, descomprimir, renombrar y eliminar\n",
        "procesar_archivo <- function(year, tipo, url_base, segunda_parte, fin1, fin2, carpeta_destino) {\n",
        "  # Construir URL y ruta de destino\n",
        "  url <- paste0(url_base, year, \"/\", segunda_parte, year, fin1, tipo, fin2)\n",
        "  destfile <- paste0(carpeta_destino, \"/\", year, fin1, tipo, fin2)\n",
        "\n",
        "  # Descargar el archivo\n",
        "  download.file(url, destfile = destfile)\n",
        "\n",
        "  # Descomprimir el archivo\n",
        "  unzip(destfile, exdir = carpeta_destino)\n",
        "\n",
        "  # Renombrar el archivo descomprimido\n",
        "  file.rename(\n",
        "    from = paste0(carpeta_destino, \"/\", tipo, \".csv\"),\n",
        "    to = paste0(carpeta_destino, \"/\", tipo, \"_\", year, \".csv\")\n",
        "  )\n",
        "\n",
        "  # Eliminar el archivo descargado\n",
        "  file.remove(destfile)\n",
        "}"
      ],
      "id": "963b6b0b33057fa9",
      "outputs": [],
      "execution_count": 74
    },
    {
      "metadata": {
        "id": "476ea29fda94ff90",
        "ExecuteTime": {
          "end_time": "2025-02-06T00:35:07.474262Z",
          "start_time": "2025-02-06T00:34:41.160676Z"
        }
      },
      "cell_type": "code",
      "source": [
        "# Iterar sobre los años y procesar cada tipo de archivo\n",
        "for (i in 1:length(years)) {\n",
        "  procesar_archivo(years[i], \"poblacion\", url_basica, segunda_parte, fin1, fin2, \"data\")\n",
        "  procesar_archivo(years[i], \"viviendas\", url_basica, segunda_parte, fin1, fin2, \"data\")\n",
        "  procesar_archivo(years[i], \"trabajos\", url_basica, segunda_parte, fin1, fin2, \"data\")\n",
        "}"
      ],
      "id": "476ea29fda94ff90",
      "outputs": [],
      "execution_count": 75
    },
    {
      "metadata": {
        "id": "7c484c24f002a9ee"
      },
      "cell_type": "markdown",
      "source": [
        "### Función de estimación"
      ],
      "id": "7c484c24f002a9ee"
    },
    {
      "metadata": {
        "id": "503e9ffc1c7a1475",
        "ExecuteTime": {
          "end_time": "2025-02-06T00:35:07.497632Z",
          "start_time": "2025-02-06T00:35:07.486922Z"
        }
      },
      "cell_type": "code",
      "source": [
        "estimacion <- function(path, variable) {\n",
        "  # Cargar los datos de población\n",
        "  datos <- read_csv(path, show_col_types = FALSE)\n",
        "\n",
        "  # Si son datos de 2016 a 2020, unir con la tabla de viviendas\n",
        "  if (substr(path, 16, 19) %in% c(\"2016\", \"2018\", \"2020\")) {\n",
        "    # Cargar tabla viviendas\n",
        "    vivienda <- read_csv(str_replace(path, \"poblacion\", \"viviendas\"), show_col_types = FALSE)\n",
        "\n",
        "    # Pegar factor, upm y est_dis de la tabla vivienda\n",
        "    datos <- datos %>%\n",
        "      left_join(vivienda %>% select(folioviv, factor, upm, est_dis), by = \"folioviv\")\n",
        "  }\n",
        "\n",
        "  # Unir con la tabla trabajos si es \"ocupacion\" o si la persona debe ser identificada como indígena\n",
        "  if (variable %in% c(\"ocupacion\", \"ocupacion_mujer\")) {\n",
        "    # Cargar tabla trabajos\n",
        "    trabajos <- read_csv(str_replace(path, \"poblacion\", \"trabajos\"), show_col_types = FALSE)\n",
        "\n",
        "    # Pegar datos relevantes de la tabla trabajos\n",
        "    datos <- datos %>%\n",
        "      left_join(trabajos %>% select(folioviv, foliohog, numren, id_trabajo, trapais),\n",
        "                by = c(\"folioviv\", \"foliohog\", \"numren\"))\n",
        "  }\n",
        "\n",
        "  # Crear variable cve_ent\n",
        "  datos <- datos %>%\n",
        "    mutate(cve_ent = case_when(\n",
        "      nchar(folioviv) == 9  ~ paste0(\"0\", substr(folioviv, 1, 1)),\n",
        "      nchar(folioviv) == 10 ~ substr(folioviv, 1, 2)\n",
        "    )) %>%\n",
        "    # Filtrar si entidad es CDMX (09)\n",
        "    filter(cve_ent == \"09\")\n",
        "\n",
        "  # Definir diseño muestral\n",
        "  mydesign <- datos %>%\n",
        "    as_survey_design(ids = upm,\n",
        "                     strata = est_dis,\n",
        "                     weights = factor)\n",
        "\n",
        "  # Estimar población hablante indígena en CDMX\n",
        "  if (variable == \"hablante\") {\n",
        "    hablante <- mydesign %>%\n",
        "      group_by(hablaind) %>%\n",
        "      summarise(\n",
        "        poblacion = survey_total(vartype = \"cv\"),\n",
        "        porcentaje = survey_prop(vartype = \"cv\")\n",
        "      ) %>%\n",
        "      mutate(porcentaje = round(porcentaje * 100, 2)) %>%\n",
        "      # Añadir año\n",
        "      mutate(year = substr(path, 16, 19)) %>%\n",
        "      filter(hablaind == 1)\n",
        "\n",
        "    return(hablante)\n",
        "  }\n",
        "\n",
        "    # Estimar población hablante indígena en CDMX\n",
        "  if (variable == \"indigena\") {\n",
        "    indigena <- mydesign %>%\n",
        "      group_by(etnia) %>%\n",
        "      summarise(\n",
        "        poblacion = survey_total(vartype = \"cv\"),\n",
        "        porcentaje = survey_prop(vartype = \"cv\")\n",
        "      ) %>%\n",
        "      mutate(porcentaje = round(porcentaje * 100, 2)) %>%\n",
        "      # Añadir año\n",
        "      mutate(year = substr(path, 16, 19)) %>%\n",
        "      filter(etnia == 1)\n",
        "\n",
        "    return(indigena)\n",
        "  }\n",
        "\n",
        "\n",
        "  # Estimar población ocupada, considerando si la persona es indígena\n",
        "  if (variable == \"ocupacion\") {\n",
        "    ocupacion <- mydesign %>%\n",
        "      group_by(trapais,etnia) %>%\n",
        "      summarise(\n",
        "        ocupados = survey_total(vartype = \"cv\"),\n",
        "        porcentaje = survey_prop(vartype = \"cv\")\n",
        "      ) %>%\n",
        "      mutate(porcentaje = round(porcentaje * 100, 2)) %>%\n",
        "      # Añadir año\n",
        "      mutate(year = substr(path, 16, 19)) %>%\n",
        "      filter(trapais == 1)%>%\n",
        "filter(etnia == 1)\n",
        "    return(ocupacion)\n",
        "  }\n",
        "\n",
        "\n",
        "\n",
        "  # Estimar población ocupada, considerando si la persona es indígena\n",
        "  if (variable == \"ocupacion_mujer\") {\n",
        "    ocupacion_muj <- mydesign %>%\n",
        "      filter(trapais==1)%>%\n",
        "      group_by(etnia,sexo) %>%\n",
        "      summarise(\n",
        "        ocupados = survey_total(vartype = \"cv\"),\n",
        "        porcentaje = survey_prop(vartype = \"cv\")\n",
        "      ) %>%\n",
        "      mutate(porcentaje = round(porcentaje * 100, 2)) %>%\n",
        "      # Añadir año\n",
        "      mutate(year = substr(path, 16, 19)) %>%\n",
        "        #Filtro población indígena\n",
        "filter(etnia == 1) %>%\n",
        "  #Filtro mujer\n",
        "filter(sexo==2)\n",
        "    return(ocupacion_muj)\n",
        "  }\n",
        "\n",
        "\n",
        "\n",
        "\n",
        "\n",
        "  # Estimar población analfabeta\n",
        "  if (variable == \"analfabetismo\") {\n",
        "    analfa <- mydesign %>%\n",
        "      group_by(etnia,alfabetism) %>%\n",
        "      summarise(\n",
        "        analfabetas = survey_total(vartype = \"cv\"),\n",
        "        porcentaje = survey_prop(vartype = \"cv\")\n",
        "      ) %>%\n",
        "      mutate(porcentaje = round(porcentaje * 100, 2)) %>%\n",
        "      # Añadir año\n",
        "      mutate(year = substr(path, 16, 19)) %>%\n",
        "filter(etnia == 1)%>%\n",
        "filter(alfabetism == 2)\n",
        "    return(analfa)\n",
        "  }\n",
        "\n",
        "}\n"
      ],
      "id": "503e9ffc1c7a1475",
      "outputs": [],
      "execution_count": 76
    },
    {
      "metadata": {
        "id": "c8d3ddfd2b1149a0"
      },
      "cell_type": "markdown",
      "source": [
        "#### Población hablante indígena en CDMX"
      ],
      "id": "c8d3ddfd2b1149a0"
    },
    {
      "metadata": {
        "colab": {
          "base_uri": "https://localhost:8080/",
          "height": 888
        },
        "id": "1e7e54449a787b80",
        "outputId": "ebcf6bf6-7f43-4ee6-deee-ac9901e5f1d3",
        "ExecuteTime": {
          "end_time": "2025-02-06T00:35:19.146975Z",
          "start_time": "2025-02-06T00:35:07.512514Z"
        }
      },
      "cell_type": "code",
      "source": [
        "tabla_hablante<-map_dfr(\n",
        "  list.files(\"data\", full.names = TRUE, pattern = \"poblacion_.*.csv\"),\n",
        "  estimacion,\n",
        "  variable = \"hablante\"\n",
        ")\n",
        "print(\"Población hablante de lengua indígena en la CDMX\")\n",
        "tabla_hablante"
      ],
      "id": "1e7e54449a787b80",
      "outputs": [
        {
          "output_type": "stream",
          "name": "stderr",
          "text": [
            "Warning message:\n",
            "“\u001b[1m\u001b[22mOne or more parsing issues, call `problems()` on your data frame for details,\n",
            "e.g.:\n",
            "  dat <- vroom(...)\n",
            "  problems(dat)”\n",
            "Warning message:\n",
            "“\u001b[1m\u001b[22mOne or more parsing issues, call `problems()` on your data frame for details,\n",
            "e.g.:\n",
            "  dat <- vroom(...)\n",
            "  problems(dat)”\n",
            "Warning message:\n",
            "“\u001b[1m\u001b[22mOne or more parsing issues, call `problems()` on your data frame for details,\n",
            "e.g.:\n",
            "  dat <- vroom(...)\n",
            "  problems(dat)”\n",
            "Warning message:\n",
            "“\u001b[1m\u001b[22mOne or more parsing issues, call `problems()` on your data frame for details,\n",
            "e.g.:\n",
            "  dat <- vroom(...)\n",
            "  problems(dat)”\n",
            "Warning message:\n",
            "“\u001b[1m\u001b[22mOne or more parsing issues, call `problems()` on your data frame for details,\n",
            "e.g.:\n",
            "  dat <- vroom(...)\n",
            "  problems(dat)”\n",
            "Warning message:\n",
            "“\u001b[1m\u001b[22mOne or more parsing issues, call `problems()` on your data frame for details,\n",
            "e.g.:\n",
            "  dat <- vroom(...)\n",
            "  problems(dat)”\n",
            "Warning message:\n",
            "“\u001b[1m\u001b[22mOne or more parsing issues, call `problems()` on your data frame for details,\n",
            "e.g.:\n",
            "  dat <- vroom(...)\n",
            "  problems(dat)”\n"
          ]
        },
        {
          "output_type": "stream",
          "name": "stdout",
          "text": [
            "[1] \"Población hablante de lengua indígena en la CDMX\"\n"
          ]
        },
        {
          "output_type": "display_data",
          "data": {
            "text/html": [
              "<table class=\"dataframe\">\n",
              "<caption>A tibble: 4 × 6</caption>\n",
              "<thead>\n",
              "\t<tr><th scope=col>hablaind</th><th scope=col>poblacion</th><th scope=col>poblacion_cv</th><th scope=col>porcentaje</th><th scope=col>porcentaje_cv</th><th scope=col>year</th></tr>\n",
              "\t<tr><th scope=col>&lt;dbl&gt;</th><th scope=col>&lt;dbl&gt;</th><th scope=col>&lt;dbl&gt;</th><th scope=col>&lt;dbl&gt;</th><th scope=col>&lt;dbl&gt;</th><th scope=col>&lt;chr&gt;</th></tr>\n",
              "</thead>\n",
              "<tbody>\n",
              "\t<tr><td>1</td><td>129097</td><td>0.1508605</td><td>1.41</td><td>0.1505873</td><td>2016</td></tr>\n",
              "\t<tr><td>1</td><td>127656</td><td>0.2158292</td><td>1.38</td><td>0.2139413</td><td>2018</td></tr>\n",
              "\t<tr><td>1</td><td>154656</td><td>0.1536397</td><td>1.67</td><td>0.1530732</td><td>2020</td></tr>\n",
              "\t<tr><td>1</td><td>134098</td><td>0.1518493</td><td>1.43</td><td>0.1521503</td><td>2022</td></tr>\n",
              "</tbody>\n",
              "</table>\n"
            ],
            "text/markdown": "\nA tibble: 4 × 6\n\n| hablaind &lt;dbl&gt; | poblacion &lt;dbl&gt; | poblacion_cv &lt;dbl&gt; | porcentaje &lt;dbl&gt; | porcentaje_cv &lt;dbl&gt; | year &lt;chr&gt; |\n|---|---|---|---|---|---|\n| 1 | 129097 | 0.1508605 | 1.41 | 0.1505873 | 2016 |\n| 1 | 127656 | 0.2158292 | 1.38 | 0.2139413 | 2018 |\n| 1 | 154656 | 0.1536397 | 1.67 | 0.1530732 | 2020 |\n| 1 | 134098 | 0.1518493 | 1.43 | 0.1521503 | 2022 |\n\n",
            "text/latex": "A tibble: 4 × 6\n\\begin{tabular}{llllll}\n hablaind & poblacion & poblacion\\_cv & porcentaje & porcentaje\\_cv & year\\\\\n <dbl> & <dbl> & <dbl> & <dbl> & <dbl> & <chr>\\\\\n\\hline\n\t 1 & 129097 & 0.1508605 & 1.41 & 0.1505873 & 2016\\\\\n\t 1 & 127656 & 0.2158292 & 1.38 & 0.2139413 & 2018\\\\\n\t 1 & 154656 & 0.1536397 & 1.67 & 0.1530732 & 2020\\\\\n\t 1 & 134098 & 0.1518493 & 1.43 & 0.1521503 & 2022\\\\\n\\end{tabular}\n",
            "text/plain": [
              "  hablaind poblacion poblacion_cv porcentaje porcentaje_cv year\n",
              "1 1        129097    0.1508605    1.41       0.1505873     2016\n",
              "2 1        127656    0.2158292    1.38       0.2139413     2018\n",
              "3 1        154656    0.1536397    1.67       0.1530732     2020\n",
              "4 1        134098    0.1518493    1.43       0.1521503     2022"
            ]
          },
          "metadata": {}
        }
      ],
      "execution_count": 77
    },
    {
      "metadata": {
        "id": "88b5d6243106f43"
      },
      "cell_type": "markdown",
      "source": [
        "#### Población autodescripción indígena en CDMX"
      ],
      "id": "88b5d6243106f43"
    },
    {
      "metadata": {
        "colab": {
          "base_uri": "https://localhost:8080/",
          "height": 888
        },
        "id": "42a59aa815f44e75",
        "outputId": "5556e2f8-a4a0-44b4-f496-ab9ebdcb1c23",
        "ExecuteTime": {
          "end_time": "2025-02-06T00:35:28.990472Z",
          "start_time": "2025-02-06T00:35:19.165384Z"
        }
      },
      "cell_type": "code",
      "source": [
        "tabla_indigena<-map_dfr(\n",
        "  list.files(\"data\", full.names = TRUE, pattern = \"poblacion_.*.csv\"),\n",
        "  estimacion,\n",
        "  variable = \"indigena\"\n",
        ")\n",
        "print(\"Porcentaje de población que se autodescribe como indígena en la CDMX\")\n",
        "tabla_indigena"
      ],
      "id": "42a59aa815f44e75",
      "outputs": [
        {
          "output_type": "stream",
          "name": "stderr",
          "text": [
            "Warning message:\n",
            "“\u001b[1m\u001b[22mOne or more parsing issues, call `problems()` on your data frame for details,\n",
            "e.g.:\n",
            "  dat <- vroom(...)\n",
            "  problems(dat)”\n",
            "Warning message:\n",
            "“\u001b[1m\u001b[22mOne or more parsing issues, call `problems()` on your data frame for details,\n",
            "e.g.:\n",
            "  dat <- vroom(...)\n",
            "  problems(dat)”\n",
            "Warning message:\n",
            "“\u001b[1m\u001b[22mOne or more parsing issues, call `problems()` on your data frame for details,\n",
            "e.g.:\n",
            "  dat <- vroom(...)\n",
            "  problems(dat)”\n",
            "Warning message:\n",
            "“\u001b[1m\u001b[22mOne or more parsing issues, call `problems()` on your data frame for details,\n",
            "e.g.:\n",
            "  dat <- vroom(...)\n",
            "  problems(dat)”\n",
            "Warning message:\n",
            "“\u001b[1m\u001b[22mOne or more parsing issues, call `problems()` on your data frame for details,\n",
            "e.g.:\n",
            "  dat <- vroom(...)\n",
            "  problems(dat)”\n",
            "Warning message:\n",
            "“\u001b[1m\u001b[22mOne or more parsing issues, call `problems()` on your data frame for details,\n",
            "e.g.:\n",
            "  dat <- vroom(...)\n",
            "  problems(dat)”\n",
            "Warning message:\n",
            "“\u001b[1m\u001b[22mOne or more parsing issues, call `problems()` on your data frame for details,\n",
            "e.g.:\n",
            "  dat <- vroom(...)\n",
            "  problems(dat)”\n"
          ]
        },
        {
          "output_type": "stream",
          "name": "stdout",
          "text": [
            "[1] \"Porcentaje de población que se autodescribe como indígena en la CDMX\"\n"
          ]
        },
        {
          "output_type": "display_data",
          "data": {
            "text/html": [
              "<table class=\"dataframe\">\n",
              "<caption>A tibble: 4 × 6</caption>\n",
              "<thead>\n",
              "\t<tr><th scope=col>etnia</th><th scope=col>poblacion</th><th scope=col>poblacion_cv</th><th scope=col>porcentaje</th><th scope=col>porcentaje_cv</th><th scope=col>year</th></tr>\n",
              "\t<tr><th scope=col>&lt;dbl&gt;</th><th scope=col>&lt;dbl&gt;</th><th scope=col>&lt;dbl&gt;</th><th scope=col>&lt;dbl&gt;</th><th scope=col>&lt;dbl&gt;</th><th scope=col>&lt;chr&gt;</th></tr>\n",
              "</thead>\n",
              "<tbody>\n",
              "\t<tr><td>1</td><td>1250855</td><td>0.08416010</td><td>13.65</td><td>0.08129632</td><td>2016</td></tr>\n",
              "\t<tr><td>1</td><td>1368626</td><td>0.08241738</td><td>14.85</td><td>0.07840943</td><td>2018</td></tr>\n",
              "\t<tr><td>1</td><td>1392732</td><td>0.06554796</td><td>15.04</td><td>0.06381047</td><td>2020</td></tr>\n",
              "\t<tr><td>1</td><td>1103900</td><td>0.07699844</td><td>11.81</td><td>0.07609140</td><td>2022</td></tr>\n",
              "</tbody>\n",
              "</table>\n"
            ],
            "text/markdown": "\nA tibble: 4 × 6\n\n| etnia &lt;dbl&gt; | poblacion &lt;dbl&gt; | poblacion_cv &lt;dbl&gt; | porcentaje &lt;dbl&gt; | porcentaje_cv &lt;dbl&gt; | year &lt;chr&gt; |\n|---|---|---|---|---|---|\n| 1 | 1250855 | 0.08416010 | 13.65 | 0.08129632 | 2016 |\n| 1 | 1368626 | 0.08241738 | 14.85 | 0.07840943 | 2018 |\n| 1 | 1392732 | 0.06554796 | 15.04 | 0.06381047 | 2020 |\n| 1 | 1103900 | 0.07699844 | 11.81 | 0.07609140 | 2022 |\n\n",
            "text/latex": "A tibble: 4 × 6\n\\begin{tabular}{llllll}\n etnia & poblacion & poblacion\\_cv & porcentaje & porcentaje\\_cv & year\\\\\n <dbl> & <dbl> & <dbl> & <dbl> & <dbl> & <chr>\\\\\n\\hline\n\t 1 & 1250855 & 0.08416010 & 13.65 & 0.08129632 & 2016\\\\\n\t 1 & 1368626 & 0.08241738 & 14.85 & 0.07840943 & 2018\\\\\n\t 1 & 1392732 & 0.06554796 & 15.04 & 0.06381047 & 2020\\\\\n\t 1 & 1103900 & 0.07699844 & 11.81 & 0.07609140 & 2022\\\\\n\\end{tabular}\n",
            "text/plain": [
              "  etnia poblacion poblacion_cv porcentaje porcentaje_cv year\n",
              "1 1     1250855   0.08416010   13.65      0.08129632    2016\n",
              "2 1     1368626   0.08241738   14.85      0.07840943    2018\n",
              "3 1     1392732   0.06554796   15.04      0.06381047    2020\n",
              "4 1     1103900   0.07699844   11.81      0.07609140    2022"
            ]
          },
          "metadata": {}
        }
      ],
      "execution_count": 78
    },
    {
      "metadata": {
        "id": "e18cb4236c1ac276"
      },
      "cell_type": "markdown",
      "source": [
        "#### Población ocupada indígena en CDMX"
      ],
      "id": "e18cb4236c1ac276"
    },
    {
      "metadata": {
        "colab": {
          "base_uri": "https://localhost:8080/",
          "height": 1000
        },
        "id": "a3799d1b1ba09b09",
        "outputId": "218277d4-9920-4ca4-e619-479583e68428",
        "ExecuteTime": {
          "end_time": "2025-02-06T00:35:41.545727Z",
          "start_time": "2025-02-06T00:35:29.005002Z"
        }
      },
      "cell_type": "code",
      "source": [
        "tabla_ocupacion<-map_dfr(\n",
        "  list.files(\"data\", full.names = TRUE, pattern = \"poblacion_.*.csv\"),\n",
        "  estimacion,\n",
        "  variable = \"ocupacion\"\n",
        ")\n",
        "print(\"Población que se autodescribe como indígena y que se encuentra ocupada en la CDMX\")\n",
        "tabla_ocupacion"
      ],
      "id": "a3799d1b1ba09b09",
      "outputs": [
        {
          "output_type": "stream",
          "name": "stderr",
          "text": [
            "Warning message:\n",
            "“\u001b[1m\u001b[22mOne or more parsing issues, call `problems()` on your data frame for details,\n",
            "e.g.:\n",
            "  dat <- vroom(...)\n",
            "  problems(dat)”\n",
            "Warning message:\n",
            "“\u001b[1m\u001b[22mOne or more parsing issues, call `problems()` on your data frame for details,\n",
            "e.g.:\n",
            "  dat <- vroom(...)\n",
            "  problems(dat)”\n",
            "Warning message:\n",
            "“\u001b[1m\u001b[22mOne or more parsing issues, call `problems()` on your data frame for details,\n",
            "e.g.:\n",
            "  dat <- vroom(...)\n",
            "  problems(dat)”\n",
            "Warning message:\n",
            "“\u001b[1m\u001b[22mOne or more parsing issues, call `problems()` on your data frame for details,\n",
            "e.g.:\n",
            "  dat <- vroom(...)\n",
            "  problems(dat)”\n",
            "Warning message:\n",
            "“\u001b[1m\u001b[22mOne or more parsing issues, call `problems()` on your data frame for details,\n",
            "e.g.:\n",
            "  dat <- vroom(...)\n",
            "  problems(dat)”\n",
            "Warning message:\n",
            "“\u001b[1m\u001b[22mOne or more parsing issues, call `problems()` on your data frame for details,\n",
            "e.g.:\n",
            "  dat <- vroom(...)\n",
            "  problems(dat)”\n",
            "Warning message:\n",
            "“\u001b[1m\u001b[22mOne or more parsing issues, call `problems()` on your data frame for details,\n",
            "e.g.:\n",
            "  dat <- vroom(...)\n",
            "  problems(dat)”\n",
            "Warning message:\n",
            "“\u001b[1m\u001b[22mOne or more parsing issues, call `problems()` on your data frame for details,\n",
            "e.g.:\n",
            "  dat <- vroom(...)\n",
            "  problems(dat)”\n",
            "Warning message:\n",
            "“\u001b[1m\u001b[22mOne or more parsing issues, call `problems()` on your data frame for details,\n",
            "e.g.:\n",
            "  dat <- vroom(...)\n",
            "  problems(dat)”\n",
            "Warning message:\n",
            "“\u001b[1m\u001b[22mOne or more parsing issues, call `problems()` on your data frame for details,\n",
            "e.g.:\n",
            "  dat <- vroom(...)\n",
            "  problems(dat)”\n",
            "Warning message:\n",
            "“\u001b[1m\u001b[22mOne or more parsing issues, call `problems()` on your data frame for details,\n",
            "e.g.:\n",
            "  dat <- vroom(...)\n",
            "  problems(dat)”\n"
          ]
        },
        {
          "output_type": "stream",
          "name": "stdout",
          "text": [
            "[1] \"Población que se autodescribe como indígena y que se encuentra ocupada en la CDMX\"\n"
          ]
        },
        {
          "output_type": "display_data",
          "data": {
            "text/html": [
              "<table class=\"dataframe\">\n",
              "<caption>A grouped_df: 4 × 7</caption>\n",
              "<thead>\n",
              "\t<tr><th scope=col>trapais</th><th scope=col>etnia</th><th scope=col>ocupados</th><th scope=col>ocupados_cv</th><th scope=col>porcentaje</th><th scope=col>porcentaje_cv</th><th scope=col>year</th></tr>\n",
              "\t<tr><th scope=col>&lt;dbl&gt;</th><th scope=col>&lt;dbl&gt;</th><th scope=col>&lt;dbl&gt;</th><th scope=col>&lt;dbl&gt;</th><th scope=col>&lt;dbl&gt;</th><th scope=col>&lt;dbl&gt;</th><th scope=col>&lt;chr&gt;</th></tr>\n",
              "</thead>\n",
              "<tbody>\n",
              "\t<tr><td>1</td><td>1</td><td>701096</td><td>0.08687768</td><td>15.24</td><td>0.08163274</td><td>2016</td></tr>\n",
              "\t<tr><td>1</td><td>1</td><td>716466</td><td>0.08822712</td><td>15.83</td><td>0.08266348</td><td>2018</td></tr>\n",
              "\t<tr><td>1</td><td>1</td><td>684724</td><td>0.06773705</td><td>16.27</td><td>0.06419507</td><td>2020</td></tr>\n",
              "\t<tr><td>1</td><td>1</td><td>550736</td><td>0.08300888</td><td>11.86</td><td>0.08205935</td><td>2022</td></tr>\n",
              "</tbody>\n",
              "</table>\n"
            ],
            "text/markdown": "\nA grouped_df: 4 × 7\n\n| trapais &lt;dbl&gt; | etnia &lt;dbl&gt; | ocupados &lt;dbl&gt; | ocupados_cv &lt;dbl&gt; | porcentaje &lt;dbl&gt; | porcentaje_cv &lt;dbl&gt; | year &lt;chr&gt; |\n|---|---|---|---|---|---|---|\n| 1 | 1 | 701096 | 0.08687768 | 15.24 | 0.08163274 | 2016 |\n| 1 | 1 | 716466 | 0.08822712 | 15.83 | 0.08266348 | 2018 |\n| 1 | 1 | 684724 | 0.06773705 | 16.27 | 0.06419507 | 2020 |\n| 1 | 1 | 550736 | 0.08300888 | 11.86 | 0.08205935 | 2022 |\n\n",
            "text/latex": "A grouped\\_df: 4 × 7\n\\begin{tabular}{lllllll}\n trapais & etnia & ocupados & ocupados\\_cv & porcentaje & porcentaje\\_cv & year\\\\\n <dbl> & <dbl> & <dbl> & <dbl> & <dbl> & <dbl> & <chr>\\\\\n\\hline\n\t 1 & 1 & 701096 & 0.08687768 & 15.24 & 0.08163274 & 2016\\\\\n\t 1 & 1 & 716466 & 0.08822712 & 15.83 & 0.08266348 & 2018\\\\\n\t 1 & 1 & 684724 & 0.06773705 & 16.27 & 0.06419507 & 2020\\\\\n\t 1 & 1 & 550736 & 0.08300888 & 11.86 & 0.08205935 & 2022\\\\\n\\end{tabular}\n",
            "text/plain": [
              "  trapais etnia ocupados ocupados_cv porcentaje porcentaje_cv year\n",
              "1 1       1     701096   0.08687768  15.24      0.08163274    2016\n",
              "2 1       1     716466   0.08822712  15.83      0.08266348    2018\n",
              "3 1       1     684724   0.06773705  16.27      0.06419507    2020\n",
              "4 1       1     550736   0.08300888  11.86      0.08205935    2022"
            ]
          },
          "metadata": {}
        }
      ],
      "execution_count": 79
    },
    {
      "cell_type": "markdown",
      "source": [
        "####   Población ocupada indígena mujer en CDMX"
      ],
      "metadata": {
        "id": "imG56Nfj6kg5"
      },
      "id": "imG56Nfj6kg5"
    },
    {
      "cell_type": "code",
      "source": [
        "tabla_ocupacion_mujer<-map_dfr(\n",
        "  list.files(\"data\", full.names = TRUE, pattern = \"poblacion_.*.csv\"),\n",
        "  estimacion,\n",
        "  variable = \"ocupacion_mujer\"\n",
        ")\n",
        "print(\"Población que se autodescribe como indígena que es mujer y que se encuentra ocupada en la CDMX\")\n",
        "tabla_ocupacion_mujer"
      ],
      "metadata": {
        "colab": {
          "base_uri": "https://localhost:8080/",
          "height": 1000
        },
        "id": "6OX_cKIc6pIj",
        "outputId": "5c2c28ef-3239-47fb-aa56-0df0c3a1b771",
        "ExecuteTime": {
          "end_time": "2025-02-06T00:35:53.909686Z",
          "start_time": "2025-02-06T00:35:41.581836Z"
        }
      },
      "id": "6OX_cKIc6pIj",
      "outputs": [
        {
          "output_type": "stream",
          "name": "stderr",
          "text": [
            "Warning message:\n",
            "“\u001b[1m\u001b[22mOne or more parsing issues, call `problems()` on your data frame for details,\n",
            "e.g.:\n",
            "  dat <- vroom(...)\n",
            "  problems(dat)”\n",
            "Warning message:\n",
            "“\u001b[1m\u001b[22mOne or more parsing issues, call `problems()` on your data frame for details,\n",
            "e.g.:\n",
            "  dat <- vroom(...)\n",
            "  problems(dat)”\n",
            "Warning message:\n",
            "“\u001b[1m\u001b[22mOne or more parsing issues, call `problems()` on your data frame for details,\n",
            "e.g.:\n",
            "  dat <- vroom(...)\n",
            "  problems(dat)”\n",
            "Warning message:\n",
            "“\u001b[1m\u001b[22mOne or more parsing issues, call `problems()` on your data frame for details,\n",
            "e.g.:\n",
            "  dat <- vroom(...)\n",
            "  problems(dat)”\n",
            "Warning message:\n",
            "“\u001b[1m\u001b[22mOne or more parsing issues, call `problems()` on your data frame for details,\n",
            "e.g.:\n",
            "  dat <- vroom(...)\n",
            "  problems(dat)”\n",
            "Warning message:\n",
            "“\u001b[1m\u001b[22mOne or more parsing issues, call `problems()` on your data frame for details,\n",
            "e.g.:\n",
            "  dat <- vroom(...)\n",
            "  problems(dat)”\n",
            "Warning message:\n",
            "“\u001b[1m\u001b[22mOne or more parsing issues, call `problems()` on your data frame for details,\n",
            "e.g.:\n",
            "  dat <- vroom(...)\n",
            "  problems(dat)”\n",
            "Warning message:\n",
            "“\u001b[1m\u001b[22mOne or more parsing issues, call `problems()` on your data frame for details,\n",
            "e.g.:\n",
            "  dat <- vroom(...)\n",
            "  problems(dat)”\n",
            "Warning message:\n",
            "“\u001b[1m\u001b[22mOne or more parsing issues, call `problems()` on your data frame for details,\n",
            "e.g.:\n",
            "  dat <- vroom(...)\n",
            "  problems(dat)”\n",
            "Warning message:\n",
            "“\u001b[1m\u001b[22mOne or more parsing issues, call `problems()` on your data frame for details,\n",
            "e.g.:\n",
            "  dat <- vroom(...)\n",
            "  problems(dat)”\n",
            "Warning message:\n",
            "“\u001b[1m\u001b[22mOne or more parsing issues, call `problems()` on your data frame for details,\n",
            "e.g.:\n",
            "  dat <- vroom(...)\n",
            "  problems(dat)”\n"
          ]
        },
        {
          "output_type": "stream",
          "name": "stdout",
          "text": [
            "[1] \"Población que se autodescribe como indígena que es mujer y que se encuentra ocupada en la CDMX\"\n"
          ]
        },
        {
          "output_type": "display_data",
          "data": {
            "text/html": [
              "<table class=\"dataframe\">\n",
              "<caption>A grouped_df: 4 × 7</caption>\n",
              "<thead>\n",
              "\t<tr><th scope=col>etnia</th><th scope=col>sexo</th><th scope=col>ocupados</th><th scope=col>ocupados_cv</th><th scope=col>porcentaje</th><th scope=col>porcentaje_cv</th><th scope=col>year</th></tr>\n",
              "\t<tr><th scope=col>&lt;dbl&gt;</th><th scope=col>&lt;dbl&gt;</th><th scope=col>&lt;dbl&gt;</th><th scope=col>&lt;dbl&gt;</th><th scope=col>&lt;dbl&gt;</th><th scope=col>&lt;dbl&gt;</th><th scope=col>&lt;chr&gt;</th></tr>\n",
              "</thead>\n",
              "<tbody>\n",
              "\t<tr><td>1</td><td>2</td><td>308308</td><td>0.10074117</td><td>43.98</td><td>0.04794138</td><td>2016</td></tr>\n",
              "\t<tr><td>1</td><td>2</td><td>321598</td><td>0.10590241</td><td>44.89</td><td>0.04630140</td><td>2018</td></tr>\n",
              "\t<tr><td>1</td><td>2</td><td>311122</td><td>0.07667507</td><td>45.44</td><td>0.04340553</td><td>2020</td></tr>\n",
              "\t<tr><td>1</td><td>2</td><td>229755</td><td>0.09928867</td><td>41.72</td><td>0.05397506</td><td>2022</td></tr>\n",
              "</tbody>\n",
              "</table>\n"
            ],
            "text/markdown": "\nA grouped_df: 4 × 7\n\n| etnia &lt;dbl&gt; | sexo &lt;dbl&gt; | ocupados &lt;dbl&gt; | ocupados_cv &lt;dbl&gt; | porcentaje &lt;dbl&gt; | porcentaje_cv &lt;dbl&gt; | year &lt;chr&gt; |\n|---|---|---|---|---|---|---|\n| 1 | 2 | 308308 | 0.10074117 | 43.98 | 0.04794138 | 2016 |\n| 1 | 2 | 321598 | 0.10590241 | 44.89 | 0.04630140 | 2018 |\n| 1 | 2 | 311122 | 0.07667507 | 45.44 | 0.04340553 | 2020 |\n| 1 | 2 | 229755 | 0.09928867 | 41.72 | 0.05397506 | 2022 |\n\n",
            "text/latex": "A grouped\\_df: 4 × 7\n\\begin{tabular}{lllllll}\n etnia & sexo & ocupados & ocupados\\_cv & porcentaje & porcentaje\\_cv & year\\\\\n <dbl> & <dbl> & <dbl> & <dbl> & <dbl> & <dbl> & <chr>\\\\\n\\hline\n\t 1 & 2 & 308308 & 0.10074117 & 43.98 & 0.04794138 & 2016\\\\\n\t 1 & 2 & 321598 & 0.10590241 & 44.89 & 0.04630140 & 2018\\\\\n\t 1 & 2 & 311122 & 0.07667507 & 45.44 & 0.04340553 & 2020\\\\\n\t 1 & 2 & 229755 & 0.09928867 & 41.72 & 0.05397506 & 2022\\\\\n\\end{tabular}\n",
            "text/plain": [
              "  etnia sexo ocupados ocupados_cv porcentaje porcentaje_cv year\n",
              "1 1     2    308308   0.10074117  43.98      0.04794138    2016\n",
              "2 1     2    321598   0.10590241  44.89      0.04630140    2018\n",
              "3 1     2    311122   0.07667507  45.44      0.04340553    2020\n",
              "4 1     2    229755   0.09928867  41.72      0.05397506    2022"
            ]
          },
          "metadata": {}
        }
      ],
      "execution_count": 80
    },
    {
      "metadata": {
        "id": "5a068385b6560222"
      },
      "cell_type": "markdown",
      "source": [
        "####   Población analfabeta indígena en CDMX"
      ],
      "id": "5a068385b6560222"
    },
    {
      "metadata": {
        "colab": {
          "base_uri": "https://localhost:8080/",
          "height": 1000
        },
        "id": "dd183848dfbe302f",
        "outputId": "65f7f4f4-d371-4944-9b42-b5d6ae0036db",
        "ExecuteTime": {
          "end_time": "2025-02-06T00:36:04.320580Z",
          "start_time": "2025-02-06T00:35:53.943032Z"
        }
      },
      "cell_type": "code",
      "source": [
        "tabla_analfabetismo<-map_dfr(\n",
        "  list.files(\"data\", full.names = TRUE, pattern = \"poblacion_.*.csv\"),\n",
        "  estimacion,\n",
        "  variable = \"analfabetismo\"\n",
        ")\n",
        "print(\"Población que se autodescribe como indígena y que es analfabeta en la CDMX\")\n",
        "\n",
        "tabla_analfabetismo"
      ],
      "id": "dd183848dfbe302f",
      "outputs": [
        {
          "output_type": "stream",
          "name": "stderr",
          "text": [
            "Warning message:\n",
            "“\u001b[1m\u001b[22mOne or more parsing issues, call `problems()` on your data frame for details,\n",
            "e.g.:\n",
            "  dat <- vroom(...)\n",
            "  problems(dat)”\n",
            "Warning message:\n",
            "“\u001b[1m\u001b[22mOne or more parsing issues, call `problems()` on your data frame for details,\n",
            "e.g.:\n",
            "  dat <- vroom(...)\n",
            "  problems(dat)”\n",
            "Warning message:\n",
            "“\u001b[1m\u001b[22mThere was 1 warning in `dplyr::summarise()`.\n",
            "\u001b[1m\u001b[22m\u001b[36mℹ\u001b[39m In argument: `porcentaje = survey_prop(vartype = \"cv\")`.\n",
            "\u001b[36mℹ\u001b[39m In group 5: `etnia = \u001b[31mNA\u001b[39m` and `alfabetism = \u001b[31mNA\u001b[39m`.\n",
            "Caused by warning:\n",
            "\u001b[33m!\u001b[39m glm.fit: algorithm did not converge”\n",
            "Warning message:\n",
            "“\u001b[1m\u001b[22mOne or more parsing issues, call `problems()` on your data frame for details,\n",
            "e.g.:\n",
            "  dat <- vroom(...)\n",
            "  problems(dat)”\n",
            "Warning message:\n",
            "“\u001b[1m\u001b[22mOne or more parsing issues, call `problems()` on your data frame for details,\n",
            "e.g.:\n",
            "  dat <- vroom(...)\n",
            "  problems(dat)”\n",
            "Warning message:\n",
            "“\u001b[1m\u001b[22mThere was 1 warning in `dplyr::summarise()`.\n",
            "\u001b[1m\u001b[22m\u001b[36mℹ\u001b[39m In argument: `porcentaje = survey_prop(vartype = \"cv\")`.\n",
            "\u001b[36mℹ\u001b[39m In group 5: `etnia = \u001b[31mNA\u001b[39m` and `alfabetism = \u001b[31mNA\u001b[39m`.\n",
            "Caused by warning:\n",
            "\u001b[33m!\u001b[39m glm.fit: algorithm did not converge”\n",
            "Warning message:\n",
            "“\u001b[1m\u001b[22mOne or more parsing issues, call `problems()` on your data frame for details,\n",
            "e.g.:\n",
            "  dat <- vroom(...)\n",
            "  problems(dat)”\n",
            "Warning message:\n",
            "“\u001b[1m\u001b[22mOne or more parsing issues, call `problems()` on your data frame for details,\n",
            "e.g.:\n",
            "  dat <- vroom(...)\n",
            "  problems(dat)”\n",
            "Warning message:\n",
            "“\u001b[1m\u001b[22mThere was 1 warning in `dplyr::summarise()`.\n",
            "\u001b[1m\u001b[22m\u001b[36mℹ\u001b[39m In argument: `porcentaje = survey_prop(vartype = \"cv\")`.\n",
            "\u001b[36mℹ\u001b[39m In group 5: `etnia = \u001b[31mNA\u001b[39m` and `alfabetism = \u001b[31mNA\u001b[39m`.\n",
            "Caused by warning:\n",
            "\u001b[33m!\u001b[39m glm.fit: algorithm did not converge”\n",
            "Warning message:\n",
            "“\u001b[1m\u001b[22mOne or more parsing issues, call `problems()` on your data frame for details,\n",
            "e.g.:\n",
            "  dat <- vroom(...)\n",
            "  problems(dat)”\n",
            "Warning message:\n",
            "“\u001b[1m\u001b[22mThere was 1 warning in `dplyr::summarise()`.\n",
            "\u001b[1m\u001b[22m\u001b[36mℹ\u001b[39m In argument: `porcentaje = survey_prop(vartype = \"cv\")`.\n",
            "\u001b[36mℹ\u001b[39m In group 5: `etnia = \u001b[31mNA\u001b[39m` and `alfabetism = \u001b[31mNA\u001b[39m`.\n",
            "Caused by warning:\n",
            "\u001b[33m!\u001b[39m glm.fit: algorithm did not converge”\n"
          ]
        },
        {
          "output_type": "stream",
          "name": "stdout",
          "text": [
            "[1] \"Población que se autodescribe como indígena y que es analfabeta en la CDMX\"\n"
          ]
        },
        {
          "output_type": "display_data",
          "data": {
            "text/html": [
              "<table class=\"dataframe\">\n",
              "<caption>A grouped_df: 4 × 7</caption>\n",
              "<thead>\n",
              "\t<tr><th scope=col>etnia</th><th scope=col>alfabetism</th><th scope=col>analfabetas</th><th scope=col>analfabetas_cv</th><th scope=col>porcentaje</th><th scope=col>porcentaje_cv</th><th scope=col>year</th></tr>\n",
              "\t<tr><th scope=col>&lt;dbl&gt;</th><th scope=col>&lt;dbl&gt;</th><th scope=col>&lt;dbl&gt;</th><th scope=col>&lt;dbl&gt;</th><th scope=col>&lt;dbl&gt;</th><th scope=col>&lt;dbl&gt;</th><th scope=col>&lt;chr&gt;</th></tr>\n",
              "</thead>\n",
              "<tbody>\n",
              "\t<tr><td>1</td><td>2</td><td> 76848</td><td>0.2047636</td><td>6.14</td><td>0.1804278</td><td>2016</td></tr>\n",
              "\t<tr><td>1</td><td>2</td><td>100372</td><td>0.1583444</td><td>7.33</td><td>0.1251706</td><td>2018</td></tr>\n",
              "\t<tr><td>1</td><td>2</td><td> 91929</td><td>0.1348095</td><td>6.60</td><td>0.1153417</td><td>2020</td></tr>\n",
              "\t<tr><td>1</td><td>2</td><td> 63920</td><td>0.2065419</td><td>5.79</td><td>0.1828260</td><td>2022</td></tr>\n",
              "</tbody>\n",
              "</table>\n"
            ],
            "text/markdown": "\nA grouped_df: 4 × 7\n\n| etnia &lt;dbl&gt; | alfabetism &lt;dbl&gt; | analfabetas &lt;dbl&gt; | analfabetas_cv &lt;dbl&gt; | porcentaje &lt;dbl&gt; | porcentaje_cv &lt;dbl&gt; | year &lt;chr&gt; |\n|---|---|---|---|---|---|---|\n| 1 | 2 |  76848 | 0.2047636 | 6.14 | 0.1804278 | 2016 |\n| 1 | 2 | 100372 | 0.1583444 | 7.33 | 0.1251706 | 2018 |\n| 1 | 2 |  91929 | 0.1348095 | 6.60 | 0.1153417 | 2020 |\n| 1 | 2 |  63920 | 0.2065419 | 5.79 | 0.1828260 | 2022 |\n\n",
            "text/latex": "A grouped\\_df: 4 × 7\n\\begin{tabular}{lllllll}\n etnia & alfabetism & analfabetas & analfabetas\\_cv & porcentaje & porcentaje\\_cv & year\\\\\n <dbl> & <dbl> & <dbl> & <dbl> & <dbl> & <dbl> & <chr>\\\\\n\\hline\n\t 1 & 2 &  76848 & 0.2047636 & 6.14 & 0.1804278 & 2016\\\\\n\t 1 & 2 & 100372 & 0.1583444 & 7.33 & 0.1251706 & 2018\\\\\n\t 1 & 2 &  91929 & 0.1348095 & 6.60 & 0.1153417 & 2020\\\\\n\t 1 & 2 &  63920 & 0.2065419 & 5.79 & 0.1828260 & 2022\\\\\n\\end{tabular}\n",
            "text/plain": [
              "  etnia alfabetism analfabetas analfabetas_cv porcentaje porcentaje_cv year\n",
              "1 1     2           76848      0.2047636      6.14       0.1804278     2016\n",
              "2 1     2          100372      0.1583444      7.33       0.1251706     2018\n",
              "3 1     2           91929      0.1348095      6.60       0.1153417     2020\n",
              "4 1     2           63920      0.2065419      5.79       0.1828260     2022"
            ]
          },
          "metadata": {}
        }
      ],
      "execution_count": 81
    },
    {
      "cell_type": "markdown",
      "source": [
        "### Calcular porcentaje de población indígena que se encuentra en situación de pobreza\n",
        "\n",
        "\n",
        "Para esto, se utilizan las bases generadas por Evalúa CDMX. Es importante señalar que, por practicidad, se trabaja con el producto terminado, no obstante, se buscará en próximas fechas replicar dicha metodología utilizando R ya que actualmente, el programa de cálculo se encuentra en STATA."
      ],
      "metadata": {
        "id": "NdsVF-xkq7EQ"
      },
      "id": "NdsVF-xkq7EQ"
    },
    {
      "cell_type": "code",
      "source": [
        "  #Conectar a google drive\n",
        "drive_auth(email = \"cpyp.ipdp@gmail.com\",cache = FALSE)"
      ],
      "metadata": {
        "colab": {
          "base_uri": "https://localhost:8080/"
        },
        "id": "3dWJ6IYjrV62",
        "outputId": "d1c62910-7f13-41e9-8658-82bc5876bc89",
        "ExecuteTime": {
          "end_time": "2025-02-06T00:36:15.635797Z",
          "start_time": "2025-02-06T00:36:15.625819Z"
        }
      },
      "id": "3dWJ6IYjrV62",
      "outputs": [
        {
          "output_type": "stream",
          "name": "stderr",
          "text": [
            "Please point your browser to the following url: \n",
            "\n",
            "https://accounts.google.com/o/oauth2/v2/auth?client_id=603366585132-frjlouoa3s2ono25d2l9ukvhlsrlnr7k.apps.googleusercontent.com&scope=https%3A%2F%2Fwww.googleapis.com%2Fauth%2Fdrive%20https%3A%2F%2Fwww.googleapis.com%2Fauth%2Fuserinfo.email&redirect_uri=https%3A%2F%2Fwww.tidyverse.org%2Fgoogle-callback%2F&response_type=code&state=9b798c57015b522c1ff40b03c5887610&login_hint=cpyp.ipdp%40gmail.com&access_type=offline&prompt=consent\n",
            "\n"
          ]
        },
        {
          "name": "stdout",
          "output_type": "stream",
          "text": [
            "Enter authorization code: eyJjb2RlIjoiNC8wQVNWZ2kzSl9sSDNfS21VVmhlbjRMUUZFZVliRzNXeEFjS2NYbzhnLV8yb29RV2E5U1BrdkgwOVZpYVhtQ1IzMzRZWHJPQSIsInN0YXRlIjoiOWI3OThjNTcwMTViNTIyYzFmZjQwYjAzYzU4ODc2MTAifQ==\n"
          ]
        }
      ],
      "execution_count": 82
    },
    {
      "cell_type": "code",
      "source": [
        "carpeta<-as_id(drive_get(\"https://drive.google.com/drive/folders/1TBfoik4w4DWhwFqWeZFgkZvrBdDbqzku\"))\n",
        "\n",
        "\n",
        "archivos<-drive_ls(carpeta)\n",
        "print(archivos)"
      ],
      "metadata": {
        "colab": {
          "base_uri": "https://localhost:8080/"
        },
        "id": "3I6nozkErvWO",
        "outputId": "26bfbaf1-bc61-4d2d-da0f-95dbd51cd723"
      },
      "id": "3I6nozkErvWO",
      "execution_count": 83,
      "outputs": [
        {
          "output_type": "stream",
          "name": "stdout",
          "text": [
            "\u001b[90m# A dribble: 3 × 3\u001b[39m\n",
            "  name             id                                drive_resource   \n",
            "  \u001b[3m\u001b[90m<chr>\u001b[39m\u001b[23m            \u001b[3m\u001b[90m<drv_id>\u001b[39m\u001b[23m                          \u001b[3m\u001b[90m<list>\u001b[39m\u001b[23m           \n",
            "\u001b[90m1\u001b[39m pobreza_2022.dta 1T_WfYanYMOoWWbhj_CeiqxYRNrpXmDan \u001b[90m<named list [40]>\u001b[39m\n",
            "\u001b[90m2\u001b[39m pobreza_2018.dta 1TTRfiRDGWgQwHylvduHx1IRdm5vQ3VeL \u001b[90m<named list [40]>\u001b[39m\n",
            "\u001b[90m3\u001b[39m pobreza_2020.dta 1TXJLNA_itWfjsGIdoj1bJQ4erNjc1wIx \u001b[90m<named list [40]>\u001b[39m\n"
          ]
        }
      ]
    },
    {
      "cell_type": "code",
      "source": [
        "archivos[1]"
      ],
      "metadata": {
        "colab": {
          "base_uri": "https://localhost:8080/",
          "height": 192
        },
        "id": "OG-4iMTgsF8S",
        "outputId": "0955800b-bf42-4747-eb7f-e7fc7caec71f"
      },
      "id": "OG-4iMTgsF8S",
      "execution_count": 84,
      "outputs": [
        {
          "output_type": "display_data",
          "data": {
            "text/html": [
              "<table class=\"dataframe\">\n",
              "<caption>A tibble: 3 × 1</caption>\n",
              "<thead>\n",
              "\t<tr><th scope=col>name</th></tr>\n",
              "\t<tr><th scope=col>&lt;chr&gt;</th></tr>\n",
              "</thead>\n",
              "<tbody>\n",
              "\t<tr><td>pobreza_2022.dta</td></tr>\n",
              "\t<tr><td>pobreza_2018.dta</td></tr>\n",
              "\t<tr><td>pobreza_2020.dta</td></tr>\n",
              "</tbody>\n",
              "</table>\n"
            ],
            "text/markdown": "\nA tibble: 3 × 1\n\n| name &lt;chr&gt; |\n|---|\n| pobreza_2022.dta |\n| pobreza_2018.dta |\n| pobreza_2020.dta |\n\n",
            "text/latex": "A tibble: 3 × 1\n\\begin{tabular}{l}\n name\\\\\n <chr>\\\\\n\\hline\n\t pobreza\\_2022.dta\\\\\n\t pobreza\\_2018.dta\\\\\n\t pobreza\\_2020.dta\\\\\n\\end{tabular}\n",
            "text/plain": [
              "  name            \n",
              "1 pobreza_2022.dta\n",
              "2 pobreza_2018.dta\n",
              "3 pobreza_2020.dta"
            ]
          },
          "metadata": {}
        }
      ]
    },
    {
      "cell_type": "code",
      "source": [
        "estimacion_pobreza <- function(file_id, file_name) {\n",
        "  # Descarga de datos\n",
        "  local_path <- file.path(\"data\", file_name)\n",
        "  drive_download(as_id(file_id), path = local_path, overwrite = TRUE)\n",
        "\n",
        "  # Leer datos\n",
        "  datos <- read_dta(local_path)\n",
        "\n",
        "  # Añadir año\n",
        "  year <- str_extract(file_name, \"\\\\d{4}\")\n",
        "\n",
        "\n",
        "  # Diseño muestral\n",
        "  mydesign <- datos %>%\n",
        "    as_survey_design(ids = upm,\n",
        "                     strata = est_dis,\n",
        "                     weights = factor)\n",
        "\n",
        "  # Estima pobreza\n",
        "  pobreza <- mydesign %>%\n",
        "    #Filtrar datos para CDMX\n",
        "  filter(entidad==9)%>%\n",
        "    #Filtar grupo de población en pobreza\n",
        "    #filter(pobreza_mmip == 1) %>%\n",
        "    group_by(etnia,pobreza_mmip)%>%\n",
        "    summarise(\n",
        "      poblacion = survey_total(vartype = \"cv\"),\n",
        "      porcentaje = survey_prop(vartype = \"cv\")\n",
        "    ) %>%\n",
        "    mutate(porcentaje = round(porcentaje * 100, 2),\n",
        "           year = as.numeric(year))%>%\n",
        "             #Filtro de población indígena\n",
        "             filter(etnia==1)\n",
        "\n",
        "  return(pobreza)\n",
        "}\n"
      ],
      "metadata": {
        "id": "sFs1TwLFxKyz"
      },
      "id": "sFs1TwLFxKyz",
      "execution_count": 85,
      "outputs": []
    },
    {
      "cell_type": "code",
      "source": [
        "estimacion_pobreza_simple <- function(file_id, file_name) {\n",
        "  # Descarga de datos\n",
        "  local_path <- file.path(\"data\", file_name)\n",
        "  drive_download(as_id(file_id), path = local_path, overwrite = TRUE)\n",
        "\n",
        "  # Leer datos\n",
        "  datos <- read_dta(local_path)\n",
        "\n",
        "  # Añadir año\n",
        "  year <- str_extract(file_name, \"\\\\d{4}\") %>% as.numeric()\n",
        "\n",
        "  # Filtrar datos para CDMX y población en pobreza\n",
        "  pobreza <- datos %>%\n",
        "    filter(entidad == 9) %>%\n",
        "    group_by(etnia,pobreza_mmip) %>%\n",
        "    summarise(\n",
        "      observaciones = n(),  # Contar el número de observaciones\n",
        "      porcentaje = (n() / nrow(datos)) * 100  # Calcular porcentaje sobre el total de la tabla\n",
        "    ) %>%\n",
        "    mutate(\n",
        "      porcentaje = round(porcentaje, 2),\n",
        "      year = year\n",
        "    ) %>%\n",
        "    # Filtro de población indígena\n",
        "    filter(etnia == 1)%>%\n",
        "      select(pobreza_mmip,observaciones,year)\n",
        "\n",
        "  return(pobreza)\n",
        "}\n"
      ],
      "metadata": {
        "id": "txs7yjjVLDo4"
      },
      "id": "txs7yjjVLDo4",
      "execution_count": 86,
      "outputs": []
    },
    {
      "cell_type": "code",
      "source": [
        "tabla_pobreza <- map_dfr(\n",
        "  seq_len(nrow(archivos)),\n",
        "  ~ estimacion_pobreza(archivos$id[.x], archivos$name[.x])\n",
        ")%>%\n",
        "  arrange(year)%>%\n",
        "  filter(pobreza_mmip==1)\n",
        "\n",
        "print(\"Estimación de población indígena en situación de pobreza en la CDMX\")\n",
        "tabla_pobreza"
      ],
      "metadata": {
        "colab": {
          "base_uri": "https://localhost:8080/",
          "height": 654
        },
        "id": "PYgGuYNRxNjA",
        "outputId": "4b1ba173-ee13-425c-cf1b-f633afecaae9"
      },
      "id": "PYgGuYNRxNjA",
      "execution_count": 87,
      "outputs": [
        {
          "output_type": "stream",
          "name": "stderr",
          "text": [
            "File downloaded:\n",
            "\n",
            "• \u001b[36mpobreza_2022.dta\u001b[39m \u001b[90m<id: 1T_WfYanYMOoWWbhj_CeiqxYRNrpXmDan>\u001b[39m\n",
            "\n",
            "Saved locally as:\n",
            "\n",
            "• \u001b[34mdata/pobreza_2022.dta\u001b[39m\n",
            "\n",
            "File downloaded:\n",
            "\n",
            "• \u001b[36mpobreza_2018.dta\u001b[39m \u001b[90m<id: 1TTRfiRDGWgQwHylvduHx1IRdm5vQ3VeL>\u001b[39m\n",
            "\n",
            "Saved locally as:\n",
            "\n",
            "• \u001b[34mdata/pobreza_2018.dta\u001b[39m\n",
            "\n",
            "File downloaded:\n",
            "\n",
            "• \u001b[36mpobreza_2020.dta\u001b[39m \u001b[90m<id: 1TXJLNA_itWfjsGIdoj1bJQ4erNjc1wIx>\u001b[39m\n",
            "\n",
            "Saved locally as:\n",
            "\n",
            "• \u001b[34mdata/pobreza_2020.dta\u001b[39m\n",
            "\n"
          ]
        },
        {
          "output_type": "stream",
          "name": "stdout",
          "text": [
            "[1] \"Estimación de población indígena en situación de pobreza en la CDMX\"\n"
          ]
        },
        {
          "output_type": "display_data",
          "data": {
            "text/html": [
              "<table class=\"dataframe\">\n",
              "<caption>A grouped_df: 3 × 7</caption>\n",
              "<thead>\n",
              "\t<tr><th scope=col>etnia</th><th scope=col>pobreza_mmip</th><th scope=col>poblacion</th><th scope=col>poblacion_cv</th><th scope=col>porcentaje</th><th scope=col>porcentaje_cv</th><th scope=col>year</th></tr>\n",
              "\t<tr><th scope=col>&lt;chr&gt;</th><th scope=col>&lt;dbl&gt;</th><th scope=col>&lt;dbl&gt;</th><th scope=col>&lt;dbl&gt;</th><th scope=col>&lt;dbl&gt;</th><th scope=col>&lt;dbl&gt;</th><th scope=col>&lt;dbl&gt;</th></tr>\n",
              "</thead>\n",
              "<tbody>\n",
              "\t<tr><td>1</td><td>1</td><td>1011897</td><td>0.09435402</td><td>74.41</td><td>0.03664584</td><td>2018</td></tr>\n",
              "\t<tr><td>1</td><td>1</td><td> 921413</td><td>0.07989246</td><td>66.35</td><td>0.03980687</td><td>2020</td></tr>\n",
              "\t<tr><td>1</td><td>1</td><td> 816899</td><td>0.08744365</td><td>75.13</td><td>0.03089138</td><td>2022</td></tr>\n",
              "</tbody>\n",
              "</table>\n"
            ],
            "text/markdown": "\nA grouped_df: 3 × 7\n\n| etnia &lt;chr&gt; | pobreza_mmip &lt;dbl&gt; | poblacion &lt;dbl&gt; | poblacion_cv &lt;dbl&gt; | porcentaje &lt;dbl&gt; | porcentaje_cv &lt;dbl&gt; | year &lt;dbl&gt; |\n|---|---|---|---|---|---|---|\n| 1 | 1 | 1011897 | 0.09435402 | 74.41 | 0.03664584 | 2018 |\n| 1 | 1 |  921413 | 0.07989246 | 66.35 | 0.03980687 | 2020 |\n| 1 | 1 |  816899 | 0.08744365 | 75.13 | 0.03089138 | 2022 |\n\n",
            "text/latex": "A grouped\\_df: 3 × 7\n\\begin{tabular}{lllllll}\n etnia & pobreza\\_mmip & poblacion & poblacion\\_cv & porcentaje & porcentaje\\_cv & year\\\\\n <chr> & <dbl> & <dbl> & <dbl> & <dbl> & <dbl> & <dbl>\\\\\n\\hline\n\t 1 & 1 & 1011897 & 0.09435402 & 74.41 & 0.03664584 & 2018\\\\\n\t 1 & 1 &  921413 & 0.07989246 & 66.35 & 0.03980687 & 2020\\\\\n\t 1 & 1 &  816899 & 0.08744365 & 75.13 & 0.03089138 & 2022\\\\\n\\end{tabular}\n",
            "text/plain": [
              "  etnia pobreza_mmip poblacion poblacion_cv porcentaje porcentaje_cv year\n",
              "1 1     1            1011897   0.09435402   74.41      0.03664584    2018\n",
              "2 1     1             921413   0.07989246   66.35      0.03980687    2020\n",
              "3 1     1             816899   0.08744365   75.13      0.03089138    2022"
            ]
          },
          "metadata": {}
        }
      ]
    },
    {
      "cell_type": "code",
      "source": [
        "tabla_pobreza_simple <- map_dfr(\n",
        "  seq_len(nrow(archivos)),\n",
        "  ~ estimacion_pobreza_simple(archivos$id[.x], archivos$name[.x])\n",
        ")%>%\n",
        "  arrange(year)%>%\n",
        "  select(pobreza_mmip,observaciones,year)\n",
        "\n",
        "print(\"Observaciones muestrales de población indígena y condición de pobreza en la CDMX\")\n",
        "tabla_pobreza_simple"
      ],
      "metadata": {
        "id": "NcTCPaiOLFMV",
        "outputId": "9d7e3c9a-72ff-4c53-83e6-064c9d7b4173",
        "colab": {
          "base_uri": "https://localhost:8080/",
          "height": 932
        }
      },
      "id": "NcTCPaiOLFMV",
      "execution_count": 88,
      "outputs": [
        {
          "output_type": "stream",
          "name": "stderr",
          "text": [
            "File downloaded:\n",
            "\n",
            "• \u001b[36mpobreza_2022.dta\u001b[39m \u001b[90m<id: 1T_WfYanYMOoWWbhj_CeiqxYRNrpXmDan>\u001b[39m\n",
            "\n",
            "Saved locally as:\n",
            "\n",
            "• \u001b[34mdata/pobreza_2022.dta\u001b[39m\n",
            "\n",
            "\u001b[1m\u001b[22m`summarise()` has grouped output by 'etnia'. You can override using the\n",
            "`.groups` argument.\n",
            "\u001b[1m\u001b[22mAdding missing grouping variables: `etnia`\n",
            "File downloaded:\n",
            "\n",
            "• \u001b[36mpobreza_2018.dta\u001b[39m \u001b[90m<id: 1TTRfiRDGWgQwHylvduHx1IRdm5vQ3VeL>\u001b[39m\n",
            "\n",
            "Saved locally as:\n",
            "\n",
            "• \u001b[34mdata/pobreza_2018.dta\u001b[39m\n",
            "\n",
            "\u001b[1m\u001b[22m`summarise()` has grouped output by 'etnia'. You can override using the\n",
            "`.groups` argument.\n",
            "\u001b[1m\u001b[22mAdding missing grouping variables: `etnia`\n",
            "File downloaded:\n",
            "\n",
            "• \u001b[36mpobreza_2020.dta\u001b[39m \u001b[90m<id: 1TXJLNA_itWfjsGIdoj1bJQ4erNjc1wIx>\u001b[39m\n",
            "\n",
            "Saved locally as:\n",
            "\n",
            "• \u001b[34mdata/pobreza_2020.dta\u001b[39m\n",
            "\n",
            "\u001b[1m\u001b[22m`summarise()` has grouped output by 'etnia'. You can override using the\n",
            "`.groups` argument.\n",
            "\u001b[1m\u001b[22mAdding missing grouping variables: `etnia`\n",
            "\u001b[1m\u001b[22mAdding missing grouping variables: `etnia`\n"
          ]
        },
        {
          "output_type": "stream",
          "name": "stdout",
          "text": [
            "[1] \"Observaciones muestrales de población indígena y condición de pobreza en la CDMX\"\n"
          ]
        },
        {
          "output_type": "display_data",
          "data": {
            "text/html": [
              "<table class=\"dataframe\">\n",
              "<caption>A grouped_df: 6 × 4</caption>\n",
              "<thead>\n",
              "\t<tr><th scope=col>etnia</th><th scope=col>pobreza_mmip</th><th scope=col>observaciones</th><th scope=col>year</th></tr>\n",
              "\t<tr><th scope=col>&lt;chr&gt;</th><th scope=col>&lt;dbl&gt;</th><th scope=col>&lt;int&gt;</th><th scope=col>&lt;dbl&gt;</th></tr>\n",
              "</thead>\n",
              "<tbody>\n",
              "\t<tr><td>1</td><td>0</td><td> 253</td><td>2018</td></tr>\n",
              "\t<tr><td>1</td><td>1</td><td>1064</td><td>2018</td></tr>\n",
              "\t<tr><td>1</td><td>0</td><td> 388</td><td>2020</td></tr>\n",
              "\t<tr><td>1</td><td>1</td><td>1359</td><td>2020</td></tr>\n",
              "\t<tr><td>1</td><td>0</td><td> 235</td><td>2022</td></tr>\n",
              "\t<tr><td>1</td><td>1</td><td>1019</td><td>2022</td></tr>\n",
              "</tbody>\n",
              "</table>\n"
            ],
            "text/markdown": "\nA grouped_df: 6 × 4\n\n| etnia &lt;chr&gt; | pobreza_mmip &lt;dbl&gt; | observaciones &lt;int&gt; | year &lt;dbl&gt; |\n|---|---|---|---|\n| 1 | 0 |  253 | 2018 |\n| 1 | 1 | 1064 | 2018 |\n| 1 | 0 |  388 | 2020 |\n| 1 | 1 | 1359 | 2020 |\n| 1 | 0 |  235 | 2022 |\n| 1 | 1 | 1019 | 2022 |\n\n",
            "text/latex": "A grouped\\_df: 6 × 4\n\\begin{tabular}{llll}\n etnia & pobreza\\_mmip & observaciones & year\\\\\n <chr> & <dbl> & <int> & <dbl>\\\\\n\\hline\n\t 1 & 0 &  253 & 2018\\\\\n\t 1 & 1 & 1064 & 2018\\\\\n\t 1 & 0 &  388 & 2020\\\\\n\t 1 & 1 & 1359 & 2020\\\\\n\t 1 & 0 &  235 & 2022\\\\\n\t 1 & 1 & 1019 & 2022\\\\\n\\end{tabular}\n",
            "text/plain": [
              "  etnia pobreza_mmip observaciones year\n",
              "1 1     0             253          2018\n",
              "2 1     1            1064          2018\n",
              "3 1     0             388          2020\n",
              "4 1     1            1359          2020\n",
              "5 1     0             235          2022\n",
              "6 1     1            1019          2022"
            ]
          },
          "metadata": {}
        }
      ]
    },
    {
      "metadata": {
        "id": "c2e1da5cb1bd01b1"
      },
      "cell_type": "markdown",
      "source": [
        "### Estimación de metas de indicadores propuestos\n",
        "\n",
        "*Porcentaje de población analfabeta indígena en la CDMX*"
      ],
      "id": "c2e1da5cb1bd01b1"
    },
    {
      "metadata": {
        "ExecuteTime": {
          "end_time": "2025-02-06T00:42:27.512567Z",
          "start_time": "2025-02-06T00:42:27.485688Z"
        },
        "id": "c23925bfdc8c7441",
        "outputId": "87adf9cf-5fa3-4524-d1b0-95fe4482fbb1",
        "colab": {
          "base_uri": "https://localhost:8080/",
          "height": 223
        }
      },
      "cell_type": "code",
      "source": [
        "#Tabla de analfabetismo\n",
        "datos<-data.frame(tabla_analfabetismo$year,tabla_analfabetismo$porcentaje)%>%\n",
        "    rename(year=tabla_analfabetismo.year,\n",
        "             porcentaje=tabla_analfabetismo.porcentaje)%>%\n",
        "mutate(year=as.numeric(year))\n",
        "datos"
      ],
      "id": "c23925bfdc8c7441",
      "outputs": [
        {
          "output_type": "display_data",
          "data": {
            "text/html": [
              "<table class=\"dataframe\">\n",
              "<caption>A data.frame: 4 × 2</caption>\n",
              "<thead>\n",
              "\t<tr><th scope=col>year</th><th scope=col>porcentaje</th></tr>\n",
              "\t<tr><th scope=col>&lt;dbl&gt;</th><th scope=col>&lt;dbl&gt;</th></tr>\n",
              "</thead>\n",
              "<tbody>\n",
              "\t<tr><td>2016</td><td>6.14</td></tr>\n",
              "\t<tr><td>2018</td><td>7.33</td></tr>\n",
              "\t<tr><td>2020</td><td>6.60</td></tr>\n",
              "\t<tr><td>2022</td><td>5.79</td></tr>\n",
              "</tbody>\n",
              "</table>\n"
            ],
            "text/markdown": "\nA data.frame: 4 × 2\n\n| year &lt;dbl&gt; | porcentaje &lt;dbl&gt; |\n|---|---|\n| 2016 | 6.14 |\n| 2018 | 7.33 |\n| 2020 | 6.60 |\n| 2022 | 5.79 |\n\n",
            "text/latex": "A data.frame: 4 × 2\n\\begin{tabular}{ll}\n year & porcentaje\\\\\n <dbl> & <dbl>\\\\\n\\hline\n\t 2016 & 6.14\\\\\n\t 2018 & 7.33\\\\\n\t 2020 & 6.60\\\\\n\t 2022 & 5.79\\\\\n\\end{tabular}\n",
            "text/plain": [
              "  year porcentaje\n",
              "1 2016 6.14      \n",
              "2 2018 7.33      \n",
              "3 2020 6.60      \n",
              "4 2022 5.79      "
            ]
          },
          "metadata": {}
        }
      ],
      "execution_count": 89
    },
    {
      "metadata": {
        "ExecuteTime": {
          "end_time": "2025-02-06T00:46:37.507922Z",
          "start_time": "2025-02-06T00:46:37.489273Z"
        },
        "id": "66d7ad7e54b6304c",
        "outputId": "a825edef-74af-4e30-fa2c-486639f61e3d",
        "colab": {
          "base_uri": "https://localhost:8080/",
          "height": 53
        }
      },
      "cell_type": "code",
      "source": [
        "##Calcular tasa de crecimiento promedio anual de 2016 a 2022\n",
        "\n",
        "valor_inicial<-datos$porcentaje[1]\n",
        "valor_final <- datos$porcentaje[length(datos$porcentaje)]\n",
        "n <- datos$year[length(datos$year)] - datos$year[1]\n",
        "\n",
        "tasa_crecimiento <- (valor_final / valor_inicial)^(1 / n) - 1\n",
        "print(\"Se estima una tasa de crecimiento promedio anual para utilizarse como base en la proyección de metas a 2025\")\n",
        "tasa_crecimiento"
      ],
      "id": "66d7ad7e54b6304c",
      "outputs": [
        {
          "output_type": "stream",
          "name": "stdout",
          "text": [
            "[1] \"Se estima una tasa de crecimiento promedio anual para utilizarse como base en la proyección de metas a 2025\"\n"
          ]
        },
        {
          "output_type": "display_data",
          "data": {
            "text/html": [
              "-0.00973438622448441"
            ],
            "text/markdown": "-0.00973438622448441",
            "text/latex": "-0.00973438622448441",
            "text/plain": [
              "[1] -0.009734386"
            ]
          },
          "metadata": {}
        }
      ],
      "execution_count": 90
    },
    {
      "metadata": {
        "ExecuteTime": {
          "end_time": "2025-02-06T00:43:38.603805Z",
          "start_time": "2025-02-06T00:43:38.585968Z"
        },
        "id": "ba1e1dd0c7dd2b1b",
        "outputId": "d05ddc3f-1fdf-4fac-be3a-90e7f1bd43dd",
        "colab": {
          "base_uri": "https://localhost:8080/",
          "height": 819
        }
      },
      "cell_type": "code",
      "source": [
        "proyecciones <- data.frame(year = seq(2023, 2045, by = 1))\n",
        "proyecciones$porcentaje <- valor_final * (1 + tasa_crecimiento)^(proyecciones$year - 2022)\n",
        "proyecciones"
      ],
      "id": "ba1e1dd0c7dd2b1b",
      "outputs": [
        {
          "output_type": "display_data",
          "data": {
            "text/html": [
              "<table class=\"dataframe\">\n",
              "<caption>A data.frame: 23 × 2</caption>\n",
              "<thead>\n",
              "\t<tr><th scope=col>year</th><th scope=col>porcentaje</th></tr>\n",
              "\t<tr><th scope=col>&lt;dbl&gt;</th><th scope=col>&lt;dbl&gt;</th></tr>\n",
              "</thead>\n",
              "<tbody>\n",
              "\t<tr><td>2023</td><td>5.733638</td></tr>\n",
              "\t<tr><td>2024</td><td>5.677824</td></tr>\n",
              "\t<tr><td>2025</td><td>5.622554</td></tr>\n",
              "\t<tr><td>2026</td><td>5.567822</td></tr>\n",
              "\t<tr><td>2027</td><td>5.513623</td></tr>\n",
              "\t<tr><td>2028</td><td>5.459951</td></tr>\n",
              "\t<tr><td>2029</td><td>5.406802</td></tr>\n",
              "\t<tr><td>2030</td><td>5.354170</td></tr>\n",
              "\t<tr><td>2031</td><td>5.302050</td></tr>\n",
              "\t<tr><td>2032</td><td>5.250438</td></tr>\n",
              "\t<tr><td>2033</td><td>5.199328</td></tr>\n",
              "\t<tr><td>2034</td><td>5.148716</td></tr>\n",
              "\t<tr><td>2035</td><td>5.098597</td></tr>\n",
              "\t<tr><td>2036</td><td>5.048965</td></tr>\n",
              "\t<tr><td>2037</td><td>4.999816</td></tr>\n",
              "\t<tr><td>2038</td><td>4.951146</td></tr>\n",
              "\t<tr><td>2039</td><td>4.902950</td></tr>\n",
              "\t<tr><td>2040</td><td>4.855223</td></tr>\n",
              "\t<tr><td>2041</td><td>4.807960</td></tr>\n",
              "\t<tr><td>2042</td><td>4.761157</td></tr>\n",
              "\t<tr><td>2043</td><td>4.714810</td></tr>\n",
              "\t<tr><td>2044</td><td>4.668915</td></tr>\n",
              "\t<tr><td>2045</td><td>4.623466</td></tr>\n",
              "</tbody>\n",
              "</table>\n"
            ],
            "text/markdown": "\nA data.frame: 23 × 2\n\n| year &lt;dbl&gt; | porcentaje &lt;dbl&gt; |\n|---|---|\n| 2023 | 5.733638 |\n| 2024 | 5.677824 |\n| 2025 | 5.622554 |\n| 2026 | 5.567822 |\n| 2027 | 5.513623 |\n| 2028 | 5.459951 |\n| 2029 | 5.406802 |\n| 2030 | 5.354170 |\n| 2031 | 5.302050 |\n| 2032 | 5.250438 |\n| 2033 | 5.199328 |\n| 2034 | 5.148716 |\n| 2035 | 5.098597 |\n| 2036 | 5.048965 |\n| 2037 | 4.999816 |\n| 2038 | 4.951146 |\n| 2039 | 4.902950 |\n| 2040 | 4.855223 |\n| 2041 | 4.807960 |\n| 2042 | 4.761157 |\n| 2043 | 4.714810 |\n| 2044 | 4.668915 |\n| 2045 | 4.623466 |\n\n",
            "text/latex": "A data.frame: 23 × 2\n\\begin{tabular}{ll}\n year & porcentaje\\\\\n <dbl> & <dbl>\\\\\n\\hline\n\t 2023 & 5.733638\\\\\n\t 2024 & 5.677824\\\\\n\t 2025 & 5.622554\\\\\n\t 2026 & 5.567822\\\\\n\t 2027 & 5.513623\\\\\n\t 2028 & 5.459951\\\\\n\t 2029 & 5.406802\\\\\n\t 2030 & 5.354170\\\\\n\t 2031 & 5.302050\\\\\n\t 2032 & 5.250438\\\\\n\t 2033 & 5.199328\\\\\n\t 2034 & 5.148716\\\\\n\t 2035 & 5.098597\\\\\n\t 2036 & 5.048965\\\\\n\t 2037 & 4.999816\\\\\n\t 2038 & 4.951146\\\\\n\t 2039 & 4.902950\\\\\n\t 2040 & 4.855223\\\\\n\t 2041 & 4.807960\\\\\n\t 2042 & 4.761157\\\\\n\t 2043 & 4.714810\\\\\n\t 2044 & 4.668915\\\\\n\t 2045 & 4.623466\\\\\n\\end{tabular}\n",
            "text/plain": [
              "   year porcentaje\n",
              "1  2023 5.733638  \n",
              "2  2024 5.677824  \n",
              "3  2025 5.622554  \n",
              "4  2026 5.567822  \n",
              "5  2027 5.513623  \n",
              "6  2028 5.459951  \n",
              "7  2029 5.406802  \n",
              "8  2030 5.354170  \n",
              "9  2031 5.302050  \n",
              "10 2032 5.250438  \n",
              "11 2033 5.199328  \n",
              "12 2034 5.148716  \n",
              "13 2035 5.098597  \n",
              "14 2036 5.048965  \n",
              "15 2037 4.999816  \n",
              "16 2038 4.951146  \n",
              "17 2039 4.902950  \n",
              "18 2040 4.855223  \n",
              "19 2041 4.807960  \n",
              "20 2042 4.761157  \n",
              "21 2043 4.714810  \n",
              "22 2044 4.668915  \n",
              "23 2045 4.623466  "
            ]
          },
          "metadata": {}
        }
      ],
      "execution_count": 91
    },
    {
      "metadata": {
        "ExecuteTime": {
          "end_time": "2025-02-06T00:47:00.617230Z",
          "start_time": "2025-02-06T00:47:00.605170Z"
        },
        "id": "19333df53ce1469b"
      },
      "cell_type": "code",
      "source": [
        "datos_proyectados <- rbind(datos, proyecciones)"
      ],
      "id": "19333df53ce1469b",
      "outputs": [],
      "execution_count": 92
    },
    {
      "metadata": {
        "ExecuteTime": {
          "end_time": "2025-02-06T00:43:54.300975Z",
          "start_time": "2025-02-06T00:43:53.959094Z"
        },
        "id": "55a300fd6aa52e24",
        "outputId": "65655f51-52da-4bb9-9bda-1882c4a161d9",
        "colab": {
          "base_uri": "https://localhost:8080/",
          "height": 437
        }
      },
      "cell_type": "code",
      "source": [
        "#Gráfica\n",
        "ggplot(datos_proyectados, aes(x = year, y = porcentaje)) +\n",
        "  geom_line(color=\"#235B4E\", size=2)+\n",
        "  geom_point() +\n",
        "  geom_vline(xintercept = 2022, linetype = \"dashed\", color = \"red\", size = 1)+\n",
        "  labs(title = \"Porcentaje de población analfabeta indígena en la CDMX, 2016-2045\",\n",
        "       x = \"Año\",\n",
        "       y = \"Porcentaje\",\n",
        "\n",
        "       caption=\"Fuente: Elaborado por IPDP CDMX con información de INEGI. Encuesta Nacional de Ingresos y Gastos de los Hogares (ENIGH).\"\n",
        "       ) +\n",
        "\n",
        "  theme_minimal()+\n",
        "  theme(\n",
        "    plot.title = element_text(hjust = 0, size=30,face=\"bold\"),\n",
        "    plot.subtitle = element_text(hjust = 0, size=20, face=\"italic\"),\n",
        "    plot.caption = element_text(hjust = 0,size=15),\n",
        "    axis.text.x = element_text(angle = 90, vjust = 0.5,size=15),\n",
        "    text=element_text(\"pop\",size=20))\n",
        "\n",
        "ggsave(\"pob_analf_ind.png\",width=15,height=8, dpi=100, bg=\"white\")"
      ],
      "id": "55a300fd6aa52e24",
      "outputs": [
        {
          "output_type": "display_data",
          "data": {
            "text/plain": [
              "plot without title"
            ],
            "image/png": "[encoded data removed]"
          },
          "metadata": {
            "image/png": {
              "width": 420,
              "height": 420
            }
          }
        }
      ],
      "execution_count": 93
    },
    {
      "metadata": {
        "ExecuteTime": {
          "end_time": "2025-02-06T00:44:27.784495Z",
          "start_time": "2025-02-06T00:44:27.769820Z"
        },
        "id": "95bc140005a8d6b2",
        "outputId": "56fb3883-907d-46e6-e83c-739d8c1cd047",
        "colab": {
          "base_uri": "https://localhost:8080/",
          "height": 192
        }
      },
      "cell_type": "code",
      "source": [
        "#Datos 2030, 2035 y 2045\n",
        "datos_proyectados %>% filter(year %in% c(2030, 2035, 2045))"
      ],
      "id": "95bc140005a8d6b2",
      "outputs": [
        {
          "output_type": "display_data",
          "data": {
            "text/html": [
              "<table class=\"dataframe\">\n",
              "<caption>A data.frame: 3 × 2</caption>\n",
              "<thead>\n",
              "\t<tr><th scope=col>year</th><th scope=col>porcentaje</th></tr>\n",
              "\t<tr><th scope=col>&lt;dbl&gt;</th><th scope=col>&lt;dbl&gt;</th></tr>\n",
              "</thead>\n",
              "<tbody>\n",
              "\t<tr><td>2030</td><td>5.354170</td></tr>\n",
              "\t<tr><td>2035</td><td>5.098597</td></tr>\n",
              "\t<tr><td>2045</td><td>4.623466</td></tr>\n",
              "</tbody>\n",
              "</table>\n"
            ],
            "text/markdown": "\nA data.frame: 3 × 2\n\n| year &lt;dbl&gt; | porcentaje &lt;dbl&gt; |\n|---|---|\n| 2030 | 5.354170 |\n| 2035 | 5.098597 |\n| 2045 | 4.623466 |\n\n",
            "text/latex": "A data.frame: 3 × 2\n\\begin{tabular}{ll}\n year & porcentaje\\\\\n <dbl> & <dbl>\\\\\n\\hline\n\t 2030 & 5.354170\\\\\n\t 2035 & 5.098597\\\\\n\t 2045 & 4.623466\\\\\n\\end{tabular}\n",
            "text/plain": [
              "  year porcentaje\n",
              "1 2030 5.354170  \n",
              "2 2035 5.098597  \n",
              "3 2045 4.623466  "
            ]
          },
          "metadata": {}
        }
      ],
      "execution_count": 94
    },
    {
      "cell_type": "markdown",
      "source": [
        "*Porcentaje de población indígena en situación de pobreza*"
      ],
      "metadata": {
        "id": "oZ83G4MV6ezz"
      },
      "id": "oZ83G4MV6ezz"
    },
    {
      "cell_type": "code",
      "source": [
        "##Calcular tasa de crecimiento promedio anual de 2016 a 2022\n",
        "valor_inicial<-tabla_pobreza$porcentaje[1]\n",
        "valor_final <- tabla_pobreza$porcentaje[2]\n",
        "n <- tabla_pobreza$year[length(tabla_pobreza$year)] - tabla_pobreza$year[1]\n",
        "\n",
        "tasa_crecimiento_pobreza<- (valor_final / valor_inicial)^(1 / n) - 1\n",
        "print(\"Se estima una tasa de crecimiento promedio anual para utilizarse como base en la proyección de metas a 2025\")\n",
        "tasa_crecimiento_pobreza\n",
        "\n",
        "proyecciones_pobreza <- data.frame(year = seq(2023, 2045, by = 1))\n",
        "proyecciones_pobreza$porcentaje <- valor_final * (1 + tasa_crecimiento_pobreza)^(proyecciones_pobreza$year - 2022)\n",
        "proyecciones_pobreza\n",
        "\n",
        "datos_proyectados_pobreza <- rbind(tabla_pobreza, proyecciones_pobreza)%>%\n",
        "  select(year,porcentaje)\n",
        "\n",
        "#Gráfica\n",
        "ggplot(datos_proyectados_pobreza, aes(x = year, y = porcentaje)) +\n",
        "  geom_line(color=\"#235B4E\", size=2)+\n",
        "  geom_point() +\n",
        "  geom_vline(xintercept = 2022, linetype = \"dashed\", color = \"red\", size = 1)+\n",
        "  labs(title = \"Porcentaje de población indígena en situación en pobreza en la CDMX,\n",
        "2018-2045\",\n",
        "       x = \"Año\",\n",
        "       y = \"Porcentaje\",\n",
        "\n",
        "       caption=\"Fuente: Elaborado por IPDP CDMX con información de INEGI. Encuesta Nacional de Ingresos y Gastos de los Hogares (ENIGH).\"\n",
        "       ) +\n",
        "\n",
        "  theme_minimal()+\n",
        "  theme(\n",
        "    plot.title = element_text(hjust = 0, size=30,face=\"bold\"),\n",
        "    plot.subtitle = element_text(hjust = 0, size=20, face=\"italic\"),\n",
        "    plot.caption = element_text(hjust = 0,size=15),\n",
        "    axis.text.x = element_text(angle = 90, vjust = 0.5,size=15),\n",
        "    text=element_text(\"pop\",size=20))\n",
        "\n",
        "ggsave(\"pob_pobreza_ind.png\",width=16,height=8, dpi=100, bg=\"white\")\n",
        "\n",
        "\n",
        "\n",
        "#Datos 2030, 2035 y 2045\n",
        "datos_proyectados_pobreza %>% filter(year %in% c(2030, 2035, 2045))"
      ],
      "metadata": {
        "id": "OSH57jXY6d_x",
        "outputId": "641880d8-c666-4e66-c3eb-32cb6b1894e0",
        "colab": {
          "base_uri": "https://localhost:8080/",
          "height": 1000
        }
      },
      "id": "OSH57jXY6d_x",
      "execution_count": 106,
      "outputs": [
        {
          "output_type": "stream",
          "name": "stdout",
          "text": [
            "[1] \"Se estima una tasa de crecimiento promedio anual para utilizarse como base en la proyección de metas a 2025\"\n"
          ]
        },
        {
          "output_type": "display_data",
          "data": {
            "text/html": [
              "-0.0282547964566973"
            ],
            "text/markdown": "-0.0282547964566973",
            "text/latex": "-0.0282547964566973",
            "text/plain": [
              "[1] -0.0282548"
            ]
          },
          "metadata": {}
        },
        {
          "output_type": "display_data",
          "data": {
            "text/html": [
              "<table class=\"dataframe\">\n",
              "<caption>A data.frame: 23 × 2</caption>\n",
              "<thead>\n",
              "\t<tr><th scope=col>year</th><th scope=col>porcentaje</th></tr>\n",
              "\t<tr><th scope=col>&lt;dbl&gt;</th><th scope=col>&lt;dbl&gt;</th></tr>\n",
              "</thead>\n",
              "<tbody>\n",
              "\t<tr><td>2023</td><td>64.47529</td></tr>\n",
              "\t<tr><td>2024</td><td>62.65356</td></tr>\n",
              "\t<tr><td>2025</td><td>60.88329</td></tr>\n",
              "\t<tr><td>2026</td><td>59.16305</td></tr>\n",
              "\t<tr><td>2027</td><td>57.49141</td></tr>\n",
              "\t<tr><td>2028</td><td>55.86700</td></tr>\n",
              "\t<tr><td>2029</td><td>54.28849</td></tr>\n",
              "\t<tr><td>2030</td><td>52.75458</td></tr>\n",
              "\t<tr><td>2031</td><td>51.26401</td></tr>\n",
              "\t<tr><td>2032</td><td>49.81556</td></tr>\n",
              "\t<tr><td>2033</td><td>48.40803</td></tr>\n",
              "\t<tr><td>2034</td><td>47.04027</td></tr>\n",
              "\t<tr><td>2035</td><td>45.71116</td></tr>\n",
              "\t<tr><td>2036</td><td>44.41960</td></tr>\n",
              "\t<tr><td>2037</td><td>43.16453</td></tr>\n",
              "\t<tr><td>2038</td><td>41.94492</td></tr>\n",
              "\t<tr><td>2039</td><td>40.75978</td></tr>\n",
              "\t<tr><td>2040</td><td>39.60812</td></tr>\n",
              "\t<tr><td>2041</td><td>38.48900</td></tr>\n",
              "\t<tr><td>2042</td><td>37.40150</td></tr>\n",
              "\t<tr><td>2043</td><td>36.34473</td></tr>\n",
              "\t<tr><td>2044</td><td>35.31782</td></tr>\n",
              "\t<tr><td>2045</td><td>34.31992</td></tr>\n",
              "</tbody>\n",
              "</table>\n"
            ],
            "text/markdown": "\nA data.frame: 23 × 2\n\n| year &lt;dbl&gt; | porcentaje &lt;dbl&gt; |\n|---|---|\n| 2023 | 64.47529 |\n| 2024 | 62.65356 |\n| 2025 | 60.88329 |\n| 2026 | 59.16305 |\n| 2027 | 57.49141 |\n| 2028 | 55.86700 |\n| 2029 | 54.28849 |\n| 2030 | 52.75458 |\n| 2031 | 51.26401 |\n| 2032 | 49.81556 |\n| 2033 | 48.40803 |\n| 2034 | 47.04027 |\n| 2035 | 45.71116 |\n| 2036 | 44.41960 |\n| 2037 | 43.16453 |\n| 2038 | 41.94492 |\n| 2039 | 40.75978 |\n| 2040 | 39.60812 |\n| 2041 | 38.48900 |\n| 2042 | 37.40150 |\n| 2043 | 36.34473 |\n| 2044 | 35.31782 |\n| 2045 | 34.31992 |\n\n",
            "text/latex": "A data.frame: 23 × 2\n\\begin{tabular}{ll}\n year & porcentaje\\\\\n <dbl> & <dbl>\\\\\n\\hline\n\t 2023 & 64.47529\\\\\n\t 2024 & 62.65356\\\\\n\t 2025 & 60.88329\\\\\n\t 2026 & 59.16305\\\\\n\t 2027 & 57.49141\\\\\n\t 2028 & 55.86700\\\\\n\t 2029 & 54.28849\\\\\n\t 2030 & 52.75458\\\\\n\t 2031 & 51.26401\\\\\n\t 2032 & 49.81556\\\\\n\t 2033 & 48.40803\\\\\n\t 2034 & 47.04027\\\\\n\t 2035 & 45.71116\\\\\n\t 2036 & 44.41960\\\\\n\t 2037 & 43.16453\\\\\n\t 2038 & 41.94492\\\\\n\t 2039 & 40.75978\\\\\n\t 2040 & 39.60812\\\\\n\t 2041 & 38.48900\\\\\n\t 2042 & 37.40150\\\\\n\t 2043 & 36.34473\\\\\n\t 2044 & 35.31782\\\\\n\t 2045 & 34.31992\\\\\n\\end{tabular}\n",
            "text/plain": [
              "   year porcentaje\n",
              "1  2023 64.47529  \n",
              "2  2024 62.65356  \n",
              "3  2025 60.88329  \n",
              "4  2026 59.16305  \n",
              "5  2027 57.49141  \n",
              "6  2028 55.86700  \n",
              "7  2029 54.28849  \n",
              "8  2030 52.75458  \n",
              "9  2031 51.26401  \n",
              "10 2032 49.81556  \n",
              "11 2033 48.40803  \n",
              "12 2034 47.04027  \n",
              "13 2035 45.71116  \n",
              "14 2036 44.41960  \n",
              "15 2037 43.16453  \n",
              "16 2038 41.94492  \n",
              "17 2039 40.75978  \n",
              "18 2040 39.60812  \n",
              "19 2041 38.48900  \n",
              "20 2042 37.40150  \n",
              "21 2043 36.34473  \n",
              "22 2044 35.31782  \n",
              "23 2045 34.31992  "
            ]
          },
          "metadata": {}
        },
        {
          "output_type": "stream",
          "name": "stderr",
          "text": [
            "\u001b[1m\u001b[22mAdding missing grouping variables: `etnia`\n"
          ]
        },
        {
          "output_type": "display_data",
          "data": {
            "text/html": [
              "<table class=\"dataframe\">\n",
              "<caption>A grouped_df: 3 × 3</caption>\n",
              "<thead>\n",
              "\t<tr><th scope=col>etnia</th><th scope=col>year</th><th scope=col>porcentaje</th></tr>\n",
              "\t<tr><th scope=col>&lt;chr&gt;</th><th scope=col>&lt;dbl&gt;</th><th scope=col>&lt;dbl&gt;</th></tr>\n",
              "</thead>\n",
              "<tbody>\n",
              "\t<tr><td>NA</td><td>2030</td><td>52.75458</td></tr>\n",
              "\t<tr><td>NA</td><td>2035</td><td>45.71116</td></tr>\n",
              "\t<tr><td>NA</td><td>2045</td><td>34.31992</td></tr>\n",
              "</tbody>\n",
              "</table>\n"
            ],
            "text/markdown": "\nA grouped_df: 3 × 3\n\n| etnia &lt;chr&gt; | year &lt;dbl&gt; | porcentaje &lt;dbl&gt; |\n|---|---|---|\n| NA | 2030 | 52.75458 |\n| NA | 2035 | 45.71116 |\n| NA | 2045 | 34.31992 |\n\n",
            "text/latex": "A grouped\\_df: 3 × 3\n\\begin{tabular}{lll}\n etnia & year & porcentaje\\\\\n <chr> & <dbl> & <dbl>\\\\\n\\hline\n\t NA & 2030 & 52.75458\\\\\n\t NA & 2035 & 45.71116\\\\\n\t NA & 2045 & 34.31992\\\\\n\\end{tabular}\n",
            "text/plain": [
              "  etnia year porcentaje\n",
              "1 NA    2030 52.75458  \n",
              "2 NA    2035 45.71116  \n",
              "3 NA    2045 34.31992  "
            ]
          },
          "metadata": {}
        },
        {
          "output_type": "display_data",
          "data": {
            "text/plain": [
              "plot without title"
            ],
            "image/png": "[encoded data removed]"
          },
          "metadata": {
            "image/png": {
              "width": 420,
              "height": 420
            }
          }
        }
      ]
    },
    {
      "cell_type": "markdown",
      "source": [
        "*Porcentaje de población que habla alguna  lengua indígena en la CDMX*"
      ],
      "metadata": {
        "id": "XG-Ng3yJY9yw"
      },
      "id": "XG-Ng3yJY9yw"
    },
    {
      "cell_type": "code",
      "source": [
        "#Tabla de Población hablante de lengua indígena en la CDMX\n",
        "hablante<-data.frame(tabla_hablante$year,tabla_hablante$porcentaje)%>%\n",
        "  rename(year=tabla_hablante.year,\n",
        "         porcentaje=tabla_hablante.porcentaje)%>%\n",
        "  mutate(year=as.numeric(year))\n",
        "hablante"
      ],
      "metadata": {
        "colab": {
          "base_uri": "https://localhost:8080/",
          "height": 223
        },
        "id": "hjDQLmMdZNzW",
        "outputId": "b9553cbc-6611-4929-a237-959d376b54e8"
      },
      "id": "hjDQLmMdZNzW",
      "execution_count": 96,
      "outputs": [
        {
          "output_type": "display_data",
          "data": {
            "text/html": [
              "<table class=\"dataframe\">\n",
              "<caption>A data.frame: 4 × 2</caption>\n",
              "<thead>\n",
              "\t<tr><th scope=col>year</th><th scope=col>porcentaje</th></tr>\n",
              "\t<tr><th scope=col>&lt;dbl&gt;</th><th scope=col>&lt;dbl&gt;</th></tr>\n",
              "</thead>\n",
              "<tbody>\n",
              "\t<tr><td>2016</td><td>1.41</td></tr>\n",
              "\t<tr><td>2018</td><td>1.38</td></tr>\n",
              "\t<tr><td>2020</td><td>1.67</td></tr>\n",
              "\t<tr><td>2022</td><td>1.43</td></tr>\n",
              "</tbody>\n",
              "</table>\n"
            ],
            "text/markdown": "\nA data.frame: 4 × 2\n\n| year &lt;dbl&gt; | porcentaje &lt;dbl&gt; |\n|---|---|\n| 2016 | 1.41 |\n| 2018 | 1.38 |\n| 2020 | 1.67 |\n| 2022 | 1.43 |\n\n",
            "text/latex": "A data.frame: 4 × 2\n\\begin{tabular}{ll}\n year & porcentaje\\\\\n <dbl> & <dbl>\\\\\n\\hline\n\t 2016 & 1.41\\\\\n\t 2018 & 1.38\\\\\n\t 2020 & 1.67\\\\\n\t 2022 & 1.43\\\\\n\\end{tabular}\n",
            "text/plain": [
              "  year porcentaje\n",
              "1 2016 1.41      \n",
              "2 2018 1.38      \n",
              "3 2020 1.67      \n",
              "4 2022 1.43      "
            ]
          },
          "metadata": {}
        }
      ]
    },
    {
      "cell_type": "code",
      "source": [
        "valor_inicial_hablante<-hablante$porcentaje[1]\n",
        "valor_final_hablante <- hablante$porcentaje[length(hablante$porcentaje)]\n",
        "n <- hablante$year[length(hablante$year)] - hablante$year[1]\n",
        "\n",
        "tasa_crecimiento_hablante <- (valor_final_hablante / valor_inicial_hablante)^(1 / n) - 1\n",
        "print(\"Se estima una tasa de crecimiento promedio anual para utilizarse como base en la proyección de metas a 2025\")\n",
        "tasa_crecimiento_hablante"
      ],
      "metadata": {
        "colab": {
          "base_uri": "https://localhost:8080/",
          "height": 53
        },
        "id": "MqZP1ILjdGl2",
        "outputId": "182f9525-d2be-4c29-f101-c1793159570c"
      },
      "id": "MqZP1ILjdGl2",
      "execution_count": 97,
      "outputs": [
        {
          "output_type": "stream",
          "name": "stdout",
          "text": [
            "[1] \"Se estima una tasa de crecimiento promedio anual para utilizarse como base en la proyección de metas a 2025\"\n"
          ]
        },
        {
          "output_type": "display_data",
          "data": {
            "text/html": [
              "0.00235021408054092"
            ],
            "text/markdown": "0.00235021408054092",
            "text/latex": "0.00235021408054092",
            "text/plain": [
              "[1] 0.002350214"
            ]
          },
          "metadata": {}
        }
      ]
    },
    {
      "cell_type": "code",
      "source": [
        "proyecciones_hablante <- data.frame(year = seq(2023, 2045, by = 1))\n",
        "proyecciones_hablante$porcentaje <- valor_final_hablante * (1 + tasa_crecimiento_hablante)^(proyecciones_hablante$year - 2022)\n",
        "proyecciones_hablante\n",
        "\n",
        "datos_proyectados_hablante <- rbind(hablante, proyecciones_hablante)"
      ],
      "metadata": {
        "colab": {
          "base_uri": "https://localhost:8080/",
          "height": 819
        },
        "id": "WWXGra-7dJCO",
        "outputId": "b4bec066-271a-496a-ec51-d0e3893e3cb2"
      },
      "id": "WWXGra-7dJCO",
      "execution_count": 98,
      "outputs": [
        {
          "output_type": "display_data",
          "data": {
            "text/html": [
              "<table class=\"dataframe\">\n",
              "<caption>A data.frame: 23 × 2</caption>\n",
              "<thead>\n",
              "\t<tr><th scope=col>year</th><th scope=col>porcentaje</th></tr>\n",
              "\t<tr><th scope=col>&lt;dbl&gt;</th><th scope=col>&lt;dbl&gt;</th></tr>\n",
              "</thead>\n",
              "<tbody>\n",
              "\t<tr><td>2023</td><td>1.433361</td></tr>\n",
              "\t<tr><td>2024</td><td>1.436730</td></tr>\n",
              "\t<tr><td>2025</td><td>1.440106</td></tr>\n",
              "\t<tr><td>2026</td><td>1.443491</td></tr>\n",
              "\t<tr><td>2027</td><td>1.446883</td></tr>\n",
              "\t<tr><td>2028</td><td>1.450284</td></tr>\n",
              "\t<tr><td>2029</td><td>1.453692</td></tr>\n",
              "\t<tr><td>2030</td><td>1.457109</td></tr>\n",
              "\t<tr><td>2031</td><td>1.460533</td></tr>\n",
              "\t<tr><td>2032</td><td>1.463966</td></tr>\n",
              "\t<tr><td>2033</td><td>1.467406</td></tr>\n",
              "\t<tr><td>2034</td><td>1.470855</td></tr>\n",
              "\t<tr><td>2035</td><td>1.474312</td></tr>\n",
              "\t<tr><td>2036</td><td>1.477777</td></tr>\n",
              "\t<tr><td>2037</td><td>1.481250</td></tr>\n",
              "\t<tr><td>2038</td><td>1.484731</td></tr>\n",
              "\t<tr><td>2039</td><td>1.488221</td></tr>\n",
              "\t<tr><td>2040</td><td>1.491718</td></tr>\n",
              "\t<tr><td>2041</td><td>1.495224</td></tr>\n",
              "\t<tr><td>2042</td><td>1.498738</td></tr>\n",
              "\t<tr><td>2043</td><td>1.502261</td></tr>\n",
              "\t<tr><td>2044</td><td>1.505791</td></tr>\n",
              "\t<tr><td>2045</td><td>1.509330</td></tr>\n",
              "</tbody>\n",
              "</table>\n"
            ],
            "text/markdown": "\nA data.frame: 23 × 2\n\n| year &lt;dbl&gt; | porcentaje &lt;dbl&gt; |\n|---|---|\n| 2023 | 1.433361 |\n| 2024 | 1.436730 |\n| 2025 | 1.440106 |\n| 2026 | 1.443491 |\n| 2027 | 1.446883 |\n| 2028 | 1.450284 |\n| 2029 | 1.453692 |\n| 2030 | 1.457109 |\n| 2031 | 1.460533 |\n| 2032 | 1.463966 |\n| 2033 | 1.467406 |\n| 2034 | 1.470855 |\n| 2035 | 1.474312 |\n| 2036 | 1.477777 |\n| 2037 | 1.481250 |\n| 2038 | 1.484731 |\n| 2039 | 1.488221 |\n| 2040 | 1.491718 |\n| 2041 | 1.495224 |\n| 2042 | 1.498738 |\n| 2043 | 1.502261 |\n| 2044 | 1.505791 |\n| 2045 | 1.509330 |\n\n",
            "text/latex": "A data.frame: 23 × 2\n\\begin{tabular}{ll}\n year & porcentaje\\\\\n <dbl> & <dbl>\\\\\n\\hline\n\t 2023 & 1.433361\\\\\n\t 2024 & 1.436730\\\\\n\t 2025 & 1.440106\\\\\n\t 2026 & 1.443491\\\\\n\t 2027 & 1.446883\\\\\n\t 2028 & 1.450284\\\\\n\t 2029 & 1.453692\\\\\n\t 2030 & 1.457109\\\\\n\t 2031 & 1.460533\\\\\n\t 2032 & 1.463966\\\\\n\t 2033 & 1.467406\\\\\n\t 2034 & 1.470855\\\\\n\t 2035 & 1.474312\\\\\n\t 2036 & 1.477777\\\\\n\t 2037 & 1.481250\\\\\n\t 2038 & 1.484731\\\\\n\t 2039 & 1.488221\\\\\n\t 2040 & 1.491718\\\\\n\t 2041 & 1.495224\\\\\n\t 2042 & 1.498738\\\\\n\t 2043 & 1.502261\\\\\n\t 2044 & 1.505791\\\\\n\t 2045 & 1.509330\\\\\n\\end{tabular}\n",
            "text/plain": [
              "   year porcentaje\n",
              "1  2023 1.433361  \n",
              "2  2024 1.436730  \n",
              "3  2025 1.440106  \n",
              "4  2026 1.443491  \n",
              "5  2027 1.446883  \n",
              "6  2028 1.450284  \n",
              "7  2029 1.453692  \n",
              "8  2030 1.457109  \n",
              "9  2031 1.460533  \n",
              "10 2032 1.463966  \n",
              "11 2033 1.467406  \n",
              "12 2034 1.470855  \n",
              "13 2035 1.474312  \n",
              "14 2036 1.477777  \n",
              "15 2037 1.481250  \n",
              "16 2038 1.484731  \n",
              "17 2039 1.488221  \n",
              "18 2040 1.491718  \n",
              "19 2041 1.495224  \n",
              "20 2042 1.498738  \n",
              "21 2043 1.502261  \n",
              "22 2044 1.505791  \n",
              "23 2045 1.509330  "
            ]
          },
          "metadata": {}
        }
      ]
    },
    {
      "cell_type": "code",
      "source": [
        "#Gráfica\n",
        "ggplot(datos_proyectados_hablante, aes(x = year, y = porcentaje)) +\n",
        "  geom_line(color=\"#235B4E\", size=2)+\n",
        "  geom_point() +\n",
        "  geom_vline(xintercept = 2022, linetype = \"dashed\", color = \"red\", size = 1)+\n",
        "  labs(title = \"Porcentaje de población que habla alguna  lengua indígena en la CDMX,\n",
        "2016-2045\",\n",
        "       x = \"Año\",\n",
        "       y = \"Porcentaje\",\n",
        "\n",
        "       caption=\"Fuente: Elaborado por IPDP CDMX con información de INEGI. Encuesta Nacional de Ingresos y Gastos de los Hogares (ENIGH).\"\n",
        "       ) +\n",
        "\n",
        "  theme_minimal()+\n",
        "  theme(\n",
        "    plot.title = element_text(hjust = 0, size=30,face=\"bold\"),\n",
        "    plot.subtitle = element_text(hjust = 0, size=20, face=\"italic\"),\n",
        "    plot.caption = element_text(hjust = 0,size=15),\n",
        "    axis.text.x = element_text(angle = 90, vjust = 0.5,size=15),\n",
        "    text=element_text(\"pop\",size=20))\n",
        "\n",
        "ggsave(\"pob_hablante_ind.png\",width=16,height=8, dpi=100, bg=\"white\")"
      ],
      "metadata": {
        "id": "bF5sJZdAjFi_",
        "outputId": "4a028d41-bc36-45ae-eb8b-61cbbfc06571",
        "colab": {
          "base_uri": "https://localhost:8080/",
          "height": 437
        }
      },
      "id": "bF5sJZdAjFi_",
      "execution_count": 99,
      "outputs": [
        {
          "output_type": "display_data",
          "data": {
            "text/plain": [
              "plot without title"
            ],
            "image/png": "[encoded data removed]"
          },
          "metadata": {
            "image/png": {
              "width": 420,
              "height": 420
            }
          }
        }
      ]
    },
    {
      "cell_type": "markdown",
      "source": [
        "*Porcentaje de población que se auto adscribe indígena en la CDMX*"
      ],
      "metadata": {
        "id": "Gjo65d-teZ5o"
      },
      "id": "Gjo65d-teZ5o"
    },
    {
      "cell_type": "code",
      "source": [
        "adscribe <- data.frame(tabla_indigena$year, tabla_indigena$porcentaje) %>%\n",
        "  rename(year = tabla_indigena.year,\n",
        "         porcentaje = tabla_indigena.porcentaje) %>%\n",
        "  mutate(year = as.numeric(year))\n",
        "\n",
        "# Excluir el año 2022 para el cálculo de la tasa de crecimiento\n",
        "adscribe_sin_2022 <- adscribe %>% filter(year != 2022)\n",
        "\n",
        "## Calcular tasa de crecimiento promedio anual de 2016 a 2021 (sin incluir 2022)\n",
        "valor_inicial_adscribe <- adscribe_sin_2022$porcentaje[1]\n",
        "valor_final_adscribe <- adscribe_sin_2022$porcentaje[length(adscribe_sin_2022$porcentaje)]\n",
        "n <- adscribe_sin_2022$year[length(adscribe_sin_2022$year)] - adscribe_sin_2022$year[1]\n",
        "\n",
        "tasa_crecimiento_adscribe <- (valor_final_adscribe / valor_inicial_adscribe)^(1 / n) - 1\n",
        "print(\"Se estima una tasa de crecimiento promedio anual para utilizarse como base en la proyección de metas a 2025\")\n",
        "tasa_crecimiento_adscribe"
      ],
      "metadata": {
        "colab": {
          "base_uri": "https://localhost:8080/",
          "height": 53
        },
        "id": "WovLITl4ed-_",
        "outputId": "69aed42e-73e5-4ea4-ce6d-b423c0137009"
      },
      "id": "WovLITl4ed-_",
      "execution_count": 100,
      "outputs": [
        {
          "output_type": "stream",
          "name": "stdout",
          "text": [
            "[1] \"Se estima una tasa de crecimiento promedio anual para utilizarse como base en la proyección de metas a 2025\"\n"
          ]
        },
        {
          "output_type": "display_data",
          "data": {
            "text/html": [
              "0.0245397109283507"
            ],
            "text/markdown": "0.0245397109283507",
            "text/latex": "0.0245397109283507",
            "text/plain": [
              "[1] 0.02453971"
            ]
          },
          "metadata": {}
        }
      ]
    },
    {
      "cell_type": "code",
      "source": [
        "proyecciones_adscribe <- data.frame(year = seq(2023, 2045, by = 1))\n",
        "proyecciones_adscribe$porcentaje <- valor_final_adscribe * (1 + tasa_crecimiento_adscribe)^(proyecciones_adscribe$year - 2020)\n",
        "proyecciones_adscribe\n",
        "\n",
        "datos_proyectados_adscribe <- rbind(adscribe, proyecciones_adscribe)\n",
        "\n",
        "#Gráfica\n",
        "ggplot(datos_proyectados_adscribe, aes(x = year, y = porcentaje)) +\n",
        "  geom_line(color=\"#235B4E\", size=2)+\n",
        "  geom_point() +\n",
        "  geom_vline(xintercept = 2022, linetype = \"dashed\", color = \"red\", size = 1)+\n",
        "  labs(title = \"Porcentaje de población que se auto adscribe indígena en la CDMX,\n",
        "2016-2045\",\n",
        "       x = \"Año\",\n",
        "       y = \"Porcentaje\",\n",
        "\n",
        "       caption=\"Fuente: Elaborado por IPDP CDMX con información de INEGI. Encuesta Nacional de Ingresos y Gastos de los Hogares (ENIGH).\"\n",
        "       ) +\n",
        "\n",
        "  theme_minimal()+\n",
        "  theme(\n",
        "    plot.title = element_text(hjust = 0, size=30,face=\"bold\"),\n",
        "    plot.subtitle = element_text(hjust = 0, size=20, face=\"italic\"),\n",
        "    plot.caption = element_text(hjust = 0,size=15),\n",
        "    axis.text.x = element_text(angle = 90, vjust = 0.5,size=15),\n",
        "    text=element_text(\"pop\",size=20))\n",
        "\n",
        "ggsave(\"pob_adscribe_ind.png\",width=16,height=8, dpi=100, bg=\"white\")\n",
        "\n",
        "\n",
        "\n",
        "#Datos 2030, 2035 y 2045\n",
        "datos_proyectados_adscribe %>% filter(year %in% c(2030, 2035, 2045))"
      ],
      "metadata": {
        "colab": {
          "base_uri": "https://localhost:8080/",
          "height": 1000
        },
        "id": "Jtj21rZmejMd",
        "outputId": "d8d61cfc-fa9a-4f79-9f51-500241c21590"
      },
      "id": "Jtj21rZmejMd",
      "execution_count": 101,
      "outputs": [
        {
          "output_type": "display_data",
          "data": {
            "text/html": [
              "<table class=\"dataframe\">\n",
              "<caption>A data.frame: 23 × 2</caption>\n",
              "<thead>\n",
              "\t<tr><th scope=col>year</th><th scope=col>porcentaje</th></tr>\n",
              "\t<tr><th scope=col>&lt;dbl&gt;</th><th scope=col>&lt;dbl&gt;</th></tr>\n",
              "</thead>\n",
              "<tbody>\n",
              "\t<tr><td>2023</td><td>16.17463</td></tr>\n",
              "\t<tr><td>2024</td><td>16.57155</td></tr>\n",
              "\t<tr><td>2025</td><td>16.97821</td></tr>\n",
              "\t<tr><td>2026</td><td>17.39485</td></tr>\n",
              "\t<tr><td>2027</td><td>17.82171</td></tr>\n",
              "\t<tr><td>2028</td><td>18.25905</td></tr>\n",
              "\t<tr><td>2029</td><td>18.70712</td></tr>\n",
              "\t<tr><td>2030</td><td>19.16619</td></tr>\n",
              "\t<tr><td>2031</td><td>19.63652</td></tr>\n",
              "\t<tr><td>2032</td><td>20.11840</td></tr>\n",
              "\t<tr><td>2033</td><td>20.61210</td></tr>\n",
              "\t<tr><td>2034</td><td>21.11791</td></tr>\n",
              "\t<tr><td>2035</td><td>21.63614</td></tr>\n",
              "\t<tr><td>2036</td><td>22.16708</td></tr>\n",
              "\t<tr><td>2037</td><td>22.71106</td></tr>\n",
              "\t<tr><td>2038</td><td>23.26838</td></tr>\n",
              "\t<tr><td>2039</td><td>23.83938</td></tr>\n",
              "\t<tr><td>2040</td><td>24.42439</td></tr>\n",
              "\t<tr><td>2041</td><td>25.02376</td></tr>\n",
              "\t<tr><td>2042</td><td>25.63784</td></tr>\n",
              "\t<tr><td>2043</td><td>26.26698</td></tr>\n",
              "\t<tr><td>2044</td><td>26.91156</td></tr>\n",
              "\t<tr><td>2045</td><td>27.57197</td></tr>\n",
              "</tbody>\n",
              "</table>\n"
            ],
            "text/markdown": "\nA data.frame: 23 × 2\n\n| year &lt;dbl&gt; | porcentaje &lt;dbl&gt; |\n|---|---|\n| 2023 | 16.17463 |\n| 2024 | 16.57155 |\n| 2025 | 16.97821 |\n| 2026 | 17.39485 |\n| 2027 | 17.82171 |\n| 2028 | 18.25905 |\n| 2029 | 18.70712 |\n| 2030 | 19.16619 |\n| 2031 | 19.63652 |\n| 2032 | 20.11840 |\n| 2033 | 20.61210 |\n| 2034 | 21.11791 |\n| 2035 | 21.63614 |\n| 2036 | 22.16708 |\n| 2037 | 22.71106 |\n| 2038 | 23.26838 |\n| 2039 | 23.83938 |\n| 2040 | 24.42439 |\n| 2041 | 25.02376 |\n| 2042 | 25.63784 |\n| 2043 | 26.26698 |\n| 2044 | 26.91156 |\n| 2045 | 27.57197 |\n\n",
            "text/latex": "A data.frame: 23 × 2\n\\begin{tabular}{ll}\n year & porcentaje\\\\\n <dbl> & <dbl>\\\\\n\\hline\n\t 2023 & 16.17463\\\\\n\t 2024 & 16.57155\\\\\n\t 2025 & 16.97821\\\\\n\t 2026 & 17.39485\\\\\n\t 2027 & 17.82171\\\\\n\t 2028 & 18.25905\\\\\n\t 2029 & 18.70712\\\\\n\t 2030 & 19.16619\\\\\n\t 2031 & 19.63652\\\\\n\t 2032 & 20.11840\\\\\n\t 2033 & 20.61210\\\\\n\t 2034 & 21.11791\\\\\n\t 2035 & 21.63614\\\\\n\t 2036 & 22.16708\\\\\n\t 2037 & 22.71106\\\\\n\t 2038 & 23.26838\\\\\n\t 2039 & 23.83938\\\\\n\t 2040 & 24.42439\\\\\n\t 2041 & 25.02376\\\\\n\t 2042 & 25.63784\\\\\n\t 2043 & 26.26698\\\\\n\t 2044 & 26.91156\\\\\n\t 2045 & 27.57197\\\\\n\\end{tabular}\n",
            "text/plain": [
              "   year porcentaje\n",
              "1  2023 16.17463  \n",
              "2  2024 16.57155  \n",
              "3  2025 16.97821  \n",
              "4  2026 17.39485  \n",
              "5  2027 17.82171  \n",
              "6  2028 18.25905  \n",
              "7  2029 18.70712  \n",
              "8  2030 19.16619  \n",
              "9  2031 19.63652  \n",
              "10 2032 20.11840  \n",
              "11 2033 20.61210  \n",
              "12 2034 21.11791  \n",
              "13 2035 21.63614  \n",
              "14 2036 22.16708  \n",
              "15 2037 22.71106  \n",
              "16 2038 23.26838  \n",
              "17 2039 23.83938  \n",
              "18 2040 24.42439  \n",
              "19 2041 25.02376  \n",
              "20 2042 25.63784  \n",
              "21 2043 26.26698  \n",
              "22 2044 26.91156  \n",
              "23 2045 27.57197  "
            ]
          },
          "metadata": {}
        },
        {
          "output_type": "display_data",
          "data": {
            "text/html": [
              "<table class=\"dataframe\">\n",
              "<caption>A data.frame: 3 × 2</caption>\n",
              "<thead>\n",
              "\t<tr><th scope=col>year</th><th scope=col>porcentaje</th></tr>\n",
              "\t<tr><th scope=col>&lt;dbl&gt;</th><th scope=col>&lt;dbl&gt;</th></tr>\n",
              "</thead>\n",
              "<tbody>\n",
              "\t<tr><td>2030</td><td>19.16619</td></tr>\n",
              "\t<tr><td>2035</td><td>21.63614</td></tr>\n",
              "\t<tr><td>2045</td><td>27.57197</td></tr>\n",
              "</tbody>\n",
              "</table>\n"
            ],
            "text/markdown": "\nA data.frame: 3 × 2\n\n| year &lt;dbl&gt; | porcentaje &lt;dbl&gt; |\n|---|---|\n| 2030 | 19.16619 |\n| 2035 | 21.63614 |\n| 2045 | 27.57197 |\n\n",
            "text/latex": "A data.frame: 3 × 2\n\\begin{tabular}{ll}\n year & porcentaje\\\\\n <dbl> & <dbl>\\\\\n\\hline\n\t 2030 & 19.16619\\\\\n\t 2035 & 21.63614\\\\\n\t 2045 & 27.57197\\\\\n\\end{tabular}\n",
            "text/plain": [
              "  year porcentaje\n",
              "1 2030 19.16619  \n",
              "2 2035 21.63614  \n",
              "3 2045 27.57197  "
            ]
          },
          "metadata": {}
        },
        {
          "output_type": "display_data",
          "data": {
            "text/plain": [
              "plot without title"
            ],
            "image/png": "[encoded data removed]"
          },
          "metadata": {
            "image/png": {
              "width": 420,
              "height": 420
            }
          }
        }
      ]
    },
    {
      "cell_type": "markdown",
      "source": [
        "*Porcentaje de población ocupada que pertenece a  pueblos originarios en la CDMX*"
      ],
      "metadata": {
        "id": "0mgr2Kh9e8N3"
      },
      "id": "0mgr2Kh9e8N3"
    },
    {
      "cell_type": "code",
      "source": [
        "ocupada <- data.frame(tabla_ocupacion$year, tabla_ocupacion$porcentaje) %>%\n",
        "  rename(year = tabla_ocupacion.year,\n",
        "         porcentaje = tabla_ocupacion.porcentaje) %>%\n",
        "  mutate(year = as.numeric(year))\n",
        "\n",
        "# Excluir el año 2022 para el cálculo de la tasa de crecimiento\n",
        "ocupada_sin_2022 <- ocupada %>% filter(year != 2022)\n",
        "\n",
        "## Calcular tasa de crecimiento promedio anual de 2016 a 2021 (sin incluir 2022)\n",
        "valor_inicial_ocupada <- ocupada_sin_2022$porcentaje[1]\n",
        "valor_final_ocupada <- ocupada_sin_2022$porcentaje[length(ocupada_sin_2022$porcentaje)]\n",
        "n <- ocupada_sin_2022$year[length(ocupada_sin_2022$year)] - ocupada_sin_2022$year[1]\n",
        "\n",
        "tasa_crecimiento_ocupada <- (valor_final_ocupada / valor_inicial_ocupada)^(1 / n) - 1\n",
        "print(\"Se estima una tasa de crecimiento promedio anual para utilizarse como base en la proyección de metas a 2025\")\n",
        "tasa_crecimiento_ocupada"
      ],
      "metadata": {
        "colab": {
          "base_uri": "https://localhost:8080/",
          "height": 53
        },
        "id": "wMJQ6Pk0e_HU",
        "outputId": "d57d3cd5-4702-4b01-cb76-3c5479b2e9ef"
      },
      "id": "wMJQ6Pk0e_HU",
      "execution_count": 102,
      "outputs": [
        {
          "output_type": "stream",
          "name": "stdout",
          "text": [
            "[1] \"Se estima una tasa de crecimiento promedio anual para utilizarse como base en la proyección de metas a 2025\"\n"
          ]
        },
        {
          "output_type": "display_data",
          "data": {
            "text/html": [
              "0.0164842328419705"
            ],
            "text/markdown": "0.0164842328419705",
            "text/latex": "0.0164842328419705",
            "text/plain": [
              "[1] 0.01648423"
            ]
          },
          "metadata": {}
        }
      ]
    },
    {
      "cell_type": "code",
      "source": [
        "proyecciones_ocupada <- data.frame(year = seq(2023, 2045, by = 1))\n",
        "proyecciones_ocupada$porcentaje <- valor_final_ocupada * (1 + tasa_crecimiento_ocupada)^(proyecciones_ocupada$year - 2021)\n",
        "proyecciones_ocupada\n",
        "\n",
        "datos_proyectados_ocupada <- rbind(ocupada, proyecciones_ocupada)\n",
        "\n",
        "ggplot(datos_proyectados_ocupada, aes(x = year, y = porcentaje)) +\n",
        "  geom_line(color=\"#235B4E\", size=2)+\n",
        "  geom_point() +\n",
        "  geom_vline(xintercept = 2022, linetype = \"dashed\", color = \"red\", size = 1)+\n",
        "  labs(title = \"Porcentaje de población ocupada que pertenece a\n",
        "pueblos originarios en la CDMX, 2016-2045\",\n",
        "       x = \"Año\",\n",
        "       y = \"Porcentaje\",\n",
        "\n",
        "       caption=\"Fuente: Elaborado por IPDP CDMX con información de INEGI. Encuesta Nacional de Ingresos y Gastos de los Hogares (ENIGH).\"\n",
        "       ) +\n",
        "\n",
        "  theme_minimal()+\n",
        "  theme(\n",
        "    plot.title = element_text(hjust = 0, size=30,face=\"bold\"),\n",
        "    plot.subtitle = element_text(hjust = 0, size=20, face=\"italic\"),\n",
        "    plot.caption = element_text(hjust = 0,size=15),\n",
        "    axis.text.x = element_text(angle = 90, vjust = 0.5,size=15),\n",
        "    text=element_text(\"pop\",size=20))\n",
        "\n",
        "ggsave(\"pob_ocupada_ind.png\",width=16,height=8, dpi=100, bg=\"white\")\n",
        "\n",
        "\n",
        "\n",
        "\n",
        "\n",
        "#Datos 2030, 2035 y 2045\n",
        "datos_proyectados_ocupada %>% filter(year %in% c(2030, 2035, 2045))"
      ],
      "metadata": {
        "colab": {
          "base_uri": "https://localhost:8080/",
          "height": 1000
        },
        "id": "aQ3R5orDfEql",
        "outputId": "954d6b51-0965-4d59-ffbc-f6426f8a2f9a"
      },
      "id": "aQ3R5orDfEql",
      "execution_count": 103,
      "outputs": [
        {
          "output_type": "display_data",
          "data": {
            "text/html": [
              "<table class=\"dataframe\">\n",
              "<caption>A data.frame: 23 × 2</caption>\n",
              "<thead>\n",
              "\t<tr><th scope=col>year</th><th scope=col>porcentaje</th></tr>\n",
              "\t<tr><th scope=col>&lt;dbl&gt;</th><th scope=col>&lt;dbl&gt;</th></tr>\n",
              "</thead>\n",
              "<tbody>\n",
              "\t<tr><td>2023</td><td>16.81082</td></tr>\n",
              "\t<tr><td>2024</td><td>17.08793</td></tr>\n",
              "\t<tr><td>2025</td><td>17.36961</td></tr>\n",
              "\t<tr><td>2026</td><td>17.65594</td></tr>\n",
              "\t<tr><td>2027</td><td>17.94698</td></tr>\n",
              "\t<tr><td>2028</td><td>18.24282</td></tr>\n",
              "\t<tr><td>2029</td><td>18.54354</td></tr>\n",
              "\t<tr><td>2030</td><td>18.84922</td></tr>\n",
              "\t<tr><td>2031</td><td>19.15993</td></tr>\n",
              "\t<tr><td>2032</td><td>19.47577</td></tr>\n",
              "\t<tr><td>2033</td><td>19.79681</td></tr>\n",
              "\t<tr><td>2034</td><td>20.12315</td></tr>\n",
              "\t<tr><td>2035</td><td>20.45486</td></tr>\n",
              "\t<tr><td>2036</td><td>20.79205</td></tr>\n",
              "\t<tr><td>2037</td><td>21.13479</td></tr>\n",
              "\t<tr><td>2038</td><td>21.48318</td></tr>\n",
              "\t<tr><td>2039</td><td>21.83731</td></tr>\n",
              "\t<tr><td>2040</td><td>22.19728</td></tr>\n",
              "\t<tr><td>2041</td><td>22.56319</td></tr>\n",
              "\t<tr><td>2042</td><td>22.93513</td></tr>\n",
              "\t<tr><td>2043</td><td>23.31319</td></tr>\n",
              "\t<tr><td>2044</td><td>23.69749</td></tr>\n",
              "\t<tr><td>2045</td><td>24.08813</td></tr>\n",
              "</tbody>\n",
              "</table>\n"
            ],
            "text/markdown": "\nA data.frame: 23 × 2\n\n| year &lt;dbl&gt; | porcentaje &lt;dbl&gt; |\n|---|---|\n| 2023 | 16.81082 |\n| 2024 | 17.08793 |\n| 2025 | 17.36961 |\n| 2026 | 17.65594 |\n| 2027 | 17.94698 |\n| 2028 | 18.24282 |\n| 2029 | 18.54354 |\n| 2030 | 18.84922 |\n| 2031 | 19.15993 |\n| 2032 | 19.47577 |\n| 2033 | 19.79681 |\n| 2034 | 20.12315 |\n| 2035 | 20.45486 |\n| 2036 | 20.79205 |\n| 2037 | 21.13479 |\n| 2038 | 21.48318 |\n| 2039 | 21.83731 |\n| 2040 | 22.19728 |\n| 2041 | 22.56319 |\n| 2042 | 22.93513 |\n| 2043 | 23.31319 |\n| 2044 | 23.69749 |\n| 2045 | 24.08813 |\n\n",
            "text/latex": "A data.frame: 23 × 2\n\\begin{tabular}{ll}\n year & porcentaje\\\\\n <dbl> & <dbl>\\\\\n\\hline\n\t 2023 & 16.81082\\\\\n\t 2024 & 17.08793\\\\\n\t 2025 & 17.36961\\\\\n\t 2026 & 17.65594\\\\\n\t 2027 & 17.94698\\\\\n\t 2028 & 18.24282\\\\\n\t 2029 & 18.54354\\\\\n\t 2030 & 18.84922\\\\\n\t 2031 & 19.15993\\\\\n\t 2032 & 19.47577\\\\\n\t 2033 & 19.79681\\\\\n\t 2034 & 20.12315\\\\\n\t 2035 & 20.45486\\\\\n\t 2036 & 20.79205\\\\\n\t 2037 & 21.13479\\\\\n\t 2038 & 21.48318\\\\\n\t 2039 & 21.83731\\\\\n\t 2040 & 22.19728\\\\\n\t 2041 & 22.56319\\\\\n\t 2042 & 22.93513\\\\\n\t 2043 & 23.31319\\\\\n\t 2044 & 23.69749\\\\\n\t 2045 & 24.08813\\\\\n\\end{tabular}\n",
            "text/plain": [
              "   year porcentaje\n",
              "1  2023 16.81082  \n",
              "2  2024 17.08793  \n",
              "3  2025 17.36961  \n",
              "4  2026 17.65594  \n",
              "5  2027 17.94698  \n",
              "6  2028 18.24282  \n",
              "7  2029 18.54354  \n",
              "8  2030 18.84922  \n",
              "9  2031 19.15993  \n",
              "10 2032 19.47577  \n",
              "11 2033 19.79681  \n",
              "12 2034 20.12315  \n",
              "13 2035 20.45486  \n",
              "14 2036 20.79205  \n",
              "15 2037 21.13479  \n",
              "16 2038 21.48318  \n",
              "17 2039 21.83731  \n",
              "18 2040 22.19728  \n",
              "19 2041 22.56319  \n",
              "20 2042 22.93513  \n",
              "21 2043 23.31319  \n",
              "22 2044 23.69749  \n",
              "23 2045 24.08813  "
            ]
          },
          "metadata": {}
        },
        {
          "output_type": "display_data",
          "data": {
            "text/html": [
              "<table class=\"dataframe\">\n",
              "<caption>A data.frame: 3 × 2</caption>\n",
              "<thead>\n",
              "\t<tr><th scope=col>year</th><th scope=col>porcentaje</th></tr>\n",
              "\t<tr><th scope=col>&lt;dbl&gt;</th><th scope=col>&lt;dbl&gt;</th></tr>\n",
              "</thead>\n",
              "<tbody>\n",
              "\t<tr><td>2030</td><td>18.84922</td></tr>\n",
              "\t<tr><td>2035</td><td>20.45486</td></tr>\n",
              "\t<tr><td>2045</td><td>24.08813</td></tr>\n",
              "</tbody>\n",
              "</table>\n"
            ],
            "text/markdown": "\nA data.frame: 3 × 2\n\n| year &lt;dbl&gt; | porcentaje &lt;dbl&gt; |\n|---|---|\n| 2030 | 18.84922 |\n| 2035 | 20.45486 |\n| 2045 | 24.08813 |\n\n",
            "text/latex": "A data.frame: 3 × 2\n\\begin{tabular}{ll}\n year & porcentaje\\\\\n <dbl> & <dbl>\\\\\n\\hline\n\t 2030 & 18.84922\\\\\n\t 2035 & 20.45486\\\\\n\t 2045 & 24.08813\\\\\n\\end{tabular}\n",
            "text/plain": [
              "  year porcentaje\n",
              "1 2030 18.84922  \n",
              "2 2035 20.45486  \n",
              "3 2045 24.08813  "
            ]
          },
          "metadata": {}
        },
        {
          "output_type": "display_data",
          "data": {
            "text/plain": [
              "plot without title"
            ],
            "image/png": "[encoded data removed]"
          },
          "metadata": {
            "image/png": {
              "width": 420,
              "height": 420
            }
          }
        }
      ]
    },
    {
      "cell_type": "markdown",
      "source": [
        "*Porcentaje de población ocupada mujer que pertenece a pueblos originarios en la Ciudad*"
      ],
      "metadata": {
        "id": "cHt0nAMNfXEK"
      },
      "id": "cHt0nAMNfXEK"
    },
    {
      "cell_type": "code",
      "source": [
        "#Metas población ocupada mujeres\n",
        "#Tabla de Población ocupada indígena mujeres en la CDMX\n",
        "ocupadam <- data.frame(tabla_ocupacion_mujer$year, tabla_ocupacion_mujer$porcentaje) %>%\n",
        "  rename(year = tabla_ocupacion_mujer.year,\n",
        "         porcentaje = tabla_ocupacion_mujer.porcentaje) %>%\n",
        "  mutate(year = as.numeric(year))\n",
        "\n",
        "# Excluir el año 2022 para el cálculo de la tasa de crecimiento\n",
        "ocupadam_sin_2022 <- ocupadam %>% filter(year != 2022)\n",
        "\n",
        "## Calcular tasa de crecimiento promedio anual de 2016 a 2021 (sin incluir 2022)\n",
        "valor_inicial_ocupadam <- ocupadam_sin_2022$porcentaje[1]\n",
        "valor_final_ocupadam <- ocupadam_sin_2022$porcentaje[length(ocupadam_sin_2022$porcentaje)]\n",
        "n <- ocupadam_sin_2022$year[length(ocupadam_sin_2022$year)] - ocupadam_sin_2022$year[1]\n",
        "\n",
        "tasa_crecimiento_ocupadam <- (valor_final_ocupadam / valor_inicial_ocupadam)^(1 / n) - 1\n",
        "print(\"Se estima una tasa de crecimiento promedio anual para utilizarse como base en la proyección de metas a 2025\")\n",
        "tasa_crecimiento_ocupadam"
      ],
      "metadata": {
        "colab": {
          "base_uri": "https://localhost:8080/",
          "height": 53
        },
        "id": "GnBU5D9gfm4V",
        "outputId": "5e4809b3-d2b9-4919-916b-dc7de1e0fbf1"
      },
      "id": "GnBU5D9gfm4V",
      "execution_count": 104,
      "outputs": [
        {
          "output_type": "stream",
          "name": "stdout",
          "text": [
            "[1] \"Se estima una tasa de crecimiento promedio anual para utilizarse como base en la proyección de metas a 2025\"\n"
          ]
        },
        {
          "output_type": "display_data",
          "data": {
            "text/html": [
              "0.00819786731160499"
            ],
            "text/markdown": "0.00819786731160499",
            "text/latex": "0.00819786731160499",
            "text/plain": [
              "[1] 0.008197867"
            ]
          },
          "metadata": {}
        }
      ]
    },
    {
      "cell_type": "code",
      "source": [
        "proyecciones_ocupadam <- data.frame(year = seq(2023, 2045, by = 1))\n",
        "proyecciones_ocupadam$porcentaje <- valor_final_ocupadam * (1 + tasa_crecimiento_ocupadam)^(proyecciones_ocupadam$year - 2021)\n",
        "proyecciones_ocupadam\n",
        "\n",
        "datos_proyectados_ocupadam <- rbind(ocupadam, proyecciones_ocupadam)\n",
        "\n",
        "\n",
        "ggplot(datos_proyectados_ocupadam, aes(x = year, y = porcentaje)) +\n",
        "  geom_line(color=\"#235B4E\", size=2)+\n",
        "  geom_point() +\n",
        "  geom_vline(xintercept = 2022, linetype = \"dashed\", color = \"red\", size = 1)+\n",
        "  labs(title = \"Porcentaje de población ocupada mujer que pertenece a\n",
        "pueblos originarios en la Ciudad, 2016-2045\",\n",
        "       x = \"Año\",\n",
        "       y = \"Porcentaje\",\n",
        "\n",
        "       caption=\"Fuente: Elaborado por IPDP CDMX con información de INEGI. Encuesta Nacional de Ingresos y Gastos de los Hogares (ENIGH).\"\n",
        "       ) +\n",
        "\n",
        "  theme_minimal()+\n",
        "  theme(\n",
        "    plot.title = element_text(hjust = 0, size=30,face=\"bold\"),\n",
        "    plot.subtitle = element_text(hjust = 0, size=20, face=\"italic\"),\n",
        "    plot.caption = element_text(hjust = 0,size=15),\n",
        "    axis.text.x = element_text(angle = 90, vjust = 0.5,size=15),\n",
        "    text=element_text(\"pop\",size=20))\n",
        "\n",
        "ggsave(\"pob_ocupada_mujer_ind.png\",width=16,height=8, dpi=100, bg=\"white\")\n",
        "\n",
        "\n",
        "\n",
        "#Datos 2030, 2035 y 2045\n",
        "datos_proyectados_ocupadam %>% filter(year %in% c(2030, 2035, 2045))"
      ],
      "metadata": {
        "colab": {
          "base_uri": "https://localhost:8080/",
          "height": 1000
        },
        "id": "ozdPR9s-fqr7",
        "outputId": "6e0e569c-d303-46ef-cb59-cd09f16c279d"
      },
      "id": "ozdPR9s-fqr7",
      "execution_count": 105,
      "outputs": [
        {
          "output_type": "display_data",
          "data": {
            "text/html": [
              "<table class=\"dataframe\">\n",
              "<caption>A data.frame: 23 × 2</caption>\n",
              "<thead>\n",
              "\t<tr><th scope=col>year</th><th scope=col>porcentaje</th></tr>\n",
              "\t<tr><th scope=col>&lt;dbl&gt;</th><th scope=col>&lt;dbl&gt;</th></tr>\n",
              "</thead>\n",
              "<tbody>\n",
              "\t<tr><td>2023</td><td>46.18808</td></tr>\n",
              "\t<tr><td>2024</td><td>46.56672</td></tr>\n",
              "\t<tr><td>2025</td><td>46.94847</td></tr>\n",
              "\t<tr><td>2026</td><td>47.33334</td></tr>\n",
              "\t<tr><td>2027</td><td>47.72138</td></tr>\n",
              "\t<tr><td>2028</td><td>48.11259</td></tr>\n",
              "\t<tr><td>2029</td><td>48.50701</td></tr>\n",
              "\t<tr><td>2030</td><td>48.90467</td></tr>\n",
              "\t<tr><td>2031</td><td>49.30558</td></tr>\n",
              "\t<tr><td>2032</td><td>49.70978</td></tr>\n",
              "\t<tr><td>2033</td><td>50.11729</td></tr>\n",
              "\t<tr><td>2034</td><td>50.52815</td></tr>\n",
              "\t<tr><td>2035</td><td>50.94237</td></tr>\n",
              "\t<tr><td>2036</td><td>51.35999</td></tr>\n",
              "\t<tr><td>2037</td><td>51.78103</td></tr>\n",
              "\t<tr><td>2038</td><td>52.20553</td></tr>\n",
              "\t<tr><td>2039</td><td>52.63350</td></tr>\n",
              "\t<tr><td>2040</td><td>53.06498</td></tr>\n",
              "\t<tr><td>2041</td><td>53.50000</td></tr>\n",
              "\t<tr><td>2042</td><td>53.93859</td></tr>\n",
              "\t<tr><td>2043</td><td>54.38077</td></tr>\n",
              "\t<tr><td>2044</td><td>54.82658</td></tr>\n",
              "\t<tr><td>2045</td><td>55.27604</td></tr>\n",
              "</tbody>\n",
              "</table>\n"
            ],
            "text/markdown": "\nA data.frame: 23 × 2\n\n| year &lt;dbl&gt; | porcentaje &lt;dbl&gt; |\n|---|---|\n| 2023 | 46.18808 |\n| 2024 | 46.56672 |\n| 2025 | 46.94847 |\n| 2026 | 47.33334 |\n| 2027 | 47.72138 |\n| 2028 | 48.11259 |\n| 2029 | 48.50701 |\n| 2030 | 48.90467 |\n| 2031 | 49.30558 |\n| 2032 | 49.70978 |\n| 2033 | 50.11729 |\n| 2034 | 50.52815 |\n| 2035 | 50.94237 |\n| 2036 | 51.35999 |\n| 2037 | 51.78103 |\n| 2038 | 52.20553 |\n| 2039 | 52.63350 |\n| 2040 | 53.06498 |\n| 2041 | 53.50000 |\n| 2042 | 53.93859 |\n| 2043 | 54.38077 |\n| 2044 | 54.82658 |\n| 2045 | 55.27604 |\n\n",
            "text/latex": "A data.frame: 23 × 2\n\\begin{tabular}{ll}\n year & porcentaje\\\\\n <dbl> & <dbl>\\\\\n\\hline\n\t 2023 & 46.18808\\\\\n\t 2024 & 46.56672\\\\\n\t 2025 & 46.94847\\\\\n\t 2026 & 47.33334\\\\\n\t 2027 & 47.72138\\\\\n\t 2028 & 48.11259\\\\\n\t 2029 & 48.50701\\\\\n\t 2030 & 48.90467\\\\\n\t 2031 & 49.30558\\\\\n\t 2032 & 49.70978\\\\\n\t 2033 & 50.11729\\\\\n\t 2034 & 50.52815\\\\\n\t 2035 & 50.94237\\\\\n\t 2036 & 51.35999\\\\\n\t 2037 & 51.78103\\\\\n\t 2038 & 52.20553\\\\\n\t 2039 & 52.63350\\\\\n\t 2040 & 53.06498\\\\\n\t 2041 & 53.50000\\\\\n\t 2042 & 53.93859\\\\\n\t 2043 & 54.38077\\\\\n\t 2044 & 54.82658\\\\\n\t 2045 & 55.27604\\\\\n\\end{tabular}\n",
            "text/plain": [
              "   year porcentaje\n",
              "1  2023 46.18808  \n",
              "2  2024 46.56672  \n",
              "3  2025 46.94847  \n",
              "4  2026 47.33334  \n",
              "5  2027 47.72138  \n",
              "6  2028 48.11259  \n",
              "7  2029 48.50701  \n",
              "8  2030 48.90467  \n",
              "9  2031 49.30558  \n",
              "10 2032 49.70978  \n",
              "11 2033 50.11729  \n",
              "12 2034 50.52815  \n",
              "13 2035 50.94237  \n",
              "14 2036 51.35999  \n",
              "15 2037 51.78103  \n",
              "16 2038 52.20553  \n",
              "17 2039 52.63350  \n",
              "18 2040 53.06498  \n",
              "19 2041 53.50000  \n",
              "20 2042 53.93859  \n",
              "21 2043 54.38077  \n",
              "22 2044 54.82658  \n",
              "23 2045 55.27604  "
            ]
          },
          "metadata": {}
        },
        {
          "output_type": "display_data",
          "data": {
            "text/html": [
              "<table class=\"dataframe\">\n",
              "<caption>A data.frame: 3 × 2</caption>\n",
              "<thead>\n",
              "\t<tr><th scope=col>year</th><th scope=col>porcentaje</th></tr>\n",
              "\t<tr><th scope=col>&lt;dbl&gt;</th><th scope=col>&lt;dbl&gt;</th></tr>\n",
              "</thead>\n",
              "<tbody>\n",
              "\t<tr><td>2030</td><td>48.90467</td></tr>\n",
              "\t<tr><td>2035</td><td>50.94237</td></tr>\n",
              "\t<tr><td>2045</td><td>55.27604</td></tr>\n",
              "</tbody>\n",
              "</table>\n"
            ],
            "text/markdown": "\nA data.frame: 3 × 2\n\n| year &lt;dbl&gt; | porcentaje &lt;dbl&gt; |\n|---|---|\n| 2030 | 48.90467 |\n| 2035 | 50.94237 |\n| 2045 | 55.27604 |\n\n",
            "text/latex": "A data.frame: 3 × 2\n\\begin{tabular}{ll}\n year & porcentaje\\\\\n <dbl> & <dbl>\\\\\n\\hline\n\t 2030 & 48.90467\\\\\n\t 2035 & 50.94237\\\\\n\t 2045 & 55.27604\\\\\n\\end{tabular}\n",
            "text/plain": [
              "  year porcentaje\n",
              "1 2030 48.90467  \n",
              "2 2035 50.94237  \n",
              "3 2045 55.27604  "
            ]
          },
          "metadata": {}
        },
        {
          "output_type": "display_data",
          "data": {
            "text/plain": [
              "plot without title"
            ],
            "image/png": "[encoded data removed]"
          },
          "metadata": {
            "image/png": {
              "width": 420,
              "height": 420
            }
          }
        }
      ]
    }
  ],
  "metadata": {
    "kernelspec": {
      "display_name": "R",
      "language": "R",
      "name": "ir"
    },
    "language_info": {
      "codemirror_mode": {
        "name": "ipython",
        "version": 2
      },
      "file_extension": ".py",
      "mimetype": "text/x-python",
      "name": "python",
      "nbconvert_exporter": "python",
      "pygments_lexer": "ipython2",
      "version": "2.7.6"
    },
    "colab": {
      "provenance": [],
      "include_colab_link": true
    }
  },
  "nbformat": 4,
  "nbformat_minor": 5
}