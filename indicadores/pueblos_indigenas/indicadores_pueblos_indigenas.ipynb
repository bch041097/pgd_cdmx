{
  "cells": [
    {
      "cell_type": "code",
      "id": "initial_id",
      "metadata": {
        "collapsed": true,
        "ExecuteTime": {
          "end_time": "2025-01-20T20:05:10.219603Z",
          "start_time": "2025-01-20T20:05:10.094244Z"
        },
        "colab": {
          "base_uri": "https://localhost:8080/"
        },
        "id": "initial_id",
        "outputId": "0ebc8cc2-9bf6-4962-9383-6f1b44df21a0"
      },
      "source": [
        "##Estimación de indicadores de vivienda\n",
        "#Se borra todo lo que se encuentra en el entorno\n",
        "\n",
        "rm(list=ls())\n",
        "\n",
        "# Librerías ====\n",
        "if(!require('pacman')) install.packages('pacman')\n",
        "pacman::p_load(tidyverse, showtext, srvyr, haven, googledrive)"
      ],
      "outputs": [
        {
          "output_type": "stream",
          "name": "stderr",
          "text": [
            "Loading required package: pacman\n",
            "\n"
          ]
        }
      ],
      "execution_count": 1
    },
    {
      "metadata": {
        "ExecuteTime": {
          "end_time": "2025-01-20T18:41:09.212275Z",
          "start_time": "2025-01-20T18:41:09.202027Z"
        },
        "id": "2c1e57f58d2e1b46"
      },
      "cell_type": "code",
      "source": [
        "#Crear directorio para guardar los archivos\n",
        "dir.create(\"data\", showWarnings = FALSE)"
      ],
      "id": "2c1e57f58d2e1b46",
      "outputs": [],
      "execution_count": 2
    },
    {
      "metadata": {
        "ExecuteTime": {
          "end_time": "2025-01-20T18:41:09.236666Z",
          "start_time": "2025-01-20T18:41:09.225074Z"
        },
        "id": "99a663be0841e1d"
      },
      "cell_type": "code",
      "source": [
        "url_basica<-\"https://www.inegi.org.mx/contenidos/programas/enigh/nc/\"\n",
        "segunda_parte<-\"microdatos/enigh\"\n",
        "fin1<-\"_ns_\"\n",
        "fin2<-\"_csv.zip\""
      ],
      "id": "99a663be0841e1d",
      "outputs": [],
      "execution_count": 3
    },
    {
      "metadata": {
        "ExecuteTime": {
          "end_time": "2025-01-20T18:41:09.260626Z",
          "start_time": "2025-01-20T18:41:09.251305Z"
        },
        "id": "321dc0cb33aa35e0"
      },
      "cell_type": "code",
      "source": [
        "years<-c(\"2016\", \"2018\", \"2020\", \"2022\")"
      ],
      "id": "321dc0cb33aa35e0",
      "outputs": [],
      "execution_count": 4
    },
    {
      "metadata": {
        "ExecuteTime": {
          "end_time": "2025-01-20T18:41:09.282366Z",
          "start_time": "2025-01-20T18:41:09.272639Z"
        },
        "id": "963b6b0b33057fa9"
      },
      "cell_type": "code",
      "source": [
        "# Función genérica para descargar, descomprimir, renombrar y eliminar\n",
        "procesar_archivo <- function(year, tipo, url_base, segunda_parte, fin1, fin2, carpeta_destino) {\n",
        "  # Construir URL y ruta de destino\n",
        "  url <- paste0(url_base, year, \"/\", segunda_parte, year, fin1, tipo, fin2)\n",
        "  destfile <- paste0(carpeta_destino, \"/\", year, fin1, tipo, fin2)\n",
        "\n",
        "  # Descargar el archivo\n",
        "  download.file(url, destfile = destfile)\n",
        "\n",
        "  # Descomprimir el archivo\n",
        "  unzip(destfile, exdir = carpeta_destino)\n",
        "\n",
        "  # Renombrar el archivo descomprimido\n",
        "  file.rename(\n",
        "    from = paste0(carpeta_destino, \"/\", tipo, \".csv\"),\n",
        "    to = paste0(carpeta_destino, \"/\", tipo, \"_\", year, \".csv\")\n",
        "  )\n",
        "\n",
        "  # Eliminar el archivo descargado\n",
        "  file.remove(destfile)\n",
        "}"
      ],
      "id": "963b6b0b33057fa9",
      "outputs": [],
      "execution_count": 5
    },
    {
      "metadata": {
        "ExecuteTime": {
          "end_time": "2025-01-20T18:43:44.283474Z",
          "start_time": "2025-01-20T18:41:09.295372Z"
        },
        "id": "476ea29fda94ff90"
      },
      "cell_type": "code",
      "source": [
        "# Iterar sobre los años y procesar cada tipo de archivo\n",
        "for (i in 1:length(years)) {\n",
        "  procesar_archivo(years[i], \"poblacion\", url_basica, segunda_parte, fin1, fin2, \"data\")\n",
        "  procesar_archivo(years[i], \"viviendas\", url_basica, segunda_parte, fin1, fin2, \"data\")\n",
        "  procesar_archivo(years[i], \"trabajos\", url_basica, segunda_parte, fin1, fin2, \"data\")\n",
        "}"
      ],
      "id": "476ea29fda94ff90",
      "outputs": [],
      "execution_count": 6
    },
    {
      "metadata": {
        "id": "7c484c24f002a9ee"
      },
      "cell_type": "markdown",
      "source": [
        "### Función de estimación"
      ],
      "id": "7c484c24f002a9ee"
    },
    {
      "metadata": {
        "ExecuteTime": {
          "end_time": "2025-01-20T22:14:45.438944Z",
          "start_time": "2025-01-20T22:14:45.372303Z"
        },
        "id": "503e9ffc1c7a1475"
      },
      "cell_type": "code",
      "source": [
        "estimacion <- function(path, variable) {\n",
        "  # Cargar los datos de población\n",
        "  datos <- read_csv(path, show_col_types = FALSE)\n",
        "\n",
        "  # Si son datos de 2016 a 2020, unir con la tabla de viviendas\n",
        "  if (substr(path, 16, 19) %in% c(\"2016\", \"2018\", \"2020\")) {\n",
        "    # Cargar tabla viviendas\n",
        "    vivienda <- read_csv(str_replace(path, \"poblacion\", \"viviendas\"), show_col_types = FALSE)\n",
        "\n",
        "    # Pegar factor, upm y est_dis de la tabla vivienda\n",
        "    datos <- datos %>%\n",
        "      left_join(vivienda %>% select(folioviv, factor, upm, est_dis), by = \"folioviv\")\n",
        "  }\n",
        "\n",
        "  # Unir con la tabla trabajos si es \"ocupacion\" o si la persona debe ser identificada como indígena\n",
        "  if (variable %in% c(\"ocupacion\", \"ocupacion_mujer\")) {\n",
        "    # Cargar tabla trabajos\n",
        "    trabajos <- read_csv(str_replace(path, \"poblacion\", \"trabajos\"), show_col_types = FALSE)\n",
        "\n",
        "    # Pegar datos relevantes de la tabla trabajos\n",
        "    datos <- datos %>%\n",
        "      left_join(trabajos %>% select(folioviv, foliohog, numren, id_trabajo, trapais),\n",
        "                by = c(\"folioviv\", \"foliohog\", \"numren\"))\n",
        "  }\n",
        "\n",
        "  # Crear variable cve_ent\n",
        "  datos <- datos %>%\n",
        "    mutate(cve_ent = case_when(\n",
        "      nchar(folioviv) == 9  ~ paste0(\"0\", substr(folioviv, 1, 1)),\n",
        "      nchar(folioviv) == 10 ~ substr(folioviv, 1, 2)\n",
        "    )) %>%\n",
        "    # Filtrar si entidad es CDMX (09)\n",
        "    filter(cve_ent == \"09\")\n",
        "\n",
        "  # Definir diseño muestral\n",
        "  mydesign <- datos %>%\n",
        "    as_survey_design(ids = upm,\n",
        "                     strata = est_dis,\n",
        "                     weights = factor)\n",
        "\n",
        "  # Estimar población hablante indígena en CDMX\n",
        "  if (variable == \"hablante\") {\n",
        "    hablante <- mydesign %>%\n",
        "      group_by(hablaind) %>%\n",
        "      summarise(\n",
        "        poblacion = survey_total(vartype = \"cv\"),\n",
        "        porcentaje = survey_prop(vartype = \"cv\")\n",
        "      ) %>%\n",
        "      mutate(porcentaje = round(porcentaje * 100, 2)) %>%\n",
        "      # Añadir año\n",
        "      mutate(year = substr(path, 16, 19)) %>%\n",
        "      filter(hablaind == 1)\n",
        "\n",
        "    return(hablante)\n",
        "  }\n",
        "\n",
        "    # Estimar población hablante indígena en CDMX\n",
        "  if (variable == \"hablante_indigena\") {\n",
        "    hablante_ind <- mydesign %>%\n",
        "      group_by(etnia,hablaind) %>%\n",
        "      summarise(\n",
        "        poblacion = survey_total(vartype = \"cv\"),\n",
        "        porcentaje = survey_prop(vartype = \"cv\")\n",
        "      ) %>%\n",
        "      mutate(porcentaje = round(porcentaje * 100, 2)) %>%\n",
        "      # Añadir año\n",
        "      mutate(year = substr(path, 16, 19)) %>%\n",
        "      filter(etnia == 1)%>%\n",
        "filter(hablaind == 1)\n",
        "\n",
        "    return(hablante_ind)\n",
        "  }\n",
        "\n",
        "\n",
        "  # Estimar población ocupada, considerando si la persona es indígena\n",
        "  if (variable == \"ocupacion\") {\n",
        "    ocupacion <- mydesign %>%\n",
        "      group_by(trapais,etnia) %>%\n",
        "      summarise(\n",
        "        ocupados = survey_total(vartype = \"cv\"),\n",
        "        porcentaje = survey_prop(vartype = \"cv\")\n",
        "      ) %>%\n",
        "      mutate(porcentaje = round(porcentaje * 100, 2)) %>%\n",
        "      # Añadir año\n",
        "      mutate(year = substr(path, 16, 19)) %>%\n",
        "      filter(trapais == 1)%>%\n",
        "filter(etnia == 1)\n",
        "    return(ocupacion)\n",
        "  }\n",
        "\n",
        "\n",
        "\n",
        "  # Estimar población ocupada, considerando si la persona es indígena\n",
        "  if (variable == \"ocupacion_mujer\") {\n",
        "    ocupacion_muj <- mydesign %>%\n",
        "      filter(trapais==1)%>%\n",
        "      group_by(etnia,sexo) %>%\n",
        "      summarise(\n",
        "        ocupados = survey_total(vartype = \"cv\"),\n",
        "        porcentaje = survey_prop(vartype = \"cv\")\n",
        "      ) %>%\n",
        "      mutate(porcentaje = round(porcentaje * 100, 2)) %>%\n",
        "      # Añadir año\n",
        "      mutate(year = substr(path, 16, 19)) %>%\n",
        "        #Filtro población indígena\n",
        "filter(etnia == 1) %>%\n",
        "  #Filtro mujer\n",
        "filter(sexo==2)\n",
        "    return(ocupacion_muj)\n",
        "  }\n",
        "\n",
        "\n",
        "\n",
        "\n",
        "\n",
        "  # Estimar población analfabeta\n",
        "  if (variable == \"analfabetismo\") {\n",
        "    analfa <- mydesign %>%\n",
        "      group_by(etnia,alfabetism) %>%\n",
        "      summarise(\n",
        "        analfabetas = survey_total(vartype = \"cv\"),\n",
        "        porcentaje = survey_prop(vartype = \"cv\")\n",
        "      ) %>%\n",
        "      mutate(porcentaje = round(porcentaje * 100, 2)) %>%\n",
        "      # Añadir año\n",
        "      mutate(year = substr(path, 16, 19)) %>%\n",
        "filter(etnia == 1)%>%\n",
        "filter(alfabetism == 2)\n",
        "    return(analfa)\n",
        "  }\n",
        "\n",
        "}\n"
      ],
      "id": "503e9ffc1c7a1475",
      "outputs": [],
      "execution_count": 19
    },
    {
      "metadata": {
        "id": "c8d3ddfd2b1149a0"
      },
      "cell_type": "markdown",
      "source": [
        "#### Población hablante indígena en CDMX"
      ],
      "id": "c8d3ddfd2b1149a0"
    },
    {
      "metadata": {
        "ExecuteTime": {
          "end_time": "2025-01-20T18:43:56.501979Z",
          "start_time": "2025-01-20T18:43:44.345846Z"
        },
        "colab": {
          "base_uri": "https://localhost:8080/",
          "height": 888
        },
        "id": "1e7e54449a787b80",
        "outputId": "d69dfd6a-cd3d-4869-d4a5-1197c70640f2"
      },
      "cell_type": "code",
      "source": [
        "tabla_hablante<-map_dfr(\n",
        "  list.files(\"data\", full.names = TRUE, pattern = \"poblacion_.*.csv\"),\n",
        "  estimacion,\n",
        "  variable = \"hablante\"\n",
        ")\n",
        "print(\"Población hablante de lengua indígena en la CDMX\")\n",
        "tabla_hablante"
      ],
      "id": "1e7e54449a787b80",
      "outputs": [
        {
          "output_type": "stream",
          "name": "stderr",
          "text": [
            "Warning message:\n",
            "“\u001b[1m\u001b[22mOne or more parsing issues, call `problems()` on your data frame for details,\n",
            "e.g.:\n",
            "  dat <- vroom(...)\n",
            "  problems(dat)”\n",
            "Warning message:\n",
            "“\u001b[1m\u001b[22mOne or more parsing issues, call `problems()` on your data frame for details,\n",
            "e.g.:\n",
            "  dat <- vroom(...)\n",
            "  problems(dat)”\n",
            "Warning message:\n",
            "“\u001b[1m\u001b[22mOne or more parsing issues, call `problems()` on your data frame for details,\n",
            "e.g.:\n",
            "  dat <- vroom(...)\n",
            "  problems(dat)”\n",
            "Warning message:\n",
            "“\u001b[1m\u001b[22mOne or more parsing issues, call `problems()` on your data frame for details,\n",
            "e.g.:\n",
            "  dat <- vroom(...)\n",
            "  problems(dat)”\n",
            "Warning message:\n",
            "“\u001b[1m\u001b[22mOne or more parsing issues, call `problems()` on your data frame for details,\n",
            "e.g.:\n",
            "  dat <- vroom(...)\n",
            "  problems(dat)”\n",
            "Warning message:\n",
            "“\u001b[1m\u001b[22mOne or more parsing issues, call `problems()` on your data frame for details,\n",
            "e.g.:\n",
            "  dat <- vroom(...)\n",
            "  problems(dat)”\n",
            "Warning message:\n",
            "“\u001b[1m\u001b[22mOne or more parsing issues, call `problems()` on your data frame for details,\n",
            "e.g.:\n",
            "  dat <- vroom(...)\n",
            "  problems(dat)”\n"
          ]
        },
        {
          "output_type": "stream",
          "name": "stdout",
          "text": [
            "[1] \"Población hablante de lengua indígena en la CDMX\"\n"
          ]
        },
        {
          "output_type": "display_data",
          "data": {
            "text/html": [
              "<table class=\"dataframe\">\n",
              "<caption>A tibble: 4 × 6</caption>\n",
              "<thead>\n",
              "\t<tr><th scope=col>hablaind</th><th scope=col>poblacion</th><th scope=col>poblacion_cv</th><th scope=col>porcentaje</th><th scope=col>porcentaje_cv</th><th scope=col>year</th></tr>\n",
              "\t<tr><th scope=col>&lt;dbl&gt;</th><th scope=col>&lt;dbl&gt;</th><th scope=col>&lt;dbl&gt;</th><th scope=col>&lt;dbl&gt;</th><th scope=col>&lt;dbl&gt;</th><th scope=col>&lt;chr&gt;</th></tr>\n",
              "</thead>\n",
              "<tbody>\n",
              "\t<tr><td>1</td><td>129097</td><td>0.1508605</td><td>1.41</td><td>0.1505873</td><td>2016</td></tr>\n",
              "\t<tr><td>1</td><td>127656</td><td>0.2158292</td><td>1.38</td><td>0.2139413</td><td>2018</td></tr>\n",
              "\t<tr><td>1</td><td>154656</td><td>0.1536397</td><td>1.67</td><td>0.1530732</td><td>2020</td></tr>\n",
              "\t<tr><td>1</td><td>134098</td><td>0.1518493</td><td>1.43</td><td>0.1521503</td><td>2022</td></tr>\n",
              "</tbody>\n",
              "</table>\n"
            ],
            "text/markdown": "\nA tibble: 4 × 6\n\n| hablaind &lt;dbl&gt; | poblacion &lt;dbl&gt; | poblacion_cv &lt;dbl&gt; | porcentaje &lt;dbl&gt; | porcentaje_cv &lt;dbl&gt; | year &lt;chr&gt; |\n|---|---|---|---|---|---|\n| 1 | 129097 | 0.1508605 | 1.41 | 0.1505873 | 2016 |\n| 1 | 127656 | 0.2158292 | 1.38 | 0.2139413 | 2018 |\n| 1 | 154656 | 0.1536397 | 1.67 | 0.1530732 | 2020 |\n| 1 | 134098 | 0.1518493 | 1.43 | 0.1521503 | 2022 |\n\n",
            "text/latex": "A tibble: 4 × 6\n\\begin{tabular}{llllll}\n hablaind & poblacion & poblacion\\_cv & porcentaje & porcentaje\\_cv & year\\\\\n <dbl> & <dbl> & <dbl> & <dbl> & <dbl> & <chr>\\\\\n\\hline\n\t 1 & 129097 & 0.1508605 & 1.41 & 0.1505873 & 2016\\\\\n\t 1 & 127656 & 0.2158292 & 1.38 & 0.2139413 & 2018\\\\\n\t 1 & 154656 & 0.1536397 & 1.67 & 0.1530732 & 2020\\\\\n\t 1 & 134098 & 0.1518493 & 1.43 & 0.1521503 & 2022\\\\\n\\end{tabular}\n",
            "text/plain": [
              "  hablaind poblacion poblacion_cv porcentaje porcentaje_cv year\n",
              "1 1        129097    0.1508605    1.41       0.1505873     2016\n",
              "2 1        127656    0.2158292    1.38       0.2139413     2018\n",
              "3 1        154656    0.1536397    1.67       0.1530732     2020\n",
              "4 1        134098    0.1518493    1.43       0.1521503     2022"
            ]
          },
          "metadata": {}
        }
      ],
      "execution_count": 8
    },
    {
      "metadata": {
        "id": "88b5d6243106f43"
      },
      "cell_type": "markdown",
      "source": [
        "#### Población hablante y autodescripción indígena en CDMX"
      ],
      "id": "88b5d6243106f43"
    },
    {
      "metadata": {
        "ExecuteTime": {
          "end_time": "2025-01-20T22:15:01.453151Z",
          "start_time": "2025-01-20T22:14:51.396291Z"
        },
        "colab": {
          "base_uri": "https://localhost:8080/",
          "height": 1000
        },
        "id": "42a59aa815f44e75",
        "outputId": "a71247f9-e1a7-405b-ef38-86253f626c56"
      },
      "cell_type": "code",
      "source": [
        "tabla_hablante_indigena<-map_dfr(\n",
        "  list.files(\"data\", full.names = TRUE, pattern = \"poblacion_.*.csv\"),\n",
        "  estimacion,\n",
        "  variable = \"hablante_indigena\"\n",
        ")\n",
        "print(\"Población según autodescripción y condición de hablante de lengua indígena en la CDMX\")\n",
        "tabla_hablante_indigena"
      ],
      "id": "42a59aa815f44e75",
      "outputs": [
        {
          "output_type": "stream",
          "name": "stderr",
          "text": [
            "Warning message:\n",
            "“\u001b[1m\u001b[22mOne or more parsing issues, call `problems()` on your data frame for details,\n",
            "e.g.:\n",
            "  dat <- vroom(...)\n",
            "  problems(dat)”\n",
            "Warning message:\n",
            "“\u001b[1m\u001b[22mOne or more parsing issues, call `problems()` on your data frame for details,\n",
            "e.g.:\n",
            "  dat <- vroom(...)\n",
            "  problems(dat)”\n",
            "Warning message:\n",
            "“\u001b[1m\u001b[22mThere was 1 warning in `dplyr::summarise()`.\n",
            "\u001b[1m\u001b[22m\u001b[36mℹ\u001b[39m In argument: `porcentaje = survey_prop(vartype = \"cv\")`.\n",
            "\u001b[36mℹ\u001b[39m In group 5: `etnia = \u001b[31mNA\u001b[39m` and `hablaind = \u001b[31mNA\u001b[39m`.\n",
            "Caused by warning:\n",
            "\u001b[33m!\u001b[39m glm.fit: algorithm did not converge”\n",
            "Warning message:\n",
            "“\u001b[1m\u001b[22mOne or more parsing issues, call `problems()` on your data frame for details,\n",
            "e.g.:\n",
            "  dat <- vroom(...)\n",
            "  problems(dat)”\n",
            "Warning message:\n",
            "“\u001b[1m\u001b[22mOne or more parsing issues, call `problems()` on your data frame for details,\n",
            "e.g.:\n",
            "  dat <- vroom(...)\n",
            "  problems(dat)”\n",
            "Warning message:\n",
            "“\u001b[1m\u001b[22mThere was 1 warning in `dplyr::summarise()`.\n",
            "\u001b[1m\u001b[22m\u001b[36mℹ\u001b[39m In argument: `porcentaje = survey_prop(vartype = \"cv\")`.\n",
            "\u001b[36mℹ\u001b[39m In group 5: `etnia = \u001b[31mNA\u001b[39m` and `hablaind = \u001b[31mNA\u001b[39m`.\n",
            "Caused by warning:\n",
            "\u001b[33m!\u001b[39m glm.fit: algorithm did not converge”\n",
            "Warning message:\n",
            "“\u001b[1m\u001b[22mOne or more parsing issues, call `problems()` on your data frame for details,\n",
            "e.g.:\n",
            "  dat <- vroom(...)\n",
            "  problems(dat)”\n",
            "Warning message:\n",
            "“\u001b[1m\u001b[22mOne or more parsing issues, call `problems()` on your data frame for details,\n",
            "e.g.:\n",
            "  dat <- vroom(...)\n",
            "  problems(dat)”\n",
            "Warning message:\n",
            "“\u001b[1m\u001b[22mThere was 1 warning in `dplyr::summarise()`.\n",
            "\u001b[1m\u001b[22m\u001b[36mℹ\u001b[39m In argument: `porcentaje = survey_prop(vartype = \"cv\")`.\n",
            "\u001b[36mℹ\u001b[39m In group 5: `etnia = \u001b[31mNA\u001b[39m` and `hablaind = \u001b[31mNA\u001b[39m`.\n",
            "Caused by warning:\n",
            "\u001b[33m!\u001b[39m glm.fit: algorithm did not converge”\n",
            "Warning message:\n",
            "“\u001b[1m\u001b[22mOne or more parsing issues, call `problems()` on your data frame for details,\n",
            "e.g.:\n",
            "  dat <- vroom(...)\n",
            "  problems(dat)”\n",
            "Warning message:\n",
            "“\u001b[1m\u001b[22mThere was 1 warning in `dplyr::summarise()`.\n",
            "\u001b[1m\u001b[22m\u001b[36mℹ\u001b[39m In argument: `porcentaje = survey_prop(vartype = \"cv\")`.\n",
            "\u001b[36mℹ\u001b[39m In group 5: `etnia = \u001b[31mNA\u001b[39m` and `hablaind = \u001b[31mNA\u001b[39m`.\n",
            "Caused by warning:\n",
            "\u001b[33m!\u001b[39m glm.fit: algorithm did not converge”\n"
          ]
        },
        {
          "output_type": "stream",
          "name": "stdout",
          "text": [
            "[1] \"Población según autodescripción y condición de hablante de lengua indígena en la CDMX\"\n"
          ]
        },
        {
          "output_type": "display_data",
          "data": {
            "text/html": [
              "<table class=\"dataframe\">\n",
              "<caption>A grouped_df: 4 × 7</caption>\n",
              "<thead>\n",
              "\t<tr><th scope=col>etnia</th><th scope=col>hablaind</th><th scope=col>poblacion</th><th scope=col>poblacion_cv</th><th scope=col>porcentaje</th><th scope=col>porcentaje_cv</th><th scope=col>year</th></tr>\n",
              "\t<tr><th scope=col>&lt;dbl&gt;</th><th scope=col>&lt;dbl&gt;</th><th scope=col>&lt;dbl&gt;</th><th scope=col>&lt;dbl&gt;</th><th scope=col>&lt;dbl&gt;</th><th scope=col>&lt;dbl&gt;</th><th scope=col>&lt;chr&gt;</th></tr>\n",
              "</thead>\n",
              "<tbody>\n",
              "\t<tr><td>1</td><td>1</td><td>110147</td><td>0.1701360</td><td> 8.81</td><td>0.1710783</td><td>2016</td></tr>\n",
              "\t<tr><td>1</td><td>1</td><td>107151</td><td>0.2531187</td><td> 7.83</td><td>0.2424770</td><td>2018</td></tr>\n",
              "\t<tr><td>1</td><td>1</td><td>139719</td><td>0.1634319</td><td>10.03</td><td>0.1551507</td><td>2020</td></tr>\n",
              "\t<tr><td>1</td><td>1</td><td>116757</td><td>0.1632034</td><td>10.58</td><td>0.1590305</td><td>2022</td></tr>\n",
              "</tbody>\n",
              "</table>\n"
            ],
            "text/markdown": "\nA grouped_df: 4 × 7\n\n| etnia &lt;dbl&gt; | hablaind &lt;dbl&gt; | poblacion &lt;dbl&gt; | poblacion_cv &lt;dbl&gt; | porcentaje &lt;dbl&gt; | porcentaje_cv &lt;dbl&gt; | year &lt;chr&gt; |\n|---|---|---|---|---|---|---|\n| 1 | 1 | 110147 | 0.1701360 |  8.81 | 0.1710783 | 2016 |\n| 1 | 1 | 107151 | 0.2531187 |  7.83 | 0.2424770 | 2018 |\n| 1 | 1 | 139719 | 0.1634319 | 10.03 | 0.1551507 | 2020 |\n| 1 | 1 | 116757 | 0.1632034 | 10.58 | 0.1590305 | 2022 |\n\n",
            "text/latex": "A grouped\\_df: 4 × 7\n\\begin{tabular}{lllllll}\n etnia & hablaind & poblacion & poblacion\\_cv & porcentaje & porcentaje\\_cv & year\\\\\n <dbl> & <dbl> & <dbl> & <dbl> & <dbl> & <dbl> & <chr>\\\\\n\\hline\n\t 1 & 1 & 110147 & 0.1701360 &  8.81 & 0.1710783 & 2016\\\\\n\t 1 & 1 & 107151 & 0.2531187 &  7.83 & 0.2424770 & 2018\\\\\n\t 1 & 1 & 139719 & 0.1634319 & 10.03 & 0.1551507 & 2020\\\\\n\t 1 & 1 & 116757 & 0.1632034 & 10.58 & 0.1590305 & 2022\\\\\n\\end{tabular}\n",
            "text/plain": [
              "  etnia hablaind poblacion poblacion_cv porcentaje porcentaje_cv year\n",
              "1 1     1        110147    0.1701360     8.81      0.1710783     2016\n",
              "2 1     1        107151    0.2531187     7.83      0.2424770     2018\n",
              "3 1     1        139719    0.1634319    10.03      0.1551507     2020\n",
              "4 1     1        116757    0.1632034    10.58      0.1590305     2022"
            ]
          },
          "metadata": {}
        }
      ],
      "execution_count": 9
    },
    {
      "metadata": {
        "id": "e18cb4236c1ac276"
      },
      "cell_type": "markdown",
      "source": [
        "#### Población ocupada indígena en CDMX"
      ],
      "id": "e18cb4236c1ac276"
    },
    {
      "metadata": {
        "ExecuteTime": {
          "end_time": "2025-01-20T18:44:17.817492Z",
          "start_time": "2025-01-20T18:44:06.246380Z"
        },
        "colab": {
          "base_uri": "https://localhost:8080/",
          "height": 1000
        },
        "id": "a3799d1b1ba09b09",
        "outputId": "2c67e633-5cca-4d6a-fc0c-586d64fe0226"
      },
      "cell_type": "code",
      "source": [
        "tabla_ocupacion<-map_dfr(\n",
        "  list.files(\"data\", full.names = TRUE, pattern = \"poblacion_.*.csv\"),\n",
        "  estimacion,\n",
        "  variable = \"ocupacion\"\n",
        ")\n",
        "print(\"Población que se autodescribe como indígena y que se encuentra ocupada en la CDMX\")\n",
        "tabla_ocupacion"
      ],
      "id": "a3799d1b1ba09b09",
      "outputs": [
        {
          "output_type": "stream",
          "name": "stderr",
          "text": [
            "Warning message:\n",
            "“\u001b[1m\u001b[22mOne or more parsing issues, call `problems()` on your data frame for details,\n",
            "e.g.:\n",
            "  dat <- vroom(...)\n",
            "  problems(dat)”\n",
            "Warning message:\n",
            "“\u001b[1m\u001b[22mOne or more parsing issues, call `problems()` on your data frame for details,\n",
            "e.g.:\n",
            "  dat <- vroom(...)\n",
            "  problems(dat)”\n",
            "Warning message:\n",
            "“\u001b[1m\u001b[22mOne or more parsing issues, call `problems()` on your data frame for details,\n",
            "e.g.:\n",
            "  dat <- vroom(...)\n",
            "  problems(dat)”\n",
            "Warning message:\n",
            "“\u001b[1m\u001b[22mOne or more parsing issues, call `problems()` on your data frame for details,\n",
            "e.g.:\n",
            "  dat <- vroom(...)\n",
            "  problems(dat)”\n",
            "Warning message:\n",
            "“\u001b[1m\u001b[22mOne or more parsing issues, call `problems()` on your data frame for details,\n",
            "e.g.:\n",
            "  dat <- vroom(...)\n",
            "  problems(dat)”\n",
            "Warning message:\n",
            "“\u001b[1m\u001b[22mOne or more parsing issues, call `problems()` on your data frame for details,\n",
            "e.g.:\n",
            "  dat <- vroom(...)\n",
            "  problems(dat)”\n",
            "Warning message:\n",
            "“\u001b[1m\u001b[22mOne or more parsing issues, call `problems()` on your data frame for details,\n",
            "e.g.:\n",
            "  dat <- vroom(...)\n",
            "  problems(dat)”\n",
            "Warning message:\n",
            "“\u001b[1m\u001b[22mOne or more parsing issues, call `problems()` on your data frame for details,\n",
            "e.g.:\n",
            "  dat <- vroom(...)\n",
            "  problems(dat)”\n",
            "Warning message:\n",
            "“\u001b[1m\u001b[22mOne or more parsing issues, call `problems()` on your data frame for details,\n",
            "e.g.:\n",
            "  dat <- vroom(...)\n",
            "  problems(dat)”\n",
            "Warning message:\n",
            "“\u001b[1m\u001b[22mOne or more parsing issues, call `problems()` on your data frame for details,\n",
            "e.g.:\n",
            "  dat <- vroom(...)\n",
            "  problems(dat)”\n",
            "Warning message:\n",
            "“\u001b[1m\u001b[22mOne or more parsing issues, call `problems()` on your data frame for details,\n",
            "e.g.:\n",
            "  dat <- vroom(...)\n",
            "  problems(dat)”\n"
          ]
        },
        {
          "output_type": "stream",
          "name": "stdout",
          "text": [
            "[1] \"Población que se autodescribe como indígena y que se encuentra ocupada en la CDMX\"\n"
          ]
        },
        {
          "output_type": "display_data",
          "data": {
            "text/html": [
              "<table class=\"dataframe\">\n",
              "<caption>A grouped_df: 4 × 7</caption>\n",
              "<thead>\n",
              "\t<tr><th scope=col>trapais</th><th scope=col>etnia</th><th scope=col>ocupados</th><th scope=col>ocupados_cv</th><th scope=col>porcentaje</th><th scope=col>porcentaje_cv</th><th scope=col>year</th></tr>\n",
              "\t<tr><th scope=col>&lt;dbl&gt;</th><th scope=col>&lt;dbl&gt;</th><th scope=col>&lt;dbl&gt;</th><th scope=col>&lt;dbl&gt;</th><th scope=col>&lt;dbl&gt;</th><th scope=col>&lt;dbl&gt;</th><th scope=col>&lt;chr&gt;</th></tr>\n",
              "</thead>\n",
              "<tbody>\n",
              "\t<tr><td>1</td><td>1</td><td>701096</td><td>0.08687768</td><td>15.24</td><td>0.08163274</td><td>2016</td></tr>\n",
              "\t<tr><td>1</td><td>1</td><td>716466</td><td>0.08822712</td><td>15.83</td><td>0.08266348</td><td>2018</td></tr>\n",
              "\t<tr><td>1</td><td>1</td><td>684724</td><td>0.06773705</td><td>16.27</td><td>0.06419507</td><td>2020</td></tr>\n",
              "\t<tr><td>1</td><td>1</td><td>550736</td><td>0.08300888</td><td>11.86</td><td>0.08205935</td><td>2022</td></tr>\n",
              "</tbody>\n",
              "</table>\n"
            ],
            "text/markdown": "\nA grouped_df: 4 × 7\n\n| trapais &lt;dbl&gt; | etnia &lt;dbl&gt; | ocupados &lt;dbl&gt; | ocupados_cv &lt;dbl&gt; | porcentaje &lt;dbl&gt; | porcentaje_cv &lt;dbl&gt; | year &lt;chr&gt; |\n|---|---|---|---|---|---|---|\n| 1 | 1 | 701096 | 0.08687768 | 15.24 | 0.08163274 | 2016 |\n| 1 | 1 | 716466 | 0.08822712 | 15.83 | 0.08266348 | 2018 |\n| 1 | 1 | 684724 | 0.06773705 | 16.27 | 0.06419507 | 2020 |\n| 1 | 1 | 550736 | 0.08300888 | 11.86 | 0.08205935 | 2022 |\n\n",
            "text/latex": "A grouped\\_df: 4 × 7\n\\begin{tabular}{lllllll}\n trapais & etnia & ocupados & ocupados\\_cv & porcentaje & porcentaje\\_cv & year\\\\\n <dbl> & <dbl> & <dbl> & <dbl> & <dbl> & <dbl> & <chr>\\\\\n\\hline\n\t 1 & 1 & 701096 & 0.08687768 & 15.24 & 0.08163274 & 2016\\\\\n\t 1 & 1 & 716466 & 0.08822712 & 15.83 & 0.08266348 & 2018\\\\\n\t 1 & 1 & 684724 & 0.06773705 & 16.27 & 0.06419507 & 2020\\\\\n\t 1 & 1 & 550736 & 0.08300888 & 11.86 & 0.08205935 & 2022\\\\\n\\end{tabular}\n",
            "text/plain": [
              "  trapais etnia ocupados ocupados_cv porcentaje porcentaje_cv year\n",
              "1 1       1     701096   0.08687768  15.24      0.08163274    2016\n",
              "2 1       1     716466   0.08822712  15.83      0.08266348    2018\n",
              "3 1       1     684724   0.06773705  16.27      0.06419507    2020\n",
              "4 1       1     550736   0.08300888  11.86      0.08205935    2022"
            ]
          },
          "metadata": {}
        }
      ],
      "execution_count": 10
    },
    {
      "cell_type": "markdown",
      "source": [
        "####   Población ocupada indígena mujer en CDMX"
      ],
      "metadata": {
        "id": "imG56Nfj6kg5"
      },
      "id": "imG56Nfj6kg5"
    },
    {
      "cell_type": "code",
      "source": [],
      "metadata": {
        "id": "vGgrR3D4BoMs"
      },
      "id": "vGgrR3D4BoMs",
      "execution_count": null,
      "outputs": []
    },
    {
      "cell_type": "code",
      "source": [
        "tabla_ocupacion_mujer<-map_dfr(\n",
        "  list.files(\"data\", full.names = TRUE, pattern = \"poblacion_.*.csv\"),\n",
        "  estimacion,\n",
        "  variable = \"ocupacion_mujer\"\n",
        ")\n",
        "print(\"Población que se autodescribe como indígena que es mujer y que se encuentra ocupada en la CDMX\")\n",
        "tabla_ocupacion_mujer"
      ],
      "metadata": {
        "id": "6OX_cKIc6pIj",
        "outputId": "5b650a2d-9785-4449-887e-dcf32ea6c51b",
        "colab": {
          "base_uri": "https://localhost:8080/",
          "height": 1000
        }
      },
      "id": "6OX_cKIc6pIj",
      "execution_count": 21,
      "outputs": [
        {
          "output_type": "stream",
          "name": "stderr",
          "text": [
            "Warning message:\n",
            "“\u001b[1m\u001b[22mOne or more parsing issues, call `problems()` on your data frame for details,\n",
            "e.g.:\n",
            "  dat <- vroom(...)\n",
            "  problems(dat)”\n",
            "Warning message:\n",
            "“\u001b[1m\u001b[22mOne or more parsing issues, call `problems()` on your data frame for details,\n",
            "e.g.:\n",
            "  dat <- vroom(...)\n",
            "  problems(dat)”\n",
            "Warning message:\n",
            "“\u001b[1m\u001b[22mOne or more parsing issues, call `problems()` on your data frame for details,\n",
            "e.g.:\n",
            "  dat <- vroom(...)\n",
            "  problems(dat)”\n",
            "Warning message:\n",
            "“\u001b[1m\u001b[22mOne or more parsing issues, call `problems()` on your data frame for details,\n",
            "e.g.:\n",
            "  dat <- vroom(...)\n",
            "  problems(dat)”\n",
            "Warning message:\n",
            "“\u001b[1m\u001b[22mOne or more parsing issues, call `problems()` on your data frame for details,\n",
            "e.g.:\n",
            "  dat <- vroom(...)\n",
            "  problems(dat)”\n",
            "Warning message:\n",
            "“\u001b[1m\u001b[22mOne or more parsing issues, call `problems()` on your data frame for details,\n",
            "e.g.:\n",
            "  dat <- vroom(...)\n",
            "  problems(dat)”\n",
            "Warning message:\n",
            "“\u001b[1m\u001b[22mOne or more parsing issues, call `problems()` on your data frame for details,\n",
            "e.g.:\n",
            "  dat <- vroom(...)\n",
            "  problems(dat)”\n",
            "Warning message:\n",
            "“\u001b[1m\u001b[22mOne or more parsing issues, call `problems()` on your data frame for details,\n",
            "e.g.:\n",
            "  dat <- vroom(...)\n",
            "  problems(dat)”\n",
            "Warning message:\n",
            "“\u001b[1m\u001b[22mOne or more parsing issues, call `problems()` on your data frame for details,\n",
            "e.g.:\n",
            "  dat <- vroom(...)\n",
            "  problems(dat)”\n",
            "Warning message:\n",
            "“\u001b[1m\u001b[22mOne or more parsing issues, call `problems()` on your data frame for details,\n",
            "e.g.:\n",
            "  dat <- vroom(...)\n",
            "  problems(dat)”\n",
            "Warning message:\n",
            "“\u001b[1m\u001b[22mOne or more parsing issues, call `problems()` on your data frame for details,\n",
            "e.g.:\n",
            "  dat <- vroom(...)\n",
            "  problems(dat)”\n"
          ]
        },
        {
          "output_type": "stream",
          "name": "stdout",
          "text": [
            "[1] \"Población que se autodescribe como indígena que es mujer y que se encuentra ocupada en la CDMX\"\n"
          ]
        },
        {
          "output_type": "display_data",
          "data": {
            "text/html": [
              "<table class=\"dataframe\">\n",
              "<caption>A grouped_df: 4 × 7</caption>\n",
              "<thead>\n",
              "\t<tr><th scope=col>etnia</th><th scope=col>sexo</th><th scope=col>ocupados</th><th scope=col>ocupados_cv</th><th scope=col>porcentaje</th><th scope=col>porcentaje_cv</th><th scope=col>year</th></tr>\n",
              "\t<tr><th scope=col>&lt;dbl&gt;</th><th scope=col>&lt;dbl&gt;</th><th scope=col>&lt;dbl&gt;</th><th scope=col>&lt;dbl&gt;</th><th scope=col>&lt;dbl&gt;</th><th scope=col>&lt;dbl&gt;</th><th scope=col>&lt;chr&gt;</th></tr>\n",
              "</thead>\n",
              "<tbody>\n",
              "\t<tr><td>1</td><td>2</td><td>308308</td><td>0.10074117</td><td>43.98</td><td>0.04794138</td><td>2016</td></tr>\n",
              "\t<tr><td>1</td><td>2</td><td>321598</td><td>0.10590241</td><td>44.89</td><td>0.04630140</td><td>2018</td></tr>\n",
              "\t<tr><td>1</td><td>2</td><td>311122</td><td>0.07667507</td><td>45.44</td><td>0.04340553</td><td>2020</td></tr>\n",
              "\t<tr><td>1</td><td>2</td><td>229755</td><td>0.09928867</td><td>41.72</td><td>0.05397506</td><td>2022</td></tr>\n",
              "</tbody>\n",
              "</table>\n"
            ],
            "text/markdown": "\nA grouped_df: 4 × 7\n\n| etnia &lt;dbl&gt; | sexo &lt;dbl&gt; | ocupados &lt;dbl&gt; | ocupados_cv &lt;dbl&gt; | porcentaje &lt;dbl&gt; | porcentaje_cv &lt;dbl&gt; | year &lt;chr&gt; |\n|---|---|---|---|---|---|---|\n| 1 | 2 | 308308 | 0.10074117 | 43.98 | 0.04794138 | 2016 |\n| 1 | 2 | 321598 | 0.10590241 | 44.89 | 0.04630140 | 2018 |\n| 1 | 2 | 311122 | 0.07667507 | 45.44 | 0.04340553 | 2020 |\n| 1 | 2 | 229755 | 0.09928867 | 41.72 | 0.05397506 | 2022 |\n\n",
            "text/latex": "A grouped\\_df: 4 × 7\n\\begin{tabular}{lllllll}\n etnia & sexo & ocupados & ocupados\\_cv & porcentaje & porcentaje\\_cv & year\\\\\n <dbl> & <dbl> & <dbl> & <dbl> & <dbl> & <dbl> & <chr>\\\\\n\\hline\n\t 1 & 2 & 308308 & 0.10074117 & 43.98 & 0.04794138 & 2016\\\\\n\t 1 & 2 & 321598 & 0.10590241 & 44.89 & 0.04630140 & 2018\\\\\n\t 1 & 2 & 311122 & 0.07667507 & 45.44 & 0.04340553 & 2020\\\\\n\t 1 & 2 & 229755 & 0.09928867 & 41.72 & 0.05397506 & 2022\\\\\n\\end{tabular}\n",
            "text/plain": [
              "  etnia sexo ocupados ocupados_cv porcentaje porcentaje_cv year\n",
              "1 1     2    308308   0.10074117  43.98      0.04794138    2016\n",
              "2 1     2    321598   0.10590241  44.89      0.04630140    2018\n",
              "3 1     2    311122   0.07667507  45.44      0.04340553    2020\n",
              "4 1     2    229755   0.09928867  41.72      0.05397506    2022"
            ]
          },
          "metadata": {}
        }
      ]
    },
    {
      "metadata": {
        "id": "5a068385b6560222"
      },
      "cell_type": "markdown",
      "source": [
        "####   Población analfabeta indígena en CDMX"
      ],
      "id": "5a068385b6560222"
    },
    {
      "metadata": {
        "ExecuteTime": {
          "end_time": "2025-01-20T18:49:08.236064Z",
          "start_time": "2025-01-20T18:48:59.765805Z"
        },
        "id": "dd183848dfbe302f"
      },
      "cell_type": "code",
      "source": [
        "tabla_analfabetismo<-map_dfr(\n",
        "  list.files(\"data\", full.names = TRUE, pattern = \"poblacion_.*.csv\"),\n",
        "  estimacion,\n",
        "  variable = \"analfabetismo\"\n",
        ")\n",
        "print(\"Población que se autodescribe como indígena y que es analfabeta en la CDMX\")\n",
        "\n",
        "tabla_analfabetismo"
      ],
      "id": "dd183848dfbe302f",
      "outputs": [],
      "execution_count": null
    },
    {
      "cell_type": "markdown",
      "source": [
        "### Calcular porcentaje de población indígena que se encuentra en situación de pobreza\n",
        "\n",
        "\n",
        "Para esto, se utilizan las bases generadas por Evalúa CDMX. Es importante señalar que, por practicidad, se trabaja con el producto terminado, no obstante, se buscará en próximas fechas replicar dicha metodología utilizando R ya que actualmente, el programa de cálculo se encuentra en STATA."
      ],
      "metadata": {
        "id": "NdsVF-xkq7EQ"
      },
      "id": "NdsVF-xkq7EQ"
    },
    {
      "cell_type": "code",
      "source": [
        "  #Conectar a google drive\n",
        "drive_auth(email = \"claudiodanielpc@gmail.com\",cache = FALSE)"
      ],
      "metadata": {
        "id": "3dWJ6IYjrV62"
      },
      "id": "3dWJ6IYjrV62",
      "execution_count": null,
      "outputs": []
    },
    {
      "cell_type": "code",
      "source": [
        "carpeta<-as_id(drive_get(\"https://drive.google.com/drive/folders/1TBfoik4w4DWhwFqWeZFgkZvrBdDbqzku\"))\n",
        "\n",
        "\n",
        "archivos<-drive_ls(carpeta)\n",
        "print(archivos)"
      ],
      "metadata": {
        "id": "3I6nozkErvWO"
      },
      "id": "3I6nozkErvWO",
      "execution_count": null,
      "outputs": []
    },
    {
      "cell_type": "code",
      "source": [
        "archivos[1]"
      ],
      "metadata": {
        "id": "OG-4iMTgsF8S"
      },
      "id": "OG-4iMTgsF8S",
      "execution_count": null,
      "outputs": []
    },
    {
      "cell_type": "code",
      "source": [
        "estimacion_pobreza <- function(file_id, file_name) {\n",
        "  # Descarga de datos\n",
        "  local_path <- file.path(\"data\", file_name)\n",
        "  drive_download(as_id(file_id), path = local_path, overwrite = TRUE)\n",
        "\n",
        "  # Leer datos\n",
        "  datos <- read_dta(local_path)\n",
        "\n",
        "  # Añadir año\n",
        "  year <- str_extract(file_name, \"\\\\d{4}\")\n",
        "\n",
        "\n",
        "  # Diseño muestral\n",
        "  mydesign <- datos %>%\n",
        "    as_survey_design(ids = upm,\n",
        "                     strata = est_dis,\n",
        "                     weights = factor)\n",
        "\n",
        "  # Estima pobreza\n",
        "  pobreza <- mydesign %>%\n",
        "    #Filtrar datos para CDMX\n",
        "  filter(entidad==9)%>%\n",
        "    #Filtar grupo de población en pobreza\n",
        "    filter(pobreza_mmip == 1) %>%\n",
        "    group_by(etnia)%>%\n",
        "    summarise(\n",
        "      poblacion = survey_total(vartype = \"cv\"),\n",
        "      porcentaje = survey_prop(vartype = \"cv\")\n",
        "    ) %>%\n",
        "    mutate(porcentaje = round(porcentaje * 100, 2),\n",
        "           year = as.numeric(year))%>%\n",
        "             #Filtro de población indígena\n",
        "             filter(etnia==1)\n",
        "\n",
        "  return(pobreza)\n",
        "}\n"
      ],
      "metadata": {
        "id": "sFs1TwLFxKyz"
      },
      "id": "sFs1TwLFxKyz",
      "execution_count": null,
      "outputs": []
    },
    {
      "cell_type": "code",
      "source": [
        "tabla_pobreza <- map_dfr(\n",
        "  seq_len(nrow(archivos)),\n",
        "  ~ estimacion_pobreza(archivos$id[.x], archivos$name[.x])\n",
        ")%>%\n",
        "  arrange(year)\n",
        "\n",
        "print(\"Estimación de población indígena en situación de pobreza en la CDMX\")\n",
        "tabla_pobreza"
      ],
      "metadata": {
        "id": "PYgGuYNRxNjA"
      },
      "id": "PYgGuYNRxNjA",
      "execution_count": null,
      "outputs": []
    }
  ],
  "metadata": {
    "kernelspec": {
      "display_name": "R",
      "language": "R",
      "name": "ir"
    },
    "language_info": {
      "codemirror_mode": {
        "name": "ipython",
        "version": 2
      },
      "file_extension": ".py",
      "mimetype": "text/x-python",
      "name": "python",
      "nbconvert_exporter": "python",
      "pygments_lexer": "ipython2",
      "version": "2.7.6"
    },
    "colab": {
      "provenance": []
    }
  },
  "nbformat": 4,
  "nbformat_minor": 5
}