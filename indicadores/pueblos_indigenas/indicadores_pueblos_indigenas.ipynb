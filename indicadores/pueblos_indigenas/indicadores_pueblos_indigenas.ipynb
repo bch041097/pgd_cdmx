{
 "cells": [
  {
   "cell_type": "markdown",
   "metadata": {
    "id": "view-in-github",
    "colab_type": "text"
   },
   "source": [
    "<a href=\"https://colab.research.google.com/github/cpyp-ipdp/pgd_cdmx/blob/main/indicadores/pueblos_indigenas/indicadores_pueblos_indigenas.ipynb\" target=\"_parent\"><img src=\"https://colab.research.google.com/assets/colab-badge.svg\" alt=\"Open In Colab\"/></a>"
   ],
   "id": "ded44c3f12982920"
  },
  {
   "cell_type": "code",
   "id": "initial_id",
   "metadata": {
    "collapsed": true,
    "id": "initial_id",
    "outputId": "38708c8b-c329-40e4-d124-5dac1a205ea5",
    "colab": {
     "base_uri": "https://localhost:8080/"
    },
    "ExecuteTime": {
     "end_time": "2025-02-06T00:34:40.948667Z",
     "start_time": "2025-02-06T00:34:35.603163Z"
    }
   },
   "source": [
    "##Estimación de indicadores de población indígena en la Ciudad de México\n",
    "#Se borra todo lo que se encuentra en el entorno\n",
    "\n",
    "rm(list=ls())\n",
    "\n",
    "# Librerías ====\n",
    "if(!require('pacman')) install.packages('pacman')\n",
    "pacman::p_load(tidyverse, showtext, srvyr, haven, googledrive)"
   ],
   "outputs": [
    {
     "name": "stderr",
     "output_type": "stream",
     "text": [
      "Loading required package: pacman\n",
      "\n"
     ]
    }
   ],
   "execution_count": 1
  },
  {
   "metadata": {
    "id": "2c1e57f58d2e1b46",
    "ExecuteTime": {
     "end_time": "2025-02-06T00:34:40.993299Z",
     "start_time": "2025-02-06T00:34:40.957426Z"
    }
   },
   "cell_type": "code",
   "source": [
    "#Crear directorio para guardar los archivos\n",
    "dir.create(\"data\", showWarnings = FALSE)"
   ],
   "id": "2c1e57f58d2e1b46",
   "outputs": [],
   "execution_count": 2
  },
  {
   "metadata": {
    "id": "99a663be0841e1d",
    "ExecuteTime": {
     "end_time": "2025-02-06T00:34:41.034430Z",
     "start_time": "2025-02-06T00:34:41.013684Z"
    }
   },
   "cell_type": "code",
   "source": [
    "url_basica<-\"https://www.inegi.org.mx/contenidos/programas/enigh/nc/\"\n",
    "segunda_parte<-\"microdatos/enigh\"\n",
    "fin1<-\"_ns_\"\n",
    "fin2<-\"_csv.zip\""
   ],
   "id": "99a663be0841e1d",
   "outputs": [],
   "execution_count": 3
  },
  {
   "metadata": {
    "id": "321dc0cb33aa35e0",
    "ExecuteTime": {
     "end_time": "2025-02-06T00:34:41.106669Z",
     "start_time": "2025-02-06T00:34:41.090718Z"
    }
   },
   "cell_type": "code",
   "source": [
    "years<-c(\"2016\", \"2018\", \"2020\", \"2022\")"
   ],
   "id": "321dc0cb33aa35e0",
   "outputs": [],
   "execution_count": 4
  },
  {
   "metadata": {
    "id": "963b6b0b33057fa9",
    "ExecuteTime": {
     "end_time": "2025-02-06T00:34:41.142458Z",
     "start_time": "2025-02-06T00:34:41.126161Z"
    }
   },
   "cell_type": "code",
   "source": [
    "# Función genérica para descargar, descomprimir, renombrar y eliminar\n",
    "procesar_archivo <- function(year, tipo, url_base, segunda_parte, fin1, fin2, carpeta_destino) {\n",
    "  # Construir URL y ruta de destino\n",
    "  url <- paste0(url_base, year, \"/\", segunda_parte, year, fin1, tipo, fin2)\n",
    "  destfile <- paste0(carpeta_destino, \"/\", year, fin1, tipo, fin2)\n",
    "\n",
    "  # Descargar el archivo\n",
    "  download.file(url, destfile = destfile)\n",
    "\n",
    "  # Descomprimir el archivo\n",
    "  unzip(destfile, exdir = carpeta_destino)\n",
    "\n",
    "  # Renombrar el archivo descomprimido\n",
    "  file.rename(\n",
    "    from = paste0(carpeta_destino, \"/\", tipo, \".csv\"),\n",
    "    to = paste0(carpeta_destino, \"/\", tipo, \"_\", year, \".csv\")\n",
    "  )\n",
    "\n",
    "  # Eliminar el archivo descargado\n",
    "  file.remove(destfile)\n",
    "}"
   ],
   "id": "963b6b0b33057fa9",
   "outputs": [],
   "execution_count": 5
  },
  {
   "metadata": {
    "id": "476ea29fda94ff90",
    "ExecuteTime": {
     "end_time": "2025-02-06T00:35:07.474262Z",
     "start_time": "2025-02-06T00:34:41.160676Z"
    }
   },
   "cell_type": "code",
   "source": [
    "# Iterar sobre los años y procesar cada tipo de archivo\n",
    "for (i in 1:length(years)) {\n",
    "  procesar_archivo(years[i], \"poblacion\", url_basica, segunda_parte, fin1, fin2, \"data\")\n",
    "  procesar_archivo(years[i], \"viviendas\", url_basica, segunda_parte, fin1, fin2, \"data\")\n",
    "  procesar_archivo(years[i], \"trabajos\", url_basica, segunda_parte, fin1, fin2, \"data\")\n",
    "}"
   ],
   "id": "476ea29fda94ff90",
   "outputs": [],
   "execution_count": 6
  },
  {
   "metadata": {
    "id": "7c484c24f002a9ee"
   },
   "cell_type": "markdown",
   "source": [
    "### Función de estimación"
   ],
   "id": "7c484c24f002a9ee"
  },
  {
   "metadata": {
    "id": "503e9ffc1c7a1475",
    "ExecuteTime": {
     "end_time": "2025-02-06T00:35:07.497632Z",
     "start_time": "2025-02-06T00:35:07.486922Z"
    }
   },
   "cell_type": "code",
   "source": [
    "estimacion <- function(path, variable) {\n",
    "  # Cargar los datos de población\n",
    "  datos <- read_csv(path, show_col_types = FALSE)\n",
    "\n",
    "  # Si son datos de 2016 a 2020, unir con la tabla de viviendas\n",
    "  if (substr(path, 16, 19) %in% c(\"2016\", \"2018\", \"2020\")) {\n",
    "    # Cargar tabla viviendas\n",
    "    vivienda <- read_csv(str_replace(path, \"poblacion\", \"viviendas\"), show_col_types = FALSE)\n",
    "\n",
    "    # Pegar factor, upm y est_dis de la tabla vivienda\n",
    "    datos <- datos %>%\n",
    "      left_join(vivienda %>% select(folioviv, factor, upm, est_dis), by = \"folioviv\")\n",
    "  }\n",
    "\n",
    "  # Unir con la tabla trabajos si es \"ocupacion\" o si la persona debe ser identificada como indígena\n",
    "  if (variable %in% c(\"ocupacion\", \"ocupacion_mujer\")) {\n",
    "    # Cargar tabla trabajos\n",
    "    trabajos <- read_csv(str_replace(path, \"poblacion\", \"trabajos\"), show_col_types = FALSE)\n",
    "\n",
    "    # Pegar datos relevantes de la tabla trabajos\n",
    "    datos <- datos %>%\n",
    "      left_join(trabajos %>% select(folioviv, foliohog, numren, id_trabajo, trapais),\n",
    "                by = c(\"folioviv\", \"foliohog\", \"numren\"))\n",
    "  }\n",
    "\n",
    "  # Crear variable cve_ent\n",
    "  datos <- datos %>%\n",
    "    mutate(cve_ent = case_when(\n",
    "      nchar(folioviv) == 9  ~ paste0(\"0\", substr(folioviv, 1, 1)),\n",
    "      nchar(folioviv) == 10 ~ substr(folioviv, 1, 2)\n",
    "    )) %>%\n",
    "    # Filtrar si entidad es CDMX (09)\n",
    "    filter(cve_ent == \"09\")\n",
    "\n",
    "  # Definir diseño muestral\n",
    "  mydesign <- datos %>%\n",
    "    as_survey_design(ids = upm,\n",
    "                     strata = est_dis,\n",
    "                     weights = factor)\n",
    "\n",
    "  # Estimar población hablante indígena en CDMX\n",
    "  if (variable == \"hablante\") {\n",
    "    hablante <- mydesign %>%\n",
    "      group_by(hablaind) %>%\n",
    "      summarise(\n",
    "        poblacion = survey_total(vartype = \"cv\"),\n",
    "        porcentaje = survey_prop(vartype = \"cv\")\n",
    "      ) %>%\n",
    "      mutate(porcentaje = round(porcentaje * 100, 2)) %>%\n",
    "      # Añadir año\n",
    "      mutate(year = substr(path, 16, 19)) %>%\n",
    "      filter(hablaind == 1)\n",
    "\n",
    "    return(hablante)\n",
    "  }\n",
    "\n",
    "    # Estimar población hablante indígena en CDMX\n",
    "  if (variable == \"indigena\") {\n",
    "    indigena <- mydesign %>%\n",
    "      group_by(etnia) %>%\n",
    "      summarise(\n",
    "        poblacion = survey_total(vartype = \"cv\"),\n",
    "        porcentaje = survey_prop(vartype = \"cv\")\n",
    "      ) %>%\n",
    "      mutate(porcentaje = round(porcentaje * 100, 2)) %>%\n",
    "      # Añadir año\n",
    "      mutate(year = substr(path, 16, 19)) %>%\n",
    "      filter(etnia == 1)\n",
    "\n",
    "    return(indigena)\n",
    "  }\n",
    "\n",
    "\n",
    "  # Estimar población ocupada, considerando si la persona es indígena\n",
    "  if (variable == \"ocupacion\") {\n",
    "    ocupacion <- mydesign %>%\n",
    "      group_by(trapais,etnia) %>%\n",
    "      summarise(\n",
    "        ocupados = survey_total(vartype = \"cv\"),\n",
    "        porcentaje = survey_prop(vartype = \"cv\")\n",
    "      ) %>%\n",
    "      mutate(porcentaje = round(porcentaje * 100, 2)) %>%\n",
    "      # Añadir año\n",
    "      mutate(year = substr(path, 16, 19)) %>%\n",
    "      filter(trapais == 1)%>%\n",
    "filter(etnia == 1)\n",
    "    return(ocupacion)\n",
    "  }\n",
    "\n",
    "\n",
    "\n",
    "  # Estimar población ocupada, considerando si la persona es indígena\n",
    "  if (variable == \"ocupacion_mujer\") {\n",
    "    ocupacion_muj <- mydesign %>%\n",
    "      filter(trapais==1)%>%\n",
    "      group_by(etnia,sexo) %>%\n",
    "      summarise(\n",
    "        ocupados = survey_total(vartype = \"cv\"),\n",
    "        porcentaje = survey_prop(vartype = \"cv\")\n",
    "      ) %>%\n",
    "      mutate(porcentaje = round(porcentaje * 100, 2)) %>%\n",
    "      # Añadir año\n",
    "      mutate(year = substr(path, 16, 19)) %>%\n",
    "        #Filtro población indígena\n",
    "filter(etnia == 1) %>%\n",
    "  #Filtro mujer\n",
    "filter(sexo==2)\n",
    "    return(ocupacion_muj)\n",
    "  }\n",
    "\n",
    "\n",
    "\n",
    "\n",
    "\n",
    "  # Estimar población analfabeta\n",
    "  if (variable == \"analfabetismo\") {\n",
    "    analfa <- mydesign %>%\n",
    "      group_by(etnia,alfabetism) %>%\n",
    "      summarise(\n",
    "        analfabetas = survey_total(vartype = \"cv\"),\n",
    "        porcentaje = survey_prop(vartype = \"cv\")\n",
    "      ) %>%\n",
    "      mutate(porcentaje = round(porcentaje * 100, 2)) %>%\n",
    "      # Añadir año\n",
    "      mutate(year = substr(path, 16, 19)) %>%\n",
    "filter(etnia == 1)%>%\n",
    "filter(alfabetism == 2)\n",
    "    return(analfa)\n",
    "  }\n",
    "\n",
    "}\n"
   ],
   "id": "503e9ffc1c7a1475",
   "outputs": [],
   "execution_count": 7
  },
  {
   "metadata": {
    "id": "c8d3ddfd2b1149a0"
   },
   "cell_type": "markdown",
   "source": [
    "#### Población hablante indígena en CDMX"
   ],
   "id": "c8d3ddfd2b1149a0"
  },
  {
   "metadata": {
    "colab": {
     "base_uri": "https://localhost:8080/",
     "height": 888
    },
    "id": "1e7e54449a787b80",
    "outputId": "07bb7dae-e0bb-4630-8b7b-dc125fa648a9",
    "ExecuteTime": {
     "end_time": "2025-02-06T00:35:19.146975Z",
     "start_time": "2025-02-06T00:35:07.512514Z"
    }
   },
   "cell_type": "code",
   "source": [
    "tabla_hablante<-map_dfr(\n",
    "  list.files(\"data\", full.names = TRUE, pattern = \"poblacion_.*.csv\"),\n",
    "  estimacion,\n",
    "  variable = \"hablante\"\n",
    ")\n",
    "print(\"Población hablante de lengua indígena en la CDMX\")\n",
    "tabla_hablante"
   ],
   "id": "1e7e54449a787b80",
   "outputs": [
    {
     "name": "stderr",
     "output_type": "stream",
     "text": [
      "Warning message:\n",
      "\"\u001B[1m\u001B[22mOne or more parsing issues, call `problems()` on your data frame for details,\n",
      "e.g.:\n",
      "  dat <- vroom(...)\n",
      "  problems(dat)\"\n",
      "Warning message:\n",
      "\"\u001B[1m\u001B[22mOne or more parsing issues, call `problems()` on your data frame for details,\n",
      "e.g.:\n",
      "  dat <- vroom(...)\n",
      "  problems(dat)\"\n",
      "Warning message:\n",
      "\"\u001B[1m\u001B[22mOne or more parsing issues, call `problems()` on your data frame for details,\n",
      "e.g.:\n",
      "  dat <- vroom(...)\n",
      "  problems(dat)\"\n",
      "Warning message:\n",
      "\"\u001B[1m\u001B[22mOne or more parsing issues, call `problems()` on your data frame for details,\n",
      "e.g.:\n",
      "  dat <- vroom(...)\n",
      "  problems(dat)\"\n",
      "Warning message:\n",
      "\"\u001B[1m\u001B[22mOne or more parsing issues, call `problems()` on your data frame for details,\n",
      "e.g.:\n",
      "  dat <- vroom(...)\n",
      "  problems(dat)\"\n",
      "Warning message:\n",
      "\"\u001B[1m\u001B[22mOne or more parsing issues, call `problems()` on your data frame for details,\n",
      "e.g.:\n",
      "  dat <- vroom(...)\n",
      "  problems(dat)\"\n",
      "Warning message:\n",
      "\"\u001B[1m\u001B[22mOne or more parsing issues, call `problems()` on your data frame for details,\n",
      "e.g.:\n",
      "  dat <- vroom(...)\n",
      "  problems(dat)\"\n"
     ]
    },
    {
     "name": "stdout",
     "output_type": "stream",
     "text": [
      "[1] \"Población hablante de lengua indígena en la CDMX\"\n"
     ]
    },
    {
     "data": {
      "text/html": [
       "<table class=\"dataframe\">\n",
       "<caption>A tibble: 4 × 6</caption>\n",
       "<thead>\n",
       "\t<tr><th scope=col>hablaind</th><th scope=col>poblacion</th><th scope=col>poblacion_cv</th><th scope=col>porcentaje</th><th scope=col>porcentaje_cv</th><th scope=col>year</th></tr>\n",
       "\t<tr><th scope=col>&lt;dbl&gt;</th><th scope=col>&lt;dbl&gt;</th><th scope=col>&lt;dbl&gt;</th><th scope=col>&lt;dbl&gt;</th><th scope=col>&lt;dbl&gt;</th><th scope=col>&lt;chr&gt;</th></tr>\n",
       "</thead>\n",
       "<tbody>\n",
       "\t<tr><td>1</td><td>129097</td><td>0.1508605</td><td>1.41</td><td>0.1505873</td><td>2016</td></tr>\n",
       "\t<tr><td>1</td><td>127656</td><td>0.2158292</td><td>1.38</td><td>0.2139413</td><td>2018</td></tr>\n",
       "\t<tr><td>1</td><td>154656</td><td>0.1536397</td><td>1.67</td><td>0.1530732</td><td>2020</td></tr>\n",
       "\t<tr><td>1</td><td>134098</td><td>0.1518493</td><td>1.43</td><td>0.1521503</td><td>2022</td></tr>\n",
       "</tbody>\n",
       "</table>\n"
      ],
      "text/markdown": "\nA tibble: 4 × 6\n\n| hablaind &lt;dbl&gt; | poblacion &lt;dbl&gt; | poblacion_cv &lt;dbl&gt; | porcentaje &lt;dbl&gt; | porcentaje_cv &lt;dbl&gt; | year &lt;chr&gt; |\n|---|---|---|---|---|---|\n| 1 | 129097 | 0.1508605 | 1.41 | 0.1505873 | 2016 |\n| 1 | 127656 | 0.2158292 | 1.38 | 0.2139413 | 2018 |\n| 1 | 154656 | 0.1536397 | 1.67 | 0.1530732 | 2020 |\n| 1 | 134098 | 0.1518493 | 1.43 | 0.1521503 | 2022 |\n\n",
      "text/latex": "A tibble: 4 × 6\n\\begin{tabular}{llllll}\n hablaind & poblacion & poblacion\\_cv & porcentaje & porcentaje\\_cv & year\\\\\n <dbl> & <dbl> & <dbl> & <dbl> & <dbl> & <chr>\\\\\n\\hline\n\t 1 & 129097 & 0.1508605 & 1.41 & 0.1505873 & 2016\\\\\n\t 1 & 127656 & 0.2158292 & 1.38 & 0.2139413 & 2018\\\\\n\t 1 & 154656 & 0.1536397 & 1.67 & 0.1530732 & 2020\\\\\n\t 1 & 134098 & 0.1518493 & 1.43 & 0.1521503 & 2022\\\\\n\\end{tabular}\n",
      "text/plain": [
       "  hablaind poblacion poblacion_cv porcentaje porcentaje_cv year\n",
       "1 1        129097    0.1508605    1.41       0.1505873     2016\n",
       "2 1        127656    0.2158292    1.38       0.2139413     2018\n",
       "3 1        154656    0.1536397    1.67       0.1530732     2020\n",
       "4 1        134098    0.1518493    1.43       0.1521503     2022"
      ]
     },
     "metadata": {},
     "output_type": "display_data"
    }
   ],
   "execution_count": 8
  },
  {
   "metadata": {
    "id": "88b5d6243106f43"
   },
   "cell_type": "markdown",
   "source": [
    "#### Población autodescripción indígena en CDMX"
   ],
   "id": "88b5d6243106f43"
  },
  {
   "metadata": {
    "colab": {
     "base_uri": "https://localhost:8080/",
     "height": 1000
    },
    "id": "42a59aa815f44e75",
    "outputId": "8c5105e1-45cf-44a6-b802-cc009f6d99a6",
    "ExecuteTime": {
     "end_time": "2025-02-06T00:35:28.990472Z",
     "start_time": "2025-02-06T00:35:19.165384Z"
    }
   },
   "cell_type": "code",
   "source": [
    "tabla_indigena<-map_dfr(\n",
    "  list.files(\"data\", full.names = TRUE, pattern = \"poblacion_.*.csv\"),\n",
    "  estimacion,\n",
    "  variable = \"indigena\"\n",
    ")\n",
    "print(\"Porcentaje de población que se autodescribe como indígena en la CDMX\")\n",
    "tabla_indigena"
   ],
   "id": "42a59aa815f44e75",
   "outputs": [
    {
     "name": "stderr",
     "output_type": "stream",
     "text": [
      "Warning message:\n",
      "\"\u001B[1m\u001B[22mOne or more parsing issues, call `problems()` on your data frame for details,\n",
      "e.g.:\n",
      "  dat <- vroom(...)\n",
      "  problems(dat)\"\n",
      "Warning message:\n",
      "\"\u001B[1m\u001B[22mOne or more parsing issues, call `problems()` on your data frame for details,\n",
      "e.g.:\n",
      "  dat <- vroom(...)\n",
      "  problems(dat)\"\n",
      "Warning message:\n",
      "\"\u001B[1m\u001B[22mOne or more parsing issues, call `problems()` on your data frame for details,\n",
      "e.g.:\n",
      "  dat <- vroom(...)\n",
      "  problems(dat)\"\n",
      "Warning message:\n",
      "\"\u001B[1m\u001B[22mOne or more parsing issues, call `problems()` on your data frame for details,\n",
      "e.g.:\n",
      "  dat <- vroom(...)\n",
      "  problems(dat)\"\n",
      "Warning message:\n",
      "\"\u001B[1m\u001B[22mOne or more parsing issues, call `problems()` on your data frame for details,\n",
      "e.g.:\n",
      "  dat <- vroom(...)\n",
      "  problems(dat)\"\n",
      "Warning message:\n",
      "\"\u001B[1m\u001B[22mOne or more parsing issues, call `problems()` on your data frame for details,\n",
      "e.g.:\n",
      "  dat <- vroom(...)\n",
      "  problems(dat)\"\n",
      "Warning message:\n",
      "\"\u001B[1m\u001B[22mOne or more parsing issues, call `problems()` on your data frame for details,\n",
      "e.g.:\n",
      "  dat <- vroom(...)\n",
      "  problems(dat)\"\n"
     ]
    },
    {
     "name": "stdout",
     "output_type": "stream",
     "text": [
      "[1] \"Porcentaje de población que se autodescribe como indígena en la CDMX\"\n"
     ]
    },
    {
     "data": {
      "text/html": [
       "<table class=\"dataframe\">\n",
       "<caption>A tibble: 4 × 6</caption>\n",
       "<thead>\n",
       "\t<tr><th scope=col>etnia</th><th scope=col>poblacion</th><th scope=col>poblacion_cv</th><th scope=col>porcentaje</th><th scope=col>porcentaje_cv</th><th scope=col>year</th></tr>\n",
       "\t<tr><th scope=col>&lt;dbl&gt;</th><th scope=col>&lt;dbl&gt;</th><th scope=col>&lt;dbl&gt;</th><th scope=col>&lt;dbl&gt;</th><th scope=col>&lt;dbl&gt;</th><th scope=col>&lt;chr&gt;</th></tr>\n",
       "</thead>\n",
       "<tbody>\n",
       "\t<tr><td>1</td><td>1250855</td><td>0.08416010</td><td>13.65</td><td>0.08129632</td><td>2016</td></tr>\n",
       "\t<tr><td>1</td><td>1368626</td><td>0.08241738</td><td>14.85</td><td>0.07840943</td><td>2018</td></tr>\n",
       "\t<tr><td>1</td><td>1392732</td><td>0.06554796</td><td>15.04</td><td>0.06381047</td><td>2020</td></tr>\n",
       "\t<tr><td>1</td><td>1103900</td><td>0.07699844</td><td>11.81</td><td>0.07609140</td><td>2022</td></tr>\n",
       "</tbody>\n",
       "</table>\n"
      ],
      "text/markdown": "\nA tibble: 4 × 6\n\n| etnia &lt;dbl&gt; | poblacion &lt;dbl&gt; | poblacion_cv &lt;dbl&gt; | porcentaje &lt;dbl&gt; | porcentaje_cv &lt;dbl&gt; | year &lt;chr&gt; |\n|---|---|---|---|---|---|\n| 1 | 1250855 | 0.08416010 | 13.65 | 0.08129632 | 2016 |\n| 1 | 1368626 | 0.08241738 | 14.85 | 0.07840943 | 2018 |\n| 1 | 1392732 | 0.06554796 | 15.04 | 0.06381047 | 2020 |\n| 1 | 1103900 | 0.07699844 | 11.81 | 0.07609140 | 2022 |\n\n",
      "text/latex": "A tibble: 4 × 6\n\\begin{tabular}{llllll}\n etnia & poblacion & poblacion\\_cv & porcentaje & porcentaje\\_cv & year\\\\\n <dbl> & <dbl> & <dbl> & <dbl> & <dbl> & <chr>\\\\\n\\hline\n\t 1 & 1250855 & 0.08416010 & 13.65 & 0.08129632 & 2016\\\\\n\t 1 & 1368626 & 0.08241738 & 14.85 & 0.07840943 & 2018\\\\\n\t 1 & 1392732 & 0.06554796 & 15.04 & 0.06381047 & 2020\\\\\n\t 1 & 1103900 & 0.07699844 & 11.81 & 0.07609140 & 2022\\\\\n\\end{tabular}\n",
      "text/plain": [
       "  etnia poblacion poblacion_cv porcentaje porcentaje_cv year\n",
       "1 1     1250855   0.08416010   13.65      0.08129632    2016\n",
       "2 1     1368626   0.08241738   14.85      0.07840943    2018\n",
       "3 1     1392732   0.06554796   15.04      0.06381047    2020\n",
       "4 1     1103900   0.07699844   11.81      0.07609140    2022"
      ]
     },
     "metadata": {},
     "output_type": "display_data"
    }
   ],
   "execution_count": 9
  },
  {
   "metadata": {
    "id": "e18cb4236c1ac276"
   },
   "cell_type": "markdown",
   "source": [
    "#### Población ocupada indígena en CDMX"
   ],
   "id": "e18cb4236c1ac276"
  },
  {
   "metadata": {
    "colab": {
     "base_uri": "https://localhost:8080/",
     "height": 1000
    },
    "id": "a3799d1b1ba09b09",
    "outputId": "24abfd5a-c098-4972-bbad-7b312404d848",
    "ExecuteTime": {
     "end_time": "2025-02-06T00:35:41.545727Z",
     "start_time": "2025-02-06T00:35:29.005002Z"
    }
   },
   "cell_type": "code",
   "source": [
    "tabla_ocupacion<-map_dfr(\n",
    "  list.files(\"data\", full.names = TRUE, pattern = \"poblacion_.*.csv\"),\n",
    "  estimacion,\n",
    "  variable = \"ocupacion\"\n",
    ")\n",
    "print(\"Población que se autodescribe como indígena y que se encuentra ocupada en la CDMX\")\n",
    "tabla_ocupacion"
   ],
   "id": "a3799d1b1ba09b09",
   "outputs": [
    {
     "name": "stderr",
     "output_type": "stream",
     "text": [
      "Warning message:\n",
      "\"\u001B[1m\u001B[22mOne or more parsing issues, call `problems()` on your data frame for details,\n",
      "e.g.:\n",
      "  dat <- vroom(...)\n",
      "  problems(dat)\"\n",
      "Warning message:\n",
      "\"\u001B[1m\u001B[22mOne or more parsing issues, call `problems()` on your data frame for details,\n",
      "e.g.:\n",
      "  dat <- vroom(...)\n",
      "  problems(dat)\"\n",
      "Warning message:\n",
      "\"\u001B[1m\u001B[22mOne or more parsing issues, call `problems()` on your data frame for details,\n",
      "e.g.:\n",
      "  dat <- vroom(...)\n",
      "  problems(dat)\"\n",
      "Warning message:\n",
      "\"\u001B[1m\u001B[22mOne or more parsing issues, call `problems()` on your data frame for details,\n",
      "e.g.:\n",
      "  dat <- vroom(...)\n",
      "  problems(dat)\"\n",
      "Warning message:\n",
      "\"\u001B[1m\u001B[22mOne or more parsing issues, call `problems()` on your data frame for details,\n",
      "e.g.:\n",
      "  dat <- vroom(...)\n",
      "  problems(dat)\"\n",
      "Warning message:\n",
      "\"\u001B[1m\u001B[22mOne or more parsing issues, call `problems()` on your data frame for details,\n",
      "e.g.:\n",
      "  dat <- vroom(...)\n",
      "  problems(dat)\"\n",
      "Warning message:\n",
      "\"\u001B[1m\u001B[22mOne or more parsing issues, call `problems()` on your data frame for details,\n",
      "e.g.:\n",
      "  dat <- vroom(...)\n",
      "  problems(dat)\"\n",
      "Warning message:\n",
      "\"\u001B[1m\u001B[22mOne or more parsing issues, call `problems()` on your data frame for details,\n",
      "e.g.:\n",
      "  dat <- vroom(...)\n",
      "  problems(dat)\"\n",
      "Warning message:\n",
      "\"\u001B[1m\u001B[22mOne or more parsing issues, call `problems()` on your data frame for details,\n",
      "e.g.:\n",
      "  dat <- vroom(...)\n",
      "  problems(dat)\"\n",
      "Warning message:\n",
      "\"\u001B[1m\u001B[22mOne or more parsing issues, call `problems()` on your data frame for details,\n",
      "e.g.:\n",
      "  dat <- vroom(...)\n",
      "  problems(dat)\"\n",
      "Warning message:\n",
      "\"\u001B[1m\u001B[22mOne or more parsing issues, call `problems()` on your data frame for details,\n",
      "e.g.:\n",
      "  dat <- vroom(...)\n",
      "  problems(dat)\"\n"
     ]
    },
    {
     "name": "stdout",
     "output_type": "stream",
     "text": [
      "[1] \"Población que se autodescribe como indígena y que se encuentra ocupada en la CDMX\"\n"
     ]
    },
    {
     "data": {
      "text/html": [
       "<table class=\"dataframe\">\n",
       "<caption>A grouped_df: 4 × 7</caption>\n",
       "<thead>\n",
       "\t<tr><th scope=col>trapais</th><th scope=col>etnia</th><th scope=col>ocupados</th><th scope=col>ocupados_cv</th><th scope=col>porcentaje</th><th scope=col>porcentaje_cv</th><th scope=col>year</th></tr>\n",
       "\t<tr><th scope=col>&lt;dbl&gt;</th><th scope=col>&lt;dbl&gt;</th><th scope=col>&lt;dbl&gt;</th><th scope=col>&lt;dbl&gt;</th><th scope=col>&lt;dbl&gt;</th><th scope=col>&lt;dbl&gt;</th><th scope=col>&lt;chr&gt;</th></tr>\n",
       "</thead>\n",
       "<tbody>\n",
       "\t<tr><td>1</td><td>1</td><td>701096</td><td>0.08687768</td><td>15.24</td><td>0.08163274</td><td>2016</td></tr>\n",
       "\t<tr><td>1</td><td>1</td><td>716466</td><td>0.08822712</td><td>15.83</td><td>0.08266348</td><td>2018</td></tr>\n",
       "\t<tr><td>1</td><td>1</td><td>684724</td><td>0.06773705</td><td>16.27</td><td>0.06419507</td><td>2020</td></tr>\n",
       "\t<tr><td>1</td><td>1</td><td>550736</td><td>0.08300888</td><td>11.86</td><td>0.08205935</td><td>2022</td></tr>\n",
       "</tbody>\n",
       "</table>\n"
      ],
      "text/markdown": "\nA grouped_df: 4 × 7\n\n| trapais &lt;dbl&gt; | etnia &lt;dbl&gt; | ocupados &lt;dbl&gt; | ocupados_cv &lt;dbl&gt; | porcentaje &lt;dbl&gt; | porcentaje_cv &lt;dbl&gt; | year &lt;chr&gt; |\n|---|---|---|---|---|---|---|\n| 1 | 1 | 701096 | 0.08687768 | 15.24 | 0.08163274 | 2016 |\n| 1 | 1 | 716466 | 0.08822712 | 15.83 | 0.08266348 | 2018 |\n| 1 | 1 | 684724 | 0.06773705 | 16.27 | 0.06419507 | 2020 |\n| 1 | 1 | 550736 | 0.08300888 | 11.86 | 0.08205935 | 2022 |\n\n",
      "text/latex": "A grouped\\_df: 4 × 7\n\\begin{tabular}{lllllll}\n trapais & etnia & ocupados & ocupados\\_cv & porcentaje & porcentaje\\_cv & year\\\\\n <dbl> & <dbl> & <dbl> & <dbl> & <dbl> & <dbl> & <chr>\\\\\n\\hline\n\t 1 & 1 & 701096 & 0.08687768 & 15.24 & 0.08163274 & 2016\\\\\n\t 1 & 1 & 716466 & 0.08822712 & 15.83 & 0.08266348 & 2018\\\\\n\t 1 & 1 & 684724 & 0.06773705 & 16.27 & 0.06419507 & 2020\\\\\n\t 1 & 1 & 550736 & 0.08300888 & 11.86 & 0.08205935 & 2022\\\\\n\\end{tabular}\n",
      "text/plain": [
       "  trapais etnia ocupados ocupados_cv porcentaje porcentaje_cv year\n",
       "1 1       1     701096   0.08687768  15.24      0.08163274    2016\n",
       "2 1       1     716466   0.08822712  15.83      0.08266348    2018\n",
       "3 1       1     684724   0.06773705  16.27      0.06419507    2020\n",
       "4 1       1     550736   0.08300888  11.86      0.08205935    2022"
      ]
     },
     "metadata": {},
     "output_type": "display_data"
    }
   ],
   "execution_count": 10
  },
  {
   "cell_type": "markdown",
   "source": [
    "####   Población ocupada indígena mujer en CDMX"
   ],
   "metadata": {
    "id": "imG56Nfj6kg5"
   },
   "id": "imG56Nfj6kg5"
  },
  {
   "cell_type": "code",
   "source": [
    "tabla_ocupacion_mujer<-map_dfr(\n",
    "  list.files(\"data\", full.names = TRUE, pattern = \"poblacion_.*.csv\"),\n",
    "  estimacion,\n",
    "  variable = \"ocupacion_mujer\"\n",
    ")\n",
    "print(\"Población que se autodescribe como indígena que es mujer y que se encuentra ocupada en la CDMX\")\n",
    "tabla_ocupacion_mujer"
   ],
   "metadata": {
    "colab": {
     "base_uri": "https://localhost:8080/",
     "height": 1000
    },
    "id": "6OX_cKIc6pIj",
    "outputId": "dc841335-c776-4901-84b3-de994a5845a7",
    "ExecuteTime": {
     "end_time": "2025-02-06T00:35:53.909686Z",
     "start_time": "2025-02-06T00:35:41.581836Z"
    }
   },
   "id": "6OX_cKIc6pIj",
   "outputs": [
    {
     "name": "stderr",
     "output_type": "stream",
     "text": [
      "Warning message:\n",
      "\"\u001B[1m\u001B[22mOne or more parsing issues, call `problems()` on your data frame for details,\n",
      "e.g.:\n",
      "  dat <- vroom(...)\n",
      "  problems(dat)\"\n",
      "Warning message:\n",
      "\"\u001B[1m\u001B[22mOne or more parsing issues, call `problems()` on your data frame for details,\n",
      "e.g.:\n",
      "  dat <- vroom(...)\n",
      "  problems(dat)\"\n",
      "Warning message:\n",
      "\"\u001B[1m\u001B[22mOne or more parsing issues, call `problems()` on your data frame for details,\n",
      "e.g.:\n",
      "  dat <- vroom(...)\n",
      "  problems(dat)\"\n",
      "Warning message:\n",
      "\"\u001B[1m\u001B[22mOne or more parsing issues, call `problems()` on your data frame for details,\n",
      "e.g.:\n",
      "  dat <- vroom(...)\n",
      "  problems(dat)\"\n",
      "Warning message:\n",
      "\"\u001B[1m\u001B[22mOne or more parsing issues, call `problems()` on your data frame for details,\n",
      "e.g.:\n",
      "  dat <- vroom(...)\n",
      "  problems(dat)\"\n",
      "Warning message:\n",
      "\"\u001B[1m\u001B[22mOne or more parsing issues, call `problems()` on your data frame for details,\n",
      "e.g.:\n",
      "  dat <- vroom(...)\n",
      "  problems(dat)\"\n",
      "Warning message:\n",
      "\"\u001B[1m\u001B[22mOne or more parsing issues, call `problems()` on your data frame for details,\n",
      "e.g.:\n",
      "  dat <- vroom(...)\n",
      "  problems(dat)\"\n",
      "Warning message:\n",
      "\"\u001B[1m\u001B[22mOne or more parsing issues, call `problems()` on your data frame for details,\n",
      "e.g.:\n",
      "  dat <- vroom(...)\n",
      "  problems(dat)\"\n",
      "Warning message:\n",
      "\"\u001B[1m\u001B[22mOne or more parsing issues, call `problems()` on your data frame for details,\n",
      "e.g.:\n",
      "  dat <- vroom(...)\n",
      "  problems(dat)\"\n",
      "Warning message:\n",
      "\"\u001B[1m\u001B[22mOne or more parsing issues, call `problems()` on your data frame for details,\n",
      "e.g.:\n",
      "  dat <- vroom(...)\n",
      "  problems(dat)\"\n",
      "Warning message:\n",
      "\"\u001B[1m\u001B[22mOne or more parsing issues, call `problems()` on your data frame for details,\n",
      "e.g.:\n",
      "  dat <- vroom(...)\n",
      "  problems(dat)\"\n"
     ]
    },
    {
     "name": "stdout",
     "output_type": "stream",
     "text": [
      "[1] \"Población que se autodescribe como indígena que es mujer y que se encuentra ocupada en la CDMX\"\n"
     ]
    },
    {
     "data": {
      "text/html": [
       "<table class=\"dataframe\">\n",
       "<caption>A grouped_df: 4 × 7</caption>\n",
       "<thead>\n",
       "\t<tr><th scope=col>etnia</th><th scope=col>sexo</th><th scope=col>ocupados</th><th scope=col>ocupados_cv</th><th scope=col>porcentaje</th><th scope=col>porcentaje_cv</th><th scope=col>year</th></tr>\n",
       "\t<tr><th scope=col>&lt;dbl&gt;</th><th scope=col>&lt;dbl&gt;</th><th scope=col>&lt;dbl&gt;</th><th scope=col>&lt;dbl&gt;</th><th scope=col>&lt;dbl&gt;</th><th scope=col>&lt;dbl&gt;</th><th scope=col>&lt;chr&gt;</th></tr>\n",
       "</thead>\n",
       "<tbody>\n",
       "\t<tr><td>1</td><td>2</td><td>308308</td><td>0.10074117</td><td>43.98</td><td>0.04794138</td><td>2016</td></tr>\n",
       "\t<tr><td>1</td><td>2</td><td>321598</td><td>0.10590241</td><td>44.89</td><td>0.04630140</td><td>2018</td></tr>\n",
       "\t<tr><td>1</td><td>2</td><td>311122</td><td>0.07667507</td><td>45.44</td><td>0.04340553</td><td>2020</td></tr>\n",
       "\t<tr><td>1</td><td>2</td><td>229755</td><td>0.09928867</td><td>41.72</td><td>0.05397506</td><td>2022</td></tr>\n",
       "</tbody>\n",
       "</table>\n"
      ],
      "text/markdown": "\nA grouped_df: 4 × 7\n\n| etnia &lt;dbl&gt; | sexo &lt;dbl&gt; | ocupados &lt;dbl&gt; | ocupados_cv &lt;dbl&gt; | porcentaje &lt;dbl&gt; | porcentaje_cv &lt;dbl&gt; | year &lt;chr&gt; |\n|---|---|---|---|---|---|---|\n| 1 | 2 | 308308 | 0.10074117 | 43.98 | 0.04794138 | 2016 |\n| 1 | 2 | 321598 | 0.10590241 | 44.89 | 0.04630140 | 2018 |\n| 1 | 2 | 311122 | 0.07667507 | 45.44 | 0.04340553 | 2020 |\n| 1 | 2 | 229755 | 0.09928867 | 41.72 | 0.05397506 | 2022 |\n\n",
      "text/latex": "A grouped\\_df: 4 × 7\n\\begin{tabular}{lllllll}\n etnia & sexo & ocupados & ocupados\\_cv & porcentaje & porcentaje\\_cv & year\\\\\n <dbl> & <dbl> & <dbl> & <dbl> & <dbl> & <dbl> & <chr>\\\\\n\\hline\n\t 1 & 2 & 308308 & 0.10074117 & 43.98 & 0.04794138 & 2016\\\\\n\t 1 & 2 & 321598 & 0.10590241 & 44.89 & 0.04630140 & 2018\\\\\n\t 1 & 2 & 311122 & 0.07667507 & 45.44 & 0.04340553 & 2020\\\\\n\t 1 & 2 & 229755 & 0.09928867 & 41.72 & 0.05397506 & 2022\\\\\n\\end{tabular}\n",
      "text/plain": [
       "  etnia sexo ocupados ocupados_cv porcentaje porcentaje_cv year\n",
       "1 1     2    308308   0.10074117  43.98      0.04794138    2016\n",
       "2 1     2    321598   0.10590241  44.89      0.04630140    2018\n",
       "3 1     2    311122   0.07667507  45.44      0.04340553    2020\n",
       "4 1     2    229755   0.09928867  41.72      0.05397506    2022"
      ]
     },
     "metadata": {},
     "output_type": "display_data"
    }
   ],
   "execution_count": 11
  },
  {
   "metadata": {
    "id": "5a068385b6560222"
   },
   "cell_type": "markdown",
   "source": [
    "####   Población analfabeta indígena en CDMX"
   ],
   "id": "5a068385b6560222"
  },
  {
   "metadata": {
    "colab": {
     "base_uri": "https://localhost:8080/",
     "height": 1000
    },
    "id": "dd183848dfbe302f",
    "outputId": "7ccc69d0-fade-4b0c-d75b-099479092fef",
    "ExecuteTime": {
     "end_time": "2025-02-06T00:36:04.320580Z",
     "start_time": "2025-02-06T00:35:53.943032Z"
    }
   },
   "cell_type": "code",
   "source": [
    "tabla_analfabetismo<-map_dfr(\n",
    "  list.files(\"data\", full.names = TRUE, pattern = \"poblacion_.*.csv\"),\n",
    "  estimacion,\n",
    "  variable = \"analfabetismo\"\n",
    ")\n",
    "print(\"Población que se autodescribe como indígena y que es analfabeta en la CDMX\")\n",
    "\n",
    "tabla_analfabetismo"
   ],
   "id": "dd183848dfbe302f",
   "outputs": [
    {
     "name": "stderr",
     "output_type": "stream",
     "text": [
      "Warning message:\n",
      "\"\u001B[1m\u001B[22mOne or more parsing issues, call `problems()` on your data frame for details,\n",
      "e.g.:\n",
      "  dat <- vroom(...)\n",
      "  problems(dat)\"\n",
      "Warning message:\n",
      "\"\u001B[1m\u001B[22mOne or more parsing issues, call `problems()` on your data frame for details,\n",
      "e.g.:\n",
      "  dat <- vroom(...)\n",
      "  problems(dat)\"\n",
      "Warning message:\n",
      "\"\u001B[1m\u001B[22mThere was 1 warning in `dplyr::summarise()`.\n",
      "\u001B[1m\u001B[22m\u001B[36mℹ\u001B[39m In argument: `porcentaje = survey_prop(vartype = \"cv\")`.\n",
      "\u001B[36mℹ\u001B[39m In group 5: `etnia = NA` and `alfabetism = NA`.\n",
      "Caused by warning:\n",
      "\u001B[33m!\u001B[39m glm.fit: algorithm did not converge\"\n",
      "Warning message:\n",
      "\"\u001B[1m\u001B[22mOne or more parsing issues, call `problems()` on your data frame for details,\n",
      "e.g.:\n",
      "  dat <- vroom(...)\n",
      "  problems(dat)\"\n",
      "Warning message:\n",
      "\"\u001B[1m\u001B[22mOne or more parsing issues, call `problems()` on your data frame for details,\n",
      "e.g.:\n",
      "  dat <- vroom(...)\n",
      "  problems(dat)\"\n",
      "Warning message:\n",
      "\"\u001B[1m\u001B[22mThere was 1 warning in `dplyr::summarise()`.\n",
      "\u001B[1m\u001B[22m\u001B[36mℹ\u001B[39m In argument: `porcentaje = survey_prop(vartype = \"cv\")`.\n",
      "\u001B[36mℹ\u001B[39m In group 5: `etnia = NA` and `alfabetism = NA`.\n",
      "Caused by warning:\n",
      "\u001B[33m!\u001B[39m glm.fit: algorithm did not converge\"\n",
      "Warning message:\n",
      "\"\u001B[1m\u001B[22mOne or more parsing issues, call `problems()` on your data frame for details,\n",
      "e.g.:\n",
      "  dat <- vroom(...)\n",
      "  problems(dat)\"\n",
      "Warning message:\n",
      "\"\u001B[1m\u001B[22mOne or more parsing issues, call `problems()` on your data frame for details,\n",
      "e.g.:\n",
      "  dat <- vroom(...)\n",
      "  problems(dat)\"\n",
      "Warning message:\n",
      "\"\u001B[1m\u001B[22mThere was 1 warning in `dplyr::summarise()`.\n",
      "\u001B[1m\u001B[22m\u001B[36mℹ\u001B[39m In argument: `porcentaje = survey_prop(vartype = \"cv\")`.\n",
      "\u001B[36mℹ\u001B[39m In group 5: `etnia = NA` and `alfabetism = NA`.\n",
      "Caused by warning:\n",
      "\u001B[33m!\u001B[39m glm.fit: algorithm did not converge\"\n",
      "Warning message:\n",
      "\"\u001B[1m\u001B[22mOne or more parsing issues, call `problems()` on your data frame for details,\n",
      "e.g.:\n",
      "  dat <- vroom(...)\n",
      "  problems(dat)\"\n",
      "Warning message:\n",
      "\"\u001B[1m\u001B[22mThere was 1 warning in `dplyr::summarise()`.\n",
      "\u001B[1m\u001B[22m\u001B[36mℹ\u001B[39m In argument: `porcentaje = survey_prop(vartype = \"cv\")`.\n",
      "\u001B[36mℹ\u001B[39m In group 5: `etnia = NA` and `alfabetism = NA`.\n",
      "Caused by warning:\n",
      "\u001B[33m!\u001B[39m glm.fit: algorithm did not converge\"\n"
     ]
    },
    {
     "name": "stdout",
     "output_type": "stream",
     "text": [
      "[1] \"Población que se autodescribe como indígena y que es analfabeta en la CDMX\"\n"
     ]
    },
    {
     "data": {
      "text/html": [
       "<table class=\"dataframe\">\n",
       "<caption>A grouped_df: 4 × 7</caption>\n",
       "<thead>\n",
       "\t<tr><th scope=col>etnia</th><th scope=col>alfabetism</th><th scope=col>analfabetas</th><th scope=col>analfabetas_cv</th><th scope=col>porcentaje</th><th scope=col>porcentaje_cv</th><th scope=col>year</th></tr>\n",
       "\t<tr><th scope=col>&lt;dbl&gt;</th><th scope=col>&lt;dbl&gt;</th><th scope=col>&lt;dbl&gt;</th><th scope=col>&lt;dbl&gt;</th><th scope=col>&lt;dbl&gt;</th><th scope=col>&lt;dbl&gt;</th><th scope=col>&lt;chr&gt;</th></tr>\n",
       "</thead>\n",
       "<tbody>\n",
       "\t<tr><td>1</td><td>2</td><td> 76848</td><td>0.2047636</td><td>6.14</td><td>0.1804278</td><td>2016</td></tr>\n",
       "\t<tr><td>1</td><td>2</td><td>100372</td><td>0.1583444</td><td>7.33</td><td>0.1251706</td><td>2018</td></tr>\n",
       "\t<tr><td>1</td><td>2</td><td> 91929</td><td>0.1348095</td><td>6.60</td><td>0.1153417</td><td>2020</td></tr>\n",
       "\t<tr><td>1</td><td>2</td><td> 63920</td><td>0.2065419</td><td>5.79</td><td>0.1828260</td><td>2022</td></tr>\n",
       "</tbody>\n",
       "</table>\n"
      ],
      "text/markdown": "\nA grouped_df: 4 × 7\n\n| etnia &lt;dbl&gt; | alfabetism &lt;dbl&gt; | analfabetas &lt;dbl&gt; | analfabetas_cv &lt;dbl&gt; | porcentaje &lt;dbl&gt; | porcentaje_cv &lt;dbl&gt; | year &lt;chr&gt; |\n|---|---|---|---|---|---|---|\n| 1 | 2 |  76848 | 0.2047636 | 6.14 | 0.1804278 | 2016 |\n| 1 | 2 | 100372 | 0.1583444 | 7.33 | 0.1251706 | 2018 |\n| 1 | 2 |  91929 | 0.1348095 | 6.60 | 0.1153417 | 2020 |\n| 1 | 2 |  63920 | 0.2065419 | 5.79 | 0.1828260 | 2022 |\n\n",
      "text/latex": "A grouped\\_df: 4 × 7\n\\begin{tabular}{lllllll}\n etnia & alfabetism & analfabetas & analfabetas\\_cv & porcentaje & porcentaje\\_cv & year\\\\\n <dbl> & <dbl> & <dbl> & <dbl> & <dbl> & <dbl> & <chr>\\\\\n\\hline\n\t 1 & 2 &  76848 & 0.2047636 & 6.14 & 0.1804278 & 2016\\\\\n\t 1 & 2 & 100372 & 0.1583444 & 7.33 & 0.1251706 & 2018\\\\\n\t 1 & 2 &  91929 & 0.1348095 & 6.60 & 0.1153417 & 2020\\\\\n\t 1 & 2 &  63920 & 0.2065419 & 5.79 & 0.1828260 & 2022\\\\\n\\end{tabular}\n",
      "text/plain": [
       "  etnia alfabetism analfabetas analfabetas_cv porcentaje porcentaje_cv year\n",
       "1 1     2           76848      0.2047636      6.14       0.1804278     2016\n",
       "2 1     2          100372      0.1583444      7.33       0.1251706     2018\n",
       "3 1     2           91929      0.1348095      6.60       0.1153417     2020\n",
       "4 1     2           63920      0.2065419      5.79       0.1828260     2022"
      ]
     },
     "metadata": {},
     "output_type": "display_data"
    }
   ],
   "execution_count": 12
  },
  {
   "cell_type": "markdown",
   "source": [
    "### Calcular porcentaje de población indígena que se encuentra en situación de pobreza\n",
    "\n",
    "\n",
    "Para esto, se utilizan las bases generadas por Evalúa CDMX. Es importante señalar que, por practicidad, se trabaja con el producto terminado, no obstante, se buscará en próximas fechas replicar dicha metodología utilizando R ya que actualmente, el programa de cálculo se encuentra en STATA."
   ],
   "metadata": {
    "id": "NdsVF-xkq7EQ"
   },
   "id": "NdsVF-xkq7EQ"
  },
  {
   "cell_type": "code",
   "source": [
    "  #Conectar a google drive\n",
    "drive_auth(email = \"claudiodanielpc@gmail.com\",cache = FALSE)"
   ],
   "metadata": {
    "colab": {
     "base_uri": "https://localhost:8080/"
    },
    "id": "3dWJ6IYjrV62",
    "outputId": "467eb457-486c-4998-b1fc-98d357ef129e",
    "ExecuteTime": {
     "end_time": "2025-02-06T00:36:15.635797Z",
     "start_time": "2025-02-06T00:36:15.625819Z"
    }
   },
   "id": "3dWJ6IYjrV62",
   "outputs": [],
   "execution_count": 14
  },
  {
   "cell_type": "code",
   "source": [
    "carpeta<-as_id(drive_get(\"https://drive.google.com/drive/folders/1TBfoik4w4DWhwFqWeZFgkZvrBdDbqzku\"))\n",
    "\n",
    "\n",
    "archivos<-drive_ls(carpeta)\n",
    "print(archivos)"
   ],
   "metadata": {
    "colab": {
     "base_uri": "https://localhost:8080/"
    },
    "id": "3I6nozkErvWO",
    "outputId": "edb47a43-d4ae-48ba-a57f-c1d7d9465ddc"
   },
   "id": "3I6nozkErvWO",
   "execution_count": 5,
   "outputs": [
    {
     "output_type": "stream",
     "name": "stdout",
     "text": [
      "\u001B[90m# A dribble: 3 × 3\u001B[39m\n",
      "  name             id                                drive_resource   \n",
      "  \u001B[3m\u001B[90m<chr>\u001B[39m\u001B[23m            \u001B[3m\u001B[90m<drv_id>\u001B[39m\u001B[23m                          \u001B[3m\u001B[90m<list>\u001B[39m\u001B[23m           \n",
      "\u001B[90m1\u001B[39m pobreza_2022.dta 1T_WfYanYMOoWWbhj_CeiqxYRNrpXmDan \u001B[90m<named list [42]>\u001B[39m\n",
      "\u001B[90m2\u001B[39m pobreza_2020.dta 1TXJLNA_itWfjsGIdoj1bJQ4erNjc1wIx \u001B[90m<named list [42]>\u001B[39m\n",
      "\u001B[90m3\u001B[39m pobreza_2018.dta 1TTRfiRDGWgQwHylvduHx1IRdm5vQ3VeL \u001B[90m<named list [42]>\u001B[39m\n"
     ]
    }
   ]
  },
  {
   "cell_type": "code",
   "source": [
    "archivos[1]"
   ],
   "metadata": {
    "colab": {
     "base_uri": "https://localhost:8080/",
     "height": 192
    },
    "id": "OG-4iMTgsF8S",
    "outputId": "18fd395e-0e50-4538-95e3-3e3e13f1bf6c"
   },
   "id": "OG-4iMTgsF8S",
   "execution_count": 7,
   "outputs": [
    {
     "output_type": "display_data",
     "data": {
      "text/html": [
       "<table class=\"dataframe\">\n",
       "<caption>A tibble: 3 × 1</caption>\n",
       "<thead>\n",
       "\t<tr><th scope=col>name</th></tr>\n",
       "\t<tr><th scope=col>&lt;chr&gt;</th></tr>\n",
       "</thead>\n",
       "<tbody>\n",
       "\t<tr><td>pobreza_2022.dta</td></tr>\n",
       "\t<tr><td>pobreza_2020.dta</td></tr>\n",
       "\t<tr><td>pobreza_2018.dta</td></tr>\n",
       "</tbody>\n",
       "</table>\n"
      ],
      "text/markdown": "\nA tibble: 3 × 1\n\n| name &lt;chr&gt; |\n|---|\n| pobreza_2022.dta |\n| pobreza_2020.dta |\n| pobreza_2018.dta |\n\n",
      "text/latex": "A tibble: 3 × 1\n\\begin{tabular}{l}\n name\\\\\n <chr>\\\\\n\\hline\n\t pobreza\\_2022.dta\\\\\n\t pobreza\\_2020.dta\\\\\n\t pobreza\\_2018.dta\\\\\n\\end{tabular}\n",
      "text/plain": [
       "  name            \n",
       "1 pobreza_2022.dta\n",
       "2 pobreza_2020.dta\n",
       "3 pobreza_2018.dta"
      ]
     },
     "metadata": {}
    }
   ]
  },
  {
   "cell_type": "code",
   "source": [
    "estimacion_pobreza <- function(file_id, file_name) {\n",
    "  # Descarga de datos\n",
    "  local_path <- file.path(\"data\", file_name)\n",
    "  drive_download(as_id(file_id), path = local_path, overwrite = TRUE)\n",
    "\n",
    "  # Leer datos\n",
    "  datos <- read_dta(local_path)\n",
    "\n",
    "  # Añadir año\n",
    "  year <- str_extract(file_name, \"\\\\d{4}\")\n",
    "\n",
    "\n",
    "  # Diseño muestral\n",
    "  mydesign <- datos %>%\n",
    "    as_survey_design(ids = upm,\n",
    "                     strata = est_dis,\n",
    "                     weights = factor)\n",
    "\n",
    "  # Estima pobreza\n",
    "  pobreza <- mydesign %>%\n",
    "    #Filtrar datos para CDMX\n",
    "  filter(entidad==9)%>%\n",
    "    #Filtar grupo de población en pobreza\n",
    "    #filter(pobreza_mmip == 1) %>%\n",
    "    group_by(etnia,pobreza_mmip)%>%\n",
    "    summarise(\n",
    "      poblacion = survey_total(vartype = \"cv\"),\n",
    "      porcentaje = survey_prop(vartype = \"cv\")\n",
    "    ) %>%\n",
    "    mutate(porcentaje = round(porcentaje * 100, 2),\n",
    "           year = as.numeric(year))%>%\n",
    "             #Filtro de población indígena\n",
    "             filter(etnia==1)\n",
    "\n",
    "  return(pobreza)\n",
    "}\n"
   ],
   "metadata": {
    "id": "sFs1TwLFxKyz"
   },
   "id": "sFs1TwLFxKyz",
   "execution_count": 20,
   "outputs": []
  },
  {
   "cell_type": "code",
   "source": [
    "estimacion_pobreza_simple <- function(file_id, file_name) {\n",
    "  # Descarga de datos\n",
    "  local_path <- file.path(\"data\", file_name)\n",
    "  drive_download(as_id(file_id), path = local_path, overwrite = TRUE)\n",
    "\n",
    "  # Leer datos\n",
    "  datos <- read_dta(local_path)\n",
    "\n",
    "  # Añadir año\n",
    "  year <- str_extract(file_name, \"\\\\d{4}\") %>% as.numeric()\n",
    "\n",
    "  # Filtrar datos para CDMX y población en pobreza\n",
    "  pobreza <- datos %>%\n",
    "    filter(entidad == 9) %>%\n",
    "    group_by(etnia,pobreza_mmip) %>%\n",
    "    summarise(\n",
    "      observaciones = n(),  # Contar el número de observaciones\n",
    "      porcentaje = (n() / nrow(datos)) * 100  # Calcular porcentaje sobre el total de la tabla\n",
    "    ) %>%\n",
    "    mutate(\n",
    "      porcentaje = round(porcentaje, 2),\n",
    "      year = year\n",
    "    ) %>%\n",
    "    # Filtro de población indígena\n",
    "    filter(etnia == 1)%>%\n",
    "      select(pobreza_mmip,observaciones,year)\n",
    "\n",
    "  return(pobreza)\n",
    "}\n"
   ],
   "metadata": {
    "id": "txs7yjjVLDo4"
   },
   "id": "txs7yjjVLDo4",
   "execution_count": 16,
   "outputs": []
  },
  {
   "cell_type": "code",
   "source": [
    "tabla_pobreza <- map_dfr(\n",
    "  seq_len(nrow(archivos)),\n",
    "  ~ estimacion_pobreza(archivos$id[.x], archivos$name[.x])\n",
    ")%>%\n",
    "  arrange(year)\n",
    "\n",
    "print(\"Estimación de población indígena en situación de pobreza en la CDMX\")\n",
    "tabla_pobreza"
   ],
   "metadata": {
    "colab": {
     "base_uri": "https://localhost:8080/",
     "height": 748
    },
    "id": "PYgGuYNRxNjA",
    "outputId": "569abd8b-a9eb-4288-f0da-656c82a1567e"
   },
   "id": "PYgGuYNRxNjA",
   "execution_count": 21,
   "outputs": [
    {
     "output_type": "stream",
     "name": "stderr",
     "text": [
      "File downloaded:\n",
      "\n",
      "• \u001B[36mpobreza_2022.dta\u001B[39m \u001B[90m<id: 1T_WfYanYMOoWWbhj_CeiqxYRNrpXmDan>\u001B[39m\n",
      "\n",
      "Saved locally as:\n",
      "\n",
      "• \u001B[34mdata/pobreza_2022.dta\u001B[39m\n",
      "\n",
      "File downloaded:\n",
      "\n",
      "• \u001B[36mpobreza_2020.dta\u001B[39m \u001B[90m<id: 1TXJLNA_itWfjsGIdoj1bJQ4erNjc1wIx>\u001B[39m\n",
      "\n",
      "Saved locally as:\n",
      "\n",
      "• \u001B[34mdata/pobreza_2020.dta\u001B[39m\n",
      "\n",
      "File downloaded:\n",
      "\n",
      "• \u001B[36mpobreza_2018.dta\u001B[39m \u001B[90m<id: 1TTRfiRDGWgQwHylvduHx1IRdm5vQ3VeL>\u001B[39m\n",
      "\n",
      "Saved locally as:\n",
      "\n",
      "• \u001B[34mdata/pobreza_2018.dta\u001B[39m\n",
      "\n"
     ]
    },
    {
     "output_type": "stream",
     "name": "stdout",
     "text": [
      "[1] \"Estimación de población indígena en situación de pobreza en la CDMX\"\n"
     ]
    },
    {
     "output_type": "display_data",
     "data": {
      "text/html": [
       "<table class=\"dataframe\">\n",
       "<caption>A grouped_df: 6 × 7</caption>\n",
       "<thead>\n",
       "\t<tr><th scope=col>etnia</th><th scope=col>pobreza_mmip</th><th scope=col>poblacion</th><th scope=col>poblacion_cv</th><th scope=col>porcentaje</th><th scope=col>porcentaje_cv</th><th scope=col>year</th></tr>\n",
       "\t<tr><th scope=col>&lt;chr&gt;</th><th scope=col>&lt;dbl&gt;</th><th scope=col>&lt;dbl&gt;</th><th scope=col>&lt;dbl&gt;</th><th scope=col>&lt;dbl&gt;</th><th scope=col>&lt;dbl&gt;</th><th scope=col>&lt;dbl&gt;</th></tr>\n",
       "</thead>\n",
       "<tbody>\n",
       "\t<tr><td>1</td><td>0</td><td> 348056</td><td>0.12753521</td><td>25.59</td><td>0.10653981</td><td>2018</td></tr>\n",
       "\t<tr><td>1</td><td>1</td><td>1011897</td><td>0.09435402</td><td>74.41</td><td>0.03664584</td><td>2018</td></tr>\n",
       "\t<tr><td>1</td><td>0</td><td> 467372</td><td>0.09754185</td><td>33.65</td><td>0.07847831</td><td>2020</td></tr>\n",
       "\t<tr><td>1</td><td>1</td><td> 921413</td><td>0.07989246</td><td>66.35</td><td>0.03980687</td><td>2020</td></tr>\n",
       "\t<tr><td>1</td><td>0</td><td> 270349</td><td>0.11352469</td><td>24.87</td><td>0.09334282</td><td>2022</td></tr>\n",
       "\t<tr><td>1</td><td>1</td><td> 816899</td><td>0.08744365</td><td>75.13</td><td>0.03089138</td><td>2022</td></tr>\n",
       "</tbody>\n",
       "</table>\n"
      ],
      "text/markdown": "\nA grouped_df: 6 × 7\n\n| etnia &lt;chr&gt; | pobreza_mmip &lt;dbl&gt; | poblacion &lt;dbl&gt; | poblacion_cv &lt;dbl&gt; | porcentaje &lt;dbl&gt; | porcentaje_cv &lt;dbl&gt; | year &lt;dbl&gt; |\n|---|---|---|---|---|---|---|\n| 1 | 0 |  348056 | 0.12753521 | 25.59 | 0.10653981 | 2018 |\n| 1 | 1 | 1011897 | 0.09435402 | 74.41 | 0.03664584 | 2018 |\n| 1 | 0 |  467372 | 0.09754185 | 33.65 | 0.07847831 | 2020 |\n| 1 | 1 |  921413 | 0.07989246 | 66.35 | 0.03980687 | 2020 |\n| 1 | 0 |  270349 | 0.11352469 | 24.87 | 0.09334282 | 2022 |\n| 1 | 1 |  816899 | 0.08744365 | 75.13 | 0.03089138 | 2022 |\n\n",
      "text/latex": "A grouped\\_df: 6 × 7\n\\begin{tabular}{lllllll}\n etnia & pobreza\\_mmip & poblacion & poblacion\\_cv & porcentaje & porcentaje\\_cv & year\\\\\n <chr> & <dbl> & <dbl> & <dbl> & <dbl> & <dbl> & <dbl>\\\\\n\\hline\n\t 1 & 0 &  348056 & 0.12753521 & 25.59 & 0.10653981 & 2018\\\\\n\t 1 & 1 & 1011897 & 0.09435402 & 74.41 & 0.03664584 & 2018\\\\\n\t 1 & 0 &  467372 & 0.09754185 & 33.65 & 0.07847831 & 2020\\\\\n\t 1 & 1 &  921413 & 0.07989246 & 66.35 & 0.03980687 & 2020\\\\\n\t 1 & 0 &  270349 & 0.11352469 & 24.87 & 0.09334282 & 2022\\\\\n\t 1 & 1 &  816899 & 0.08744365 & 75.13 & 0.03089138 & 2022\\\\\n\\end{tabular}\n",
      "text/plain": [
       "  etnia pobreza_mmip poblacion poblacion_cv porcentaje porcentaje_cv year\n",
       "1 1     0             348056   0.12753521   25.59      0.10653981    2018\n",
       "2 1     1            1011897   0.09435402   74.41      0.03664584    2018\n",
       "3 1     0             467372   0.09754185   33.65      0.07847831    2020\n",
       "4 1     1             921413   0.07989246   66.35      0.03980687    2020\n",
       "5 1     0             270349   0.11352469   24.87      0.09334282    2022\n",
       "6 1     1             816899   0.08744365   75.13      0.03089138    2022"
      ]
     },
     "metadata": {}
    }
   ]
  },
  {
   "cell_type": "code",
   "source": [
    "tabla_pobreza_simple <- map_dfr(\n",
    "  seq_len(nrow(archivos)),\n",
    "  ~ estimacion_pobreza_simple(archivos$id[.x], archivos$name[.x])\n",
    ")%>%\n",
    "  arrange(year)%>%\n",
    "  select(pobreza_mmip,observaciones,year)\n",
    "\n",
    "print(\"Observaciones muestrales de población indígena y condición de pobreza en la CDMX\")\n",
    "tabla_pobreza_simple"
   ],
   "metadata": {
    "id": "NcTCPaiOLFMV",
    "outputId": "f16a7da8-912c-4bff-9aab-d1624d104d27",
    "colab": {
     "base_uri": "https://localhost:8080/",
     "height": 932
    }
   },
   "id": "NcTCPaiOLFMV",
   "execution_count": 19,
   "outputs": [
    {
     "output_type": "stream",
     "name": "stderr",
     "text": [
      "File downloaded:\n",
      "\n",
      "• \u001B[36mpobreza_2022.dta\u001B[39m \u001B[90m<id: 1T_WfYanYMOoWWbhj_CeiqxYRNrpXmDan>\u001B[39m\n",
      "\n",
      "Saved locally as:\n",
      "\n",
      "• \u001B[34mdata/pobreza_2022.dta\u001B[39m\n",
      "\n",
      "\u001B[1m\u001B[22m`summarise()` has grouped output by 'etnia'. You can override using the\n",
      "`.groups` argument.\n",
      "\u001B[1m\u001B[22mAdding missing grouping variables: `etnia`\n",
      "File downloaded:\n",
      "\n",
      "• \u001B[36mpobreza_2020.dta\u001B[39m \u001B[90m<id: 1TXJLNA_itWfjsGIdoj1bJQ4erNjc1wIx>\u001B[39m\n",
      "\n",
      "Saved locally as:\n",
      "\n",
      "• \u001B[34mdata/pobreza_2020.dta\u001B[39m\n",
      "\n",
      "\u001B[1m\u001B[22m`summarise()` has grouped output by 'etnia'. You can override using the\n",
      "`.groups` argument.\n",
      "\u001B[1m\u001B[22mAdding missing grouping variables: `etnia`\n",
      "File downloaded:\n",
      "\n",
      "• \u001B[36mpobreza_2018.dta\u001B[39m \u001B[90m<id: 1TTRfiRDGWgQwHylvduHx1IRdm5vQ3VeL>\u001B[39m\n",
      "\n",
      "Saved locally as:\n",
      "\n",
      "• \u001B[34mdata/pobreza_2018.dta\u001B[39m\n",
      "\n",
      "\u001B[1m\u001B[22m`summarise()` has grouped output by 'etnia'. You can override using the\n",
      "`.groups` argument.\n",
      "\u001B[1m\u001B[22mAdding missing grouping variables: `etnia`\n",
      "\u001B[1m\u001B[22mAdding missing grouping variables: `etnia`\n"
     ]
    },
    {
     "output_type": "stream",
     "name": "stdout",
     "text": [
      "[1] \"Observaciones muestrales de población indígena y condición de pobreza en la CDMX\"\n"
     ]
    },
    {
     "output_type": "display_data",
     "data": {
      "text/html": [
       "<table class=\"dataframe\">\n",
       "<caption>A grouped_df: 6 × 4</caption>\n",
       "<thead>\n",
       "\t<tr><th scope=col>etnia</th><th scope=col>pobreza_mmip</th><th scope=col>observaciones</th><th scope=col>year</th></tr>\n",
       "\t<tr><th scope=col>&lt;chr&gt;</th><th scope=col>&lt;dbl&gt;</th><th scope=col>&lt;int&gt;</th><th scope=col>&lt;dbl&gt;</th></tr>\n",
       "</thead>\n",
       "<tbody>\n",
       "\t<tr><td>1</td><td>0</td><td> 253</td><td>2018</td></tr>\n",
       "\t<tr><td>1</td><td>1</td><td>1064</td><td>2018</td></tr>\n",
       "\t<tr><td>1</td><td>0</td><td> 388</td><td>2020</td></tr>\n",
       "\t<tr><td>1</td><td>1</td><td>1359</td><td>2020</td></tr>\n",
       "\t<tr><td>1</td><td>0</td><td> 235</td><td>2022</td></tr>\n",
       "\t<tr><td>1</td><td>1</td><td>1019</td><td>2022</td></tr>\n",
       "</tbody>\n",
       "</table>\n"
      ],
      "text/markdown": "\nA grouped_df: 6 × 4\n\n| etnia &lt;chr&gt; | pobreza_mmip &lt;dbl&gt; | observaciones &lt;int&gt; | year &lt;dbl&gt; |\n|---|---|---|---|\n| 1 | 0 |  253 | 2018 |\n| 1 | 1 | 1064 | 2018 |\n| 1 | 0 |  388 | 2020 |\n| 1 | 1 | 1359 | 2020 |\n| 1 | 0 |  235 | 2022 |\n| 1 | 1 | 1019 | 2022 |\n\n",
      "text/latex": "A grouped\\_df: 6 × 4\n\\begin{tabular}{llll}\n etnia & pobreza\\_mmip & observaciones & year\\\\\n <chr> & <dbl> & <int> & <dbl>\\\\\n\\hline\n\t 1 & 0 &  253 & 2018\\\\\n\t 1 & 1 & 1064 & 2018\\\\\n\t 1 & 0 &  388 & 2020\\\\\n\t 1 & 1 & 1359 & 2020\\\\\n\t 1 & 0 &  235 & 2022\\\\\n\t 1 & 1 & 1019 & 2022\\\\\n\\end{tabular}\n",
      "text/plain": [
       "  etnia pobreza_mmip observaciones year\n",
       "1 1     0             253          2018\n",
       "2 1     1            1064          2018\n",
       "3 1     0             388          2020\n",
       "4 1     1            1359          2020\n",
       "5 1     0             235          2022\n",
       "6 1     1            1019          2022"
      ]
     },
     "metadata": {}
    }
   ]
  },
  {
   "metadata": {},
   "cell_type": "markdown",
   "source": "### Estimación de metas de población indígena analfabeta",
   "id": "c2e1da5cb1bd01b1"
  },
  {
   "metadata": {
    "ExecuteTime": {
     "end_time": "2025-02-06T00:42:27.512567Z",
     "start_time": "2025-02-06T00:42:27.485688Z"
    }
   },
   "cell_type": "code",
   "source": [
    "#Tabla de analfabetismo\n",
    "datos<-data.frame(tabla_analfabetismo$year,tabla_analfabetismo$porcentaje)%>%\n",
    "    rename(year=tabla_analfabetismo.year,\n",
    "             porcentaje=tabla_analfabetismo.porcentaje)%>%\n",
    "mutate(year=as.numeric(year))\n",
    "datos"
   ],
   "id": "c23925bfdc8c7441",
   "outputs": [
    {
     "data": {
      "text/html": [
       "<table class=\"dataframe\">\n",
       "<caption>A data.frame: 4 × 2</caption>\n",
       "<thead>\n",
       "\t<tr><th scope=col>year</th><th scope=col>porcentaje</th></tr>\n",
       "\t<tr><th scope=col>&lt;dbl&gt;</th><th scope=col>&lt;dbl&gt;</th></tr>\n",
       "</thead>\n",
       "<tbody>\n",
       "\t<tr><td>2016</td><td>6.14</td></tr>\n",
       "\t<tr><td>2018</td><td>7.33</td></tr>\n",
       "\t<tr><td>2020</td><td>6.60</td></tr>\n",
       "\t<tr><td>2022</td><td>5.79</td></tr>\n",
       "</tbody>\n",
       "</table>\n"
      ],
      "text/markdown": "\nA data.frame: 4 × 2\n\n| year &lt;dbl&gt; | porcentaje &lt;dbl&gt; |\n|---|---|\n| 2016 | 6.14 |\n| 2018 | 7.33 |\n| 2020 | 6.60 |\n| 2022 | 5.79 |\n\n",
      "text/latex": "A data.frame: 4 × 2\n\\begin{tabular}{ll}\n year & porcentaje\\\\\n <dbl> & <dbl>\\\\\n\\hline\n\t 2016 & 6.14\\\\\n\t 2018 & 7.33\\\\\n\t 2020 & 6.60\\\\\n\t 2022 & 5.79\\\\\n\\end{tabular}\n",
      "text/plain": [
       "  year porcentaje\n",
       "1 2016 6.14      \n",
       "2 2018 7.33      \n",
       "3 2020 6.60      \n",
       "4 2022 5.79      "
      ]
     },
     "metadata": {},
     "output_type": "display_data"
    }
   ],
   "execution_count": 37
  },
  {
   "metadata": {
    "ExecuteTime": {
     "end_time": "2025-02-06T00:43:32.278866Z",
     "start_time": "2025-02-06T00:43:32.263509Z"
    }
   },
   "cell_type": "code",
   "source": [
    "##Calcular tasa de crecimiento promedio anual de 2016 a 2022\n",
    "\n",
    "valor_inicial<-datos$porcentaje[1]\n",
    "valor_final <- datos$porcentaje[length(datos$porcentaje)]\n",
    "n <- datos$year[length(datos$year)] - datos$year[1]\n",
    "\n",
    "tasa_crecimiento <- (valor_final / valor_inicial)^(1 / n) - 1\n",
    "tasa_crecimiento"
   ],
   "id": "66d7ad7e54b6304c",
   "outputs": [
    {
     "data": {
      "text/html": [
       "-0.00973438622448441"
      ],
      "text/markdown": "-0.00973438622448441",
      "text/latex": "-0.00973438622448441",
      "text/plain": [
       "[1] -0.009734386"
      ]
     },
     "metadata": {},
     "output_type": "display_data"
    }
   ],
   "execution_count": 42
  },
  {
   "metadata": {
    "ExecuteTime": {
     "end_time": "2025-02-06T00:43:38.603805Z",
     "start_time": "2025-02-06T00:43:38.585968Z"
    }
   },
   "cell_type": "code",
   "source": [
    "proyecciones <- data.frame(year = seq(2023, 2045, by = 1))\n",
    "proyecciones$porcentaje <- valor_final * (1 + tasa_crecimiento)^(proyecciones$year - 2022)\n",
    "proyecciones"
   ],
   "id": "ba1e1dd0c7dd2b1b",
   "outputs": [
    {
     "data": {
      "text/html": [
       "<table class=\"dataframe\">\n",
       "<caption>A data.frame: 23 × 2</caption>\n",
       "<thead>\n",
       "\t<tr><th scope=col>year</th><th scope=col>porcentaje</th></tr>\n",
       "\t<tr><th scope=col>&lt;dbl&gt;</th><th scope=col>&lt;dbl&gt;</th></tr>\n",
       "</thead>\n",
       "<tbody>\n",
       "\t<tr><td>2023</td><td>5.733638</td></tr>\n",
       "\t<tr><td>2024</td><td>5.677824</td></tr>\n",
       "\t<tr><td>2025</td><td>5.622554</td></tr>\n",
       "\t<tr><td>2026</td><td>5.567822</td></tr>\n",
       "\t<tr><td>2027</td><td>5.513623</td></tr>\n",
       "\t<tr><td>2028</td><td>5.459951</td></tr>\n",
       "\t<tr><td>2029</td><td>5.406802</td></tr>\n",
       "\t<tr><td>2030</td><td>5.354170</td></tr>\n",
       "\t<tr><td>2031</td><td>5.302050</td></tr>\n",
       "\t<tr><td>2032</td><td>5.250438</td></tr>\n",
       "\t<tr><td>2033</td><td>5.199328</td></tr>\n",
       "\t<tr><td>2034</td><td>5.148716</td></tr>\n",
       "\t<tr><td>2035</td><td>5.098597</td></tr>\n",
       "\t<tr><td>2036</td><td>5.048965</td></tr>\n",
       "\t<tr><td>2037</td><td>4.999816</td></tr>\n",
       "\t<tr><td>2038</td><td>4.951146</td></tr>\n",
       "\t<tr><td>2039</td><td>4.902950</td></tr>\n",
       "\t<tr><td>2040</td><td>4.855223</td></tr>\n",
       "\t<tr><td>2041</td><td>4.807960</td></tr>\n",
       "\t<tr><td>2042</td><td>4.761157</td></tr>\n",
       "\t<tr><td>2043</td><td>4.714810</td></tr>\n",
       "\t<tr><td>2044</td><td>4.668915</td></tr>\n",
       "\t<tr><td>2045</td><td>4.623466</td></tr>\n",
       "</tbody>\n",
       "</table>\n"
      ],
      "text/markdown": "\nA data.frame: 23 × 2\n\n| year &lt;dbl&gt; | porcentaje &lt;dbl&gt; |\n|---|---|\n| 2023 | 5.733638 |\n| 2024 | 5.677824 |\n| 2025 | 5.622554 |\n| 2026 | 5.567822 |\n| 2027 | 5.513623 |\n| 2028 | 5.459951 |\n| 2029 | 5.406802 |\n| 2030 | 5.354170 |\n| 2031 | 5.302050 |\n| 2032 | 5.250438 |\n| 2033 | 5.199328 |\n| 2034 | 5.148716 |\n| 2035 | 5.098597 |\n| 2036 | 5.048965 |\n| 2037 | 4.999816 |\n| 2038 | 4.951146 |\n| 2039 | 4.902950 |\n| 2040 | 4.855223 |\n| 2041 | 4.807960 |\n| 2042 | 4.761157 |\n| 2043 | 4.714810 |\n| 2044 | 4.668915 |\n| 2045 | 4.623466 |\n\n",
      "text/latex": "A data.frame: 23 × 2\n\\begin{tabular}{ll}\n year & porcentaje\\\\\n <dbl> & <dbl>\\\\\n\\hline\n\t 2023 & 5.733638\\\\\n\t 2024 & 5.677824\\\\\n\t 2025 & 5.622554\\\\\n\t 2026 & 5.567822\\\\\n\t 2027 & 5.513623\\\\\n\t 2028 & 5.459951\\\\\n\t 2029 & 5.406802\\\\\n\t 2030 & 5.354170\\\\\n\t 2031 & 5.302050\\\\\n\t 2032 & 5.250438\\\\\n\t 2033 & 5.199328\\\\\n\t 2034 & 5.148716\\\\\n\t 2035 & 5.098597\\\\\n\t 2036 & 5.048965\\\\\n\t 2037 & 4.999816\\\\\n\t 2038 & 4.951146\\\\\n\t 2039 & 4.902950\\\\\n\t 2040 & 4.855223\\\\\n\t 2041 & 4.807960\\\\\n\t 2042 & 4.761157\\\\\n\t 2043 & 4.714810\\\\\n\t 2044 & 4.668915\\\\\n\t 2045 & 4.623466\\\\\n\\end{tabular}\n",
      "text/plain": [
       "   year porcentaje\n",
       "1  2023 5.733638  \n",
       "2  2024 5.677824  \n",
       "3  2025 5.622554  \n",
       "4  2026 5.567822  \n",
       "5  2027 5.513623  \n",
       "6  2028 5.459951  \n",
       "7  2029 5.406802  \n",
       "8  2030 5.354170  \n",
       "9  2031 5.302050  \n",
       "10 2032 5.250438  \n",
       "11 2033 5.199328  \n",
       "12 2034 5.148716  \n",
       "13 2035 5.098597  \n",
       "14 2036 5.048965  \n",
       "15 2037 4.999816  \n",
       "16 2038 4.951146  \n",
       "17 2039 4.902950  \n",
       "18 2040 4.855223  \n",
       "19 2041 4.807960  \n",
       "20 2042 4.761157  \n",
       "21 2043 4.714810  \n",
       "22 2044 4.668915  \n",
       "23 2045 4.623466  "
      ]
     },
     "metadata": {},
     "output_type": "display_data"
    }
   ],
   "execution_count": 43
  },
  {
   "metadata": {
    "ExecuteTime": {
     "end_time": "2025-02-06T00:43:44.652018Z",
     "start_time": "2025-02-06T00:43:44.633050Z"
    }
   },
   "cell_type": "code",
   "source": [
    "datos_proyectados <- rbind(datos, proyecciones)\n",
    "datos_proyectados"
   ],
   "id": "19333df53ce1469b",
   "outputs": [
    {
     "data": {
      "text/html": [
       "<table class=\"dataframe\">\n",
       "<caption>A data.frame: 27 × 2</caption>\n",
       "<thead>\n",
       "\t<tr><th scope=col>year</th><th scope=col>porcentaje</th></tr>\n",
       "\t<tr><th scope=col>&lt;dbl&gt;</th><th scope=col>&lt;dbl&gt;</th></tr>\n",
       "</thead>\n",
       "<tbody>\n",
       "\t<tr><td>2016</td><td>6.140000</td></tr>\n",
       "\t<tr><td>2018</td><td>7.330000</td></tr>\n",
       "\t<tr><td>2020</td><td>6.600000</td></tr>\n",
       "\t<tr><td>2022</td><td>5.790000</td></tr>\n",
       "\t<tr><td>2023</td><td>5.733638</td></tr>\n",
       "\t<tr><td>2024</td><td>5.677824</td></tr>\n",
       "\t<tr><td>2025</td><td>5.622554</td></tr>\n",
       "\t<tr><td>2026</td><td>5.567822</td></tr>\n",
       "\t<tr><td>2027</td><td>5.513623</td></tr>\n",
       "\t<tr><td>2028</td><td>5.459951</td></tr>\n",
       "\t<tr><td>2029</td><td>5.406802</td></tr>\n",
       "\t<tr><td>2030</td><td>5.354170</td></tr>\n",
       "\t<tr><td>2031</td><td>5.302050</td></tr>\n",
       "\t<tr><td>2032</td><td>5.250438</td></tr>\n",
       "\t<tr><td>2033</td><td>5.199328</td></tr>\n",
       "\t<tr><td>2034</td><td>5.148716</td></tr>\n",
       "\t<tr><td>2035</td><td>5.098597</td></tr>\n",
       "\t<tr><td>2036</td><td>5.048965</td></tr>\n",
       "\t<tr><td>2037</td><td>4.999816</td></tr>\n",
       "\t<tr><td>2038</td><td>4.951146</td></tr>\n",
       "\t<tr><td>2039</td><td>4.902950</td></tr>\n",
       "\t<tr><td>2040</td><td>4.855223</td></tr>\n",
       "\t<tr><td>2041</td><td>4.807960</td></tr>\n",
       "\t<tr><td>2042</td><td>4.761157</td></tr>\n",
       "\t<tr><td>2043</td><td>4.714810</td></tr>\n",
       "\t<tr><td>2044</td><td>4.668915</td></tr>\n",
       "\t<tr><td>2045</td><td>4.623466</td></tr>\n",
       "</tbody>\n",
       "</table>\n"
      ],
      "text/markdown": "\nA data.frame: 27 × 2\n\n| year &lt;dbl&gt; | porcentaje &lt;dbl&gt; |\n|---|---|\n| 2016 | 6.140000 |\n| 2018 | 7.330000 |\n| 2020 | 6.600000 |\n| 2022 | 5.790000 |\n| 2023 | 5.733638 |\n| 2024 | 5.677824 |\n| 2025 | 5.622554 |\n| 2026 | 5.567822 |\n| 2027 | 5.513623 |\n| 2028 | 5.459951 |\n| 2029 | 5.406802 |\n| 2030 | 5.354170 |\n| 2031 | 5.302050 |\n| 2032 | 5.250438 |\n| 2033 | 5.199328 |\n| 2034 | 5.148716 |\n| 2035 | 5.098597 |\n| 2036 | 5.048965 |\n| 2037 | 4.999816 |\n| 2038 | 4.951146 |\n| 2039 | 4.902950 |\n| 2040 | 4.855223 |\n| 2041 | 4.807960 |\n| 2042 | 4.761157 |\n| 2043 | 4.714810 |\n| 2044 | 4.668915 |\n| 2045 | 4.623466 |\n\n",
      "text/latex": "A data.frame: 27 × 2\n\\begin{tabular}{ll}\n year & porcentaje\\\\\n <dbl> & <dbl>\\\\\n\\hline\n\t 2016 & 6.140000\\\\\n\t 2018 & 7.330000\\\\\n\t 2020 & 6.600000\\\\\n\t 2022 & 5.790000\\\\\n\t 2023 & 5.733638\\\\\n\t 2024 & 5.677824\\\\\n\t 2025 & 5.622554\\\\\n\t 2026 & 5.567822\\\\\n\t 2027 & 5.513623\\\\\n\t 2028 & 5.459951\\\\\n\t 2029 & 5.406802\\\\\n\t 2030 & 5.354170\\\\\n\t 2031 & 5.302050\\\\\n\t 2032 & 5.250438\\\\\n\t 2033 & 5.199328\\\\\n\t 2034 & 5.148716\\\\\n\t 2035 & 5.098597\\\\\n\t 2036 & 5.048965\\\\\n\t 2037 & 4.999816\\\\\n\t 2038 & 4.951146\\\\\n\t 2039 & 4.902950\\\\\n\t 2040 & 4.855223\\\\\n\t 2041 & 4.807960\\\\\n\t 2042 & 4.761157\\\\\n\t 2043 & 4.714810\\\\\n\t 2044 & 4.668915\\\\\n\t 2045 & 4.623466\\\\\n\\end{tabular}\n",
      "text/plain": [
       "   year porcentaje\n",
       "1  2016 6.140000  \n",
       "2  2018 7.330000  \n",
       "3  2020 6.600000  \n",
       "4  2022 5.790000  \n",
       "5  2023 5.733638  \n",
       "6  2024 5.677824  \n",
       "7  2025 5.622554  \n",
       "8  2026 5.567822  \n",
       "9  2027 5.513623  \n",
       "10 2028 5.459951  \n",
       "11 2029 5.406802  \n",
       "12 2030 5.354170  \n",
       "13 2031 5.302050  \n",
       "14 2032 5.250438  \n",
       "15 2033 5.199328  \n",
       "16 2034 5.148716  \n",
       "17 2035 5.098597  \n",
       "18 2036 5.048965  \n",
       "19 2037 4.999816  \n",
       "20 2038 4.951146  \n",
       "21 2039 4.902950  \n",
       "22 2040 4.855223  \n",
       "23 2041 4.807960  \n",
       "24 2042 4.761157  \n",
       "25 2043 4.714810  \n",
       "26 2044 4.668915  \n",
       "27 2045 4.623466  "
      ]
     },
     "metadata": {},
     "output_type": "display_data"
    }
   ],
   "execution_count": 44
  },
  {
   "metadata": {
    "ExecuteTime": {
     "end_time": "2025-02-06T00:43:54.300975Z",
     "start_time": "2025-02-06T00:43:53.959094Z"
    }
   },
   "cell_type": "code",
   "source": [
    "#Gráfica\n",
    "ggplot(datos_proyectados, aes(x = year, y = porcentaje)) +\n",
    "  geom_line() +\n",
    "  geom_point() +\n",
    "  labs(title = \"Porcentaje de población indígena analfabeta en la CDMX\",\n",
    "       x = \"Año\",\n",
    "       y = \"Porcentaje\") +\n",
    "  theme_minimal()"
   ],
   "id": "55a300fd6aa52e24",
   "outputs": [
    {
     "data": {
      "text/plain": [
       "plot without title"
      ],
      "image/png": "[encoded data removed]"
     },
     "metadata": {
      "image/png": {
       "width": 420,
       "height": 420
      }
     },
     "output_type": "display_data"
    }
   ],
   "execution_count": 45
  },
  {
   "metadata": {
    "ExecuteTime": {
     "end_time": "2025-02-06T00:44:27.784495Z",
     "start_time": "2025-02-06T00:44:27.769820Z"
    }
   },
   "cell_type": "code",
   "source": [
    "#Datos 2030, 2035 y 2045\n",
    "datos_proyectados %>% filter(year %in% c(2030, 2035, 2045))"
   ],
   "id": "95bc140005a8d6b2",
   "outputs": [
    {
     "data": {
      "text/html": [
       "<table class=\"dataframe\">\n",
       "<caption>A data.frame: 3 × 2</caption>\n",
       "<thead>\n",
       "\t<tr><th scope=col>year</th><th scope=col>porcentaje</th></tr>\n",
       "\t<tr><th scope=col>&lt;dbl&gt;</th><th scope=col>&lt;dbl&gt;</th></tr>\n",
       "</thead>\n",
       "<tbody>\n",
       "\t<tr><td>2030</td><td>5.354170</td></tr>\n",
       "\t<tr><td>2035</td><td>5.098597</td></tr>\n",
       "\t<tr><td>2045</td><td>4.623466</td></tr>\n",
       "</tbody>\n",
       "</table>\n"
      ],
      "text/markdown": "\nA data.frame: 3 × 2\n\n| year &lt;dbl&gt; | porcentaje &lt;dbl&gt; |\n|---|---|\n| 2030 | 5.354170 |\n| 2035 | 5.098597 |\n| 2045 | 4.623466 |\n\n",
      "text/latex": "A data.frame: 3 × 2\n\\begin{tabular}{ll}\n year & porcentaje\\\\\n <dbl> & <dbl>\\\\\n\\hline\n\t 2030 & 5.354170\\\\\n\t 2035 & 5.098597\\\\\n\t 2045 & 4.623466\\\\\n\\end{tabular}\n",
      "text/plain": [
       "  year porcentaje\n",
       "1 2030 5.354170  \n",
       "2 2035 5.098597  \n",
       "3 2045 4.623466  "
      ]
     },
     "metadata": {},
     "output_type": "display_data"
    }
   ],
   "execution_count": 47
  }
 ],
 "metadata": {
  "kernelspec": {
   "display_name": "R",
   "language": "R",
   "name": "ir"
  },
  "language_info": {
   "codemirror_mode": {
    "name": "ipython",
    "version": 2
   },
   "file_extension": ".py",
   "mimetype": "text/x-python",
   "name": "python",
   "nbconvert_exporter": "python",
   "pygments_lexer": "ipython2",
   "version": "2.7.6"
  },
  "colab": {
   "provenance": [],
   "include_colab_link": true
  }
 },
 "nbformat": 4,
 "nbformat_minor": 5
}
