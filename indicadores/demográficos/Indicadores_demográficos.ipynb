{
 "cells": [
  {
   "cell_type": "markdown",
   "id": "97a01d71",
   "metadata": {},
   "source": [
    "### Indicadores demográficos a nivel Ciudad de México"
   ]
  },
  {
   "cell_type": "code",
   "execution_count": 1,
   "id": "dd00c630",
   "metadata": {
    "vscode": {
     "languageId": "r"
    }
   },
   "outputs": [
    {
     "name": "stderr",
     "output_type": "stream",
     "text": [
      "Cargando paquete requerido: pacman\n",
      "\n"
     ]
    }
   ],
   "source": [
    "if(! require('pacman')) install.packages('pacman')\n",
    "pacman::p_load(tidyverse, readxl, janitor, stringr, writexl, foreign, downloader, tools, archive)"
   ]
  },
  {
   "cell_type": "markdown",
   "id": "d3c3ef16",
   "metadata": {},
   "source": [
    "Descargar los datos de Defunciones Registradas de INEGI"
   ]
  },
  {
   "cell_type": "code",
   "execution_count": 2,
   "id": "e1a2ee27",
   "metadata": {
    "vscode": {
     "languageId": "r"
    }
   },
   "outputs": [
    {
     "name": "stderr",
     "output_type": "stream",
     "text": [
      "Warning message in dir.create(\"Estadísticas de Defunciones Registradas (EDR)\"):\n",
      "\"'Estadísticas de Defunciones Registradas (EDR)' already exists\"\n"
     ]
    },
    {
     "name": "stdout",
     "output_type": "stream",
     "text": [
      "[1] TRUE\n"
     ]
    }
   ],
   "source": [
    "#Definiciones para antes de descargar los datos\n",
    "dir.create('Estadísticas de Defunciones Registradas (EDR)')\n",
    "# Crear directorio principal\n",
    "dir_datos <- 'Estadísticas de Defunciones Registradas (EDR)/Microdatos_1'\n",
    "if (!dir.exists(dir_datos)) {\n",
    "  dir.create(dir_datos, recursive = TRUE)\n",
    "}\n",
    "print(file.exists(dir_datos)) #True = directorio creado"
   ]
  },
  {
   "cell_type": "code",
   "execution_count": 25,
   "id": "80e00cf3",
   "metadata": {
    "vscode": {
     "languageId": "r"
    }
   },
   "outputs": [],
   "source": [
    "descargar_defunciones_dbf <- function() {\n",
    "  options(timeout = 90000)\n",
    "  lista_defun <- list()\n",
    "  \n",
    "  # Lista de URLs con sus años o periodos\n",
    "  urls <- list(\n",
    "    '2023' = 'https://www.inegi.org.mx/contenidos/programas/edr/microdatos/defunciones/2023/defunciones_base_datos_2023_dbf.zip',\n",
    "    '2022' = 'https://www.inegi.org.mx/contenidos/programas/edr/microdatos/defunciones/2022/defunciones_base_datos_2022_dbf.zip',\n",
    "    '2021' = 'https://www.inegi.org.mx/contenidos/programas/edr/microdatos/defunciones/2021/defunciones_base_datos_2021_dbf.zip',\n",
    "    '2020' = 'https://www.inegi.org.mx/contenidos/programas/edr/microdatos/defunciones/2020/defunciones_base_datos_2020_dbf.zip'\n",
    "    # '2015_2019' = 'https://www.inegi.org.mx/contenidos/programas/edr/microdatos/defunciones/datos/defunciones_generales_base_datos_2015_2019_dbf.zip'\n",
    "  )\n",
    "  \n",
    "  for (periodo in names(urls)) {\n",
    "    url <- urls[[periodo]]\n",
    "    zip_path <- file.path(dir_datos, basename(url))\n",
    "    download.file(url, zip_path, mode = \"wb\")\n",
    "    \n",
    "    # Carpeta para extraer\n",
    "    unzip_dir <- file.path(dir_datos, paste0('Defunciones_', periodo))\n",
    "    dir.create(unzip_dir, showWarnings = FALSE)\n",
    "    \n",
    "    unzip(zip_path, exdir = unzip_dir)\n",
    "    unlink(zip_path)  # borrar zip\n",
    "    \n",
    "    # Buscar archivos .dbf en el unzip_dir\n",
    "    dbf_files <- list.files(unzip_dir, pattern = '\\\\.dbf$', full.names = TRUE, ignore.case = TRUE)\n",
    "    \n",
    "    if(length(dbf_files) == 0) {\n",
    "      warning(paste0('No se encontró archivo DBF para ', periodo))\n",
    "      next\n",
    "    }\n",
    "    \n",
    "    # Leer cada DBF y guardarlo en lista\n",
    "    period_lista_defun <- list()\n",
    "    for(dbf_file in dbf_files) {\n",
    "      nombre <- file_path_sans_ext(basename(dbf_file))\n",
    "      df <- tryCatch({\n",
    "        read.dbf(dbf_file, as.is = TRUE) %>% as_tibble() %>% \n",
    "          clean_names()\n",
    "      }, error = function(e) {\n",
    "        warning(paste0('Error leyendo DBF: ', dbf_file))\n",
    "        NULL\n",
    "      })\n",
    "      \n",
    "      if(!is.null(df)) {\n",
    "        period_lista_defun[[nombre]] <- df\n",
    "      }\n",
    "    }\n",
    "    \n",
    "    lista_defun[[periodo]] <- period_lista_defun\n",
    "  }\n",
    "  \n",
    "  # Guardar la lista completa como archivo RDS\n",
    "  saveRDS(lista_defun, file = 'Estadísticas de Defunciones Registradas (EDR)/edr_data.rds')\n",
    "  return(lista_defun)\n",
    "}"
   ]
  },
  {
   "cell_type": "code",
   "execution_count": 26,
   "id": "58a46028",
   "metadata": {
    "vscode": {
     "languageId": "r"
    }
   },
   "outputs": [],
   "source": [
    "defunciones <- descargar_defunciones_dbf()"
   ]
  },
  {
   "cell_type": "markdown",
   "id": "f15f8990",
   "metadata": {},
   "source": [
    "Descargar los datos del Subsistema de Información sobre Nacimientos (SINAC) de la Secretaría de Salud Federal."
   ]
  },
  {
   "cell_type": "code",
   "execution_count": 18,
   "id": "8a1a0693",
   "metadata": {
    "vscode": {
     "languageId": "r"
    }
   },
   "outputs": [
    {
     "name": "stderr",
     "output_type": "stream",
     "text": [
      "Warning message in dir.create(\"SINAC\"):\n",
      "\"'SINAC' already exists\"\n"
     ]
    }
   ],
   "source": [
    "dir.create('SINAC')\n",
    "options(timeout = 600) #Aumentar el tiempo de espera para la descarga\n",
    "#Crear lista para guardar los datos de sinac\n",
    "lista_nacimientos <- list()"
   ]
  },
  {
   "cell_type": "code",
   "execution_count": null,
   "id": "a2fa982a",
   "metadata": {
    "vscode": {
     "languageId": "r"
    }
   },
   "outputs": [
    {
     "name": "stderr",
     "output_type": "stream",
     "text": [
      "Año 2019 procesado correctamente.\n",
      "\n",
      "Año 2020 procesado correctamente.\n",
      "\n",
      "Año 2021 procesado correctamente.\n",
      "\n",
      "Año 2022 procesado correctamente.\n",
      "\n",
      "Año 2023 procesado correctamente.\n",
      "\n"
     ]
    }
   ],
   "source": [
    "#iterar por los años de descarga\n",
    "    for (year in 19:23) {\n",
    "#Crear la cadena de los años 2020 a 2023\n",
    "        \n",
    "        year_str <- paste0('20', year)\n",
    "        #Cosntruir la url de descarga\n",
    "        url <- paste0('http://www.dgis.salud.gob.mx/descargas/datosabiertos/nacimientos/sinac_', year_str, '.zip')\n",
    "        \n",
    "        #nombre y carpeta del archivo zip\n",
    "        zip_file <- paste0('SINAC/sinac_', year_str, '.zip')\n",
    "        extract_dir <- paste0('SINAC/sinac_', year_str)\n",
    "#Crear carpeta si no existe\n",
    "        if(!dir.exists('SINAC')) dir.create('SINAC')\n",
    "\n",
    "#Intentar descargar archivos con trycatch\n",
    "        tryCatch({\n",
    "            download.file(url, destfile = zip_file, mode = 'wb')\n",
    "            \n",
    "            #Crear carpeta de extracción si no existe\n",
    "            if(!file.exists(extract_dir)) dir.create(extract_dir)\n",
    "                          \n",
    "            #Descrompimir el archivo zip\n",
    "            unzip(zip_file, exdir = extract_dir)\n",
    "\n",
    "             #Buscar los archivos descomprimidos\n",
    "            files <- list.files(extract_dir, full.names = TRUE)\n",
    "    \n",
    "    #Leer el primer archivo CSV encontrado (ajusta si es otro formato)\n",
    "            csv_file <- files[grep(\"\\\\.csv$\", files)][1]\n",
    "    \n",
    "        if (!is.na(csv_file)) {\n",
    "        df <- read.csv(csv_file, stringsAsFactors = FALSE) %>% clean_names()\n",
    "      \n",
    "        # Guardar el dataframe en la lista\n",
    "        lista_nacimientos[[year_str]] <- df\n",
    "        \n",
    "        # Eliminar el archivo ZIP\n",
    "        file.remove(zip_file)\n",
    "\n",
    "        #Guardar la lista completa para no volver a descargar los datos\n",
    "        saveRDS(lista_nacimientos, file = 'SINAC/sinac_data.rds')\n",
    "        \n",
    "        message(paste('Año', year_str, 'procesado correctamente.'))\n",
    "        } else {\n",
    "        message(paste('No se encontró archivo CSV en', extract_dir))\n",
    "        }\n",
    "    }, error = function(e) {\n",
    "        message(paste('Error al procesar el año', year_str))\n",
    "    })\n",
    "    }\n"
   ]
  },
  {
   "cell_type": "markdown",
   "id": "52417f75",
   "metadata": {},
   "source": [
    "Descargar los datos del Censo Población y Vivienda 2020"
   ]
  },
  {
   "cell_type": "code",
   "execution_count": 53,
   "id": "196c86c9",
   "metadata": {
    "vscode": {
     "languageId": "r"
    }
   },
   "outputs": [],
   "source": [
    "#Carpeta donde se guardará todo\n",
    "base_dir <- 'Censo Poblacion y Vivienda 2020'\n",
    "\n",
    "#Url de descarga\n",
    "url <- url <- 'https://www.inegi.org.mx/contenidos/programas/ccpv/2020/tabulados/cpv2020_b_cdmx_01_poblacion.xlsx'\n",
    "\n",
    "# Ruta de guardado del archivo\n",
    "excel_file <- file.path(base_dir, 'cpv2020_b_cdmx_01_poblacion.xlsx')\n"
   ]
  },
  {
   "cell_type": "code",
   "execution_count": 56,
   "id": "04213df9",
   "metadata": {
    "vscode": {
     "languageId": "r"
    }
   },
   "outputs": [
    {
     "name": "stderr",
     "output_type": "stream",
     "text": [
      "El archivo Excel ya existe, no se descarga de nuevo.\n",
      "\n"
     ]
    },
    {
     "name": "stderr",
     "output_type": "stream",
     "text": [
      "\u001b[1m\u001b[22mNew names:\n",
      "\u001b[36m•\u001b[39m `Total` -> `Total...2`\n",
      "\u001b[36m•\u001b[39m `Total` -> `Total...3`\n",
      "Censo 2020 leído y guardado correctamente.\n",
      "\n"
     ]
    }
   ],
   "source": [
    "# Crear carpeta base si no existe\n",
    "if (!dir.exists(base_dir)) dir.create(base_dir)\n",
    "\n",
    "# Descargar el archivo Excel si no existe\n",
    "if (!file.exists(excel_file)) {\n",
    "  download.file(url, destfile = excel_file, mode = 'wb')\n",
    "  message('Archivo Excel descargado correctamente.')\n",
    "} else {\n",
    "  message('El archivo Excel ya existe, no se descarga de nuevo.')\n",
    "}\n",
    "\n",
    "# Leer la hoja correspondiente\n",
    "censo_tabla <- read_excel(excel_file, sheet = '03', range = 'A9:G1759') %>% \n",
    "clean_names()\n",
    "\n",
    "colnames(censo_tabla) <- c('entidad_federativa', 'demarcacion_territorial', 'edad_desplegada', 'poblacion_total', 'hombres', 'mujeres', 'relacion_hombres_mujeres')\n",
    "\n",
    "# Guardar el dataframe para no volver a cargarlo\n",
    "saveRDS(censo_tabla, file = file.path(base_dir, 'censo_data.rds'))\n",
    "\n",
    "message('Censo 2020 leído y guardado correctamente.')"
   ]
  },
  {
   "cell_type": "markdown",
   "id": "fca38399",
   "metadata": {},
   "source": [
    "Datos de población CONAPO"
   ]
  },
  {
   "cell_type": "code",
   "execution_count": null,
   "id": "c01f59b5",
   "metadata": {
    "vscode": {
     "languageId": "r"
    }
   },
   "outputs": [],
   "source": [
    "dir.create('CONAPO', showWarnings = FALSE)\n",
    "\n",
    "#Carpeta donde se guardará todo\n",
    "base_dir <- 'CONAPO'\n",
    "\n",
    "#Url de descarga\n",
    "url <- 'https://conapo.segob.gob.mx/work/models/CONAPO/pry23/DB/ConDem50a19_ProyPob20a70.zip'\n",
    "\n",
    "#Archivo zip y carpeta de extracción\n",
    "zip_file <- file.path(base_dir, 'conapo_data.zip')\n",
    "\n",
    "extract_dir <- file.path(base_dir, '0_Pob_Mitad_1950_2070')"
   ]
  },
  {
   "cell_type": "code",
   "execution_count": 12,
   "id": "e590c916",
   "metadata": {
    "vscode": {
     "languageId": "r"
    }
   },
   "outputs": [
    {
     "name": "stdout",
     "output_type": "stream",
     "text": [
      "[1] \"conapo_data.zip\"                                                          \n",
      "[2] \"ConDem50a19_ProyPob20a70/0_Pob_Inicio_1950_2070.xlsx\"                     \n",
      "[3] \"ConDem50a19_ProyPob20a70/0_Pob_Mitad_1950_2070.xlsx\"                      \n",
      "[4] \"ConDem50a19_ProyPob20a70/1_Defunciones_1950_2070.xlsx\"                    \n",
      "[5] \"ConDem50a19_ProyPob20a70/2_mig_inter_quinquen_proyecciones.xlsx\"          \n",
      "[6] \"ConDem50a19_ProyPob20a70/3_mig_interest_quinquenal_proyecciones.xlsx\"     \n",
      "[7] \"ConDem50a19_ProyPob20a70/4_Tasas_Especificas_Fecundidad_proyecciones.xlsx\"\n",
      "[8] \"ConDem50a19_ProyPob20a70/5_Indicadores_demográficos_proyecciones.xlsx\"    \n",
      "[9] \"ConDem50a19_ProyPob20a70/6_Esperanza_Vida_Nacer_1950_2070.xlsx\"           \n",
      "[1] \"Archivo encontrado: CONAPO/ConDem50a19_ProyPob20a70/0_Pob_Mitad_1950_2070.xlsx\"\n"
     ]
    },
    {
     "name": "stderr",
     "output_type": "stream",
     "text": [
      "Datos CONAPO leídos correctamente\n",
      "\n"
     ]
    }
   ],
   "source": [
    "if(!file.exists(zip_file)) {\n",
    "  download(url, destfile = zip_file, mode = 'wb')\n",
    "}\n",
    "\n",
    "if (!dir.exists(extract_dir)) {\n",
    "  archive_extract(zip_file, dir = base_dir)\n",
    "}\n",
    "\n",
    "print(list.files(base_dir, recursive = TRUE))\n",
    "\n",
    "files <- list.files(base_dir, pattern = '\\\\.xlsx$', full.names = TRUE, recursive = TRUE)\n",
    "\n",
    "if(length(files) == 0) stop('No se encontró el archivo excel')\n",
    "\n",
    "excel_file <- files[2]\n",
    "print(paste('Archivo encontrado:', excel_file))\n",
    "\n",
    "pob_conapo <- read_xlsx(excel_file) %>% \n",
    "clean_names()\n",
    "\n",
    "# Guardar el dataframe para no volver a cargarlo\n",
    "saveRDS(pob_conapo, file = file.path(base_dir, 'conapo_data.rds'))\n",
    "\n",
    "message('Datos CONAPO leídos correctamente')\n"
   ]
  },
  {
   "cell_type": "markdown",
   "id": "eaed0283",
   "metadata": {},
   "source": [
    "Descargar datos ENANID"
   ]
  },
  {
   "cell_type": "code",
   "execution_count": 5,
   "id": "c52e8b32",
   "metadata": {
    "vscode": {
     "languageId": "r"
    }
   },
   "outputs": [
    {
     "name": "stderr",
     "output_type": "stream",
     "text": [
      "Warning message in dir.create(\"ENADID\"):\n",
      "\"'ENADID' already exists\"\n"
     ]
    }
   ],
   "source": [
    "dir.create('ENADID')"
   ]
  },
  {
   "cell_type": "code",
   "execution_count": 15,
   "id": "677b80e1",
   "metadata": {
    "vscode": {
     "languageId": "r"
    }
   },
   "outputs": [],
   "source": [
    "lista_enadid <- list()"
   ]
  },
  {
   "cell_type": "code",
   "execution_count": 16,
   "id": "bfaf97a3",
   "metadata": {
    "vscode": {
     "languageId": "r"
    }
   },
   "outputs": [],
   "source": [
    "descargar_enadid <- function() {\n",
    "\n",
    "  options(timeout = 60000)\n",
    "\n",
    "  enadid_urls <- list(\n",
    "    '2023' = 'https://www.inegi.org.mx/contenidos/programas/enadid/2023/microdatos/base_datos_enadid23_csv.zip',\n",
    "    '2018' = 'https://www.inegi.org.mx/contenidos/programas/enadid/2018/microdatos/base_datos_enadid18_csv.zip',\n",
    "    '2014' = 'https://www.inegi.org.mx/contenidos/programas/enadid/2014/microdatos/base_datos_enadid14_dbf.zip'\n",
    "  )\n",
    "\n",
    "  dir_enadid <- 'ENADID'\n",
    "\n",
    "  if(!dir.exists(dir_enadid)) dir.create(dir_enadid)\n",
    "  lista_enadid <- list()\n",
    "  \n",
    "  for (anio in names(enadid_urls)) {\n",
    "    url <- enadid_urls[[anio]]\n",
    "    zip_file <- file.path(dir_enadid, basename(url))\n",
    "    extract_dir <- file.path(dir_enadid, paste0('ENADID_', anio))\n",
    "    if(!dir.exists(extract_dir)) dir.create(extract_dir)\n",
    "    download.file(url, destfile = zip_file, mode = 'wb')\n",
    "    unzip(zip_file, exdir = extract_dir)\n",
    "    file.remove(zip_file)\n",
    "    \n",
    "    # Buscar archivos csv o dbf\n",
    "    csvs <- list.files(extract_dir, pattern = '\\\\.csv$', full.names = TRUE, ignore.case = TRUE)\n",
    "    dbfs <- list.files(extract_dir, pattern = '\\\\.dbf$', full.names = TRUE, ignore.case = TRUE)\n",
    "    \n",
    "    if(length(csvs) > 0) {\n",
    "      # Leer todos los CSV y unirlos si hay más de uno\n",
    "      df <- lapply(csvs, function(f) read.csv(f, stringsAsFactors = FALSE) %>% clean_names())\n",
    "     \n",
    "     \n",
    "      if(length(df) == 1) df <- df[[1]] else df <- bind_rows(df)\n",
    "      lista_enadid[[anio]] <- df\n",
    "    } else if(length(dbfs) > 0) {\n",
    "      \n",
    "      \n",
    "      # Leer todos los DBF y unirlos si hay más de uno\n",
    "      df <- lapply(dbfs, function(f) read.dbf(f, as.is = TRUE) %>% as_tibble() %>% clean_names())\n",
    "      if(length(df) == 1) df <- df[[1]] else df <- bind_rows(df)\n",
    "      lista_enadid[[anio]] <- df\n",
    "    } else {\n",
    "      warning(paste('No se encontraron archivos CSV o DBF para ENADID', anio))\n",
    "    }\n",
    "  }\n",
    "  \n",
    "  saveRDS(lista_enadid, file = file.path(dir_enadid, 'enadid_data.rds'))\n",
    "  \n",
    "  return(lista_enadid)\n",
    "}"
   ]
  },
  {
   "cell_type": "code",
   "execution_count": 17,
   "id": "b2046940",
   "metadata": {
    "vscode": {
     "languageId": "r"
    }
   },
   "outputs": [],
   "source": [
    "invisible(descargar_enadid())"
   ]
  },
  {
   "cell_type": "markdown",
   "id": "f9fadbac",
   "metadata": {},
   "source": [
    "Cargar todos los datos previamente descargados"
   ]
  },
  {
   "cell_type": "code",
   "execution_count": 166,
   "id": "71202959",
   "metadata": {
    "vscode": {
     "languageId": "r"
    }
   },
   "outputs": [],
   "source": [
    "#Función para cargar todos los datos descargados\n",
    "datos_demo <- function(){\n",
    "  list(\n",
    "    lista_nacimientos = readRDS('SINAC/sinac_data.rds'),\n",
    "    lista_defun = readRDS('Estadísticas de Defunciones Registradas (EDR)/edr_data.rds'),\n",
    "    censo_tabla = readRDS('Censo Poblacion y Vivienda 2020/censo_data.rds'),\n",
    "    pob_conapo = readRDS('CONAPO/conapo_data.rds'),\n",
    "    lista_enadid = readRDS(('ENADID/enadid_data.rds')))\n",
    "}\n",
    "\n",
    "# Cargar los datos en un objeto\n",
    "demo <- datos_demo()"
   ]
  },
  {
   "cell_type": "markdown",
   "id": "938400f1",
   "metadata": {},
   "source": [
    "------------------------------------------------------------------------------------------------------------------------------------------------------------------------------------------------------------------------------------"
   ]
  },
  {
   "cell_type": "markdown",
   "id": "621b090d",
   "metadata": {},
   "source": [
    "### Cálculo de Indicadores"
   ]
  },
  {
   "cell_type": "code",
   "execution_count": 122,
   "id": "2acad36f",
   "metadata": {
    "vscode": {
     "languageId": "r"
    }
   },
   "outputs": [],
   "source": [
    "#Años que nos van a servir para iterar\n",
    "anios <- 2020:2023"
   ]
  },
  {
   "cell_type": "markdown",
   "id": "e374a00a",
   "metadata": {},
   "source": [
    "Tasa de embarazo adolescente\n",
    "\n",
    "(Embarazos de mujeres 15-19 / Total de mujeres de 15-19 años ) * 1000"
   ]
  },
  {
   "cell_type": "code",
   "execution_count": 5,
   "id": "dbbb0f5d",
   "metadata": {
    "vscode": {
     "languageId": "r"
    }
   },
   "outputs": [],
   "source": [
    "madres_adole <- tibble(anio = integer(), nacimientos = integer())"
   ]
  },
  {
   "cell_type": "code",
   "execution_count": 6,
   "id": "a3f5fc36",
   "metadata": {
    "vscode": {
     "languageId": "r"
    }
   },
   "outputs": [
    {
     "name": "stderr",
     "output_type": "stream",
     "text": [
      "Datos incompletos para el año 2014\n",
      "\n",
      "Datos incompletos para el año 2015\n",
      "\n",
      "Datos incompletos para el año 2016\n",
      "\n",
      "Datos incompletos para el año 2017\n",
      "\n",
      "Datos incompletos para el año 2018\n",
      "\n"
     ]
    },
    {
     "name": "stdout",
     "output_type": "stream",
     "text": [
      "\u001b[90m# A tibble: 5 × 2\u001b[39m\n",
      "   anio nacimientos\n",
      "  \u001b[3m\u001b[90m<int>\u001b[39m\u001b[23m       \u001b[3m\u001b[90m<int>\u001b[39m\u001b[23m\n",
      "\u001b[90m1\u001b[39m  \u001b[4m2\u001b[24m019       \u001b[4m1\u001b[24m\u001b[4m5\u001b[24m042\n",
      "\u001b[90m2\u001b[39m  \u001b[4m2\u001b[24m020       \u001b[4m1\u001b[24m\u001b[4m2\u001b[24m991\n",
      "\u001b[90m3\u001b[39m  \u001b[4m2\u001b[24m021       \u001b[4m1\u001b[24m\u001b[4m0\u001b[24m542\n",
      "\u001b[90m4\u001b[39m  \u001b[4m2\u001b[24m022       \u001b[4m1\u001b[24m\u001b[4m0\u001b[24m112\n",
      "\u001b[90m5\u001b[39m  \u001b[4m2\u001b[24m023        \u001b[4m9\u001b[24m660\n"
     ]
    }
   ],
   "source": [
    "for (a in anios) {\n",
    "    anio_str <- as.character(a)\n",
    "\n",
    "    if (!is.null(demo$lista_nacimientos[[anio_str]])) {\n",
    "        df_nac <- demo$lista_nacimientos[[anio_str]] %>% as_tibble()\n",
    "        \n",
    "        # Definir las variables Entidad y Edad por año\n",
    "        if (a == 2019) {\n",
    "            var_entidad <- 'ent_cert'\n",
    "            var_edad <- 'edadm'\n",
    "        } else {\n",
    "            var_entidad <- 'entidadfederativacertifica'\n",
    "            var_edad <- 'edad'\n",
    "        }\n",
    "        \n",
    "        # Filtrar y calcular\n",
    "        nacimientos <- df_nac %>%\n",
    "            filter(.data[[var_entidad]] == 9,\n",
    "            .data[[var_edad]] >= 15 & .data[[var_edad]] <= 19) %>%\n",
    "            summarise(nacimientos = n()) %>%\n",
    "            pull(nacimientos)\n",
    "        \n",
    "        # Guardar los resultados en la tabla creada\n",
    "        madres_adole <- madres_adole %>%\n",
    "        add_row(anio = a, nacimientos = nacimientos)\n",
    "        \n",
    "    } else {\n",
    "        message(paste('Datos incompletos para el año', a))\n",
    "    }\n",
    "}\n",
    "\n",
    "# Ver resultados\n",
    "print(madres_adole)"
   ]
  },
  {
   "cell_type": "code",
   "execution_count": 9,
   "id": "dac55d35",
   "metadata": {
    "vscode": {
     "languageId": "r"
    }
   },
   "outputs": [
    {
     "data": {
      "text/html": [
       "319280"
      ],
      "text/latex": [
       "319280"
      ],
      "text/markdown": [
       "319280"
      ],
      "text/plain": [
       "[1] 319280"
      ]
     },
     "metadata": {},
     "output_type": "display_data"
    }
   ],
   "source": [
    "adole <- as_tibble(demo$censo_tabla) %>%\n",
    "filter(edad_desplegada %in% c('15 años', '16 años', '17 años', '18 años', '19 años'),\n",
    "demarcacion_territorial == 'Total') %>%\n",
    "summarise(adole = sum(mujeres)) %>%\n",
    "pull(adole)\n",
    "\n",
    "adole"
   ]
  },
  {
   "cell_type": "code",
   "execution_count": 10,
   "id": "ead39869",
   "metadata": {
    "vscode": {
     "languageId": "r"
    }
   },
   "outputs": [
    {
     "data": {
      "text/html": [
       "<table class=\"dataframe\">\n",
       "<caption>A tibble: 5 × 3</caption>\n",
       "<thead>\n",
       "\t<tr><th scope=col>anio</th><th scope=col>nacimientos</th><th scope=col>tasa_fecun</th></tr>\n",
       "\t<tr><th scope=col>&lt;int&gt;</th><th scope=col>&lt;int&gt;</th><th scope=col>&lt;dbl&gt;</th></tr>\n",
       "</thead>\n",
       "<tbody>\n",
       "\t<tr><td>2019</td><td>15042</td><td>47.11225</td></tr>\n",
       "\t<tr><td>2020</td><td>12991</td><td>40.68842</td></tr>\n",
       "\t<tr><td>2021</td><td>10542</td><td>33.01804</td></tr>\n",
       "\t<tr><td>2022</td><td>10112</td><td>31.67126</td></tr>\n",
       "\t<tr><td>2023</td><td> 9660</td><td>30.25558</td></tr>\n",
       "</tbody>\n",
       "</table>\n"
      ],
      "text/latex": [
       "A tibble: 5 × 3\n",
       "\\begin{tabular}{lll}\n",
       " anio & nacimientos & tasa\\_fecun\\\\\n",
       " <int> & <int> & <dbl>\\\\\n",
       "\\hline\n",
       "\t 2019 & 15042 & 47.11225\\\\\n",
       "\t 2020 & 12991 & 40.68842\\\\\n",
       "\t 2021 & 10542 & 33.01804\\\\\n",
       "\t 2022 & 10112 & 31.67126\\\\\n",
       "\t 2023 &  9660 & 30.25558\\\\\n",
       "\\end{tabular}\n"
      ],
      "text/markdown": [
       "\n",
       "A tibble: 5 × 3\n",
       "\n",
       "| anio &lt;int&gt; | nacimientos &lt;int&gt; | tasa_fecun &lt;dbl&gt; |\n",
       "|---|---|---|\n",
       "| 2019 | 15042 | 47.11225 |\n",
       "| 2020 | 12991 | 40.68842 |\n",
       "| 2021 | 10542 | 33.01804 |\n",
       "| 2022 | 10112 | 31.67126 |\n",
       "| 2023 |  9660 | 30.25558 |\n",
       "\n"
      ],
      "text/plain": [
       "  anio nacimientos tasa_fecun\n",
       "1 2019 15042       47.11225  \n",
       "2 2020 12991       40.68842  \n",
       "3 2021 10542       33.01804  \n",
       "4 2022 10112       31.67126  \n",
       "5 2023  9660       30.25558  "
      ]
     },
     "metadata": {},
     "output_type": "display_data"
    }
   ],
   "source": [
    "madres_adole <- madres_adole %>%\n",
    "mutate(tasa_fecun = (nacimientos / adole) * 1000)\n",
    "\n",
    "madres_adole"
   ]
  },
  {
   "cell_type": "code",
   "execution_count": 13,
   "id": "5d5e18f0",
   "metadata": {
    "vscode": {
     "languageId": "r"
    }
   },
   "outputs": [],
   "source": [
    "write_xlsx(madres_adole, 'Resultados/Tasa de embarazo adolescente.xlsx')"
   ]
  },
  {
   "cell_type": "markdown",
   "id": "ebca8926",
   "metadata": {},
   "source": [
    "Tasa Bruta de Mortalidad"
   ]
  },
  {
   "cell_type": "code",
   "execution_count": 155,
   "id": "625a7ff3",
   "metadata": {
    "vscode": {
     "languageId": "r"
    }
   },
   "outputs": [],
   "source": [
    "#Conjunto de nombres para los dataframes de defunciones\n",
    "nombres_def <- c('2020' = 'defun20','2021' = 'defun21', '2022' = 'DEFUN22', '2023' = 'DEFUN23')"
   ]
  },
  {
   "cell_type": "code",
   "execution_count": 154,
   "id": "66db17d4",
   "metadata": {
    "vscode": {
     "languageId": "r"
    }
   },
   "outputs": [],
   "source": [
    "rm(tbm_df)"
   ]
  },
  {
   "cell_type": "code",
   "execution_count": 156,
   "id": "968a280d",
   "metadata": {
    "vscode": {
     "languageId": "r"
    }
   },
   "outputs": [],
   "source": [
    "tbm_df <- tibble(anio = integer(), defunciones = integer(), poblacion = numeric(), tasa = numeric())"
   ]
  },
  {
   "cell_type": "code",
   "execution_count": 157,
   "id": "038f57de",
   "metadata": {
    "vscode": {
     "languageId": "r"
    }
   },
   "outputs": [
    {
     "name": "stdout",
     "output_type": "stream",
     "text": [
      "\u001b[90m# A tibble: 4 × 4\u001b[39m\n",
      "   anio defunciones poblacion  tasa\n",
      "  \u001b[3m\u001b[90m<int>\u001b[39m\u001b[23m       \u001b[3m\u001b[90m<int>\u001b[39m\u001b[23m     \u001b[3m\u001b[90m<dbl>\u001b[39m\u001b[23m \u001b[3m\u001b[90m<dbl>\u001b[39m\u001b[23m\n",
      "\u001b[90m1\u001b[39m  \u001b[4m2\u001b[24m020      \u001b[4m1\u001b[24m\u001b[4m0\u001b[24m\u001b[4m6\u001b[24m968         0   \u001b[31mInf\u001b[39m\n",
      "\u001b[90m2\u001b[39m  \u001b[4m2\u001b[24m021       \u001b[4m9\u001b[24m\u001b[4m9\u001b[24m785         0   \u001b[31mInf\u001b[39m\n",
      "\u001b[90m3\u001b[39m  \u001b[4m2\u001b[24m022       \u001b[4m6\u001b[24m\u001b[4m9\u001b[24m095         0   \u001b[31mInf\u001b[39m\n",
      "\u001b[90m4\u001b[39m  \u001b[4m2\u001b[24m023       \u001b[4m6\u001b[24m\u001b[4m5\u001b[24m051         0   \u001b[31mInf\u001b[39m\n"
     ]
    }
   ],
   "source": [
    "# Iterar sobre los años para calcular tasas de defunciones por 1000 habitantes\n",
    "for (a in anios) {\n",
    "  anio_str <- as.character(a)\n",
    "  \n",
    "  # Validar que existan datos para el año actual\n",
    "  if (!is.null(demo$lista_defun[[anio_str]]) && !is.null(demo$pob_conapo)) {\n",
    "    \n",
    "    nombre_df <- nombres_def[anio_str]\n",
    "    nombre_df <- unname(nombre_df)\n",
    "    \n",
    "    df_def <- demo$lista_defun[[anio_str]][[nombre_df]]\n",
    "    df_pob <- as_tibble(demo$pob_conapo)\n",
    "    \n",
    "    # Calcular defunciones totales para CDMX\n",
    "    def <- df_def %>%\n",
    "      filter(ent_resid == '09', anio_ocur == a) %>%\n",
    "      summarise(defunciones = n()) %>%\n",
    "      pull(defunciones)\n",
    "    \n",
    "    # Filtrar población total del año\n",
    "    pob <- df_pob %>%\n",
    "    filter(entidad == 'Ciudad de México', anio == a) %>%\n",
    "    summarise(poblacion_total = sum(poblacion)) %>%\n",
    "    pull(poblacion_total)\n",
    "\n",
    "\n",
    "    tasa <- (def / pob) * 1000\n",
    "    \n",
    "    # Guardar resultados\n",
    "    tbm_df <- tbm_df %>%\n",
    "      add_row(anio = a, defunciones = def, poblacion = pob, tasa = tasa)\n",
    "    \n",
    "  } else {\n",
    "    message(paste('Datos incompletos para el año', a))\n",
    "    tbm_df <- tbm_df %>% add_row(anio = a, defunciones = NA, poblacion = NA, tasa = NA)\n",
    "  }\n",
    "}\n",
    "\n",
    "print(tbm_df)\n"
   ]
  },
  {
   "cell_type": "markdown",
   "id": "2c7c0226",
   "metadata": {},
   "source": [
    "Tasa de Mortalidad infantil Ciudad de México"
   ]
  },
  {
   "cell_type": "code",
   "execution_count": 14,
   "id": "aa720426",
   "metadata": {
    "vscode": {
     "languageId": "r"
    }
   },
   "outputs": [],
   "source": [
    "#Conjunto de nombres para los dataframes de defunciones\n",
    "nombres_def <- c('2020' = 'defun20','2021' = 'defun21', '2022' = 'DEFUN22', '2023' = 'DEFUN23')"
   ]
  },
  {
   "cell_type": "markdown",
   "id": "f54f50ec",
   "metadata": {},
   "source": [
    "   Menores de 5 años"
   ]
  },
  {
   "cell_type": "code",
   "execution_count": 15,
   "id": "5664df5a",
   "metadata": {
    "vscode": {
     "languageId": "r"
    }
   },
   "outputs": [],
   "source": [
    "#Crear dataframe vacío para almacenar los resultados\n",
    "mortalidad_cinco <- tibble(anio = integer(), nacimientos = integer(), defunciones = integer(), tasa = numeric())\n"
   ]
  },
  {
   "cell_type": "code",
   "execution_count": 16,
   "id": "3189e667",
   "metadata": {
    "vscode": {
     "languageId": "r"
    }
   },
   "outputs": [
    {
     "name": "stderr",
     "output_type": "stream",
     "text": [
      "Datos incompletos para el año 2014\n",
      "\n",
      "Datos incompletos para el año 2015\n",
      "\n",
      "Datos incompletos para el año 2016\n",
      "\n",
      "Datos incompletos para el año 2017\n",
      "\n",
      "Datos incompletos para el año 2018\n",
      "\n",
      "Datos incompletos para el año 2019\n",
      "\n"
     ]
    },
    {
     "name": "stdout",
     "output_type": "stream",
     "text": [
      "\u001b[90m# A tibble: 4 × 4\u001b[39m\n",
      "   anio nacimientos defunciones  tasa\n",
      "  \u001b[3m\u001b[90m<int>\u001b[39m\u001b[23m       \u001b[3m\u001b[90m<int>\u001b[39m\u001b[23m       \u001b[3m\u001b[90m<int>\u001b[39m\u001b[23m \u001b[3m\u001b[90m<dbl>\u001b[39m\u001b[23m\n",
      "\u001b[90m1\u001b[39m  \u001b[4m2\u001b[24m020       \u001b[4m8\u001b[24m\u001b[4m7\u001b[24m005        \u001b[4m1\u001b[24m266  14.6\n",
      "\u001b[90m2\u001b[39m  \u001b[4m2\u001b[24m021       \u001b[4m7\u001b[24m\u001b[4m7\u001b[24m476        \u001b[4m1\u001b[24m062  13.7\n",
      "\u001b[90m3\u001b[39m  \u001b[4m2\u001b[24m022       \u001b[4m8\u001b[24m\u001b[4m0\u001b[24m892        \u001b[4m1\u001b[24m159  14.3\n",
      "\u001b[90m4\u001b[39m  \u001b[4m2\u001b[24m023       \u001b[4m7\u001b[24m\u001b[4m8\u001b[24m032        \u001b[4m1\u001b[24m152  14.8\n"
     ]
    }
   ],
   "source": [
    "# Iterar sobre los años y calcular tasas\n",
    "for (a in anios) {\n",
    "  anio_str <- as.character(a)\n",
    "  \n",
    "  # Validar que existan datos para el año actual\n",
    "  if (!is.null(demo$lista_nacimientos[[anio_str]]) && !is.null(demo$lista_defun[[anio_str]])) {\n",
    "    \n",
    "    # Extraer el dataframe de nacimientos\n",
    "    df_nac <- demo$lista_nacimientos[[anio_str]]\n",
    "    \n",
    "    # Obtener el nombre correcto del dataframe de defunciones\n",
    "    nombre_df <- nombres_def[anio_str]\n",
    "    df_def <- demo$lista_defun[[anio_str]][[nombre_df]]\n",
    "    \n",
    "    # Calcular nacimientos para CDMX\n",
    "    nac <- df_nac %>%\n",
    "      filter(entidadresidencia == 9) %>%\n",
    "      summarise(nacimientos = n()) %>%\n",
    "      pull(nacimientos)\n",
    "    \n",
    "    # Calcular defunciones infantiles para CDMX\n",
    "    def <- df_def %>%\n",
    "      filter(ent_resid == '09', anio_ocur == a,\n",
    "      ((edad >= 1001 & edad <= 1098) |  #Horas y minutos\n",
    "      (edad >= 2001 & edad <= 2998) |  #Días\n",
    "      (edad >= 3001 & edad <= 3098) |  #Meses\n",
    "      (edad >= 4001 & edad <= 4004))) %>%    #Años cumplidos (1 a 4)\n",
    "      summarise(defunciones = n()) %>%\n",
    "      pull(defunciones)\n",
    "    \n",
    "    # Calcular la tasa\n",
    "    tasa <- (def / nac) * 1000\n",
    "    \n",
    "    # Guardar resultados\n",
    "    mortalidad_cinco <- mortalidad_cinco %>% \n",
    "      add_row(anio = a, nacimientos = nac, defunciones = def, tasa = tasa)\n",
    "    \n",
    "  } else {\n",
    "    message(paste('Datos incompletos para el año', a))\n",
    "  }\n",
    "}\n",
    "\n",
    "# Mostrar resultados\n",
    "print(mortalidad_cinco)\n"
   ]
  },
  {
   "cell_type": "code",
   "execution_count": 20,
   "id": "3808a017",
   "metadata": {
    "vscode": {
     "languageId": "r"
    }
   },
   "outputs": [],
   "source": [
    "write_xlsx(mortalidad_cinco, 'Resultados/Tasa de mortalidad 5 años.xlsx')"
   ]
  },
  {
   "cell_type": "markdown",
   "id": "582e3f63",
   "metadata": {},
   "source": [
    "Menores de 1 año"
   ]
  },
  {
   "cell_type": "code",
   "execution_count": 45,
   "id": "6104dabe",
   "metadata": {
    "vscode": {
     "languageId": "r"
    }
   },
   "outputs": [],
   "source": [
    "#Crear dataframe vacío para almacenar los resultados\n",
    "mortalidad_uno <- tibble(anio = integer(), nacimientos = integer(), defunciones = integer(), tasa = numeric())\n"
   ]
  },
  {
   "cell_type": "code",
   "execution_count": 46,
   "id": "577acdec",
   "metadata": {
    "vscode": {
     "languageId": "r"
    }
   },
   "outputs": [
    {
     "name": "stderr",
     "output_type": "stream",
     "text": [
      "Datos incompletos para el año 2014\n",
      "\n",
      "Datos incompletos para el año 2015\n",
      "\n",
      "Datos incompletos para el año 2016\n",
      "\n",
      "Datos incompletos para el año 2017\n",
      "\n",
      "Datos incompletos para el año 2018\n",
      "\n",
      "Datos incompletos para el año 2019\n",
      "\n"
     ]
    },
    {
     "name": "stdout",
     "output_type": "stream",
     "text": [
      "\u001b[90m# A tibble: 4 × 4\u001b[39m\n",
      "   anio nacimientos defunciones  tasa\n",
      "  \u001b[3m\u001b[90m<int>\u001b[39m\u001b[23m       \u001b[3m\u001b[90m<int>\u001b[39m\u001b[23m       \u001b[3m\u001b[90m<int>\u001b[39m\u001b[23m \u001b[3m\u001b[90m<dbl>\u001b[39m\u001b[23m\n",
      "\u001b[90m1\u001b[39m  \u001b[4m2\u001b[24m020       \u001b[4m8\u001b[24m\u001b[4m7\u001b[24m005        \u001b[4m1\u001b[24m104  12.7\n",
      "\u001b[90m2\u001b[39m  \u001b[4m2\u001b[24m021       \u001b[4m7\u001b[24m\u001b[4m7\u001b[24m476         927  12.0\n",
      "\u001b[90m3\u001b[39m  \u001b[4m2\u001b[24m022       \u001b[4m8\u001b[24m\u001b[4m0\u001b[24m892        \u001b[4m1\u001b[24m020  12.6\n",
      "\u001b[90m4\u001b[39m  \u001b[4m2\u001b[24m023       \u001b[4m7\u001b[24m\u001b[4m8\u001b[24m032        \u001b[4m1\u001b[24m014  13.0\n"
     ]
    }
   ],
   "source": [
    "# Iterar sobre los años y calcular tasas\n",
    "for (a in anios) {\n",
    "  anio_str <- as.character(a)\n",
    "  \n",
    "  # Validar que existan datos para el año actual\n",
    "  if (!is.null(demo$lista_nacimientos[[anio_str]]) && !is.null(demo$lista_defun[[anio_str]])) {\n",
    "    \n",
    "    # Extraer el dataframe de nacimientos\n",
    "    df_nac <- demo$lista_nacimientos[[anio_str]]\n",
    "    \n",
    "    # Obtener el nombre correcto del dataframe de defunciones\n",
    "    nombre_df <- nombres_def[anio_str]\n",
    "    df_def <- demo$lista_defun[[anio_str]][[nombre_df]]\n",
    "    \n",
    "    # Calcular nacimientos para CDMX\n",
    "    nac <- df_nac %>%\n",
    "      filter(entidadresidencia == 9) %>%\n",
    "      summarise(nacimientos = n()) %>%\n",
    "      pull(nacimientos)\n",
    "    \n",
    "    # Calcular defunciones infantiles para CDMX\n",
    "    def <- df_def %>%\n",
    "      filter(ent_resid == '09', anio_ocur == a, \n",
    "      ((edad >= 1001 & edad <=  1098) | #Horas y minutos\n",
    "      (edad >= 2001 & edad <= 2998) | #Días\n",
    "      (edad >=  3001 & edad <= 3098))) %>% #Meses\n",
    "      summarise(defunciones = n()) %>%\n",
    "      pull(defunciones)\n",
    "    \n",
    "    # Calcular la tasa\n",
    "    tasa <- (def / nac) * 1000\n",
    "    \n",
    "    # Guardar resultados\n",
    "    mortalidad_uno <- mortalidad_uno %>% \n",
    "      add_row(anio = a, nacimientos = nac, defunciones = def, tasa = tasa)\n",
    "    \n",
    "  } else {\n",
    "    message(paste('Datos incompletos para el año', a))\n",
    "  }\n",
    "}\n",
    "\n",
    "# Mostrar resultados\n",
    "print(mortalidad_uno)\n"
   ]
  },
  {
   "cell_type": "code",
   "execution_count": 47,
   "id": "28abbde6",
   "metadata": {
    "vscode": {
     "languageId": "r"
    }
   },
   "outputs": [],
   "source": [
    "write_xlsx(mortalidad_uno, 'Resultados/Tasa de mortalidad 1 año.xlsx')"
   ]
  },
  {
   "cell_type": "markdown",
   "id": "188f210b",
   "metadata": {},
   "source": [
    "Razón de dependencia demográfica\n",
    "\n",
    "Cociente de (pob menores a 15 + mayores de 64 )/ pob 15 - 64 'edad productiva'"
   ]
  },
  {
   "cell_type": "code",
   "execution_count": 23,
   "id": "ae855890",
   "metadata": {
    "vscode": {
     "languageId": "r"
    }
   },
   "outputs": [
    {
     "name": "stdout",
     "output_type": "stream",
     "text": [
      "\u001b[90m# A tibble: 737,660 × 7\u001b[39m\n",
      "   renglon   ano entidad            cve_geo  edad sexo    poblacion\n",
      "     \u001b[3m\u001b[90m<dbl>\u001b[39m\u001b[23m \u001b[3m\u001b[90m<dbl>\u001b[39m\u001b[23m \u001b[3m\u001b[90m<chr>\u001b[39m\u001b[23m                \u001b[3m\u001b[90m<dbl>\u001b[39m\u001b[23m \u001b[3m\u001b[90m<dbl>\u001b[39m\u001b[23m \u001b[3m\u001b[90m<chr>\u001b[39m\u001b[23m       \u001b[3m\u001b[90m<dbl>\u001b[39m\u001b[23m\n",
      "\u001b[90m 1\u001b[39m       1  \u001b[4m1\u001b[24m950 República Mexicana       0     0 Hombres    \u001b[4m5\u001b[24m\u001b[4m8\u001b[24m\u001b[4m0\u001b[24m871\n",
      "\u001b[90m 2\u001b[39m       2  \u001b[4m1\u001b[24m950 República Mexicana       0     0 Mujeres    \u001b[4m5\u001b[24m\u001b[4m6\u001b[24m\u001b[4m8\u001b[24m159\n",
      "\u001b[90m 3\u001b[39m       3  \u001b[4m1\u001b[24m950 República Mexicana       0     1 Hombres    \u001b[4m5\u001b[24m\u001b[4m2\u001b[24m\u001b[4m5\u001b[24m478\n",
      "\u001b[90m 4\u001b[39m       4  \u001b[4m1\u001b[24m950 República Mexicana       0     1 Mujeres    \u001b[4m5\u001b[24m\u001b[4m1\u001b[24m\u001b[4m6\u001b[24m674\n",
      "\u001b[90m 5\u001b[39m       5  \u001b[4m1\u001b[24m950 República Mexicana       0     2 Hombres    \u001b[4m4\u001b[24m\u001b[4m9\u001b[24m\u001b[4m2\u001b[24m568\n",
      "\u001b[90m 6\u001b[39m       6  \u001b[4m1\u001b[24m950 República Mexicana       0     2 Mujeres    \u001b[4m4\u001b[24m\u001b[4m8\u001b[24m\u001b[4m3\u001b[24m825\n",
      "\u001b[90m 7\u001b[39m       7  \u001b[4m1\u001b[24m950 República Mexicana       0     3 Hombres    \u001b[4m4\u001b[24m\u001b[4m6\u001b[24m\u001b[4m9\u001b[24m166\n",
      "\u001b[90m 8\u001b[39m       8  \u001b[4m1\u001b[24m950 República Mexicana       0     3 Mujeres    \u001b[4m4\u001b[24m\u001b[4m6\u001b[24m\u001b[4m0\u001b[24m137\n",
      "\u001b[90m 9\u001b[39m       9  \u001b[4m1\u001b[24m950 República Mexicana       0     4 Hombres    \u001b[4m4\u001b[24m\u001b[4m5\u001b[24m\u001b[4m0\u001b[24m189\n",
      "\u001b[90m10\u001b[39m      10  \u001b[4m1\u001b[24m950 República Mexicana       0     4 Mujeres    \u001b[4m4\u001b[24m\u001b[4m4\u001b[24m\u001b[4m0\u001b[24m962\n",
      "\u001b[90m# ℹ 737,650 more rows\u001b[39m\n"
     ]
    }
   ],
   "source": [
    "pob_conapo <- as_tibble(demo$pob_conapo)\n",
    "print(pob_conapo)"
   ]
  },
  {
   "cell_type": "code",
   "execution_count": 85,
   "id": "f3b95832",
   "metadata": {
    "vscode": {
     "languageId": "r"
    }
   },
   "outputs": [],
   "source": [
    "#Años para iterar en datos CONAPO\n",
    "years <- seq(2010, 2045, by = 5)"
   ]
  },
  {
   "cell_type": "code",
   "execution_count": 87,
   "id": "ad5ef62d",
   "metadata": {
    "vscode": {
     "languageId": "r"
    }
   },
   "outputs": [],
   "source": [
    "depen_demo <- tibble(ano = integer(), rd = integer())"
   ]
  },
  {
   "cell_type": "code",
   "execution_count": 88,
   "id": "e5d8368c",
   "metadata": {
    "vscode": {
     "languageId": "r"
    }
   },
   "outputs": [
    {
     "name": "stdout",
     "output_type": "stream",
     "text": [
      "\u001b[90m# A tibble: 8 × 2\u001b[39m\n",
      "    ano    rd\n",
      "  \u001b[3m\u001b[90m<dbl>\u001b[39m\u001b[23m \u001b[3m\u001b[90m<dbl>\u001b[39m\u001b[23m\n",
      "\u001b[90m1\u001b[39m  \u001b[4m2\u001b[24m010  45.5\n",
      "\u001b[90m2\u001b[39m  \u001b[4m2\u001b[24m015  43.2\n",
      "\u001b[90m3\u001b[39m  \u001b[4m2\u001b[24m020  41.0\n",
      "\u001b[90m4\u001b[39m  \u001b[4m2\u001b[24m025  40.1\n",
      "\u001b[90m5\u001b[39m  \u001b[4m2\u001b[24m030  41.1\n",
      "\u001b[90m6\u001b[39m  \u001b[4m2\u001b[24m035  44.2\n",
      "\u001b[90m7\u001b[39m  \u001b[4m2\u001b[24m040  48.1\n",
      "\u001b[90m8\u001b[39m  \u001b[4m2\u001b[24m045  51.7\n"
     ]
    }
   ],
   "source": [
    "for (year in years) {\n",
    "    \n",
    "    pob_conapo <- as_tibble(demo$pob_conapo)\n",
    "\n",
    "    #Población menor de 15 (dependiente)\n",
    "    pob_men_15 <- pob_conapo %>%\n",
    "    filter(entidad == 'Ciudad de México', ano == year, edad < 15) %>%\n",
    "    summarise(pob_men_15 = sum(poblacion)) %>%\n",
    "    pull(pob_men_15)\n",
    "\n",
    "    #Población mayor de 64 (dependiente)\n",
    "    pob_mayor_64 <- pob_conapo %>%\n",
    "    filter(entidad == 'Ciudad de México', ano == year, edad > 64) %>%\n",
    "    summarise(pob_mayor_64 = sum(poblacion)) %>%\n",
    "    pull(pob_mayor_64)\n",
    "\n",
    "    #Población con edad productiva\n",
    "    pob_edad_produc <- pob_conapo %>%\n",
    "    filter(entidad == 'Ciudad de México', ano == year, edad %in% c(15:64)) %>%\n",
    "    summarise(pob_edad_produc = sum(poblacion)) %>%\n",
    "    pull(pob_edad_produc)\n",
    "\n",
    "#Razón de dependencia demográfica\n",
    "rd <- ((pob_men_15 + pob_mayor_64) / pob_edad_produc) * 100\n",
    "\n",
    "#Guardar resultados\n",
    "depen_demo <- depen_demo %>%\n",
    "add_row(ano = year, rd = rd)\n",
    "\n",
    "}\n",
    "\n",
    "print(depen_demo)"
   ]
  },
  {
   "cell_type": "code",
   "execution_count": 28,
   "id": "0c420a37",
   "metadata": {
    "vscode": {
     "languageId": "r"
    }
   },
   "outputs": [],
   "source": [
    "write_xlsx(depen_demo, 'Resultados/Razón de dependencia demográfica.xlsx')"
   ]
  },
  {
   "cell_type": "markdown",
   "id": "f5d9ad1d",
   "metadata": {},
   "source": [
    "Índice de envejecimiento (CONAPO)"
   ]
  },
  {
   "cell_type": "code",
   "execution_count": 89,
   "id": "bae2f79f",
   "metadata": {
    "vscode": {
     "languageId": "r"
    }
   },
   "outputs": [],
   "source": [
    "indice_vej <- tibble(anio = integer(), indice = numeric())"
   ]
  },
  {
   "cell_type": "code",
   "execution_count": 90,
   "id": "38c4a5bd",
   "metadata": {
    "vscode": {
     "languageId": "r"
    }
   },
   "outputs": [
    {
     "name": "stdout",
     "output_type": "stream",
     "text": [
      "\u001b[90m# A tibble: 8 × 2\u001b[39m\n",
      "   anio indice\n",
      "  \u001b[3m\u001b[90m<dbl>\u001b[39m\u001b[23m  \u001b[3m\u001b[90m<dbl>\u001b[39m\u001b[23m\n",
      "\u001b[90m1\u001b[39m  \u001b[4m2\u001b[24m010   49.2\n",
      "\u001b[90m2\u001b[39m  \u001b[4m2\u001b[24m015   64.9\n",
      "\u001b[90m3\u001b[39m  \u001b[4m2\u001b[24m020   82.0\n",
      "\u001b[90m4\u001b[39m  \u001b[4m2\u001b[24m025  111. \n",
      "\u001b[90m5\u001b[39m  \u001b[4m2\u001b[24m030  150. \n",
      "\u001b[90m6\u001b[39m  \u001b[4m2\u001b[24m035  192. \n",
      "\u001b[90m7\u001b[39m  \u001b[4m2\u001b[24m040  233. \n",
      "\u001b[90m8\u001b[39m  \u001b[4m2\u001b[24m045  283. \n"
     ]
    }
   ],
   "source": [
    "for (year in years) {\n",
    "    \n",
    "    pob_conapo <- as_tibble(demo$pob_conapo)\n",
    "\n",
    "    #Población menor de 15 \n",
    "    pob_men_14 <- pob_conapo %>%\n",
    "    filter(entidad == 'Ciudad de México', ano == year, edad <= 14) %>%\n",
    "    summarise(pob_men_14 = sum(poblacion)) %>%\n",
    "    pull(pob_men_14)\n",
    "\n",
    "    #Población mayor de 64 \n",
    "    pob_mayor_60 <- pob_conapo %>%\n",
    "    filter(entidad == 'Ciudad de México', ano == year, edad >= 60) %>%\n",
    "    summarise(pob_mayor_60 = sum(poblacion)) %>%\n",
    "    pull(pob_mayor_60)\n",
    "\n",
    "\n",
    "#Índice de envejecimiento\n",
    "indice_actual <- (pob_mayor_60 / pob_men_14) * 100 %>%\n",
    "round(1)\n",
    "\n",
    "\n",
    "#Guardar resultados\n",
    "indice_vej <- indice_vej %>%\n",
    "add_row(anio = year, indice = indice_actual)\n",
    "\n",
    "}\n",
    "\n",
    "print(indice_vej)"
   ]
  },
  {
   "cell_type": "code",
   "execution_count": 211,
   "id": "fc4622d3",
   "metadata": {
    "vscode": {
     "languageId": "r"
    }
   },
   "outputs": [],
   "source": [
    "write_xlsx(indice_vej, 'Resultados/Índice de envejecimiento.xlsx')"
   ]
  },
  {
   "cell_type": "markdown",
   "id": "b06b5db5",
   "metadata": {},
   "source": [
    "Tasa Bruta de Mortalidad"
   ]
  },
  {
   "cell_type": "code",
   "execution_count": 202,
   "id": "d9ab3a76",
   "metadata": {
    "vscode": {
     "languageId": "r"
    }
   },
   "outputs": [],
   "source": [
    "defunciones_total <- list()"
   ]
  },
  {
   "cell_type": "code",
   "execution_count": 203,
   "id": "06348186",
   "metadata": {
    "vscode": {
     "languageId": "r"
    }
   },
   "outputs": [
    {
     "name": "stdout",
     "output_type": "stream",
     "text": [
      "$`2020`\n",
      "[1] 107292\n",
      "\n",
      "$`2021`\n",
      "[1] 100363\n",
      "\n",
      "$`2022`\n",
      "[1] 69455\n",
      "\n",
      "$`2023`\n",
      "[1] 65291\n",
      "\n"
     ]
    }
   ],
   "source": [
    "for (anio in anios) {\n",
    "  # Extraer la sublista del año correspondiente\n",
    "  sublista <- demo$lista_defun[[as.character(anio)]]\n",
    "  \n",
    "  # Buscar el nombre de la tabla que contiene \"defun\" (insensible a mayúsculas)\n",
    "  nombre_tabla <- names(sublista)[str_detect(names(sublista), regex('DEFUN', ignore_case = TRUE))]\n",
    "  \n",
    "  if (length(nombre_tabla) > 0) {\n",
    "    # Extraer la primera tabla encontrada\n",
    "    tabla <- sublista[[nombre_tabla[1]]]\n",
    "    \n",
    "    # Filtrar defunciones de residentes en CDMX\n",
    "    tabla_filtrada <- tabla %>%\n",
    "      filter(ent_resid == \"09\")\n",
    "    \n",
    "    # Guardar el total de defunciones del año\n",
    "    defunciones_total[[as.character(anio)]] <- nrow(tabla_filtrada)\n",
    "  } else {\n",
    "    # Si no se encuentra tabla, asignar NA\n",
    "    defunciones_total[[as.character(anio)]] <- NA\n",
    "  }\n",
    "}\n",
    "\n",
    "print(defunciones_total)"
   ]
  },
  {
   "cell_type": "code",
   "execution_count": 204,
   "id": "a5f0989e",
   "metadata": {
    "vscode": {
     "languageId": "r"
    }
   },
   "outputs": [
    {
     "name": "stdout",
     "output_type": "stream",
     "text": [
      "\u001b[90m# A tibble: 4 × 2\u001b[39m\n",
      "   anio defunciones\n",
      "  \u001b[3m\u001b[90m<int>\u001b[39m\u001b[23m       \u001b[3m\u001b[90m<dbl>\u001b[39m\u001b[23m\n",
      "\u001b[90m1\u001b[39m  \u001b[4m2\u001b[24m020      \u001b[4m1\u001b[24m\u001b[4m0\u001b[24m\u001b[4m7\u001b[24m292\n",
      "\u001b[90m2\u001b[39m  \u001b[4m2\u001b[24m021      \u001b[4m1\u001b[24m\u001b[4m0\u001b[24m\u001b[4m0\u001b[24m363\n",
      "\u001b[90m3\u001b[39m  \u001b[4m2\u001b[24m022       \u001b[4m6\u001b[24m\u001b[4m9\u001b[24m455\n",
      "\u001b[90m4\u001b[39m  \u001b[4m2\u001b[24m023       \u001b[4m6\u001b[24m\u001b[4m5\u001b[24m291\n"
     ]
    }
   ],
   "source": [
    "#Convertir la lista a una tabla\n",
    "defunciones <- tibble(anio = as.integer(names(defunciones_total)),\n",
    "            defunciones = as.numeric(unlist(defunciones_total)))\n",
    "print(defunciones)"
   ]
  },
  {
   "cell_type": "code",
   "execution_count": 206,
   "id": "6aa34d6d",
   "metadata": {
    "vscode": {
     "languageId": "r"
    }
   },
   "outputs": [
    {
     "data": {
      "text/html": [
       "<table class=\"dataframe\">\n",
       "<caption>A tibble: 4 × 2</caption>\n",
       "<thead>\n",
       "\t<tr><th scope=col>anio</th><th scope=col>poblacion_cdmx</th></tr>\n",
       "\t<tr><th scope=col>&lt;dbl&gt;</th><th scope=col>&lt;dbl&gt;</th></tr>\n",
       "</thead>\n",
       "<tbody>\n",
       "\t<tr><td>2020</td><td>9332593</td></tr>\n",
       "\t<tr><td>2021</td><td>9272649</td></tr>\n",
       "\t<tr><td>2022</td><td>9237644</td></tr>\n",
       "\t<tr><td>2023</td><td>9221637</td></tr>\n",
       "</tbody>\n",
       "</table>\n"
      ],
      "text/latex": [
       "A tibble: 4 × 2\n",
       "\\begin{tabular}{ll}\n",
       " anio & poblacion\\_cdmx\\\\\n",
       " <dbl> & <dbl>\\\\\n",
       "\\hline\n",
       "\t 2020 & 9332593\\\\\n",
       "\t 2021 & 9272649\\\\\n",
       "\t 2022 & 9237644\\\\\n",
       "\t 2023 & 9221637\\\\\n",
       "\\end{tabular}\n"
      ],
      "text/markdown": [
       "\n",
       "A tibble: 4 × 2\n",
       "\n",
       "| anio &lt;dbl&gt; | poblacion_cdmx &lt;dbl&gt; |\n",
       "|---|---|\n",
       "| 2020 | 9332593 |\n",
       "| 2021 | 9272649 |\n",
       "| 2022 | 9237644 |\n",
       "| 2023 | 9221637 |\n",
       "\n"
      ],
      "text/plain": [
       "  anio poblacion_cdmx\n",
       "1 2020 9332593       \n",
       "2 2021 9272649       \n",
       "3 2022 9237644       \n",
       "4 2023 9221637       "
      ]
     },
     "metadata": {},
     "output_type": "display_data"
    }
   ],
   "source": [
    "# Obtener población de CDMX por año desde CONAPO\n",
    "poblacion_cdmx <- demo$pob_conapo %>%\n",
    "rename(anio = ano) %>%\n",
    "filter(entidad == \"Ciudad de México\", anio >= 2020, anio <= 2023) %>%\n",
    "group_by(anio) %>%\n",
    "summarise(poblacion_cdmx = sum(poblacion))\n",
    "\n",
    "poblacion_cdmx"
   ]
  },
  {
   "cell_type": "code",
   "execution_count": 209,
   "id": "585ec353",
   "metadata": {
    "vscode": {
     "languageId": "r"
    }
   },
   "outputs": [
    {
     "data": {
      "text/html": [
       "<table class=\"dataframe\">\n",
       "<caption>A tibble: 4 × 4</caption>\n",
       "<thead>\n",
       "\t<tr><th scope=col>anio</th><th scope=col>defunciones</th><th scope=col>poblacion_cdmx</th><th scope=col>tasa</th></tr>\n",
       "\t<tr><th scope=col>&lt;dbl&gt;</th><th scope=col>&lt;dbl&gt;</th><th scope=col>&lt;dbl&gt;</th><th scope=col>&lt;dbl&gt;</th></tr>\n",
       "</thead>\n",
       "<tbody>\n",
       "\t<tr><td>2020</td><td>107292</td><td>9332593</td><td>11.496483</td></tr>\n",
       "\t<tr><td>2021</td><td>100363</td><td>9272649</td><td>10.823552</td></tr>\n",
       "\t<tr><td>2022</td><td> 69455</td><td>9237644</td><td> 7.518692</td></tr>\n",
       "\t<tr><td>2023</td><td> 65291</td><td>9221637</td><td> 7.080196</td></tr>\n",
       "</tbody>\n",
       "</table>\n"
      ],
      "text/latex": [
       "A tibble: 4 × 4\n",
       "\\begin{tabular}{llll}\n",
       " anio & defunciones & poblacion\\_cdmx & tasa\\\\\n",
       " <dbl> & <dbl> & <dbl> & <dbl>\\\\\n",
       "\\hline\n",
       "\t 2020 & 107292 & 9332593 & 11.496483\\\\\n",
       "\t 2021 & 100363 & 9272649 & 10.823552\\\\\n",
       "\t 2022 &  69455 & 9237644 &  7.518692\\\\\n",
       "\t 2023 &  65291 & 9221637 &  7.080196\\\\\n",
       "\\end{tabular}\n"
      ],
      "text/markdown": [
       "\n",
       "A tibble: 4 × 4\n",
       "\n",
       "| anio &lt;dbl&gt; | defunciones &lt;dbl&gt; | poblacion_cdmx &lt;dbl&gt; | tasa &lt;dbl&gt; |\n",
       "|---|---|---|---|\n",
       "| 2020 | 107292 | 9332593 | 11.496483 |\n",
       "| 2021 | 100363 | 9272649 | 10.823552 |\n",
       "| 2022 |  69455 | 9237644 |  7.518692 |\n",
       "| 2023 |  65291 | 9221637 |  7.080196 |\n",
       "\n"
      ],
      "text/plain": [
       "  anio defunciones poblacion_cdmx tasa     \n",
       "1 2020 107292      9332593        11.496483\n",
       "2 2021 100363      9272649        10.823552\n",
       "3 2022  69455      9237644         7.518692\n",
       "4 2023  65291      9221637         7.080196"
      ]
     },
     "metadata": {},
     "output_type": "display_data"
    }
   ],
   "source": [
    "tasa <- defunciones %>%\n",
    "left_join(poblacion_cdmx, by = 'anio') %>%\n",
    "mutate(tasa = (defunciones / poblacion_cdmx) * 1000)\n",
    "\n",
    "tasa"
   ]
  },
  {
   "cell_type": "code",
   "execution_count": 210,
   "id": "f463d336",
   "metadata": {
    "vscode": {
     "languageId": "r"
    }
   },
   "outputs": [],
   "source": [
    "write_xlsx(tasa, 'Resultados/Tasa bruta de defunciones.xlsx')"
   ]
  }
 ],
 "metadata": {
  "kernelspec": {
   "display_name": "R",
   "language": "R",
   "name": "ir"
  },
  "language_info": {
   "codemirror_mode": "r",
   "file_extension": ".r",
   "mimetype": "text/x-r-source",
   "name": "R",
   "pygments_lexer": "r",
   "version": "4.4.2"
  }
 },
 "nbformat": 4,
 "nbformat_minor": 5
}
