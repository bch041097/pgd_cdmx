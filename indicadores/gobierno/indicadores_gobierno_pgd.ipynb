{
 "cells": [
  {
   "metadata": {
    "ExecuteTime": {
     "end_time": "2025-02-02T04:55:41.951802Z",
     "start_time": "2025-02-02T04:55:40.917148Z"
    }
   },
   "cell_type": "code",
   "source": [
    "##Estimación de indicadores de gobierno\n",
    "#Se borra todo lo que se encuentra en el entorno\n",
    "\n",
    "#rm(list=ls())\n",
    "\n",
    "# Librerías ====\n",
    "if(!require('pacman')) install.packages('pacman')\n",
    "pacman::p_load(tidyverse, srvyr)"
   ],
   "id": "c5057aaf564ae655",
   "outputs": [
    {
     "name": "stderr",
     "output_type": "stream",
     "text": [
      "Loading required package: pacman\n",
      "\n"
     ]
    }
   ],
   "execution_count": 1
  },
  {
   "metadata": {
    "ExecuteTime": {
     "end_time": "2025-02-02T04:55:41.985583Z",
     "start_time": "2025-02-02T04:55:41.956465Z"
    }
   },
   "cell_type": "code",
   "source": [
    "url_encig_basica<-\"https://www.inegi.org.mx/contenidos/programas/encig/\"\n",
    "segunda_parte<-\"microdatos/encig\"\n",
    "years_encig<-c(\"2017\",\"2019\",\"2021\", \"2023\")"
   ],
   "id": "dfb6754907acbf26",
   "outputs": [],
   "execution_count": 2
  },
  {
   "metadata": {
    "ExecuteTime": {
     "end_time": "2025-02-02T04:57:20.479913Z",
     "start_time": "2025-02-02T04:55:41.996174Z"
    }
   },
   "cell_type": "code",
   "source": [
    "# Descargar los archivos, descomprimirlos y renombrarlos\n",
    "for (i in 1:length(years_encig)) {\n",
    "  # Ajustar el sufijo de la URL y archivo según el año\n",
    "  if (years_encig[i] %in% c(\"2017\", \"2019\")) {\n",
    "    fin <- \"_base_datos_dbf.zip\"\n",
    "  } else {\n",
    "    fin <- \"_base_datos_csv.zip\"\n",
    "  }\n",
    "\n",
    "  # Construir la URL y el nombre del archivo destino\n",
    "  url <- paste0(url_encig_basica, years_encig[i], \"/\", segunda_parte, str_sub(years_encig[i], 3, 4), fin)\n",
    "  print(url)\n",
    "  destfile <- paste0(\"data/encig\", str_sub(years_encig[i], 3, 4), fin)\n",
    "\n",
    "  # Descargar el archivo\n",
    "  download.file(url, destfile = destfile)\n",
    "\n",
    "  # Descomprimir el archivo\n",
    "  unzip(destfile, exdir = \"data\")\n",
    "}"
   ],
   "id": "4c584178974306f7",
   "outputs": [
    {
     "name": "stdout",
     "output_type": "stream",
     "text": [
      "[1] \"https://www.inegi.org.mx/contenidos/programas/encig/2017/microdatos/encig17_base_datos_dbf.zip\"\n",
      "[1] \"https://www.inegi.org.mx/contenidos/programas/encig/2019/microdatos/encig19_base_datos_dbf.zip\"\n",
      "[1] \"https://www.inegi.org.mx/contenidos/programas/encig/2021/microdatos/encig21_base_datos_csv.zip\"\n",
      "[1] \"https://www.inegi.org.mx/contenidos/programas/encig/2023/microdatos/encig23_base_datos_csv.zip\"\n"
     ]
    }
   ],
   "execution_count": 3
  },
  {
   "metadata": {
    "ExecuteTime": {
     "end_time": "2025-02-02T05:38:26.987453Z",
     "start_time": "2025-02-02T05:38:26.974620Z"
    }
   },
   "cell_type": "code",
   "source": [
    "# Función de estimación\n",
    "process_files <- function(years, variable) {\n",
    "  # Función anidada para estimar el indicador\n",
    "  estima_indicador <- function(path, variable) {\n",
    "    # Extraer el año del archivo\n",
    "    year <- substr(path, 11, 14)\n",
    "\n",
    "    # Leer los datos y hacer las transformaciones necesarias de las variables\n",
    "    if (year %in% c(\"2017\", \"2019\")) {\n",
    "      datos <- foreign::read.dbf(path) %>%\n",
    "        janitor::clean_names() %>%\n",
    "        mutate(p11_1_6 = if (\"p11_1_6\" %in% names(.)) as.numeric(p11_1_6) else as.numeric(p3_2),\n",
    "               fac_p18 = as.numeric(fac_p18),\n",
    "               upm = as.numeric(upm),\n",
    "               est_dis = as.numeric(est_dis)) %>%\n",
    "        # Filtrar Ciudad de México\n",
    "        filter(ent == \"09\")\n",
    "    } else if (year %in% c(\"2021\", \"2023\")) {\n",
    "      datos <- read_csv(path, show_col_types = FALSE) %>%\n",
    "        janitor::clean_names() %>%\n",
    "        rename_with(~ ifelse(. == \"p11_1_06\", \"p11_1_6\", .)) %>%\n",
    "        # Filtrar Ciudad de México\n",
    "        filter(nom_ent == \"CIUDAD DE MEXICO\")\n",
    "    } else {\n",
    "      stop(\"Año no soportado.\")\n",
    "    }\n",
    "\n",
    "    # Diseño muestral\n",
    "    dm <- datos %>%\n",
    "      as_survey_design(ids = upm, strata = est_dis, weights = fac_p18)\n",
    "\n",
    "    # Confianza\n",
    "    if (variable == \"confianza\") {\n",
    "      confianza_gob <- dm %>%\n",
    "        mutate(confianza = case_when(\n",
    "          p11_1_6 == 1 | p11_1_6 == 2 ~ \"Confía\",\n",
    "          TRUE ~ \"No confía\"\n",
    "        )) %>%\n",
    "        group_by(confianza) %>%\n",
    "        summarise(\n",
    "          personas = survey_total(vartype = \"cv\"),\n",
    "          porcentaje = survey_mean(vartype = \"cv\")\n",
    "        ) %>%\n",
    "        # Filtrar confianza\n",
    "        filter(confianza == \"Confía\") %>%\n",
    "        mutate(porcentaje = round(porcentaje * 100, 2),\n",
    "               year = year)\n",
    "      return(confianza_gob)\n",
    "\n",
    "      # Actos de corrupción\n",
    "    } else if (variable == \"actos_corrupcion\") {\n",
    "      actos_corrup <- dm %>%\n",
    "        mutate(actos_corrupcion = case_when(\n",
    "          p3_2 == 1 | p3_2 == 2 ~ \"Frecuentes\",\n",
    "          TRUE ~ \"No frecuentes\"\n",
    "        )) %>%\n",
    "        group_by(actos_corrupcion) %>%\n",
    "        summarise(\n",
    "          personas = survey_total(vartype = \"cv\"),\n",
    "          porcentaje = survey_mean(vartype = \"cv\")\n",
    "        ) %>%\n",
    "        filter(actos_corrupcion == \"Frecuentes\") %>%\n",
    "        mutate(porcentaje = round(porcentaje * 100, 2),\n",
    "               year = year)\n",
    "      return(actos_corrup)\n",
    "\n",
    "    } else {\n",
    "      stop(\"Variable no reconocida.\")\n",
    "    }\n",
    "  }\n",
    "\n",
    "  map_dfr(years, function(year) {\n",
    "    # Seleccionar el archivo correcto según la variable y el año\n",
    "    file_path <- if (variable == \"actos_corrupcion\") {\n",
    "      if (year %in% c(2017, 2019)) {\n",
    "        paste0(\"data/encig\", year, \"_01_sec1_3_4_5_8_9_10.dbf\")\n",
    "      } else if (year %in% c(2021, 2023)) {\n",
    "        paste0(\"data/encig\", year, \"_01_sec1_A_3_4_5_8_9_10.csv\")\n",
    "      } else {\n",
    "        stop(\"Año no soportado para actos de corrupción.\")\n",
    "      }\n",
    "    } else if (variable == \"confianza\") {\n",
    "      if (year %in% c(2017, 2019)) {\n",
    "        paste0(\"data/encig\", year, \"_01_sec_11.dbf\")\n",
    "      } else if (year %in% c(2021, 2023)) {\n",
    "        paste0(\"data/encig\", year, \"_01_sec_11.csv\")\n",
    "      } else {\n",
    "        stop(\"Año no soportado para confianza.\")\n",
    "      }\n",
    "    } else {\n",
    "      stop(\"Variable no reconocida.\")\n",
    "    }\n",
    "\n",
    "    # Print del archivo que se está procesando\n",
    "    print(paste(\"Procesando archivo:\", file_path))\n",
    "\n",
    "    # Invocar la función de estimación\n",
    "    estima_indicador(file_path, variable)\n",
    "  })\n",
    "}\n"
   ],
   "id": "ab2ab24da73d359e",
   "outputs": [],
   "execution_count": 49
  },
  {
   "metadata": {
    "ExecuteTime": {
     "end_time": "2025-02-02T05:38:36.759885Z",
     "start_time": "2025-02-02T05:38:34.940450Z"
    }
   },
   "cell_type": "code",
   "source": [
    "# Estimar indicadores de gobierno\n",
    "tabla_confianza<-process_files(years_encig, variable = \"confianza\")\n",
    "print(\"Porcentaje de personas que confían en el gobierno de la Ciudad de México\")\n",
    "tabla_confianza"
   ],
   "id": "c5672cbc9f132201",
   "outputs": [
    {
     "name": "stdout",
     "output_type": "stream",
     "text": [
      "[1] \"Procesando archivo: data/encig2017_01_sec_11.dbf\"\n",
      "[1] \"Procesando archivo: data/encig2019_01_sec_11.dbf\"\n",
      "[1] \"Procesando archivo: data/encig2021_01_sec_11.csv\"\n"
     ]
    },
    {
     "name": "stderr",
     "output_type": "stream",
     "text": [
      "\u001B[1m\u001B[22mNew names:\n",
      "\u001B[36m•\u001B[39m `` -> `...1`\n"
     ]
    },
    {
     "name": "stdout",
     "output_type": "stream",
     "text": [
      "[1] \"Procesando archivo: data/encig2023_01_sec_11.csv\"\n"
     ]
    },
    {
     "name": "stderr",
     "output_type": "stream",
     "text": [
      "\u001B[1m\u001B[22mNew names:\n",
      "\u001B[36m•\u001B[39m `` -> `...1`\n"
     ]
    },
    {
     "name": "stdout",
     "output_type": "stream",
     "text": [
      "[1] \"Porcentaje de personas que confían en el gobierno de la Ciudad de México\"\n"
     ]
    },
    {
     "data": {
      "text/html": [
       "<table class=\"dataframe\">\n",
       "<caption>A tibble: 4 × 6</caption>\n",
       "<thead>\n",
       "\t<tr><th scope=col>confianza</th><th scope=col>personas</th><th scope=col>personas_cv</th><th scope=col>porcentaje</th><th scope=col>porcentaje_cv</th><th scope=col>year</th></tr>\n",
       "\t<tr><th scope=col>&lt;chr&gt;</th><th scope=col>&lt;dbl&gt;</th><th scope=col>&lt;dbl&gt;</th><th scope=col>&lt;dbl&gt;</th><th scope=col>&lt;dbl&gt;</th><th scope=col>&lt;chr&gt;</th></tr>\n",
       "</thead>\n",
       "<tbody>\n",
       "\t<tr><td>Confía</td><td>1241859</td><td>0.05099752</td><td>14.16</td><td>0.04852940</td><td>2017</td></tr>\n",
       "\t<tr><td>Confía</td><td>2836364</td><td>0.02448298</td><td>40.87</td><td>0.02166087</td><td>2019</td></tr>\n",
       "\t<tr><td>Confía</td><td>3351823</td><td>0.02201146</td><td>48.17</td><td>0.01892866</td><td>2021</td></tr>\n",
       "\t<tr><td>Confía</td><td>3446410</td><td>0.02412965</td><td>45.49</td><td>0.01937280</td><td>2023</td></tr>\n",
       "</tbody>\n",
       "</table>\n"
      ],
      "text/markdown": "\nA tibble: 4 × 6\n\n| confianza &lt;chr&gt; | personas &lt;dbl&gt; | personas_cv &lt;dbl&gt; | porcentaje &lt;dbl&gt; | porcentaje_cv &lt;dbl&gt; | year &lt;chr&gt; |\n|---|---|---|---|---|---|\n| Confía | 1241859 | 0.05099752 | 14.16 | 0.04852940 | 2017 |\n| Confía | 2836364 | 0.02448298 | 40.87 | 0.02166087 | 2019 |\n| Confía | 3351823 | 0.02201146 | 48.17 | 0.01892866 | 2021 |\n| Confía | 3446410 | 0.02412965 | 45.49 | 0.01937280 | 2023 |\n\n",
      "text/latex": "A tibble: 4 × 6\n\\begin{tabular}{llllll}\n confianza & personas & personas\\_cv & porcentaje & porcentaje\\_cv & year\\\\\n <chr> & <dbl> & <dbl> & <dbl> & <dbl> & <chr>\\\\\n\\hline\n\t Confía & 1241859 & 0.05099752 & 14.16 & 0.04852940 & 2017\\\\\n\t Confía & 2836364 & 0.02448298 & 40.87 & 0.02166087 & 2019\\\\\n\t Confía & 3351823 & 0.02201146 & 48.17 & 0.01892866 & 2021\\\\\n\t Confía & 3446410 & 0.02412965 & 45.49 & 0.01937280 & 2023\\\\\n\\end{tabular}\n",
      "text/plain": [
       "  confianza personas personas_cv porcentaje porcentaje_cv year\n",
       "1 Confía    1241859  0.05099752  14.16      0.04852940    2017\n",
       "2 Confía    2836364  0.02448298  40.87      0.02166087    2019\n",
       "3 Confía    3351823  0.02201146  48.17      0.01892866    2021\n",
       "4 Confía    3446410  0.02412965  45.49      0.01937280    2023"
      ]
     },
     "metadata": {},
     "output_type": "display_data"
    }
   ],
   "execution_count": 50
  },
  {
   "metadata": {
    "ExecuteTime": {
     "end_time": "2025-02-02T05:38:44.919405Z",
     "start_time": "2025-02-02T05:38:40.891472Z"
    }
   },
   "cell_type": "code",
   "source": [
    "tabla_actos_corrupcion<-process_files(years_encig, variable = \"actos_corrupcion\")\n",
    "print(\"Porcentaje de personas que perciben actos de corrupción en la Ciudad de México\")\n",
    "tabla_actos_corrupcion"
   ],
   "id": "b0e06e091cfeb4eb",
   "outputs": [
    {
     "name": "stdout",
     "output_type": "stream",
     "text": [
      "[1] \"Procesando archivo: data/encig2017_01_sec1_3_4_5_8_9_10.dbf\"\n",
      "[1] \"Procesando archivo: data/encig2019_01_sec1_3_4_5_8_9_10.dbf\"\n",
      "[1] \"Procesando archivo: data/encig2021_01_sec1_A_3_4_5_8_9_10.csv\"\n"
     ]
    },
    {
     "name": "stderr",
     "output_type": "stream",
     "text": [
      "\u001B[1m\u001B[22mNew names:\n",
      "\u001B[36m•\u001B[39m `` -> `...1`\n"
     ]
    },
    {
     "name": "stdout",
     "output_type": "stream",
     "text": [
      "[1] \"Procesando archivo: data/encig2023_01_sec1_A_3_4_5_8_9_10.csv\"\n"
     ]
    },
    {
     "name": "stderr",
     "output_type": "stream",
     "text": [
      "\u001B[1m\u001B[22mNew names:\n",
      "\u001B[36m•\u001B[39m `` -> `...1`\n"
     ]
    },
    {
     "name": "stdout",
     "output_type": "stream",
     "text": [
      "[1] \"Porcentaje de personas que perciben actos de corrupción en la Ciudad de México\"\n"
     ]
    },
    {
     "data": {
      "text/html": [
       "<table class=\"dataframe\">\n",
       "<caption>A tibble: 4 × 6</caption>\n",
       "<thead>\n",
       "\t<tr><th scope=col>actos_corrupcion</th><th scope=col>personas</th><th scope=col>personas_cv</th><th scope=col>porcentaje</th><th scope=col>porcentaje_cv</th><th scope=col>year</th></tr>\n",
       "\t<tr><th scope=col>&lt;chr&gt;</th><th scope=col>&lt;dbl&gt;</th><th scope=col>&lt;dbl&gt;</th><th scope=col>&lt;dbl&gt;</th><th scope=col>&lt;dbl&gt;</th><th scope=col>&lt;chr&gt;</th></tr>\n",
       "</thead>\n",
       "<tbody>\n",
       "\t<tr><td>Frecuentes</td><td>8410975</td><td>0.01634467</td><td>95.94</td><td>0.003774120</td><td>2017</td></tr>\n",
       "\t<tr><td>Frecuentes</td><td>6247296</td><td>0.01193104</td><td>90.02</td><td>0.005535388</td><td>2019</td></tr>\n",
       "\t<tr><td>Frecuentes</td><td>6248752</td><td>0.01368776</td><td>89.81</td><td>0.005471011</td><td>2021</td></tr>\n",
       "\t<tr><td>Frecuentes</td><td>6648218</td><td>0.01374265</td><td>87.76</td><td>0.006548517</td><td>2023</td></tr>\n",
       "</tbody>\n",
       "</table>\n"
      ],
      "text/markdown": "\nA tibble: 4 × 6\n\n| actos_corrupcion &lt;chr&gt; | personas &lt;dbl&gt; | personas_cv &lt;dbl&gt; | porcentaje &lt;dbl&gt; | porcentaje_cv &lt;dbl&gt; | year &lt;chr&gt; |\n|---|---|---|---|---|---|\n| Frecuentes | 8410975 | 0.01634467 | 95.94 | 0.003774120 | 2017 |\n| Frecuentes | 6247296 | 0.01193104 | 90.02 | 0.005535388 | 2019 |\n| Frecuentes | 6248752 | 0.01368776 | 89.81 | 0.005471011 | 2021 |\n| Frecuentes | 6648218 | 0.01374265 | 87.76 | 0.006548517 | 2023 |\n\n",
      "text/latex": "A tibble: 4 × 6\n\\begin{tabular}{llllll}\n actos\\_corrupcion & personas & personas\\_cv & porcentaje & porcentaje\\_cv & year\\\\\n <chr> & <dbl> & <dbl> & <dbl> & <dbl> & <chr>\\\\\n\\hline\n\t Frecuentes & 8410975 & 0.01634467 & 95.94 & 0.003774120 & 2017\\\\\n\t Frecuentes & 6247296 & 0.01193104 & 90.02 & 0.005535388 & 2019\\\\\n\t Frecuentes & 6248752 & 0.01368776 & 89.81 & 0.005471011 & 2021\\\\\n\t Frecuentes & 6648218 & 0.01374265 & 87.76 & 0.006548517 & 2023\\\\\n\\end{tabular}\n",
      "text/plain": [
       "  actos_corrupcion personas personas_cv porcentaje porcentaje_cv year\n",
       "1 Frecuentes       8410975  0.01634467  95.94      0.003774120   2017\n",
       "2 Frecuentes       6247296  0.01193104  90.02      0.005535388   2019\n",
       "3 Frecuentes       6248752  0.01368776  89.81      0.005471011   2021\n",
       "4 Frecuentes       6648218  0.01374265  87.76      0.006548517   2023"
      ]
     },
     "metadata": {},
     "output_type": "display_data"
    }
   ],
   "execution_count": 51
  }
 ],
 "metadata": {
  "kernelspec": {
   "name": "ir",
   "language": "R",
   "display_name": "R"
  }
 },
 "nbformat": 4,
 "nbformat_minor": 5
}
