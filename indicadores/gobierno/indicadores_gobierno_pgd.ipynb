{
 "cells": [
  {
   "metadata": {
    "ExecuteTime": {
     "end_time": "2025-03-14T19:59:16.778316Z",
     "start_time": "2025-03-14T19:59:16.756145Z"
    }
   },
   "cell_type": "code",
   "source": [
    "##Estimación de indicadores de gobierno\n",
    "#Se borra todo lo que se encuentra en el entorno\n",
    "\n",
    "#rm(list=ls())\n",
    "\n",
    "# Librerías ====\n",
    "if(!require('pacman')) install.packages('pacman')\n",
    "pacman::p_load(tidyverse, srvyr)"
   ],
   "id": "c5057aaf564ae655",
   "outputs": [],
   "execution_count": 6
  },
  {
   "metadata": {
    "ExecuteTime": {
     "end_time": "2025-03-14T19:59:16.803985Z",
     "start_time": "2025-03-14T19:59:16.785641Z"
    }
   },
   "cell_type": "code",
   "source": "dir.create(\"data\", showWarnings = FALSE)",
   "id": "e3493cde6b1a633b",
   "outputs": [],
   "execution_count": 7
  },
  {
   "metadata": {
    "ExecuteTime": {
     "end_time": "2025-03-14T19:59:16.828473Z",
     "start_time": "2025-03-14T19:59:16.811052Z"
    }
   },
   "cell_type": "code",
   "source": [
    "url_encig_basica<-\"https://www.inegi.org.mx/contenidos/programas/encig/\"\n",
    "segunda_parte<-\"microdatos/encig\"\n",
    "years_encig<-c(\"2017\",\"2019\",\"2021\", \"2023\")"
   ],
   "id": "dfb6754907acbf26",
   "outputs": [],
   "execution_count": 8
  },
  {
   "metadata": {
    "ExecuteTime": {
     "end_time": "2025-03-14T20:08:57.694025Z",
     "start_time": "2025-03-14T19:59:16.837059Z"
    }
   },
   "cell_type": "code",
   "source": [
    "# Descargar los archivos, descomprimirlos y renombrarlos\n",
    "options(timeout=300)\n",
    "for (i in 1:length(years_encig)) {\n",
    "  # Ajustar el sufijo de la URL y archivo según el año\n",
    "  if (years_encig[i] %in% c(\"2017\", \"2019\")) {\n",
    "    fin <- \"_base_datos_dbf.zip\"\n",
    "  } else {\n",
    "    fin <- \"_base_datos_csv.zip\"\n",
    "  }\n",
    "\n",
    "  # Construir la URL y el nombre del archivo destino\n",
    "  url <- paste0(url_encig_basica, years_encig[i], \"/\", segunda_parte, str_sub(years_encig[i], 3, 4), fin)\n",
    "  print(url)\n",
    "  destfile <- paste0(\"data/encig\", str_sub(years_encig[i], 3, 4), fin)\n",
    "\n",
    "  # Descargar el archivo\n",
    "  download.file(url, destfile = destfile)\n",
    "\n",
    "  # Descomprimir el archivo\n",
    "  unzip(destfile, exdir = \"data\")\n",
    "}"
   ],
   "id": "4c584178974306f7",
   "outputs": [
    {
     "name": "stdout",
     "output_type": "stream",
     "text": [
      "[1] \"https://www.inegi.org.mx/contenidos/programas/encig/2017/microdatos/encig17_base_datos_dbf.zip\"\n",
      "[1] \"https://www.inegi.org.mx/contenidos/programas/encig/2019/microdatos/encig19_base_datos_dbf.zip\"\n",
      "[1] \"https://www.inegi.org.mx/contenidos/programas/encig/2021/microdatos/encig21_base_datos_csv.zip\"\n",
      "[1] \"https://www.inegi.org.mx/contenidos/programas/encig/2023/microdatos/encig23_base_datos_csv.zip\"\n"
     ]
    }
   ],
   "execution_count": 9
  },
  {
   "metadata": {
    "ExecuteTime": {
     "end_time": "2025-03-14T20:08:57.758569Z",
     "start_time": "2025-03-14T20:08:57.741791Z"
    }
   },
   "cell_type": "code",
   "source": [
    "# Función de estimación\n",
    "process_files <- function(years, variable) {\n",
    "  # Función anidada para estimar el indicador\n",
    "  estima_indicador <- function(path, variable) {\n",
    "    # Extraer el año del archivo\n",
    "    year <- substr(path, 11, 14)\n",
    "\n",
    "    # Leer los datos y hacer las transformaciones necesarias de las variables\n",
    "    if (year %in% c(\"2017\", \"2019\")) {\n",
    "      datos <- foreign::read.dbf(path) %>%\n",
    "        janitor::clean_names() %>%\n",
    "        mutate(p11_1_6 = if (\"p11_1_6\" %in% names(.)) as.numeric(p11_1_6) else as.numeric(p3_2),\n",
    "               fac_p18 = as.numeric(fac_p18),\n",
    "               upm = as.numeric(upm),\n",
    "               est_dis = as.numeric(est_dis)) %>%\n",
    "        # Filtrar Ciudad de México\n",
    "        filter(ent == \"09\")\n",
    "    } else if (year %in% c(\"2021\", \"2023\")) {\n",
    "      datos <- read_csv(path, show_col_types = FALSE) %>%\n",
    "        janitor::clean_names() %>%\n",
    "        rename_with(~ ifelse(. == \"p11_1_06\", \"p11_1_6\", .)) %>%\n",
    "        # Filtrar Ciudad de México\n",
    "        filter(nom_ent == \"CIUDAD DE MEXICO\")\n",
    "    } else {\n",
    "      stop(\"Año no soportado.\")\n",
    "    }\n",
    "\n",
    "    # Diseño muestral\n",
    "    dm <- datos %>%\n",
    "      as_survey_design(ids = upm, strata = est_dis, weights = fac_p18)\n",
    "\n",
    "    # Confianza\n",
    "    if (variable == \"confianza\") {\n",
    "      confianza_gob <- dm %>%\n",
    "        mutate(confianza = case_when(\n",
    "          p11_1_6 == 1 | p11_1_6 == 2 ~ \"Confía\",\n",
    "          TRUE ~ \"No confía\"\n",
    "        )) %>%\n",
    "        group_by(confianza) %>%\n",
    "        summarise(\n",
    "          personas = survey_total(vartype = \"cv\"),\n",
    "          porcentaje = survey_mean(vartype = \"cv\")\n",
    "        ) %>%\n",
    "        # Filtrar confianza\n",
    "        filter(confianza == \"Confía\") %>%\n",
    "        mutate(porcentaje = round(porcentaje * 100, 2),\n",
    "               year = year)\n",
    "      return(confianza_gob)\n",
    "\n",
    "      # Actos de corrupción\n",
    "    } else if (variable == \"actos_corrupcion\") {\n",
    "      actos_corrup <- dm %>%\n",
    "        mutate(actos_corrupcion = case_when(\n",
    "          p3_2 == 1 | p3_2 == 2 ~ \"Frecuentes\",\n",
    "          TRUE ~ \"No frecuentes\"\n",
    "        )) %>%\n",
    "        group_by(actos_corrupcion) %>%\n",
    "        summarise(\n",
    "          personas = survey_total(vartype = \"cv\"),\n",
    "          porcentaje = survey_mean(vartype = \"cv\")\n",
    "        ) %>%\n",
    "        filter(actos_corrupcion == \"Frecuentes\") %>%\n",
    "        mutate(porcentaje = round(porcentaje * 100, 2),\n",
    "               year = year)\n",
    "      return(actos_corrup)\n",
    "\n",
    "    } else {\n",
    "      stop(\"Variable no reconocida.\")\n",
    "    }\n",
    "  }\n",
    "\n",
    "  map_dfr(years, function(year) {\n",
    "    # Seleccionar el archivo correcto según la variable y el año\n",
    "    file_path <- if (variable == \"actos_corrupcion\") {\n",
    "      if (year %in% c(2017, 2019)) {\n",
    "        paste0(\"data/encig\", year, \"_01_sec1_3_4_5_8_9_10.dbf\")\n",
    "      } else if (year %in% c(2021, 2023)) {\n",
    "        paste0(\"data/encig\", year, \"_01_sec1_A_3_4_5_8_9_10.csv\")\n",
    "      } else {\n",
    "        stop(\"Año no soportado para actos de corrupción.\")\n",
    "      }\n",
    "    } else if (variable == \"confianza\") {\n",
    "      if (year %in% c(2017, 2019)) {\n",
    "        paste0(\"data/encig\", year, \"_01_sec_11.dbf\")\n",
    "      } else if (year %in% c(2021, 2023)) {\n",
    "        paste0(\"data/encig\", year, \"_01_sec_11.csv\")\n",
    "      } else {\n",
    "        stop(\"Año no soportado para confianza.\")\n",
    "      }\n",
    "    } else {\n",
    "      stop(\"Variable no reconocida.\")\n",
    "    }\n",
    "\n",
    "    # Print del archivo que se está procesando\n",
    "    print(paste(\"Procesando archivo:\", file_path))\n",
    "\n",
    "    # Invocar la función de estimación\n",
    "    estima_indicador(file_path, variable)\n",
    "  })\n",
    "}\n"
   ],
   "id": "ab2ab24da73d359e",
   "outputs": [],
   "execution_count": 10
  },
  {
   "metadata": {
    "ExecuteTime": {
     "end_time": "2025-03-14T20:09:01.297635Z",
     "start_time": "2025-03-14T20:08:57.781403Z"
    }
   },
   "cell_type": "code",
   "source": [
    "# Estimar indicadores de gobierno\n",
    "tabla_confianza<-process_files(years_encig, variable = \"confianza\")\n",
    "print(\"Porcentaje de personas que confían en el gobierno de la Ciudad de México\")\n",
    "tabla_confianza"
   ],
   "id": "c5672cbc9f132201",
   "outputs": [
    {
     "name": "stdout",
     "output_type": "stream",
     "text": [
      "[1] \"Procesando archivo: data/encig2017_01_sec_11.dbf\"\n",
      "[1] \"Procesando archivo: data/encig2019_01_sec_11.dbf\"\n",
      "[1] \"Procesando archivo: data/encig2021_01_sec_11.csv\"\n"
     ]
    },
    {
     "name": "stderr",
     "output_type": "stream",
     "text": [
      "\u001B[1m\u001B[22mNew names:\n",
      "\u001B[36m•\u001B[39m `` -> `...1`\n"
     ]
    },
    {
     "name": "stdout",
     "output_type": "stream",
     "text": [
      "[1] \"Procesando archivo: data/encig2023_01_sec_11.csv\"\n"
     ]
    },
    {
     "name": "stderr",
     "output_type": "stream",
     "text": [
      "\u001B[1m\u001B[22mNew names:\n",
      "\u001B[36m•\u001B[39m `` -> `...1`\n"
     ]
    },
    {
     "name": "stdout",
     "output_type": "stream",
     "text": [
      "[1] \"Porcentaje de personas que confían en el gobierno de la Ciudad de México\"\n"
     ]
    },
    {
     "data": {
      "text/html": [
       "<table class=\"dataframe\">\n",
       "<caption>A tibble: 4 × 6</caption>\n",
       "<thead>\n",
       "\t<tr><th scope=col>confianza</th><th scope=col>personas</th><th scope=col>personas_cv</th><th scope=col>porcentaje</th><th scope=col>porcentaje_cv</th><th scope=col>year</th></tr>\n",
       "\t<tr><th scope=col>&lt;chr&gt;</th><th scope=col>&lt;dbl&gt;</th><th scope=col>&lt;dbl&gt;</th><th scope=col>&lt;dbl&gt;</th><th scope=col>&lt;dbl&gt;</th><th scope=col>&lt;chr&gt;</th></tr>\n",
       "</thead>\n",
       "<tbody>\n",
       "\t<tr><td>Confía</td><td>1241859</td><td>0.05099752</td><td>14.16</td><td>0.04852940</td><td>2017</td></tr>\n",
       "\t<tr><td>Confía</td><td>2836364</td><td>0.02448298</td><td>40.87</td><td>0.02166087</td><td>2019</td></tr>\n",
       "\t<tr><td>Confía</td><td>3351823</td><td>0.02201146</td><td>48.17</td><td>0.01892866</td><td>2021</td></tr>\n",
       "\t<tr><td>Confía</td><td>3446410</td><td>0.02412965</td><td>45.49</td><td>0.01937280</td><td>2023</td></tr>\n",
       "</tbody>\n",
       "</table>\n"
      ],
      "text/markdown": "\nA tibble: 4 × 6\n\n| confianza &lt;chr&gt; | personas &lt;dbl&gt; | personas_cv &lt;dbl&gt; | porcentaje &lt;dbl&gt; | porcentaje_cv &lt;dbl&gt; | year &lt;chr&gt; |\n|---|---|---|---|---|---|\n| Confía | 1241859 | 0.05099752 | 14.16 | 0.04852940 | 2017 |\n| Confía | 2836364 | 0.02448298 | 40.87 | 0.02166087 | 2019 |\n| Confía | 3351823 | 0.02201146 | 48.17 | 0.01892866 | 2021 |\n| Confía | 3446410 | 0.02412965 | 45.49 | 0.01937280 | 2023 |\n\n",
      "text/latex": "A tibble: 4 × 6\n\\begin{tabular}{llllll}\n confianza & personas & personas\\_cv & porcentaje & porcentaje\\_cv & year\\\\\n <chr> & <dbl> & <dbl> & <dbl> & <dbl> & <chr>\\\\\n\\hline\n\t Confía & 1241859 & 0.05099752 & 14.16 & 0.04852940 & 2017\\\\\n\t Confía & 2836364 & 0.02448298 & 40.87 & 0.02166087 & 2019\\\\\n\t Confía & 3351823 & 0.02201146 & 48.17 & 0.01892866 & 2021\\\\\n\t Confía & 3446410 & 0.02412965 & 45.49 & 0.01937280 & 2023\\\\\n\\end{tabular}\n",
      "text/plain": [
       "  confianza personas personas_cv porcentaje porcentaje_cv year\n",
       "1 Confía    1241859  0.05099752  14.16      0.04852940    2017\n",
       "2 Confía    2836364  0.02448298  40.87      0.02166087    2019\n",
       "3 Confía    3351823  0.02201146  48.17      0.01892866    2021\n",
       "4 Confía    3446410  0.02412965  45.49      0.01937280    2023"
      ]
     },
     "metadata": {},
     "output_type": "display_data"
    }
   ],
   "execution_count": 11
  },
  {
   "metadata": {
    "ExecuteTime": {
     "end_time": "2025-03-14T20:09:06.693439Z",
     "start_time": "2025-03-14T20:09:01.316660Z"
    }
   },
   "cell_type": "code",
   "source": [
    "tabla_actos_corrupcion<-process_files(years_encig, variable = \"actos_corrupcion\")\n",
    "print(\"Porcentaje de personas que perciben actos de corrupción en la Ciudad de México\")\n",
    "tabla_actos_corrupcion"
   ],
   "id": "b0e06e091cfeb4eb",
   "outputs": [
    {
     "name": "stdout",
     "output_type": "stream",
     "text": [
      "[1] \"Procesando archivo: data/encig2017_01_sec1_3_4_5_8_9_10.dbf\"\n",
      "[1] \"Procesando archivo: data/encig2019_01_sec1_3_4_5_8_9_10.dbf\"\n",
      "[1] \"Procesando archivo: data/encig2021_01_sec1_A_3_4_5_8_9_10.csv\"\n"
     ]
    },
    {
     "name": "stderr",
     "output_type": "stream",
     "text": [
      "\u001B[1m\u001B[22mNew names:\n",
      "\u001B[36m•\u001B[39m `` -> `...1`\n"
     ]
    },
    {
     "name": "stdout",
     "output_type": "stream",
     "text": [
      "[1] \"Procesando archivo: data/encig2023_01_sec1_A_3_4_5_8_9_10.csv\"\n"
     ]
    },
    {
     "name": "stderr",
     "output_type": "stream",
     "text": [
      "\u001B[1m\u001B[22mNew names:\n",
      "\u001B[36m•\u001B[39m `` -> `...1`\n"
     ]
    },
    {
     "name": "stdout",
     "output_type": "stream",
     "text": [
      "[1] \"Porcentaje de personas que perciben actos de corrupción en la Ciudad de México\"\n"
     ]
    },
    {
     "data": {
      "text/html": [
       "<table class=\"dataframe\">\n",
       "<caption>A tibble: 4 × 6</caption>\n",
       "<thead>\n",
       "\t<tr><th scope=col>actos_corrupcion</th><th scope=col>personas</th><th scope=col>personas_cv</th><th scope=col>porcentaje</th><th scope=col>porcentaje_cv</th><th scope=col>year</th></tr>\n",
       "\t<tr><th scope=col>&lt;chr&gt;</th><th scope=col>&lt;dbl&gt;</th><th scope=col>&lt;dbl&gt;</th><th scope=col>&lt;dbl&gt;</th><th scope=col>&lt;dbl&gt;</th><th scope=col>&lt;chr&gt;</th></tr>\n",
       "</thead>\n",
       "<tbody>\n",
       "\t<tr><td>Frecuentes</td><td>8410975</td><td>0.01634467</td><td>95.94</td><td>0.003774120</td><td>2017</td></tr>\n",
       "\t<tr><td>Frecuentes</td><td>6247296</td><td>0.01193104</td><td>90.02</td><td>0.005535388</td><td>2019</td></tr>\n",
       "\t<tr><td>Frecuentes</td><td>6248752</td><td>0.01368776</td><td>89.81</td><td>0.005471011</td><td>2021</td></tr>\n",
       "\t<tr><td>Frecuentes</td><td>6648218</td><td>0.01374265</td><td>87.76</td><td>0.006548517</td><td>2023</td></tr>\n",
       "</tbody>\n",
       "</table>\n"
      ],
      "text/markdown": "\nA tibble: 4 × 6\n\n| actos_corrupcion &lt;chr&gt; | personas &lt;dbl&gt; | personas_cv &lt;dbl&gt; | porcentaje &lt;dbl&gt; | porcentaje_cv &lt;dbl&gt; | year &lt;chr&gt; |\n|---|---|---|---|---|---|\n| Frecuentes | 8410975 | 0.01634467 | 95.94 | 0.003774120 | 2017 |\n| Frecuentes | 6247296 | 0.01193104 | 90.02 | 0.005535388 | 2019 |\n| Frecuentes | 6248752 | 0.01368776 | 89.81 | 0.005471011 | 2021 |\n| Frecuentes | 6648218 | 0.01374265 | 87.76 | 0.006548517 | 2023 |\n\n",
      "text/latex": "A tibble: 4 × 6\n\\begin{tabular}{llllll}\n actos\\_corrupcion & personas & personas\\_cv & porcentaje & porcentaje\\_cv & year\\\\\n <chr> & <dbl> & <dbl> & <dbl> & <dbl> & <chr>\\\\\n\\hline\n\t Frecuentes & 8410975 & 0.01634467 & 95.94 & 0.003774120 & 2017\\\\\n\t Frecuentes & 6247296 & 0.01193104 & 90.02 & 0.005535388 & 2019\\\\\n\t Frecuentes & 6248752 & 0.01368776 & 89.81 & 0.005471011 & 2021\\\\\n\t Frecuentes & 6648218 & 0.01374265 & 87.76 & 0.006548517 & 2023\\\\\n\\end{tabular}\n",
      "text/plain": [
       "  actos_corrupcion personas personas_cv porcentaje porcentaje_cv year\n",
       "1 Frecuentes       8410975  0.01634467  95.94      0.003774120   2017\n",
       "2 Frecuentes       6247296  0.01193104  90.02      0.005535388   2019\n",
       "3 Frecuentes       6248752  0.01368776  89.81      0.005471011   2021\n",
       "4 Frecuentes       6648218  0.01374265  87.76      0.006548517   2023"
      ]
     },
     "metadata": {},
     "output_type": "display_data"
    }
   ],
   "execution_count": 12
  },
  {
   "metadata": {},
   "cell_type": "markdown",
   "source": "### Proyecciones",
   "id": "4d7c08c24a9d0ff6"
  },
  {
   "metadata": {
    "ExecuteTime": {
     "end_time": "2025-03-14T21:01:53.185982Z",
     "start_time": "2025-03-14T21:01:53.164036Z"
    }
   },
   "cell_type": "code",
   "source": [
    "tabla_confianza%>%\n",
    "filter(year>2017)"
   ],
   "id": "5c34471db9396583",
   "outputs": [
    {
     "data": {
      "text/html": [
       "<table class=\"dataframe\">\n",
       "<caption>A tibble: 3 × 6</caption>\n",
       "<thead>\n",
       "\t<tr><th scope=col>confianza</th><th scope=col>personas</th><th scope=col>personas_cv</th><th scope=col>porcentaje</th><th scope=col>porcentaje_cv</th><th scope=col>year</th></tr>\n",
       "\t<tr><th scope=col>&lt;chr&gt;</th><th scope=col>&lt;dbl&gt;</th><th scope=col>&lt;dbl&gt;</th><th scope=col>&lt;dbl&gt;</th><th scope=col>&lt;dbl&gt;</th><th scope=col>&lt;chr&gt;</th></tr>\n",
       "</thead>\n",
       "<tbody>\n",
       "\t<tr><td>Confía</td><td>2836364</td><td>0.02448298</td><td>40.87</td><td>0.02166087</td><td>2019</td></tr>\n",
       "\t<tr><td>Confía</td><td>3351823</td><td>0.02201146</td><td>48.17</td><td>0.01892866</td><td>2021</td></tr>\n",
       "\t<tr><td>Confía</td><td>3446410</td><td>0.02412965</td><td>45.49</td><td>0.01937280</td><td>2023</td></tr>\n",
       "</tbody>\n",
       "</table>\n"
      ],
      "text/markdown": "\nA tibble: 3 × 6\n\n| confianza &lt;chr&gt; | personas &lt;dbl&gt; | personas_cv &lt;dbl&gt; | porcentaje &lt;dbl&gt; | porcentaje_cv &lt;dbl&gt; | year &lt;chr&gt; |\n|---|---|---|---|---|---|\n| Confía | 2836364 | 0.02448298 | 40.87 | 0.02166087 | 2019 |\n| Confía | 3351823 | 0.02201146 | 48.17 | 0.01892866 | 2021 |\n| Confía | 3446410 | 0.02412965 | 45.49 | 0.01937280 | 2023 |\n\n",
      "text/latex": "A tibble: 3 × 6\n\\begin{tabular}{llllll}\n confianza & personas & personas\\_cv & porcentaje & porcentaje\\_cv & year\\\\\n <chr> & <dbl> & <dbl> & <dbl> & <dbl> & <chr>\\\\\n\\hline\n\t Confía & 2836364 & 0.02448298 & 40.87 & 0.02166087 & 2019\\\\\n\t Confía & 3351823 & 0.02201146 & 48.17 & 0.01892866 & 2021\\\\\n\t Confía & 3446410 & 0.02412965 & 45.49 & 0.01937280 & 2023\\\\\n\\end{tabular}\n",
      "text/plain": [
       "  confianza personas personas_cv porcentaje porcentaje_cv year\n",
       "1 Confía    2836364  0.02448298  40.87      0.02166087    2019\n",
       "2 Confía    3351823  0.02201146  48.17      0.01892866    2021\n",
       "3 Confía    3446410  0.02412965  45.49      0.01937280    2023"
      ]
     },
     "metadata": {},
     "output_type": "display_data"
    }
   ],
   "execution_count": 101
  },
  {
   "metadata": {
    "ExecuteTime": {
     "end_time": "2025-03-14T21:01:54.522773Z",
     "start_time": "2025-03-14T21:01:54.508431Z"
    }
   },
   "cell_type": "code",
   "source": [
    "tcma_confianza<-((tabla_confianza$porcentaje[tabla_confianza$year==2021]/tabla_confianza$porcentaje[tabla_confianza$year==2019])^(1/(2021-2019))-1)\n",
    "tcma_confianza"
   ],
   "id": "5fb42a809477db1a",
   "outputs": [
    {
     "data": {
      "text/html": [
       "0.0856404198056246"
      ],
      "text/markdown": "0.0856404198056246",
      "text/latex": "0.0856404198056246",
      "text/plain": [
       "[1] 0.08564042"
      ]
     },
     "metadata": {},
     "output_type": "display_data"
    }
   ],
   "execution_count": 102
  },
  {
   "metadata": {
    "ExecuteTime": {
     "end_time": "2025-03-14T21:01:56.666590Z",
     "start_time": "2025-03-14T21:01:56.648505Z"
    }
   },
   "cell_type": "code",
   "source": [
    "# Número de años en cada periodo\n",
    "años_original <- 2021 - 2019\n",
    "años_nuevo <- 2045 - 2024\n",
    "\n",
    "# Factor de ajuste\n",
    "factor_ajuste <- (años_nuevo / años_original)\n",
    "tasa_crecimiento_ajustada <- tcma_confianza / factor_ajuste\n",
    "tasa_crecimiento_ajustada"
   ],
   "id": "4cc7d25d31eba215",
   "outputs": [
    {
     "data": {
      "text/html": [
       "0.00815623045767854"
      ],
      "text/markdown": "0.00815623045767854",
      "text/latex": "0.00815623045767854",
      "text/plain": [
       "[1] 0.00815623"
      ]
     },
     "metadata": {},
     "output_type": "display_data"
    }
   ],
   "execution_count": 103
  },
  {
   "metadata": {
    "ExecuteTime": {
     "end_time": "2025-03-14T21:01:59.314587Z",
     "start_time": "2025-03-14T21:01:59.282937Z"
    }
   },
   "cell_type": "code",
   "source": [
    "extendido_confianza<-data.frame(year=2024:2045)\n",
    "\n",
    "extendido_confianza$porcentaje<-tabla_confianza$porcentaje[tabla_confianza$year==2023]*cumprod(rep(1+tasa_crecimiento_ajustada,length(2024:2045)))\n",
    "extendido_confianza%>%\n",
    "mutate(porcentaje=round(porcentaje,2))"
   ],
   "id": "ddd8e637577289eb",
   "outputs": [
    {
     "data": {
      "text/html": [
       "<table class=\"dataframe\">\n",
       "<caption>A data.frame: 22 × 2</caption>\n",
       "<thead>\n",
       "\t<tr><th scope=col>year</th><th scope=col>porcentaje</th></tr>\n",
       "\t<tr><th scope=col>&lt;int&gt;</th><th scope=col>&lt;dbl&gt;</th></tr>\n",
       "</thead>\n",
       "<tbody>\n",
       "\t<tr><td>2024</td><td>45.86</td></tr>\n",
       "\t<tr><td>2025</td><td>46.24</td></tr>\n",
       "\t<tr><td>2026</td><td>46.61</td></tr>\n",
       "\t<tr><td>2027</td><td>46.99</td></tr>\n",
       "\t<tr><td>2028</td><td>47.38</td></tr>\n",
       "\t<tr><td>2029</td><td>47.76</td></tr>\n",
       "\t<tr><td>2030</td><td>48.15</td></tr>\n",
       "\t<tr><td>2031</td><td>48.54</td></tr>\n",
       "\t<tr><td>2032</td><td>48.94</td></tr>\n",
       "\t<tr><td>2033</td><td>49.34</td></tr>\n",
       "\t<tr><td>2034</td><td>49.74</td></tr>\n",
       "\t<tr><td>2035</td><td>50.15</td></tr>\n",
       "\t<tr><td>2036</td><td>50.56</td></tr>\n",
       "\t<tr><td>2037</td><td>50.97</td></tr>\n",
       "\t<tr><td>2038</td><td>51.38</td></tr>\n",
       "\t<tr><td>2039</td><td>51.80</td></tr>\n",
       "\t<tr><td>2040</td><td>52.23</td></tr>\n",
       "\t<tr><td>2041</td><td>52.65</td></tr>\n",
       "\t<tr><td>2042</td><td>53.08</td></tr>\n",
       "\t<tr><td>2043</td><td>53.51</td></tr>\n",
       "\t<tr><td>2044</td><td>53.95</td></tr>\n",
       "\t<tr><td>2045</td><td>54.39</td></tr>\n",
       "</tbody>\n",
       "</table>\n"
      ],
      "text/markdown": "\nA data.frame: 22 × 2\n\n| year &lt;int&gt; | porcentaje &lt;dbl&gt; |\n|---|---|\n| 2024 | 45.86 |\n| 2025 | 46.24 |\n| 2026 | 46.61 |\n| 2027 | 46.99 |\n| 2028 | 47.38 |\n| 2029 | 47.76 |\n| 2030 | 48.15 |\n| 2031 | 48.54 |\n| 2032 | 48.94 |\n| 2033 | 49.34 |\n| 2034 | 49.74 |\n| 2035 | 50.15 |\n| 2036 | 50.56 |\n| 2037 | 50.97 |\n| 2038 | 51.38 |\n| 2039 | 51.80 |\n| 2040 | 52.23 |\n| 2041 | 52.65 |\n| 2042 | 53.08 |\n| 2043 | 53.51 |\n| 2044 | 53.95 |\n| 2045 | 54.39 |\n\n",
      "text/latex": "A data.frame: 22 × 2\n\\begin{tabular}{ll}\n year & porcentaje\\\\\n <int> & <dbl>\\\\\n\\hline\n\t 2024 & 45.86\\\\\n\t 2025 & 46.24\\\\\n\t 2026 & 46.61\\\\\n\t 2027 & 46.99\\\\\n\t 2028 & 47.38\\\\\n\t 2029 & 47.76\\\\\n\t 2030 & 48.15\\\\\n\t 2031 & 48.54\\\\\n\t 2032 & 48.94\\\\\n\t 2033 & 49.34\\\\\n\t 2034 & 49.74\\\\\n\t 2035 & 50.15\\\\\n\t 2036 & 50.56\\\\\n\t 2037 & 50.97\\\\\n\t 2038 & 51.38\\\\\n\t 2039 & 51.80\\\\\n\t 2040 & 52.23\\\\\n\t 2041 & 52.65\\\\\n\t 2042 & 53.08\\\\\n\t 2043 & 53.51\\\\\n\t 2044 & 53.95\\\\\n\t 2045 & 54.39\\\\\n\\end{tabular}\n",
      "text/plain": [
       "   year porcentaje\n",
       "1  2024 45.86     \n",
       "2  2025 46.24     \n",
       "3  2026 46.61     \n",
       "4  2027 46.99     \n",
       "5  2028 47.38     \n",
       "6  2029 47.76     \n",
       "7  2030 48.15     \n",
       "8  2031 48.54     \n",
       "9  2032 48.94     \n",
       "10 2033 49.34     \n",
       "11 2034 49.74     \n",
       "12 2035 50.15     \n",
       "13 2036 50.56     \n",
       "14 2037 50.97     \n",
       "15 2038 51.38     \n",
       "16 2039 51.80     \n",
       "17 2040 52.23     \n",
       "18 2041 52.65     \n",
       "19 2042 53.08     \n",
       "20 2043 53.51     \n",
       "21 2044 53.95     \n",
       "22 2045 54.39     "
      ]
     },
     "metadata": {},
     "output_type": "display_data"
    }
   ],
   "execution_count": 104
  },
  {
   "metadata": {
    "ExecuteTime": {
     "end_time": "2025-03-14T21:02:17.422593Z",
     "start_time": "2025-03-14T21:02:17.394869Z"
    }
   },
   "cell_type": "code",
   "source": [
    "tab_graph_confianza<-tabla_confianza%>%\n",
    "mutate(year=as.integer(year))%>%\n",
    "select(year,porcentaje)%>%\n",
    "#Pegar con la tabla extendida\n",
    "bind_rows(extendido_confianza)%>%\n",
    "filter(year>2017)\n",
    "tab_graph_confianza"
   ],
   "id": "1203b5b21610c2f4",
   "outputs": [
    {
     "data": {
      "text/html": [
       "<table class=\"dataframe\">\n",
       "<caption>A tibble: 25 × 2</caption>\n",
       "<thead>\n",
       "\t<tr><th scope=col>year</th><th scope=col>porcentaje</th></tr>\n",
       "\t<tr><th scope=col>&lt;int&gt;</th><th scope=col>&lt;dbl&gt;</th></tr>\n",
       "</thead>\n",
       "<tbody>\n",
       "\t<tr><td>2019</td><td>40.87000</td></tr>\n",
       "\t<tr><td>2021</td><td>48.17000</td></tr>\n",
       "\t<tr><td>2023</td><td>45.49000</td></tr>\n",
       "\t<tr><td>2024</td><td>45.86103</td></tr>\n",
       "\t<tr><td>2025</td><td>46.23508</td></tr>\n",
       "\t<tr><td>2026</td><td>46.61218</td></tr>\n",
       "\t<tr><td>2027</td><td>46.99236</td></tr>\n",
       "\t<tr><td>2028</td><td>47.37564</td></tr>\n",
       "\t<tr><td>2029</td><td>47.76205</td></tr>\n",
       "\t<tr><td>2030</td><td>48.15161</td></tr>\n",
       "\t<tr><td>2031</td><td>48.54434</td></tr>\n",
       "\t<tr><td>2032</td><td>48.94028</td></tr>\n",
       "\t<tr><td>2033</td><td>49.33945</td></tr>\n",
       "\t<tr><td>2034</td><td>49.74188</td></tr>\n",
       "\t<tr><td>2035</td><td>50.14758</td></tr>\n",
       "\t<tr><td>2036</td><td>50.55660</td></tr>\n",
       "\t<tr><td>2037</td><td>50.96895</td></tr>\n",
       "\t<tr><td>2038</td><td>51.38466</td></tr>\n",
       "\t<tr><td>2039</td><td>51.80377</td></tr>\n",
       "\t<tr><td>2040</td><td>52.22629</td></tr>\n",
       "\t<tr><td>2041</td><td>52.65226</td></tr>\n",
       "\t<tr><td>2042</td><td>53.08171</td></tr>\n",
       "\t<tr><td>2043</td><td>53.51465</td></tr>\n",
       "\t<tr><td>2044</td><td>53.95113</td></tr>\n",
       "\t<tr><td>2045</td><td>54.39117</td></tr>\n",
       "</tbody>\n",
       "</table>\n"
      ],
      "text/markdown": "\nA tibble: 25 × 2\n\n| year &lt;int&gt; | porcentaje &lt;dbl&gt; |\n|---|---|\n| 2019 | 40.87000 |\n| 2021 | 48.17000 |\n| 2023 | 45.49000 |\n| 2024 | 45.86103 |\n| 2025 | 46.23508 |\n| 2026 | 46.61218 |\n| 2027 | 46.99236 |\n| 2028 | 47.37564 |\n| 2029 | 47.76205 |\n| 2030 | 48.15161 |\n| 2031 | 48.54434 |\n| 2032 | 48.94028 |\n| 2033 | 49.33945 |\n| 2034 | 49.74188 |\n| 2035 | 50.14758 |\n| 2036 | 50.55660 |\n| 2037 | 50.96895 |\n| 2038 | 51.38466 |\n| 2039 | 51.80377 |\n| 2040 | 52.22629 |\n| 2041 | 52.65226 |\n| 2042 | 53.08171 |\n| 2043 | 53.51465 |\n| 2044 | 53.95113 |\n| 2045 | 54.39117 |\n\n",
      "text/latex": "A tibble: 25 × 2\n\\begin{tabular}{ll}\n year & porcentaje\\\\\n <int> & <dbl>\\\\\n\\hline\n\t 2019 & 40.87000\\\\\n\t 2021 & 48.17000\\\\\n\t 2023 & 45.49000\\\\\n\t 2024 & 45.86103\\\\\n\t 2025 & 46.23508\\\\\n\t 2026 & 46.61218\\\\\n\t 2027 & 46.99236\\\\\n\t 2028 & 47.37564\\\\\n\t 2029 & 47.76205\\\\\n\t 2030 & 48.15161\\\\\n\t 2031 & 48.54434\\\\\n\t 2032 & 48.94028\\\\\n\t 2033 & 49.33945\\\\\n\t 2034 & 49.74188\\\\\n\t 2035 & 50.14758\\\\\n\t 2036 & 50.55660\\\\\n\t 2037 & 50.96895\\\\\n\t 2038 & 51.38466\\\\\n\t 2039 & 51.80377\\\\\n\t 2040 & 52.22629\\\\\n\t 2041 & 52.65226\\\\\n\t 2042 & 53.08171\\\\\n\t 2043 & 53.51465\\\\\n\t 2044 & 53.95113\\\\\n\t 2045 & 54.39117\\\\\n\\end{tabular}\n",
      "text/plain": [
       "   year porcentaje\n",
       "1  2019 40.87000  \n",
       "2  2021 48.17000  \n",
       "3  2023 45.49000  \n",
       "4  2024 45.86103  \n",
       "5  2025 46.23508  \n",
       "6  2026 46.61218  \n",
       "7  2027 46.99236  \n",
       "8  2028 47.37564  \n",
       "9  2029 47.76205  \n",
       "10 2030 48.15161  \n",
       "11 2031 48.54434  \n",
       "12 2032 48.94028  \n",
       "13 2033 49.33945  \n",
       "14 2034 49.74188  \n",
       "15 2035 50.14758  \n",
       "16 2036 50.55660  \n",
       "17 2037 50.96895  \n",
       "18 2038 51.38466  \n",
       "19 2039 51.80377  \n",
       "20 2040 52.22629  \n",
       "21 2041 52.65226  \n",
       "22 2042 53.08171  \n",
       "23 2043 53.51465  \n",
       "24 2044 53.95113  \n",
       "25 2045 54.39117  "
      ]
     },
     "metadata": {},
     "output_type": "display_data"
    }
   ],
   "execution_count": 106
  },
  {
   "metadata": {
    "ExecuteTime": {
     "end_time": "2025-03-14T21:02:37.863838Z",
     "start_time": "2025-03-14T21:02:37.738852Z"
    }
   },
   "cell_type": "code",
   "source": [
    "tab_graph_confianza%>%\n",
    "ggplot(aes(x=year,y=porcentaje))+geom_line()+geom_point()+theme_minimal()+labs(title=\"Porcentaje de personas que confían en el gobierno de la Ciudad de México\",x=\"Año\",y=\"Porcentaje\")"
   ],
   "id": "947031d8f6ebce6a",
   "outputs": [
    {
     "data": {
      "text/plain": [
       "plot without title"
      ],
      "image/png": "[encoded data removed]"
     },
     "metadata": {
      "image/png": {
       "width": 420,
       "height": 420
      }
     },
     "output_type": "display_data"
    }
   ],
   "execution_count": 108
  },
  {
   "metadata": {},
   "cell_type": "markdown",
   "source": "",
   "id": "2118d93c3ab0a2ce"
  },
  {
   "metadata": {
    "ExecuteTime": {
     "end_time": "2025-03-14T20:55:41.668028Z",
     "start_time": "2025-03-14T20:55:41.648437Z"
    }
   },
   "cell_type": "code",
   "source": [
    "tabla_actos_corrupcion%>%\n",
    "filter(year>2017)"
   ],
   "id": "c2e27f0ca278c3f7",
   "outputs": [
    {
     "data": {
      "text/html": [
       "<table class=\"dataframe\">\n",
       "<caption>A tibble: 3 × 6</caption>\n",
       "<thead>\n",
       "\t<tr><th scope=col>actos_corrupcion</th><th scope=col>personas</th><th scope=col>personas_cv</th><th scope=col>porcentaje</th><th scope=col>porcentaje_cv</th><th scope=col>year</th></tr>\n",
       "\t<tr><th scope=col>&lt;chr&gt;</th><th scope=col>&lt;dbl&gt;</th><th scope=col>&lt;dbl&gt;</th><th scope=col>&lt;dbl&gt;</th><th scope=col>&lt;dbl&gt;</th><th scope=col>&lt;chr&gt;</th></tr>\n",
       "</thead>\n",
       "<tbody>\n",
       "\t<tr><td>Frecuentes</td><td>6247296</td><td>0.01193104</td><td>90.02</td><td>0.005535388</td><td>2019</td></tr>\n",
       "\t<tr><td>Frecuentes</td><td>6248752</td><td>0.01368776</td><td>89.81</td><td>0.005471011</td><td>2021</td></tr>\n",
       "\t<tr><td>Frecuentes</td><td>6648218</td><td>0.01374265</td><td>87.76</td><td>0.006548517</td><td>2023</td></tr>\n",
       "</tbody>\n",
       "</table>\n"
      ],
      "text/markdown": "\nA tibble: 3 × 6\n\n| actos_corrupcion &lt;chr&gt; | personas &lt;dbl&gt; | personas_cv &lt;dbl&gt; | porcentaje &lt;dbl&gt; | porcentaje_cv &lt;dbl&gt; | year &lt;chr&gt; |\n|---|---|---|---|---|---|\n| Frecuentes | 6247296 | 0.01193104 | 90.02 | 0.005535388 | 2019 |\n| Frecuentes | 6248752 | 0.01368776 | 89.81 | 0.005471011 | 2021 |\n| Frecuentes | 6648218 | 0.01374265 | 87.76 | 0.006548517 | 2023 |\n\n",
      "text/latex": "A tibble: 3 × 6\n\\begin{tabular}{llllll}\n actos\\_corrupcion & personas & personas\\_cv & porcentaje & porcentaje\\_cv & year\\\\\n <chr> & <dbl> & <dbl> & <dbl> & <dbl> & <chr>\\\\\n\\hline\n\t Frecuentes & 6247296 & 0.01193104 & 90.02 & 0.005535388 & 2019\\\\\n\t Frecuentes & 6248752 & 0.01368776 & 89.81 & 0.005471011 & 2021\\\\\n\t Frecuentes & 6648218 & 0.01374265 & 87.76 & 0.006548517 & 2023\\\\\n\\end{tabular}\n",
      "text/plain": [
       "  actos_corrupcion personas personas_cv porcentaje porcentaje_cv year\n",
       "1 Frecuentes       6247296  0.01193104  90.02      0.005535388   2019\n",
       "2 Frecuentes       6248752  0.01368776  89.81      0.005471011   2021\n",
       "3 Frecuentes       6648218  0.01374265  87.76      0.006548517   2023"
      ]
     },
     "metadata": {},
     "output_type": "display_data"
    }
   ],
   "execution_count": 78
  },
  {
   "metadata": {
    "ExecuteTime": {
     "end_time": "2025-03-14T20:57:56.693363Z",
     "start_time": "2025-03-14T20:57:56.677387Z"
    }
   },
   "cell_type": "code",
   "source": "str(tabla_actos_corrupcion)",
   "id": "8a423570455fb75",
   "outputs": [
    {
     "name": "stdout",
     "output_type": "stream",
     "text": [
      "tibble [4 × 6] (S3: tbl_df/tbl/data.frame)\n",
      " $ actos_corrupcion: chr [1:4] \"Frecuentes\" \"Frecuentes\" \"Frecuentes\" \"Frecuentes\"\n",
      " $ personas        : num [1:4] 8410975 6247296 6248752 6648218\n",
      " $ personas_cv     : num [1:4] 0.0163 0.0119 0.0137 0.0137\n",
      " $ porcentaje      : num [1:4] 95.9 90 89.8 87.8\n",
      " $ porcentaje_cv   : num [1:4] 0.00377 0.00554 0.00547 0.00655\n",
      " $ year            : chr [1:4] \"2017\" \"2019\" \"2021\" \"2023\"\n"
     ]
    }
   ],
   "execution_count": 87
  },
  {
   "metadata": {
    "ExecuteTime": {
     "end_time": "2025-03-14T20:50:55.352596Z",
     "start_time": "2025-03-14T20:50:55.338242Z"
    }
   },
   "cell_type": "code",
   "source": [
    "tcma_actos_corrupcion<-((tabla_actos_corrupcion$porcentaje[tabla_actos_corrupcion$year==2023]/tabla_actos_corrupcion$porcentaje[tabla_actos_corrupcion$year==2019])^(1/(2023-2019))-1)\n",
    "tcma_actos_corrupcion"
   ],
   "id": "a9a831b833fd4eba",
   "outputs": [
    {
     "data": {
      "text/html": [
       "-0.00633635308400804"
      ],
      "text/markdown": "-0.00633635308400804",
      "text/latex": "-0.00633635308400804",
      "text/plain": [
       "[1] -0.006336353"
      ]
     },
     "metadata": {},
     "output_type": "display_data"
    }
   ],
   "execution_count": 71
  },
  {
   "metadata": {
    "ExecuteTime": {
     "end_time": "2025-03-14T20:51:28.330760Z",
     "start_time": "2025-03-14T20:51:28.314738Z"
    }
   },
   "cell_type": "code",
   "source": [
    "# Número de años en cada periodo\n",
    "años_original <- 2023 - 2019\n",
    "años_nuevo <- 2045 - 2024\n",
    "\n",
    "# Factor de ajuste\n",
    "factor_ajuste_corrup <- (años_nuevo / años_original)\n",
    "tasa_crecimiento_ajustada_c <- tcma_actos_corrupcion/ factor_ajuste_corrup\n",
    "tasa_crecimiento_ajustada_c"
   ],
   "id": "a042a37a13dd0d0b",
   "outputs": [
    {
     "data": {
      "text/html": [
       "-0.00120692439695391"
      ],
      "text/markdown": "-0.00120692439695391",
      "text/latex": "-0.00120692439695391",
      "text/plain": [
       "[1] -0.001206924"
      ]
     },
     "metadata": {},
     "output_type": "display_data"
    }
   ],
   "execution_count": 72
  },
  {
   "metadata": {
    "ExecuteTime": {
     "end_time": "2025-03-14T20:57:28.397835Z",
     "start_time": "2025-03-14T20:57:28.373080Z"
    }
   },
   "cell_type": "code",
   "source": [
    "extendido_corrupcion<-data.frame(year=2024:2045)\n",
    "\n",
    "extendido_corrupcion$porcentaje<-tabla_actos_corrupcion$porcentaje[tabla_actos_corrupcion$year==2023]*cumprod(rep(1+tcma_actos_corrupcion,length(2024:2045)))\n",
    "extendido_corrupcion%>%\n",
    "mutate(porcentaje=round(porcentaje,2),\n",
    "         year=as.integer(year))\n"
   ],
   "id": "acb9ff03007318fc",
   "outputs": [
    {
     "data": {
      "text/html": [
       "<table class=\"dataframe\">\n",
       "<caption>A data.frame: 22 × 2</caption>\n",
       "<thead>\n",
       "\t<tr><th scope=col>year</th><th scope=col>porcentaje</th></tr>\n",
       "\t<tr><th scope=col>&lt;int&gt;</th><th scope=col>&lt;dbl&gt;</th></tr>\n",
       "</thead>\n",
       "<tbody>\n",
       "\t<tr><td>2024</td><td>87.20</td></tr>\n",
       "\t<tr><td>2025</td><td>86.65</td></tr>\n",
       "\t<tr><td>2026</td><td>86.10</td></tr>\n",
       "\t<tr><td>2027</td><td>85.56</td></tr>\n",
       "\t<tr><td>2028</td><td>85.01</td></tr>\n",
       "\t<tr><td>2029</td><td>84.48</td></tr>\n",
       "\t<tr><td>2030</td><td>83.94</td></tr>\n",
       "\t<tr><td>2031</td><td>83.41</td></tr>\n",
       "\t<tr><td>2032</td><td>82.88</td></tr>\n",
       "\t<tr><td>2033</td><td>82.36</td></tr>\n",
       "\t<tr><td>2034</td><td>81.83</td></tr>\n",
       "\t<tr><td>2035</td><td>81.31</td></tr>\n",
       "\t<tr><td>2036</td><td>80.80</td></tr>\n",
       "\t<tr><td>2037</td><td>80.29</td></tr>\n",
       "\t<tr><td>2038</td><td>79.78</td></tr>\n",
       "\t<tr><td>2039</td><td>79.27</td></tr>\n",
       "\t<tr><td>2040</td><td>78.77</td></tr>\n",
       "\t<tr><td>2041</td><td>78.27</td></tr>\n",
       "\t<tr><td>2042</td><td>77.78</td></tr>\n",
       "\t<tr><td>2043</td><td>77.28</td></tr>\n",
       "\t<tr><td>2044</td><td>76.79</td></tr>\n",
       "\t<tr><td>2045</td><td>76.31</td></tr>\n",
       "</tbody>\n",
       "</table>\n"
      ],
      "text/markdown": "\nA data.frame: 22 × 2\n\n| year &lt;int&gt; | porcentaje &lt;dbl&gt; |\n|---|---|\n| 2024 | 87.20 |\n| 2025 | 86.65 |\n| 2026 | 86.10 |\n| 2027 | 85.56 |\n| 2028 | 85.01 |\n| 2029 | 84.48 |\n| 2030 | 83.94 |\n| 2031 | 83.41 |\n| 2032 | 82.88 |\n| 2033 | 82.36 |\n| 2034 | 81.83 |\n| 2035 | 81.31 |\n| 2036 | 80.80 |\n| 2037 | 80.29 |\n| 2038 | 79.78 |\n| 2039 | 79.27 |\n| 2040 | 78.77 |\n| 2041 | 78.27 |\n| 2042 | 77.78 |\n| 2043 | 77.28 |\n| 2044 | 76.79 |\n| 2045 | 76.31 |\n\n",
      "text/latex": "A data.frame: 22 × 2\n\\begin{tabular}{ll}\n year & porcentaje\\\\\n <int> & <dbl>\\\\\n\\hline\n\t 2024 & 87.20\\\\\n\t 2025 & 86.65\\\\\n\t 2026 & 86.10\\\\\n\t 2027 & 85.56\\\\\n\t 2028 & 85.01\\\\\n\t 2029 & 84.48\\\\\n\t 2030 & 83.94\\\\\n\t 2031 & 83.41\\\\\n\t 2032 & 82.88\\\\\n\t 2033 & 82.36\\\\\n\t 2034 & 81.83\\\\\n\t 2035 & 81.31\\\\\n\t 2036 & 80.80\\\\\n\t 2037 & 80.29\\\\\n\t 2038 & 79.78\\\\\n\t 2039 & 79.27\\\\\n\t 2040 & 78.77\\\\\n\t 2041 & 78.27\\\\\n\t 2042 & 77.78\\\\\n\t 2043 & 77.28\\\\\n\t 2044 & 76.79\\\\\n\t 2045 & 76.31\\\\\n\\end{tabular}\n",
      "text/plain": [
       "   year porcentaje\n",
       "1  2024 87.20     \n",
       "2  2025 86.65     \n",
       "3  2026 86.10     \n",
       "4  2027 85.56     \n",
       "5  2028 85.01     \n",
       "6  2029 84.48     \n",
       "7  2030 83.94     \n",
       "8  2031 83.41     \n",
       "9  2032 82.88     \n",
       "10 2033 82.36     \n",
       "11 2034 81.83     \n",
       "12 2035 81.31     \n",
       "13 2036 80.80     \n",
       "14 2037 80.29     \n",
       "15 2038 79.78     \n",
       "16 2039 79.27     \n",
       "17 2040 78.77     \n",
       "18 2041 78.27     \n",
       "19 2042 77.78     \n",
       "20 2043 77.28     \n",
       "21 2044 76.79     \n",
       "22 2045 76.31     "
      ]
     },
     "metadata": {},
     "output_type": "display_data"
    }
   ],
   "execution_count": 85
  },
  {
   "metadata": {
    "ExecuteTime": {
     "end_time": "2025-03-14T21:00:23.867144Z",
     "start_time": "2025-03-14T21:00:23.842947Z"
    }
   },
   "cell_type": "code",
   "source": [
    "tab_graph_corrup<-tabla_actos_corrupcion%>%\n",
    "mutate(year=as.integer(year))%>%\n",
    "select(year,porcentaje)%>%\n",
    "#Pegar con la tabla extendida\n",
    "bind_rows(extendido_corrupcion)\n",
    "tab_graph_corrup"
   ],
   "id": "4289d4073a96e7cb",
   "outputs": [
    {
     "data": {
      "text/html": [
       "<table class=\"dataframe\">\n",
       "<caption>A tibble: 26 × 2</caption>\n",
       "<thead>\n",
       "\t<tr><th scope=col>year</th><th scope=col>porcentaje</th></tr>\n",
       "\t<tr><th scope=col>&lt;int&gt;</th><th scope=col>&lt;dbl&gt;</th></tr>\n",
       "</thead>\n",
       "<tbody>\n",
       "\t<tr><td>2017</td><td>95.94000</td></tr>\n",
       "\t<tr><td>2019</td><td>90.02000</td></tr>\n",
       "\t<tr><td>2021</td><td>89.81000</td></tr>\n",
       "\t<tr><td>2023</td><td>87.76000</td></tr>\n",
       "\t<tr><td>2024</td><td>87.20392</td></tr>\n",
       "\t<tr><td>2025</td><td>86.65137</td></tr>\n",
       "\t<tr><td>2026</td><td>86.10231</td></tr>\n",
       "\t<tr><td>2027</td><td>85.55674</td></tr>\n",
       "\t<tr><td>2028</td><td>85.01462</td></tr>\n",
       "\t<tr><td>2029</td><td>84.47594</td></tr>\n",
       "\t<tr><td>2030</td><td>83.94067</td></tr>\n",
       "\t<tr><td>2031</td><td>83.40879</td></tr>\n",
       "\t<tr><td>2032</td><td>82.88028</td></tr>\n",
       "\t<tr><td>2033</td><td>82.35512</td></tr>\n",
       "\t<tr><td>2034</td><td>81.83329</td></tr>\n",
       "\t<tr><td>2035</td><td>81.31477</td></tr>\n",
       "\t<tr><td>2036</td><td>80.79953</td></tr>\n",
       "\t<tr><td>2037</td><td>80.28756</td></tr>\n",
       "\t<tr><td>2038</td><td>79.77883</td></tr>\n",
       "\t<tr><td>2039</td><td>79.27332</td></tr>\n",
       "\t<tr><td>2040</td><td>78.77101</td></tr>\n",
       "\t<tr><td>2041</td><td>78.27189</td></tr>\n",
       "\t<tr><td>2042</td><td>77.77594</td></tr>\n",
       "\t<tr><td>2043</td><td>77.28312</td></tr>\n",
       "\t<tr><td>2044</td><td>76.79343</td></tr>\n",
       "\t<tr><td>2045</td><td>76.30684</td></tr>\n",
       "</tbody>\n",
       "</table>\n"
      ],
      "text/markdown": "\nA tibble: 26 × 2\n\n| year &lt;int&gt; | porcentaje &lt;dbl&gt; |\n|---|---|\n| 2017 | 95.94000 |\n| 2019 | 90.02000 |\n| 2021 | 89.81000 |\n| 2023 | 87.76000 |\n| 2024 | 87.20392 |\n| 2025 | 86.65137 |\n| 2026 | 86.10231 |\n| 2027 | 85.55674 |\n| 2028 | 85.01462 |\n| 2029 | 84.47594 |\n| 2030 | 83.94067 |\n| 2031 | 83.40879 |\n| 2032 | 82.88028 |\n| 2033 | 82.35512 |\n| 2034 | 81.83329 |\n| 2035 | 81.31477 |\n| 2036 | 80.79953 |\n| 2037 | 80.28756 |\n| 2038 | 79.77883 |\n| 2039 | 79.27332 |\n| 2040 | 78.77101 |\n| 2041 | 78.27189 |\n| 2042 | 77.77594 |\n| 2043 | 77.28312 |\n| 2044 | 76.79343 |\n| 2045 | 76.30684 |\n\n",
      "text/latex": "A tibble: 26 × 2\n\\begin{tabular}{ll}\n year & porcentaje\\\\\n <int> & <dbl>\\\\\n\\hline\n\t 2017 & 95.94000\\\\\n\t 2019 & 90.02000\\\\\n\t 2021 & 89.81000\\\\\n\t 2023 & 87.76000\\\\\n\t 2024 & 87.20392\\\\\n\t 2025 & 86.65137\\\\\n\t 2026 & 86.10231\\\\\n\t 2027 & 85.55674\\\\\n\t 2028 & 85.01462\\\\\n\t 2029 & 84.47594\\\\\n\t 2030 & 83.94067\\\\\n\t 2031 & 83.40879\\\\\n\t 2032 & 82.88028\\\\\n\t 2033 & 82.35512\\\\\n\t 2034 & 81.83329\\\\\n\t 2035 & 81.31477\\\\\n\t 2036 & 80.79953\\\\\n\t 2037 & 80.28756\\\\\n\t 2038 & 79.77883\\\\\n\t 2039 & 79.27332\\\\\n\t 2040 & 78.77101\\\\\n\t 2041 & 78.27189\\\\\n\t 2042 & 77.77594\\\\\n\t 2043 & 77.28312\\\\\n\t 2044 & 76.79343\\\\\n\t 2045 & 76.30684\\\\\n\\end{tabular}\n",
      "text/plain": [
       "   year porcentaje\n",
       "1  2017 95.94000  \n",
       "2  2019 90.02000  \n",
       "3  2021 89.81000  \n",
       "4  2023 87.76000  \n",
       "5  2024 87.20392  \n",
       "6  2025 86.65137  \n",
       "7  2026 86.10231  \n",
       "8  2027 85.55674  \n",
       "9  2028 85.01462  \n",
       "10 2029 84.47594  \n",
       "11 2030 83.94067  \n",
       "12 2031 83.40879  \n",
       "13 2032 82.88028  \n",
       "14 2033 82.35512  \n",
       "15 2034 81.83329  \n",
       "16 2035 81.31477  \n",
       "17 2036 80.79953  \n",
       "18 2037 80.28756  \n",
       "19 2038 79.77883  \n",
       "20 2039 79.27332  \n",
       "21 2040 78.77101  \n",
       "22 2041 78.27189  \n",
       "23 2042 77.77594  \n",
       "24 2043 77.28312  \n",
       "25 2044 76.79343  \n",
       "26 2045 76.30684  "
      ]
     },
     "metadata": {},
     "output_type": "display_data"
    }
   ],
   "execution_count": 98
  },
  {
   "metadata": {
    "ExecuteTime": {
     "end_time": "2025-03-14T21:00:30.140208Z",
     "start_time": "2025-03-14T21:00:30.011071Z"
    }
   },
   "cell_type": "code",
   "source": [
    "tab_graph_corrup%>%\n",
    "ggplot(aes(x=year,y=porcentaje))+geom_line()+geom_point()+theme_minimal()+labs(title=\"Porcentaje de personas que perciben actos de corrupción en la Ciudad de México\",x=\"Año\",y=\"Porcentaje\")\n"
   ],
   "id": "a1aaec08ff198f00",
   "outputs": [
    {
     "data": {
      "text/plain": [
       "plot without title"
      ],
      "image/png": "[encoded data removed]"
     },
     "metadata": {
      "image/png": {
       "width": 420,
       "height": 420
      }
     },
     "output_type": "display_data"
    }
   ],
   "execution_count": 99
  }
 ],
 "metadata": {
  "kernelspec": {
   "name": "ir",
   "language": "R",
   "display_name": "R"
  }
 },
 "nbformat": 4,
 "nbformat_minor": 5
}
