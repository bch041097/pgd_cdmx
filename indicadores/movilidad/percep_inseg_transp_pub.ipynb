{
 "cells": [
  {
   "cell_type": "code",
   "execution_count": 1,
   "id": "48ff3e00",
   "metadata": {
    "vscode": {
     "languageId": "r"
    }
   },
   "outputs": [],
   "source": [
    "rm(list=ls()) #Limpiar el entorno de trabajo\n",
    "#Librerías\n",
    "#if (require('pacman')) install.packages('pacman')\n",
    "pacman::p_load(tidyverse,\n",
    "               foreign,\n",
    "               srvyr)"
   ]
  },
  {
   "cell_type": "code",
   "execution_count": 2,
   "id": "f949cb89",
   "metadata": {
    "vscode": {
     "languageId": "r"
    }
   },
   "outputs": [],
   "source": [
    "dir.create('datos/envipe', showWarnings = FALSE)\n",
    "url_1 <- 'https://www.inegi.org.mx/contenidos/programas/envipe/'\n",
    "url_2 <- '/microdatos/bd_envipe_'\n",
    "years <- c(2020:2024)\n",
    "data_list <- list()"
   ]
  },
  {
   "cell_type": "code",
   "execution_count": 3,
   "id": "83f0e539",
   "metadata": {
    "vscode": {
     "languageId": "r"
    }
   },
   "outputs": [
    {
     "name": "stdout",
     "output_type": "stream",
     "text": [
      "[1] \"Archivos descomprimidos para el año 2020\"\n",
      "[1] \"Archivo eliminado: datos/envipe/2020_dbf.zip\"\n",
      "[1] \"Archivos descomprimidos para el año 2021\"\n",
      "[1] \"Archivo eliminado: datos/envipe/2021_dbf.zip\"\n",
      "[1] \"Archivos descomprimidos para el año 2022\"\n",
      "[1] \"Archivo eliminado: datos/envipe/2022_dbf.zip\"\n",
      "[1] \"Archivos descomprimidos para el año 2023\"\n",
      "[1] \"Archivo eliminado: datos/envipe/2023_dbf.zip\"\n",
      "[1] \"Archivos descomprimidos para el año 2024\"\n",
      "[1] \"Archivo eliminado: datos/envipe/2024_csv.zip\"\n"
     ]
    }
   ],
   "source": [
    "# Ciclo 1: Descarga y descompresión\n",
    "for (i in 1:length(years)) {\n",
    "    if (years[i] %in% c(2024)) {\n",
    "        fin <- '_csv.zip'\n",
    "    } else {\n",
    "        fin <- '_dbf.zip'\n",
    "    }\n",
    "\n",
    "    url <- paste0(url_1, years[i], url_2, years[i], fin)\n",
    "    destfile <- paste0('datos/envipe/', years[i], fin)\n",
    "    folder <- paste0('datos/envipe/', years[i])\n",
    "\n",
    "    dir.create(folder, showWarnings = FALSE)\n",
    "\n",
    "    tryCatch(\n",
    "        {\n",
    "            options(timeout = 9999999)\n",
    "            download.file(url, destfile, mode = 'wb')\n",
    "        },\n",
    "        error = function(e) {\n",
    "            message('Error en la descarga: ', e)\n",
    "        }\n",
    "    )\n",
    "\n",
    "    unzip_result <- tryCatch(\n",
    "        {\n",
    "            unzip(destfile, exdir = folder)\n",
    "            TRUE\n",
    "        },\n",
    "        error = function(e) {\n",
    "            message('Error en la descompresión: ', e)\n",
    "            FALSE\n",
    "        }\n",
    "    )\n",
    "\n",
    "    if (unzip_result) {\n",
    "        print(paste('Archivos descomprimidos para el año', years[i]))\n",
    "\n",
    "        # Eliminar el archivo ZIP después de la descompresión\n",
    "        tryCatch(\n",
    "            {\n",
    "                file.remove(destfile)\n",
    "                print(paste('Archivo eliminado:', destfile))\n",
    "            },\n",
    "            error = function(e) {\n",
    "                message('Error al eliminar el archivo:', e)\n",
    "            }\n",
    "        )\n",
    "    }\n",
    "}"
   ]
  },
  {
   "cell_type": "code",
   "execution_count": 4,
   "id": "97203990",
   "metadata": {
    "vscode": {
     "languageId": "r"
    }
   },
   "outputs": [],
   "source": [
    "estima_inseguridad <- function(year) {\n",
    "\n",
    "# Definir rutas\n",
    "if  (year %in% c(2020:2021)) {\n",
    "    ruta_base <- paste0('datos/envipe/',year,'/bd_envipe_', year, '_dbf/')\n",
    "}else {\n",
    "    ruta_base <- paste0('datos/envipe/', year, '/')\n",
    "}\n",
    "\n",
    "\n",
    "#Leer datos\n",
    "if (year %in% c(2020:2023)) {\n",
    "    seguridad <- read.dbf(paste0(ruta_base, 'TPer_Vic1.dbf'))\n",
    "\n",
    "} else {\n",
    "    seguridad <- read_csv(paste0(ruta_base, 'TPer_Vic1.csv'))\n",
    "}\n",
    "\n",
    "seguridad<-seguridad%>%\n",
    "    janitor::clean_names()%>%\n",
    "    mutate(fac_ele=as.numeric(fac_ele), sexo=as.numeric(sexo))\n",
    "\n",
    "#Crear diseño muestral\n",
    "dm<-seguridad%>%\n",
    "    as_survey_design(\n",
    "    weights = fac_ele,\n",
    "    ids = upm_dis,\n",
    "    strata = est_dis,\n",
    "    nest = TRUE\n",
    "    )\n",
    "\n",
    "\n",
    "  #Estimar percepción de inseguridad de mujeres en la Ciudad de México\n",
    "    resultado<-dm %>%\n",
    "    filter(cve_ent == \"09\") %>%\n",
    "    filter(ap4_4_09!=3)%>%\n",
    "  mutate(tipo_seg=case_when(\n",
    "    ap4_4_09 %in% c(1) ~ \"Seguro\",\n",
    "    ap4_4_09 %in% c(2) ~ \"Inseguro\",\n",
    "    ap4_4_09 %in% c(9) ~ \"No sabe\"))%>%\n",
    "  group_by(tipo_seg) %>%\n",
    "  summarise(\n",
    "    pob = survey_total(vartype = \"cv\"),\n",
    "    porcentaje = survey_prop(vartype = \"cv\")\n",
    "  ) %>% mutate(porcentaje = porcentaje * 100)%>%\n",
    "  filter(tipo_seg == \"Inseguro\")%>%\n",
    "    mutate(year = year)\n",
    "\n",
    "    return(resultado)\n",
    "}"
   ]
  },
  {
   "cell_type": "code",
   "execution_count": 5,
   "id": "4328f508",
   "metadata": {
    "vscode": {
     "languageId": "r"
    }
   },
   "outputs": [
    {
     "name": "stderr",
     "output_type": "stream",
     "text": [
      "\u001b[1m\u001b[22mNew names:\n",
      "\u001b[36m•\u001b[39m `` -> `...1`\n",
      "\u001b[1mRows: \u001b[22m\u001b[34m89630\u001b[39m \u001b[1mColumns: \u001b[22m\u001b[34m232\u001b[39m\n",
      "\u001b[36m──\u001b[39m \u001b[1mColumn specification\u001b[22m \u001b[36m────────────────────────────────────────────────────────\u001b[39m\n",
      "\u001b[1mDelimiter:\u001b[22m \",\"\n",
      "\u001b[31mchr\u001b[39m  (21): ID_VIV, ID_HOG, ID_PER, UPM, VIV_SEL, HOGAR, RESUL_H, R_SEL, AREA...\n",
      "\u001b[32mdbl\u001b[39m (211): ...1, SEXO, EDAD, AP4_1, AP4_2_01, AP4_2_02, AP4_2_03, AP4_2_04, ...\n",
      "\n",
      "\u001b[36mℹ\u001b[39m Use `spec()` to retrieve the full column specification for this data.\n",
      "\u001b[36mℹ\u001b[39m Specify the column types or set `show_col_types = FALSE` to quiet this message.\n"
     ]
    },
    {
     "data": {
      "text/html": [
       "<table class=\"dataframe\">\n",
       "<caption>A tibble: 5 × 6</caption>\n",
       "<thead>\n",
       "\t<tr><th scope=col>tipo_seg</th><th scope=col>pob</th><th scope=col>pob_cv</th><th scope=col>porcentaje</th><th scope=col>porcentaje_cv</th><th scope=col>year</th></tr>\n",
       "\t<tr><th scope=col>&lt;chr&gt;</th><th scope=col>&lt;dbl&gt;</th><th scope=col>&lt;dbl&gt;</th><th scope=col>&lt;dbl&gt;</th><th scope=col>&lt;dbl&gt;</th><th scope=col>&lt;int&gt;</th></tr>\n",
       "</thead>\n",
       "<tbody>\n",
       "\t<tr><td>Inseguro</td><td>5344241</td><td>0.01297653</td><td>87.94672</td><td>0.005921388</td><td>2020</td></tr>\n",
       "\t<tr><td>Inseguro</td><td>5798982</td><td>0.01355732</td><td>88.25421</td><td>0.006114492</td><td>2021</td></tr>\n",
       "\t<tr><td>Inseguro</td><td>5731359</td><td>0.01416852</td><td>86.08960</td><td>0.006677751</td><td>2022</td></tr>\n",
       "\t<tr><td>Inseguro</td><td>5572508</td><td>0.01452879</td><td>80.67437</td><td>0.008254599</td><td>2023</td></tr>\n",
       "\t<tr><td>Inseguro</td><td>5362354</td><td>0.01567281</td><td>77.71547</td><td>0.008917681</td><td>2024</td></tr>\n",
       "</tbody>\n",
       "</table>\n"
      ],
      "text/latex": [
       "A tibble: 5 × 6\n",
       "\\begin{tabular}{llllll}\n",
       " tipo\\_seg & pob & pob\\_cv & porcentaje & porcentaje\\_cv & year\\\\\n",
       " <chr> & <dbl> & <dbl> & <dbl> & <dbl> & <int>\\\\\n",
       "\\hline\n",
       "\t Inseguro & 5344241 & 0.01297653 & 87.94672 & 0.005921388 & 2020\\\\\n",
       "\t Inseguro & 5798982 & 0.01355732 & 88.25421 & 0.006114492 & 2021\\\\\n",
       "\t Inseguro & 5731359 & 0.01416852 & 86.08960 & 0.006677751 & 2022\\\\\n",
       "\t Inseguro & 5572508 & 0.01452879 & 80.67437 & 0.008254599 & 2023\\\\\n",
       "\t Inseguro & 5362354 & 0.01567281 & 77.71547 & 0.008917681 & 2024\\\\\n",
       "\\end{tabular}\n"
      ],
      "text/markdown": [
       "\n",
       "A tibble: 5 × 6\n",
       "\n",
       "| tipo_seg &lt;chr&gt; | pob &lt;dbl&gt; | pob_cv &lt;dbl&gt; | porcentaje &lt;dbl&gt; | porcentaje_cv &lt;dbl&gt; | year &lt;int&gt; |\n",
       "|---|---|---|---|---|---|\n",
       "| Inseguro | 5344241 | 0.01297653 | 87.94672 | 0.005921388 | 2020 |\n",
       "| Inseguro | 5798982 | 0.01355732 | 88.25421 | 0.006114492 | 2021 |\n",
       "| Inseguro | 5731359 | 0.01416852 | 86.08960 | 0.006677751 | 2022 |\n",
       "| Inseguro | 5572508 | 0.01452879 | 80.67437 | 0.008254599 | 2023 |\n",
       "| Inseguro | 5362354 | 0.01567281 | 77.71547 | 0.008917681 | 2024 |\n",
       "\n"
      ],
      "text/plain": [
       "  tipo_seg pob     pob_cv     porcentaje porcentaje_cv year\n",
       "1 Inseguro 5344241 0.01297653 87.94672   0.005921388   2020\n",
       "2 Inseguro 5798982 0.01355732 88.25421   0.006114492   2021\n",
       "3 Inseguro 5731359 0.01416852 86.08960   0.006677751   2022\n",
       "4 Inseguro 5572508 0.01452879 80.67437   0.008254599   2023\n",
       "5 Inseguro 5362354 0.01567281 77.71547   0.008917681   2024"
      ]
     },
     "metadata": {},
     "output_type": "display_data"
    }
   ],
   "source": [
    "tabla_inseg<-map_dfr(2020:2024,estima_inseguridad)\n",
    "tabla_inseg"
   ]
  }
 ],
 "metadata": {
  "kernelspec": {
   "display_name": "R",
   "language": "R",
   "name": "ir"
  },
  "language_info": {
   "codemirror_mode": "r",
   "file_extension": ".r",
   "mimetype": "text/x-r-source",
   "name": "R",
   "pygments_lexer": "r",
   "version": "4.4.1"
  }
 },
 "nbformat": 4,
 "nbformat_minor": 5
}
