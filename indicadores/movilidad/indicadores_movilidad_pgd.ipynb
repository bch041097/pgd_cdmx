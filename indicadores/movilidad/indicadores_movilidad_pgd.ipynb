{
 "cells": [
  {
   "cell_type": "code",
   "execution_count": null,
   "id": "9f8d3d84",
   "metadata": {
    "vscode": {
     "languageId": "r"
    }
   },
   "outputs": [],
   "source": [
    "#LIBRERIAS\n",
    "libraries <- c(\"tidyverse\",\n",
    "               \"readr\", \n",
    "               \"srvyr\",\n",
    "               \"ggplot2\",\n",
    "               \"showtext\", \n",
    "               \"modeest\", \n",
    "               \"foreign\", \n",
    "               \"haven\", \n",
    "               \"utils\", \n",
    "               \"forecast\")\n",
    "\n",
    "installed_packages <- rownames(installed.packages())\n",
    "libraries_to_install <- setdiff(libraries, installed_packages)\n",
    "\n",
    "if (length(libraries_to_install) > 0) {\n",
    "  install.packages(libraries_to_install)}\n",
    "\n",
    "lapply(libraries, library, character.only = TRUE)"
   ]
  },
  {
   "cell_type": "code",
   "execution_count": 10,
   "id": "5b300d98",
   "metadata": {
    "vscode": {
     "languageId": "r"
    }
   },
   "outputs": [],
   "source": [
    "#CONSIDERACIONES\n",
    "#Tiempo en linea\n",
    "options(timeout = 8000)\n",
    "# Fuente\n",
    "font_add_google(name = \"Roboto\", family = \"Roboto\")\n",
    "showtext_auto()\n",
    "#Ajustes para las UPM\n",
    "options(survey.lonely.psu = \"certainty\")  "
   ]
  },
  {
   "cell_type": "markdown",
   "id": "f1c50c36",
   "metadata": {},
   "source": [
    "**Encuesta de Ingresos y Gastos de los Hogares**"
   ]
  },
  {
   "cell_type": "code",
   "execution_count": 11,
   "id": "abf1bead",
   "metadata": {
    "vscode": {
     "languageId": "r"
    }
   },
   "outputs": [],
   "source": [
    "#Función para leer los datos de la Encuesta Nacional de Ingresos y Gastos de los Hogares (ENIGH) \n",
    "leer_enigh <- function(anio)\n",
    "{ \n",
    "  #URL de descarga los datos para los años 2018, 2020 y 2022\n",
    "  urls <- list(\"2016\" = \"https://www.inegi.org.mx/contenidos/programas/enigh/nc/2016/microdatos/enigh2016_ns_concentradohogar_csv.zip\",\n",
    "               \"2018\" = \"https://www.inegi.org.mx/contenidos/programas/enigh/nc/2018/microdatos/enigh2018_ns_concentradohogar_csv.zip\",\n",
    "               \"2020\" = \"https://www.inegi.org.mx/contenidos/programas/enigh/nc/2020/microdatos/enigh2020_ns_concentradohogar_csv.zip\",\n",
    "               \"2022\" = \"https://www.inegi.org.mx/contenidos/programas/enigh/nc/2022/microdatos/enigh2022_ns_concentradohogar_csv.zip\"\n",
    "  )\n",
    "  \n",
    "  # Archivo y directorio temporales\n",
    "  temp_zip <- tempfile(fileext = \".zip\")\n",
    "  temp_dir <- tempdir()\n",
    "  options(timeout = 800)\n",
    "  \n",
    "  # Descargar y descomprimir\n",
    "  download.file(urls[[as.character(anio)]], temp_zip, mode = \"wb\")\n",
    "  unzip(temp_zip, exdir = temp_dir)\n",
    "  \n",
    "  # Buscar el archivo de datos\n",
    "  enigh_datos <- list.files(temp_dir, pattern = \"concentradohogar.csv\", \n",
    "                                full.names = TRUE, recursive = TRUE)\n",
    "  \n",
    "  # Leer el archivo como caracteres por defecto\n",
    "  datos <- read_csv(enigh_datos, col_types = NULL)\n",
    "  \n",
    "  unlink(temp_zip)\n",
    "  unlink(list.files(temp_dir, full.names = TRUE), recursive = TRUE)\n",
    "  \n",
    "  return(datos)\n",
    "}\n"
   ]
  },
  {
   "cell_type": "markdown",
   "id": "2b9d91da",
   "metadata": {},
   "source": [
    "**Porcentaje de ingreso de los hogares de menos ingresos destinado al gasto en transporte público**"
   ]
  },
  {
   "cell_type": "code",
   "execution_count": 12,
   "id": "6e3cfabf",
   "metadata": {
    "vscode": {
     "languageId": "r"
    }
   },
   "outputs": [
    {
     "name": "stderr",
     "output_type": "stream",
     "text": [
      "\u001b[1mRows: \u001b[22m\u001b[34m70311\u001b[39m \u001b[1mColumns: \u001b[22m\u001b[34m127\u001b[39m\n",
      "\u001b[36m──\u001b[39m \u001b[1mColumn specification\u001b[22m \u001b[36m────────────────────────────────────────────────────────\u001b[39m\n",
      "\u001b[1mDelimiter:\u001b[22m \",\"\n",
      "\u001b[31mchr\u001b[39m   (6): folioviv, ubica_geo, ageb, est_dis, upm, educa_jefe\n",
      "\u001b[32mdbl\u001b[39m (121): foliohog, tam_loc, est_socio, factor, clase_hog, sexo_jefe, edad_...\n",
      "\n",
      "\u001b[36mℹ\u001b[39m Use `spec()` to retrieve the full column specification for this data.\n",
      "\u001b[36mℹ\u001b[39m Specify the column types or set `show_col_types = FALSE` to quiet this message.\n",
      "\u001b[1mRows: \u001b[22m\u001b[34m74647\u001b[39m \u001b[1mColumns: \u001b[22m\u001b[34m126\u001b[39m\n",
      "\u001b[36m──\u001b[39m \u001b[1mColumn specification\u001b[22m \u001b[36m────────────────────────────────────────────────────────\u001b[39m\n",
      "\u001b[1mDelimiter:\u001b[22m \",\"\n",
      "\u001b[31mchr\u001b[39m   (5): folioviv, ubica_geo, est_dis, upm, educa_jefe\n",
      "\u001b[32mdbl\u001b[39m (121): foliohog, tam_loc, est_socio, factor, clase_hog, sexo_jefe, edad_...\n",
      "\n",
      "\u001b[36mℹ\u001b[39m Use `spec()` to retrieve the full column specification for this data.\n",
      "\u001b[36mℹ\u001b[39m Specify the column types or set `show_col_types = FALSE` to quiet this message.\n",
      "\u001b[1mRows: \u001b[22m\u001b[34m89006\u001b[39m \u001b[1mColumns: \u001b[22m\u001b[34m126\u001b[39m\n",
      "\u001b[36m──\u001b[39m \u001b[1mColumn specification\u001b[22m \u001b[36m────────────────────────────────────────────────────────\u001b[39m\n",
      "\u001b[1mDelimiter:\u001b[22m \",\"\n",
      "\u001b[31mchr\u001b[39m   (5): folioviv, ubica_geo, est_dis, upm, educa_jefe\n",
      "\u001b[32mdbl\u001b[39m (121): foliohog, tam_loc, est_socio, factor, clase_hog, sexo_jefe, edad_...\n",
      "\n",
      "\u001b[36mℹ\u001b[39m Use `spec()` to retrieve the full column specification for this data.\n",
      "\u001b[36mℹ\u001b[39m Specify the column types or set `show_col_types = FALSE` to quiet this message.\n",
      "\u001b[1mRows: \u001b[22m\u001b[34m90102\u001b[39m \u001b[1mColumns: \u001b[22m\u001b[34m126\u001b[39m\n",
      "\u001b[36m──\u001b[39m \u001b[1mColumn specification\u001b[22m \u001b[36m────────────────────────────────────────────────────────\u001b[39m\n",
      "\u001b[1mDelimiter:\u001b[22m \",\"\n",
      "\u001b[31mchr\u001b[39m   (5): folioviv, ubica_geo, est_dis, upm, educa_jefe\n",
      "\u001b[32mdbl\u001b[39m (121): foliohog, tam_loc, est_socio, factor, clase_hog, sexo_jefe, edad_...\n",
      "\n",
      "\u001b[36mℹ\u001b[39m Use `spec()` to retrieve the full column specification for this data.\n",
      "\u001b[36mℹ\u001b[39m Specify the column types or set `show_col_types = FALSE` to quiet this message.\n"
     ]
    }
   ],
   "source": [
    "#ENCUESTA\n",
    "e2016<-leer_enigh(2016)\n",
    "e2018<-leer_enigh(2018)\n",
    "e2020<-leer_enigh(2020)\n",
    "e2022<-leer_enigh(2022)"
   ]
  },
  {
   "cell_type": "code",
   "execution_count": 13,
   "id": "8e4544e2",
   "metadata": {
    "vscode": {
     "languageId": "r"
    }
   },
   "outputs": [],
   "source": [
    "#Observado DE DECILES MÁS BAJOS, QUE DESTINAN MÁS DEL 10% DE SU INGRESO AL TRANSPORTE PÚBLICO\n",
    "decil_201610 <- e2016|>\n",
    "  mutate(cve_ent = substr(folioviv, 1, 2), \n",
    "         decil_ing = ntile(ing_cor, 10))|>\n",
    "  filter(cve_ent == \"09\",\n",
    "         ing_cor > 0, \n",
    "         decil_ing <= 4)|>\n",
    "  select(folioviv, foliohog, est_socio, est_dis, upm, factor, ing_cor, publico) |>\n",
    "  mutate(porc_ingresos = (publico * 100) / ing_cor,\n",
    "         prc_ing10 = case_when(porc_ingresos >= 10 ~ \"Más del 10\", TRUE ~ \"Menos del 10\"),\n",
    "         decil_ing = ntile(ing_cor, 10))\n",
    "\n",
    "decil_201810 <- e2018|>\n",
    "  mutate(cve_ent = substr(folioviv, 1, 2),\n",
    "         decil_ing = ntile(ing_cor, 10))|>\n",
    "  filter(cve_ent == \"09\",\n",
    "         ing_cor > 0, \n",
    "         decil_ing <= 4)|>\n",
    "  select(folioviv, foliohog, est_socio, est_dis, upm, factor, ing_cor, publico) |>\n",
    "  mutate(porc_ingresos = (publico * 100) / ing_cor,\n",
    "         prc_ing10 = case_when(porc_ingresos >= 10 ~ \"Más del 10\", TRUE ~ \"Menos del 10\"),\n",
    "         decil_ing = ntile(ing_cor, 10))\n",
    "\n",
    "\n",
    "decil_202010 <- e2020|>\n",
    "  mutate(cve_ent = substr(folioviv, 1, 2),\n",
    "         decil_ing = ntile(ing_cor, 10))|>\n",
    "  filter(cve_ent == \"09\",\n",
    "         ing_cor > 0, \n",
    "         decil_ing <= 4)|>\n",
    "  select(folioviv, foliohog, est_socio, est_dis, upm, factor, ing_cor, publico) |>\n",
    "  mutate(porc_ingresos = (publico * 100) / ing_cor,\n",
    "         prc_ing10 = case_when(porc_ingresos >= 10 ~ \"Más del 10\", TRUE ~ \"Menos del 10\"),\n",
    "         decil_ing = ntile(ing_cor, 10))\n",
    "\n",
    "decil_202210 <- e2022|>\n",
    "  mutate(cve_ent = substr(folioviv, 1, 2),\n",
    "         decil_ing = ntile(ing_cor, 10))|>\n",
    "  filter(cve_ent == \"09\",\n",
    "         ing_cor > 0, \n",
    "         decil_ing <= 4)|>\n",
    "  select(folioviv, foliohog, est_socio, est_dis, upm, factor, ing_cor, publico) |>\n",
    "  mutate(porc_ingresos = (publico * 100) / ing_cor,\n",
    "         prc_ing10 = case_when(porc_ingresos >= 10 ~ \"Más del 10\", TRUE ~ \"Menos del 10\"),\n",
    "         decil_ing = ntile(ing_cor, 10))\n"
   ]
  },
  {
   "cell_type": "code",
   "execution_count": 14,
   "id": "63104c61",
   "metadata": {
    "vscode": {
     "languageId": "r"
    }
   },
   "outputs": [],
   "source": [
    "#Función para definir el diseño muestral\n",
    "diseño_muestral <- function(anio) {\n",
    "  \n",
    "  objeto_datos <- get(paste0(\"decil_\", anio,\"10\"))\n",
    "  \n",
    "  as_survey_design(objeto_datos,\n",
    "                   strata = est_dis,\n",
    "                   weights = factor,\n",
    "                   ids = upm,\n",
    "                   nest = TRUE)\n",
    "}"
   ]
  },
  {
   "cell_type": "code",
   "execution_count": 15,
   "id": "a3968180",
   "metadata": {
    "vscode": {
     "languageId": "r"
    }
   },
   "outputs": [],
   "source": [
    "dm_2016 <- diseño_muestral(2016)\n",
    "dm_2018 <- diseño_muestral(2018)\n",
    "dm_2020 <- diseño_muestral(2020)\n",
    "dm_2022 <- diseño_muestral(2022)"
   ]
  },
  {
   "cell_type": "code",
   "execution_count": 16,
   "id": "1d50cca2",
   "metadata": {
    "vscode": {
     "languageId": "r"
    }
   },
   "outputs": [
    {
     "data": {
      "text/html": [
       "<table class=\"dataframe\">\n",
       "<caption>A tibble: 4 × 3</caption>\n",
       "<thead>\n",
       "\t<tr><th scope=col>año</th><th scope=col>porcentaje</th><th scope=col>tipo</th></tr>\n",
       "\t<tr><th scope=col>&lt;dbl&gt;</th><th scope=col>&lt;dbl&gt;</th><th scope=col>&lt;chr&gt;</th></tr>\n",
       "</thead>\n",
       "<tbody>\n",
       "\t<tr><td>2016</td><td>25.29116</td><td>Observado</td></tr>\n",
       "\t<tr><td>2018</td><td>25.49381</td><td>Observado</td></tr>\n",
       "\t<tr><td>2020</td><td>16.86431</td><td>Observado</td></tr>\n",
       "\t<tr><td>2022</td><td>18.20074</td><td>Observado</td></tr>\n",
       "</tbody>\n",
       "</table>\n"
      ],
      "text/latex": [
       "A tibble: 4 × 3\n",
       "\\begin{tabular}{lll}\n",
       " año & porcentaje & tipo\\\\\n",
       " <dbl> & <dbl> & <chr>\\\\\n",
       "\\hline\n",
       "\t 2016 & 25.29116 & Observado\\\\\n",
       "\t 2018 & 25.49381 & Observado\\\\\n",
       "\t 2020 & 16.86431 & Observado\\\\\n",
       "\t 2022 & 18.20074 & Observado\\\\\n",
       "\\end{tabular}\n"
      ],
      "text/markdown": [
       "\n",
       "A tibble: 4 × 3\n",
       "\n",
       "| año &lt;dbl&gt; | porcentaje &lt;dbl&gt; | tipo &lt;chr&gt; |\n",
       "|---|---|---|\n",
       "| 2016 | 25.29116 | Observado |\n",
       "| 2018 | 25.49381 | Observado |\n",
       "| 2020 | 16.86431 | Observado |\n",
       "| 2022 | 18.20074 | Observado |\n",
       "\n"
      ],
      "text/plain": [
       "  año  porcentaje tipo     \n",
       "1 2016 25.29116   Observado\n",
       "2 2018 25.49381   Observado\n",
       "3 2020 16.86431   Observado\n",
       "4 2022 18.20074   Observado"
      ]
     },
     "metadata": {},
     "output_type": "display_data"
    }
   ],
   "source": [
    "##PORCENTAJE DE HOGARES DE DECILES MÁS BAJOS QUE DESTINAN EL 10% O MÁS\n",
    "prc_ingresos_2016 <- dm_2016 |>\n",
    "  group_by(prc_ing10)|>\n",
    "  summarise(tot_hog_p_ingresos = survey_total(vartype = \"cv\"),\n",
    "            porcentaje = survey_prop(vartype = \"cv\")*100)|>\n",
    "  filter(prc_ing10 == \"Más del 10\")|>\n",
    "  mutate(año = 2016)\n",
    "\n",
    "prc_ingresos_2018 <- dm_2018 |>\n",
    "  group_by(prc_ing10)|>\n",
    "  summarise(tot_hog_p_ingresos = survey_total(vartype = \"cv\"),\n",
    "            porcentaje = survey_prop(vartype = \"cv\")*100)|>\n",
    "  filter(prc_ing10 == \"Más del 10\")|>\n",
    "  mutate(año = 2018)\n",
    "\n",
    "prc_ingresos_2020 <- dm_2020 |>\n",
    "  group_by(prc_ing10)|>\n",
    "  summarise(tot_hog_p_ingresos = survey_total(vartype = \"cv\"),\n",
    "            porcentaje = survey_prop(vartype = \"cv\")*100)|>\n",
    "  filter(prc_ing10 == \"Más del 10\")|>\n",
    "  mutate(año = 2020)\n",
    "\n",
    "prc_ingresos_2022 <- dm_2022 |>\n",
    "  group_by(prc_ing10)|>\n",
    "  summarise(tot_hog_p_ingresos = survey_total(vartype = \"cv\"),\n",
    "            porcentaje = survey_prop(vartype = \"cv\")*100)|>\n",
    "  filter(prc_ing10 == \"Más del 10\")|>\n",
    "  mutate(año = 2022)\n",
    "\n",
    "prc_gasto_tp <- prc_ingresos_2016|>\n",
    "  bind_rows(prc_ingresos_2018, prc_ingresos_2020, prc_ingresos_2022)|>\n",
    "  select(año,porcentaje)|>\n",
    "  mutate(tipo = \"Observado\")\n",
    "\n",
    "prc_gasto_tp"
   ]
  },
  {
   "cell_type": "code",
   "execution_count": 18,
   "id": "4c655273",
   "metadata": {
    "vscode": {
     "languageId": "r"
    }
   },
   "outputs": [
    {
     "data": {
      "text/html": [
       "-0.0837452023101273"
      ],
      "text/latex": [
       "-0.0837452023101273"
      ],
      "text/markdown": [
       "-0.0837452023101273"
      ],
      "text/plain": [
       "[1] -0.0837452"
      ]
     },
     "metadata": {},
     "output_type": "display_data"
    },
    {
     "data": {
      "text/html": [
       "<table class=\"dataframe\">\n",
       "<caption>A tibble: 13 × 5</caption>\n",
       "<thead>\n",
       "\t<tr><th scope=col>año</th><th scope=col>porcentaje</th><th scope=col>tipo</th><th scope=col>valor_lag</th><th scope=col>delta</th></tr>\n",
       "\t<tr><th scope=col>&lt;dbl&gt;</th><th scope=col>&lt;dbl&gt;</th><th scope=col>&lt;chr&gt;</th><th scope=col>&lt;dbl&gt;</th><th scope=col>&lt;dbl&gt;</th></tr>\n",
       "</thead>\n",
       "<tbody>\n",
       "\t<tr><td>2016</td><td>25.2911640</td><td>Observado    </td><td>      NA</td><td>          NA</td></tr>\n",
       "\t<tr><td>2018</td><td>25.4938109</td><td>Observado    </td><td>25.29116</td><td> 0.008012556</td></tr>\n",
       "\t<tr><td>2020</td><td>16.8643092</td><td>Observado    </td><td>25.49381</td><td>-0.338493989</td></tr>\n",
       "\t<tr><td>2022</td><td>18.2007353</td><td>Observado    </td><td>16.86431</td><td> 0.079245826</td></tr>\n",
       "\t<tr><td>2030</td><td> 9.0410532</td><td>Inercial     </td><td>      NA</td><td>          NA</td></tr>\n",
       "\t<tr><td>2035</td><td> 5.8384872</td><td>Inercial     </td><td>      NA</td><td>          NA</td></tr>\n",
       "\t<tr><td>2045</td><td> 2.4347981</td><td>Inercial     </td><td>      NA</td><td>          NA</td></tr>\n",
       "\t<tr><td>2030</td><td> 7.8348197</td><td>Deseable     </td><td>      NA</td><td>          NA</td></tr>\n",
       "\t<tr><td>2035</td><td> 4.6263827</td><td>Deseable     </td><td>      NA</td><td>          NA</td></tr>\n",
       "\t<tr><td>2045</td><td> 1.6131199</td><td>Deseable     </td><td>      NA</td><td>          NA</td></tr>\n",
       "\t<tr><td>2030</td><td> 3.0535767</td><td>Transformador</td><td>      NA</td><td>          NA</td></tr>\n",
       "\t<tr><td>2035</td><td> 1.0005960</td><td>Transformador</td><td>      NA</td><td>          NA</td></tr>\n",
       "\t<tr><td>2045</td><td> 0.1074382</td><td>Transformador</td><td>      NA</td><td>          NA</td></tr>\n",
       "</tbody>\n",
       "</table>\n"
      ],
      "text/latex": [
       "A tibble: 13 × 5\n",
       "\\begin{tabular}{lllll}\n",
       " año & porcentaje & tipo & valor\\_lag & delta\\\\\n",
       " <dbl> & <dbl> & <chr> & <dbl> & <dbl>\\\\\n",
       "\\hline\n",
       "\t 2016 & 25.2911640 & Observado     &       NA &           NA\\\\\n",
       "\t 2018 & 25.4938109 & Observado     & 25.29116 &  0.008012556\\\\\n",
       "\t 2020 & 16.8643092 & Observado     & 25.49381 & -0.338493989\\\\\n",
       "\t 2022 & 18.2007353 & Observado     & 16.86431 &  0.079245826\\\\\n",
       "\t 2030 &  9.0410532 & Inercial      &       NA &           NA\\\\\n",
       "\t 2035 &  5.8384872 & Inercial      &       NA &           NA\\\\\n",
       "\t 2045 &  2.4347981 & Inercial      &       NA &           NA\\\\\n",
       "\t 2030 &  7.8348197 & Deseable      &       NA &           NA\\\\\n",
       "\t 2035 &  4.6263827 & Deseable      &       NA &           NA\\\\\n",
       "\t 2045 &  1.6131199 & Deseable      &       NA &           NA\\\\\n",
       "\t 2030 &  3.0535767 & Transformador &       NA &           NA\\\\\n",
       "\t 2035 &  1.0005960 & Transformador &       NA &           NA\\\\\n",
       "\t 2045 &  0.1074382 & Transformador &       NA &           NA\\\\\n",
       "\\end{tabular}\n"
      ],
      "text/markdown": [
       "\n",
       "A tibble: 13 × 5\n",
       "\n",
       "| año &lt;dbl&gt; | porcentaje &lt;dbl&gt; | tipo &lt;chr&gt; | valor_lag &lt;dbl&gt; | delta &lt;dbl&gt; |\n",
       "|---|---|---|---|---|\n",
       "| 2016 | 25.2911640 | Observado     |       NA |           NA |\n",
       "| 2018 | 25.4938109 | Observado     | 25.29116 |  0.008012556 |\n",
       "| 2020 | 16.8643092 | Observado     | 25.49381 | -0.338493989 |\n",
       "| 2022 | 18.2007353 | Observado     | 16.86431 |  0.079245826 |\n",
       "| 2030 |  9.0410532 | Inercial      |       NA |           NA |\n",
       "| 2035 |  5.8384872 | Inercial      |       NA |           NA |\n",
       "| 2045 |  2.4347981 | Inercial      |       NA |           NA |\n",
       "| 2030 |  7.8348197 | Deseable      |       NA |           NA |\n",
       "| 2035 |  4.6263827 | Deseable      |       NA |           NA |\n",
       "| 2045 |  1.6131199 | Deseable      |       NA |           NA |\n",
       "| 2030 |  3.0535767 | Transformador |       NA |           NA |\n",
       "| 2035 |  1.0005960 | Transformador |       NA |           NA |\n",
       "| 2045 |  0.1074382 | Transformador |       NA |           NA |\n",
       "\n"
      ],
      "text/plain": [
       "   año  porcentaje tipo          valor_lag delta       \n",
       "1  2016 25.2911640 Observado           NA            NA\n",
       "2  2018 25.4938109 Observado     25.29116   0.008012556\n",
       "3  2020 16.8643092 Observado     25.49381  -0.338493989\n",
       "4  2022 18.2007353 Observado     16.86431   0.079245826\n",
       "5  2030  9.0410532 Inercial            NA            NA\n",
       "6  2035  5.8384872 Inercial            NA            NA\n",
       "7  2045  2.4347981 Inercial            NA            NA\n",
       "8  2030  7.8348197 Deseable            NA            NA\n",
       "9  2035  4.6263827 Deseable            NA            NA\n",
       "10 2045  1.6131199 Deseable            NA            NA\n",
       "11 2030  3.0535767 Transformador       NA            NA\n",
       "12 2035  1.0005960 Transformador       NA            NA\n",
       "13 2045  0.1074382 Transformador       NA            NA"
      ]
     },
     "metadata": {},
     "output_type": "display_data"
    }
   ],
   "source": [
    "##ESCENARIOS TENDENCIALES 2030,2035,2045\n",
    "# Método incremental\n",
    "# https://www.coneval.org.mx/InformesPublicaciones/Documents/Guia_lineas_base_metas.pdf\n",
    "prc_gasto_tp <- prc_gasto_tp |>\n",
    "  mutate(valor_lag = lag(porcentaje),\n",
    "         delta = (porcentaje / valor_lag) - 1)\n",
    "\n",
    "delta_prom <- mean(prc_gasto_tp$delta, na.rm = TRUE)\n",
    "\n",
    "delta_prom\n",
    "\n",
    "# Valor base 2022\n",
    "valor_2022 <- prc_gasto_tp|>\n",
    "  filter(año == 2022)|>\n",
    "  pull(porcentaje)\n",
    "\n",
    "# Años a proyectar\n",
    "anios_proy <- c(2030, 2035, 2045)\n",
    "n_periodos <- anios_proy - 2022\n",
    "\n",
    "# Proyecciones (Inercial)\n",
    "proyeccion_base <- data.frame(año = anios_proy,\n",
    "                              porcentaje = valor_2022 * ((1 + delta_prom) ^ n_periodos))|>\n",
    "  mutate(tipo = \"Inercial\")\n",
    "\n",
    "# Proyección deseable\n",
    "delta_deseable <- -0.1 # tasa de reducción anual\n",
    "\n",
    "proyeccion_deseable <- data.frame(año = anios_proy,\n",
    "                                  porcentaje = valor_2022 * ((1 + delta_deseable) ^ n_periodos))|>\n",
    "  mutate(tipo = \"Deseable\")\n",
    "\n",
    "# Proyección transformadora\n",
    "delta_transformadora <- -0.2  # tasa de reducción anual\n",
    "\n",
    "proyeccion_transformadora <- data.frame(año = anios_proy,\n",
    "                                  porcentaje = valor_2022 * ((1 + delta_transformadora) ^ n_periodos))|>\n",
    "  mutate(tipo = \"Transformador\")\n",
    "\n",
    "gasto_tp_hogares <- bind_rows(prc_gasto_tp,\n",
    "                              proyeccion_base,\n",
    "                              proyeccion_deseable, \n",
    "                              proyeccion_transformadora)\n",
    "\n",
    "gasto_tp_hogares\n",
    "\n"
   ]
  },
  {
   "cell_type": "code",
   "execution_count": 19,
   "id": "49b857ee",
   "metadata": {
    "vscode": {
     "languageId": "r"
    }
   },
   "outputs": [],
   "source": [
    "lineas <- bind_rows(data.frame(año = c(2022, 2030),\n",
    "                               porcentaje = c(gasto_tp_hogares$porcentaje[gasto_tp_hogares$año == 2022 & gasto_tp_hogares$tipo == \"Observado\"],\n",
    "                                              gasto_tp_hogares$porcentaje[gasto_tp_hogares$año == 2030 & gasto_tp_hogares$tipo == \"Inercial\"]),\n",
    "                               tipo = \"Inercial\"),\n",
    "                    data.frame(año = c(2022, 2030),\n",
    "                               porcentaje = c(gasto_tp_hogares$porcentaje[gasto_tp_hogares$año == 2022 & gasto_tp_hogares$tipo == \"Observado\"], \n",
    "                                              gasto_tp_hogares$porcentaje[gasto_tp_hogares$año == 2030 & gasto_tp_hogares$tipo == \"Deseable\"]),\n",
    "                               tipo = \"Deseable\"), \n",
    "                    data.frame(año = c(2022, 2030),\n",
    "                               porcentaje = c(gasto_tp_hogares$porcentaje[gasto_tp_hogares$año == 2022 & gasto_tp_hogares$tipo == \"Observado\"], \n",
    "                                              gasto_tp_hogares$porcentaje[gasto_tp_hogares$año == 2030 & gasto_tp_hogares$tipo == \"Transformador\"]),\n",
    "                               tipo = \"Transformador\"))\n"
   ]
  },
  {
   "cell_type": "code",
   "execution_count": 20,
   "id": "02b7762f",
   "metadata": {
    "vscode": {
     "languageId": "r"
    }
   },
   "outputs": [],
   "source": [
    "paleta_colores <- c(\"Observado\" = \"#9F2241\",\n",
    "                    \"Inercial\" = \"#cfcfcf\" ,\n",
    "                    \"Deseable\" = \"#027A35\", \n",
    "                    \"Transformador\" = \"#AC6D14\")\n",
    "\n",
    "linetypes <- c(\"Observado\" = \"solid\",\n",
    "               \"Inercial\" = \"dotdash\",\n",
    "               \"Deseable\" = \"dotdash\", \n",
    "               \"Transformador\" = \"dotdash\")"
   ]
  },
  {
   "cell_type": "code",
   "execution_count": 35,
   "id": "fc409091",
   "metadata": {
    "vscode": {
     "languageId": "r"
    }
   },
   "outputs": [
    {
     "data": {
      "image/png": "[encoded data removed]",
      "text/plain": [
       "plot without title"
      ]
     },
     "metadata": {
      "image/png": {
       "height": 420,
       "width": 420
      }
     },
     "output_type": "display_data"
    }
   ],
   "source": [
    "# Gráfico\n",
    "ggplot(gasto_tp_hogares, aes(x = año, y = porcentaje, group = tipo, color = tipo, linetype = tipo)) +\n",
    "  geom_line(linewidth = 1.2) +\n",
    "  geom_point(size = 1.5) +\n",
    "  geom_line(data = lineas, aes(x = año, y = porcentaje, group = tipo), linewidth = 1.2) +\n",
    "  geom_text(aes(label = paste0(round(porcentaje, 1), \"%\")),\n",
    "            vjust = 1, size = 5, family = \"Roboto\", show.legend = FALSE) +\n",
    "  scale_color_manual(values = paleta_colores) +\n",
    "  scale_linetype_manual(values = linetypes) +\n",
    "  scale_y_continuous(\n",
    "    breaks = seq(0, ceiling(max(gasto_tp_hogares$porcentaje, na.rm = TRUE) / 5) * 5, by = 5),\n",
    "    labels = function(x) paste0(x, \"%\"),\n",
    "    expand = c(0.15, 0.2) \n",
    "  ) +\n",
    "  labs(\n",
    "    title = \"Porcentaje de hogares de los deciles más bajos de ingresos, que gastan el 10% o más de sus ingresos en transporte público\",\n",
    "    x = \"Año\",\n",
    "    y = \"Porcentaje de gasto\",\n",
    "    color = \"\",\n",
    "    linetype = \"\",\n",
    "    caption = \"Nota: Las tendencias se calcularon con un método incremental usando la tasa de variación promedio anual entre los años disponibles. \n",
    "    La tendencia deseable considera una reducción acelerada del indicador.\"\n",
    "  ) +\n",
    "  theme_bw(base_size = 8, base_family = \"Roboto\") +\n",
    "  theme(\n",
    "    panel.grid.minor.y = element_line(color = \"gray80\", linetype = \"dotted\"),\n",
    "    panel.grid.minor.x = element_blank(),\n",
    "    panel.grid.major.y = element_blank(),\n",
    "    panel.border = element_blank(),\n",
    "    axis.line = element_line(color = \"gray80\"),\n",
    "    legend.position = \"top\",\n",
    "    plot.caption = element_text(hjust = 0)\n",
    "  )\n"
   ]
  },
  {
   "cell_type": "markdown",
   "id": "91807fcb",
   "metadata": {},
   "source": [
    "**Porcentaje de hogares que usan transporte público como principal medio de transporte**\n"
   ]
  },
  {
   "cell_type": "code",
   "execution_count": 36,
   "id": "183716c8",
   "metadata": {
    "vscode": {
     "languageId": "r"
    }
   },
   "outputs": [],
   "source": [
    "##DATOS DE GASTOS PERSONA\n",
    "##Función para leer los datos de la Encuesta Nacional de Ingresos y Gastos de los Hogares (ENIGH) GASTOSPERSONA\n",
    "leer_enigh <- function(anio)\n",
    "{ \n",
    "  #URL de descarga los datos para los años 2018, 2020 y 2022\n",
    "  urls <- list(\"2016\" = \"https://www.inegi.org.mx/contenidos/programas/enigh/nc/2016/microdatos/enigh2016_ns_gastospersona_csv.zip\",\n",
    "               \"2018\" = \"https://www.inegi.org.mx/contenidos/programas/enigh/nc/2018/microdatos/enigh2018_ns_gastospersona_csv.zip\",\n",
    "               \"2020\" = \"https://www.inegi.org.mx/contenidos/programas/enigh/nc/2020/microdatos/enigh2020_ns_gastospersona_csv.zip\",\n",
    "               \"2022\" = \"https://www.inegi.org.mx/contenidos/programas/enigh/nc/2022/microdatos/enigh2022_ns_gastospersona_csv.zip\"\n",
    "  )\n",
    "  \n",
    "  # Archivo y directorio temporales\n",
    "  temp_zip <- tempfile(fileext = \".zip\")\n",
    "  temp_dir <- tempdir()\n",
    "  options(timeout = 800)\n",
    "  \n",
    "  # Descargar y descomprimir\n",
    "  download.file(urls[[as.character(anio)]], temp_zip, mode = \"wb\")\n",
    "  unzip(temp_zip, exdir = temp_dir)\n",
    "  \n",
    "  # Buscar el archivo de datos\n",
    "  enigh_datos <- list.files(temp_dir, pattern = \"gastospersona.csv\", \n",
    "                            full.names = TRUE, recursive = TRUE)\n",
    "  \n",
    "  # Leer el archivo como caracteres por defecto\n",
    "  datos <- read_csv(enigh_datos, col_types = NULL)\n",
    "  \n",
    "  unlink(temp_zip)\n",
    "  unlink(list.files(temp_dir, full.names = TRUE), recursive = TRUE)\n",
    "  \n",
    "  return(datos)\n",
    "}"
   ]
  },
  {
   "cell_type": "code",
   "execution_count": 37,
   "id": "9aef284a",
   "metadata": {
    "vscode": {
     "languageId": "r"
    }
   },
   "outputs": [
    {
     "name": "stderr",
     "output_type": "stream",
     "text": [
      "Warning message:\n",
      "\"\u001b[1m\u001b[22mOne or more parsing issues, call `problems()` on your data frame for details,\n",
      "e.g.:\n",
      "  dat <- vroom(...)\n",
      "  problems(dat)\"\n",
      "\u001b[1mRows: \u001b[22m\u001b[34m377013\u001b[39m \u001b[1mColumns: \u001b[22m\u001b[34m20\u001b[39m\n",
      "\u001b[36m──\u001b[39m \u001b[1mColumn specification\u001b[22m \u001b[36m────────────────────────────────────────────────────────\u001b[39m\n",
      "\u001b[1mDelimiter:\u001b[22m \",\"\n",
      "\u001b[31mchr\u001b[39m  (8): folioviv, numren, clave, tipo_gasto, mes_dia, forma_pag1, forma_pa...\n",
      "\u001b[32mdbl\u001b[39m (11): foliohog, frec_rem, inscrip, colegia, material, cantidad, gasto, c...\n",
      "\u001b[33mlgl\u001b[39m  (1): inst\n",
      "\n",
      "\u001b[36mℹ\u001b[39m Use `spec()` to retrieve the full column specification for this data.\n",
      "\u001b[36mℹ\u001b[39m Specify the column types or set `show_col_types = FALSE` to quiet this message.\n",
      "Warning message:\n",
      "\"\u001b[1m\u001b[22mOne or more parsing issues, call `problems()` on your data frame for details,\n",
      "e.g.:\n",
      "  dat <- vroom(...)\n",
      "  problems(dat)\"\n",
      "\u001b[1mRows: \u001b[22m\u001b[34m398247\u001b[39m \u001b[1mColumns: \u001b[22m\u001b[34m20\u001b[39m\n",
      "\u001b[36m──\u001b[39m \u001b[1mColumn specification\u001b[22m \u001b[36m────────────────────────────────────────────────────────\u001b[39m\n",
      "\u001b[1mDelimiter:\u001b[22m \",\"\n",
      "\u001b[31mchr\u001b[39m  (8): folioviv, numren, clave, tipo_gasto, mes_dia, forma_pag1, forma_pa...\n",
      "\u001b[32mdbl\u001b[39m (11): foliohog, frec_rem, inscrip, colegia, material, cantidad, gasto, c...\n",
      "\u001b[33mlgl\u001b[39m  (1): inst\n",
      "\n",
      "\u001b[36mℹ\u001b[39m Use `spec()` to retrieve the full column specification for this data.\n",
      "\u001b[36mℹ\u001b[39m Specify the column types or set `show_col_types = FALSE` to quiet this message.\n",
      "\u001b[1mRows: \u001b[22m\u001b[34m302694\u001b[39m \u001b[1mColumns: \u001b[22m\u001b[34m20\u001b[39m\n",
      "\u001b[36m──\u001b[39m \u001b[1mColumn specification\u001b[22m \u001b[36m────────────────────────────────────────────────────────\u001b[39m\n",
      "\u001b[1mDelimiter:\u001b[22m \",\"\n",
      "\u001b[31mchr\u001b[39m  (9): folioviv, numren, clave, tipo_gasto, mes_dia, inst, forma_pag1, fo...\n",
      "\u001b[32mdbl\u001b[39m (11): foliohog, frec_rem, inscrip, colegia, material, cantidad, gasto, c...\n",
      "\n",
      "\u001b[36mℹ\u001b[39m Use `spec()` to retrieve the full column specification for this data.\n",
      "\u001b[36mℹ\u001b[39m Specify the column types or set `show_col_types = FALSE` to quiet this message.\n",
      "Warning message:\n",
      "\"\u001b[1m\u001b[22mOne or more parsing issues, call `problems()` on your data frame for details,\n",
      "e.g.:\n",
      "  dat <- vroom(...)\n",
      "  problems(dat)\"\n",
      "\u001b[1mRows: \u001b[22m\u001b[34m402557\u001b[39m \u001b[1mColumns: \u001b[22m\u001b[34m24\u001b[39m\n",
      "\u001b[36m──\u001b[39m \u001b[1mColumn specification\u001b[22m \u001b[36m────────────────────────────────────────────────────────\u001b[39m\n",
      "\u001b[1mDelimiter:\u001b[22m \",\"\n",
      "\u001b[31mchr\u001b[39m (11): folioviv, numren, clave, tipo_gasto, mes_dia, forma_pag1, forma_pa...\n",
      "\u001b[32mdbl\u001b[39m (12): foliohog, frec_rem, inscrip, colegia, material, cantidad, gasto, c...\n",
      "\u001b[33mlgl\u001b[39m  (1): inst\n",
      "\n",
      "\u001b[36mℹ\u001b[39m Use `spec()` to retrieve the full column specification for this data.\n",
      "\u001b[36mℹ\u001b[39m Specify the column types or set `show_col_types = FALSE` to quiet this message.\n"
     ]
    }
   ],
   "source": [
    "#CARGAR ENCUESTA GASTOSPERSONA\n",
    "gastoper2016<-leer_enigh(2016)\n",
    "gastoper2018<-leer_enigh(2018)\n",
    "gastoper2020<-leer_enigh(2020)\n",
    "gastoper2022<-leer_enigh(2022)"
   ]
  },
  {
   "cell_type": "code",
   "execution_count": 38,
   "id": "f296a09e",
   "metadata": {
    "vscode": {
     "languageId": "r"
    }
   },
   "outputs": [],
   "source": [
    "gastoper2016<-gastoper2016|>\n",
    "  select(folioviv, foliohog, numren, clave)\n",
    "gastoper2018<-gastoper2018|>\n",
    "  select(folioviv, foliohog, numren, clave)\n",
    "gastoper2020<-gastoper2020|>\n",
    "  select(folioviv, foliohog, numren, clave)\n",
    "gastoper2022<-gastoper2022|>\n",
    "  select(folioviv, foliohog, numren, clave)"
   ]
  },
  {
   "cell_type": "code",
   "execution_count": 53,
   "id": "f1ed2c43",
   "metadata": {
    "vscode": {
     "languageId": "r"
    }
   },
   "outputs": [
    {
     "name": "stderr",
     "output_type": "stream",
     "text": [
      "\u001b[1m\u001b[22m`summarise()` has grouped output by 'folioviv'. You can override using the\n",
      "`.groups` argument.\n",
      "\u001b[1m\u001b[22m`summarise()` has grouped output by 'folioviv'. You can override using the\n",
      "`.groups` argument.\n",
      "\u001b[1m\u001b[22m`summarise()` has grouped output by 'folioviv'. You can override using the\n",
      "`.groups` argument.\n",
      "\u001b[1m\u001b[22m`summarise()` has grouped output by 'folioviv'. You can override using the\n",
      "`.groups` argument.\n"
     ]
    }
   ],
   "source": [
    "#PORCENTAJE DE HOGARES QUE USAN METRO, METROBUS O CABLEBUS Y TROLEBUS COMO PRINCIPAL MEDIO DE TRANSPORTE\n",
    "# Transporte público\n",
    "# B001 Metro o tren ligero\n",
    "# B002 Autobús\n",
    "# B003 Trolebús o metrobús\n",
    "#2016\n",
    "gasto_trans_pub_2016 <- gastoper2016|>\n",
    "  mutate(cve_ent = substr(folioviv, 1,2))|>\n",
    "  filter(cve_ent == \"09\")|>\n",
    "  mutate(tipo_gasto = case_when(clave %in% c(\"B001\",\"B002\",\"B003\") ~ \"transporte publico masivo\",\n",
    "                                clave %in% c(\"B004\", \"B005\", \"B006\", \"B007\") ~ \"otros transportes publicos\", \n",
    "                                clave %in% c(\"M001\", \"M002\", \"M003\", \"M004\", \"M005\", \"M006\") ~ \"transporte foraneo\",\n",
    "                                clave %in% c(\"M007\", \"M008\", \"M009\", \"M010\", \"M011\") ~ \"adquisición de vehículos\", \n",
    "                                clave %in% c(\"M012\", \"M013\", \"M014\", \"M015\", \"M016\", \"M017\", \"M018\") ~ \"Refacciones para vehiculos\", \n",
    "                                clave %in% c(\"F007\", \"F008\", \"F014\") ~ \"Combustibles para vehículos\",\n",
    "                                clave %in% c(\"F001\", \"F002\", \"F003\", \"F004\", \"F005\", \"F006\",\"R005\", \"R006\", \"R007\", \"R008\", \"R010\", \"R011\") ~ \"comunicaciones\", \n",
    "                                TRUE ~ \"OTROS GASTOS\"), \n",
    "         transporte = case_when(tipo_gasto == \"transporte publico masivo\" ~ \"transporte publico masivo\", \n",
    "                                tipo_gasto %in% c(\"transporte foraneo\",\"otros transportes publicos\",\"adquisición de vehículos\",\n",
    "                                                  \"Refacciones para vehiculos\",\"Combustibles para vehículos\",\n",
    "                                                  \"comunicaciones\") ~ \"otro transporte\"))|>\n",
    "  filter(tipo_gasto !=\"OTROS GASTOS\")|>\n",
    "  group_by(folioviv, foliohog)|>\n",
    "  summarise(tipo = mfv(transporte)[1])\n",
    "\n",
    "gastohog_trans_pub_2016<-e2016|>\n",
    "  mutate(cve_ent = substr(folioviv, 1,2))|>\n",
    "  filter(cve_ent == \"09\")|>\n",
    "  select(folioviv, foliohog, est_dis, upm, factor)|>\n",
    "  left_join(gasto_trans_pub_2016, by = c(\"folioviv\", \"foliohog\"))|>\n",
    "  filter(!is.na(tipo))\n",
    "\n",
    "\n",
    "#2018\n",
    "gasto_trans_pub_2018 <- gastoper2018|>\n",
    "  mutate(cve_ent = substr(folioviv, 1,2))|>\n",
    "  filter(cve_ent == \"09\")|>\n",
    "  mutate(tipo_gasto = case_when(clave %in% c(\"B001\",\"B002\",\"B003\") ~ \"transporte publico masivo\",\n",
    "                                clave %in% c(\"B004\", \"B005\", \"B006\", \"B007\") ~ \"otros transportes publicos\", \n",
    "                                clave %in% c(\"M001\", \"M002\", \"M003\", \"M004\", \"M005\", \"M006\") ~ \"transporte foraneo\",\n",
    "                                clave %in% c(\"M007\", \"M008\", \"M009\", \"M010\", \"M011\") ~ \"adquisición de vehículos\", \n",
    "                                clave %in% c(\"M012\", \"M013\", \"M014\", \"M015\", \"M016\", \"M017\", \"M018\") ~ \"Refacciones para vehiculos\", \n",
    "                                clave %in% c(\"F007\", \"F008\", \"F014\") ~ \"Combustibles para vehículos\",\n",
    "                                clave %in% c(\"F001\", \"F002\", \"F003\", \"F004\", \"F005\", \"F006\",\"R005\", \"R006\", \"R007\", \"R008\", \"R010\", \"R011\") ~ \"comunicaciones\", \n",
    "                                TRUE ~ \"OTROS GASTOS\"), \n",
    "         transporte = case_when(tipo_gasto == \"transporte publico masivo\" ~ \"transporte publico masivo\", \n",
    "                                tipo_gasto %in% c(\"transporte foraneo\",\"otros transportes publicos\",\"adquisición de vehículos\",\n",
    "                                                  \"Refacciones para vehiculos\",\"Combustibles para vehículos\",\n",
    "                                                  \"comunicaciones\") ~ \"otro transporte\"))|>\n",
    "  filter(tipo_gasto !=\"OTROS GASTOS\")|>\n",
    "  group_by(folioviv, foliohog)|>\n",
    "  summarise(tipo = mfv(transporte)[1])\n",
    "\n",
    "\n",
    "gastohog_trans_pub_2018<-e2018|>\n",
    "  mutate(cve_ent = substr(folioviv, 1,2))|>\n",
    "  filter(cve_ent == \"09\")|>\n",
    "  select(folioviv, foliohog, est_dis, upm, factor)|>\n",
    "  left_join(gasto_trans_pub_2018, by = c(\"folioviv\", \"foliohog\"))|>\n",
    "  filter(!is.na(tipo))\n",
    "\n",
    "#2020\n",
    "gasto_trans_pub_2020 <- gastoper2020|>\n",
    "  mutate(cve_ent = substr(folioviv, 1,2))|>\n",
    "  filter(cve_ent == \"09\")|>\n",
    "  mutate(tipo_gasto = case_when(clave %in% c(\"B001\",\"B002\",\"B003\") ~ \"transporte publico masivo\",\n",
    "                                clave %in% c(\"B004\", \"B005\", \"B006\", \"B007\") ~ \"otros transportes publicos\", \n",
    "                                clave %in% c(\"M001\", \"M002\", \"M003\", \"M004\", \"M005\", \"M006\") ~ \"transporte foraneo\",\n",
    "                                clave %in% c(\"M007\", \"M008\", \"M009\", \"M010\", \"M011\") ~ \"adquisición de vehículos\", \n",
    "                                clave %in% c(\"M012\", \"M013\", \"M014\", \"M015\", \"M016\", \"M017\", \"M018\") ~ \"Refacciones para vehiculos\", \n",
    "                                clave %in% c(\"F007\", \"F008\", \"F014\") ~ \"Combustibles para vehículos\",\n",
    "                                clave %in% c(\"F001\", \"F002\", \"F003\", \"F004\", \"F005\", \"F006\",\"R005\", \"R006\", \"R007\", \"R008\", \"R010\", \"R011\") ~ \"comunicaciones\", \n",
    "                                TRUE ~ \"OTROS GASTOS\"), \n",
    "         transporte = case_when(tipo_gasto == \"transporte publico masivo\" ~ \"transporte publico masivo\", \n",
    "                                tipo_gasto %in% c(\"transporte foraneo\",\"otros transportes publicos\",\"adquisición de vehículos\",\n",
    "                                                  \"Refacciones para vehiculos\",\"Combustibles para vehículos\",\n",
    "                                                  \"comunicaciones\") ~ \"otro transporte\"))|>\n",
    "  filter(tipo_gasto !=\"OTROS GASTOS\")|>\n",
    "  group_by(folioviv, foliohog)|>\n",
    "  summarise(tipo = mfv(transporte)[1])\n",
    "\n",
    "\n",
    "gastohog_trans_pub_2020<-e2020|>\n",
    "  mutate(cve_ent = substr(folioviv, 1,2))|>\n",
    "  filter(cve_ent == \"09\")|>\n",
    "  select(folioviv, foliohog, est_dis, upm, factor)|>\n",
    "  left_join(gasto_trans_pub_2020, by = c(\"folioviv\", \"foliohog\"))|>\n",
    "  filter(!is.na(tipo))\n",
    "\n",
    "#2022\n",
    "gasto_trans_pub_2022 <- gastoper2022|>\n",
    "  mutate(cve_ent = substr(folioviv, 1,2))|>\n",
    "  filter(cve_ent == \"09\")|>\n",
    "  mutate(tipo_gasto = case_when(clave %in% c(\"B001\",\"B002\",\"B003\") ~ \"transporte publico masivo\",\n",
    "                                clave %in% c(\"B004\", \"B005\", \"B006\", \"B007\") ~ \"otros transportes publicos\", \n",
    "                                clave %in% c(\"M001\", \"M002\", \"M003\", \"M004\", \"M005\", \"M006\") ~ \"transporte foraneo\",\n",
    "                                clave %in% c(\"M007\", \"M008\", \"M009\", \"M010\", \"M011\") ~ \"adquisición de vehículos\", \n",
    "                                clave %in% c(\"M012\", \"M013\", \"M014\", \"M015\", \"M016\", \"M017\", \"M018\") ~ \"Refacciones para vehiculos\", \n",
    "                                clave %in% c(\"F007\", \"F008\", \"F014\") ~ \"Combustibles para vehículos\",\n",
    "                                clave %in% c(\"F001\", \"F002\", \"F003\", \"F004\", \"F005\", \"F006\",\"R005\", \"R006\", \"R007\", \"R008\", \"R010\", \"R011\") ~ \"comunicaciones\", \n",
    "                                TRUE ~ \"OTROS GASTOS\"), \n",
    "         transporte = case_when(tipo_gasto == \"transporte publico masivo\" ~ \"transporte publico masivo\", \n",
    "                                tipo_gasto %in% c(\"transporte foraneo\",\"otros transportes publicos\",\"adquisición de vehículos\",\n",
    "                                                  \"Refacciones para vehiculos\",\"Combustibles para vehículos\",\n",
    "                                                  \"comunicaciones\") ~ \"otro transporte\"))|>\n",
    "  filter(tipo_gasto !=\"OTROS GASTOS\")|>\n",
    "  group_by(folioviv, foliohog)|>\n",
    "  summarise(tipo = mfv(transporte)[1])\n",
    "\n",
    "\n",
    "gastohog_trans_pub_2022<-e2022|>\n",
    "  mutate(cve_ent = substr(folioviv, 1,2))|>\n",
    "  filter(cve_ent == \"09\")|>\n",
    "  select(folioviv, foliohog, est_dis, upm, factor)|>\n",
    "  left_join(gasto_trans_pub_2022, by = c(\"folioviv\", \"foliohog\"))|>\n",
    "  filter(!is.na(tipo))\n"
   ]
  },
  {
   "cell_type": "code",
   "execution_count": 56,
   "id": "268839b9",
   "metadata": {
    "vscode": {
     "languageId": "r"
    }
   },
   "outputs": [],
   "source": [
    "#Función para definir el diseño muestral\n",
    "diseño_muestral <- function(anio) {\n",
    "  \n",
    "  objeto_datos <- get(paste0(\"gastohog_trans_pub_\", anio))\n",
    "  \n",
    "  as_survey_design(objeto_datos,\n",
    "                   strata = est_dis,\n",
    "                   weights = factor,\n",
    "                   ids = upm,\n",
    "                   nest = TRUE)\n",
    "}\n"
   ]
  },
  {
   "cell_type": "code",
   "execution_count": 57,
   "id": "db4e4848",
   "metadata": {
    "vscode": {
     "languageId": "r"
    }
   },
   "outputs": [],
   "source": [
    "dm_2016 <- diseño_muestral(2016)\n",
    "dm_2018 <- diseño_muestral(2018)\n",
    "dm_2020 <- diseño_muestral(2020)\n",
    "dm_2022 <- diseño_muestral(2022)"
   ]
  },
  {
   "cell_type": "code",
   "execution_count": 58,
   "id": "7eaa5b18",
   "metadata": {
    "vscode": {
     "languageId": "r"
    }
   },
   "outputs": [
    {
     "data": {
      "text/html": [
       "<table class=\"dataframe\">\n",
       "<caption>A tibble: 4 × 3</caption>\n",
       "<thead>\n",
       "\t<tr><th scope=col>año</th><th scope=col>porcentaje</th><th scope=col>tipo</th></tr>\n",
       "\t<tr><th scope=col>&lt;dbl&gt;</th><th scope=col>&lt;dbl&gt;</th><th scope=col>&lt;chr&gt;</th></tr>\n",
       "</thead>\n",
       "<tbody>\n",
       "\t<tr><td>2016</td><td>26.57430</td><td>Observado</td></tr>\n",
       "\t<tr><td>2018</td><td>29.46108</td><td>Observado</td></tr>\n",
       "\t<tr><td>2020</td><td>27.58408</td><td>Observado</td></tr>\n",
       "\t<tr><td>2022</td><td>31.50581</td><td>Observado</td></tr>\n",
       "</tbody>\n",
       "</table>\n"
      ],
      "text/latex": [
       "A tibble: 4 × 3\n",
       "\\begin{tabular}{lll}\n",
       " año & porcentaje & tipo\\\\\n",
       " <dbl> & <dbl> & <chr>\\\\\n",
       "\\hline\n",
       "\t 2016 & 26.57430 & Observado\\\\\n",
       "\t 2018 & 29.46108 & Observado\\\\\n",
       "\t 2020 & 27.58408 & Observado\\\\\n",
       "\t 2022 & 31.50581 & Observado\\\\\n",
       "\\end{tabular}\n"
      ],
      "text/markdown": [
       "\n",
       "A tibble: 4 × 3\n",
       "\n",
       "| año &lt;dbl&gt; | porcentaje &lt;dbl&gt; | tipo &lt;chr&gt; |\n",
       "|---|---|---|\n",
       "| 2016 | 26.57430 | Observado |\n",
       "| 2018 | 29.46108 | Observado |\n",
       "| 2020 | 27.58408 | Observado |\n",
       "| 2022 | 31.50581 | Observado |\n",
       "\n"
      ],
      "text/plain": [
       "  año  porcentaje tipo     \n",
       "1 2016 26.57430   Observado\n",
       "2 2018 29.46108   Observado\n",
       "3 2020 27.58408   Observado\n",
       "4 2022 31.50581   Observado"
      ]
     },
     "metadata": {},
     "output_type": "display_data"
    }
   ],
   "source": [
    "##PORCENTAJE DE HOGARES QUE TIENEN Metro o tren ligero, Autobús, Trolebús o metrobús como principal medio de transporte\n",
    "prc_hog_trans_pub_2016 <- dm_2016 |>\n",
    "  group_by(tipo)|>\n",
    "  summarise(tot_hog__tpublico = survey_total(vartype = \"cv\"),\n",
    "            porcentaje = survey_prop(vartype = \"cv\")*100)|>\n",
    "  filter(tipo == \"transporte publico masivo\")|>\n",
    "  mutate(año = 2016)\n",
    "\n",
    "prc_hog_trans_pub_2018 <- dm_2018 |>\n",
    "  group_by(tipo)|>\n",
    "  summarise(tot_hog__tpublico = survey_total(vartype = \"cv\"),\n",
    "            porcentaje = survey_prop(vartype = \"cv\")*100)|>\n",
    "  filter(tipo == \"transporte publico masivo\")|>\n",
    "  mutate(año = 2018)\n",
    "\n",
    "prc_hog_trans_pub_2020 <- dm_2020 |>\n",
    "  group_by(tipo)|>\n",
    "  summarise(tot_hog__tpublico = survey_total(vartype = \"cv\"),\n",
    "            porcentaje = survey_prop(vartype = \"cv\")*100)|>\n",
    "  filter(tipo == \"transporte publico masivo\")|>\n",
    "  mutate(año = 2020)\n",
    "\n",
    "prc_hog_trans_pub_2022 <- dm_2022 |>\n",
    "  group_by(tipo)|>\n",
    "  summarise(tot_hog__tpublico = survey_total(vartype = \"cv\"),\n",
    "            porcentaje = survey_prop(vartype = \"cv\")*100)|>\n",
    "  filter(tipo == \"transporte publico masivo\")|>\n",
    "  mutate(año = 2022)\n",
    "\n",
    "\n",
    "prc_hog_tp<-prc_hog_trans_pub_2016|>\n",
    "  bind_rows(prc_hog_trans_pub_2018, prc_hog_trans_pub_2020, prc_hog_trans_pub_2022)|>\n",
    "  select(año,porcentaje)|>\n",
    "  mutate(tipo = \"Observado\")\n",
    "\n",
    "prc_hog_tp"
   ]
  },
  {
   "cell_type": "code",
   "execution_count": 116,
   "id": "618ef1d6",
   "metadata": {
    "vscode": {
     "languageId": "r"
    }
   },
   "outputs": [
    {
     "data": {
      "text/html": [
       "0.0287775471408709"
      ],
      "text/latex": [
       "0.0287775471408709"
      ],
      "text/markdown": [
       "0.0287775471408709"
      ],
      "text/plain": [
       "[1] 0.02877755"
      ]
     },
     "metadata": {},
     "output_type": "display_data"
    }
   ],
   "source": [
    "#ESCENARIOS TENDENCIALES 2030,2035,2045\n",
    "tcma<-((prc_hog_tp$porcentaje[prc_hog_tp$año==2022]/prc_hog_tp$porcentaje[prc_hog_tp$año==2016])^(1/(2022-2016))-1)\n",
    "tcma"
   ]
  },
  {
   "cell_type": "code",
   "execution_count": 117,
   "id": "a466fdc6",
   "metadata": {
    "vscode": {
     "languageId": "r"
    }
   },
   "outputs": [],
   "source": [
    "porcentaje_base <- prc_hog_tp |>\n",
    "  filter(año == 2022) |>\n",
    "  pull(porcentaje)"
   ]
  },
  {
   "cell_type": "code",
   "execution_count": 118,
   "id": "06a1a000",
   "metadata": {
    "vscode": {
     "languageId": "r"
    }
   },
   "outputs": [],
   "source": [
    "# Años a proyectar\n",
    "años <- c(2030, 2040, 2045)\n",
    "año_base <- 2022"
   ]
  },
  {
   "cell_type": "code",
   "execution_count": 119,
   "id": "963f2cc1",
   "metadata": {
    "vscode": {
     "languageId": "r"
    }
   },
   "outputs": [],
   "source": [
    "tendencia_base <- data.frame(año = años,\n",
    "                             porcentaje = round(porcentaje_base * (1 + tcma ) ^ (años - año_base), 2),\n",
    "                             tipo = \"Inercial\")\n",
    "\n",
    "tendecia_deseable<-data.frame(año = años,\n",
    "                              porcentaje = round(porcentaje_base * (1 + tcma* 1.1 ) ^ (años - año_base), 2),\n",
    "                              tipo = \"Deseable\")\n",
    "\n",
    "tendecia_transformadora<-data.frame(año = años,\n",
    "                              porcentaje = round(porcentaje_base * (1 + tcma* 1.5 ) ^ (años - año_base), 2),\n",
    "                              tipo = \"Transformador\")\n"
   ]
  },
  {
   "cell_type": "code",
   "execution_count": 120,
   "id": "e9904c77",
   "metadata": {
    "vscode": {
     "languageId": "r"
    }
   },
   "outputs": [
    {
     "data": {
      "text/html": [
       "<table class=\"dataframe\">\n",
       "<caption>A tibble: 13 × 3</caption>\n",
       "<thead>\n",
       "\t<tr><th scope=col>año</th><th scope=col>porcentaje</th><th scope=col>tipo</th></tr>\n",
       "\t<tr><th scope=col>&lt;dbl&gt;</th><th scope=col>&lt;dbl&gt;</th><th scope=col>&lt;chr&gt;</th></tr>\n",
       "</thead>\n",
       "<tbody>\n",
       "\t<tr><td>2016</td><td>26.57430</td><td>Observado    </td></tr>\n",
       "\t<tr><td>2018</td><td>29.46108</td><td>Observado    </td></tr>\n",
       "\t<tr><td>2020</td><td>27.58408</td><td>Observado    </td></tr>\n",
       "\t<tr><td>2022</td><td>31.50581</td><td>Observado    </td></tr>\n",
       "\t<tr><td>2030</td><td>39.53000</td><td>Inercial     </td></tr>\n",
       "\t<tr><td>2040</td><td>52.50000</td><td>Inercial     </td></tr>\n",
       "\t<tr><td>2045</td><td>60.50000</td><td>Inercial     </td></tr>\n",
       "\t<tr><td>2030</td><td>40.43000</td><td>Deseable     </td></tr>\n",
       "\t<tr><td>2040</td><td>55.21000</td><td>Deseable     </td></tr>\n",
       "\t<tr><td>2045</td><td>64.52000</td><td>Deseable     </td></tr>\n",
       "\t<tr><td>2030</td><td>44.18000</td><td>Transformador</td></tr>\n",
       "\t<tr><td>2040</td><td>67.41000</td><td>Transformador</td></tr>\n",
       "\t<tr><td>2045</td><td>83.28000</td><td>Transformador</td></tr>\n",
       "</tbody>\n",
       "</table>\n"
      ],
      "text/latex": [
       "A tibble: 13 × 3\n",
       "\\begin{tabular}{lll}\n",
       " año & porcentaje & tipo\\\\\n",
       " <dbl> & <dbl> & <chr>\\\\\n",
       "\\hline\n",
       "\t 2016 & 26.57430 & Observado    \\\\\n",
       "\t 2018 & 29.46108 & Observado    \\\\\n",
       "\t 2020 & 27.58408 & Observado    \\\\\n",
       "\t 2022 & 31.50581 & Observado    \\\\\n",
       "\t 2030 & 39.53000 & Inercial     \\\\\n",
       "\t 2040 & 52.50000 & Inercial     \\\\\n",
       "\t 2045 & 60.50000 & Inercial     \\\\\n",
       "\t 2030 & 40.43000 & Deseable     \\\\\n",
       "\t 2040 & 55.21000 & Deseable     \\\\\n",
       "\t 2045 & 64.52000 & Deseable     \\\\\n",
       "\t 2030 & 44.18000 & Transformador\\\\\n",
       "\t 2040 & 67.41000 & Transformador\\\\\n",
       "\t 2045 & 83.28000 & Transformador\\\\\n",
       "\\end{tabular}\n"
      ],
      "text/markdown": [
       "\n",
       "A tibble: 13 × 3\n",
       "\n",
       "| año &lt;dbl&gt; | porcentaje &lt;dbl&gt; | tipo &lt;chr&gt; |\n",
       "|---|---|---|\n",
       "| 2016 | 26.57430 | Observado     |\n",
       "| 2018 | 29.46108 | Observado     |\n",
       "| 2020 | 27.58408 | Observado     |\n",
       "| 2022 | 31.50581 | Observado     |\n",
       "| 2030 | 39.53000 | Inercial      |\n",
       "| 2040 | 52.50000 | Inercial      |\n",
       "| 2045 | 60.50000 | Inercial      |\n",
       "| 2030 | 40.43000 | Deseable      |\n",
       "| 2040 | 55.21000 | Deseable      |\n",
       "| 2045 | 64.52000 | Deseable      |\n",
       "| 2030 | 44.18000 | Transformador |\n",
       "| 2040 | 67.41000 | Transformador |\n",
       "| 2045 | 83.28000 | Transformador |\n",
       "\n"
      ],
      "text/plain": [
       "   año  porcentaje tipo         \n",
       "1  2016 26.57430   Observado    \n",
       "2  2018 29.46108   Observado    \n",
       "3  2020 27.58408   Observado    \n",
       "4  2022 31.50581   Observado    \n",
       "5  2030 39.53000   Inercial     \n",
       "6  2040 52.50000   Inercial     \n",
       "7  2045 60.50000   Inercial     \n",
       "8  2030 40.43000   Deseable     \n",
       "9  2040 55.21000   Deseable     \n",
       "10 2045 64.52000   Deseable     \n",
       "11 2030 44.18000   Transformador\n",
       "12 2040 67.41000   Transformador\n",
       "13 2045 83.28000   Transformador"
      ]
     },
     "metadata": {},
     "output_type": "display_data"
    }
   ],
   "source": [
    "prc_hog_tp_tendencias <- prc_hog_tp|>\n",
    "  bind_rows(tendencia_base,\n",
    "            tendecia_deseable,\n",
    "            tendecia_transformadora)\n",
    "\n",
    "prc_hog_tp_tendencias\n"
   ]
  },
  {
   "cell_type": "code",
   "execution_count": 121,
   "id": "1161dcdc",
   "metadata": {
    "vscode": {
     "languageId": "r"
    }
   },
   "outputs": [],
   "source": [
    "#PREPARACIÓN DE DATOS PARA GRAFICAR\n",
    "lineas <- bind_rows(data.frame(año = c(2022, 2030),\n",
    "                               porcentaje = c(prc_hog_tp_tendencias$porcentaje[prc_hog_tp_tendencias$año == 2022 & prc_hog_tp_tendencias$tipo == \"Observado\"],\n",
    "                                              prc_hog_tp_tendencias$porcentaje[prc_hog_tp_tendencias$año == 2030 & prc_hog_tp_tendencias$tipo == \"Inercial\"]),\n",
    "                               tipo = \"Inercial\"),\n",
    "                    data.frame(año = c(2022, 2030),\n",
    "                               porcentaje = c(prc_hog_tp_tendencias$porcentaje[prc_hog_tp_tendencias$año == 2022 & prc_hog_tp_tendencias$tipo == \"Observado\"], \n",
    "                                              prc_hog_tp_tendencias$porcentaje[prc_hog_tp_tendencias$año == 2030 & prc_hog_tp_tendencias$tipo == \"Deseable\"]),\n",
    "                               tipo = \"Deseable\"), \n",
    "                    data.frame(año = c(2022, 2030),\n",
    "                               porcentaje = c(prc_hog_tp_tendencias$porcentaje[prc_hog_tp_tendencias$año == 2022 & prc_hog_tp_tendencias$tipo == \"Observado\"], \n",
    "                                              prc_hog_tp_tendencias$porcentaje[prc_hog_tp_tendencias$año == 2030 & prc_hog_tp_tendencias$tipo == \"Transformador\"]),\n",
    "                               tipo = \"Transformador\"))\n",
    "\n",
    "\n",
    "paleta_colores <- c(\"Observado\" = \"#9F2241\",\n",
    "                    \"Inercial\" = \"#cfcfcf\" ,\n",
    "                    \"Deseable\" = \"#027A35\", \n",
    "                    \"Transformador\" = \"#AC6D14\")\n",
    "\n",
    "linetypes <- c(\"Observado\" = \"solid\",\n",
    "               \"Inercial\" = \"dotdash\",\n",
    "               \"Deseable\" = \"dotdash\", \n",
    "               \"Transformador\" = \"dotdash\")"
   ]
  },
  {
   "cell_type": "code",
   "execution_count": 122,
   "id": "e06b2a4a",
   "metadata": {
    "vscode": {
     "languageId": "r"
    }
   },
   "outputs": [
    {
     "data": {
      "image/png": "[encoded data removed]",
      "text/plain": [
       "plot without title"
      ]
     },
     "metadata": {
      "image/png": {
       "height": 420,
       "width": 420
      }
     },
     "output_type": "display_data"
    }
   ],
   "source": [
    "# Gráfico con etiquetas y eje Y personalizado\n",
    "ggplot(prc_hog_tp_tendencias, aes(x = año, y = porcentaje, group = tipo, color = tipo, linetype = tipo)) +\n",
    "  geom_line(linewidth = 1.2) +\n",
    "  geom_point(size = 1.5) +\n",
    "  geom_line(data = lineas, aes(x = año, y = porcentaje, group = tipo), linewidth = 1.2) +\n",
    "  geom_text(aes(label = paste0(round(porcentaje, 1), \"%\")),\n",
    "            vjust = -1, size = 4, family = \"Roboto\", show.legend = FALSE) +\n",
    "  scale_color_manual(values = paleta_colores) +\n",
    "  scale_linetype_manual(values = linetypes) +\n",
    "  scale_y_continuous(breaks = seq(0, max(prc_hog_tp_tendencias$porcentaje, na.rm = TRUE) + 5, by = 5),\n",
    "                     labels = function(x) paste0(x, \"%\"),\n",
    "                     expand = expansion(mult = c(0, 0.1))) +\n",
    "  labs(title = \"Porcentaje de hogares que usan el transporte público* como principal medio de transporte\",\n",
    "       x = \"Año\",\n",
    "       y = \"Porcentaje de gasto\",\n",
    "       color = \"\",\n",
    "       linetype = \"\",\n",
    "       caption = \"*Se consideraron:Metro, tren ligero, Autobús, Trolebús y metrobús.\n",
    "       Se considera la tasa de crecimiento media anual (TCMA) observada entre 2016 y 2022.\n",
    "       La línea de tendencia deseable representa un escenario hipotético de mejora\"\n",
    "  ) +\n",
    "  theme_bw(base_size = 10, base_family = \"Roboto\") +\n",
    "  theme( panel.grid.minor.y = element_line(color = \"gray80\", linetype = \"dotted\"),\n",
    "         panel.grid.minor.x = element_blank(),\n",
    "         panel.grid.major.y = element_blank(),\n",
    "         panel.border = element_blank(),\n",
    "         axis.line = element_line(color = \"gray80\"),\n",
    "         legend.position = \"top\",\n",
    "         plot.caption = element_text(hjust = 0))"
   ]
  },
  {
   "cell_type": "markdown",
   "id": "4311273a",
   "metadata": {},
   "source": [
    "**Porcentaje de población con tiempos de traslado a la escuela o trabajo de más de una hora**"
   ]
  },
  {
   "cell_type": "code",
   "execution_count": 87,
   "id": "2fb8dff5",
   "metadata": {
    "vscode": {
     "languageId": "r"
    }
   },
   "outputs": [],
   "source": [
    "leer_censo <- function(anio) {\n",
    "  urls <- list(\n",
    "    \"2015\" = \"https://www.inegi.org.mx/contenidos/programas/intercensal/2015/microdatos/eic2015_09_dta.zip\",\n",
    "    \"2020\" = \"https://www.inegi.org.mx/contenidos/programas/ccpv/2020/microdatos/Censo2020_CA_cdmx_dta.zip\"\n",
    "  )\n",
    "  \n",
    "  temp_zip <- tempfile(fileext = \".zip\")\n",
    "  temp_dir <- tempdir()\n",
    "  options(timeout = 800)\n",
    "  \n",
    "  download.file(urls[[as.character(anio)]], temp_zip, mode = \"wb\")\n",
    "  unzip(temp_zip, exdir = temp_dir)\n",
    "  \n",
    "  archivos_dta <- list.files(temp_dir, pattern = \"\\\\.dta$\", full.names = TRUE, recursive = TRUE)\n",
    "  archivo_personas <- archivos_dta[grepl(\"per|pers|persona|personas\", archivos_dta, ignore.case = TRUE)][1]\n",
    "\n",
    "  datos <- read_dta(archivo_personas)\n",
    "  \n",
    "  unlink(temp_zip)\n",
    "  unlink(list.files(temp_dir, full.names = TRUE), recursive = TRUE)\n",
    "  \n",
    "  return(datos)\n",
    "}"
   ]
  },
  {
   "cell_type": "code",
   "execution_count": 88,
   "id": "c12109eb",
   "metadata": {
    "vscode": {
     "languageId": "r"
    }
   },
   "outputs": [],
   "source": [
    "personas2015<-leer_censo(2015)\n",
    "personas2020<-leer_censo(2020)"
   ]
  },
  {
   "cell_type": "code",
   "execution_count": 89,
   "id": "a443197e",
   "metadata": {
    "vscode": {
     "languageId": "r"
    }
   },
   "outputs": [],
   "source": [
    "#TIEMPOS DE TRASLADO\n",
    "#2015\n",
    "personas2015_t <- personas2015|>\n",
    "  select(ent, mun, factor, upm, estrato, asisten, conact, ent_pais_asi, mun_asi, ent_pais_trab, mun_trab, tie_traslado_escu, tie_traslado_trab)|>\n",
    "  mutate(mun_orig = ifelse(!is.na(mun) & nchar(mun) < 3,\n",
    "                           paste0(strrep(\"0\", 3 - nchar(mun)), mun), mun),\n",
    "         mun_trab = ifelse(!is.na(mun_trab) & nchar(mun_trab) < 3,\n",
    "                           paste0(strrep(\"0\", 3 - nchar(mun_trab)), mun_trab), mun_trab),\n",
    "         mun_asi = ifelse(!is.na(mun_asi) & nchar(mun_asi) < 3,\n",
    "                          paste0(strrep(\"0\", 3 - nchar(mun_asi)), mun_asi), mun_asi),\n",
    "         ent_pais_trab = ifelse(!is.na(ent_pais_trab), substr(ent_pais_trab, 2, 3), na),\n",
    "         ent_pais_asi = ifelse(!is.na(ent_pais_asi), substr(ent_pais_asi, 2, 3), na),\n",
    "         mun_t_cvegeo = ifelse(!is.na(ent_pais_trab) & !is.na(mun_trab),\n",
    "                               paste0(ent_pais_trab, mun_trab), na),\n",
    "         mun_a_cvegeo = ifelse(!is.na(ent_pais_asi) & !is.na(mun_asi),\n",
    "                               paste0(ent_pais_asi, mun_asi), na),\n",
    "         cvegeo = paste0(ent, mun_orig),\n",
    "         mun_destinos = case_when(is.na(mun_a_cvegeo) | mun_a_cvegeo == \"000\"~ mun_t_cvegeo,\n",
    "                                  is.na(mun_t_cvegeo) | mun_t_cvegeo == \"000\" ~ mun_a_cvegeo,\n",
    "                                  tie_traslado_trab == 1 ~ mun_a_cvegeo,\n",
    "                                  tie_traslado_escu == 1 ~ mun_t_cvegeo), \n",
    "         mun_destinos = case_when(mun_destinos == \"000\" ~ \"sin información\", \n",
    "                                  TRUE ~ mun_destinos))\n",
    "\n",
    "tiempos_traslado_2015<- personas2015_t|>\n",
    "  filter(mun_destinos %in% cvegeo)|>\n",
    "  mutate(tipo = case_when(tie_traslado_trab %in% c(\"4\", \"5\") ~ \"más tiempo\", \n",
    "                          tie_traslado_escu %in% c(\"4\", \"5\") ~ \"más tiempo\", \n",
    "                          TRUE ~ \"menos tiempo\"))  \n",
    "\n",
    "#2020\n",
    "personas2020_t <- personas2020|>\n",
    "  select(ent, mun, factor, upm, estrato, asisten, conact, ent_pais_asi, mun_asi, ent_pais_trab, mun_trab, tie_traslado_escu, tie_traslado_trab)|>\n",
    "  mutate(mun_orig = ifelse(!is.na(mun) & nchar(mun) < 3,\n",
    "                           paste0(strrep(\"0\", 3 - nchar(mun)), mun), mun),\n",
    "         mun_trab = ifelse(!is.na(mun_trab) & nchar(mun_trab) < 3,\n",
    "                           paste0(strrep(\"0\", 3 - nchar(mun_trab)), mun_trab), mun_trab),\n",
    "         mun_asi = ifelse(!is.na(mun_asi) & nchar(mun_asi) < 3,\n",
    "                          paste0(strrep(\"0\", 3 - nchar(mun_asi)), mun_asi), mun_asi),\n",
    "         ent_pais_trab = ifelse(!is.na(ent_pais_trab), substr(ent_pais_trab, 2, 3), na),\n",
    "         ent_pais_asi = ifelse(!is.na(ent_pais_asi), substr(ent_pais_asi, 2, 3), na),\n",
    "         mun_t_cvegeo = ifelse(!is.na(ent_pais_trab) & !is.na(mun_trab),\n",
    "                               paste0(ent_pais_trab, mun_trab), na),\n",
    "         mun_a_cvegeo = ifelse(!is.na(ent_pais_asi) & !is.na(mun_asi),\n",
    "                               paste0(ent_pais_asi, mun_asi), na),\n",
    "         cvegeo = paste0(ent, mun_orig),\n",
    "         mun_destinos = case_when(is.na(mun_a_cvegeo) | mun_a_cvegeo == \"000\"~ mun_t_cvegeo,\n",
    "                                  is.na(mun_t_cvegeo) | mun_t_cvegeo == \"000\" ~ mun_a_cvegeo,\n",
    "                                  tie_traslado_trab == 1 ~ mun_a_cvegeo,\n",
    "                                  tie_traslado_escu == 1 ~ mun_t_cvegeo), \n",
    "         mun_destinos = case_when(mun_destinos == \"000\" ~ \"sin información\", \n",
    "                                  TRUE ~ mun_destinos))\n",
    "\n",
    "tiempos_traslado_2020<- personas2020_t|>\n",
    "  filter(mun_destinos %in% cvegeo)|>\n",
    "  mutate(tipo = case_when(tie_traslado_trab %in% c(\"4\", \"5\") ~ \"más tiempo\", \n",
    "                          tie_traslado_escu %in% c(\"4\", \"5\") ~ \"más tiempo\", \n",
    "                          TRUE ~ \"menos tiempo\"))  \n",
    "\n",
    "\n",
    "\n",
    "tiempos_traslado<-tiempos_traslado_2015|>\n",
    "  bind_rows(tiempos_traslado_2020)"
   ]
  },
  {
   "cell_type": "code",
   "execution_count": 90,
   "id": "fd36e67a",
   "metadata": {
    "vscode": {
     "languageId": "r"
    }
   },
   "outputs": [],
   "source": [
    "#Función para definir el diseño muestral\n",
    "diseño_muestral <- function(anio) {\n",
    "  \n",
    "  objeto_datos <- get(paste0(\"tiempos_traslado_\", anio))\n",
    "  \n",
    "  as_survey_design(objeto_datos,\n",
    "                   strata = estrato,\n",
    "                   weights = factor,\n",
    "                   ids = upm,\n",
    "                   nest = TRUE)\n",
    "}\n"
   ]
  },
  {
   "cell_type": "code",
   "execution_count": 91,
   "id": "6f9def95",
   "metadata": {
    "vscode": {
     "languageId": "r"
    }
   },
   "outputs": [],
   "source": [
    "dm_2015 <- diseño_muestral(2015)\n",
    "dm_2020 <- diseño_muestral(2020)"
   ]
  },
  {
   "cell_type": "code",
   "execution_count": 92,
   "id": "ee10cc7f",
   "metadata": {
    "vscode": {
     "languageId": "r"
    }
   },
   "outputs": [],
   "source": [
    "tot_tie_traslado_2015 <- dm_2015 |>\n",
    "  group_by(tipo)|>\n",
    "  summarise(tot_personas = survey_total(vartype = \"cv\"),\n",
    "            porcentaje = survey_prop(vartype = \"cv\")*100)|>\n",
    "  filter(tipo == \"más tiempo\")|>\n",
    "  mutate(año = 2015)\n",
    "\n",
    "tot_tie_traslado_2020 <- dm_2020 |>\n",
    "  group_by(tipo)|>\n",
    "  summarise(tot_personas = survey_total(vartype = \"cv\"),\n",
    "            porcentaje = survey_prop(vartype = \"cv\")*100)|>\n",
    "  filter(tipo == \"más tiempo\")|>\n",
    "  mutate(año = 2020)\n",
    "\n",
    "tot_tie_traslado<-tot_tie_traslado_2015|>\n",
    "  bind_rows(tot_tie_traslado_2020)|>\n",
    "  select(año,porcentaje)|>\n",
    "  mutate(tipo = \"Observado\")"
   ]
  },
  {
   "cell_type": "code",
   "execution_count": 98,
   "id": "09f60540",
   "metadata": {
    "vscode": {
     "languageId": "r"
    }
   },
   "outputs": [
    {
     "data": {
      "text/html": [
       "0.00967137467694679"
      ],
      "text/latex": [
       "0.00967137467694679"
      ],
      "text/markdown": [
       "0.00967137467694679"
      ],
      "text/plain": [
       "[1] 0.009671375"
      ]
     },
     "metadata": {},
     "output_type": "display_data"
    },
    {
     "data": {
      "text/html": [
       "<table class=\"dataframe\">\n",
       "<caption>A tibble: 11 × 3</caption>\n",
       "<thead>\n",
       "\t<tr><th scope=col>año</th><th scope=col>porcentaje</th><th scope=col>tipo</th></tr>\n",
       "\t<tr><th scope=col>&lt;dbl&gt;</th><th scope=col>&lt;dbl&gt;</th><th scope=col>&lt;chr&gt;</th></tr>\n",
       "</thead>\n",
       "<tbody>\n",
       "\t<tr><td>2015</td><td>13.83529</td><td>Observado    </td></tr>\n",
       "\t<tr><td>2020</td><td>14.51739</td><td>Observado    </td></tr>\n",
       "\t<tr><td>2030</td><td>15.98000</td><td>Inercial     </td></tr>\n",
       "\t<tr><td>2040</td><td>17.60000</td><td>Inercial     </td></tr>\n",
       "\t<tr><td>2045</td><td>18.47000</td><td>Inercial     </td></tr>\n",
       "\t<tr><td>2030</td><td>14.06000</td><td>Deseable     </td></tr>\n",
       "\t<tr><td>2040</td><td>13.61000</td><td>Deseable     </td></tr>\n",
       "\t<tr><td>2045</td><td>13.39000</td><td>Deseable     </td></tr>\n",
       "\t<tr><td>2030</td><td>13.17000</td><td>Transformador</td></tr>\n",
       "\t<tr><td>2040</td><td>11.95000</td><td>Transformador</td></tr>\n",
       "\t<tr><td>2045</td><td>11.39000</td><td>Transformador</td></tr>\n",
       "</tbody>\n",
       "</table>\n"
      ],
      "text/latex": [
       "A tibble: 11 × 3\n",
       "\\begin{tabular}{lll}\n",
       " año & porcentaje & tipo\\\\\n",
       " <dbl> & <dbl> & <chr>\\\\\n",
       "\\hline\n",
       "\t 2015 & 13.83529 & Observado    \\\\\n",
       "\t 2020 & 14.51739 & Observado    \\\\\n",
       "\t 2030 & 15.98000 & Inercial     \\\\\n",
       "\t 2040 & 17.60000 & Inercial     \\\\\n",
       "\t 2045 & 18.47000 & Inercial     \\\\\n",
       "\t 2030 & 14.06000 & Deseable     \\\\\n",
       "\t 2040 & 13.61000 & Deseable     \\\\\n",
       "\t 2045 & 13.39000 & Deseable     \\\\\n",
       "\t 2030 & 13.17000 & Transformador\\\\\n",
       "\t 2040 & 11.95000 & Transformador\\\\\n",
       "\t 2045 & 11.39000 & Transformador\\\\\n",
       "\\end{tabular}\n"
      ],
      "text/markdown": [
       "\n",
       "A tibble: 11 × 3\n",
       "\n",
       "| año &lt;dbl&gt; | porcentaje &lt;dbl&gt; | tipo &lt;chr&gt; |\n",
       "|---|---|---|\n",
       "| 2015 | 13.83529 | Observado     |\n",
       "| 2020 | 14.51739 | Observado     |\n",
       "| 2030 | 15.98000 | Inercial      |\n",
       "| 2040 | 17.60000 | Inercial      |\n",
       "| 2045 | 18.47000 | Inercial      |\n",
       "| 2030 | 14.06000 | Deseable      |\n",
       "| 2040 | 13.61000 | Deseable      |\n",
       "| 2045 | 13.39000 | Deseable      |\n",
       "| 2030 | 13.17000 | Transformador |\n",
       "| 2040 | 11.95000 | Transformador |\n",
       "| 2045 | 11.39000 | Transformador |\n",
       "\n"
      ],
      "text/plain": [
       "   año  porcentaje tipo         \n",
       "1  2015 13.83529   Observado    \n",
       "2  2020 14.51739   Observado    \n",
       "3  2030 15.98000   Inercial     \n",
       "4  2040 17.60000   Inercial     \n",
       "5  2045 18.47000   Inercial     \n",
       "6  2030 14.06000   Deseable     \n",
       "7  2040 13.61000   Deseable     \n",
       "8  2045 13.39000   Deseable     \n",
       "9  2030 13.17000   Transformador\n",
       "10 2040 11.95000   Transformador\n",
       "11 2045 11.39000   Transformador"
      ]
     },
     "metadata": {},
     "output_type": "display_data"
    }
   ],
   "source": [
    "##ESCENARIOS TENDENCIALES 2030,2035,2045\n",
    "# Tasa de variación\n",
    "tcma<-(((tot_tie_traslado_2020$porcentaje /tot_tie_traslado_2015$porcentaje)^(1/5)) - 1) \n",
    "tcma\n",
    "\n",
    "porcentaje_base <- tot_tie_traslado |>\n",
    "  filter(año == 2020) |>\n",
    "  pull(porcentaje)\n",
    "\n",
    "# Años a proyectar\n",
    "años <- c(2030, 2040, 2045)\n",
    "año_base <- 2020\n",
    "\n",
    "tendencia_base <- data.frame(año = años,\n",
    "                             porcentaje = round(porcentaje_base * (1 + tcma ) ^ (años - año_base), 2),\n",
    "                             tipo = \"Inercial\")\n",
    "                            \n",
    "\n",
    "tendecia_deseable<-data.frame(año = años,\n",
    "                              porcentaje = round(porcentaje_base * (1 + -1/3*tcma ) ^ (años - año_base), 2),\n",
    "                              tipo = \"Deseable\")\n",
    "\n",
    "\n",
    "tendecia_transformadora <-data.frame(año = años,\n",
    "                              porcentaje = round(porcentaje_base * (1 + -tcma) ^ (años - año_base), 2),\n",
    "                              tipo = \"Transformador\")\n",
    "\n",
    "\n",
    "tot_tie_traslado_tendencias <- tot_tie_traslado|>\n",
    "  bind_rows(tendencia_base,tendecia_deseable, \n",
    "  tendecia_transformadora)\n",
    "\n",
    "tot_tie_traslado_tendencias\n"
   ]
  },
  {
   "cell_type": "code",
   "execution_count": 101,
   "id": "eaacbd18",
   "metadata": {
    "vscode": {
     "languageId": "r"
    }
   },
   "outputs": [],
   "source": [
    "lineas <- bind_rows(data.frame(año = c(2020, 2030),\n",
    "                               porcentaje = c(tot_tie_traslado_tendencias$porcentaje[tot_tie_traslado_tendencias$año == 2020 & tot_tie_traslado_tendencias$tipo == \"Observado\"],\n",
    "                                              tot_tie_traslado_tendencias$porcentaje[tot_tie_traslado_tendencias$año == 2030 & tot_tie_traslado_tendencias$tipo == \"Inercial\"]),\n",
    "                               tipo = \"Inercial\"),\n",
    "                    data.frame(año = c(2020, 2030),\n",
    "                               porcentaje = c(tot_tie_traslado_tendencias$porcentaje[tot_tie_traslado_tendencias$año == 2020 & tot_tie_traslado_tendencias$tipo == \"Observado\"], \n",
    "                                              tot_tie_traslado_tendencias$porcentaje[tot_tie_traslado_tendencias$año == 2030 & tot_tie_traslado_tendencias$tipo == \"Deseable\"]),\n",
    "                               tipo = \"Deseable\"), \n",
    "                               data.frame(año = c(2020, 2030),\n",
    "                               porcentaje = c(tot_tie_traslado_tendencias$porcentaje[tot_tie_traslado_tendencias$año == 2020 & tot_tie_traslado_tendencias$tipo == \"Observado\"], \n",
    "                                              tot_tie_traslado_tendencias$porcentaje[tot_tie_traslado_tendencias$año == 2030 & tot_tie_traslado_tendencias$tipo == \"Transformador\"]),\n",
    "                               tipo = \"Transformador\"))\n",
    "\n",
    "\n",
    "paleta_colores <- c(\"Observado\" = \"#9F2241\",\n",
    "                    \"Inercial\" = \"#cfcfcf\" ,\n",
    "                    \"Deseable\" = \"#027A35\", \n",
    "                    \"Transformador\" = \"#AC6D14\")\n",
    "\n",
    "linetypes <- c(\"Observado\" = \"solid\",\n",
    "               \"Inercial\" = \"dotdash\",\n",
    "               \"Deseable\" = \"dotdash\", \n",
    "               \"Transformador\" = \"dotdash\")"
   ]
  },
  {
   "cell_type": "code",
   "execution_count": 102,
   "id": "be41e03e",
   "metadata": {
    "vscode": {
     "languageId": "r"
    }
   },
   "outputs": [
    {
     "data": {
      "image/png": "[encoded data removed]",
      "text/plain": [
       "plot without title"
      ]
     },
     "metadata": {
      "image/png": {
       "height": 420,
       "width": 420
      }
     },
     "output_type": "display_data"
    }
   ],
   "source": [
    "# Gráfico con etiquetas y eje Y personalizado\n",
    "ggplot(tot_tie_traslado_tendencias, aes(x = año, y = porcentaje, group = tipo, color = tipo, linetype = tipo)) +\n",
    "  geom_line(linewidth = 1.2) +\n",
    "  geom_point(size = 1.5) +\n",
    "  geom_line(data = lineas, aes(x = año, y = porcentaje, group = tipo), linewidth = 1.2) +\n",
    "  geom_text(aes(label = paste0(round(porcentaje, 1), \"%\")),\n",
    "            vjust = -1, size = 4, family = \"Roboto\", show.legend = FALSE) +\n",
    "  scale_color_manual(values = paleta_colores) +\n",
    "  scale_linetype_manual(values = linetypes) +\n",
    "  scale_y_continuous(breaks = seq(0, max(tot_tie_traslado_tendencias$porcentaje, na.rm = TRUE) + 5, by = 5),\n",
    "                     labels = function(x) paste0(x, \"%\"),\n",
    "                     expand = expansion(mult = c(0, 0.1))) +\n",
    "  labs(title = \"Porcentaje personas que tardan una hora o más en llegar a sus centros de estudio o trabajo\",\n",
    "       x = \"Año\",\n",
    "       y = \"Porcentaje de gasto\",\n",
    "       color = \"\",\n",
    "       linetype = \"\",\n",
    "       caption = \"Se considera la tasa de crecimiento media anual (TCMA) observada entre 2015 y 2020.\n",
    "       La línea de tendencia deseable representa un escenario hipotético de mejora, invirtiendo el sentido de la TCMA para simular una reducción del valor.\"\n",
    "       ) +\n",
    "  theme_bw(base_size = 10, base_family = \"Roboto\") +\n",
    "  theme( panel.grid.minor.y = element_line(color = \"gray80\", linetype = \"dotted\"),\n",
    "         panel.grid.minor.x = element_blank(),\n",
    "         panel.grid.major.y = element_blank(),\n",
    "         panel.border = element_blank(),\n",
    "         axis.line = element_line(color = \"gray80\"),\n",
    "         legend.position = \"top\",\n",
    "         plot.caption = element_text(hjust = 0))\n"
   ]
  }
 ],
 "metadata": {
  "kernelspec": {
   "display_name": "R",
   "language": "R",
   "name": "ir"
  },
  "language_info": {
   "codemirror_mode": "r",
   "file_extension": ".r",
   "mimetype": "text/x-r-source",
   "name": "R",
   "pygments_lexer": "r",
   "version": "4.4.3"
  }
 },
 "nbformat": 4,
 "nbformat_minor": 5
}
