{
 "cells": [
  {
   "cell_type": "markdown",
   "id": "232cdce3",
   "metadata": {},
   "source": [
    "**Porcentaje de población de la Ciudad de México que se siente inseguro en el transporte público**"
   ]
  },
  {
   "cell_type": "code",
   "execution_count": 21,
   "id": "e6cbe703",
   "metadata": {
    "vscode": {
     "languageId": "r"
    }
   },
   "outputs": [],
   "source": [
    "rm(list=ls()) #Limpiar el entorno de trabajo\n",
    "#Librerías\n",
    "#if (require('pacman')) install.packages('pacman')\n",
    "pacman::p_load(tidyverse,\n",
    "               srvyr, \n",
    "               ggplot2, \n",
    "               purrr, \n",
    "               dplyr)"
   ]
  },
  {
   "cell_type": "code",
   "execution_count": 22,
   "id": "699a64cf",
   "metadata": {
    "vscode": {
     "languageId": "r"
    }
   },
   "outputs": [],
   "source": [
    "#Función para leer los datos de la ENVIPE\n",
    "leer_envipe_vic <- function(anios) {\n",
    "\n",
    "  anios <- as.integer(anios)[anios %in% 2016:2024]\n",
    "  \n",
    "\n",
    "  data_list <- list()\n",
    "\n",
    "  for (anio in anios) {\n",
    "    url <- paste0(\"https://www.inegi.org.mx/contenidos/programas/envipe/\",\n",
    "                  anio,\n",
    "                 \"/microdatos/bd_envipe\",\n",
    "                 ifelse(anio < 2020, anio, paste0(\"_\", anio)),\n",
    "                 \"_dbf.zip\")\n",
    "\n",
    "    temp_zip <- tempfile(fileext = \".zip\")\n",
    "    temp_dir <- tempdir()\n",
    "    options(timeout = 1000)\n",
    "\n",
    "    result <- download.file(url, temp_zip, mode = \"wb\", quiet = TRUE)\n",
    "              unzip(temp_zip, exdir = temp_dir)\n",
    "\n",
    "    nombre <- list.files(temp_dir, pattern = \"TPer_Vic1.dbf\", \n",
    "                             full.names = TRUE, recursive = TRUE)\n",
    "                             \n",
    "    datos <- foreign::read.dbf(nombre)|>\n",
    "                  mutate(ENT = substr(ID_VIV, 1, 2),\n",
    "                        #Crear variable de interes para inseguridad en transporte público\n",
    "                        inse_t_publico = case_when(AP4_4_09 == \"1\" ~ \"Se siente seguro\", \n",
    "                                      AP4_4_09 == \"2\" ~ \"Se siente inseguro\", \n",
    "                                      TRUE ~ \"No responde\"),\n",
    "                        FAC_ELE = as.numeric(FAC_ELE))|>\n",
    "                   #Filtrar para la Ciudad de México\n",
    "                   filter(ENT == \"09\",\n",
    "                          AP4_4_09!=3)\n",
    "\n",
    "\n",
    "    #Poner los datos en una lista\n",
    "    data_list[[as.character(anio)]] <- datos\n",
    "\n",
    "    # Limpiar archivos temporales\n",
    "    unlink(temp_zip)\n",
    "    unlink(list.files(temp_dir, full.names = TRUE), recursive = TRUE)\n",
    "  }\n",
    "\n",
    "  return(data_list)\n",
    "}"
   ]
  },
  {
   "cell_type": "code",
   "execution_count": 23,
   "id": "0c7456da",
   "metadata": {
    "vscode": {
     "languageId": "r"
    }
   },
   "outputs": [],
   "source": [
    "# Función para definir diseño muestral\n",
    "diseño_muestral_l <- function(lista_datos) {\n",
    "  \n",
    "  lista_dm <- list()\n",
    "\n",
    "  for (anio in names(lista_datos)) {\n",
    "    datos <- lista_datos[[anio]]\n",
    "\n",
    "    diseño <- datos|>\n",
    "      as_survey_design(strata = EST_DIS,\n",
    "                       weights = FAC_ELE,\n",
    "                       ids = UPM_DIS,\n",
    "                       nest = TRUE)\n",
    "\n",
    "    lista_dm[[anio]] <- diseño \n",
    "  }\n",
    "\n",
    "  return(lista_dm)\n",
    "}"
   ]
  },
  {
   "cell_type": "code",
   "execution_count": 34,
   "id": "8aa0fc2b",
   "metadata": {
    "vscode": {
     "languageId": "r"
    }
   },
   "outputs": [],
   "source": [
    "#Función para obtener los porcentajes y totales con coeficiente de variación\n",
    "resultados_inseguridad <- function(lista_c_dm) {\n",
    "\n",
    "  resultados_l <- list()\n",
    "\n",
    "  for (anio in names(lista_c_dm)) {\n",
    "    datos <- lista_c_dm[[anio]]\n",
    "  \n",
    "  resultados <- datos|>\n",
    "                group_by(inse_t_publico) |>\n",
    "                summarise(tot_p_inseg_tp = survey_total(vartype = \"cv\"),\n",
    "                porcentaje = round(survey_prop(vartype = \"cv\") * 100,1))|>\n",
    "    filter(inse_t_publico == \"Se siente inseguro\")|>\n",
    "    select(inse_t_publico, porcentaje, porcentaje_cv)|>\n",
    "    mutate(ano = as.integer(anio),\n",
    "           tipo = \"Observado\")\n",
    "\n",
    "    resultados_l[[anio]] <- resultados \n",
    "  }\n",
    "  return(resultados_l)\n",
    "}"
   ]
  },
  {
   "cell_type": "code",
   "execution_count": 25,
   "id": "f56c5720",
   "metadata": {
    "vscode": {
     "languageId": "r"
    }
   },
   "outputs": [],
   "source": [
    "#Función para generar tendencias\n",
    "tendencias <- function(datos, anio_inicio, anio_base, proyecciones) {\n",
    "  \n",
    "  pct_inicio <- datos|> \n",
    "    dplyr::filter(ano == anio_inicio)|> \n",
    "    dplyr::pull(porcentaje)\n",
    "  \n",
    "  pct_base <- datos|> \n",
    "    dplyr::filter(ano == anio_base)|> \n",
    "    dplyr::pull(porcentaje)\n",
    "\n",
    "  #TCMA\n",
    "  tcma <- ((pct_base / pct_inicio)^(1 / (anio_base - anio_inicio))) - 1\n",
    "\n",
    "  # Definir condicionantes para cada escenario\n",
    "  escenarios <- c(Inercial = 1/4,\n",
    "                  Deseable = 1/2,\n",
    "                  Transformador = 3/4)\n",
    "\n",
    "  #Proyección para cada escenario\n",
    "  tendencias <- purrr::map_dfr(names(escenarios),\n",
    "               function(tipo) {\n",
    "               data.frame( ano = proyecciones,\n",
    "                           porcentaje = round(pct_base * (1 + escenarios[[tipo]] * tcma) ^ (proyecciones - anio_base), 2),\n",
    "                           tipo = tipo)\n",
    "                           }\n",
    "  )\n",
    "\n",
    "  #Agregar a los datos originales\n",
    "  datos_proyectados <- datos|>\n",
    "                       select(porcentaje, ano, tipo)|>  \n",
    "                       bind_rows(tendencias)|>\n",
    "    select(ano, porcentaje, tipo)\n",
    "\n",
    "  return(datos_proyectados)\n",
    "}"
   ]
  },
  {
   "cell_type": "code",
   "execution_count": 26,
   "id": "9aba6d8f",
   "metadata": {
    "vscode": {
     "languageId": "r"
    }
   },
   "outputs": [],
   "source": [
    "# Función para generar líneas de tendencia (para los gráficos)\n",
    "lineas_tendencia <- function(data, ano_base, ano_meta) {\n",
    "  tipos <- c(\"Inercial\", \"Deseable\", \"Transformador\")\n",
    "  \n",
    "  lineas <- map_dfr(tipos, function(tipo) {\n",
    "    porcentaje_base <- data$porcentaje[data$ano == ano_base & data$tipo == \"Observado\"]\n",
    "    porcentaje_meta <- data$porcentaje[data$ano == ano_meta & data$tipo == tipo]\n",
    "    \n",
    "    data.frame(ano = c(ano_base, ano_meta),\n",
    "               porcentaje = c(porcentaje_base, porcentaje_meta),\n",
    "               tipo = tipo)\n",
    "  })\n",
    "  \n",
    "  return(lineas)\n",
    "}\n"
   ]
  },
  {
   "cell_type": "code",
   "execution_count": 27,
   "id": "8f658dd1",
   "metadata": {
    "vscode": {
     "languageId": "r"
    }
   },
   "outputs": [],
   "source": [
    "#Leer datos de la ENVIPE\n",
    "lista_envipe_vic <- leer_envipe_vic(2016:2024)"
   ]
  },
  {
   "cell_type": "code",
   "execution_count": 28,
   "id": "8ab280c3",
   "metadata": {
    "vscode": {
     "languageId": "r"
    }
   },
   "outputs": [],
   "source": [
    "# Crear lista de diseño muestral para cada serie\n",
    "lista_dm <- diseño_muestral_l(lista_envipe_vic)"
   ]
  },
  {
   "cell_type": "code",
   "execution_count": 35,
   "id": "095cab96",
   "metadata": {
    "vscode": {
     "languageId": "r"
    }
   },
   "outputs": [
    {
     "data": {
      "text/html": [
       "<table class=\"dataframe\">\n",
       "<caption>A tibble: 9 × 6</caption>\n",
       "<thead>\n",
       "\t<tr><th scope=col>anio</th><th scope=col>inse_t_publico</th><th scope=col>porcentaje</th><th scope=col>porcentaje_cv</th><th scope=col>ano</th><th scope=col>tipo</th></tr>\n",
       "\t<tr><th scope=col>&lt;chr&gt;</th><th scope=col>&lt;chr&gt;</th><th scope=col>&lt;dbl&gt;</th><th scope=col>&lt;dbl&gt;</th><th scope=col>&lt;int&gt;</th><th scope=col>&lt;chr&gt;</th></tr>\n",
       "</thead>\n",
       "<tbody>\n",
       "\t<tr><td>2016</td><td>Se siente inseguro</td><td>87.2</td><td>1.1</td><td>2016</td><td>Observado</td></tr>\n",
       "\t<tr><td>2017</td><td>Se siente inseguro</td><td>90.1</td><td>0.6</td><td>2017</td><td>Observado</td></tr>\n",
       "\t<tr><td>2018</td><td>Se siente inseguro</td><td>90.7</td><td>0.5</td><td>2018</td><td>Observado</td></tr>\n",
       "\t<tr><td>2019</td><td>Se siente inseguro</td><td>91.5</td><td>0.5</td><td>2019</td><td>Observado</td></tr>\n",
       "\t<tr><td>2020</td><td>Se siente inseguro</td><td>87.9</td><td>0.6</td><td>2020</td><td>Observado</td></tr>\n",
       "\t<tr><td>2021</td><td>Se siente inseguro</td><td>88.3</td><td>0.6</td><td>2021</td><td>Observado</td></tr>\n",
       "\t<tr><td>2022</td><td>Se siente inseguro</td><td>86.1</td><td>0.7</td><td>2022</td><td>Observado</td></tr>\n",
       "\t<tr><td>2023</td><td>Se siente inseguro</td><td>80.7</td><td>0.8</td><td>2023</td><td>Observado</td></tr>\n",
       "\t<tr><td>2024</td><td>Se siente inseguro</td><td>77.8</td><td>0.9</td><td>2024</td><td>Observado</td></tr>\n",
       "</tbody>\n",
       "</table>\n"
      ],
      "text/latex": [
       "A tibble: 9 × 6\n",
       "\\begin{tabular}{llllll}\n",
       " anio & inse\\_t\\_publico & porcentaje & porcentaje\\_cv & ano & tipo\\\\\n",
       " <chr> & <chr> & <dbl> & <dbl> & <int> & <chr>\\\\\n",
       "\\hline\n",
       "\t 2016 & Se siente inseguro & 87.2 & 1.1 & 2016 & Observado\\\\\n",
       "\t 2017 & Se siente inseguro & 90.1 & 0.6 & 2017 & Observado\\\\\n",
       "\t 2018 & Se siente inseguro & 90.7 & 0.5 & 2018 & Observado\\\\\n",
       "\t 2019 & Se siente inseguro & 91.5 & 0.5 & 2019 & Observado\\\\\n",
       "\t 2020 & Se siente inseguro & 87.9 & 0.6 & 2020 & Observado\\\\\n",
       "\t 2021 & Se siente inseguro & 88.3 & 0.6 & 2021 & Observado\\\\\n",
       "\t 2022 & Se siente inseguro & 86.1 & 0.7 & 2022 & Observado\\\\\n",
       "\t 2023 & Se siente inseguro & 80.7 & 0.8 & 2023 & Observado\\\\\n",
       "\t 2024 & Se siente inseguro & 77.8 & 0.9 & 2024 & Observado\\\\\n",
       "\\end{tabular}\n"
      ],
      "text/markdown": [
       "\n",
       "A tibble: 9 × 6\n",
       "\n",
       "| anio &lt;chr&gt; | inse_t_publico &lt;chr&gt; | porcentaje &lt;dbl&gt; | porcentaje_cv &lt;dbl&gt; | ano &lt;int&gt; | tipo &lt;chr&gt; |\n",
       "|---|---|---|---|---|---|\n",
       "| 2016 | Se siente inseguro | 87.2 | 1.1 | 2016 | Observado |\n",
       "| 2017 | Se siente inseguro | 90.1 | 0.6 | 2017 | Observado |\n",
       "| 2018 | Se siente inseguro | 90.7 | 0.5 | 2018 | Observado |\n",
       "| 2019 | Se siente inseguro | 91.5 | 0.5 | 2019 | Observado |\n",
       "| 2020 | Se siente inseguro | 87.9 | 0.6 | 2020 | Observado |\n",
       "| 2021 | Se siente inseguro | 88.3 | 0.6 | 2021 | Observado |\n",
       "| 2022 | Se siente inseguro | 86.1 | 0.7 | 2022 | Observado |\n",
       "| 2023 | Se siente inseguro | 80.7 | 0.8 | 2023 | Observado |\n",
       "| 2024 | Se siente inseguro | 77.8 | 0.9 | 2024 | Observado |\n",
       "\n"
      ],
      "text/plain": [
       "  anio inse_t_publico     porcentaje porcentaje_cv ano  tipo     \n",
       "1 2016 Se siente inseguro 87.2       1.1           2016 Observado\n",
       "2 2017 Se siente inseguro 90.1       0.6           2017 Observado\n",
       "3 2018 Se siente inseguro 90.7       0.5           2018 Observado\n",
       "4 2019 Se siente inseguro 91.5       0.5           2019 Observado\n",
       "5 2020 Se siente inseguro 87.9       0.6           2020 Observado\n",
       "6 2021 Se siente inseguro 88.3       0.6           2021 Observado\n",
       "7 2022 Se siente inseguro 86.1       0.7           2022 Observado\n",
       "8 2023 Se siente inseguro 80.7       0.8           2023 Observado\n",
       "9 2024 Se siente inseguro 77.8       0.9           2024 Observado"
      ]
     },
     "metadata": {},
     "output_type": "display_data"
    }
   ],
   "source": [
    "# Aplica la función a la lista de diseños muestrales\n",
    "resultados_envipe <- resultados_inseguridad(lista_dm)\n",
    "#Convertir la lista a un data frame\n",
    "inseguridad_transporte_publico <- bind_rows(resultados_envipe, .id = \"anio\")\n",
    "#Mostrar los resultados\n",
    "inseguridad_transporte_publico"
   ]
  },
  {
   "cell_type": "code",
   "execution_count": 30,
   "id": "81a1a91f",
   "metadata": {
    "vscode": {
     "languageId": "r"
    }
   },
   "outputs": [
    {
     "data": {
      "text/html": [
       "<table class=\"dataframe\">\n",
       "<caption>A tibble: 18 × 3</caption>\n",
       "<thead>\n",
       "\t<tr><th scope=col>ano</th><th scope=col>porcentaje</th><th scope=col>tipo</th></tr>\n",
       "\t<tr><th scope=col>&lt;dbl&gt;</th><th scope=col>&lt;dbl&gt;</th><th scope=col>&lt;chr&gt;</th></tr>\n",
       "</thead>\n",
       "<tbody>\n",
       "\t<tr><td>2016</td><td>87.17603</td><td>Observado    </td></tr>\n",
       "\t<tr><td>2017</td><td>90.06787</td><td>Observado    </td></tr>\n",
       "\t<tr><td>2018</td><td>90.72703</td><td>Observado    </td></tr>\n",
       "\t<tr><td>2019</td><td>91.45405</td><td>Observado    </td></tr>\n",
       "\t<tr><td>2020</td><td>87.94672</td><td>Observado    </td></tr>\n",
       "\t<tr><td>2021</td><td>88.25421</td><td>Observado    </td></tr>\n",
       "\t<tr><td>2022</td><td>86.08960</td><td>Observado    </td></tr>\n",
       "\t<tr><td>2023</td><td>80.67437</td><td>Observado    </td></tr>\n",
       "\t<tr><td>2024</td><td>77.76181</td><td>Observado    </td></tr>\n",
       "\t<tr><td>2030</td><td>73.64000</td><td>Inercial     </td></tr>\n",
       "\t<tr><td>2035</td><td>70.38000</td><td>Inercial     </td></tr>\n",
       "\t<tr><td>2045</td><td>64.28000</td><td>Inercial     </td></tr>\n",
       "\t<tr><td>2030</td><td>69.71000</td><td>Deseable     </td></tr>\n",
       "\t<tr><td>2035</td><td>63.64000</td><td>Deseable     </td></tr>\n",
       "\t<tr><td>2045</td><td>53.04000</td><td>Deseable     </td></tr>\n",
       "\t<tr><td>2030</td><td>65.95000</td><td>Transformador</td></tr>\n",
       "\t<tr><td>2035</td><td>57.49000</td><td>Transformador</td></tr>\n",
       "\t<tr><td>2045</td><td>43.69000</td><td>Transformador</td></tr>\n",
       "</tbody>\n",
       "</table>\n"
      ],
      "text/latex": [
       "A tibble: 18 × 3\n",
       "\\begin{tabular}{lll}\n",
       " ano & porcentaje & tipo\\\\\n",
       " <dbl> & <dbl> & <chr>\\\\\n",
       "\\hline\n",
       "\t 2016 & 87.17603 & Observado    \\\\\n",
       "\t 2017 & 90.06787 & Observado    \\\\\n",
       "\t 2018 & 90.72703 & Observado    \\\\\n",
       "\t 2019 & 91.45405 & Observado    \\\\\n",
       "\t 2020 & 87.94672 & Observado    \\\\\n",
       "\t 2021 & 88.25421 & Observado    \\\\\n",
       "\t 2022 & 86.08960 & Observado    \\\\\n",
       "\t 2023 & 80.67437 & Observado    \\\\\n",
       "\t 2024 & 77.76181 & Observado    \\\\\n",
       "\t 2030 & 73.64000 & Inercial     \\\\\n",
       "\t 2035 & 70.38000 & Inercial     \\\\\n",
       "\t 2045 & 64.28000 & Inercial     \\\\\n",
       "\t 2030 & 69.71000 & Deseable     \\\\\n",
       "\t 2035 & 63.64000 & Deseable     \\\\\n",
       "\t 2045 & 53.04000 & Deseable     \\\\\n",
       "\t 2030 & 65.95000 & Transformador\\\\\n",
       "\t 2035 & 57.49000 & Transformador\\\\\n",
       "\t 2045 & 43.69000 & Transformador\\\\\n",
       "\\end{tabular}\n"
      ],
      "text/markdown": [
       "\n",
       "A tibble: 18 × 3\n",
       "\n",
       "| ano &lt;dbl&gt; | porcentaje &lt;dbl&gt; | tipo &lt;chr&gt; |\n",
       "|---|---|---|\n",
       "| 2016 | 87.17603 | Observado     |\n",
       "| 2017 | 90.06787 | Observado     |\n",
       "| 2018 | 90.72703 | Observado     |\n",
       "| 2019 | 91.45405 | Observado     |\n",
       "| 2020 | 87.94672 | Observado     |\n",
       "| 2021 | 88.25421 | Observado     |\n",
       "| 2022 | 86.08960 | Observado     |\n",
       "| 2023 | 80.67437 | Observado     |\n",
       "| 2024 | 77.76181 | Observado     |\n",
       "| 2030 | 73.64000 | Inercial      |\n",
       "| 2035 | 70.38000 | Inercial      |\n",
       "| 2045 | 64.28000 | Inercial      |\n",
       "| 2030 | 69.71000 | Deseable      |\n",
       "| 2035 | 63.64000 | Deseable      |\n",
       "| 2045 | 53.04000 | Deseable      |\n",
       "| 2030 | 65.95000 | Transformador |\n",
       "| 2035 | 57.49000 | Transformador |\n",
       "| 2045 | 43.69000 | Transformador |\n",
       "\n"
      ],
      "text/plain": [
       "   ano  porcentaje tipo         \n",
       "1  2016 87.17603   Observado    \n",
       "2  2017 90.06787   Observado    \n",
       "3  2018 90.72703   Observado    \n",
       "4  2019 91.45405   Observado    \n",
       "5  2020 87.94672   Observado    \n",
       "6  2021 88.25421   Observado    \n",
       "7  2022 86.08960   Observado    \n",
       "8  2023 80.67437   Observado    \n",
       "9  2024 77.76181   Observado    \n",
       "10 2030 73.64000   Inercial     \n",
       "11 2035 70.38000   Inercial     \n",
       "12 2045 64.28000   Inercial     \n",
       "13 2030 69.71000   Deseable     \n",
       "14 2035 63.64000   Deseable     \n",
       "15 2045 53.04000   Deseable     \n",
       "16 2030 65.95000   Transformador\n",
       "17 2035 57.49000   Transformador\n",
       "18 2045 43.69000   Transformador"
      ]
     },
     "metadata": {},
     "output_type": "display_data"
    }
   ],
   "source": [
    "#Escenarios inercial, deseable y tranformador\n",
    "inseguridad_transporte_tendencias <- tendencias(\n",
    "  datos = inseguridad_transporte_publico,\n",
    "  anio_inicio = 2023,\n",
    "  anio_base = 2024,\n",
    "  proyecciones = c(2030, 2035, 2045)\n",
    ")\n",
    "\n",
    "inseguridad_transporte_tendencias"
   ]
  },
  {
   "cell_type": "code",
   "execution_count": 31,
   "id": "d4f88689",
   "metadata": {
    "vscode": {
     "languageId": "r"
    }
   },
   "outputs": [
    {
     "data": {
      "text/html": [
       "<table class=\"dataframe\">\n",
       "<caption>A data.frame: 6 × 3</caption>\n",
       "<thead>\n",
       "\t<tr><th scope=col>ano</th><th scope=col>porcentaje</th><th scope=col>tipo</th></tr>\n",
       "\t<tr><th scope=col>&lt;dbl&gt;</th><th scope=col>&lt;dbl&gt;</th><th scope=col>&lt;chr&gt;</th></tr>\n",
       "</thead>\n",
       "<tbody>\n",
       "\t<tr><td>2024</td><td>77.76181</td><td>Inercial     </td></tr>\n",
       "\t<tr><td>2030</td><td>73.64000</td><td>Inercial     </td></tr>\n",
       "\t<tr><td>2024</td><td>77.76181</td><td>Deseable     </td></tr>\n",
       "\t<tr><td>2030</td><td>69.71000</td><td>Deseable     </td></tr>\n",
       "\t<tr><td>2024</td><td>77.76181</td><td>Transformador</td></tr>\n",
       "\t<tr><td>2030</td><td>65.95000</td><td>Transformador</td></tr>\n",
       "</tbody>\n",
       "</table>\n"
      ],
      "text/latex": [
       "A data.frame: 6 × 3\n",
       "\\begin{tabular}{lll}\n",
       " ano & porcentaje & tipo\\\\\n",
       " <dbl> & <dbl> & <chr>\\\\\n",
       "\\hline\n",
       "\t 2024 & 77.76181 & Inercial     \\\\\n",
       "\t 2030 & 73.64000 & Inercial     \\\\\n",
       "\t 2024 & 77.76181 & Deseable     \\\\\n",
       "\t 2030 & 69.71000 & Deseable     \\\\\n",
       "\t 2024 & 77.76181 & Transformador\\\\\n",
       "\t 2030 & 65.95000 & Transformador\\\\\n",
       "\\end{tabular}\n"
      ],
      "text/markdown": [
       "\n",
       "A data.frame: 6 × 3\n",
       "\n",
       "| ano &lt;dbl&gt; | porcentaje &lt;dbl&gt; | tipo &lt;chr&gt; |\n",
       "|---|---|---|\n",
       "| 2024 | 77.76181 | Inercial      |\n",
       "| 2030 | 73.64000 | Inercial      |\n",
       "| 2024 | 77.76181 | Deseable      |\n",
       "| 2030 | 69.71000 | Deseable      |\n",
       "| 2024 | 77.76181 | Transformador |\n",
       "| 2030 | 65.95000 | Transformador |\n",
       "\n"
      ],
      "text/plain": [
       "  ano  porcentaje tipo         \n",
       "1 2024 77.76181   Inercial     \n",
       "2 2030 73.64000   Inercial     \n",
       "3 2024 77.76181   Deseable     \n",
       "4 2030 69.71000   Deseable     \n",
       "5 2024 77.76181   Transformador\n",
       "6 2030 65.95000   Transformador"
      ]
     },
     "metadata": {},
     "output_type": "display_data"
    }
   ],
   "source": [
    "#Lineas de tendencia para los gráficos\n",
    "lineas <- lineas_tendencia(inseguridad_transporte_tendencias, \n",
    "                           ano_base = 2024, \n",
    "                           ano_meta = 2030)\n",
    "\n",
    "lineas"
   ]
  },
  {
   "cell_type": "code",
   "execution_count": 32,
   "id": "957d46ac",
   "metadata": {
    "vscode": {
     "languageId": "r"
    }
   },
   "outputs": [],
   "source": [
    "#Paleta de colores y tipos de línea\n",
    "paleta_colores <- c(\"Observado\" = \"#9F2241\",\n",
    "                    \"Inercial\" = \"#cfcfcf\" ,\n",
    "                    \"Deseable\" = \"#027A35\", \n",
    "                    \"Transformador\" = \"#AC6D14\")\n",
    "\n",
    "linetypes <- c(\"Observado\" = \"solid\",\n",
    "               \"Inercial\" = \"dotdash\",\n",
    "               \"Deseable\" = \"dotdash\", \n",
    "               \"Transformador\" = \"dotdash\")\n"
   ]
  },
  {
   "cell_type": "code",
   "execution_count": 33,
   "id": "0706b81f",
   "metadata": {
    "vscode": {
     "languageId": "r"
    }
   },
   "outputs": [
    {
     "data": {
      "image/png": "[encoded data removed]",
      "text/plain": [
       "plot without title"
      ]
     },
     "metadata": {
      "image/png": {
       "height": 420,
       "width": 420
      }
     },
     "output_type": "display_data"
    }
   ],
   "source": [
    "# Gráfico con etiquetas y eje Y personalizado\n",
    "ggplot(inseguridad_transporte_tendencias, aes(x = ano, y = porcentaje, group = tipo, color = tipo, linetype = tipo)) +\n",
    "  geom_line(linewidth = 1.2) +\n",
    "  geom_point(size = 1.5) +\n",
    "  geom_line(data = lineas, aes(x = ano, y = porcentaje, group = tipo), linewidth = 1.2) +\n",
    "  geom_text(aes(label = round(porcentaje, 1)),\n",
    "            position = position_nudge(y = 2),\n",
    "            size = 3, show.legend = FALSE) +\n",
    "  scale_color_manual(values = paleta_colores) +\n",
    "  scale_linetype_manual(values = linetypes) +\n",
    "  scale_y_continuous(breaks = seq(0, max(inseguridad_transporte_tendencias$porcentaje, na.rm = TRUE) +100, by = 50),\n",
    "                     labels = function(x) paste0(x, \"\"),\n",
    "                     expand = expansion(mult = c(0.09,0.5))) +\n",
    "  labs(title = \"\",\n",
    "       x = \"Año\",\n",
    "       y = \"Porcentaje\",\n",
    "       color = \"\",\n",
    "       linetype = \"\") +\n",
    "  theme_bw(base_size = 15) +\n",
    "  theme( panel.grid.minor.y = element_line(color = \"gray80\", linetype = \"dotted\"),\n",
    "         panel.grid.minor.x = element_blank(),\n",
    "         panel.grid.major.y = element_blank(),\n",
    "         panel.border = element_blank(),\n",
    "         axis.line = element_line(color = \"gray80\"),\n",
    "         legend.position = \"top\",\n",
    "         plot.caption = element_text(hjust = 100))\n",
    "\n",
    "#ggsave(\"inseguridad_transporte_tendencias.png\", width = 8, height = 5, dpi = 300)"
   ]
  }
 ],
 "metadata": {
  "kernelspec": {
   "display_name": "R",
   "language": "R",
   "name": "ir"
  },
  "language_info": {
   "codemirror_mode": "r",
   "file_extension": ".r",
   "mimetype": "text/x-r-source",
   "name": "R",
   "pygments_lexer": "r",
   "version": "4.4.3"
  }
 },
 "nbformat": 4,
 "nbformat_minor": 5
}
