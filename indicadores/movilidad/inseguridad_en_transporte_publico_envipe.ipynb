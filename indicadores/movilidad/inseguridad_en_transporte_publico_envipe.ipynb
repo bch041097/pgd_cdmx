{
 "cells": [
  {
   "cell_type": "markdown",
   "id": "232cdce3",
   "metadata": {},
   "source": [
    "**Porcentaje de población de la Ciudad de México que se siente inseguro en el transporte público**"
   ]
  },
  {
   "cell_type": "code",
   "execution_count": null,
   "id": "e6cbe703",
   "metadata": {
    "vscode": {
     "languageId": "r"
    }
   },
   "outputs": [],
   "source": [
    "rm(list=ls()) #Limpiar el entorno de trabajo\n",
    "#Librerías\n",
    "#if (require('pacman')) install.packages('pacman')\n",
    "pacman::p_load(tidyverse,\n",
    "               srvyr, \n",
    "               ggplot2, \n",
    "               purrr, \n",
    "               dplyr)"
   ]
  },
  {
   "cell_type": "code",
   "execution_count": null,
   "id": "699a64cf",
   "metadata": {
    "vscode": {
     "languageId": "r"
    }
   },
   "outputs": [],
   "source": [
    "#Función para leer los datos de la ENVIPE\n",
    "leer_envipe_vic <- function(anios) {\n",
    "\n",
    "  anios <- as.integer(anios)[anios %in% 2016:2024]\n",
    "  \n",
    "\n",
    "  data_list <- list()\n",
    "\n",
    "  for (anio in anios) {\n",
    "    url <- paste0(\"https://www.inegi.org.mx/contenidos/programas/envipe/\",\n",
    "                  anio,\n",
    "                 \"/microdatos/bd_envipe\",\n",
    "                 ifelse(anio < 2020, anio, paste0(\"_\", anio)),\n",
    "                 \"_dbf.zip\")\n",
    "\n",
    "    temp_zip <- tempfile(fileext = \".zip\")\n",
    "    temp_dir <- tempdir()\n",
    "    options(timeout = 1000)\n",
    "\n",
    "    result <- download.file(url, temp_zip, mode = \"wb\", quiet = TRUE)\n",
    "              unzip(temp_zip, exdir = temp_dir)\n",
    "\n",
    "    nombre <- list.files(temp_dir, pattern = \"TPer_Vic1.dbf\", \n",
    "                             full.names = TRUE, recursive = TRUE)\n",
    "                             \n",
    "    datos <- foreign::read.dbf(nombre)|>\n",
    "                  mutate(ENT = substr(ID_VIV, 1, 2),\n",
    "                        #Crear variable de interes para inseguridad en transporte público\n",
    "                        inse_t_publico = case_when(AP4_4_09 == \"2\" ~ \"Se siente inseguro\",\n",
    "                                                   AP4_4_09 == \"1\" ~ \"No se siente inseguro\",\n",
    "                                                   TRUE ~ \"No responde/No se sabe\"),\n",
    "                        FAC_ELE = as.numeric(FAC_ELE))|>\n",
    "                   #Filtrar para la Ciudad de México\n",
    "                   filter(ENT == \"09\")\n",
    "\n",
    "\n",
    "    #Poner los datos en una lista\n",
    "    data_list[[as.character(anio)]] <- datos\n",
    "\n",
    "    # Limpiar archivos temporales\n",
    "    unlink(temp_zip)\n",
    "    unlink(list.files(temp_dir, full.names = TRUE), recursive = TRUE)\n",
    "  }\n",
    "\n",
    "  return(data_list)\n",
    "}"
   ]
  },
  {
   "cell_type": "code",
   "execution_count": null,
   "id": "0c7456da",
   "metadata": {
    "vscode": {
     "languageId": "r"
    }
   },
   "outputs": [],
   "source": [
    "# Función para definir diseño muestral\n",
    "diseño_muestral_l <- function(lista_datos) {\n",
    "  \n",
    "  lista_dm <- list()\n",
    "\n",
    "  for (anio in names(lista_datos)) {\n",
    "    datos <- lista_datos[[anio]]\n",
    "\n",
    "    diseño <- datos|>\n",
    "      as_survey_design(strata = EST_DIS,\n",
    "                       weights = FAC_ELE,\n",
    "                       ids = UPM_DIS,\n",
    "                       nest = TRUE)\n",
    "\n",
    "    lista_dm[[anio]] <- diseño \n",
    "  }\n",
    "\n",
    "  return(lista_dm)\n",
    "}"
   ]
  },
  {
   "cell_type": "code",
   "execution_count": 150,
   "id": "8aa0fc2b",
   "metadata": {
    "vscode": {
     "languageId": "r"
    }
   },
   "outputs": [],
   "source": [
    "#Función para obtener los porcentajes y totales con coeficiente de variación\n",
    "resultados_inseguridad <- function(lista_c_dm) {\n",
    "\n",
    "  resultados_l <- list()\n",
    "\n",
    "  for (anio in names(lista_c_dm)) {\n",
    "    datos <- lista_c_dm[[anio]]\n",
    "  \n",
    "  resultados <- datos|>\n",
    "                group_by(inse_t_publico) |>\n",
    "                summarise(tot_p_inseg_tp = survey_total(vartype = \"cv\"),\n",
    "                porcentaje = survey_prop(vartype = \"cv\") * 100)|>\n",
    "    filter(inse_t_publico == \"Se siente inseguro\")|>\n",
    "    select(inse_t_publico, porcentaje, porcentaje_cv)|>\n",
    "    mutate(ano = as.integer(anio),\n",
    "           tipo = \"Observado\")\n",
    "\n",
    "    resultados_l[[anio]] <- resultados \n",
    "  }\n",
    "  return(resultados_l)\n",
    "}"
   ]
  },
  {
   "cell_type": "code",
   "execution_count": 151,
   "id": "f56c5720",
   "metadata": {
    "vscode": {
     "languageId": "r"
    }
   },
   "outputs": [],
   "source": [
    "#Función para generar tendencias\n",
    "tendencias <- function(datos, anio_inicio, anio_base, proyecciones) {\n",
    "  \n",
    "  pct_inicio <- datos|> \n",
    "    dplyr::filter(ano == anio_inicio)|> \n",
    "    dplyr::pull(porcentaje)\n",
    "  \n",
    "  pct_base <- datos|> \n",
    "    dplyr::filter(ano == anio_base)|> \n",
    "    dplyr::pull(porcentaje)\n",
    "\n",
    "  #TCMA\n",
    "  tcma <- ((pct_base / pct_inicio)^(1 / (anio_base - anio_inicio))) - 1\n",
    "\n",
    "  # Definir condicionantes para cada escenario\n",
    "  escenarios <- c(Inercial = 1/4,\n",
    "                  Deseable = 1/2,\n",
    "                  Transformador = 3/4)\n",
    "\n",
    "  #Proyección para cada escenario\n",
    "  tendencias <- purrr::map_dfr(names(escenarios),\n",
    "               function(tipo) {\n",
    "               data.frame( ano = proyecciones,\n",
    "                           porcentaje = round(pct_base * (1 + escenarios[[tipo]] * tcma) ^ (proyecciones - anio_base), 2),\n",
    "                           tipo = tipo)\n",
    "                           }\n",
    "  )\n",
    "\n",
    "  #Agregar a los datos originales\n",
    "  datos_proyectados <- datos|>\n",
    "                       select(porcentaje, ano, tipo)|>  \n",
    "                       bind_rows(tendencias)|>\n",
    "    select(ano, porcentaje, tipo)\n",
    "\n",
    "  return(datos_proyectados)\n",
    "}"
   ]
  },
  {
   "cell_type": "code",
   "execution_count": 152,
   "id": "9aba6d8f",
   "metadata": {
    "vscode": {
     "languageId": "r"
    }
   },
   "outputs": [],
   "source": [
    "# Función para generar líneas de tendencia (para los gráficos)\n",
    "lineas_tendencia <- function(data, ano_base, ano_meta) {\n",
    "  tipos <- c(\"Inercial\", \"Deseable\", \"Transformador\")\n",
    "  \n",
    "  lineas <- map_dfr(tipos, function(tipo) {\n",
    "    porcentaje_base <- data$porcentaje[data$ano == ano_base & data$tipo == \"Observado\"]\n",
    "    porcentaje_meta <- data$porcentaje[data$ano == ano_meta & data$tipo == tipo]\n",
    "    \n",
    "    data.frame(ano = c(ano_base, ano_meta),\n",
    "               porcentaje = c(porcentaje_base, porcentaje_meta),\n",
    "               tipo = tipo)\n",
    "  })\n",
    "  \n",
    "  return(lineas)\n",
    "}\n"
   ]
  },
  {
   "cell_type": "code",
   "execution_count": null,
   "id": "8f658dd1",
   "metadata": {
    "vscode": {
     "languageId": "r"
    }
   },
   "outputs": [],
   "source": [
    "#Leer datos de la ENVIPE\n",
    "lista_envipe_vic <- leer_envipe_vic(2016:2024)"
   ]
  },
  {
   "cell_type": "code",
   "execution_count": null,
   "id": "8ab280c3",
   "metadata": {
    "vscode": {
     "languageId": "r"
    }
   },
   "outputs": [],
   "source": [
    "# Crear lista de diseño muestral para cada serie\n",
    "lista_dm <- diseño_muestral_l(lista_envipe_vic)"
   ]
  },
  {
   "cell_type": "code",
   "execution_count": 156,
   "id": "095cab96",
   "metadata": {
    "vscode": {
     "languageId": "r"
    }
   },
   "outputs": [
    {
     "data": {
      "text/html": [
       "<table class=\"dataframe\">\n",
       "<caption>A tibble: 9 × 6</caption>\n",
       "<thead>\n",
       "\t<tr><th scope=col>anio</th><th scope=col>inse_t_publico</th><th scope=col>porcentaje</th><th scope=col>porcentaje_cv</th><th scope=col>ano</th><th scope=col>tipo</th></tr>\n",
       "\t<tr><th scope=col>&lt;chr&gt;</th><th scope=col>&lt;chr&gt;</th><th scope=col>&lt;dbl&gt;</th><th scope=col>&lt;dbl&gt;</th><th scope=col>&lt;int&gt;</th><th scope=col>&lt;chr&gt;</th></tr>\n",
       "</thead>\n",
       "<tbody>\n",
       "\t<tr><td>2016</td><td>Se siente inseguro</td><td>80.60519</td><td>1.4082352</td><td>2016</td><td>Observado</td></tr>\n",
       "\t<tr><td>2017</td><td>Se siente inseguro</td><td>82.35962</td><td>0.7553068</td><td>2017</td><td>Observado</td></tr>\n",
       "\t<tr><td>2018</td><td>Se siente inseguro</td><td>84.91200</td><td>0.6765671</td><td>2018</td><td>Observado</td></tr>\n",
       "\t<tr><td>2019</td><td>Se siente inseguro</td><td>85.64916</td><td>0.6471464</td><td>2019</td><td>Observado</td></tr>\n",
       "\t<tr><td>2020</td><td>Se siente inseguro</td><td>81.36069</td><td>0.7632120</td><td>2020</td><td>Observado</td></tr>\n",
       "\t<tr><td>2021</td><td>Se siente inseguro</td><td>78.94666</td><td>0.8212213</td><td>2021</td><td>Observado</td></tr>\n",
       "\t<tr><td>2022</td><td>Se siente inseguro</td><td>76.94005</td><td>0.8604793</td><td>2022</td><td>Observado</td></tr>\n",
       "\t<tr><td>2023</td><td>Se siente inseguro</td><td>73.48537</td><td>0.9727702</td><td>2023</td><td>Observado</td></tr>\n",
       "\t<tr><td>2024</td><td>Se siente inseguro</td><td>70.47885</td><td>1.0581312</td><td>2024</td><td>Observado</td></tr>\n",
       "</tbody>\n",
       "</table>\n"
      ],
      "text/latex": [
       "A tibble: 9 × 6\n",
       "\\begin{tabular}{llllll}\n",
       " anio & inse\\_t\\_publico & porcentaje & porcentaje\\_cv & ano & tipo\\\\\n",
       " <chr> & <chr> & <dbl> & <dbl> & <int> & <chr>\\\\\n",
       "\\hline\n",
       "\t 2016 & Se siente inseguro & 80.60519 & 1.4082352 & 2016 & Observado\\\\\n",
       "\t 2017 & Se siente inseguro & 82.35962 & 0.7553068 & 2017 & Observado\\\\\n",
       "\t 2018 & Se siente inseguro & 84.91200 & 0.6765671 & 2018 & Observado\\\\\n",
       "\t 2019 & Se siente inseguro & 85.64916 & 0.6471464 & 2019 & Observado\\\\\n",
       "\t 2020 & Se siente inseguro & 81.36069 & 0.7632120 & 2020 & Observado\\\\\n",
       "\t 2021 & Se siente inseguro & 78.94666 & 0.8212213 & 2021 & Observado\\\\\n",
       "\t 2022 & Se siente inseguro & 76.94005 & 0.8604793 & 2022 & Observado\\\\\n",
       "\t 2023 & Se siente inseguro & 73.48537 & 0.9727702 & 2023 & Observado\\\\\n",
       "\t 2024 & Se siente inseguro & 70.47885 & 1.0581312 & 2024 & Observado\\\\\n",
       "\\end{tabular}\n"
      ],
      "text/markdown": [
       "\n",
       "A tibble: 9 × 6\n",
       "\n",
       "| anio &lt;chr&gt; | inse_t_publico &lt;chr&gt; | porcentaje &lt;dbl&gt; | porcentaje_cv &lt;dbl&gt; | ano &lt;int&gt; | tipo &lt;chr&gt; |\n",
       "|---|---|---|---|---|---|\n",
       "| 2016 | Se siente inseguro | 80.60519 | 1.4082352 | 2016 | Observado |\n",
       "| 2017 | Se siente inseguro | 82.35962 | 0.7553068 | 2017 | Observado |\n",
       "| 2018 | Se siente inseguro | 84.91200 | 0.6765671 | 2018 | Observado |\n",
       "| 2019 | Se siente inseguro | 85.64916 | 0.6471464 | 2019 | Observado |\n",
       "| 2020 | Se siente inseguro | 81.36069 | 0.7632120 | 2020 | Observado |\n",
       "| 2021 | Se siente inseguro | 78.94666 | 0.8212213 | 2021 | Observado |\n",
       "| 2022 | Se siente inseguro | 76.94005 | 0.8604793 | 2022 | Observado |\n",
       "| 2023 | Se siente inseguro | 73.48537 | 0.9727702 | 2023 | Observado |\n",
       "| 2024 | Se siente inseguro | 70.47885 | 1.0581312 | 2024 | Observado |\n",
       "\n"
      ],
      "text/plain": [
       "  anio inse_t_publico     porcentaje porcentaje_cv ano  tipo     \n",
       "1 2016 Se siente inseguro 80.60519   1.4082352     2016 Observado\n",
       "2 2017 Se siente inseguro 82.35962   0.7553068     2017 Observado\n",
       "3 2018 Se siente inseguro 84.91200   0.6765671     2018 Observado\n",
       "4 2019 Se siente inseguro 85.64916   0.6471464     2019 Observado\n",
       "5 2020 Se siente inseguro 81.36069   0.7632120     2020 Observado\n",
       "6 2021 Se siente inseguro 78.94666   0.8212213     2021 Observado\n",
       "7 2022 Se siente inseguro 76.94005   0.8604793     2022 Observado\n",
       "8 2023 Se siente inseguro 73.48537   0.9727702     2023 Observado\n",
       "9 2024 Se siente inseguro 70.47885   1.0581312     2024 Observado"
      ]
     },
     "metadata": {},
     "output_type": "display_data"
    }
   ],
   "source": [
    "# Aplica la función a la lista de diseños muestrales\n",
    "resultados_envipe <- resultados_inseguridad(lista_dm)\n",
    "#Convertir la lista a un data frame\n",
    "inseguridad_transporte_publico <- bind_rows(resultados_envipe, .id = \"anio\")\n",
    "#Mostrar los resultados\n",
    "inseguridad_transporte_publico"
   ]
  },
  {
   "cell_type": "code",
   "execution_count": null,
   "id": "81a1a91f",
   "metadata": {
    "vscode": {
     "languageId": "r"
    }
   },
   "outputs": [
    {
     "data": {
      "text/html": [
       "<table class=\"dataframe\">\n",
       "<caption>A tibble: 18 × 3</caption>\n",
       "<thead>\n",
       "\t<tr><th scope=col>ano</th><th scope=col>porcentaje</th><th scope=col>tipo</th></tr>\n",
       "\t<tr><th scope=col>&lt;dbl&gt;</th><th scope=col>&lt;dbl&gt;</th><th scope=col>&lt;chr&gt;</th></tr>\n",
       "</thead>\n",
       "<tbody>\n",
       "\t<tr><td>2016</td><td>80.60519</td><td>Observado    </td></tr>\n",
       "\t<tr><td>2017</td><td>82.35962</td><td>Observado    </td></tr>\n",
       "\t<tr><td>2018</td><td>84.91200</td><td>Observado    </td></tr>\n",
       "\t<tr><td>2019</td><td>85.64916</td><td>Observado    </td></tr>\n",
       "\t<tr><td>2020</td><td>81.36069</td><td>Observado    </td></tr>\n",
       "\t<tr><td>2021</td><td>78.94666</td><td>Observado    </td></tr>\n",
       "\t<tr><td>2022</td><td>76.94005</td><td>Observado    </td></tr>\n",
       "\t<tr><td>2023</td><td>73.48537</td><td>Observado    </td></tr>\n",
       "\t<tr><td>2024</td><td>70.47885</td><td>Observado    </td></tr>\n",
       "\t<tr><td>2030</td><td>66.26000</td><td>Inercial     </td></tr>\n",
       "\t<tr><td>2035</td><td>62.94000</td><td>Inercial     </td></tr>\n",
       "\t<tr><td>2045</td><td>56.79000</td><td>Inercial     </td></tr>\n",
       "\t<tr><td>2030</td><td>62.26000</td><td>Deseable     </td></tr>\n",
       "\t<tr><td>2035</td><td>56.15000</td><td>Deseable     </td></tr>\n",
       "\t<tr><td>2045</td><td>45.66000</td><td>Deseable     </td></tr>\n",
       "\t<tr><td>2030</td><td>58.46000</td><td>Transformador</td></tr>\n",
       "\t<tr><td>2035</td><td>50.02000</td><td>Transformador</td></tr>\n",
       "\t<tr><td>2045</td><td>36.63000</td><td>Transformador</td></tr>\n",
       "</tbody>\n",
       "</table>\n"
      ],
      "text/latex": [
       "A tibble: 18 × 3\n",
       "\\begin{tabular}{lll}\n",
       " ano & porcentaje & tipo\\\\\n",
       " <dbl> & <dbl> & <chr>\\\\\n",
       "\\hline\n",
       "\t 2016 & 80.60519 & Observado    \\\\\n",
       "\t 2017 & 82.35962 & Observado    \\\\\n",
       "\t 2018 & 84.91200 & Observado    \\\\\n",
       "\t 2019 & 85.64916 & Observado    \\\\\n",
       "\t 2020 & 81.36069 & Observado    \\\\\n",
       "\t 2021 & 78.94666 & Observado    \\\\\n",
       "\t 2022 & 76.94005 & Observado    \\\\\n",
       "\t 2023 & 73.48537 & Observado    \\\\\n",
       "\t 2024 & 70.47885 & Observado    \\\\\n",
       "\t 2030 & 66.26000 & Inercial     \\\\\n",
       "\t 2035 & 62.94000 & Inercial     \\\\\n",
       "\t 2045 & 56.79000 & Inercial     \\\\\n",
       "\t 2030 & 62.26000 & Deseable     \\\\\n",
       "\t 2035 & 56.15000 & Deseable     \\\\\n",
       "\t 2045 & 45.66000 & Deseable     \\\\\n",
       "\t 2030 & 58.46000 & Transformador\\\\\n",
       "\t 2035 & 50.02000 & Transformador\\\\\n",
       "\t 2045 & 36.63000 & Transformador\\\\\n",
       "\\end{tabular}\n"
      ],
      "text/markdown": [
       "\n",
       "A tibble: 18 × 3\n",
       "\n",
       "| ano &lt;dbl&gt; | porcentaje &lt;dbl&gt; | tipo &lt;chr&gt; |\n",
       "|---|---|---|\n",
       "| 2016 | 80.60519 | Observado     |\n",
       "| 2017 | 82.35962 | Observado     |\n",
       "| 2018 | 84.91200 | Observado     |\n",
       "| 2019 | 85.64916 | Observado     |\n",
       "| 2020 | 81.36069 | Observado     |\n",
       "| 2021 | 78.94666 | Observado     |\n",
       "| 2022 | 76.94005 | Observado     |\n",
       "| 2023 | 73.48537 | Observado     |\n",
       "| 2024 | 70.47885 | Observado     |\n",
       "| 2030 | 66.26000 | Inercial      |\n",
       "| 2035 | 62.94000 | Inercial      |\n",
       "| 2045 | 56.79000 | Inercial      |\n",
       "| 2030 | 62.26000 | Deseable      |\n",
       "| 2035 | 56.15000 | Deseable      |\n",
       "| 2045 | 45.66000 | Deseable      |\n",
       "| 2030 | 58.46000 | Transformador |\n",
       "| 2035 | 50.02000 | Transformador |\n",
       "| 2045 | 36.63000 | Transformador |\n",
       "\n"
      ],
      "text/plain": [
       "   ano  porcentaje tipo         \n",
       "1  2016 80.60519   Observado    \n",
       "2  2017 82.35962   Observado    \n",
       "3  2018 84.91200   Observado    \n",
       "4  2019 85.64916   Observado    \n",
       "5  2020 81.36069   Observado    \n",
       "6  2021 78.94666   Observado    \n",
       "7  2022 76.94005   Observado    \n",
       "8  2023 73.48537   Observado    \n",
       "9  2024 70.47885   Observado    \n",
       "10 2030 66.26000   Inercial     \n",
       "11 2035 62.94000   Inercial     \n",
       "12 2045 56.79000   Inercial     \n",
       "13 2030 62.26000   Deseable     \n",
       "14 2035 56.15000   Deseable     \n",
       "15 2045 45.66000   Deseable     \n",
       "16 2030 58.46000   Transformador\n",
       "17 2035 50.02000   Transformador\n",
       "18 2045 36.63000   Transformador"
      ]
     },
     "metadata": {},
     "output_type": "display_data"
    }
   ],
   "source": [
    "#Escenarios inercial, deseable y tranformador\n",
    "inseguridad_transporte_tendencias <- tendencias(\n",
    "  datos = inseguridad_transporte_publico,\n",
    "  anio_inicio = 2023,\n",
    "  anio_base = 2024,\n",
    "  proyecciones = c(2030, 2035, 2045)\n",
    ")\n",
    "\n",
    "inseguridad_transporte_tendencias"
   ]
  },
  {
   "cell_type": "code",
   "execution_count": null,
   "id": "d4f88689",
   "metadata": {
    "vscode": {
     "languageId": "r"
    }
   },
   "outputs": [
    {
     "data": {
      "text/html": [
       "<table class=\"dataframe\">\n",
       "<caption>A data.frame: 6 × 3</caption>\n",
       "<thead>\n",
       "\t<tr><th scope=col>ano</th><th scope=col>porcentaje</th><th scope=col>tipo</th></tr>\n",
       "\t<tr><th scope=col>&lt;dbl&gt;</th><th scope=col>&lt;dbl&gt;</th><th scope=col>&lt;chr&gt;</th></tr>\n",
       "</thead>\n",
       "<tbody>\n",
       "\t<tr><td>2024</td><td>70.47885</td><td>Inercial     </td></tr>\n",
       "\t<tr><td>2030</td><td>66.26000</td><td>Inercial     </td></tr>\n",
       "\t<tr><td>2024</td><td>70.47885</td><td>Deseable     </td></tr>\n",
       "\t<tr><td>2030</td><td>62.26000</td><td>Deseable     </td></tr>\n",
       "\t<tr><td>2024</td><td>70.47885</td><td>Transformador</td></tr>\n",
       "\t<tr><td>2030</td><td>58.46000</td><td>Transformador</td></tr>\n",
       "</tbody>\n",
       "</table>\n"
      ],
      "text/latex": [
       "A data.frame: 6 × 3\n",
       "\\begin{tabular}{lll}\n",
       " ano & porcentaje & tipo\\\\\n",
       " <dbl> & <dbl> & <chr>\\\\\n",
       "\\hline\n",
       "\t 2024 & 70.47885 & Inercial     \\\\\n",
       "\t 2030 & 66.26000 & Inercial     \\\\\n",
       "\t 2024 & 70.47885 & Deseable     \\\\\n",
       "\t 2030 & 62.26000 & Deseable     \\\\\n",
       "\t 2024 & 70.47885 & Transformador\\\\\n",
       "\t 2030 & 58.46000 & Transformador\\\\\n",
       "\\end{tabular}\n"
      ],
      "text/markdown": [
       "\n",
       "A data.frame: 6 × 3\n",
       "\n",
       "| ano &lt;dbl&gt; | porcentaje &lt;dbl&gt; | tipo &lt;chr&gt; |\n",
       "|---|---|---|\n",
       "| 2024 | 70.47885 | Inercial      |\n",
       "| 2030 | 66.26000 | Inercial      |\n",
       "| 2024 | 70.47885 | Deseable      |\n",
       "| 2030 | 62.26000 | Deseable      |\n",
       "| 2024 | 70.47885 | Transformador |\n",
       "| 2030 | 58.46000 | Transformador |\n",
       "\n"
      ],
      "text/plain": [
       "  ano  porcentaje tipo         \n",
       "1 2024 70.47885   Inercial     \n",
       "2 2030 66.26000   Inercial     \n",
       "3 2024 70.47885   Deseable     \n",
       "4 2030 62.26000   Deseable     \n",
       "5 2024 70.47885   Transformador\n",
       "6 2030 58.46000   Transformador"
      ]
     },
     "metadata": {},
     "output_type": "display_data"
    }
   ],
   "source": [
    "#Lineas de tendencia para los gráficos\n",
    "lineas <- lineas_tendencia(inseguridad_transporte_tendencias, \n",
    "                           ano_base = 2024, \n",
    "                           ano_meta = 2030)\n",
    "\n",
    "lineas"
   ]
  },
  {
   "cell_type": "code",
   "execution_count": 159,
   "id": "957d46ac",
   "metadata": {
    "vscode": {
     "languageId": "r"
    }
   },
   "outputs": [],
   "source": [
    "#Paleta de colores y tipos de línea\n",
    "paleta_colores <- c(\"Observado\" = \"#9F2241\",\n",
    "                    \"Inercial\" = \"#cfcfcf\" ,\n",
    "                    \"Deseable\" = \"#027A35\", \n",
    "                    \"Transformador\" = \"#AC6D14\")\n",
    "\n",
    "linetypes <- c(\"Observado\" = \"solid\",\n",
    "               \"Inercial\" = \"dotdash\",\n",
    "               \"Deseable\" = \"dotdash\", \n",
    "               \"Transformador\" = \"dotdash\")\n"
   ]
  },
  {
   "cell_type": "code",
   "execution_count": 160,
   "id": "0706b81f",
   "metadata": {
    "vscode": {
     "languageId": "r"
    }
   },
   "outputs": [
    {
     "data": {
      "image/png": "[encoded data removed]",
      "text/plain": [
       "plot without title"
      ]
     },
     "metadata": {
      "image/png": {
       "height": 420,
       "width": 420
      }
     },
     "output_type": "display_data"
    }
   ],
   "source": [
    "# Gráfico con etiquetas y eje Y personalizado\n",
    "ggplot(inseguridad_transporte_tendencias, aes(x = ano, y = porcentaje, group = tipo, color = tipo, linetype = tipo)) +\n",
    "  geom_line(linewidth = 1.2) +\n",
    "  geom_point(size = 1.5) +\n",
    "  geom_line(data = lineas, aes(x = ano, y = porcentaje, group = tipo), linewidth = 1.2) +\n",
    "  geom_text(aes(label = round(porcentaje, 1)),\n",
    "            position = position_nudge(y = 2),\n",
    "            size = 3, show.legend = FALSE) +\n",
    "  scale_color_manual(values = paleta_colores) +\n",
    "  scale_linetype_manual(values = linetypes) +\n",
    "  scale_y_continuous(breaks = seq(0, max(inseguridad_transporte_tendencias$porcentaje, na.rm = TRUE) +100, by = 50),\n",
    "                     labels = function(x) paste0(x, \"\"),\n",
    "                     expand = expansion(mult = c(0.09,0.5))) +\n",
    "  labs(title = \"\",\n",
    "       x = \"Año\",\n",
    "       y = \"Porcentaje\",\n",
    "       color = \"\",\n",
    "       linetype = \"\") +\n",
    "  theme_bw(base_size = 15) +\n",
    "  theme( panel.grid.minor.y = element_line(color = \"gray80\", linetype = \"dotted\"),\n",
    "         panel.grid.minor.x = element_blank(),\n",
    "         panel.grid.major.y = element_blank(),\n",
    "         panel.border = element_blank(),\n",
    "         axis.line = element_line(color = \"gray80\"),\n",
    "         legend.position = \"top\",\n",
    "         plot.caption = element_text(hjust = 100))\n",
    "\n",
    "#ggsave(\"inseguridad_transporte_tendencias.png\", width = 8, height = 5, dpi = 300)"
   ]
  }
 ],
 "metadata": {
  "kernelspec": {
   "display_name": "R",
   "language": "R",
   "name": "ir"
  },
  "language_info": {
   "codemirror_mode": "r",
   "file_extension": ".r",
   "mimetype": "text/x-r-source",
   "name": "R",
   "pygments_lexer": "r",
   "version": "4.4.3"
  }
 },
 "nbformat": 4,
 "nbformat_minor": 5
}
