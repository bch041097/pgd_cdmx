{
 "cells": [
  {
   "cell_type": "markdown",
   "id": "6f5e113c",
   "metadata": {},
   "source": [
    "**Porcentaje de población que consdidera que existen rutas insuficientes de transporte público**"
   ]
  },
  {
   "cell_type": "code",
   "execution_count": 2,
   "id": "dd2a2461",
   "metadata": {
    "vscode": {
     "languageId": "r"
    }
   },
   "outputs": [
    {
     "name": "stderr",
     "output_type": "stream",
     "text": [
      "Cargando paquete requerido: pacman\n",
      "\n",
      "Warning message:\n",
      "\"package 'pacman' is in use and will not be installed\"\n"
     ]
    }
   ],
   "source": [
    "#Limpiar la zona de trabajo\n",
    "rm(list=ls())\n",
    "#Librerias\n",
    "if (require('pacman')) install.packages('pacman')\n",
    "pacman::p_load(tidyverse,\n",
    "               readr, \n",
    "               srvyr,\n",
    "               ggplot2)\n"
   ]
  },
  {
   "cell_type": "code",
   "execution_count": 3,
   "id": "8d2a2905",
   "metadata": {
    "vscode": {
     "languageId": "r"
    }
   },
   "outputs": [],
   "source": [
    "#Consideraciones----\n",
    "#Tiempo en linea\n",
    "options(timeout = 8000)\n",
    "options(survey.lonely.psu = \"certainty\") "
   ]
  },
  {
   "cell_type": "code",
   "execution_count": 4,
   "id": "b8ac324a",
   "metadata": {
    "vscode": {
     "languageId": "r"
    }
   },
   "outputs": [],
   "source": [
    "#Función para leer los datos de ENCIG\n",
    "leer_encig <- function(anio) { \n",
    "  # URLs de descarga\n",
    "  urls <- list(\n",
    "    \"2017\" = \"https://www.inegi.org.mx/contenidos/programas/encig/2017/microdatos/encig17_base_datos_dbf.zip\",\n",
    "    \"2019\" = \"https://www.inegi.org.mx/contenidos/programas/encig/2019/microdatos/encig19_base_datos_dbf.zip\",\n",
    "    \"2021\" = \"https://www.inegi.org.mx/contenidos/programas/encig/2021/microdatos/encig21_base_datos_dbf.zip\",\n",
    "    \"2023\" = \"https://www.inegi.org.mx/contenidos/programas/encig/2023/microdatos/encig23_base_datos_dbf.zip\"\n",
    "  )\n",
    "  \n",
    "  # Archivos temporales\n",
    "  temp_zip <- tempfile(fileext = \".zip\")\n",
    "  temp_dir <- tempdir()\n",
    "  \n",
    "  # Descargar y descomprimir\n",
    "  download.file(urls[[as.character(anio)]], temp_zip, mode = \"wb\")\n",
    "  unzip(temp_zip, exdir = temp_dir)\n",
    "  \n",
    "  # Sufijo según el año\n",
    "  sufijo <- if (anio %in% c(2017, 2019)) {\n",
    "    \"_3_4_5_8_9_10.dbf\"\n",
    "  } else {\n",
    "    \"_A_3_4_5_8_9_10.dbf\"\n",
    "  }\n",
    "  \n",
    "  # Nombre del archivo\n",
    "  nombre_dbf <- file.path(temp_dir, paste0(\"encig\", anio, \"_01_sec1\", sufijo))\n",
    "  \n",
    "  # Leer base\n",
    "  datos <- foreign::read.dbf(nombre_dbf, as.is = TRUE)\n",
    "  \n",
    "  return(datos)\n",
    "}\n",
    "\n"
   ]
  },
  {
   "cell_type": "code",
   "execution_count": 41,
   "id": "253d7766",
   "metadata": {
    "vscode": {
     "languageId": "r"
    }
   },
   "outputs": [],
   "source": [
    "# Función para crear variable dicotómica de rutas\n",
    "creacion_de_variable <- function(anio) {\n",
    "  \n",
    "  objeto_datos <- get(paste0(\"encig\", anio))\n",
    "  \n",
    "  vusuaria <- if (anio == 2023) {\n",
    "    \"P5_1_08\"\n",
    "  } else {\n",
    "    \"P5_1_7\"\n",
    "  }\n",
    "\n",
    "  objeto_datos |>\n",
    "    mutate(rutas = ifelse(.data[[vusuaria]] == \"1\", \"Usuaria\", \"No usuaria\"),\n",
    "           satis_rutas = case_when(P5_9_5 == \"1\" ~ \"Rutas suficientes\",\n",
    "                                   P5_9_5 %in% c(\"2\", \"9\") ~ \"Rutas insuficientes\",\n",
    "                                   TRUE ~ \"Respuesta no valida\"),\n",
    "      FAC_P18 = as.numeric(FAC_P18)) |>\n",
    "    filter(satis_rutas %in% c(\"Rutas suficientes\", \"Rutas insuficientes\"),\n",
    "           rutas == \"Usuaria\")\n",
    "}\n"
   ]
  },
  {
   "cell_type": "code",
   "execution_count": 42,
   "id": "77d47e33",
   "metadata": {
    "vscode": {
     "languageId": "r"
    }
   },
   "outputs": [],
   "source": [
    "#Función para definir el diseño muestral\n",
    "diseño_muestral <- function(anio) {\n",
    "  \n",
    "  objeto_datos <- get(paste0(\"encig_\", anio))\n",
    "  \n",
    "  as_survey_design(objeto_datos,\n",
    "                   strata = EST_DIS,\n",
    "                   weights = FAC_P18,\n",
    "                   ids = UPM_DIS,\n",
    "                   nest = TRUE)\n",
    "}"
   ]
  },
  {
   "cell_type": "code",
   "execution_count": 43,
   "id": "36c3bcf7",
   "metadata": {
    "vscode": {
     "languageId": "r"
    }
   },
   "outputs": [],
   "source": [
    "#Obtener porcentajes y totales con coeficiente de variación\n",
    "resultados <- function(anio) \n",
    "  {\n",
    "  datos <- get(paste0(\"s_rut\", anio))\n",
    "  \n",
    "  datos_dm <- datos |>\n",
    "    group_by(satis_rutas) |>\n",
    "    summarise(tot_p_rutas = survey_total(vartype = \"cv\"),\n",
    "              porcentaje = survey_prop(vartype = \"cv\") * 100)|>\n",
    "    filter(satis_rutas == \"Rutas suficientes\")|>\n",
    "    select(satis_rutas, tot_p_rutas, porcentaje, porcentaje_cv)\n",
    "  \n",
    "  return(datos_dm)\n",
    "}"
   ]
  },
  {
   "cell_type": "code",
   "execution_count": 16,
   "id": "276a3f6a",
   "metadata": {
    "vscode": {
     "languageId": "r"
    }
   },
   "outputs": [],
   "source": [
    "encig2017 <- leer_encig(2017)|>\n",
    "  filter(ENT == \"09\")\n",
    "encig2019 <- leer_encig(2019)|>\n",
    "  filter(ENT == \"09\")\n",
    "encig2021 <- leer_encig(2021)|>\n",
    "  filter(ENT == \"09\")\n",
    "encig2023 <- leer_encig(2023)|>\n",
    "  filter(CVE_ENT == \"09\")"
   ]
  },
  {
   "cell_type": "code",
   "execution_count": 44,
   "id": "c2dabe82",
   "metadata": {
    "vscode": {
     "languageId": "r"
    }
   },
   "outputs": [],
   "source": [
    "encig_2017<-creacion_de_variable(2017)\n",
    "encig_2019<-creacion_de_variable(2019)\n",
    "encig_2021<-creacion_de_variable(2021)\n",
    "encig_2023<-creacion_de_variable(2023)"
   ]
  },
  {
   "cell_type": "code",
   "execution_count": 45,
   "id": "a276713a",
   "metadata": {
    "vscode": {
     "languageId": "r"
    }
   },
   "outputs": [],
   "source": [
    "s_rut2017<-diseño_muestral(2017)\n",
    "s_rut2019<-diseño_muestral(2019)\n",
    "s_rut2021<-diseño_muestral(2021)\n",
    "s_rut2023<-diseño_muestral(2023)"
   ]
  },
  {
   "cell_type": "code",
   "execution_count": 46,
   "id": "663e884c",
   "metadata": {
    "vscode": {
     "languageId": "r"
    }
   },
   "outputs": [],
   "source": [
    "rutas_2017<-resultados(2017)|>\n",
    "  mutate(anio = 2017)\n",
    "rutas_2019<-resultados(2019)|>\n",
    "  mutate(anio = 2019)\n",
    "rutas_2021<-resultados(2021)|>\n",
    "  mutate(anio = 2021)\n",
    "rutas_2023<-resultados(2023)|>\n",
    "  mutate(anio = 2023)"
   ]
  },
  {
   "cell_type": "code",
   "execution_count": 47,
   "id": "5b0a1b6f",
   "metadata": {
    "vscode": {
     "languageId": "r"
    }
   },
   "outputs": [
    {
     "data": {
      "text/html": [
       "<table class=\"dataframe\">\n",
       "<caption>A tibble: 4 × 5</caption>\n",
       "<thead>\n",
       "\t<tr><th scope=col>satis_rutas</th><th scope=col>tot_p_rutas</th><th scope=col>porcentaje</th><th scope=col>porcentaje_cv</th><th scope=col>anio</th></tr>\n",
       "\t<tr><th scope=col>&lt;chr&gt;</th><th scope=col>&lt;dbl&gt;</th><th scope=col>&lt;dbl&gt;</th><th scope=col>&lt;dbl&gt;</th><th scope=col>&lt;dbl&gt;</th></tr>\n",
       "</thead>\n",
       "<tbody>\n",
       "\t<tr><td>Rutas suficientes</td><td>1883717</td><td>74.55978</td><td>1.668807</td><td>2017</td></tr>\n",
       "\t<tr><td>Rutas suficientes</td><td>2420058</td><td>81.39067</td><td>1.271356</td><td>2019</td></tr>\n",
       "\t<tr><td>Rutas suficientes</td><td>2371878</td><td>87.87689</td><td>1.039628</td><td>2021</td></tr>\n",
       "\t<tr><td>Rutas suficientes</td><td>3674292</td><td>73.32492</td><td>1.370789</td><td>2023</td></tr>\n",
       "</tbody>\n",
       "</table>\n"
      ],
      "text/latex": [
       "A tibble: 4 × 5\n",
       "\\begin{tabular}{lllll}\n",
       " satis\\_rutas & tot\\_p\\_rutas & porcentaje & porcentaje\\_cv & anio\\\\\n",
       " <chr> & <dbl> & <dbl> & <dbl> & <dbl>\\\\\n",
       "\\hline\n",
       "\t Rutas suficientes & 1883717 & 74.55978 & 1.668807 & 2017\\\\\n",
       "\t Rutas suficientes & 2420058 & 81.39067 & 1.271356 & 2019\\\\\n",
       "\t Rutas suficientes & 2371878 & 87.87689 & 1.039628 & 2021\\\\\n",
       "\t Rutas suficientes & 3674292 & 73.32492 & 1.370789 & 2023\\\\\n",
       "\\end{tabular}\n"
      ],
      "text/markdown": [
       "\n",
       "A tibble: 4 × 5\n",
       "\n",
       "| satis_rutas &lt;chr&gt; | tot_p_rutas &lt;dbl&gt; | porcentaje &lt;dbl&gt; | porcentaje_cv &lt;dbl&gt; | anio &lt;dbl&gt; |\n",
       "|---|---|---|---|---|\n",
       "| Rutas suficientes | 1883717 | 74.55978 | 1.668807 | 2017 |\n",
       "| Rutas suficientes | 2420058 | 81.39067 | 1.271356 | 2019 |\n",
       "| Rutas suficientes | 2371878 | 87.87689 | 1.039628 | 2021 |\n",
       "| Rutas suficientes | 3674292 | 73.32492 | 1.370789 | 2023 |\n",
       "\n"
      ],
      "text/plain": [
       "  satis_rutas       tot_p_rutas porcentaje porcentaje_cv anio\n",
       "1 Rutas suficientes 1883717     74.55978   1.668807      2017\n",
       "2 Rutas suficientes 2420058     81.39067   1.271356      2019\n",
       "3 Rutas suficientes 2371878     87.87689   1.039628      2021\n",
       "4 Rutas suficientes 3674292     73.32492   1.370789      2023"
      ]
     },
     "metadata": {},
     "output_type": "display_data"
    }
   ],
   "source": [
    "rutastot<-rutas_2017|>\n",
    "  bind_rows(rutas_2023, rutas_2019, rutas_2021)|>\n",
    "  arrange(anio)\n",
    "\n",
    "rutastot\n",
    "\n",
    "rutastot<-rutastot|>\n",
    "  select(porcentaje, anio)|>\n",
    "  mutate(tipo = \"Observado\")"
   ]
  },
  {
   "cell_type": "code",
   "execution_count": 68,
   "id": "d4bc74e7",
   "metadata": {
    "vscode": {
     "languageId": "r"
    }
   },
   "outputs": [],
   "source": [
    "rutastot_2023 <- rutastot |> filter(anio == 2023)\n",
    "rutastot_2017 <- rutastot |> filter(anio == 2017)"
   ]
  },
  {
   "cell_type": "code",
   "execution_count": 72,
   "id": "1046e3c5",
   "metadata": {
    "vscode": {
     "languageId": "r"
    }
   },
   "outputs": [
    {
     "data": {
      "text/html": [
       "-0.00175559671634984"
      ],
      "text/latex": [
       "-0.00175559671634984"
      ],
      "text/markdown": [
       "-0.00175559671634984"
      ],
      "text/plain": [
       "[1] -0.001755597"
      ]
     },
     "metadata": {},
     "output_type": "display_data"
    },
    {
     "data": {
      "text/html": [
       "73.3249211276993"
      ],
      "text/latex": [
       "73.3249211276993"
      ],
      "text/markdown": [
       "73.3249211276993"
      ],
      "text/plain": [
       "[1] 73.32492"
      ]
     },
     "metadata": {},
     "output_type": "display_data"
    },
    {
     "data": {
      "text/html": [
       "<table class=\"dataframe\">\n",
       "<caption>A tibble: 13 × 3</caption>\n",
       "<thead>\n",
       "\t<tr><th scope=col>anio</th><th scope=col>porcentaje</th><th scope=col>tipo</th></tr>\n",
       "\t<tr><th scope=col>&lt;dbl&gt;</th><th scope=col>&lt;dbl&gt;</th><th scope=col>&lt;chr&gt;</th></tr>\n",
       "</thead>\n",
       "<tbody>\n",
       "\t<tr><td>2017</td><td>74.10206</td><td>Observado    </td></tr>\n",
       "\t<tr><td>2019</td><td>81.74015</td><td>Observado    </td></tr>\n",
       "\t<tr><td>2021</td><td>88.79362</td><td>Observado    </td></tr>\n",
       "\t<tr><td>2023</td><td>73.32492</td><td>Observado    </td></tr>\n",
       "\t<tr><td>2030</td><td>73.03000</td><td>Inercial     </td></tr>\n",
       "\t<tr><td>2035</td><td>72.81000</td><td>Inercial     </td></tr>\n",
       "\t<tr><td>2045</td><td>72.39000</td><td>Inercial     </td></tr>\n",
       "\t<tr><td>2030</td><td>72.73000</td><td>Deseable     </td></tr>\n",
       "\t<tr><td>2035</td><td>72.30000</td><td>Deseable     </td></tr>\n",
       "\t<tr><td>2045</td><td>71.46000</td><td>Deseable     </td></tr>\n",
       "\t<tr><td>2030</td><td>72.43000</td><td>Transformador</td></tr>\n",
       "\t<tr><td>2035</td><td>71.80000</td><td>Transformador</td></tr>\n",
       "\t<tr><td>2045</td><td>70.54000</td><td>Transformador</td></tr>\n",
       "</tbody>\n",
       "</table>\n"
      ],
      "text/latex": [
       "A tibble: 13 × 3\n",
       "\\begin{tabular}{lll}\n",
       " anio & porcentaje & tipo\\\\\n",
       " <dbl> & <dbl> & <chr>\\\\\n",
       "\\hline\n",
       "\t 2017 & 74.10206 & Observado    \\\\\n",
       "\t 2019 & 81.74015 & Observado    \\\\\n",
       "\t 2021 & 88.79362 & Observado    \\\\\n",
       "\t 2023 & 73.32492 & Observado    \\\\\n",
       "\t 2030 & 73.03000 & Inercial     \\\\\n",
       "\t 2035 & 72.81000 & Inercial     \\\\\n",
       "\t 2045 & 72.39000 & Inercial     \\\\\n",
       "\t 2030 & 72.73000 & Deseable     \\\\\n",
       "\t 2035 & 72.30000 & Deseable     \\\\\n",
       "\t 2045 & 71.46000 & Deseable     \\\\\n",
       "\t 2030 & 72.43000 & Transformador\\\\\n",
       "\t 2035 & 71.80000 & Transformador\\\\\n",
       "\t 2045 & 70.54000 & Transformador\\\\\n",
       "\\end{tabular}\n"
      ],
      "text/markdown": [
       "\n",
       "A tibble: 13 × 3\n",
       "\n",
       "| anio &lt;dbl&gt; | porcentaje &lt;dbl&gt; | tipo &lt;chr&gt; |\n",
       "|---|---|---|\n",
       "| 2017 | 74.10206 | Observado     |\n",
       "| 2019 | 81.74015 | Observado     |\n",
       "| 2021 | 88.79362 | Observado     |\n",
       "| 2023 | 73.32492 | Observado     |\n",
       "| 2030 | 73.03000 | Inercial      |\n",
       "| 2035 | 72.81000 | Inercial      |\n",
       "| 2045 | 72.39000 | Inercial      |\n",
       "| 2030 | 72.73000 | Deseable      |\n",
       "| 2035 | 72.30000 | Deseable      |\n",
       "| 2045 | 71.46000 | Deseable      |\n",
       "| 2030 | 72.43000 | Transformador |\n",
       "| 2035 | 71.80000 | Transformador |\n",
       "| 2045 | 70.54000 | Transformador |\n",
       "\n"
      ],
      "text/plain": [
       "   anio porcentaje tipo         \n",
       "1  2017 74.10206   Observado    \n",
       "2  2019 81.74015   Observado    \n",
       "3  2021 88.79362   Observado    \n",
       "4  2023 73.32492   Observado    \n",
       "5  2030 73.03000   Inercial     \n",
       "6  2035 72.81000   Inercial     \n",
       "7  2045 72.39000   Inercial     \n",
       "8  2030 72.73000   Deseable     \n",
       "9  2035 72.30000   Deseable     \n",
       "10 2045 71.46000   Deseable     \n",
       "11 2030 72.43000   Transformador\n",
       "12 2035 71.80000   Transformador\n",
       "13 2045 70.54000   Transformador"
      ]
     },
     "metadata": {},
     "output_type": "display_data"
    }
   ],
   "source": [
    "##ESCENARIOS TENDENCIALES 2030,2035,2045\n",
    "# Tasa de variación\n",
    "tcma<-((rutastot_2023$porcentaje /rutastot_2017$porcentaje)^(1/(2023-2017)) - 1) \n",
    "tcma\n",
    "\n",
    "rutastot_base <- rutastot |>\n",
    "  filter(anio == 2023) |>\n",
    "  pull(porcentaje)\n",
    "\n",
    "rutastot_base\n",
    "\n",
    "# Años a proyectar\n",
    "años <- c(2030,2035,2045)\n",
    "año_base <- 2023\n",
    "\n",
    "tendencia_base <- data.frame(anio = años,\n",
    "                             porcentaje = round(rutastot_base * (1 + 1/3*tcma) ^ (años - año_base), 2),\n",
    "                             tipo = \"Inercial\")\n",
    "\n",
    "\n",
    "tendecia_deseable<-data.frame(anio = años,\n",
    "                              porcentaje = round(rutastot_base * (1 + 2/3*tcma) ^ (años - año_base), 2),\n",
    "                              tipo = \"Deseable\")\n",
    "\n",
    "\n",
    "tendecia_transformadora <-data.frame(anio = años,\n",
    "                                     porcentaje = round(rutastot_base * (1 + tcma) ^ (años - año_base), 2),\n",
    "                                     tipo = \"Transformador\")\n",
    "\n",
    "rutastot_tendencias <- rutastot|>\n",
    "  bind_rows(tendencia_base,tendecia_deseable, \n",
    "            tendecia_transformadora)|>\n",
    "  select(anio, porcentaje, tipo)\n",
    "\n",
    "rutastot_tendencias\n"
   ]
  },
  {
   "cell_type": "code",
   "execution_count": 73,
   "id": "3a1bae35",
   "metadata": {
    "vscode": {
     "languageId": "r"
    }
   },
   "outputs": [],
   "source": [
    "\n",
    "lineas <- bind_rows(data.frame(anio = c(2023, 2030),\n",
    "                               porcentaje = c(rutastot_tendencias$porcentaje[rutastot_tendencias$anio == 2023 & rutastot_tendencias$tipo == \"Observado\"],\n",
    "                                              rutastot_tendencias$porcentaje[rutastot_tendencias$anio == 2030 & rutastot_tendencias$tipo == \"Inercial\"]),\n",
    "                               tipo = \"Inercial\"),\n",
    "                    data.frame(anio = c(2023, 2030),\n",
    "                               porcentaje = c(rutastot_tendencias$porcentaje[rutastot_tendencias$anio == 2023 & rutastot_tendencias$tipo == \"Observado\"], \n",
    "                                              rutastot_tendencias$porcentaje[rutastot_tendencias$anio == 2030 & rutastot_tendencias$tipo == \"Deseable\"]),\n",
    "                               tipo = \"Deseable\"), \n",
    "                    data.frame(anio = c(2023, 2030),\n",
    "                               porcentaje = c(rutastot_tendencias$porcentaje[rutastot_tendencias$anio == 2023 & rutastot_tendencias$tipo == \"Observado\"], \n",
    "                                              rutastot_tendencias$porcentaje[rutastot_tendencias$anio == 2030 & rutastot_tendencias$tipo == \"Transformador\"]),\n",
    "                               tipo = \"Transformador\"))\n",
    "\n",
    "\n",
    "paleta_colores <- c(\"Observado\" = \"#9F2241\",\n",
    "                    \"Inercial\" = \"#cfcfcf\" ,\n",
    "                    \"Deseable\" = \"#027A35\", \n",
    "                    \"Transformador\" = \"#AC6D14\")\n",
    "\n",
    "linetypes <- c(\"Observado\" = \"solid\",\n",
    "               \"Inercial\" = \"dotdash\",\n",
    "               \"Deseable\" = \"dotdash\", \n",
    "               \"Transformador\" = \"dotdash\")\n",
    "\n"
   ]
  },
  {
   "cell_type": "code",
   "execution_count": 74,
   "id": "97f82de5",
   "metadata": {
    "vscode": {
     "languageId": "r"
    }
   },
   "outputs": [
    {
     "data": {
      "image/png": "[encoded data removed]",
      "text/plain": [
       "plot without title"
      ]
     },
     "metadata": {
      "image/png": {
       "height": 420,
       "width": 420
      }
     },
     "output_type": "display_data"
    }
   ],
   "source": [
    "\n",
    "# Gráfico con etiquetas y eje Y personalizado\n",
    "ggplot(rutastot_tendencias, aes(x = anio, y = porcentaje, group = tipo, color = tipo, linetype = tipo)) +\n",
    "  geom_line(linewidth = 1.2) +\n",
    "  geom_point(size = 1.5) +\n",
    "  geom_line(data = lineas, aes(x = anio, y = porcentaje, group = tipo), linewidth = 1.2) +\n",
    "  geom_text(aes(label = round(porcentaje, 1)),\n",
    "            position = position_nudge(y = 2),\n",
    "            size = 3, show.legend = FALSE) +\n",
    "  scale_color_manual(values = paleta_colores) +\n",
    "  scale_linetype_manual(values = linetypes) +\n",
    "  scale_y_continuous(breaks = seq(0, max(rutastot_tendencias$porcentaje, na.rm = TRUE) +100, by = 50),\n",
    "                     labels = function(x) paste0(x, \"\"),\n",
    "                     expand = expansion(mult = c(0.09,0.5))) +\n",
    "  labs(title = \"\",\n",
    "       x = \"Año\",\n",
    "       y = \"Porcentaje\",\n",
    "       color = \"\",\n",
    "       linetype = \"\") +\n",
    "  theme_bw(base_size = 15) +\n",
    "  theme( panel.grid.minor.y = element_line(color = \"gray80\", linetype = \"dotted\"),\n",
    "         panel.grid.minor.x = element_blank(),\n",
    "         panel.grid.major.y = element_blank(),\n",
    "         panel.border = element_blank(),\n",
    "         axis.line = element_line(color = \"gray80\"),\n",
    "         legend.position = \"top\",\n",
    "         plot.caption = element_text(hjust = 100))\n",
    "\n",
    "#ggsave(\"rutastot_tendencias.png\", width = 8, height = 5, dpi = 300)"
   ]
  }
 ],
 "metadata": {
  "kernelspec": {
   "display_name": "R",
   "language": "R",
   "name": "ir"
  },
  "language_info": {
   "codemirror_mode": "r",
   "file_extension": ".r",
   "mimetype": "text/x-r-source",
   "name": "R",
   "pygments_lexer": "r",
   "version": "4.4.3"
  }
 },
 "nbformat": 4,
 "nbformat_minor": 5
}
