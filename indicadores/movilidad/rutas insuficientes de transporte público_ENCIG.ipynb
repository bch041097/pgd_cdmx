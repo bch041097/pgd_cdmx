{
 "cells": [
  {
   "cell_type": "markdown",
   "id": "6f5e113c",
   "metadata": {},
   "source": [
    "**Porcentaje de población que consdidera que existen rutas insuficientes de transporte público**"
   ]
  },
  {
   "cell_type": "code",
   "execution_count": 1,
   "id": "dd2a2461",
   "metadata": {
    "vscode": {
     "languageId": "r"
    }
   },
   "outputs": [
    {
     "name": "stderr",
     "output_type": "stream",
     "text": [
      "Cargando paquete requerido: pacman\n",
      "\n",
      "Warning message:\n",
      "\"package 'pacman' is in use and will not be installed\"\n"
     ]
    }
   ],
   "source": [
    "#Limpiar la zona de trabajo\n",
    "rm(list=ls())\n",
    "#Librerias\n",
    "if (require('pacman')) install.packages('pacman')\n",
    "pacman::p_load(tidyverse,\n",
    "               readr, \n",
    "               srvyr,\n",
    "               ggplot2)\n"
   ]
  },
  {
   "cell_type": "code",
   "execution_count": 2,
   "id": "8d2a2905",
   "metadata": {
    "vscode": {
     "languageId": "r"
    }
   },
   "outputs": [],
   "source": [
    "#Consideraciones----\n",
    "#Tiempo en linea\n",
    "options(timeout = 8000)\n",
    "options(survey.lonely.psu = \"certainty\") "
   ]
  },
  {
   "cell_type": "code",
   "execution_count": 3,
   "id": "b8ac324a",
   "metadata": {
    "vscode": {
     "languageId": "r"
    }
   },
   "outputs": [],
   "source": [
    "#Función para leer los datos de ENCIG\n",
    "leer_encig <- function(anio) { \n",
    "  # URLs de descarga\n",
    "  urls <- list(\n",
    "    \"2017\" = \"https://www.inegi.org.mx/contenidos/programas/encig/2017/microdatos/encig17_base_datos_dbf.zip\",\n",
    "    \"2019\" = \"https://www.inegi.org.mx/contenidos/programas/encig/2019/microdatos/encig19_base_datos_dbf.zip\",\n",
    "    \"2021\" = \"https://www.inegi.org.mx/contenidos/programas/encig/2021/microdatos/encig21_base_datos_dbf.zip\",\n",
    "    \"2023\" = \"https://www.inegi.org.mx/contenidos/programas/encig/2023/microdatos/encig23_base_datos_dbf.zip\"\n",
    "  )\n",
    "  \n",
    "  # Archivos temporales\n",
    "  temp_zip <- tempfile(fileext = \".zip\")\n",
    "  temp_dir <- tempdir()\n",
    "  \n",
    "  # Descargar y descomprimir\n",
    "  download.file(urls[[as.character(anio)]], temp_zip, mode = \"wb\")\n",
    "  unzip(temp_zip, exdir = temp_dir)\n",
    "  \n",
    "  # Sufijo según el año\n",
    "  sufijo <- if (anio %in% c(2017, 2019)) {\n",
    "    \"_3_4_5_8_9_10.dbf\"\n",
    "  } else {\n",
    "    \"_A_3_4_5_8_9_10.dbf\"\n",
    "  }\n",
    "  \n",
    "  # Nombre del archivo\n",
    "  nombre_dbf <- file.path(temp_dir, paste0(\"encig\", anio, \"_01_sec1\", sufijo))\n",
    "  \n",
    "  # Leer base\n",
    "  datos <- foreign::read.dbf(nombre_dbf, as.is = TRUE)\n",
    "  \n",
    "  return(datos)\n",
    "}\n",
    "\n"
   ]
  },
  {
   "cell_type": "code",
   "execution_count": 4,
   "id": "253d7766",
   "metadata": {
    "vscode": {
     "languageId": "r"
    }
   },
   "outputs": [],
   "source": [
    "##función para crear variable dicotómica de rutas\n",
    "creacion_de_variable <- function(anio) {\n",
    "  \n",
    "  objeto_datos <- get(paste0(\"encig\", anio))\n",
    "  \n",
    "  mutate(objeto_datos, \n",
    "         rutas = ifelse(P5_9_5 %in% c(\"1\",\"2\") & P5_10_5 %in% c(\"1\",\"2\"), \"Con respuesta\",\"Sin respuesta\"))|>\n",
    "  filter(rutas == \"Con respuesta\")|>\n",
    "  mutate(satis_rutas = ifelse(P5_9_5 == \"1\" & P5_10_5 == \"1\", \"Rutas suficientes\", \"Rutas insuficientes\"), \n",
    "         FAC_P18= as.numeric(FAC_P18), \n",
    "         año = anio)\n",
    "\n",
    "}"
   ]
  },
  {
   "cell_type": "code",
   "execution_count": 5,
   "id": "77d47e33",
   "metadata": {
    "vscode": {
     "languageId": "r"
    }
   },
   "outputs": [],
   "source": [
    "#Función para definir el diseño muestral\n",
    "diseño_muestral <- function(anio) {\n",
    "  \n",
    "  objeto_datos <- get(paste0(\"encig\", anio))\n",
    "  \n",
    "  as_survey_design(objeto_datos,\n",
    "                   strata = EST_DIS,\n",
    "                   weights = FAC_P18,\n",
    "                   ids = UPM_DIS,\n",
    "                   nest = TRUE)\n",
    "}"
   ]
  },
  {
   "cell_type": "code",
   "execution_count": 6,
   "id": "36c3bcf7",
   "metadata": {
    "vscode": {
     "languageId": "r"
    }
   },
   "outputs": [],
   "source": [
    "#Obtener porcentajes y totales con coeficiente de variación\n",
    "resultados <- function(anio) \n",
    "  {\n",
    "  datos <- get(paste0(\"s_rut\", anio))\n",
    "  \n",
    "  datos_dm <- datos |>\n",
    "    group_by(satis_rutas) |>\n",
    "    summarise(tot_p_rutas = survey_total(vartype = \"cv\"),\n",
    "              porcentaje = survey_prop(vartype = \"cv\") * 100)|>\n",
    "    filter(satis_rutas == \"Rutas insuficientes\")|>\n",
    "    select(satis_rutas, tot_p_rutas, porcentaje, porcentaje_cv)\n",
    "  \n",
    "  return(datos_dm)\n",
    "}"
   ]
  },
  {
   "cell_type": "code",
   "execution_count": 7,
   "id": "276a3f6a",
   "metadata": {
    "vscode": {
     "languageId": "r"
    }
   },
   "outputs": [],
   "source": [
    "encig2017 <- leer_encig(2017)|>\n",
    "  filter(ENT == \"09\")\n",
    "encig2019 <- leer_encig(2019)|>\n",
    "  filter(ENT == \"09\")\n",
    "encig2021 <- leer_encig(2021)|>\n",
    "  filter(ENT == \"09\")\n",
    "encig2023 <- leer_encig(2023)|>\n",
    "  filter(CVE_ENT == \"09\")"
   ]
  },
  {
   "cell_type": "code",
   "execution_count": 8,
   "id": "c2dabe82",
   "metadata": {
    "vscode": {
     "languageId": "r"
    }
   },
   "outputs": [],
   "source": [
    "encig2017<-creacion_de_variable(2017)\n",
    "encig2019<-creacion_de_variable(2019)\n",
    "encig2021<-creacion_de_variable(2021)\n",
    "encig2023<-creacion_de_variable(2023)"
   ]
  },
  {
   "cell_type": "code",
   "execution_count": 9,
   "id": "a276713a",
   "metadata": {
    "vscode": {
     "languageId": "r"
    }
   },
   "outputs": [],
   "source": [
    "s_rut2017<-diseño_muestral(2017)\n",
    "s_rut2019<-diseño_muestral(2019)\n",
    "s_rut2021<-diseño_muestral(2021)\n",
    "s_rut2023<-diseño_muestral(2023)"
   ]
  },
  {
   "cell_type": "code",
   "execution_count": 10,
   "id": "663e884c",
   "metadata": {
    "vscode": {
     "languageId": "r"
    }
   },
   "outputs": [],
   "source": [
    "rutas_2017<-resultados(2017)|>\n",
    "  mutate(anio = 2017)\n",
    "rutas_2019<-resultados(2019)|>\n",
    "  mutate(anio = 2019)\n",
    "rutas_2021<-resultados(2021)|>\n",
    "  mutate(anio = 2021)\n",
    "rutas_2023<-resultados(2023)|>\n",
    "  mutate(anio = 2023)"
   ]
  },
  {
   "cell_type": "code",
   "execution_count": 11,
   "id": "5b0a1b6f",
   "metadata": {
    "vscode": {
     "languageId": "r"
    }
   },
   "outputs": [
    {
     "data": {
      "text/html": [
       "<table class=\"dataframe\">\n",
       "<caption>A tibble: 4 × 5</caption>\n",
       "<thead>\n",
       "\t<tr><th scope=col>satis_rutas</th><th scope=col>tot_p_rutas</th><th scope=col>porcentaje</th><th scope=col>porcentaje_cv</th><th scope=col>anio</th></tr>\n",
       "\t<tr><th scope=col>&lt;chr&gt;</th><th scope=col>&lt;dbl&gt;</th><th scope=col>&lt;dbl&gt;</th><th scope=col>&lt;dbl&gt;</th><th scope=col>&lt;dbl&gt;</th></tr>\n",
       "</thead>\n",
       "<tbody>\n",
       "\t<tr><td>Rutas insuficientes</td><td>1819829</td><td>72.81859</td><td>1.751930</td><td>2017</td></tr>\n",
       "\t<tr><td>Rutas insuficientes</td><td>2128141</td><td>67.77856</td><td>1.733339</td><td>2019</td></tr>\n",
       "\t<tr><td>Rutas insuficientes</td><td>1763601</td><td>63.64229</td><td>2.039425</td><td>2021</td></tr>\n",
       "\t<tr><td>Rutas insuficientes</td><td>1163727</td><td>33.20131</td><td>3.628379</td><td>2023</td></tr>\n",
       "</tbody>\n",
       "</table>\n"
      ],
      "text/latex": [
       "A tibble: 4 × 5\n",
       "\\begin{tabular}{lllll}\n",
       " satis\\_rutas & tot\\_p\\_rutas & porcentaje & porcentaje\\_cv & anio\\\\\n",
       " <chr> & <dbl> & <dbl> & <dbl> & <dbl>\\\\\n",
       "\\hline\n",
       "\t Rutas insuficientes & 1819829 & 72.81859 & 1.751930 & 2017\\\\\n",
       "\t Rutas insuficientes & 2128141 & 67.77856 & 1.733339 & 2019\\\\\n",
       "\t Rutas insuficientes & 1763601 & 63.64229 & 2.039425 & 2021\\\\\n",
       "\t Rutas insuficientes & 1163727 & 33.20131 & 3.628379 & 2023\\\\\n",
       "\\end{tabular}\n"
      ],
      "text/markdown": [
       "\n",
       "A tibble: 4 × 5\n",
       "\n",
       "| satis_rutas &lt;chr&gt; | tot_p_rutas &lt;dbl&gt; | porcentaje &lt;dbl&gt; | porcentaje_cv &lt;dbl&gt; | anio &lt;dbl&gt; |\n",
       "|---|---|---|---|---|\n",
       "| Rutas insuficientes | 1819829 | 72.81859 | 1.751930 | 2017 |\n",
       "| Rutas insuficientes | 2128141 | 67.77856 | 1.733339 | 2019 |\n",
       "| Rutas insuficientes | 1763601 | 63.64229 | 2.039425 | 2021 |\n",
       "| Rutas insuficientes | 1163727 | 33.20131 | 3.628379 | 2023 |\n",
       "\n"
      ],
      "text/plain": [
       "  satis_rutas         tot_p_rutas porcentaje porcentaje_cv anio\n",
       "1 Rutas insuficientes 1819829     72.81859   1.751930      2017\n",
       "2 Rutas insuficientes 2128141     67.77856   1.733339      2019\n",
       "3 Rutas insuficientes 1763601     63.64229   2.039425      2021\n",
       "4 Rutas insuficientes 1163727     33.20131   3.628379      2023"
      ]
     },
     "metadata": {},
     "output_type": "display_data"
    }
   ],
   "source": [
    "rutastot<-rutas_2017|>\n",
    "  bind_rows(rutas_2023, rutas_2019, rutas_2021)|>\n",
    "  arrange(anio)\n",
    "\n",
    "rutastot\n",
    "\n",
    "rutastot<-rutastot|>\n",
    "  select(porcentaje, anio)|>\n",
    "  mutate(tipo = \"Observado\")"
   ]
  },
  {
   "cell_type": "code",
   "execution_count": 12,
   "id": "d4bc74e7",
   "metadata": {
    "vscode": {
     "languageId": "r"
    }
   },
   "outputs": [],
   "source": [
    "rutastot_2023 <- rutastot |> filter(anio == 2023)\n",
    "rutastot_2017 <- rutastot |> filter(anio == 2017)"
   ]
  },
  {
   "cell_type": "code",
   "execution_count": 17,
   "id": "1046e3c5",
   "metadata": {
    "vscode": {
     "languageId": "r"
    }
   },
   "outputs": [
    {
     "data": {
      "text/html": [
       "-0.122691835161667"
      ],
      "text/latex": [
       "-0.122691835161667"
      ],
      "text/markdown": [
       "-0.122691835161667"
      ],
      "text/plain": [
       "[1] -0.1226918"
      ]
     },
     "metadata": {},
     "output_type": "display_data"
    },
    {
     "data": {
      "text/html": [
       "33.2013147838085"
      ],
      "text/latex": [
       "33.2013147838085"
      ],
      "text/markdown": [
       "33.2013147838085"
      ],
      "text/plain": [
       "[1] 33.20131"
      ]
     },
     "metadata": {},
     "output_type": "display_data"
    },
    {
     "data": {
      "text/html": [
       "<table class=\"dataframe\">\n",
       "<caption>A tibble: 13 × 3</caption>\n",
       "<thead>\n",
       "\t<tr><th scope=col>anio</th><th scope=col>porcentaje</th><th scope=col>tipo</th></tr>\n",
       "\t<tr><th scope=col>&lt;dbl&gt;</th><th scope=col>&lt;dbl&gt;</th><th scope=col>&lt;chr&gt;</th></tr>\n",
       "</thead>\n",
       "<tbody>\n",
       "\t<tr><td>2017</td><td>72.81859</td><td>Observado    </td></tr>\n",
       "\t<tr><td>2019</td><td>67.77856</td><td>Observado    </td></tr>\n",
       "\t<tr><td>2021</td><td>63.64229</td><td>Observado    </td></tr>\n",
       "\t<tr><td>2023</td><td>33.20131</td><td>Observado    </td></tr>\n",
       "\t<tr><td>2030</td><td>26.70000</td><td>Inercial     </td></tr>\n",
       "\t<tr><td>2035</td><td>22.85000</td><td>Inercial     </td></tr>\n",
       "\t<tr><td>2045</td><td>16.73000</td><td>Inercial     </td></tr>\n",
       "\t<tr><td>2030</td><td>21.32000</td><td>Deseable     </td></tr>\n",
       "\t<tr><td>2035</td><td>15.53000</td><td>Deseable     </td></tr>\n",
       "\t<tr><td>2045</td><td> 8.25000</td><td>Deseable     </td></tr>\n",
       "\t<tr><td>2030</td><td>16.89000</td><td>Transformador</td></tr>\n",
       "\t<tr><td>2035</td><td>10.43000</td><td>Transformador</td></tr>\n",
       "\t<tr><td>2045</td><td> 3.97000</td><td>Transformador</td></tr>\n",
       "</tbody>\n",
       "</table>\n"
      ],
      "text/latex": [
       "A tibble: 13 × 3\n",
       "\\begin{tabular}{lll}\n",
       " anio & porcentaje & tipo\\\\\n",
       " <dbl> & <dbl> & <chr>\\\\\n",
       "\\hline\n",
       "\t 2017 & 72.81859 & Observado    \\\\\n",
       "\t 2019 & 67.77856 & Observado    \\\\\n",
       "\t 2021 & 63.64229 & Observado    \\\\\n",
       "\t 2023 & 33.20131 & Observado    \\\\\n",
       "\t 2030 & 26.70000 & Inercial     \\\\\n",
       "\t 2035 & 22.85000 & Inercial     \\\\\n",
       "\t 2045 & 16.73000 & Inercial     \\\\\n",
       "\t 2030 & 21.32000 & Deseable     \\\\\n",
       "\t 2035 & 15.53000 & Deseable     \\\\\n",
       "\t 2045 &  8.25000 & Deseable     \\\\\n",
       "\t 2030 & 16.89000 & Transformador\\\\\n",
       "\t 2035 & 10.43000 & Transformador\\\\\n",
       "\t 2045 &  3.97000 & Transformador\\\\\n",
       "\\end{tabular}\n"
      ],
      "text/markdown": [
       "\n",
       "A tibble: 13 × 3\n",
       "\n",
       "| anio &lt;dbl&gt; | porcentaje &lt;dbl&gt; | tipo &lt;chr&gt; |\n",
       "|---|---|---|\n",
       "| 2017 | 72.81859 | Observado     |\n",
       "| 2019 | 67.77856 | Observado     |\n",
       "| 2021 | 63.64229 | Observado     |\n",
       "| 2023 | 33.20131 | Observado     |\n",
       "| 2030 | 26.70000 | Inercial      |\n",
       "| 2035 | 22.85000 | Inercial      |\n",
       "| 2045 | 16.73000 | Inercial      |\n",
       "| 2030 | 21.32000 | Deseable      |\n",
       "| 2035 | 15.53000 | Deseable      |\n",
       "| 2045 |  8.25000 | Deseable      |\n",
       "| 2030 | 16.89000 | Transformador |\n",
       "| 2035 | 10.43000 | Transformador |\n",
       "| 2045 |  3.97000 | Transformador |\n",
       "\n"
      ],
      "text/plain": [
       "   anio porcentaje tipo         \n",
       "1  2017 72.81859   Observado    \n",
       "2  2019 67.77856   Observado    \n",
       "3  2021 63.64229   Observado    \n",
       "4  2023 33.20131   Observado    \n",
       "5  2030 26.70000   Inercial     \n",
       "6  2035 22.85000   Inercial     \n",
       "7  2045 16.73000   Inercial     \n",
       "8  2030 21.32000   Deseable     \n",
       "9  2035 15.53000   Deseable     \n",
       "10 2045  8.25000   Deseable     \n",
       "11 2030 16.89000   Transformador\n",
       "12 2035 10.43000   Transformador\n",
       "13 2045  3.97000   Transformador"
      ]
     },
     "metadata": {},
     "output_type": "display_data"
    }
   ],
   "source": [
    "##ESCENARIOS TENDENCIALES 2030,2035,2045\n",
    "# Tasa de variación\n",
    "tcma<-((rutastot_2023$porcentaje /rutastot_2017$porcentaje)^(1/(2023-2017)) - 1) \n",
    "tcma\n",
    "\n",
    "rutastot_base <- rutastot |>\n",
    "  filter(anio == 2023) |>\n",
    "  pull(porcentaje)\n",
    "\n",
    "rutastot_base\n",
    "\n",
    "# Años a proyectar\n",
    "años <- c(2030,2035,2045)\n",
    "año_base <- 2023\n",
    "\n",
    "tendencia_base <- data.frame(anio = años,\n",
    "                             porcentaje = round(rutastot_base * (1 + 1/4*tcma) ^ (años - año_base), 2),\n",
    "                             tipo = \"Inercial\")\n",
    "\n",
    "\n",
    "tendecia_deseable<-data.frame(anio = años,\n",
    "                              porcentaje = round(rutastot_base * (1 + 1/2*tcma) ^ (años - año_base), 2),\n",
    "                              tipo = \"Deseable\")\n",
    "\n",
    "\n",
    "tendecia_transformadora <-data.frame(anio = años,\n",
    "                                     porcentaje = round(rutastot_base * (1 + 3/4*tcma) ^ (años - año_base), 2),\n",
    "                                     tipo = \"Transformador\")\n",
    "\n",
    "rutastot_tendencias <- rutastot|>\n",
    "  bind_rows(tendencia_base,tendecia_deseable, \n",
    "            tendecia_transformadora)|>\n",
    "  select(anio, porcentaje, tipo)\n",
    "\n",
    "rutastot_tendencias\n"
   ]
  },
  {
   "cell_type": "code",
   "execution_count": 18,
   "id": "3a1bae35",
   "metadata": {
    "vscode": {
     "languageId": "r"
    }
   },
   "outputs": [],
   "source": [
    "\n",
    "lineas <- bind_rows(data.frame(anio = c(2023, 2030),\n",
    "                               porcentaje = c(rutastot_tendencias$porcentaje[rutastot_tendencias$anio == 2023 & rutastot_tendencias$tipo == \"Observado\"],\n",
    "                                              rutastot_tendencias$porcentaje[rutastot_tendencias$anio == 2030 & rutastot_tendencias$tipo == \"Inercial\"]),\n",
    "                               tipo = \"Inercial\"),\n",
    "                    data.frame(anio = c(2023, 2030),\n",
    "                               porcentaje = c(rutastot_tendencias$porcentaje[rutastot_tendencias$anio == 2023 & rutastot_tendencias$tipo == \"Observado\"], \n",
    "                                              rutastot_tendencias$porcentaje[rutastot_tendencias$anio == 2030 & rutastot_tendencias$tipo == \"Deseable\"]),\n",
    "                               tipo = \"Deseable\"), \n",
    "                    data.frame(anio = c(2023, 2030),\n",
    "                               porcentaje = c(rutastot_tendencias$porcentaje[rutastot_tendencias$anio == 2023 & rutastot_tendencias$tipo == \"Observado\"], \n",
    "                                              rutastot_tendencias$porcentaje[rutastot_tendencias$anio == 2030 & rutastot_tendencias$tipo == \"Transformador\"]),\n",
    "                               tipo = \"Transformador\"))\n",
    "\n",
    "\n",
    "paleta_colores <- c(\"Observado\" = \"#9F2241\",\n",
    "                    \"Inercial\" = \"#cfcfcf\" ,\n",
    "                    \"Deseable\" = \"#027A35\", \n",
    "                    \"Transformador\" = \"#AC6D14\")\n",
    "\n",
    "linetypes <- c(\"Observado\" = \"solid\",\n",
    "               \"Inercial\" = \"dotdash\",\n",
    "               \"Deseable\" = \"dotdash\", \n",
    "               \"Transformador\" = \"dotdash\")\n",
    "\n"
   ]
  },
  {
   "cell_type": "code",
   "execution_count": 19,
   "id": "97f82de5",
   "metadata": {
    "vscode": {
     "languageId": "r"
    }
   },
   "outputs": [
    {
     "data": {
      "image/png": "[encoded data removed]",
      "text/plain": [
       "plot without title"
      ]
     },
     "metadata": {
      "image/png": {
       "height": 420,
       "width": 420
      }
     },
     "output_type": "display_data"
    }
   ],
   "source": [
    "\n",
    "# Gráfico con etiquetas y eje Y personalizado\n",
    "ggplot(rutastot_tendencias, aes(x = anio, y = porcentaje, group = tipo, color = tipo, linetype = tipo)) +\n",
    "  geom_line(linewidth = 1.2) +\n",
    "  geom_point(size = 1.5) +\n",
    "  geom_line(data = lineas, aes(x = anio, y = porcentaje, group = tipo), linewidth = 1.2) +\n",
    "  geom_text(aes(label = round(porcentaje, 1)),\n",
    "            position = position_nudge(y = 2),\n",
    "            size = 3, show.legend = FALSE) +\n",
    "  scale_color_manual(values = paleta_colores) +\n",
    "  scale_linetype_manual(values = linetypes) +\n",
    "  scale_y_continuous(breaks = seq(0, max(rutastot_tendencias$porcentaje, na.rm = TRUE) +100, by = 50),\n",
    "                     labels = function(x) paste0(x, \"\"),\n",
    "                     expand = expansion(mult = c(0.09,0.5))) +\n",
    "  labs(title = \"\",\n",
    "       x = \"Año\",\n",
    "       y = \"Porcentaje\",\n",
    "       color = \"\",\n",
    "       linetype = \"\") +\n",
    "  theme_bw(base_size = 15) +\n",
    "  theme( panel.grid.minor.y = element_line(color = \"gray80\", linetype = \"dotted\"),\n",
    "         panel.grid.minor.x = element_blank(),\n",
    "         panel.grid.major.y = element_blank(),\n",
    "         panel.border = element_blank(),\n",
    "         axis.line = element_line(color = \"gray80\"),\n",
    "         legend.position = \"top\",\n",
    "         plot.caption = element_text(hjust = 100))\n",
    "\n",
    "#ggsave(\"rutastot_tendencias.png\", width = 8, height = 5, dpi = 300)"
   ]
  }
 ],
 "metadata": {
  "kernelspec": {
   "display_name": "R",
   "language": "R",
   "name": "ir"
  },
  "language_info": {
   "codemirror_mode": "r",
   "file_extension": ".r",
   "mimetype": "text/x-r-source",
   "name": "R",
   "pygments_lexer": "r",
   "version": "4.4.3"
  }
 },
 "nbformat": 4,
 "nbformat_minor": 5
}
