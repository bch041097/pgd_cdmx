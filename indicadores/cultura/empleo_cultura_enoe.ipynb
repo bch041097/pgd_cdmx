{
 "cells": [
  {
   "cell_type": "code",
   "id": "5a1c8d84ae272f7a",
   "metadata": {
    "vscode": {
     "languageId": "r"
    },
    "ExecuteTime": {
     "end_time": "2025-02-16T07:52:43.558499Z",
     "start_time": "2025-02-16T07:52:42.483748Z"
    }
   },
   "source": [
    "##Estimación de indicadores de población ocupada en cultura\n",
    "#Se borra todo lo que se encuentra en el entorno\n",
    "\n",
    "rm(list=ls())\n",
    "\n",
    "# Librerías ====\n",
    "if(!require('pacman')) install.packages('pacman')\n",
    "pacman::p_load(tidyverse, showtext, srvyr,httr,utils)"
   ],
   "outputs": [
    {
     "name": "stderr",
     "output_type": "stream",
     "text": [
      "Loading required package: pacman\n",
      "\n"
     ]
    }
   ],
   "execution_count": 1
  },
  {
   "metadata": {
    "ExecuteTime": {
     "end_time": "2025-02-16T07:52:43.587852Z",
     "start_time": "2025-02-16T07:52:43.562839Z"
    }
   },
   "cell_type": "code",
   "source": [
    "# Función para descargar los datos de la ENOE en formato CSV\n",
    "descargar_enoe_csv <- function() {\n",
    "  # Crear directorio de trabajo si no existe\n",
    "  if (!dir.exists(\"datos\")) {\n",
    "    dir.create(\"datos\")\n",
    "  }\n",
    "  if (!dir.exists(\"datos/enoe\")) {\n",
    "    dir.create(\"datos/enoe\")\n",
    "  }\n",
    "\n",
    "  # Cambiar al directorio de trabajo\n",
    "  setwd(\"datos/enoe\")\n",
    "\n",
    "  # Función para descargar y extraer archivos\n",
    "  descargar_extraer <- function(url) {\n",
    "    temp <- tempfile()\n",
    "    download.file(url, temp, mode = \"wb\")\n",
    "    unzip(temp)\n",
    "    unlink(temp)\n",
    "  }\n",
    "\n",
    "  # Descargar datos de 2005 a 2009\n",
    "  for (i in 7:9) {\n",
    "    url <- paste0(\"https://www.inegi.org.mx/contenidos/programas/enoe/15ymas/microdatos/200\", i, \"trim4_csv.zip\")\n",
    "    descargar_extraer(url)\n",
    "  }\n",
    "\n",
    "  # Descargar datos de 2010 a 2019\n",
    "  for (i in 10:19) {\n",
    "    url <- paste0(\"https://www.inegi.org.mx/contenidos/programas/enoe/15ymas/microdatos/20\", i, \"trim4_csv.zip\")\n",
    "    print(url)\n",
    "    descargar_extraer(url)\n",
    "  }\n",
    "\n",
    "  # Descargar datos de 2020\n",
    "  for (i in 20:20) {\n",
    "    url <- paste0(\"https://www.inegi.org.mx/contenidos/programas/enoe/15ymas/microdatos/enoe_n_20\", i, \"_trim4_csv.zip\")\n",
    "    descargar_extraer(url)\n",
    "  }\n",
    "\n",
    "  # Descargar datos de 2021 a 2022\n",
    "  for (i in 21:22) {\n",
    "    url <- paste0(\"https://www.inegi.org.mx/contenidos/programas/enoe/15ymas/microdatos/enoe_n_20\", i, \"_trim4_csv.zip\")\n",
    "    descargar_extraer(url)\n",
    "  }\n",
    "\n",
    "  # Descargar datos de 2023\n",
    "  for (i in 23:23) {\n",
    "    url <- paste0(\"https://www.inegi.org.mx/contenidos/programas/enoe/15ymas/microdatos/enoe_20\", i, \"_trim4_csv.zip\")\n",
    "    descargar_extraer(url)\n",
    "  }\n",
    "\n",
    "  # Eliminar archivos innecesarios (conservar solo SDEMT y COE1T)\n",
    "  # Listar archivos con extensión .csv, sin importar mayúsculas/minúsculas\n",
    "  archivos <- list.files(pattern = \"\\\\.csv$\", ignore.case = TRUE)\n",
    "\n",
    "  # Lista de archivos a eliminar (que NO contienen \"SDEMT\" o \"COE1T\", sin importar mayúsculas/minúsculas)\n",
    "  archivos_a_eliminar <- archivos[!grepl(\"sdemt|coe1t\", archivos, ignore.case = TRUE)]\n",
    "  file.remove(archivos_a_eliminar)\n",
    "\n",
    "  # Eliminar archivo zip (si existe)\n",
    "  if (file.exists(\"archivos.zip\")) {\n",
    "    file.remove(\"archivos.zip\")\n",
    "  }\n",
    "\n",
    "  # Regresar al directorio original\n",
    "  setwd(\"../..\")\n",
    "}"
   ],
   "id": "4e741ea4dedb190a",
   "outputs": [],
   "execution_count": 2
  },
  {
   "metadata": {
    "ExecuteTime": {
     "end_time": "2025-02-16T07:55:42.957254Z",
     "start_time": "2025-02-16T07:52:43.592590Z"
    }
   },
   "cell_type": "code",
   "source": "descargar_enoe_csv()",
   "id": "7d4d4a48394400b5",
   "outputs": [
    {
     "name": "stdout",
     "output_type": "stream",
     "text": [
      "[1] \"https://www.inegi.org.mx/contenidos/programas/enoe/15ymas/microdatos/2010trim4_csv.zip\"\n",
      "[1] \"https://www.inegi.org.mx/contenidos/programas/enoe/15ymas/microdatos/2011trim4_csv.zip\"\n",
      "[1] \"https://www.inegi.org.mx/contenidos/programas/enoe/15ymas/microdatos/2012trim4_csv.zip\"\n",
      "[1] \"https://www.inegi.org.mx/contenidos/programas/enoe/15ymas/microdatos/2013trim4_csv.zip\"\n",
      "[1] \"https://www.inegi.org.mx/contenidos/programas/enoe/15ymas/microdatos/2014trim4_csv.zip\"\n",
      "[1] \"https://www.inegi.org.mx/contenidos/programas/enoe/15ymas/microdatos/2015trim4_csv.zip\"\n",
      "[1] \"https://www.inegi.org.mx/contenidos/programas/enoe/15ymas/microdatos/2016trim4_csv.zip\"\n",
      "[1] \"https://www.inegi.org.mx/contenidos/programas/enoe/15ymas/microdatos/2017trim4_csv.zip\"\n",
      "[1] \"https://www.inegi.org.mx/contenidos/programas/enoe/15ymas/microdatos/2018trim4_csv.zip\"\n",
      "[1] \"https://www.inegi.org.mx/contenidos/programas/enoe/15ymas/microdatos/2019trim4_csv.zip\"\n"
     ]
    }
   ],
   "execution_count": 3
  },
  {
   "metadata": {
    "ExecuteTime": {
     "end_time": "2025-02-16T07:55:42.991955Z",
     "start_time": "2025-02-16T07:55:42.981683Z"
    }
   },
   "cell_type": "code",
   "source": [
    "# Función para extraer el año desde el nombre del archivo\n",
    "extraer_anio <- function(path) {\n",
    "  anio_str <- str_extract(path, \"\\\\d{2}(?=\\\\D*$)\") # Extrae los últimos dos dígitos del año\n",
    "  anio <- as.numeric(paste0(\"20\", anio_str)) # Convierte a formato 20XX\n",
    "  return(anio)\n",
    "}"
   ],
   "id": "63fc83038a890866",
   "outputs": [],
   "execution_count": 4
  },
  {
   "metadata": {
    "ExecuteTime": {
     "end_time": "2025-02-16T07:55:43.014763Z",
     "start_time": "2025-02-16T07:55:43.003288Z"
    }
   },
   "cell_type": "code",
   "source": [
    "# Función para procesar la ENOE con ajuste para `tipo`\n",
    "estima_empleo_cultura <- function(sdemt_path, coe1t_path, tipo_empleo = \"empleo_cultural_federal\") {\n",
    "  year <- extraer_anio(sdemt_path)\n",
    "\n",
    "  # Leer y filtrar ocupados\n",
    "  ocupados <- read_csv(sdemt_path, show_col_types = FALSE) %>%\n",
    "    janitor::clean_names() %>%\n",
    "    filter(\n",
    "      clase2 == 1,\n",
    "      (eda >= 15 & eda <= 98 & !is.na(eda)) & (c_res == 1 | c_res == 3)\n",
    "    ) %>%\n",
    "    mutate(year = year) # Agregar el año\n",
    "\n",
    "  # Leer COE1T y seleccionar columnas según el año\n",
    "  sinco <- read_csv(coe1t_path, show_col_types = FALSE) %>%\n",
    "    janitor::clean_names() %>%\n",
    "    { if (year <= 2019) select(., cd_a, ent, con, v_sel, n_hog, h_mud, n_ren, p3) else\n",
    "        select(., tipo, mes_cal, cd_a, ent, con, v_sel, n_hog, h_mud, n_ren, p3) } %>%\n",
    "    rename(sinco = p3)\n",
    "\n",
    "  # Hacer el `left_join()` sin `tipo` si el año está entre 2005 y 2019\n",
    "  if (year <= 2019) {\n",
    "    ocupados <- left_join(ocupados, sinco, by = c(\"cd_a\", \"ent\", \"con\", \"v_sel\", \"n_hog\", \"h_mud\", \"n_ren\"))\n",
    "  } else {\n",
    "    ocupados <- left_join(ocupados, sinco, by = c(\"tipo\", \"mes_cal\", \"cd_a\", \"ent\", \"con\", \"v_sel\", \"n_hog\", \"h_mud\", \"n_ren\"))\n",
    "  }\n",
    "\n",
    "  # Clasificación de empleo cultural\n",
    "  ocupados <- ocupados %>%\n",
    "    mutate(\n",
    "      cultura_federal = ifelse(sinco %in% c(\n",
    "        2175, 7611, 2552, 2131, 7313, 7342, 7321, 2174, 7343, 2173, 2171, 1721, 1722,\n",
    "        2544, 2271, 2625, 2162, 1422, 1322, 1421, 2541, 2543, 2542, 2164, 2151, 2163, 2144, 2425, 2655, 3222, 7322, 2712,\n",
    "        7223, 2551, 5212, 2636, 4233, 2172, 8155, 8144, 7999, 7344, 2553, 7352, 2152, 2161, 7323, 7201, 7601, 7401, 7301,\n",
    "        2652, 7332, 9713, 4312, 7614, 7353\n",
    "      ), 1, 0),\n",
    "      cultura_cdmx = ifelse(sinco %in% c(\n",
    "        2175, 7611, 2552, 2131, 7313, 7342, 7321, 2174, 7343, 2173, 2171, 1721, 1722,\n",
    "        2544, 2271, 2625, 2162, 1422, 1322, 1421, 2541, 2543, 2542, 2164, 2151, 2163, 2144, 2425, 2655, 3222, 7322, 2712,\n",
    "        7223, 2551, 5212, 2636, 4233, 2172, 8155, 8144, 7999, 7344, 2553, 7352, 2152, 2161, 7323, 7201, 7601, 7401, 7301,\n",
    "        2652, 7332, 9713, 4312, 7614, 7353, 2514, 5212, 2653, 2654, 7299, 7999, 7311, 7331, 7341, 7411, 7412, 9234, 9235,\n",
    "        9237, 4233, 2141, 2153, 2339, 2334, 2715, 1412, 1712, 3221, 5101, 5111, 5112, 5113, 5114, 5115, 5116, 5119, 7515, 7517, 9411\n",
    "      ), 1, 0)\n",
    "    )\n",
    "\n",
    "  # Crear diseño de encuesta\n",
    "  options(survey.lonely.psu = \"certainty\")\n",
    "  if (year <= 2019) {\n",
    "    dm <- ocupados %>%\n",
    "      as_survey_design(\n",
    "        ids = upm,\n",
    "        strata = est_d,\n",
    "        weights = fac,\n",
    "        nest = TRUE\n",
    "      )\n",
    "  } else {\n",
    "    dm <- ocupados %>%\n",
    "      as_survey_design(\n",
    "        ids = upm,\n",
    "        strata = est_d_tri,\n",
    "        weights = fac_tri,\n",
    "        nest = TRUE\n",
    "      )\n",
    "  }\n",
    "  # Filtrar y calcular ocupados por tipo de empleo\n",
    "  resultado <- if (tipo_empleo == \"empleo_cultural_federal\") {\n",
    "    dm %>%\n",
    "      filter(ent == 9) %>%\n",
    "      group_by(cultura_federal) %>%\n",
    "      summarise(\n",
    "        ocupados = survey_total(vartype = \"cv\"),\n",
    "        porcentaje = survey_prop(vartype = \"cv\")\n",
    "      ) %>%\n",
    "      mutate(porcentaje = porcentaje * 100) %>%\n",
    "      filter(cultura_federal == 1)%>%\n",
    "                mutate(year = year)\n",
    "  } else if (tipo_empleo == \"empleo_cultural_cdmx\") {\n",
    "    dm %>%\n",
    "      filter(ent == 9) %>%\n",
    "      group_by(cultura_cdmx) %>%\n",
    "      summarise(\n",
    "        ocupados = survey_total(vartype = \"cv\"),\n",
    "        porcentaje = survey_prop(vartype = \"cv\")\n",
    "      ) %>%\n",
    "      mutate(porcentaje = porcentaje * 100) %>%\n",
    "      filter(cultura_cdmx == 1)%>%\n",
    "              mutate(year = year)\n",
    "  } else {\n",
    "    stop(\"El parámetro 'tipo_empleo' debe ser 'empleo_cultural_federal' o 'empleo_cultural_cdmx'\")\n",
    "  }\n",
    "\n",
    "  return(resultado)\n",
    "}"
   ],
   "id": "5b43444e2367aa",
   "outputs": [],
   "execution_count": 5
  },
  {
   "metadata": {
    "ExecuteTime": {
     "end_time": "2025-02-16T07:55:43.028379Z",
     "start_time": "2025-02-16T07:55:43.018625Z"
    }
   },
   "cell_type": "code",
   "source": "lista_archivos <- list.files(path = \"datos/enoe\", full.names = TRUE)",
   "id": "44a6afcf2d9d1fde",
   "outputs": [],
   "execution_count": 6
  },
  {
   "metadata": {
    "ExecuteTime": {
     "end_time": "2025-02-16T07:55:43.049871Z",
     "start_time": "2025-02-16T07:55:43.031985Z"
    }
   },
   "cell_type": "code",
   "source": [
    "archivos_sdemt <- lista_archivos[str_detect(lista_archivos, regex(\"sdemt\", ignore_case = TRUE))]\n",
    "archivos_coe1t <- lista_archivos[str_detect(lista_archivos, regex(\"coe1t\", ignore_case = TRUE))]"
   ],
   "id": "6177c20a49863156",
   "outputs": [],
   "execution_count": 7
  },
  {
   "metadata": {
    "ExecuteTime": {
     "end_time": "2025-02-16T07:55:43.125132Z",
     "start_time": "2025-02-16T07:55:43.055763Z"
    }
   },
   "cell_type": "code",
   "source": [
    "# Crear un data frame con los nombres de archivos y sus años\n",
    "df_archivos <- tibble(\n",
    "  sdemt = archivos_sdemt,\n",
    "  year = map_int(archivos_sdemt, extraer_anio)\n",
    ") %>%\n",
    "  left_join(\n",
    "    tibble(\n",
    "      coe1t = archivos_coe1t,\n",
    "      year = map_int(archivos_coe1t, extraer_anio)\n",
    "    ),\n",
    "    by = \"year\"\n",
    "  ) %>%\n",
    "  filter(!is.na(sdemt) & !is.na(coe1t))%>%\n",
    "        arrange(year)\n",
    "df_archivos"
   ],
   "id": "c9bc63c54cc7ce5b",
   "outputs": [
    {
     "data": {
      "text/html": [
       "<table class=\"dataframe\">\n",
       "<caption>A tibble: 17 × 3</caption>\n",
       "<thead>\n",
       "\t<tr><th scope=col>sdemt</th><th scope=col>year</th><th scope=col>coe1t</th></tr>\n",
       "\t<tr><th scope=col>&lt;chr&gt;</th><th scope=col>&lt;int&gt;</th><th scope=col>&lt;chr&gt;</th></tr>\n",
       "</thead>\n",
       "<tbody>\n",
       "\t<tr><td>datos/enoe/SDEMT407.csv      </td><td>2007</td><td>datos/enoe/COE1T407.csv      </td></tr>\n",
       "\t<tr><td>datos/enoe/SDEMT408.csv      </td><td>2008</td><td>datos/enoe/COE1T408.csv      </td></tr>\n",
       "\t<tr><td>datos/enoe/SDEMT409.csv      </td><td>2009</td><td>datos/enoe/COE1T409.csv      </td></tr>\n",
       "\t<tr><td>datos/enoe/SDEMT410.csv      </td><td>2010</td><td>datos/enoe/COE1T410.csv      </td></tr>\n",
       "\t<tr><td>datos/enoe/SDEMT411.csv      </td><td>2011</td><td>datos/enoe/COE1T411.csv      </td></tr>\n",
       "\t<tr><td>datos/enoe/sdemt412.csv      </td><td>2012</td><td>datos/enoe/coe1t412.csv      </td></tr>\n",
       "\t<tr><td>datos/enoe/sdemt413.csv      </td><td>2013</td><td>datos/enoe/coe1t413.csv      </td></tr>\n",
       "\t<tr><td>datos/enoe/SDEMT414.csv      </td><td>2014</td><td>datos/enoe/COE1T414.csv      </td></tr>\n",
       "\t<tr><td>datos/enoe/SDEMT415.csv      </td><td>2015</td><td>datos/enoe/COE1T415.csv      </td></tr>\n",
       "\t<tr><td>datos/enoe/SDEMT416.csv      </td><td>2016</td><td>datos/enoe/COE1T416.csv      </td></tr>\n",
       "\t<tr><td>datos/enoe/SDEMT417.csv      </td><td>2017</td><td>datos/enoe/COE1T417.csv      </td></tr>\n",
       "\t<tr><td>datos/enoe/SDEMT418.csv      </td><td>2018</td><td>datos/enoe/COE1T418.csv      </td></tr>\n",
       "\t<tr><td>datos/enoe/sdemt419.csv      </td><td>2019</td><td>datos/enoe/coe1t419.csv      </td></tr>\n",
       "\t<tr><td>datos/enoe/ENOEN_SDEMT420.csv</td><td>2020</td><td>datos/enoe/ENOEN_COE1T420.csv</td></tr>\n",
       "\t<tr><td>datos/enoe/ENOEN_SDEMT421.csv</td><td>2021</td><td>datos/enoe/ENOEN_COE1T421.csv</td></tr>\n",
       "\t<tr><td>datos/enoe/ENOEN_SDEMT422.csv</td><td>2022</td><td>datos/enoe/ENOEN_COE1T422.csv</td></tr>\n",
       "\t<tr><td>datos/enoe/ENOE_SDEMT423.csv </td><td>2023</td><td>datos/enoe/ENOE_COE1T423.csv </td></tr>\n",
       "</tbody>\n",
       "</table>\n"
      ],
      "text/markdown": "\nA tibble: 17 × 3\n\n| sdemt &lt;chr&gt; | year &lt;int&gt; | coe1t &lt;chr&gt; |\n|---|---|---|\n| datos/enoe/SDEMT407.csv       | 2007 | datos/enoe/COE1T407.csv       |\n| datos/enoe/SDEMT408.csv       | 2008 | datos/enoe/COE1T408.csv       |\n| datos/enoe/SDEMT409.csv       | 2009 | datos/enoe/COE1T409.csv       |\n| datos/enoe/SDEMT410.csv       | 2010 | datos/enoe/COE1T410.csv       |\n| datos/enoe/SDEMT411.csv       | 2011 | datos/enoe/COE1T411.csv       |\n| datos/enoe/sdemt412.csv       | 2012 | datos/enoe/coe1t412.csv       |\n| datos/enoe/sdemt413.csv       | 2013 | datos/enoe/coe1t413.csv       |\n| datos/enoe/SDEMT414.csv       | 2014 | datos/enoe/COE1T414.csv       |\n| datos/enoe/SDEMT415.csv       | 2015 | datos/enoe/COE1T415.csv       |\n| datos/enoe/SDEMT416.csv       | 2016 | datos/enoe/COE1T416.csv       |\n| datos/enoe/SDEMT417.csv       | 2017 | datos/enoe/COE1T417.csv       |\n| datos/enoe/SDEMT418.csv       | 2018 | datos/enoe/COE1T418.csv       |\n| datos/enoe/sdemt419.csv       | 2019 | datos/enoe/coe1t419.csv       |\n| datos/enoe/ENOEN_SDEMT420.csv | 2020 | datos/enoe/ENOEN_COE1T420.csv |\n| datos/enoe/ENOEN_SDEMT421.csv | 2021 | datos/enoe/ENOEN_COE1T421.csv |\n| datos/enoe/ENOEN_SDEMT422.csv | 2022 | datos/enoe/ENOEN_COE1T422.csv |\n| datos/enoe/ENOE_SDEMT423.csv  | 2023 | datos/enoe/ENOE_COE1T423.csv  |\n\n",
      "text/latex": "A tibble: 17 × 3\n\\begin{tabular}{lll}\n sdemt & year & coe1t\\\\\n <chr> & <int> & <chr>\\\\\n\\hline\n\t datos/enoe/SDEMT407.csv       & 2007 & datos/enoe/COE1T407.csv      \\\\\n\t datos/enoe/SDEMT408.csv       & 2008 & datos/enoe/COE1T408.csv      \\\\\n\t datos/enoe/SDEMT409.csv       & 2009 & datos/enoe/COE1T409.csv      \\\\\n\t datos/enoe/SDEMT410.csv       & 2010 & datos/enoe/COE1T410.csv      \\\\\n\t datos/enoe/SDEMT411.csv       & 2011 & datos/enoe/COE1T411.csv      \\\\\n\t datos/enoe/sdemt412.csv       & 2012 & datos/enoe/coe1t412.csv      \\\\\n\t datos/enoe/sdemt413.csv       & 2013 & datos/enoe/coe1t413.csv      \\\\\n\t datos/enoe/SDEMT414.csv       & 2014 & datos/enoe/COE1T414.csv      \\\\\n\t datos/enoe/SDEMT415.csv       & 2015 & datos/enoe/COE1T415.csv      \\\\\n\t datos/enoe/SDEMT416.csv       & 2016 & datos/enoe/COE1T416.csv      \\\\\n\t datos/enoe/SDEMT417.csv       & 2017 & datos/enoe/COE1T417.csv      \\\\\n\t datos/enoe/SDEMT418.csv       & 2018 & datos/enoe/COE1T418.csv      \\\\\n\t datos/enoe/sdemt419.csv       & 2019 & datos/enoe/coe1t419.csv      \\\\\n\t datos/enoe/ENOEN\\_SDEMT420.csv & 2020 & datos/enoe/ENOEN\\_COE1T420.csv\\\\\n\t datos/enoe/ENOEN\\_SDEMT421.csv & 2021 & datos/enoe/ENOEN\\_COE1T421.csv\\\\\n\t datos/enoe/ENOEN\\_SDEMT422.csv & 2022 & datos/enoe/ENOEN\\_COE1T422.csv\\\\\n\t datos/enoe/ENOE\\_SDEMT423.csv  & 2023 & datos/enoe/ENOE\\_COE1T423.csv \\\\\n\\end{tabular}\n",
      "text/plain": [
       "   sdemt                         year coe1t                        \n",
       "1  datos/enoe/SDEMT407.csv       2007 datos/enoe/COE1T407.csv      \n",
       "2  datos/enoe/SDEMT408.csv       2008 datos/enoe/COE1T408.csv      \n",
       "3  datos/enoe/SDEMT409.csv       2009 datos/enoe/COE1T409.csv      \n",
       "4  datos/enoe/SDEMT410.csv       2010 datos/enoe/COE1T410.csv      \n",
       "5  datos/enoe/SDEMT411.csv       2011 datos/enoe/COE1T411.csv      \n",
       "6  datos/enoe/sdemt412.csv       2012 datos/enoe/coe1t412.csv      \n",
       "7  datos/enoe/sdemt413.csv       2013 datos/enoe/coe1t413.csv      \n",
       "8  datos/enoe/SDEMT414.csv       2014 datos/enoe/COE1T414.csv      \n",
       "9  datos/enoe/SDEMT415.csv       2015 datos/enoe/COE1T415.csv      \n",
       "10 datos/enoe/SDEMT416.csv       2016 datos/enoe/COE1T416.csv      \n",
       "11 datos/enoe/SDEMT417.csv       2017 datos/enoe/COE1T417.csv      \n",
       "12 datos/enoe/SDEMT418.csv       2018 datos/enoe/COE1T418.csv      \n",
       "13 datos/enoe/sdemt419.csv       2019 datos/enoe/coe1t419.csv      \n",
       "14 datos/enoe/ENOEN_SDEMT420.csv 2020 datos/enoe/ENOEN_COE1T420.csv\n",
       "15 datos/enoe/ENOEN_SDEMT421.csv 2021 datos/enoe/ENOEN_COE1T421.csv\n",
       "16 datos/enoe/ENOEN_SDEMT422.csv 2022 datos/enoe/ENOEN_COE1T422.csv\n",
       "17 datos/enoe/ENOE_SDEMT423.csv  2023 datos/enoe/ENOE_COE1T423.csv "
      ]
     },
     "metadata": {},
     "output_type": "display_data"
    }
   ],
   "execution_count": 8
  },
  {
   "metadata": {
    "ExecuteTime": {
     "end_time": "2025-02-16T08:00:21.359229Z",
     "start_time": "2025-02-16T07:59:17.543874Z"
    }
   },
   "cell_type": "code",
   "source": [
    "#Estima empleo cultural de la Ciudad de México con metodología de cultura de la Ciudad de México\n",
    "print(\"Población ocupada en cultura en la Ciudad de México de acuerdo a metodología de cultura cdmx\")\n",
    "empleo_cultural_cdmx <- df_archivos %>%\n",
    "        select(-year) %>%\n",
    "  mutate(data = map2(sdemt, coe1t, ~ estima_empleo_cultura(.x, .y, \"empleo_cultural_cdmx\"))) %>%\n",
    "  unnest(data)%>%\n",
    "        select(year,ocupados,ocupados_cv,porcentaje,porcentaje_cv)%>%\n",
    "        mutate(porcentaje=round(porcentaje,2))\n",
    "empleo_cultural_cdmx"
   ],
   "id": "e7af70cc127e9578",
   "outputs": [
    {
     "name": "stdout",
     "output_type": "stream",
     "text": [
      "[1] \"Población ocupada en cultura en la Ciudad de México de acuerdo a metodología de cultura cdmx\"\n"
     ]
    },
    {
     "name": "stderr",
     "output_type": "stream",
     "text": [
      "Warning message:\n",
      "\"\u001B[1m\u001B[22mThere were 23 warnings in `mutate()`.\n",
      "The first warning was:\n",
      "\u001B[1m\u001B[22m\u001B[36mℹ\u001B[39m In argument: `data = map2(sdemt, coe1t, ~estima_empleo_cultura(.x, .y,\n",
      "  \"empleo_cultural_cdmx\"))`.\n",
      "Caused by warning:\n",
      "\u001B[33m!\u001B[39m \u001B[1m\u001B[22mOne or more parsing issues, call `problems()` on your data frame for details,\n",
      "e.g.:\n",
      "  dat <- vroom(...)\n",
      "  problems(dat)\n",
      "\u001B[1m\u001B[22m\u001B[36mℹ\u001B[39m Run `dplyr::last_dplyr_warnings()` to see the 22 remaining warnings.\"\n"
     ]
    },
    {
     "data": {
      "text/html": [
       "<table class=\"dataframe\">\n",
       "<caption>A tibble: 17 × 5</caption>\n",
       "<thead>\n",
       "\t<tr><th scope=col>year</th><th scope=col>ocupados</th><th scope=col>ocupados_cv</th><th scope=col>porcentaje</th><th scope=col>porcentaje_cv</th></tr>\n",
       "\t<tr><th scope=col>&lt;dbl&gt;</th><th scope=col>&lt;dbl&gt;</th><th scope=col>&lt;dbl&gt;</th><th scope=col>&lt;dbl&gt;</th><th scope=col>&lt;dbl&gt;</th></tr>\n",
       "</thead>\n",
       "<tbody>\n",
       "\t<tr><td>2007</td><td>129427</td><td>0.09928315</td><td> 3.26</td><td>0.09748795</td></tr>\n",
       "\t<tr><td>2008</td><td>138792</td><td>0.09301033</td><td> 3.61</td><td>0.09222328</td></tr>\n",
       "\t<tr><td>2009</td><td>129733</td><td>0.09524193</td><td> 3.32</td><td>0.09440508</td></tr>\n",
       "\t<tr><td>2010</td><td>143190</td><td>0.10276259</td><td> 3.67</td><td>0.10191412</td></tr>\n",
       "\t<tr><td>2011</td><td>174559</td><td>0.10103369</td><td> 4.23</td><td>0.09944722</td></tr>\n",
       "\t<tr><td>2012</td><td>596174</td><td>0.04817791</td><td>14.12</td><td>0.04485467</td></tr>\n",
       "\t<tr><td>2013</td><td>595932</td><td>0.04475438</td><td>14.05</td><td>0.04280903</td></tr>\n",
       "\t<tr><td>2014</td><td>570175</td><td>0.04900231</td><td>13.78</td><td>0.04719061</td></tr>\n",
       "\t<tr><td>2015</td><td>521777</td><td>0.05199346</td><td>12.18</td><td>0.04905067</td></tr>\n",
       "\t<tr><td>2016</td><td>578142</td><td>0.04797603</td><td>13.44</td><td>0.04563348</td></tr>\n",
       "\t<tr><td>2017</td><td>586889</td><td>0.04814011</td><td>13.63</td><td>0.04471930</td></tr>\n",
       "\t<tr><td>2018</td><td>608033</td><td>0.04955726</td><td>13.78</td><td>0.04662491</td></tr>\n",
       "\t<tr><td>2019</td><td>668608</td><td>0.04649757</td><td>14.83</td><td>0.04370757</td></tr>\n",
       "\t<tr><td>2020</td><td>486153</td><td>0.06985739</td><td>12.50</td><td>0.06404623</td></tr>\n",
       "\t<tr><td>2021</td><td>695533</td><td>0.04749926</td><td>15.58</td><td>0.04258323</td></tr>\n",
       "\t<tr><td>2022</td><td>705541</td><td>0.04768598</td><td>15.02</td><td>0.04539609</td></tr>\n",
       "\t<tr><td>2023</td><td>677148</td><td>0.04801756</td><td>14.54</td><td>0.04581680</td></tr>\n",
       "</tbody>\n",
       "</table>\n"
      ],
      "text/markdown": "\nA tibble: 17 × 5\n\n| year &lt;dbl&gt; | ocupados &lt;dbl&gt; | ocupados_cv &lt;dbl&gt; | porcentaje &lt;dbl&gt; | porcentaje_cv &lt;dbl&gt; |\n|---|---|---|---|---|\n| 2007 | 129427 | 0.09928315 |  3.26 | 0.09748795 |\n| 2008 | 138792 | 0.09301033 |  3.61 | 0.09222328 |\n| 2009 | 129733 | 0.09524193 |  3.32 | 0.09440508 |\n| 2010 | 143190 | 0.10276259 |  3.67 | 0.10191412 |\n| 2011 | 174559 | 0.10103369 |  4.23 | 0.09944722 |\n| 2012 | 596174 | 0.04817791 | 14.12 | 0.04485467 |\n| 2013 | 595932 | 0.04475438 | 14.05 | 0.04280903 |\n| 2014 | 570175 | 0.04900231 | 13.78 | 0.04719061 |\n| 2015 | 521777 | 0.05199346 | 12.18 | 0.04905067 |\n| 2016 | 578142 | 0.04797603 | 13.44 | 0.04563348 |\n| 2017 | 586889 | 0.04814011 | 13.63 | 0.04471930 |\n| 2018 | 608033 | 0.04955726 | 13.78 | 0.04662491 |\n| 2019 | 668608 | 0.04649757 | 14.83 | 0.04370757 |\n| 2020 | 486153 | 0.06985739 | 12.50 | 0.06404623 |\n| 2021 | 695533 | 0.04749926 | 15.58 | 0.04258323 |\n| 2022 | 705541 | 0.04768598 | 15.02 | 0.04539609 |\n| 2023 | 677148 | 0.04801756 | 14.54 | 0.04581680 |\n\n",
      "text/latex": "A tibble: 17 × 5\n\\begin{tabular}{lllll}\n year & ocupados & ocupados\\_cv & porcentaje & porcentaje\\_cv\\\\\n <dbl> & <dbl> & <dbl> & <dbl> & <dbl>\\\\\n\\hline\n\t 2007 & 129427 & 0.09928315 &  3.26 & 0.09748795\\\\\n\t 2008 & 138792 & 0.09301033 &  3.61 & 0.09222328\\\\\n\t 2009 & 129733 & 0.09524193 &  3.32 & 0.09440508\\\\\n\t 2010 & 143190 & 0.10276259 &  3.67 & 0.10191412\\\\\n\t 2011 & 174559 & 0.10103369 &  4.23 & 0.09944722\\\\\n\t 2012 & 596174 & 0.04817791 & 14.12 & 0.04485467\\\\\n\t 2013 & 595932 & 0.04475438 & 14.05 & 0.04280903\\\\\n\t 2014 & 570175 & 0.04900231 & 13.78 & 0.04719061\\\\\n\t 2015 & 521777 & 0.05199346 & 12.18 & 0.04905067\\\\\n\t 2016 & 578142 & 0.04797603 & 13.44 & 0.04563348\\\\\n\t 2017 & 586889 & 0.04814011 & 13.63 & 0.04471930\\\\\n\t 2018 & 608033 & 0.04955726 & 13.78 & 0.04662491\\\\\n\t 2019 & 668608 & 0.04649757 & 14.83 & 0.04370757\\\\\n\t 2020 & 486153 & 0.06985739 & 12.50 & 0.06404623\\\\\n\t 2021 & 695533 & 0.04749926 & 15.58 & 0.04258323\\\\\n\t 2022 & 705541 & 0.04768598 & 15.02 & 0.04539609\\\\\n\t 2023 & 677148 & 0.04801756 & 14.54 & 0.04581680\\\\\n\\end{tabular}\n",
      "text/plain": [
       "   year ocupados ocupados_cv porcentaje porcentaje_cv\n",
       "1  2007 129427   0.09928315   3.26      0.09748795   \n",
       "2  2008 138792   0.09301033   3.61      0.09222328   \n",
       "3  2009 129733   0.09524193   3.32      0.09440508   \n",
       "4  2010 143190   0.10276259   3.67      0.10191412   \n",
       "5  2011 174559   0.10103369   4.23      0.09944722   \n",
       "6  2012 596174   0.04817791  14.12      0.04485467   \n",
       "7  2013 595932   0.04475438  14.05      0.04280903   \n",
       "8  2014 570175   0.04900231  13.78      0.04719061   \n",
       "9  2015 521777   0.05199346  12.18      0.04905067   \n",
       "10 2016 578142   0.04797603  13.44      0.04563348   \n",
       "11 2017 586889   0.04814011  13.63      0.04471930   \n",
       "12 2018 608033   0.04955726  13.78      0.04662491   \n",
       "13 2019 668608   0.04649757  14.83      0.04370757   \n",
       "14 2020 486153   0.06985739  12.50      0.06404623   \n",
       "15 2021 695533   0.04749926  15.58      0.04258323   \n",
       "16 2022 705541   0.04768598  15.02      0.04539609   \n",
       "17 2023 677148   0.04801756  14.54      0.04581680   "
      ]
     },
     "metadata": {},
     "output_type": "display_data"
    }
   ],
   "execution_count": 11
  },
  {
   "metadata": {
    "ExecuteTime": {
     "end_time": "2025-02-16T08:01:25.897970Z",
     "start_time": "2025-02-16T08:00:21.381510Z"
    }
   },
   "cell_type": "code",
   "source": [
    "#Estima empleo cultural de la Ciudad de México con metodología de cultura de la Ciudad de México\n",
    "print(\"Población ocupada en cultura en la Ciudad de México de acuerdo a metodología de cultura federal\")\n",
    "empleo_cultural_federal <- df_archivos %>%\n",
    "        select(-year) %>%\n",
    "  mutate(data = map2(sdemt, coe1t, ~ estima_empleo_cultura(.x, .y, \"empleo_cultural_federal\"))) %>%\n",
    "  unnest(data)%>%\n",
    "        select(year,ocupados,ocupados_cv,porcentaje,porcentaje_cv)%>%\n",
    "                mutate(porcentaje=round(porcentaje,2))\n",
    "empleo_cultural_federal"
   ],
   "id": "1333cc2f98ee271c",
   "outputs": [
    {
     "name": "stdout",
     "output_type": "stream",
     "text": [
      "[1] \"Población ocupada en cultura en la Ciudad de México de acuerdo a metodología de cultura federal\"\n"
     ]
    },
    {
     "name": "stderr",
     "output_type": "stream",
     "text": [
      "Warning message:\n",
      "\"\u001B[1m\u001B[22mThere were 23 warnings in `mutate()`.\n",
      "The first warning was:\n",
      "\u001B[1m\u001B[22m\u001B[36mℹ\u001B[39m In argument: `data = map2(sdemt, coe1t, ~estima_empleo_cultura(.x, .y,\n",
      "  \"empleo_cultural_federal\"))`.\n",
      "Caused by warning:\n",
      "\u001B[33m!\u001B[39m \u001B[1m\u001B[22mOne or more parsing issues, call `problems()` on your data frame for details,\n",
      "e.g.:\n",
      "  dat <- vroom(...)\n",
      "  problems(dat)\n",
      "\u001B[1m\u001B[22m\u001B[36mℹ\u001B[39m Run `dplyr::last_dplyr_warnings()` to see the 22 remaining warnings.\"\n"
     ]
    },
    {
     "data": {
      "text/html": [
       "<table class=\"dataframe\">\n",
       "<caption>A tibble: 17 × 5</caption>\n",
       "<thead>\n",
       "\t<tr><th scope=col>year</th><th scope=col>ocupados</th><th scope=col>ocupados_cv</th><th scope=col>porcentaje</th><th scope=col>porcentaje_cv</th></tr>\n",
       "\t<tr><th scope=col>&lt;dbl&gt;</th><th scope=col>&lt;dbl&gt;</th><th scope=col>&lt;dbl&gt;</th><th scope=col>&lt;dbl&gt;</th><th scope=col>&lt;dbl&gt;</th></tr>\n",
       "</thead>\n",
       "<tbody>\n",
       "\t<tr><td>2007</td><td>117324</td><td>0.10615912</td><td>2.96</td><td>0.10408597</td></tr>\n",
       "\t<tr><td>2008</td><td>124978</td><td>0.09589698</td><td>3.25</td><td>0.09511627</td></tr>\n",
       "\t<tr><td>2009</td><td>122125</td><td>0.09671641</td><td>3.12</td><td>0.09559326</td></tr>\n",
       "\t<tr><td>2010</td><td>131453</td><td>0.10765648</td><td>3.37</td><td>0.10661937</td></tr>\n",
       "\t<tr><td>2011</td><td>162777</td><td>0.10686320</td><td>3.95</td><td>0.10506053</td></tr>\n",
       "\t<tr><td>2012</td><td>219322</td><td>0.08215224</td><td>5.19</td><td>0.08005495</td></tr>\n",
       "\t<tr><td>2013</td><td>220271</td><td>0.07212605</td><td>5.19</td><td>0.07125053</td></tr>\n",
       "\t<tr><td>2014</td><td>172786</td><td>0.08501462</td><td>4.18</td><td>0.08497808</td></tr>\n",
       "\t<tr><td>2015</td><td>197084</td><td>0.08634617</td><td>4.60</td><td>0.08474294</td></tr>\n",
       "\t<tr><td>2016</td><td>209779</td><td>0.07938748</td><td>4.88</td><td>0.07849104</td></tr>\n",
       "\t<tr><td>2017</td><td>206139</td><td>0.09208859</td><td>4.79</td><td>0.08948897</td></tr>\n",
       "\t<tr><td>2018</td><td>232420</td><td>0.08163486</td><td>5.27</td><td>0.08008507</td></tr>\n",
       "\t<tr><td>2019</td><td>235079</td><td>0.07968477</td><td>5.22</td><td>0.07898016</td></tr>\n",
       "\t<tr><td>2020</td><td>186827</td><td>0.11839755</td><td>4.80</td><td>0.11592719</td></tr>\n",
       "\t<tr><td>2021</td><td>263262</td><td>0.07535023</td><td>5.90</td><td>0.07280337</td></tr>\n",
       "\t<tr><td>2022</td><td>288359</td><td>0.08304630</td><td>6.14</td><td>0.08212733</td></tr>\n",
       "\t<tr><td>2023</td><td>262767</td><td>0.07923949</td><td>5.64</td><td>0.07813802</td></tr>\n",
       "</tbody>\n",
       "</table>\n"
      ],
      "text/markdown": "\nA tibble: 17 × 5\n\n| year &lt;dbl&gt; | ocupados &lt;dbl&gt; | ocupados_cv &lt;dbl&gt; | porcentaje &lt;dbl&gt; | porcentaje_cv &lt;dbl&gt; |\n|---|---|---|---|---|\n| 2007 | 117324 | 0.10615912 | 2.96 | 0.10408597 |\n| 2008 | 124978 | 0.09589698 | 3.25 | 0.09511627 |\n| 2009 | 122125 | 0.09671641 | 3.12 | 0.09559326 |\n| 2010 | 131453 | 0.10765648 | 3.37 | 0.10661937 |\n| 2011 | 162777 | 0.10686320 | 3.95 | 0.10506053 |\n| 2012 | 219322 | 0.08215224 | 5.19 | 0.08005495 |\n| 2013 | 220271 | 0.07212605 | 5.19 | 0.07125053 |\n| 2014 | 172786 | 0.08501462 | 4.18 | 0.08497808 |\n| 2015 | 197084 | 0.08634617 | 4.60 | 0.08474294 |\n| 2016 | 209779 | 0.07938748 | 4.88 | 0.07849104 |\n| 2017 | 206139 | 0.09208859 | 4.79 | 0.08948897 |\n| 2018 | 232420 | 0.08163486 | 5.27 | 0.08008507 |\n| 2019 | 235079 | 0.07968477 | 5.22 | 0.07898016 |\n| 2020 | 186827 | 0.11839755 | 4.80 | 0.11592719 |\n| 2021 | 263262 | 0.07535023 | 5.90 | 0.07280337 |\n| 2022 | 288359 | 0.08304630 | 6.14 | 0.08212733 |\n| 2023 | 262767 | 0.07923949 | 5.64 | 0.07813802 |\n\n",
      "text/latex": "A tibble: 17 × 5\n\\begin{tabular}{lllll}\n year & ocupados & ocupados\\_cv & porcentaje & porcentaje\\_cv\\\\\n <dbl> & <dbl> & <dbl> & <dbl> & <dbl>\\\\\n\\hline\n\t 2007 & 117324 & 0.10615912 & 2.96 & 0.10408597\\\\\n\t 2008 & 124978 & 0.09589698 & 3.25 & 0.09511627\\\\\n\t 2009 & 122125 & 0.09671641 & 3.12 & 0.09559326\\\\\n\t 2010 & 131453 & 0.10765648 & 3.37 & 0.10661937\\\\\n\t 2011 & 162777 & 0.10686320 & 3.95 & 0.10506053\\\\\n\t 2012 & 219322 & 0.08215224 & 5.19 & 0.08005495\\\\\n\t 2013 & 220271 & 0.07212605 & 5.19 & 0.07125053\\\\\n\t 2014 & 172786 & 0.08501462 & 4.18 & 0.08497808\\\\\n\t 2015 & 197084 & 0.08634617 & 4.60 & 0.08474294\\\\\n\t 2016 & 209779 & 0.07938748 & 4.88 & 0.07849104\\\\\n\t 2017 & 206139 & 0.09208859 & 4.79 & 0.08948897\\\\\n\t 2018 & 232420 & 0.08163486 & 5.27 & 0.08008507\\\\\n\t 2019 & 235079 & 0.07968477 & 5.22 & 0.07898016\\\\\n\t 2020 & 186827 & 0.11839755 & 4.80 & 0.11592719\\\\\n\t 2021 & 263262 & 0.07535023 & 5.90 & 0.07280337\\\\\n\t 2022 & 288359 & 0.08304630 & 6.14 & 0.08212733\\\\\n\t 2023 & 262767 & 0.07923949 & 5.64 & 0.07813802\\\\\n\\end{tabular}\n",
      "text/plain": [
       "   year ocupados ocupados_cv porcentaje porcentaje_cv\n",
       "1  2007 117324   0.10615912  2.96       0.10408597   \n",
       "2  2008 124978   0.09589698  3.25       0.09511627   \n",
       "3  2009 122125   0.09671641  3.12       0.09559326   \n",
       "4  2010 131453   0.10765648  3.37       0.10661937   \n",
       "5  2011 162777   0.10686320  3.95       0.10506053   \n",
       "6  2012 219322   0.08215224  5.19       0.08005495   \n",
       "7  2013 220271   0.07212605  5.19       0.07125053   \n",
       "8  2014 172786   0.08501462  4.18       0.08497808   \n",
       "9  2015 197084   0.08634617  4.60       0.08474294   \n",
       "10 2016 209779   0.07938748  4.88       0.07849104   \n",
       "11 2017 206139   0.09208859  4.79       0.08948897   \n",
       "12 2018 232420   0.08163486  5.27       0.08008507   \n",
       "13 2019 235079   0.07968477  5.22       0.07898016   \n",
       "14 2020 186827   0.11839755  4.80       0.11592719   \n",
       "15 2021 263262   0.07535023  5.90       0.07280337   \n",
       "16 2022 288359   0.08304630  6.14       0.08212733   \n",
       "17 2023 262767   0.07923949  5.64       0.07813802   "
      ]
     },
     "metadata": {},
     "output_type": "display_data"
    }
   ],
   "execution_count": 12
  }
 ],
 "metadata": {
  "kernelspec": {
   "display_name": "R",
   "language": "R",
   "name": "ir"
  },
  "language_info": {
   "codemirror_mode": "r",
   "file_extension": ".r",
   "mimetype": "text/x-r-source",
   "name": "R",
   "pygments_lexer": "r",
   "version": "4.4.1"
  }
 },
 "nbformat": 4,
 "nbformat_minor": 5
}
