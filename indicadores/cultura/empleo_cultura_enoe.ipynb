{
 "cells": [
  {
   "cell_type": "code",
   "id": "5a1c8d84ae272f7a",
   "metadata": {
    "vscode": {
     "languageId": "r"
    },
    "ExecuteTime": {
     "end_time": "2025-02-17T03:46:29.365731Z",
     "start_time": "2025-02-17T03:46:28.157413Z"
    }
   },
   "source": [
    "##Estimación de indicadores de población ocupada en cultura\n",
    "#Se borra todo lo que se encuentra en el entorno\n",
    "\n",
    "rm(list=ls())\n",
    "\n",
    "# Librerías ====\n",
    "if(!require('pacman')) install.packages('pacman')\n",
    "pacman::p_load(tidyverse, showtext, srvyr,httr,utils)"
   ],
   "outputs": [
    {
     "name": "stderr",
     "output_type": "stream",
     "text": [
      "Loading required package: pacman\n",
      "\n"
     ]
    }
   ],
   "execution_count": 1
  },
  {
   "metadata": {
    "ExecuteTime": {
     "end_time": "2025-02-17T03:46:31.032918Z",
     "start_time": "2025-02-17T03:46:29.371388Z"
    }
   },
   "cell_type": "code",
   "source": [
    "font_add_google(\"Roboto\", \"rob\")\n",
    "showtext_auto()"
   ],
   "id": "7c16d401bd8442b0",
   "outputs": [],
   "execution_count": 2
  },
  {
   "metadata": {
    "ExecuteTime": {
     "end_time": "2025-02-17T03:46:31.049734Z",
     "start_time": "2025-02-17T03:46:31.037525Z"
    }
   },
   "cell_type": "code",
   "source": [
    "# Función para descargar los datos de la ENOE en formato CSV\n",
    "descargar_enoe_csv <- function() {\n",
    "  # Crear directorio de trabajo si no existe\n",
    "  if (!dir.exists(\"datos\")) {\n",
    "    dir.create(\"datos\")\n",
    "  }\n",
    "  if (!dir.exists(\"datos/enoe\")) {\n",
    "    dir.create(\"datos/enoe\")\n",
    "  }\n",
    "\n",
    "  # Cambiar al directorio de trabajo\n",
    "  setwd(\"datos/enoe\")\n",
    "\n",
    "  # Función para descargar y extraer archivos\n",
    "  descargar_extraer <- function(url) {\n",
    "    temp <- tempfile()\n",
    "    download.file(url, temp, mode = \"wb\")\n",
    "    unzip(temp)\n",
    "    unlink(temp)\n",
    "  }\n",
    "\n",
    "  # Descargar datos de 2005 a 2009\n",
    "  for (i in 7:9) {\n",
    "    url <- paste0(\"https://www.inegi.org.mx/contenidos/programas/enoe/15ymas/microdatos/200\", i, \"trim4_csv.zip\")\n",
    "    descargar_extraer(url)\n",
    "  }\n",
    "\n",
    "  # Descargar datos de 2010 a 2019\n",
    "  for (i in 10:19) {\n",
    "    url <- paste0(\"https://www.inegi.org.mx/contenidos/programas/enoe/15ymas/microdatos/20\", i, \"trim4_csv.zip\")\n",
    "    print(url)\n",
    "    descargar_extraer(url)\n",
    "  }\n",
    "\n",
    "  # Descargar datos de 2020\n",
    "  for (i in 20:20) {\n",
    "    url <- paste0(\"https://www.inegi.org.mx/contenidos/programas/enoe/15ymas/microdatos/enoe_n_20\", i, \"_trim4_csv.zip\")\n",
    "    descargar_extraer(url)\n",
    "  }\n",
    "\n",
    "  # Descargar datos de 2021 a 2022\n",
    "  for (i in 21:22) {\n",
    "    url <- paste0(\"https://www.inegi.org.mx/contenidos/programas/enoe/15ymas/microdatos/enoe_n_20\", i, \"_trim4_csv.zip\")\n",
    "    descargar_extraer(url)\n",
    "  }\n",
    "\n",
    "  # Descargar datos de 2023\n",
    "  for (i in 23:23) {\n",
    "    url <- paste0(\"https://www.inegi.org.mx/contenidos/programas/enoe/15ymas/microdatos/enoe_20\", i, \"_trim4_csv.zip\")\n",
    "    descargar_extraer(url)\n",
    "  }\n",
    "\n",
    "  # Eliminar archivos innecesarios (conservar solo SDEMT y COE1T)\n",
    "  # Listar archivos con extensión .csv, sin importar mayúsculas/minúsculas\n",
    "  archivos <- list.files(pattern = \"\\\\.csv$\", ignore.case = TRUE)\n",
    "\n",
    "  # Lista de archivos a eliminar (que NO contienen \"SDEMT\" o \"COE1T\", sin importar mayúsculas/minúsculas)\n",
    "  archivos_a_eliminar <- archivos[!grepl(\"sdemt|coe1t\", archivos, ignore.case = TRUE)]\n",
    "  file.remove(archivos_a_eliminar)\n",
    "\n",
    "  # Eliminar archivo zip (si existe)\n",
    "  if (file.exists(\"archivos.zip\")) {\n",
    "    file.remove(\"archivos.zip\")\n",
    "  }\n",
    "\n",
    "  # Regresar al directorio original\n",
    "  setwd(\"../..\")\n",
    "}"
   ],
   "id": "4e741ea4dedb190a",
   "outputs": [],
   "execution_count": 3
  },
  {
   "metadata": {
    "ExecuteTime": {
     "end_time": "2025-02-17T03:53:51.957252Z",
     "start_time": "2025-02-17T03:46:31.056014Z"
    }
   },
   "cell_type": "code",
   "source": "descargar_enoe_csv()",
   "id": "7d4d4a48394400b5",
   "outputs": [
    {
     "name": "stdout",
     "output_type": "stream",
     "text": [
      "[1] \"https://www.inegi.org.mx/contenidos/programas/enoe/15ymas/microdatos/2010trim4_csv.zip\"\n",
      "[1] \"https://www.inegi.org.mx/contenidos/programas/enoe/15ymas/microdatos/2011trim4_csv.zip\"\n",
      "[1] \"https://www.inegi.org.mx/contenidos/programas/enoe/15ymas/microdatos/2012trim4_csv.zip\"\n",
      "[1] \"https://www.inegi.org.mx/contenidos/programas/enoe/15ymas/microdatos/2013trim4_csv.zip\"\n",
      "[1] \"https://www.inegi.org.mx/contenidos/programas/enoe/15ymas/microdatos/2014trim4_csv.zip\"\n",
      "[1] \"https://www.inegi.org.mx/contenidos/programas/enoe/15ymas/microdatos/2015trim4_csv.zip\"\n",
      "[1] \"https://www.inegi.org.mx/contenidos/programas/enoe/15ymas/microdatos/2016trim4_csv.zip\"\n",
      "[1] \"https://www.inegi.org.mx/contenidos/programas/enoe/15ymas/microdatos/2017trim4_csv.zip\"\n",
      "[1] \"https://www.inegi.org.mx/contenidos/programas/enoe/15ymas/microdatos/2018trim4_csv.zip\"\n",
      "[1] \"https://www.inegi.org.mx/contenidos/programas/enoe/15ymas/microdatos/2019trim4_csv.zip\"\n"
     ]
    }
   ],
   "execution_count": 4
  },
  {
   "metadata": {
    "ExecuteTime": {
     "end_time": "2025-02-17T03:53:51.996069Z",
     "start_time": "2025-02-17T03:53:51.979063Z"
    }
   },
   "cell_type": "code",
   "source": [
    "# Función para extraer el año desde el nombre del archivo\n",
    "extraer_anio <- function(path) {\n",
    "  anio_str <- str_extract(path, \"\\\\d{2}(?=\\\\D*$)\") # Extrae los últimos dos dígitos del año\n",
    "  anio <- as.numeric(paste0(\"20\", anio_str)) # Convierte a formato 20XX\n",
    "  return(anio)\n",
    "}"
   ],
   "id": "63fc83038a890866",
   "outputs": [],
   "execution_count": 5
  },
  {
   "metadata": {
    "ExecuteTime": {
     "end_time": "2025-02-17T03:53:52.013498Z",
     "start_time": "2025-02-17T03:53:52.001359Z"
    }
   },
   "cell_type": "code",
   "source": [
    "# Función para procesar la ENOE con ajuste para `tipo`\n",
    "estima_empleo_cultura <- function(sdemt_path, coe1t_path, tipo_empleo = \"empleo_cultural_federal\") {\n",
    "  year <- extraer_anio(sdemt_path)\n",
    "\n",
    "  # Leer y filtrar ocupados\n",
    "  ocupados <- read_csv(sdemt_path, show_col_types = FALSE) %>%\n",
    "    janitor::clean_names() %>%\n",
    "    filter(\n",
    "      clase2 == 1,\n",
    "      (eda >= 15 & eda <= 98 & !is.na(eda)) & (c_res == 1 | c_res == 3)\n",
    "    ) %>%\n",
    "    mutate(year = year) # Agregar el año\n",
    "\n",
    "  # Leer COE1T y seleccionar columnas según el año\n",
    "  sinco <- read_csv(coe1t_path, show_col_types = FALSE) %>%\n",
    "    janitor::clean_names() %>%\n",
    "    { if (year <= 2019) select(., cd_a, ent, con, v_sel, n_hog, h_mud, n_ren, p3) else\n",
    "        select(., tipo, mes_cal, cd_a, ent, con, v_sel, n_hog, h_mud, n_ren, p3) } %>%\n",
    "    rename(sinco = p3)\n",
    "\n",
    "  # Hacer el `left_join()` sin `tipo` si el año está entre 2005 y 2019\n",
    "  if (year <= 2019) {\n",
    "    ocupados <- left_join(ocupados, sinco, by = c(\"cd_a\", \"ent\", \"con\", \"v_sel\", \"n_hog\", \"h_mud\", \"n_ren\"))\n",
    "  } else {\n",
    "    ocupados <- left_join(ocupados, sinco, by = c(\"tipo\", \"mes_cal\", \"cd_a\", \"ent\", \"con\", \"v_sel\", \"n_hog\", \"h_mud\", \"n_ren\"))\n",
    "  }\n",
    "\n",
    "  # Clasificación de empleo cultural\n",
    "  ocupados <- ocupados %>%\n",
    "    mutate(\n",
    "      cultura_federal = ifelse(sinco %in% c(\n",
    "        2175, 7611, 2552, 2131, 7313, 7342, 7321, 2174, 7343, 2173, 2171, 1721, 1722,\n",
    "        2544, 2271, 2625, 2162, 1422, 1322, 1421, 2541, 2543, 2542, 2164, 2151, 2163, 2144, 2425, 2655, 3222, 7322, 2712,\n",
    "        7223, 2551, 5212, 2636, 4233, 2172, 8155, 8144, 7999, 7344, 2553, 7352, 2152, 2161, 7323, 7201, 7601, 7401, 7301,\n",
    "        2652, 7332, 9713, 4312, 7614, 7353\n",
    "      ), 1, 0),\n",
    "      cultura_cdmx = ifelse(sinco %in% c(\n",
    "        2175, 7611, 2552, 2131, 7313, 7342, 7321, 2174, 7343, 2173, 2171, 1721, 1722,\n",
    "        2544, 2271, 2625, 2162, 1422, 1322, 1421, 2541, 2543, 2542, 2164, 2151, 2163, 2144, 2425, 2655, 3222, 7322, 2712,\n",
    "        7223, 2551, 5212, 2636, 4233, 2172, 8155, 8144, 7999, 7344, 2553, 7352, 2152, 2161, 7323, 7201, 7601, 7401, 7301,\n",
    "        2652, 7332, 9713, 4312, 7614, 7353, 2514, 5212, 2653, 2654, 7299, 7999, 7311, 7331, 7341, 7411, 7412, 9234, 9235,\n",
    "        9237, 4233, 2141, 2153, 2339, 2334, 2715, 1412, 1712, 3221, 5101, 5111, 5112, 5113, 5114, 5115, 5116, 5119, 7515, 7517, 9411\n",
    "      ), 1, 0),\n",
    "             cultura_cdmx_st = ifelse(sinco %in% c(\n",
    "        2175, 7611, 2552, 2131, 7313, 7342, 7321, 2174, 7343, 2173, 2171, 1721, 1722,\n",
    "        2544, 2271, 2625, 2162, 1422, 1322, 1421, 2541, 2543, 2542, 2164, 2151, 2163, 2144, 2425, 2655, 3222, 7322, 2712,\n",
    "        7223, 2551, 5212, 2636, 4233, 2172, 8155, 8144, 7999, 7344, 2553, 7352, 2152, 2161, 7323, 7201, 7601, 7401, 7301,\n",
    "        2652, 7332, 9713, 4312, 7614, 7353, 2514, 5212, 2653, 2654, 7299, 7999, 7311, 7331, 7341, 7411, 7412, 9234, 9235,\n",
    "        9237, 4233, 2141, 2153, 2339, 2334, 2715\n",
    "      ), 1, 0)\n",
    "\n",
    "    )\n",
    "\n",
    "  # Crear diseño de encuesta\n",
    "  options(survey.lonely.psu = \"certainty\")\n",
    "  if (year <= 2019) {\n",
    "    dm <- ocupados %>%\n",
    "      as_survey_design(\n",
    "        ids = upm,\n",
    "        strata = est_d,\n",
    "        weights = fac,\n",
    "        nest = TRUE\n",
    "      )\n",
    "  } else {\n",
    "    dm <- ocupados %>%\n",
    "      as_survey_design(\n",
    "        ids = upm,\n",
    "        strata = est_d_tri,\n",
    "        weights = fac_tri,\n",
    "        nest = TRUE\n",
    "      )\n",
    "  }\n",
    "  # Filtrar y calcular ocupados por tipo de empleo\n",
    "  resultado <- if (tipo_empleo == \"empleo_cultural_federal\") {\n",
    "    dm %>%\n",
    "      filter(ent == 9) %>%\n",
    "      group_by(cultura_federal) %>%\n",
    "      summarise(\n",
    "        ocupados = survey_total(vartype = \"cv\"),\n",
    "        porcentaje = survey_prop(vartype = \"cv\")\n",
    "      ) %>%\n",
    "      mutate(porcentaje = porcentaje * 100) %>%\n",
    "      filter(cultura_federal == 1)%>%\n",
    "                mutate(year = year)\n",
    "  } else if (tipo_empleo == \"empleo_cultural_cdmx\") {\n",
    "    dm %>%\n",
    "      filter(ent == 9) %>%\n",
    "      group_by(cultura_cdmx) %>%\n",
    "      summarise(\n",
    "        ocupados = survey_total(vartype = \"cv\"),\n",
    "        porcentaje = survey_prop(vartype = \"cv\")\n",
    "      ) %>%\n",
    "      mutate(porcentaje = porcentaje * 100) %>%\n",
    "      filter(cultura_cdmx == 1)%>%\n",
    "              mutate(year = year)\n",
    "  } else if (tipo_empleo == \"empleo_cultural_cdmx_st\") {\n",
    "    dm %>%\n",
    "      filter(ent == 9) %>%\n",
    "      group_by(cultura_cdmx_st) %>%\n",
    "      summarise(\n",
    "        ocupados = survey_total(vartype = \"cv\"),\n",
    "        porcentaje = survey_prop(vartype = \"cv\")\n",
    "      ) %>%\n",
    "      mutate(porcentaje = porcentaje * 100) %>%\n",
    "      filter(cultura_cdmx_st == 1)%>%\n",
    "              mutate(year = year)\n",
    "\n",
    "  }\n",
    "\n",
    "            else {\n",
    "    stop(\"El parámetro 'tipo_empleo' debe ser 'empleo_cultural_federal', 'empleo_cultural_cdmx' o 'empleo_cultural_cdmx_st'\")\n",
    "  }\n",
    "\n",
    "  return(resultado)\n",
    "}"
   ],
   "id": "5b43444e2367aa",
   "outputs": [],
   "execution_count": 6
  },
  {
   "metadata": {
    "ExecuteTime": {
     "end_time": "2025-02-17T03:53:52.027772Z",
     "start_time": "2025-02-17T03:53:52.017702Z"
    }
   },
   "cell_type": "code",
   "source": "lista_archivos <- list.files(path = \"datos/enoe\", full.names = TRUE)",
   "id": "44a6afcf2d9d1fde",
   "outputs": [],
   "execution_count": 7
  },
  {
   "metadata": {
    "ExecuteTime": {
     "end_time": "2025-02-17T03:53:52.049978Z",
     "start_time": "2025-02-17T03:53:52.031404Z"
    }
   },
   "cell_type": "code",
   "source": [
    "archivos_sdemt <- lista_archivos[str_detect(lista_archivos, regex(\"sdemt\", ignore_case = TRUE))]\n",
    "archivos_coe1t <- lista_archivos[str_detect(lista_archivos, regex(\"coe1t\", ignore_case = TRUE))]"
   ],
   "id": "6177c20a49863156",
   "outputs": [],
   "execution_count": 8
  },
  {
   "metadata": {
    "ExecuteTime": {
     "end_time": "2025-02-17T03:53:52.092434Z",
     "start_time": "2025-02-17T03:53:52.056382Z"
    }
   },
   "cell_type": "code",
   "source": [
    "# Crear un data frame con los nombres de archivos y sus años\n",
    "df_archivos <- tibble(\n",
    "  sdemt = archivos_sdemt,\n",
    "  year = map_int(archivos_sdemt, extraer_anio)\n",
    ") %>%\n",
    "  left_join(\n",
    "    tibble(\n",
    "      coe1t = archivos_coe1t,\n",
    "      year = map_int(archivos_coe1t, extraer_anio)\n",
    "    ),\n",
    "    by = \"year\"\n",
    "  ) %>%\n",
    "  filter(!is.na(sdemt) & !is.na(coe1t))%>%\n",
    "        arrange(year)\n",
    "df_archivos"
   ],
   "id": "c9bc63c54cc7ce5b",
   "outputs": [
    {
     "data": {
      "text/html": [
       "<table class=\"dataframe\">\n",
       "<caption>A tibble: 17 × 3</caption>\n",
       "<thead>\n",
       "\t<tr><th scope=col>sdemt</th><th scope=col>year</th><th scope=col>coe1t</th></tr>\n",
       "\t<tr><th scope=col>&lt;chr&gt;</th><th scope=col>&lt;int&gt;</th><th scope=col>&lt;chr&gt;</th></tr>\n",
       "</thead>\n",
       "<tbody>\n",
       "\t<tr><td>datos/enoe/SDEMT407.csv      </td><td>2007</td><td>datos/enoe/COE1T407.csv      </td></tr>\n",
       "\t<tr><td>datos/enoe/SDEMT408.csv      </td><td>2008</td><td>datos/enoe/COE1T408.csv      </td></tr>\n",
       "\t<tr><td>datos/enoe/SDEMT409.csv      </td><td>2009</td><td>datos/enoe/COE1T409.csv      </td></tr>\n",
       "\t<tr><td>datos/enoe/SDEMT410.csv      </td><td>2010</td><td>datos/enoe/COE1T410.csv      </td></tr>\n",
       "\t<tr><td>datos/enoe/SDEMT411.csv      </td><td>2011</td><td>datos/enoe/COE1T411.csv      </td></tr>\n",
       "\t<tr><td>datos/enoe/sdemt412.csv      </td><td>2012</td><td>datos/enoe/coe1t412.csv      </td></tr>\n",
       "\t<tr><td>datos/enoe/sdemt413.csv      </td><td>2013</td><td>datos/enoe/coe1t413.csv      </td></tr>\n",
       "\t<tr><td>datos/enoe/SDEMT414.csv      </td><td>2014</td><td>datos/enoe/COE1T414.csv      </td></tr>\n",
       "\t<tr><td>datos/enoe/SDEMT415.csv      </td><td>2015</td><td>datos/enoe/COE1T415.csv      </td></tr>\n",
       "\t<tr><td>datos/enoe/SDEMT416.csv      </td><td>2016</td><td>datos/enoe/COE1T416.csv      </td></tr>\n",
       "\t<tr><td>datos/enoe/SDEMT417.csv      </td><td>2017</td><td>datos/enoe/COE1T417.csv      </td></tr>\n",
       "\t<tr><td>datos/enoe/SDEMT418.csv      </td><td>2018</td><td>datos/enoe/COE1T418.csv      </td></tr>\n",
       "\t<tr><td>datos/enoe/sdemt419.csv      </td><td>2019</td><td>datos/enoe/coe1t419.csv      </td></tr>\n",
       "\t<tr><td>datos/enoe/ENOEN_SDEMT420.csv</td><td>2020</td><td>datos/enoe/ENOEN_COE1T420.csv</td></tr>\n",
       "\t<tr><td>datos/enoe/ENOEN_SDEMT421.csv</td><td>2021</td><td>datos/enoe/ENOEN_COE1T421.csv</td></tr>\n",
       "\t<tr><td>datos/enoe/ENOEN_SDEMT422.csv</td><td>2022</td><td>datos/enoe/ENOEN_COE1T422.csv</td></tr>\n",
       "\t<tr><td>datos/enoe/ENOE_SDEMT423.csv </td><td>2023</td><td>datos/enoe/ENOE_COE1T423.csv </td></tr>\n",
       "</tbody>\n",
       "</table>\n"
      ],
      "text/markdown": "\nA tibble: 17 × 3\n\n| sdemt &lt;chr&gt; | year &lt;int&gt; | coe1t &lt;chr&gt; |\n|---|---|---|\n| datos/enoe/SDEMT407.csv       | 2007 | datos/enoe/COE1T407.csv       |\n| datos/enoe/SDEMT408.csv       | 2008 | datos/enoe/COE1T408.csv       |\n| datos/enoe/SDEMT409.csv       | 2009 | datos/enoe/COE1T409.csv       |\n| datos/enoe/SDEMT410.csv       | 2010 | datos/enoe/COE1T410.csv       |\n| datos/enoe/SDEMT411.csv       | 2011 | datos/enoe/COE1T411.csv       |\n| datos/enoe/sdemt412.csv       | 2012 | datos/enoe/coe1t412.csv       |\n| datos/enoe/sdemt413.csv       | 2013 | datos/enoe/coe1t413.csv       |\n| datos/enoe/SDEMT414.csv       | 2014 | datos/enoe/COE1T414.csv       |\n| datos/enoe/SDEMT415.csv       | 2015 | datos/enoe/COE1T415.csv       |\n| datos/enoe/SDEMT416.csv       | 2016 | datos/enoe/COE1T416.csv       |\n| datos/enoe/SDEMT417.csv       | 2017 | datos/enoe/COE1T417.csv       |\n| datos/enoe/SDEMT418.csv       | 2018 | datos/enoe/COE1T418.csv       |\n| datos/enoe/sdemt419.csv       | 2019 | datos/enoe/coe1t419.csv       |\n| datos/enoe/ENOEN_SDEMT420.csv | 2020 | datos/enoe/ENOEN_COE1T420.csv |\n| datos/enoe/ENOEN_SDEMT421.csv | 2021 | datos/enoe/ENOEN_COE1T421.csv |\n| datos/enoe/ENOEN_SDEMT422.csv | 2022 | datos/enoe/ENOEN_COE1T422.csv |\n| datos/enoe/ENOE_SDEMT423.csv  | 2023 | datos/enoe/ENOE_COE1T423.csv  |\n\n",
      "text/latex": "A tibble: 17 × 3\n\\begin{tabular}{lll}\n sdemt & year & coe1t\\\\\n <chr> & <int> & <chr>\\\\\n\\hline\n\t datos/enoe/SDEMT407.csv       & 2007 & datos/enoe/COE1T407.csv      \\\\\n\t datos/enoe/SDEMT408.csv       & 2008 & datos/enoe/COE1T408.csv      \\\\\n\t datos/enoe/SDEMT409.csv       & 2009 & datos/enoe/COE1T409.csv      \\\\\n\t datos/enoe/SDEMT410.csv       & 2010 & datos/enoe/COE1T410.csv      \\\\\n\t datos/enoe/SDEMT411.csv       & 2011 & datos/enoe/COE1T411.csv      \\\\\n\t datos/enoe/sdemt412.csv       & 2012 & datos/enoe/coe1t412.csv      \\\\\n\t datos/enoe/sdemt413.csv       & 2013 & datos/enoe/coe1t413.csv      \\\\\n\t datos/enoe/SDEMT414.csv       & 2014 & datos/enoe/COE1T414.csv      \\\\\n\t datos/enoe/SDEMT415.csv       & 2015 & datos/enoe/COE1T415.csv      \\\\\n\t datos/enoe/SDEMT416.csv       & 2016 & datos/enoe/COE1T416.csv      \\\\\n\t datos/enoe/SDEMT417.csv       & 2017 & datos/enoe/COE1T417.csv      \\\\\n\t datos/enoe/SDEMT418.csv       & 2018 & datos/enoe/COE1T418.csv      \\\\\n\t datos/enoe/sdemt419.csv       & 2019 & datos/enoe/coe1t419.csv      \\\\\n\t datos/enoe/ENOEN\\_SDEMT420.csv & 2020 & datos/enoe/ENOEN\\_COE1T420.csv\\\\\n\t datos/enoe/ENOEN\\_SDEMT421.csv & 2021 & datos/enoe/ENOEN\\_COE1T421.csv\\\\\n\t datos/enoe/ENOEN\\_SDEMT422.csv & 2022 & datos/enoe/ENOEN\\_COE1T422.csv\\\\\n\t datos/enoe/ENOE\\_SDEMT423.csv  & 2023 & datos/enoe/ENOE\\_COE1T423.csv \\\\\n\\end{tabular}\n",
      "text/plain": [
       "   sdemt                         year coe1t                        \n",
       "1  datos/enoe/SDEMT407.csv       2007 datos/enoe/COE1T407.csv      \n",
       "2  datos/enoe/SDEMT408.csv       2008 datos/enoe/COE1T408.csv      \n",
       "3  datos/enoe/SDEMT409.csv       2009 datos/enoe/COE1T409.csv      \n",
       "4  datos/enoe/SDEMT410.csv       2010 datos/enoe/COE1T410.csv      \n",
       "5  datos/enoe/SDEMT411.csv       2011 datos/enoe/COE1T411.csv      \n",
       "6  datos/enoe/sdemt412.csv       2012 datos/enoe/coe1t412.csv      \n",
       "7  datos/enoe/sdemt413.csv       2013 datos/enoe/coe1t413.csv      \n",
       "8  datos/enoe/SDEMT414.csv       2014 datos/enoe/COE1T414.csv      \n",
       "9  datos/enoe/SDEMT415.csv       2015 datos/enoe/COE1T415.csv      \n",
       "10 datos/enoe/SDEMT416.csv       2016 datos/enoe/COE1T416.csv      \n",
       "11 datos/enoe/SDEMT417.csv       2017 datos/enoe/COE1T417.csv      \n",
       "12 datos/enoe/SDEMT418.csv       2018 datos/enoe/COE1T418.csv      \n",
       "13 datos/enoe/sdemt419.csv       2019 datos/enoe/coe1t419.csv      \n",
       "14 datos/enoe/ENOEN_SDEMT420.csv 2020 datos/enoe/ENOEN_COE1T420.csv\n",
       "15 datos/enoe/ENOEN_SDEMT421.csv 2021 datos/enoe/ENOEN_COE1T421.csv\n",
       "16 datos/enoe/ENOEN_SDEMT422.csv 2022 datos/enoe/ENOEN_COE1T422.csv\n",
       "17 datos/enoe/ENOE_SDEMT423.csv  2023 datos/enoe/ENOE_COE1T423.csv "
      ]
     },
     "metadata": {},
     "output_type": "display_data"
    }
   ],
   "execution_count": 9
  },
  {
   "metadata": {
    "ExecuteTime": {
     "end_time": "2025-02-17T03:55:08.373290Z",
     "start_time": "2025-02-17T03:53:52.101233Z"
    }
   },
   "cell_type": "code",
   "source": [
    "#Estima empleo cultural de la Ciudad de México con metodología de cultura de la Ciudad de México\n",
    "print(\"Población ocupada en cultura en la Ciudad de México de acuerdo a metodología de cultura cdmx\")\n",
    "empleo_cultural_cdmx <- df_archivos %>%\n",
    "        select(-year) %>%\n",
    "  mutate(data = map2(sdemt, coe1t, ~ estima_empleo_cultura(.x, .y, \"empleo_cultural_cdmx\"))) %>%\n",
    "  unnest(data)%>%\n",
    "        select(year,ocupados,ocupados_cv,porcentaje,porcentaje_cv)%>%\n",
    "        mutate(porcentaje=round(porcentaje,2))\n",
    "empleo_cultural_cdmx"
   ],
   "id": "e7af70cc127e9578",
   "outputs": [
    {
     "name": "stdout",
     "output_type": "stream",
     "text": [
      "[1] \"Población ocupada en cultura en la Ciudad de México de acuerdo a metodología de cultura cdmx\"\n"
     ]
    },
    {
     "name": "stderr",
     "output_type": "stream",
     "text": [
      "Warning message:\n",
      "\"\u001B[1m\u001B[22mThere were 23 warnings in `mutate()`.\n",
      "The first warning was:\n",
      "\u001B[1m\u001B[22m\u001B[36mℹ\u001B[39m In argument: `data = map2(sdemt, coe1t, ~estima_empleo_cultura(.x, .y,\n",
      "  \"empleo_cultural_cdmx\"))`.\n",
      "Caused by warning:\n",
      "\u001B[33m!\u001B[39m \u001B[1m\u001B[22mOne or more parsing issues, call `problems()` on your data frame for details,\n",
      "e.g.:\n",
      "  dat <- vroom(...)\n",
      "  problems(dat)\n",
      "\u001B[1m\u001B[22m\u001B[36mℹ\u001B[39m Run `dplyr::last_dplyr_warnings()` to see the 22 remaining warnings.\"\n"
     ]
    },
    {
     "data": {
      "text/html": [
       "<table class=\"dataframe\">\n",
       "<caption>A tibble: 17 × 5</caption>\n",
       "<thead>\n",
       "\t<tr><th scope=col>year</th><th scope=col>ocupados</th><th scope=col>ocupados_cv</th><th scope=col>porcentaje</th><th scope=col>porcentaje_cv</th></tr>\n",
       "\t<tr><th scope=col>&lt;dbl&gt;</th><th scope=col>&lt;dbl&gt;</th><th scope=col>&lt;dbl&gt;</th><th scope=col>&lt;dbl&gt;</th><th scope=col>&lt;dbl&gt;</th></tr>\n",
       "</thead>\n",
       "<tbody>\n",
       "\t<tr><td>2007</td><td>129427</td><td>0.09928315</td><td> 3.26</td><td>0.09748795</td></tr>\n",
       "\t<tr><td>2008</td><td>138792</td><td>0.09301033</td><td> 3.61</td><td>0.09222328</td></tr>\n",
       "\t<tr><td>2009</td><td>129733</td><td>0.09524193</td><td> 3.32</td><td>0.09440508</td></tr>\n",
       "\t<tr><td>2010</td><td>143190</td><td>0.10276259</td><td> 3.67</td><td>0.10191412</td></tr>\n",
       "\t<tr><td>2011</td><td>174559</td><td>0.10103369</td><td> 4.23</td><td>0.09944722</td></tr>\n",
       "\t<tr><td>2012</td><td>596174</td><td>0.04817791</td><td>14.12</td><td>0.04485467</td></tr>\n",
       "\t<tr><td>2013</td><td>595932</td><td>0.04475438</td><td>14.05</td><td>0.04280903</td></tr>\n",
       "\t<tr><td>2014</td><td>570175</td><td>0.04900231</td><td>13.78</td><td>0.04719061</td></tr>\n",
       "\t<tr><td>2015</td><td>521777</td><td>0.05199346</td><td>12.18</td><td>0.04905067</td></tr>\n",
       "\t<tr><td>2016</td><td>578142</td><td>0.04797603</td><td>13.44</td><td>0.04563348</td></tr>\n",
       "\t<tr><td>2017</td><td>586889</td><td>0.04814011</td><td>13.63</td><td>0.04471930</td></tr>\n",
       "\t<tr><td>2018</td><td>608033</td><td>0.04955726</td><td>13.78</td><td>0.04662491</td></tr>\n",
       "\t<tr><td>2019</td><td>668608</td><td>0.04649757</td><td>14.83</td><td>0.04370757</td></tr>\n",
       "\t<tr><td>2020</td><td>486153</td><td>0.06985739</td><td>12.50</td><td>0.06404623</td></tr>\n",
       "\t<tr><td>2021</td><td>695533</td><td>0.04749926</td><td>15.58</td><td>0.04258323</td></tr>\n",
       "\t<tr><td>2022</td><td>705541</td><td>0.04768598</td><td>15.02</td><td>0.04539609</td></tr>\n",
       "\t<tr><td>2023</td><td>677148</td><td>0.04801756</td><td>14.54</td><td>0.04581680</td></tr>\n",
       "</tbody>\n",
       "</table>\n"
      ],
      "text/markdown": "\nA tibble: 17 × 5\n\n| year &lt;dbl&gt; | ocupados &lt;dbl&gt; | ocupados_cv &lt;dbl&gt; | porcentaje &lt;dbl&gt; | porcentaje_cv &lt;dbl&gt; |\n|---|---|---|---|---|\n| 2007 | 129427 | 0.09928315 |  3.26 | 0.09748795 |\n| 2008 | 138792 | 0.09301033 |  3.61 | 0.09222328 |\n| 2009 | 129733 | 0.09524193 |  3.32 | 0.09440508 |\n| 2010 | 143190 | 0.10276259 |  3.67 | 0.10191412 |\n| 2011 | 174559 | 0.10103369 |  4.23 | 0.09944722 |\n| 2012 | 596174 | 0.04817791 | 14.12 | 0.04485467 |\n| 2013 | 595932 | 0.04475438 | 14.05 | 0.04280903 |\n| 2014 | 570175 | 0.04900231 | 13.78 | 0.04719061 |\n| 2015 | 521777 | 0.05199346 | 12.18 | 0.04905067 |\n| 2016 | 578142 | 0.04797603 | 13.44 | 0.04563348 |\n| 2017 | 586889 | 0.04814011 | 13.63 | 0.04471930 |\n| 2018 | 608033 | 0.04955726 | 13.78 | 0.04662491 |\n| 2019 | 668608 | 0.04649757 | 14.83 | 0.04370757 |\n| 2020 | 486153 | 0.06985739 | 12.50 | 0.06404623 |\n| 2021 | 695533 | 0.04749926 | 15.58 | 0.04258323 |\n| 2022 | 705541 | 0.04768598 | 15.02 | 0.04539609 |\n| 2023 | 677148 | 0.04801756 | 14.54 | 0.04581680 |\n\n",
      "text/latex": "A tibble: 17 × 5\n\\begin{tabular}{lllll}\n year & ocupados & ocupados\\_cv & porcentaje & porcentaje\\_cv\\\\\n <dbl> & <dbl> & <dbl> & <dbl> & <dbl>\\\\\n\\hline\n\t 2007 & 129427 & 0.09928315 &  3.26 & 0.09748795\\\\\n\t 2008 & 138792 & 0.09301033 &  3.61 & 0.09222328\\\\\n\t 2009 & 129733 & 0.09524193 &  3.32 & 0.09440508\\\\\n\t 2010 & 143190 & 0.10276259 &  3.67 & 0.10191412\\\\\n\t 2011 & 174559 & 0.10103369 &  4.23 & 0.09944722\\\\\n\t 2012 & 596174 & 0.04817791 & 14.12 & 0.04485467\\\\\n\t 2013 & 595932 & 0.04475438 & 14.05 & 0.04280903\\\\\n\t 2014 & 570175 & 0.04900231 & 13.78 & 0.04719061\\\\\n\t 2015 & 521777 & 0.05199346 & 12.18 & 0.04905067\\\\\n\t 2016 & 578142 & 0.04797603 & 13.44 & 0.04563348\\\\\n\t 2017 & 586889 & 0.04814011 & 13.63 & 0.04471930\\\\\n\t 2018 & 608033 & 0.04955726 & 13.78 & 0.04662491\\\\\n\t 2019 & 668608 & 0.04649757 & 14.83 & 0.04370757\\\\\n\t 2020 & 486153 & 0.06985739 & 12.50 & 0.06404623\\\\\n\t 2021 & 695533 & 0.04749926 & 15.58 & 0.04258323\\\\\n\t 2022 & 705541 & 0.04768598 & 15.02 & 0.04539609\\\\\n\t 2023 & 677148 & 0.04801756 & 14.54 & 0.04581680\\\\\n\\end{tabular}\n",
      "text/plain": [
       "   year ocupados ocupados_cv porcentaje porcentaje_cv\n",
       "1  2007 129427   0.09928315   3.26      0.09748795   \n",
       "2  2008 138792   0.09301033   3.61      0.09222328   \n",
       "3  2009 129733   0.09524193   3.32      0.09440508   \n",
       "4  2010 143190   0.10276259   3.67      0.10191412   \n",
       "5  2011 174559   0.10103369   4.23      0.09944722   \n",
       "6  2012 596174   0.04817791  14.12      0.04485467   \n",
       "7  2013 595932   0.04475438  14.05      0.04280903   \n",
       "8  2014 570175   0.04900231  13.78      0.04719061   \n",
       "9  2015 521777   0.05199346  12.18      0.04905067   \n",
       "10 2016 578142   0.04797603  13.44      0.04563348   \n",
       "11 2017 586889   0.04814011  13.63      0.04471930   \n",
       "12 2018 608033   0.04955726  13.78      0.04662491   \n",
       "13 2019 668608   0.04649757  14.83      0.04370757   \n",
       "14 2020 486153   0.06985739  12.50      0.06404623   \n",
       "15 2021 695533   0.04749926  15.58      0.04258323   \n",
       "16 2022 705541   0.04768598  15.02      0.04539609   \n",
       "17 2023 677148   0.04801756  14.54      0.04581680   "
      ]
     },
     "metadata": {},
     "output_type": "display_data"
    }
   ],
   "execution_count": 10
  },
  {
   "metadata": {
    "ExecuteTime": {
     "end_time": "2025-02-17T03:56:20.622395Z",
     "start_time": "2025-02-17T03:55:08.545176Z"
    }
   },
   "cell_type": "code",
   "source": [
    "#Estima empleo cultural de la Ciudad de México con metodología de cultura de la Ciudad de México\n",
    "print(\"Población ocupada en cultura en la Ciudad de México de acuerdo a metodología de cultura cdmx sin turismo\")\n",
    "empleo_cultural_cdmx_st <- df_archivos %>%\n",
    "        select(-year) %>%\n",
    "  mutate(data = map2(sdemt, coe1t, ~ estima_empleo_cultura(.x, .y, \"empleo_cultural_cdmx_st\"))) %>%\n",
    "  unnest(data)%>%\n",
    "        select(year,ocupados,ocupados_cv,porcentaje,porcentaje_cv)%>%\n",
    "        mutate(porcentaje=round(porcentaje,2))\n",
    "empleo_cultural_cdmx_st"
   ],
   "id": "b4fc97856ffb854",
   "outputs": [
    {
     "name": "stdout",
     "output_type": "stream",
     "text": [
      "[1] \"Población ocupada en cultura en la Ciudad de México de acuerdo a metodología de cultura cdmx sin turismo\"\n"
     ]
    },
    {
     "name": "stderr",
     "output_type": "stream",
     "text": [
      "Warning message:\n",
      "\"\u001B[1m\u001B[22mThere were 23 warnings in `mutate()`.\n",
      "The first warning was:\n",
      "\u001B[1m\u001B[22m\u001B[36mℹ\u001B[39m In argument: `data = map2(sdemt, coe1t, ~estima_empleo_cultura(.x, .y,\n",
      "  \"empleo_cultural_cdmx_st\"))`.\n",
      "Caused by warning:\n",
      "\u001B[33m!\u001B[39m \u001B[1m\u001B[22mOne or more parsing issues, call `problems()` on your data frame for details,\n",
      "e.g.:\n",
      "  dat <- vroom(...)\n",
      "  problems(dat)\n",
      "\u001B[1m\u001B[22m\u001B[36mℹ\u001B[39m Run `dplyr::last_dplyr_warnings()` to see the 22 remaining warnings.\"\n"
     ]
    },
    {
     "data": {
      "text/html": [
       "<table class=\"dataframe\">\n",
       "<caption>A tibble: 17 × 5</caption>\n",
       "<thead>\n",
       "\t<tr><th scope=col>year</th><th scope=col>ocupados</th><th scope=col>ocupados_cv</th><th scope=col>porcentaje</th><th scope=col>porcentaje_cv</th></tr>\n",
       "\t<tr><th scope=col>&lt;dbl&gt;</th><th scope=col>&lt;dbl&gt;</th><th scope=col>&lt;dbl&gt;</th><th scope=col>&lt;dbl&gt;</th><th scope=col>&lt;dbl&gt;</th></tr>\n",
       "</thead>\n",
       "<tbody>\n",
       "\t<tr><td>2007</td><td>117324</td><td>0.10615912</td><td>2.96</td><td>0.10408597</td></tr>\n",
       "\t<tr><td>2008</td><td>124978</td><td>0.09589698</td><td>3.25</td><td>0.09511627</td></tr>\n",
       "\t<tr><td>2009</td><td>122125</td><td>0.09671641</td><td>3.12</td><td>0.09559326</td></tr>\n",
       "\t<tr><td>2010</td><td>131453</td><td>0.10765648</td><td>3.37</td><td>0.10661937</td></tr>\n",
       "\t<tr><td>2011</td><td>162777</td><td>0.10686320</td><td>3.95</td><td>0.10506053</td></tr>\n",
       "\t<tr><td>2012</td><td>341868</td><td>0.06424250</td><td>8.10</td><td>0.06213111</td></tr>\n",
       "\t<tr><td>2013</td><td>336024</td><td>0.05917835</td><td>7.92</td><td>0.05783600</td></tr>\n",
       "\t<tr><td>2014</td><td>273731</td><td>0.06582635</td><td>6.62</td><td>0.06539734</td></tr>\n",
       "\t<tr><td>2015</td><td>302599</td><td>0.06784081</td><td>7.07</td><td>0.06559345</td></tr>\n",
       "\t<tr><td>2016</td><td>322208</td><td>0.06326627</td><td>7.49</td><td>0.06243783</td></tr>\n",
       "\t<tr><td>2017</td><td>329414</td><td>0.06731191</td><td>7.65</td><td>0.06456276</td></tr>\n",
       "\t<tr><td>2018</td><td>349406</td><td>0.06400450</td><td>7.92</td><td>0.06251077</td></tr>\n",
       "\t<tr><td>2019</td><td>374506</td><td>0.06174492</td><td>8.31</td><td>0.06033944</td></tr>\n",
       "\t<tr><td>2020</td><td>287462</td><td>0.09242724</td><td>7.39</td><td>0.08836009</td></tr>\n",
       "\t<tr><td>2021</td><td>384793</td><td>0.06559592</td><td>8.62</td><td>0.06240425</td></tr>\n",
       "\t<tr><td>2022</td><td>397450</td><td>0.06812728</td><td>8.46</td><td>0.06653336</td></tr>\n",
       "\t<tr><td>2023</td><td>371098</td><td>0.06426160</td><td>7.97</td><td>0.06320753</td></tr>\n",
       "</tbody>\n",
       "</table>\n"
      ],
      "text/markdown": "\nA tibble: 17 × 5\n\n| year &lt;dbl&gt; | ocupados &lt;dbl&gt; | ocupados_cv &lt;dbl&gt; | porcentaje &lt;dbl&gt; | porcentaje_cv &lt;dbl&gt; |\n|---|---|---|---|---|\n| 2007 | 117324 | 0.10615912 | 2.96 | 0.10408597 |\n| 2008 | 124978 | 0.09589698 | 3.25 | 0.09511627 |\n| 2009 | 122125 | 0.09671641 | 3.12 | 0.09559326 |\n| 2010 | 131453 | 0.10765648 | 3.37 | 0.10661937 |\n| 2011 | 162777 | 0.10686320 | 3.95 | 0.10506053 |\n| 2012 | 341868 | 0.06424250 | 8.10 | 0.06213111 |\n| 2013 | 336024 | 0.05917835 | 7.92 | 0.05783600 |\n| 2014 | 273731 | 0.06582635 | 6.62 | 0.06539734 |\n| 2015 | 302599 | 0.06784081 | 7.07 | 0.06559345 |\n| 2016 | 322208 | 0.06326627 | 7.49 | 0.06243783 |\n| 2017 | 329414 | 0.06731191 | 7.65 | 0.06456276 |\n| 2018 | 349406 | 0.06400450 | 7.92 | 0.06251077 |\n| 2019 | 374506 | 0.06174492 | 8.31 | 0.06033944 |\n| 2020 | 287462 | 0.09242724 | 7.39 | 0.08836009 |\n| 2021 | 384793 | 0.06559592 | 8.62 | 0.06240425 |\n| 2022 | 397450 | 0.06812728 | 8.46 | 0.06653336 |\n| 2023 | 371098 | 0.06426160 | 7.97 | 0.06320753 |\n\n",
      "text/latex": "A tibble: 17 × 5\n\\begin{tabular}{lllll}\n year & ocupados & ocupados\\_cv & porcentaje & porcentaje\\_cv\\\\\n <dbl> & <dbl> & <dbl> & <dbl> & <dbl>\\\\\n\\hline\n\t 2007 & 117324 & 0.10615912 & 2.96 & 0.10408597\\\\\n\t 2008 & 124978 & 0.09589698 & 3.25 & 0.09511627\\\\\n\t 2009 & 122125 & 0.09671641 & 3.12 & 0.09559326\\\\\n\t 2010 & 131453 & 0.10765648 & 3.37 & 0.10661937\\\\\n\t 2011 & 162777 & 0.10686320 & 3.95 & 0.10506053\\\\\n\t 2012 & 341868 & 0.06424250 & 8.10 & 0.06213111\\\\\n\t 2013 & 336024 & 0.05917835 & 7.92 & 0.05783600\\\\\n\t 2014 & 273731 & 0.06582635 & 6.62 & 0.06539734\\\\\n\t 2015 & 302599 & 0.06784081 & 7.07 & 0.06559345\\\\\n\t 2016 & 322208 & 0.06326627 & 7.49 & 0.06243783\\\\\n\t 2017 & 329414 & 0.06731191 & 7.65 & 0.06456276\\\\\n\t 2018 & 349406 & 0.06400450 & 7.92 & 0.06251077\\\\\n\t 2019 & 374506 & 0.06174492 & 8.31 & 0.06033944\\\\\n\t 2020 & 287462 & 0.09242724 & 7.39 & 0.08836009\\\\\n\t 2021 & 384793 & 0.06559592 & 8.62 & 0.06240425\\\\\n\t 2022 & 397450 & 0.06812728 & 8.46 & 0.06653336\\\\\n\t 2023 & 371098 & 0.06426160 & 7.97 & 0.06320753\\\\\n\\end{tabular}\n",
      "text/plain": [
       "   year ocupados ocupados_cv porcentaje porcentaje_cv\n",
       "1  2007 117324   0.10615912  2.96       0.10408597   \n",
       "2  2008 124978   0.09589698  3.25       0.09511627   \n",
       "3  2009 122125   0.09671641  3.12       0.09559326   \n",
       "4  2010 131453   0.10765648  3.37       0.10661937   \n",
       "5  2011 162777   0.10686320  3.95       0.10506053   \n",
       "6  2012 341868   0.06424250  8.10       0.06213111   \n",
       "7  2013 336024   0.05917835  7.92       0.05783600   \n",
       "8  2014 273731   0.06582635  6.62       0.06539734   \n",
       "9  2015 302599   0.06784081  7.07       0.06559345   \n",
       "10 2016 322208   0.06326627  7.49       0.06243783   \n",
       "11 2017 329414   0.06731191  7.65       0.06456276   \n",
       "12 2018 349406   0.06400450  7.92       0.06251077   \n",
       "13 2019 374506   0.06174492  8.31       0.06033944   \n",
       "14 2020 287462   0.09242724  7.39       0.08836009   \n",
       "15 2021 384793   0.06559592  8.62       0.06240425   \n",
       "16 2022 397450   0.06812728  8.46       0.06653336   \n",
       "17 2023 371098   0.06426160  7.97       0.06320753   "
      ]
     },
     "metadata": {},
     "output_type": "display_data"
    }
   ],
   "execution_count": 11
  },
  {
   "metadata": {
    "ExecuteTime": {
     "end_time": "2025-02-17T03:57:32.967320Z",
     "start_time": "2025-02-17T03:56:20.690993Z"
    }
   },
   "cell_type": "code",
   "source": [
    "#Estima empleo cultural de la Ciudad de México con metodología de cultura de la Ciudad de México\n",
    "print(\"Población ocupada en cultura en la Ciudad de México de acuerdo a metodología de cultura federal\")\n",
    "empleo_cultural_federal <- df_archivos %>%\n",
    "        select(-year) %>%\n",
    "  mutate(data = map2(sdemt, coe1t, ~ estima_empleo_cultura(.x, .y, \"empleo_cultural_federal\"))) %>%\n",
    "  unnest(data)%>%\n",
    "        select(year,ocupados,ocupados_cv,porcentaje,porcentaje_cv)%>%\n",
    "                mutate(porcentaje=round(porcentaje,2))\n",
    "empleo_cultural_federal"
   ],
   "id": "1333cc2f98ee271c",
   "outputs": [
    {
     "name": "stdout",
     "output_type": "stream",
     "text": [
      "[1] \"Población ocupada en cultura en la Ciudad de México de acuerdo a metodología de cultura federal\"\n"
     ]
    },
    {
     "name": "stderr",
     "output_type": "stream",
     "text": [
      "Warning message:\n",
      "\"\u001B[1m\u001B[22mThere were 23 warnings in `mutate()`.\n",
      "The first warning was:\n",
      "\u001B[1m\u001B[22m\u001B[36mℹ\u001B[39m In argument: `data = map2(sdemt, coe1t, ~estima_empleo_cultura(.x, .y,\n",
      "  \"empleo_cultural_federal\"))`.\n",
      "Caused by warning:\n",
      "\u001B[33m!\u001B[39m \u001B[1m\u001B[22mOne or more parsing issues, call `problems()` on your data frame for details,\n",
      "e.g.:\n",
      "  dat <- vroom(...)\n",
      "  problems(dat)\n",
      "\u001B[1m\u001B[22m\u001B[36mℹ\u001B[39m Run `dplyr::last_dplyr_warnings()` to see the 22 remaining warnings.\"\n"
     ]
    },
    {
     "data": {
      "text/html": [
       "<table class=\"dataframe\">\n",
       "<caption>A tibble: 17 × 5</caption>\n",
       "<thead>\n",
       "\t<tr><th scope=col>year</th><th scope=col>ocupados</th><th scope=col>ocupados_cv</th><th scope=col>porcentaje</th><th scope=col>porcentaje_cv</th></tr>\n",
       "\t<tr><th scope=col>&lt;dbl&gt;</th><th scope=col>&lt;dbl&gt;</th><th scope=col>&lt;dbl&gt;</th><th scope=col>&lt;dbl&gt;</th><th scope=col>&lt;dbl&gt;</th></tr>\n",
       "</thead>\n",
       "<tbody>\n",
       "\t<tr><td>2007</td><td>117324</td><td>0.10615912</td><td>2.96</td><td>0.10408597</td></tr>\n",
       "\t<tr><td>2008</td><td>124978</td><td>0.09589698</td><td>3.25</td><td>0.09511627</td></tr>\n",
       "\t<tr><td>2009</td><td>122125</td><td>0.09671641</td><td>3.12</td><td>0.09559326</td></tr>\n",
       "\t<tr><td>2010</td><td>131453</td><td>0.10765648</td><td>3.37</td><td>0.10661937</td></tr>\n",
       "\t<tr><td>2011</td><td>162777</td><td>0.10686320</td><td>3.95</td><td>0.10506053</td></tr>\n",
       "\t<tr><td>2012</td><td>219322</td><td>0.08215224</td><td>5.19</td><td>0.08005495</td></tr>\n",
       "\t<tr><td>2013</td><td>220271</td><td>0.07212605</td><td>5.19</td><td>0.07125053</td></tr>\n",
       "\t<tr><td>2014</td><td>172786</td><td>0.08501462</td><td>4.18</td><td>0.08497808</td></tr>\n",
       "\t<tr><td>2015</td><td>197084</td><td>0.08634617</td><td>4.60</td><td>0.08474294</td></tr>\n",
       "\t<tr><td>2016</td><td>209779</td><td>0.07938748</td><td>4.88</td><td>0.07849104</td></tr>\n",
       "\t<tr><td>2017</td><td>206139</td><td>0.09208859</td><td>4.79</td><td>0.08948897</td></tr>\n",
       "\t<tr><td>2018</td><td>232420</td><td>0.08163486</td><td>5.27</td><td>0.08008507</td></tr>\n",
       "\t<tr><td>2019</td><td>235079</td><td>0.07968477</td><td>5.22</td><td>0.07898016</td></tr>\n",
       "\t<tr><td>2020</td><td>186827</td><td>0.11839755</td><td>4.80</td><td>0.11592719</td></tr>\n",
       "\t<tr><td>2021</td><td>263262</td><td>0.07535023</td><td>5.90</td><td>0.07280337</td></tr>\n",
       "\t<tr><td>2022</td><td>288359</td><td>0.08304630</td><td>6.14</td><td>0.08212733</td></tr>\n",
       "\t<tr><td>2023</td><td>262767</td><td>0.07923949</td><td>5.64</td><td>0.07813802</td></tr>\n",
       "</tbody>\n",
       "</table>\n"
      ],
      "text/markdown": "\nA tibble: 17 × 5\n\n| year &lt;dbl&gt; | ocupados &lt;dbl&gt; | ocupados_cv &lt;dbl&gt; | porcentaje &lt;dbl&gt; | porcentaje_cv &lt;dbl&gt; |\n|---|---|---|---|---|\n| 2007 | 117324 | 0.10615912 | 2.96 | 0.10408597 |\n| 2008 | 124978 | 0.09589698 | 3.25 | 0.09511627 |\n| 2009 | 122125 | 0.09671641 | 3.12 | 0.09559326 |\n| 2010 | 131453 | 0.10765648 | 3.37 | 0.10661937 |\n| 2011 | 162777 | 0.10686320 | 3.95 | 0.10506053 |\n| 2012 | 219322 | 0.08215224 | 5.19 | 0.08005495 |\n| 2013 | 220271 | 0.07212605 | 5.19 | 0.07125053 |\n| 2014 | 172786 | 0.08501462 | 4.18 | 0.08497808 |\n| 2015 | 197084 | 0.08634617 | 4.60 | 0.08474294 |\n| 2016 | 209779 | 0.07938748 | 4.88 | 0.07849104 |\n| 2017 | 206139 | 0.09208859 | 4.79 | 0.08948897 |\n| 2018 | 232420 | 0.08163486 | 5.27 | 0.08008507 |\n| 2019 | 235079 | 0.07968477 | 5.22 | 0.07898016 |\n| 2020 | 186827 | 0.11839755 | 4.80 | 0.11592719 |\n| 2021 | 263262 | 0.07535023 | 5.90 | 0.07280337 |\n| 2022 | 288359 | 0.08304630 | 6.14 | 0.08212733 |\n| 2023 | 262767 | 0.07923949 | 5.64 | 0.07813802 |\n\n",
      "text/latex": "A tibble: 17 × 5\n\\begin{tabular}{lllll}\n year & ocupados & ocupados\\_cv & porcentaje & porcentaje\\_cv\\\\\n <dbl> & <dbl> & <dbl> & <dbl> & <dbl>\\\\\n\\hline\n\t 2007 & 117324 & 0.10615912 & 2.96 & 0.10408597\\\\\n\t 2008 & 124978 & 0.09589698 & 3.25 & 0.09511627\\\\\n\t 2009 & 122125 & 0.09671641 & 3.12 & 0.09559326\\\\\n\t 2010 & 131453 & 0.10765648 & 3.37 & 0.10661937\\\\\n\t 2011 & 162777 & 0.10686320 & 3.95 & 0.10506053\\\\\n\t 2012 & 219322 & 0.08215224 & 5.19 & 0.08005495\\\\\n\t 2013 & 220271 & 0.07212605 & 5.19 & 0.07125053\\\\\n\t 2014 & 172786 & 0.08501462 & 4.18 & 0.08497808\\\\\n\t 2015 & 197084 & 0.08634617 & 4.60 & 0.08474294\\\\\n\t 2016 & 209779 & 0.07938748 & 4.88 & 0.07849104\\\\\n\t 2017 & 206139 & 0.09208859 & 4.79 & 0.08948897\\\\\n\t 2018 & 232420 & 0.08163486 & 5.27 & 0.08008507\\\\\n\t 2019 & 235079 & 0.07968477 & 5.22 & 0.07898016\\\\\n\t 2020 & 186827 & 0.11839755 & 4.80 & 0.11592719\\\\\n\t 2021 & 263262 & 0.07535023 & 5.90 & 0.07280337\\\\\n\t 2022 & 288359 & 0.08304630 & 6.14 & 0.08212733\\\\\n\t 2023 & 262767 & 0.07923949 & 5.64 & 0.07813802\\\\\n\\end{tabular}\n",
      "text/plain": [
       "   year ocupados ocupados_cv porcentaje porcentaje_cv\n",
       "1  2007 117324   0.10615912  2.96       0.10408597   \n",
       "2  2008 124978   0.09589698  3.25       0.09511627   \n",
       "3  2009 122125   0.09671641  3.12       0.09559326   \n",
       "4  2010 131453   0.10765648  3.37       0.10661937   \n",
       "5  2011 162777   0.10686320  3.95       0.10506053   \n",
       "6  2012 219322   0.08215224  5.19       0.08005495   \n",
       "7  2013 220271   0.07212605  5.19       0.07125053   \n",
       "8  2014 172786   0.08501462  4.18       0.08497808   \n",
       "9  2015 197084   0.08634617  4.60       0.08474294   \n",
       "10 2016 209779   0.07938748  4.88       0.07849104   \n",
       "11 2017 206139   0.09208859  4.79       0.08948897   \n",
       "12 2018 232420   0.08163486  5.27       0.08008507   \n",
       "13 2019 235079   0.07968477  5.22       0.07898016   \n",
       "14 2020 186827   0.11839755  4.80       0.11592719   \n",
       "15 2021 263262   0.07535023  5.90       0.07280337   \n",
       "16 2022 288359   0.08304630  6.14       0.08212733   \n",
       "17 2023 262767   0.07923949  5.64       0.07813802   "
      ]
     },
     "metadata": {},
     "output_type": "display_data"
    }
   ],
   "execution_count": 12
  },
  {
   "metadata": {},
   "cell_type": "markdown",
   "source": "### Metas",
   "id": "ab85725351ae86f6"
  },
  {
   "metadata": {
    "ExecuteTime": {
     "end_time": "2025-02-17T03:57:33.031162Z",
     "start_time": "2025-02-17T03:57:33.019009Z"
    }
   },
   "cell_type": "code",
   "source": [
    "predecir_empleo_cultural <- function(df_predict, titulo=\"Proyección de empleo cultural\", nombre_archivo=\"proyeccion_empleo.png\") {\n",
    "  # Ajustar modelo de regresión lineal\n",
    "  model <- lm(porcentaje ~ year, data = df_predict)\n",
    "  print(summary(model))\n",
    "\n",
    "  # Crear datos futuros\n",
    "  future_years <- data.frame(year = 2024:2045)\n",
    "\n",
    "  # Hacer predicciones\n",
    "  future_predictions <- predict(model, newdata = future_years)\n",
    "\n",
    "  # Crear data frame con predicciones\n",
    "  predictions_df <- data.frame(\n",
    "    year = future_years$year,\n",
    "    porcentaje = future_predictions\n",
    "  )\n",
    "\n",
    "  # Unir los datos originales con las predicciones\n",
    "  df_final <- bind_rows(df_predict, predictions_df)\n",
    "\n",
    "  # Mostrar valores 2030, 2035 y 2045\n",
    "  print(\"Metas del indicador\")\n",
    "print(df_final %>%\n",
    "        filter(year %in% c(2030, 2035, 2045)) %>%\n",
    "        mutate(porcentaje = sprintf(\"%.2f\", porcentaje)) %>%  # Formatear a dos decimales\n",
    "        select(year, porcentaje))\n",
    "\n",
    "  # Generar gráfico\n",
    "  grafico <- ggplot(df_final, aes(x = year, y = porcentaje)) +\n",
    "    geom_line(color=\"#9f2241\",linewidth=1.5) +\n",
    "    labs(title = titulo, x = \"Año\", y = \"Porcentaje\") +\n",
    "    geom_vline(xintercept = c(2024), linetype = \"dashed\", color = \"red\") +\n",
    "          theme_minimal() +\n",
    "    theme(\n",
    "      plot.title = element_text(hjust = 0, size=20, face=\"bold\"),\n",
    "      plot.subtitle = element_text(hjust = 0, size=15, face=\"italic\"),\n",
    "      plot.caption = element_text(hjust = 0, size=10),\n",
    "      legend.position = \"right\",\n",
    "      legend.text = element_text(size=18),\n",
    "      axis.text.x = element_text(angle = 90, hjust = 1, size=18),\n",
    "      legend.title = element_text(size=18),\n",
    "      text = element_text(family=\"rob\")\n",
    "    )\n",
    "\n",
    "  # Guardar la gráfica en un archivo\n",
    "  ggsave(nombre_archivo, plot = grafico, width = 10, height = 6, dpi = 100,bg=\"white\")\n",
    "\n",
    "  return(grafico)\n",
    "}"
   ],
   "id": "20dc26d85b512da3",
   "outputs": [],
   "execution_count": 13
  },
  {
   "metadata": {
    "ExecuteTime": {
     "end_time": "2025-02-17T03:57:33.552927Z",
     "start_time": "2025-02-17T03:57:33.131162Z"
    }
   },
   "cell_type": "code",
   "source": [
    "# empleo_cultural_cdmx\n",
    "predecir_empleo_cultural(empleo_cultural_cdmx, \"Proyección de empleo cultural en CDMX\", \"proyeccion_empleo_cdmx.png\")"
   ],
   "id": "61f631bf86b07db3",
   "outputs": [
    {
     "name": "stdout",
     "output_type": "stream",
     "text": [
      "\n",
      "Call:\n",
      "lm(formula = porcentaje ~ year, data = df_predict)\n",
      "\n",
      "Residuals:\n",
      "    Min      1Q  Median      3Q     Max \n",
      "-3.4682 -2.4340 -0.1579  1.2659  5.6178 \n",
      "\n",
      "Coefficients:\n",
      "              Estimate Std. Error t value Pr(>|t|)    \n",
      "(Intercept) -1609.0866   287.4729  -5.597 5.09e-05 ***\n",
      "year            0.8040     0.1427   5.635 4.74e-05 ***\n",
      "---\n",
      "Signif. codes:  0 '***' 0.001 '**' 0.01 '*' 0.05 '.' 0.1 ' ' 1\n",
      "\n",
      "Residual standard error: 2.882 on 15 degrees of freedom\n",
      "Multiple R-squared:  0.6792,\tAdjusted R-squared:  0.6578 \n",
      "F-statistic: 31.76 on 1 and 15 DF,  p-value: 4.743e-05\n",
      "\n",
      "[1] \"Metas del indicador\"\n",
      "\u001B[90m# A tibble: 3 × 2\u001B[39m\n",
      "   year porcentaje\n",
      "  \u001B[3m\u001B[90m<dbl>\u001B[39m\u001B[23m \u001B[3m\u001B[90m<chr>\u001B[39m\u001B[23m     \n",
      "\u001B[90m1\u001B[39m  \u001B[4m2\u001B[24m030 22.97     \n",
      "\u001B[90m2\u001B[39m  \u001B[4m2\u001B[24m035 26.99     \n",
      "\u001B[90m3\u001B[39m  \u001B[4m2\u001B[24m045 35.03     \n"
     ]
    },
    {
     "data": {
      "text/plain": [
       "plot without title"
      ],
      "image/png": "[encoded data removed]"
     },
     "metadata": {
      "image/png": {
       "width": 420,
       "height": 420
      }
     },
     "output_type": "display_data"
    }
   ],
   "execution_count": 14
  },
  {
   "metadata": {
    "ExecuteTime": {
     "end_time": "2025-02-17T03:57:33.781955Z",
     "start_time": "2025-02-17T03:57:33.561425Z"
    }
   },
   "cell_type": "code",
   "source": [
    "# Ejemplo de uso con empleo_cultural_cdmx\n",
    "predecir_empleo_cultural(empleo_cultural_cdmx_st, \"Proyección de empleo cultural en CDMX sin turismo\", \"proyeccion_empleo_cdmx_st.png\")"
   ],
   "id": "e863841703e14249",
   "outputs": [
    {
     "name": "stdout",
     "output_type": "stream",
     "text": [
      "\n",
      "Call:\n",
      "lm(formula = porcentaje ~ year, data = df_predict)\n",
      "\n",
      "Residuals:\n",
      "     Min       1Q   Median       3Q      Max \n",
      "-1.39059 -0.89059 -0.02059  0.49941  2.69941 \n",
      "\n",
      "Coefficients:\n",
      "              Estimate Std. Error t value Pr(>|t|)    \n",
      "(Intercept) -718.91941  120.08130  -5.987 2.49e-05 ***\n",
      "year           0.36000    0.05959   6.041 2.26e-05 ***\n",
      "---\n",
      "Signif. codes:  0 '***' 0.001 '**' 0.01 '*' 0.05 '.' 0.1 ' ' 1\n",
      "\n",
      "Residual standard error: 1.204 on 15 degrees of freedom\n",
      "Multiple R-squared:  0.7087,\tAdjusted R-squared:  0.6893 \n",
      "F-statistic: 36.49 on 1 and 15 DF,  p-value: 2.26e-05\n",
      "\n",
      "[1] \"Metas del indicador\"\n",
      "\u001B[90m# A tibble: 3 × 2\u001B[39m\n",
      "   year porcentaje\n",
      "  \u001B[3m\u001B[90m<dbl>\u001B[39m\u001B[23m \u001B[3m\u001B[90m<chr>\u001B[39m\u001B[23m     \n",
      "\u001B[90m1\u001B[39m  \u001B[4m2\u001B[24m030 11.88     \n",
      "\u001B[90m2\u001B[39m  \u001B[4m2\u001B[24m035 13.68     \n",
      "\u001B[90m3\u001B[39m  \u001B[4m2\u001B[24m045 17.28     \n"
     ]
    },
    {
     "data": {
      "text/plain": [
       "plot without title"
      ],
      "image/png": "[encoded data removed]"
     },
     "metadata": {
      "image/png": {
       "width": 420,
       "height": 420
      }
     },
     "output_type": "display_data"
    }
   ],
   "execution_count": 15
  },
  {
   "metadata": {
    "ExecuteTime": {
     "end_time": "2025-02-17T03:57:33.988128Z",
     "start_time": "2025-02-17T03:57:33.790467Z"
    }
   },
   "cell_type": "code",
   "source": "predecir_empleo_cultural(empleo_cultural_federal, \"Proyección de empleo cultural en CDMX federal\", \"proyeccion_empleo_federal.png\")",
   "id": "a22f7aee93c58d43",
   "outputs": [
    {
     "name": "stdout",
     "output_type": "stream",
     "text": [
      "\n",
      "Call:\n",
      "lm(formula = porcentaje ~ year, data = df_predict)\n",
      "\n",
      "Residuals:\n",
      "     Min       1Q   Median       3Q      Max \n",
      "-0.68137 -0.26804 -0.08804  0.13529  1.09529 \n",
      "\n",
      "Coefficients:\n",
      "             Estimate Std. Error t value Pr(>|t|)    \n",
      "(Intercept) -344.6520    47.3521  -7.278 2.70e-06 ***\n",
      "year           0.1733     0.0235   7.376 2.31e-06 ***\n",
      "---\n",
      "Signif. codes:  0 '***' 0.001 '**' 0.01 '*' 0.05 '.' 0.1 ' ' 1\n",
      "\n",
      "Residual standard error: 0.4747 on 15 degrees of freedom\n",
      "Multiple R-squared:  0.7839,\tAdjusted R-squared:  0.7695 \n",
      "F-statistic:  54.4 on 1 and 15 DF,  p-value: 2.307e-06\n",
      "\n",
      "[1] \"Metas del indicador\"\n",
      "\u001B[90m# A tibble: 3 × 2\u001B[39m\n",
      "   year porcentaje\n",
      "  \u001B[3m\u001B[90m<dbl>\u001B[39m\u001B[23m \u001B[3m\u001B[90m<chr>\u001B[39m\u001B[23m     \n",
      "\u001B[90m1\u001B[39m  \u001B[4m2\u001B[24m030 7.21      \n",
      "\u001B[90m2\u001B[39m  \u001B[4m2\u001B[24m035 8.08      \n",
      "\u001B[90m3\u001B[39m  \u001B[4m2\u001B[24m045 9.81      \n"
     ]
    },
    {
     "data": {
      "text/plain": [
       "plot without title"
      ],
      "image/png": "[encoded data removed]"
     },
     "metadata": {
      "image/png": {
       "width": 420,
       "height": 420
      }
     },
     "output_type": "display_data"
    }
   ],
   "execution_count": 16
  }
 ],
 "metadata": {
  "kernelspec": {
   "display_name": "R",
   "language": "R",
   "name": "ir"
  },
  "language_info": {
   "codemirror_mode": "r",
   "file_extension": ".r",
   "mimetype": "text/x-r-source",
   "name": "R",
   "pygments_lexer": "r",
   "version": "4.4.1"
  }
 },
 "nbformat": 4,
 "nbformat_minor": 5
}
