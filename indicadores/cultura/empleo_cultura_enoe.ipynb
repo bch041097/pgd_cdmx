{
 "cells": [
  {
   "cell_type": "code",
   "id": "5a1c8d84ae272f7a",
   "metadata": {
    "vscode": {
     "languageId": "r"
    },
    "ExecuteTime": {
     "end_time": "2025-02-16T05:43:10.782176Z",
     "start_time": "2025-02-16T05:43:09.735867Z"
    }
   },
   "source": [
    "##Estimación de indicadores de población ocupada en cultura\n",
    "#Se borra todo lo que se encuentra en el entorno\n",
    "\n",
    "rm(list=ls())\n",
    "\n",
    "# Librerías ====\n",
    "if(!require('pacman')) install.packages('pacman')\n",
    "pacman::p_load(tidyverse, showtext, srvyr)"
   ],
   "outputs": [
    {
     "name": "stderr",
     "output_type": "stream",
     "text": [
      "Loading required package: pacman\n",
      "\n"
     ]
    }
   ],
   "execution_count": 1
  },
  {
   "cell_type": "code",
   "id": "4d31281d6fc8bace",
   "metadata": {
    "vscode": {
     "languageId": "r"
    },
    "ExecuteTime": {
     "end_time": "2025-02-16T05:43:10.812665Z",
     "start_time": "2025-02-16T05:43:10.786835Z"
    }
   },
   "source": [
    "#Crear directorio para guardar los archivos\n",
    "dir.create(\"data\", showWarnings = FALSE)"
   ],
   "outputs": [],
   "execution_count": 2
  },
  {
   "cell_type": "code",
   "id": "a6ac9b9891fc4b14",
   "metadata": {
    "vscode": {
     "languageId": "r"
    },
    "ExecuteTime": {
     "end_time": "2025-02-16T05:43:10.827913Z",
     "start_time": "2025-02-16T05:43:10.817334Z"
    }
   },
   "source": [
    "url<-\"https://www.inegi.org.mx/contenidos/programas/enoe/15ymas/microdatos/enoe_2024_trim2_csv.zip\"\n"
   ],
   "outputs": [],
   "execution_count": 3
  },
  {
   "cell_type": "code",
   "id": "a8a126f12b921064",
   "metadata": {
    "vscode": {
     "languageId": "r"
    },
    "ExecuteTime": {
     "end_time": "2025-02-16T05:43:34.933820Z",
     "start_time": "2025-02-16T05:43:10.831804Z"
    }
   },
   "source": [
    "# Descargar el archivo y descomprimirlo\n",
    "options(timeout = 9999999)\n",
    "destfile <- \"data/conjunto_de_datos_enoe_2024_2t_csv.zip\"\n",
    "download.file(url, destfile = destfile)\n",
    "unzip(destfile, exdir = \"data\")"
   ],
   "outputs": [],
   "execution_count": 4
  },
  {
   "cell_type": "code",
   "id": "8d4efe1e5eb2c9a2",
   "metadata": {
    "vscode": {
     "languageId": "r"
    },
    "ExecuteTime": {
     "end_time": "2025-02-16T05:43:37.008724Z",
     "start_time": "2025-02-16T05:43:34.940494Z"
    }
   },
   "source": [
    "#Leer tabla y filtrar ocupados\n",
    "\n",
    "ocupados<-read_csv(\"data/ENOE_SDEMT224.csv\", show_col_types = FALSE)%>%\n",
    "janitor::clean_names()%>%\n",
    "filter(\n",
    "       clase2==1,\n",
    "       ((eda>=15 & eda<=98 & !is.na(eda)) &\n",
    "                                     (c_res==1 | c_res==3)))\n",
    "nrow(ocupados)\n"
   ],
   "outputs": [
    {
     "name": "stderr",
     "output_type": "stream",
     "text": [
      "Warning message:\n",
      "\"\u001B[1m\u001B[22mOne or more parsing issues, call `problems()` on your data frame for details,\n",
      "e.g.:\n",
      "  dat <- vroom(...)\n",
      "  problems(dat)\"\n"
     ]
    },
    {
     "data": {
      "text/html": [
       "195278"
      ],
      "text/markdown": "195278",
      "text/latex": "195278",
      "text/plain": [
       "[1] 195278"
      ]
     },
     "metadata": {},
     "output_type": "display_data"
    }
   ],
   "execution_count": 5
  },
  {
   "cell_type": "code",
   "id": "6c46044724ad2802",
   "metadata": {
    "vscode": {
     "languageId": "r"
    },
    "ExecuteTime": {
     "end_time": "2025-02-16T05:43:38.467672Z",
     "start_time": "2025-02-16T05:43:37.090564Z"
    }
   },
   "source": [
    "#Traer clasificación SINCO\n",
    "\n",
    "sinco<-read_csv(\"data/ENOE_COE1T224.csv\", show_col_types = FALSE)%>%janitor::clean_names()%>%\n",
    "select(tipo, mes_cal,cd_a,ent,con,v_sel,n_hog,h_mud, n_ren,p3)%>%\n",
    "#Renombrar p3 a sinco\n",
    "rename(sinco = p3)"
   ],
   "outputs": [
    {
     "name": "stderr",
     "output_type": "stream",
     "text": [
      "Warning message:\n",
      "\"\u001B[1m\u001B[22mOne or more parsing issues, call `problems()` on your data frame for details,\n",
      "e.g.:\n",
      "  dat <- vroom(...)\n",
      "  problems(dat)\"\n"
     ]
    }
   ],
   "execution_count": 6
  },
  {
   "cell_type": "code",
   "id": "610b93f03ade9019",
   "metadata": {
    "vscode": {
     "languageId": "r"
    },
    "ExecuteTime": {
     "end_time": "2025-02-16T05:43:38.832369Z",
     "start_time": "2025-02-16T05:43:38.473846Z"
    }
   },
   "source": [
    "#Unir tablas\n",
    "ocupados<-left_join(ocupados, sinco, by = c(\"tipo\", \"mes_cal\", \"cd_a\", \"ent\", \"con\", \"v_sel\", \"n_hog\", \"h_mud\", \"n_ren\"))%>%\n",
    "#Clasificar empleo cultural usando la clasificación SINCO y metodología de cultura federal\n",
    "mutate(cultura_federal=case_when(sinco %in% c(2175,7611,2552,2131,7313,7342,7321,2174,7343,2173,2171,1721,1722,\n",
    "2544,2271,2625,2162,1422,1322,1421,2541,2543,2542,2164,2151,2163,2144,2425,2655,3222,7322,2712,\n",
    "7223,2551,5212,2636,4233,2172,8155,8144,7999,7344,2553,7352,2152,2161,7323,7201,7601,7401,7301,\n",
    "2652,7332,9713,4312,7614,7353) ~ 1,\n",
    "         TRUE ~ 0))%>%\n",
    "#Clasificar empleo cultural de acuerdo con metodología de Cultura de la Ciudad de México\n",
    "mutate(cultura_cdmx=case_when(sinco %in% c(2175,7611,2552,2131,7313,7342,7321,2174,7343,2173,2171,1721,1722,\n",
    "2544,2271,2625,2162,1422,1322,1421,2541,2543,2542,2164,2151,2163,2144,2425,2655,3222,7322,2712,\n",
    "7223,2551,5212,2636,4233,2172,8155,8144,7999,7344,2553,7352,2152,2161,7323,7201,7601,7401,7301,\n",
    "2652,7332,9713,4312,7614,7353,2514,5212,2653,2654,7299,7999,7311,7331,7341,7411,7412,9234,9235,\n",
    "                                           9237,4233,2141,2153,2339,2334,2715,1412,1712,3221,5101,\n",
    "5111,5112,5113,5114,5115,5116,5119,7515,7517,9411\n",
    "\n",
    ") ~ 1,\n",
    "         TRUE ~ 0))\n",
    "\n",
    "nrow(ocupados)"
   ],
   "outputs": [
    {
     "data": {
      "text/html": [
       "195278"
      ],
      "text/markdown": "195278",
      "text/latex": "195278",
      "text/plain": [
       "[1] 195278"
      ]
     },
     "metadata": {},
     "output_type": "display_data"
    }
   ],
   "execution_count": 7
  },
  {
   "cell_type": "code",
   "id": "e822c68f8cead70c",
   "metadata": {
    "vscode": {
     "languageId": "r"
    },
    "ExecuteTime": {
     "end_time": "2025-02-16T05:43:39.834873Z",
     "start_time": "2025-02-16T05:43:38.845583Z"
    }
   },
   "source": [
    "#Opción para ajustar si se tiene una sola upm\n",
    "options(survey.lonely.psu=\"certainty\")\n",
    "dm<-ocupados%>%\n",
    "as_survey_design(ids = upm,\n",
    "                 strata = est_d_tri,\n",
    "                 weights = fac_tri,\n",
    "                    nest = TRUE)"
   ],
   "outputs": [],
   "execution_count": 8
  },
  {
   "cell_type": "code",
   "id": "b171d7b8979bfa29",
   "metadata": {
    "vscode": {
     "languageId": "r"
    },
    "ExecuteTime": {
     "end_time": "2025-02-16T05:43:45.109744Z",
     "start_time": "2025-02-16T05:43:39.852680Z"
    }
   },
   "source": [
    "#Total de ocupados en cdmx\n",
    "dm%>%\n",
    "summarise(ocupados = survey_total(vartype = \"cv\"))"
   ],
   "outputs": [
    {
     "data": {
      "text/html": [
       "<table class=\"dataframe\">\n",
       "<caption>A tibble: 1 × 2</caption>\n",
       "<thead>\n",
       "\t<tr><th scope=col>ocupados</th><th scope=col>ocupados_cv</th></tr>\n",
       "\t<tr><th scope=col>&lt;dbl&gt;</th><th scope=col>&lt;dbl&gt;</th></tr>\n",
       "</thead>\n",
       "<tbody>\n",
       "\t<tr><td>59327161</td><td>0.004876444</td></tr>\n",
       "</tbody>\n",
       "</table>\n"
      ],
      "text/markdown": "\nA tibble: 1 × 2\n\n| ocupados &lt;dbl&gt; | ocupados_cv &lt;dbl&gt; |\n|---|---|\n| 59327161 | 0.004876444 |\n\n",
      "text/latex": "A tibble: 1 × 2\n\\begin{tabular}{ll}\n ocupados & ocupados\\_cv\\\\\n <dbl> & <dbl>\\\\\n\\hline\n\t 59327161 & 0.004876444\\\\\n\\end{tabular}\n",
      "text/plain": [
       "  ocupados ocupados_cv\n",
       "1 59327161 0.004876444"
      ]
     },
     "metadata": {},
     "output_type": "display_data"
    }
   ],
   "execution_count": 9
  },
  {
   "cell_type": "code",
   "id": "2937cff926c37cbd",
   "metadata": {
    "vscode": {
     "languageId": "r"
    },
    "ExecuteTime": {
     "end_time": "2025-02-16T05:48:12.138118Z",
     "start_time": "2025-02-16T05:44:35.156416Z"
    }
   },
   "source": [
    "#Estimación de ocupados en cultura\n",
    "print(\"Población ocupada en cultura por entidad federativa de acuerdo a metodología de cultura federal\")\n",
    "dm%>%\n",
    "filter(cultura_federal==1)%>%\n",
    "  group_by(ent)%>%\n",
    "summarise(ocupados = survey_total(vartype = \"cv\"),\n",
    "porcentaje = survey_prop(vartype = \"cv\"))%>%\n",
    "mutate(porcentaje = porcentaje*100)%>%\n",
    "janitor::adorn_totals(\"row\")"
   ],
   "outputs": [
    {
     "name": "stdout",
     "output_type": "stream",
     "text": [
      "[1] \"Población ocupada en cultura por entidad federativa de acuerdo a metodología de cultura federal\"\n"
     ]
    },
    {
     "data": {
      "text/html": [
       "<table class=\"dataframe\">\n",
       "<caption>A tabyl: 33 × 5</caption>\n",
       "<thead>\n",
       "\t<tr><th scope=col>ent</th><th scope=col>ocupados</th><th scope=col>ocupados_cv</th><th scope=col>porcentaje</th><th scope=col>porcentaje_cv</th></tr>\n",
       "\t<tr><th scope=col>&lt;chr&gt;</th><th scope=col>&lt;dbl&gt;</th><th scope=col>&lt;dbl&gt;</th><th scope=col>&lt;dbl&gt;</th><th scope=col>&lt;dbl&gt;</th></tr>\n",
       "</thead>\n",
       "<tbody>\n",
       "\t<tr><td>1    </td><td>  22263</td><td>0.08518543</td><td>  1.0015147</td><td>0.08852872</td></tr>\n",
       "\t<tr><td>2    </td><td>  56137</td><td>0.09053163</td><td>  2.5253573</td><td>0.09223963</td></tr>\n",
       "\t<tr><td>3    </td><td>  13960</td><td>0.10644202</td><td>  0.6279991</td><td>0.10915002</td></tr>\n",
       "\t<tr><td>4    </td><td>  12479</td><td>0.09821561</td><td>  0.5613754</td><td>0.10131205</td></tr>\n",
       "\t<tr><td>5    </td><td>  36128</td><td>0.08418978</td><td>  1.6252402</td><td>0.08708418</td></tr>\n",
       "\t<tr><td>6    </td><td>  10885</td><td>0.13776562</td><td>  0.4896684</td><td>0.13971264</td></tr>\n",
       "\t<tr><td>7    </td><td>  45061</td><td>0.22704909</td><td>  2.0270966</td><td>0.22402551</td></tr>\n",
       "\t<tr><td>8    </td><td>  54314</td><td>0.08279405</td><td>  2.4433485</td><td>0.08512348</td></tr>\n",
       "\t<tr><td>9    </td><td> 266496</td><td>0.07635535</td><td> 11.9884855</td><td>0.07182184</td></tr>\n",
       "\t<tr><td>10   </td><td>  20127</td><td>0.09311303</td><td>  0.9054254</td><td>0.09612057</td></tr>\n",
       "\t<tr><td>11   </td><td> 127293</td><td>0.09030664</td><td>  5.7263534</td><td>0.08914828</td></tr>\n",
       "\t<tr><td>12   </td><td>  87760</td><td>0.17522750</td><td>  3.9479374</td><td>0.17031266</td></tr>\n",
       "\t<tr><td>13   </td><td>  68309</td><td>0.15450319</td><td>  3.0729221</td><td>0.15208641</td></tr>\n",
       "\t<tr><td>14   </td><td> 168605</td><td>0.06902336</td><td>  7.5847990</td><td>0.06904809</td></tr>\n",
       "\t<tr><td>15   </td><td> 330981</td><td>0.10545725</td><td> 14.8893826</td><td>0.09238828</td></tr>\n",
       "\t<tr><td>16   </td><td>  75596</td><td>0.17661592</td><td>  3.4007323</td><td>0.17262016</td></tr>\n",
       "\t<tr><td>17   </td><td>  31408</td><td>0.08894221</td><td>  1.4129081</td><td>0.09172405</td></tr>\n",
       "\t<tr><td>18   </td><td>  20315</td><td>0.07813939</td><td>  0.9138827</td><td>0.08197739</td></tr>\n",
       "\t<tr><td>19   </td><td> 108008</td><td>0.07548275</td><td>  4.8588059</td><td>0.07661657</td></tr>\n",
       "\t<tr><td>20   </td><td>  92326</td><td>0.17465470</td><td>  4.1533416</td><td>0.16940041</td></tr>\n",
       "\t<tr><td>21   </td><td> 125875</td><td>0.15486467</td><td>  5.6625638</td><td>0.14830064</td></tr>\n",
       "\t<tr><td>22   </td><td>  43969</td><td>0.12504304</td><td>  1.9779723</td><td>0.12547250</td></tr>\n",
       "\t<tr><td>23   </td><td>  39331</td><td>0.09385348</td><td>  1.7693291</td><td>0.09603594</td></tr>\n",
       "\t<tr><td>24   </td><td>  28725</td><td>0.10616895</td><td>  1.2922117</td><td>0.10819733</td></tr>\n",
       "\t<tr><td>25   </td><td>  39657</td><td>0.09416124</td><td>  1.7839944</td><td>0.09631261</td></tr>\n",
       "\t<tr><td>26   </td><td>  43478</td><td>0.09719557</td><td>  1.9558844</td><td>0.09901294</td></tr>\n",
       "\t<tr><td>27   </td><td>  25472</td><td>0.10307953</td><td>  1.1458735</td><td>0.10539455</td></tr>\n",
       "\t<tr><td>28   </td><td>  49249</td><td>0.09032723</td><td>  2.2154964</td><td>0.09232341</td></tr>\n",
       "\t<tr><td>29   </td><td>  17338</td><td>0.08917170</td><td>  0.7799605</td><td>0.09248612</td></tr>\n",
       "\t<tr><td>30   </td><td>  84614</td><td>0.12721365</td><td>  3.8064126</td><td>0.12520955</td></tr>\n",
       "\t<tr><td>31   </td><td>  60548</td><td>0.10127348</td><td>  2.7237888</td><td>0.10209665</td></tr>\n",
       "\t<tr><td>32   </td><td>  16226</td><td>0.13333259</td><td>  0.7299365</td><td>0.13507101</td></tr>\n",
       "\t<tr><td>Total</td><td>2222933</td><td>3.58567966</td><td>100.0000003</td><td>3.58635418</td></tr>\n",
       "</tbody>\n",
       "</table>\n"
      ],
      "text/markdown": "\nA tabyl: 33 × 5\n\n| ent &lt;chr&gt; | ocupados &lt;dbl&gt; | ocupados_cv &lt;dbl&gt; | porcentaje &lt;dbl&gt; | porcentaje_cv &lt;dbl&gt; |\n|---|---|---|---|---|\n| 1     |   22263 | 0.08518543 |   1.0015147 | 0.08852872 |\n| 2     |   56137 | 0.09053163 |   2.5253573 | 0.09223963 |\n| 3     |   13960 | 0.10644202 |   0.6279991 | 0.10915002 |\n| 4     |   12479 | 0.09821561 |   0.5613754 | 0.10131205 |\n| 5     |   36128 | 0.08418978 |   1.6252402 | 0.08708418 |\n| 6     |   10885 | 0.13776562 |   0.4896684 | 0.13971264 |\n| 7     |   45061 | 0.22704909 |   2.0270966 | 0.22402551 |\n| 8     |   54314 | 0.08279405 |   2.4433485 | 0.08512348 |\n| 9     |  266496 | 0.07635535 |  11.9884855 | 0.07182184 |\n| 10    |   20127 | 0.09311303 |   0.9054254 | 0.09612057 |\n| 11    |  127293 | 0.09030664 |   5.7263534 | 0.08914828 |\n| 12    |   87760 | 0.17522750 |   3.9479374 | 0.17031266 |\n| 13    |   68309 | 0.15450319 |   3.0729221 | 0.15208641 |\n| 14    |  168605 | 0.06902336 |   7.5847990 | 0.06904809 |\n| 15    |  330981 | 0.10545725 |  14.8893826 | 0.09238828 |\n| 16    |   75596 | 0.17661592 |   3.4007323 | 0.17262016 |\n| 17    |   31408 | 0.08894221 |   1.4129081 | 0.09172405 |\n| 18    |   20315 | 0.07813939 |   0.9138827 | 0.08197739 |\n| 19    |  108008 | 0.07548275 |   4.8588059 | 0.07661657 |\n| 20    |   92326 | 0.17465470 |   4.1533416 | 0.16940041 |\n| 21    |  125875 | 0.15486467 |   5.6625638 | 0.14830064 |\n| 22    |   43969 | 0.12504304 |   1.9779723 | 0.12547250 |\n| 23    |   39331 | 0.09385348 |   1.7693291 | 0.09603594 |\n| 24    |   28725 | 0.10616895 |   1.2922117 | 0.10819733 |\n| 25    |   39657 | 0.09416124 |   1.7839944 | 0.09631261 |\n| 26    |   43478 | 0.09719557 |   1.9558844 | 0.09901294 |\n| 27    |   25472 | 0.10307953 |   1.1458735 | 0.10539455 |\n| 28    |   49249 | 0.09032723 |   2.2154964 | 0.09232341 |\n| 29    |   17338 | 0.08917170 |   0.7799605 | 0.09248612 |\n| 30    |   84614 | 0.12721365 |   3.8064126 | 0.12520955 |\n| 31    |   60548 | 0.10127348 |   2.7237888 | 0.10209665 |\n| 32    |   16226 | 0.13333259 |   0.7299365 | 0.13507101 |\n| Total | 2222933 | 3.58567966 | 100.0000003 | 3.58635418 |\n\n",
      "text/latex": "A tabyl: 33 × 5\n\\begin{tabular}{lllll}\n ent & ocupados & ocupados\\_cv & porcentaje & porcentaje\\_cv\\\\\n <chr> & <dbl> & <dbl> & <dbl> & <dbl>\\\\\n\\hline\n\t 1     &   22263 & 0.08518543 &   1.0015147 & 0.08852872\\\\\n\t 2     &   56137 & 0.09053163 &   2.5253573 & 0.09223963\\\\\n\t 3     &   13960 & 0.10644202 &   0.6279991 & 0.10915002\\\\\n\t 4     &   12479 & 0.09821561 &   0.5613754 & 0.10131205\\\\\n\t 5     &   36128 & 0.08418978 &   1.6252402 & 0.08708418\\\\\n\t 6     &   10885 & 0.13776562 &   0.4896684 & 0.13971264\\\\\n\t 7     &   45061 & 0.22704909 &   2.0270966 & 0.22402551\\\\\n\t 8     &   54314 & 0.08279405 &   2.4433485 & 0.08512348\\\\\n\t 9     &  266496 & 0.07635535 &  11.9884855 & 0.07182184\\\\\n\t 10    &   20127 & 0.09311303 &   0.9054254 & 0.09612057\\\\\n\t 11    &  127293 & 0.09030664 &   5.7263534 & 0.08914828\\\\\n\t 12    &   87760 & 0.17522750 &   3.9479374 & 0.17031266\\\\\n\t 13    &   68309 & 0.15450319 &   3.0729221 & 0.15208641\\\\\n\t 14    &  168605 & 0.06902336 &   7.5847990 & 0.06904809\\\\\n\t 15    &  330981 & 0.10545725 &  14.8893826 & 0.09238828\\\\\n\t 16    &   75596 & 0.17661592 &   3.4007323 & 0.17262016\\\\\n\t 17    &   31408 & 0.08894221 &   1.4129081 & 0.09172405\\\\\n\t 18    &   20315 & 0.07813939 &   0.9138827 & 0.08197739\\\\\n\t 19    &  108008 & 0.07548275 &   4.8588059 & 0.07661657\\\\\n\t 20    &   92326 & 0.17465470 &   4.1533416 & 0.16940041\\\\\n\t 21    &  125875 & 0.15486467 &   5.6625638 & 0.14830064\\\\\n\t 22    &   43969 & 0.12504304 &   1.9779723 & 0.12547250\\\\\n\t 23    &   39331 & 0.09385348 &   1.7693291 & 0.09603594\\\\\n\t 24    &   28725 & 0.10616895 &   1.2922117 & 0.10819733\\\\\n\t 25    &   39657 & 0.09416124 &   1.7839944 & 0.09631261\\\\\n\t 26    &   43478 & 0.09719557 &   1.9558844 & 0.09901294\\\\\n\t 27    &   25472 & 0.10307953 &   1.1458735 & 0.10539455\\\\\n\t 28    &   49249 & 0.09032723 &   2.2154964 & 0.09232341\\\\\n\t 29    &   17338 & 0.08917170 &   0.7799605 & 0.09248612\\\\\n\t 30    &   84614 & 0.12721365 &   3.8064126 & 0.12520955\\\\\n\t 31    &   60548 & 0.10127348 &   2.7237888 & 0.10209665\\\\\n\t 32    &   16226 & 0.13333259 &   0.7299365 & 0.13507101\\\\\n\t Total & 2222933 & 3.58567966 & 100.0000003 & 3.58635418\\\\\n\\end{tabular}\n",
      "text/plain": [
       "   ent   ocupados ocupados_cv porcentaje  porcentaje_cv\n",
       "1  1       22263  0.08518543    1.0015147 0.08852872   \n",
       "2  2       56137  0.09053163    2.5253573 0.09223963   \n",
       "3  3       13960  0.10644202    0.6279991 0.10915002   \n",
       "4  4       12479  0.09821561    0.5613754 0.10131205   \n",
       "5  5       36128  0.08418978    1.6252402 0.08708418   \n",
       "6  6       10885  0.13776562    0.4896684 0.13971264   \n",
       "7  7       45061  0.22704909    2.0270966 0.22402551   \n",
       "8  8       54314  0.08279405    2.4433485 0.08512348   \n",
       "9  9      266496  0.07635535   11.9884855 0.07182184   \n",
       "10 10      20127  0.09311303    0.9054254 0.09612057   \n",
       "11 11     127293  0.09030664    5.7263534 0.08914828   \n",
       "12 12      87760  0.17522750    3.9479374 0.17031266   \n",
       "13 13      68309  0.15450319    3.0729221 0.15208641   \n",
       "14 14     168605  0.06902336    7.5847990 0.06904809   \n",
       "15 15     330981  0.10545725   14.8893826 0.09238828   \n",
       "16 16      75596  0.17661592    3.4007323 0.17262016   \n",
       "17 17      31408  0.08894221    1.4129081 0.09172405   \n",
       "18 18      20315  0.07813939    0.9138827 0.08197739   \n",
       "19 19     108008  0.07548275    4.8588059 0.07661657   \n",
       "20 20      92326  0.17465470    4.1533416 0.16940041   \n",
       "21 21     125875  0.15486467    5.6625638 0.14830064   \n",
       "22 22      43969  0.12504304    1.9779723 0.12547250   \n",
       "23 23      39331  0.09385348    1.7693291 0.09603594   \n",
       "24 24      28725  0.10616895    1.2922117 0.10819733   \n",
       "25 25      39657  0.09416124    1.7839944 0.09631261   \n",
       "26 26      43478  0.09719557    1.9558844 0.09901294   \n",
       "27 27      25472  0.10307953    1.1458735 0.10539455   \n",
       "28 28      49249  0.09032723    2.2154964 0.09232341   \n",
       "29 29      17338  0.08917170    0.7799605 0.09248612   \n",
       "30 30      84614  0.12721365    3.8064126 0.12520955   \n",
       "31 31      60548  0.10127348    2.7237888 0.10209665   \n",
       "32 32      16226  0.13333259    0.7299365 0.13507101   \n",
       "33 Total 2222933  3.58567966  100.0000003 3.58635418   "
      ]
     },
     "metadata": {},
     "output_type": "display_data"
    }
   ],
   "execution_count": 11
  },
  {
   "metadata": {
    "ExecuteTime": {
     "end_time": "2025-02-16T05:49:08.600456Z",
     "start_time": "2025-02-16T05:49:07.957937Z"
    }
   },
   "cell_type": "code",
   "source": [
    "#Población ocupada en cultura en la Ciudad de México\n",
    "\n",
    "print(\"Población ocupada en cultura en la Ciudad de México de acuerdo a metodología de cultura cdmx\")\n",
    "dm%>%\n",
    "  filter(ent==9)%>%\n",
    "  group_by(cultura_federal)%>%\n",
    "    summarise(ocupados = survey_total(vartype = \"cv\"),\n",
    "                porcentaje = survey_prop(vartype = \"cv\"))%>%\n",
    "  mutate(porcentaje = porcentaje*100)%>%\n",
    "  filter(cultura_federal==1)"
   ],
   "id": "81e10f3dcff5e682",
   "outputs": [
    {
     "name": "stdout",
     "output_type": "stream",
     "text": [
      "[1] \"Población ocupada en cultura en la Ciudad de México de acuerdo a metodología de cultura cdmx\"\n"
     ]
    },
    {
     "data": {
      "text/html": [
       "<table class=\"dataframe\">\n",
       "<caption>A tibble: 1 × 5</caption>\n",
       "<thead>\n",
       "\t<tr><th scope=col>cultura_federal</th><th scope=col>ocupados</th><th scope=col>ocupados_cv</th><th scope=col>porcentaje</th><th scope=col>porcentaje_cv</th></tr>\n",
       "\t<tr><th scope=col>&lt;dbl&gt;</th><th scope=col>&lt;dbl&gt;</th><th scope=col>&lt;dbl&gt;</th><th scope=col>&lt;dbl&gt;</th><th scope=col>&lt;dbl&gt;</th></tr>\n",
       "</thead>\n",
       "<tbody>\n",
       "\t<tr><td>1</td><td>266496</td><td>0.07635535</td><td>5.512677</td><td>0.07551563</td></tr>\n",
       "</tbody>\n",
       "</table>\n"
      ],
      "text/markdown": "\nA tibble: 1 × 5\n\n| cultura_federal &lt;dbl&gt; | ocupados &lt;dbl&gt; | ocupados_cv &lt;dbl&gt; | porcentaje &lt;dbl&gt; | porcentaje_cv &lt;dbl&gt; |\n|---|---|---|---|---|\n| 1 | 266496 | 0.07635535 | 5.512677 | 0.07551563 |\n\n",
      "text/latex": "A tibble: 1 × 5\n\\begin{tabular}{lllll}\n cultura\\_federal & ocupados & ocupados\\_cv & porcentaje & porcentaje\\_cv\\\\\n <dbl> & <dbl> & <dbl> & <dbl> & <dbl>\\\\\n\\hline\n\t 1 & 266496 & 0.07635535 & 5.512677 & 0.07551563\\\\\n\\end{tabular}\n",
      "text/plain": [
       "  cultura_federal ocupados ocupados_cv porcentaje porcentaje_cv\n",
       "1 1               266496   0.07635535  5.512677   0.07551563   "
      ]
     },
     "metadata": {},
     "output_type": "display_data"
    }
   ],
   "execution_count": 14
  },
  {
   "metadata": {
    "ExecuteTime": {
     "end_time": "2025-02-16T05:48:23.773941Z",
     "start_time": "2025-02-16T05:48:23.109452Z"
    }
   },
   "cell_type": "code",
   "source": [
    "#Población ocupada en cultura en la Ciudad de México\n",
    "\n",
    "print(\"Población ocupada en cultura en la Ciudad de México de acuerdo a metodología de cultura cdmx\")\n",
    "dm%>%\n",
    "  filter(ent==9)%>%\n",
    "  group_by(cultura_cdmx)%>%\n",
    "    summarise(ocupados = survey_total(vartype = \"cv\"),\n",
    "                porcentaje = survey_prop(vartype = \"cv\"))%>%\n",
    "  mutate(porcentaje = porcentaje*100)%>%\n",
    "  filter(cultura_cdmx==1)\n"
   ],
   "id": "7774816d7f693550",
   "outputs": [
    {
     "name": "stdout",
     "output_type": "stream",
     "text": [
      "[1] \"Población ocupada en cultura en la Ciudad de México de acuerdo a metodología de cultura cdmx\"\n"
     ]
    },
    {
     "data": {
      "text/html": [
       "<table class=\"dataframe\">\n",
       "<caption>A tibble: 1 × 5</caption>\n",
       "<thead>\n",
       "\t<tr><th scope=col>cultura_cdmx</th><th scope=col>ocupados</th><th scope=col>ocupados_cv</th><th scope=col>porcentaje</th><th scope=col>porcentaje_cv</th></tr>\n",
       "\t<tr><th scope=col>&lt;dbl&gt;</th><th scope=col>&lt;dbl&gt;</th><th scope=col>&lt;dbl&gt;</th><th scope=col>&lt;dbl&gt;</th><th scope=col>&lt;dbl&gt;</th></tr>\n",
       "</thead>\n",
       "<tbody>\n",
       "\t<tr><td>1</td><td>718802</td><td>0.04681013</td><td>14.86898</td><td>0.0434248</td></tr>\n",
       "</tbody>\n",
       "</table>\n"
      ],
      "text/markdown": "\nA tibble: 1 × 5\n\n| cultura_cdmx &lt;dbl&gt; | ocupados &lt;dbl&gt; | ocupados_cv &lt;dbl&gt; | porcentaje &lt;dbl&gt; | porcentaje_cv &lt;dbl&gt; |\n|---|---|---|---|---|\n| 1 | 718802 | 0.04681013 | 14.86898 | 0.0434248 |\n\n",
      "text/latex": "A tibble: 1 × 5\n\\begin{tabular}{lllll}\n cultura\\_cdmx & ocupados & ocupados\\_cv & porcentaje & porcentaje\\_cv\\\\\n <dbl> & <dbl> & <dbl> & <dbl> & <dbl>\\\\\n\\hline\n\t 1 & 718802 & 0.04681013 & 14.86898 & 0.0434248\\\\\n\\end{tabular}\n",
      "text/plain": [
       "  cultura_cdmx ocupados ocupados_cv porcentaje porcentaje_cv\n",
       "1 1            718802   0.04681013  14.86898   0.0434248    "
      ]
     },
     "metadata": {},
     "output_type": "display_data"
    }
   ],
   "execution_count": 13
  }
 ],
 "metadata": {
  "kernelspec": {
   "display_name": "R",
   "language": "R",
   "name": "ir"
  },
  "language_info": {
   "codemirror_mode": "r",
   "file_extension": ".r",
   "mimetype": "text/x-r-source",
   "name": "R",
   "pygments_lexer": "r",
   "version": "4.4.1"
  }
 },
 "nbformat": 4,
 "nbformat_minor": 5
}
