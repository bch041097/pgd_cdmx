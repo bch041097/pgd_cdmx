{
 "cells": [
  {
   "cell_type": "code",
   "execution_count": 1,
   "id": "5a1c8d84ae272f7a",
   "metadata": {
    "ExecuteTime": {
     "end_time": "2025-01-30T01:00:58.720850Z",
     "start_time": "2025-01-30T01:00:57.744966Z"
    },
    "vscode": {
     "languageId": "r"
    }
   },
   "outputs": [
    {
     "name": "stderr",
     "output_type": "stream",
     "text": [
      "Cargando paquete requerido: pacman\n",
      "\n"
     ]
    }
   ],
   "source": [
    "##Estimación de indicadores de población indígena en la Ciudad de México\n",
    "#Se borra todo lo que se encuentra en el entorno\n",
    "\n",
    "rm(list=ls())\n",
    "\n",
    "# Librerías ====\n",
    "if(!require('pacman')) install.packages('pacman')\n",
    "pacman::p_load(tidyverse, showtext, srvyr)"
   ]
  },
  {
   "cell_type": "code",
   "execution_count": 2,
   "id": "4d31281d6fc8bace",
   "metadata": {
    "ExecuteTime": {
     "end_time": "2025-01-30T01:00:58.750966Z",
     "start_time": "2025-01-30T01:00:58.725559Z"
    },
    "vscode": {
     "languageId": "r"
    }
   },
   "outputs": [],
   "source": [
    "#Crear directorio para guardar los archivos\n",
    "dir.create(\"data\", showWarnings = FALSE)"
   ]
  },
  {
   "cell_type": "code",
   "execution_count": 3,
   "id": "a6ac9b9891fc4b14",
   "metadata": {
    "ExecuteTime": {
     "end_time": "2025-01-30T01:00:58.764643Z",
     "start_time": "2025-01-30T01:00:58.755048Z"
    },
    "vscode": {
     "languageId": "r"
    }
   },
   "outputs": [],
   "source": [
    "url<-\"https://www.inegi.org.mx/contenidos/programas/enoe/15ymas/microdatos/enoe_2024_trim2_csv.zip\"\n"
   ]
  },
  {
   "cell_type": "code",
   "execution_count": 4,
   "id": "a8a126f12b921064",
   "metadata": {
    "ExecuteTime": {
     "start_time": "2025-01-30T01:00:58.768466Z"
    },
    "jupyter": {
     "is_executing": true
    },
    "vscode": {
     "languageId": "r"
    }
   },
   "outputs": [],
   "source": [
    "# Descargar el archivo y descomprimirlo\n",
    "destfile <- \"data/conjunto_de_datos_enoe_2024_2t_csv.zip\"\n",
    "download.file(url, destfile = destfile)\n",
    "unzip(destfile, exdir = \"data\")"
   ]
  },
  {
   "cell_type": "code",
   "execution_count": 5,
   "id": "8d4efe1e5eb2c9a2",
   "metadata": {
    "ExecuteTime": {
     "end_time": "2025-01-30T00:53:57.933598Z",
     "start_time": "2025-01-30T00:53:56.717897Z"
    },
    "vscode": {
     "languageId": "r"
    }
   },
   "outputs": [
    {
     "name": "stderr",
     "output_type": "stream",
     "text": [
      "Warning message:\n",
      "\"\u001b[1m\u001b[22mOne or more parsing issues, call `problems()` on your data frame for details,\n",
      "e.g.:\n",
      "  dat <- vroom(...)\n",
      "  problems(dat)\"\n"
     ]
    },
    {
     "data": {
      "text/html": [
       "4907"
      ],
      "text/latex": [
       "4907"
      ],
      "text/markdown": [
       "4907"
      ],
      "text/plain": [
       "[1] 4907"
      ]
     },
     "metadata": {},
     "output_type": "display_data"
    }
   ],
   "source": [
    "#Leer tabla y filtrar ocupados\n",
    "\n",
    "ocupados_cdmx<-read_csv(\"data/ENOE_SDEMT224.csv\", show_col_types = FALSE)%>%\n",
    "janitor::clean_names()%>%\n",
    "filter(ent == 9,\n",
    "       clase2==1,\n",
    "       ((eda>=15 & eda<=98 & !is.na(eda)) &\n",
    "                                     (c_res==1 | c_res==3)))\n",
    "nrow(ocupados_cdmx)\n"
   ]
  },
  {
   "cell_type": "code",
   "execution_count": 6,
   "id": "6c46044724ad2802",
   "metadata": {
    "ExecuteTime": {
     "end_time": "2025-01-30T00:53:59.555740Z",
     "start_time": "2025-01-30T00:53:57.939538Z"
    },
    "vscode": {
     "languageId": "r"
    }
   },
   "outputs": [
    {
     "name": "stderr",
     "output_type": "stream",
     "text": [
      "Warning message:\n",
      "\"\u001b[1m\u001b[22mOne or more parsing issues, call `problems()` on your data frame for details,\n",
      "e.g.:\n",
      "  dat <- vroom(...)\n",
      "  problems(dat)\"\n"
     ]
    }
   ],
   "source": [
    "#Traer clasificación SINCO\n",
    "\n",
    "sinco<-read_csv(\"data/ENOE_COE1T224.csv\", show_col_types = FALSE)%>%janitor::clean_names()%>%\n",
    "select(tipo, mes_cal,cd_a,ent,con,v_sel,n_hog,h_mud, n_ren,p3)%>%\n",
    "#Renombrar p3 a sinco\n",
    "rename(sinco = p3)"
   ]
  },
  {
   "cell_type": "code",
   "execution_count": 7,
   "id": "610b93f03ade9019",
   "metadata": {
    "ExecuteTime": {
     "end_time": "2025-01-30T00:53:59.663431Z",
     "start_time": "2025-01-30T00:53:59.561665Z"
    },
    "vscode": {
     "languageId": "r"
    }
   },
   "outputs": [
    {
     "data": {
      "text/html": [
       "4907"
      ],
      "text/latex": [
       "4907"
      ],
      "text/markdown": [
       "4907"
      ],
      "text/plain": [
       "[1] 4907"
      ]
     },
     "metadata": {},
     "output_type": "display_data"
    }
   ],
   "source": [
    "#Unir tablas\n",
    "ocupados_cdmx<-left_join(ocupados_cdmx, sinco, by = c(\"tipo\", \"mes_cal\", \"cd_a\", \"ent\", \"con\", \"v_sel\", \"n_hog\", \"h_mud\", \"n_ren\"))%>%\n",
    "#Clasificar empleo cultural usando la clasificación SINCO\n",
    "mutate(cultura=case_when(sinco %in% c(2175,7611,2552,2131,7313,7342,7321,2174,7343,2173,2171,1721,1722,\n",
    "2544,2271,2625,2162,1422,1322,1421,2541,2543,2542,2164,2151,2163,2144,2425,2655,3222,7322,2712,\n",
    "7223,2551,5212,2636,4233,2172,8155,8144,7999,7344,2553,7352,2152,2161,7323,7201,7601,7401,7301,\n",
    "2652,7332,9713,4312,7614,7353) ~ 1,\n",
    "         TRUE ~ 0))\n",
    "nrow(ocupados_cdmx)"
   ]
  },
  {
   "cell_type": "code",
   "execution_count": 8,
   "id": "e822c68f8cead70c",
   "metadata": {
    "ExecuteTime": {
     "end_time": "2025-01-30T00:53:59.710203Z",
     "start_time": "2025-01-30T00:53:59.677012Z"
    },
    "vscode": {
     "languageId": "r"
    }
   },
   "outputs": [],
   "source": [
    "#Opción para ajustar si se tiene una sola upm\n",
    "options(survey.lonely.psu=\"certainty\")\n",
    "dm<-ocupados_cdmx%>%\n",
    "as_survey_design(ids = upm,\n",
    "                 strata = est_d_tri,\n",
    "                 weights = fac_tri)"
   ]
  },
  {
   "cell_type": "code",
   "execution_count": 9,
   "id": "b171d7b8979bfa29",
   "metadata": {
    "ExecuteTime": {
     "end_time": "2025-01-30T00:53:59.744594Z",
     "start_time": "2025-01-30T00:53:59.717816Z"
    },
    "vscode": {
     "languageId": "r"
    }
   },
   "outputs": [
    {
     "data": {
      "text/html": [
       "<table class=\"dataframe\">\n",
       "<caption>A tibble: 1 × 2</caption>\n",
       "<thead>\n",
       "\t<tr><th scope=col>ocupados</th><th scope=col>ocupados_cv</th></tr>\n",
       "\t<tr><th scope=col>&lt;dbl&gt;</th><th scope=col>&lt;dbl&gt;</th></tr>\n",
       "</thead>\n",
       "<tbody>\n",
       "\t<tr><td>4834239</td><td>0.01735656</td></tr>\n",
       "</tbody>\n",
       "</table>\n"
      ],
      "text/latex": [
       "A tibble: 1 × 2\n",
       "\\begin{tabular}{ll}\n",
       " ocupados & ocupados\\_cv\\\\\n",
       " <dbl> & <dbl>\\\\\n",
       "\\hline\n",
       "\t 4834239 & 0.01735656\\\\\n",
       "\\end{tabular}\n"
      ],
      "text/markdown": [
       "\n",
       "A tibble: 1 × 2\n",
       "\n",
       "| ocupados &lt;dbl&gt; | ocupados_cv &lt;dbl&gt; |\n",
       "|---|---|\n",
       "| 4834239 | 0.01735656 |\n",
       "\n"
      ],
      "text/plain": [
       "  ocupados ocupados_cv\n",
       "1 4834239  0.01735656 "
      ]
     },
     "metadata": {},
     "output_type": "display_data"
    }
   ],
   "source": [
    "#Total de ocupados en cdmx\n",
    "dm%>%\n",
    "summarise(ocupados = survey_total(vartype = \"cv\"))"
   ]
  },
  {
   "cell_type": "code",
   "execution_count": 10,
   "id": "2937cff926c37cbd",
   "metadata": {
    "ExecuteTime": {
     "end_time": "2025-01-30T00:53:59.836282Z",
     "start_time": "2025-01-30T00:53:59.771421Z"
    },
    "vscode": {
     "languageId": "r"
    }
   },
   "outputs": [
    {
     "name": "stdout",
     "output_type": "stream",
     "text": [
      "[1] \"Población ocupada en cultura\"\n"
     ]
    },
    {
     "data": {
      "text/html": [
       "<table class=\"dataframe\">\n",
       "<caption>A tibble: 1 × 5</caption>\n",
       "<thead>\n",
       "\t<tr><th scope=col>cultura</th><th scope=col>ocupados</th><th scope=col>ocupados_cv</th><th scope=col>porcentaje</th><th scope=col>porcentaje_cv</th></tr>\n",
       "\t<tr><th scope=col>&lt;dbl&gt;</th><th scope=col>&lt;dbl&gt;</th><th scope=col>&lt;dbl&gt;</th><th scope=col>&lt;dbl&gt;</th><th scope=col>&lt;dbl&gt;</th></tr>\n",
       "</thead>\n",
       "<tbody>\n",
       "\t<tr><td>1</td><td>266496</td><td>0.07635535</td><td>5.512677</td><td>0.07551563</td></tr>\n",
       "</tbody>\n",
       "</table>\n"
      ],
      "text/latex": [
       "A tibble: 1 × 5\n",
       "\\begin{tabular}{lllll}\n",
       " cultura & ocupados & ocupados\\_cv & porcentaje & porcentaje\\_cv\\\\\n",
       " <dbl> & <dbl> & <dbl> & <dbl> & <dbl>\\\\\n",
       "\\hline\n",
       "\t 1 & 266496 & 0.07635535 & 5.512677 & 0.07551563\\\\\n",
       "\\end{tabular}\n"
      ],
      "text/markdown": [
       "\n",
       "A tibble: 1 × 5\n",
       "\n",
       "| cultura &lt;dbl&gt; | ocupados &lt;dbl&gt; | ocupados_cv &lt;dbl&gt; | porcentaje &lt;dbl&gt; | porcentaje_cv &lt;dbl&gt; |\n",
       "|---|---|---|---|---|\n",
       "| 1 | 266496 | 0.07635535 | 5.512677 | 0.07551563 |\n",
       "\n"
      ],
      "text/plain": [
       "  cultura ocupados ocupados_cv porcentaje porcentaje_cv\n",
       "1 1       266496   0.07635535  5.512677   0.07551563   "
      ]
     },
     "metadata": {},
     "output_type": "display_data"
    }
   ],
   "source": [
    "#Estimación de ocupados en cultura\n",
    "print(\"Población ocupada en cultura\")\n",
    "dm%>%group_by(cultura)%>%\n",
    "summarise(ocupados = survey_total(vartype = \"cv\"),\n",
    "porcentaje = survey_mean(vartype = \"cv\"))%>%\n",
    "mutate(porcentaje = porcentaje*100)%>%\n",
    "filter(cultura==1)"
   ]
  }
 ],
 "metadata": {
  "kernelspec": {
   "display_name": "R",
   "language": "R",
   "name": "ir"
  },
  "language_info": {
   "codemirror_mode": "r",
   "file_extension": ".r",
   "mimetype": "text/x-r-source",
   "name": "R",
   "pygments_lexer": "r",
   "version": "4.4.1"
  }
 },
 "nbformat": 5,
 "nbformat_minor": 9
}
