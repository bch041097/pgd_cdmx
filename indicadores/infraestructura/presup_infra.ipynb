{
 "cells": [
  {
   "cell_type": "code",
   "execution_count": 55,
   "id": "a01fac3ac5851271",
   "metadata": {
    "vscode": {
     "languageId": "r"
    }
   },
   "outputs": [],
   "source": [
    "#Se borra todo lo que se encuentra en el entorno\n",
    "\n",
    "rm(list=ls())\n",
    "\n",
    "# Librerías ====\n",
    "if (!require('pacman')) install.packages('pacman')\n",
    "pacman::p_load(tidyverse, httr,jsonlite)"
   ]
  },
  {
   "cell_type": "code",
   "execution_count": 56,
   "id": "c128a43764907aae",
   "metadata": {
    "vscode": {
     "languageId": "r"
    }
   },
   "outputs": [],
   "source": [
    "##Hacer lista con urls de los archivos\n",
    "\n",
    "presupuestos <- list(\n",
    "  '2024' = 'https://datos.cdmx.gob.mx/dataset/3a6cba97-adb1-4f35-9df1-984cc3657aca/resource/7fa1da81-531c-477c-93db-7580bc1c7ad0/download/egresos_2024_aprobado.csv',\n",
    "  '2023' = 'https://datos.cdmx.gob.mx/dataset/ea119a03-4f5a-46fa-afbe-bc32bcf79ec3/resource/5137e3db-227e-462d-8d59-1942afbc0c6a/download/egresos_2023_aprobado.csv',\n",
    "  '2022' = 'https://datos.cdmx.gob.mx/dataset/755f47f1-b937-4131-8a7b-fbe306e747c8/resource/fc93c940-ad75-4e7f-afe6-c624726623a9/download/egresos_2022_aprobado.csv',\n",
    "  '2021' = 'https://datos.cdmx.gob.mx/dataset/246be014-62ba-46e0-a7ce-9f37c8f01886/resource/682c37bd-96a2-4f78-94bf-3c77c3870f04/download/egresos_2021_aprobado.csv',\n",
    "  '2020' = 'https://datos.cdmx.gob.mx/dataset/2bb4de63-8212-4d2a-a377-98b10f8384c6/resource/def0fc56-4e26-4cd2-9ec6-200cb86b418e/download/egresos_2020_aprobado.csv',\n",
    "  '2019' = 'https://datos.cdmx.gob.mx/dataset/8dc52617-63f6-4bfd-9fae-54239675c6d0/resource/9a6f53d7-1751-4ae4-8bd8-d31807be7789/download/egresos_2019_aprobado.csv',\n",
    "  '2018' = 'https://datos.cdmx.gob.mx/dataset/7a8820f2-3bea-4c69-8b20-1d01b1a99a6a/resource/5b20655c-072f-4347-baee-ab93d930b27b/download/egresos_2018_aprobado.csv'\n",
    ")\n",
    "\n",
    "url_ipc<-\"https://www.inegi.org.mx/app/api/indicadores/desarrolladores/jsonxml/INDICATOR/910392/es/0700/false/BIE/2.0/fe198fe7-c264-840e-c24e-7b28b9af856c?type=json\""
   ]
  },
  {
   "cell_type": "code",
   "execution_count": 57,
   "id": "b3c7ce5c",
   "metadata": {
    "vscode": {
     "languageId": "r"
    }
   },
   "outputs": [],
   "source": [
    "#Función para consultar la api\n",
    "\n",
    "consulta_api<-function(url){\n",
    "  r <- GET(url, timeout(10000))\n",
    "  df <- fromJSON(rawToChar(r$content))\n",
    "  return(df)\n",
    "}"
   ]
  },
  {
   "cell_type": "code",
   "execution_count": 58,
   "id": "8709a9cb",
   "metadata": {
    "vscode": {
     "languageId": "r"
    }
   },
   "outputs": [
    {
     "data": {
      "text/html": [
       "<table class=\"dataframe\">\n",
       "<caption>A tibble: 7 × 2</caption>\n",
       "<thead>\n",
       "\t<tr><th scope=col>year</th><th scope=col>ipc</th></tr>\n",
       "\t<tr><th scope=col>&lt;dbl&gt;</th><th scope=col>&lt;dbl&gt;</th></tr>\n",
       "</thead>\n",
       "<tbody>\n",
       "\t<tr><td>2018</td><td> 74.05232</td></tr>\n",
       "\t<tr><td>2019</td><td> 76.74483</td></tr>\n",
       "\t<tr><td>2020</td><td> 79.35172</td></tr>\n",
       "\t<tr><td>2021</td><td> 83.86621</td></tr>\n",
       "\t<tr><td>2022</td><td> 90.48852</td></tr>\n",
       "\t<tr><td>2023</td><td> 95.49069</td></tr>\n",
       "\t<tr><td>2024</td><td>100.00000</td></tr>\n",
       "</tbody>\n",
       "</table>\n"
      ],
      "text/latex": [
       "A tibble: 7 × 2\n",
       "\\begin{tabular}{ll}\n",
       " year & ipc\\\\\n",
       " <dbl> & <dbl>\\\\\n",
       "\\hline\n",
       "\t 2018 &  74.05232\\\\\n",
       "\t 2019 &  76.74483\\\\\n",
       "\t 2020 &  79.35172\\\\\n",
       "\t 2021 &  83.86621\\\\\n",
       "\t 2022 &  90.48852\\\\\n",
       "\t 2023 &  95.49069\\\\\n",
       "\t 2024 & 100.00000\\\\\n",
       "\\end{tabular}\n"
      ],
      "text/markdown": [
       "\n",
       "A tibble: 7 × 2\n",
       "\n",
       "| year &lt;dbl&gt; | ipc &lt;dbl&gt; |\n",
       "|---|---|\n",
       "| 2018 |  74.05232 |\n",
       "| 2019 |  76.74483 |\n",
       "| 2020 |  79.35172 |\n",
       "| 2021 |  83.86621 |\n",
       "| 2022 |  90.48852 |\n",
       "| 2023 |  95.49069 |\n",
       "| 2024 | 100.00000 |\n",
       "\n"
      ],
      "text/plain": [
       "  year ipc      \n",
       "1 2018  74.05232\n",
       "2 2019  76.74483\n",
       "3 2020  79.35172\n",
       "4 2021  83.86621\n",
       "5 2022  90.48852\n",
       "6 2023  95.49069\n",
       "7 2024 100.00000"
      ]
     },
     "metadata": {},
     "output_type": "display_data"
    }
   ],
   "source": [
    "ipccdmx<-consulta_api(url_ipc)%>%\n",
    "pluck(\"Series\")%>%\n",
    "pluck(\"OBSERVATIONS\")%>%\n",
    "as.data.frame()%>%\n",
    "janitor::clean_names()%>%\n",
    "select(time_period, obs_value)%>%\n",
    "rename(\n",
    "ipc=obs_value)%>%\n",
    "#Extraer el año de time_period\n",
    "mutate(year=str_extract(time_period, \"\\\\d{4}\"))%>%\n",
    "mutate(year=as.numeric(year),\n",
    "ipc=as.numeric(ipc))%>%\n",
    "filter(year>=2018 & year<=2024)%>%\n",
    "arrange(year)%>%\n",
    "#Hacer un promedio de los valores de ipc por año\n",
    "group_by(year)%>%\n",
    "summarise(ipc=mean(ipc, na.rm=TRUE))%>%\n",
    "#Dividir todo entre el valor de 2024\n",
    "mutate(ipc=ipc/last(ipc)*100)\n",
    "ipccdmx"
   ]
  },
  {
   "cell_type": "code",
   "execution_count": 59,
   "id": "3099663e",
   "metadata": {
    "vscode": {
     "languageId": "r"
    }
   },
   "outputs": [
    {
     "data": {
      "text/html": [
       "<table class=\"dataframe\">\n",
       "<caption>A tibble: 7 × 10</caption>\n",
       "<thead>\n",
       "\t<tr><th scope=col>year</th><th scope=col>presup_opc</th><th scope=col>presup_total</th><th scope=col>pct</th><th scope=col>ipc</th><th scope=col>presup_opc_real</th><th scope=col>presup_total_real</th><th scope=col>part_real</th><th scope=col>variacion_real</th><th scope=col>variacion_nominal</th></tr>\n",
       "\t<tr><th scope=col>&lt;dbl&gt;</th><th scope=col>&lt;dbl&gt;</th><th scope=col>&lt;dbl&gt;</th><th scope=col>&lt;dbl&gt;</th><th scope=col>&lt;dbl&gt;</th><th scope=col>&lt;dbl&gt;</th><th scope=col>&lt;dbl&gt;</th><th scope=col>&lt;dbl&gt;</th><th scope=col>&lt;dbl&gt;</th><th scope=col>&lt;dbl&gt;</th></tr>\n",
       "</thead>\n",
       "<tbody>\n",
       "\t<tr><td>2018</td><td>24241841910</td><td>226851897840</td><td>10.686198</td><td> 74.05232</td><td>32736102589</td><td>306340047414</td><td>10.686198</td><td>        NA</td><td>        NA</td></tr>\n",
       "\t<tr><td>2019</td><td>34280506505</td><td>234016325579</td><td>14.648767</td><td> 76.74483</td><td>44668164686</td><td>304927809880</td><td>14.648767</td><td> 36.449245</td><td> 41.410486</td></tr>\n",
       "\t<tr><td>2020</td><td>30158788208</td><td>238974793216</td><td>12.620071</td><td> 79.35172</td><td>38006469100</td><td>301158920290</td><td>12.620071</td><td>-14.913744</td><td>-12.023505</td></tr>\n",
       "\t<tr><td>2021</td><td>19729252363</td><td>217962157170</td><td> 9.051687</td><td> 83.86621</td><td>23524674315</td><td>259892704802</td><td> 9.051687</td><td>-38.103500</td><td>-34.582079</td></tr>\n",
       "\t<tr><td>2022</td><td>20362718481</td><td>234005875723</td><td> 8.701798</td><td> 90.48852</td><td>22503097011</td><td>258602844579</td><td> 8.701798</td><td> -4.342578</td><td>  3.210796</td></tr>\n",
       "\t<tr><td>2023</td><td>18824794269</td><td>248415083383</td><td> 7.577959</td><td> 95.49069</td><td>19713749224</td><td>260145879276</td><td> 7.577959</td><td>-12.395395</td><td> -7.552647</td></tr>\n",
       "\t<tr><td>2024</td><td>18148035540</td><td>267965350437</td><td> 6.772531</td><td>100.00000</td><td>18148035540</td><td>267965350437</td><td> 6.772531</td><td> -7.942242</td><td> -3.595039</td></tr>\n",
       "</tbody>\n",
       "</table>\n"
      ],
      "text/latex": [
       "A tibble: 7 × 10\n",
       "\\begin{tabular}{llllllllll}\n",
       " year & presup\\_opc & presup\\_total & pct & ipc & presup\\_opc\\_real & presup\\_total\\_real & part\\_real & variacion\\_real & variacion\\_nominal\\\\\n",
       " <dbl> & <dbl> & <dbl> & <dbl> & <dbl> & <dbl> & <dbl> & <dbl> & <dbl> & <dbl>\\\\\n",
       "\\hline\n",
       "\t 2018 & 24241841910 & 226851897840 & 10.686198 &  74.05232 & 32736102589 & 306340047414 & 10.686198 &         NA &         NA\\\\\n",
       "\t 2019 & 34280506505 & 234016325579 & 14.648767 &  76.74483 & 44668164686 & 304927809880 & 14.648767 &  36.449245 &  41.410486\\\\\n",
       "\t 2020 & 30158788208 & 238974793216 & 12.620071 &  79.35172 & 38006469100 & 301158920290 & 12.620071 & -14.913744 & -12.023505\\\\\n",
       "\t 2021 & 19729252363 & 217962157170 &  9.051687 &  83.86621 & 23524674315 & 259892704802 &  9.051687 & -38.103500 & -34.582079\\\\\n",
       "\t 2022 & 20362718481 & 234005875723 &  8.701798 &  90.48852 & 22503097011 & 258602844579 &  8.701798 &  -4.342578 &   3.210796\\\\\n",
       "\t 2023 & 18824794269 & 248415083383 &  7.577959 &  95.49069 & 19713749224 & 260145879276 &  7.577959 & -12.395395 &  -7.552647\\\\\n",
       "\t 2024 & 18148035540 & 267965350437 &  6.772531 & 100.00000 & 18148035540 & 267965350437 &  6.772531 &  -7.942242 &  -3.595039\\\\\n",
       "\\end{tabular}\n"
      ],
      "text/markdown": [
       "\n",
       "A tibble: 7 × 10\n",
       "\n",
       "| year &lt;dbl&gt; | presup_opc &lt;dbl&gt; | presup_total &lt;dbl&gt; | pct &lt;dbl&gt; | ipc &lt;dbl&gt; | presup_opc_real &lt;dbl&gt; | presup_total_real &lt;dbl&gt; | part_real &lt;dbl&gt; | variacion_real &lt;dbl&gt; | variacion_nominal &lt;dbl&gt; |\n",
       "|---|---|---|---|---|---|---|---|---|---|\n",
       "| 2018 | 24241841910 | 226851897840 | 10.686198 |  74.05232 | 32736102589 | 306340047414 | 10.686198 |         NA |         NA |\n",
       "| 2019 | 34280506505 | 234016325579 | 14.648767 |  76.74483 | 44668164686 | 304927809880 | 14.648767 |  36.449245 |  41.410486 |\n",
       "| 2020 | 30158788208 | 238974793216 | 12.620071 |  79.35172 | 38006469100 | 301158920290 | 12.620071 | -14.913744 | -12.023505 |\n",
       "| 2021 | 19729252363 | 217962157170 |  9.051687 |  83.86621 | 23524674315 | 259892704802 |  9.051687 | -38.103500 | -34.582079 |\n",
       "| 2022 | 20362718481 | 234005875723 |  8.701798 |  90.48852 | 22503097011 | 258602844579 |  8.701798 |  -4.342578 |   3.210796 |\n",
       "| 2023 | 18824794269 | 248415083383 |  7.577959 |  95.49069 | 19713749224 | 260145879276 |  7.577959 | -12.395395 |  -7.552647 |\n",
       "| 2024 | 18148035540 | 267965350437 |  6.772531 | 100.00000 | 18148035540 | 267965350437 |  6.772531 |  -7.942242 |  -3.595039 |\n",
       "\n"
      ],
      "text/plain": [
       "  year presup_opc  presup_total pct       ipc       presup_opc_real\n",
       "1 2018 24241841910 226851897840 10.686198  74.05232 32736102589    \n",
       "2 2019 34280506505 234016325579 14.648767  76.74483 44668164686    \n",
       "3 2020 30158788208 238974793216 12.620071  79.35172 38006469100    \n",
       "4 2021 19729252363 217962157170  9.051687  83.86621 23524674315    \n",
       "5 2022 20362718481 234005875723  8.701798  90.48852 22503097011    \n",
       "6 2023 18824794269 248415083383  7.577959  95.49069 19713749224    \n",
       "7 2024 18148035540 267965350437  6.772531 100.00000 18148035540    \n",
       "  presup_total_real part_real variacion_real variacion_nominal\n",
       "1 306340047414      10.686198         NA             NA       \n",
       "2 304927809880      14.648767  36.449245      41.410486       \n",
       "3 301158920290      12.620071 -14.913744     -12.023505       \n",
       "4 259892704802       9.051687 -38.103500     -34.582079       \n",
       "5 258602844579       8.701798  -4.342578       3.210796       \n",
       "6 260145879276       7.577959 -12.395395      -7.552647       \n",
       "7 267965350437       6.772531  -7.942242      -3.595039       "
      ]
     },
     "metadata": {},
     "output_type": "display_data"
    }
   ],
   "source": [
    "presupuestos <- map_dfr(\n",
    "  names(presupuestos),\n",
    "  ~ read_csv(presupuestos[[.x]], show_col_types = FALSE) %>%\n",
    "    mutate(year = as.numeric(.x))\n",
    ") %>%\n",
    "  # Identificar presupuesto de obra pública\n",
    "  mutate(obra_pub = case_when(capitulo == 6000 ~ 1, TRUE ~ 0)) %>%\n",
    "  group_by(year) %>%\n",
    "  summarise(\n",
    "    presup_opc = sum(monto_aprobado * obra_pub, na.rm = TRUE),\n",
    "    presup_total = sum(monto_aprobado, na.rm = TRUE)\n",
    "  ) %>%\n",
    "  #Añadir 2025. El dato viene de: https://cdmxassets.s3.us-east-1.amazonaws.com/media/files-pdf/paquete_economico_2025/ANEXO_III/IIIA_C_objeto_gasto.pdf\n",
    "  #add_row(year = 2025, presup_opc = 21535048926.50, presup_total = 291525557665.00) %>%\n",
    "  arrange(year)%>%\n",
    "  mutate(pct= presup_opc / presup_total * 100) %>%\n",
    "  left_join(ipccdmx, by = \"year\")%>%\n",
    "  #Calcular presupuesto de obra pública en términos reales\n",
    "  mutate(presup_opc_real = presup_opc / (ipc / 100)) %>%\n",
    "  mutate(presup_total_real = presup_total / (ipc / 100)) %>%\n",
    "  mutate(part_real = presup_opc_real / presup_total_real * 100)%>%\n",
    "  #Sacar variación porcentual del presupuesto de obra pública en términos reales\n",
    "  mutate(\n",
    "    variacion_real = (presup_opc_real - lag(presup_opc_real)) / lag(presup_opc_real) * 100,\n",
    "    variacion_nominal = (presup_opc - lag(presup_opc)) / lag(presup_opc) * 100\n",
    "  ) \n",
    "presupuestos\n"
   ]
  }
 ],
 "metadata": {
  "kernelspec": {
   "display_name": "R",
   "language": "R",
   "name": "ir"
  },
  "language_info": {
   "codemirror_mode": "r",
   "file_extension": ".r",
   "mimetype": "text/x-r-source",
   "name": "R",
   "pygments_lexer": "r",
   "version": "4.4.1"
  }
 },
 "nbformat": 5,
 "nbformat_minor": 9
}
