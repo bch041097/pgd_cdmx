{
 "cells": [
  {
   "metadata": {},
   "cell_type": "code",
   "outputs": [],
   "execution_count": null,
   "source": [
    "#Se borra todo lo que se encuentra en el entorno\n",
    "\n",
    "rm(list=ls())\n",
    "\n",
    "# Librerías ====\n",
    "if (!require('pacman')) install.packages('pacman')\n",
    "pacman::p_load(tidyverse, httr,jsonlite)"
   ],
   "id": "a01fac3ac5851271"
  },
  {
   "metadata": {},
   "cell_type": "code",
   "outputs": [],
   "execution_count": null,
   "source": [
    "##Hacer lista con urls de los archivos\n",
    "\n",
    "presupuestos <- list(\n",
    "  '2024' = 'https://datos.cdmx.gob.mx/dataset/3a6cba97-adb1-4f35-9df1-984cc3657aca/resource/7fa1da81-531c-477c-93db-7580bc1c7ad0/download/egresos_2024_aprobado.csv',\n",
    "  '2023' = 'https://datos.cdmx.gob.mx/dataset/ea119a03-4f5a-46fa-afbe-bc32bcf79ec3/resource/5137e3db-227e-462d-8d59-1942afbc0c6a/download/egresos_2023_aprobado.csv',\n",
    "  '2022' = 'https://datos.cdmx.gob.mx/dataset/755f47f1-b937-4131-8a7b-fbe306e747c8/resource/fc93c940-ad75-4e7f-afe6-c624726623a9/download/egresos_2022_aprobado.csv',\n",
    "  '2021' = 'https://datos.cdmx.gob.mx/dataset/246be014-62ba-46e0-a7ce-9f37c8f01886/resource/682c37bd-96a2-4f78-94bf-3c77c3870f04/download/egresos_2021_aprobado.csv',\n",
    "  '2020' = 'https://datos.cdmx.gob.mx/dataset/2bb4de63-8212-4d2a-a377-98b10f8384c6/resource/def0fc56-4e26-4cd2-9ec6-200cb86b418e/download/egresos_2020_aprobado.csv',\n",
    "  '2019' = 'https://datos.cdmx.gob.mx/dataset/8dc52617-63f6-4bfd-9fae-54239675c6d0/resource/9a6f53d7-1751-4ae4-8bd8-d31807be7789/download/egresos_2019_aprobado.csv',\n",
    "  '2018' = 'https://datos.cdmx.gob.mx/dataset/7a8820f2-3bea-4c69-8b20-1d01b1a99a6a/resource/5b20655c-072f-4347-baee-ab93d930b27b/download/egresos_2018_aprobado.csv'\n",
    ")"
   ],
   "id": "c128a43764907aae"
  },
  {
   "metadata": {},
   "cell_type": "code",
   "outputs": [],
   "execution_count": null,
   "source": [
    "presupuestos <- map_dfr(\n",
    "  names(presupuestos),\n",
    "  ~ read_csv(presupuestos[[.x]], show_col_types = FALSE) %>%\n",
    "    mutate(year = as.numeric(.x)) %>%\n",
    "    # Identificar presupuesto de obra pública\n",
    "    mutate(obra_pub = case_when(capitulo == 6000 ~ 1, TRUE ~ 0)) %>%\n",
    "    group_by(year) %>%\n",
    "    summarise(\n",
    "      presup_op = sum(monto_aprobado * obra_pub, na.rm = TRUE),\n",
    "      presup_total = sum(monto_aprobado, na.rm = TRUE)\n",
    "    ) %>%\n",
    "    mutate(porcentaje = round(presup_op / presup_total * 100, 2))\n",
    ")%>%\n",
    "arrange(year)\n",
    "\n",
    "presupuestos"
   ],
   "id": "b19feb698b8a5b34"
  }
 ],
 "metadata": {},
 "nbformat": 5,
 "nbformat_minor": 9
}
