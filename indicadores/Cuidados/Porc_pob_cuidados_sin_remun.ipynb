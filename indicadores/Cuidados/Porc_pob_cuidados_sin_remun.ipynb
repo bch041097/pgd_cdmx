{
 "cells": [
  {
   "cell_type": "markdown",
   "id": "d2b768f2",
   "metadata": {},
   "source": [
    "Porcentaje de personas que se dedican a actividades de cuidados y no reciben remuneración"
   ]
  },
  {
   "cell_type": "code",
   "execution_count": null,
   "id": "eca8f294",
   "metadata": {
    "vscode": {
     "languageId": "r"
    }
   },
   "outputs": [],
   "source": [
    "##\n",
    "rm(list=ls())\n",
    "#Paquetes y liberías\n",
    "if(!require('pacman')) install.packages('pacman')\n",
    "pacman::p_load(tidyverse, srvyr, readr, stringr, dplyr, utils, survey)\n",
    "# URL del archivo ZIP\n",
    "url <- \"https://www.inegi.org.mx/contenidos/programas/enigh/nc/2022/microdatos/enigh2022_ns_poblacion_csv.zip\""
   ]
  },
  {
   "cell_type": "code",
   "execution_count": 2,
   "id": "b1477302",
   "metadata": {
    "vscode": {
     "languageId": "r"
    }
   },
   "outputs": [],
   "source": [
    "##Creación de directorio temporal\n",
    "td<- tempdir()\n",
    "# Descarga del archivo temporal\n",
    "tf = tempfile(tmpdir=td, fileext=\".zip\")\n",
    "download.file(url, tf)\n",
    "unzip(tf, files=\"poblacion.csv\", exdir=td, \n",
    "      overwrite=TRUE)\n",
    "fpath=file.path(td,\"poblacion.csv\")\n",
    "unlink(td)"
   ]
  },
  {
   "cell_type": "code",
   "execution_count": null,
   "id": "0c43a9d3",
   "metadata": {
    "vscode": {
     "languageId": "r"
    }
   },
   "outputs": [],
   "source": [
    "pob <- read_csv(fpath, show_col_types = FALSE)\n",
    "names(pob)\n",
    "datos2 <- pob [ ,c(\"folioviv\", \"foliohog\", \"hor_4\", \"est_dis\", \"entidad\", \"edad\", \"upm\", \"factor\")]\n",
    "#variable dicotómica\n",
    "datos <- datos2 %>% \n",
    "  filter(entidad == \"09\")|>\n",
    "  mutate(pob_interes = case_when(hor_4 != 0 | !is.na(hor_4) ~ 1, TRUE ~ 0))\n"
   ]
  },
  {
   "cell_type": "code",
   "execution_count": 6,
   "id": "9fa9fc28",
   "metadata": {
    "vscode": {
     "languageId": "r"
    }
   },
   "outputs": [],
   "source": [
    "## Diseño muestral\n",
    "dm <- datos %>%\n",
    "  as_survey_design(\n",
    "    ids = upm,\n",
    "    strata = est_dis,\n",
    "    weights = factor,\n",
    "    nest = TRUE)"
   ]
  },
  {
   "cell_type": "code",
   "execution_count": 14,
   "id": "621ff5fc",
   "metadata": {
    "vscode": {
     "languageId": "r"
    }
   },
   "outputs": [],
   "source": [
    "pob_cuidados<- dm|>\n",
    "  group_by(pob_interes)|>\n",
    "  summarise(pob_cuid = survey_total(vartype = \"cv\"),\n",
    "            porc_cuid = survey_prop(vartype = \"cv\")*100)|>\n",
    "  #mutate(prc_p_cuid =pob_cuid*100/sum(pob_cuid))|> PUEDES OBTENER EL PORCENTAJE DE FORMA TRADICIONAL\n",
    "  filter(pob_interes == 1)"
   ]
  },
  {
   "cell_type": "code",
   "execution_count": 16,
   "id": "d99bba10",
   "metadata": {
    "vscode": {
     "languageId": "r"
    }
   },
   "outputs": [
    {
     "data": {
      "text/html": [
       "<table class=\"dataframe\">\n",
       "<caption>A tibble: 1 × 5</caption>\n",
       "<thead>\n",
       "\t<tr><th scope=col>pob_interes</th><th scope=col>pob_cuid</th><th scope=col>pob_cuid_cv</th><th scope=col>porc_cuid</th><th scope=col>porc_cuid_cv</th></tr>\n",
       "\t<tr><th scope=col>&lt;dbl&gt;</th><th scope=col>&lt;dbl&gt;</th><th scope=col>&lt;dbl&gt;</th><th scope=col>&lt;dbl&gt;</th><th scope=col>&lt;dbl&gt;</th></tr>\n",
       "</thead>\n",
       "<tbody>\n",
       "\t<tr><td>1</td><td>1569286</td><td>0.05277464</td><td>16.78938</td><td>4.772984</td></tr>\n",
       "</tbody>\n",
       "</table>\n"
      ],
      "text/latex": [
       "A tibble: 1 × 5\n",
       "\\begin{tabular}{lllll}\n",
       " pob\\_interes & pob\\_cuid & pob\\_cuid\\_cv & porc\\_cuid & porc\\_cuid\\_cv\\\\\n",
       " <dbl> & <dbl> & <dbl> & <dbl> & <dbl>\\\\\n",
       "\\hline\n",
       "\t 1 & 1569286 & 0.05277464 & 16.78938 & 4.772984\\\\\n",
       "\\end{tabular}\n"
      ],
      "text/markdown": [
       "\n",
       "A tibble: 1 × 5\n",
       "\n",
       "| pob_interes &lt;dbl&gt; | pob_cuid &lt;dbl&gt; | pob_cuid_cv &lt;dbl&gt; | porc_cuid &lt;dbl&gt; | porc_cuid_cv &lt;dbl&gt; |\n",
       "|---|---|---|---|---|\n",
       "| 1 | 1569286 | 0.05277464 | 16.78938 | 4.772984 |\n",
       "\n"
      ],
      "text/plain": [
       "  pob_interes pob_cuid pob_cuid_cv porc_cuid porc_cuid_cv\n",
       "1 1           1569286  0.05277464  16.78938  4.772984    "
      ]
     },
     "metadata": {},
     "output_type": "display_data"
    }
   ],
   "source": [
    "head(pob_cuidados)\n"
   ]
  }
 ],
 "metadata": {
  "kernelspec": {
   "display_name": "R",
   "language": "R",
   "name": "ir"
  },
  "language_info": {
   "codemirror_mode": "r",
   "file_extension": ".r",
   "mimetype": "text/x-r-source",
   "name": "R",
   "pygments_lexer": "r",
   "version": "4.4.1"
  }
 },
 "nbformat": 4,
 "nbformat_minor": 5
}
