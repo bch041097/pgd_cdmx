{
 "cells": [
  {
   "cell_type": "markdown",
   "id": "d2b768f2",
   "metadata": {},
   "source": [
    "Porcentaje de personas que se dedican a actividades de cuidados y no reciben remuneración"
   ]
  },
  {
   "cell_type": "code",
   "execution_count": 2,
   "id": "eca8f294",
   "metadata": {
    "vscode": {
     "languageId": "r"
    }
   },
   "outputs": [
    {
     "name": "stderr",
     "output_type": "stream",
     "text": [
      "Cargando paquete requerido: pacman\n",
      "\n",
      "Warning message:\n",
      "\"package 'pacman' was built under R version 4.4.2\"\n"
     ]
    }
   ],
   "source": [
    "##\n",
    "rm(list=ls())\n",
    "#Paquetes y liberías\n",
    "if(!require('pacman')) install.packages('pacman')\n",
    "pacman::p_load(tidyverse, srvyr, readr, stringr, dplyr, utils, survey)\n",
    "# URL del archivo ZIP\n",
    "url <- \"https://www.inegi.org.mx/contenidos/programas/enigh/nc/2022/microdatos/enigh2022_ns_poblacion_csv.zip\""
   ]
  },
  {
   "cell_type": "code",
   "execution_count": 3,
   "id": "b1477302",
   "metadata": {
    "vscode": {
     "languageId": "r"
    }
   },
   "outputs": [],
   "source": [
    "##Creación de directorio temporal\n",
    "td<- tempdir()\n",
    "# Descarga del archivo temporal\n",
    "tf = tempfile(tmpdir=td, fileext=\".zip\")\n",
    "download.file(url, tf)\n",
    "unzip(tf, files=\"poblacion.csv\", exdir=td, \n",
    "      overwrite=TRUE)\n",
    "fpath=file.path(td,\"poblacion.csv\")\n",
    "unlink(td)"
   ]
  },
  {
   "cell_type": "code",
   "execution_count": null,
   "id": "0c43a9d3",
   "metadata": {
    "vscode": {
     "languageId": "r"
    }
   },
   "outputs": [],
   "source": [
    "pob <- read_csv(fpath, show_col_types = FALSE)\n"
   ]
  },
  {
   "cell_type": "code",
   "execution_count": 5,
   "id": "c81b5c3d",
   "metadata": {
    "vscode": {
     "languageId": "r"
    }
   },
   "outputs": [
    {
     "data": {
      "text/html": [
       "<table class=\"dataframe\">\n",
       "<caption>A tibble: 10 × 10</caption>\n",
       "<thead>\n",
       "\t<tr><th scope=col>folioviv</th><th scope=col>foliohog</th><th scope=col>hor_4</th><th scope=col>min_4</th><th scope=col>est_dis</th><th scope=col>entidad</th><th scope=col>edad</th><th scope=col>upm</th><th scope=col>factor</th><th scope=col>pob_interes</th></tr>\n",
       "\t<tr><th scope=col>&lt;chr&gt;</th><th scope=col>&lt;dbl&gt;</th><th scope=col>&lt;dbl&gt;</th><th scope=col>&lt;dbl&gt;</th><th scope=col>&lt;chr&gt;</th><th scope=col>&lt;chr&gt;</th><th scope=col>&lt;dbl&gt;</th><th scope=col>&lt;chr&gt;</th><th scope=col>&lt;dbl&gt;</th><th scope=col>&lt;dbl&gt;</th></tr>\n",
       "</thead>\n",
       "<tbody>\n",
       "\t<tr><td>0900006901</td><td>1</td><td>28</td><td> 0</td><td>141</td><td>09</td><td>66</td><td>0003071</td><td>1578</td><td>1</td></tr>\n",
       "\t<tr><td>0900006901</td><td>1</td><td>NA</td><td>NA</td><td>141</td><td>09</td><td>30</td><td>0003071</td><td>1578</td><td>0</td></tr>\n",
       "\t<tr><td>0900006901</td><td>1</td><td>NA</td><td>NA</td><td>141</td><td>09</td><td>32</td><td>0003071</td><td>1578</td><td>0</td></tr>\n",
       "\t<tr><td>0900006901</td><td>1</td><td>NA</td><td>NA</td><td>141</td><td>09</td><td> 8</td><td>0003071</td><td>1578</td><td>0</td></tr>\n",
       "\t<tr><td>0900006901</td><td>1</td><td>NA</td><td>NA</td><td>141</td><td>09</td><td> 5</td><td>0003071</td><td>1578</td><td>0</td></tr>\n",
       "\t<tr><td>0900006902</td><td>1</td><td>NA</td><td>NA</td><td>141</td><td>09</td><td>71</td><td>0003071</td><td>1578</td><td>0</td></tr>\n",
       "\t<tr><td>0900006902</td><td>1</td><td>NA</td><td>NA</td><td>141</td><td>09</td><td>68</td><td>0003071</td><td>1578</td><td>0</td></tr>\n",
       "\t<tr><td>0900006902</td><td>1</td><td>NA</td><td>NA</td><td>141</td><td>09</td><td>46</td><td>0003071</td><td>1578</td><td>0</td></tr>\n",
       "\t<tr><td>0900006902</td><td>1</td><td>NA</td><td>NA</td><td>141</td><td>09</td><td>25</td><td>0003071</td><td>1578</td><td>0</td></tr>\n",
       "\t<tr><td>0900006902</td><td>1</td><td>NA</td><td>NA</td><td>141</td><td>09</td><td>35</td><td>0003071</td><td>1578</td><td>0</td></tr>\n",
       "</tbody>\n",
       "</table>\n"
      ],
      "text/latex": [
       "A tibble: 10 × 10\n",
       "\\begin{tabular}{llllllllll}\n",
       " folioviv & foliohog & hor\\_4 & min\\_4 & est\\_dis & entidad & edad & upm & factor & pob\\_interes\\\\\n",
       " <chr> & <dbl> & <dbl> & <dbl> & <chr> & <chr> & <dbl> & <chr> & <dbl> & <dbl>\\\\\n",
       "\\hline\n",
       "\t 0900006901 & 1 & 28 &  0 & 141 & 09 & 66 & 0003071 & 1578 & 1\\\\\n",
       "\t 0900006901 & 1 & NA & NA & 141 & 09 & 30 & 0003071 & 1578 & 0\\\\\n",
       "\t 0900006901 & 1 & NA & NA & 141 & 09 & 32 & 0003071 & 1578 & 0\\\\\n",
       "\t 0900006901 & 1 & NA & NA & 141 & 09 &  8 & 0003071 & 1578 & 0\\\\\n",
       "\t 0900006901 & 1 & NA & NA & 141 & 09 &  5 & 0003071 & 1578 & 0\\\\\n",
       "\t 0900006902 & 1 & NA & NA & 141 & 09 & 71 & 0003071 & 1578 & 0\\\\\n",
       "\t 0900006902 & 1 & NA & NA & 141 & 09 & 68 & 0003071 & 1578 & 0\\\\\n",
       "\t 0900006902 & 1 & NA & NA & 141 & 09 & 46 & 0003071 & 1578 & 0\\\\\n",
       "\t 0900006902 & 1 & NA & NA & 141 & 09 & 25 & 0003071 & 1578 & 0\\\\\n",
       "\t 0900006902 & 1 & NA & NA & 141 & 09 & 35 & 0003071 & 1578 & 0\\\\\n",
       "\\end{tabular}\n"
      ],
      "text/markdown": [
       "\n",
       "A tibble: 10 × 10\n",
       "\n",
       "| folioviv &lt;chr&gt; | foliohog &lt;dbl&gt; | hor_4 &lt;dbl&gt; | min_4 &lt;dbl&gt; | est_dis &lt;chr&gt; | entidad &lt;chr&gt; | edad &lt;dbl&gt; | upm &lt;chr&gt; | factor &lt;dbl&gt; | pob_interes &lt;dbl&gt; |\n",
       "|---|---|---|---|---|---|---|---|---|---|\n",
       "| 0900006901 | 1 | 28 |  0 | 141 | 09 | 66 | 0003071 | 1578 | 1 |\n",
       "| 0900006901 | 1 | NA | NA | 141 | 09 | 30 | 0003071 | 1578 | 0 |\n",
       "| 0900006901 | 1 | NA | NA | 141 | 09 | 32 | 0003071 | 1578 | 0 |\n",
       "| 0900006901 | 1 | NA | NA | 141 | 09 |  8 | 0003071 | 1578 | 0 |\n",
       "| 0900006901 | 1 | NA | NA | 141 | 09 |  5 | 0003071 | 1578 | 0 |\n",
       "| 0900006902 | 1 | NA | NA | 141 | 09 | 71 | 0003071 | 1578 | 0 |\n",
       "| 0900006902 | 1 | NA | NA | 141 | 09 | 68 | 0003071 | 1578 | 0 |\n",
       "| 0900006902 | 1 | NA | NA | 141 | 09 | 46 | 0003071 | 1578 | 0 |\n",
       "| 0900006902 | 1 | NA | NA | 141 | 09 | 25 | 0003071 | 1578 | 0 |\n",
       "| 0900006902 | 1 | NA | NA | 141 | 09 | 35 | 0003071 | 1578 | 0 |\n",
       "\n"
      ],
      "text/plain": [
       "   folioviv   foliohog hor_4 min_4 est_dis entidad edad upm     factor\n",
       "1  0900006901 1        28     0    141     09      66   0003071 1578  \n",
       "2  0900006901 1        NA    NA    141     09      30   0003071 1578  \n",
       "3  0900006901 1        NA    NA    141     09      32   0003071 1578  \n",
       "4  0900006901 1        NA    NA    141     09       8   0003071 1578  \n",
       "5  0900006901 1        NA    NA    141     09       5   0003071 1578  \n",
       "6  0900006902 1        NA    NA    141     09      71   0003071 1578  \n",
       "7  0900006902 1        NA    NA    141     09      68   0003071 1578  \n",
       "8  0900006902 1        NA    NA    141     09      46   0003071 1578  \n",
       "9  0900006902 1        NA    NA    141     09      25   0003071 1578  \n",
       "10 0900006902 1        NA    NA    141     09      35   0003071 1578  \n",
       "   pob_interes\n",
       "1  1          \n",
       "2  0          \n",
       "3  0          \n",
       "4  0          \n",
       "5  0          \n",
       "6  0          \n",
       "7  0          \n",
       "8  0          \n",
       "9  0          \n",
       "10 0          "
      ]
     },
     "metadata": {},
     "output_type": "display_data"
    }
   ],
   "source": [
    "datos <- pob[c(\"folioviv\", \"foliohog\", \"hor_4\", \"min_4\", \"est_dis\", \"entidad\", \"edad\", \"upm\", \"factor\")]\n",
    "\n",
    "datos <- datos %>%\n",
    "  filter(entidad == \"09\") %>%\n",
    "  mutate(\n",
    "    pob_interes = case_when(\n",
    "      (hor_4 != 0 | !is.na(hor_4)) ~ 1,\n",
    "      (hor_4 == 0 & min_4 != 0 & !is.na(min_4)) ~ 1,\n",
    "      TRUE ~ 0\n",
    "    ) \n",
    "  ) \n",
    "head(datos,10)"
   ]
  },
  {
   "cell_type": "code",
   "execution_count": 6,
   "id": "9fa9fc28",
   "metadata": {
    "vscode": {
     "languageId": "r"
    }
   },
   "outputs": [],
   "source": [
    "## Diseño muestral\n",
    "dm <- datos %>%\n",
    "  as_survey_design(\n",
    "    ids = upm,\n",
    "    strata = est_dis,\n",
    "    weights = factor,\n",
    "    nest = TRUE)"
   ]
  },
  {
   "cell_type": "code",
   "execution_count": 7,
   "id": "621ff5fc",
   "metadata": {
    "vscode": {
     "languageId": "r"
    }
   },
   "outputs": [],
   "source": [
    "pob_cuidados<- dm|>\n",
    "  group_by(pob_interes)|>\n",
    "  summarise(pob_cuid = survey_total(vartype = \"cv\"),\n",
    "            porc_cuid = survey_prop(vartype = \"cv\")*100)|>\n",
    "  #mutate(prc_p_cuid =pob_cuid*100/sum(pob_cuid))|> PUEDES OBTENER EL PORCENTAJE DE FORMA TRADICIONAL\n",
    "  filter(pob_interes == 1)"
   ]
  },
  {
   "cell_type": "code",
   "execution_count": 8,
   "id": "d99bba10",
   "metadata": {
    "vscode": {
     "languageId": "r"
    }
   },
   "outputs": [
    {
     "data": {
      "text/html": [
       "<table class=\"dataframe\">\n",
       "<caption>A tibble: 1 × 5</caption>\n",
       "<thead>\n",
       "\t<tr><th scope=col>pob_interes</th><th scope=col>pob_cuid</th><th scope=col>pob_cuid_cv</th><th scope=col>porc_cuid</th><th scope=col>porc_cuid_cv</th></tr>\n",
       "\t<tr><th scope=col>&lt;dbl&gt;</th><th scope=col>&lt;dbl&gt;</th><th scope=col>&lt;dbl&gt;</th><th scope=col>&lt;dbl&gt;</th><th scope=col>&lt;dbl&gt;</th></tr>\n",
       "</thead>\n",
       "<tbody>\n",
       "\t<tr><td>1</td><td>1569286</td><td>0.05277464</td><td>16.78938</td><td>4.772984</td></tr>\n",
       "</tbody>\n",
       "</table>\n"
      ],
      "text/latex": [
       "A tibble: 1 × 5\n",
       "\\begin{tabular}{lllll}\n",
       " pob\\_interes & pob\\_cuid & pob\\_cuid\\_cv & porc\\_cuid & porc\\_cuid\\_cv\\\\\n",
       " <dbl> & <dbl> & <dbl> & <dbl> & <dbl>\\\\\n",
       "\\hline\n",
       "\t 1 & 1569286 & 0.05277464 & 16.78938 & 4.772984\\\\\n",
       "\\end{tabular}\n"
      ],
      "text/markdown": [
       "\n",
       "A tibble: 1 × 5\n",
       "\n",
       "| pob_interes &lt;dbl&gt; | pob_cuid &lt;dbl&gt; | pob_cuid_cv &lt;dbl&gt; | porc_cuid &lt;dbl&gt; | porc_cuid_cv &lt;dbl&gt; |\n",
       "|---|---|---|---|---|\n",
       "| 1 | 1569286 | 0.05277464 | 16.78938 | 4.772984 |\n",
       "\n"
      ],
      "text/plain": [
       "  pob_interes pob_cuid pob_cuid_cv porc_cuid porc_cuid_cv\n",
       "1 1           1569286  0.05277464  16.78938  4.772984    "
      ]
     },
     "metadata": {},
     "output_type": "display_data"
    }
   ],
   "source": [
    "head(pob_cuidados)\n"
   ]
  }
 ],
 "metadata": {
  "kernelspec": {
   "display_name": "R",
   "language": "R",
   "name": "ir"
  },
  "language_info": {
   "codemirror_mode": "r",
   "file_extension": ".r",
   "mimetype": "text/x-r-source",
   "name": "R",
   "pygments_lexer": "r",
   "version": "4.4.1"
  }
 },
 "nbformat": 4,
 "nbformat_minor": 5
}
