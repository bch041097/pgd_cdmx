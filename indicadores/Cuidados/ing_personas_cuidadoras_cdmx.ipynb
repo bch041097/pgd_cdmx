{
 "cells": [
  {
   "metadata": {},
   "cell_type": "markdown",
   "source": [
    "## Estimación de ingresos por cuidados no remunerados en la Ciudad de México\n",
    "\n",
    "El presente script tiene como objetivo estimar los ingresos por cuidados no remunerados en la Ciudad de México. Para ello, se utilizarán los datos de la Encuesta Nacional de Ingresos y Gastos de los Hogares (ENIGH) 2022.\n",
    "El objetivo es determinar el incremento en el ingreso de los hogares de la Ciudad de México si se consideran los ingresos por cuidados no remunerados. Para ello, se utilizarán los datos de la ENIGH 2022 y se estimarán los ingresos por cuidados no remunerados en la Ciudad de México. Posteriormente, se calculará el ingreso total de los hogares considerando los ingresos por cuidados no remunerados y se comparará con el ingreso total sin considerar estos ingresos.\n",
    "\n",
    "Para el cálculo de los ingresos por cuidados no remunerados, se considerará el tiempo dedicado a los cuidados y se calculará el ingreso en función del salario mínimo de 2022, el cual fue de 172.87 pesos diarios."
   ],
   "id": "6b21dcdbcbc0c6f4"
  },
  {
   "metadata": {
    "ExecuteTime": {
     "end_time": "2025-03-03T05:12:02.481985Z",
     "start_time": "2025-03-03T05:12:02.469129Z"
    }
   },
   "cell_type": "code",
   "source": [
    "rm(list=ls())\n",
    "\n",
    "# Librerías ====\n",
    "if(!require('pacman')) install.packages('pacman')\n",
    "pacman::p_load(tidyverse, srvyr)"
   ],
   "id": "ea7ac9accff380fc",
   "outputs": [],
   "execution_count": 134
  },
  {
   "metadata": {
    "ExecuteTime": {
     "end_time": "2025-03-03T05:12:02.496270Z",
     "start_time": "2025-03-03T05:12:02.486216Z"
    }
   },
   "cell_type": "code",
   "source": [
    "#Crear directorio para guardar los archivos\n",
    "dir.create(\"data\", showWarnings = FALSE)"
   ],
   "id": "943d076a6f037c80",
   "outputs": [],
   "execution_count": 135
  },
  {
   "metadata": {
    "ExecuteTime": {
     "end_time": "2025-03-03T05:12:02.511060Z",
     "start_time": "2025-03-03T05:12:02.499819Z"
    }
   },
   "cell_type": "code",
   "source": [
    "url_basica<-\"https://www.inegi.org.mx/contenidos/programas/enigh/nc/\"\n",
    "segunda_parte<-\"microdatos/enigh\"\n",
    "fin1<-\"_ns_\"\n",
    "fin2<-\"_csv.zip\""
   ],
   "id": "f5a49c0e76a2cf65",
   "outputs": [],
   "execution_count": 136
  },
  {
   "metadata": {
    "ExecuteTime": {
     "end_time": "2025-03-03T05:12:02.523550Z",
     "start_time": "2025-03-03T05:12:02.514807Z"
    }
   },
   "cell_type": "code",
   "source": "years<-c(\"2022\")",
   "id": "ed64bf5163f627d8",
   "outputs": [],
   "execution_count": 137
  },
  {
   "metadata": {
    "ExecuteTime": {
     "end_time": "2025-03-03T05:12:02.537130Z",
     "start_time": "2025-03-03T05:12:02.527817Z"
    }
   },
   "cell_type": "code",
   "source": [
    "# Función genérica para descargar, descomprimir, renombrar y eliminar\n",
    "procesar_archivo <- function(year, tipo, url_base, segunda_parte, fin1, fin2, carpeta_destino) {\n",
    "  # Construir URL y ruta de destino\n",
    "  url <- paste0(url_base, year, \"/\", segunda_parte, year, fin1, tipo, fin2)\n",
    "  destfile <- paste0(carpeta_destino, \"/\", year, fin1, tipo, fin2)\n",
    "\n",
    "  # Descargar el archivo\n",
    "  download.file(url, destfile = destfile)\n",
    "\n",
    "  # Descomprimir el archivo\n",
    "  unzip(destfile, exdir = carpeta_destino)\n",
    "\n",
    "  # Renombrar el archivo descomprimido\n",
    "  file.rename(\n",
    "    from = paste0(carpeta_destino, \"/\", tipo, \".csv\"),\n",
    "    to = paste0(carpeta_destino, \"/\", tipo, \"_\", year, \".csv\")\n",
    "  )\n",
    "\n",
    "  # Eliminar el archivo descargado\n",
    "  file.remove(destfile)\n",
    "}"
   ],
   "id": "ca53ca8444abb79f",
   "outputs": [],
   "execution_count": 138
  },
  {
   "metadata": {
    "ExecuteTime": {
     "end_time": "2025-03-03T05:12:12.526509Z",
     "start_time": "2025-03-03T05:12:02.541083Z"
    }
   },
   "cell_type": "code",
   "source": [
    "# Iterar sobre los años y procesar cada tipo de archivo\n",
    "\n",
    "for (i in 1:length(years)) {\n",
    "  procesar_archivo(years[i], \"poblacion\", url_basica, segunda_parte, fin1, fin2, \"data\")\n",
    "  procesar_archivo(years[i], \"concentradohogar\", url_basica, segunda_parte, fin1, fin2, \"data\")\n",
    "}"
   ],
   "id": "23afd2514d7b6807",
   "outputs": [],
   "execution_count": 139
  },
  {
   "metadata": {},
   "cell_type": "markdown",
   "source": "### Identificar población que se dedica a cuidados no remunerados",
   "id": "f4fec37a4ad364b1"
  },
  {
   "metadata": {
    "ExecuteTime": {
     "end_time": "2025-03-03T05:12:14.651062Z",
     "start_time": "2025-03-03T05:12:12.534872Z"
    }
   },
   "cell_type": "code",
   "source": [
    "cuidadores<-read_csv(\"data/poblacion_2022.csv\", show_col_types = FALSE)%>%\n",
    "  janitor::clean_names()%>%\n",
    "  #Se crea clave de entidad\n",
    "  mutate(cve_ent = case_when(\n",
    "    nchar(folioviv) == 9  ~ paste0(\"0\", substr(folioviv, 1, 1)),\n",
    "    nchar(folioviv) == 10 ~ substr(folioviv, 1, 2)\n",
    "  ))%>%\n",
    "  #Filtrar para Ciudad de México\n",
    "  filter(cve_ent == \"09\")%>%\n",
    "\n",
    "  #Transformar tiempos de cuidados a días para poder calcular ingresos\n",
    "  mutate(\n",
    "  #Transformar minutos a horas\n",
    "  horas_cuidados=min_4/60,\n",
    "  tiempo_cuidados=horas_cuidados+hor_4,\n",
    "  #Pasar horas a días considerando que son horas semanales\n",
    "    cuidados_semanales_dias=tiempo_cuidados/24,\n",
    "#Calcular cuántos días fueron al trimestre\n",
    "    dias_cuidados_trim=cuidados_semanales_dias*90,\n",
    " #Calcular ingreso diario considerando salario mínimo de 172.87\n",
    "    ingreso_diario_cuidados=cuidados_semanales_dias*172.87,\n",
    "    ingreso_cuidados_trim=ingreso_diario_cuidados*90,\n",
    "    #Identificar si la persona es cuidadora\n",
    "cuidador = ifelse(tiempo_cuidados > 0 | !is.na(tiempo_cuidados), 1, 0)\n",
    "    )%>%\n",
    "    #Filtrar cuidadores\n",
    "    filter(cuidador==1)%>%\n",
    "    #Seleccionar variables de interés\n",
    "    select(folioviv,foliohog,tiempo_cuidados,hor_4,min_4,cuidados_semanales_dias,dias_cuidados_trim,ingreso_diario_cuidados,ingreso_cuidados_trim)%>%\n",
    "    #Agrupar por por vivienda y hogar para sumar tiempo de cuidados e ingresos.\n",
    "  group_by(folioviv,foliohog)%>%\n",
    "    summarise(tiempo_cuidados=sum(tiempo_cuidados),\n",
    "                dias_cuidados_trim=sum(dias_cuidados_trim),\n",
    "                ingreso_cuidados_trim=sum(ingreso_cuidados_trim))%>%\n",
    "    ungroup()\n",
    "head(cuidadores)"
   ],
   "id": "4f394e6a967db520",
   "outputs": [
    {
     "name": "stderr",
     "output_type": "stream",
     "text": [
      "Warning message:\n",
      "\"\u001B[1m\u001B[22mOne or more parsing issues, call `problems()` on your data frame for details,\n",
      "e.g.:\n",
      "  dat <- vroom(...)\n",
      "  problems(dat)\"\n",
      "\u001B[1m\u001B[22m`summarise()` has grouped output by 'folioviv'. You can override using the\n",
      "`.groups` argument.\n"
     ]
    },
    {
     "data": {
      "text/html": [
       "<table class=\"dataframe\">\n",
       "<caption>A tibble: 6 × 5</caption>\n",
       "<thead>\n",
       "\t<tr><th scope=col>folioviv</th><th scope=col>foliohog</th><th scope=col>tiempo_cuidados</th><th scope=col>dias_cuidados_trim</th><th scope=col>ingreso_cuidados_trim</th></tr>\n",
       "\t<tr><th scope=col>&lt;chr&gt;</th><th scope=col>&lt;dbl&gt;</th><th scope=col>&lt;dbl&gt;</th><th scope=col>&lt;dbl&gt;</th><th scope=col>&lt;dbl&gt;</th></tr>\n",
       "</thead>\n",
       "<tbody>\n",
       "\t<tr><td>0900006901</td><td>1</td><td>28</td><td>105.00</td><td>18151.350</td></tr>\n",
       "\t<tr><td>0900009201</td><td>1</td><td> 9</td><td> 33.75</td><td> 5834.363</td></tr>\n",
       "\t<tr><td>0900017403</td><td>1</td><td>30</td><td>112.50</td><td>19447.875</td></tr>\n",
       "\t<tr><td>0900297701</td><td>1</td><td>10</td><td> 37.50</td><td> 6482.625</td></tr>\n",
       "\t<tr><td>0900313902</td><td>1</td><td>26</td><td> 97.50</td><td>16854.825</td></tr>\n",
       "\t<tr><td>0900401202</td><td>1</td><td>96</td><td>360.00</td><td>62233.200</td></tr>\n",
       "</tbody>\n",
       "</table>\n"
      ],
      "text/markdown": "\nA tibble: 6 × 5\n\n| folioviv &lt;chr&gt; | foliohog &lt;dbl&gt; | tiempo_cuidados &lt;dbl&gt; | dias_cuidados_trim &lt;dbl&gt; | ingreso_cuidados_trim &lt;dbl&gt; |\n|---|---|---|---|---|\n| 0900006901 | 1 | 28 | 105.00 | 18151.350 |\n| 0900009201 | 1 |  9 |  33.75 |  5834.363 |\n| 0900017403 | 1 | 30 | 112.50 | 19447.875 |\n| 0900297701 | 1 | 10 |  37.50 |  6482.625 |\n| 0900313902 | 1 | 26 |  97.50 | 16854.825 |\n| 0900401202 | 1 | 96 | 360.00 | 62233.200 |\n\n",
      "text/latex": "A tibble: 6 × 5\n\\begin{tabular}{lllll}\n folioviv & foliohog & tiempo\\_cuidados & dias\\_cuidados\\_trim & ingreso\\_cuidados\\_trim\\\\\n <chr> & <dbl> & <dbl> & <dbl> & <dbl>\\\\\n\\hline\n\t 0900006901 & 1 & 28 & 105.00 & 18151.350\\\\\n\t 0900009201 & 1 &  9 &  33.75 &  5834.363\\\\\n\t 0900017403 & 1 & 30 & 112.50 & 19447.875\\\\\n\t 0900297701 & 1 & 10 &  37.50 &  6482.625\\\\\n\t 0900313902 & 1 & 26 &  97.50 & 16854.825\\\\\n\t 0900401202 & 1 & 96 & 360.00 & 62233.200\\\\\n\\end{tabular}\n",
      "text/plain": [
       "  folioviv   foliohog tiempo_cuidados dias_cuidados_trim ingreso_cuidados_trim\n",
       "1 0900006901 1        28              105.00             18151.350            \n",
       "2 0900009201 1         9               33.75              5834.363            \n",
       "3 0900017403 1        30              112.50             19447.875            \n",
       "4 0900297701 1        10               37.50              6482.625            \n",
       "5 0900313902 1        26               97.50             16854.825            \n",
       "6 0900401202 1        96              360.00             62233.200            "
      ]
     },
     "metadata": {},
     "output_type": "display_data"
    }
   ],
   "execution_count": 140
  },
  {
   "metadata": {},
   "cell_type": "markdown",
   "source": "### Leer datos de hogares para pegar información de cuidados",
   "id": "bbc476664ab79349"
  },
  {
   "metadata": {
    "ExecuteTime": {
     "end_time": "2025-03-03T05:12:15.459975Z",
     "start_time": "2025-03-03T05:12:14.676933Z"
    }
   },
   "cell_type": "code",
   "source": [
    "### Leer concentrado hogar\n",
    "\n",
    "hogares<-read_csv(\"data/concentradohogar_2022.csv\", show_col_types = FALSE)%>%\n",
    "  janitor::clean_names()%>%\n",
    "\n",
    " #Ordenar de mayor a menor ingreso\n",
    "    arrange(desc(ing_cor))%>%\n",
    "  #Se crea clave de entidad\n",
    "  mutate(cve_ent = case_when(\n",
    "    nchar(folioviv) == 9  ~ paste0(\"0\", substr(folioviv, 1, 1)),\n",
    "    nchar(folioviv) == 10 ~ substr(folioviv, 1, 2)\n",
    "  ),\n",
    "  #crear deciles\n",
    "    decil = ntile(ing_cor, 10),\n",
    "  #Crear quintiles\n",
    "    quintil = ntile(ing_cor, 5))%>%\n",
    "  # Filtrar Ciudad de México\n",
    "filter(cve_ent == \"09\")\n",
    "print(nrow(hogares))\n",
    "\n",
    "hogares<-hogares%>%\n",
    "#Pegar información de cuidadores\n",
    "left_join(cuidadores, by=c(\"folioviv\",\"foliohog\"))%>%\n",
    "#Sumar ingreso de cuidados al ingreso del hogar\n",
    "mutate(ing_cor_con_cuidados=coalesce(ing_cor + ingreso_cuidados_trim, ing_cor))\n",
    "print(nrow(hogares))\n"
   ],
   "id": "84bc34b3e1b5de2c",
   "outputs": [
    {
     "name": "stdout",
     "output_type": "stream",
     "text": [
      "[1] 2585\n",
      "[1] 2585\n"
     ]
    }
   ],
   "execution_count": 141
  },
  {
   "metadata": {
    "ExecuteTime": {
     "end_time": "2025-03-03T05:12:15.485357Z",
     "start_time": "2025-03-03T05:12:15.465218Z"
    }
   },
   "cell_type": "code",
   "source": [
    "##Diseño nuestral\n",
    "dm<-hogares%>%\n",
    "as_survey_design(ids = upm,\n",
    "                     strata = est_dis,\n",
    "                     weights = factor)\n",
    "\n"
   ],
   "id": "86f6b5759b3485b9",
   "outputs": [],
   "execution_count": 142
  },
  {
   "metadata": {
    "ExecuteTime": {
     "end_time": "2025-03-03T05:12:15.645621Z",
     "start_time": "2025-03-03T05:12:15.491693Z"
    }
   },
   "cell_type": "code",
   "source": [
    "#Total de hogares\n",
    "print(\"Hogares en la Ciudad de México e ingreso corriente trimestral sin considerar cuidados y considerando estimación de ingresos por cuidados por decil, 2022\")\n",
    "print(\"Miles de pesos\")\n",
    "dm%>%\n",
    "group_by(decil)%>%\n",
    "summarise(hogares=survey_total(vartype=\"cv\"),\n",
    "            ingreso_total_sin_cuidados=survey_total(ing_cor,vartype=\"cv\"),\n",
    "            ingreso_total_con_cuidados=survey_total(ing_cor_con_cuidados,vartype=\"cv\"))%>%\n",
    "            #Ingresos en miles de pesos\n",
    "mutate(ingreso_total_sin_cuidados=ingreso_total_sin_cuidados/1000,\n",
    "        ingreso_total_con_cuidados=ingreso_total_con_cuidados/1000)%>%\n",
    "        #Calcular variación porcentual de ingresos\n",
    "mutate(variacion_pct=100*(ingreso_total_con_cuidados-ingreso_total_sin_cuidados)/ingreso_total_sin_cuidados)"
   ],
   "id": "6da258e038a5efd4",
   "outputs": [
    {
     "name": "stdout",
     "output_type": "stream",
     "text": [
      "[1] \"Hogares en la Ciudad de México e ingreso corriente trimestral sin considerar cuidados y considerando estimación de ingresos por cuidados por decil, 2022\"\n",
      "[1] \"Miles de pesos\"\n"
     ]
    },
    {
     "data": {
      "text/html": [
       "<table class=\"dataframe\">\n",
       "<caption>A tibble: 10 × 8</caption>\n",
       "<thead>\n",
       "\t<tr><th scope=col>decil</th><th scope=col>hogares</th><th scope=col>hogares_cv</th><th scope=col>ingreso_total_sin_cuidados</th><th scope=col>ingreso_total_sin_cuidados_cv</th><th scope=col>ingreso_total_con_cuidados</th><th scope=col>ingreso_total_con_cuidados_cv</th><th scope=col>variacion_pct</th></tr>\n",
       "\t<tr><th scope=col>&lt;int&gt;</th><th scope=col>&lt;dbl&gt;</th><th scope=col>&lt;dbl&gt;</th><th scope=col>&lt;dbl&gt;</th><th scope=col>&lt;dbl&gt;</th><th scope=col>&lt;dbl&gt;</th><th scope=col>&lt;dbl&gt;</th><th scope=col>&lt;dbl&gt;</th></tr>\n",
       "</thead>\n",
       "<tbody>\n",
       "\t<tr><td> 1</td><td> 98576</td><td>0.12379155</td><td>  1264257</td><td>0.13005626</td><td>  1651241</td><td>0.15711173</td><td>30.609617</td></tr>\n",
       "\t<tr><td> 2</td><td>117070</td><td>0.11394414</td><td>  2533417</td><td>0.11355119</td><td>  3187545</td><td>0.12713734</td><td>25.819961</td></tr>\n",
       "\t<tr><td> 3</td><td>191325</td><td>0.08386196</td><td>  5445346</td><td>0.08381824</td><td>  6546242</td><td>0.08841450</td><td>20.217182</td></tr>\n",
       "\t<tr><td> 4</td><td>228513</td><td>0.07805405</td><td>  8052209</td><td>0.07795998</td><td> 10279973</td><td>0.08517980</td><td>27.666498</td></tr>\n",
       "\t<tr><td> 5</td><td>270422</td><td>0.07390807</td><td> 11397930</td><td>0.07433793</td><td> 13289587</td><td>0.07678280</td><td>16.596492</td></tr>\n",
       "\t<tr><td> 6</td><td>298592</td><td>0.06746130</td><td> 15106918</td><td>0.06747361</td><td> 17467297</td><td>0.07061117</td><td>15.624490</td></tr>\n",
       "\t<tr><td> 7</td><td>390083</td><td>0.06477733</td><td> 23586140</td><td>0.06472309</td><td> 27384368</td><td>0.06683649</td><td>16.103646</td></tr>\n",
       "\t<tr><td> 8</td><td>391825</td><td>0.05941874</td><td> 29304112</td><td>0.05970973</td><td> 32468826</td><td>0.06021924</td><td>10.799555</td></tr>\n",
       "\t<tr><td> 9</td><td>389141</td><td>0.06428477</td><td> 37997705</td><td>0.06334324</td><td> 41470425</td><td>0.06426986</td><td> 9.139289</td></tr>\n",
       "\t<tr><td>10</td><td>614483</td><td>0.05759763</td><td>132352346</td><td>0.08303319</td><td>136762021</td><td>0.08227215</td><td> 3.331769</td></tr>\n",
       "</tbody>\n",
       "</table>\n"
      ],
      "text/markdown": "\nA tibble: 10 × 8\n\n| decil &lt;int&gt; | hogares &lt;dbl&gt; | hogares_cv &lt;dbl&gt; | ingreso_total_sin_cuidados &lt;dbl&gt; | ingreso_total_sin_cuidados_cv &lt;dbl&gt; | ingreso_total_con_cuidados &lt;dbl&gt; | ingreso_total_con_cuidados_cv &lt;dbl&gt; | variacion_pct &lt;dbl&gt; |\n|---|---|---|---|---|---|---|---|\n|  1 |  98576 | 0.12379155 |   1264257 | 0.13005626 |   1651241 | 0.15711173 | 30.609617 |\n|  2 | 117070 | 0.11394414 |   2533417 | 0.11355119 |   3187545 | 0.12713734 | 25.819961 |\n|  3 | 191325 | 0.08386196 |   5445346 | 0.08381824 |   6546242 | 0.08841450 | 20.217182 |\n|  4 | 228513 | 0.07805405 |   8052209 | 0.07795998 |  10279973 | 0.08517980 | 27.666498 |\n|  5 | 270422 | 0.07390807 |  11397930 | 0.07433793 |  13289587 | 0.07678280 | 16.596492 |\n|  6 | 298592 | 0.06746130 |  15106918 | 0.06747361 |  17467297 | 0.07061117 | 15.624490 |\n|  7 | 390083 | 0.06477733 |  23586140 | 0.06472309 |  27384368 | 0.06683649 | 16.103646 |\n|  8 | 391825 | 0.05941874 |  29304112 | 0.05970973 |  32468826 | 0.06021924 | 10.799555 |\n|  9 | 389141 | 0.06428477 |  37997705 | 0.06334324 |  41470425 | 0.06426986 |  9.139289 |\n| 10 | 614483 | 0.05759763 | 132352346 | 0.08303319 | 136762021 | 0.08227215 |  3.331769 |\n\n",
      "text/latex": "A tibble: 10 × 8\n\\begin{tabular}{llllllll}\n decil & hogares & hogares\\_cv & ingreso\\_total\\_sin\\_cuidados & ingreso\\_total\\_sin\\_cuidados\\_cv & ingreso\\_total\\_con\\_cuidados & ingreso\\_total\\_con\\_cuidados\\_cv & variacion\\_pct\\\\\n <int> & <dbl> & <dbl> & <dbl> & <dbl> & <dbl> & <dbl> & <dbl>\\\\\n\\hline\n\t  1 &  98576 & 0.12379155 &   1264257 & 0.13005626 &   1651241 & 0.15711173 & 30.609617\\\\\n\t  2 & 117070 & 0.11394414 &   2533417 & 0.11355119 &   3187545 & 0.12713734 & 25.819961\\\\\n\t  3 & 191325 & 0.08386196 &   5445346 & 0.08381824 &   6546242 & 0.08841450 & 20.217182\\\\\n\t  4 & 228513 & 0.07805405 &   8052209 & 0.07795998 &  10279973 & 0.08517980 & 27.666498\\\\\n\t  5 & 270422 & 0.07390807 &  11397930 & 0.07433793 &  13289587 & 0.07678280 & 16.596492\\\\\n\t  6 & 298592 & 0.06746130 &  15106918 & 0.06747361 &  17467297 & 0.07061117 & 15.624490\\\\\n\t  7 & 390083 & 0.06477733 &  23586140 & 0.06472309 &  27384368 & 0.06683649 & 16.103646\\\\\n\t  8 & 391825 & 0.05941874 &  29304112 & 0.05970973 &  32468826 & 0.06021924 & 10.799555\\\\\n\t  9 & 389141 & 0.06428477 &  37997705 & 0.06334324 &  41470425 & 0.06426986 &  9.139289\\\\\n\t 10 & 614483 & 0.05759763 & 132352346 & 0.08303319 & 136762021 & 0.08227215 &  3.331769\\\\\n\\end{tabular}\n",
      "text/plain": [
       "   decil hogares hogares_cv ingreso_total_sin_cuidados\n",
       "1   1     98576  0.12379155   1264257                 \n",
       "2   2    117070  0.11394414   2533417                 \n",
       "3   3    191325  0.08386196   5445346                 \n",
       "4   4    228513  0.07805405   8052209                 \n",
       "5   5    270422  0.07390807  11397930                 \n",
       "6   6    298592  0.06746130  15106918                 \n",
       "7   7    390083  0.06477733  23586140                 \n",
       "8   8    391825  0.05941874  29304112                 \n",
       "9   9    389141  0.06428477  37997705                 \n",
       "10 10    614483  0.05759763 132352346                 \n",
       "   ingreso_total_sin_cuidados_cv ingreso_total_con_cuidados\n",
       "1  0.13005626                      1651241                 \n",
       "2  0.11355119                      3187545                 \n",
       "3  0.08381824                      6546242                 \n",
       "4  0.07795998                     10279973                 \n",
       "5  0.07433793                     13289587                 \n",
       "6  0.06747361                     17467297                 \n",
       "7  0.06472309                     27384368                 \n",
       "8  0.05970973                     32468826                 \n",
       "9  0.06334324                     41470425                 \n",
       "10 0.08303319                    136762021                 \n",
       "   ingreso_total_con_cuidados_cv variacion_pct\n",
       "1  0.15711173                    30.609617    \n",
       "2  0.12713734                    25.819961    \n",
       "3  0.08841450                    20.217182    \n",
       "4  0.08517980                    27.666498    \n",
       "5  0.07678280                    16.596492    \n",
       "6  0.07061117                    15.624490    \n",
       "7  0.06683649                    16.103646    \n",
       "8  0.06021924                    10.799555    \n",
       "9  0.06426986                     9.139289    \n",
       "10 0.08227215                     3.331769    "
      ]
     },
     "metadata": {},
     "output_type": "display_data"
    }
   ],
   "execution_count": 143
  },
  {
   "metadata": {
    "ExecuteTime": {
     "end_time": "2025-03-03T05:12:15.820106Z",
     "start_time": "2025-03-03T05:12:15.689364Z"
    }
   },
   "cell_type": "code",
   "source": [
    "#Total de hogares\n",
    "print(\"Hogares en la Ciudad de México e ingreso corriente trimestral sin considerar cuidados y considerando estimación de ingresos por cuidados por quintil, 2022\")\n",
    "print(\"Miles de pesos\")\n",
    "dm%>%\n",
    "group_by(quintil)%>%\n",
    "summarise(hogares=survey_total(vartype=\"cv\"),\n",
    "            ingreso_total_sin_cuidados=survey_total(ing_cor,vartype=\"cv\"),\n",
    "            ingreso_total_con_cuidados=survey_total(ing_cor_con_cuidados,vartype=\"cv\"))%>%\n",
    "            #Ingresos en miles de pesos\n",
    "mutate(ingreso_total_sin_cuidados=ingreso_total_sin_cuidados/1000,\n",
    "        ingreso_total_con_cuidados=ingreso_total_con_cuidados/1000)%>%\n",
    "        #Calcular variación porcentual de ingresos\n",
    "mutate(variacion_pct=100*(ingreso_total_con_cuidados-ingreso_total_sin_cuidados)/ingreso_total_sin_cuidados)"
   ],
   "id": "eebc5e288ff75b43",
   "outputs": [
    {
     "name": "stdout",
     "output_type": "stream",
     "text": [
      "[1] \"Hogares en la Ciudad de México e ingreso corriente trimestral sin considerar cuidados y considerando estimación de ingresos por cuidados por quintil, 2022\"\n",
      "[1] \"Miles de pesos\"\n"
     ]
    },
    {
     "data": {
      "text/html": [
       "<table class=\"dataframe\">\n",
       "<caption>A tibble: 5 × 8</caption>\n",
       "<thead>\n",
       "\t<tr><th scope=col>quintil</th><th scope=col>hogares</th><th scope=col>hogares_cv</th><th scope=col>ingreso_total_sin_cuidados</th><th scope=col>ingreso_total_sin_cuidados_cv</th><th scope=col>ingreso_total_con_cuidados</th><th scope=col>ingreso_total_con_cuidados_cv</th><th scope=col>variacion_pct</th></tr>\n",
       "\t<tr><th scope=col>&lt;int&gt;</th><th scope=col>&lt;dbl&gt;</th><th scope=col>&lt;dbl&gt;</th><th scope=col>&lt;dbl&gt;</th><th scope=col>&lt;dbl&gt;</th><th scope=col>&lt;dbl&gt;</th><th scope=col>&lt;dbl&gt;</th><th scope=col>&lt;dbl&gt;</th></tr>\n",
       "</thead>\n",
       "<tbody>\n",
       "\t<tr><td>1</td><td> 215646</td><td>0.08604737</td><td>  3797674</td><td>0.08961659</td><td>  4838785</td><td>0.10000465</td><td>27.414452</td></tr>\n",
       "\t<tr><td>2</td><td> 419838</td><td>0.05829913</td><td> 13497555</td><td>0.05842120</td><td> 16826215</td><td>0.06493582</td><td>24.661205</td></tr>\n",
       "\t<tr><td>3</td><td> 569014</td><td>0.04758926</td><td> 26504848</td><td>0.04772706</td><td> 30756884</td><td>0.04959127</td><td>16.042482</td></tr>\n",
       "\t<tr><td>4</td><td> 781908</td><td>0.04432424</td><td> 52890252</td><td>0.04418917</td><td> 59853194</td><td>0.04489095</td><td>13.164888</td></tr>\n",
       "\t<tr><td>5</td><td>1003624</td><td>0.04028678</td><td>170350050</td><td>0.06458015</td><td>178232445</td><td>0.06341321</td><td> 4.627175</td></tr>\n",
       "</tbody>\n",
       "</table>\n"
      ],
      "text/markdown": "\nA tibble: 5 × 8\n\n| quintil &lt;int&gt; | hogares &lt;dbl&gt; | hogares_cv &lt;dbl&gt; | ingreso_total_sin_cuidados &lt;dbl&gt; | ingreso_total_sin_cuidados_cv &lt;dbl&gt; | ingreso_total_con_cuidados &lt;dbl&gt; | ingreso_total_con_cuidados_cv &lt;dbl&gt; | variacion_pct &lt;dbl&gt; |\n|---|---|---|---|---|---|---|---|\n| 1 |  215646 | 0.08604737 |   3797674 | 0.08961659 |   4838785 | 0.10000465 | 27.414452 |\n| 2 |  419838 | 0.05829913 |  13497555 | 0.05842120 |  16826215 | 0.06493582 | 24.661205 |\n| 3 |  569014 | 0.04758926 |  26504848 | 0.04772706 |  30756884 | 0.04959127 | 16.042482 |\n| 4 |  781908 | 0.04432424 |  52890252 | 0.04418917 |  59853194 | 0.04489095 | 13.164888 |\n| 5 | 1003624 | 0.04028678 | 170350050 | 0.06458015 | 178232445 | 0.06341321 |  4.627175 |\n\n",
      "text/latex": "A tibble: 5 × 8\n\\begin{tabular}{llllllll}\n quintil & hogares & hogares\\_cv & ingreso\\_total\\_sin\\_cuidados & ingreso\\_total\\_sin\\_cuidados\\_cv & ingreso\\_total\\_con\\_cuidados & ingreso\\_total\\_con\\_cuidados\\_cv & variacion\\_pct\\\\\n <int> & <dbl> & <dbl> & <dbl> & <dbl> & <dbl> & <dbl> & <dbl>\\\\\n\\hline\n\t 1 &  215646 & 0.08604737 &   3797674 & 0.08961659 &   4838785 & 0.10000465 & 27.414452\\\\\n\t 2 &  419838 & 0.05829913 &  13497555 & 0.05842120 &  16826215 & 0.06493582 & 24.661205\\\\\n\t 3 &  569014 & 0.04758926 &  26504848 & 0.04772706 &  30756884 & 0.04959127 & 16.042482\\\\\n\t 4 &  781908 & 0.04432424 &  52890252 & 0.04418917 &  59853194 & 0.04489095 & 13.164888\\\\\n\t 5 & 1003624 & 0.04028678 & 170350050 & 0.06458015 & 178232445 & 0.06341321 &  4.627175\\\\\n\\end{tabular}\n",
      "text/plain": [
       "  quintil hogares hogares_cv ingreso_total_sin_cuidados\n",
       "1 1        215646 0.08604737   3797674                 \n",
       "2 2        419838 0.05829913  13497555                 \n",
       "3 3        569014 0.04758926  26504848                 \n",
       "4 4        781908 0.04432424  52890252                 \n",
       "5 5       1003624 0.04028678 170350050                 \n",
       "  ingreso_total_sin_cuidados_cv ingreso_total_con_cuidados\n",
       "1 0.08961659                      4838785                 \n",
       "2 0.05842120                     16826215                 \n",
       "3 0.04772706                     30756884                 \n",
       "4 0.04418917                     59853194                 \n",
       "5 0.06458015                    178232445                 \n",
       "  ingreso_total_con_cuidados_cv variacion_pct\n",
       "1 0.10000465                    27.414452    \n",
       "2 0.06493582                    24.661205    \n",
       "3 0.04959127                    16.042482    \n",
       "4 0.04489095                    13.164888    \n",
       "5 0.06341321                     4.627175    "
      ]
     },
     "metadata": {},
     "output_type": "display_data"
    }
   ],
   "execution_count": 144
  }
 ],
 "metadata": {
  "kernelspec": {
   "name": "ir",
   "language": "R",
   "display_name": "R"
  }
 },
 "nbformat": 4,
 "nbformat_minor": 5
}
