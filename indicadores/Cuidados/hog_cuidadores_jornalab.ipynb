{
 "cells": [
  {
   "cell_type": "code",
   "execution_count": 1,
   "id": "67593150",
   "metadata": {
    "vscode": {
     "languageId": "r"
    }
   },
   "outputs": [
    {
     "name": "stderr",
     "output_type": "stream",
     "text": [
      "Cargando paquete requerido: pacman\n",
      "\n"
     ]
    }
   ],
   "source": [
    "rm(list=ls())\n",
    "\n",
    "# Librerías ====\n",
    "if(!require('pacman')) install.packages('pacman')\n",
    "pacman::p_load(tidyverse, srvyr)"
   ]
  },
  {
   "cell_type": "code",
   "execution_count": 2,
   "id": "1e429b93",
   "metadata": {
    "vscode": {
     "languageId": "r"
    }
   },
   "outputs": [],
   "source": [
    "#Crear directorio para guardar los archivos\n",
    "dir.create(\"data\", showWarnings = FALSE)"
   ]
  },
  {
   "cell_type": "code",
   "execution_count": 3,
   "id": "746c3039",
   "metadata": {
    "vscode": {
     "languageId": "r"
    }
   },
   "outputs": [],
   "source": [
    "url_basica<-\"https://www.inegi.org.mx/contenidos/programas/enigh/nc/\"\n",
    "segunda_parte<-\"microdatos/enigh\"\n",
    "fin1<-\"_ns_\"\n",
    "fin2<-\"_csv.zip\""
   ]
  },
  {
   "cell_type": "code",
   "execution_count": 4,
   "id": "40507314",
   "metadata": {
    "vscode": {
     "languageId": "r"
    }
   },
   "outputs": [],
   "source": [
    "years<-c(\"2022\")"
   ]
  },
  {
   "cell_type": "code",
   "execution_count": 5,
   "id": "dbc454e4",
   "metadata": {
    "vscode": {
     "languageId": "r"
    }
   },
   "outputs": [],
   "source": [
    "# Función genérica para descargar, descomprimir, renombrar y eliminar\n",
    "procesar_archivo <- function(year, tipo, url_base, segunda_parte, fin1, fin2, carpeta_destino) {\n",
    "  # Construir URL y ruta de destino\n",
    "  url <- paste0(url_base, year, \"/\", segunda_parte, year, fin1, tipo, fin2)\n",
    "  destfile <- paste0(carpeta_destino, \"/\", year, fin1, tipo, fin2)\n",
    "\n",
    "  # Descargar el archivo\n",
    "  download.file(url, destfile = destfile)\n",
    "\n",
    "  # Descomprimir el archivo\n",
    "  unzip(destfile, exdir = carpeta_destino)\n",
    "\n",
    "  # Renombrar el archivo descomprimido\n",
    "  file.rename(\n",
    "    from = paste0(carpeta_destino, \"/\", tipo, \".csv\"),\n",
    "    to = paste0(carpeta_destino, \"/\", tipo, \"_\", year, \".csv\")\n",
    "  )\n",
    "\n",
    "  # Eliminar el archivo descargado\n",
    "  file.remove(destfile)\n",
    "}"
   ]
  },
  {
   "cell_type": "code",
   "execution_count": 6,
   "id": "04ae6b54",
   "metadata": {
    "vscode": {
     "languageId": "r"
    }
   },
   "outputs": [],
   "source": [
    "# Iterar sobre los años y procesar cada tipo de archivo\n",
    "\n",
    "for (i in 1:length(years)) {\n",
    "  procesar_archivo(years[i], \"poblacion\", url_basica, segunda_parte, fin1, fin2, \"data\")\n",
    "  procesar_archivo(years[i], \"concentradohogar\", url_basica, segunda_parte, fin1, fin2, \"data\")\n",
    "}"
   ]
  },
  {
   "cell_type": "code",
   "execution_count": null,
   "id": "13d62a51",
   "metadata": {
    "vscode": {
     "languageId": "r"
    }
   },
   "outputs": [
    {
     "name": "stderr",
     "output_type": "stream",
     "text": [
      "Warning message:\n",
      "\"\u001b[1m\u001b[22mOne or more parsing issues, call `problems()` on your data frame for details,\n",
      "e.g.:\n",
      "  dat <- vroom(...)\n",
      "  problems(dat)\"\n"
     ]
    },
    {
     "data": {
      "text/html": [
       "<table class=\"dataframe\">\n",
       "<caption>A tibble: 6 × 10</caption>\n",
       "<thead>\n",
       "\t<tr><th scope=col>folioviv</th><th scope=col>foliohog</th><th scope=col>cuidador</th><th scope=col>tiempo_cuidados</th><th scope=col>hor_4</th><th scope=col>min_4</th><th scope=col>cuidados_semanales_dias</th><th scope=col>factor</th><th scope=col>est_dis</th><th scope=col>upm</th></tr>\n",
       "\t<tr><th scope=col>&lt;chr&gt;</th><th scope=col>&lt;dbl&gt;</th><th scope=col>&lt;dbl&gt;</th><th scope=col>&lt;dbl&gt;</th><th scope=col>&lt;dbl&gt;</th><th scope=col>&lt;dbl&gt;</th><th scope=col>&lt;dbl&gt;</th><th scope=col>&lt;dbl&gt;</th><th scope=col>&lt;chr&gt;</th><th scope=col>&lt;chr&gt;</th></tr>\n",
       "</thead>\n",
       "<tbody>\n",
       "\t<tr><td>0960055618</td><td>1</td><td>NA</td><td>NA</td><td>NA</td><td>NA</td><td>NA</td><td>43</td><td>145</td><td>0003496</td></tr>\n",
       "\t<tr><td>0960055901</td><td>1</td><td>NA</td><td>NA</td><td>NA</td><td>NA</td><td>NA</td><td>43</td><td>145</td><td>0003496</td></tr>\n",
       "\t<tr><td>0960055902</td><td>1</td><td>NA</td><td>NA</td><td>NA</td><td>NA</td><td>NA</td><td>43</td><td>145</td><td>0003496</td></tr>\n",
       "\t<tr><td>0960055903</td><td>1</td><td>NA</td><td>NA</td><td>NA</td><td>NA</td><td>NA</td><td>43</td><td>145</td><td>0003496</td></tr>\n",
       "\t<tr><td>0960055904</td><td>1</td><td>NA</td><td>NA</td><td>NA</td><td>NA</td><td>NA</td><td>43</td><td>145</td><td>0003496</td></tr>\n",
       "\t<tr><td>0960055905</td><td>1</td><td>NA</td><td>NA</td><td>NA</td><td>NA</td><td>NA</td><td>43</td><td>145</td><td>0003496</td></tr>\n",
       "</tbody>\n",
       "</table>\n"
      ],
      "text/latex": [
       "A tibble: 6 × 10\n",
       "\\begin{tabular}{llllllllll}\n",
       " folioviv & foliohog & cuidador & tiempo\\_cuidados & hor\\_4 & min\\_4 & cuidados\\_semanales\\_dias & factor & est\\_dis & upm\\\\\n",
       " <chr> & <dbl> & <dbl> & <dbl> & <dbl> & <dbl> & <dbl> & <dbl> & <chr> & <chr>\\\\\n",
       "\\hline\n",
       "\t 0960055618 & 1 & NA & NA & NA & NA & NA & 43 & 145 & 0003496\\\\\n",
       "\t 0960055901 & 1 & NA & NA & NA & NA & NA & 43 & 145 & 0003496\\\\\n",
       "\t 0960055902 & 1 & NA & NA & NA & NA & NA & 43 & 145 & 0003496\\\\\n",
       "\t 0960055903 & 1 & NA & NA & NA & NA & NA & 43 & 145 & 0003496\\\\\n",
       "\t 0960055904 & 1 & NA & NA & NA & NA & NA & 43 & 145 & 0003496\\\\\n",
       "\t 0960055905 & 1 & NA & NA & NA & NA & NA & 43 & 145 & 0003496\\\\\n",
       "\\end{tabular}\n"
      ],
      "text/markdown": [
       "\n",
       "A tibble: 6 × 10\n",
       "\n",
       "| folioviv &lt;chr&gt; | foliohog &lt;dbl&gt; | cuidador &lt;dbl&gt; | tiempo_cuidados &lt;dbl&gt; | hor_4 &lt;dbl&gt; | min_4 &lt;dbl&gt; | cuidados_semanales_dias &lt;dbl&gt; | factor &lt;dbl&gt; | est_dis &lt;chr&gt; | upm &lt;chr&gt; |\n",
       "|---|---|---|---|---|---|---|---|---|---|\n",
       "| 0960055618 | 1 | NA | NA | NA | NA | NA | 43 | 145 | 0003496 |\n",
       "| 0960055901 | 1 | NA | NA | NA | NA | NA | 43 | 145 | 0003496 |\n",
       "| 0960055902 | 1 | NA | NA | NA | NA | NA | 43 | 145 | 0003496 |\n",
       "| 0960055903 | 1 | NA | NA | NA | NA | NA | 43 | 145 | 0003496 |\n",
       "| 0960055904 | 1 | NA | NA | NA | NA | NA | 43 | 145 | 0003496 |\n",
       "| 0960055905 | 1 | NA | NA | NA | NA | NA | 43 | 145 | 0003496 |\n",
       "\n"
      ],
      "text/plain": [
       "  folioviv   foliohog cuidador tiempo_cuidados hor_4 min_4\n",
       "1 0960055618 1        NA       NA              NA    NA   \n",
       "2 0960055901 1        NA       NA              NA    NA   \n",
       "3 0960055902 1        NA       NA              NA    NA   \n",
       "4 0960055903 1        NA       NA              NA    NA   \n",
       "5 0960055904 1        NA       NA              NA    NA   \n",
       "6 0960055905 1        NA       NA              NA    NA   \n",
       "  cuidados_semanales_dias factor est_dis upm    \n",
       "1 NA                      43     145     0003496\n",
       "2 NA                      43     145     0003496\n",
       "3 NA                      43     145     0003496\n",
       "4 NA                      43     145     0003496\n",
       "5 NA                      43     145     0003496\n",
       "6 NA                      43     145     0003496"
      ]
     },
     "metadata": {},
     "output_type": "display_data"
    }
   ],
   "source": [
    "cuidadores<-read_csv(\"data/poblacion_2022.csv\", show_col_types = FALSE)%>%\n",
    "  janitor::clean_names()%>%\n",
    "  #Se crea clave de entidad\n",
    "  mutate(cve_ent = case_when(\n",
    "    nchar(folioviv) == 9  ~ paste0(\"0\", substr(folioviv, 1, 1)),\n",
    "    nchar(folioviv) == 10 ~ substr(folioviv, 1, 2)\n",
    "  ))%>%\n",
    "  #Filtrar para Ciudad de México\n",
    "  filter(cve_ent == \"09\")%>%\n",
    "\n",
    "  #Transformar tiempos de cuidados a días para poder calcular ingresos\n",
    "  mutate(\n",
    "  #Transformar minutos a horas\n",
    "  horas_cuidados=min_4/60,\n",
    "  tiempo_cuidados=horas_cuidados+hor_4,\n",
    "  #Pasar horas a días considerando que son horas semanales\n",
    "    cuidados_semanales_dias=tiempo_cuidados/24,\n",
    "    #Identificar si la persona es cuidadora\n",
    "cuidador = ifelse(tiempo_cuidados > 0 | !is.na(tiempo_cuidados), 1, 0)\n",
    "    )%>%\n",
    "    #Filtrar cuidadores\n",
    "    \n",
    "    filter(parentesco==101)%>%\n",
    "\n",
    "    #Seleccionar variables de interés\n",
    "    select(folioviv,foliohog,cuidador,tiempo_cuidados,hor_4,min_4,cuidados_semanales_dias,factor,est_dis,upm)\n"
   ]
  },
  {
   "cell_type": "code",
   "execution_count": null,
   "id": "db6102c1",
   "metadata": {
    "vscode": {
     "languageId": "r"
    }
   },
   "outputs": [],
   "source": [
    "#Diseño muestral\n",
    "dm<-cuidadores%>%\n",
    "as_survey_design(ids = upm,\n",
    "                     strata = est_dis,\n",
    "                     weights = factor)"
   ]
  },
  {
   "cell_type": "code",
   "execution_count": null,
   "id": "c9b166ef",
   "metadata": {
    "vscode": {
     "languageId": "r"
    }
   },
   "outputs": [
    {
     "data": {
      "text/html": [
       "<table class=\"dataframe\">\n",
       "<caption>A tibble: 1 × 2</caption>\n",
       "<thead>\n",
       "\t<tr><th scope=col>total_hogares</th><th scope=col>total_hogares_cv</th></tr>\n",
       "\t<tr><th scope=col>&lt;dbl&gt;</th><th scope=col>&lt;dbl&gt;</th></tr>\n",
       "</thead>\n",
       "<tbody>\n",
       "\t<tr><td>2990030</td><td>0.01388237</td></tr>\n",
       "</tbody>\n",
       "</table>\n"
      ],
      "text/latex": [
       "A tibble: 1 × 2\n",
       "\\begin{tabular}{ll}\n",
       " total\\_hogares & total\\_hogares\\_cv\\\\\n",
       " <dbl> & <dbl>\\\\\n",
       "\\hline\n",
       "\t 2990030 & 0.01388237\\\\\n",
       "\\end{tabular}\n"
      ],
      "text/markdown": [
       "\n",
       "A tibble: 1 × 2\n",
       "\n",
       "| total_hogares &lt;dbl&gt; | total_hogares_cv &lt;dbl&gt; |\n",
       "|---|---|\n",
       "| 2990030 | 0.01388237 |\n",
       "\n"
      ],
      "text/plain": [
       "  total_hogares total_hogares_cv\n",
       "1 2990030       0.01388237      "
      ]
     },
     "metadata": {},
     "output_type": "display_data"
    }
   ],
   "source": [
    "#Total hogares en la Ciudad de México\n",
    "dm%>%\n",
    "    summarise(total_hogares = survey_total(vartype = \"cv\"))"
   ]
  },
  {
   "cell_type": "code",
   "execution_count": null,
   "id": "80ccc81a",
   "metadata": {
    "vscode": {
     "languageId": "r"
    }
   },
   "outputs": [
    {
     "data": {
      "text/html": [
       "<table class=\"dataframe\">\n",
       "<caption>A tabyl: 3 × 5</caption>\n",
       "<thead>\n",
       "\t<tr><th scope=col>cuidado_jornadalab</th><th scope=col>cuidadores</th><th scope=col>cuidadores_cv</th><th scope=col>cuidadores_prop</th><th scope=col>cuidadores_prop_cv</th></tr>\n",
       "\t<tr><th scope=col>&lt;chr&gt;</th><th scope=col>&lt;dbl&gt;</th><th scope=col>&lt;dbl&gt;</th><th scope=col>&lt;dbl&gt;</th><th scope=col>&lt;dbl&gt;</th></tr>\n",
       "</thead>\n",
       "<tbody>\n",
       "\t<tr><td>0    </td><td>460118</td><td>0.06130674</td><td>0.8944038</td><td>0.01966505</td></tr>\n",
       "\t<tr><td>1    </td><td> 54323</td><td>0.17752347</td><td>0.1055962</td><td>0.16656375</td></tr>\n",
       "\t<tr><td>Total</td><td>514441</td><td>0.23883021</td><td>1.0000000</td><td>0.18622880</td></tr>\n",
       "</tbody>\n",
       "</table>\n"
      ],
      "text/latex": [
       "A tabyl: 3 × 5\n",
       "\\begin{tabular}{lllll}\n",
       " cuidado\\_jornadalab & cuidadores & cuidadores\\_cv & cuidadores\\_prop & cuidadores\\_prop\\_cv\\\\\n",
       " <chr> & <dbl> & <dbl> & <dbl> & <dbl>\\\\\n",
       "\\hline\n",
       "\t 0     & 460118 & 0.06130674 & 0.8944038 & 0.01966505\\\\\n",
       "\t 1     &  54323 & 0.17752347 & 0.1055962 & 0.16656375\\\\\n",
       "\t Total & 514441 & 0.23883021 & 1.0000000 & 0.18622880\\\\\n",
       "\\end{tabular}\n"
      ],
      "text/markdown": [
       "\n",
       "A tabyl: 3 × 5\n",
       "\n",
       "| cuidado_jornadalab &lt;chr&gt; | cuidadores &lt;dbl&gt; | cuidadores_cv &lt;dbl&gt; | cuidadores_prop &lt;dbl&gt; | cuidadores_prop_cv &lt;dbl&gt; |\n",
       "|---|---|---|---|---|\n",
       "| 0     | 460118 | 0.06130674 | 0.8944038 | 0.01966505 |\n",
       "| 1     |  54323 | 0.17752347 | 0.1055962 | 0.16656375 |\n",
       "| Total | 514441 | 0.23883021 | 1.0000000 | 0.18622880 |\n",
       "\n"
      ],
      "text/plain": [
       "  cuidado_jornadalab cuidadores cuidadores_cv cuidadores_prop\n",
       "1 0                  460118     0.06130674    0.8944038      \n",
       "2 1                   54323     0.17752347    0.1055962      \n",
       "3 Total              514441     0.23883021    1.0000000      \n",
       "  cuidadores_prop_cv\n",
       "1 0.01966505        \n",
       "2 0.16656375        \n",
       "3 0.18622880        "
      ]
     },
     "metadata": {},
     "output_type": "display_data"
    },
    {
     "ename": "",
     "evalue": "",
     "output_type": "error",
     "traceback": [
      "\u001b[1;31mThe Kernel crashed while executing code in the current cell or a previous cell. \n",
      "\u001b[1;31mPlease review the code in the cell(s) to identify a possible cause of the failure. \n",
      "\u001b[1;31mClick <a href='https://aka.ms/vscodeJupyterKernelCrash'>here</a> for more info. \n",
      "\u001b[1;31mView Jupyter <a href='command:jupyter.viewOutput'>log</a> for further details."
     ]
    }
   ],
   "source": [
    "#Hogares cuidadores por semejanza a la jornada laboral\n",
    "dm%>%\n",
    "filter(cuidador==1)%>%\n",
    "    mutate(cuidado_jornadalab=case_when(\n",
    "    tiempo_cuidados>=6*8 ~ 1,\n",
    "    TRUE ~ 0\n",
    "    ))%>%\n",
    "  group_by(cuidado_jornadalab)%>%\n",
    "  summarise(cuidadores=survey_total(vartype = \"cv\"),\n",
    "            cuidadores_prop=survey_mean(vartype = \"cv\"))%>%\n",
    "            janitor::adorn_totals()"
   ]
  }
 ],
 "metadata": {
  "kernelspec": {
   "display_name": "R",
   "language": "R",
   "name": "ir"
  },
  "language_info": {
   "codemirror_mode": "r",
   "file_extension": ".r",
   "mimetype": "text/x-r-source",
   "name": "R",
   "pygments_lexer": "r",
   "version": "4.4.1"
  }
 },
 "nbformat": 4,
 "nbformat_minor": 5
}
