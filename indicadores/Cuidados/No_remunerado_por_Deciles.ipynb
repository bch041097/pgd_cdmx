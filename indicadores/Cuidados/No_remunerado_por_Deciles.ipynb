{
 "cells": [
  {
   "cell_type": "markdown",
   "id": "f180520b",
   "metadata": {},
   "source": [
    "PORCENTAJE DE HOGARES POR DECILES MÁS BAJOS QUE REALIZARON LABORES DE CUIDADO SIN RECIBIR REMUNERACIÓN "
   ]
  },
  {
   "cell_type": "code",
   "execution_count": null,
   "id": "2279d65f",
   "metadata": {
    "vscode": {
     "languageId": "r"
    }
   },
   "outputs": [],
   "source": [
    "rm(list=ls())\n",
    "if(!require('pacman')) install.packages('pacman')\n",
    "pacman::p_load(tidyverse, srvyr, readr, stringr, dplyr, survey)\n",
    "#tiempo de espera\n",
    "options(timeout = 300) "
   ]
  },
  {
   "cell_type": "code",
   "execution_count": null,
   "id": "8a5858ca",
   "metadata": {
    "vscode": {
     "languageId": "r"
    }
   },
   "outputs": [],
   "source": [
    "#Descarga de archivos\n",
    "url<-\"https://www.inegi.org.mx/contenidos/programas/enigh/nc/2022/microdatos/enigh2022_ns_poblacion_csv.zip\"\n",
    "##Creación de directorio temporal\n",
    "td<- tempdir()\n",
    "# Descarga del archivo temporal\n",
    "tf = tempfile(tmpdir=td, fileext=\".zip\")\n",
    "download.file(url, tf)\n",
    "unzip(tf, files=\"poblacion.csv\", exdir=td, \n",
    "      overwrite=TRUE)\n",
    "fpath=file.path(td,\"poblacion.csv\")\n",
    "unlink(td)"
   ]
  },
  {
   "cell_type": "code",
   "execution_count": null,
   "id": "8211fd2a",
   "metadata": {
    "vscode": {
     "languageId": "r"
    }
   },
   "outputs": [],
   "source": [
    "##Se carga tabla población para identificar aquellas personas dedicadas a cuidados\n",
    "pob <- read_csv(fpath, show_col_types = FALSE) |>\n",
    "  select(folioviv, foliohog, hor_4, min_4, entidad, numren, parentesco, sexo) |>\n",
    "  filter(entidad == \"09\") |>\n",
    "  mutate(tiempo_cuidados = hor_4 * 60 + min_4) |>\n",
    "  mutate(cuidados = case_when(\n",
    "    #tiempo_cuidados >= 1680 ~ 1,\n",
    "    tiempo_cuidados>=(8*6*60) ~ 1,\n",
    "    TRUE ~ 0\n",
    "  )) |>\n",
    "  filter(parentesco == 101)"
   ]
  },
  {
   "cell_type": "code",
   "execution_count": null,
   "id": "578edc57",
   "metadata": {
    "vscode": {
     "languageId": "r"
    }
   },
   "outputs": [],
   "source": [
    "# URL del archivo ZIP para la tabla concentradohogar.csv\n",
    "url2 <- \"https://www.inegi.org.mx/contenidos/programas/enigh/nc/2022/microdatos/enigh2022_ns_concentradohogar_csv.zip\""
   ]
  },
  {
   "cell_type": "code",
   "execution_count": null,
   "id": "4ab39507",
   "metadata": {
    "vscode": {
     "languageId": "r"
    }
   },
   "outputs": [],
   "source": [
    "# Creación de directorio temporal\n",
    "td2 <- tempdir()\n",
    "# Descarga del archivo temporal\n",
    "tf2 <- tempfile(tmpdir=td2, fileext=\".zip\")\n",
    "download.file(url2, tf2)\n",
    "unzip(tf2, files=\"concentradohogar.csv\", exdir=td2, \n",
    "      overwrite=TRUE)\n",
    "fpath2 <- file.path(td2, \"concentradohogar.csv\")\n",
    "unlink(td2)\n",
    "# Lectura del archivo CSV\n",
    "concentrado <- read_csv(fpath2, show_col_types = FALSE) |>\n",
    "  mutate(entidad = substr(folioviv,1,2)) |>\n",
    "  filter(entidad == \"09\") |> # Filtramos Ciudad de México\n",
    "  select(folioviv, foliohog, sexo_jefe, ing_cor, upm, est_dis, factor, est_socio) |>\n",
    "  left_join(pob, by = c(\"folioviv\", \"foliohog\")) |> # Se juntaron las bases \n",
    "  mutate(ing_mensual = ing_cor / 3,\n",
    "         decil=ntile(ing_mensual,10))\n",
    "    "
   ]
  },
  {
   "cell_type": "code",
   "execution_count": null,
   "id": "b2ec5c56",
   "metadata": {
    "vscode": {
     "languageId": "r"
    }
   },
   "outputs": [],
   "source": [
    "##Diseño muestral\n",
    "dm <- concentrado %>%\n",
    "  as_survey_design(\n",
    "    ids = upm,\n",
    "    strata = est_dis,\n",
    "    weights = factor,\n",
    "    nest = TRUE)  "
   ]
  },
  {
   "cell_type": "code",
   "execution_count": null,
   "id": "e6cbc9a3",
   "metadata": {
    "vscode": {
     "languageId": "r"
    }
   },
   "outputs": [],
   "source": [
    "dm%>%\n",
    "  group_by(est_socio)%>%\n",
    "  summarise(#ingresop=survey_mean(ing_mensual,vartype=\"cv\"),\n",
    "            tothog=survey_total(vartype = \"cv\"),\n",
    "            hogcuid=survey_total(cuidados,vartype=\"cv\")\n",
    "             )%>% \n",
    "             mutate(indica=hogcuid/tothog*100)%>%\n",
    "  janitor::adorn_totals()\n"
   ]
  },
  {
   "cell_type": "code",
   "execution_count": null,
   "id": "471d2e73",
   "metadata": {
    "vscode": {
     "languageId": "r"
    }
   },
   "outputs": [],
   "source": [
    "concentrado <- read_csv(fpath2, show_col_types = FALSE) |>\n",
    "  mutate(entidad = substr(folioviv,1,2)) |>\n",
    "  filter(entidad == \"09\") |> # Filtramos Ciudad de México\n",
    "  select(folioviv, foliohog, sexo_jefe, ing_cor, upm, est_dis, factor, est_socio)\n"
   ]
  },
  {
   "cell_type": "code",
   "execution_count": null,
   "id": "e8697236",
   "metadata": {
    "vscode": {
     "languageId": "r"
    }
   },
   "outputs": [],
   "source": [
    "pob <- read_csv(fpath, show_col_types = FALSE) |>\n",
    "  select(folioviv, foliohog, hor_4, min_4, entidad, numren, parentesco, sexo) |>\n",
    "  filter(entidad == \"09\") |>\n",
    "  mutate(tiempo_cuidados = hor_4 * 60 + min_4) |>\n",
    "  mutate(cuidadora = case_when(\n",
    "   # tiempo_cuidados >= 1680 ~ 1,\n",
    "    tiempo_cuidados>=(8*6*60) ~ 1,\n",
    "    \n",
    "    TRUE ~ 0\n",
    "  ))%>%\n",
    "  left_join(concentrado, by = c(\"folioviv\", \"foliohog\"))\n"
   ]
  },
  {
   "cell_type": "code",
   "execution_count": null,
   "id": "3a8388e6",
   "metadata": {
    "vscode": {
     "languageId": "r"
    }
   },
   "outputs": [],
   "source": [
    "dm <- pob %>%\n",
    "  as_survey_design(\n",
    "    ids = upm,\n",
    "    strata = est_dis,\n",
    "    weights = factor,\n",
    "    nest = TRUE) "
   ]
  },
  {
   "cell_type": "code",
   "execution_count": null,
   "id": "4ff108e0",
   "metadata": {
    "vscode": {
     "languageId": "r"
    }
   },
   "outputs": [],
   "source": [
    "dm%>%\n",
    "#  group_by(est_socio)%>%\n",
    "  summarise(pobtot=survey_total(vartype = \"cv\"),\n",
    "    personas_cuidadoras=survey_total(cuidadora,vartype=\"cv\"),)"
   ]
  }
 ],
 "metadata": {
  "kernelspec": {
   "display_name": "R",
   "language": "R",
   "name": "ir"
  },
  "language_info": {
   "name": "R"
  }
 },
 "nbformat": 4,
 "nbformat_minor": 5
}
