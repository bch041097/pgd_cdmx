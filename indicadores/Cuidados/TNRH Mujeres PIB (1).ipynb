{
 "cells": [
  {
   "cell_type": "markdown",
   "id": "a495d138",
   "metadata": {},
   "source": [
    "PARTICIPACIÓN PORCENTUAL DEL TRABAJO NO REMUNERADO RESPECTO DEL PIB, MUJERES"
   ]
  },
  {
   "cell_type": "code",
   "execution_count": 2,
   "id": "72748e62",
   "metadata": {
    "vscode": {
     "languageId": "r"
    }
   },
   "outputs": [
    {
     "name": "stderr",
     "output_type": "stream",
     "text": [
      "Cargando paquete requerido: pacman\n",
      "\n",
      "Warning message:\n",
      "\"package 'pacman' was built under R version 4.4.2\"\n"
     ]
    }
   ],
   "source": [
    "rm(list=ls())\n",
    "if(!require('pacman')) install.packages('pacman')\n",
    "pacman::p_load(tidyverse, srvyr, readr, stringr, utils)"
   ]
  },
  {
   "cell_type": "markdown",
   "id": "dd15016e",
   "metadata": {},
   "source": [
    "Descargamos los datos"
   ]
  },
  {
   "cell_type": "code",
   "execution_count": 3,
   "id": "0acd7ce3",
   "metadata": {
    "vscode": {
     "languageId": "r"
    }
   },
   "outputs": [
    {
     "data": {
      "text/html": [
       "'C:\\\\Users\\\\ipdp_\\\\AppData\\\\Local\\\\Temp\\\\Rtmp8GaWea/conjunto_de_datos/conjunto_de_datos_tnrh_entbcr_r2023_p.csv'"
      ],
      "text/latex": [
       "'C:\\textbackslash{}\\textbackslash{}Users\\textbackslash{}\\textbackslash{}ipdp\\_\\textbackslash{}\\textbackslash{}AppData\\textbackslash{}\\textbackslash{}Local\\textbackslash{}\\textbackslash{}Temp\\textbackslash{}\\textbackslash{}Rtmp8GaWea/conjunto\\_de\\_datos/conjunto\\_de\\_datos\\_tnrh\\_entbcr\\_r2023\\_p.csv'"
      ],
      "text/markdown": [
       "'C:\\\\Users\\\\ipdp_\\\\AppData\\\\Local\\\\Temp\\\\Rtmp8GaWea/conjunto_de_datos/conjunto_de_datos_tnrh_entbcr_r2023_p.csv'"
      ],
      "text/plain": [
       "[1] \"C:\\\\Users\\\\ipdp_\\\\AppData\\\\Local\\\\Temp\\\\Rtmp8GaWea/conjunto_de_datos/conjunto_de_datos_tnrh_entbcr_r2023_p.csv\""
      ]
     },
     "metadata": {},
     "output_type": "display_data"
    }
   ],
   "source": [
    "# URL del archivo ZIP\n",
    "url <- \"https://www.inegi.org.mx/contenidos/programas/tnrh/2018/datosabiertos/tnrh_anual_csv.zip\"\n",
    "# Crear una ruta temporal para el archivo ZIP\n",
    "temp_zip <- tempfile(fileext = \".zip\")\n",
    "# Descargar el archivo ZIP\n",
    "download.file(url, temp_zip, mode = \"wb\")\n",
    "# Crear un directorio temporal para descomprimir\n",
    "temp_dir <- tempdir()\n",
    "unzip(temp_zip, exdir = temp_dir)\n",
    "#data_dir <- file.path(temp_dir, \"tnrh_anual_csv\", \"conjunto_de_datos\")\n",
    "archivo_objetivo <- list.files(temp_dir,\n",
    "                               pattern = \"conjunto_de_datos_tnrh_entbcr_r2023_p\\\\.csv$\",\n",
    "                               recursive = TRUE,\n",
    "                               full.names = TRUE)\n",
    "archivo_objetivo"
   ]
  },
  {
   "cell_type": "code",
   "execution_count": 4,
   "id": "723d857a",
   "metadata": {
    "vscode": {
     "languageId": "r"
    }
   },
   "outputs": [
    {
     "data": {
      "text/html": [
       "<table class=\"dataframe\">\n",
       "<caption>A data.frame: 5 × 36</caption>\n",
       "<thead>\n",
       "\t<tr><th></th><th scope=col>Descriptores</th><th scope=col>X2019.Valor.económico</th><th scope=col>X2019.Producto.interno.bruto.a.precios.de.mercado.C1.</th><th scope=col>X2019.Participación.porcentual.respecto.del.PIB</th><th scope=col>X2019.Mujeres.Valor.económico</th><th scope=col>X2019.Mujeres.Participación.porcentual.respecto.del.PIB</th><th scope=col>X2019.Hombres.Valor.económico</th><th scope=col>X2019.Hombres.Participación.porcentual.respecto.del.PIB</th><th scope=col>X2020.Valor.económico</th><th scope=col>X2020.Producto.interno.bruto.a.precios.de.mercado.C1.</th><th scope=col>⋯</th><th scope=col>X2022.Mujeres.Participación.porcentual.respecto.del.PIB.P.</th><th scope=col>X2022.Hombres.Valor.económico.P.</th><th scope=col>X2022.Hombres.Participación.porcentual.respecto.del.PIB.P.</th><th scope=col>X2023.Valor.económico.P.</th><th scope=col>X2023.Producto.interno.bruto.a.precios.de.mercado.C2.P.</th><th scope=col>X2023.Participación.porcentual.respecto.del.PIB.P.</th><th scope=col>X2023.Mujeres.Valor.económico.P.</th><th scope=col>X2023.Mujeres.Participación.porcentual.respecto.del.PIB.P.</th><th scope=col>X2023.Hombres.Valor.económico.P.</th><th scope=col>X2023.Hombres.Participación.porcentual.respecto.del.PIB.P.</th></tr>\n",
       "\t<tr><th></th><th scope=col>&lt;chr&gt;</th><th scope=col>&lt;dbl&gt;</th><th scope=col>&lt;dbl&gt;</th><th scope=col>&lt;dbl&gt;</th><th scope=col>&lt;dbl&gt;</th><th scope=col>&lt;dbl&gt;</th><th scope=col>&lt;dbl&gt;</th><th scope=col>&lt;dbl&gt;</th><th scope=col>&lt;dbl&gt;</th><th scope=col>&lt;dbl&gt;</th><th scope=col>⋯</th><th scope=col>&lt;dbl&gt;</th><th scope=col>&lt;dbl&gt;</th><th scope=col>&lt;dbl&gt;</th><th scope=col>&lt;dbl&gt;</th><th scope=col>&lt;dbl&gt;</th><th scope=col>&lt;dbl&gt;</th><th scope=col>&lt;dbl&gt;</th><th scope=col>&lt;dbl&gt;</th><th scope=col>&lt;dbl&gt;</th><th scope=col>&lt;dbl&gt;</th></tr>\n",
       "</thead>\n",
       "<tbody>\n",
       "\t<tr><th scope=row>1</th><td>Millones de pesos|Estados Unidos Mexicanos</td><td>5448724.80</td><td>25121823.3</td><td>21.689209</td><td>4021850.75</td><td>16.009390</td><td>1426874.04</td><td>5.679819</td><td>6290175.28</td><td>24086758.1</td><td>⋯</td><td>18.158607</td><td>2069368.09</td><td>7.010992</td><td>8376438.68</td><td>31855566.3</td><td>26.29506</td><td>5990643.14</td><td>18.805640</td><td>2385795.54</td><td>7.489415</td></tr>\n",
       "\t<tr><th scope=row>2</th><td>Millones de pesos|Aguascalientes          </td><td>  60403.23</td><td>  342708.6</td><td>17.625245</td><td>  45378.31</td><td>13.241076</td><td>  15024.92</td><td>4.384169</td><td>  70060.86</td><td>  348317.3</td><td>⋯</td><td>15.778991</td><td>  21754.02</td><td>5.671762</td><td>  92530.96</td><td>  421929.9</td><td>21.93041</td><td>  67533.11</td><td>16.005763</td><td>  24997.85</td><td>5.924644</td></tr>\n",
       "\t<tr><th scope=row>3</th><td>Millones de pesos|Baja California         </td><td> 171602.45</td><td>  935625.0</td><td>18.340943</td><td> 121009.16</td><td>12.933510</td><td>  50593.29</td><td>5.407432</td><td> 199058.01</td><td>  922189.8</td><td>⋯</td><td>14.058556</td><td>  74470.61</td><td>6.495393</td><td> 265331.45</td><td> 1242752.3</td><td>21.35031</td><td> 180036.20</td><td>14.486893</td><td>  85295.25</td><td>6.863415</td></tr>\n",
       "\t<tr><th scope=row>4</th><td>Millones de pesos|Baja California Sur     </td><td>  41164.88</td><td>  185063.3</td><td>22.243672</td><td>  29320.47</td><td>15.843481</td><td>  11844.41</td><td>6.400191</td><td>  47719.45</td><td>  163843.5</td><td>⋯</td><td>17.873560</td><td>  17296.51</td><td>7.882823</td><td>  63812.50</td><td>  234924.2</td><td>27.16302</td><td>  43969.85</td><td>18.716614</td><td>  19842.65</td><td>8.446407</td></tr>\n",
       "\t<tr><th scope=row>5</th><td>Millones de pesos|Campeche                </td><td>  39942.70</td><td>  637425.8</td><td> 6.266251</td><td>  27549.39</td><td> 4.321976</td><td>  12393.31</td><td>1.944275</td><td>  46397.20</td><td>  460883.8</td><td>⋯</td><td> 7.512562</td><td>  17833.16</td><td>3.645447</td><td>  61417.06</td><td>  545434.5</td><td>11.26021</td><td>  40999.62</td><td> 7.516874</td><td>  20417.44</td><td>3.743336</td></tr>\n",
       "</tbody>\n",
       "</table>\n"
      ],
      "text/latex": [
       "A data.frame: 5 × 36\n",
       "\\begin{tabular}{r|lllllllllllllllllllll}\n",
       "  & Descriptores & X2019.Valor.económico & X2019.Producto.interno.bruto.a.precios.de.mercado.C1. & X2019.Participación.porcentual.respecto.del.PIB & X2019.Mujeres.Valor.económico & X2019.Mujeres.Participación.porcentual.respecto.del.PIB & X2019.Hombres.Valor.económico & X2019.Hombres.Participación.porcentual.respecto.del.PIB & X2020.Valor.económico & X2020.Producto.interno.bruto.a.precios.de.mercado.C1. & ⋯ & X2022.Mujeres.Participación.porcentual.respecto.del.PIB.P. & X2022.Hombres.Valor.económico.P. & X2022.Hombres.Participación.porcentual.respecto.del.PIB.P. & X2023.Valor.económico.P. & X2023.Producto.interno.bruto.a.precios.de.mercado.C2.P. & X2023.Participación.porcentual.respecto.del.PIB.P. & X2023.Mujeres.Valor.económico.P. & X2023.Mujeres.Participación.porcentual.respecto.del.PIB.P. & X2023.Hombres.Valor.económico.P. & X2023.Hombres.Participación.porcentual.respecto.del.PIB.P.\\\\\n",
       "  & <chr> & <dbl> & <dbl> & <dbl> & <dbl> & <dbl> & <dbl> & <dbl> & <dbl> & <dbl> & ⋯ & <dbl> & <dbl> & <dbl> & <dbl> & <dbl> & <dbl> & <dbl> & <dbl> & <dbl> & <dbl>\\\\\n",
       "\\hline\n",
       "\t1 & Millones de pesos\\textbar{}Estados Unidos Mexicanos & 5448724.80 & 25121823.3 & 21.689209 & 4021850.75 & 16.009390 & 1426874.04 & 5.679819 & 6290175.28 & 24086758.1 & ⋯ & 18.158607 & 2069368.09 & 7.010992 & 8376438.68 & 31855566.3 & 26.29506 & 5990643.14 & 18.805640 & 2385795.54 & 7.489415\\\\\n",
       "\t2 & Millones de pesos\\textbar{}Aguascalientes           &   60403.23 &   342708.6 & 17.625245 &   45378.31 & 13.241076 &   15024.92 & 4.384169 &   70060.86 &   348317.3 & ⋯ & 15.778991 &   21754.02 & 5.671762 &   92530.96 &   421929.9 & 21.93041 &   67533.11 & 16.005763 &   24997.85 & 5.924644\\\\\n",
       "\t3 & Millones de pesos\\textbar{}Baja California          &  171602.45 &   935625.0 & 18.340943 &  121009.16 & 12.933510 &   50593.29 & 5.407432 &  199058.01 &   922189.8 & ⋯ & 14.058556 &   74470.61 & 6.495393 &  265331.45 &  1242752.3 & 21.35031 &  180036.20 & 14.486893 &   85295.25 & 6.863415\\\\\n",
       "\t4 & Millones de pesos\\textbar{}Baja California Sur      &   41164.88 &   185063.3 & 22.243672 &   29320.47 & 15.843481 &   11844.41 & 6.400191 &   47719.45 &   163843.5 & ⋯ & 17.873560 &   17296.51 & 7.882823 &   63812.50 &   234924.2 & 27.16302 &   43969.85 & 18.716614 &   19842.65 & 8.446407\\\\\n",
       "\t5 & Millones de pesos\\textbar{}Campeche                 &   39942.70 &   637425.8 &  6.266251 &   27549.39 &  4.321976 &   12393.31 & 1.944275 &   46397.20 &   460883.8 & ⋯ &  7.512562 &   17833.16 & 3.645447 &   61417.06 &   545434.5 & 11.26021 &   40999.62 &  7.516874 &   20417.44 & 3.743336\\\\\n",
       "\\end{tabular}\n"
      ],
      "text/markdown": [
       "\n",
       "A data.frame: 5 × 36\n",
       "\n",
       "| <!--/--> | Descriptores &lt;chr&gt; | X2019.Valor.económico &lt;dbl&gt; | X2019.Producto.interno.bruto.a.precios.de.mercado.C1. &lt;dbl&gt; | X2019.Participación.porcentual.respecto.del.PIB &lt;dbl&gt; | X2019.Mujeres.Valor.económico &lt;dbl&gt; | X2019.Mujeres.Participación.porcentual.respecto.del.PIB &lt;dbl&gt; | X2019.Hombres.Valor.económico &lt;dbl&gt; | X2019.Hombres.Participación.porcentual.respecto.del.PIB &lt;dbl&gt; | X2020.Valor.económico &lt;dbl&gt; | X2020.Producto.interno.bruto.a.precios.de.mercado.C1. &lt;dbl&gt; | ⋯ ⋯ | X2022.Mujeres.Participación.porcentual.respecto.del.PIB.P. &lt;dbl&gt; | X2022.Hombres.Valor.económico.P. &lt;dbl&gt; | X2022.Hombres.Participación.porcentual.respecto.del.PIB.P. &lt;dbl&gt; | X2023.Valor.económico.P. &lt;dbl&gt; | X2023.Producto.interno.bruto.a.precios.de.mercado.C2.P. &lt;dbl&gt; | X2023.Participación.porcentual.respecto.del.PIB.P. &lt;dbl&gt; | X2023.Mujeres.Valor.económico.P. &lt;dbl&gt; | X2023.Mujeres.Participación.porcentual.respecto.del.PIB.P. &lt;dbl&gt; | X2023.Hombres.Valor.económico.P. &lt;dbl&gt; | X2023.Hombres.Participación.porcentual.respecto.del.PIB.P. &lt;dbl&gt; |\n",
       "|---|---|---|---|---|---|---|---|---|---|---|---|---|---|---|---|---|---|---|---|---|---|\n",
       "| 1 | Millones de pesos|Estados Unidos Mexicanos | 5448724.80 | 25121823.3 | 21.689209 | 4021850.75 | 16.009390 | 1426874.04 | 5.679819 | 6290175.28 | 24086758.1 | ⋯ | 18.158607 | 2069368.09 | 7.010992 | 8376438.68 | 31855566.3 | 26.29506 | 5990643.14 | 18.805640 | 2385795.54 | 7.489415 |\n",
       "| 2 | Millones de pesos|Aguascalientes           |   60403.23 |   342708.6 | 17.625245 |   45378.31 | 13.241076 |   15024.92 | 4.384169 |   70060.86 |   348317.3 | ⋯ | 15.778991 |   21754.02 | 5.671762 |   92530.96 |   421929.9 | 21.93041 |   67533.11 | 16.005763 |   24997.85 | 5.924644 |\n",
       "| 3 | Millones de pesos|Baja California          |  171602.45 |   935625.0 | 18.340943 |  121009.16 | 12.933510 |   50593.29 | 5.407432 |  199058.01 |   922189.8 | ⋯ | 14.058556 |   74470.61 | 6.495393 |  265331.45 |  1242752.3 | 21.35031 |  180036.20 | 14.486893 |   85295.25 | 6.863415 |\n",
       "| 4 | Millones de pesos|Baja California Sur      |   41164.88 |   185063.3 | 22.243672 |   29320.47 | 15.843481 |   11844.41 | 6.400191 |   47719.45 |   163843.5 | ⋯ | 17.873560 |   17296.51 | 7.882823 |   63812.50 |   234924.2 | 27.16302 |   43969.85 | 18.716614 |   19842.65 | 8.446407 |\n",
       "| 5 | Millones de pesos|Campeche                 |   39942.70 |   637425.8 |  6.266251 |   27549.39 |  4.321976 |   12393.31 | 1.944275 |   46397.20 |   460883.8 | ⋯ |  7.512562 |   17833.16 | 3.645447 |   61417.06 |   545434.5 | 11.26021 |   40999.62 |  7.516874 |   20417.44 | 3.743336 |\n",
       "\n"
      ],
      "text/plain": [
       "  Descriptores                               X2019.Valor.económico\n",
       "1 Millones de pesos|Estados Unidos Mexicanos 5448724.80           \n",
       "2 Millones de pesos|Aguascalientes             60403.23           \n",
       "3 Millones de pesos|Baja California           171602.45           \n",
       "4 Millones de pesos|Baja California Sur        41164.88           \n",
       "5 Millones de pesos|Campeche                   39942.70           \n",
       "  X2019.Producto.interno.bruto.a.precios.de.mercado.C1.\n",
       "1 25121823.3                                           \n",
       "2   342708.6                                           \n",
       "3   935625.0                                           \n",
       "4   185063.3                                           \n",
       "5   637425.8                                           \n",
       "  X2019.Participación.porcentual.respecto.del.PIB X2019.Mujeres.Valor.económico\n",
       "1 21.689209                                       4021850.75                   \n",
       "2 17.625245                                         45378.31                   \n",
       "3 18.340943                                        121009.16                   \n",
       "4 22.243672                                         29320.47                   \n",
       "5  6.266251                                         27549.39                   \n",
       "  X2019.Mujeres.Participación.porcentual.respecto.del.PIB\n",
       "1 16.009390                                              \n",
       "2 13.241076                                              \n",
       "3 12.933510                                              \n",
       "4 15.843481                                              \n",
       "5  4.321976                                              \n",
       "  X2019.Hombres.Valor.económico\n",
       "1 1426874.04                   \n",
       "2   15024.92                   \n",
       "3   50593.29                   \n",
       "4   11844.41                   \n",
       "5   12393.31                   \n",
       "  X2019.Hombres.Participación.porcentual.respecto.del.PIB X2020.Valor.económico\n",
       "1 5.679819                                                6290175.28           \n",
       "2 4.384169                                                  70060.86           \n",
       "3 5.407432                                                 199058.01           \n",
       "4 6.400191                                                  47719.45           \n",
       "5 1.944275                                                  46397.20           \n",
       "  X2020.Producto.interno.bruto.a.precios.de.mercado.C1. ⋯\n",
       "1 24086758.1                                            ⋯\n",
       "2   348317.3                                            ⋯\n",
       "3   922189.8                                            ⋯\n",
       "4   163843.5                                            ⋯\n",
       "5   460883.8                                            ⋯\n",
       "  X2022.Mujeres.Participación.porcentual.respecto.del.PIB.P.\n",
       "1 18.158607                                                 \n",
       "2 15.778991                                                 \n",
       "3 14.058556                                                 \n",
       "4 17.873560                                                 \n",
       "5  7.512562                                                 \n",
       "  X2022.Hombres.Valor.económico.P.\n",
       "1 2069368.09                      \n",
       "2   21754.02                      \n",
       "3   74470.61                      \n",
       "4   17296.51                      \n",
       "5   17833.16                      \n",
       "  X2022.Hombres.Participación.porcentual.respecto.del.PIB.P.\n",
       "1 7.010992                                                  \n",
       "2 5.671762                                                  \n",
       "3 6.495393                                                  \n",
       "4 7.882823                                                  \n",
       "5 3.645447                                                  \n",
       "  X2023.Valor.económico.P.\n",
       "1 8376438.68              \n",
       "2   92530.96              \n",
       "3  265331.45              \n",
       "4   63812.50              \n",
       "5   61417.06              \n",
       "  X2023.Producto.interno.bruto.a.precios.de.mercado.C2.P.\n",
       "1 31855566.3                                             \n",
       "2   421929.9                                             \n",
       "3  1242752.3                                             \n",
       "4   234924.2                                             \n",
       "5   545434.5                                             \n",
       "  X2023.Participación.porcentual.respecto.del.PIB.P.\n",
       "1 26.29506                                          \n",
       "2 21.93041                                          \n",
       "3 21.35031                                          \n",
       "4 27.16302                                          \n",
       "5 11.26021                                          \n",
       "  X2023.Mujeres.Valor.económico.P.\n",
       "1 5990643.14                      \n",
       "2   67533.11                      \n",
       "3  180036.20                      \n",
       "4   43969.85                      \n",
       "5   40999.62                      \n",
       "  X2023.Mujeres.Participación.porcentual.respecto.del.PIB.P.\n",
       "1 18.805640                                                 \n",
       "2 16.005763                                                 \n",
       "3 14.486893                                                 \n",
       "4 18.716614                                                 \n",
       "5  7.516874                                                 \n",
       "  X2023.Hombres.Valor.económico.P.\n",
       "1 2385795.54                      \n",
       "2   24997.85                      \n",
       "3   85295.25                      \n",
       "4   19842.65                      \n",
       "5   20417.44                      \n",
       "  X2023.Hombres.Participación.porcentual.respecto.del.PIB.P.\n",
       "1 7.489415                                                  \n",
       "2 5.924644                                                  \n",
       "3 6.863415                                                  \n",
       "4 8.446407                                                  \n",
       "5 3.743336                                                  "
      ]
     },
     "metadata": {},
     "output_type": "display_data"
    }
   ],
   "source": [
    "datos<-read.csv(archivo_objetivo)\n",
    "head(datos,5)"
   ]
  },
  {
   "cell_type": "markdown",
   "id": "4ad2c8ed",
   "metadata": {},
   "source": [
    "Se limpian los datos"
   ]
  },
  {
   "cell_type": "code",
   "execution_count": 5,
   "id": "d9405778",
   "metadata": {
    "vscode": {
     "languageId": "r"
    }
   },
   "outputs": [],
   "source": [
    "datos <- datos %>%\n",
    "  filter(str_detect(Descriptores, \"Ciudad de México\")) %>%\n",
    "  select(matches(\"Mujeres\")) %>%\n",
    "  select(-matches(\"Valor\\\\.económico\"))"
   ]
  },
  {
   "cell_type": "code",
   "execution_count": 6,
   "id": "7e6b90d8",
   "metadata": {
    "vscode": {
     "languageId": "r"
    }
   },
   "outputs": [
    {
     "data": {
      "text/html": [
       "<table class=\"dataframe\">\n",
       "<caption>A data.frame: 1 × 5</caption>\n",
       "<thead>\n",
       "\t<tr><th></th><th scope=col>X2019.Mujeres.Participación.porcentual.respecto.del.PIB</th><th scope=col>X2020.Mujeres.Participación.porcentual.respecto.del.PIB</th><th scope=col>X2021.Mujeres.Participación.porcentual.respecto.del.PIB</th><th scope=col>X2022.Mujeres.Participación.porcentual.respecto.del.PIB.P.</th><th scope=col>X2023.Mujeres.Participación.porcentual.respecto.del.PIB.P.</th></tr>\n",
       "\t<tr><th></th><th scope=col>&lt;dbl&gt;</th><th scope=col>&lt;dbl&gt;</th><th scope=col>&lt;dbl&gt;</th><th scope=col>&lt;dbl&gt;</th><th scope=col>&lt;dbl&gt;</th></tr>\n",
       "</thead>\n",
       "<tbody>\n",
       "\t<tr><th scope=row>1</th><td>6.841382</td><td>8.344089</td><td>7.952512</td><td>8.049777</td><td>8.301606</td></tr>\n",
       "</tbody>\n",
       "</table>\n"
      ],
      "text/latex": [
       "A data.frame: 1 × 5\n",
       "\\begin{tabular}{r|lllll}\n",
       "  & X2019.Mujeres.Participación.porcentual.respecto.del.PIB & X2020.Mujeres.Participación.porcentual.respecto.del.PIB & X2021.Mujeres.Participación.porcentual.respecto.del.PIB & X2022.Mujeres.Participación.porcentual.respecto.del.PIB.P. & X2023.Mujeres.Participación.porcentual.respecto.del.PIB.P.\\\\\n",
       "  & <dbl> & <dbl> & <dbl> & <dbl> & <dbl>\\\\\n",
       "\\hline\n",
       "\t1 & 6.841382 & 8.344089 & 7.952512 & 8.049777 & 8.301606\\\\\n",
       "\\end{tabular}\n"
      ],
      "text/markdown": [
       "\n",
       "A data.frame: 1 × 5\n",
       "\n",
       "| <!--/--> | X2019.Mujeres.Participación.porcentual.respecto.del.PIB &lt;dbl&gt; | X2020.Mujeres.Participación.porcentual.respecto.del.PIB &lt;dbl&gt; | X2021.Mujeres.Participación.porcentual.respecto.del.PIB &lt;dbl&gt; | X2022.Mujeres.Participación.porcentual.respecto.del.PIB.P. &lt;dbl&gt; | X2023.Mujeres.Participación.porcentual.respecto.del.PIB.P. &lt;dbl&gt; |\n",
       "|---|---|---|---|---|---|\n",
       "| 1 | 6.841382 | 8.344089 | 7.952512 | 8.049777 | 8.301606 |\n",
       "\n"
      ],
      "text/plain": [
       "  X2019.Mujeres.Participación.porcentual.respecto.del.PIB\n",
       "1 6.841382                                               \n",
       "  X2020.Mujeres.Participación.porcentual.respecto.del.PIB\n",
       "1 8.344089                                               \n",
       "  X2021.Mujeres.Participación.porcentual.respecto.del.PIB\n",
       "1 7.952512                                               \n",
       "  X2022.Mujeres.Participación.porcentual.respecto.del.PIB.P.\n",
       "1 8.049777                                                  \n",
       "  X2023.Mujeres.Participación.porcentual.respecto.del.PIB.P.\n",
       "1 8.301606                                                  "
      ]
     },
     "metadata": {},
     "output_type": "display_data"
    }
   ],
   "source": [
    "head(datos,5) "
   ]
  },
  {
   "cell_type": "markdown",
   "id": "5f5c688a",
   "metadata": {},
   "source": [
    "Se crea el data frame"
   ]
  },
  {
   "cell_type": "code",
   "execution_count": 7,
   "id": "30952c93",
   "metadata": {
    "vscode": {
     "languageId": "r"
    }
   },
   "outputs": [
    {
     "name": "stdout",
     "output_type": "stream",
     "text": [
      "\u001b[90m# A tibble: 5 × 2\u001b[39m\n",
      "    año  dato\n",
      "  \u001b[3m\u001b[90m<int>\u001b[39m\u001b[23m \u001b[3m\u001b[90m<dbl>\u001b[39m\u001b[23m\n",
      "\u001b[90m1\u001b[39m  \u001b[4m2\u001b[24m019  6.84\n",
      "\u001b[90m2\u001b[39m  \u001b[4m2\u001b[24m020  8.34\n",
      "\u001b[90m3\u001b[39m  \u001b[4m2\u001b[24m021  7.95\n",
      "\u001b[90m4\u001b[39m  \u001b[4m2\u001b[24m022  8.05\n",
      "\u001b[90m5\u001b[39m  \u001b[4m2\u001b[24m023  8.30\n"
     ]
    }
   ],
   "source": [
    "datos_final <- datos %>%\n",
    "  pivot_longer(\n",
    "    cols = everything(),\n",
    "    names_to = \"año\",\n",
    "    values_to = \"dato\"\n",
    "  ) %>%\n",
    "  mutate(\n",
    "    año = gsub(\"^X(\\\\d{4}).*\", \"\\\\1\", año),  \n",
    "    año = as.integer(año)\n",
    "  )\n",
    "print(datos_final)"
   ]
  }
 ],
 "metadata": {
  "kernelspec": {
   "display_name": "R",
   "language": "R",
   "name": "ir"
  },
  "language_info": {
   "codemirror_mode": "r",
   "file_extension": ".r",
   "mimetype": "text/x-r-source",
   "name": "R",
   "pygments_lexer": "r",
   "version": "4.4.1"
  }
 },
 "nbformat": 4,
 "nbformat_minor": 5
}
