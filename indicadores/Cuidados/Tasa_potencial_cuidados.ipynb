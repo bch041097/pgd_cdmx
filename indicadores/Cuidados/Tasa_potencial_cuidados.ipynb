{
 "cells": [
  {
   "cell_type": "markdown",
   "id": "6e11e01d",
   "metadata": {},
   "source": [
    "TASA DE DEMANDA POTENCIAL DE CUIDADOS POR POBLACIÓN TOTAL (NINOS, NIÑAS Y ADOLESCENTES, DISCAPACITADOS Y ADULTOS MAYORES)"
   ]
  },
  {
   "cell_type": "code",
   "execution_count": null,
   "id": "e8255ec1",
   "metadata": {
    "vscode": {
     "languageId": "r"
    }
   },
   "outputs": [],
   "source": [
    "##LIBRERIAS\n",
    "librerias <- c(\"tidyverse\",\n",
    "               \"zip\",\n",
    "               \"readr\",\n",
    "               \"srvyr\")\n",
    "\n",
    "instalar <- rownames(installed.packages())\n",
    "instalar_librerias <- setdiff(librerias, instalar)\n",
    "\n",
    "if (length(instalar_librerias) > 0) {\n",
    "  install.packages(instalar_librerias)\n",
    "}\n",
    "\n",
    "lapply(librerias, library, character.only = TRUE)\n",
    "\n",
    "print(\"Librerias cargadas\")"
   ]
  },
  {
   "cell_type": "code",
   "execution_count": 2,
   "id": "03de1edc",
   "metadata": {
    "vscode": {
     "languageId": "r"
    }
   },
   "outputs": [],
   "source": [
    "#tiempo de espera\n",
    "options(timeout = 300)  \n",
    "#Descarga de archivos\n",
    "url<-\"https://www.inegi.org.mx/contenidos/programas/enigh/nc/2022/microdatos/enigh2022_ns_poblacion_csv.zip\"\n",
    "##Creación de directorio temporal\n",
    "td<- tempdir()\n",
    "# Descarga del archivo temporal\n",
    "tf = tempfile(tmpdir=td, fileext=\".zip\")\n",
    "download.file(url, tf)\n",
    "unzip(tf, files=\"poblacion.csv\", exdir=td, \n",
    "      overwrite=TRUE)\n",
    "fpath=file.path(td,\"poblacion.csv\")\n",
    "unlink(td)"
   ]
  },
  {
   "cell_type": "code",
   "execution_count": 3,
   "id": "4f3affc4",
   "metadata": {
    "vscode": {
     "languageId": "r"
    }
   },
   "outputs": [
    {
     "name": "stderr",
     "output_type": "stream",
     "text": [
      "Warning message:\n",
      "\"\u001b[1m\u001b[22mOne or more parsing issues, call `problems()` on your data frame for details,\n",
      "e.g.:\n",
      "  dat <- vroom(...)\n",
      "  problems(dat)\"\n"
     ]
    }
   ],
   "source": [
    "pob <- read_csv(fpath, show_col_types = FALSE) %>%\n",
    "  mutate(\n",
    "    cve_ent = substr(folioviv, 1, 2),  \n",
    "    pob_demandante_cuidados = case_when(\n",
    "      edad <= 19 ~ \"niños_niñas_adoles\",\n",
    "      edad >= 60 ~ \"adult_may\",\n",
    "      disc_camin == 1 | disc_ver == 1 | disc_brazo == 1 | disc_apren == 1 |\n",
    "      disc_oir == 1 | disc_vest == 1 | disc_habla == 1 | disc_acti == 1 ~ \"discap\",\n",
    "      TRUE ~ \"otros\")) %>%\n",
    "    filter(cve_ent == '09') %>%\n",
    "    select(folioviv, foliohog, numren, upm, factor, est_dis, cve_ent, edad, disc_camin, disc_ver, disc_brazo, disc_apren, disc_oir, disc_vest, disc_habla, disc_acti, pob_demandante_cuidados)%>%\n",
    "    mutate(pob_demandante_cuidados = case_when(pob_demandante_cuidados %in% c(\"niños_niñas_adoles\", \"adult_may\", \"discap\") ~ 1, \n",
    "        TRUE ~ 0)) \n",
    "    "
   ]
  },
  {
   "cell_type": "code",
   "execution_count": 4,
   "id": "06877ce3",
   "metadata": {
    "vscode": {
     "languageId": "r"
    }
   },
   "outputs": [],
   "source": [
    "## Diseño muestral\n",
    "pob_dm <- pob %>%\n",
    "  as_survey_design(\n",
    "    ids = upm,\n",
    "    strata = est_dis,\n",
    "    weights = factor,\n",
    "    nest = TRUE)"
   ]
  },
  {
   "cell_type": "code",
   "execution_count": 5,
   "id": "edaeb066",
   "metadata": {
    "vscode": {
     "languageId": "r"
    }
   },
   "outputs": [],
   "source": [
    "tasa_demanda_cuidados <- pob_dm %>%\n",
    "    group_by(pob_demandante_cuidados) %>%\n",
    "    summarise(tasa_demanda = survey_total(vartype=\"cv\"))|>\n",
    "  filter(pob_demandante_cuidados==1)|>\n",
    "  mutate(tasa_demanda = tasa_demanda / sum(pob$factor) * 100000) %>%\n",
    "    ungroup() %>%\n",
    "    select(pob_demandante_cuidados, tasa_demanda)"
   ]
  },
  {
   "cell_type": "code",
   "execution_count": 6,
   "id": "fe0743ab",
   "metadata": {
    "vscode": {
     "languageId": "r"
    }
   },
   "outputs": [
    {
     "name": "stdout",
     "output_type": "stream",
     "text": [
      "[1] \"Tasa de demanda potencial de cuidados:  1\"               \n",
      "[2] \"Tasa de demanda potencial de cuidados:  42491.9537485106\"\n"
     ]
    }
   ],
   "source": [
    "print(paste(\"Tasa de demanda potencial de cuidados: \", tasa_demanda_cuidados))"
   ]
  }
 ],
 "metadata": {
  "kernelspec": {
   "display_name": "R",
   "language": "R",
   "name": "ir"
  },
  "language_info": {
   "codemirror_mode": "r",
   "file_extension": ".r",
   "mimetype": "text/x-r-source",
   "name": "R",
   "pygments_lexer": "r",
   "version": "4.4.1"
  }
 },
 "nbformat": 4,
 "nbformat_minor": 5
}
