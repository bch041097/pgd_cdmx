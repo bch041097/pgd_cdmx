{
 "cells": [
  {
   "cell_type": "markdown",
   "id": "2fe0ffc5",
   "metadata": {},
   "source": [
    "Indicadores de Secretaría del Trabajo y Fomento al Empleo"
   ]
  },
  {
   "cell_type": "code",
   "execution_count": 1,
   "id": "a8d3b6da",
   "metadata": {
    "vscode": {
     "languageId": "r"
    }
   },
   "outputs": [
    {
     "name": "stderr",
     "output_type": "stream",
     "text": [
      "Cargando paquete requerido: pacman\n",
      "\n",
      "Warning message:\n",
      "\"package 'pacman' was built under R version 4.4.2\"\n"
     ]
    }
   ],
   "source": [
    "if(! require('pacman')) install.packages('pacman')\n",
    "pacman::p_load(tidyverse, srvyr, janitor, stringr, readxl, writexl, tools,dplyr, purrr) "
   ]
  },
  {
   "cell_type": "markdown",
   "id": "d5a03733",
   "metadata": {},
   "source": [
    "DESCARGA Y LECTURA DE DATOS"
   ]
  },
  {
   "cell_type": "code",
   "execution_count": 2,
   "id": "2f09fa1e",
   "metadata": {
    "vscode": {
     "languageId": "r"
    }
   },
   "outputs": [],
   "source": [
    "#Crear carpeta para almacenar los microdatos descagados del INEGI\n",
    "dir.create('Microdatos', showWarnings = FALSE)\n",
    "\n",
    "#Crear carpetas para almacenar los resultados\n",
    "dir.create('PGD', showWarnings = FALSE)"
   ]
  },
  {
   "cell_type": "code",
   "execution_count": 3,
   "id": "7da5d6ac",
   "metadata": {
    "vscode": {
     "languageId": "r"
    }
   },
   "outputs": [
    {
     "name": "stdout",
     "output_type": "stream",
     "text": [
      "[1] TRUE\n"
     ]
    }
   ],
   "source": [
    "# Directorios principales\n",
    "dir_datos <- 'Microdatos'\n",
    "\n",
    "# Verificar si existen antes de intentar crearlos\n",
    "if (!dir.exists(dir_datos)) {\n",
    "    dir.create(dir_datos, recursive = TRUE)\n",
    "}\n",
    "\n",
    "\n",
    "# Verificar que los directorios realmente existen después de crearlos\n",
    "print(file.exists(dir_datos))  # Debe devolver TRUE"
   ]
  },
  {
   "cell_type": "code",
   "execution_count": 4,
   "id": "e8f803b4",
   "metadata": {
    "vscode": {
     "languageId": "r"
    }
   },
   "outputs": [],
   "source": [
    "descargar_enoe_csv <- function() {\n",
    "    options(timeout = 90000)\n",
    "    data_list <- list()\n",
    "\n",
    "    descargar_extraer <- function(url, year_str, trim) {\n",
    "        zip_path <- file.path('Microdatos', basename(url))\n",
    "        download.file(url, zip_path, mode = 'wb')\n",
    "        \n",
    "        unzip_dir <- file.path('Microdatos', paste0('ENOE_', year_str, '_trim', trim))\n",
    "        dir.create(unzip_dir, showWarnings = FALSE)\n",
    "        unzip(zip_path, exdir = unzip_dir)\n",
    "\n",
    "        unlink(zip_path) # Eliminar el archivo zip después de descomprimirlo\n",
    "        csv_files <- list.files(unzip_dir, pattern = '\\\\.csv$', full.names = TRUE)\n",
    "        \n",
    "        if(length(csv_files) == 0) {\n",
    "            warning('No se encontró el archivo CSV en ', unzip_dir)\n",
    "            return(NULL) \n",
    "        }\n",
    "\n",
    "        df_list <- list()\n",
    "\n",
    "        for(csv_file in csv_files) {\n",
    "            nombre <- file_path_sans_ext(basename(csv_file))\n",
    "            tipo <- NA\n",
    "\n",
    "            if (str_detect(nombre, 'COE1T?')) {\n",
    "                tipo <- 'COE1'\n",
    "                } else if (str_detect(nombre, 'COE2T?')) {\n",
    "                    tipo <- 'COE2'\n",
    "                    } else if (str_detect(nombre, 'HOGT?')) {\n",
    "                        tipo <- 'HOG'\n",
    "                        } else if (str_detect(nombre, 'SDEMT?')) {\n",
    "                            tipo <- 'SDEM'\n",
    "                            } else if (str_detect(nombre, 'VIVT?')) {\n",
    "                                tipo <- 'VIV'\n",
    "                                \n",
    "                                }\n",
    "\n",
    "            if(!is.na(tipo)) {\n",
    "                df <- tryCatch({\n",
    "                    read_csv(csv_file, show_col_types = FALSE) %>% clean_names()\n",
    "                }, error = function(e) {\n",
    "                    warning('Error al leer el archivo CSV de ', csv_file)\n",
    "                    return(NULL) \n",
    "                })\n",
    "                \n",
    "                if(!is.null(df)) {\n",
    "                    df_list[[tipo]] <- df\n",
    "                }\n",
    "            } \n",
    "                    \n",
    "        }\n",
    "        \n",
    "    return(df_list)\n",
    "    \n",
    "    }\n",
    "    \n",
    "    #iterar los años y trimestres de descarga\n",
    "    for(year in 18:20) {\n",
    "    year_str <- paste0('20', year)\n",
    "    data_list[[year_str]] <- list()\n",
    "    \n",
    "    for(trim in 1:4) {\n",
    "      url <- paste0('https://www.inegi.org.mx/contenidos/programas/enoe/15ymas/microdatos/20', year, 'trim', trim, '_csv.zip')\n",
    "      \n",
    "      df <- descargar_extraer(url, year_str, trim)\n",
    "      \n",
    "      if(!is.null(df)) {\n",
    "        data_list[[year_str]][[paste0('trim', trim)]] <- df\n",
    "      }\n",
    "    }\n",
    "  }\n",
    "\n",
    "    for(year in 21:22) {\n",
    "        year_str <- paste0('20', year)\n",
    "        data_list[[year_str]] <- list()\n",
    "        \n",
    "        for(trim in 1:4) {\n",
    "        url <- paste0('https://www.inegi.org.mx/contenidos/programas/enoe/15ymas/microdatos/enoe_n_20', year, '_trim', trim, '_csv.zip')\n",
    "        \n",
    "        df <- descargar_extraer(url, year_str, trim)\n",
    "\n",
    "        if(!is.null(df)) {\n",
    "            data_list[[year_str]][[paste0('trim', trim)]] <- df\n",
    "        }\n",
    "    }\n",
    "\n",
    "    }\n",
    "    \n",
    "    for(year in 23:24) {\n",
    "        year_str <- paste0('20', year)\n",
    "        data_list[[year_str]] <- list()\n",
    "        \n",
    "        for(trim in 1:4) {\n",
    "        url <- paste0('https://www.inegi.org.mx/contenidos/programas/enoe/15ymas/microdatos/enoe_20', year, '_trim', trim, '_csv.zip')\n",
    "                \n",
    "        df <- descargar_extraer(url, year_str, trim)\n",
    "        \n",
    "        if(!is.null(df)) {\n",
    "            data_list[[year_str]][[paste0('trim', trim)]] <- df\n",
    "        }\n",
    "    \n",
    "    }\n",
    "\n",
    "    } \n",
    "    \n",
    "    save(data_list, file = 'Microdatos/data_list.RData')\n",
    "\n",
    "\n",
    "    return(data_list)\n",
    "\n",
    "}"
   ]
  },
  {
   "cell_type": "code",
   "execution_count": null,
   "id": "9cdaa798",
   "metadata": {
    "vscode": {
     "languageId": "r"
    }
   },
   "outputs": [],
   "source": [
    "invisible(descargar_enoe_csv())"
   ]
  },
  {
   "cell_type": "code",
   "execution_count": 5,
   "id": "64230c46",
   "metadata": {
    "vscode": {
     "languageId": "r"
    }
   },
   "outputs": [],
   "source": [
    "#Cargar la lista de datos guardada para no tener que descargarla nuevamente \n",
    "load(\"Microdatos/data_list.RData\")"
   ]
  },
  {
   "cell_type": "code",
   "execution_count": null,
   "id": "06e1ac81",
   "metadata": {
    "vscode": {
     "languageId": "r"
    }
   },
   "outputs": [],
   "source": [
    "#Confirmar que la estructura de las listas de datos estén bien\n",
    "str(data_list$'2023'$'trim4'$'COE1')"
   ]
  },
  {
   "cell_type": "markdown",
   "id": "089eeef4",
   "metadata": {},
   "source": [
    "Población informal en la Ciudad de México"
   ]
  },
  {
   "cell_type": "code",
   "execution_count": 7,
   "id": "e6f564b1",
   "metadata": {
    "vscode": {
     "languageId": "r"
    }
   },
   "outputs": [
    {
     "name": "stderr",
     "output_type": "stream",
     "text": [
      "Warning message:\n",
      "\"\u001b[1m\u001b[22m`cross_df()` was deprecated in purrr 1.0.0.\n",
      "\u001b[36mℹ\u001b[39m Please use `tidyr::expand_grid()` instead.\n",
      "\u001b[36mℹ\u001b[39m See <https://github.com/tidyverse/purrr/issues/768>.\"\n"
     ]
    }
   ],
   "source": [
    "\n",
    "# Definir los años y trimestres a trabajar\n",
    "anios <- as.character(2021:2024)\n",
    "trimestres <- paste0(\"trim\", 1:4)\n",
    "\n",
    "# Extraer y unir SDEM de todos los trimestres y años, estandarizando columnas a character\n",
    "sdem_todos <- cross_df(list(anio = anios, trim = trimestres)) %>%\n",
    "  mutate(data = map2(anio, trim, ~ {\n",
    "    df <- data_list[[.x]][[.y]][[\"SDEM\"]]\n",
    "    \n",
    "    if (!is.null(df)) {\n",
    "      df <- df %>%\n",
    "        mutate(across(everything(), as.character)) %>%  #todas las columnas como character\n",
    "        mutate(anio = as.integer(.x), trimestre = .y)\n",
    "    } else {\n",
    "      NULL\n",
    "    }\n",
    "  })) %>%\n",
    "  pull(data) %>%\n",
    "  compact() %>%\n",
    "  bind_rows()"
   ]
  },
  {
   "cell_type": "code",
   "execution_count": 8,
   "id": "37c47a22",
   "metadata": {
    "vscode": {
     "languageId": "r"
    }
   },
   "outputs": [],
   "source": [
    "sdem_todos <- sdem_todos %>%\n",
    "  mutate(\n",
    "    fac_tri = as.numeric(fac_tri),\n",
    "    eda = as.integer(eda),\n",
    "    ent = as.integer(ent)\n",
    "  )"
   ]
  },
  {
   "cell_type": "code",
   "execution_count": 9,
   "id": "706beaec",
   "metadata": {
    "vscode": {
     "languageId": "r"
    }
   },
   "outputs": [],
   "source": [
    "Variables <- list() #Lista para filtrar y seleccionar las variables que necesitamos\n",
    "PobTot <- list() #Lista para vaciar valores de pob_total\n",
    "Informal <- list() #Lista para vaciar los valores de población ocupada en el sector informal"
   ]
  },
  {
   "cell_type": "code",
   "execution_count": 10,
   "id": "12b494d9",
   "metadata": {
    "vscode": {
     "languageId": "r"
    }
   },
   "outputs": [],
   "source": [
    "calculo_informal <- function(data_list) {\n",
    "  for (year in names(data_list)) {\n",
    "    for (trim in names(data_list[[year]])) {\n",
    "      if (!'SDEM' %in% names(data_list[[year]][[trim]])) next\n",
    "\n",
    "#calcular la población ocupada wn la cdmx  :) \n",
    "      df <- data_list[[year]][[trim]][['SDEM']] %>%\n",
    "        clean_names() %>%\n",
    "        mutate(edad = as.numeric(eda)) %>%\n",
    "        filter(r_def == 0, (c_res == 1 | c_res == 3), edad >= 15 & edad <= 98) %>%\n",
    "        filter(clase1 == 1, ent == 9) \n",
    "      \n",
    "      # Guardar nombres y df completo por si se necesita\n",
    "      Variables[[paste0(\"v\", year, \"_\", trim)]] <<- names(df)\n",
    "      PobTot[[paste0(\"pob_total_\", year, \"_\", trim)]] <<- df\n",
    "\n",
    "\n",
    "\n",
    "     # Calcular la población ocupada en el sector informal\n",
    "   df_informal <- df %>%\n",
    "        filter(emp_ppal == 1) %>%\n",
    "        filter( (pos_ocu == 1 & seg_soc == 2) |\n",
    "          (pos_ocu %in% c(2, 3, 4) & tue2 %in% c( 2, 5, 6))) %>%\n",
    "        mutate(sector = \"Informal\")\n",
    "\n",
    "\n",
    "\n",
    "      total_sector <- sum(df_informal$fac_tri, na.rm = TRUE)\n",
    "      total_pob <- sum(df$fac_tri, na.rm = TRUE)\n",
    "      porcentaje <- (total_sector / total_pob) * 100\n",
    "\n",
    "      Informal[[paste0(\"informal_\", year, \"_\", trim)]] <<- tibble(\n",
    "        year = as.integer(year),\n",
    "        trimestre = trim,\n",
    "        sector = \"Informal\",\n",
    "        total_sector = total_sector,\n",
    "        pob_total = total_pob,\n",
    "        porcentaje = porcentaje\n",
    "      )\n",
    "    }\n",
    "  }\n",
    "}\n",
    "\n",
    "# Ejecutar función sin mostrar resultados intermedios\n",
    "invisible(calculo_informal(data_list))\n"
   ]
  },
  {
   "cell_type": "code",
   "execution_count": 11,
   "id": "97503d91",
   "metadata": {
    "vscode": {
     "languageId": "r"
    }
   },
   "outputs": [
    {
     "name": "stdout",
     "output_type": "stream",
     "text": [
      "\u001b[90m# A tibble: 5 × 5\u001b[39m\n",
      "   year sector   total_sector pob_total porcentaje\n",
      "  \u001b[3m\u001b[90m<int>\u001b[39m\u001b[23m \u001b[3m\u001b[90m<chr>\u001b[39m\u001b[23m           \u001b[3m\u001b[90m<dbl>\u001b[39m\u001b[23m     \u001b[3m\u001b[90m<dbl>\u001b[39m\u001b[23m      \u001b[3m\u001b[90m<dbl>\u001b[39m\u001b[23m\n",
      "\u001b[90m1\u001b[39m  \u001b[4m2\u001b[24m021 Informal      7\u001b[4m9\u001b[24m\u001b[4m5\u001b[24m\u001b[4m7\u001b[24m422  18\u001b[4m0\u001b[24m\u001b[4m8\u001b[24m\u001b[4m4\u001b[24m026       44.0\n",
      "\u001b[90m2\u001b[39m  \u001b[4m2\u001b[24m022 Informal      8\u001b[4m4\u001b[24m\u001b[4m0\u001b[24m\u001b[4m0\u001b[24m414  19\u001b[4m1\u001b[24m\u001b[4m7\u001b[24m\u001b[4m0\u001b[24m899       43.8\n",
      "\u001b[90m3\u001b[39m  \u001b[4m2\u001b[24m023 Informal      8\u001b[4m5\u001b[24m\u001b[4m6\u001b[24m\u001b[4m0\u001b[24m864  19\u001b[4m5\u001b[24m\u001b[4m5\u001b[24m\u001b[4m9\u001b[24m988       43.8\n",
      "\u001b[90m4\u001b[39m  \u001b[4m2\u001b[24m024 Informal      8\u001b[4m6\u001b[24m\u001b[4m6\u001b[24m\u001b[4m6\u001b[24m509  20\u001b[4m2\u001b[24m\u001b[4m6\u001b[24m\u001b[4m2\u001b[24m721       42.8\n",
      "\u001b[90m5\u001b[39m  \u001b[4m2\u001b[24m025 Informal      2\u001b[4m1\u001b[24m\u001b[4m4\u001b[24m\u001b[4m3\u001b[24m968   5\u001b[4m0\u001b[24m\u001b[4m6\u001b[24m\u001b[4m6\u001b[24m685       42.3\n"
     ]
    }
   ],
   "source": [
    "# Unir resultados finales\n",
    "informal_final <- bind_rows(Informal) %>%\n",
    "  mutate(trimestre = factor(trimestre, levels = c(\"trim1\", \"trim2\", \"trim3\", \"trim4\"))) %>%\n",
    "  arrange(year, trimestre)\n",
    "\n",
    "# Agregar por año\n",
    "informal_anual <- informal_final %>%\n",
    "  group_by(year, sector) %>%\n",
    "  summarise(\n",
    "    total_sector = sum(total_sector, na.rm = TRUE),\n",
    "    pob_total = sum(pob_total, na.rm = TRUE),\n",
    "    porcentaje = (total_sector / pob_total) * 100,\n",
    "    .groups = \"drop\"\n",
    "  ) %>%\n",
    "  arrange(year)\n",
    "\n",
    "\n",
    "informal_anual <- informal_final %>%\n",
    "  group_by(year, sector) %>%\n",
    "  summarise(\n",
    "    total_sector = sum(total_sector, na.rm = TRUE),\n",
    "    pob_total = sum(pob_total, na.rm = TRUE),\n",
    "    porcentaje = (total_sector / pob_total) * 100,\n",
    "    .groups = \"drop\"\n",
    "  ) %>%\n",
    "  arrange(year)\n",
    "\n",
    "# Mostrar resultado anual\n",
    "print(informal_anual)\n",
    "\n"
   ]
  },
  {
   "cell_type": "code",
   "execution_count": 12,
   "id": "ea9d5269",
   "metadata": {
    "vscode": {
     "languageId": "r"
    }
   },
   "outputs": [
    {
     "name": "stdout",
     "output_type": "stream",
     "text": [
      "\u001b[90m# A tibble: 17 × 5\u001b[39m\n",
      "    year trimestre total_ocupados total_tpo4 porcentaje\n",
      "   \u001b[3m\u001b[90m<int>\u001b[39m\u001b[23m \u001b[3m\u001b[90m<fct>\u001b[39m\u001b[23m              \u001b[3m\u001b[90m<dbl>\u001b[39m\u001b[23m      \u001b[3m\u001b[90m<dbl>\u001b[39m\u001b[23m      \u001b[3m\u001b[90m<dbl>\u001b[39m\u001b[23m\n",
      "\u001b[90m 1\u001b[39m  \u001b[4m2\u001b[24m021 trim1            3\u001b[4m8\u001b[24m\u001b[4m7\u001b[24m\u001b[4m0\u001b[24m454    1\u001b[4m7\u001b[24m\u001b[4m9\u001b[24m\u001b[4m4\u001b[24m589       46.4\n",
      "\u001b[90m 2\u001b[39m  \u001b[4m2\u001b[24m021 trim2            4\u001b[4m1\u001b[24m\u001b[4m1\u001b[24m\u001b[4m7\u001b[24m427    1\u001b[4m9\u001b[24m\u001b[4m3\u001b[24m\u001b[4m9\u001b[24m674       47.1\n",
      "\u001b[90m 3\u001b[39m  \u001b[4m2\u001b[24m021 trim3            4\u001b[4m3\u001b[24m\u001b[4m9\u001b[24m\u001b[4m3\u001b[24m859    2\u001b[4m1\u001b[24m\u001b[4m6\u001b[24m\u001b[4m8\u001b[24m037       49.3\n",
      "\u001b[90m 4\u001b[39m  \u001b[4m2\u001b[24m021 trim4            4\u001b[4m4\u001b[24m\u001b[4m6\u001b[24m\u001b[4m5\u001b[24m106    2\u001b[4m1\u001b[24m\u001b[4m4\u001b[24m\u001b[4m4\u001b[24m407       48.0\n",
      "\u001b[90m 5\u001b[39m  \u001b[4m2\u001b[24m022 trim1            4\u001b[4m3\u001b[24m\u001b[4m8\u001b[24m\u001b[4m5\u001b[24m718    2\u001b[4m0\u001b[24m\u001b[4m2\u001b[24m\u001b[4m3\u001b[24m263       46.1\n",
      "\u001b[90m 6\u001b[39m  \u001b[4m2\u001b[24m022 trim2            4\u001b[4m5\u001b[24m\u001b[4m3\u001b[24m\u001b[4m4\u001b[24m376    2\u001b[4m1\u001b[24m\u001b[4m8\u001b[24m\u001b[4m0\u001b[24m962       48.1\n",
      "\u001b[90m 7\u001b[39m  \u001b[4m2\u001b[24m022 trim3            4\u001b[4m5\u001b[24m\u001b[4m4\u001b[24m\u001b[4m6\u001b[24m515    2\u001b[4m1\u001b[24m\u001b[4m6\u001b[24m\u001b[4m8\u001b[24m004       47.7\n",
      "\u001b[90m 8\u001b[39m  \u001b[4m2\u001b[24m022 trim4            4\u001b[4m6\u001b[24m\u001b[4m9\u001b[24m\u001b[4m8\u001b[24m174    2\u001b[4m1\u001b[24m\u001b[4m5\u001b[24m\u001b[4m2\u001b[24m425       45.8\n",
      "\u001b[90m 9\u001b[39m  \u001b[4m2\u001b[24m023 trim1            4\u001b[4m6\u001b[24m\u001b[4m9\u001b[24m\u001b[4m3\u001b[24m298    2\u001b[4m1\u001b[24m\u001b[4m6\u001b[24m\u001b[4m9\u001b[24m763       46.2\n",
      "\u001b[90m10\u001b[39m  \u001b[4m2\u001b[24m023 trim2            4\u001b[4m7\u001b[24m\u001b[4m0\u001b[24m\u001b[4m9\u001b[24m095    2\u001b[4m1\u001b[24m\u001b[4m7\u001b[24m\u001b[4m9\u001b[24m459       46.3\n",
      "\u001b[90m11\u001b[39m  \u001b[4m2\u001b[24m023 trim3            4\u001b[4m7\u001b[24m\u001b[4m1\u001b[24m\u001b[4m2\u001b[24m506    2\u001b[4m1\u001b[24m\u001b[4m9\u001b[24m\u001b[4m1\u001b[24m013       46.5\n",
      "\u001b[90m12\u001b[39m  \u001b[4m2\u001b[24m023 trim4            4\u001b[4m6\u001b[24m\u001b[4m5\u001b[24m\u001b[4m7\u001b[24m701    2\u001b[4m1\u001b[24m\u001b[4m3\u001b[24m\u001b[4m1\u001b[24m762       45.8\n",
      "\u001b[90m13\u001b[39m  \u001b[4m2\u001b[24m024 trim1            4\u001b[4m7\u001b[24m\u001b[4m1\u001b[24m\u001b[4m5\u001b[24m069    2\u001b[4m1\u001b[24m\u001b[4m9\u001b[24m\u001b[4m2\u001b[24m253       46.5\n",
      "\u001b[90m14\u001b[39m  \u001b[4m2\u001b[24m024 trim2            4\u001b[4m8\u001b[24m\u001b[4m3\u001b[24m\u001b[4m4\u001b[24m239    2\u001b[4m1\u001b[24m\u001b[4m9\u001b[24m\u001b[4m0\u001b[24m661       45.3\n",
      "\u001b[90m15\u001b[39m  \u001b[4m2\u001b[24m024 trim3            4\u001b[4m8\u001b[24m\u001b[4m9\u001b[24m\u001b[4m4\u001b[24m634    2\u001b[4m2\u001b[24m\u001b[4m1\u001b[24m\u001b[4m5\u001b[24m259       45.3\n",
      "\u001b[90m16\u001b[39m  \u001b[4m2\u001b[24m024 trim4            5\u001b[4m0\u001b[24m\u001b[4m1\u001b[24m\u001b[4m0\u001b[24m045    2\u001b[4m2\u001b[24m\u001b[4m7\u001b[24m\u001b[4m8\u001b[24m232       45.5\n",
      "\u001b[90m17\u001b[39m  \u001b[4m2\u001b[24m025 trim1            4\u001b[4m8\u001b[24m\u001b[4m9\u001b[24m\u001b[4m2\u001b[24m875    2\u001b[4m1\u001b[24m\u001b[4m8\u001b[24m\u001b[4m5\u001b[24m254       44.7\n"
     ]
    }
   ],
   "source": [
    "#CALCULO CORRECTO \n",
    "\n",
    "tpo4 <- list()\n",
    "\n",
    "calculo_tpo4 <- function(data_list) {\n",
    "  \n",
    "  for (year in names(data_list)) {\n",
    "    for (trim in names(data_list[[year]])) {\n",
    "      \n",
    "      if (!'SDEM' %in% names(data_list[[year]][[trim]])) next\n",
    "      \n",
    "      df_base <- data_list[[year]][[trim]][['SDEM']] %>%\n",
    "        janitor::clean_names() %>%\n",
    "        mutate(edad = as.numeric(eda)) %>%\n",
    "        filter(\n",
    "          r_def == 0,\n",
    "          c_res %in% c(1, 3),\n",
    "          edad >= 15 & edad <= 98,\n",
    "          ent == 9,\n",
    "          clase2 == 1  # Solo ocupados\n",
    "        )\n",
    "\n",
    "      # Total población ocupada\n",
    "      total_ocupados <- df_base %>%\n",
    "        summarise(total = sum(fac_tri, na.rm = TRUE)) %>%\n",
    "        pull(total)\n",
    "\n",
    "      # Aplicar filtro TPO4\n",
    "      df_tpo4 <- df_base %>%\n",
    "        filter(\n",
    "          (tip_con == 5 & seg_soc == 2 & emp_ppal == 2) |\n",
    "          (pos_ocu %in% c(1, 2, 3, 4) & emp_ppal == 1)\n",
    "        )\n",
    "\n",
    "      total_tpo4 <- sum(df_tpo4$fac_tri, na.rm = TRUE)\n",
    "\n",
    "      porcentaje <- (total_tpo4 / total_ocupados) * 100\n",
    "\n",
    "      tpo4[[paste0('promedio_', year, '_', trim)]] <<- tibble(\n",
    "        year = as.integer(year),\n",
    "        trimestre = trim,\n",
    "        total_ocupados = total_ocupados,\n",
    "        total_tpo4 = total_tpo4,\n",
    "        porcentaje = porcentaje\n",
    "      )\n",
    "    }\n",
    "  }\n",
    "}\n",
    "\n",
    "# Ejecutar función\n",
    "invisible(calculo_tpo4(data_list))\n",
    "\n",
    "# Combinar resultados\n",
    "tpo4_final <- bind_rows(tpo4) %>%\n",
    "  mutate(trimestre = factor(trimestre, levels = c('trim1', 'trim2', 'trim3', 'trim4'))) %>%\n",
    "  arrange(year, trimestre)\n",
    "\n",
    "print(tpo4_final)\n"
   ]
  },
  {
   "cell_type": "markdown",
   "id": "8351efab",
   "metadata": {},
   "source": [
    "Tasa de participación económica de las mujeres                                                                                                                                                                              Porcentaje que representa la población económicamente activa (PEA) respecto a la de 15 y más años de edad.\n"
   ]
  },
  {
   "cell_type": "code",
   "execution_count": 13,
   "id": "9564b6fd",
   "metadata": {
    "vscode": {
     "languageId": "r"
    }
   },
   "outputs": [],
   "source": [
    "Variables <- list() #Lista para filtrar y seleccionar las variables que necesitamos\n",
    "PobTot <- list() #Lista para vaciar valores de pob_total\n",
    "PEAmujeres <- list() #Lista para vaciar los valores de población eco"
   ]
  },
  {
   "cell_type": "code",
   "execution_count": 14,
   "id": "ac895721",
   "metadata": {
    "vscode": {
     "languageId": "r"
    }
   },
   "outputs": [],
   "source": [
    "# Lista para resultados\n",
    "TPE_Mujeres <- list()"
   ]
  },
  {
   "cell_type": "code",
   "execution_count": 15,
   "id": "17fc621b",
   "metadata": {
    "vscode": {
     "languageId": "r"
    }
   },
   "outputs": [],
   "source": [
    "calculo_tpe_mujeres <- function(data_list) {\n",
    "  for (year in names(data_list)) {\n",
    "    for (trim in names(data_list[[year]])) {\n",
    "      if (!'SDEM' %in% names(data_list[[year]][[trim]])) next\n",
    "      \n",
    "      df <- data_list[[year]][[trim]][['SDEM']] %>%\n",
    "        clean_names() %>%\n",
    "        mutate(edad = as.numeric(eda),\n",
    "               sexo = as.integer(sex)) %>%\n",
    "        filter(r_def == 0, (c_res == 1 | c_res == 3), edad >= 15 & edad <= 98,\n",
    "               sex == 2,  \n",
    "               ent == 9)   \n",
    "\n",
    "      # Población total mujeres 15+\n",
    "      pob_total_muj <- sum(df$fac_tri, na.rm = TRUE)\n",
    "      \n",
    "      #pea mujeres\n",
    "      pea_muj <- df %>%\n",
    "        filter(clase1 == 1) %>%\n",
    "        summarise(total_pea = sum(fac_tri, na.rm = TRUE)) %>%\n",
    "        pull(total_pea)\n",
    "      \n",
    "      tpe <- (pea_muj / pob_total_muj) * 100\n",
    "      \n",
    "      TPE_Mujeres[[paste0(\"tpe_\", year, \"_\", trim)]] <<- tibble(\n",
    "        year = as.integer(year),\n",
    "        trimestre = trim,\n",
    "        pob_total_muj = pob_total_muj,\n",
    "        pea_muj = pea_muj,\n",
    "        tpe_muj = tpe\n",
    "      )\n",
    "    }\n",
    "  }\n",
    "}"
   ]
  },
  {
   "cell_type": "code",
   "execution_count": 16,
   "id": "839d2033",
   "metadata": {
    "vscode": {
     "languageId": "r"
    }
   },
   "outputs": [],
   "source": [
    "# Ejecutar función sin mostrar resultados intermedios\n",
    "invisible(calculo_tpe_mujeres(data_list))"
   ]
  },
  {
   "cell_type": "code",
   "execution_count": 17,
   "id": "f6d87480",
   "metadata": {
    "vscode": {
     "languageId": "r"
    }
   },
   "outputs": [],
   "source": [
    "# Unir resultados finales\n",
    "tpe_mujeres_final <- bind_rows(TPE_Mujeres) %>%\n",
    "  mutate(trimestre = factor(trimestre, levels = c(\"trim1\", \"trim2\", \"trim3\", \"trim4\"))) %>%\n",
    "  arrange(year, trimestre)"
   ]
  },
  {
   "cell_type": "code",
   "execution_count": 18,
   "id": "4560eadf",
   "metadata": {
    "vscode": {
     "languageId": "r"
    }
   },
   "outputs": [
    {
     "name": "stdout",
     "output_type": "stream",
     "text": [
      "\u001b[90m# A tibble: 17 × 5\u001b[39m\n",
      "    year trimestre pob_total_muj pea_muj tpe_muj\n",
      "   \u001b[3m\u001b[90m<int>\u001b[39m\u001b[23m \u001b[3m\u001b[90m<fct>\u001b[39m\u001b[23m             \u001b[3m\u001b[90m<dbl>\u001b[39m\u001b[23m   \u001b[3m\u001b[90m<dbl>\u001b[39m\u001b[23m   \u001b[3m\u001b[90m<dbl>\u001b[39m\u001b[23m\n",
      "\u001b[90m 1\u001b[39m  \u001b[4m2\u001b[24m021 trim1           4\u001b[4m1\u001b[24m\u001b[4m6\u001b[24m\u001b[4m8\u001b[24m688 1\u001b[4m8\u001b[24m\u001b[4m1\u001b[24m\u001b[4m1\u001b[24m826    43.5\n",
      "\u001b[90m 2\u001b[39m  \u001b[4m2\u001b[24m021 trim2           4\u001b[4m1\u001b[24m\u001b[4m5\u001b[24m\u001b[4m1\u001b[24m850 1\u001b[4m9\u001b[24m\u001b[4m2\u001b[24m\u001b[4m4\u001b[24m527    46.4\n",
      "\u001b[90m 3\u001b[39m  \u001b[4m2\u001b[24m021 trim3           4\u001b[4m1\u001b[24m\u001b[4m7\u001b[24m\u001b[4m4\u001b[24m088 2\u001b[4m1\u001b[24m\u001b[4m2\u001b[24m\u001b[4m6\u001b[24m013    50.9\n",
      "\u001b[90m 4\u001b[39m  \u001b[4m2\u001b[24m021 trim4           4\u001b[4m1\u001b[24m\u001b[4m5\u001b[24m\u001b[4m2\u001b[24m856 2\u001b[4m1\u001b[24m\u001b[4m1\u001b[24m\u001b[4m4\u001b[24m965    50.9\n",
      "\u001b[90m 5\u001b[39m  \u001b[4m2\u001b[24m022 trim1           4\u001b[4m1\u001b[24m\u001b[4m4\u001b[24m\u001b[4m8\u001b[24m738 2\u001b[4m0\u001b[24m\u001b[4m5\u001b[24m\u001b[4m5\u001b[24m301    49.5\n",
      "\u001b[90m 6\u001b[39m  \u001b[4m2\u001b[24m022 trim2           4\u001b[4m1\u001b[24m\u001b[4m6\u001b[24m\u001b[4m3\u001b[24m416 2\u001b[4m0\u001b[24m\u001b[4m9\u001b[24m\u001b[4m5\u001b[24m642    50.3\n",
      "\u001b[90m 7\u001b[39m  \u001b[4m2\u001b[24m022 trim3           4\u001b[4m2\u001b[24m\u001b[4m1\u001b[24m\u001b[4m4\u001b[24m921 2\u001b[4m1\u001b[24m\u001b[4m2\u001b[24m\u001b[4m4\u001b[24m193    50.4\n",
      "\u001b[90m 8\u001b[39m  \u001b[4m2\u001b[24m022 trim4           4\u001b[4m2\u001b[24m\u001b[4m0\u001b[24m\u001b[4m5\u001b[24m491 2\u001b[4m2\u001b[24m\u001b[4m2\u001b[24m\u001b[4m0\u001b[24m223    52.8\n",
      "\u001b[90m 9\u001b[39m  \u001b[4m2\u001b[24m023 trim1           4\u001b[4m1\u001b[24m\u001b[4m7\u001b[24m\u001b[4m1\u001b[24m434 2\u001b[4m1\u001b[24m\u001b[4m5\u001b[24m\u001b[4m2\u001b[24m638    51.6\n",
      "\u001b[90m10\u001b[39m  \u001b[4m2\u001b[24m023 trim2           4\u001b[4m2\u001b[24m\u001b[4m3\u001b[24m\u001b[4m9\u001b[24m135 2\u001b[4m2\u001b[24m\u001b[4m4\u001b[24m\u001b[4m6\u001b[24m701    53.0\n",
      "\u001b[90m11\u001b[39m  \u001b[4m2\u001b[24m023 trim3           4\u001b[4m2\u001b[24m\u001b[4m0\u001b[24m\u001b[4m2\u001b[24m125 2\u001b[4m1\u001b[24m\u001b[4m8\u001b[24m\u001b[4m5\u001b[24m798    52.0\n",
      "\u001b[90m12\u001b[39m  \u001b[4m2\u001b[24m023 trim4           4\u001b[4m2\u001b[24m\u001b[4m7\u001b[24m\u001b[4m5\u001b[24m915 2\u001b[4m1\u001b[24m\u001b[4m9\u001b[24m\u001b[4m9\u001b[24m966    51.5\n",
      "\u001b[90m13\u001b[39m  \u001b[4m2\u001b[24m024 trim1           4\u001b[4m3\u001b[24m\u001b[4m3\u001b[24m\u001b[4m9\u001b[24m569 2\u001b[4m2\u001b[24m\u001b[4m7\u001b[24m\u001b[4m2\u001b[24m205    52.4\n",
      "\u001b[90m14\u001b[39m  \u001b[4m2\u001b[24m024 trim2           4\u001b[4m3\u001b[24m\u001b[4m5\u001b[24m\u001b[4m5\u001b[24m221 2\u001b[4m3\u001b[24m\u001b[4m7\u001b[24m\u001b[4m8\u001b[24m223    54.6\n",
      "\u001b[90m15\u001b[39m  \u001b[4m2\u001b[24m024 trim3           4\u001b[4m3\u001b[24m\u001b[4m4\u001b[24m\u001b[4m9\u001b[24m180 2\u001b[4m3\u001b[24m\u001b[4m8\u001b[24m\u001b[4m6\u001b[24m025    54.9\n",
      "\u001b[90m16\u001b[39m  \u001b[4m2\u001b[24m024 trim4           4\u001b[4m3\u001b[24m\u001b[4m5\u001b[24m\u001b[4m4\u001b[24m909 2\u001b[4m4\u001b[24m\u001b[4m8\u001b[24m\u001b[4m4\u001b[24m036    57.0\n",
      "\u001b[90m17\u001b[39m  \u001b[4m2\u001b[24m025 trim1           4\u001b[4m2\u001b[24m\u001b[4m9\u001b[24m\u001b[4m5\u001b[24m927 2\u001b[4m3\u001b[24m\u001b[4m8\u001b[24m\u001b[4m0\u001b[24m749    55.4\n"
     ]
    }
   ],
   "source": [
    "# Mostrar resultados\n",
    "print(tpe_mujeres_final)"
   ]
  },
  {
   "cell_type": "markdown",
   "id": "56c1e1ab",
   "metadata": {},
   "source": [
    "Tasa de Condiciones Críticas de Ocupación "
   ]
  },
  {
   "cell_type": "code",
   "execution_count": 19,
   "id": "f11cbe0b",
   "metadata": {
    "vscode": {
     "languageId": "r"
    }
   },
   "outputs": [],
   "source": [
    "if(! require('pacman')) install.packages('pacman')\n",
    "pacman::p_load(tidyverse, srvyr, janitor, stringr, readxl, writexl, tools)"
   ]
  },
  {
   "cell_type": "code",
   "execution_count": 20,
   "id": "987a3e31",
   "metadata": {
    "vscode": {
     "languageId": "r"
    }
   },
   "outputs": [],
   "source": [
    "dir.create('Microdatos', showWarnings = FALSE)\n",
    "\n",
    "#Crear carpetas para almacenar los resultados por visor del sistema\n",
    "dir.create('PGD', showWarnings = FALSE)\n",
    "dir.create('Visor_CDMX', showWarnings = FALSE) "
   ]
  },
  {
   "cell_type": "code",
   "execution_count": 21,
   "id": "9936a55c",
   "metadata": {
    "vscode": {
     "languageId": "r"
    }
   },
   "outputs": [
    {
     "name": "stdout",
     "output_type": "stream",
     "text": [
      "[1] TRUE\n"
     ]
    }
   ],
   "source": [
    "# Directorios principales\n",
    "dir_datos <- 'Microdatos'\n",
    "\n",
    "# Verificar si existen antes de intentar crearlos\n",
    "if (!dir.exists(dir_datos)) {\n",
    "  dir.create(dir_datos, recursive = TRUE)\n",
    "}\n",
    "\n",
    "\n",
    "# Verificar que los directorios realmente existen después de crearlos\n",
    "print(file.exists(dir_datos))  # Debe devolver TRUE"
   ]
  },
  {
   "cell_type": "code",
   "execution_count": 22,
   "id": "d3281b24",
   "metadata": {
    "vscode": {
     "languageId": "r"
    }
   },
   "outputs": [],
   "source": [
    "descargar_enoe_csv <- function() {\n",
    "  options(timeout = 90000)\n",
    "  data_list <- list()\n",
    "  \n",
    "  descargar_extraer <- function(url, year_str, trim) {\n",
    "    zip_path <- file.path('Microdatos', basename(url))\n",
    "    download.file(url, zip_path, mode = 'wb')\n",
    "    \n",
    "    unzip_dir <- file.path('Microdatos', paste0('ENOE_', year_str, '_trim', trim))\n",
    "    dir.create(unzip_dir, showWarnings = FALSE)\n",
    "    unzip(zip_path, exdir = unzip_dir)\n",
    "    \n",
    "    unlink(zip_path) # Eliminar el archivo zip después de descomprimirlo\n",
    "    csv_files <- list.files(unzip_dir, pattern = '\\\\.csv$', full.names = TRUE)\n",
    "    \n",
    "    if(length(csv_files) == 0) {\n",
    "      warning('No se encontró el archivo CSV en ', unzip_dir)\n",
    "      return(NULL) \n",
    "    }\n",
    "    \n",
    "    df_list <- list()\n",
    "    \n",
    "    for(csv_file in csv_files) {\n",
    "      nombre <- file_path_sans_ext(basename(csv_file))\n",
    "      tipo <- NA\n",
    "      \n",
    "      if (str_detect(nombre, 'COE1T?')) {\n",
    "        tipo <- 'COE1'\n",
    "      } else if (str_detect(nombre, 'COE2T?')) {\n",
    "        tipo <- 'COE2'\n",
    "      } else if (str_detect(nombre, 'HOGT?')) {\n",
    "        tipo <- 'HOG'\n",
    "      } else if (str_detect(nombre, 'SDEMT?')) {\n",
    "        tipo <- 'SDEM'\n",
    "      } else if (str_detect(nombre, 'VIVT?')) {\n",
    "        tipo <- 'VIV'\n",
    "        \n",
    "      }\n",
    "      \n",
    "      if(!is.na(tipo)) {\n",
    "        df <- tryCatch({\n",
    "          read_csv(csv_file, show_col_types = FALSE) %>% clean_names()\n",
    "        }, error = function(e) {\n",
    "          warning('Error al leer el archivo CSV de ', csv_file)\n",
    "          return(NULL) \n",
    "        })\n",
    "        \n",
    "        if(!is.null(df)) {\n",
    "          df_list[[tipo]] <- df\n",
    "        }\n",
    "      } \n",
    "      \n",
    "    }\n",
    "    \n",
    "    return(df_list)\n",
    "    \n",
    "  }\n",
    "  \n",
    "  #iterar los años y trimestres de descarga    \n",
    "  for(year in 21:22) {\n",
    "    year_str <- paste0('20', year)\n",
    "    data_list[[year_str]] <- list()\n",
    "    \n",
    "    for(trim in 1:4) {\n",
    "      url <- paste0('https://www.inegi.org.mx/contenidos/programas/enoe/15ymas/microdatos/enoe_n_20', year, '_trim', trim, '_csv.zip')\n",
    "      \n",
    "      df <- descargar_extraer(url, year_str, trim)\n",
    "      \n",
    "      if(!is.null(df)) {\n",
    "        data_list[[year_str]][[paste0('trim', trim)]] <- df\n",
    "      }\n",
    "    }\n",
    "    \n",
    "  }\n",
    "  \n",
    "  for(year in 23:25) {\n",
    "    year_str <- paste0('20', year)\n",
    "    data_list[[year_str]] <- list()\n",
    "    \n",
    "    for(trim in 1:4) {\n",
    "      url <- paste0('https://www.inegi.org.mx/contenidos/programas/enoe/15ymas/microdatos/enoe_20', year, '_trim', trim, '_csv.zip')\n",
    "      \n",
    "      df <- descargar_extraer(url, year_str, trim)\n",
    "      \n",
    "      if(!is.null(df)) {\n",
    "        data_list[[year_str]][[paste0('trim', trim)]] <- df\n",
    "      }\n",
    "      \n",
    "    }\n",
    "    \n",
    "  } \n",
    "  \n",
    "  save(data_list, file = 'Microdatos/data_list.RData')\n",
    "  \n",
    "  \n",
    "  return(data_list)\n",
    "  \n",
    "}"
   ]
  },
  {
   "cell_type": "code",
   "execution_count": 23,
   "id": "30a308e0",
   "metadata": {
    "vscode": {
     "languageId": "r"
    }
   },
   "outputs": [
    {
     "name": "stderr",
     "output_type": "stream",
     "text": [
      "Warning message in download.file(url, zip_path, mode = \"wb\"):\n",
      "\"downloaded length 12779079 != reported length 24586788\"\n",
      "Warning message in download.file(url, zip_path, mode = \"wb\"):\n",
      "\"URL 'https://www.inegi.org.mx/contenidos/programas/enoe/15ymas/microdatos/enoe_n_2021_trim1_csv.zip': status was 'Failure when receiving data from the peer'\"\n"
     ]
    },
    {
     "ename": "ERROR",
     "evalue": "Error in download.file(url, zip_path, mode = \"wb\"): download from 'https://www.inegi.org.mx/contenidos/programas/enoe/15ymas/microdatos/enoe_n_2021_trim1_csv.zip' failed\n",
     "output_type": "error",
     "traceback": [
      "Error in download.file(url, zip_path, mode = \"wb\"): download from 'https://www.inegi.org.mx/contenidos/programas/enoe/15ymas/microdatos/enoe_n_2021_trim1_csv.zip' failed\nTraceback:\n",
      "1. descargar_extraer(url, year_str, trim)",
      "2. download.file(url, zip_path, mode = \"wb\")",
      "3. .handleSimpleError(function (cnd) \n . {\n .     watcher$capture_plot_and_output()\n .     cnd <- sanitize_call(cnd)\n .     watcher$push(cnd)\n .     switch(on_error, continue = invokeRestart(\"eval_continue\"), \n .         stop = invokeRestart(\"eval_stop\"), error = NULL)\n . }, \"download from 'https://www.inegi.org.mx/contenidos/programas/enoe/15ymas/microdatos/enoe_n_2021_trim1_csv.zip' failed\", \n .     base::quote(download.file(url, zip_path, mode = \"wb\")))"
     ]
    }
   ],
   "source": [
    "invisible(descargar_enoe_csv())"
   ]
  },
  {
   "cell_type": "code",
   "execution_count": 25,
   "id": "67f0bbb2",
   "metadata": {
    "vscode": {
     "languageId": "r"
    }
   },
   "outputs": [],
   "source": [
    "load(\"Microdatos/data_list.RData\")"
   ]
  },
  {
   "cell_type": "code",
   "execution_count": null,
   "id": "4e4cab42",
   "metadata": {
    "vscode": {
     "languageId": "r"
    }
   },
   "outputs": [],
   "source": [
    "#Confirmar que la estructura de las listas de datos estén bien\n",
    "str(data_list$'2024'$'trim4'$'SDEM')"
   ]
  },
  {
   "cell_type": "markdown",
   "id": "04a1052b",
   "metadata": {},
   "source": [
    "Función para calcular población ocupada"
   ]
  },
  {
   "cell_type": "code",
   "execution_count": 31,
   "id": "83337105",
   "metadata": {
    "vscode": {
     "languageId": "r"
    }
   },
   "outputs": [],
   "source": [
    "po <- list()"
   ]
  },
  {
   "cell_type": "code",
   "execution_count": 32,
   "id": "3b5eda8c",
   "metadata": {
    "vscode": {
     "languageId": "r"
    }
   },
   "outputs": [],
   "source": [
    "#Define la función 'calculo_pea' que toma como argumento una lista de datos (data_list)\n",
    "calculo_po <- function(data_list) {\n",
    "  \n",
    "  # Itera sobre los años contenidos en la lista\n",
    "  for (year in names(data_list)) {\n",
    "    \n",
    "    # Itera sobre los trimestres contenidos dentro de cada año\n",
    "    for (trim in names(data_list[[year]])) {\n",
    "      \n",
    "      # Verifica que exista el elemento 'SDEM' dentro del trimestre actual; si no, pasa al siguiente\n",
    "      if (!'SDEM' %in% names(data_list[[year]][[trim]])) next\n",
    "      \n",
    "      # Extrae el dataframe 'SDEM', estandariza nombres, convierte edad a numérico y filtra:\n",
    "      # personas con respuesta definitiva (r_def == 0), residentes habituales (c_res 1 o 3),\n",
    "      # entre 15 y 98 años, y que pertenecen a la entidad 9 (CDMX)\n",
    "      df <- data_list[[year]][[trim]][['SDEM']] %>%\n",
    "        clean_names() %>%\n",
    "        mutate(edad = as.numeric(eda)) %>%\n",
    "        filter(r_def == 0, (c_res == 1 | c_res == 3), edad >= 15 & edad <= 98, ent == 9)\n",
    "      \n",
    "      # Filtra a la población ocupada (clase2 == 1),\n",
    "      # y calcula el total ponderado usando 'fac_tri'\n",
    "      po <- df %>%\n",
    "        filter(clase2 == 1) %>%\n",
    "        summarise(total_po = sum(fac_tri, na.rm = TRUE)) %>%\n",
    "        pull(total_po)\n",
    "      \n",
    "      # Guarda el resultado en una lista global llamada 'PEA' usando el nombre 'promedio_año_trimestre'\n",
    "      po[[paste0('promedio_', year, '_', trim)]] <<- tibble(\n",
    "        year = as.integer(year),\n",
    "        trimestre = trim,\n",
    "        total_po = po\n",
    "      )\n",
    "    }\n",
    "  }\n",
    "}\n",
    "\n",
    "# Ejecutar función sin mostrar resultados intermedios\n",
    "invisible(calculo_po(data_list))"
   ]
  },
  {
   "cell_type": "code",
   "execution_count": 33,
   "id": "0f6e78b2",
   "metadata": {
    "vscode": {
     "languageId": "r"
    }
   },
   "outputs": [],
   "source": [
    "po_final <- bind_rows(po) %>%\n",
    "  mutate(trimestre = factor(trimestre, levels = c('trim1', 'trim2', 'trim3', 'trim4'))) %>%\n",
    "  arrange(year, trimestre) "
   ]
  },
  {
   "cell_type": "code",
   "execution_count": 34,
   "id": "8d40137d",
   "metadata": {
    "vscode": {
     "languageId": "r"
    }
   },
   "outputs": [
    {
     "name": "stdout",
     "output_type": "stream",
     "text": [
      "\u001b[90m# A tibble: 17 × 3\u001b[39m\n",
      "    year trimestre total_po\n",
      "   \u001b[3m\u001b[90m<int>\u001b[39m\u001b[23m \u001b[3m\u001b[90m<fct>\u001b[39m\u001b[23m        \u001b[3m\u001b[90m<dbl>\u001b[39m\u001b[23m\n",
      "\u001b[90m 1\u001b[39m  \u001b[4m2\u001b[24m021 trim1      3\u001b[4m8\u001b[24m\u001b[4m7\u001b[24m\u001b[4m0\u001b[24m454\n",
      "\u001b[90m 2\u001b[39m  \u001b[4m2\u001b[24m021 trim2      4\u001b[4m1\u001b[24m\u001b[4m1\u001b[24m\u001b[4m7\u001b[24m427\n",
      "\u001b[90m 3\u001b[39m  \u001b[4m2\u001b[24m021 trim3      4\u001b[4m3\u001b[24m\u001b[4m9\u001b[24m\u001b[4m3\u001b[24m859\n",
      "\u001b[90m 4\u001b[39m  \u001b[4m2\u001b[24m021 trim4      4\u001b[4m4\u001b[24m\u001b[4m6\u001b[24m\u001b[4m5\u001b[24m106\n",
      "\u001b[90m 5\u001b[39m  \u001b[4m2\u001b[24m022 trim1      4\u001b[4m3\u001b[24m\u001b[4m8\u001b[24m\u001b[4m5\u001b[24m718\n",
      "\u001b[90m 6\u001b[39m  \u001b[4m2\u001b[24m022 trim2      4\u001b[4m5\u001b[24m\u001b[4m3\u001b[24m\u001b[4m4\u001b[24m376\n",
      "\u001b[90m 7\u001b[39m  \u001b[4m2\u001b[24m022 trim3      4\u001b[4m5\u001b[24m\u001b[4m4\u001b[24m\u001b[4m6\u001b[24m515\n",
      "\u001b[90m 8\u001b[39m  \u001b[4m2\u001b[24m022 trim4      4\u001b[4m6\u001b[24m\u001b[4m9\u001b[24m\u001b[4m8\u001b[24m174\n",
      "\u001b[90m 9\u001b[39m  \u001b[4m2\u001b[24m023 trim1      4\u001b[4m6\u001b[24m\u001b[4m9\u001b[24m\u001b[4m3\u001b[24m298\n",
      "\u001b[90m10\u001b[39m  \u001b[4m2\u001b[24m023 trim2      4\u001b[4m7\u001b[24m\u001b[4m0\u001b[24m\u001b[4m9\u001b[24m095\n",
      "\u001b[90m11\u001b[39m  \u001b[4m2\u001b[24m023 trim3      4\u001b[4m7\u001b[24m\u001b[4m1\u001b[24m\u001b[4m2\u001b[24m506\n",
      "\u001b[90m12\u001b[39m  \u001b[4m2\u001b[24m023 trim4      4\u001b[4m6\u001b[24m\u001b[4m5\u001b[24m\u001b[4m7\u001b[24m701\n",
      "\u001b[90m13\u001b[39m  \u001b[4m2\u001b[24m024 trim1      4\u001b[4m7\u001b[24m\u001b[4m1\u001b[24m\u001b[4m5\u001b[24m069\n",
      "\u001b[90m14\u001b[39m  \u001b[4m2\u001b[24m024 trim2      4\u001b[4m8\u001b[24m\u001b[4m3\u001b[24m\u001b[4m4\u001b[24m239\n",
      "\u001b[90m15\u001b[39m  \u001b[4m2\u001b[24m024 trim3      4\u001b[4m8\u001b[24m\u001b[4m9\u001b[24m\u001b[4m4\u001b[24m634\n",
      "\u001b[90m16\u001b[39m  \u001b[4m2\u001b[24m024 trim4      5\u001b[4m0\u001b[24m\u001b[4m1\u001b[24m\u001b[4m0\u001b[24m045\n",
      "\u001b[90m17\u001b[39m  \u001b[4m2\u001b[24m025 trim1      4\u001b[4m8\u001b[24m\u001b[4m9\u001b[24m\u001b[4m2\u001b[24m875\n"
     ]
    }
   ],
   "source": [
    "print(po_final)"
   ]
  },
  {
   "cell_type": "markdown",
   "id": "4adc5022",
   "metadata": {},
   "source": [
    "Cálculo con variable TCCO"
   ]
  },
  {
   "cell_type": "code",
   "execution_count": 36,
   "id": "506c9a70",
   "metadata": {
    "vscode": {
     "languageId": "r"
    }
   },
   "outputs": [],
   "source": [
    "tpo1 <- list()"
   ]
  },
  {
   "cell_type": "code",
   "execution_count": 37,
   "id": "fc1cda06",
   "metadata": {
    "vscode": {
     "languageId": "r"
    }
   },
   "outputs": [],
   "source": [
    "# PO que trabajan menos de 35 hrs a la semana por razones de mercado \n",
    "# Define la función 'calculo_pea' que toma como argumento una lista de datos (data_list)\n",
    "calculo_tpo1 <- function(data_list) {\n",
    "  \n",
    "  # Itera sobre los años contenidos en la lista\n",
    "  for (year in names(data_list)) {\n",
    "    \n",
    "    # Itera sobre los trimestres contenidos dentro de cada año\n",
    "    for (trim in names(data_list[[year]])) {\n",
    "      \n",
    "      # Verifica que exista el elemento 'SDEM' dentro del trimestre actual; si no, pasa al siguiente\n",
    "      if (!'SDEM' %in% names(data_list[[year]][[trim]])) next\n",
    "      \n",
    "      df <- data_list[[year]][[trim]][['SDEM']] %>%\n",
    "        clean_names() %>%\n",
    "        mutate(edad = as.numeric(eda)) %>%\n",
    "        filter(r_def == 0, (c_res == 1 | c_res == 3), edad >= 15 & edad <= 98, ent == 9, tcco == 1)\n",
    "      \n",
    "      tpo1 <- df %>%\n",
    "        filter(clase2 == 1,) %>%\n",
    "        summarise(total_tpo1 = sum(fac_tri, na.rm = TRUE)) %>%\n",
    "        pull(total_tpo1)\n",
    "      \n",
    "      # Guarda el resultado en una lista global llamada 'PEA' usando el nombre 'promedio_año_trimestre'\n",
    "      tpo1[[paste0('promedio_', year, '_', trim)]] <<- tibble(\n",
    "        year = as.integer(year),\n",
    "        trimestre = trim,\n",
    "        total_tpo1 = tpo1\n",
    "      )\n",
    "    }\n",
    "  }\n",
    "}\n",
    "\n",
    "# Ejecutar función sin mostrar resultados intermedios\n",
    "invisible(calculo_tpo1(data_list))"
   ]
  },
  {
   "cell_type": "code",
   "execution_count": 38,
   "id": "b0ae1c02",
   "metadata": {
    "vscode": {
     "languageId": "r"
    }
   },
   "outputs": [
    {
     "name": "stdout",
     "output_type": "stream",
     "text": [
      "\u001b[90m# A tibble: 17 × 3\u001b[39m\n",
      "    year trimestre total_tpo1\n",
      "   \u001b[3m\u001b[90m<int>\u001b[39m\u001b[23m \u001b[3m\u001b[90m<fct>\u001b[39m\u001b[23m          \u001b[3m\u001b[90m<dbl>\u001b[39m\u001b[23m\n",
      "\u001b[90m 1\u001b[39m  \u001b[4m2\u001b[24m021 trim1         \u001b[4m1\u001b[24m\u001b[4m3\u001b[24m\u001b[4m1\u001b[24m874\n",
      "\u001b[90m 2\u001b[39m  \u001b[4m2\u001b[24m021 trim2          \u001b[4m8\u001b[24m\u001b[4m2\u001b[24m616\n",
      "\u001b[90m 3\u001b[39m  \u001b[4m2\u001b[24m021 trim3          \u001b[4m9\u001b[24m\u001b[4m0\u001b[24m823\n",
      "\u001b[90m 4\u001b[39m  \u001b[4m2\u001b[24m021 trim4          \u001b[4m5\u001b[24m\u001b[4m9\u001b[24m882\n",
      "\u001b[90m 5\u001b[39m  \u001b[4m2\u001b[24m022 trim1          \u001b[4m2\u001b[24m\u001b[4m3\u001b[24m922\n",
      "\u001b[90m 6\u001b[39m  \u001b[4m2\u001b[24m022 trim2          \u001b[4m2\u001b[24m\u001b[4m0\u001b[24m805\n",
      "\u001b[90m 7\u001b[39m  \u001b[4m2\u001b[24m022 trim3           \u001b[4m1\u001b[24m894\n",
      "\u001b[90m 8\u001b[39m  \u001b[4m2\u001b[24m022 trim4          \u001b[4m1\u001b[24m\u001b[4m3\u001b[24m949\n",
      "\u001b[90m 9\u001b[39m  \u001b[4m2\u001b[24m023 trim1           \u001b[4m3\u001b[24m350\n",
      "\u001b[90m10\u001b[39m  \u001b[4m2\u001b[24m023 trim2           \u001b[4m7\u001b[24m612\n",
      "\u001b[90m11\u001b[39m  \u001b[4m2\u001b[24m023 trim3           \u001b[4m9\u001b[24m134\n",
      "\u001b[90m12\u001b[39m  \u001b[4m2\u001b[24m023 trim4           \u001b[4m5\u001b[24m434\n",
      "\u001b[90m13\u001b[39m  \u001b[4m2\u001b[24m024 trim1           \u001b[4m7\u001b[24m560\n",
      "\u001b[90m14\u001b[39m  \u001b[4m2\u001b[24m024 trim2          \u001b[4m1\u001b[24m\u001b[4m0\u001b[24m564\n",
      "\u001b[90m15\u001b[39m  \u001b[4m2\u001b[24m024 trim3          \u001b[4m1\u001b[24m\u001b[4m0\u001b[24m102\n",
      "\u001b[90m16\u001b[39m  \u001b[4m2\u001b[24m024 trim4           \u001b[4m5\u001b[24m108\n",
      "\u001b[90m17\u001b[39m  \u001b[4m2\u001b[24m025 trim1           \u001b[4m1\u001b[24m588\n"
     ]
    }
   ],
   "source": [
    "tpo1_final <- bind_rows(tpo1) %>%\n",
    "  mutate(trimestre = factor(trimestre, levels = c('trim1', 'trim2', 'trim3', 'trim4'))) %>%\n",
    "  arrange(year, trimestre) \n",
    "\n",
    "print(tpo1_final)"
   ]
  },
  {
   "cell_type": "markdown",
   "id": "1863651d",
   "metadata": {},
   "source": [
    "PO que trabajan más de 35 hrs a la semana con ingresos mensuales inferiores al salario mínimo "
   ]
  },
  {
   "cell_type": "code",
   "execution_count": 39,
   "id": "ab96511f",
   "metadata": {
    "vscode": {
     "languageId": "r"
    }
   },
   "outputs": [],
   "source": [
    "tpo2 <- list()"
   ]
  },
  {
   "cell_type": "markdown",
   "id": "0955b1f3",
   "metadata": {},
   "source": [
    "Función para calcular población económicamente activa"
   ]
  },
  {
   "cell_type": "code",
   "execution_count": 40,
   "id": "fed9aa73",
   "metadata": {
    "vscode": {
     "languageId": "r"
    }
   },
   "outputs": [],
   "source": [
    "# Define la función 'calculo_pea' que toma como argumento una lista de datos (data_list)\n",
    "calculo_tpo2 <- function(data_list) {\n",
    "  \n",
    "  # Itera sobre los años contenidos en la lista\n",
    "  for (year in names(data_list)) {\n",
    "    \n",
    "    # Itera sobre los trimestres contenidos dentro de cada año\n",
    "    for (trim in names(data_list[[year]])) {\n",
    "      \n",
    "      # Verifica que exista el elemento 'SDEM' dentro del trimestre actual; si no, pasa al siguiente\n",
    "      if (!'SDEM' %in% names(data_list[[year]][[trim]])) next\n",
    "      \n",
    "      df <- data_list[[year]][[trim]][['SDEM']] %>%\n",
    "        clean_names() %>%\n",
    "        mutate(edad = as.numeric(eda)) %>%\n",
    "        filter(r_def == 0, (c_res == 1 | c_res == 3), edad >= 15 & edad <= 98, ent == 9, tcco == 2)\n",
    "      \n",
    "      tpo2 <- df %>%\n",
    "        filter(clase2 == 1,) %>%\n",
    "        summarise(total_tpo2 = sum(fac_tri, na.rm = TRUE)) %>%\n",
    "        pull(total_tpo2)\n",
    "      \n",
    "      tpo2[[paste0('promedio_', year, '_', trim)]] <<- tibble(\n",
    "        year = as.integer(year),\n",
    "        trimestre = trim,\n",
    "        total_tpo2 = tpo2\n",
    "      )\n",
    "    }\n",
    "  }\n",
    "}\n",
    "\n",
    "# Ejecutar función sin mostrar resultados intermedios\n",
    "invisible(calculo_tpo2(data_list))"
   ]
  },
  {
   "cell_type": "code",
   "execution_count": 41,
   "id": "9499baa5",
   "metadata": {
    "vscode": {
     "languageId": "r"
    }
   },
   "outputs": [
    {
     "name": "stdout",
     "output_type": "stream",
     "text": [
      "\u001b[90m# A tibble: 17 × 3\u001b[39m\n",
      "    year trimestre total_tpo2\n",
      "   \u001b[3m\u001b[90m<int>\u001b[39m\u001b[23m \u001b[3m\u001b[90m<fct>\u001b[39m\u001b[23m          \u001b[3m\u001b[90m<dbl>\u001b[39m\u001b[23m\n",
      "\u001b[90m 1\u001b[39m  \u001b[4m2\u001b[24m021 trim1         \u001b[4m5\u001b[24m\u001b[4m6\u001b[24m\u001b[4m3\u001b[24m679\n",
      "\u001b[90m 2\u001b[39m  \u001b[4m2\u001b[24m021 trim2         \u001b[4m6\u001b[24m\u001b[4m7\u001b[24m\u001b[4m2\u001b[24m696\n",
      "\u001b[90m 3\u001b[39m  \u001b[4m2\u001b[24m021 trim3         \u001b[4m6\u001b[24m\u001b[4m6\u001b[24m\u001b[4m7\u001b[24m223\n",
      "\u001b[90m 4\u001b[39m  \u001b[4m2\u001b[24m021 trim4         \u001b[4m7\u001b[24m\u001b[4m0\u001b[24m\u001b[4m1\u001b[24m978\n",
      "\u001b[90m 5\u001b[39m  \u001b[4m2\u001b[24m022 trim1         \u001b[4m9\u001b[24m\u001b[4m0\u001b[24m\u001b[4m3\u001b[24m430\n",
      "\u001b[90m 6\u001b[39m  \u001b[4m2\u001b[24m022 trim2         \u001b[4m9\u001b[24m\u001b[4m4\u001b[24m\u001b[4m3\u001b[24m887\n",
      "\u001b[90m 7\u001b[39m  \u001b[4m2\u001b[24m022 trim3         \u001b[4m9\u001b[24m\u001b[4m3\u001b[24m\u001b[4m5\u001b[24m990\n",
      "\u001b[90m 8\u001b[39m  \u001b[4m2\u001b[24m022 trim4         \u001b[4m8\u001b[24m\u001b[4m5\u001b[24m\u001b[4m1\u001b[24m194\n",
      "\u001b[90m 9\u001b[39m  \u001b[4m2\u001b[24m023 trim1        1\u001b[4m0\u001b[24m\u001b[4m7\u001b[24m\u001b[4m3\u001b[24m442\n",
      "\u001b[90m10\u001b[39m  \u001b[4m2\u001b[24m023 trim2         \u001b[4m9\u001b[24m\u001b[4m8\u001b[24m\u001b[4m8\u001b[24m900\n",
      "\u001b[90m11\u001b[39m  \u001b[4m2\u001b[24m023 trim3        1\u001b[4m0\u001b[24m\u001b[4m5\u001b[24m\u001b[4m0\u001b[24m679\n",
      "\u001b[90m12\u001b[39m  \u001b[4m2\u001b[24m023 trim4         \u001b[4m9\u001b[24m\u001b[4m6\u001b[24m\u001b[4m1\u001b[24m403\n",
      "\u001b[90m13\u001b[39m  \u001b[4m2\u001b[24m024 trim1        1\u001b[4m0\u001b[24m\u001b[4m5\u001b[24m\u001b[4m0\u001b[24m374\n",
      "\u001b[90m14\u001b[39m  \u001b[4m2\u001b[24m024 trim2        1\u001b[4m0\u001b[24m\u001b[4m0\u001b[24m\u001b[4m9\u001b[24m082\n",
      "\u001b[90m15\u001b[39m  \u001b[4m2\u001b[24m024 trim3        1\u001b[4m0\u001b[24m\u001b[4m4\u001b[24m\u001b[4m1\u001b[24m935\n",
      "\u001b[90m16\u001b[39m  \u001b[4m2\u001b[24m024 trim4         \u001b[4m9\u001b[24m\u001b[4m2\u001b[24m\u001b[4m0\u001b[24m596\n",
      "\u001b[90m17\u001b[39m  \u001b[4m2\u001b[24m025 trim1        1\u001b[4m0\u001b[24m\u001b[4m6\u001b[24m\u001b[4m8\u001b[24m465\n"
     ]
    }
   ],
   "source": [
    "tpo2_final <- bind_rows(tpo2) %>%\n",
    "  mutate(trimestre = factor(trimestre, levels = c('trim1', 'trim2', 'trim3', 'trim4'))) %>%\n",
    "  arrange(year, trimestre) \n",
    "\n",
    "print(tpo2_final)"
   ]
  },
  {
   "cell_type": "markdown",
   "id": "a5633f81",
   "metadata": {},
   "source": [
    "PO que trabajan más de 48 hrs a la semana ganando hasta dos salarios mínimos\n"
   ]
  },
  {
   "cell_type": "code",
   "execution_count": 42,
   "id": "e813a882",
   "metadata": {
    "vscode": {
     "languageId": "r"
    }
   },
   "outputs": [],
   "source": [
    "tpo3 <- list()"
   ]
  },
  {
   "cell_type": "markdown",
   "id": "ccbba1a1",
   "metadata": {},
   "source": [
    "Función para calcular población económicamente activa"
   ]
  },
  {
   "cell_type": "code",
   "execution_count": 43,
   "id": "a5157029",
   "metadata": {
    "vscode": {
     "languageId": "r"
    }
   },
   "outputs": [],
   "source": [
    "# Define la función 'calculo_pea' que toma como argumento una lista de datos (data_list)\n",
    "calculo_tpo3 <- function(data_list) {\n",
    "  \n",
    "  # Itera sobre los años contenidos en la lista\n",
    "  for (year in names(data_list)) {\n",
    "    \n",
    "    # Itera sobre los trimestres contenidos dentro de cada año\n",
    "    for (trim in names(data_list[[year]])) {\n",
    "      \n",
    "      # Verifica que exista el elemento 'SDEM' dentro del trimestre actual; si no, pasa al siguiente\n",
    "      if (!'SDEM' %in% names(data_list[[year]][[trim]])) next\n",
    "      \n",
    "      df <- data_list[[year]][[trim]][['SDEM']] %>%\n",
    "        clean_names() %>%\n",
    "        mutate(edad = as.numeric(eda)) %>%\n",
    "        filter(r_def == 0, (c_res == 1 | c_res == 3), edad >= 15 & edad <= 98, ent == 9, tcco == 3)\n",
    "      \n",
    "      tpo3 <- df %>%\n",
    "        filter(clase2 == 1,) %>%\n",
    "        summarise(total_tpo3 = sum(fac_tri, na.rm = TRUE)) %>%\n",
    "        pull(total_tpo3)\n",
    "      \n",
    "      tpo3[[paste0('promedio_', year, '_', trim)]] <<- tibble(\n",
    "        year = as.integer(year),\n",
    "        trimestre = trim,\n",
    "        total_tpo3 = tpo3\n",
    "      )\n",
    "    }\n",
    "  }\n",
    "}\n",
    "\n",
    "# Ejecutar función sin mostrar resultados intermedios\n",
    "invisible(calculo_tpo3(data_list))"
   ]
  },
  {
   "cell_type": "code",
   "execution_count": 44,
   "id": "ff5d8039",
   "metadata": {
    "vscode": {
     "languageId": "r"
    }
   },
   "outputs": [
    {
     "name": "stdout",
     "output_type": "stream",
     "text": [
      "\u001b[90m# A tibble: 17 × 3\u001b[39m\n",
      "    year trimestre total_tpo3\n",
      "   \u001b[3m\u001b[90m<int>\u001b[39m\u001b[23m \u001b[3m\u001b[90m<fct>\u001b[39m\u001b[23m          \u001b[3m\u001b[90m<dbl>\u001b[39m\u001b[23m\n",
      "\u001b[90m 1\u001b[39m  \u001b[4m2\u001b[24m021 trim1         \u001b[4m3\u001b[24m\u001b[4m2\u001b[24m\u001b[4m1\u001b[24m314\n",
      "\u001b[90m 2\u001b[39m  \u001b[4m2\u001b[24m021 trim2         \u001b[4m3\u001b[24m\u001b[4m8\u001b[24m\u001b[4m5\u001b[24m308\n",
      "\u001b[90m 3\u001b[39m  \u001b[4m2\u001b[24m021 trim3         \u001b[4m4\u001b[24m\u001b[4m6\u001b[24m\u001b[4m7\u001b[24m880\n",
      "\u001b[90m 4\u001b[39m  \u001b[4m2\u001b[24m021 trim4         \u001b[4m4\u001b[24m\u001b[4m4\u001b[24m\u001b[4m6\u001b[24m623\n",
      "\u001b[90m 5\u001b[39m  \u001b[4m2\u001b[24m022 trim1         \u001b[4m4\u001b[24m\u001b[4m3\u001b[24m\u001b[4m7\u001b[24m399\n",
      "\u001b[90m 6\u001b[39m  \u001b[4m2\u001b[24m022 trim2         \u001b[4m5\u001b[24m\u001b[4m0\u001b[24m\u001b[4m3\u001b[24m324\n",
      "\u001b[90m 7\u001b[39m  \u001b[4m2\u001b[24m022 trim3         \u001b[4m4\u001b[24m\u001b[4m4\u001b[24m\u001b[4m6\u001b[24m272\n",
      "\u001b[90m 8\u001b[39m  \u001b[4m2\u001b[24m022 trim4         \u001b[4m5\u001b[24m\u001b[4m0\u001b[24m\u001b[4m8\u001b[24m024\n",
      "\u001b[90m 9\u001b[39m  \u001b[4m2\u001b[24m023 trim1         \u001b[4m4\u001b[24m\u001b[4m5\u001b[24m\u001b[4m0\u001b[24m708\n",
      "\u001b[90m10\u001b[39m  \u001b[4m2\u001b[24m023 trim2         \u001b[4m4\u001b[24m\u001b[4m5\u001b[24m\u001b[4m5\u001b[24m084\n",
      "\u001b[90m11\u001b[39m  \u001b[4m2\u001b[24m023 trim3         \u001b[4m4\u001b[24m\u001b[4m6\u001b[24m\u001b[4m6\u001b[24m355\n",
      "\u001b[90m12\u001b[39m  \u001b[4m2\u001b[24m023 trim4         \u001b[4m5\u001b[24m\u001b[4m1\u001b[24m\u001b[4m8\u001b[24m503\n",
      "\u001b[90m13\u001b[39m  \u001b[4m2\u001b[24m024 trim1         \u001b[4m4\u001b[24m\u001b[4m9\u001b[24m\u001b[4m2\u001b[24m740\n",
      "\u001b[90m14\u001b[39m  \u001b[4m2\u001b[24m024 trim2         \u001b[4m4\u001b[24m\u001b[4m3\u001b[24m\u001b[4m9\u001b[24m753\n",
      "\u001b[90m15\u001b[39m  \u001b[4m2\u001b[24m024 trim3         \u001b[4m4\u001b[24m\u001b[4m7\u001b[24m\u001b[4m6\u001b[24m097\n",
      "\u001b[90m16\u001b[39m  \u001b[4m2\u001b[24m024 trim4         \u001b[4m4\u001b[24m\u001b[4m6\u001b[24m\u001b[4m6\u001b[24m626\n",
      "\u001b[90m17\u001b[39m  \u001b[4m2\u001b[24m025 trim1         \u001b[4m4\u001b[24m\u001b[4m3\u001b[24m\u001b[4m8\u001b[24m933\n"
     ]
    }
   ],
   "source": [
    "tpo3_final <- bind_rows(tpo3) %>%\n",
    "  mutate(trimestre = factor(trimestre, levels = c('trim1', 'trim2', 'trim3', 'trim4'))) %>%\n",
    "  arrange(year, trimestre) \n",
    "\n",
    "print(tpo3_final)"
   ]
  },
  {
   "cell_type": "code",
   "execution_count": 45,
   "id": "68fa39cc",
   "metadata": {
    "vscode": {
     "languageId": "r"
    }
   },
   "outputs": [
    {
     "data": {
      "text/html": [
       "<table class=\"dataframe\">\n",
       "<caption>A tibble: 6 × 6</caption>\n",
       "<thead>\n",
       "\t<tr><th scope=col>year</th><th scope=col>trimestre</th><th scope=col>total_po</th><th scope=col>total_tpo1</th><th scope=col>total_tpo2</th><th scope=col>total_tpo3</th></tr>\n",
       "\t<tr><th scope=col>&lt;int&gt;</th><th scope=col>&lt;fct&gt;</th><th scope=col>&lt;dbl&gt;</th><th scope=col>&lt;dbl&gt;</th><th scope=col>&lt;dbl&gt;</th><th scope=col>&lt;dbl&gt;</th></tr>\n",
       "</thead>\n",
       "<tbody>\n",
       "\t<tr><td>2021</td><td>trim1</td><td>3870454</td><td>131874</td><td>563679</td><td>321314</td></tr>\n",
       "\t<tr><td>2021</td><td>trim2</td><td>4117427</td><td> 82616</td><td>672696</td><td>385308</td></tr>\n",
       "\t<tr><td>2021</td><td>trim3</td><td>4393859</td><td> 90823</td><td>667223</td><td>467880</td></tr>\n",
       "\t<tr><td>2021</td><td>trim4</td><td>4465106</td><td> 59882</td><td>701978</td><td>446623</td></tr>\n",
       "\t<tr><td>2022</td><td>trim1</td><td>4385718</td><td> 23922</td><td>903430</td><td>437399</td></tr>\n",
       "\t<tr><td>2022</td><td>trim2</td><td>4534376</td><td> 20805</td><td>943887</td><td>503324</td></tr>\n",
       "</tbody>\n",
       "</table>\n"
      ],
      "text/latex": [
       "A tibble: 6 × 6\n",
       "\\begin{tabular}{llllll}\n",
       " year & trimestre & total\\_po & total\\_tpo1 & total\\_tpo2 & total\\_tpo3\\\\\n",
       " <int> & <fct> & <dbl> & <dbl> & <dbl> & <dbl>\\\\\n",
       "\\hline\n",
       "\t 2021 & trim1 & 3870454 & 131874 & 563679 & 321314\\\\\n",
       "\t 2021 & trim2 & 4117427 &  82616 & 672696 & 385308\\\\\n",
       "\t 2021 & trim3 & 4393859 &  90823 & 667223 & 467880\\\\\n",
       "\t 2021 & trim4 & 4465106 &  59882 & 701978 & 446623\\\\\n",
       "\t 2022 & trim1 & 4385718 &  23922 & 903430 & 437399\\\\\n",
       "\t 2022 & trim2 & 4534376 &  20805 & 943887 & 503324\\\\\n",
       "\\end{tabular}\n"
      ],
      "text/markdown": [
       "\n",
       "A tibble: 6 × 6\n",
       "\n",
       "| year &lt;int&gt; | trimestre &lt;fct&gt; | total_po &lt;dbl&gt; | total_tpo1 &lt;dbl&gt; | total_tpo2 &lt;dbl&gt; | total_tpo3 &lt;dbl&gt; |\n",
       "|---|---|---|---|---|---|\n",
       "| 2021 | trim1 | 3870454 | 131874 | 563679 | 321314 |\n",
       "| 2021 | trim2 | 4117427 |  82616 | 672696 | 385308 |\n",
       "| 2021 | trim3 | 4393859 |  90823 | 667223 | 467880 |\n",
       "| 2021 | trim4 | 4465106 |  59882 | 701978 | 446623 |\n",
       "| 2022 | trim1 | 4385718 |  23922 | 903430 | 437399 |\n",
       "| 2022 | trim2 | 4534376 |  20805 | 943887 | 503324 |\n",
       "\n"
      ],
      "text/plain": [
       "  year trimestre total_po total_tpo1 total_tpo2 total_tpo3\n",
       "1 2021 trim1     3870454  131874     563679     321314    \n",
       "2 2021 trim2     4117427   82616     672696     385308    \n",
       "3 2021 trim3     4393859   90823     667223     467880    \n",
       "4 2021 trim4     4465106   59882     701978     446623    \n",
       "5 2022 trim1     4385718   23922     903430     437399    \n",
       "6 2022 trim2     4534376   20805     943887     503324    "
      ]
     },
     "metadata": {},
     "output_type": "display_data"
    }
   ],
   "source": [
    "tpo_datos <- po_final %>%\n",
    "  # Unir con po1_final por 'year' y 'trimestre'\n",
    "  left_join(select(tpo1_final, year, trimestre, total_tpo1), by = c(\"year\", \"trimestre\")) %>%\n",
    "  # Unir con po2_final\n",
    "  left_join(select(tpo2_final, year, trimestre, total_tpo2), by = c(\"year\", \"trimestre\")) %>%\n",
    "  # Unir con po3_final\n",
    "  left_join(select(tpo3_final, year, trimestre, total_tpo3), by = c(\"year\", \"trimestre\"))\n",
    "\n",
    "# Visualizar los primeros registros del nuevo data frame combinado\n",
    "head(tpo_datos)"
   ]
  },
  {
   "cell_type": "code",
   "execution_count": 48,
   "id": "6cacf83a",
   "metadata": {
    "vscode": {
     "languageId": "r"
    }
   },
   "outputs": [
    {
     "data": {
      "text/html": [
       "<table class=\"dataframe\">\n",
       "<caption>A tibble: 6 × 8</caption>\n",
       "<thead>\n",
       "\t<tr><th scope=col>year</th><th scope=col>trimestre</th><th scope=col>total_po</th><th scope=col>total_tpo1</th><th scope=col>total_tpo2</th><th scope=col>total_tpo3</th><th scope=col>suma</th><th scope=col>indicador</th></tr>\n",
       "\t<tr><th scope=col>&lt;int&gt;</th><th scope=col>&lt;fct&gt;</th><th scope=col>&lt;dbl&gt;</th><th scope=col>&lt;dbl&gt;</th><th scope=col>&lt;dbl&gt;</th><th scope=col>&lt;dbl&gt;</th><th scope=col>&lt;dbl&gt;</th><th scope=col>&lt;dbl&gt;</th></tr>\n",
       "</thead>\n",
       "<tbody>\n",
       "\t<tr><td>2021</td><td>trim1</td><td>3870454</td><td>131874</td><td>563679</td><td>321314</td><td>1016867</td><td>26.27255</td></tr>\n",
       "\t<tr><td>2021</td><td>trim2</td><td>4117427</td><td> 82616</td><td>672696</td><td>385308</td><td>1140620</td><td>27.70225</td></tr>\n",
       "\t<tr><td>2021</td><td>trim3</td><td>4393859</td><td> 90823</td><td>667223</td><td>467880</td><td>1225926</td><td>27.90090</td></tr>\n",
       "\t<tr><td>2021</td><td>trim4</td><td>4465106</td><td> 59882</td><td>701978</td><td>446623</td><td>1208483</td><td>27.06505</td></tr>\n",
       "\t<tr><td>2022</td><td>trim1</td><td>4385718</td><td> 23922</td><td>903430</td><td>437399</td><td>1364751</td><td>31.11807</td></tr>\n",
       "\t<tr><td>2022</td><td>trim2</td><td>4534376</td><td> 20805</td><td>943887</td><td>503324</td><td>1468016</td><td>32.37526</td></tr>\n",
       "</tbody>\n",
       "</table>\n"
      ],
      "text/latex": [
       "A tibble: 6 × 8\n",
       "\\begin{tabular}{llllllll}\n",
       " year & trimestre & total\\_po & total\\_tpo1 & total\\_tpo2 & total\\_tpo3 & suma & indicador\\\\\n",
       " <int> & <fct> & <dbl> & <dbl> & <dbl> & <dbl> & <dbl> & <dbl>\\\\\n",
       "\\hline\n",
       "\t 2021 & trim1 & 3870454 & 131874 & 563679 & 321314 & 1016867 & 26.27255\\\\\n",
       "\t 2021 & trim2 & 4117427 &  82616 & 672696 & 385308 & 1140620 & 27.70225\\\\\n",
       "\t 2021 & trim3 & 4393859 &  90823 & 667223 & 467880 & 1225926 & 27.90090\\\\\n",
       "\t 2021 & trim4 & 4465106 &  59882 & 701978 & 446623 & 1208483 & 27.06505\\\\\n",
       "\t 2022 & trim1 & 4385718 &  23922 & 903430 & 437399 & 1364751 & 31.11807\\\\\n",
       "\t 2022 & trim2 & 4534376 &  20805 & 943887 & 503324 & 1468016 & 32.37526\\\\\n",
       "\\end{tabular}\n"
      ],
      "text/markdown": [
       "\n",
       "A tibble: 6 × 8\n",
       "\n",
       "| year &lt;int&gt; | trimestre &lt;fct&gt; | total_po &lt;dbl&gt; | total_tpo1 &lt;dbl&gt; | total_tpo2 &lt;dbl&gt; | total_tpo3 &lt;dbl&gt; | suma &lt;dbl&gt; | indicador &lt;dbl&gt; |\n",
       "|---|---|---|---|---|---|---|---|\n",
       "| 2021 | trim1 | 3870454 | 131874 | 563679 | 321314 | 1016867 | 26.27255 |\n",
       "| 2021 | trim2 | 4117427 |  82616 | 672696 | 385308 | 1140620 | 27.70225 |\n",
       "| 2021 | trim3 | 4393859 |  90823 | 667223 | 467880 | 1225926 | 27.90090 |\n",
       "| 2021 | trim4 | 4465106 |  59882 | 701978 | 446623 | 1208483 | 27.06505 |\n",
       "| 2022 | trim1 | 4385718 |  23922 | 903430 | 437399 | 1364751 | 31.11807 |\n",
       "| 2022 | trim2 | 4534376 |  20805 | 943887 | 503324 | 1468016 | 32.37526 |\n",
       "\n"
      ],
      "text/plain": [
       "  year trimestre total_po total_tpo1 total_tpo2 total_tpo3 suma    indicador\n",
       "1 2021 trim1     3870454  131874     563679     321314     1016867 26.27255 \n",
       "2 2021 trim2     4117427   82616     672696     385308     1140620 27.70225 \n",
       "3 2021 trim3     4393859   90823     667223     467880     1225926 27.90090 \n",
       "4 2021 trim4     4465106   59882     701978     446623     1208483 27.06505 \n",
       "5 2022 trim1     4385718   23922     903430     437399     1364751 31.11807 \n",
       "6 2022 trim2     4534376   20805     943887     503324     1468016 32.37526 "
      ]
     },
     "metadata": {},
     "output_type": "display_data"
    }
   ],
   "source": [
    "tpo_datos <- tpo_datos %>%\n",
    "  mutate(\n",
    "    suma = total_tpo1 + total_tpo2 + total_tpo3,\n",
    "    indicador = (suma / total_po) * 100\n",
    "  )\n",
    "\n",
    "head(tpo_datos)"
   ]
  },
  {
   "cell_type": "markdown",
   "id": "c050919f",
   "metadata": {},
   "source": [
    "Índice de productividad \n",
    "\n",
    "Relación(cociente) entre el índice de valor agregado respecto del índice de personas ocupadas. (Metodología de INEGI(2019) del índice de global de productividad laboral de la economía por personas ocupadas)"
   ]
  },
  {
   "cell_type": "code",
   "execution_count": 4,
   "id": "e7d27e07",
   "metadata": {
    "vscode": {
     "languageId": "r"
    }
   },
   "outputs": [],
   "source": [
    "#Se cargan las paqueterías y librerías\n",
    "if(! require('pacman')) install.packages('pacman')\n",
    "pacman::p_load(tidyverse, srvyr, janitor, stringr, readxl, writexl, tools, dplyr, jsonlite)"
   ]
  },
  {
   "cell_type": "markdown",
   "id": "9d70a594",
   "metadata": {},
   "source": [
    "Calculamos el Índice del Valor Agregado Bruto de la Ciudad de México\n",
    "Los datos que se ocuparán serán extraídos desde la API de banco de indicadores del INEGI, la cual se puede conseultar aquí: https://www.inegi.org.mx/servicios/api_indicadores.html . Para su uso, se debe generar un token, el cual es personal. Una vez generado, deberá introducir en la siguiente parte del código. \n"
   ]
  },
  {
   "cell_type": "code",
   "execution_count": null,
   "id": "f0f8de86",
   "metadata": {
    "vscode": {
     "languageId": "r"
    }
   },
   "outputs": [
    {
     "data": {
      "text/html": [
       "'https://www.inegi.org.mx/app/api/indicadores/desarrolladores/jsonxml/INDICATOR/746172/es/0700/false/BIE/2.0/c0199ed6-cc32-7f4c-d1f8-7ceea1894695?type=json'"
      ],
      "text/latex": [
       "'https://www.inegi.org.mx/app/api/indicadores/desarrolladores/jsonxml/INDICATOR/746172/es/0700/false/BIE/2.0/c0199ed6-cc32-7f4c-d1f8-7ceea1894695?type=json'"
      ],
      "text/markdown": [
       "'https://www.inegi.org.mx/app/api/indicadores/desarrolladores/jsonxml/INDICATOR/746172/es/0700/false/BIE/2.0/c0199ed6-cc32-7f4c-d1f8-7ceea1894695?type=json'"
      ],
      "text/plain": [
       "[1] \"https://www.inegi.org.mx/app/api/indicadores/desarrolladores/jsonxml/INDICATOR/746172/es/0700/false/BIE/2.0/c0199ed6-cc32-7f4c-d1f8-7ceea1894695?type=json\""
      ]
     },
     "metadata": {},
     "output_type": "display_data"
    }
   ],
   "source": [
    "#Introducir token generado por la API de INEGI (es personal)\n",
    "token <-  \"¡Coloca aquí tu Toke! :D\"\n",
    "#construye la URL \n",
    "url <- paste0(\"https://www.inegi.org.mx/app/api/indicadores/desarrolladores/jsonxml/INDICATOR/746172/es/0700/false/BIE/2.0/\", token, \"?type=json\")\n",
    "\n",
    "url"
   ]
  },
  {
   "cell_type": "code",
   "execution_count": 10,
   "id": "4feecbb1",
   "metadata": {
    "vscode": {
     "languageId": "r"
    }
   },
   "outputs": [],
   "source": [
    "json3 <- fromJSON(url)\n",
    "series <- as.data.frame(json3$Series)\n",
    "observations <- bind_rows(series$OBSERVATIONS, .id = \"parent_row\")\n",
    "datos_vac <- observations %>% select(TIME_PERIOD, OBS_VALUE)"
   ]
  },
  {
   "cell_type": "markdown",
   "id": "26f74cb2",
   "metadata": {},
   "source": [
    "Se descargan y transforman los datos"
   ]
  },
  {
   "cell_type": "markdown",
   "id": "9c3f4df3",
   "metadata": {},
   "source": [
    "¡Se ordenan y filtran los datos!\n",
    "Se realiza el cálculo del índice del Valor Agregado para la Ciudad de México, el cual corresponde al cociente del Valor Agregado a precios constantes (de 2018) entre el promedio anual del Valor Agregado en el año base."
   ]
  },
  {
   "cell_type": "code",
   "execution_count": 11,
   "id": "9fc43bf7",
   "metadata": {
    "vscode": {
     "languageId": "r"
    }
   },
   "outputs": [],
   "source": [
    "datos_vac <- datos_vac %>%\n",
    "  arrange(TIME_PERIOD) %>%\n",
    "  rename(\"año\" = TIME_PERIOD) %>%\n",
    "  rename(\"va\"=OBS_VALUE) %>%\n",
    "  mutate(va = as.numeric(va)) %>%\n",
    "  filter(año %in% c(2018:2025)) %>%\n",
    "  mutate(base = first(va)) %>%\n",
    "  mutate(iva = (va/base)*100)  #Se calcula el índice de valor agregado"
   ]
  },
  {
   "cell_type": "code",
   "execution_count": 12,
   "id": "75a398de",
   "metadata": {
    "vscode": {
     "languageId": "r"
    }
   },
   "outputs": [
    {
     "data": {
      "text/html": [
       "<table class=\"dataframe\">\n",
       "<caption>A data.frame: 6 × 4</caption>\n",
       "<thead>\n",
       "\t<tr><th></th><th scope=col>año</th><th scope=col>va</th><th scope=col>base</th><th scope=col>iva</th></tr>\n",
       "\t<tr><th></th><th scope=col>&lt;chr&gt;</th><th scope=col>&lt;dbl&gt;</th><th scope=col>&lt;dbl&gt;</th><th scope=col>&lt;dbl&gt;</th></tr>\n",
       "</thead>\n",
       "<tbody>\n",
       "\t<tr><th scope=row>1</th><td>2018</td><td>3482680</td><td>3482680</td><td>100.00000</td></tr>\n",
       "\t<tr><th scope=row>2</th><td>2019</td><td>3468776</td><td>3482680</td><td> 99.60077</td></tr>\n",
       "\t<tr><th scope=row>3</th><td>2020</td><td>3112253</td><td>3482680</td><td> 89.36374</td></tr>\n",
       "\t<tr><th scope=row>4</th><td>2021</td><td>3297839</td><td>3482680</td><td> 94.69255</td></tr>\n",
       "\t<tr><th scope=row>5</th><td>2022</td><td>3434238</td><td>3482680</td><td> 98.60905</td></tr>\n",
       "\t<tr><th scope=row>6</th><td>2023</td><td>3581342</td><td>3482680</td><td>102.83292</td></tr>\n",
       "</tbody>\n",
       "</table>\n"
      ],
      "text/latex": [
       "A data.frame: 6 × 4\n",
       "\\begin{tabular}{r|llll}\n",
       "  & año & va & base & iva\\\\\n",
       "  & <chr> & <dbl> & <dbl> & <dbl>\\\\\n",
       "\\hline\n",
       "\t1 & 2018 & 3482680 & 3482680 & 100.00000\\\\\n",
       "\t2 & 2019 & 3468776 & 3482680 &  99.60077\\\\\n",
       "\t3 & 2020 & 3112253 & 3482680 &  89.36374\\\\\n",
       "\t4 & 2021 & 3297839 & 3482680 &  94.69255\\\\\n",
       "\t5 & 2022 & 3434238 & 3482680 &  98.60905\\\\\n",
       "\t6 & 2023 & 3581342 & 3482680 & 102.83292\\\\\n",
       "\\end{tabular}\n"
      ],
      "text/markdown": [
       "\n",
       "A data.frame: 6 × 4\n",
       "\n",
       "| <!--/--> | año &lt;chr&gt; | va &lt;dbl&gt; | base &lt;dbl&gt; | iva &lt;dbl&gt; |\n",
       "|---|---|---|---|---|\n",
       "| 1 | 2018 | 3482680 | 3482680 | 100.00000 |\n",
       "| 2 | 2019 | 3468776 | 3482680 |  99.60077 |\n",
       "| 3 | 2020 | 3112253 | 3482680 |  89.36374 |\n",
       "| 4 | 2021 | 3297839 | 3482680 |  94.69255 |\n",
       "| 5 | 2022 | 3434238 | 3482680 |  98.60905 |\n",
       "| 6 | 2023 | 3581342 | 3482680 | 102.83292 |\n",
       "\n"
      ],
      "text/plain": [
       "  año  va      base    iva      \n",
       "1 2018 3482680 3482680 100.00000\n",
       "2 2019 3468776 3482680  99.60077\n",
       "3 2020 3112253 3482680  89.36374\n",
       "4 2021 3297839 3482680  94.69255\n",
       "5 2022 3434238 3482680  98.60905\n",
       "6 2023 3581342 3482680 102.83292"
      ]
     },
     "metadata": {},
     "output_type": "display_data"
    }
   ],
   "source": [
    "head(datos_vac)"
   ]
  },
  {
   "cell_type": "markdown",
   "id": "4c227bb3",
   "metadata": {},
   "source": [
    "Cálculo del Índice del Producto Interno Bruto (IPIB). \n",
    "Se descargan los datos. Posteriormente, se calcula el índice, el cual es igual al PIB a precios constantes (base 2018) en el trimestre (para nivel entidad es anual) entre el promedio anual del PIB total en el año base (2018)."
   ]
  },
  {
   "cell_type": "code",
   "execution_count": null,
   "id": "0166b69e",
   "metadata": {
    "vscode": {
     "languageId": "r"
    }
   },
   "outputs": [],
   "source": [
    "token <- \"¡Coloca aquí tu Toke! :D\"\n",
    "url <- paste0(\"https://www.inegi.org.mx/app/api/indicadores/desarrolladores/jsonxml/INDICATOR/746106/es/0700/false/BIE/2.0/\", token, \"?type=json\")"
   ]
  },
  {
   "cell_type": "markdown",
   "id": "340d5e93",
   "metadata": {},
   "source": [
    "Se extraen los datos que se requieren"
   ]
  },
  {
   "cell_type": "code",
   "execution_count": 14,
   "id": "85e956d0",
   "metadata": {
    "vscode": {
     "languageId": "r"
    }
   },
   "outputs": [],
   "source": [
    "# Descarga y transforma los datos\n",
    "datos_json <- fromJSON(url)\n",
    "series <- datos_json$Series\n",
    "observations <- bind_rows(series$OBSERVATIONS, .id = \"parent_row\")\n",
    "datos_pib <- observations %>% select(TIME_PERIOD, OBS_VALUE)"
   ]
  },
  {
   "cell_type": "code",
   "execution_count": 15,
   "id": "7ec02ac6",
   "metadata": {
    "vscode": {
     "languageId": "r"
    }
   },
   "outputs": [
    {
     "data": {
      "text/html": [
       "<table class=\"dataframe\">\n",
       "<caption>A data.frame: 6 × 2</caption>\n",
       "<thead>\n",
       "\t<tr><th></th><th scope=col>TIME_PERIOD</th><th scope=col>OBS_VALUE</th></tr>\n",
       "\t<tr><th></th><th scope=col>&lt;chr&gt;</th><th scope=col>&lt;chr&gt;</th></tr>\n",
       "</thead>\n",
       "<tbody>\n",
       "\t<tr><th scope=row>1</th><td>2023</td><td>3806082.926</td></tr>\n",
       "\t<tr><th scope=row>2</th><td>2022</td><td>3650609.372</td></tr>\n",
       "\t<tr><th scope=row>3</th><td>2021</td><td>3496055.811</td></tr>\n",
       "\t<tr><th scope=row>4</th><td>2020</td><td>3293855.308</td></tr>\n",
       "\t<tr><th scope=row>5</th><td>2019</td><td>3679917.346</td></tr>\n",
       "\t<tr><th scope=row>6</th><td>2018</td><td>3694574.874</td></tr>\n",
       "</tbody>\n",
       "</table>\n"
      ],
      "text/latex": [
       "A data.frame: 6 × 2\n",
       "\\begin{tabular}{r|ll}\n",
       "  & TIME\\_PERIOD & OBS\\_VALUE\\\\\n",
       "  & <chr> & <chr>\\\\\n",
       "\\hline\n",
       "\t1 & 2023 & 3806082.926\\\\\n",
       "\t2 & 2022 & 3650609.372\\\\\n",
       "\t3 & 2021 & 3496055.811\\\\\n",
       "\t4 & 2020 & 3293855.308\\\\\n",
       "\t5 & 2019 & 3679917.346\\\\\n",
       "\t6 & 2018 & 3694574.874\\\\\n",
       "\\end{tabular}\n"
      ],
      "text/markdown": [
       "\n",
       "A data.frame: 6 × 2\n",
       "\n",
       "| <!--/--> | TIME_PERIOD &lt;chr&gt; | OBS_VALUE &lt;chr&gt; |\n",
       "|---|---|---|\n",
       "| 1 | 2023 | 3806082.926 |\n",
       "| 2 | 2022 | 3650609.372 |\n",
       "| 3 | 2021 | 3496055.811 |\n",
       "| 4 | 2020 | 3293855.308 |\n",
       "| 5 | 2019 | 3679917.346 |\n",
       "| 6 | 2018 | 3694574.874 |\n",
       "\n"
      ],
      "text/plain": [
       "  TIME_PERIOD OBS_VALUE  \n",
       "1 2023        3806082.926\n",
       "2 2022        3650609.372\n",
       "3 2021        3496055.811\n",
       "4 2020        3293855.308\n",
       "5 2019        3679917.346\n",
       "6 2018        3694574.874"
      ]
     },
     "metadata": {},
     "output_type": "display_data"
    }
   ],
   "source": [
    "# Vista previa\n",
    "head(datos_pib)"
   ]
  },
  {
   "cell_type": "markdown",
   "id": "f7358fd3",
   "metadata": {},
   "source": [
    "Se ordenan y filtran los datos. Y se calcula el IPIB"
   ]
  },
  {
   "cell_type": "code",
   "execution_count": 16,
   "id": "9892437f",
   "metadata": {
    "vscode": {
     "languageId": "r"
    }
   },
   "outputs": [
    {
     "data": {
      "text/html": [
       "<table class=\"dataframe\">\n",
       "<caption>A data.frame: 6 × 4</caption>\n",
       "<thead>\n",
       "\t<tr><th></th><th scope=col>a</th><th scope=col>pibe</th><th scope=col>base</th><th scope=col>ipibe</th></tr>\n",
       "\t<tr><th></th><th scope=col>&lt;chr&gt;</th><th scope=col>&lt;dbl&gt;</th><th scope=col>&lt;dbl&gt;</th><th scope=col>&lt;dbl&gt;</th></tr>\n",
       "</thead>\n",
       "<tbody>\n",
       "\t<tr><th scope=row>1</th><td>2018</td><td>3694575</td><td>3694575</td><td>100.00000</td></tr>\n",
       "\t<tr><th scope=row>2</th><td>2019</td><td>3679917</td><td>3694575</td><td> 99.60327</td></tr>\n",
       "\t<tr><th scope=row>3</th><td>2020</td><td>3293855</td><td>3694575</td><td> 89.15384</td></tr>\n",
       "\t<tr><th scope=row>4</th><td>2021</td><td>3496056</td><td>3694575</td><td> 94.62674</td></tr>\n",
       "\t<tr><th scope=row>5</th><td>2022</td><td>3650609</td><td>3694575</td><td> 98.81000</td></tr>\n",
       "\t<tr><th scope=row>6</th><td>2023</td><td>3806083</td><td>3694575</td><td>103.01816</td></tr>\n",
       "</tbody>\n",
       "</table>\n"
      ],
      "text/latex": [
       "A data.frame: 6 × 4\n",
       "\\begin{tabular}{r|llll}\n",
       "  & a & pibe & base & ipibe\\\\\n",
       "  & <chr> & <dbl> & <dbl> & <dbl>\\\\\n",
       "\\hline\n",
       "\t1 & 2018 & 3694575 & 3694575 & 100.00000\\\\\n",
       "\t2 & 2019 & 3679917 & 3694575 &  99.60327\\\\\n",
       "\t3 & 2020 & 3293855 & 3694575 &  89.15384\\\\\n",
       "\t4 & 2021 & 3496056 & 3694575 &  94.62674\\\\\n",
       "\t5 & 2022 & 3650609 & 3694575 &  98.81000\\\\\n",
       "\t6 & 2023 & 3806083 & 3694575 & 103.01816\\\\\n",
       "\\end{tabular}\n"
      ],
      "text/markdown": [
       "\n",
       "A data.frame: 6 × 4\n",
       "\n",
       "| <!--/--> | a &lt;chr&gt; | pibe &lt;dbl&gt; | base &lt;dbl&gt; | ipibe &lt;dbl&gt; |\n",
       "|---|---|---|---|---|\n",
       "| 1 | 2018 | 3694575 | 3694575 | 100.00000 |\n",
       "| 2 | 2019 | 3679917 | 3694575 |  99.60327 |\n",
       "| 3 | 2020 | 3293855 | 3694575 |  89.15384 |\n",
       "| 4 | 2021 | 3496056 | 3694575 |  94.62674 |\n",
       "| 5 | 2022 | 3650609 | 3694575 |  98.81000 |\n",
       "| 6 | 2023 | 3806083 | 3694575 | 103.01816 |\n",
       "\n"
      ],
      "text/plain": [
       "  a    pibe    base    ipibe    \n",
       "1 2018 3694575 3694575 100.00000\n",
       "2 2019 3679917 3694575  99.60327\n",
       "3 2020 3293855 3694575  89.15384\n",
       "4 2021 3496056 3694575  94.62674\n",
       "5 2022 3650609 3694575  98.81000\n",
       "6 2023 3806083 3694575 103.01816"
      ]
     },
     "metadata": {},
     "output_type": "display_data"
    }
   ],
   "source": [
    "datos_pib <- datos_pib %>%\n",
    "  arrange(TIME_PERIOD) %>%\n",
    "  rename(\"año\" = TIME_PERIOD) %>%\n",
    "  rename(\"pibe\"=OBS_VALUE) %>%\n",
    "  mutate(pibe = as.numeric(pibe)) %>%\n",
    "  filter(año %in% c(2018:2025)) %>%\n",
    "  mutate(base = first(pibe)) %>%\n",
    "  mutate(ipibe = (pibe/base)*100) %>%\n",
    "  rename(\"a\" = año)\n",
    "\n",
    "head(datos_pib) "
   ]
  },
  {
   "cell_type": "markdown",
   "id": "3b93850e",
   "metadata": {},
   "source": [
    "Se unen las datas del IPIB e IVA para nivel CDMX. "
   ]
  },
  {
   "cell_type": "code",
   "execution_count": 22,
   "id": "9a941614",
   "metadata": {
    "vscode": {
     "languageId": "r"
    }
   },
   "outputs": [
    {
     "data": {
      "text/html": [
       "<table class=\"dataframe\">\n",
       "<caption>A data.frame: 6 × 3</caption>\n",
       "<thead>\n",
       "\t<tr><th></th><th scope=col>año</th><th scope=col>ipibe</th><th scope=col>iva</th></tr>\n",
       "\t<tr><th></th><th scope=col>&lt;chr&gt;</th><th scope=col>&lt;dbl&gt;</th><th scope=col>&lt;dbl&gt;</th></tr>\n",
       "</thead>\n",
       "<tbody>\n",
       "\t<tr><th scope=row>1</th><td>2018</td><td>100.00000</td><td>100.00000</td></tr>\n",
       "\t<tr><th scope=row>2</th><td>2019</td><td> 99.60327</td><td> 99.60077</td></tr>\n",
       "\t<tr><th scope=row>3</th><td>2020</td><td> 89.15384</td><td> 89.36374</td></tr>\n",
       "\t<tr><th scope=row>4</th><td>2021</td><td> 94.62674</td><td> 94.69255</td></tr>\n",
       "\t<tr><th scope=row>5</th><td>2022</td><td> 98.81000</td><td> 98.60905</td></tr>\n",
       "\t<tr><th scope=row>6</th><td>2023</td><td>103.01816</td><td>102.83292</td></tr>\n",
       "</tbody>\n",
       "</table>\n"
      ],
      "text/latex": [
       "A data.frame: 6 × 3\n",
       "\\begin{tabular}{r|lll}\n",
       "  & año & ipibe & iva\\\\\n",
       "  & <chr> & <dbl> & <dbl>\\\\\n",
       "\\hline\n",
       "\t1 & 2018 & 100.00000 & 100.00000\\\\\n",
       "\t2 & 2019 &  99.60327 &  99.60077\\\\\n",
       "\t3 & 2020 &  89.15384 &  89.36374\\\\\n",
       "\t4 & 2021 &  94.62674 &  94.69255\\\\\n",
       "\t5 & 2022 &  98.81000 &  98.60905\\\\\n",
       "\t6 & 2023 & 103.01816 & 102.83292\\\\\n",
       "\\end{tabular}\n"
      ],
      "text/markdown": [
       "\n",
       "A data.frame: 6 × 3\n",
       "\n",
       "| <!--/--> | año &lt;chr&gt; | ipibe &lt;dbl&gt; | iva &lt;dbl&gt; |\n",
       "|---|---|---|---|\n",
       "| 1 | 2018 | 100.00000 | 100.00000 |\n",
       "| 2 | 2019 |  99.60327 |  99.60077 |\n",
       "| 3 | 2020 |  89.15384 |  89.36374 |\n",
       "| 4 | 2021 |  94.62674 |  94.69255 |\n",
       "| 5 | 2022 |  98.81000 |  98.60905 |\n",
       "| 6 | 2023 | 103.01816 | 102.83292 |\n",
       "\n"
      ],
      "text/plain": [
       "  año  ipibe     iva      \n",
       "1 2018 100.00000 100.00000\n",
       "2 2019  99.60327  99.60077\n",
       "3 2020  89.15384  89.36374\n",
       "4 2021  94.62674  94.69255\n",
       "5 2022  98.81000  98.60905\n",
       "6 2023 103.01816 102.83292"
      ]
     },
     "metadata": {},
     "output_type": "display_data"
    }
   ],
   "source": [
    "datos_ciudad <- cbind(datos_pib, datos_vac) %>%\n",
    "  select(año, ipibe, iva)\n",
    "head(datos_ciudad)  "
   ]
  },
  {
   "cell_type": "markdown",
   "id": "4fc3b402",
   "metadata": {},
   "source": [
    "Se calcula el índice de la Población Ocupada de la Ciudad de México\n",
    "\n",
    "El IPO, corresponde a la división del total de la población ocupada en el año n, sobre el promedio anual de la población ocupada en el año base (2018). Para lo cual, se descargan los datos de la ENOE 2018-2023."
   ]
  },
  {
   "cell_type": "code",
   "execution_count": 23,
   "id": "7541c0ad",
   "metadata": {
    "vscode": {
     "languageId": "r"
    }
   },
   "outputs": [],
   "source": [
    "# Ruta base (ajusta a tu ruta real)\n",
    "carpeta_base <- \"Microdatos\"\n",
    "ruta_base <- paste0(getwd(), \"/\", carpeta_base)\n",
    "\n",
    "\n",
    "# Listar subcarpetas\n",
    "carpetas <- list.dirs(ruta_base, recursive = FALSE, full.names = TRUE)\n",
    "\n",
    "data_list <- list()\n",
    "\n",
    "\n",
    "for (ruta in carpetas) {\n",
    "  nombre_carpeta <- basename(ruta)\n",
    "  \n",
    "  # Extraer año y trimestre\n",
    "  if (str_detect(nombre_carpeta, \"\\\\d{4}_trim\\\\d\")) {\n",
    "    año <- str_extract(nombre_carpeta, \"\\\\d{4}\")\n",
    "    trim <- str_extract(nombre_carpeta, \"trim\\\\d\")\n",
    "    \n",
    "    # Buscar archivos CSV que contengan 'sdem' o 'SDEM'\n",
    "    archivos_sdem <- list.files(ruta, pattern = \"(?i)sdem.*\\\\.csv$\", full.names = TRUE)\n",
    "    \n",
    "    # Leer todos los archivos encontrados\n",
    "    if (length(archivos_sdem) > 0) {\n",
    "      tablas <- lapply(archivos_sdem, read.csv)\n",
    "      \n",
    "      # Crear año si no existe\n",
    "      if (!año %in% names(data_list)) {\n",
    "        data_list[[año]] <- list()\n",
    "      }\n",
    "      \n",
    "      # Si hay uno solo, guardamos como data.frame; si hay varios, como lista de data.frames\n",
    "      data_list[[año]][[trim]] <- if (length(tablas) == 1) tablas[[1]] else tablas\n",
    "    }\n",
    "  }\n",
    "}\n",
    "\n",
    "\n",
    "\n",
    "\n",
    "\n",
    "\n",
    "calculo_po <- function(data_list, filtro_entidad = NaN, resultado_lista = list()) {\n",
    "  \n",
    "  for (year in names(data_list)) {\n",
    "    for (trim in names(data_list[[year]])) {\n",
    "      \n",
    "      df_raw <- data_list[[year]][[trim]]\n",
    "      if (!is.data.frame(df_raw)) next\n",
    "      \n",
    "      df <- df_raw %>%\n",
    "        janitor::clean_names() %>%\n",
    "        mutate(edad = as.numeric(eda)) %>%\n",
    "        filter(\n",
    "          r_def == 0,\n",
    "          c_res %in% c(1, 3),\n",
    "          edad >= 15 & edad <= 98\n",
    "        )\n",
    "      \n",
    "      # Filtrar por entidad si se especifica\n",
    "      if (!is.nan(filtro_entidad)) {\n",
    "        df <- df %>% filter(ent == filtro_entidad)\n",
    "      }\n",
    "      \n",
    "      # Detectar el nombre del factor de expansión\n",
    "      factor_exp <- if (\"fac_tri\" %in% names(df)) \"fac_tri\" else \"fac\"\n",
    "      \n",
    "      # Calcular población ocupada\n",
    "      total_po <- df %>%\n",
    "        filter(clase2 == 1) %>%\n",
    "        summarise(total_po = sum(.data[[factor_exp]], na.rm = TRUE)) %>%\n",
    "        pull(total_po)\n",
    "      \n",
    "      # Guardar en la lista que se pasó como parámetro\n",
    "      resultado_lista[[paste0(\"promedio_\", year, \"_\", trim)]] <- tibble(\n",
    "        year = as.integer(year),\n",
    "        trimestre = trim,\n",
    "        total_po = total_po\n",
    "      )\n",
    "    }\n",
    "  }\n",
    "  \n",
    "  return(resultado_lista)\n",
    "}\n",
    "po_nacional <- calculo_po(data_list)"
   ]
  },
  {
   "cell_type": "code",
   "execution_count": 24,
   "id": "e3ca1814",
   "metadata": {
    "vscode": {
     "languageId": "r"
    }
   },
   "outputs": [],
   "source": [
    "# Unir los resultados\n",
    "po_nalfin <- bind_rows(po_nacional) %>%\n",
    "  mutate(trimestre = factor(trimestre, levels = c('trim1', 'trim2', 'trim3', 'trim4'))) %>%\n",
    "  arrange(year, trimestre)\n",
    "\n",
    "po_cdmx <- calculo_po(data_list,filtro_entidad = 9)\n",
    "\n",
    "# Unir los resultados\n",
    "po_cdmxfin <- bind_rows(po_cdmx) %>%\n",
    "  mutate(trimestre = factor(trimestre, levels = c('trim1', 'trim2', 'trim3', 'trim4'))) %>%\n",
    "  arrange(year, trimestre)"
   ]
  },
  {
   "cell_type": "code",
   "execution_count": 25,
   "id": "8d0d0d4d",
   "metadata": {
    "vscode": {
     "languageId": "r"
    }
   },
   "outputs": [
    {
     "data": {
      "text/html": [
       "<table class=\"dataframe\">\n",
       "<caption>A tibble: 25 × 3</caption>\n",
       "<thead>\n",
       "\t<tr><th scope=col>year</th><th scope=col>trimestre</th><th scope=col>total_po</th></tr>\n",
       "\t<tr><th scope=col>&lt;int&gt;</th><th scope=col>&lt;fct&gt;</th><th scope=col>&lt;int&gt;</th></tr>\n",
       "</thead>\n",
       "<tbody>\n",
       "\t<tr><td>2018</td><td>trim1</td><td>4387044</td></tr>\n",
       "\t<tr><td>2018</td><td>trim2</td><td>4473314</td></tr>\n",
       "\t<tr><td>2018</td><td>trim3</td><td>4473679</td></tr>\n",
       "\t<tr><td>2018</td><td>trim4</td><td>4411790</td></tr>\n",
       "\t<tr><td>2019</td><td>trim1</td><td>4452453</td></tr>\n",
       "\t<tr><td>2019</td><td>trim2</td><td>4505698</td></tr>\n",
       "\t<tr><td>2019</td><td>trim3</td><td>4516175</td></tr>\n",
       "\t<tr><td>2019</td><td>trim4</td><td>4507009</td></tr>\n",
       "\t<tr><td>2020</td><td>trim1</td><td>4439595</td></tr>\n",
       "\t<tr><td>2021</td><td>trim1</td><td>3870454</td></tr>\n",
       "\t<tr><td>2021</td><td>trim2</td><td>4117427</td></tr>\n",
       "\t<tr><td>2021</td><td>trim3</td><td>4393859</td></tr>\n",
       "\t<tr><td>2021</td><td>trim4</td><td>4465106</td></tr>\n",
       "\t<tr><td>2022</td><td>trim1</td><td>4385718</td></tr>\n",
       "\t<tr><td>2022</td><td>trim2</td><td>4534376</td></tr>\n",
       "\t<tr><td>2022</td><td>trim3</td><td>4546515</td></tr>\n",
       "\t<tr><td>2022</td><td>trim4</td><td>4698174</td></tr>\n",
       "\t<tr><td>2023</td><td>trim1</td><td>4693298</td></tr>\n",
       "\t<tr><td>2023</td><td>trim2</td><td>4709095</td></tr>\n",
       "\t<tr><td>2023</td><td>trim3</td><td>4712506</td></tr>\n",
       "\t<tr><td>2023</td><td>trim4</td><td>4657701</td></tr>\n",
       "\t<tr><td>2024</td><td>trim1</td><td>4715069</td></tr>\n",
       "\t<tr><td>2024</td><td>trim2</td><td>4834239</td></tr>\n",
       "\t<tr><td>2024</td><td>trim3</td><td>4894634</td></tr>\n",
       "\t<tr><td>2024</td><td>trim4</td><td>5010045</td></tr>\n",
       "</tbody>\n",
       "</table>\n"
      ],
      "text/latex": [
       "A tibble: 25 × 3\n",
       "\\begin{tabular}{lll}\n",
       " year & trimestre & total\\_po\\\\\n",
       " <int> & <fct> & <int>\\\\\n",
       "\\hline\n",
       "\t 2018 & trim1 & 4387044\\\\\n",
       "\t 2018 & trim2 & 4473314\\\\\n",
       "\t 2018 & trim3 & 4473679\\\\\n",
       "\t 2018 & trim4 & 4411790\\\\\n",
       "\t 2019 & trim1 & 4452453\\\\\n",
       "\t 2019 & trim2 & 4505698\\\\\n",
       "\t 2019 & trim3 & 4516175\\\\\n",
       "\t 2019 & trim4 & 4507009\\\\\n",
       "\t 2020 & trim1 & 4439595\\\\\n",
       "\t 2021 & trim1 & 3870454\\\\\n",
       "\t 2021 & trim2 & 4117427\\\\\n",
       "\t 2021 & trim3 & 4393859\\\\\n",
       "\t 2021 & trim4 & 4465106\\\\\n",
       "\t 2022 & trim1 & 4385718\\\\\n",
       "\t 2022 & trim2 & 4534376\\\\\n",
       "\t 2022 & trim3 & 4546515\\\\\n",
       "\t 2022 & trim4 & 4698174\\\\\n",
       "\t 2023 & trim1 & 4693298\\\\\n",
       "\t 2023 & trim2 & 4709095\\\\\n",
       "\t 2023 & trim3 & 4712506\\\\\n",
       "\t 2023 & trim4 & 4657701\\\\\n",
       "\t 2024 & trim1 & 4715069\\\\\n",
       "\t 2024 & trim2 & 4834239\\\\\n",
       "\t 2024 & trim3 & 4894634\\\\\n",
       "\t 2024 & trim4 & 5010045\\\\\n",
       "\\end{tabular}\n"
      ],
      "text/markdown": [
       "\n",
       "A tibble: 25 × 3\n",
       "\n",
       "| year &lt;int&gt; | trimestre &lt;fct&gt; | total_po &lt;int&gt; |\n",
       "|---|---|---|\n",
       "| 2018 | trim1 | 4387044 |\n",
       "| 2018 | trim2 | 4473314 |\n",
       "| 2018 | trim3 | 4473679 |\n",
       "| 2018 | trim4 | 4411790 |\n",
       "| 2019 | trim1 | 4452453 |\n",
       "| 2019 | trim2 | 4505698 |\n",
       "| 2019 | trim3 | 4516175 |\n",
       "| 2019 | trim4 | 4507009 |\n",
       "| 2020 | trim1 | 4439595 |\n",
       "| 2021 | trim1 | 3870454 |\n",
       "| 2021 | trim2 | 4117427 |\n",
       "| 2021 | trim3 | 4393859 |\n",
       "| 2021 | trim4 | 4465106 |\n",
       "| 2022 | trim1 | 4385718 |\n",
       "| 2022 | trim2 | 4534376 |\n",
       "| 2022 | trim3 | 4546515 |\n",
       "| 2022 | trim4 | 4698174 |\n",
       "| 2023 | trim1 | 4693298 |\n",
       "| 2023 | trim2 | 4709095 |\n",
       "| 2023 | trim3 | 4712506 |\n",
       "| 2023 | trim4 | 4657701 |\n",
       "| 2024 | trim1 | 4715069 |\n",
       "| 2024 | trim2 | 4834239 |\n",
       "| 2024 | trim3 | 4894634 |\n",
       "| 2024 | trim4 | 5010045 |\n",
       "\n"
      ],
      "text/plain": [
       "   year trimestre total_po\n",
       "1  2018 trim1     4387044 \n",
       "2  2018 trim2     4473314 \n",
       "3  2018 trim3     4473679 \n",
       "4  2018 trim4     4411790 \n",
       "5  2019 trim1     4452453 \n",
       "6  2019 trim2     4505698 \n",
       "7  2019 trim3     4516175 \n",
       "8  2019 trim4     4507009 \n",
       "9  2020 trim1     4439595 \n",
       "10 2021 trim1     3870454 \n",
       "11 2021 trim2     4117427 \n",
       "12 2021 trim3     4393859 \n",
       "13 2021 trim4     4465106 \n",
       "14 2022 trim1     4385718 \n",
       "15 2022 trim2     4534376 \n",
       "16 2022 trim3     4546515 \n",
       "17 2022 trim4     4698174 \n",
       "18 2023 trim1     4693298 \n",
       "19 2023 trim2     4709095 \n",
       "20 2023 trim3     4712506 \n",
       "21 2023 trim4     4657701 \n",
       "22 2024 trim1     4715069 \n",
       "23 2024 trim2     4834239 \n",
       "24 2024 trim3     4894634 \n",
       "25 2024 trim4     5010045 "
      ]
     },
     "metadata": {},
     "output_type": "display_data"
    }
   ],
   "source": [
    "po_cdmxfin"
   ]
  },
  {
   "cell_type": "markdown",
   "id": "7d21cd16",
   "metadata": {},
   "source": [
    "El cálculo anterior, corresponde al total de la población ocupada de forma trimestral. Por lo tanto, ahora se deberá calcular de forma anual, ya que los datos del IVA e IPIB son anuales. "
   ]
  },
  {
   "cell_type": "code",
   "execution_count": 26,
   "id": "9b852be0",
   "metadata": {
    "vscode": {
     "languageId": "r"
    }
   },
   "outputs": [
    {
     "name": "stdout",
     "output_type": "stream",
     "text": [
      "\u001b[90m# A tibble: 6 × 2\u001b[39m\n",
      "   year   ipo\n",
      "  \u001b[3m\u001b[90m<int>\u001b[39m\u001b[23m \u001b[3m\u001b[90m<dbl>\u001b[39m\u001b[23m\n",
      "\u001b[90m1\u001b[39m  \u001b[4m2\u001b[24m018 100  \n",
      "\u001b[90m2\u001b[39m  \u001b[4m2\u001b[24m019 101. \n",
      "\u001b[90m3\u001b[39m  \u001b[4m2\u001b[24m020 100. \n",
      "\u001b[90m4\u001b[39m  \u001b[4m2\u001b[24m021  94.9\n",
      "\u001b[90m5\u001b[39m  \u001b[4m2\u001b[24m022 102. \n",
      "\u001b[90m6\u001b[39m  \u001b[4m2\u001b[24m023 106. \n"
     ]
    }
   ],
   "source": [
    "ipo_cdmxfin <- po_cdmxfin %>%\n",
    "  group_by(year) %>%\n",
    "  mutate(prom_po = mean(total_po, na.rm = TRUE)) %>%\n",
    "  ungroup() %>%\n",
    "  mutate(base = first(prom_po)) %>%\n",
    "  mutate (ipo = (total_po/base)*100)\n",
    "\n",
    "#ipo anual cdmx\n",
    "ipo_cdmx_anual <- ipo_cdmxfin %>%\n",
    "  group_by(year) %>%\n",
    "  summarise(prom_ipo = mean(ipo, na.rm = TRUE)) %>%\n",
    "  ungroup() %>%\n",
    "  rename(\"ipo\" = prom_ipo) %>%\n",
    "  filter(year %in% c(2018:2023))\n",
    "  \n",
    "print(ipo_cdmx_anual)"
   ]
  },
  {
   "cell_type": "markdown",
   "id": "8cac634c",
   "metadata": {},
   "source": [
    "Se unen las tablas de datos (IVA, IPIB e IPO) para calcular el IPL de la Ciudad de México. \n",
    "Baándonos en su cálculo respecto a la población ocupada, Existen dos formas de calcularlo: \n",
    "1.- (IPIB/IPO) * 100\n",
    "2.- (IVA/IPO) * 100\n",
    "Se realizarán las dos posibilidades. "
   ]
  },
  {
   "cell_type": "code",
   "execution_count": 27,
   "id": "7bd50acb",
   "metadata": {
    "vscode": {
     "languageId": "r"
    }
   },
   "outputs": [
    {
     "name": "stdout",
     "output_type": "stream",
     "text": [
      "   año     ipibe       iva       ipo       ipl   ipl_pib\n",
      "1 2018 100.00000 100.00000 100.00000 100.00000 100.00000\n",
      "2 2019  99.60327  99.60077 101.32712  98.29626  98.29873\n",
      "3 2020  89.15384  89.36374 100.07074  89.30057  89.09082\n",
      "4 2021  94.62674  94.69255  94.93413  99.74553  99.67621\n",
      "5 2022  98.81000  98.60905 102.36087  96.33471  96.53103\n",
      "6 2023 103.01816 102.83292 105.78600  97.20844  97.38355\n"
     ]
    }
   ],
   "source": [
    "IPL_ciudad <- cbind(datos_ciudad, ipo_cdmx_anual) %>%\n",
    "  select(año, ipibe, iva, ipo) %>%\n",
    "  mutate(ipl = (iva/ipo)*100) %>%\n",
    "  mutate(ipl_pib = (ipibe/ipo)*100)\n",
    "print(IPL_ciudad)"
   ]
  },
  {
   "cell_type": "code",
   "execution_count": 28,
   "id": "44cfa0ba",
   "metadata": {
    "vscode": {
     "languageId": "r"
    }
   },
   "outputs": [
    {
     "data": {
      "text/html": [
       "<table class=\"dataframe\">\n",
       "<caption>A data.frame: 6 × 6</caption>\n",
       "<thead>\n",
       "\t<tr><th></th><th scope=col>año</th><th scope=col>ipibe</th><th scope=col>iva</th><th scope=col>ipo</th><th scope=col>ipl</th><th scope=col>ipl_pib</th></tr>\n",
       "\t<tr><th></th><th scope=col>&lt;chr&gt;</th><th scope=col>&lt;dbl&gt;</th><th scope=col>&lt;dbl&gt;</th><th scope=col>&lt;dbl&gt;</th><th scope=col>&lt;dbl&gt;</th><th scope=col>&lt;dbl&gt;</th></tr>\n",
       "</thead>\n",
       "<tbody>\n",
       "\t<tr><th scope=row>1</th><td>2018</td><td>100.00000</td><td>100.00000</td><td>100.00000</td><td>100.00000</td><td>100.00000</td></tr>\n",
       "\t<tr><th scope=row>2</th><td>2019</td><td> 99.60327</td><td> 99.60077</td><td>101.32712</td><td> 98.29626</td><td> 98.29873</td></tr>\n",
       "\t<tr><th scope=row>3</th><td>2020</td><td> 89.15384</td><td> 89.36374</td><td>100.07074</td><td> 89.30057</td><td> 89.09082</td></tr>\n",
       "\t<tr><th scope=row>4</th><td>2021</td><td> 94.62674</td><td> 94.69255</td><td> 94.93413</td><td> 99.74553</td><td> 99.67621</td></tr>\n",
       "\t<tr><th scope=row>5</th><td>2022</td><td> 98.81000</td><td> 98.60905</td><td>102.36087</td><td> 96.33471</td><td> 96.53103</td></tr>\n",
       "\t<tr><th scope=row>6</th><td>2023</td><td>103.01816</td><td>102.83292</td><td>105.78600</td><td> 97.20844</td><td> 97.38355</td></tr>\n",
       "</tbody>\n",
       "</table>\n"
      ],
      "text/latex": [
       "A data.frame: 6 × 6\n",
       "\\begin{tabular}{r|llllll}\n",
       "  & año & ipibe & iva & ipo & ipl & ipl\\_pib\\\\\n",
       "  & <chr> & <dbl> & <dbl> & <dbl> & <dbl> & <dbl>\\\\\n",
       "\\hline\n",
       "\t1 & 2018 & 100.00000 & 100.00000 & 100.00000 & 100.00000 & 100.00000\\\\\n",
       "\t2 & 2019 &  99.60327 &  99.60077 & 101.32712 &  98.29626 &  98.29873\\\\\n",
       "\t3 & 2020 &  89.15384 &  89.36374 & 100.07074 &  89.30057 &  89.09082\\\\\n",
       "\t4 & 2021 &  94.62674 &  94.69255 &  94.93413 &  99.74553 &  99.67621\\\\\n",
       "\t5 & 2022 &  98.81000 &  98.60905 & 102.36087 &  96.33471 &  96.53103\\\\\n",
       "\t6 & 2023 & 103.01816 & 102.83292 & 105.78600 &  97.20844 &  97.38355\\\\\n",
       "\\end{tabular}\n"
      ],
      "text/markdown": [
       "\n",
       "A data.frame: 6 × 6\n",
       "\n",
       "| <!--/--> | año &lt;chr&gt; | ipibe &lt;dbl&gt; | iva &lt;dbl&gt; | ipo &lt;dbl&gt; | ipl &lt;dbl&gt; | ipl_pib &lt;dbl&gt; |\n",
       "|---|---|---|---|---|---|---|\n",
       "| 1 | 2018 | 100.00000 | 100.00000 | 100.00000 | 100.00000 | 100.00000 |\n",
       "| 2 | 2019 |  99.60327 |  99.60077 | 101.32712 |  98.29626 |  98.29873 |\n",
       "| 3 | 2020 |  89.15384 |  89.36374 | 100.07074 |  89.30057 |  89.09082 |\n",
       "| 4 | 2021 |  94.62674 |  94.69255 |  94.93413 |  99.74553 |  99.67621 |\n",
       "| 5 | 2022 |  98.81000 |  98.60905 | 102.36087 |  96.33471 |  96.53103 |\n",
       "| 6 | 2023 | 103.01816 | 102.83292 | 105.78600 |  97.20844 |  97.38355 |\n",
       "\n"
      ],
      "text/plain": [
       "  año  ipibe     iva       ipo       ipl       ipl_pib  \n",
       "1 2018 100.00000 100.00000 100.00000 100.00000 100.00000\n",
       "2 2019  99.60327  99.60077 101.32712  98.29626  98.29873\n",
       "3 2020  89.15384  89.36374 100.07074  89.30057  89.09082\n",
       "4 2021  94.62674  94.69255  94.93413  99.74553  99.67621\n",
       "5 2022  98.81000  98.60905 102.36087  96.33471  96.53103\n",
       "6 2023 103.01816 102.83292 105.78600  97.20844  97.38355"
      ]
     },
     "metadata": {},
     "output_type": "display_data"
    }
   ],
   "source": [
    "head(IPL_ciudad)    "
   ]
  }
 ],
 "metadata": {
  "kernelspec": {
   "display_name": "R",
   "language": "R",
   "name": "ir"
  },
  "language_info": {
   "codemirror_mode": "r",
   "file_extension": ".r",
   "mimetype": "text/x-r-source",
   "name": "R",
   "pygments_lexer": "r",
   "version": "4.4.1"
  }
 },
 "nbformat": 4,
 "nbformat_minor": 5
}
