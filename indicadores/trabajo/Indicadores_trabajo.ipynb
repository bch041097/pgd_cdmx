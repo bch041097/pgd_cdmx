{
 "cells": [
  {
   "cell_type": "markdown",
   "id": "2fe0ffc5",
   "metadata": {},
   "source": [
    "Indicadores de Secretaría del Trabajo y Fomento al Empleo"
   ]
  },
  {
   "cell_type": "markdown",
   "id": "a22e20cc",
   "metadata": {},
   "source": [
    "Tasa de informalidad laboral (REVISAR)\n",
    "Tasa de participación económica de las mujeres*\n",
    "Tasa de condiciones críticas de ocupación\n",
    "Indicador de Productividad Laboral\n"
   ]
  },
  {
   "cell_type": "code",
   "execution_count": 1,
   "id": "a8d3b6da",
   "metadata": {
    "vscode": {
     "languageId": "r"
    }
   },
   "outputs": [
    {
     "name": "stderr",
     "output_type": "stream",
     "text": [
      "Cargando paquete requerido: pacman\n",
      "\n",
      "Warning message:\n",
      "\"package 'pacman' was built under R version 4.4.2\"\n"
     ]
    }
   ],
   "source": [
    "if(! require('pacman')) install.packages('pacman')\n",
    "pacman::p_load(tidyverse, srvyr, janitor, stringr, readxl, writexl, tools,dplyr, purrr)"
   ]
  },
  {
   "cell_type": "markdown",
   "id": "d5a03733",
   "metadata": {},
   "source": [
    "DESCARGA Y LECTURA DE DATOS"
   ]
  },
  {
   "cell_type": "code",
   "execution_count": 2,
   "id": "2f09fa1e",
   "metadata": {
    "vscode": {
     "languageId": "r"
    }
   },
   "outputs": [],
   "source": [
    "#Crear carpeta para almacenar los microdatos descagados del INEGI\n",
    "dir.create('Microdatos', showWarnings = FALSE)\n",
    "\n",
    "#Crear carpetas para almacenar los resultados\n",
    "dir.create('PGD', showWarnings = FALSE)"
   ]
  },
  {
   "cell_type": "code",
   "execution_count": 3,
   "id": "7da5d6ac",
   "metadata": {
    "vscode": {
     "languageId": "r"
    }
   },
   "outputs": [
    {
     "name": "stdout",
     "output_type": "stream",
     "text": [
      "[1] TRUE\n"
     ]
    }
   ],
   "source": [
    "# Directorios principales\n",
    "dir_datos <- 'Microdatos'\n",
    "\n",
    "# Verificar si existen antes de intentar crearlos\n",
    "if (!dir.exists(dir_datos)) {\n",
    "    dir.create(dir_datos, recursive = TRUE)\n",
    "}\n",
    "\n",
    "\n",
    "# Verificar que los directorios realmente existen después de crearlos\n",
    "print(file.exists(dir_datos))  # Debe devolver TRUE"
   ]
  },
  {
   "cell_type": "code",
   "execution_count": 4,
   "id": "e8f803b4",
   "metadata": {
    "vscode": {
     "languageId": "r"
    }
   },
   "outputs": [],
   "source": [
    "descargar_enoe_csv <- function() {\n",
    "    options(timeout = 90000)\n",
    "    data_list <- list()\n",
    "\n",
    "    descargar_extraer <- function(url, year_str, trim) {\n",
    "        zip_path <- file.path('Microdatos', basename(url))\n",
    "        download.file(url, zip_path, mode = 'wb')\n",
    "        \n",
    "        unzip_dir <- file.path('Microdatos', paste0('ENOE_', year_str, '_trim', trim))\n",
    "        dir.create(unzip_dir, showWarnings = FALSE)\n",
    "        unzip(zip_path, exdir = unzip_dir)\n",
    "\n",
    "        unlink(zip_path) # Eliminar el archivo zip después de descomprimirlo\n",
    "        csv_files <- list.files(unzip_dir, pattern = '\\\\.csv$', full.names = TRUE)\n",
    "        \n",
    "        if(length(csv_files) == 0) {\n",
    "            warning('No se encontró el archivo CSV en ', unzip_dir)\n",
    "            return(NULL) \n",
    "        }\n",
    "\n",
    "        df_list <- list()\n",
    "\n",
    "        for(csv_file in csv_files) {\n",
    "            nombre <- file_path_sans_ext(basename(csv_file))\n",
    "            tipo <- NA\n",
    "\n",
    "            if (str_detect(nombre, 'COE1T?')) {\n",
    "                tipo <- 'COE1'\n",
    "                } else if (str_detect(nombre, 'COE2T?')) {\n",
    "                    tipo <- 'COE2'\n",
    "                    } else if (str_detect(nombre, 'HOGT?')) {\n",
    "                        tipo <- 'HOG'\n",
    "                        } else if (str_detect(nombre, 'SDEMT?')) {\n",
    "                            tipo <- 'SDEM'\n",
    "                            } else if (str_detect(nombre, 'VIVT?')) {\n",
    "                                tipo <- 'VIV'\n",
    "                                \n",
    "                                }\n",
    "\n",
    "            if(!is.na(tipo)) {\n",
    "                df <- tryCatch({\n",
    "                    read_csv(csv_file, show_col_types = FALSE) %>% clean_names()\n",
    "                }, error = function(e) {\n",
    "                    warning('Error al leer el archivo CSV de ', csv_file)\n",
    "                    return(NULL) \n",
    "                })\n",
    "                \n",
    "                if(!is.null(df)) {\n",
    "                    df_list[[tipo]] <- df\n",
    "                }\n",
    "            } \n",
    "                    \n",
    "        }\n",
    "        \n",
    "    return(df_list)\n",
    "    \n",
    "    }\n",
    "    \n",
    "    #iterar los años y trimestres de descarga    \n",
    "    for(year in 21:22) {\n",
    "        year_str <- paste0('20', year)\n",
    "        data_list[[year_str]] <- list()\n",
    "        \n",
    "        for(trim in 1:4) {\n",
    "        url <- paste0('https://www.inegi.org.mx/contenidos/programas/enoe/15ymas/microdatos/enoe_n_20', year, '_trim', trim, '_csv.zip')\n",
    "        \n",
    "        df <- descargar_extraer(url, year_str, trim)\n",
    "\n",
    "        if(!is.null(df)) {\n",
    "            data_list[[year_str]][[paste0('trim', trim)]] <- df\n",
    "        }\n",
    "    }\n",
    "\n",
    "    }\n",
    "    \n",
    "    for(year in 23:24) {\n",
    "        year_str <- paste0('20', year)\n",
    "        data_list[[year_str]] <- list()\n",
    "        \n",
    "        for(trim in 1:4) {\n",
    "        url <- paste0('https://www.inegi.org.mx/contenidos/programas/enoe/15ymas/microdatos/enoe_20', year, '_trim', trim, '_csv.zip')\n",
    "                \n",
    "        df <- descargar_extraer(url, year_str, trim)\n",
    "        \n",
    "        if(!is.null(df)) {\n",
    "            data_list[[year_str]][[paste0('trim', trim)]] <- df\n",
    "        }\n",
    "    \n",
    "    }\n",
    "\n",
    "    } \n",
    "    \n",
    "    save(data_list, file = 'Microdatos/data_list.RData')\n",
    "\n",
    "\n",
    "    return(data_list)\n",
    "\n",
    "}"
   ]
  },
  {
   "cell_type": "code",
   "execution_count": null,
   "id": "9cdaa798",
   "metadata": {
    "vscode": {
     "languageId": "r"
    }
   },
   "outputs": [],
   "source": [
    "invisible(descargar_enoe_csv())"
   ]
  },
  {
   "cell_type": "markdown",
   "id": "4f66dc36",
   "metadata": {},
   "source": [
    "Cargar la lista de datos guardada para no tener que descargarla nuevamente "
   ]
  },
  {
   "cell_type": "code",
   "execution_count": 5,
   "id": "64230c46",
   "metadata": {
    "vscode": {
     "languageId": "r"
    }
   },
   "outputs": [],
   "source": [
    "load(\"Microdatos/data_list.RData\")"
   ]
  },
  {
   "cell_type": "code",
   "execution_count": null,
   "id": "06e1ac81",
   "metadata": {
    "vscode": {
     "languageId": "r"
    }
   },
   "outputs": [],
   "source": [
    "#Confirmar que la estructura de las listas de datos estén bien\n",
    "str(data_list$'2023'$'trim4'$'COE1')"
   ]
  },
  {
   "cell_type": "markdown",
   "id": "089eeef4",
   "metadata": {},
   "source": [
    "Población informal en la Ciudad de México"
   ]
  },
  {
   "cell_type": "code",
   "execution_count": 7,
   "id": "e6f564b1",
   "metadata": {
    "vscode": {
     "languageId": "r"
    }
   },
   "outputs": [
    {
     "name": "stderr",
     "output_type": "stream",
     "text": [
      "Warning message:\n",
      "\"\u001b[1m\u001b[22m`cross_df()` was deprecated in purrr 1.0.0.\n",
      "\u001b[36mℹ\u001b[39m Please use `tidyr::expand_grid()` instead.\n",
      "\u001b[36mℹ\u001b[39m See <https://github.com/tidyverse/purrr/issues/768>.\"\n"
     ]
    }
   ],
   "source": [
    "\n",
    "# Definir los años y trimestres a trabajar\n",
    "anios <- as.character(2021:2024)\n",
    "trimestres <- paste0(\"trim\", 1:4)\n",
    "\n",
    "# Extraer y unir SDEM de todos los trimestres y años, estandarizando columnas a character\n",
    "sdem_todos <- cross_df(list(anio = anios, trim = trimestres)) %>%\n",
    "  mutate(data = map2(anio, trim, ~ {\n",
    "    df <- data_list[[.x]][[.y]][[\"SDEM\"]]\n",
    "    \n",
    "    if (!is.null(df)) {\n",
    "      df <- df %>%\n",
    "        mutate(across(everything(), as.character)) %>%  #todas las columnas como character\n",
    "        mutate(anio = as.integer(.x), trimestre = .y)\n",
    "    } else {\n",
    "      NULL\n",
    "    }\n",
    "  })) %>%\n",
    "  pull(data) %>%\n",
    "  compact() %>%\n",
    "  bind_rows()"
   ]
  },
  {
   "cell_type": "code",
   "execution_count": 8,
   "id": "37c47a22",
   "metadata": {
    "vscode": {
     "languageId": "r"
    }
   },
   "outputs": [],
   "source": [
    "sdem_todos <- sdem_todos %>%\n",
    "  mutate(\n",
    "    fac_tri = as.numeric(fac_tri),\n",
    "    eda = as.integer(eda),\n",
    "    ent = as.integer(ent)\n",
    "  )"
   ]
  },
  {
   "cell_type": "code",
   "execution_count": null,
   "id": "706beaec",
   "metadata": {
    "vscode": {
     "languageId": "r"
    }
   },
   "outputs": [],
   "source": [
    "Variables <- list() #Lista para filtrar y seleccionar las variables que necesitamos\n",
    "PobTot <- list() #Lista para vaciar valores de pob_total\n",
    "Informal <- list() #Lista para vaciar los valores de población ocupada en el sector informal"
   ]
  },
  {
   "cell_type": "code",
   "execution_count": 132,
   "id": "12b494d9",
   "metadata": {
    "vscode": {
     "languageId": "r"
    }
   },
   "outputs": [],
   "source": [
    "calculo_informal <- function(data_list) {\n",
    "  for (year in names(data_list)) {\n",
    "    for (trim in names(data_list[[year]])) {\n",
    "      if (!'SDEM' %in% names(data_list[[year]][[trim]])) next\n",
    "\n",
    "#calcular la población ocupada wn la cdmx  :) \n",
    "      df <- data_list[[year]][[trim]][['SDEM']] %>%\n",
    "        clean_names() %>%\n",
    "        mutate(edad = as.numeric(eda)) %>%\n",
    "        filter(r_def == 0, (c_res == 1 | c_res == 3), edad >= 15 & edad <= 98) %>%\n",
    "        filter(clase2 == 1, ent == 9) \n",
    "      \n",
    "      # Guardar nombres y df completo por si se necesita\n",
    "      Variables[[paste0(\"v\", year, \"_\", trim)]] <<- names(df)\n",
    "      PobTot[[paste0(\"pob_total_\", year, \"_\", trim)]] <<- df\n",
    "\n",
    "\n",
    "\n",
    "     # Calcular la población ocupada en el sector informal\n",
    "   df_informal <- df %>%\n",
    "        filter(emp_ppal == 1) %>%\n",
    "        filter( (pos_ocu == 1 & seg_soc == 2) |\n",
    "          (pos_ocu %in% c(2, 3, 4) & tue2 %in% c( 2, 5, 6))) %>%\n",
    "        mutate(sector = \"Informal\")\n",
    "\n",
    "\n",
    "\n",
    "      total_sector <- sum(df_informal$fac_tri, na.rm = TRUE)\n",
    "      total_pob <- sum(df$fac_tri, na.rm = TRUE)\n",
    "      porcentaje <- (total_sector / total_pob) * 100\n",
    "\n",
    "      Informal[[paste0(\"informal_\", year, \"_\", trim)]] <<- tibble(\n",
    "        year = as.integer(year),\n",
    "        trimestre = trim,\n",
    "        sector = \"Informal\",\n",
    "        total_sector = total_sector,\n",
    "        pob_total = total_pob,\n",
    "        porcentaje = porcentaje\n",
    "      )\n",
    "    }\n",
    "  }\n",
    "}\n",
    "\n",
    "# Ejecutar función sin mostrar resultados intermedios\n",
    "invisible(calculo_informal(data_list))\n"
   ]
  },
  {
   "cell_type": "code",
   "execution_count": 137,
   "id": "97503d91",
   "metadata": {
    "vscode": {
     "languageId": "r"
    }
   },
   "outputs": [
    {
     "name": "stdout",
     "output_type": "stream",
     "text": [
      "\u001b[90m# A tibble: 4 × 5\u001b[39m\n",
      "   year sector   total_sector pob_total porcentaje\n",
      "  \u001b[3m\u001b[90m<int>\u001b[39m\u001b[23m \u001b[3m\u001b[90m<chr>\u001b[39m\u001b[23m           \u001b[3m\u001b[90m<dbl>\u001b[39m\u001b[23m     \u001b[3m\u001b[90m<dbl>\u001b[39m\u001b[23m      \u001b[3m\u001b[90m<dbl>\u001b[39m\u001b[23m\n",
      "\u001b[90m1\u001b[39m  \u001b[4m2\u001b[24m021 Informal      7\u001b[4m9\u001b[24m\u001b[4m5\u001b[24m\u001b[4m7\u001b[24m422  16\u001b[4m8\u001b[24m\u001b[4m4\u001b[24m\u001b[4m6\u001b[24m846       47.2\n",
      "\u001b[90m2\u001b[39m  \u001b[4m2\u001b[24m022 Informal      8\u001b[4m4\u001b[24m\u001b[4m0\u001b[24m\u001b[4m0\u001b[24m414  18\u001b[4m1\u001b[24m\u001b[4m6\u001b[24m\u001b[4m4\u001b[24m783       46.2\n",
      "\u001b[90m3\u001b[39m  \u001b[4m2\u001b[24m023 Informal      8\u001b[4m5\u001b[24m\u001b[4m6\u001b[24m\u001b[4m0\u001b[24m864  18\u001b[4m7\u001b[24m\u001b[4m7\u001b[24m\u001b[4m2\u001b[24m600       45.6\n",
      "\u001b[90m4\u001b[39m  \u001b[4m2\u001b[24m024 Informal      8\u001b[4m6\u001b[24m\u001b[4m6\u001b[24m\u001b[4m6\u001b[24m509  19\u001b[4m4\u001b[24m\u001b[4m5\u001b[24m\u001b[4m3\u001b[24m987       44.5\n"
     ]
    }
   ],
   "source": [
    "# Unir resultados finales\n",
    "informal_final <- bind_rows(Informal) %>%\n",
    "  mutate(trimestre = factor(trimestre, levels = c(\"trim1\", \"trim2\", \"trim3\", \"trim4\"))) %>%\n",
    "  arrange(year, trimestre)\n",
    "\n",
    "# Agregar por año\n",
    "informal_anual <- informal_final %>%\n",
    "  group_by(year, sector) %>%\n",
    "  summarise(\n",
    "    total_sector = sum(total_sector, na.rm = TRUE),\n",
    "    pob_total = sum(pob_total, na.rm = TRUE),\n",
    "    porcentaje = (total_sector / pob_total) * 100,\n",
    "    .groups = \"drop\"\n",
    "  ) %>%\n",
    "  arrange(year)\n",
    "\n",
    "\n",
    "informal_anual <- informal_final %>%\n",
    "  group_by(year, sector) %>%\n",
    "  summarise(\n",
    "    total_sector = sum(total_sector, na.rm = TRUE),\n",
    "    pob_total = sum(pob_total, na.rm = TRUE),\n",
    "    porcentaje = (total_sector / pob_total) * 100,\n",
    "    .groups = \"drop\"\n",
    "  ) %>%\n",
    "  arrange(year)\n",
    "\n",
    "# Mostrar resultado anual\n",
    "print(informal_anual)\n",
    "\n"
   ]
  },
  {
   "cell_type": "code",
   "execution_count": null,
   "id": "ea9d5269",
   "metadata": {
    "vscode": {
     "languageId": "r"
    }
   },
   "outputs": [
    {
     "name": "stdout",
     "output_type": "stream",
     "text": [
      "\u001b[90m# A tibble: 16 × 5\u001b[39m\n",
      "    year trimestre total_ocupados total_tpo4 porcentaje\n",
      "   \u001b[3m\u001b[90m<int>\u001b[39m\u001b[23m \u001b[3m\u001b[90m<fct>\u001b[39m\u001b[23m              \u001b[3m\u001b[90m<dbl>\u001b[39m\u001b[23m      \u001b[3m\u001b[90m<dbl>\u001b[39m\u001b[23m      \u001b[3m\u001b[90m<dbl>\u001b[39m\u001b[23m\n",
      "\u001b[90m 1\u001b[39m  \u001b[4m2\u001b[24m021 trim1            3\u001b[4m8\u001b[24m\u001b[4m7\u001b[24m\u001b[4m0\u001b[24m454    1\u001b[4m7\u001b[24m\u001b[4m9\u001b[24m\u001b[4m4\u001b[24m589       46.4\n",
      "\u001b[90m 2\u001b[39m  \u001b[4m2\u001b[24m021 trim2            4\u001b[4m1\u001b[24m\u001b[4m1\u001b[24m\u001b[4m7\u001b[24m427    1\u001b[4m9\u001b[24m\u001b[4m3\u001b[24m\u001b[4m9\u001b[24m674       47.1\n",
      "\u001b[90m 3\u001b[39m  \u001b[4m2\u001b[24m021 trim3            4\u001b[4m3\u001b[24m\u001b[4m9\u001b[24m\u001b[4m3\u001b[24m859    2\u001b[4m1\u001b[24m\u001b[4m6\u001b[24m\u001b[4m8\u001b[24m037       49.3\n",
      "\u001b[90m 4\u001b[39m  \u001b[4m2\u001b[24m021 trim4            4\u001b[4m4\u001b[24m\u001b[4m6\u001b[24m\u001b[4m5\u001b[24m106    2\u001b[4m1\u001b[24m\u001b[4m4\u001b[24m\u001b[4m4\u001b[24m407       48.0\n",
      "\u001b[90m 5\u001b[39m  \u001b[4m2\u001b[24m022 trim1            4\u001b[4m3\u001b[24m\u001b[4m8\u001b[24m\u001b[4m5\u001b[24m718    2\u001b[4m0\u001b[24m\u001b[4m2\u001b[24m\u001b[4m3\u001b[24m263       46.1\n",
      "\u001b[90m 6\u001b[39m  \u001b[4m2\u001b[24m022 trim2            4\u001b[4m5\u001b[24m\u001b[4m3\u001b[24m\u001b[4m4\u001b[24m376    2\u001b[4m1\u001b[24m\u001b[4m8\u001b[24m\u001b[4m0\u001b[24m962       48.1\n",
      "\u001b[90m 7\u001b[39m  \u001b[4m2\u001b[24m022 trim3            4\u001b[4m5\u001b[24m\u001b[4m4\u001b[24m\u001b[4m6\u001b[24m515    2\u001b[4m1\u001b[24m\u001b[4m6\u001b[24m\u001b[4m8\u001b[24m004       47.7\n",
      "\u001b[90m 8\u001b[39m  \u001b[4m2\u001b[24m022 trim4            4\u001b[4m6\u001b[24m\u001b[4m9\u001b[24m\u001b[4m8\u001b[24m174    2\u001b[4m1\u001b[24m\u001b[4m5\u001b[24m\u001b[4m2\u001b[24m425       45.8\n",
      "\u001b[90m 9\u001b[39m  \u001b[4m2\u001b[24m023 trim1            4\u001b[4m6\u001b[24m\u001b[4m9\u001b[24m\u001b[4m3\u001b[24m298    2\u001b[4m1\u001b[24m\u001b[4m6\u001b[24m\u001b[4m9\u001b[24m763       46.2\n",
      "\u001b[90m10\u001b[39m  \u001b[4m2\u001b[24m023 trim2            4\u001b[4m7\u001b[24m\u001b[4m0\u001b[24m\u001b[4m9\u001b[24m095    2\u001b[4m1\u001b[24m\u001b[4m7\u001b[24m\u001b[4m9\u001b[24m459       46.3\n",
      "\u001b[90m11\u001b[39m  \u001b[4m2\u001b[24m023 trim3            4\u001b[4m7\u001b[24m\u001b[4m1\u001b[24m\u001b[4m2\u001b[24m506    2\u001b[4m1\u001b[24m\u001b[4m9\u001b[24m\u001b[4m1\u001b[24m013       46.5\n",
      "\u001b[90m12\u001b[39m  \u001b[4m2\u001b[24m023 trim4            4\u001b[4m6\u001b[24m\u001b[4m5\u001b[24m\u001b[4m7\u001b[24m701    2\u001b[4m1\u001b[24m\u001b[4m3\u001b[24m\u001b[4m1\u001b[24m762       45.8\n",
      "\u001b[90m13\u001b[39m  \u001b[4m2\u001b[24m024 trim1            4\u001b[4m7\u001b[24m\u001b[4m1\u001b[24m\u001b[4m5\u001b[24m069    2\u001b[4m1\u001b[24m\u001b[4m9\u001b[24m\u001b[4m2\u001b[24m253       46.5\n",
      "\u001b[90m14\u001b[39m  \u001b[4m2\u001b[24m024 trim2            4\u001b[4m8\u001b[24m\u001b[4m3\u001b[24m\u001b[4m4\u001b[24m239    2\u001b[4m1\u001b[24m\u001b[4m9\u001b[24m\u001b[4m0\u001b[24m661       45.3\n",
      "\u001b[90m15\u001b[39m  \u001b[4m2\u001b[24m024 trim3            4\u001b[4m8\u001b[24m\u001b[4m9\u001b[24m\u001b[4m4\u001b[24m634    2\u001b[4m2\u001b[24m\u001b[4m1\u001b[24m\u001b[4m5\u001b[24m259       45.3\n",
      "\u001b[90m16\u001b[39m  \u001b[4m2\u001b[24m024 trim4            5\u001b[4m0\u001b[24m\u001b[4m1\u001b[24m\u001b[4m0\u001b[24m045    2\u001b[4m2\u001b[24m\u001b[4m7\u001b[24m\u001b[4m8\u001b[24m232       45.5\n"
     ]
    }
   ],
   "source": [
    "#CALCULO CORRECTO \n",
    "\n",
    "tpo4 <- list()\n",
    "\n",
    "calculo_tpo4 <- function(data_list) {\n",
    "  \n",
    "  for (year in names(data_list)) {\n",
    "    for (trim in names(data_list[[year]])) {\n",
    "      \n",
    "      if (!'SDEM' %in% names(data_list[[year]][[trim]])) next\n",
    "      \n",
    "      df_base <- data_list[[year]][[trim]][['SDEM']] %>%\n",
    "        janitor::clean_names() %>%\n",
    "        mutate(edad = as.numeric(eda)) %>%\n",
    "        filter(\n",
    "          r_def == 0,\n",
    "          c_res %in% c(1, 3),\n",
    "          edad >= 15 & edad <= 98,\n",
    "          ent == 9,\n",
    "          clase2 == 1  # Solo ocupados\n",
    "        )\n",
    "\n",
    "      # Total población ocupada\n",
    "      total_ocupados <- df_base %>%\n",
    "        summarise(total = sum(fac_tri, na.rm = TRUE)) %>%\n",
    "        pull(total)\n",
    "\n",
    "      # Aplicar filtro TPO4\n",
    "      df_tpo4 <- df_base %>%\n",
    "        filter(\n",
    "          (tip_con == 5 & seg_soc == 2 & emp_ppal == 2) |\n",
    "          (pos_ocu %in% c(1, 2, 3, 4) & emp_ppal == 1)\n",
    "        )\n",
    "\n",
    "      total_tpo4 <- sum(df_tpo4$fac_tri, na.rm = TRUE)\n",
    "\n",
    "      porcentaje <- (total_tpo4 / total_ocupados) * 100\n",
    "\n",
    "      tpo4[[paste0('promedio_', year, '_', trim)]] <<- tibble(\n",
    "        year = as.integer(year),\n",
    "        trimestre = trim,\n",
    "        total_ocupados = total_ocupados,\n",
    "        total_tpo4 = total_tpo4,\n",
    "        porcentaje = porcentaje\n",
    "      )\n",
    "    }\n",
    "  }\n",
    "}\n",
    "\n",
    "# Ejecutar función\n",
    "invisible(calculo_tpo4(data_list))\n",
    "\n",
    "# Combinar resultados\n",
    "tpo4_final <- bind_rows(tpo4) %>%\n",
    "  mutate(trimestre = factor(trimestre, levels = c('trim1', 'trim2', 'trim3', 'trim4'))) %>%\n",
    "  arrange(year, trimestre)\n",
    "\n",
    "print(tpo4_final)\n"
   ]
  },
  {
   "cell_type": "markdown",
   "id": "8351efab",
   "metadata": {},
   "source": [
    "Tasa de participación económica de las mujeres                                                                                                                                                                              Porcentaje que representa la población económicamente activa (PEA) respecto a la de 15 y más años de edad.\n"
   ]
  },
  {
   "cell_type": "code",
   "execution_count": 14,
   "id": "9564b6fd",
   "metadata": {
    "vscode": {
     "languageId": "r"
    }
   },
   "outputs": [],
   "source": [
    "Variables <- list() #Lista para filtrar y seleccionar las variables que necesitamos\n",
    "PobTot <- list() #Lista para vaciar valores de pob_total\n",
    "PEAmujeres <- list() #Lista para vaciar los valores de población eco"
   ]
  },
  {
   "cell_type": "code",
   "execution_count": 15,
   "id": "ac895721",
   "metadata": {
    "vscode": {
     "languageId": "r"
    }
   },
   "outputs": [],
   "source": [
    "# Lista para resultados\n",
    "TPE_Mujeres <- list()"
   ]
  },
  {
   "cell_type": "code",
   "execution_count": null,
   "id": "17fc621b",
   "metadata": {
    "vscode": {
     "languageId": "r"
    }
   },
   "outputs": [],
   "source": [
    "calculo_tpe_mujeres <- function(data_list) {\n",
    "  for (year in names(data_list)) {\n",
    "    for (trim in names(data_list[[year]])) {\n",
    "      if (!'SDEM' %in% names(data_list[[year]][[trim]])) next\n",
    "      \n",
    "      df <- data_list[[year]][[trim]][['SDEM']] %>%\n",
    "        clean_names() %>%\n",
    "        mutate(edad = as.numeric(eda),\n",
    "               sexo = as.integer(sex)) %>%\n",
    "        filter(r_def == 0, (c_res == 1 | c_res == 3), edad >= 15 & edad <= 98,\n",
    "               sex == 2,  \n",
    "               ent == 9)   \n",
    "\n",
    "      # Población total mujeres 15+\n",
    "      pob_total_muj <- sum(df$fac_tri, na.rm = TRUE)\n",
    "      \n",
    "      pea_muj <- df %>%\n",
    "        filter(clase2 == 1) %>%\n",
    "        summarise(total_pea = sum(fac_tri, na.rm = TRUE)) %>%\n",
    "        pull(total_pea)\n",
    "      \n",
    "      tpe <- (pea_muj / pob_total_muj) * 100\n",
    "      \n",
    "      TPE_Mujeres[[paste0(\"tpe_\", year, \"_\", trim)]] <<- tibble(\n",
    "        year = as.integer(year),\n",
    "        trimestre = trim,\n",
    "        pob_total_muj = pob_total_muj,\n",
    "        pea_muj = pea_muj,\n",
    "        tpe_muj = tpe\n",
    "      )\n",
    "    }\n",
    "  }\n",
    "}"
   ]
  },
  {
   "cell_type": "code",
   "execution_count": 17,
   "id": "839d2033",
   "metadata": {
    "vscode": {
     "languageId": "r"
    }
   },
   "outputs": [],
   "source": [
    "# Ejecutar función sin mostrar resultados intermedios\n",
    "invisible(calculo_tpe_mujeres(data_list))"
   ]
  },
  {
   "cell_type": "code",
   "execution_count": 18,
   "id": "f6d87480",
   "metadata": {
    "vscode": {
     "languageId": "r"
    }
   },
   "outputs": [],
   "source": [
    "# Unir resultados finales\n",
    "tpe_mujeres_final <- bind_rows(TPE_Mujeres) %>%\n",
    "  mutate(trimestre = factor(trimestre, levels = c(\"trim1\", \"trim2\", \"trim3\", \"trim4\"))) %>%\n",
    "  arrange(year, trimestre)"
   ]
  },
  {
   "cell_type": "code",
   "execution_count": 19,
   "id": "4560eadf",
   "metadata": {
    "vscode": {
     "languageId": "r"
    }
   },
   "outputs": [
    {
     "name": "stdout",
     "output_type": "stream",
     "text": [
      "\u001b[90m# A tibble: 16 × 5\u001b[39m\n",
      "    year trimestre pob_total_muj pea_muj tpe_muj\n",
      "   \u001b[3m\u001b[90m<int>\u001b[39m\u001b[23m \u001b[3m\u001b[90m<fct>\u001b[39m\u001b[23m             \u001b[3m\u001b[90m<dbl>\u001b[39m\u001b[23m   \u001b[3m\u001b[90m<dbl>\u001b[39m\u001b[23m   \u001b[3m\u001b[90m<dbl>\u001b[39m\u001b[23m\n",
      "\u001b[90m 1\u001b[39m  \u001b[4m2\u001b[24m021 trim1           4\u001b[4m1\u001b[24m\u001b[4m6\u001b[24m\u001b[4m8\u001b[24m688 1\u001b[4m6\u001b[24m\u001b[4m9\u001b[24m\u001b[4m1\u001b[24m499    40.6\n",
      "\u001b[90m 2\u001b[39m  \u001b[4m2\u001b[24m021 trim2           4\u001b[4m1\u001b[24m\u001b[4m5\u001b[24m\u001b[4m1\u001b[24m850 1\u001b[4m7\u001b[24m\u001b[4m7\u001b[24m\u001b[4m2\u001b[24m648    42.7\n",
      "\u001b[90m 3\u001b[39m  \u001b[4m2\u001b[24m021 trim3           4\u001b[4m1\u001b[24m\u001b[4m7\u001b[24m\u001b[4m4\u001b[24m088 1\u001b[4m9\u001b[24m\u001b[4m7\u001b[24m\u001b[4m0\u001b[24m545    47.2\n",
      "\u001b[90m 4\u001b[39m  \u001b[4m2\u001b[24m021 trim4           4\u001b[4m1\u001b[24m\u001b[4m5\u001b[24m\u001b[4m2\u001b[24m856 1\u001b[4m9\u001b[24m\u001b[4m8\u001b[24m\u001b[4m2\u001b[24m122    47.7\n",
      "\u001b[90m 5\u001b[39m  \u001b[4m2\u001b[24m022 trim1           4\u001b[4m1\u001b[24m\u001b[4m4\u001b[24m\u001b[4m8\u001b[24m738 1\u001b[4m9\u001b[24m\u001b[4m4\u001b[24m\u001b[4m6\u001b[24m624    46.9\n",
      "\u001b[90m 6\u001b[39m  \u001b[4m2\u001b[24m022 trim2           4\u001b[4m1\u001b[24m\u001b[4m6\u001b[24m\u001b[4m3\u001b[24m416 1\u001b[4m9\u001b[24m\u001b[4m9\u001b[24m\u001b[4m2\u001b[24m162    47.8\n",
      "\u001b[90m 7\u001b[39m  \u001b[4m2\u001b[24m022 trim3           4\u001b[4m2\u001b[24m\u001b[4m1\u001b[24m\u001b[4m4\u001b[24m921 2\u001b[4m0\u001b[24m\u001b[4m0\u001b[24m\u001b[4m9\u001b[24m548    47.7\n",
      "\u001b[90m 8\u001b[39m  \u001b[4m2\u001b[24m022 trim4           4\u001b[4m2\u001b[24m\u001b[4m0\u001b[24m\u001b[4m5\u001b[24m491 2\u001b[4m1\u001b[24m\u001b[4m1\u001b[24m\u001b[4m6\u001b[24m597    50.3\n",
      "\u001b[90m 9\u001b[39m  \u001b[4m2\u001b[24m023 trim1           4\u001b[4m1\u001b[24m\u001b[4m7\u001b[24m\u001b[4m1\u001b[24m434 2\u001b[4m0\u001b[24m\u001b[4m6\u001b[24m\u001b[4m6\u001b[24m809    49.5\n",
      "\u001b[90m10\u001b[39m  \u001b[4m2\u001b[24m023 trim2           4\u001b[4m2\u001b[24m\u001b[4m3\u001b[24m\u001b[4m9\u001b[24m135 2\u001b[4m1\u001b[24m\u001b[4m4\u001b[24m\u001b[4m2\u001b[24m635    50.5\n",
      "\u001b[90m11\u001b[39m  \u001b[4m2\u001b[24m023 trim3           4\u001b[4m2\u001b[24m\u001b[4m0\u001b[24m\u001b[4m2\u001b[24m125 2\u001b[4m1\u001b[24m\u001b[4m0\u001b[24m\u001b[4m8\u001b[24m472    50.2\n",
      "\u001b[90m12\u001b[39m  \u001b[4m2\u001b[24m023 trim4           4\u001b[4m2\u001b[24m\u001b[4m7\u001b[24m\u001b[4m5\u001b[24m915 2\u001b[4m1\u001b[24m\u001b[4m0\u001b[24m\u001b[4m1\u001b[24m821    49.2\n",
      "\u001b[90m13\u001b[39m  \u001b[4m2\u001b[24m024 trim1           4\u001b[4m3\u001b[24m\u001b[4m3\u001b[24m\u001b[4m9\u001b[24m569 2\u001b[4m1\u001b[24m\u001b[4m6\u001b[24m\u001b[4m8\u001b[24m563    50.0\n",
      "\u001b[90m14\u001b[39m  \u001b[4m2\u001b[24m024 trim2           4\u001b[4m3\u001b[24m\u001b[4m5\u001b[24m\u001b[4m5\u001b[24m221 2\u001b[4m2\u001b[24m\u001b[4m6\u001b[24m\u001b[4m9\u001b[24m963    52.1\n",
      "\u001b[90m15\u001b[39m  \u001b[4m2\u001b[24m024 trim3           4\u001b[4m3\u001b[24m\u001b[4m4\u001b[24m\u001b[4m9\u001b[24m180 2\u001b[4m2\u001b[24m\u001b[4m9\u001b[24m\u001b[4m3\u001b[24m694    52.7\n",
      "\u001b[90m16\u001b[39m  \u001b[4m2\u001b[24m024 trim4           4\u001b[4m3\u001b[24m\u001b[4m5\u001b[24m\u001b[4m4\u001b[24m909 2\u001b[4m3\u001b[24m\u001b[4m9\u001b[24m\u001b[4m3\u001b[24m929    55.0\n"
     ]
    }
   ],
   "source": [
    "# Mostrar resultados\n",
    "print(tpe_mujeres_final)"
   ]
  },
  {
   "cell_type": "markdown",
   "id": "57344593",
   "metadata": {},
   "source": [
    "Indicador de Productividad Laboral"
   ]
  },
  {
   "cell_type": "code",
   "execution_count": null,
   "id": "97165ebd",
   "metadata": {
    "vscode": {
     "languageId": "r"
    }
   },
   "outputs": [],
   "source": [
    "vab_cdmx <- read_csv(\"vab_cdmx.csv\")"
   ]
  },
  {
   "cell_type": "code",
   "execution_count": 98,
   "id": "b88be5e1",
   "metadata": {
    "vscode": {
     "languageId": "r"
    }
   },
   "outputs": [
    {
     "data": {
      "text/html": [
       "<style>\n",
       ".list-inline {list-style: none; margin:0; padding: 0}\n",
       ".list-inline>li {display: inline-block}\n",
       ".list-inline>li:not(:last-child)::after {content: \"\\00b7\"; padding: 0 .5ex}\n",
       "</style>\n",
       "<ol class=list-inline><li>'escenarios_trabajo.ipynb'</li><li>'Indicadores_trabajo.ipynb'</li><li>'Microdatos'</li><li>'PGD'</li><li>'Sistema_Indicadores_ENOE.ipynb'</li><li>'vab_cdmx.csv'</li></ol>\n"
      ],
      "text/latex": [
       "\\begin{enumerate*}\n",
       "\\item 'escenarios\\_trabajo.ipynb'\n",
       "\\item 'Indicadores\\_trabajo.ipynb'\n",
       "\\item 'Microdatos'\n",
       "\\item 'PGD'\n",
       "\\item 'Sistema\\_Indicadores\\_ENOE.ipynb'\n",
       "\\item 'vab\\_cdmx.csv'\n",
       "\\end{enumerate*}\n"
      ],
      "text/markdown": [
       "1. 'escenarios_trabajo.ipynb'\n",
       "2. 'Indicadores_trabajo.ipynb'\n",
       "3. 'Microdatos'\n",
       "4. 'PGD'\n",
       "5. 'Sistema_Indicadores_ENOE.ipynb'\n",
       "6. 'vab_cdmx.csv'\n",
       "\n",
       "\n"
      ],
      "text/plain": [
       "[1] \"escenarios_trabajo.ipynb\"       \"Indicadores_trabajo.ipynb\"     \n",
       "[3] \"Microdatos\"                     \"PGD\"                           \n",
       "[5] \"Sistema_Indicadores_ENOE.ipynb\" \"vab_cdmx.csv\"                  "
      ]
     },
     "metadata": {},
     "output_type": "display_data"
    }
   ],
   "source": [
    "list.files()"
   ]
  },
  {
   "cell_type": "code",
   "execution_count": 99,
   "id": "b06b29bb",
   "metadata": {
    "vscode": {
     "languageId": "r"
    }
   },
   "outputs": [
    {
     "data": {
      "text/html": [
       "'c:/Users/ipdp_/Escritorio/Monserrat/TRABAJO PGD'"
      ],
      "text/latex": [
       "'c:/Users/ipdp\\_/Escritorio/Monserrat/TRABAJO PGD'"
      ],
      "text/markdown": [
       "'c:/Users/ipdp_/Escritorio/Monserrat/TRABAJO PGD'"
      ],
      "text/plain": [
       "[1] \"c:/Users/ipdp_/Escritorio/Monserrat/TRABAJO PGD\""
      ]
     },
     "metadata": {},
     "output_type": "display_data"
    }
   ],
   "source": [
    "getwd()\n"
   ]
  },
  {
   "cell_type": "code",
   "execution_count": null,
   "id": "d590689a",
   "metadata": {
    "vscode": {
     "languageId": "r"
    }
   },
   "outputs": [],
   "source": [
    "vab_raw <- read_csv(\"vab_cdmx.csv\")"
   ]
  },
  {
   "cell_type": "code",
   "execution_count": 108,
   "id": "4c3a7e8e",
   "metadata": {
    "vscode": {
     "languageId": "r"
    }
   },
   "outputs": [
    {
     "data": {
      "text/html": [
       "<table class=\"dataframe\">\n",
       "<caption>A spec_tbl_df: 386 × 22</caption>\n",
       "<thead>\n",
       "\t<tr><th scope=col>Concepto</th><th scope=col>2003</th><th scope=col>2004</th><th scope=col>2005</th><th scope=col>2006</th><th scope=col>2007</th><th scope=col>2008</th><th scope=col>2009</th><th scope=col>2010</th><th scope=col>2011</th><th scope=col>⋯</th><th scope=col>2014</th><th scope=col>2015</th><th scope=col>2016</th><th scope=col>2017</th><th scope=col>2018</th><th scope=col>2019</th><th scope=col>2020</th><th scope=col>2021</th><th scope=col>2022 R</th><th scope=col>2023 P</th></tr>\n",
       "\t<tr><th scope=col>&lt;chr&gt;</th><th scope=col>&lt;dbl&gt;</th><th scope=col>&lt;dbl&gt;</th><th scope=col>&lt;dbl&gt;</th><th scope=col>&lt;dbl&gt;</th><th scope=col>&lt;dbl&gt;</th><th scope=col>&lt;dbl&gt;</th><th scope=col>&lt;dbl&gt;</th><th scope=col>&lt;dbl&gt;</th><th scope=col>&lt;dbl&gt;</th><th scope=col>⋯</th><th scope=col>&lt;dbl&gt;</th><th scope=col>&lt;dbl&gt;</th><th scope=col>&lt;dbl&gt;</th><th scope=col>&lt;dbl&gt;</th><th scope=col>&lt;dbl&gt;</th><th scope=col>&lt;dbl&gt;</th><th scope=col>&lt;dbl&gt;</th><th scope=col>&lt;dbl&gt;</th><th scope=col>&lt;dbl&gt;</th><th scope=col>&lt;dbl&gt;</th></tr>\n",
       "</thead>\n",
       "<tbody>\n",
       "\t<tr><td>Millones de pesos a precios de 2018</td><td>        NA</td><td>        NA</td><td>        NA</td><td>        NA</td><td>        NA</td><td>        NA</td><td>        NA</td><td>        NA</td><td>        NA</td><td>⋯</td><td>        NA</td><td>        NA</td><td>        NA</td><td>        NA</td><td>        NA</td><td>        NA</td><td>        NA</td><td>        NA</td><td>        NA</td><td>        NA</td></tr>\n",
       "\t<tr><td>a  B.1bV - Valor agregado bruto    </td><td>        NA</td><td>        NA</td><td>        NA</td><td>        NA</td><td>        NA</td><td>        NA</td><td>        NA</td><td>        NA</td><td>        NA</td><td>⋯</td><td>        NA</td><td>        NA</td><td>        NA</td><td>        NA</td><td>        NA</td><td>        NA</td><td>        NA</td><td>        NA</td><td>        NA</td><td>        NA</td></tr>\n",
       "\t<tr><td>Estados Unidos Mexicanos           </td><td>592478.460</td><td>607316.558</td><td>588558.452</td><td>623901.414</td><td>651139.000</td><td>656325.502</td><td>638074.598</td><td>653518.474</td><td>637703.495</td><td>⋯</td><td>718687.394</td><td>732003.814</td><td>753344.638</td><td>777962.381</td><td>797095.021</td><td>799476.894</td><td>808429.880</td><td>827208.787</td><td>840161.193</td><td>828041.916</td></tr>\n",
       "\t<tr><td>Aguascalientes                     </td><td>  6761.509</td><td>  6688.170</td><td>  7137.339</td><td>  7459.947</td><td>  7799.641</td><td>  8428.549</td><td>  8083.994</td><td>  8504.018</td><td>  9023.803</td><td>⋯</td><td> 10207.219</td><td> 10636.975</td><td> 11049.605</td><td> 11773.626</td><td> 12196.068</td><td> 12409.537</td><td> 12714.026</td><td> 13055.677</td><td> 12947.315</td><td> 12983.940</td></tr>\n",
       "\t<tr><td>Baja California                    </td><td> 15451.977</td><td> 17897.244</td><td> 18277.022</td><td> 17538.554</td><td> 16570.119</td><td> 16201.753</td><td> 18709.536</td><td> 18920.280</td><td> 18312.404</td><td>⋯</td><td> 19265.785</td><td> 20482.275</td><td> 19277.960</td><td> 21009.541</td><td> 21408.907</td><td> 21874.793</td><td> 19920.240</td><td> 20766.047</td><td> 23073.243</td><td> 23595.050</td></tr>\n",
       "\t<tr><td>Baja California Sur                </td><td>  4126.691</td><td>  3825.118</td><td>  4459.798</td><td>  4030.299</td><td>  4275.192</td><td>  3995.717</td><td>  3862.262</td><td>  4598.812</td><td>  4557.858</td><td>⋯</td><td>  5575.650</td><td>  5874.223</td><td>  6201.172</td><td>  6049.484</td><td>  6351.325</td><td>  6347.865</td><td>  6825.902</td><td>  7604.291</td><td>  7422.812</td><td>  7341.275</td></tr>\n",
       "\t<tr><td>Campeche                           </td><td>  3334.985</td><td>  4124.897</td><td>  4238.917</td><td>  4728.508</td><td>  3522.368</td><td>  4092.090</td><td>  4255.562</td><td>  4964.887</td><td>  4552.409</td><td>⋯</td><td>  5384.054</td><td>  5767.381</td><td>  6276.866</td><td>  6263.550</td><td>  6495.615</td><td>  6235.737</td><td>  6444.039</td><td>  6832.877</td><td>  5981.548</td><td>  6121.068</td></tr>\n",
       "\t<tr><td>Coahuila de Zaragoza               </td><td> 15048.462</td><td> 15628.885</td><td> 17451.523</td><td> 16317.073</td><td> 16879.549</td><td> 16562.888</td><td> 18017.221</td><td> 18406.247</td><td> 18793.706</td><td>⋯</td><td> 18748.817</td><td> 17863.108</td><td> 16688.639</td><td> 16818.627</td><td> 17696.895</td><td> 18285.792</td><td> 19015.259</td><td> 18894.364</td><td> 19095.324</td><td> 18623.403</td></tr>\n",
       "\t<tr><td>Colima                             </td><td>  7050.439</td><td>  7328.194</td><td>  6929.928</td><td>  7530.338</td><td>  7665.183</td><td>  8065.372</td><td>  6359.863</td><td>  6663.656</td><td>  7244.732</td><td>⋯</td><td>  5915.154</td><td>  5959.494</td><td>  6616.223</td><td>  6886.233</td><td>  7344.258</td><td>  7407.790</td><td>  7629.655</td><td>  7685.166</td><td>  8379.885</td><td>  8231.778</td></tr>\n",
       "\t<tr><td>Chiapas                            </td><td> 24421.907</td><td> 22016.961</td><td> 21022.136</td><td> 21865.556</td><td> 22643.923</td><td> 22584.634</td><td> 22710.904</td><td> 23813.518</td><td> 23643.610</td><td>⋯</td><td> 22719.196</td><td> 22966.983</td><td> 23352.037</td><td> 22734.160</td><td> 23181.939</td><td> 23614.397</td><td> 23975.283</td><td> 24623.253</td><td> 24708.878</td><td> 24530.694</td></tr>\n",
       "\t<tr><td>Chihuahua                          </td><td> 31665.975</td><td> 33102.600</td><td> 34995.749</td><td> 38473.995</td><td> 39643.821</td><td> 38245.514</td><td> 40051.333</td><td> 42970.242</td><td> 44639.658</td><td>⋯</td><td> 49036.028</td><td> 52035.297</td><td> 49578.111</td><td> 55014.863</td><td> 56419.942</td><td> 54637.593</td><td> 52743.528</td><td> 53036.138</td><td> 58147.480</td><td> 58593.008</td></tr>\n",
       "\t<tr><td>Ciudad de México                   </td><td>  1689.049</td><td>  1646.528</td><td>  1756.055</td><td>  1600.020</td><td>  1521.406</td><td>  1445.547</td><td>  1531.048</td><td>  1524.757</td><td>  1563.192</td><td>⋯</td><td>  1394.786</td><td>  1412.303</td><td>  1404.851</td><td>  1301.570</td><td>  1367.925</td><td>  1404.854</td><td>  1382.562</td><td>  1379.428</td><td>  1343.591</td><td>  1261.321</td></tr>\n",
       "\t<tr><td>Durango                            </td><td> 23867.707</td><td> 24297.781</td><td> 20320.878</td><td> 23408.510</td><td> 22611.265</td><td> 22404.576</td><td> 23601.580</td><td> 22351.959</td><td> 20731.678</td><td>⋯</td><td> 24870.859</td><td> 24183.512</td><td> 24986.965</td><td> 25297.303</td><td> 24770.022</td><td> 24395.861</td><td> 24270.862</td><td> 26908.343</td><td> 26599.122</td><td> 25830.700</td></tr>\n",
       "\t<tr><td>Guanajuato                         </td><td> 30665.639</td><td> 32398.410</td><td> 29075.765</td><td> 28104.600</td><td> 30450.066</td><td> 31777.406</td><td> 31624.389</td><td> 32086.337</td><td> 31506.091</td><td>⋯</td><td> 35004.084</td><td> 34032.701</td><td> 34967.756</td><td> 38585.646</td><td> 40472.770</td><td> 40408.145</td><td> 41037.979</td><td> 44249.987</td><td> 43393.450</td><td> 42296.772</td></tr>\n",
       "\t<tr><td>Guerrero                           </td><td> 13751.134</td><td> 12987.350</td><td> 13453.155</td><td> 14221.675</td><td> 14267.296</td><td> 15010.535</td><td> 14270.161</td><td> 15112.159</td><td> 14839.485</td><td>⋯</td><td> 14486.226</td><td> 13605.544</td><td> 15156.898</td><td> 15455.838</td><td> 15461.676</td><td> 15071.909</td><td> 16404.009</td><td> 16549.242</td><td> 16894.097</td><td> 16188.869</td></tr>\n",
       "\t<tr><td>Hidalgo                            </td><td> 12227.523</td><td> 12150.619</td><td> 12052.495</td><td> 13351.885</td><td> 12822.901</td><td> 13213.807</td><td> 12286.567</td><td> 12528.195</td><td> 11138.377</td><td>⋯</td><td> 13155.211</td><td> 12971.272</td><td> 12744.778</td><td> 12540.417</td><td> 12575.647</td><td> 12014.702</td><td> 12052.798</td><td> 12033.351</td><td> 11908.746</td><td> 11632.980</td></tr>\n",
       "\t<tr><td>Jalisco                            </td><td> 63782.620</td><td> 71754.361</td><td> 68550.428</td><td> 73155.353</td><td> 79127.643</td><td> 80914.860</td><td> 70072.893</td><td> 77001.696</td><td> 76909.094</td><td>⋯</td><td> 95606.110</td><td> 92316.199</td><td> 93843.627</td><td> 95408.615</td><td> 98909.243</td><td>101276.038</td><td>103964.482</td><td>102899.840</td><td>107268.904</td><td>106231.324</td></tr>\n",
       "\t<tr><td>México                             </td><td> 25470.070</td><td> 25401.751</td><td> 23270.987</td><td> 25549.927</td><td> 29246.572</td><td> 25668.181</td><td> 22446.702</td><td> 24313.281</td><td> 20279.604</td><td>⋯</td><td> 27072.932</td><td> 27882.388</td><td> 29983.178</td><td> 29104.700</td><td> 26636.126</td><td> 26463.626</td><td> 27482.593</td><td> 27661.671</td><td> 26201.806</td><td> 25721.314</td></tr>\n",
       "\t<tr><td>Michoacán de Ocampo                </td><td> 46765.485</td><td> 43937.295</td><td> 43258.886</td><td> 49203.122</td><td> 51820.333</td><td> 55856.985</td><td> 53469.679</td><td> 50934.702</td><td> 56010.862</td><td>⋯</td><td> 65334.331</td><td> 64777.340</td><td> 75681.701</td><td> 81585.510</td><td> 84100.472</td><td> 84321.163</td><td> 83369.026</td><td> 88494.538</td><td> 89619.174</td><td> 96905.507</td></tr>\n",
       "\t<tr><td>Morelos                            </td><td>  6664.486</td><td>  7107.286</td><td>  7462.438</td><td>  7523.191</td><td>  8018.481</td><td>  6874.061</td><td>  7319.421</td><td>  7538.857</td><td>  6865.285</td><td>⋯</td><td>  7311.366</td><td>  6880.919</td><td>  7487.135</td><td>  7812.911</td><td>  8411.033</td><td>  8521.297</td><td>  8956.281</td><td>  9165.165</td><td>  9135.621</td><td>  8691.988</td></tr>\n",
       "\t<tr><td>Nayarit                            </td><td>  8486.309</td><td>  9810.450</td><td>  9606.887</td><td>  9579.378</td><td> 10914.949</td><td> 11977.436</td><td> 10744.929</td><td> 10432.239</td><td> 11523.203</td><td>⋯</td><td>  9845.298</td><td> 10029.065</td><td> 10947.327</td><td> 11113.242</td><td> 10841.588</td><td> 11756.258</td><td> 12009.310</td><td> 11801.647</td><td> 11866.755</td><td> 10704.271</td></tr>\n",
       "\t<tr><td>Nuevo León                         </td><td> 11260.127</td><td> 10348.765</td><td>  9649.533</td><td>  9426.818</td><td> 10348.043</td><td>  9707.646</td><td> 10150.258</td><td> 10616.776</td><td>  9489.093</td><td>⋯</td><td>  9918.297</td><td>  9215.727</td><td>  8444.347</td><td>  8499.742</td><td>  8533.487</td><td>  9383.745</td><td>  9321.439</td><td>  9069.977</td><td>  9313.725</td><td>  9289.034</td></tr>\n",
       "\t<tr><td>Oaxaca                             </td><td> 14957.333</td><td> 14292.573</td><td> 13357.900</td><td> 14633.156</td><td> 14657.705</td><td> 14994.696</td><td> 15799.840</td><td> 15568.875</td><td> 15037.116</td><td>⋯</td><td> 15796.989</td><td> 15602.892</td><td> 16276.290</td><td> 16258.727</td><td> 17238.302</td><td> 17206.943</td><td> 18066.560</td><td> 18761.539</td><td> 18418.170</td><td> 18095.419</td></tr>\n",
       "\t<tr><td>Puebla                             </td><td> 22662.831</td><td> 23876.390</td><td> 23785.417</td><td> 24970.806</td><td> 26092.038</td><td> 26292.938</td><td> 24804.126</td><td> 25638.325</td><td> 24219.270</td><td>⋯</td><td> 26876.787</td><td> 29235.406</td><td> 28997.512</td><td> 29221.803</td><td> 29959.675</td><td> 29743.716</td><td> 30486.404</td><td> 31059.028</td><td> 29632.369</td><td> 30745.098</td></tr>\n",
       "\t<tr><td>Querétaro                          </td><td>  8921.711</td><td>  8699.518</td><td>  7656.971</td><td>  8166.792</td><td>  9162.720</td><td>  8860.628</td><td>  8687.208</td><td>  9592.883</td><td>  8930.177</td><td>⋯</td><td> 11332.739</td><td> 12082.715</td><td> 11860.577</td><td> 13055.991</td><td> 13132.114</td><td> 12928.489</td><td> 13401.962</td><td> 13247.209</td><td> 13147.379</td><td> 13338.615</td></tr>\n",
       "\t<tr><td>Quintana Roo                       </td><td>  2193.717</td><td>  2227.590</td><td>  2407.522</td><td>  2720.438</td><td>  2206.367</td><td>  1917.629</td><td>  2234.876</td><td>  2766.973</td><td>  2842.105</td><td>⋯</td><td>  2503.062</td><td>  2525.895</td><td>  2508.744</td><td>  2733.616</td><td>  3349.049</td><td>  2744.315</td><td>  2561.076</td><td>  3572.758</td><td>  3540.648</td><td>  3293.983</td></tr>\n",
       "\t<tr><td>San Luis Potosí                    </td><td> 12922.575</td><td> 13295.740</td><td> 13825.103</td><td> 13704.280</td><td> 13989.282</td><td> 14633.634</td><td> 13458.341</td><td> 14504.363</td><td> 12667.915</td><td>⋯</td><td> 18091.385</td><td> 18340.398</td><td> 19218.235</td><td> 20469.638</td><td> 22093.380</td><td> 21508.801</td><td> 22507.072</td><td> 25228.174</td><td> 24873.755</td><td> 23865.488</td></tr>\n",
       "\t<tr><td>Sinaloa                            </td><td> 35722.874</td><td> 42554.908</td><td> 39966.875</td><td> 45827.582</td><td> 49537.617</td><td> 49017.722</td><td> 45582.724</td><td> 40655.119</td><td> 38434.784</td><td>⋯</td><td> 44577.948</td><td> 51915.537</td><td> 55519.158</td><td> 53897.929</td><td> 55995.981</td><td> 58366.190</td><td> 55284.623</td><td> 54219.092</td><td> 55164.852</td><td> 48686.965</td></tr>\n",
       "\t<tr><td>Sonora                             </td><td> 31679.284</td><td> 29355.469</td><td> 33119.270</td><td> 30835.479</td><td> 35456.173</td><td> 36718.606</td><td> 36486.071</td><td> 37762.892</td><td> 36716.831</td><td>⋯</td><td> 38548.011</td><td> 42530.264</td><td> 44678.203</td><td> 48933.952</td><td> 50921.477</td><td> 52368.945</td><td> 53089.504</td><td> 51913.115</td><td> 54132.415</td><td> 52053.111</td></tr>\n",
       "\t<tr><td>Tabasco                            </td><td>  9804.945</td><td> 10999.629</td><td>  9919.449</td><td> 10501.950</td><td>  9455.782</td><td>  9350.636</td><td>  9190.879</td><td>  9218.611</td><td>  8824.593</td><td>⋯</td><td>  9208.828</td><td>  9397.289</td><td>  9391.308</td><td> 10012.419</td><td> 10175.321</td><td>  9808.839</td><td>  9994.340</td><td> 10272.642</td><td> 10175.933</td><td> 10003.079</td></tr>\n",
       "\t<tr><td>⋮</td><td>⋮</td><td>⋮</td><td>⋮</td><td>⋮</td><td>⋮</td><td>⋮</td><td>⋮</td><td>⋮</td><td>⋮</td><td>⋱</td><td>⋮</td><td>⋮</td><td>⋮</td><td>⋮</td><td>⋮</td><td>⋮</td><td>⋮</td><td>⋮</td><td>⋮</td><td>⋮</td></tr>\n",
       "\t<tr><td>Campeche                                                                                                                                                                                                                                                                                                                                                                                                                                                                                                                                                                                                                                                                                                                                                                                                                                                                                                                                                    </td><td>NA</td><td> 4.96372867</td><td> 10.662540</td><td> 1.3125646</td><td> 8.6506335</td><td> 9.3845995</td><td> 0.1064238</td><td>10.986860</td><td> 12.46058860</td><td>⋯</td><td>  5.3935250</td><td> 6.0285509</td><td>12.730501</td><td> -0.88039196</td><td> 4.3683735</td><td> 4.7615222</td><td>10.2089999</td><td>19.666573</td><td>12.870860</td><td>13.090582</td></tr>\n",
       "\t<tr><td>Coahuila de Zaragoza                                                                                                                                                                                                                                                                                                                                                                                                                                                                                                                                                                                                                                                                                                                                                                                                                                                                                                                                        </td><td>NA</td><td> 6.66447085</td><td>  7.678560</td><td> 3.8972446</td><td> 2.1297531</td><td> 9.5751065</td><td> 3.0274792</td><td> 8.496918</td><td>  7.13878732</td><td>⋯</td><td> 13.0691121</td><td> 9.5016610</td><td> 5.039024</td><td>  0.64597344</td><td> 2.1451132</td><td> 2.8585472</td><td> 5.5122134</td><td> 8.585009</td><td>10.939688</td><td> 6.428647</td></tr>\n",
       "\t<tr><td>Colima                                                                                                                                                                                                                                                                                                                                                                                                                                                                                                                                                                                                                                                                                                                                                                                                                                                                                                                                                      </td><td>NA</td><td> 4.28518240</td><td> 14.790161</td><td> 0.2624869</td><td>11.3757267</td><td> 8.5359031</td><td> 8.4766674</td><td> 9.189473</td><td>  1.79122680</td><td>⋯</td><td> 12.1992312</td><td> 0.8222800</td><td>16.406071</td><td>  5.77722794</td><td> 7.9216953</td><td> 0.6767875</td><td> 5.3150234</td><td> 9.105774</td><td>14.092773</td><td>24.785097</td></tr>\n",
       "\t<tr><td>Chiapas                                                                                                                                                                                                                                                                                                                                                                                                                                                                                                                                                                                                                                                                                                                                                                                                                                                                                                                                                     </td><td>NA</td><td>11.61115328</td><td>  8.851390</td><td> 9.4794320</td><td> 8.1668087</td><td> 4.5662276</td><td> 2.9530279</td><td> 6.279007</td><td> 12.32390560</td><td>⋯</td><td>  4.3943570</td><td> 3.2997966</td><td> 9.502440</td><td>  1.42705366</td><td> 5.1085134</td><td> 0.3129659</td><td> 6.3068421</td><td> 8.438195</td><td> 5.268676</td><td>12.497839</td></tr>\n",
       "\t<tr><td>Chihuahua                                                                                                                                                                                                                                                                                                                                                                                                                                                                                                                                                                                                                                                                                                                                                                                                                                                                                                                                                   </td><td>NA</td><td>19.20358783</td><td>  4.022353</td><td> 1.9369241</td><td> 5.0764916</td><td> 4.2722439</td><td>-9.5578340</td><td>17.179173</td><td> -0.07655085</td><td>⋯</td><td>  7.1201984</td><td>16.4147204</td><td> 8.536674</td><td>  9.90315225</td><td> 2.9561543</td><td> 1.8280289</td><td> 4.0828564</td><td>21.265258</td><td> 1.207822</td><td>10.746562</td></tr>\n",
       "\t<tr><td>Ciudad de México                                                                                                                                                                                                                                                                                                                                                                                                                                                                                                                                                                                                                                                                                                                                                                                                                                                                                                                                            </td><td>NA</td><td>-4.27763922</td><td>-14.615064</td><td>44.1172288</td><td>-1.8091784</td><td> 9.9146486</td><td>-5.7747364</td><td>14.582706</td><td>-24.07620565</td><td>⋯</td><td>-16.0814496</td><td> 0.2698537</td><td>40.059242</td><td>-20.76155225</td><td>12.1943483</td><td> 7.8552647</td><td> 0.3035944</td><td>13.814789</td><td> 2.930865</td><td>11.689378</td></tr>\n",
       "\t<tr><td>Durango                                                                                                                                                                                                                                                                                                                                                                                                                                                                                                                                                                                                                                                                                                                                                                                                                                                                                                                                                     </td><td>NA</td><td> 5.80031405</td><td>  7.619694</td><td>-5.1310730</td><td> 4.5960988</td><td> 3.7930936</td><td> 3.7026614</td><td>-3.386613</td><td> 13.15330786</td><td>⋯</td><td>  6.3239098</td><td> 4.4392131</td><td> 7.848773</td><td>  3.36192532</td><td> 2.7257092</td><td> 4.5831586</td><td> 3.6274294</td><td> 9.025582</td><td>10.403810</td><td>10.759829</td></tr>\n",
       "\t<tr><td>Guanajuato                                                                                                                                                                                                                                                                                                                                                                                                                                                                                                                                                                                                                                                                                                                                                                                                                                                                                                                                                  </td><td>NA</td><td> 6.54481861</td><td> 11.809143</td><td> 7.9552920</td><td> 2.4516147</td><td>10.1122941</td><td>-0.2119840</td><td> 6.204101</td><td> 20.93698596</td><td>⋯</td><td> -0.4684045</td><td>12.0656200</td><td> 9.686397</td><td>  3.37187055</td><td> 8.6820935</td><td> 1.5118957</td><td>14.4462153</td><td>14.947058</td><td>12.902543</td><td> 7.726262</td></tr>\n",
       "\t<tr><td>Guerrero                                                                                                                                                                                                                                                                                                                                                                                                                                                                                                                                                                                                                                                                                                                                                                                                                                                                                                                                                    </td><td>NA</td><td> 4.67100718</td><td>  9.364471</td><td>-6.3528233</td><td>23.0010152</td><td>-7.8115549</td><td> 1.8591452</td><td> 4.593250</td><td> 13.93121124</td><td>⋯</td><td>  4.3806047</td><td> 4.9830227</td><td>10.063190</td><td>  4.73862310</td><td> 1.2922300</td><td> 2.0772219</td><td> 8.1693951</td><td> 8.848440</td><td> 6.203268</td><td>10.747454</td></tr>\n",
       "\t<tr><td>Hidalgo                                                                                                                                                                                                                                                                                                                                                                                                                                                                                                                                                                                                                                                                                                                                                                                                                                                                                                                                                     </td><td>NA</td><td>11.47338509</td><td>  5.266352</td><td> 6.4436001</td><td> 6.0495221</td><td> 6.7912367</td><td> 4.2444004</td><td> 5.937570</td><td> 14.11195856</td><td>⋯</td><td>  0.6474364</td><td> 5.1650415</td><td>11.819696</td><td> -0.59697213</td><td> 2.7750639</td><td> 3.6404648</td><td> 3.7286579</td><td> 5.001226</td><td>19.486895</td><td> 8.642329</td></tr>\n",
       "\t<tr><td>Jalisco                                                                                                                                                                                                                                                                                                                                                                                                                                                                                                                                                                                                                                                                                                                                                                                                                                                                                                                                                     </td><td>NA</td><td> 0.04792765</td><td> -4.998927</td><td>10.7113222</td><td>-1.4681036</td><td> 5.7048568</td><td> 9.1326450</td><td> 9.594195</td><td>  2.55602868</td><td>⋯</td><td>  4.8071555</td><td> 5.9997436</td><td> 6.179553</td><td> 14.77133610</td><td> 9.8655123</td><td> 9.2053176</td><td> 3.3863803</td><td>12.740724</td><td>16.387467</td><td>10.284648</td></tr>\n",
       "\t<tr><td>México                                                                                                                                                                                                                                                                                                                                                                                                                                                                                                                                                                                                                                                                                                                                                                                                                                                                                                                                                      </td><td>NA</td><td> 9.12653940</td><td> 12.629698</td><td> 4.1311520</td><td>13.6004802</td><td> 0.6629802</td><td> 5.2950616</td><td> 1.746531</td><td>  5.16438668</td><td>⋯</td><td> -0.2441689</td><td> 5.3423179</td><td> 9.147935</td><td>  4.14408523</td><td> 3.0136976</td><td> 1.1530884</td><td> 4.5119725</td><td>19.337370</td><td>11.796117</td><td> 9.511196</td></tr>\n",
       "\t<tr><td>Michoacán de Ocampo                                                                                                                                                                                                                                                                                                                                                                                                                                                                                                                                                                                                                                                                                                                                                                                                                                                                                                                                         </td><td>NA</td><td> 4.97594821</td><td>  8.276068</td><td>11.6055547</td><td>11.2922004</td><td> 3.1511063</td><td> 9.7736579</td><td> 6.199355</td><td> 12.76137799</td><td>⋯</td><td>  6.2475257</td><td> 1.7984733</td><td>20.162809</td><td> 11.38495256</td><td>-0.5792507</td><td> 7.7266510</td><td> 4.0108138</td><td> 1.132675</td><td>18.867360</td><td>-1.489316</td></tr>\n",
       "\t<tr><td>Morelos                                                                                                                                                                                                                                                                                                                                                                                                                                                                                                                                                                                                                                                                                                                                                                                                                                                                                                                                                     </td><td>NA</td><td> 5.79984143</td><td>  5.458342</td><td> 6.7261478</td><td> 9.3208321</td><td> 1.0754449</td><td>-8.0632425</td><td>32.319252</td><td> -1.37895885</td><td>⋯</td><td> -4.6730188</td><td> 0.4556370</td><td>15.531471</td><td>  6.60041807</td><td> 5.1344210</td><td> 4.6903189</td><td> 1.3062625</td><td>11.372297</td><td>14.156870</td><td> 5.583173</td></tr>\n",
       "\t<tr><td>Nayarit                                                                                                                                                                                                                                                                                                                                                                                                                                                                                                                                                                                                                                                                                                                                                                                                                                                                                                                                                     </td><td>NA</td><td> 3.68053862</td><td>  8.499903</td><td> 7.1837750</td><td> 0.8387916</td><td> 6.8051642</td><td> 1.6870405</td><td>16.181976</td><td> 10.22181816</td><td>⋯</td><td>  2.9623503</td><td> 7.3163019</td><td> 9.304171</td><td> 12.06648068</td><td> 6.5439656</td><td> 9.5958340</td><td> 5.4083011</td><td>15.899352</td><td>12.732866</td><td> 5.181975</td></tr>\n",
       "\t<tr><td>Nuevo León                                                                                                                                                                                                                                                                                                                                                                                                                                                                                                                                                                                                                                                                                                                                                                                                                                                                                                                                                  </td><td>NA</td><td>-0.24869469</td><td> 25.860256</td><td>-7.7673123</td><td>-2.0604915</td><td> 3.3188800</td><td>10.6803833</td><td> 5.967722</td><td> -5.62234223</td><td>⋯</td><td>  8.3656263</td><td> 7.3565343</td><td>11.821626</td><td>  7.48322309</td><td> 6.0511372</td><td> 0.8134386</td><td> 8.7188664</td><td> 1.431080</td><td>10.569846</td><td>15.755926</td></tr>\n",
       "\t<tr><td>Oaxaca                                                                                                                                                                                                                                                                                                                                                                                                                                                                                                                                                                                                                                                                                                                                                                                                                                                                                                                                                      </td><td>NA</td><td>-5.87138306</td><td>  3.930675</td><td> 7.7761401</td><td>15.7650960</td><td>-6.1496527</td><td> 3.1586929</td><td>10.922722</td><td>  7.29219977</td><td>⋯</td><td>  5.6406573</td><td> 5.6236573</td><td>12.694268</td><td>  5.87336087</td><td> 0.3572529</td><td> 0.9473443</td><td> 5.9446406</td><td> 6.805905</td><td> 7.423202</td><td>19.290070</td></tr>\n",
       "\t<tr><td>Puebla                                                                                                                                                                                                                                                                                                                                                                                                                                                                                                                                                                                                                                                                                                                                                                                                                                                                                                                                                      </td><td>NA</td><td> 5.85037886</td><td>  3.455946</td><td> 4.3133412</td><td> 7.9395030</td><td> 7.8215762</td><td> 8.5879925</td><td> 3.832310</td><td>  7.56883790</td><td>⋯</td><td>  1.5279914</td><td> 1.7332206</td><td> 6.334915</td><td>  3.43961965</td><td> 4.1627266</td><td> 0.2267370</td><td> 5.1045953</td><td>10.196491</td><td>11.376264</td><td>13.031167</td></tr>\n",
       "\t<tr><td>Querétaro                                                                                                                                                                                                                                                                                                                                                                                                                                                                                                                                                                                                                                                                                                                                                                                                                                                                                                                                                   </td><td>NA</td><td> 3.90169822</td><td> 11.007637</td><td>-2.3293613</td><td> 1.7344504</td><td> 0.2911690</td><td>-0.5904359</td><td>12.730624</td><td>  4.22894458</td><td>⋯</td><td>  3.9139628</td><td> 4.2705100</td><td> 8.769771</td><td> -1.76326003</td><td>11.2822234</td><td>-2.4716113</td><td>12.6833772</td><td> 7.925483</td><td> 8.400795</td><td>12.090409</td></tr>\n",
       "\t<tr><td>Quintana Roo                                                                                                                                                                                                                                                                                                                                                                                                                                                                                                                                                                                                                                                                                                                                                                                                                                                                                                                                                </td><td>NA</td><td> 8.85049652</td><td> 13.462859</td><td>-4.5571003</td><td> 2.4906691</td><td>-7.4834165</td><td>15.1896389</td><td>35.341757</td><td> -1.86186260</td><td>⋯</td><td> -3.0726030</td><td>11.8467953</td><td>16.068682</td><td>  3.66522050</td><td> 8.2544313</td><td> 4.2757482</td><td> 9.9622450</td><td> 5.095642</td><td> 8.421962</td><td>22.570854</td></tr>\n",
       "\t<tr><td>San Luis Potosí                                                                                                                                                                                                                                                                                                                                                                                                                                                                                                                                                                                                                                                                                                                                                                                                                                                                                                                                             </td><td>NA</td><td>11.42944168</td><td> -2.627406</td><td>10.6213395</td><td> 6.5952478</td><td> 5.9671353</td><td>-0.6130154</td><td>19.074390</td><td>  7.76588170</td><td>⋯</td><td>  4.2460295</td><td>17.0753302</td><td> 5.149183</td><td> 11.36246795</td><td> 7.5084448</td><td>-0.8452075</td><td> 8.8988513</td><td> 3.317577</td><td>16.671554</td><td>11.790777</td></tr>\n",
       "\t<tr><td>Sinaloa                                                                                                                                                                                                                                                                                                                                                                                                                                                                                                                                                                                                                                                                                                                                                                                                                                                                                                                                                     </td><td>NA</td><td>28.62557147</td><td>-13.882256</td><td> 2.3699844</td><td>25.2913420</td><td>11.2808679</td><td> 4.3642275</td><td>-5.292574</td><td> 16.30755295</td><td>⋯</td><td>  0.5994314</td><td> 1.6556311</td><td>12.154389</td><td> -0.04294631</td><td> 5.8854328</td><td>12.2027427</td><td> 8.7717265</td><td>19.986625</td><td> 1.804653</td><td> 4.700538</td></tr>\n",
       "\t<tr><td>Sonora                                                                                                                                                                                                                                                                                                                                                                                                                                                                                                                                                                                                                                                                                                                                                                                                                                                                                                                                                      </td><td>NA</td><td> 2.63417129</td><td>  5.941153</td><td> 8.3207620</td><td> 4.2274952</td><td>19.9320972</td><td> 4.6575109</td><td>-5.796565</td><td> 10.38961361</td><td>⋯</td><td>  5.6521353</td><td> 3.8842907</td><td> 4.729503</td><td>  7.51456130</td><td> 2.5345315</td><td> 1.5577705</td><td> 7.8777777</td><td> 8.889893</td><td>18.584302</td><td> 8.508883</td></tr>\n",
       "\t<tr><td>Tabasco                                                                                                                                                                                                                                                                                                                                                                                                                                                                                                                                                                                                                                                                                                                                                                                                                                                                                                                                                     </td><td>NA</td><td> 8.84208199</td><td> 19.845936</td><td> 4.4862056</td><td>15.2339295</td><td>-7.1557006</td><td> 4.7953422</td><td>13.410556</td><td>  8.00536426</td><td>⋯</td><td>  0.4638654</td><td> 3.7146603</td><td>11.768115</td><td>  3.57976390</td><td> 7.8698609</td><td> 4.6720820</td><td> 5.2319128</td><td> 5.753918</td><td> 1.730144</td><td> 7.504857</td></tr>\n",
       "\t<tr><td>Tamaulipas                                                                                                                                                                                                                                                                                                                                                                                                                                                                                                                                                                                                                                                                                                                                                                                                                                                                                                                                                  </td><td>NA</td><td>11.68414328</td><td> -6.884458</td><td> 9.4744368</td><td>16.4913598</td><td>11.8181821</td><td>-7.8157378</td><td>13.850216</td><td> 18.77178976</td><td>⋯</td><td>  2.7093131</td><td> 7.8329337</td><td>14.666173</td><td>  1.35571162</td><td>12.2489255</td><td>-5.5268713</td><td>15.2323241</td><td>22.846577</td><td>24.901465</td><td>-1.948412</td></tr>\n",
       "\t<tr><td>Tlaxcala                                                                                                                                                                                                                                                                                                                                                                                                                                                                                                                                                                                                                                                                                                                                                                                                                                                                                                                                                    </td><td>NA</td><td> 9.36976665</td><td>  1.232435</td><td> 6.8800918</td><td> 8.3775308</td><td>15.4664009</td><td> 4.3109101</td><td>-4.120303</td><td> 11.00404632</td><td>⋯</td><td> -1.6807140</td><td> 3.1381598</td><td> 8.252171</td><td>  3.95372483</td><td> 3.7482872</td><td>-4.8287156</td><td> 6.2924305</td><td> 5.287999</td><td>26.651487</td><td>12.484776</td></tr>\n",
       "\t<tr><td>Veracruz de Ignacio de la Llave                                                                                                                                                                                                                                                                                                                                                                                                                                                                                                                                                                                                                                                                                                                                                                                                                                                                                                                             </td><td>NA</td><td> 4.90012325</td><td>  5.686507</td><td> 0.9781949</td><td> 3.6012979</td><td> 5.3589778</td><td> 4.2462461</td><td>19.897106</td><td>  2.10628477</td><td>⋯</td><td>  4.0065659</td><td> 4.2921214</td><td> 8.852550</td><td>  8.67076916</td><td> 7.1293639</td><td> 0.3955212</td><td> 7.9243360</td><td> 4.148181</td><td>10.077197</td><td> 6.867776</td></tr>\n",
       "\t<tr><td>Yucatán                                                                                                                                                                                                                                                                                                                                                                                                                                                                                                                                                                                                                                                                                                                                                                                                                                                                                                                                                     </td><td>NA</td><td>15.48225519</td><td> 16.854072</td><td>-7.6818180</td><td> 3.1412141</td><td> 3.4722545</td><td>12.4424412</td><td> 4.152540</td><td>  3.47312622</td><td>⋯</td><td>  6.6730007</td><td>-2.7841902</td><td> 9.863501</td><td>  8.84876277</td><td> 9.5925708</td><td> 4.4504709</td><td> 1.7906808</td><td> 7.778919</td><td> 9.230307</td><td>10.374143</td></tr>\n",
       "\t<tr><td>Zacatecas                                                                                                                                                                                                                                                                                                                                                                                                                                                                                                                                                                                                                                                                                                                                                                                                                                                                                                                                                   </td><td>NA</td><td> 8.14476448</td><td> -1.830241</td><td> 0.8863209</td><td>11.7540302</td><td>13.2029659</td><td> 7.6070208</td><td>-6.770616</td><td>  6.19672578</td><td>⋯</td><td>  1.6693412</td><td>11.2297167</td><td>23.745104</td><td> 18.78430093</td><td>-8.1788106</td><td> 6.5825362</td><td> 5.4424809</td><td>10.162981</td><td>17.262657</td><td> 8.464264</td></tr>\n",
       "\t<tr><td>a Los códigos se derivan del SCN 2008, modificados para uso del SCN de México     NA No aplica.     P Cifras preliminares     R Cifras revisadas    Nota:    Con base en los “Lineamientos de cambios a la información divulgada en las publicaciones estadísticas y geográficas del INEGI” y que complementan las “Normas Especiales para la Divulgación de Datos” del FMI, al disponer de un dato más reciente generado por las Cuentas de Bienes y Servicios 2023 versión preliminar, así como la inclusión de la última información estadística disponible de las encuesta, los registros administrativos y los datos primarios, se debe realizar la actualización de estos indicadores. Como resultado de incorporar dicha información, se identifican diferencias en los niveles de los índices, valores y variaciones que fueron oportunamente publicados.    La suma de los parciales puede no coincidir con el total por el redondeo de las cifras.</td><td>NA</td><td>         NA</td><td>        NA</td><td>        NA</td><td>        NA</td><td>        NA</td><td>        NA</td><td>       NA</td><td>          NA</td><td>⋯</td><td>         NA</td><td>        NA</td><td>       NA</td><td>          NA</td><td>        NA</td><td>        NA</td><td>        NA</td><td>       NA</td><td>       NA</td><td>       NA</td></tr>\n",
       "</tbody>\n",
       "</table>\n"
      ],
      "text/latex": [
       "A spec\\_tbl\\_df: 386 × 22\n",
       "\\begin{tabular}{lllllllllllllllllllll}\n",
       " Concepto & 2003 & 2004 & 2005 & 2006 & 2007 & 2008 & 2009 & 2010 & 2011 & ⋯ & 2014 & 2015 & 2016 & 2017 & 2018 & 2019 & 2020 & 2021 & 2022 R & 2023 P\\\\\n",
       " <chr> & <dbl> & <dbl> & <dbl> & <dbl> & <dbl> & <dbl> & <dbl> & <dbl> & <dbl> & ⋯ & <dbl> & <dbl> & <dbl> & <dbl> & <dbl> & <dbl> & <dbl> & <dbl> & <dbl> & <dbl>\\\\\n",
       "\\hline\n",
       "\t Millones de pesos a precios de 2018 &         NA &         NA &         NA &         NA &         NA &         NA &         NA &         NA &         NA & ⋯ &         NA &         NA &         NA &         NA &         NA &         NA &         NA &         NA &         NA &         NA\\\\\n",
       "\t a  B.1bV - Valor agregado bruto     &         NA &         NA &         NA &         NA &         NA &         NA &         NA &         NA &         NA & ⋯ &         NA &         NA &         NA &         NA &         NA &         NA &         NA &         NA &         NA &         NA\\\\\n",
       "\t Estados Unidos Mexicanos            & 592478.460 & 607316.558 & 588558.452 & 623901.414 & 651139.000 & 656325.502 & 638074.598 & 653518.474 & 637703.495 & ⋯ & 718687.394 & 732003.814 & 753344.638 & 777962.381 & 797095.021 & 799476.894 & 808429.880 & 827208.787 & 840161.193 & 828041.916\\\\\n",
       "\t Aguascalientes                      &   6761.509 &   6688.170 &   7137.339 &   7459.947 &   7799.641 &   8428.549 &   8083.994 &   8504.018 &   9023.803 & ⋯ &  10207.219 &  10636.975 &  11049.605 &  11773.626 &  12196.068 &  12409.537 &  12714.026 &  13055.677 &  12947.315 &  12983.940\\\\\n",
       "\t Baja California                     &  15451.977 &  17897.244 &  18277.022 &  17538.554 &  16570.119 &  16201.753 &  18709.536 &  18920.280 &  18312.404 & ⋯ &  19265.785 &  20482.275 &  19277.960 &  21009.541 &  21408.907 &  21874.793 &  19920.240 &  20766.047 &  23073.243 &  23595.050\\\\\n",
       "\t Baja California Sur                 &   4126.691 &   3825.118 &   4459.798 &   4030.299 &   4275.192 &   3995.717 &   3862.262 &   4598.812 &   4557.858 & ⋯ &   5575.650 &   5874.223 &   6201.172 &   6049.484 &   6351.325 &   6347.865 &   6825.902 &   7604.291 &   7422.812 &   7341.275\\\\\n",
       "\t Campeche                            &   3334.985 &   4124.897 &   4238.917 &   4728.508 &   3522.368 &   4092.090 &   4255.562 &   4964.887 &   4552.409 & ⋯ &   5384.054 &   5767.381 &   6276.866 &   6263.550 &   6495.615 &   6235.737 &   6444.039 &   6832.877 &   5981.548 &   6121.068\\\\\n",
       "\t Coahuila de Zaragoza                &  15048.462 &  15628.885 &  17451.523 &  16317.073 &  16879.549 &  16562.888 &  18017.221 &  18406.247 &  18793.706 & ⋯ &  18748.817 &  17863.108 &  16688.639 &  16818.627 &  17696.895 &  18285.792 &  19015.259 &  18894.364 &  19095.324 &  18623.403\\\\\n",
       "\t Colima                              &   7050.439 &   7328.194 &   6929.928 &   7530.338 &   7665.183 &   8065.372 &   6359.863 &   6663.656 &   7244.732 & ⋯ &   5915.154 &   5959.494 &   6616.223 &   6886.233 &   7344.258 &   7407.790 &   7629.655 &   7685.166 &   8379.885 &   8231.778\\\\\n",
       "\t Chiapas                             &  24421.907 &  22016.961 &  21022.136 &  21865.556 &  22643.923 &  22584.634 &  22710.904 &  23813.518 &  23643.610 & ⋯ &  22719.196 &  22966.983 &  23352.037 &  22734.160 &  23181.939 &  23614.397 &  23975.283 &  24623.253 &  24708.878 &  24530.694\\\\\n",
       "\t Chihuahua                           &  31665.975 &  33102.600 &  34995.749 &  38473.995 &  39643.821 &  38245.514 &  40051.333 &  42970.242 &  44639.658 & ⋯ &  49036.028 &  52035.297 &  49578.111 &  55014.863 &  56419.942 &  54637.593 &  52743.528 &  53036.138 &  58147.480 &  58593.008\\\\\n",
       "\t Ciudad de México                    &   1689.049 &   1646.528 &   1756.055 &   1600.020 &   1521.406 &   1445.547 &   1531.048 &   1524.757 &   1563.192 & ⋯ &   1394.786 &   1412.303 &   1404.851 &   1301.570 &   1367.925 &   1404.854 &   1382.562 &   1379.428 &   1343.591 &   1261.321\\\\\n",
       "\t Durango                             &  23867.707 &  24297.781 &  20320.878 &  23408.510 &  22611.265 &  22404.576 &  23601.580 &  22351.959 &  20731.678 & ⋯ &  24870.859 &  24183.512 &  24986.965 &  25297.303 &  24770.022 &  24395.861 &  24270.862 &  26908.343 &  26599.122 &  25830.700\\\\\n",
       "\t Guanajuato                          &  30665.639 &  32398.410 &  29075.765 &  28104.600 &  30450.066 &  31777.406 &  31624.389 &  32086.337 &  31506.091 & ⋯ &  35004.084 &  34032.701 &  34967.756 &  38585.646 &  40472.770 &  40408.145 &  41037.979 &  44249.987 &  43393.450 &  42296.772\\\\\n",
       "\t Guerrero                            &  13751.134 &  12987.350 &  13453.155 &  14221.675 &  14267.296 &  15010.535 &  14270.161 &  15112.159 &  14839.485 & ⋯ &  14486.226 &  13605.544 &  15156.898 &  15455.838 &  15461.676 &  15071.909 &  16404.009 &  16549.242 &  16894.097 &  16188.869\\\\\n",
       "\t Hidalgo                             &  12227.523 &  12150.619 &  12052.495 &  13351.885 &  12822.901 &  13213.807 &  12286.567 &  12528.195 &  11138.377 & ⋯ &  13155.211 &  12971.272 &  12744.778 &  12540.417 &  12575.647 &  12014.702 &  12052.798 &  12033.351 &  11908.746 &  11632.980\\\\\n",
       "\t Jalisco                             &  63782.620 &  71754.361 &  68550.428 &  73155.353 &  79127.643 &  80914.860 &  70072.893 &  77001.696 &  76909.094 & ⋯ &  95606.110 &  92316.199 &  93843.627 &  95408.615 &  98909.243 & 101276.038 & 103964.482 & 102899.840 & 107268.904 & 106231.324\\\\\n",
       "\t México                              &  25470.070 &  25401.751 &  23270.987 &  25549.927 &  29246.572 &  25668.181 &  22446.702 &  24313.281 &  20279.604 & ⋯ &  27072.932 &  27882.388 &  29983.178 &  29104.700 &  26636.126 &  26463.626 &  27482.593 &  27661.671 &  26201.806 &  25721.314\\\\\n",
       "\t Michoacán de Ocampo                 &  46765.485 &  43937.295 &  43258.886 &  49203.122 &  51820.333 &  55856.985 &  53469.679 &  50934.702 &  56010.862 & ⋯ &  65334.331 &  64777.340 &  75681.701 &  81585.510 &  84100.472 &  84321.163 &  83369.026 &  88494.538 &  89619.174 &  96905.507\\\\\n",
       "\t Morelos                             &   6664.486 &   7107.286 &   7462.438 &   7523.191 &   8018.481 &   6874.061 &   7319.421 &   7538.857 &   6865.285 & ⋯ &   7311.366 &   6880.919 &   7487.135 &   7812.911 &   8411.033 &   8521.297 &   8956.281 &   9165.165 &   9135.621 &   8691.988\\\\\n",
       "\t Nayarit                             &   8486.309 &   9810.450 &   9606.887 &   9579.378 &  10914.949 &  11977.436 &  10744.929 &  10432.239 &  11523.203 & ⋯ &   9845.298 &  10029.065 &  10947.327 &  11113.242 &  10841.588 &  11756.258 &  12009.310 &  11801.647 &  11866.755 &  10704.271\\\\\n",
       "\t Nuevo León                          &  11260.127 &  10348.765 &   9649.533 &   9426.818 &  10348.043 &   9707.646 &  10150.258 &  10616.776 &   9489.093 & ⋯ &   9918.297 &   9215.727 &   8444.347 &   8499.742 &   8533.487 &   9383.745 &   9321.439 &   9069.977 &   9313.725 &   9289.034\\\\\n",
       "\t Oaxaca                              &  14957.333 &  14292.573 &  13357.900 &  14633.156 &  14657.705 &  14994.696 &  15799.840 &  15568.875 &  15037.116 & ⋯ &  15796.989 &  15602.892 &  16276.290 &  16258.727 &  17238.302 &  17206.943 &  18066.560 &  18761.539 &  18418.170 &  18095.419\\\\\n",
       "\t Puebla                              &  22662.831 &  23876.390 &  23785.417 &  24970.806 &  26092.038 &  26292.938 &  24804.126 &  25638.325 &  24219.270 & ⋯ &  26876.787 &  29235.406 &  28997.512 &  29221.803 &  29959.675 &  29743.716 &  30486.404 &  31059.028 &  29632.369 &  30745.098\\\\\n",
       "\t Querétaro                           &   8921.711 &   8699.518 &   7656.971 &   8166.792 &   9162.720 &   8860.628 &   8687.208 &   9592.883 &   8930.177 & ⋯ &  11332.739 &  12082.715 &  11860.577 &  13055.991 &  13132.114 &  12928.489 &  13401.962 &  13247.209 &  13147.379 &  13338.615\\\\\n",
       "\t Quintana Roo                        &   2193.717 &   2227.590 &   2407.522 &   2720.438 &   2206.367 &   1917.629 &   2234.876 &   2766.973 &   2842.105 & ⋯ &   2503.062 &   2525.895 &   2508.744 &   2733.616 &   3349.049 &   2744.315 &   2561.076 &   3572.758 &   3540.648 &   3293.983\\\\\n",
       "\t San Luis Potosí                     &  12922.575 &  13295.740 &  13825.103 &  13704.280 &  13989.282 &  14633.634 &  13458.341 &  14504.363 &  12667.915 & ⋯ &  18091.385 &  18340.398 &  19218.235 &  20469.638 &  22093.380 &  21508.801 &  22507.072 &  25228.174 &  24873.755 &  23865.488\\\\\n",
       "\t Sinaloa                             &  35722.874 &  42554.908 &  39966.875 &  45827.582 &  49537.617 &  49017.722 &  45582.724 &  40655.119 &  38434.784 & ⋯ &  44577.948 &  51915.537 &  55519.158 &  53897.929 &  55995.981 &  58366.190 &  55284.623 &  54219.092 &  55164.852 &  48686.965\\\\\n",
       "\t Sonora                              &  31679.284 &  29355.469 &  33119.270 &  30835.479 &  35456.173 &  36718.606 &  36486.071 &  37762.892 &  36716.831 & ⋯ &  38548.011 &  42530.264 &  44678.203 &  48933.952 &  50921.477 &  52368.945 &  53089.504 &  51913.115 &  54132.415 &  52053.111\\\\\n",
       "\t Tabasco                             &   9804.945 &  10999.629 &   9919.449 &  10501.950 &   9455.782 &   9350.636 &   9190.879 &   9218.611 &   8824.593 & ⋯ &   9208.828 &   9397.289 &   9391.308 &  10012.419 &  10175.321 &   9808.839 &   9994.340 &  10272.642 &  10175.933 &  10003.079\\\\\n",
       "\t ⋮ & ⋮ & ⋮ & ⋮ & ⋮ & ⋮ & ⋮ & ⋮ & ⋮ & ⋮ & ⋱ & ⋮ & ⋮ & ⋮ & ⋮ & ⋮ & ⋮ & ⋮ & ⋮ & ⋮ & ⋮\\\\\n",
       "\t Campeche                                                                                                                                                                                                                                                                                                                                                                                                                                                                                                                                                                                                                                                                                                                                                                                                                                                                                                                                                     & NA &  4.96372867 &  10.662540 &  1.3125646 &  8.6506335 &  9.3845995 &  0.1064238 & 10.986860 &  12.46058860 & ⋯ &   5.3935250 &  6.0285509 & 12.730501 &  -0.88039196 &  4.3683735 &  4.7615222 & 10.2089999 & 19.666573 & 12.870860 & 13.090582\\\\\n",
       "\t Coahuila de Zaragoza                                                                                                                                                                                                                                                                                                                                                                                                                                                                                                                                                                                                                                                                                                                                                                                                                                                                                                                                         & NA &  6.66447085 &   7.678560 &  3.8972446 &  2.1297531 &  9.5751065 &  3.0274792 &  8.496918 &   7.13878732 & ⋯ &  13.0691121 &  9.5016610 &  5.039024 &   0.64597344 &  2.1451132 &  2.8585472 &  5.5122134 &  8.585009 & 10.939688 &  6.428647\\\\\n",
       "\t Colima                                                                                                                                                                                                                                                                                                                                                                                                                                                                                                                                                                                                                                                                                                                                                                                                                                                                                                                                                       & NA &  4.28518240 &  14.790161 &  0.2624869 & 11.3757267 &  8.5359031 &  8.4766674 &  9.189473 &   1.79122680 & ⋯ &  12.1992312 &  0.8222800 & 16.406071 &   5.77722794 &  7.9216953 &  0.6767875 &  5.3150234 &  9.105774 & 14.092773 & 24.785097\\\\\n",
       "\t Chiapas                                                                                                                                                                                                                                                                                                                                                                                                                                                                                                                                                                                                                                                                                                                                                                                                                                                                                                                                                      & NA & 11.61115328 &   8.851390 &  9.4794320 &  8.1668087 &  4.5662276 &  2.9530279 &  6.279007 &  12.32390560 & ⋯ &   4.3943570 &  3.2997966 &  9.502440 &   1.42705366 &  5.1085134 &  0.3129659 &  6.3068421 &  8.438195 &  5.268676 & 12.497839\\\\\n",
       "\t Chihuahua                                                                                                                                                                                                                                                                                                                                                                                                                                                                                                                                                                                                                                                                                                                                                                                                                                                                                                                                                    & NA & 19.20358783 &   4.022353 &  1.9369241 &  5.0764916 &  4.2722439 & -9.5578340 & 17.179173 &  -0.07655085 & ⋯ &   7.1201984 & 16.4147204 &  8.536674 &   9.90315225 &  2.9561543 &  1.8280289 &  4.0828564 & 21.265258 &  1.207822 & 10.746562\\\\\n",
       "\t Ciudad de México                                                                                                                                                                                                                                                                                                                                                                                                                                                                                                                                                                                                                                                                                                                                                                                                                                                                                                                                             & NA & -4.27763922 & -14.615064 & 44.1172288 & -1.8091784 &  9.9146486 & -5.7747364 & 14.582706 & -24.07620565 & ⋯ & -16.0814496 &  0.2698537 & 40.059242 & -20.76155225 & 12.1943483 &  7.8552647 &  0.3035944 & 13.814789 &  2.930865 & 11.689378\\\\\n",
       "\t Durango                                                                                                                                                                                                                                                                                                                                                                                                                                                                                                                                                                                                                                                                                                                                                                                                                                                                                                                                                      & NA &  5.80031405 &   7.619694 & -5.1310730 &  4.5960988 &  3.7930936 &  3.7026614 & -3.386613 &  13.15330786 & ⋯ &   6.3239098 &  4.4392131 &  7.848773 &   3.36192532 &  2.7257092 &  4.5831586 &  3.6274294 &  9.025582 & 10.403810 & 10.759829\\\\\n",
       "\t Guanajuato                                                                                                                                                                                                                                                                                                                                                                                                                                                                                                                                                                                                                                                                                                                                                                                                                                                                                                                                                   & NA &  6.54481861 &  11.809143 &  7.9552920 &  2.4516147 & 10.1122941 & -0.2119840 &  6.204101 &  20.93698596 & ⋯ &  -0.4684045 & 12.0656200 &  9.686397 &   3.37187055 &  8.6820935 &  1.5118957 & 14.4462153 & 14.947058 & 12.902543 &  7.726262\\\\\n",
       "\t Guerrero                                                                                                                                                                                                                                                                                                                                                                                                                                                                                                                                                                                                                                                                                                                                                                                                                                                                                                                                                     & NA &  4.67100718 &   9.364471 & -6.3528233 & 23.0010152 & -7.8115549 &  1.8591452 &  4.593250 &  13.93121124 & ⋯ &   4.3806047 &  4.9830227 & 10.063190 &   4.73862310 &  1.2922300 &  2.0772219 &  8.1693951 &  8.848440 &  6.203268 & 10.747454\\\\\n",
       "\t Hidalgo                                                                                                                                                                                                                                                                                                                                                                                                                                                                                                                                                                                                                                                                                                                                                                                                                                                                                                                                                      & NA & 11.47338509 &   5.266352 &  6.4436001 &  6.0495221 &  6.7912367 &  4.2444004 &  5.937570 &  14.11195856 & ⋯ &   0.6474364 &  5.1650415 & 11.819696 &  -0.59697213 &  2.7750639 &  3.6404648 &  3.7286579 &  5.001226 & 19.486895 &  8.642329\\\\\n",
       "\t Jalisco                                                                                                                                                                                                                                                                                                                                                                                                                                                                                                                                                                                                                                                                                                                                                                                                                                                                                                                                                      & NA &  0.04792765 &  -4.998927 & 10.7113222 & -1.4681036 &  5.7048568 &  9.1326450 &  9.594195 &   2.55602868 & ⋯ &   4.8071555 &  5.9997436 &  6.179553 &  14.77133610 &  9.8655123 &  9.2053176 &  3.3863803 & 12.740724 & 16.387467 & 10.284648\\\\\n",
       "\t México                                                                                                                                                                                                                                                                                                                                                                                                                                                                                                                                                                                                                                                                                                                                                                                                                                                                                                                                                       & NA &  9.12653940 &  12.629698 &  4.1311520 & 13.6004802 &  0.6629802 &  5.2950616 &  1.746531 &   5.16438668 & ⋯ &  -0.2441689 &  5.3423179 &  9.147935 &   4.14408523 &  3.0136976 &  1.1530884 &  4.5119725 & 19.337370 & 11.796117 &  9.511196\\\\\n",
       "\t Michoacán de Ocampo                                                                                                                                                                                                                                                                                                                                                                                                                                                                                                                                                                                                                                                                                                                                                                                                                                                                                                                                          & NA &  4.97594821 &   8.276068 & 11.6055547 & 11.2922004 &  3.1511063 &  9.7736579 &  6.199355 &  12.76137799 & ⋯ &   6.2475257 &  1.7984733 & 20.162809 &  11.38495256 & -0.5792507 &  7.7266510 &  4.0108138 &  1.132675 & 18.867360 & -1.489316\\\\\n",
       "\t Morelos                                                                                                                                                                                                                                                                                                                                                                                                                                                                                                                                                                                                                                                                                                                                                                                                                                                                                                                                                      & NA &  5.79984143 &   5.458342 &  6.7261478 &  9.3208321 &  1.0754449 & -8.0632425 & 32.319252 &  -1.37895885 & ⋯ &  -4.6730188 &  0.4556370 & 15.531471 &   6.60041807 &  5.1344210 &  4.6903189 &  1.3062625 & 11.372297 & 14.156870 &  5.583173\\\\\n",
       "\t Nayarit                                                                                                                                                                                                                                                                                                                                                                                                                                                                                                                                                                                                                                                                                                                                                                                                                                                                                                                                                      & NA &  3.68053862 &   8.499903 &  7.1837750 &  0.8387916 &  6.8051642 &  1.6870405 & 16.181976 &  10.22181816 & ⋯ &   2.9623503 &  7.3163019 &  9.304171 &  12.06648068 &  6.5439656 &  9.5958340 &  5.4083011 & 15.899352 & 12.732866 &  5.181975\\\\\n",
       "\t Nuevo León                                                                                                                                                                                                                                                                                                                                                                                                                                                                                                                                                                                                                                                                                                                                                                                                                                                                                                                                                   & NA & -0.24869469 &  25.860256 & -7.7673123 & -2.0604915 &  3.3188800 & 10.6803833 &  5.967722 &  -5.62234223 & ⋯ &   8.3656263 &  7.3565343 & 11.821626 &   7.48322309 &  6.0511372 &  0.8134386 &  8.7188664 &  1.431080 & 10.569846 & 15.755926\\\\\n",
       "\t Oaxaca                                                                                                                                                                                                                                                                                                                                                                                                                                                                                                                                                                                                                                                                                                                                                                                                                                                                                                                                                       & NA & -5.87138306 &   3.930675 &  7.7761401 & 15.7650960 & -6.1496527 &  3.1586929 & 10.922722 &   7.29219977 & ⋯ &   5.6406573 &  5.6236573 & 12.694268 &   5.87336087 &  0.3572529 &  0.9473443 &  5.9446406 &  6.805905 &  7.423202 & 19.290070\\\\\n",
       "\t Puebla                                                                                                                                                                                                                                                                                                                                                                                                                                                                                                                                                                                                                                                                                                                                                                                                                                                                                                                                                       & NA &  5.85037886 &   3.455946 &  4.3133412 &  7.9395030 &  7.8215762 &  8.5879925 &  3.832310 &   7.56883790 & ⋯ &   1.5279914 &  1.7332206 &  6.334915 &   3.43961965 &  4.1627266 &  0.2267370 &  5.1045953 & 10.196491 & 11.376264 & 13.031167\\\\\n",
       "\t Querétaro                                                                                                                                                                                                                                                                                                                                                                                                                                                                                                                                                                                                                                                                                                                                                                                                                                                                                                                                                    & NA &  3.90169822 &  11.007637 & -2.3293613 &  1.7344504 &  0.2911690 & -0.5904359 & 12.730624 &   4.22894458 & ⋯ &   3.9139628 &  4.2705100 &  8.769771 &  -1.76326003 & 11.2822234 & -2.4716113 & 12.6833772 &  7.925483 &  8.400795 & 12.090409\\\\\n",
       "\t Quintana Roo                                                                                                                                                                                                                                                                                                                                                                                                                                                                                                                                                                                                                                                                                                                                                                                                                                                                                                                                                 & NA &  8.85049652 &  13.462859 & -4.5571003 &  2.4906691 & -7.4834165 & 15.1896389 & 35.341757 &  -1.86186260 & ⋯ &  -3.0726030 & 11.8467953 & 16.068682 &   3.66522050 &  8.2544313 &  4.2757482 &  9.9622450 &  5.095642 &  8.421962 & 22.570854\\\\\n",
       "\t San Luis Potosí                                                                                                                                                                                                                                                                                                                                                                                                                                                                                                                                                                                                                                                                                                                                                                                                                                                                                                                                              & NA & 11.42944168 &  -2.627406 & 10.6213395 &  6.5952478 &  5.9671353 & -0.6130154 & 19.074390 &   7.76588170 & ⋯ &   4.2460295 & 17.0753302 &  5.149183 &  11.36246795 &  7.5084448 & -0.8452075 &  8.8988513 &  3.317577 & 16.671554 & 11.790777\\\\\n",
       "\t Sinaloa                                                                                                                                                                                                                                                                                                                                                                                                                                                                                                                                                                                                                                                                                                                                                                                                                                                                                                                                                      & NA & 28.62557147 & -13.882256 &  2.3699844 & 25.2913420 & 11.2808679 &  4.3642275 & -5.292574 &  16.30755295 & ⋯ &   0.5994314 &  1.6556311 & 12.154389 &  -0.04294631 &  5.8854328 & 12.2027427 &  8.7717265 & 19.986625 &  1.804653 &  4.700538\\\\\n",
       "\t Sonora                                                                                                                                                                                                                                                                                                                                                                                                                                                                                                                                                                                                                                                                                                                                                                                                                                                                                                                                                       & NA &  2.63417129 &   5.941153 &  8.3207620 &  4.2274952 & 19.9320972 &  4.6575109 & -5.796565 &  10.38961361 & ⋯ &   5.6521353 &  3.8842907 &  4.729503 &   7.51456130 &  2.5345315 &  1.5577705 &  7.8777777 &  8.889893 & 18.584302 &  8.508883\\\\\n",
       "\t Tabasco                                                                                                                                                                                                                                                                                                                                                                                                                                                                                                                                                                                                                                                                                                                                                                                                                                                                                                                                                      & NA &  8.84208199 &  19.845936 &  4.4862056 & 15.2339295 & -7.1557006 &  4.7953422 & 13.410556 &   8.00536426 & ⋯ &   0.4638654 &  3.7146603 & 11.768115 &   3.57976390 &  7.8698609 &  4.6720820 &  5.2319128 &  5.753918 &  1.730144 &  7.504857\\\\\n",
       "\t Tamaulipas                                                                                                                                                                                                                                                                                                                                                                                                                                                                                                                                                                                                                                                                                                                                                                                                                                                                                                                                                   & NA & 11.68414328 &  -6.884458 &  9.4744368 & 16.4913598 & 11.8181821 & -7.8157378 & 13.850216 &  18.77178976 & ⋯ &   2.7093131 &  7.8329337 & 14.666173 &   1.35571162 & 12.2489255 & -5.5268713 & 15.2323241 & 22.846577 & 24.901465 & -1.948412\\\\\n",
       "\t Tlaxcala                                                                                                                                                                                                                                                                                                                                                                                                                                                                                                                                                                                                                                                                                                                                                                                                                                                                                                                                                     & NA &  9.36976665 &   1.232435 &  6.8800918 &  8.3775308 & 15.4664009 &  4.3109101 & -4.120303 &  11.00404632 & ⋯ &  -1.6807140 &  3.1381598 &  8.252171 &   3.95372483 &  3.7482872 & -4.8287156 &  6.2924305 &  5.287999 & 26.651487 & 12.484776\\\\\n",
       "\t Veracruz de Ignacio de la Llave                                                                                                                                                                                                                                                                                                                                                                                                                                                                                                                                                                                                                                                                                                                                                                                                                                                                                                                              & NA &  4.90012325 &   5.686507 &  0.9781949 &  3.6012979 &  5.3589778 &  4.2462461 & 19.897106 &   2.10628477 & ⋯ &   4.0065659 &  4.2921214 &  8.852550 &   8.67076916 &  7.1293639 &  0.3955212 &  7.9243360 &  4.148181 & 10.077197 &  6.867776\\\\\n",
       "\t Yucatán                                                                                                                                                                                                                                                                                                                                                                                                                                                                                                                                                                                                                                                                                                                                                                                                                                                                                                                                                      & NA & 15.48225519 &  16.854072 & -7.6818180 &  3.1412141 &  3.4722545 & 12.4424412 &  4.152540 &   3.47312622 & ⋯ &   6.6730007 & -2.7841902 &  9.863501 &   8.84876277 &  9.5925708 &  4.4504709 &  1.7906808 &  7.778919 &  9.230307 & 10.374143\\\\\n",
       "\t Zacatecas                                                                                                                                                                                                                                                                                                                                                                                                                                                                                                                                                                                                                                                                                                                                                                                                                                                                                                                                                    & NA &  8.14476448 &  -1.830241 &  0.8863209 & 11.7540302 & 13.2029659 &  7.6070208 & -6.770616 &   6.19672578 & ⋯ &   1.6693412 & 11.2297167 & 23.745104 &  18.78430093 & -8.1788106 &  6.5825362 &  5.4424809 & 10.162981 & 17.262657 &  8.464264\\\\\n",
       "\t a Los códigos se derivan del SCN 2008, modificados para uso del SCN de México     NA No aplica.     P Cifras preliminares     R Cifras revisadas    Nota:    Con base en los “Lineamientos de cambios a la información divulgada en las publicaciones estadísticas y geográficas del INEGI” y que complementan las “Normas Especiales para la Divulgación de Datos” del FMI, al disponer de un dato más reciente generado por las Cuentas de Bienes y Servicios 2023 versión preliminar, así como la inclusión de la última información estadística disponible de las encuesta, los registros administrativos y los datos primarios, se debe realizar la actualización de estos indicadores. Como resultado de incorporar dicha información, se identifican diferencias en los niveles de los índices, valores y variaciones que fueron oportunamente publicados.    La suma de los parciales puede no coincidir con el total por el redondeo de las cifras. & NA &          NA &         NA &         NA &         NA &         NA &         NA &        NA &           NA & ⋯ &          NA &         NA &        NA &           NA &         NA &         NA &         NA &        NA &        NA &        NA\\\\\n",
       "\\end{tabular}\n"
      ],
      "text/markdown": [
       "\n",
       "A spec_tbl_df: 386 × 22\n",
       "\n",
       "| Concepto &lt;chr&gt; | 2003 &lt;dbl&gt; | 2004 &lt;dbl&gt; | 2005 &lt;dbl&gt; | 2006 &lt;dbl&gt; | 2007 &lt;dbl&gt; | 2008 &lt;dbl&gt; | 2009 &lt;dbl&gt; | 2010 &lt;dbl&gt; | 2011 &lt;dbl&gt; | ⋯ ⋯ | 2014 &lt;dbl&gt; | 2015 &lt;dbl&gt; | 2016 &lt;dbl&gt; | 2017 &lt;dbl&gt; | 2018 &lt;dbl&gt; | 2019 &lt;dbl&gt; | 2020 &lt;dbl&gt; | 2021 &lt;dbl&gt; | 2022 R &lt;dbl&gt; | 2023 P &lt;dbl&gt; |\n",
       "|---|---|---|---|---|---|---|---|---|---|---|---|---|---|---|---|---|---|---|---|---|\n",
       "| Millones de pesos a precios de 2018 |         NA |         NA |         NA |         NA |         NA |         NA |         NA |         NA |         NA | ⋯ |         NA |         NA |         NA |         NA |         NA |         NA |         NA |         NA |         NA |         NA |\n",
       "| a  B.1bV - Valor agregado bruto     |         NA |         NA |         NA |         NA |         NA |         NA |         NA |         NA |         NA | ⋯ |         NA |         NA |         NA |         NA |         NA |         NA |         NA |         NA |         NA |         NA |\n",
       "| Estados Unidos Mexicanos            | 592478.460 | 607316.558 | 588558.452 | 623901.414 | 651139.000 | 656325.502 | 638074.598 | 653518.474 | 637703.495 | ⋯ | 718687.394 | 732003.814 | 753344.638 | 777962.381 | 797095.021 | 799476.894 | 808429.880 | 827208.787 | 840161.193 | 828041.916 |\n",
       "| Aguascalientes                      |   6761.509 |   6688.170 |   7137.339 |   7459.947 |   7799.641 |   8428.549 |   8083.994 |   8504.018 |   9023.803 | ⋯ |  10207.219 |  10636.975 |  11049.605 |  11773.626 |  12196.068 |  12409.537 |  12714.026 |  13055.677 |  12947.315 |  12983.940 |\n",
       "| Baja California                     |  15451.977 |  17897.244 |  18277.022 |  17538.554 |  16570.119 |  16201.753 |  18709.536 |  18920.280 |  18312.404 | ⋯ |  19265.785 |  20482.275 |  19277.960 |  21009.541 |  21408.907 |  21874.793 |  19920.240 |  20766.047 |  23073.243 |  23595.050 |\n",
       "| Baja California Sur                 |   4126.691 |   3825.118 |   4459.798 |   4030.299 |   4275.192 |   3995.717 |   3862.262 |   4598.812 |   4557.858 | ⋯ |   5575.650 |   5874.223 |   6201.172 |   6049.484 |   6351.325 |   6347.865 |   6825.902 |   7604.291 |   7422.812 |   7341.275 |\n",
       "| Campeche                            |   3334.985 |   4124.897 |   4238.917 |   4728.508 |   3522.368 |   4092.090 |   4255.562 |   4964.887 |   4552.409 | ⋯ |   5384.054 |   5767.381 |   6276.866 |   6263.550 |   6495.615 |   6235.737 |   6444.039 |   6832.877 |   5981.548 |   6121.068 |\n",
       "| Coahuila de Zaragoza                |  15048.462 |  15628.885 |  17451.523 |  16317.073 |  16879.549 |  16562.888 |  18017.221 |  18406.247 |  18793.706 | ⋯ |  18748.817 |  17863.108 |  16688.639 |  16818.627 |  17696.895 |  18285.792 |  19015.259 |  18894.364 |  19095.324 |  18623.403 |\n",
       "| Colima                              |   7050.439 |   7328.194 |   6929.928 |   7530.338 |   7665.183 |   8065.372 |   6359.863 |   6663.656 |   7244.732 | ⋯ |   5915.154 |   5959.494 |   6616.223 |   6886.233 |   7344.258 |   7407.790 |   7629.655 |   7685.166 |   8379.885 |   8231.778 |\n",
       "| Chiapas                             |  24421.907 |  22016.961 |  21022.136 |  21865.556 |  22643.923 |  22584.634 |  22710.904 |  23813.518 |  23643.610 | ⋯ |  22719.196 |  22966.983 |  23352.037 |  22734.160 |  23181.939 |  23614.397 |  23975.283 |  24623.253 |  24708.878 |  24530.694 |\n",
       "| Chihuahua                           |  31665.975 |  33102.600 |  34995.749 |  38473.995 |  39643.821 |  38245.514 |  40051.333 |  42970.242 |  44639.658 | ⋯ |  49036.028 |  52035.297 |  49578.111 |  55014.863 |  56419.942 |  54637.593 |  52743.528 |  53036.138 |  58147.480 |  58593.008 |\n",
       "| Ciudad de México                    |   1689.049 |   1646.528 |   1756.055 |   1600.020 |   1521.406 |   1445.547 |   1531.048 |   1524.757 |   1563.192 | ⋯ |   1394.786 |   1412.303 |   1404.851 |   1301.570 |   1367.925 |   1404.854 |   1382.562 |   1379.428 |   1343.591 |   1261.321 |\n",
       "| Durango                             |  23867.707 |  24297.781 |  20320.878 |  23408.510 |  22611.265 |  22404.576 |  23601.580 |  22351.959 |  20731.678 | ⋯ |  24870.859 |  24183.512 |  24986.965 |  25297.303 |  24770.022 |  24395.861 |  24270.862 |  26908.343 |  26599.122 |  25830.700 |\n",
       "| Guanajuato                          |  30665.639 |  32398.410 |  29075.765 |  28104.600 |  30450.066 |  31777.406 |  31624.389 |  32086.337 |  31506.091 | ⋯ |  35004.084 |  34032.701 |  34967.756 |  38585.646 |  40472.770 |  40408.145 |  41037.979 |  44249.987 |  43393.450 |  42296.772 |\n",
       "| Guerrero                            |  13751.134 |  12987.350 |  13453.155 |  14221.675 |  14267.296 |  15010.535 |  14270.161 |  15112.159 |  14839.485 | ⋯ |  14486.226 |  13605.544 |  15156.898 |  15455.838 |  15461.676 |  15071.909 |  16404.009 |  16549.242 |  16894.097 |  16188.869 |\n",
       "| Hidalgo                             |  12227.523 |  12150.619 |  12052.495 |  13351.885 |  12822.901 |  13213.807 |  12286.567 |  12528.195 |  11138.377 | ⋯ |  13155.211 |  12971.272 |  12744.778 |  12540.417 |  12575.647 |  12014.702 |  12052.798 |  12033.351 |  11908.746 |  11632.980 |\n",
       "| Jalisco                             |  63782.620 |  71754.361 |  68550.428 |  73155.353 |  79127.643 |  80914.860 |  70072.893 |  77001.696 |  76909.094 | ⋯ |  95606.110 |  92316.199 |  93843.627 |  95408.615 |  98909.243 | 101276.038 | 103964.482 | 102899.840 | 107268.904 | 106231.324 |\n",
       "| México                              |  25470.070 |  25401.751 |  23270.987 |  25549.927 |  29246.572 |  25668.181 |  22446.702 |  24313.281 |  20279.604 | ⋯ |  27072.932 |  27882.388 |  29983.178 |  29104.700 |  26636.126 |  26463.626 |  27482.593 |  27661.671 |  26201.806 |  25721.314 |\n",
       "| Michoacán de Ocampo                 |  46765.485 |  43937.295 |  43258.886 |  49203.122 |  51820.333 |  55856.985 |  53469.679 |  50934.702 |  56010.862 | ⋯ |  65334.331 |  64777.340 |  75681.701 |  81585.510 |  84100.472 |  84321.163 |  83369.026 |  88494.538 |  89619.174 |  96905.507 |\n",
       "| Morelos                             |   6664.486 |   7107.286 |   7462.438 |   7523.191 |   8018.481 |   6874.061 |   7319.421 |   7538.857 |   6865.285 | ⋯ |   7311.366 |   6880.919 |   7487.135 |   7812.911 |   8411.033 |   8521.297 |   8956.281 |   9165.165 |   9135.621 |   8691.988 |\n",
       "| Nayarit                             |   8486.309 |   9810.450 |   9606.887 |   9579.378 |  10914.949 |  11977.436 |  10744.929 |  10432.239 |  11523.203 | ⋯ |   9845.298 |  10029.065 |  10947.327 |  11113.242 |  10841.588 |  11756.258 |  12009.310 |  11801.647 |  11866.755 |  10704.271 |\n",
       "| Nuevo León                          |  11260.127 |  10348.765 |   9649.533 |   9426.818 |  10348.043 |   9707.646 |  10150.258 |  10616.776 |   9489.093 | ⋯ |   9918.297 |   9215.727 |   8444.347 |   8499.742 |   8533.487 |   9383.745 |   9321.439 |   9069.977 |   9313.725 |   9289.034 |\n",
       "| Oaxaca                              |  14957.333 |  14292.573 |  13357.900 |  14633.156 |  14657.705 |  14994.696 |  15799.840 |  15568.875 |  15037.116 | ⋯ |  15796.989 |  15602.892 |  16276.290 |  16258.727 |  17238.302 |  17206.943 |  18066.560 |  18761.539 |  18418.170 |  18095.419 |\n",
       "| Puebla                              |  22662.831 |  23876.390 |  23785.417 |  24970.806 |  26092.038 |  26292.938 |  24804.126 |  25638.325 |  24219.270 | ⋯ |  26876.787 |  29235.406 |  28997.512 |  29221.803 |  29959.675 |  29743.716 |  30486.404 |  31059.028 |  29632.369 |  30745.098 |\n",
       "| Querétaro                           |   8921.711 |   8699.518 |   7656.971 |   8166.792 |   9162.720 |   8860.628 |   8687.208 |   9592.883 |   8930.177 | ⋯ |  11332.739 |  12082.715 |  11860.577 |  13055.991 |  13132.114 |  12928.489 |  13401.962 |  13247.209 |  13147.379 |  13338.615 |\n",
       "| Quintana Roo                        |   2193.717 |   2227.590 |   2407.522 |   2720.438 |   2206.367 |   1917.629 |   2234.876 |   2766.973 |   2842.105 | ⋯ |   2503.062 |   2525.895 |   2508.744 |   2733.616 |   3349.049 |   2744.315 |   2561.076 |   3572.758 |   3540.648 |   3293.983 |\n",
       "| San Luis Potosí                     |  12922.575 |  13295.740 |  13825.103 |  13704.280 |  13989.282 |  14633.634 |  13458.341 |  14504.363 |  12667.915 | ⋯ |  18091.385 |  18340.398 |  19218.235 |  20469.638 |  22093.380 |  21508.801 |  22507.072 |  25228.174 |  24873.755 |  23865.488 |\n",
       "| Sinaloa                             |  35722.874 |  42554.908 |  39966.875 |  45827.582 |  49537.617 |  49017.722 |  45582.724 |  40655.119 |  38434.784 | ⋯ |  44577.948 |  51915.537 |  55519.158 |  53897.929 |  55995.981 |  58366.190 |  55284.623 |  54219.092 |  55164.852 |  48686.965 |\n",
       "| Sonora                              |  31679.284 |  29355.469 |  33119.270 |  30835.479 |  35456.173 |  36718.606 |  36486.071 |  37762.892 |  36716.831 | ⋯ |  38548.011 |  42530.264 |  44678.203 |  48933.952 |  50921.477 |  52368.945 |  53089.504 |  51913.115 |  54132.415 |  52053.111 |\n",
       "| Tabasco                             |   9804.945 |  10999.629 |   9919.449 |  10501.950 |   9455.782 |   9350.636 |   9190.879 |   9218.611 |   8824.593 | ⋯ |   9208.828 |   9397.289 |   9391.308 |  10012.419 |  10175.321 |   9808.839 |   9994.340 |  10272.642 |  10175.933 |  10003.079 |\n",
       "| ⋮ | ⋮ | ⋮ | ⋮ | ⋮ | ⋮ | ⋮ | ⋮ | ⋮ | ⋮ | ⋱ | ⋮ | ⋮ | ⋮ | ⋮ | ⋮ | ⋮ | ⋮ | ⋮ | ⋮ | ⋮ |\n",
       "| Campeche                                                                                                                                                                                                                                                                                                                                                                                                                                                                                                                                                                                                                                                                                                                                                                                                                                                                                                                                                     | NA |  4.96372867 |  10.662540 |  1.3125646 |  8.6506335 |  9.3845995 |  0.1064238 | 10.986860 |  12.46058860 | ⋯ |   5.3935250 |  6.0285509 | 12.730501 |  -0.88039196 |  4.3683735 |  4.7615222 | 10.2089999 | 19.666573 | 12.870860 | 13.090582 |\n",
       "| Coahuila de Zaragoza                                                                                                                                                                                                                                                                                                                                                                                                                                                                                                                                                                                                                                                                                                                                                                                                                                                                                                                                         | NA |  6.66447085 |   7.678560 |  3.8972446 |  2.1297531 |  9.5751065 |  3.0274792 |  8.496918 |   7.13878732 | ⋯ |  13.0691121 |  9.5016610 |  5.039024 |   0.64597344 |  2.1451132 |  2.8585472 |  5.5122134 |  8.585009 | 10.939688 |  6.428647 |\n",
       "| Colima                                                                                                                                                                                                                                                                                                                                                                                                                                                                                                                                                                                                                                                                                                                                                                                                                                                                                                                                                       | NA |  4.28518240 |  14.790161 |  0.2624869 | 11.3757267 |  8.5359031 |  8.4766674 |  9.189473 |   1.79122680 | ⋯ |  12.1992312 |  0.8222800 | 16.406071 |   5.77722794 |  7.9216953 |  0.6767875 |  5.3150234 |  9.105774 | 14.092773 | 24.785097 |\n",
       "| Chiapas                                                                                                                                                                                                                                                                                                                                                                                                                                                                                                                                                                                                                                                                                                                                                                                                                                                                                                                                                      | NA | 11.61115328 |   8.851390 |  9.4794320 |  8.1668087 |  4.5662276 |  2.9530279 |  6.279007 |  12.32390560 | ⋯ |   4.3943570 |  3.2997966 |  9.502440 |   1.42705366 |  5.1085134 |  0.3129659 |  6.3068421 |  8.438195 |  5.268676 | 12.497839 |\n",
       "| Chihuahua                                                                                                                                                                                                                                                                                                                                                                                                                                                                                                                                                                                                                                                                                                                                                                                                                                                                                                                                                    | NA | 19.20358783 |   4.022353 |  1.9369241 |  5.0764916 |  4.2722439 | -9.5578340 | 17.179173 |  -0.07655085 | ⋯ |   7.1201984 | 16.4147204 |  8.536674 |   9.90315225 |  2.9561543 |  1.8280289 |  4.0828564 | 21.265258 |  1.207822 | 10.746562 |\n",
       "| Ciudad de México                                                                                                                                                                                                                                                                                                                                                                                                                                                                                                                                                                                                                                                                                                                                                                                                                                                                                                                                             | NA | -4.27763922 | -14.615064 | 44.1172288 | -1.8091784 |  9.9146486 | -5.7747364 | 14.582706 | -24.07620565 | ⋯ | -16.0814496 |  0.2698537 | 40.059242 | -20.76155225 | 12.1943483 |  7.8552647 |  0.3035944 | 13.814789 |  2.930865 | 11.689378 |\n",
       "| Durango                                                                                                                                                                                                                                                                                                                                                                                                                                                                                                                                                                                                                                                                                                                                                                                                                                                                                                                                                      | NA |  5.80031405 |   7.619694 | -5.1310730 |  4.5960988 |  3.7930936 |  3.7026614 | -3.386613 |  13.15330786 | ⋯ |   6.3239098 |  4.4392131 |  7.848773 |   3.36192532 |  2.7257092 |  4.5831586 |  3.6274294 |  9.025582 | 10.403810 | 10.759829 |\n",
       "| Guanajuato                                                                                                                                                                                                                                                                                                                                                                                                                                                                                                                                                                                                                                                                                                                                                                                                                                                                                                                                                   | NA |  6.54481861 |  11.809143 |  7.9552920 |  2.4516147 | 10.1122941 | -0.2119840 |  6.204101 |  20.93698596 | ⋯ |  -0.4684045 | 12.0656200 |  9.686397 |   3.37187055 |  8.6820935 |  1.5118957 | 14.4462153 | 14.947058 | 12.902543 |  7.726262 |\n",
       "| Guerrero                                                                                                                                                                                                                                                                                                                                                                                                                                                                                                                                                                                                                                                                                                                                                                                                                                                                                                                                                     | NA |  4.67100718 |   9.364471 | -6.3528233 | 23.0010152 | -7.8115549 |  1.8591452 |  4.593250 |  13.93121124 | ⋯ |   4.3806047 |  4.9830227 | 10.063190 |   4.73862310 |  1.2922300 |  2.0772219 |  8.1693951 |  8.848440 |  6.203268 | 10.747454 |\n",
       "| Hidalgo                                                                                                                                                                                                                                                                                                                                                                                                                                                                                                                                                                                                                                                                                                                                                                                                                                                                                                                                                      | NA | 11.47338509 |   5.266352 |  6.4436001 |  6.0495221 |  6.7912367 |  4.2444004 |  5.937570 |  14.11195856 | ⋯ |   0.6474364 |  5.1650415 | 11.819696 |  -0.59697213 |  2.7750639 |  3.6404648 |  3.7286579 |  5.001226 | 19.486895 |  8.642329 |\n",
       "| Jalisco                                                                                                                                                                                                                                                                                                                                                                                                                                                                                                                                                                                                                                                                                                                                                                                                                                                                                                                                                      | NA |  0.04792765 |  -4.998927 | 10.7113222 | -1.4681036 |  5.7048568 |  9.1326450 |  9.594195 |   2.55602868 | ⋯ |   4.8071555 |  5.9997436 |  6.179553 |  14.77133610 |  9.8655123 |  9.2053176 |  3.3863803 | 12.740724 | 16.387467 | 10.284648 |\n",
       "| México                                                                                                                                                                                                                                                                                                                                                                                                                                                                                                                                                                                                                                                                                                                                                                                                                                                                                                                                                       | NA |  9.12653940 |  12.629698 |  4.1311520 | 13.6004802 |  0.6629802 |  5.2950616 |  1.746531 |   5.16438668 | ⋯ |  -0.2441689 |  5.3423179 |  9.147935 |   4.14408523 |  3.0136976 |  1.1530884 |  4.5119725 | 19.337370 | 11.796117 |  9.511196 |\n",
       "| Michoacán de Ocampo                                                                                                                                                                                                                                                                                                                                                                                                                                                                                                                                                                                                                                                                                                                                                                                                                                                                                                                                          | NA |  4.97594821 |   8.276068 | 11.6055547 | 11.2922004 |  3.1511063 |  9.7736579 |  6.199355 |  12.76137799 | ⋯ |   6.2475257 |  1.7984733 | 20.162809 |  11.38495256 | -0.5792507 |  7.7266510 |  4.0108138 |  1.132675 | 18.867360 | -1.489316 |\n",
       "| Morelos                                                                                                                                                                                                                                                                                                                                                                                                                                                                                                                                                                                                                                                                                                                                                                                                                                                                                                                                                      | NA |  5.79984143 |   5.458342 |  6.7261478 |  9.3208321 |  1.0754449 | -8.0632425 | 32.319252 |  -1.37895885 | ⋯ |  -4.6730188 |  0.4556370 | 15.531471 |   6.60041807 |  5.1344210 |  4.6903189 |  1.3062625 | 11.372297 | 14.156870 |  5.583173 |\n",
       "| Nayarit                                                                                                                                                                                                                                                                                                                                                                                                                                                                                                                                                                                                                                                                                                                                                                                                                                                                                                                                                      | NA |  3.68053862 |   8.499903 |  7.1837750 |  0.8387916 |  6.8051642 |  1.6870405 | 16.181976 |  10.22181816 | ⋯ |   2.9623503 |  7.3163019 |  9.304171 |  12.06648068 |  6.5439656 |  9.5958340 |  5.4083011 | 15.899352 | 12.732866 |  5.181975 |\n",
       "| Nuevo León                                                                                                                                                                                                                                                                                                                                                                                                                                                                                                                                                                                                                                                                                                                                                                                                                                                                                                                                                   | NA | -0.24869469 |  25.860256 | -7.7673123 | -2.0604915 |  3.3188800 | 10.6803833 |  5.967722 |  -5.62234223 | ⋯ |   8.3656263 |  7.3565343 | 11.821626 |   7.48322309 |  6.0511372 |  0.8134386 |  8.7188664 |  1.431080 | 10.569846 | 15.755926 |\n",
       "| Oaxaca                                                                                                                                                                                                                                                                                                                                                                                                                                                                                                                                                                                                                                                                                                                                                                                                                                                                                                                                                       | NA | -5.87138306 |   3.930675 |  7.7761401 | 15.7650960 | -6.1496527 |  3.1586929 | 10.922722 |   7.29219977 | ⋯ |   5.6406573 |  5.6236573 | 12.694268 |   5.87336087 |  0.3572529 |  0.9473443 |  5.9446406 |  6.805905 |  7.423202 | 19.290070 |\n",
       "| Puebla                                                                                                                                                                                                                                                                                                                                                                                                                                                                                                                                                                                                                                                                                                                                                                                                                                                                                                                                                       | NA |  5.85037886 |   3.455946 |  4.3133412 |  7.9395030 |  7.8215762 |  8.5879925 |  3.832310 |   7.56883790 | ⋯ |   1.5279914 |  1.7332206 |  6.334915 |   3.43961965 |  4.1627266 |  0.2267370 |  5.1045953 | 10.196491 | 11.376264 | 13.031167 |\n",
       "| Querétaro                                                                                                                                                                                                                                                                                                                                                                                                                                                                                                                                                                                                                                                                                                                                                                                                                                                                                                                                                    | NA |  3.90169822 |  11.007637 | -2.3293613 |  1.7344504 |  0.2911690 | -0.5904359 | 12.730624 |   4.22894458 | ⋯ |   3.9139628 |  4.2705100 |  8.769771 |  -1.76326003 | 11.2822234 | -2.4716113 | 12.6833772 |  7.925483 |  8.400795 | 12.090409 |\n",
       "| Quintana Roo                                                                                                                                                                                                                                                                                                                                                                                                                                                                                                                                                                                                                                                                                                                                                                                                                                                                                                                                                 | NA |  8.85049652 |  13.462859 | -4.5571003 |  2.4906691 | -7.4834165 | 15.1896389 | 35.341757 |  -1.86186260 | ⋯ |  -3.0726030 | 11.8467953 | 16.068682 |   3.66522050 |  8.2544313 |  4.2757482 |  9.9622450 |  5.095642 |  8.421962 | 22.570854 |\n",
       "| San Luis Potosí                                                                                                                                                                                                                                                                                                                                                                                                                                                                                                                                                                                                                                                                                                                                                                                                                                                                                                                                              | NA | 11.42944168 |  -2.627406 | 10.6213395 |  6.5952478 |  5.9671353 | -0.6130154 | 19.074390 |   7.76588170 | ⋯ |   4.2460295 | 17.0753302 |  5.149183 |  11.36246795 |  7.5084448 | -0.8452075 |  8.8988513 |  3.317577 | 16.671554 | 11.790777 |\n",
       "| Sinaloa                                                                                                                                                                                                                                                                                                                                                                                                                                                                                                                                                                                                                                                                                                                                                                                                                                                                                                                                                      | NA | 28.62557147 | -13.882256 |  2.3699844 | 25.2913420 | 11.2808679 |  4.3642275 | -5.292574 |  16.30755295 | ⋯ |   0.5994314 |  1.6556311 | 12.154389 |  -0.04294631 |  5.8854328 | 12.2027427 |  8.7717265 | 19.986625 |  1.804653 |  4.700538 |\n",
       "| Sonora                                                                                                                                                                                                                                                                                                                                                                                                                                                                                                                                                                                                                                                                                                                                                                                                                                                                                                                                                       | NA |  2.63417129 |   5.941153 |  8.3207620 |  4.2274952 | 19.9320972 |  4.6575109 | -5.796565 |  10.38961361 | ⋯ |   5.6521353 |  3.8842907 |  4.729503 |   7.51456130 |  2.5345315 |  1.5577705 |  7.8777777 |  8.889893 | 18.584302 |  8.508883 |\n",
       "| Tabasco                                                                                                                                                                                                                                                                                                                                                                                                                                                                                                                                                                                                                                                                                                                                                                                                                                                                                                                                                      | NA |  8.84208199 |  19.845936 |  4.4862056 | 15.2339295 | -7.1557006 |  4.7953422 | 13.410556 |   8.00536426 | ⋯ |   0.4638654 |  3.7146603 | 11.768115 |   3.57976390 |  7.8698609 |  4.6720820 |  5.2319128 |  5.753918 |  1.730144 |  7.504857 |\n",
       "| Tamaulipas                                                                                                                                                                                                                                                                                                                                                                                                                                                                                                                                                                                                                                                                                                                                                                                                                                                                                                                                                   | NA | 11.68414328 |  -6.884458 |  9.4744368 | 16.4913598 | 11.8181821 | -7.8157378 | 13.850216 |  18.77178976 | ⋯ |   2.7093131 |  7.8329337 | 14.666173 |   1.35571162 | 12.2489255 | -5.5268713 | 15.2323241 | 22.846577 | 24.901465 | -1.948412 |\n",
       "| Tlaxcala                                                                                                                                                                                                                                                                                                                                                                                                                                                                                                                                                                                                                                                                                                                                                                                                                                                                                                                                                     | NA |  9.36976665 |   1.232435 |  6.8800918 |  8.3775308 | 15.4664009 |  4.3109101 | -4.120303 |  11.00404632 | ⋯ |  -1.6807140 |  3.1381598 |  8.252171 |   3.95372483 |  3.7482872 | -4.8287156 |  6.2924305 |  5.287999 | 26.651487 | 12.484776 |\n",
       "| Veracruz de Ignacio de la Llave                                                                                                                                                                                                                                                                                                                                                                                                                                                                                                                                                                                                                                                                                                                                                                                                                                                                                                                              | NA |  4.90012325 |   5.686507 |  0.9781949 |  3.6012979 |  5.3589778 |  4.2462461 | 19.897106 |   2.10628477 | ⋯ |   4.0065659 |  4.2921214 |  8.852550 |   8.67076916 |  7.1293639 |  0.3955212 |  7.9243360 |  4.148181 | 10.077197 |  6.867776 |\n",
       "| Yucatán                                                                                                                                                                                                                                                                                                                                                                                                                                                                                                                                                                                                                                                                                                                                                                                                                                                                                                                                                      | NA | 15.48225519 |  16.854072 | -7.6818180 |  3.1412141 |  3.4722545 | 12.4424412 |  4.152540 |   3.47312622 | ⋯ |   6.6730007 | -2.7841902 |  9.863501 |   8.84876277 |  9.5925708 |  4.4504709 |  1.7906808 |  7.778919 |  9.230307 | 10.374143 |\n",
       "| Zacatecas                                                                                                                                                                                                                                                                                                                                                                                                                                                                                                                                                                                                                                                                                                                                                                                                                                                                                                                                                    | NA |  8.14476448 |  -1.830241 |  0.8863209 | 11.7540302 | 13.2029659 |  7.6070208 | -6.770616 |   6.19672578 | ⋯ |   1.6693412 | 11.2297167 | 23.745104 |  18.78430093 | -8.1788106 |  6.5825362 |  5.4424809 | 10.162981 | 17.262657 |  8.464264 |\n",
       "| a Los códigos se derivan del SCN 2008, modificados para uso del SCN de México     NA No aplica.     P Cifras preliminares     R Cifras revisadas    Nota:    Con base en los “Lineamientos de cambios a la información divulgada en las publicaciones estadísticas y geográficas del INEGI” y que complementan las “Normas Especiales para la Divulgación de Datos” del FMI, al disponer de un dato más reciente generado por las Cuentas de Bienes y Servicios 2023 versión preliminar, así como la inclusión de la última información estadística disponible de las encuesta, los registros administrativos y los datos primarios, se debe realizar la actualización de estos indicadores. Como resultado de incorporar dicha información, se identifican diferencias en los niveles de los índices, valores y variaciones que fueron oportunamente publicados.    La suma de los parciales puede no coincidir con el total por el redondeo de las cifras. | NA |          NA |         NA |         NA |         NA |         NA |         NA |        NA |           NA | ⋯ |          NA |         NA |        NA |           NA |         NA |         NA |         NA |        NA |        NA |        NA |\n",
       "\n"
      ],
      "text/plain": [
       "    Concepto                                                                                                                                                                                                                                                                                                                                                                                                                                                                                                                                                                                                                                                                                                                                                                                                                                                                                                                                                    \n",
       "1   Millones de pesos a precios de 2018                                                                                                                                                                                                                                                                                                                                                                                                                                                                                                                                                                                                                                                                                                                                                                                                                                                                                                                         \n",
       "2   a  B.1bV - Valor agregado bruto                                                                                                                                                                                                                                                                                                                                                                                                                                                                                                                                                                                                                                                                                                                                                                                                                                                                                                                             \n",
       "3   Estados Unidos Mexicanos                                                                                                                                                                                                                                                                                                                                                                                                                                                                                                                                                                                                                                                                                                                                                                                                                                                                                                                                    \n",
       "4   Aguascalientes                                                                                                                                                                                                                                                                                                                                                                                                                                                                                                                                                                                                                                                                                                                                                                                                                                                                                                                                              \n",
       "5   Baja California                                                                                                                                                                                                                                                                                                                                                                                                                                                                                                                                                                                                                                                                                                                                                                                                                                                                                                                                             \n",
       "6   Baja California Sur                                                                                                                                                                                                                                                                                                                                                                                                                                                                                                                                                                                                                                                                                                                                                                                                                                                                                                                                         \n",
       "7   Campeche                                                                                                                                                                                                                                                                                                                                                                                                                                                                                                                                                                                                                                                                                                                                                                                                                                                                                                                                                    \n",
       "8   Coahuila de Zaragoza                                                                                                                                                                                                                                                                                                                                                                                                                                                                                                                                                                                                                                                                                                                                                                                                                                                                                                                                        \n",
       "9   Colima                                                                                                                                                                                                                                                                                                                                                                                                                                                                                                                                                                                                                                                                                                                                                                                                                                                                                                                                                      \n",
       "10  Chiapas                                                                                                                                                                                                                                                                                                                                                                                                                                                                                                                                                                                                                                                                                                                                                                                                                                                                                                                                                     \n",
       "11  Chihuahua                                                                                                                                                                                                                                                                                                                                                                                                                                                                                                                                                                                                                                                                                                                                                                                                                                                                                                                                                   \n",
       "12  Ciudad de México                                                                                                                                                                                                                                                                                                                                                                                                                                                                                                                                                                                                                                                                                                                                                                                                                                                                                                                                            \n",
       "13  Durango                                                                                                                                                                                                                                                                                                                                                                                                                                                                                                                                                                                                                                                                                                                                                                                                                                                                                                                                                     \n",
       "14  Guanajuato                                                                                                                                                                                                                                                                                                                                                                                                                                                                                                                                                                                                                                                                                                                                                                                                                                                                                                                                                  \n",
       "15  Guerrero                                                                                                                                                                                                                                                                                                                                                                                                                                                                                                                                                                                                                                                                                                                                                                                                                                                                                                                                                    \n",
       "16  Hidalgo                                                                                                                                                                                                                                                                                                                                                                                                                                                                                                                                                                                                                                                                                                                                                                                                                                                                                                                                                     \n",
       "17  Jalisco                                                                                                                                                                                                                                                                                                                                                                                                                                                                                                                                                                                                                                                                                                                                                                                                                                                                                                                                                     \n",
       "18  México                                                                                                                                                                                                                                                                                                                                                                                                                                                                                                                                                                                                                                                                                                                                                                                                                                                                                                                                                      \n",
       "19  Michoacán de Ocampo                                                                                                                                                                                                                                                                                                                                                                                                                                                                                                                                                                                                                                                                                                                                                                                                                                                                                                                                         \n",
       "20  Morelos                                                                                                                                                                                                                                                                                                                                                                                                                                                                                                                                                                                                                                                                                                                                                                                                                                                                                                                                                     \n",
       "21  Nayarit                                                                                                                                                                                                                                                                                                                                                                                                                                                                                                                                                                                                                                                                                                                                                                                                                                                                                                                                                     \n",
       "22  Nuevo León                                                                                                                                                                                                                                                                                                                                                                                                                                                                                                                                                                                                                                                                                                                                                                                                                                                                                                                                                  \n",
       "23  Oaxaca                                                                                                                                                                                                                                                                                                                                                                                                                                                                                                                                                                                                                                                                                                                                                                                                                                                                                                                                                      \n",
       "24  Puebla                                                                                                                                                                                                                                                                                                                                                                                                                                                                                                                                                                                                                                                                                                                                                                                                                                                                                                                                                      \n",
       "25  Querétaro                                                                                                                                                                                                                                                                                                                                                                                                                                                                                                                                                                                                                                                                                                                                                                                                                                                                                                                                                   \n",
       "26  Quintana Roo                                                                                                                                                                                                                                                                                                                                                                                                                                                                                                                                                                                                                                                                                                                                                                                                                                                                                                                                                \n",
       "27  San Luis Potosí                                                                                                                                                                                                                                                                                                                                                                                                                                                                                                                                                                                                                                                                                                                                                                                                                                                                                                                                             \n",
       "28  Sinaloa                                                                                                                                                                                                                                                                                                                                                                                                                                                                                                                                                                                                                                                                                                                                                                                                                                                                                                                                                     \n",
       "29  Sonora                                                                                                                                                                                                                                                                                                                                                                                                                                                                                                                                                                                                                                                                                                                                                                                                                                                                                                                                                      \n",
       "30  Tabasco                                                                                                                                                                                                                                                                                                                                                                                                                                                                                                                                                                                                                                                                                                                                                                                                                                                                                                                                                     \n",
       "⋮   ⋮                                                                                                                                                                                                                                                                                                                                                                                                                                                                                                                                                                                                                                                                                                                                                                                                                                                                                                                                                           \n",
       "357 Campeche                                                                                                                                                                                                                                                                                                                                                                                                                                                                                                                                                                                                                                                                                                                                                                                                                                                                                                                                                    \n",
       "358 Coahuila de Zaragoza                                                                                                                                                                                                                                                                                                                                                                                                                                                                                                                                                                                                                                                                                                                                                                                                                                                                                                                                        \n",
       "359 Colima                                                                                                                                                                                                                                                                                                                                                                                                                                                                                                                                                                                                                                                                                                                                                                                                                                                                                                                                                      \n",
       "360 Chiapas                                                                                                                                                                                                                                                                                                                                                                                                                                                                                                                                                                                                                                                                                                                                                                                                                                                                                                                                                     \n",
       "361 Chihuahua                                                                                                                                                                                                                                                                                                                                                                                                                                                                                                                                                                                                                                                                                                                                                                                                                                                                                                                                                   \n",
       "362 Ciudad de México                                                                                                                                                                                                                                                                                                                                                                                                                                                                                                                                                                                                                                                                                                                                                                                                                                                                                                                                            \n",
       "363 Durango                                                                                                                                                                                                                                                                                                                                                                                                                                                                                                                                                                                                                                                                                                                                                                                                                                                                                                                                                     \n",
       "364 Guanajuato                                                                                                                                                                                                                                                                                                                                                                                                                                                                                                                                                                                                                                                                                                                                                                                                                                                                                                                                                  \n",
       "365 Guerrero                                                                                                                                                                                                                                                                                                                                                                                                                                                                                                                                                                                                                                                                                                                                                                                                                                                                                                                                                    \n",
       "366 Hidalgo                                                                                                                                                                                                                                                                                                                                                                                                                                                                                                                                                                                                                                                                                                                                                                                                                                                                                                                                                     \n",
       "367 Jalisco                                                                                                                                                                                                                                                                                                                                                                                                                                                                                                                                                                                                                                                                                                                                                                                                                                                                                                                                                     \n",
       "368 México                                                                                                                                                                                                                                                                                                                                                                                                                                                                                                                                                                                                                                                                                                                                                                                                                                                                                                                                                      \n",
       "369 Michoacán de Ocampo                                                                                                                                                                                                                                                                                                                                                                                                                                                                                                                                                                                                                                                                                                                                                                                                                                                                                                                                         \n",
       "370 Morelos                                                                                                                                                                                                                                                                                                                                                                                                                                                                                                                                                                                                                                                                                                                                                                                                                                                                                                                                                     \n",
       "371 Nayarit                                                                                                                                                                                                                                                                                                                                                                                                                                                                                                                                                                                                                                                                                                                                                                                                                                                                                                                                                     \n",
       "372 Nuevo León                                                                                                                                                                                                                                                                                                                                                                                                                                                                                                                                                                                                                                                                                                                                                                                                                                                                                                                                                  \n",
       "373 Oaxaca                                                                                                                                                                                                                                                                                                                                                                                                                                                                                                                                                                                                                                                                                                                                                                                                                                                                                                                                                      \n",
       "374 Puebla                                                                                                                                                                                                                                                                                                                                                                                                                                                                                                                                                                                                                                                                                                                                                                                                                                                                                                                                                      \n",
       "375 Querétaro                                                                                                                                                                                                                                                                                                                                                                                                                                                                                                                                                                                                                                                                                                                                                                                                                                                                                                                                                   \n",
       "376 Quintana Roo                                                                                                                                                                                                                                                                                                                                                                                                                                                                                                                                                                                                                                                                                                                                                                                                                                                                                                                                                \n",
       "377 San Luis Potosí                                                                                                                                                                                                                                                                                                                                                                                                                                                                                                                                                                                                                                                                                                                                                                                                                                                                                                                                             \n",
       "378 Sinaloa                                                                                                                                                                                                                                                                                                                                                                                                                                                                                                                                                                                                                                                                                                                                                                                                                                                                                                                                                     \n",
       "379 Sonora                                                                                                                                                                                                                                                                                                                                                                                                                                                                                                                                                                                                                                                                                                                                                                                                                                                                                                                                                      \n",
       "380 Tabasco                                                                                                                                                                                                                                                                                                                                                                                                                                                                                                                                                                                                                                                                                                                                                                                                                                                                                                                                                     \n",
       "381 Tamaulipas                                                                                                                                                                                                                                                                                                                                                                                                                                                                                                                                                                                                                                                                                                                                                                                                                                                                                                                                                  \n",
       "382 Tlaxcala                                                                                                                                                                                                                                                                                                                                                                                                                                                                                                                                                                                                                                                                                                                                                                                                                                                                                                                                                    \n",
       "383 Veracruz de Ignacio de la Llave                                                                                                                                                                                                                                                                                                                                                                                                                                                                                                                                                                                                                                                                                                                                                                                                                                                                                                                             \n",
       "384 Yucatán                                                                                                                                                                                                                                                                                                                                                                                                                                                                                                                                                                                                                                                                                                                                                                                                                                                                                                                                                     \n",
       "385 Zacatecas                                                                                                                                                                                                                                                                                                                                                                                                                                                                                                                                                                                                                                                                                                                                                                                                                                                                                                                                                   \n",
       "386 a Los códigos se derivan del SCN 2008, modificados para uso del SCN de México     NA No aplica.     P Cifras preliminares     R Cifras revisadas    Nota:    Con base en los “Lineamientos de cambios a la información divulgada en las publicaciones estadísticas y geográficas del INEGI” y que complementan las “Normas Especiales para la Divulgación de Datos” del FMI, al disponer de un dato más reciente generado por las Cuentas de Bienes y Servicios 2023 versión preliminar, así como la inclusión de la última información estadística disponible de las encuesta, los registros administrativos y los datos primarios, se debe realizar la actualización de estos indicadores. Como resultado de incorporar dicha información, se identifican diferencias en los niveles de los índices, valores y variaciones que fueron oportunamente publicados.    La suma de los parciales puede no coincidir con el total por el redondeo de las cifras.\n",
       "    2003       2004        2005       2006       2007       2008      \n",
       "1           NA         NA          NA         NA         NA         NA\n",
       "2           NA         NA          NA         NA         NA         NA\n",
       "3   592478.460 607316.558  588558.452 623901.414 651139.000 656325.502\n",
       "4     6761.509   6688.170    7137.339   7459.947   7799.641   8428.549\n",
       "5    15451.977  17897.244   18277.022  17538.554  16570.119  16201.753\n",
       "6     4126.691   3825.118    4459.798   4030.299   4275.192   3995.717\n",
       "7     3334.985   4124.897    4238.917   4728.508   3522.368   4092.090\n",
       "8    15048.462  15628.885   17451.523  16317.073  16879.549  16562.888\n",
       "9     7050.439   7328.194    6929.928   7530.338   7665.183   8065.372\n",
       "10   24421.907  22016.961   21022.136  21865.556  22643.923  22584.634\n",
       "11   31665.975  33102.600   34995.749  38473.995  39643.821  38245.514\n",
       "12    1689.049   1646.528    1756.055   1600.020   1521.406   1445.547\n",
       "13   23867.707  24297.781   20320.878  23408.510  22611.265  22404.576\n",
       "14   30665.639  32398.410   29075.765  28104.600  30450.066  31777.406\n",
       "15   13751.134  12987.350   13453.155  14221.675  14267.296  15010.535\n",
       "16   12227.523  12150.619   12052.495  13351.885  12822.901  13213.807\n",
       "17   63782.620  71754.361   68550.428  73155.353  79127.643  80914.860\n",
       "18   25470.070  25401.751   23270.987  25549.927  29246.572  25668.181\n",
       "19   46765.485  43937.295   43258.886  49203.122  51820.333  55856.985\n",
       "20    6664.486   7107.286    7462.438   7523.191   8018.481   6874.061\n",
       "21    8486.309   9810.450    9606.887   9579.378  10914.949  11977.436\n",
       "22   11260.127  10348.765    9649.533   9426.818  10348.043   9707.646\n",
       "23   14957.333  14292.573   13357.900  14633.156  14657.705  14994.696\n",
       "24   22662.831  23876.390   23785.417  24970.806  26092.038  26292.938\n",
       "25    8921.711   8699.518    7656.971   8166.792   9162.720   8860.628\n",
       "26    2193.717   2227.590    2407.522   2720.438   2206.367   1917.629\n",
       "27   12922.575  13295.740   13825.103  13704.280  13989.282  14633.634\n",
       "28   35722.874  42554.908   39966.875  45827.582  49537.617  49017.722\n",
       "29   31679.284  29355.469   33119.270  30835.479  35456.173  36718.606\n",
       "30    9804.945  10999.629    9919.449  10501.950   9455.782   9350.636\n",
       "⋮   ⋮          ⋮           ⋮          ⋮          ⋮          ⋮         \n",
       "357 NA          4.96372867  10.662540  1.3125646  8.6506335  9.3845995\n",
       "358 NA          6.66447085   7.678560  3.8972446  2.1297531  9.5751065\n",
       "359 NA          4.28518240  14.790161  0.2624869 11.3757267  8.5359031\n",
       "360 NA         11.61115328   8.851390  9.4794320  8.1668087  4.5662276\n",
       "361 NA         19.20358783   4.022353  1.9369241  5.0764916  4.2722439\n",
       "362 NA         -4.27763922 -14.615064 44.1172288 -1.8091784  9.9146486\n",
       "363 NA          5.80031405   7.619694 -5.1310730  4.5960988  3.7930936\n",
       "364 NA          6.54481861  11.809143  7.9552920  2.4516147 10.1122941\n",
       "365 NA          4.67100718   9.364471 -6.3528233 23.0010152 -7.8115549\n",
       "366 NA         11.47338509   5.266352  6.4436001  6.0495221  6.7912367\n",
       "367 NA          0.04792765  -4.998927 10.7113222 -1.4681036  5.7048568\n",
       "368 NA          9.12653940  12.629698  4.1311520 13.6004802  0.6629802\n",
       "369 NA          4.97594821   8.276068 11.6055547 11.2922004  3.1511063\n",
       "370 NA          5.79984143   5.458342  6.7261478  9.3208321  1.0754449\n",
       "371 NA          3.68053862   8.499903  7.1837750  0.8387916  6.8051642\n",
       "372 NA         -0.24869469  25.860256 -7.7673123 -2.0604915  3.3188800\n",
       "373 NA         -5.87138306   3.930675  7.7761401 15.7650960 -6.1496527\n",
       "374 NA          5.85037886   3.455946  4.3133412  7.9395030  7.8215762\n",
       "375 NA          3.90169822  11.007637 -2.3293613  1.7344504  0.2911690\n",
       "376 NA          8.85049652  13.462859 -4.5571003  2.4906691 -7.4834165\n",
       "377 NA         11.42944168  -2.627406 10.6213395  6.5952478  5.9671353\n",
       "378 NA         28.62557147 -13.882256  2.3699844 25.2913420 11.2808679\n",
       "379 NA          2.63417129   5.941153  8.3207620  4.2274952 19.9320972\n",
       "380 NA          8.84208199  19.845936  4.4862056 15.2339295 -7.1557006\n",
       "381 NA         11.68414328  -6.884458  9.4744368 16.4913598 11.8181821\n",
       "382 NA          9.36976665   1.232435  6.8800918  8.3775308 15.4664009\n",
       "383 NA          4.90012325   5.686507  0.9781949  3.6012979  5.3589778\n",
       "384 NA         15.48225519  16.854072 -7.6818180  3.1412141  3.4722545\n",
       "385 NA          8.14476448  -1.830241  0.8863209 11.7540302 13.2029659\n",
       "386 NA                  NA         NA         NA         NA         NA\n",
       "    2009       2010       2011         ⋯ 2014        2015       2016      \n",
       "1           NA         NA         NA   ⋯         NA          NA         NA\n",
       "2           NA         NA         NA   ⋯         NA          NA         NA\n",
       "3   638074.598 653518.474 637703.495   ⋯ 718687.394  732003.814 753344.638\n",
       "4     8083.994   8504.018   9023.803   ⋯  10207.219   10636.975  11049.605\n",
       "5    18709.536  18920.280  18312.404   ⋯  19265.785   20482.275  19277.960\n",
       "6     3862.262   4598.812   4557.858   ⋯   5575.650    5874.223   6201.172\n",
       "7     4255.562   4964.887   4552.409   ⋯   5384.054    5767.381   6276.866\n",
       "8    18017.221  18406.247  18793.706   ⋯  18748.817   17863.108  16688.639\n",
       "9     6359.863   6663.656   7244.732   ⋯   5915.154    5959.494   6616.223\n",
       "10   22710.904  23813.518  23643.610   ⋯  22719.196   22966.983  23352.037\n",
       "11   40051.333  42970.242  44639.658   ⋯  49036.028   52035.297  49578.111\n",
       "12    1531.048   1524.757   1563.192   ⋯   1394.786    1412.303   1404.851\n",
       "13   23601.580  22351.959  20731.678   ⋯  24870.859   24183.512  24986.965\n",
       "14   31624.389  32086.337  31506.091   ⋯  35004.084   34032.701  34967.756\n",
       "15   14270.161  15112.159  14839.485   ⋯  14486.226   13605.544  15156.898\n",
       "16   12286.567  12528.195  11138.377   ⋯  13155.211   12971.272  12744.778\n",
       "17   70072.893  77001.696  76909.094   ⋯  95606.110   92316.199  93843.627\n",
       "18   22446.702  24313.281  20279.604   ⋯  27072.932   27882.388  29983.178\n",
       "19   53469.679  50934.702  56010.862   ⋯  65334.331   64777.340  75681.701\n",
       "20    7319.421   7538.857   6865.285   ⋯   7311.366    6880.919   7487.135\n",
       "21   10744.929  10432.239  11523.203   ⋯   9845.298   10029.065  10947.327\n",
       "22   10150.258  10616.776   9489.093   ⋯   9918.297    9215.727   8444.347\n",
       "23   15799.840  15568.875  15037.116   ⋯  15796.989   15602.892  16276.290\n",
       "24   24804.126  25638.325  24219.270   ⋯  26876.787   29235.406  28997.512\n",
       "25    8687.208   9592.883   8930.177   ⋯  11332.739   12082.715  11860.577\n",
       "26    2234.876   2766.973   2842.105   ⋯   2503.062    2525.895   2508.744\n",
       "27   13458.341  14504.363  12667.915   ⋯  18091.385   18340.398  19218.235\n",
       "28   45582.724  40655.119  38434.784   ⋯  44577.948   51915.537  55519.158\n",
       "29   36486.071  37762.892  36716.831   ⋯  38548.011   42530.264  44678.203\n",
       "30    9190.879   9218.611   8824.593   ⋯   9208.828    9397.289   9391.308\n",
       "⋮   ⋮          ⋮          ⋮            ⋱ ⋮           ⋮          ⋮         \n",
       "357  0.1064238 10.986860   12.46058860 ⋯   5.3935250  6.0285509 12.730501 \n",
       "358  3.0274792  8.496918    7.13878732 ⋯  13.0691121  9.5016610  5.039024 \n",
       "359  8.4766674  9.189473    1.79122680 ⋯  12.1992312  0.8222800 16.406071 \n",
       "360  2.9530279  6.279007   12.32390560 ⋯   4.3943570  3.2997966  9.502440 \n",
       "361 -9.5578340 17.179173   -0.07655085 ⋯   7.1201984 16.4147204  8.536674 \n",
       "362 -5.7747364 14.582706  -24.07620565 ⋯ -16.0814496  0.2698537 40.059242 \n",
       "363  3.7026614 -3.386613   13.15330786 ⋯   6.3239098  4.4392131  7.848773 \n",
       "364 -0.2119840  6.204101   20.93698596 ⋯  -0.4684045 12.0656200  9.686397 \n",
       "365  1.8591452  4.593250   13.93121124 ⋯   4.3806047  4.9830227 10.063190 \n",
       "366  4.2444004  5.937570   14.11195856 ⋯   0.6474364  5.1650415 11.819696 \n",
       "367  9.1326450  9.594195    2.55602868 ⋯   4.8071555  5.9997436  6.179553 \n",
       "368  5.2950616  1.746531    5.16438668 ⋯  -0.2441689  5.3423179  9.147935 \n",
       "369  9.7736579  6.199355   12.76137799 ⋯   6.2475257  1.7984733 20.162809 \n",
       "370 -8.0632425 32.319252   -1.37895885 ⋯  -4.6730188  0.4556370 15.531471 \n",
       "371  1.6870405 16.181976   10.22181816 ⋯   2.9623503  7.3163019  9.304171 \n",
       "372 10.6803833  5.967722   -5.62234223 ⋯   8.3656263  7.3565343 11.821626 \n",
       "373  3.1586929 10.922722    7.29219977 ⋯   5.6406573  5.6236573 12.694268 \n",
       "374  8.5879925  3.832310    7.56883790 ⋯   1.5279914  1.7332206  6.334915 \n",
       "375 -0.5904359 12.730624    4.22894458 ⋯   3.9139628  4.2705100  8.769771 \n",
       "376 15.1896389 35.341757   -1.86186260 ⋯  -3.0726030 11.8467953 16.068682 \n",
       "377 -0.6130154 19.074390    7.76588170 ⋯   4.2460295 17.0753302  5.149183 \n",
       "378  4.3642275 -5.292574   16.30755295 ⋯   0.5994314  1.6556311 12.154389 \n",
       "379  4.6575109 -5.796565   10.38961361 ⋯   5.6521353  3.8842907  4.729503 \n",
       "380  4.7953422 13.410556    8.00536426 ⋯   0.4638654  3.7146603 11.768115 \n",
       "381 -7.8157378 13.850216   18.77178976 ⋯   2.7093131  7.8329337 14.666173 \n",
       "382  4.3109101 -4.120303   11.00404632 ⋯  -1.6807140  3.1381598  8.252171 \n",
       "383  4.2462461 19.897106    2.10628477 ⋯   4.0065659  4.2921214  8.852550 \n",
       "384 12.4424412  4.152540    3.47312622 ⋯   6.6730007 -2.7841902  9.863501 \n",
       "385  7.6070208 -6.770616    6.19672578 ⋯   1.6693412 11.2297167 23.745104 \n",
       "386         NA        NA            NA ⋯          NA         NA        NA \n",
       "    2017         2018       2019       2020       2021       2022 R    \n",
       "1           NA           NA         NA         NA         NA         NA\n",
       "2           NA           NA         NA         NA         NA         NA\n",
       "3   777962.381   797095.021 799476.894 808429.880 827208.787 840161.193\n",
       "4    11773.626    12196.068  12409.537  12714.026  13055.677  12947.315\n",
       "5    21009.541    21408.907  21874.793  19920.240  20766.047  23073.243\n",
       "6     6049.484     6351.325   6347.865   6825.902   7604.291   7422.812\n",
       "7     6263.550     6495.615   6235.737   6444.039   6832.877   5981.548\n",
       "8    16818.627    17696.895  18285.792  19015.259  18894.364  19095.324\n",
       "9     6886.233     7344.258   7407.790   7629.655   7685.166   8379.885\n",
       "10   22734.160    23181.939  23614.397  23975.283  24623.253  24708.878\n",
       "11   55014.863    56419.942  54637.593  52743.528  53036.138  58147.480\n",
       "12    1301.570     1367.925   1404.854   1382.562   1379.428   1343.591\n",
       "13   25297.303    24770.022  24395.861  24270.862  26908.343  26599.122\n",
       "14   38585.646    40472.770  40408.145  41037.979  44249.987  43393.450\n",
       "15   15455.838    15461.676  15071.909  16404.009  16549.242  16894.097\n",
       "16   12540.417    12575.647  12014.702  12052.798  12033.351  11908.746\n",
       "17   95408.615    98909.243 101276.038 103964.482 102899.840 107268.904\n",
       "18   29104.700    26636.126  26463.626  27482.593  27661.671  26201.806\n",
       "19   81585.510    84100.472  84321.163  83369.026  88494.538  89619.174\n",
       "20    7812.911     8411.033   8521.297   8956.281   9165.165   9135.621\n",
       "21   11113.242    10841.588  11756.258  12009.310  11801.647  11866.755\n",
       "22    8499.742     8533.487   9383.745   9321.439   9069.977   9313.725\n",
       "23   16258.727    17238.302  17206.943  18066.560  18761.539  18418.170\n",
       "24   29221.803    29959.675  29743.716  30486.404  31059.028  29632.369\n",
       "25   13055.991    13132.114  12928.489  13401.962  13247.209  13147.379\n",
       "26    2733.616     3349.049   2744.315   2561.076   3572.758   3540.648\n",
       "27   20469.638    22093.380  21508.801  22507.072  25228.174  24873.755\n",
       "28   53897.929    55995.981  58366.190  55284.623  54219.092  55164.852\n",
       "29   48933.952    50921.477  52368.945  53089.504  51913.115  54132.415\n",
       "30   10012.419    10175.321   9808.839   9994.340  10272.642  10175.933\n",
       "⋮   ⋮            ⋮          ⋮          ⋮          ⋮          ⋮         \n",
       "357  -0.88039196  4.3683735  4.7615222 10.2089999 19.666573  12.870860 \n",
       "358   0.64597344  2.1451132  2.8585472  5.5122134  8.585009  10.939688 \n",
       "359   5.77722794  7.9216953  0.6767875  5.3150234  9.105774  14.092773 \n",
       "360   1.42705366  5.1085134  0.3129659  6.3068421  8.438195   5.268676 \n",
       "361   9.90315225  2.9561543  1.8280289  4.0828564 21.265258   1.207822 \n",
       "362 -20.76155225 12.1943483  7.8552647  0.3035944 13.814789   2.930865 \n",
       "363   3.36192532  2.7257092  4.5831586  3.6274294  9.025582  10.403810 \n",
       "364   3.37187055  8.6820935  1.5118957 14.4462153 14.947058  12.902543 \n",
       "365   4.73862310  1.2922300  2.0772219  8.1693951  8.848440   6.203268 \n",
       "366  -0.59697213  2.7750639  3.6404648  3.7286579  5.001226  19.486895 \n",
       "367  14.77133610  9.8655123  9.2053176  3.3863803 12.740724  16.387467 \n",
       "368   4.14408523  3.0136976  1.1530884  4.5119725 19.337370  11.796117 \n",
       "369  11.38495256 -0.5792507  7.7266510  4.0108138  1.132675  18.867360 \n",
       "370   6.60041807  5.1344210  4.6903189  1.3062625 11.372297  14.156870 \n",
       "371  12.06648068  6.5439656  9.5958340  5.4083011 15.899352  12.732866 \n",
       "372   7.48322309  6.0511372  0.8134386  8.7188664  1.431080  10.569846 \n",
       "373   5.87336087  0.3572529  0.9473443  5.9446406  6.805905   7.423202 \n",
       "374   3.43961965  4.1627266  0.2267370  5.1045953 10.196491  11.376264 \n",
       "375  -1.76326003 11.2822234 -2.4716113 12.6833772  7.925483   8.400795 \n",
       "376   3.66522050  8.2544313  4.2757482  9.9622450  5.095642   8.421962 \n",
       "377  11.36246795  7.5084448 -0.8452075  8.8988513  3.317577  16.671554 \n",
       "378  -0.04294631  5.8854328 12.2027427  8.7717265 19.986625   1.804653 \n",
       "379   7.51456130  2.5345315  1.5577705  7.8777777  8.889893  18.584302 \n",
       "380   3.57976390  7.8698609  4.6720820  5.2319128  5.753918   1.730144 \n",
       "381   1.35571162 12.2489255 -5.5268713 15.2323241 22.846577  24.901465 \n",
       "382   3.95372483  3.7482872 -4.8287156  6.2924305  5.287999  26.651487 \n",
       "383   8.67076916  7.1293639  0.3955212  7.9243360  4.148181  10.077197 \n",
       "384   8.84876277  9.5925708  4.4504709  1.7906808  7.778919   9.230307 \n",
       "385  18.78430093 -8.1788106  6.5825362  5.4424809 10.162981  17.262657 \n",
       "386           NA         NA         NA         NA        NA         NA \n",
       "    2023 P    \n",
       "1           NA\n",
       "2           NA\n",
       "3   828041.916\n",
       "4    12983.940\n",
       "5    23595.050\n",
       "6     7341.275\n",
       "7     6121.068\n",
       "8    18623.403\n",
       "9     8231.778\n",
       "10   24530.694\n",
       "11   58593.008\n",
       "12    1261.321\n",
       "13   25830.700\n",
       "14   42296.772\n",
       "15   16188.869\n",
       "16   11632.980\n",
       "17  106231.324\n",
       "18   25721.314\n",
       "19   96905.507\n",
       "20    8691.988\n",
       "21   10704.271\n",
       "22    9289.034\n",
       "23   18095.419\n",
       "24   30745.098\n",
       "25   13338.615\n",
       "26    3293.983\n",
       "27   23865.488\n",
       "28   48686.965\n",
       "29   52053.111\n",
       "30   10003.079\n",
       "⋮   ⋮         \n",
       "357 13.090582 \n",
       "358  6.428647 \n",
       "359 24.785097 \n",
       "360 12.497839 \n",
       "361 10.746562 \n",
       "362 11.689378 \n",
       "363 10.759829 \n",
       "364  7.726262 \n",
       "365 10.747454 \n",
       "366  8.642329 \n",
       "367 10.284648 \n",
       "368  9.511196 \n",
       "369 -1.489316 \n",
       "370  5.583173 \n",
       "371  5.181975 \n",
       "372 15.755926 \n",
       "373 19.290070 \n",
       "374 13.031167 \n",
       "375 12.090409 \n",
       "376 22.570854 \n",
       "377 11.790777 \n",
       "378  4.700538 \n",
       "379  8.508883 \n",
       "380  7.504857 \n",
       "381 -1.948412 \n",
       "382 12.484776 \n",
       "383  6.867776 \n",
       "384 10.374143 \n",
       "385  8.464264 \n",
       "386        NA "
      ]
     },
     "metadata": {},
     "output_type": "display_data"
    }
   ],
   "source": [
    "vab_cdmx"
   ]
  },
  {
   "cell_type": "code",
   "execution_count": 101,
   "id": "a844de97",
   "metadata": {
    "vscode": {
     "languageId": "r"
    }
   },
   "outputs": [],
   "source": [
    "#Calcular población ocupada total en CDMX por año\n",
    "ocupados_anual <- sdem_todos %>%\n",
    "  filter(ent == 9, clase2 == 1, !is.na(fac_tri)) %>%\n",
    "  group_by(year = anio) %>%\n",
    "  summarise(pob_ocupada = sum(fac_tri, na.rm = TRUE)) %>%\n",
    "  ungroup()"
   ]
  },
  {
   "cell_type": "code",
   "execution_count": 110,
   "id": "c1f7951e",
   "metadata": {
    "vscode": {
     "languageId": "r"
    }
   },
   "outputs": [
    {
     "name": "stderr",
     "output_type": "stream",
     "text": [
      "Warning message:\n",
      "\"\u001b[1m\u001b[22mThere was 1 warning in `mutate()`.\n",
      "\u001b[1m\u001b[22m\u001b[36mℹ\u001b[39m In argument: `year = as.integer(year)`.\n",
      "Caused by warning:\n",
      "\u001b[33m!\u001b[39m NAs introducidos por coerción\"\n"
     ]
    }
   ],
   "source": [
    "vab_cdmx <- vab_raw %>%\n",
    "  filter(Concepto == \"Ciudad de México\") %>%\n",
    "  pivot_longer(\n",
    "    cols = `2018`:`2023 P`,\n",
    "    names_to = \"year\",\n",
    "    values_to = \"vab\"\n",
    "  ) %>%\n",
    "  mutate(year = as.integer(year)) %>%\n",
    "  select(year, vab)\n"
   ]
  },
  {
   "cell_type": "code",
   "execution_count": 112,
   "id": "b5490189",
   "metadata": {
    "vscode": {
     "languageId": "r"
    }
   },
   "outputs": [],
   "source": [
    "#Calcular población ocupada anual en CDMX desde microdatos\n",
    "ocupados_anual <- sdem_todos %>%\n",
    "  filter(ent == 9, clase2 == 1, !is.na(fac_tri)) %>%\n",
    "  group_by(year = anio) %>%\n",
    "  summarise(pob_ocupada = sum(fac_tri, na.rm = TRUE)) %>%\n",
    "  ungroup()\n"
   ]
  },
  {
   "cell_type": "code",
   "execution_count": null,
   "id": "cf983c21",
   "metadata": {
    "vscode": {
     "languageId": "r"
    }
   },
   "outputs": [],
   "source": [
    "#Unir VAB y población ocupada, calcular productividad e IPL\n",
    "df_ipl_vab <- left_join(vab_cdmx, ocupados_anual, by = \"year\") %>%\n",
    "  mutate(\n",
    "    productividad = vab / pob_ocupada,\n",
    "    base_2018 = productividad[year == 2018],\n",
    "    IPL = (productividad / base_2018) * 100\n",
    "  )\n"
   ]
  },
  {
   "cell_type": "code",
   "execution_count": null,
   "id": "f98c71d9",
   "metadata": {
    "vscode": {
     "languageId": "r"
    }
   },
   "outputs": [],
   "source": [
    "Mostrar resultados finales\n",
    "print(df_ipl_vab %>% select(year, vab, pob_ocupada,"
   ]
  },
  {
   "cell_type": "markdown",
   "id": "bec08e2b",
   "metadata": {},
   "source": [
    "fin"
   ]
  }
 ],
 "metadata": {
  "kernelspec": {
   "display_name": "R",
   "language": "R",
   "name": "ir"
  },
  "language_info": {
   "codemirror_mode": "r",
   "file_extension": ".r",
   "mimetype": "text/x-r-source",
   "name": "R",
   "pygments_lexer": "r",
   "version": "4.4.1"
  }
 },
 "nbformat": 4,
 "nbformat_minor": 5
}
