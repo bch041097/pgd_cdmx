{
 "cells": [
  {
   "metadata": {
    "ExecuteTime": {
     "end_time": "2025-02-04T16:46:22.860234Z",
     "start_time": "2025-02-04T16:46:21.280560Z"
    }
   },
   "cell_type": "code",
   "source": [
    "##Estimación de indicadores de agua\n",
    "#Se borra todo lo que se encuentra en el entorno\n",
    "\n",
    "#rm(list=ls())\n",
    "\n",
    "# Librerías ====\n",
    "if(!require('pacman')) install.packages('pacman')\n",
    "pacman::p_load(tidyverse, srvyr)"
   ],
   "id": "4d63aab5654e1b3",
   "outputs": [
    {
     "name": "stderr",
     "output_type": "stream",
     "text": [
      "Loading required package: pacman\n",
      "\n"
     ]
    }
   ],
   "execution_count": 2
  },
  {
   "metadata": {
    "ExecuteTime": {
     "end_time": "2025-02-04T16:46:23.459490Z",
     "start_time": "2025-02-04T16:46:23.448635Z"
    }
   },
   "cell_type": "code",
   "source": [
    "#Crear directorio para guardar los archivos\n",
    "dir.create(\"data\", showWarnings = FALSE)"
   ],
   "id": "ce263e7c69e8e706",
   "outputs": [],
   "execution_count": 3
  },
  {
   "metadata": {
    "ExecuteTime": {
     "end_time": "2025-02-04T16:46:24.641515Z",
     "start_time": "2025-02-04T16:46:24.629728Z"
    }
   },
   "cell_type": "code",
   "source": [
    "url_basica<-\"https://www.inegi.org.mx/contenidos/programas/cngmd/\"\n",
    "fin<-\"_csv.zip\""
   ],
   "id": "23edfbb7fecbebca",
   "outputs": [],
   "execution_count": 4
  },
  {
   "metadata": {
    "ExecuteTime": {
     "end_time": "2025-02-04T16:46:50.927032Z",
     "start_time": "2025-02-04T16:46:39.938003Z"
    }
   },
   "cell_type": "code",
   "source": [
    "#Loop para descargar los archivos\n",
    "for (i in 1:length(years)) {\n",
    "  # Condición según el año\n",
    "  if (years[i] == 2019) {\n",
    "    segunda_parte <- \"datosabiertos/m5/capta_agua_cngmd\"\n",
    "  }\n",
    "  else if (years[i] == 2021) {\n",
    "    segunda_parte <- \"datosabiertos/m5/captacion_agua_abastecimiento_pub_cngmd\"\n",
    "  }\n",
    "  else {\n",
    "    segunda_parte <- \"datosabiertos/m6/captacion_agua_abastecimiento_pub_cngmd\"\n",
    "  }\n",
    "\n",
    "  # url\n",
    "  url <- paste0(url_basica, years[i], \"/\", segunda_parte, years[i], fin)\n",
    "  print(url)\n",
    "\n",
    "  # Destino del archivo\n",
    "  destfile <- paste0(\"data/\", years[i], fin)\n",
    "\n",
    "  # Descarga\n",
    "  download.file(url, destfile = destfile, mode = \"wb\")\n",
    "\n",
    "  # Unzip\n",
    "  unzip(destfile, exdir = \"data\")\n",
    "  unlink(destfile)\n",
    "}"
   ],
   "id": "9d94ea8726981212",
   "outputs": [
    {
     "name": "stdout",
     "output_type": "stream",
     "text": [
      "[1] \"https://www.inegi.org.mx/contenidos/programas/cngmd/2019/datosabiertos/m5/capta_agua_cngmd2019_csv.zip\"\n",
      "[1] \"https://www.inegi.org.mx/contenidos/programas/cngmd/2021/datosabiertos/m5/captacion_agua_abastecimiento_pub_cngmd2021_csv.zip\"\n",
      "[1] \"https://www.inegi.org.mx/contenidos/programas/cngmd/2023/datosabiertos/m6/captacion_agua_abastecimiento_pub_cngmd2023_csv.zip\"\n"
     ]
    }
   ],
   "execution_count": 7
  },
  {
   "metadata": {
    "ExecuteTime": {
     "end_time": "2025-02-04T19:46:10.000313Z",
     "start_time": "2025-02-04T19:46:09.984359Z"
    }
   },
   "cell_type": "code",
   "source": [
    "# Función de estimación\n",
    "process_files <- function(years, variable) {\n",
    "  # Función anidada para estimar el indicador\n",
    "  estima_indicador <- function(path, variable) {\n",
    "    # Extraer el año del archivo\n",
    "    year <- substr(path, 11, 14)\n",
    "\n",
    "    # Leer los datos y hacer las transformaciones necesarias de las variables\n",
    "    if (year %in% c(\"2017\", \"2019\")) {\n",
    "      datos <- read_csv(path, show_col_types = FALSE) %>%\n",
    "        janitor::clean_names() %>%\n",
    "        #generar clave de entidad\n",
    "    mutate(cve_ent = substr(cve_geo, 1, 2))%>%\n",
    "    filter(cve_ent == \"09\")\n",
    "\n",
    "\n",
    "    } else if (year %in% c(\"2021\", \"2023\")) {\n",
    "        datos <- read_csv(path, show_col_types = FALSE) %>%\n",
    "        janitor::clean_names() %>%\n",
    "        #generar clave de entidad\n",
    "    mutate(cve_ent = substr(cve_geo, 1, 2))%>%\n",
    "    filter(cve_ent == \"09\")\n",
    "    } else {\n",
    "      stop(\"Año no soportado.\")\n",
    "    }\n",
    "\n",
    "  }\n",
    "\n",
    "    # Macromedidor\n",
    "    if (variable == \"macromedidor\") {\n",
    "      macromedidor <- datos %>%\n",
    "        mutate(funciona=case_when(\n",
    "            fnt_mcro == 2 | fnt_mcro == 3 ~ \"No funciona\",\n",
    "            TRUE ~ \"Funciona\"\n",
    "        )) %>%\n",
    "        group_by(funciona) %>%\n",
    "        mutate(\n",
    "        #Total de obras\n",
    "        obras = n(),\n",
    "        #Obras que no funcionan\n",
    "        porcentaje = round(n()/nrow(datos)*100,2)%>%\n",
    "        ungroup()%>%\n",
    "        select(funciona, obras, porcentaje)%>%\n",
    "        mutate(year = year)\n",
    "        return(macromedidor)\n",
    "}\n",
    "\n",
    "\n",
    "\n",
    "  map_dfr(years, function(year) {\n",
    "    # Seleccionar el archivo correcto según la variable y el año\n",
    "    file_path <- if (variable == \"macromedidor\") {\n",
    "      if (year %in% c(2017, 2019)) {\n",
    "        paste0(\"data/encig\", year, \"_01_sec1_3_4_5_8_9_10.dbf\")\n",
    "      } else if (year %in% c(2021, 2023)) {\n",
    "        paste0(\"data/conjunto_de_datos/fntcapta_cngmd\",year,\".csv\")\n",
    "      } else {\n",
    "        stop(\"Año no soportado.\")\n",
    "      }\n",
    "    } else {\n",
    "      stop(\"Variable no reconocida.\")\n",
    "    }\n",
    "\n",
    "    # Print del archivo que se está procesando\n",
    "    print(paste(\"Procesando archivo:\", file_path))\n",
    "\n",
    "    # Invocar la función de estimación\n",
    "    estima_indicador(file_path, variable)\n",
    "  })\n",
    "}\n"
   ],
   "id": "fac848a4747cf503",
   "outputs": [
    {
     "ename": "ERROR",
     "evalue": "Error in parse(text = x, srcfile = src): <text>:49:9: unexpected symbol\n48:         mutate(year = year)\n49:         return\n            ^\n",
     "output_type": "error",
     "traceback": [
      "Error in parse(text = x, srcfile = src): <text>:49:9: unexpected symbol\n48:         mutate(year = year)\n49:         return\n            ^\nTraceback:\n"
     ]
    }
   ],
   "execution_count": 17
  },
  {
   "metadata": {
    "ExecuteTime": {
     "end_time": "2025-02-04T20:02:43.011974Z",
     "start_time": "2025-02-04T20:02:42.999825Z"
    }
   },
   "cell_type": "code",
   "source": [
    "# Función de estimación\n",
    "process_files <- function(years, variable) {\n",
    "\n",
    "  # Función anidada para estimar el indicador\n",
    "  estima_indicador <- function(path, variable, year) {\n",
    "    # Leer los datos y hacer las transformaciones necesarias de las variables\n",
    "    if (year %in% c(\"2017\", \"2019\")) {\n",
    "      datos <- read_csv(path, show_col_types = FALSE) %>%\n",
    "        janitor::clean_names() %>%\n",
    "        mutate(cve_ent = substr(folio, 1, 2)) %>%\n",
    "        filter(cve_ent == \"09\")\n",
    "    } else if (year %in% c(\"2021\", \"2023\")) {\n",
    "      datos <- read_csv(path, show_col_types = FALSE) %>%\n",
    "        janitor::clean_names() %>%\n",
    "        mutate(cve_ent = substr(cve_geo, 1, 2)) %>%\n",
    "        filter(cve_ent == \"09\")\n",
    "    } else {\n",
    "      stop(\"Año no soportado.\")\n",
    "    }\n",
    "\n",
    "    # Procesar la variable macromedidor\n",
    "    if (variable == \"macromedidor\") {\n",
    "      macromedidor <- datos %>%\n",
    "      mutate(fnt_mcro = if (\"fntmacro\" %in% names(.)) fntmacro else fnt_mcro) %>%\n",
    "\n",
    "\n",
    "        mutate(funciona = case_when(\n",
    "          fnt_mcro == 2 | fnt_mcro == 3 ~ \"No funciona\",\n",
    "          TRUE ~ \"Funciona\"\n",
    "        )) %>%\n",
    "        group_by(funciona) %>%\n",
    "        summarise(\n",
    "          obras = n(),\n",
    "          porcentaje = round(n() / nrow(datos) * 100, 2)\n",
    "        ) %>%\n",
    "        ungroup() %>%\n",
    "        mutate(year = year)%>%\n",
    "        filter(funciona == \"No funciona\")\n",
    "\n",
    "      return(macromedidor)\n",
    "    } else {\n",
    "      stop(\"Variable no reconocida.\")\n",
    "    }\n",
    "  }\n",
    "\n",
    "  # Procesar cada año y consolidar los resultados\n",
    "  results <- map_dfr(years, function(year) {\n",
    "    # Seleccionar el archivo correcto según la variable y el año\n",
    "    file_path <- if (variable == \"macromedidor\") {\n",
    "      if (year %in% c(2017, 2019)) {\n",
    "        paste0(\"data/capta_agua_cngmd\", year, \"_csv/conjunto_de_datos/secc_ii_td_m5_\", (year - 1), \"_funt_capt.csv\")\n",
    "      } else if (year %in% c(2021, 2023)) {\n",
    "        paste0(\"data/conjunto_de_datos/fntcapta_cngmd\", year, \".csv\")\n",
    "      } else {\n",
    "        stop(\"Año no soportado.\")\n",
    "      }\n",
    "    } else {\n",
    "      stop(\"Variable no reconocida.\")\n",
    "    }\n",
    "\n",
    "    # Print del archivo que se está procesando\n",
    "    print(paste(\"Procesando archivo:\", file_path))\n",
    "\n",
    "    # Invocar la función de estimación y devolver el resultado\n",
    "    estima_indicador(file_path, variable, year)\n",
    "  })\n",
    "\n",
    "  return(results)\n",
    "}"
   ],
   "id": "df988647604700ce",
   "outputs": [],
   "execution_count": 51
  },
  {
   "metadata": {
    "ExecuteTime": {
     "end_time": "2025-02-04T20:02:47.448889Z",
     "start_time": "2025-02-04T20:02:47.201504Z"
    }
   },
   "cell_type": "code",
   "source": "process_files(c(2019, 2021, 2023), \"macromedidor\")",
   "id": "253ce893327f4a1b",
   "outputs": [
    {
     "name": "stdout",
     "output_type": "stream",
     "text": [
      "[1] \"Procesando archivo: data/capta_agua_cngmd2019_csv/conjunto_de_datos/secc_ii_td_m5_2018_funt_capt.csv\"\n",
      "[1] \"Procesando archivo: data/conjunto_de_datos/fntcapta_cngmd2021.csv\"\n",
      "[1] \"Procesando archivo: data/conjunto_de_datos/fntcapta_cngmd2023.csv\"\n"
     ]
    },
    {
     "data": {
      "text/html": [
       "<table class=\"dataframe\">\n",
       "<caption>A tibble: 3 × 4</caption>\n",
       "<thead>\n",
       "\t<tr><th scope=col>funciona</th><th scope=col>obras</th><th scope=col>porcentaje</th><th scope=col>year</th></tr>\n",
       "\t<tr><th scope=col>&lt;chr&gt;</th><th scope=col>&lt;int&gt;</th><th scope=col>&lt;dbl&gt;</th><th scope=col>&lt;dbl&gt;</th></tr>\n",
       "</thead>\n",
       "<tbody>\n",
       "\t<tr><td>No funciona</td><td>11</td><td> 1.96</td><td>2019</td></tr>\n",
       "\t<tr><td>No funciona</td><td>82</td><td>15.95</td><td>2021</td></tr>\n",
       "\t<tr><td>No funciona</td><td>81</td><td>15.61</td><td>2023</td></tr>\n",
       "</tbody>\n",
       "</table>\n"
      ],
      "text/markdown": "\nA tibble: 3 × 4\n\n| funciona &lt;chr&gt; | obras &lt;int&gt; | porcentaje &lt;dbl&gt; | year &lt;dbl&gt; |\n|---|---|---|---|\n| No funciona | 11 |  1.96 | 2019 |\n| No funciona | 82 | 15.95 | 2021 |\n| No funciona | 81 | 15.61 | 2023 |\n\n",
      "text/latex": "A tibble: 3 × 4\n\\begin{tabular}{llll}\n funciona & obras & porcentaje & year\\\\\n <chr> & <int> & <dbl> & <dbl>\\\\\n\\hline\n\t No funciona & 11 &  1.96 & 2019\\\\\n\t No funciona & 82 & 15.95 & 2021\\\\\n\t No funciona & 81 & 15.61 & 2023\\\\\n\\end{tabular}\n",
      "text/plain": [
       "  funciona    obras porcentaje year\n",
       "1 No funciona 11     1.96      2019\n",
       "2 No funciona 82    15.95      2021\n",
       "3 No funciona 81    15.61      2023"
      ]
     },
     "metadata": {},
     "output_type": "display_data"
    }
   ],
   "execution_count": 52
  }
 ],
 "metadata": {
  "kernelspec": {
   "name": "ir",
   "language": "R",
   "display_name": "R"
  }
 },
 "nbformat": 5,
 "nbformat_minor": 9
}
