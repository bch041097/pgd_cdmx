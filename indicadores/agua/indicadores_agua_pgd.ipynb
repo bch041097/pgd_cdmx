{
 "cells": [
  {
   "cell_type": "code",
   "id": "initial_id",
   "metadata": {
    "collapsed": true,
    "ExecuteTime": {
     "end_time": "2025-01-24T09:24:08.560153Z",
     "start_time": "2025-01-24T09:24:07.585611Z"
    }
   },
   "source": [
    "##Estimación de indicadores de agua\n",
    "#Se borra todo lo que se encuentra en el entorno\n",
    "\n",
    "rm(list=ls())\n",
    "\n",
    "# Librerías ====\n",
    "if(!require('pacman')) install.packages('pacman')\n",
    "pacman::p_load(tidyverse, srvyr)"
   ],
   "outputs": [
    {
     "name": "stderr",
     "output_type": "stream",
     "text": [
      "Loading required package: pacman\n",
      "\n"
     ]
    }
   ],
   "execution_count": 1
  },
  {
   "metadata": {
    "ExecuteTime": {
     "end_time": "2025-01-24T09:24:08.593806Z",
     "start_time": "2025-01-24T09:24:08.564944Z"
    }
   },
   "cell_type": "code",
   "source": [
    "#Crear directorio para guardar los archivos\n",
    "dir.create(\"data\", showWarnings = FALSE)"
   ],
   "id": "be94f7e6b62f21a0",
   "outputs": [],
   "execution_count": 2
  },
  {
   "metadata": {},
   "cell_type": "markdown",
   "source": [
    "### Indicador de disponibilidad de agua diaria en la vivienda\n",
    "\n",
    "Para este, se utilizan los datos de la Encuesta Nacional de Ingresos y Gastos de los Hogares (ENIGH). Dado que esa variable se empezó a capturar en 2020, únicamente se descargan los datos de ese año y 2022."
   ],
   "id": "2b73179e2b3d6896"
  },
  {
   "metadata": {
    "ExecuteTime": {
     "end_time": "2025-01-24T09:24:08.616414Z",
     "start_time": "2025-01-24T09:24:08.606272Z"
    }
   },
   "cell_type": "code",
   "source": [
    "url_basica<-\"https://www.inegi.org.mx/contenidos/programas/enigh/nc/\"\n",
    "segunda_parte<-\"microdatos/enigh\"\n",
    "fin<-\"_ns_viviendas_csv.zip\""
   ],
   "id": "ed5f0229abea097b",
   "outputs": [],
   "execution_count": 3
  },
  {
   "metadata": {
    "ExecuteTime": {
     "end_time": "2025-01-24T09:24:08.655066Z",
     "start_time": "2025-01-24T09:24:08.645776Z"
    }
   },
   "cell_type": "code",
   "source": "years<-c(\"2020\", \"2022\")",
   "id": "7f2b4d7ce52772e1",
   "outputs": [],
   "execution_count": 4
  },
  {
   "metadata": {
    "ExecuteTime": {
     "end_time": "2025-01-24T09:24:10.861766Z",
     "start_time": "2025-01-24T09:24:08.666137Z"
    }
   },
   "cell_type": "code",
   "source": [
    "# Descargar los archivos, descomprimirlos y renombrarlos\n",
    "for (i in 1:length(years)) {\n",
    "  url <- paste0(url_basica, years[i], \"/\", segunda_parte, years[i], fin)\n",
    "  destfile <- paste0(\"data/\", years[i], fin)\n",
    "\n",
    "  # Descargar el archivo\n",
    "  download.file(url, destfile = destfile)\n",
    "\n",
    "  # Descomprimir el archivo\n",
    "  unzip(destfile, exdir = \"data\")\n",
    "\n",
    "  # Renombrar el archivo descomprimido a \"viviendas_xxxx.csv\"\n",
    "  file.rename(\n",
    "    from = \"data/viviendas.csv\",\n",
    "    to = paste0(\"data/viviendas_\", years[i], \".csv\")\n",
    "  )\n",
    "}"
   ],
   "id": "fa03745ff5b53dcf",
   "outputs": [],
   "execution_count": 5
  },
  {
   "metadata": {
    "ExecuteTime": {
     "end_time": "2025-01-24T09:24:10.882376Z",
     "start_time": "2025-01-24T09:24:10.873210Z"
    }
   },
   "cell_type": "code",
   "source": [
    "  #Función de estimación\n",
    "  \n",
    "  estimacion <- function(path, variable) {\n",
    "  # Cargar los datos\n",
    "  datos <- read_csv(path)\n",
    "\n",
    "  datos <- datos %>%\n",
    "    mutate(\n",
    "      across(starts_with(\"mat\") & where(is.character),\n",
    "             ~ replace_na(parse_number(.x, na = c('', 'NA', '&')), 0)),\n",
    "    cve_ent = case_when(\n",
    "      nchar(folioviv) == 9  ~ paste0(\"0\", substr(folioviv, 1, 1)),\n",
    "      nchar(folioviv) == 10 ~ substr(folioviv, 1, 2)\n",
    "    )) %>%\n",
    "    # Filtrar si entidad es 9\n",
    "  filter(cve_ent == \"09\")\n",
    "  \n",
    "  \n",
    "  \n",
    "    # Crear diseño muestral\n",
    "mydesign <- datos %>%\n",
    "    as_survey_design(ids = upm,\n",
    "                     strata = est_dis,\n",
    "                     weights = factor)\n",
    "    \n",
    "    \n",
    "      # Estimar viviendas con agua diaria\n",
    "  dispagua <- mydesign %>%\n",
    "group_by(dotac_agua) %>%\n",
    "    summarise(\n",
    "      viviendas = survey_total(vartype = \"cv\"),\n",
    "      porcentaje = survey_prop(vartype = \"cv\")\n",
    "    ) %>%\n",
    "  #Filtro de viviendas con agua diaria\n",
    "    filter(dotac_agua == 1) %>%\n",
    "    mutate(porcentaje = round(porcentaje * 100, 2),\n",
    "           year = substr(path, 16, 19))\n",
    "    \n",
    "    \n",
    "    \n",
    "    \n",
    "    if (variable == \"dispagua\") {\n",
    "    return(dispagua)\n",
    "  }\n",
    "  else {\n",
    "    stop(\"Variable no reconocida\")\n",
    "    }\n",
    "  }"
   ],
   "id": "70509efebcd9f0e5",
   "outputs": [],
   "execution_count": 6
  },
  {
   "metadata": {
    "ExecuteTime": {
     "end_time": "2025-01-24T09:27:31.953840Z",
     "start_time": "2025-01-24T09:27:31.016666Z"
    }
   },
   "cell_type": "code",
   "source": [
    "#Estimar indicador de disponibilidad diaria de agua\n",
    "tabla_disp_agua<-map_dfr(\n",
    "  list.files(\"data\", full.names = TRUE, pattern = \"viviendas_.*.csv\"),\n",
    "  estimacion,\n",
    "  variable = \"dispagua\"\n",
    ")\n",
    "print(\"Porcentaje de viviendas con disponibilidad de agua diaria\")\n",
    "tabla_disp_agua"
   ],
   "id": "43013c9906144f6",
   "outputs": [
    {
     "name": "stderr",
     "output_type": "stream",
     "text": [
      "Warning message:\n",
      "\"\u001B[1m\u001B[22mOne or more parsing issues, call `problems()` on your data frame for details,\n",
      "e.g.:\n",
      "  dat <- vroom(...)\n",
      "  problems(dat)\"\n",
      "\u001B[1mRows: \u001B[22m\u001B[34m87754\u001B[39m \u001B[1mColumns: \u001B[22m\u001B[34m64\u001B[39m\n",
      "\u001B[36m──\u001B[39m \u001B[1mColumn specification\u001B[22m \u001B[36m────────────────────────────────────────────────────────\u001B[39m\n",
      "\u001B[1mDelimiter:\u001B[22m \",\"\n",
      "\u001B[31mchr\u001B[39m  (9): folioviv, tipo_viv, mat_techos, tipo_finan, num_dueno1, num_dueno2...\n",
      "\u001B[32mdbl\u001B[39m (55): mat_pared, mat_pisos, antiguedad, antigua_ne, cocina, cocina_dor, ...\n",
      "\n",
      "\u001B[36mℹ\u001B[39m Use `spec()` to retrieve the full column specification for this data.\n",
      "\u001B[36mℹ\u001B[39m Specify the column types or set `show_col_types = FALSE` to quiet this message.\n",
      "Warning message:\n",
      "\"\u001B[1m\u001B[22mOne or more parsing issues, call `problems()` on your data frame for details,\n",
      "e.g.:\n",
      "  dat <- vroom(...)\n",
      "  problems(dat)\"\n",
      "\u001B[1mRows: \u001B[22m\u001B[34m88823\u001B[39m \u001B[1mColumns: \u001B[22m\u001B[34m64\u001B[39m\n",
      "\u001B[36m──\u001B[39m \u001B[1mColumn specification\u001B[22m \u001B[36m────────────────────────────────────────────────────────\u001B[39m\n",
      "\u001B[1mDelimiter:\u001B[22m \",\"\n",
      "\u001B[31mchr\u001B[39m  (9): folioviv, tipo_viv, mat_techos, tipo_finan, num_dueno1, num_dueno2...\n",
      "\u001B[32mdbl\u001B[39m (55): mat_pared, mat_pisos, antiguedad, antigua_ne, cocina, cocina_dor, ...\n",
      "\n",
      "\u001B[36mℹ\u001B[39m Use `spec()` to retrieve the full column specification for this data.\n",
      "\u001B[36mℹ\u001B[39m Specify the column types or set `show_col_types = FALSE` to quiet this message.\n"
     ]
    },
    {
     "name": "stdout",
     "output_type": "stream",
     "text": [
      "[1] \"Porcentaje de viviendas con disponibilidad de agua diaria\"\n"
     ]
    },
    {
     "data": {
      "text/html": [
       "<table class=\"dataframe\">\n",
       "<caption>A tibble: 2 × 6</caption>\n",
       "<thead>\n",
       "\t<tr><th scope=col>dotac_agua</th><th scope=col>viviendas</th><th scope=col>viviendas_cv</th><th scope=col>porcentaje</th><th scope=col>porcentaje_cv</th><th scope=col>year</th></tr>\n",
       "\t<tr><th scope=col>&lt;dbl&gt;</th><th scope=col>&lt;dbl&gt;</th><th scope=col>&lt;dbl&gt;</th><th scope=col>&lt;dbl&gt;</th><th scope=col>&lt;dbl&gt;</th><th scope=col>&lt;chr&gt;</th></tr>\n",
       "</thead>\n",
       "<tbody>\n",
       "\t<tr><td>1</td><td>2162481</td><td>0.02260787</td><td>79.88</td><td>0.01928231</td><td>2020</td></tr>\n",
       "\t<tr><td>1</td><td>2300881</td><td>0.02524791</td><td>78.05</td><td>0.02137932</td><td>2022</td></tr>\n",
       "</tbody>\n",
       "</table>\n"
      ],
      "text/markdown": "\nA tibble: 2 × 6\n\n| dotac_agua &lt;dbl&gt; | viviendas &lt;dbl&gt; | viviendas_cv &lt;dbl&gt; | porcentaje &lt;dbl&gt; | porcentaje_cv &lt;dbl&gt; | year &lt;chr&gt; |\n|---|---|---|---|---|---|\n| 1 | 2162481 | 0.02260787 | 79.88 | 0.01928231 | 2020 |\n| 1 | 2300881 | 0.02524791 | 78.05 | 0.02137932 | 2022 |\n\n",
      "text/latex": "A tibble: 2 × 6\n\\begin{tabular}{llllll}\n dotac\\_agua & viviendas & viviendas\\_cv & porcentaje & porcentaje\\_cv & year\\\\\n <dbl> & <dbl> & <dbl> & <dbl> & <dbl> & <chr>\\\\\n\\hline\n\t 1 & 2162481 & 0.02260787 & 79.88 & 0.01928231 & 2020\\\\\n\t 1 & 2300881 & 0.02524791 & 78.05 & 0.02137932 & 2022\\\\\n\\end{tabular}\n",
      "text/plain": [
       "  dotac_agua viviendas viviendas_cv porcentaje porcentaje_cv year\n",
       "1 1          2162481   0.02260787   79.88      0.01928231    2020\n",
       "2 1          2300881   0.02524791   78.05      0.02137932    2022"
      ]
     },
     "metadata": {},
     "output_type": "display_data"
    }
   ],
   "execution_count": 9
  }
 ],
 "metadata": {
  "kernelspec": {
   "display_name": "R",
   "language": "R",
   "name": "ir"
  },
  "language_info": {
   "codemirror_mode": {
    "name": "ipython",
    "version": 2
   },
   "file_extension": ".py",
   "mimetype": "text/x-python",
   "name": "python",
   "nbconvert_exporter": "python",
   "pygments_lexer": "ipython2",
   "version": "2.7.6"
  }
 },
 "nbformat": 4,
 "nbformat_minor": 5
}
