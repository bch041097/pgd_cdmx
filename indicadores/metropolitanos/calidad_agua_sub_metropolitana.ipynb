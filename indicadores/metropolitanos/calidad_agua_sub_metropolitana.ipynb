{
 "cells": [
  {
   "cell_type": "markdown",
   "id": "03a95fbc",
   "metadata": {},
   "source": [
    "**Porcentaje de sitios de monitoreo con registros de contaminación**"
   ]
  },
  {
   "cell_type": "code",
   "execution_count": 15,
   "id": "42733ed1",
   "metadata": {
    "vscode": {
     "languageId": "r"
    }
   },
   "outputs": [
    {
     "data": {
      "text/html": [
       "<ol>\n",
       "\t<li><style>\n",
       ".list-inline {list-style: none; margin:0; padding: 0}\n",
       ".list-inline>li {display: inline-block}\n",
       ".list-inline>li:not(:last-child)::after {content: \"\\00b7\"; padding: 0 .5ex}\n",
       "</style>\n",
       "<ol class=list-inline><li>'httr'</li><li>'jsonlite'</li><li>'showtext'</li><li>'showtextdb'</li><li>'sysfonts'</li><li>'srvyr'</li><li>'readxl'</li><li>'sf'</li><li>'lubridate'</li><li>'forcats'</li><li>'stringr'</li><li>'dplyr'</li><li>'purrr'</li><li>'readr'</li><li>'tidyr'</li><li>'tibble'</li><li>'ggplot2'</li><li>'tidyverse'</li><li>'stats'</li><li>'graphics'</li><li>'grDevices'</li><li>'utils'</li><li>'datasets'</li><li>'methods'</li><li>'base'</li></ol>\n",
       "</li>\n",
       "\t<li><style>\n",
       ".list-inline {list-style: none; margin:0; padding: 0}\n",
       ".list-inline>li {display: inline-block}\n",
       ".list-inline>li:not(:last-child)::after {content: \"\\00b7\"; padding: 0 .5ex}\n",
       "</style>\n",
       "<ol class=list-inline><li>'httr'</li><li>'jsonlite'</li><li>'showtext'</li><li>'showtextdb'</li><li>'sysfonts'</li><li>'srvyr'</li><li>'readxl'</li><li>'sf'</li><li>'lubridate'</li><li>'forcats'</li><li>'stringr'</li><li>'dplyr'</li><li>'purrr'</li><li>'readr'</li><li>'tidyr'</li><li>'tibble'</li><li>'ggplot2'</li><li>'tidyverse'</li><li>'stats'</li><li>'graphics'</li><li>'grDevices'</li><li>'utils'</li><li>'datasets'</li><li>'methods'</li><li>'base'</li></ol>\n",
       "</li>\n",
       "\t<li><style>\n",
       ".list-inline {list-style: none; margin:0; padding: 0}\n",
       ".list-inline>li {display: inline-block}\n",
       ".list-inline>li:not(:last-child)::after {content: \"\\00b7\"; padding: 0 .5ex}\n",
       "</style>\n",
       "<ol class=list-inline><li>'httr'</li><li>'jsonlite'</li><li>'showtext'</li><li>'showtextdb'</li><li>'sysfonts'</li><li>'srvyr'</li><li>'readxl'</li><li>'sf'</li><li>'lubridate'</li><li>'forcats'</li><li>'stringr'</li><li>'dplyr'</li><li>'purrr'</li><li>'readr'</li><li>'tidyr'</li><li>'tibble'</li><li>'ggplot2'</li><li>'tidyverse'</li><li>'stats'</li><li>'graphics'</li><li>'grDevices'</li><li>'utils'</li><li>'datasets'</li><li>'methods'</li><li>'base'</li></ol>\n",
       "</li>\n",
       "\t<li><style>\n",
       ".list-inline {list-style: none; margin:0; padding: 0}\n",
       ".list-inline>li {display: inline-block}\n",
       ".list-inline>li:not(:last-child)::after {content: \"\\00b7\"; padding: 0 .5ex}\n",
       "</style>\n",
       "<ol class=list-inline><li>'httr'</li><li>'jsonlite'</li><li>'showtext'</li><li>'showtextdb'</li><li>'sysfonts'</li><li>'srvyr'</li><li>'readxl'</li><li>'sf'</li><li>'lubridate'</li><li>'forcats'</li><li>'stringr'</li><li>'dplyr'</li><li>'purrr'</li><li>'readr'</li><li>'tidyr'</li><li>'tibble'</li><li>'ggplot2'</li><li>'tidyverse'</li><li>'stats'</li><li>'graphics'</li><li>'grDevices'</li><li>'utils'</li><li>'datasets'</li><li>'methods'</li><li>'base'</li></ol>\n",
       "</li>\n",
       "</ol>\n"
      ],
      "text/latex": [
       "\\begin{enumerate}\n",
       "\\item \\begin{enumerate*}\n",
       "\\item 'httr'\n",
       "\\item 'jsonlite'\n",
       "\\item 'showtext'\n",
       "\\item 'showtextdb'\n",
       "\\item 'sysfonts'\n",
       "\\item 'srvyr'\n",
       "\\item 'readxl'\n",
       "\\item 'sf'\n",
       "\\item 'lubridate'\n",
       "\\item 'forcats'\n",
       "\\item 'stringr'\n",
       "\\item 'dplyr'\n",
       "\\item 'purrr'\n",
       "\\item 'readr'\n",
       "\\item 'tidyr'\n",
       "\\item 'tibble'\n",
       "\\item 'ggplot2'\n",
       "\\item 'tidyverse'\n",
       "\\item 'stats'\n",
       "\\item 'graphics'\n",
       "\\item 'grDevices'\n",
       "\\item 'utils'\n",
       "\\item 'datasets'\n",
       "\\item 'methods'\n",
       "\\item 'base'\n",
       "\\end{enumerate*}\n",
       "\n",
       "\\item \\begin{enumerate*}\n",
       "\\item 'httr'\n",
       "\\item 'jsonlite'\n",
       "\\item 'showtext'\n",
       "\\item 'showtextdb'\n",
       "\\item 'sysfonts'\n",
       "\\item 'srvyr'\n",
       "\\item 'readxl'\n",
       "\\item 'sf'\n",
       "\\item 'lubridate'\n",
       "\\item 'forcats'\n",
       "\\item 'stringr'\n",
       "\\item 'dplyr'\n",
       "\\item 'purrr'\n",
       "\\item 'readr'\n",
       "\\item 'tidyr'\n",
       "\\item 'tibble'\n",
       "\\item 'ggplot2'\n",
       "\\item 'tidyverse'\n",
       "\\item 'stats'\n",
       "\\item 'graphics'\n",
       "\\item 'grDevices'\n",
       "\\item 'utils'\n",
       "\\item 'datasets'\n",
       "\\item 'methods'\n",
       "\\item 'base'\n",
       "\\end{enumerate*}\n",
       "\n",
       "\\item \\begin{enumerate*}\n",
       "\\item 'httr'\n",
       "\\item 'jsonlite'\n",
       "\\item 'showtext'\n",
       "\\item 'showtextdb'\n",
       "\\item 'sysfonts'\n",
       "\\item 'srvyr'\n",
       "\\item 'readxl'\n",
       "\\item 'sf'\n",
       "\\item 'lubridate'\n",
       "\\item 'forcats'\n",
       "\\item 'stringr'\n",
       "\\item 'dplyr'\n",
       "\\item 'purrr'\n",
       "\\item 'readr'\n",
       "\\item 'tidyr'\n",
       "\\item 'tibble'\n",
       "\\item 'ggplot2'\n",
       "\\item 'tidyverse'\n",
       "\\item 'stats'\n",
       "\\item 'graphics'\n",
       "\\item 'grDevices'\n",
       "\\item 'utils'\n",
       "\\item 'datasets'\n",
       "\\item 'methods'\n",
       "\\item 'base'\n",
       "\\end{enumerate*}\n",
       "\n",
       "\\item \\begin{enumerate*}\n",
       "\\item 'httr'\n",
       "\\item 'jsonlite'\n",
       "\\item 'showtext'\n",
       "\\item 'showtextdb'\n",
       "\\item 'sysfonts'\n",
       "\\item 'srvyr'\n",
       "\\item 'readxl'\n",
       "\\item 'sf'\n",
       "\\item 'lubridate'\n",
       "\\item 'forcats'\n",
       "\\item 'stringr'\n",
       "\\item 'dplyr'\n",
       "\\item 'purrr'\n",
       "\\item 'readr'\n",
       "\\item 'tidyr'\n",
       "\\item 'tibble'\n",
       "\\item 'ggplot2'\n",
       "\\item 'tidyverse'\n",
       "\\item 'stats'\n",
       "\\item 'graphics'\n",
       "\\item 'grDevices'\n",
       "\\item 'utils'\n",
       "\\item 'datasets'\n",
       "\\item 'methods'\n",
       "\\item 'base'\n",
       "\\end{enumerate*}\n",
       "\n",
       "\\end{enumerate}\n"
      ],
      "text/markdown": [
       "1. 1. 'httr'\n",
       "2. 'jsonlite'\n",
       "3. 'showtext'\n",
       "4. 'showtextdb'\n",
       "5. 'sysfonts'\n",
       "6. 'srvyr'\n",
       "7. 'readxl'\n",
       "8. 'sf'\n",
       "9. 'lubridate'\n",
       "10. 'forcats'\n",
       "11. 'stringr'\n",
       "12. 'dplyr'\n",
       "13. 'purrr'\n",
       "14. 'readr'\n",
       "15. 'tidyr'\n",
       "16. 'tibble'\n",
       "17. 'ggplot2'\n",
       "18. 'tidyverse'\n",
       "19. 'stats'\n",
       "20. 'graphics'\n",
       "21. 'grDevices'\n",
       "22. 'utils'\n",
       "23. 'datasets'\n",
       "24. 'methods'\n",
       "25. 'base'\n",
       "\n",
       "\n",
       "\n",
       "2. 1. 'httr'\n",
       "2. 'jsonlite'\n",
       "3. 'showtext'\n",
       "4. 'showtextdb'\n",
       "5. 'sysfonts'\n",
       "6. 'srvyr'\n",
       "7. 'readxl'\n",
       "8. 'sf'\n",
       "9. 'lubridate'\n",
       "10. 'forcats'\n",
       "11. 'stringr'\n",
       "12. 'dplyr'\n",
       "13. 'purrr'\n",
       "14. 'readr'\n",
       "15. 'tidyr'\n",
       "16. 'tibble'\n",
       "17. 'ggplot2'\n",
       "18. 'tidyverse'\n",
       "19. 'stats'\n",
       "20. 'graphics'\n",
       "21. 'grDevices'\n",
       "22. 'utils'\n",
       "23. 'datasets'\n",
       "24. 'methods'\n",
       "25. 'base'\n",
       "\n",
       "\n",
       "\n",
       "3. 1. 'httr'\n",
       "2. 'jsonlite'\n",
       "3. 'showtext'\n",
       "4. 'showtextdb'\n",
       "5. 'sysfonts'\n",
       "6. 'srvyr'\n",
       "7. 'readxl'\n",
       "8. 'sf'\n",
       "9. 'lubridate'\n",
       "10. 'forcats'\n",
       "11. 'stringr'\n",
       "12. 'dplyr'\n",
       "13. 'purrr'\n",
       "14. 'readr'\n",
       "15. 'tidyr'\n",
       "16. 'tibble'\n",
       "17. 'ggplot2'\n",
       "18. 'tidyverse'\n",
       "19. 'stats'\n",
       "20. 'graphics'\n",
       "21. 'grDevices'\n",
       "22. 'utils'\n",
       "23. 'datasets'\n",
       "24. 'methods'\n",
       "25. 'base'\n",
       "\n",
       "\n",
       "\n",
       "4. 1. 'httr'\n",
       "2. 'jsonlite'\n",
       "3. 'showtext'\n",
       "4. 'showtextdb'\n",
       "5. 'sysfonts'\n",
       "6. 'srvyr'\n",
       "7. 'readxl'\n",
       "8. 'sf'\n",
       "9. 'lubridate'\n",
       "10. 'forcats'\n",
       "11. 'stringr'\n",
       "12. 'dplyr'\n",
       "13. 'purrr'\n",
       "14. 'readr'\n",
       "15. 'tidyr'\n",
       "16. 'tibble'\n",
       "17. 'ggplot2'\n",
       "18. 'tidyverse'\n",
       "19. 'stats'\n",
       "20. 'graphics'\n",
       "21. 'grDevices'\n",
       "22. 'utils'\n",
       "23. 'datasets'\n",
       "24. 'methods'\n",
       "25. 'base'\n",
       "\n",
       "\n",
       "\n",
       "\n",
       "\n"
      ],
      "text/plain": [
       "[[1]]\n",
       " [1] \"httr\"       \"jsonlite\"   \"showtext\"   \"showtextdb\" \"sysfonts\"  \n",
       " [6] \"srvyr\"      \"readxl\"     \"sf\"         \"lubridate\"  \"forcats\"   \n",
       "[11] \"stringr\"    \"dplyr\"      \"purrr\"      \"readr\"      \"tidyr\"     \n",
       "[16] \"tibble\"     \"ggplot2\"    \"tidyverse\"  \"stats\"      \"graphics\"  \n",
       "[21] \"grDevices\"  \"utils\"      \"datasets\"   \"methods\"    \"base\"      \n",
       "\n",
       "[[2]]\n",
       " [1] \"httr\"       \"jsonlite\"   \"showtext\"   \"showtextdb\" \"sysfonts\"  \n",
       " [6] \"srvyr\"      \"readxl\"     \"sf\"         \"lubridate\"  \"forcats\"   \n",
       "[11] \"stringr\"    \"dplyr\"      \"purrr\"      \"readr\"      \"tidyr\"     \n",
       "[16] \"tibble\"     \"ggplot2\"    \"tidyverse\"  \"stats\"      \"graphics\"  \n",
       "[21] \"grDevices\"  \"utils\"      \"datasets\"   \"methods\"    \"base\"      \n",
       "\n",
       "[[3]]\n",
       " [1] \"httr\"       \"jsonlite\"   \"showtext\"   \"showtextdb\" \"sysfonts\"  \n",
       " [6] \"srvyr\"      \"readxl\"     \"sf\"         \"lubridate\"  \"forcats\"   \n",
       "[11] \"stringr\"    \"dplyr\"      \"purrr\"      \"readr\"      \"tidyr\"     \n",
       "[16] \"tibble\"     \"ggplot2\"    \"tidyverse\"  \"stats\"      \"graphics\"  \n",
       "[21] \"grDevices\"  \"utils\"      \"datasets\"   \"methods\"    \"base\"      \n",
       "\n",
       "[[4]]\n",
       " [1] \"httr\"       \"jsonlite\"   \"showtext\"   \"showtextdb\" \"sysfonts\"  \n",
       " [6] \"srvyr\"      \"readxl\"     \"sf\"         \"lubridate\"  \"forcats\"   \n",
       "[11] \"stringr\"    \"dplyr\"      \"purrr\"      \"readr\"      \"tidyr\"     \n",
       "[16] \"tibble\"     \"ggplot2\"    \"tidyverse\"  \"stats\"      \"graphics\"  \n",
       "[21] \"grDevices\"  \"utils\"      \"datasets\"   \"methods\"    \"base\"      \n"
      ]
     },
     "metadata": {},
     "output_type": "display_data"
    }
   ],
   "source": [
    "rm(list = ls())\n",
    "libraries <- c(\"tidyverse\",\n",
    "               \"ggplot2\", \n",
    "               \"jsonlite\", \n",
    "               \"httr\")\n",
    "\n",
    "installed_packages <- rownames(installed.packages())\n",
    "libraries_to_install <- setdiff(libraries, installed_packages)\n",
    "\n",
    "if (length(libraries_to_install) > 0) {\n",
    "  install.packages(libraries_to_install)\n",
    "}\n",
    "\n",
    "lapply(libraries, library, character.only = TRUE)\n"
   ]
  },
  {
   "cell_type": "code",
   "execution_count": 44,
   "id": "27e8cc90",
   "metadata": {
    "vscode": {
     "languageId": "r"
    }
   },
   "outputs": [],
   "source": [
    "# Vector de años a consultar\n",
    "anios <- 2020:2023\n",
    "\n",
    "# Inicializar lista vacía para guardar los data.frames\n",
    "lista_dfs <- list()"
   ]
  },
  {
   "cell_type": "code",
   "execution_count": 84,
   "id": "fc34c521",
   "metadata": {
    "vscode": {
     "languageId": "r"
    }
   },
   "outputs": [
    {
     "name": "stderr",
     "output_type": "stream",
     "text": [
      "Descargando datos del año: 2020\n",
      "\n"
     ]
    },
    {
     "name": "stdout",
     "output_type": "stream",
     "text": [
      "[1] \"Número de columnas: 56\"\n",
      "[1] \"Número de registros: 1068\"\n"
     ]
    },
    {
     "name": "stderr",
     "output_type": "stream",
     "text": [
      "Descargando datos del año: 2021\n",
      "\n"
     ]
    },
    {
     "name": "stdout",
     "output_type": "stream",
     "text": [
      "[1] \"Número de columnas: 54\"\n",
      "[1] \"Número de registros: 667\"\n"
     ]
    },
    {
     "name": "stderr",
     "output_type": "stream",
     "text": [
      "Descargando datos del año: 2022\n",
      "\n"
     ]
    },
    {
     "name": "stdout",
     "output_type": "stream",
     "text": [
      "[1] \"Número de columnas: 56\"\n",
      "[1] \"Número de registros: 775\"\n"
     ]
    },
    {
     "name": "stderr",
     "output_type": "stream",
     "text": [
      "Descargando datos del año: 2023\n",
      "\n"
     ]
    },
    {
     "name": "stdout",
     "output_type": "stream",
     "text": [
      "[1] \"Número de columnas: 41\"\n",
      "[1] \"Número de registros: 606\"\n"
     ]
    }
   ],
   "source": [
    "#Ciclo para descargar los datos de cada año\n",
    "\n",
    "for (anio in anios) {\n",
    "  message(\"Descargando datos del año: \", anio)\n",
    "  \n",
    "  url <- paste0(\n",
    "    \"https://geosinav30.conagua.gob.mx:8080/geoserver/Sina/ows?\",\n",
    "    \"service=WFS&version=1.0.0&request=GetFeature&outputFormat=application%2Fjson\",\n",
    "    \"&srsName=EPSG%3A4326&cql_filter=anio%3D\", anio,\n",
    "    \"&typeName=Sina%3Am02_subterraneosAnual\"\n",
    "  )\n",
    "  \n",
    "  response <- GET(url)\n",
    "  \n",
    "  if (status_code(response) == 200) {\n",
    "    data <- content(response )\n",
    "    \n",
    "    if (length(data$features) > 0) {\n",
    "      df_anio<-map_dfr(data$features, ~ .x$properties)\n",
    "      df_anio$anio <- anio  # agregar columna del año manualmente\n",
    "      print(paste(\"Número de columnas:\", ncol(df_anio)))\n",
    "      print(paste(\"Número de registros:\", nrow(df_anio)))\n",
    "      lista_dfs[[as.character(anio)]] <- df_anio\n",
    "    } else {\n",
    "      message(\"Sin datos para el año \", anio)\n",
    "    }\n",
    "  } else {\n",
    "    warning(\"Error en la solicitud para el año \", anio)\n",
    "  }\n",
    "}\n",
    "    "
   ]
  },
  {
   "cell_type": "code",
   "execution_count": 85,
   "id": "2dc26c36",
   "metadata": {
    "vscode": {
     "languageId": "r"
    }
   },
   "outputs": [
    {
     "name": "stdout",
     "output_type": "stream",
     "text": [
      "[1] \"Número de columnas en el DataFrame final:\"\n",
      "[1] 56\n"
     ]
    },
    {
     "data": {
      "text/html": [
       "<table class=\"dataframe\">\n",
       "<caption>A tibble: 6 × 56</caption>\n",
       "<thead>\n",
       "\t<tr><th scope=col>clave</th><th scope=col>sitio</th><th scope=col>clvrha</th><th scope=col>rha</th><th scope=col>estado</th><th scope=col>municipio</th><th scope=col>acuifero</th><th scope=col>subtipo</th><th scope=col>anio</th><th scope=col>alc</th><th scope=col>⋯</th><th scope=col>cumple_coli_fec</th><th scope=col>cumple_n_no3</th><th scope=col>cumple_as</th><th scope=col>cumple_cd</th><th scope=col>cumple_cr</th><th scope=col>cumple_hg</th><th scope=col>cumple_pb</th><th scope=col>cumple_mn</th><th scope=col>cumple_fe</th><th scope=col>grupo</th></tr>\n",
       "\t<tr><th scope=col>&lt;chr&gt;</th><th scope=col>&lt;chr&gt;</th><th scope=col>&lt;chr&gt;</th><th scope=col>&lt;chr&gt;</th><th scope=col>&lt;chr&gt;</th><th scope=col>&lt;chr&gt;</th><th scope=col>&lt;chr&gt;</th><th scope=col>&lt;chr&gt;</th><th scope=col>&lt;int&gt;</th><th scope=col>&lt;chr&gt;</th><th scope=col>⋯</th><th scope=col>&lt;chr&gt;</th><th scope=col>&lt;chr&gt;</th><th scope=col>&lt;chr&gt;</th><th scope=col>&lt;chr&gt;</th><th scope=col>&lt;chr&gt;</th><th scope=col>&lt;chr&gt;</th><th scope=col>&lt;chr&gt;</th><th scope=col>&lt;chr&gt;</th><th scope=col>&lt;chr&gt;</th><th scope=col>&lt;chr&gt;</th></tr>\n",
       "</thead>\n",
       "<tbody>\n",
       "\t<tr><td>DLZAC2627</td><td>FRACC. CHE GUEVARA                                                </td><td>VII</td><td>CUENCAS CENTRALES DEL NORTE</td><td>ZACATECAS</td><td>GUADALUPE              </td><td>GUADALUPE BAÑUELOS</td><td>Pozo</td><td>2020</td><td>195.36</td><td>⋯</td><td>NO</td><td>SI</td><td>SI</td><td>SI</td><td>SI</td><td>SI</td><td>SI</td><td>SI</td><td>SI</td><td>SUBTERRANEO</td></tr>\n",
       "\t<tr><td>DLZAC2628</td><td>CIENEGUITAS                                                       </td><td>VII</td><td>CUENCAS CENTRALES DEL NORTE</td><td>ZACATECAS</td><td>GUADALUPE              </td><td>GUADALUPE BAÑUELOS</td><td>Pozo</td><td>2020</td><td>186.48</td><td>⋯</td><td>SI</td><td>SI</td><td>SI</td><td>SI</td><td>SI</td><td>SI</td><td>SI</td><td>SI</td><td>SI</td><td>SUBTERRANEO</td></tr>\n",
       "\t<tr><td>DLZAC2629</td><td>SAN JERONIMO                                                      </td><td>VII</td><td>CUENCAS CENTRALES DEL NORTE</td><td>ZACATECAS</td><td>GUADALUPE              </td><td>GUADALUPE BAÑUELOS</td><td>Pozo</td><td>2020</td><td>185.37</td><td>⋯</td><td>SI</td><td>SI</td><td>SI</td><td>SI</td><td>SI</td><td>SI</td><td>SI</td><td>SI</td><td>SI</td><td>SUBTERRANEO</td></tr>\n",
       "\t<tr><td>DLZAC2630</td><td>BAÑUELOS                                                          </td><td>VII</td><td>CUENCAS CENTRALES DEL NORTE</td><td>ZACATECAS</td><td>GUADALUPE              </td><td>GUADALUPE BAÑUELOS</td><td>Pozo</td><td>2020</td><td>195.36</td><td>⋯</td><td>SI</td><td>SI</td><td>SI</td><td>SI</td><td>SI</td><td>SI</td><td>SI</td><td>SI</td><td>SI</td><td>SUBTERRANEO</td></tr>\n",
       "\t<tr><td>DLZAC2682</td><td>POZO 581 PARDILLO (SUSTITUTO POZO NO. 2007 AGUA POTABLE SANTA ANA)</td><td>VII</td><td>CUENCAS CENTRALES DEL NORTE</td><td>ZACATECAS</td><td>FRESNILLO              </td><td>CALERA            </td><td>Pozo</td><td>2020</td><td>170.94</td><td>⋯</td><td>SI</td><td>SI</td><td>SI</td><td>SI</td><td>SI</td><td>SI</td><td>SI</td><td>SI</td><td>SI</td><td>SUBTERRANEO</td></tr>\n",
       "\t<tr><td>DLZAC2621</td><td>ENRIQUE ESTRADA                                                   </td><td>VII</td><td>CUENCAS CENTRALES DEL NORTE</td><td>ZACATECAS</td><td>GENERAL ENRIQUE ESTRADA</td><td>CALERA            </td><td>Pozo</td><td>2020</td><td>157.62</td><td>⋯</td><td>SI</td><td>SI</td><td>SI</td><td>SI</td><td>SI</td><td>SI</td><td>SI</td><td>SI</td><td>SI</td><td>SUBTERRANEO</td></tr>\n",
       "</tbody>\n",
       "</table>\n"
      ],
      "text/latex": [
       "A tibble: 6 × 56\n",
       "\\begin{tabular}{lllllllllllllllllllll}\n",
       " clave & sitio & clvrha & rha & estado & municipio & acuifero & subtipo & anio & alc & ⋯ & cumple\\_coli\\_fec & cumple\\_n\\_no3 & cumple\\_as & cumple\\_cd & cumple\\_cr & cumple\\_hg & cumple\\_pb & cumple\\_mn & cumple\\_fe & grupo\\\\\n",
       " <chr> & <chr> & <chr> & <chr> & <chr> & <chr> & <chr> & <chr> & <int> & <chr> & ⋯ & <chr> & <chr> & <chr> & <chr> & <chr> & <chr> & <chr> & <chr> & <chr> & <chr>\\\\\n",
       "\\hline\n",
       "\t DLZAC2627 & FRACC. CHE GUEVARA                                                 & VII & CUENCAS CENTRALES DEL NORTE & ZACATECAS & GUADALUPE               & GUADALUPE BAÑUELOS & Pozo & 2020 & 195.36 & ⋯ & NO & SI & SI & SI & SI & SI & SI & SI & SI & SUBTERRANEO\\\\\n",
       "\t DLZAC2628 & CIENEGUITAS                                                        & VII & CUENCAS CENTRALES DEL NORTE & ZACATECAS & GUADALUPE               & GUADALUPE BAÑUELOS & Pozo & 2020 & 186.48 & ⋯ & SI & SI & SI & SI & SI & SI & SI & SI & SI & SUBTERRANEO\\\\\n",
       "\t DLZAC2629 & SAN JERONIMO                                                       & VII & CUENCAS CENTRALES DEL NORTE & ZACATECAS & GUADALUPE               & GUADALUPE BAÑUELOS & Pozo & 2020 & 185.37 & ⋯ & SI & SI & SI & SI & SI & SI & SI & SI & SI & SUBTERRANEO\\\\\n",
       "\t DLZAC2630 & BAÑUELOS                                                           & VII & CUENCAS CENTRALES DEL NORTE & ZACATECAS & GUADALUPE               & GUADALUPE BAÑUELOS & Pozo & 2020 & 195.36 & ⋯ & SI & SI & SI & SI & SI & SI & SI & SI & SI & SUBTERRANEO\\\\\n",
       "\t DLZAC2682 & POZO 581 PARDILLO (SUSTITUTO POZO NO. 2007 AGUA POTABLE SANTA ANA) & VII & CUENCAS CENTRALES DEL NORTE & ZACATECAS & FRESNILLO               & CALERA             & Pozo & 2020 & 170.94 & ⋯ & SI & SI & SI & SI & SI & SI & SI & SI & SI & SUBTERRANEO\\\\\n",
       "\t DLZAC2621 & ENRIQUE ESTRADA                                                    & VII & CUENCAS CENTRALES DEL NORTE & ZACATECAS & GENERAL ENRIQUE ESTRADA & CALERA             & Pozo & 2020 & 157.62 & ⋯ & SI & SI & SI & SI & SI & SI & SI & SI & SI & SUBTERRANEO\\\\\n",
       "\\end{tabular}\n"
      ],
      "text/markdown": [
       "\n",
       "A tibble: 6 × 56\n",
       "\n",
       "| clave &lt;chr&gt; | sitio &lt;chr&gt; | clvrha &lt;chr&gt; | rha &lt;chr&gt; | estado &lt;chr&gt; | municipio &lt;chr&gt; | acuifero &lt;chr&gt; | subtipo &lt;chr&gt; | anio &lt;int&gt; | alc &lt;chr&gt; | ⋯ ⋯ | cumple_coli_fec &lt;chr&gt; | cumple_n_no3 &lt;chr&gt; | cumple_as &lt;chr&gt; | cumple_cd &lt;chr&gt; | cumple_cr &lt;chr&gt; | cumple_hg &lt;chr&gt; | cumple_pb &lt;chr&gt; | cumple_mn &lt;chr&gt; | cumple_fe &lt;chr&gt; | grupo &lt;chr&gt; |\n",
       "|---|---|---|---|---|---|---|---|---|---|---|---|---|---|---|---|---|---|---|---|---|\n",
       "| DLZAC2627 | FRACC. CHE GUEVARA                                                 | VII | CUENCAS CENTRALES DEL NORTE | ZACATECAS | GUADALUPE               | GUADALUPE BAÑUELOS | Pozo | 2020 | 195.36 | ⋯ | NO | SI | SI | SI | SI | SI | SI | SI | SI | SUBTERRANEO |\n",
       "| DLZAC2628 | CIENEGUITAS                                                        | VII | CUENCAS CENTRALES DEL NORTE | ZACATECAS | GUADALUPE               | GUADALUPE BAÑUELOS | Pozo | 2020 | 186.48 | ⋯ | SI | SI | SI | SI | SI | SI | SI | SI | SI | SUBTERRANEO |\n",
       "| DLZAC2629 | SAN JERONIMO                                                       | VII | CUENCAS CENTRALES DEL NORTE | ZACATECAS | GUADALUPE               | GUADALUPE BAÑUELOS | Pozo | 2020 | 185.37 | ⋯ | SI | SI | SI | SI | SI | SI | SI | SI | SI | SUBTERRANEO |\n",
       "| DLZAC2630 | BAÑUELOS                                                           | VII | CUENCAS CENTRALES DEL NORTE | ZACATECAS | GUADALUPE               | GUADALUPE BAÑUELOS | Pozo | 2020 | 195.36 | ⋯ | SI | SI | SI | SI | SI | SI | SI | SI | SI | SUBTERRANEO |\n",
       "| DLZAC2682 | POZO 581 PARDILLO (SUSTITUTO POZO NO. 2007 AGUA POTABLE SANTA ANA) | VII | CUENCAS CENTRALES DEL NORTE | ZACATECAS | FRESNILLO               | CALERA             | Pozo | 2020 | 170.94 | ⋯ | SI | SI | SI | SI | SI | SI | SI | SI | SI | SUBTERRANEO |\n",
       "| DLZAC2621 | ENRIQUE ESTRADA                                                    | VII | CUENCAS CENTRALES DEL NORTE | ZACATECAS | GENERAL ENRIQUE ESTRADA | CALERA             | Pozo | 2020 | 157.62 | ⋯ | SI | SI | SI | SI | SI | SI | SI | SI | SI | SUBTERRANEO |\n",
       "\n"
      ],
      "text/plain": [
       "  clave     sitio                                                             \n",
       "1 DLZAC2627 FRACC. CHE GUEVARA                                                \n",
       "2 DLZAC2628 CIENEGUITAS                                                       \n",
       "3 DLZAC2629 SAN JERONIMO                                                      \n",
       "4 DLZAC2630 BAÑUELOS                                                          \n",
       "5 DLZAC2682 POZO 581 PARDILLO (SUSTITUTO POZO NO. 2007 AGUA POTABLE SANTA ANA)\n",
       "6 DLZAC2621 ENRIQUE ESTRADA                                                   \n",
       "  clvrha rha                         estado    municipio              \n",
       "1 VII    CUENCAS CENTRALES DEL NORTE ZACATECAS GUADALUPE              \n",
       "2 VII    CUENCAS CENTRALES DEL NORTE ZACATECAS GUADALUPE              \n",
       "3 VII    CUENCAS CENTRALES DEL NORTE ZACATECAS GUADALUPE              \n",
       "4 VII    CUENCAS CENTRALES DEL NORTE ZACATECAS GUADALUPE              \n",
       "5 VII    CUENCAS CENTRALES DEL NORTE ZACATECAS FRESNILLO              \n",
       "6 VII    CUENCAS CENTRALES DEL NORTE ZACATECAS GENERAL ENRIQUE ESTRADA\n",
       "  acuifero           subtipo anio alc    ⋯ cumple_coli_fec cumple_n_no3\n",
       "1 GUADALUPE BAÑUELOS Pozo    2020 195.36 ⋯ NO              SI          \n",
       "2 GUADALUPE BAÑUELOS Pozo    2020 186.48 ⋯ SI              SI          \n",
       "3 GUADALUPE BAÑUELOS Pozo    2020 185.37 ⋯ SI              SI          \n",
       "4 GUADALUPE BAÑUELOS Pozo    2020 195.36 ⋯ SI              SI          \n",
       "5 CALERA             Pozo    2020 170.94 ⋯ SI              SI          \n",
       "6 CALERA             Pozo    2020 157.62 ⋯ SI              SI          \n",
       "  cumple_as cumple_cd cumple_cr cumple_hg cumple_pb cumple_mn cumple_fe\n",
       "1 SI        SI        SI        SI        SI        SI        SI       \n",
       "2 SI        SI        SI        SI        SI        SI        SI       \n",
       "3 SI        SI        SI        SI        SI        SI        SI       \n",
       "4 SI        SI        SI        SI        SI        SI        SI       \n",
       "5 SI        SI        SI        SI        SI        SI        SI       \n",
       "6 SI        SI        SI        SI        SI        SI        SI       \n",
       "  grupo      \n",
       "1 SUBTERRANEO\n",
       "2 SUBTERRANEO\n",
       "3 SUBTERRANEO\n",
       "4 SUBTERRANEO\n",
       "5 SUBTERRANEO\n",
       "6 SUBTERRANEO"
      ]
     },
     "metadata": {},
     "output_type": "display_data"
    },
    {
     "data": {
      "text/html": [
       "<style>\n",
       ".list-inline {list-style: none; margin:0; padding: 0}\n",
       ".list-inline>li {display: inline-block}\n",
       ".list-inline>li:not(:last-child)::after {content: \"\\00b7\"; padding: 0 .5ex}\n",
       "</style>\n",
       "<ol class=list-inline><li>'clave'</li><li>'sitio'</li><li>'clvrha'</li><li>'rha'</li><li>'estado'</li><li>'municipio'</li><li>'acuifero'</li><li>'subtipo'</li><li>'anio'</li><li>'alc'</li><li>'c_alc'</li><li>'conduct'</li><li>'c_conduct'</li><li>'sdt'</li><li>'c_sdt_ra'</li><li>'c_sdt_salin'</li><li>'fluoruros'</li><li>'c_fluoruros'</li><li>'dur'</li><li>'c_dur'</li><li>'coli_fec'</li><li>'c_coli_fec'</li><li>'n_no3'</li><li>'c_n_no3'</li><li>'as_'</li><li>'c_as_'</li><li>'cd'</li><li>'c_cd'</li><li>'cr'</li><li>'c_cr'</li><li>'hg'</li><li>'c_hg'</li><li>'pb'</li><li>'c_pb'</li><li>'mn'</li><li>'c_mn'</li><li>'fe'</li><li>'c_fe'</li><li>'semaforo'</li><li>'contaminantes'</li><li>'cumple_alc'</li><li>'cumple_conduct'</li><li>'cumple_sdt_ra'</li><li>'cumple_sdt_salin'</li><li>'cumple_fluoruros'</li><li>'cumple_dur'</li><li>'cumple_coli_fec'</li><li>'cumple_n_no3'</li><li>'cumple_as'</li><li>'cumple_cd'</li><li>'cumple_cr'</li><li>'cumple_hg'</li><li>'cumple_pb'</li><li>'cumple_mn'</li><li>'cumple_fe'</li><li>'grupo'</li></ol>\n"
      ],
      "text/latex": [
       "\\begin{enumerate*}\n",
       "\\item 'clave'\n",
       "\\item 'sitio'\n",
       "\\item 'clvrha'\n",
       "\\item 'rha'\n",
       "\\item 'estado'\n",
       "\\item 'municipio'\n",
       "\\item 'acuifero'\n",
       "\\item 'subtipo'\n",
       "\\item 'anio'\n",
       "\\item 'alc'\n",
       "\\item 'c\\_alc'\n",
       "\\item 'conduct'\n",
       "\\item 'c\\_conduct'\n",
       "\\item 'sdt'\n",
       "\\item 'c\\_sdt\\_ra'\n",
       "\\item 'c\\_sdt\\_salin'\n",
       "\\item 'fluoruros'\n",
       "\\item 'c\\_fluoruros'\n",
       "\\item 'dur'\n",
       "\\item 'c\\_dur'\n",
       "\\item 'coli\\_fec'\n",
       "\\item 'c\\_coli\\_fec'\n",
       "\\item 'n\\_no3'\n",
       "\\item 'c\\_n\\_no3'\n",
       "\\item 'as\\_'\n",
       "\\item 'c\\_as\\_'\n",
       "\\item 'cd'\n",
       "\\item 'c\\_cd'\n",
       "\\item 'cr'\n",
       "\\item 'c\\_cr'\n",
       "\\item 'hg'\n",
       "\\item 'c\\_hg'\n",
       "\\item 'pb'\n",
       "\\item 'c\\_pb'\n",
       "\\item 'mn'\n",
       "\\item 'c\\_mn'\n",
       "\\item 'fe'\n",
       "\\item 'c\\_fe'\n",
       "\\item 'semaforo'\n",
       "\\item 'contaminantes'\n",
       "\\item 'cumple\\_alc'\n",
       "\\item 'cumple\\_conduct'\n",
       "\\item 'cumple\\_sdt\\_ra'\n",
       "\\item 'cumple\\_sdt\\_salin'\n",
       "\\item 'cumple\\_fluoruros'\n",
       "\\item 'cumple\\_dur'\n",
       "\\item 'cumple\\_coli\\_fec'\n",
       "\\item 'cumple\\_n\\_no3'\n",
       "\\item 'cumple\\_as'\n",
       "\\item 'cumple\\_cd'\n",
       "\\item 'cumple\\_cr'\n",
       "\\item 'cumple\\_hg'\n",
       "\\item 'cumple\\_pb'\n",
       "\\item 'cumple\\_mn'\n",
       "\\item 'cumple\\_fe'\n",
       "\\item 'grupo'\n",
       "\\end{enumerate*}\n"
      ],
      "text/markdown": [
       "1. 'clave'\n",
       "2. 'sitio'\n",
       "3. 'clvrha'\n",
       "4. 'rha'\n",
       "5. 'estado'\n",
       "6. 'municipio'\n",
       "7. 'acuifero'\n",
       "8. 'subtipo'\n",
       "9. 'anio'\n",
       "10. 'alc'\n",
       "11. 'c_alc'\n",
       "12. 'conduct'\n",
       "13. 'c_conduct'\n",
       "14. 'sdt'\n",
       "15. 'c_sdt_ra'\n",
       "16. 'c_sdt_salin'\n",
       "17. 'fluoruros'\n",
       "18. 'c_fluoruros'\n",
       "19. 'dur'\n",
       "20. 'c_dur'\n",
       "21. 'coli_fec'\n",
       "22. 'c_coli_fec'\n",
       "23. 'n_no3'\n",
       "24. 'c_n_no3'\n",
       "25. 'as_'\n",
       "26. 'c_as_'\n",
       "27. 'cd'\n",
       "28. 'c_cd'\n",
       "29. 'cr'\n",
       "30. 'c_cr'\n",
       "31. 'hg'\n",
       "32. 'c_hg'\n",
       "33. 'pb'\n",
       "34. 'c_pb'\n",
       "35. 'mn'\n",
       "36. 'c_mn'\n",
       "37. 'fe'\n",
       "38. 'c_fe'\n",
       "39. 'semaforo'\n",
       "40. 'contaminantes'\n",
       "41. 'cumple_alc'\n",
       "42. 'cumple_conduct'\n",
       "43. 'cumple_sdt_ra'\n",
       "44. 'cumple_sdt_salin'\n",
       "45. 'cumple_fluoruros'\n",
       "46. 'cumple_dur'\n",
       "47. 'cumple_coli_fec'\n",
       "48. 'cumple_n_no3'\n",
       "49. 'cumple_as'\n",
       "50. 'cumple_cd'\n",
       "51. 'cumple_cr'\n",
       "52. 'cumple_hg'\n",
       "53. 'cumple_pb'\n",
       "54. 'cumple_mn'\n",
       "55. 'cumple_fe'\n",
       "56. 'grupo'\n",
       "\n",
       "\n"
      ],
      "text/plain": [
       " [1] \"clave\"            \"sitio\"            \"clvrha\"           \"rha\"             \n",
       " [5] \"estado\"           \"municipio\"        \"acuifero\"         \"subtipo\"         \n",
       " [9] \"anio\"             \"alc\"              \"c_alc\"            \"conduct\"         \n",
       "[13] \"c_conduct\"        \"sdt\"              \"c_sdt_ra\"         \"c_sdt_salin\"     \n",
       "[17] \"fluoruros\"        \"c_fluoruros\"      \"dur\"              \"c_dur\"           \n",
       "[21] \"coli_fec\"         \"c_coli_fec\"       \"n_no3\"            \"c_n_no3\"         \n",
       "[25] \"as_\"              \"c_as_\"            \"cd\"               \"c_cd\"            \n",
       "[29] \"cr\"               \"c_cr\"             \"hg\"               \"c_hg\"            \n",
       "[33] \"pb\"               \"c_pb\"             \"mn\"               \"c_mn\"            \n",
       "[37] \"fe\"               \"c_fe\"             \"semaforo\"         \"contaminantes\"   \n",
       "[41] \"cumple_alc\"       \"cumple_conduct\"   \"cumple_sdt_ra\"    \"cumple_sdt_salin\"\n",
       "[45] \"cumple_fluoruros\" \"cumple_dur\"       \"cumple_coli_fec\"  \"cumple_n_no3\"    \n",
       "[49] \"cumple_as\"        \"cumple_cd\"        \"cumple_cr\"        \"cumple_hg\"       \n",
       "[53] \"cumple_pb\"        \"cumple_mn\"        \"cumple_fe\"        \"grupo\"           "
      ]
     },
     "metadata": {},
     "output_type": "display_data"
    },
    {
     "data": {
      "text/html": [
       "<style>\n",
       ".list-inline {list-style: none; margin:0; padding: 0}\n",
       ".list-inline>li {display: inline-block}\n",
       ".list-inline>li:not(:last-child)::after {content: \"\\00b7\"; padding: 0 .5ex}\n",
       "</style>\n",
       "<ol class=list-inline><li>'Rojo'</li><li>'Verde'</li><li>'Amarillo'</li></ol>\n"
      ],
      "text/latex": [
       "\\begin{enumerate*}\n",
       "\\item 'Rojo'\n",
       "\\item 'Verde'\n",
       "\\item 'Amarillo'\n",
       "\\end{enumerate*}\n"
      ],
      "text/markdown": [
       "1. 'Rojo'\n",
       "2. 'Verde'\n",
       "3. 'Amarillo'\n",
       "\n",
       "\n"
      ],
      "text/plain": [
       "[1] \"Rojo\"     \"Verde\"    \"Amarillo\""
      ]
     },
     "metadata": {},
     "output_type": "display_data"
    }
   ],
   "source": [
    "#Tabla final\n",
    "estaciones_monitoreo <- bind_rows(lista_dfs)\n",
    "print(\"Número de columnas en el DataFrame final:\")\n",
    "print(ncol(estaciones_monitoreo))\n",
    "head(estaciones_monitoreo)\n",
    "\n",
    "colnames(estaciones_monitoreo)\n",
    "\n",
    "unique(estaciones_monitoreo$semaforo)\n"
   ]
  },
  {
   "cell_type": "code",
   "execution_count": 86,
   "id": "7355e36e",
   "metadata": {
    "vscode": {
     "languageId": "r"
    }
   },
   "outputs": [],
   "source": [
    "# Leer los datos para cada año sin sobrescribir el mismo objeto\n",
    "estaciones_monitoreo <- estaciones_monitoreo|>\n",
    "filter(rha == \"AGUAS DEL VALLE DE MÉXICO\")|>\n",
    "  mutate(contaminacion = ifelse(semaforo %in% c(\"Amarillo\", \"Rojo\"), \"Contaminada\", \"No contaminada\"))|>\n",
    "  select(rha, clave, contaminacion, anio)\n"
   ]
  },
  {
   "cell_type": "code",
   "execution_count": 87,
   "id": "d459017f",
   "metadata": {
    "vscode": {
     "languageId": "r"
    }
   },
   "outputs": [
    {
     "data": {
      "text/html": [
       "<table class=\"dataframe\">\n",
       "<caption>A tibble: 12 × 1</caption>\n",
       "<thead>\n",
       "\t<tr><th scope=col>clave</th></tr>\n",
       "\t<tr><th scope=col>&lt;chr&gt;</th></tr>\n",
       "</thead>\n",
       "<tbody>\n",
       "\t<tr><td>DLHID0003LNR  </td></tr>\n",
       "\t<tr><td>DLHID0006LNR  </td></tr>\n",
       "\t<tr><td>DLHID1486M1   </td></tr>\n",
       "\t<tr><td>DLHID6145     </td></tr>\n",
       "\t<tr><td>DLHID6461     </td></tr>\n",
       "\t<tr><td>DLHID6467     </td></tr>\n",
       "\t<tr><td>OCAVM0002LNR  </td></tr>\n",
       "\t<tr><td>OCAVM0018RNL21</td></tr>\n",
       "\t<tr><td>OCAVM0019RNL21</td></tr>\n",
       "\t<tr><td>OCAVM0020RNL21</td></tr>\n",
       "\t<tr><td>OCAVM2775     </td></tr>\n",
       "\t<tr><td>OCAVM2776     </td></tr>\n",
       "</tbody>\n",
       "</table>\n"
      ],
      "text/latex": [
       "A tibble: 12 × 1\n",
       "\\begin{tabular}{l}\n",
       " clave\\\\\n",
       " <chr>\\\\\n",
       "\\hline\n",
       "\t DLHID0003LNR  \\\\\n",
       "\t DLHID0006LNR  \\\\\n",
       "\t DLHID1486M1   \\\\\n",
       "\t DLHID6145     \\\\\n",
       "\t DLHID6461     \\\\\n",
       "\t DLHID6467     \\\\\n",
       "\t OCAVM0002LNR  \\\\\n",
       "\t OCAVM0018RNL21\\\\\n",
       "\t OCAVM0019RNL21\\\\\n",
       "\t OCAVM0020RNL21\\\\\n",
       "\t OCAVM2775     \\\\\n",
       "\t OCAVM2776     \\\\\n",
       "\\end{tabular}\n"
      ],
      "text/markdown": [
       "\n",
       "A tibble: 12 × 1\n",
       "\n",
       "| clave &lt;chr&gt; |\n",
       "|---|\n",
       "| DLHID0003LNR   |\n",
       "| DLHID0006LNR   |\n",
       "| DLHID1486M1    |\n",
       "| DLHID6145      |\n",
       "| DLHID6461      |\n",
       "| DLHID6467      |\n",
       "| OCAVM0002LNR   |\n",
       "| OCAVM0018RNL21 |\n",
       "| OCAVM0019RNL21 |\n",
       "| OCAVM0020RNL21 |\n",
       "| OCAVM2775      |\n",
       "| OCAVM2776      |\n",
       "\n"
      ],
      "text/plain": [
       "   clave         \n",
       "1  DLHID0003LNR  \n",
       "2  DLHID0006LNR  \n",
       "3  DLHID1486M1   \n",
       "4  DLHID6145     \n",
       "5  DLHID6461     \n",
       "6  DLHID6467     \n",
       "7  OCAVM0002LNR  \n",
       "8  OCAVM0018RNL21\n",
       "9  OCAVM0019RNL21\n",
       "10 OCAVM0020RNL21\n",
       "11 OCAVM2775     \n",
       "12 OCAVM2776     "
      ]
     },
     "metadata": {},
     "output_type": "display_data"
    }
   ],
   "source": [
    "# Crear lista de dataframes de claves por año\n",
    "claves_comunes <- estaciones_monitoreo|>\n",
    "                filter(anio == 2023)|>\n",
    "                select(clave)\n",
    "claves_comunes"
   ]
  },
  {
   "cell_type": "code",
   "execution_count": 88,
   "id": "d09dd4f0",
   "metadata": {
    "vscode": {
     "languageId": "r"
    }
   },
   "outputs": [
    {
     "data": {
      "text/html": [
       "<table class=\"dataframe\">\n",
       "<caption>A grouped_df: 3 × 5</caption>\n",
       "<thead>\n",
       "\t<tr><th scope=col>anio</th><th scope=col>contaminacion</th><th scope=col>total_estaciones</th><th scope=col>porcentaje</th><th scope=col>tipo</th></tr>\n",
       "\t<tr><th scope=col>&lt;int&gt;</th><th scope=col>&lt;chr&gt;</th><th scope=col>&lt;int&gt;</th><th scope=col>&lt;dbl&gt;</th><th scope=col>&lt;chr&gt;</th></tr>\n",
       "</thead>\n",
       "<tbody>\n",
       "\t<tr><td>2020</td><td>Contaminada</td><td>3</td><td>60</td><td>Observado</td></tr>\n",
       "\t<tr><td>2022</td><td>Contaminada</td><td>2</td><td>50</td><td>Observado</td></tr>\n",
       "\t<tr><td>2023</td><td>Contaminada</td><td>6</td><td>50</td><td>Observado</td></tr>\n",
       "</tbody>\n",
       "</table>\n"
      ],
      "text/latex": [
       "A grouped\\_df: 3 × 5\n",
       "\\begin{tabular}{lllll}\n",
       " anio & contaminacion & total\\_estaciones & porcentaje & tipo\\\\\n",
       " <int> & <chr> & <int> & <dbl> & <chr>\\\\\n",
       "\\hline\n",
       "\t 2020 & Contaminada & 3 & 60 & Observado\\\\\n",
       "\t 2022 & Contaminada & 2 & 50 & Observado\\\\\n",
       "\t 2023 & Contaminada & 6 & 50 & Observado\\\\\n",
       "\\end{tabular}\n"
      ],
      "text/markdown": [
       "\n",
       "A grouped_df: 3 × 5\n",
       "\n",
       "| anio &lt;int&gt; | contaminacion &lt;chr&gt; | total_estaciones &lt;int&gt; | porcentaje &lt;dbl&gt; | tipo &lt;chr&gt; |\n",
       "|---|---|---|---|---|\n",
       "| 2020 | Contaminada | 3 | 60 | Observado |\n",
       "| 2022 | Contaminada | 2 | 50 | Observado |\n",
       "| 2023 | Contaminada | 6 | 50 | Observado |\n",
       "\n"
      ],
      "text/plain": [
       "  anio contaminacion total_estaciones porcentaje tipo     \n",
       "1 2020 Contaminada   3                60         Observado\n",
       "2 2022 Contaminada   2                50         Observado\n",
       "3 2023 Contaminada   6                50         Observado"
      ]
     },
     "metadata": {},
     "output_type": "display_data"
    }
   ],
   "source": [
    "estaciones_monitoreo <- estaciones_monitoreo|>\n",
    "    filter(clave %in% claves_comunes$clave)|>\n",
    "  group_by(anio, contaminacion) |>\n",
    "  summarise(total_estaciones = n(), .groups = \"drop\") |>\n",
    "  group_by(anio) |>\n",
    "  mutate(porcentaje = total_estaciones * 100 / sum(total_estaciones))|>\n",
    "  filter(contaminacion == \"Contaminada\") |>\n",
    "  mutate(tipo = \"Observado\")\n",
    "\n",
    "estaciones_monitoreo\n",
    "\n",
    "estaciones_monitoreo_2023 <- estaciones_monitoreo |> filter(anio == 2023)\n",
    "estaciones_monitoreo_2020 <- estaciones_monitoreo |> filter(anio == 2020)\n"
   ]
  },
  {
   "cell_type": "code",
   "execution_count": 91,
   "id": "a4f47188",
   "metadata": {
    "vscode": {
     "languageId": "r"
    }
   },
   "outputs": [
    {
     "data": {
      "text/html": [
       "-0.0589639711189714"
      ],
      "text/latex": [
       "-0.0589639711189714"
      ],
      "text/markdown": [
       "-0.0589639711189714"
      ],
      "text/plain": [
       "[1] -0.05896397"
      ]
     },
     "metadata": {},
     "output_type": "display_data"
    },
    {
     "data": {
      "text/html": [
       "<table class=\"dataframe\">\n",
       "<caption>A grouped_df: 12 × 3</caption>\n",
       "<thead>\n",
       "\t<tr><th scope=col>anio</th><th scope=col>porcentaje</th><th scope=col>tipo</th></tr>\n",
       "\t<tr><th scope=col>&lt;dbl&gt;</th><th scope=col>&lt;dbl&gt;</th><th scope=col>&lt;chr&gt;</th></tr>\n",
       "</thead>\n",
       "<tbody>\n",
       "\t<tr><td>2020</td><td>60.00</td><td>Observado    </td></tr>\n",
       "\t<tr><td>2022</td><td>50.00</td><td>Observado    </td></tr>\n",
       "\t<tr><td>2023</td><td>50.00</td><td>Observado    </td></tr>\n",
       "\t<tr><td>2030</td><td>49.20</td><td>Inercial     </td></tr>\n",
       "\t<tr><td>2040</td><td>40.34</td><td>Inercial     </td></tr>\n",
       "\t<tr><td>2045</td><td>36.53</td><td>Inercial     </td></tr>\n",
       "\t<tr><td>2030</td><td>44.48</td><td>Deseable     </td></tr>\n",
       "\t<tr><td>2040</td><td>32.98</td><td>Deseable     </td></tr>\n",
       "\t<tr><td>2045</td><td>28.39</td><td>Deseable     </td></tr>\n",
       "\t<tr><td>2030</td><td>32.67</td><td>Transformador</td></tr>\n",
       "\t<tr><td>2040</td><td>17.79</td><td>Transformador</td></tr>\n",
       "\t<tr><td>2045</td><td>13.13</td><td>Transformador</td></tr>\n",
       "</tbody>\n",
       "</table>\n"
      ],
      "text/latex": [
       "A grouped\\_df: 12 × 3\n",
       "\\begin{tabular}{lll}\n",
       " anio & porcentaje & tipo\\\\\n",
       " <dbl> & <dbl> & <chr>\\\\\n",
       "\\hline\n",
       "\t 2020 & 60.00 & Observado    \\\\\n",
       "\t 2022 & 50.00 & Observado    \\\\\n",
       "\t 2023 & 50.00 & Observado    \\\\\n",
       "\t 2030 & 49.20 & Inercial     \\\\\n",
       "\t 2040 & 40.34 & Inercial     \\\\\n",
       "\t 2045 & 36.53 & Inercial     \\\\\n",
       "\t 2030 & 44.48 & Deseable     \\\\\n",
       "\t 2040 & 32.98 & Deseable     \\\\\n",
       "\t 2045 & 28.39 & Deseable     \\\\\n",
       "\t 2030 & 32.67 & Transformador\\\\\n",
       "\t 2040 & 17.79 & Transformador\\\\\n",
       "\t 2045 & 13.13 & Transformador\\\\\n",
       "\\end{tabular}\n"
      ],
      "text/markdown": [
       "\n",
       "A grouped_df: 12 × 3\n",
       "\n",
       "| anio &lt;dbl&gt; | porcentaje &lt;dbl&gt; | tipo &lt;chr&gt; |\n",
       "|---|---|---|\n",
       "| 2020 | 60.00 | Observado     |\n",
       "| 2022 | 50.00 | Observado     |\n",
       "| 2023 | 50.00 | Observado     |\n",
       "| 2030 | 49.20 | Inercial      |\n",
       "| 2040 | 40.34 | Inercial      |\n",
       "| 2045 | 36.53 | Inercial      |\n",
       "| 2030 | 44.48 | Deseable      |\n",
       "| 2040 | 32.98 | Deseable      |\n",
       "| 2045 | 28.39 | Deseable      |\n",
       "| 2030 | 32.67 | Transformador |\n",
       "| 2040 | 17.79 | Transformador |\n",
       "| 2045 | 13.13 | Transformador |\n",
       "\n"
      ],
      "text/plain": [
       "   anio porcentaje tipo         \n",
       "1  2020 60.00      Observado    \n",
       "2  2022 50.00      Observado    \n",
       "3  2023 50.00      Observado    \n",
       "4  2030 49.20      Inercial     \n",
       "5  2040 40.34      Inercial     \n",
       "6  2045 36.53      Inercial     \n",
       "7  2030 44.48      Deseable     \n",
       "8  2040 32.98      Deseable     \n",
       "9  2045 28.39      Deseable     \n",
       "10 2030 32.67      Transformador\n",
       "11 2040 17.79      Transformador\n",
       "12 2045 13.13      Transformador"
      ]
     },
     "metadata": {},
     "output_type": "display_data"
    }
   ],
   "source": [
    "##ESCENARIOS TENDENCIALES 2030,2035,2045\n",
    "# Tasa de variación\n",
    "tcma<-((estaciones_monitoreo_2023$porcentaje /estaciones_monitoreo_2020$porcentaje)^(1/(2023-2020)) - 1) \n",
    "tcma\n",
    "\n",
    "porcentaje_base <- estaciones_monitoreo |>\n",
    "  filter(anio == 2020) |>\n",
    "  pull(porcentaje)\n",
    "\n",
    "# Años a proyectar\n",
    "años <- c(2030, 2040, 2045)\n",
    "año_base <- 2020\n",
    "\n",
    "tendencia_base <- data.frame(anio = años,\n",
    "                             porcentaje = round(porcentaje_base * (1 + 1/3*tcma ) ^ (años - año_base), 2),\n",
    "                             tipo = \"Inercial\")\n",
    "\n",
    "\n",
    "tendecia_deseable<-data.frame(anio = años,\n",
    "                              porcentaje = round(porcentaje_base * (1 + 1/2*tcma) ^ (años - año_base), 2),\n",
    "                              tipo = \"Deseable\")\n",
    "\n",
    "\n",
    "tendecia_transformadora <-data.frame(anio = años,\n",
    "                                     porcentaje = round(porcentaje_base * (1 + tcma) ^ (años - año_base), 2),\n",
    "                                     tipo = \"Transformador\")\n",
    "\n",
    "\n",
    "estaciones_monitoreo_tendencias <- estaciones_monitoreo|>\n",
    "  bind_rows(tendencia_base,tendecia_deseable, \n",
    "            tendecia_transformadora)|>\n",
    "  select(anio, porcentaje, tipo)\n",
    "\n",
    "estaciones_monitoreo_tendencias\n"
   ]
  },
  {
   "cell_type": "code",
   "execution_count": 93,
   "id": "c0fc1c66",
   "metadata": {
    "vscode": {
     "languageId": "r"
    }
   },
   "outputs": [],
   "source": [
    "lineas <- bind_rows(data.frame(anio = c(2023, 2030),\n",
    "                               porcentaje = c(estaciones_monitoreo_tendencias$porcentaje[estaciones_monitoreo_tendencias$anio == 2023 & estaciones_monitoreo_tendencias$tipo == \"Observado\"],\n",
    "                                              estaciones_monitoreo_tendencias$porcentaje[estaciones_monitoreo_tendencias$anio == 2030 & estaciones_monitoreo_tendencias$tipo == \"Inercial\"]),\n",
    "                               tipo = \"Inercial\"),\n",
    "                    data.frame(anio = c(2023, 2030),\n",
    "                               porcentaje = c(estaciones_monitoreo_tendencias$porcentaje[estaciones_monitoreo_tendencias$anio == 2023 & estaciones_monitoreo_tendencias$tipo == \"Observado\"], \n",
    "                                              estaciones_monitoreo_tendencias$porcentaje[estaciones_monitoreo_tendencias$anio == 2030 & estaciones_monitoreo_tendencias$tipo == \"Deseable\"]),\n",
    "                               tipo = \"Deseable\"), \n",
    "                    data.frame(anio = c(2023, 2030),\n",
    "                               porcentaje = c(estaciones_monitoreo_tendencias$porcentaje[estaciones_monitoreo_tendencias$anio == 2023 & estaciones_monitoreo_tendencias$tipo == \"Observado\"], \n",
    "                                              estaciones_monitoreo_tendencias$porcentaje[estaciones_monitoreo_tendencias$anio == 2030 & estaciones_monitoreo_tendencias$tipo == \"Transformador\"]),\n",
    "                               tipo = \"Transformador\"))\n",
    "\n",
    "\n",
    "paleta_colores <- c(\"Observado\" = \"#9F2241\",\n",
    "                    \"Inercial\" = \"#cfcfcf\" ,\n",
    "                    \"Deseable\" = \"#027A35\", \n",
    "                    \"Transformador\" = \"#AC6D14\")\n",
    "\n",
    "linetypes <- c(\"Observado\" = \"solid\",\n",
    "               \"Inercial\" = \"dotdash\",\n",
    "               \"Deseable\" = \"dotdash\", \n",
    "               \"Transformador\" = \"dotdash\")"
   ]
  },
  {
   "cell_type": "code",
   "execution_count": 95,
   "id": "d17002ad",
   "metadata": {
    "vscode": {
     "languageId": "r"
    }
   },
   "outputs": [
    {
     "data": {
      "image/png": "[encoded data removed]",
      "text/plain": [
       "plot without title"
      ]
     },
     "metadata": {
      "image/png": {
       "height": 420,
       "width": 420
      }
     },
     "output_type": "display_data"
    }
   ],
   "source": [
    "# Gráfico con etiquetas y eje Y personalizado\n",
    "ggplot(estaciones_monitoreo_tendencias, aes(x = anio, y = porcentaje, group = tipo, color = tipo, linetype = tipo)) +\n",
    "  geom_line(linewidth = 1.2) +\n",
    "  geom_point(size = 1.5) +\n",
    "  geom_line(data = lineas, aes(x = anio, y = porcentaje, group = tipo), linewidth = 1.2) +\n",
    "  geom_text(aes(label = paste0(round(porcentaje, 1), \"%\")),\n",
    "            vjust = -1, size = 5, show.legend = FALSE) +\n",
    "  scale_color_manual(values = paleta_colores) +\n",
    "  scale_linetype_manual(values = linetypes) +\n",
    "  scale_y_continuous(breaks = seq(0, max(estaciones_monitoreo_tendencias$porcentaje, na.rm = TRUE) + 5, by = 5),\n",
    "                     labels = function(x) paste0(x, \"%\"),\n",
    "                     expand = expansion(mult = c(0,0.5))) +\n",
    "  labs(title = \"Porcentaje de estaciones de monitoreo con registro de contaminación\",\n",
    "       x = \"Año\",\n",
    "       y = \"Porcentaje\",\n",
    "       color = \"\",\n",
    "       linetype = \"\") +\n",
    "  theme_bw(base_size = 15) +\n",
    "  theme( panel.grid.minor.y = element_line(color = \"gray80\", linetype = \"dotted\"),\n",
    "         panel.grid.minor.x = element_blank(),\n",
    "         panel.grid.major.y = element_blank(),\n",
    "         panel.border = element_blank(),\n",
    "         axis.line = element_line(color = \"gray80\"),\n",
    "         legend.position = \"top\",\n",
    "         plot.caption = element_text(hjust = 0))"
   ]
  }
 ],
 "metadata": {
  "kernelspec": {
   "display_name": "R",
   "language": "R",
   "name": "ir"
  },
  "language_info": {
   "codemirror_mode": "r",
   "file_extension": ".r",
   "mimetype": "text/x-r-source",
   "name": "R",
   "pygments_lexer": "r",
   "version": "4.4.3"
  }
 },
 "nbformat": 4,
 "nbformat_minor": 5
}
