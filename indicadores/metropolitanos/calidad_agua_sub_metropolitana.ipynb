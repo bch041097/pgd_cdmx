{
 "cells": [
  {
   "cell_type": "code",
   "execution_count": 21,
   "id": "f597a5ce",
   "metadata": {
    "vscode": {
     "languageId": "r"
    }
   },
   "outputs": [],
   "source": [
    "rm(list=ls())\n",
    "\n",
    "if(!require('pacman')) install.packages('pacman')\n",
    "pacman::p_load(tidyverse,jsonlite,httr)"
   ]
  },
  {
   "cell_type": "code",
   "execution_count": 30,
   "id": "e5e125ec",
   "metadata": {
    "vscode": {
     "languageId": "r"
    }
   },
   "outputs": [],
   "source": [
    "# Vector de años a consultar\n",
    "anios <- 2020:2023\n",
    "\n",
    "# Inicializar lista vacía para guardar los data.frames\n",
    "lista_dfs <- list()"
   ]
  },
  {
   "cell_type": "code",
   "execution_count": null,
   "id": "658611db",
   "metadata": {
    "vscode": {
     "languageId": "r"
    }
   },
   "outputs": [
    {
     "name": "stderr",
     "output_type": "stream",
     "text": [
      "Descargando datos del año: 2020\n",
      "\n"
     ]
    },
    {
     "name": "stdout",
     "output_type": "stream",
     "text": [
      "[1] \"Número de columnas: 56\"\n",
      "[1] \"Número de registros: 1068\"\n"
     ]
    },
    {
     "name": "stderr",
     "output_type": "stream",
     "text": [
      "Descargando datos del año: 2021\n",
      "\n"
     ]
    },
    {
     "name": "stdout",
     "output_type": "stream",
     "text": [
      "[1] \"Número de columnas: 54\"\n",
      "[1] \"Número de registros: 667\"\n"
     ]
    },
    {
     "name": "stderr",
     "output_type": "stream",
     "text": [
      "Descargando datos del año: 2022\n",
      "\n"
     ]
    },
    {
     "name": "stdout",
     "output_type": "stream",
     "text": [
      "[1] \"Número de columnas: 56\"\n",
      "[1] \"Número de registros: 775\"\n"
     ]
    },
    {
     "name": "stderr",
     "output_type": "stream",
     "text": [
      "Descargando datos del año: 2023\n",
      "\n"
     ]
    },
    {
     "name": "stdout",
     "output_type": "stream",
     "text": [
      "[1] \"Número de columnas: 41\"\n",
      "[1] \"Número de registros: 606\"\n"
     ]
    }
   ],
   "source": [
    "#Ciclo para descargar los datos de cada año\n",
    "for (anio in anios) {\n",
    "  message(\"Descargando datos del año: \", anio)\n",
    "  \n",
    "  url <- paste0(\n",
    "    \"https://geosinav30.conagua.gob.mx:8080/geoserver/Sina/ows?\",\n",
    "    \"service=WFS&version=1.0.0&request=GetFeature&outputFormat=application%2Fjson\",\n",
    "    \"&srsName=EPSG%3A4326&cql_filter=anio%3D\", anio,\n",
    "    \"&typeName=Sina%3Am02_subterraneosAnual\"\n",
    "  )\n",
    "  \n",
    "  response <- GET(url)\n",
    "  \n",
    "  if (status_code(response) == 200) {\n",
    "    data <- content(response )\n",
    "    \n",
    "    if (length(data$features) > 0) {\n",
    "      df_anio<-map_dfr(data$features, ~ .x$properties)\n",
    "      df_anio$anio <- anio  # agregar columna del año manualmente\n",
    "      print(paste(\"Número de columnas:\", ncol(df_anio)))\n",
    "      print(paste(\"Número de registros:\", nrow(df_anio)))\n",
    "      lista_dfs[[as.character(anio)]] <- df_anio\n",
    "    } else {\n",
    "      message(\"Sin datos para el año \", anio)\n",
    "    }\n",
    "  } else {\n",
    "    warning(\"Error en la solicitud para el año \", anio)\n",
    "  }\n",
    "}"
   ]
  },
  {
   "cell_type": "code",
   "execution_count": null,
   "id": "a296f308",
   "metadata": {
    "vscode": {
     "languageId": "r"
    }
   },
   "outputs": [
    {
     "name": "stdout",
     "output_type": "stream",
     "text": [
      "[1] \"Número de columnas en el DataFrame final:\"\n",
      "[1] 56\n"
     ]
    }
   ],
   "source": [
    "#Tabla final\n",
    "df_final <- bind_rows(lista_dfs)\n",
    "print(\"Número de columnas en el DataFrame final:\")\n",
    "print(ncol(df_final))"
   ]
  }
 ],
 "metadata": {
  "kernelspec": {
   "display_name": "R",
   "language": "R",
   "name": "ir"
  },
  "language_info": {
   "codemirror_mode": "r",
   "file_extension": ".r",
   "mimetype": "text/x-r-source",
   "name": "R",
   "pygments_lexer": "r",
   "version": "4.4.1"
  }
 },
 "nbformat": 4,
 "nbformat_minor": 5
}
