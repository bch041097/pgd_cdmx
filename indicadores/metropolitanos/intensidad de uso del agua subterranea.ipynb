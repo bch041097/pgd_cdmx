{
 "cells": [
  {
   "cell_type": "markdown",
   "id": "2b6c0531",
   "metadata": {},
   "source": [
    "**Cambio de almacenamiento de los acuiferos de la RHA XIII. Aguas del Valle de México**"
   ]
  },
  {
   "cell_type": "markdown",
   "id": "130fb7de",
   "metadata": {},
   "source": [
    "**Intensidad de uso del agua subterránea**"
   ]
  },
  {
   "cell_type": "code",
   "execution_count": 1,
   "id": "cbf3fa98",
   "metadata": {
    "vscode": {
     "languageId": "r"
    }
   },
   "outputs": [
    {
     "name": "stderr",
     "output_type": "stream",
     "text": [
      "\n",
      "Adjuntando el paquete: 'janitor'\n",
      "\n",
      "\n",
      "The following objects are masked from 'package:stats':\n",
      "\n",
      "    chisq.test, fisher.test\n",
      "\n",
      "\n",
      "── \u001b[1mAttaching core tidyverse packages\u001b[22m ──────────────────────── tidyverse 2.0.0 ──\n",
      "\u001b[32m✔\u001b[39m \u001b[34mdplyr    \u001b[39m 1.1.4     \u001b[32m✔\u001b[39m \u001b[34mreadr    \u001b[39m 2.1.5\n",
      "\u001b[32m✔\u001b[39m \u001b[34mforcats  \u001b[39m 1.0.0     \u001b[32m✔\u001b[39m \u001b[34mstringr  \u001b[39m 1.5.1\n",
      "\u001b[32m✔\u001b[39m \u001b[34mggplot2  \u001b[39m 3.5.1     \u001b[32m✔\u001b[39m \u001b[34mtibble   \u001b[39m 3.2.1\n",
      "\u001b[32m✔\u001b[39m \u001b[34mlubridate\u001b[39m 1.9.4     \u001b[32m✔\u001b[39m \u001b[34mtidyr    \u001b[39m 1.3.1\n",
      "\u001b[32m✔\u001b[39m \u001b[34mpurrr    \u001b[39m 1.0.4     \n",
      "── \u001b[1mConflicts\u001b[22m ────────────────────────────────────────── tidyverse_conflicts() ──\n",
      "\u001b[31m✖\u001b[39m \u001b[34mdplyr\u001b[39m::\u001b[32mfilter()\u001b[39m masks \u001b[34mstats\u001b[39m::filter()\n",
      "\u001b[31m✖\u001b[39m \u001b[34mdplyr\u001b[39m::\u001b[32mlag()\u001b[39m    masks \u001b[34mstats\u001b[39m::lag()\n",
      "\u001b[36mℹ\u001b[39m Use the conflicted package (\u001b[3m\u001b[34m<http://conflicted.r-lib.org/>\u001b[39m\u001b[23m) to force all conflicts to become errors\n"
     ]
    },
    {
     "data": {
      "text/html": [
       "<ol>\n",
       "\t<li><style>\n",
       ".list-inline {list-style: none; margin:0; padding: 0}\n",
       ".list-inline>li {display: inline-block}\n",
       ".list-inline>li:not(:last-child)::after {content: \"\\00b7\"; padding: 0 .5ex}\n",
       "</style>\n",
       "<ol class=list-inline><li>'openxlsx'</li><li>'stats'</li><li>'graphics'</li><li>'grDevices'</li><li>'utils'</li><li>'datasets'</li><li>'methods'</li><li>'base'</li></ol>\n",
       "</li>\n",
       "\t<li><style>\n",
       ".list-inline {list-style: none; margin:0; padding: 0}\n",
       ".list-inline>li {display: inline-block}\n",
       ".list-inline>li:not(:last-child)::after {content: \"\\00b7\"; padding: 0 .5ex}\n",
       "</style>\n",
       "<ol class=list-inline><li>'janitor'</li><li>'openxlsx'</li><li>'stats'</li><li>'graphics'</li><li>'grDevices'</li><li>'utils'</li><li>'datasets'</li><li>'methods'</li><li>'base'</li></ol>\n",
       "</li>\n",
       "\t<li><style>\n",
       ".list-inline {list-style: none; margin:0; padding: 0}\n",
       ".list-inline>li {display: inline-block}\n",
       ".list-inline>li:not(:last-child)::after {content: \"\\00b7\"; padding: 0 .5ex}\n",
       "</style>\n",
       "<ol class=list-inline><li>'lubridate'</li><li>'forcats'</li><li>'stringr'</li><li>'dplyr'</li><li>'purrr'</li><li>'readr'</li><li>'tidyr'</li><li>'tibble'</li><li>'ggplot2'</li><li>'tidyverse'</li><li>'janitor'</li><li>'openxlsx'</li><li>'stats'</li><li>'graphics'</li><li>'grDevices'</li><li>'utils'</li><li>'datasets'</li><li>'methods'</li><li>'base'</li></ol>\n",
       "</li>\n",
       "</ol>\n"
      ],
      "text/latex": [
       "\\begin{enumerate}\n",
       "\\item \\begin{enumerate*}\n",
       "\\item 'openxlsx'\n",
       "\\item 'stats'\n",
       "\\item 'graphics'\n",
       "\\item 'grDevices'\n",
       "\\item 'utils'\n",
       "\\item 'datasets'\n",
       "\\item 'methods'\n",
       "\\item 'base'\n",
       "\\end{enumerate*}\n",
       "\n",
       "\\item \\begin{enumerate*}\n",
       "\\item 'janitor'\n",
       "\\item 'openxlsx'\n",
       "\\item 'stats'\n",
       "\\item 'graphics'\n",
       "\\item 'grDevices'\n",
       "\\item 'utils'\n",
       "\\item 'datasets'\n",
       "\\item 'methods'\n",
       "\\item 'base'\n",
       "\\end{enumerate*}\n",
       "\n",
       "\\item \\begin{enumerate*}\n",
       "\\item 'lubridate'\n",
       "\\item 'forcats'\n",
       "\\item 'stringr'\n",
       "\\item 'dplyr'\n",
       "\\item 'purrr'\n",
       "\\item 'readr'\n",
       "\\item 'tidyr'\n",
       "\\item 'tibble'\n",
       "\\item 'ggplot2'\n",
       "\\item 'tidyverse'\n",
       "\\item 'janitor'\n",
       "\\item 'openxlsx'\n",
       "\\item 'stats'\n",
       "\\item 'graphics'\n",
       "\\item 'grDevices'\n",
       "\\item 'utils'\n",
       "\\item 'datasets'\n",
       "\\item 'methods'\n",
       "\\item 'base'\n",
       "\\end{enumerate*}\n",
       "\n",
       "\\end{enumerate}\n"
      ],
      "text/markdown": [
       "1. 1. 'openxlsx'\n",
       "2. 'stats'\n",
       "3. 'graphics'\n",
       "4. 'grDevices'\n",
       "5. 'utils'\n",
       "6. 'datasets'\n",
       "7. 'methods'\n",
       "8. 'base'\n",
       "\n",
       "\n",
       "\n",
       "2. 1. 'janitor'\n",
       "2. 'openxlsx'\n",
       "3. 'stats'\n",
       "4. 'graphics'\n",
       "5. 'grDevices'\n",
       "6. 'utils'\n",
       "7. 'datasets'\n",
       "8. 'methods'\n",
       "9. 'base'\n",
       "\n",
       "\n",
       "\n",
       "3. 1. 'lubridate'\n",
       "2. 'forcats'\n",
       "3. 'stringr'\n",
       "4. 'dplyr'\n",
       "5. 'purrr'\n",
       "6. 'readr'\n",
       "7. 'tidyr'\n",
       "8. 'tibble'\n",
       "9. 'ggplot2'\n",
       "10. 'tidyverse'\n",
       "11. 'janitor'\n",
       "12. 'openxlsx'\n",
       "13. 'stats'\n",
       "14. 'graphics'\n",
       "15. 'grDevices'\n",
       "16. 'utils'\n",
       "17. 'datasets'\n",
       "18. 'methods'\n",
       "19. 'base'\n",
       "\n",
       "\n",
       "\n",
       "\n",
       "\n"
      ],
      "text/plain": [
       "[[1]]\n",
       "[1] \"openxlsx\"  \"stats\"     \"graphics\"  \"grDevices\" \"utils\"     \"datasets\" \n",
       "[7] \"methods\"   \"base\"     \n",
       "\n",
       "[[2]]\n",
       "[1] \"janitor\"   \"openxlsx\"  \"stats\"     \"graphics\"  \"grDevices\" \"utils\"    \n",
       "[7] \"datasets\"  \"methods\"   \"base\"     \n",
       "\n",
       "[[3]]\n",
       " [1] \"lubridate\" \"forcats\"   \"stringr\"   \"dplyr\"     \"purrr\"     \"readr\"    \n",
       " [7] \"tidyr\"     \"tibble\"    \"ggplot2\"   \"tidyverse\" \"janitor\"   \"openxlsx\" \n",
       "[13] \"stats\"     \"graphics\"  \"grDevices\" \"utils\"     \"datasets\"  \"methods\"  \n",
       "[19] \"base\"     \n"
      ]
     },
     "metadata": {},
     "output_type": "display_data"
    }
   ],
   "source": [
    "rm(list = ls())\n",
    "libraries <- c(\"openxlsx\",\n",
    "               \"janitor\", \n",
    "               \"tidyverse\")\n",
    "\n",
    "installed_packages <- rownames(installed.packages())\n",
    "libraries_to_install <- setdiff(libraries, installed_packages)\n",
    "\n",
    "if (length(libraries_to_install) > 0) {\n",
    "  install.packages(libraries_to_install)\n",
    "}\n",
    "\n",
    "lapply(libraries, library, character.only = TRUE)"
   ]
  },
  {
   "cell_type": "code",
   "execution_count": null,
   "id": "ce2f4a6f",
   "metadata": {
    "vscode": {
     "languageId": "r"
    }
   },
   "outputs": [
    {
     "data": {
      "text/html": [
       "TRUE"
      ],
      "text/latex": [
       "TRUE"
      ],
      "text/markdown": [
       "TRUE"
      ],
      "text/plain": [
       "[1] TRUE"
      ]
     },
     "metadata": {},
     "output_type": "display_data"
    }
   ],
   "source": [
    "# URL del archivo\n",
    "#Url de la base: \n",
    "url <- \"http://dgeiawf.semarnat.gob.mx:8080/ibi_apps/WFServlet?IBIF_ex=d3_agua02_01_R1&VL_FORMAT=EXL2K&IBIC_user=c24&IBIC_pass=c24\"\n",
    "temp_file <- tempfile(fileext = \".xls\")\n",
    "options(timeout = 800)\n",
    "download.file(url, temp_file, mode = \"wb\")\n",
    "file.rename(temp_file, \"ext_rec_acui.xls\")"
   ]
  },
  {
   "cell_type": "code",
   "execution_count": 57,
   "id": "3228b7e8",
   "metadata": {
    "vscode": {
     "languageId": "r"
    }
   },
   "outputs": [
    {
     "data": {
      "text/html": [
       "<table class=\"dataframe\">\n",
       "<caption>A tibble: 19 × 9</caption>\n",
       "<thead>\n",
       "\t<tr><th scope=col>region_hidrologica_administrativa</th><th scope=col>entidad_federativa</th><th scope=col>ano</th><th scope=col>numero_de_acuiferos</th><th scope=col>volumen_de_extraccion</th><th scope=col>volumen_de_recarga</th><th scope=col>cambio_de_almacenamiento</th><th scope=col>intensidad</th><th scope=col>tipo</th></tr>\n",
       "\t<tr><th scope=col>&lt;chr&gt;</th><th scope=col>&lt;chr&gt;</th><th scope=col>&lt;dbl&gt;</th><th scope=col>&lt;dbl&gt;</th><th scope=col>&lt;dbl&gt;</th><th scope=col>&lt;dbl&gt;</th><th scope=col>&lt;dbl&gt;</th><th scope=col>&lt;dbl&gt;</th><th scope=col>&lt;chr&gt;</th></tr>\n",
       "</thead>\n",
       "<tbody>\n",
       "\t<tr><td>NA</td><td>Total</td><td>2003</td><td>14</td><td>1928.39</td><td>1806.74</td><td>-121.65</td><td>106.73312</td><td>Observado</td></tr>\n",
       "\t<tr><td>NA</td><td>NA   </td><td>2004</td><td>14</td><td>1915.18</td><td>1938.47</td><td>  23.29</td><td> 98.79854</td><td>Observado</td></tr>\n",
       "\t<tr><td>NA</td><td>NA   </td><td>2005</td><td>14</td><td>1915.18</td><td>1938.47</td><td>  23.29</td><td> 98.79854</td><td>Observado</td></tr>\n",
       "\t<tr><td>NA</td><td>NA   </td><td>2006</td><td>14</td><td>1801.68</td><td>1834.66</td><td>  32.98</td><td> 98.20239</td><td>Observado</td></tr>\n",
       "\t<tr><td>NA</td><td>NA   </td><td>2007</td><td>14</td><td>1801.64</td><td>1833.60</td><td>  31.96</td><td> 98.25698</td><td>Observado</td></tr>\n",
       "\t<tr><td>NA</td><td>NA   </td><td>2008</td><td>14</td><td>1876.82</td><td>2339.80</td><td> 462.98</td><td> 80.21284</td><td>Observado</td></tr>\n",
       "\t<tr><td>NA</td><td>NA   </td><td>2009</td><td>14</td><td>1876.83</td><td>2338.80</td><td> 461.97</td><td> 80.24756</td><td>Observado</td></tr>\n",
       "\t<tr><td>NA</td><td>NA   </td><td>2010</td><td>14</td><td>1869.03</td><td>2340.60</td><td> 471.57</td><td> 79.85260</td><td>Observado</td></tr>\n",
       "\t<tr><td>NA</td><td>NA   </td><td>2011</td><td>14</td><td>1863.68</td><td>2356.60</td><td> 492.92</td><td> 79.08343</td><td>Observado</td></tr>\n",
       "\t<tr><td>NA</td><td>NA   </td><td>2012</td><td>15</td><td>1901.46</td><td>2402.80</td><td> 501.34</td><td> 79.13518</td><td>Observado</td></tr>\n",
       "\t<tr><td>NA</td><td>NA   </td><td>2013</td><td>14</td><td>1956.61</td><td>2346.10</td><td> 389.49</td><td> 83.39841</td><td>Observado</td></tr>\n",
       "\t<tr><td>NA</td><td>NA   </td><td>2014</td><td>14</td><td>1956.60</td><td>2346.10</td><td> 389.50</td><td> 83.39798</td><td>Observado</td></tr>\n",
       "\t<tr><td>NA</td><td>NA   </td><td>2015</td><td>14</td><td>1955.50</td><td>2330.20</td><td> 374.70</td><td> 83.91984</td><td>Observado</td></tr>\n",
       "\t<tr><td>NA</td><td>NA   </td><td>2016</td><td>14</td><td>1955.50</td><td>2330.20</td><td> 374.70</td><td> 83.91984</td><td>Observado</td></tr>\n",
       "\t<tr><td>NA</td><td>NA   </td><td>2017</td><td>14</td><td>1954.97</td><td>2294.40</td><td> 339.43</td><td> 85.20615</td><td>Observado</td></tr>\n",
       "\t<tr><td>NA</td><td>NA   </td><td>2018</td><td>14</td><td>1954.97</td><td>2294.40</td><td> 339.43</td><td> 85.20615</td><td>Observado</td></tr>\n",
       "\t<tr><td>NA</td><td>NA   </td><td>2019</td><td>14</td><td>1954.97</td><td>2294.40</td><td> 339.43</td><td> 85.20615</td><td>Observado</td></tr>\n",
       "\t<tr><td>NA</td><td>NA   </td><td>2020</td><td>14</td><td>2245.71</td><td>2289.10</td><td>  43.39</td><td> 98.10450</td><td>Observado</td></tr>\n",
       "\t<tr><td>NA</td><td>NA   </td><td>2023</td><td>14</td><td>2330.04</td><td>2288.90</td><td> -41.14</td><td>101.79737</td><td>Observado</td></tr>\n",
       "</tbody>\n",
       "</table>\n"
      ],
      "text/latex": [
       "A tibble: 19 × 9\n",
       "\\begin{tabular}{lllllllll}\n",
       " region\\_hidrologica\\_administrativa & entidad\\_federativa & ano & numero\\_de\\_acuiferos & volumen\\_de\\_extraccion & volumen\\_de\\_recarga & cambio\\_de\\_almacenamiento & intensidad & tipo\\\\\n",
       " <chr> & <chr> & <dbl> & <dbl> & <dbl> & <dbl> & <dbl> & <dbl> & <chr>\\\\\n",
       "\\hline\n",
       "\t NA & Total & 2003 & 14 & 1928.39 & 1806.74 & -121.65 & 106.73312 & Observado\\\\\n",
       "\t NA & NA    & 2004 & 14 & 1915.18 & 1938.47 &   23.29 &  98.79854 & Observado\\\\\n",
       "\t NA & NA    & 2005 & 14 & 1915.18 & 1938.47 &   23.29 &  98.79854 & Observado\\\\\n",
       "\t NA & NA    & 2006 & 14 & 1801.68 & 1834.66 &   32.98 &  98.20239 & Observado\\\\\n",
       "\t NA & NA    & 2007 & 14 & 1801.64 & 1833.60 &   31.96 &  98.25698 & Observado\\\\\n",
       "\t NA & NA    & 2008 & 14 & 1876.82 & 2339.80 &  462.98 &  80.21284 & Observado\\\\\n",
       "\t NA & NA    & 2009 & 14 & 1876.83 & 2338.80 &  461.97 &  80.24756 & Observado\\\\\n",
       "\t NA & NA    & 2010 & 14 & 1869.03 & 2340.60 &  471.57 &  79.85260 & Observado\\\\\n",
       "\t NA & NA    & 2011 & 14 & 1863.68 & 2356.60 &  492.92 &  79.08343 & Observado\\\\\n",
       "\t NA & NA    & 2012 & 15 & 1901.46 & 2402.80 &  501.34 &  79.13518 & Observado\\\\\n",
       "\t NA & NA    & 2013 & 14 & 1956.61 & 2346.10 &  389.49 &  83.39841 & Observado\\\\\n",
       "\t NA & NA    & 2014 & 14 & 1956.60 & 2346.10 &  389.50 &  83.39798 & Observado\\\\\n",
       "\t NA & NA    & 2015 & 14 & 1955.50 & 2330.20 &  374.70 &  83.91984 & Observado\\\\\n",
       "\t NA & NA    & 2016 & 14 & 1955.50 & 2330.20 &  374.70 &  83.91984 & Observado\\\\\n",
       "\t NA & NA    & 2017 & 14 & 1954.97 & 2294.40 &  339.43 &  85.20615 & Observado\\\\\n",
       "\t NA & NA    & 2018 & 14 & 1954.97 & 2294.40 &  339.43 &  85.20615 & Observado\\\\\n",
       "\t NA & NA    & 2019 & 14 & 1954.97 & 2294.40 &  339.43 &  85.20615 & Observado\\\\\n",
       "\t NA & NA    & 2020 & 14 & 2245.71 & 2289.10 &   43.39 &  98.10450 & Observado\\\\\n",
       "\t NA & NA    & 2023 & 14 & 2330.04 & 2288.90 &  -41.14 & 101.79737 & Observado\\\\\n",
       "\\end{tabular}\n"
      ],
      "text/markdown": [
       "\n",
       "A tibble: 19 × 9\n",
       "\n",
       "| region_hidrologica_administrativa &lt;chr&gt; | entidad_federativa &lt;chr&gt; | ano &lt;dbl&gt; | numero_de_acuiferos &lt;dbl&gt; | volumen_de_extraccion &lt;dbl&gt; | volumen_de_recarga &lt;dbl&gt; | cambio_de_almacenamiento &lt;dbl&gt; | intensidad &lt;dbl&gt; | tipo &lt;chr&gt; |\n",
       "|---|---|---|---|---|---|---|---|---|\n",
       "| NA | Total | 2003 | 14 | 1928.39 | 1806.74 | -121.65 | 106.73312 | Observado |\n",
       "| NA | NA    | 2004 | 14 | 1915.18 | 1938.47 |   23.29 |  98.79854 | Observado |\n",
       "| NA | NA    | 2005 | 14 | 1915.18 | 1938.47 |   23.29 |  98.79854 | Observado |\n",
       "| NA | NA    | 2006 | 14 | 1801.68 | 1834.66 |   32.98 |  98.20239 | Observado |\n",
       "| NA | NA    | 2007 | 14 | 1801.64 | 1833.60 |   31.96 |  98.25698 | Observado |\n",
       "| NA | NA    | 2008 | 14 | 1876.82 | 2339.80 |  462.98 |  80.21284 | Observado |\n",
       "| NA | NA    | 2009 | 14 | 1876.83 | 2338.80 |  461.97 |  80.24756 | Observado |\n",
       "| NA | NA    | 2010 | 14 | 1869.03 | 2340.60 |  471.57 |  79.85260 | Observado |\n",
       "| NA | NA    | 2011 | 14 | 1863.68 | 2356.60 |  492.92 |  79.08343 | Observado |\n",
       "| NA | NA    | 2012 | 15 | 1901.46 | 2402.80 |  501.34 |  79.13518 | Observado |\n",
       "| NA | NA    | 2013 | 14 | 1956.61 | 2346.10 |  389.49 |  83.39841 | Observado |\n",
       "| NA | NA    | 2014 | 14 | 1956.60 | 2346.10 |  389.50 |  83.39798 | Observado |\n",
       "| NA | NA    | 2015 | 14 | 1955.50 | 2330.20 |  374.70 |  83.91984 | Observado |\n",
       "| NA | NA    | 2016 | 14 | 1955.50 | 2330.20 |  374.70 |  83.91984 | Observado |\n",
       "| NA | NA    | 2017 | 14 | 1954.97 | 2294.40 |  339.43 |  85.20615 | Observado |\n",
       "| NA | NA    | 2018 | 14 | 1954.97 | 2294.40 |  339.43 |  85.20615 | Observado |\n",
       "| NA | NA    | 2019 | 14 | 1954.97 | 2294.40 |  339.43 |  85.20615 | Observado |\n",
       "| NA | NA    | 2020 | 14 | 2245.71 | 2289.10 |   43.39 |  98.10450 | Observado |\n",
       "| NA | NA    | 2023 | 14 | 2330.04 | 2288.90 |  -41.14 | 101.79737 | Observado |\n",
       "\n"
      ],
      "text/plain": [
       "   region_hidrologica_administrativa entidad_federativa ano \n",
       "1  NA                                Total              2003\n",
       "2  NA                                NA                 2004\n",
       "3  NA                                NA                 2005\n",
       "4  NA                                NA                 2006\n",
       "5  NA                                NA                 2007\n",
       "6  NA                                NA                 2008\n",
       "7  NA                                NA                 2009\n",
       "8  NA                                NA                 2010\n",
       "9  NA                                NA                 2011\n",
       "10 NA                                NA                 2012\n",
       "11 NA                                NA                 2013\n",
       "12 NA                                NA                 2014\n",
       "13 NA                                NA                 2015\n",
       "14 NA                                NA                 2016\n",
       "15 NA                                NA                 2017\n",
       "16 NA                                NA                 2018\n",
       "17 NA                                NA                 2019\n",
       "18 NA                                NA                 2020\n",
       "19 NA                                NA                 2023\n",
       "   numero_de_acuiferos volumen_de_extraccion volumen_de_recarga\n",
       "1  14                  1928.39               1806.74           \n",
       "2  14                  1915.18               1938.47           \n",
       "3  14                  1915.18               1938.47           \n",
       "4  14                  1801.68               1834.66           \n",
       "5  14                  1801.64               1833.60           \n",
       "6  14                  1876.82               2339.80           \n",
       "7  14                  1876.83               2338.80           \n",
       "8  14                  1869.03               2340.60           \n",
       "9  14                  1863.68               2356.60           \n",
       "10 15                  1901.46               2402.80           \n",
       "11 14                  1956.61               2346.10           \n",
       "12 14                  1956.60               2346.10           \n",
       "13 14                  1955.50               2330.20           \n",
       "14 14                  1955.50               2330.20           \n",
       "15 14                  1954.97               2294.40           \n",
       "16 14                  1954.97               2294.40           \n",
       "17 14                  1954.97               2294.40           \n",
       "18 14                  2245.71               2289.10           \n",
       "19 14                  2330.04               2288.90           \n",
       "   cambio_de_almacenamiento intensidad tipo     \n",
       "1  -121.65                  106.73312  Observado\n",
       "2    23.29                   98.79854  Observado\n",
       "3    23.29                   98.79854  Observado\n",
       "4    32.98                   98.20239  Observado\n",
       "5    31.96                   98.25698  Observado\n",
       "6   462.98                   80.21284  Observado\n",
       "7   461.97                   80.24756  Observado\n",
       "8   471.57                   79.85260  Observado\n",
       "9   492.92                   79.08343  Observado\n",
       "10  501.34                   79.13518  Observado\n",
       "11  389.49                   83.39841  Observado\n",
       "12  389.50                   83.39798  Observado\n",
       "13  374.70                   83.91984  Observado\n",
       "14  374.70                   83.91984  Observado\n",
       "15  339.43                   85.20615  Observado\n",
       "16  339.43                   85.20615  Observado\n",
       "17  339.43                   85.20615  Observado\n",
       "18   43.39                   98.10450  Observado\n",
       "19  -41.14                  101.79737  Observado"
      ]
     },
     "metadata": {},
     "output_type": "display_data"
    }
   ],
   "source": [
    "#CAMBIO DE ALMACENAMIENTO----\n",
    "#hectómetros cúbicos por año\n",
    "ext_rec_ac<- readxl::read_excel(\"ext_rec_acui.xls\", skip = 2)|>\n",
    "  #slice(1218:1236)|> #Seleccionando solamente la ciudad de méxico\n",
    "  slice(1294:1312) |>\n",
    "  janitor::clean_names()\n",
    "  #filter(ano %in% c(2003,2005,2007,2009,2011,2013,2015,2017,2019,2021,2023))\n",
    "\n",
    "ext_rec_acui<-ext_rec_ac|>\n",
    "  mutate(cambio_de_almacenamiento = volumen_de_recarga-volumen_de_extraccion)|>\n",
    "  mutate(intensidad = (volumen_de_extraccion/volumen_de_recarga)*100)|>\n",
    "  #select(ano,cambio_de_almacenamiento, intensidad)|>\n",
    "  mutate(tipo = \"Observado\",\n",
    "          ano = as.numeric(ano))\n",
    "\n",
    "ext_rec_acui\n"
   ]
  },
  {
   "cell_type": "code",
   "execution_count": 18,
   "id": "b3c462d7",
   "metadata": {
    "vscode": {
     "languageId": "r"
    }
   },
   "outputs": [],
   "source": [
    "ext_rec_acui_2023 <- ext_rec_acui |> filter(ano == 2023)\n",
    "ext_rec_acui_2003 <- ext_rec_acui |> filter(ano == 2003)"
   ]
  },
  {
   "cell_type": "code",
   "execution_count": 47,
   "id": "e8e19bb0",
   "metadata": {
    "vscode": {
     "languageId": "r"
    }
   },
   "outputs": [
    {
     "data": {
      "text/html": [
       "-0.00236456298265919"
      ],
      "text/latex": [
       "-0.00236456298265919"
      ],
      "text/markdown": [
       "-0.00236456298265919"
      ],
      "text/plain": [
       "[1] -0.002364563"
      ]
     },
     "metadata": {},
     "output_type": "display_data"
    },
    {
     "data": {
      "text/html": [
       "<table class=\"dataframe\">\n",
       "<caption>A tibble: 19 × 3</caption>\n",
       "<thead>\n",
       "\t<tr><th scope=col>ano</th><th scope=col>intensidad</th><th scope=col>tipo</th></tr>\n",
       "\t<tr><th scope=col>&lt;dbl&gt;</th><th scope=col>&lt;dbl&gt;</th><th scope=col>&lt;chr&gt;</th></tr>\n",
       "</thead>\n",
       "<tbody>\n",
       "\t<tr><td>2003</td><td>106.73312</td><td>Observado    </td></tr>\n",
       "\t<tr><td>2005</td><td> 98.79854</td><td>Observado    </td></tr>\n",
       "\t<tr><td>2007</td><td> 98.25698</td><td>Observado    </td></tr>\n",
       "\t<tr><td>2009</td><td> 80.24756</td><td>Observado    </td></tr>\n",
       "\t<tr><td>2011</td><td> 79.08343</td><td>Observado    </td></tr>\n",
       "\t<tr><td>2013</td><td> 83.39841</td><td>Observado    </td></tr>\n",
       "\t<tr><td>2015</td><td> 83.91984</td><td>Observado    </td></tr>\n",
       "\t<tr><td>2017</td><td> 85.20615</td><td>Observado    </td></tr>\n",
       "\t<tr><td>2019</td><td> 85.20615</td><td>Observado    </td></tr>\n",
       "\t<tr><td>2023</td><td>101.79737</td><td>Observado    </td></tr>\n",
       "\t<tr><td>2030</td><td>106.15000</td><td>Inercial     </td></tr>\n",
       "\t<tr><td>2040</td><td>105.31000</td><td>Inercial     </td></tr>\n",
       "\t<tr><td>2045</td><td>104.90000</td><td>Inercial     </td></tr>\n",
       "\t<tr><td>2030</td><td>107.62000</td><td>Deseable     </td></tr>\n",
       "\t<tr><td>2040</td><td>108.90000</td><td>Deseable     </td></tr>\n",
       "\t<tr><td>2045</td><td>109.54000</td><td>Deseable     </td></tr>\n",
       "\t<tr><td>2030</td><td>109.41000</td><td>Transformador</td></tr>\n",
       "\t<tr><td>2040</td><td>113.35000</td><td>Transformador</td></tr>\n",
       "\t<tr><td>2045</td><td>115.38000</td><td>Transformador</td></tr>\n",
       "</tbody>\n",
       "</table>\n"
      ],
      "text/latex": [
       "A tibble: 19 × 3\n",
       "\\begin{tabular}{lll}\n",
       " ano & intensidad & tipo\\\\\n",
       " <dbl> & <dbl> & <chr>\\\\\n",
       "\\hline\n",
       "\t 2003 & 106.73312 & Observado    \\\\\n",
       "\t 2005 &  98.79854 & Observado    \\\\\n",
       "\t 2007 &  98.25698 & Observado    \\\\\n",
       "\t 2009 &  80.24756 & Observado    \\\\\n",
       "\t 2011 &  79.08343 & Observado    \\\\\n",
       "\t 2013 &  83.39841 & Observado    \\\\\n",
       "\t 2015 &  83.91984 & Observado    \\\\\n",
       "\t 2017 &  85.20615 & Observado    \\\\\n",
       "\t 2019 &  85.20615 & Observado    \\\\\n",
       "\t 2023 & 101.79737 & Observado    \\\\\n",
       "\t 2030 & 106.15000 & Inercial     \\\\\n",
       "\t 2040 & 105.31000 & Inercial     \\\\\n",
       "\t 2045 & 104.90000 & Inercial     \\\\\n",
       "\t 2030 & 107.62000 & Deseable     \\\\\n",
       "\t 2040 & 108.90000 & Deseable     \\\\\n",
       "\t 2045 & 109.54000 & Deseable     \\\\\n",
       "\t 2030 & 109.41000 & Transformador\\\\\n",
       "\t 2040 & 113.35000 & Transformador\\\\\n",
       "\t 2045 & 115.38000 & Transformador\\\\\n",
       "\\end{tabular}\n"
      ],
      "text/markdown": [
       "\n",
       "A tibble: 19 × 3\n",
       "\n",
       "| ano &lt;dbl&gt; | intensidad &lt;dbl&gt; | tipo &lt;chr&gt; |\n",
       "|---|---|---|\n",
       "| 2003 | 106.73312 | Observado     |\n",
       "| 2005 |  98.79854 | Observado     |\n",
       "| 2007 |  98.25698 | Observado     |\n",
       "| 2009 |  80.24756 | Observado     |\n",
       "| 2011 |  79.08343 | Observado     |\n",
       "| 2013 |  83.39841 | Observado     |\n",
       "| 2015 |  83.91984 | Observado     |\n",
       "| 2017 |  85.20615 | Observado     |\n",
       "| 2019 |  85.20615 | Observado     |\n",
       "| 2023 | 101.79737 | Observado     |\n",
       "| 2030 | 106.15000 | Inercial      |\n",
       "| 2040 | 105.31000 | Inercial      |\n",
       "| 2045 | 104.90000 | Inercial      |\n",
       "| 2030 | 107.62000 | Deseable      |\n",
       "| 2040 | 108.90000 | Deseable      |\n",
       "| 2045 | 109.54000 | Deseable      |\n",
       "| 2030 | 109.41000 | Transformador |\n",
       "| 2040 | 113.35000 | Transformador |\n",
       "| 2045 | 115.38000 | Transformador |\n",
       "\n"
      ],
      "text/plain": [
       "   ano  intensidad tipo         \n",
       "1  2003 106.73312  Observado    \n",
       "2  2005  98.79854  Observado    \n",
       "3  2007  98.25698  Observado    \n",
       "4  2009  80.24756  Observado    \n",
       "5  2011  79.08343  Observado    \n",
       "6  2013  83.39841  Observado    \n",
       "7  2015  83.91984  Observado    \n",
       "8  2017  85.20615  Observado    \n",
       "9  2019  85.20615  Observado    \n",
       "10 2023 101.79737  Observado    \n",
       "11 2030 106.15000  Inercial     \n",
       "12 2040 105.31000  Inercial     \n",
       "13 2045 104.90000  Inercial     \n",
       "14 2030 107.62000  Deseable     \n",
       "15 2040 108.90000  Deseable     \n",
       "16 2045 109.54000  Deseable     \n",
       "17 2030 109.41000  Transformador\n",
       "18 2040 113.35000  Transformador\n",
       "19 2045 115.38000  Transformador"
      ]
     },
     "metadata": {},
     "output_type": "display_data"
    }
   ],
   "source": [
    "##ESCENARIOS TENDENCIALES 2030,2035,2045\n",
    "# Tasa de variación\n",
    "tcma<-((ext_rec_acui_2023$intensidad /ext_rec_acui_2003$intensidad)^(1/(2023-2003)) - 1) \n",
    "tcma\n",
    "\n",
    "intensidad_base <- ext_rec_acui |>\n",
    "  filter(ano == 2003) |>\n",
    "  pull(intensidad)\n",
    "\n",
    "# Años a proyectar\n",
    "años <- c(2030, 2040, 2045)\n",
    "año_base <- 2023\n",
    "\n",
    "tendencia_base <- data.frame(ano = años,\n",
    "                             intensidad = round(intensidad_base * (1 + 1/3*tcma ) ^ (años - año_base), 2),\n",
    "                             tipo = \"Inercial\")\n",
    "\n",
    "\n",
    "tendecia_deseable<-data.frame(ano = años,\n",
    "                              intensidad = round(intensidad_base * (1 + -1/2*tcma) ^ (años - año_base), 2),\n",
    "                              tipo = \"Deseable\")\n",
    "\n",
    "\n",
    "tendecia_transformadora <-data.frame(ano = años,\n",
    "                                     intensidad = round(intensidad_base * (1 + tcma*-1.5) ^ (años - año_base), 2),\n",
    "                                     tipo = \"Transformador\")\n",
    "\n",
    "\n",
    "intensidad_tendencias <- ext_rec_acui|>\n",
    "  bind_rows(tendencia_base,tendecia_deseable, \n",
    "            tendecia_transformadora)|>\n",
    "  select(ano, intensidad, tipo)\n",
    "\n",
    "intensidad_tendencias"
   ]
  },
  {
   "cell_type": "code",
   "execution_count": 48,
   "id": "83983bc4",
   "metadata": {
    "vscode": {
     "languageId": "r"
    }
   },
   "outputs": [],
   "source": [
    "lineas <- bind_rows(data.frame(ano = c(2023, 2030),\n",
    "                               intensidad = c(intensidad_tendencias$intensidad[intensidad_tendencias$ano == 2023 & intensidad_tendencias$tipo == \"Observado\"],\n",
    "                                              intensidad_tendencias$intensidad[intensidad_tendencias$ano == 2030 & intensidad_tendencias$tipo == \"Inercial\"]),\n",
    "                               tipo = \"Inercial\"),\n",
    "                    data.frame(ano = c(2023, 2030),\n",
    "                               intensidad = c(intensidad_tendencias$intensidad[intensidad_tendencias$ano == 2023 & intensidad_tendencias$tipo == \"Observado\"], \n",
    "                                              intensidad_tendencias$intensidad[intensidad_tendencias$ano == 2030 & intensidad_tendencias$tipo == \"Deseable\"]),\n",
    "                               tipo = \"Deseable\"), \n",
    "                    data.frame(ano = c(2023, 2030),\n",
    "                               intensidad = c(intensidad_tendencias$intensidad[intensidad_tendencias$ano == 2023 & intensidad_tendencias$tipo == \"Observado\"], \n",
    "                                              intensidad_tendencias$intensidad[intensidad_tendencias$ano == 2030 & intensidad_tendencias$tipo == \"Transformador\"]),\n",
    "                               tipo = \"Transformador\"))\n",
    "\n",
    "\n",
    "paleta_colores <- c(\"Observado\" = \"#9F2241\",\n",
    "                    \"Inercial\" = \"#cfcfcf\" ,\n",
    "                    \"Deseable\" = \"#027A35\", \n",
    "                    \"Transformador\" = \"#AC6D14\")\n",
    "\n",
    "linetypes <- c(\"Observado\" = \"solid\",\n",
    "               \"Inercial\" = \"dotdash\",\n",
    "               \"Deseable\" = \"dotdash\", \n",
    "               \"Transformador\" = \"dotdash\")"
   ]
  },
  {
   "cell_type": "code",
   "execution_count": 54,
   "id": "d035ac06",
   "metadata": {
    "vscode": {
     "languageId": "r"
    }
   },
   "outputs": [
    {
     "data": {
      "image/png": "[encoded data removed]",
      "text/plain": [
       "plot without title"
      ]
     },
     "metadata": {
      "image/png": {
       "height": 420,
       "width": 420
      }
     },
     "output_type": "display_data"
    }
   ],
   "source": [
    "# Gráfico con etiquetas y eje Y personalizado\n",
    "ggplot(intensidad_tendencias, aes(x = ano, y = intensidad, group = tipo, color = tipo, linetype = tipo)) +\n",
    "  geom_line(linewidth = 1.2) +\n",
    "  geom_point(size = 1.5) +\n",
    "  geom_line(data = lineas, aes(x = ano, y = intensidad, group = tipo), linewidth = 1.2) +\n",
    "  geom_text(aes(label = round(intensidad, 1)),\n",
    "            position = position_nudge(y = 1),\n",
    "            size = 5, show.legend = FALSE) +\n",
    "  scale_color_manual(values = paleta_colores) +\n",
    "  scale_linetype_manual(values = linetypes) +\n",
    "  scale_y_continuous(breaks = seq(0, max(intensidad_tendencias$intensidad, na.rm = TRUE) + 150, by = 10),\n",
    "                     labels = function(x) paste0(x, \"%\"),\n",
    "                     expand = expansion(mult = c(0.5,1))) +\n",
    "  labs(title = \"\",\n",
    "       x = \"Año\",\n",
    "       y = \"Intensidad\",\n",
    "       color = \"\",\n",
    "       linetype = \"\") +\n",
    "  theme_bw(base_size = 15) +\n",
    "  theme( panel.grid.minor.y = element_line(color = \"gray80\", linetype = \"dotted\"),\n",
    "         panel.grid.minor.x = element_blank(),\n",
    "         panel.grid.major.y = element_blank(),\n",
    "         panel.border = element_blank(),\n",
    "         axis.line = element_line(color = \"gray80\"),\n",
    "         legend.position = \"top\",\n",
    "         plot.caption = element_text(hjust = 010))"
   ]
  },
  {
   "cell_type": "markdown",
   "id": "6a1ad3cf",
   "metadata": {},
   "source": [
    "**Variación bienal de la recarga del acuífero (hm³/año)**"
   ]
  },
  {
   "cell_type": "code",
   "execution_count": null,
   "id": "6c60d435",
   "metadata": {
    "vscode": {
     "languageId": "r"
    }
   },
   "outputs": [
    {
     "data": {
      "text/html": [
       "<table class=\"dataframe\">\n",
       "<caption>A tibble: 10 × 3</caption>\n",
       "<thead>\n",
       "\t<tr><th scope=col>ano</th><th scope=col>volumen_de_recarga</th><th scope=col>dif_bienal</th></tr>\n",
       "\t<tr><th scope=col>&lt;dbl&gt;</th><th scope=col>&lt;dbl&gt;</th><th scope=col>&lt;dbl&gt;</th></tr>\n",
       "</thead>\n",
       "<tbody>\n",
       "\t<tr><td>2003</td><td>1806.74</td><td>     NA</td></tr>\n",
       "\t<tr><td>2005</td><td>1938.47</td><td> 131.73</td></tr>\n",
       "\t<tr><td>2007</td><td>1833.60</td><td>-104.87</td></tr>\n",
       "\t<tr><td>2009</td><td>2338.80</td><td> 505.20</td></tr>\n",
       "\t<tr><td>2011</td><td>2356.60</td><td>  17.80</td></tr>\n",
       "\t<tr><td>2013</td><td>2346.10</td><td> -10.50</td></tr>\n",
       "\t<tr><td>2015</td><td>2330.20</td><td> -15.90</td></tr>\n",
       "\t<tr><td>2017</td><td>2294.40</td><td> -35.80</td></tr>\n",
       "\t<tr><td>2019</td><td>2294.40</td><td>   0.00</td></tr>\n",
       "\t<tr><td>2023</td><td>2288.90</td><td>  -5.50</td></tr>\n",
       "</tbody>\n",
       "</table>\n"
      ],
      "text/latex": [
       "A tibble: 10 × 3\n",
       "\\begin{tabular}{lll}\n",
       " ano & volumen\\_de\\_recarga & dif\\_bienal\\\\\n",
       " <dbl> & <dbl> & <dbl>\\\\\n",
       "\\hline\n",
       "\t 2003 & 1806.74 &      NA\\\\\n",
       "\t 2005 & 1938.47 &  131.73\\\\\n",
       "\t 2007 & 1833.60 & -104.87\\\\\n",
       "\t 2009 & 2338.80 &  505.20\\\\\n",
       "\t 2011 & 2356.60 &   17.80\\\\\n",
       "\t 2013 & 2346.10 &  -10.50\\\\\n",
       "\t 2015 & 2330.20 &  -15.90\\\\\n",
       "\t 2017 & 2294.40 &  -35.80\\\\\n",
       "\t 2019 & 2294.40 &    0.00\\\\\n",
       "\t 2023 & 2288.90 &   -5.50\\\\\n",
       "\\end{tabular}\n"
      ],
      "text/markdown": [
       "\n",
       "A tibble: 10 × 3\n",
       "\n",
       "| ano &lt;dbl&gt; | volumen_de_recarga &lt;dbl&gt; | dif_bienal &lt;dbl&gt; |\n",
       "|---|---|---|\n",
       "| 2003 | 1806.74 |      NA |\n",
       "| 2005 | 1938.47 |  131.73 |\n",
       "| 2007 | 1833.60 | -104.87 |\n",
       "| 2009 | 2338.80 |  505.20 |\n",
       "| 2011 | 2356.60 |   17.80 |\n",
       "| 2013 | 2346.10 |  -10.50 |\n",
       "| 2015 | 2330.20 |  -15.90 |\n",
       "| 2017 | 2294.40 |  -35.80 |\n",
       "| 2019 | 2294.40 |    0.00 |\n",
       "| 2023 | 2288.90 |   -5.50 |\n",
       "\n"
      ],
      "text/plain": [
       "   ano  volumen_de_recarga dif_bienal\n",
       "1  2003 1806.74                 NA   \n",
       "2  2005 1938.47             131.73   \n",
       "3  2007 1833.60            -104.87   \n",
       "4  2009 2338.80             505.20   \n",
       "5  2011 2356.60              17.80   \n",
       "6  2013 2346.10             -10.50   \n",
       "7  2015 2330.20             -15.90   \n",
       "8  2017 2294.40             -35.80   \n",
       "9  2019 2294.40               0.00   \n",
       "10 2023 2288.90              -5.50   "
      ]
     },
     "metadata": {},
     "output_type": "display_data"
    }
   ],
   "source": [
    "# # Calcular diferencia de recarga de acuifero entre años seleccionados (cada 2 años) #hectómetros cúbicos por año\n",
    "# recargas <- ext_rec_ac |>\n",
    "#   mutate(ano = as.numeric(ano))|>\n",
    "#   arrange(ano) |>\n",
    "#   mutate(dif_bienal = volumen_de_recarga - lag(volumen_de_recarga))|>\n",
    "#   select(ano, volumen_de_recarga,dif_bienal)\n",
    "\n",
    "# recargas"
   ]
  }
 ],
 "metadata": {
  "kernelspec": {
   "display_name": "R",
   "language": "R",
   "name": "ir"
  },
  "language_info": {
   "codemirror_mode": "r",
   "file_extension": ".r",
   "mimetype": "text/x-r-source",
   "name": "R",
   "pygments_lexer": "r",
   "version": "4.4.3"
  }
 },
 "nbformat": 4,
 "nbformat_minor": 5
}
