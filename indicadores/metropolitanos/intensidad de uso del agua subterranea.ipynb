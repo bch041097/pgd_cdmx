{
 "cells": [
  {
   "cell_type": "markdown",
   "id": "130fb7de",
   "metadata": {},
   "source": [
    "**Intensidad de uso del agua subterránea**"
   ]
  },
  {
   "cell_type": "code",
   "execution_count": 2,
   "id": "cbf3fa98",
   "metadata": {
    "vscode": {
     "languageId": "r"
    }
   },
   "outputs": [
    {
     "name": "stderr",
     "output_type": "stream",
     "text": [
      "\n",
      "Adjuntando el paquete: 'janitor'\n",
      "\n",
      "\n",
      "The following objects are masked from 'package:stats':\n",
      "\n",
      "    chisq.test, fisher.test\n",
      "\n",
      "\n",
      "── \u001b[1mAttaching core tidyverse packages\u001b[22m ──────────────────────── tidyverse 2.0.0 ──\n",
      "\u001b[32m✔\u001b[39m \u001b[34mdplyr    \u001b[39m 1.1.4     \u001b[32m✔\u001b[39m \u001b[34mreadr    \u001b[39m 2.1.5\n",
      "\u001b[32m✔\u001b[39m \u001b[34mforcats  \u001b[39m 1.0.0     \u001b[32m✔\u001b[39m \u001b[34mstringr  \u001b[39m 1.5.1\n",
      "\u001b[32m✔\u001b[39m \u001b[34mggplot2  \u001b[39m 3.5.1     \u001b[32m✔\u001b[39m \u001b[34mtibble   \u001b[39m 3.2.1\n",
      "\u001b[32m✔\u001b[39m \u001b[34mlubridate\u001b[39m 1.9.4     \u001b[32m✔\u001b[39m \u001b[34mtidyr    \u001b[39m 1.3.1\n",
      "\u001b[32m✔\u001b[39m \u001b[34mpurrr    \u001b[39m 1.0.4     \n",
      "── \u001b[1mConflicts\u001b[22m ────────────────────────────────────────── tidyverse_conflicts() ──\n",
      "\u001b[31m✖\u001b[39m \u001b[34mdplyr\u001b[39m::\u001b[32mfilter()\u001b[39m masks \u001b[34mstats\u001b[39m::filter()\n",
      "\u001b[31m✖\u001b[39m \u001b[34mdplyr\u001b[39m::\u001b[32mlag()\u001b[39m    masks \u001b[34mstats\u001b[39m::lag()\n",
      "\u001b[36mℹ\u001b[39m Use the conflicted package (\u001b[3m\u001b[34m<http://conflicted.r-lib.org/>\u001b[39m\u001b[23m) to force all conflicts to become errors\n"
     ]
    },
    {
     "data": {
      "text/html": [
       "<ol>\n",
       "\t<li><style>\n",
       ".list-inline {list-style: none; margin:0; padding: 0}\n",
       ".list-inline>li {display: inline-block}\n",
       ".list-inline>li:not(:last-child)::after {content: \"\\00b7\"; padding: 0 .5ex}\n",
       "</style>\n",
       "<ol class=list-inline><li>'openxlsx'</li><li>'stats'</li><li>'graphics'</li><li>'grDevices'</li><li>'utils'</li><li>'datasets'</li><li>'methods'</li><li>'base'</li></ol>\n",
       "</li>\n",
       "\t<li><style>\n",
       ".list-inline {list-style: none; margin:0; padding: 0}\n",
       ".list-inline>li {display: inline-block}\n",
       ".list-inline>li:not(:last-child)::after {content: \"\\00b7\"; padding: 0 .5ex}\n",
       "</style>\n",
       "<ol class=list-inline><li>'janitor'</li><li>'openxlsx'</li><li>'stats'</li><li>'graphics'</li><li>'grDevices'</li><li>'utils'</li><li>'datasets'</li><li>'methods'</li><li>'base'</li></ol>\n",
       "</li>\n",
       "\t<li><style>\n",
       ".list-inline {list-style: none; margin:0; padding: 0}\n",
       ".list-inline>li {display: inline-block}\n",
       ".list-inline>li:not(:last-child)::after {content: \"\\00b7\"; padding: 0 .5ex}\n",
       "</style>\n",
       "<ol class=list-inline><li>'lubridate'</li><li>'forcats'</li><li>'stringr'</li><li>'dplyr'</li><li>'purrr'</li><li>'readr'</li><li>'tidyr'</li><li>'tibble'</li><li>'ggplot2'</li><li>'tidyverse'</li><li>'janitor'</li><li>'openxlsx'</li><li>'stats'</li><li>'graphics'</li><li>'grDevices'</li><li>'utils'</li><li>'datasets'</li><li>'methods'</li><li>'base'</li></ol>\n",
       "</li>\n",
       "</ol>\n"
      ],
      "text/latex": [
       "\\begin{enumerate}\n",
       "\\item \\begin{enumerate*}\n",
       "\\item 'openxlsx'\n",
       "\\item 'stats'\n",
       "\\item 'graphics'\n",
       "\\item 'grDevices'\n",
       "\\item 'utils'\n",
       "\\item 'datasets'\n",
       "\\item 'methods'\n",
       "\\item 'base'\n",
       "\\end{enumerate*}\n",
       "\n",
       "\\item \\begin{enumerate*}\n",
       "\\item 'janitor'\n",
       "\\item 'openxlsx'\n",
       "\\item 'stats'\n",
       "\\item 'graphics'\n",
       "\\item 'grDevices'\n",
       "\\item 'utils'\n",
       "\\item 'datasets'\n",
       "\\item 'methods'\n",
       "\\item 'base'\n",
       "\\end{enumerate*}\n",
       "\n",
       "\\item \\begin{enumerate*}\n",
       "\\item 'lubridate'\n",
       "\\item 'forcats'\n",
       "\\item 'stringr'\n",
       "\\item 'dplyr'\n",
       "\\item 'purrr'\n",
       "\\item 'readr'\n",
       "\\item 'tidyr'\n",
       "\\item 'tibble'\n",
       "\\item 'ggplot2'\n",
       "\\item 'tidyverse'\n",
       "\\item 'janitor'\n",
       "\\item 'openxlsx'\n",
       "\\item 'stats'\n",
       "\\item 'graphics'\n",
       "\\item 'grDevices'\n",
       "\\item 'utils'\n",
       "\\item 'datasets'\n",
       "\\item 'methods'\n",
       "\\item 'base'\n",
       "\\end{enumerate*}\n",
       "\n",
       "\\end{enumerate}\n"
      ],
      "text/markdown": [
       "1. 1. 'openxlsx'\n",
       "2. 'stats'\n",
       "3. 'graphics'\n",
       "4. 'grDevices'\n",
       "5. 'utils'\n",
       "6. 'datasets'\n",
       "7. 'methods'\n",
       "8. 'base'\n",
       "\n",
       "\n",
       "\n",
       "2. 1. 'janitor'\n",
       "2. 'openxlsx'\n",
       "3. 'stats'\n",
       "4. 'graphics'\n",
       "5. 'grDevices'\n",
       "6. 'utils'\n",
       "7. 'datasets'\n",
       "8. 'methods'\n",
       "9. 'base'\n",
       "\n",
       "\n",
       "\n",
       "3. 1. 'lubridate'\n",
       "2. 'forcats'\n",
       "3. 'stringr'\n",
       "4. 'dplyr'\n",
       "5. 'purrr'\n",
       "6. 'readr'\n",
       "7. 'tidyr'\n",
       "8. 'tibble'\n",
       "9. 'ggplot2'\n",
       "10. 'tidyverse'\n",
       "11. 'janitor'\n",
       "12. 'openxlsx'\n",
       "13. 'stats'\n",
       "14. 'graphics'\n",
       "15. 'grDevices'\n",
       "16. 'utils'\n",
       "17. 'datasets'\n",
       "18. 'methods'\n",
       "19. 'base'\n",
       "\n",
       "\n",
       "\n",
       "\n",
       "\n"
      ],
      "text/plain": [
       "[[1]]\n",
       "[1] \"openxlsx\"  \"stats\"     \"graphics\"  \"grDevices\" \"utils\"     \"datasets\" \n",
       "[7] \"methods\"   \"base\"     \n",
       "\n",
       "[[2]]\n",
       "[1] \"janitor\"   \"openxlsx\"  \"stats\"     \"graphics\"  \"grDevices\" \"utils\"    \n",
       "[7] \"datasets\"  \"methods\"   \"base\"     \n",
       "\n",
       "[[3]]\n",
       " [1] \"lubridate\" \"forcats\"   \"stringr\"   \"dplyr\"     \"purrr\"     \"readr\"    \n",
       " [7] \"tidyr\"     \"tibble\"    \"ggplot2\"   \"tidyverse\" \"janitor\"   \"openxlsx\" \n",
       "[13] \"stats\"     \"graphics\"  \"grDevices\" \"utils\"     \"datasets\"  \"methods\"  \n",
       "[19] \"base\"     \n"
      ]
     },
     "metadata": {},
     "output_type": "display_data"
    }
   ],
   "source": [
    "rm(list = ls())\n",
    "libraries <- c(\"openxlsx\",\n",
    "               \"janitor\", \n",
    "               \"tidyverse\")\n",
    "\n",
    "installed_packages <- rownames(installed.packages())\n",
    "libraries_to_install <- setdiff(libraries, installed_packages)\n",
    "\n",
    "if (length(libraries_to_install) > 0) {\n",
    "  install.packages(libraries_to_install)\n",
    "}\n",
    "\n",
    "lapply(libraries, library, character.only = TRUE)"
   ]
  },
  {
   "cell_type": "code",
   "execution_count": 3,
   "id": "ce2f4a6f",
   "metadata": {
    "vscode": {
     "languageId": "r"
    }
   },
   "outputs": [
    {
     "data": {
      "text/html": [
       "TRUE"
      ],
      "text/latex": [
       "TRUE"
      ],
      "text/markdown": [
       "TRUE"
      ],
      "text/plain": [
       "[1] TRUE"
      ]
     },
     "metadata": {},
     "output_type": "display_data"
    }
   ],
   "source": [
    "# URL del archivo\n",
    "#Url de la base: \n",
    "url <- \"http://dgeiawf.semarnat.gob.mx:8080/ibi_apps/WFServlet?IBIF_ex=d3_agua02_01_R1&VL_FORMAT=EXL2K&IBIC_user=c24&IBIC_pass=c24\"\n",
    "temp_file <- tempfile(fileext = \".xls\")\n",
    "options(timeout = 800)\n",
    "download.file(url, temp_file, mode = \"wb\")\n",
    "file.rename(temp_file, \"ext_rec_acui.xls\")"
   ]
  },
  {
   "cell_type": "code",
   "execution_count": 9,
   "id": "3228b7e8",
   "metadata": {
    "vscode": {
     "languageId": "r"
    }
   },
   "outputs": [
    {
     "data": {
      "text/html": [
       "<table class=\"dataframe\">\n",
       "<caption>A tibble: 10 × 3</caption>\n",
       "<thead>\n",
       "\t<tr><th scope=col>ano</th><th scope=col>intensidad</th><th scope=col>tipo</th></tr>\n",
       "\t<tr><th scope=col>&lt;dbl&gt;</th><th scope=col>&lt;dbl&gt;</th><th scope=col>&lt;chr&gt;</th></tr>\n",
       "</thead>\n",
       "<tbody>\n",
       "\t<tr><td>2003</td><td>106.73312</td><td>Observado</td></tr>\n",
       "\t<tr><td>2005</td><td> 98.79854</td><td>Observado</td></tr>\n",
       "\t<tr><td>2007</td><td> 98.25698</td><td>Observado</td></tr>\n",
       "\t<tr><td>2009</td><td> 80.24756</td><td>Observado</td></tr>\n",
       "\t<tr><td>2011</td><td> 79.08343</td><td>Observado</td></tr>\n",
       "\t<tr><td>2013</td><td> 83.39841</td><td>Observado</td></tr>\n",
       "\t<tr><td>2015</td><td> 83.91984</td><td>Observado</td></tr>\n",
       "\t<tr><td>2017</td><td> 85.20615</td><td>Observado</td></tr>\n",
       "\t<tr><td>2019</td><td> 85.20615</td><td>Observado</td></tr>\n",
       "\t<tr><td>2023</td><td>101.79737</td><td>Observado</td></tr>\n",
       "</tbody>\n",
       "</table>\n"
      ],
      "text/latex": [
       "A tibble: 10 × 3\n",
       "\\begin{tabular}{lll}\n",
       " ano & intensidad & tipo\\\\\n",
       " <dbl> & <dbl> & <chr>\\\\\n",
       "\\hline\n",
       "\t 2003 & 106.73312 & Observado\\\\\n",
       "\t 2005 &  98.79854 & Observado\\\\\n",
       "\t 2007 &  98.25698 & Observado\\\\\n",
       "\t 2009 &  80.24756 & Observado\\\\\n",
       "\t 2011 &  79.08343 & Observado\\\\\n",
       "\t 2013 &  83.39841 & Observado\\\\\n",
       "\t 2015 &  83.91984 & Observado\\\\\n",
       "\t 2017 &  85.20615 & Observado\\\\\n",
       "\t 2019 &  85.20615 & Observado\\\\\n",
       "\t 2023 & 101.79737 & Observado\\\\\n",
       "\\end{tabular}\n"
      ],
      "text/markdown": [
       "\n",
       "A tibble: 10 × 3\n",
       "\n",
       "| ano &lt;dbl&gt; | intensidad &lt;dbl&gt; | tipo &lt;chr&gt; |\n",
       "|---|---|---|\n",
       "| 2003 | 106.73312 | Observado |\n",
       "| 2005 |  98.79854 | Observado |\n",
       "| 2007 |  98.25698 | Observado |\n",
       "| 2009 |  80.24756 | Observado |\n",
       "| 2011 |  79.08343 | Observado |\n",
       "| 2013 |  83.39841 | Observado |\n",
       "| 2015 |  83.91984 | Observado |\n",
       "| 2017 |  85.20615 | Observado |\n",
       "| 2019 |  85.20615 | Observado |\n",
       "| 2023 | 101.79737 | Observado |\n",
       "\n"
      ],
      "text/plain": [
       "   ano  intensidad tipo     \n",
       "1  2003 106.73312  Observado\n",
       "2  2005  98.79854  Observado\n",
       "3  2007  98.25698  Observado\n",
       "4  2009  80.24756  Observado\n",
       "5  2011  79.08343  Observado\n",
       "6  2013  83.39841  Observado\n",
       "7  2015  83.91984  Observado\n",
       "8  2017  85.20615  Observado\n",
       "9  2019  85.20615  Observado\n",
       "10 2023 101.79737  Observado"
      ]
     },
     "metadata": {},
     "output_type": "display_data"
    }
   ],
   "source": [
    "#CAMBIO DE ALMACENAMIENTO----\n",
    "#hectómetros cúbicos por año\n",
    "ext_rec_ac<- readxl::read_excel(\"ext_rec_acui.xls\", skip = 2)|>\n",
    "  #slice(1218:1236)|> #Seleccionando solamente la ciudad de méxico\n",
    "  slice(1294:1312) |>\n",
    "  janitor::clean_names()|>\n",
    "  filter(ano %in% c(2003,2005,2007,2009,2011,2013,2015,2017,2019,2021,2023))\n",
    "\n",
    "ext_rec_acui<-ext_rec_ac|>\n",
    "  mutate(intensidad = (volumen_de_extraccion/volumen_de_recarga)*100)|>\n",
    "  select(ano, intensidad)|>\n",
    "  mutate(tipo = \"Observado\",\n",
    "          ano = as.numeric(ano))\n",
    "\n",
    "ext_rec_acui\n"
   ]
  },
  {
   "cell_type": "code",
   "execution_count": 10,
   "id": "b3c462d7",
   "metadata": {
    "vscode": {
     "languageId": "r"
    }
   },
   "outputs": [],
   "source": [
    "ext_rec_acui_2023 <- ext_rec_acui |> filter(ano == 2023)\n",
    "ext_rec_acui_2003 <- ext_rec_acui |> filter(ano == 2003)"
   ]
  },
  {
   "cell_type": "code",
   "execution_count": 12,
   "id": "e8e19bb0",
   "metadata": {
    "vscode": {
     "languageId": "r"
    }
   },
   "outputs": [
    {
     "data": {
      "text/html": [
       "-0.00236456298265919"
      ],
      "text/latex": [
       "-0.00236456298265919"
      ],
      "text/markdown": [
       "-0.00236456298265919"
      ],
      "text/plain": [
       "[1] -0.002364563"
      ]
     },
     "metadata": {},
     "output_type": "display_data"
    },
    {
     "data": {
      "text/html": [
       "<table class=\"dataframe\">\n",
       "<caption>A tibble: 19 × 3</caption>\n",
       "<thead>\n",
       "\t<tr><th scope=col>ano</th><th scope=col>intensidad</th><th scope=col>tipo</th></tr>\n",
       "\t<tr><th scope=col>&lt;dbl&gt;</th><th scope=col>&lt;dbl&gt;</th><th scope=col>&lt;chr&gt;</th></tr>\n",
       "</thead>\n",
       "<tbody>\n",
       "\t<tr><td>2003</td><td>106.73312</td><td>Observado    </td></tr>\n",
       "\t<tr><td>2005</td><td> 98.79854</td><td>Observado    </td></tr>\n",
       "\t<tr><td>2007</td><td> 98.25698</td><td>Observado    </td></tr>\n",
       "\t<tr><td>2009</td><td> 80.24756</td><td>Observado    </td></tr>\n",
       "\t<tr><td>2011</td><td> 79.08343</td><td>Observado    </td></tr>\n",
       "\t<tr><td>2013</td><td> 83.39841</td><td>Observado    </td></tr>\n",
       "\t<tr><td>2015</td><td> 83.91984</td><td>Observado    </td></tr>\n",
       "\t<tr><td>2017</td><td> 85.20615</td><td>Observado    </td></tr>\n",
       "\t<tr><td>2019</td><td> 85.20615</td><td>Observado    </td></tr>\n",
       "\t<tr><td>2023</td><td>101.79737</td><td>Observado    </td></tr>\n",
       "\t<tr><td>2030</td><td>101.24000</td><td>Inercial     </td></tr>\n",
       "\t<tr><td>2035</td><td>100.84000</td><td>Inercial     </td></tr>\n",
       "\t<tr><td>2045</td><td>100.05000</td><td>Inercial     </td></tr>\n",
       "\t<tr><td>2030</td><td>102.64000</td><td>Deseable     </td></tr>\n",
       "\t<tr><td>2035</td><td>103.25000</td><td>Deseable     </td></tr>\n",
       "\t<tr><td>2045</td><td>104.48000</td><td>Deseable     </td></tr>\n",
       "\t<tr><td>2030</td><td>104.35000</td><td>Transformador</td></tr>\n",
       "\t<tr><td>2035</td><td>106.22000</td><td>Transformador</td></tr>\n",
       "\t<tr><td>2045</td><td>110.04000</td><td>Transformador</td></tr>\n",
       "</tbody>\n",
       "</table>\n"
      ],
      "text/latex": [
       "A tibble: 19 × 3\n",
       "\\begin{tabular}{lll}\n",
       " ano & intensidad & tipo\\\\\n",
       " <dbl> & <dbl> & <chr>\\\\\n",
       "\\hline\n",
       "\t 2003 & 106.73312 & Observado    \\\\\n",
       "\t 2005 &  98.79854 & Observado    \\\\\n",
       "\t 2007 &  98.25698 & Observado    \\\\\n",
       "\t 2009 &  80.24756 & Observado    \\\\\n",
       "\t 2011 &  79.08343 & Observado    \\\\\n",
       "\t 2013 &  83.39841 & Observado    \\\\\n",
       "\t 2015 &  83.91984 & Observado    \\\\\n",
       "\t 2017 &  85.20615 & Observado    \\\\\n",
       "\t 2019 &  85.20615 & Observado    \\\\\n",
       "\t 2023 & 101.79737 & Observado    \\\\\n",
       "\t 2030 & 101.24000 & Inercial     \\\\\n",
       "\t 2035 & 100.84000 & Inercial     \\\\\n",
       "\t 2045 & 100.05000 & Inercial     \\\\\n",
       "\t 2030 & 102.64000 & Deseable     \\\\\n",
       "\t 2035 & 103.25000 & Deseable     \\\\\n",
       "\t 2045 & 104.48000 & Deseable     \\\\\n",
       "\t 2030 & 104.35000 & Transformador\\\\\n",
       "\t 2035 & 106.22000 & Transformador\\\\\n",
       "\t 2045 & 110.04000 & Transformador\\\\\n",
       "\\end{tabular}\n"
      ],
      "text/markdown": [
       "\n",
       "A tibble: 19 × 3\n",
       "\n",
       "| ano &lt;dbl&gt; | intensidad &lt;dbl&gt; | tipo &lt;chr&gt; |\n",
       "|---|---|---|\n",
       "| 2003 | 106.73312 | Observado     |\n",
       "| 2005 |  98.79854 | Observado     |\n",
       "| 2007 |  98.25698 | Observado     |\n",
       "| 2009 |  80.24756 | Observado     |\n",
       "| 2011 |  79.08343 | Observado     |\n",
       "| 2013 |  83.39841 | Observado     |\n",
       "| 2015 |  83.91984 | Observado     |\n",
       "| 2017 |  85.20615 | Observado     |\n",
       "| 2019 |  85.20615 | Observado     |\n",
       "| 2023 | 101.79737 | Observado     |\n",
       "| 2030 | 101.24000 | Inercial      |\n",
       "| 2035 | 100.84000 | Inercial      |\n",
       "| 2045 | 100.05000 | Inercial      |\n",
       "| 2030 | 102.64000 | Deseable      |\n",
       "| 2035 | 103.25000 | Deseable      |\n",
       "| 2045 | 104.48000 | Deseable      |\n",
       "| 2030 | 104.35000 | Transformador |\n",
       "| 2035 | 106.22000 | Transformador |\n",
       "| 2045 | 110.04000 | Transformador |\n",
       "\n"
      ],
      "text/plain": [
       "   ano  intensidad tipo         \n",
       "1  2003 106.73312  Observado    \n",
       "2  2005  98.79854  Observado    \n",
       "3  2007  98.25698  Observado    \n",
       "4  2009  80.24756  Observado    \n",
       "5  2011  79.08343  Observado    \n",
       "6  2013  83.39841  Observado    \n",
       "7  2015  83.91984  Observado    \n",
       "8  2017  85.20615  Observado    \n",
       "9  2019  85.20615  Observado    \n",
       "10 2023 101.79737  Observado    \n",
       "11 2030 101.24000  Inercial     \n",
       "12 2035 100.84000  Inercial     \n",
       "13 2045 100.05000  Inercial     \n",
       "14 2030 102.64000  Deseable     \n",
       "15 2035 103.25000  Deseable     \n",
       "16 2045 104.48000  Deseable     \n",
       "17 2030 104.35000  Transformador\n",
       "18 2035 106.22000  Transformador\n",
       "19 2045 110.04000  Transformador"
      ]
     },
     "metadata": {},
     "output_type": "display_data"
    }
   ],
   "source": [
    "##ESCENARIOS TENDENCIALES 2030,2035,2045\n",
    "# Tasa de variación\n",
    "tcma<-((ext_rec_acui_2023$intensidad /ext_rec_acui_2003$intensidad)^(1/(2023-2003)) - 1) \n",
    "tcma\n",
    "\n",
    "intensidad_base <- ext_rec_acui |>\n",
    "  filter(ano == 2023) |>\n",
    "  pull(intensidad)\n",
    "\n",
    "# Años a proyectar\n",
    "años <- c(2030, 2035, 2045)\n",
    "año_base <- 2023\n",
    "\n",
    "tendencia_base <- data.frame(ano = años,\n",
    "                             intensidad = round(intensidad_base * (1 + 1/3*tcma ) ^ (años - año_base), 2),\n",
    "                             tipo = \"Inercial\")\n",
    "\n",
    "\n",
    "tendecia_deseable<-data.frame(ano = años,\n",
    "                              intensidad = round(intensidad_base * (1 + -1/2*tcma) ^ (años - año_base), 2),\n",
    "                              tipo = \"Deseable\")\n",
    "\n",
    "\n",
    "tendecia_transformadora <-data.frame(ano = años,\n",
    "                                     intensidad = round(intensidad_base * (1 + tcma*-1.5) ^ (años - año_base), 2),\n",
    "                                     tipo = \"Transformador\")\n",
    "\n",
    "\n",
    "intensidad_tendencias <- ext_rec_acui|>\n",
    "  bind_rows(tendencia_base,tendecia_deseable, \n",
    "            tendecia_transformadora)|>\n",
    "  select(ano, intensidad, tipo)\n",
    "\n",
    "intensidad_tendencias"
   ]
  },
  {
   "cell_type": "code",
   "execution_count": 13,
   "id": "83983bc4",
   "metadata": {
    "vscode": {
     "languageId": "r"
    }
   },
   "outputs": [],
   "source": [
    "lineas <- bind_rows(data.frame(ano = c(2023, 2030),\n",
    "                               intensidad = c(intensidad_tendencias$intensidad[intensidad_tendencias$ano == 2023 & intensidad_tendencias$tipo == \"Observado\"],\n",
    "                                              intensidad_tendencias$intensidad[intensidad_tendencias$ano == 2030 & intensidad_tendencias$tipo == \"Inercial\"]),\n",
    "                               tipo = \"Inercial\"),\n",
    "                    data.frame(ano = c(2023, 2030),\n",
    "                               intensidad = c(intensidad_tendencias$intensidad[intensidad_tendencias$ano == 2023 & intensidad_tendencias$tipo == \"Observado\"], \n",
    "                                              intensidad_tendencias$intensidad[intensidad_tendencias$ano == 2030 & intensidad_tendencias$tipo == \"Deseable\"]),\n",
    "                               tipo = \"Deseable\"), \n",
    "                    data.frame(ano = c(2023, 2030),\n",
    "                               intensidad = c(intensidad_tendencias$intensidad[intensidad_tendencias$ano == 2023 & intensidad_tendencias$tipo == \"Observado\"], \n",
    "                                              intensidad_tendencias$intensidad[intensidad_tendencias$ano == 2030 & intensidad_tendencias$tipo == \"Transformador\"]),\n",
    "                               tipo = \"Transformador\"))\n",
    "\n",
    "\n",
    "paleta_colores <- c(\"Observado\" = \"#9F2241\",\n",
    "                    \"Inercial\" = \"#cfcfcf\" ,\n",
    "                    \"Deseable\" = \"#027A35\", \n",
    "                    \"Transformador\" = \"#AC6D14\")\n",
    "\n",
    "linetypes <- c(\"Observado\" = \"solid\",\n",
    "               \"Inercial\" = \"dotdash\",\n",
    "               \"Deseable\" = \"dotdash\", \n",
    "               \"Transformador\" = \"dotdash\")"
   ]
  },
  {
   "cell_type": "code",
   "execution_count": 14,
   "id": "d035ac06",
   "metadata": {
    "vscode": {
     "languageId": "r"
    }
   },
   "outputs": [
    {
     "data": {
      "image/png": "[encoded data removed]",
      "text/plain": [
       "plot without title"
      ]
     },
     "metadata": {
      "image/png": {
       "height": 420,
       "width": 420
      }
     },
     "output_type": "display_data"
    }
   ],
   "source": [
    "# Gráfico con etiquetas y eje Y personalizado\n",
    "ggplot(intensidad_tendencias, aes(x = ano, y = intensidad, group = tipo, color = tipo, linetype = tipo)) +\n",
    "  geom_line(linewidth = 1.2) +\n",
    "  geom_point(size = 1.5) +\n",
    "  geom_line(data = lineas, aes(x = ano, y = intensidad, group = tipo), linewidth = 1.2) +\n",
    "  geom_text(aes(label = round(intensidad, 1)),\n",
    "            position = position_nudge(y = 1),\n",
    "            size = 5, show.legend = FALSE) +\n",
    "  scale_color_manual(values = paleta_colores) +\n",
    "  scale_linetype_manual(values = linetypes) +\n",
    "  scale_y_continuous(breaks = seq(0, max(intensidad_tendencias$intensidad, na.rm = TRUE) + 150, by = 10),\n",
    "                     labels = function(x) paste0(x, \"%\"),\n",
    "                     expand = expansion(mult = c(0.5,1))) +\n",
    "  labs(title = \"\",\n",
    "       x = \"Año\",\n",
    "       y = \"Intensidad\",\n",
    "       color = \"\",\n",
    "       linetype = \"\") +\n",
    "  theme_bw(base_size = 15) +\n",
    "  theme( panel.grid.minor.y = element_line(color = \"gray80\", linetype = \"dotted\"),\n",
    "         panel.grid.minor.x = element_blank(),\n",
    "         panel.grid.major.y = element_blank(),\n",
    "         panel.border = element_blank(),\n",
    "         axis.line = element_line(color = \"gray80\"),\n",
    "         legend.position = \"top\",\n",
    "         plot.caption = element_text(hjust = 010))\n",
    "\n",
    "\n",
    "\n",
    "ggsave(\"Intensidad de uso del agua subterranea.png\", width = 8, height = 5, dpi = 300)"
   ]
  }
 ],
 "metadata": {
  "kernelspec": {
   "display_name": "R",
   "language": "R",
   "name": "ir"
  },
  "language_info": {
   "codemirror_mode": "r",
   "file_extension": ".r",
   "mimetype": "text/x-r-source",
   "name": "R",
   "pygments_lexer": "r",
   "version": "4.4.3"
  }
 },
 "nbformat": 4,
 "nbformat_minor": 5
}
