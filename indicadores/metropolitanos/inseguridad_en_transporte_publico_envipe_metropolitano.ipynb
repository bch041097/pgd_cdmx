{
 "cells": [
  {
   "cell_type": "markdown",
   "id": "232cdce3",
   "metadata": {},
   "source": [
    "**Porcentaje de población de la ZM Ciudad de México que se siente inseguro en el transporte público**"
   ]
  },
  {
   "cell_type": "code",
   "execution_count": 1,
   "id": "e6cbe703",
   "metadata": {
    "vscode": {
     "languageId": "r"
    }
   },
   "outputs": [
    {
     "name": "stderr",
     "output_type": "stream",
     "text": [
      "── \u001b[1mAttaching core tidyverse packages\u001b[22m ──────────────────────── tidyverse 2.0.0 ──\n",
      "\u001b[32m✔\u001b[39m \u001b[34mdplyr    \u001b[39m 1.1.4     \u001b[32m✔\u001b[39m \u001b[34mreadr    \u001b[39m 2.1.5\n",
      "\u001b[32m✔\u001b[39m \u001b[34mforcats  \u001b[39m 1.0.0     \u001b[32m✔\u001b[39m \u001b[34mstringr  \u001b[39m 1.5.1\n",
      "\u001b[32m✔\u001b[39m \u001b[34mggplot2  \u001b[39m 3.5.1     \u001b[32m✔\u001b[39m \u001b[34mtibble   \u001b[39m 3.2.1\n",
      "\u001b[32m✔\u001b[39m \u001b[34mlubridate\u001b[39m 1.9.4     \u001b[32m✔\u001b[39m \u001b[34mtidyr    \u001b[39m 1.3.1\n",
      "\u001b[32m✔\u001b[39m \u001b[34mpurrr    \u001b[39m 1.0.4     \n",
      "── \u001b[1mConflicts\u001b[22m ────────────────────────────────────────── tidyverse_conflicts() ──\n",
      "\u001b[31m✖\u001b[39m \u001b[34mdplyr\u001b[39m::\u001b[32mfilter()\u001b[39m masks \u001b[34mstats\u001b[39m::filter()\n",
      "\u001b[31m✖\u001b[39m \u001b[34mdplyr\u001b[39m::\u001b[32mlag()\u001b[39m    masks \u001b[34mstats\u001b[39m::lag()\n",
      "\u001b[36mℹ\u001b[39m Use the conflicted package (\u001b[3m\u001b[34m<http://conflicted.r-lib.org/>\u001b[39m\u001b[23m) to force all conflicts to become errors\n",
      "\n",
      "Adjuntando el paquete: 'srvyr'\n",
      "\n",
      "\n",
      "The following object is masked from 'package:stats':\n",
      "\n",
      "    filter\n",
      "\n",
      "\n"
     ]
    },
    {
     "data": {
      "text/html": [
       "<ol>\n",
       "\t<li><style>\n",
       ".list-inline {list-style: none; margin:0; padding: 0}\n",
       ".list-inline>li {display: inline-block}\n",
       ".list-inline>li:not(:last-child)::after {content: \"\\00b7\"; padding: 0 .5ex}\n",
       "</style>\n",
       "<ol class=list-inline><li>'lubridate'</li><li>'forcats'</li><li>'stringr'</li><li>'dplyr'</li><li>'purrr'</li><li>'readr'</li><li>'tidyr'</li><li>'tibble'</li><li>'ggplot2'</li><li>'tidyverse'</li><li>'stats'</li><li>'graphics'</li><li>'grDevices'</li><li>'utils'</li><li>'datasets'</li><li>'methods'</li><li>'base'</li></ol>\n",
       "</li>\n",
       "\t<li><style>\n",
       ".list-inline {list-style: none; margin:0; padding: 0}\n",
       ".list-inline>li {display: inline-block}\n",
       ".list-inline>li:not(:last-child)::after {content: \"\\00b7\"; padding: 0 .5ex}\n",
       "</style>\n",
       "<ol class=list-inline><li>'srvyr'</li><li>'lubridate'</li><li>'forcats'</li><li>'stringr'</li><li>'dplyr'</li><li>'purrr'</li><li>'readr'</li><li>'tidyr'</li><li>'tibble'</li><li>'ggplot2'</li><li>'tidyverse'</li><li>'stats'</li><li>'graphics'</li><li>'grDevices'</li><li>'utils'</li><li>'datasets'</li><li>'methods'</li><li>'base'</li></ol>\n",
       "</li>\n",
       "\t<li><style>\n",
       ".list-inline {list-style: none; margin:0; padding: 0}\n",
       ".list-inline>li {display: inline-block}\n",
       ".list-inline>li:not(:last-child)::after {content: \"\\00b7\"; padding: 0 .5ex}\n",
       "</style>\n",
       "<ol class=list-inline><li>'srvyr'</li><li>'lubridate'</li><li>'forcats'</li><li>'stringr'</li><li>'dplyr'</li><li>'purrr'</li><li>'readr'</li><li>'tidyr'</li><li>'tibble'</li><li>'ggplot2'</li><li>'tidyverse'</li><li>'stats'</li><li>'graphics'</li><li>'grDevices'</li><li>'utils'</li><li>'datasets'</li><li>'methods'</li><li>'base'</li></ol>\n",
       "</li>\n",
       "</ol>\n"
      ],
      "text/latex": [
       "\\begin{enumerate}\n",
       "\\item \\begin{enumerate*}\n",
       "\\item 'lubridate'\n",
       "\\item 'forcats'\n",
       "\\item 'stringr'\n",
       "\\item 'dplyr'\n",
       "\\item 'purrr'\n",
       "\\item 'readr'\n",
       "\\item 'tidyr'\n",
       "\\item 'tibble'\n",
       "\\item 'ggplot2'\n",
       "\\item 'tidyverse'\n",
       "\\item 'stats'\n",
       "\\item 'graphics'\n",
       "\\item 'grDevices'\n",
       "\\item 'utils'\n",
       "\\item 'datasets'\n",
       "\\item 'methods'\n",
       "\\item 'base'\n",
       "\\end{enumerate*}\n",
       "\n",
       "\\item \\begin{enumerate*}\n",
       "\\item 'srvyr'\n",
       "\\item 'lubridate'\n",
       "\\item 'forcats'\n",
       "\\item 'stringr'\n",
       "\\item 'dplyr'\n",
       "\\item 'purrr'\n",
       "\\item 'readr'\n",
       "\\item 'tidyr'\n",
       "\\item 'tibble'\n",
       "\\item 'ggplot2'\n",
       "\\item 'tidyverse'\n",
       "\\item 'stats'\n",
       "\\item 'graphics'\n",
       "\\item 'grDevices'\n",
       "\\item 'utils'\n",
       "\\item 'datasets'\n",
       "\\item 'methods'\n",
       "\\item 'base'\n",
       "\\end{enumerate*}\n",
       "\n",
       "\\item \\begin{enumerate*}\n",
       "\\item 'srvyr'\n",
       "\\item 'lubridate'\n",
       "\\item 'forcats'\n",
       "\\item 'stringr'\n",
       "\\item 'dplyr'\n",
       "\\item 'purrr'\n",
       "\\item 'readr'\n",
       "\\item 'tidyr'\n",
       "\\item 'tibble'\n",
       "\\item 'ggplot2'\n",
       "\\item 'tidyverse'\n",
       "\\item 'stats'\n",
       "\\item 'graphics'\n",
       "\\item 'grDevices'\n",
       "\\item 'utils'\n",
       "\\item 'datasets'\n",
       "\\item 'methods'\n",
       "\\item 'base'\n",
       "\\end{enumerate*}\n",
       "\n",
       "\\end{enumerate}\n"
      ],
      "text/markdown": [
       "1. 1. 'lubridate'\n",
       "2. 'forcats'\n",
       "3. 'stringr'\n",
       "4. 'dplyr'\n",
       "5. 'purrr'\n",
       "6. 'readr'\n",
       "7. 'tidyr'\n",
       "8. 'tibble'\n",
       "9. 'ggplot2'\n",
       "10. 'tidyverse'\n",
       "11. 'stats'\n",
       "12. 'graphics'\n",
       "13. 'grDevices'\n",
       "14. 'utils'\n",
       "15. 'datasets'\n",
       "16. 'methods'\n",
       "17. 'base'\n",
       "\n",
       "\n",
       "\n",
       "2. 1. 'srvyr'\n",
       "2. 'lubridate'\n",
       "3. 'forcats'\n",
       "4. 'stringr'\n",
       "5. 'dplyr'\n",
       "6. 'purrr'\n",
       "7. 'readr'\n",
       "8. 'tidyr'\n",
       "9. 'tibble'\n",
       "10. 'ggplot2'\n",
       "11. 'tidyverse'\n",
       "12. 'stats'\n",
       "13. 'graphics'\n",
       "14. 'grDevices'\n",
       "15. 'utils'\n",
       "16. 'datasets'\n",
       "17. 'methods'\n",
       "18. 'base'\n",
       "\n",
       "\n",
       "\n",
       "3. 1. 'srvyr'\n",
       "2. 'lubridate'\n",
       "3. 'forcats'\n",
       "4. 'stringr'\n",
       "5. 'dplyr'\n",
       "6. 'purrr'\n",
       "7. 'readr'\n",
       "8. 'tidyr'\n",
       "9. 'tibble'\n",
       "10. 'ggplot2'\n",
       "11. 'tidyverse'\n",
       "12. 'stats'\n",
       "13. 'graphics'\n",
       "14. 'grDevices'\n",
       "15. 'utils'\n",
       "16. 'datasets'\n",
       "17. 'methods'\n",
       "18. 'base'\n",
       "\n",
       "\n",
       "\n",
       "\n",
       "\n"
      ],
      "text/plain": [
       "[[1]]\n",
       " [1] \"lubridate\" \"forcats\"   \"stringr\"   \"dplyr\"     \"purrr\"     \"readr\"    \n",
       " [7] \"tidyr\"     \"tibble\"    \"ggplot2\"   \"tidyverse\" \"stats\"     \"graphics\" \n",
       "[13] \"grDevices\" \"utils\"     \"datasets\"  \"methods\"   \"base\"     \n",
       "\n",
       "[[2]]\n",
       " [1] \"srvyr\"     \"lubridate\" \"forcats\"   \"stringr\"   \"dplyr\"     \"purrr\"    \n",
       " [7] \"readr\"     \"tidyr\"     \"tibble\"    \"ggplot2\"   \"tidyverse\" \"stats\"    \n",
       "[13] \"graphics\"  \"grDevices\" \"utils\"     \"datasets\"  \"methods\"   \"base\"     \n",
       "\n",
       "[[3]]\n",
       " [1] \"srvyr\"     \"lubridate\" \"forcats\"   \"stringr\"   \"dplyr\"     \"purrr\"    \n",
       " [7] \"readr\"     \"tidyr\"     \"tibble\"    \"ggplot2\"   \"tidyverse\" \"stats\"    \n",
       "[13] \"graphics\"  \"grDevices\" \"utils\"     \"datasets\"  \"methods\"   \"base\"     \n"
      ]
     },
     "metadata": {},
     "output_type": "display_data"
    }
   ],
   "source": [
    "rm(list = ls())\n",
    "\n",
    "#Carga de librerias\n",
    "libraries <- c(\"tidyverse\",\n",
    "               \"srvyr\", \n",
    "               \"ggplot2\")\n",
    "\n",
    "installed_packages <- rownames(installed.packages())\n",
    "libraries_to_install <- setdiff(libraries, installed_packages)\n",
    "\n",
    "if (length(libraries_to_install) > 0) {\n",
    "  install.packages(libraries_to_install)\n",
    "}\n",
    "\n",
    "lapply(libraries, library, character.only = TRUE)"
   ]
  },
  {
   "cell_type": "code",
   "execution_count": 2,
   "id": "699a64cf",
   "metadata": {
    "vscode": {
     "languageId": "r"
    }
   },
   "outputs": [],
   "source": [
    "#Leeer tabla de victimas\n",
    "leer_envipe_vic <- function(anio){\n",
    "  # Lista de URLs por año\n",
    "  urls <- list(\n",
    "    \"2016\" = \"https://www.inegi.org.mx/contenidos/programas/envipe/2016/microdatos/bd_envipe2016_dbf.zip\",\n",
    "    \"2017\" = \"https://www.inegi.org.mx/contenidos/programas/envipe/2017/microdatos/bd_envipe2017_dbf.zip\",\n",
    "    \"2018\" = \"https://www.inegi.org.mx/contenidos/programas/envipe/2018/microdatos/bd_envipe2018_dbf.zip\",\n",
    "    \"2019\" = \"https://www.inegi.org.mx/contenidos/programas/envipe/2019/microdatos/bd_envipe2019_dbf.zip\",\n",
    "    \"2020\" = \"https://www.inegi.org.mx/contenidos/programas/envipe/2020/microdatos/bd_envipe_2020_dbf.zip\",\n",
    "    \"2021\" = \"https://www.inegi.org.mx/contenidos/programas/envipe/2021/microdatos/bd_envipe_2021_dbf.zip\", \n",
    "    \"2022\" = \"https://www.inegi.org.mx/contenidos/programas/envipe/2022/microdatos/bd_envipe_2022_dbf.zip\", \n",
    "    \"2023\" = \"https://www.inegi.org.mx/contenidos/programas/envipe/2023/microdatos/bd_envipe_2023_dbf.zip\", \n",
    "    \"2024\" = \"https://www.inegi.org.mx/contenidos/programas/envipe/2024/microdatos/bd_envipe_2024_dbf.zip\")\n",
    "  \n",
    "  temp_zip <- tempfile(fileext = \".zip\")\n",
    "  temp_dir <- tempdir()\n",
    "  options(timeout = 800)\n",
    "  download.file(urls[[as.character(anio)]], temp_zip, mode = \"wb\")\n",
    "  unzip(temp_zip, exdir = temp_dir)\n",
    "\n",
    "  envipe_datos <- list.files(temp_dir, pattern = \"TPer_Vic1.dbf\", \n",
    "                             full.names = TRUE, recursive = TRUE)\n",
    "\n",
    "  \n",
    "  datos <- foreign::read.dbf(envipe_datos)\n",
    "  \n",
    "  unlink(temp_zip)\n",
    "  unlink(list.files(temp_dir, full.names = TRUE), recursive = TRUE)\n",
    "  \n",
    "  return(datos)\n",
    "}"
   ]
  },
  {
   "cell_type": "code",
   "execution_count": 3,
   "id": "73abafab",
   "metadata": {
    "vscode": {
     "languageId": "r"
    }
   },
   "outputs": [],
   "source": [
    "#Crear variables para la población que ha respondido la pregunta\n",
    "creacion_de_variable <- function(anio) {\n",
    "  \n",
    "  objeto_datos <- get(paste0(\"tpv\", anio))\n",
    "  \n",
    "  mutate(objeto_datos, \n",
    "         POB = ifelse(!FAC_ELE_AM %in% \"0\",1,0), \n",
    "         se_t_publico = ifelse(AP4_4_09 %in% c(\"1\",\"2\"), \"población con respuesta\",\"sin respuesta\"))|>\n",
    "    filter(se_t_publico == \"población con respuesta\")|>\n",
    "    mutate(inse_t_publico = ifelse(se_t_publico == \"población con respuesta\" & AP4_4_09 == \"2\", \"Se siente inseguro\", \"No se siente inseguro\"), \n",
    "         FAC_ELE_AM= as.numeric(FAC_ELE_AM))  \n",
    "}"
   ]
  },
  {
   "cell_type": "code",
   "execution_count": 4,
   "id": "dd9c32b7",
   "metadata": {
    "vscode": {
     "languageId": "r"
    }
   },
   "outputs": [],
   "source": [
    "#Función para definir el diseño muestral\n",
    "diseño_muestral <- function(anio) {\n",
    "  \n",
    "  objeto_datos <- get(paste0(\"tpv_\", anio))\n",
    "  \n",
    "  as_survey_design(objeto_datos,\n",
    "                   strata = EST_DIS,\n",
    "                   weights = FAC_ELE_AM,\n",
    "                   ids = UPM_DIS,\n",
    "                   nest = TRUE)\n",
    "}"
   ]
  },
  {
   "cell_type": "code",
   "execution_count": 5,
   "id": "8aa0fc2b",
   "metadata": {
    "vscode": {
     "languageId": "r"
    }
   },
   "outputs": [],
   "source": [
    "#Obtener porcentajes y totales con coeficiente de variación\n",
    "resultados_inseguridad <- function(anio) {\n",
    "  datos <- get(paste0(\"inseg_tp_\", anio))\n",
    "  \n",
    "  datos_dm <- datos |>\n",
    "    group_by(inse_t_publico) |>\n",
    "    summarise(tot_p_inseg_tp = survey_total(vartype = \"cv\"),\n",
    "              porcentaje = survey_prop(vartype = \"cv\") * 100)|>\n",
    "    filter(inse_t_publico == \"Se siente inseguro\")|>\n",
    "    select(inse_t_publico, porcentaje, porcentaje_cv)|>\n",
    "    mutate(ano = anio)\n",
    "  \n",
    "  return(datos_dm)\n",
    "}"
   ]
  },
  {
   "cell_type": "code",
   "execution_count": 6,
   "id": "2a2cd292",
   "metadata": {
    "vscode": {
     "languageId": "r"
    }
   },
   "outputs": [],
   "source": [
    "#Leer datos del la ENVIPE\n",
    "tpv2016 <- leer_envipe_vic(2016) |>  \n",
    "  filter(AREAM == \"01\")\n",
    "tpv2017 <- leer_envipe_vic(2017) |>  \n",
    "  filter(AREAM == \"01\")\n",
    "tpv2018 <- leer_envipe_vic(2018) |>  \n",
    "  filter(AREAM == \"01\")\n",
    "tpv2019 <- leer_envipe_vic(2019) |>  \n",
    "  filter(AREAM == \"01\")\n",
    "tpv2020 <- leer_envipe_vic(2020) |>  \n",
    "  filter(AREAM == \"01\")\n",
    "tpv2021 <- leer_envipe_vic(2021) |>  \n",
    "  filter(AREAM == \"01\")\n",
    "tpv2022 <- leer_envipe_vic(2022) |>  \n",
    "  filter(AREAM == \"01\")\n",
    "tpv2023 <- leer_envipe_vic(2023) |>  \n",
    "  filter(AREAM == \"01\")\n",
    "tpv2024 <- leer_envipe_vic(2024) |>  \n",
    "  filter(AREAM == \"01\")"
   ]
  },
  {
   "cell_type": "code",
   "execution_count": 7,
   "id": "be413bff",
   "metadata": {
    "vscode": {
     "languageId": "r"
    }
   },
   "outputs": [],
   "source": [
    "#Creación de variable para cada año\n",
    "tpv_2016<-creacion_de_variable(2016)\n",
    "tpv_2017<-creacion_de_variable(2017)\n",
    "tpv_2018<-creacion_de_variable(2018)\n",
    "tpv_2019<-creacion_de_variable(2019)\n",
    "tpv_2020<-creacion_de_variable(2020)\n",
    "tpv_2021<-creacion_de_variable(2021)\n",
    "tpv_2022<-creacion_de_variable(2022)\n",
    "tpv_2023<-creacion_de_variable(2023)\n",
    "tpv_2024<-creacion_de_variable(2024)"
   ]
  },
  {
   "cell_type": "code",
   "execution_count": 8,
   "id": "a7b3069b",
   "metadata": {
    "vscode": {
     "languageId": "r"
    }
   },
   "outputs": [],
   "source": [
    "#Aplicar el diseño muestral para todos los años\n",
    "inseg_tp_2016 <-diseño_muestral(2016)\n",
    "inseg_tp_2017 <-diseño_muestral(2017)\n",
    "inseg_tp_2018 <-diseño_muestral(2018)\n",
    "inseg_tp_2019 <-diseño_muestral(2019)\n",
    "inseg_tp_2020 <-diseño_muestral(2020)\n",
    "inseg_tp_2021 <-diseño_muestral(2021)\n",
    "inseg_tp_2022 <-diseño_muestral(2022)\n",
    "inseg_tp_2023 <-diseño_muestral(2023)\n",
    "inseg_tp_2024 <-diseño_muestral(2024)"
   ]
  },
  {
   "cell_type": "code",
   "execution_count": 9,
   "id": "c5f6e7e3",
   "metadata": {
    "vscode": {
     "languageId": "r"
    }
   },
   "outputs": [],
   "source": [
    "p_inseg_tp_2016 <- resultados_inseguridad(2016)\n",
    "p_inseg_tp_2017 <- resultados_inseguridad(2017)\n",
    "p_inseg_tp_2018 <- resultados_inseguridad(2018)\n",
    "p_inseg_tp_2019 <- resultados_inseguridad(2019)\n",
    "p_inseg_tp_2020 <- resultados_inseguridad(2020)\n",
    "p_inseg_tp_2021 <- resultados_inseguridad(2021)\n",
    "p_inseg_tp_2022 <- resultados_inseguridad(2022)\n",
    "p_inseg_tp_2023 <- resultados_inseguridad(2023)\n",
    "p_inseg_tp_2024 <- resultados_inseguridad(2024)"
   ]
  },
  {
   "cell_type": "code",
   "execution_count": 11,
   "id": "89ad3b68",
   "metadata": {
    "vscode": {
     "languageId": "r"
    }
   },
   "outputs": [
    {
     "data": {
      "text/html": [
       "<table class=\"dataframe\">\n",
       "<caption>A tibble: 9 × 4</caption>\n",
       "<thead>\n",
       "\t<tr><th scope=col>inse_t_publico</th><th scope=col>porcentaje</th><th scope=col>porcentaje_cv</th><th scope=col>ano</th></tr>\n",
       "\t<tr><th scope=col>&lt;chr&gt;</th><th scope=col>&lt;dbl&gt;</th><th scope=col>&lt;dbl&gt;</th><th scope=col>&lt;dbl&gt;</th></tr>\n",
       "</thead>\n",
       "<tbody>\n",
       "\t<tr><td>Se siente inseguro</td><td>91.06742</td><td>0.6094179</td><td>2016</td></tr>\n",
       "\t<tr><td>Se siente inseguro</td><td>92.76090</td><td>0.3820245</td><td>2017</td></tr>\n",
       "\t<tr><td>Se siente inseguro</td><td>92.38835</td><td>0.3965878</td><td>2018</td></tr>\n",
       "\t<tr><td>Se siente inseguro</td><td>92.87982</td><td>0.3883157</td><td>2019</td></tr>\n",
       "\t<tr><td>Se siente inseguro</td><td>90.23521</td><td>0.4751848</td><td>2020</td></tr>\n",
       "\t<tr><td>Se siente inseguro</td><td>90.54454</td><td>0.5478445</td><td>2021</td></tr>\n",
       "\t<tr><td>Se siente inseguro</td><td>90.29368</td><td>0.5257166</td><td>2022</td></tr>\n",
       "\t<tr><td>Se siente inseguro</td><td>85.93862</td><td>0.6127660</td><td>2023</td></tr>\n",
       "\t<tr><td>Se siente inseguro</td><td>82.23606</td><td>0.6592955</td><td>2024</td></tr>\n",
       "</tbody>\n",
       "</table>\n"
      ],
      "text/latex": [
       "A tibble: 9 × 4\n",
       "\\begin{tabular}{llll}\n",
       " inse\\_t\\_publico & porcentaje & porcentaje\\_cv & ano\\\\\n",
       " <chr> & <dbl> & <dbl> & <dbl>\\\\\n",
       "\\hline\n",
       "\t Se siente inseguro & 91.06742 & 0.6094179 & 2016\\\\\n",
       "\t Se siente inseguro & 92.76090 & 0.3820245 & 2017\\\\\n",
       "\t Se siente inseguro & 92.38835 & 0.3965878 & 2018\\\\\n",
       "\t Se siente inseguro & 92.87982 & 0.3883157 & 2019\\\\\n",
       "\t Se siente inseguro & 90.23521 & 0.4751848 & 2020\\\\\n",
       "\t Se siente inseguro & 90.54454 & 0.5478445 & 2021\\\\\n",
       "\t Se siente inseguro & 90.29368 & 0.5257166 & 2022\\\\\n",
       "\t Se siente inseguro & 85.93862 & 0.6127660 & 2023\\\\\n",
       "\t Se siente inseguro & 82.23606 & 0.6592955 & 2024\\\\\n",
       "\\end{tabular}\n"
      ],
      "text/markdown": [
       "\n",
       "A tibble: 9 × 4\n",
       "\n",
       "| inse_t_publico &lt;chr&gt; | porcentaje &lt;dbl&gt; | porcentaje_cv &lt;dbl&gt; | ano &lt;dbl&gt; |\n",
       "|---|---|---|---|\n",
       "| Se siente inseguro | 91.06742 | 0.6094179 | 2016 |\n",
       "| Se siente inseguro | 92.76090 | 0.3820245 | 2017 |\n",
       "| Se siente inseguro | 92.38835 | 0.3965878 | 2018 |\n",
       "| Se siente inseguro | 92.87982 | 0.3883157 | 2019 |\n",
       "| Se siente inseguro | 90.23521 | 0.4751848 | 2020 |\n",
       "| Se siente inseguro | 90.54454 | 0.5478445 | 2021 |\n",
       "| Se siente inseguro | 90.29368 | 0.5257166 | 2022 |\n",
       "| Se siente inseguro | 85.93862 | 0.6127660 | 2023 |\n",
       "| Se siente inseguro | 82.23606 | 0.6592955 | 2024 |\n",
       "\n"
      ],
      "text/plain": [
       "  inse_t_publico     porcentaje porcentaje_cv ano \n",
       "1 Se siente inseguro 91.06742   0.6094179     2016\n",
       "2 Se siente inseguro 92.76090   0.3820245     2017\n",
       "3 Se siente inseguro 92.38835   0.3965878     2018\n",
       "4 Se siente inseguro 92.87982   0.3883157     2019\n",
       "5 Se siente inseguro 90.23521   0.4751848     2020\n",
       "6 Se siente inseguro 90.54454   0.5478445     2021\n",
       "7 Se siente inseguro 90.29368   0.5257166     2022\n",
       "8 Se siente inseguro 85.93862   0.6127660     2023\n",
       "9 Se siente inseguro 82.23606   0.6592955     2024"
      ]
     },
     "metadata": {},
     "output_type": "display_data"
    }
   ],
   "source": [
    "inseguridad_transporte_publico <-p_inseg_tp_2016|>\n",
    "  bind_rows(p_inseg_tp_2017, \n",
    "            p_inseg_tp_2018, \n",
    "            p_inseg_tp_2019, \n",
    "            p_inseg_tp_2020, \n",
    "            p_inseg_tp_2021,\n",
    "            p_inseg_tp_2022, \n",
    "            p_inseg_tp_2023, \n",
    "            p_inseg_tp_2024)\n",
    "            \n",
    "            \n",
    " inseguridad_transporte_publico\n",
    "\n",
    "inseguridad_transporte_publico<-inseguridad_transporte_publico|>\n",
    "  select(porcentaje, ano)|>\n",
    "  mutate(tipo = \"Observado\")\n",
    "\n",
    "\n",
    "inseguridad_transporte_publico_2024 <- inseguridad_transporte_publico |> filter(ano == 2024)\n",
    "inseguridad_transporte_publico_2016 <- inseguridad_transporte_publico |> filter(ano == 2016)\n"
   ]
  },
  {
   "cell_type": "code",
   "execution_count": null,
   "id": "7461a634",
   "metadata": {
    "vscode": {
     "languageId": "r"
    }
   },
   "outputs": [
    {
     "data": {
      "text/html": [
       "-0.0126698342506949"
      ],
      "text/latex": [
       "-0.0126698342506949"
      ],
      "text/markdown": [
       "-0.0126698342506949"
      ],
      "text/plain": [
       "[1] -0.01266983"
      ]
     },
     "metadata": {},
     "output_type": "display_data"
    },
    {
     "data": {
      "text/html": [
       "82.2360586240528"
      ],
      "text/latex": [
       "82.2360586240528"
      ],
      "text/markdown": [
       "82.2360586240528"
      ],
      "text/plain": [
       "[1] 82.23606"
      ]
     },
     "metadata": {},
     "output_type": "display_data"
    },
    {
     "data": {
      "text/html": [
       "<table class=\"dataframe\">\n",
       "<caption>A tibble: 18 × 3</caption>\n",
       "<thead>\n",
       "\t<tr><th scope=col>ano</th><th scope=col>porcentaje</th><th scope=col>tipo</th></tr>\n",
       "\t<tr><th scope=col>&lt;dbl&gt;</th><th scope=col>&lt;dbl&gt;</th><th scope=col>&lt;chr&gt;</th></tr>\n",
       "</thead>\n",
       "<tbody>\n",
       "\t<tr><td>2016</td><td>91.06742</td><td>Observado    </td></tr>\n",
       "\t<tr><td>2017</td><td>92.76090</td><td>Observado    </td></tr>\n",
       "\t<tr><td>2018</td><td>92.38835</td><td>Observado    </td></tr>\n",
       "\t<tr><td>2019</td><td>92.87982</td><td>Observado    </td></tr>\n",
       "\t<tr><td>2020</td><td>90.23521</td><td>Observado    </td></tr>\n",
       "\t<tr><td>2021</td><td>90.54454</td><td>Observado    </td></tr>\n",
       "\t<tr><td>2022</td><td>90.29368</td><td>Observado    </td></tr>\n",
       "\t<tr><td>2023</td><td>85.93862</td><td>Observado    </td></tr>\n",
       "\t<tr><td>2024</td><td>82.23606</td><td>Observado    </td></tr>\n",
       "\t<tr><td>2030</td><td>84.34000</td><td>Inercial     </td></tr>\n",
       "\t<tr><td>2035</td><td>86.14000</td><td>Inercial     </td></tr>\n",
       "\t<tr><td>2045</td><td>89.85000</td><td>Inercial     </td></tr>\n",
       "\t<tr><td>2030</td><td>79.16000</td><td>Deseable     </td></tr>\n",
       "\t<tr><td>2035</td><td>76.68000</td><td>Deseable     </td></tr>\n",
       "\t<tr><td>2045</td><td>71.96000</td><td>Deseable     </td></tr>\n",
       "\t<tr><td>2030</td><td>77.66000</td><td>Transformador</td></tr>\n",
       "\t<tr><td>2035</td><td>74.04000</td><td>Transformador</td></tr>\n",
       "\t<tr><td>2045</td><td>67.30000</td><td>Transformador</td></tr>\n",
       "</tbody>\n",
       "</table>\n"
      ],
      "text/latex": [
       "A tibble: 18 × 3\n",
       "\\begin{tabular}{lll}\n",
       " ano & porcentaje & tipo\\\\\n",
       " <dbl> & <dbl> & <chr>\\\\\n",
       "\\hline\n",
       "\t 2016 & 91.06742 & Observado    \\\\\n",
       "\t 2017 & 92.76090 & Observado    \\\\\n",
       "\t 2018 & 92.38835 & Observado    \\\\\n",
       "\t 2019 & 92.87982 & Observado    \\\\\n",
       "\t 2020 & 90.23521 & Observado    \\\\\n",
       "\t 2021 & 90.54454 & Observado    \\\\\n",
       "\t 2022 & 90.29368 & Observado    \\\\\n",
       "\t 2023 & 85.93862 & Observado    \\\\\n",
       "\t 2024 & 82.23606 & Observado    \\\\\n",
       "\t 2030 & 84.34000 & Inercial     \\\\\n",
       "\t 2035 & 86.14000 & Inercial     \\\\\n",
       "\t 2045 & 89.85000 & Inercial     \\\\\n",
       "\t 2030 & 79.16000 & Deseable     \\\\\n",
       "\t 2035 & 76.68000 & Deseable     \\\\\n",
       "\t 2045 & 71.96000 & Deseable     \\\\\n",
       "\t 2030 & 77.66000 & Transformador\\\\\n",
       "\t 2035 & 74.04000 & Transformador\\\\\n",
       "\t 2045 & 67.30000 & Transformador\\\\\n",
       "\\end{tabular}\n"
      ],
      "text/markdown": [
       "\n",
       "A tibble: 18 × 3\n",
       "\n",
       "| ano &lt;dbl&gt; | porcentaje &lt;dbl&gt; | tipo &lt;chr&gt; |\n",
       "|---|---|---|\n",
       "| 2016 | 91.06742 | Observado     |\n",
       "| 2017 | 92.76090 | Observado     |\n",
       "| 2018 | 92.38835 | Observado     |\n",
       "| 2019 | 92.87982 | Observado     |\n",
       "| 2020 | 90.23521 | Observado     |\n",
       "| 2021 | 90.54454 | Observado     |\n",
       "| 2022 | 90.29368 | Observado     |\n",
       "| 2023 | 85.93862 | Observado     |\n",
       "| 2024 | 82.23606 | Observado     |\n",
       "| 2030 | 84.34000 | Inercial      |\n",
       "| 2035 | 86.14000 | Inercial      |\n",
       "| 2045 | 89.85000 | Inercial      |\n",
       "| 2030 | 79.16000 | Deseable      |\n",
       "| 2035 | 76.68000 | Deseable      |\n",
       "| 2045 | 71.96000 | Deseable      |\n",
       "| 2030 | 77.66000 | Transformador |\n",
       "| 2035 | 74.04000 | Transformador |\n",
       "| 2045 | 67.30000 | Transformador |\n",
       "\n"
      ],
      "text/plain": [
       "   ano  porcentaje tipo         \n",
       "1  2016 91.06742   Observado    \n",
       "2  2017 92.76090   Observado    \n",
       "3  2018 92.38835   Observado    \n",
       "4  2019 92.87982   Observado    \n",
       "5  2020 90.23521   Observado    \n",
       "6  2021 90.54454   Observado    \n",
       "7  2022 90.29368   Observado    \n",
       "8  2023 85.93862   Observado    \n",
       "9  2024 82.23606   Observado    \n",
       "10 2030 84.34000   Inercial     \n",
       "11 2035 86.14000   Inercial     \n",
       "12 2045 89.85000   Inercial     \n",
       "13 2030 79.16000   Deseable     \n",
       "14 2035 76.68000   Deseable     \n",
       "15 2045 71.96000   Deseable     \n",
       "16 2030 77.66000   Transformador\n",
       "17 2035 74.04000   Transformador\n",
       "18 2045 67.30000   Transformador"
      ]
     },
     "metadata": {},
     "output_type": "display_data"
    }
   ],
   "source": [
    "##ESCENARIOS TENDENCIALES 2030,2035,2045\n",
    "# Tasa de variación\n",
    "tcma<-((inseguridad_transporte_publico_2024$porcentaje /inseguridad_transporte_publico_2016$porcentaje)^(1/(2024-2016)) - 1) \n",
    "tcma\n",
    "\n",
    "inseguridad_transporte_publico_base <- inseguridad_transporte_publico |>\n",
    "  filter(ano == 2024) |>\n",
    "  pull(porcentaje)\n",
    "\n",
    "inseguridad_transporte_publico_base\n",
    "\n",
    "# Años a proyectar\n",
    "años <- c(2030,2035,2045)\n",
    "año_base <- 2024\n",
    "\n",
    "tendencia_base <- data.frame(ano = años,\n",
    "                             porcentaje = round(inseguridad_transporte_publico_base * (1 + -1/3*tcma) ^ (años - año_base), 2),\n",
    "                             tipo = \"Inercial\")\n",
    "\n",
    "\n",
    "tendecia_deseable<-data.frame(ano = años,\n",
    "                              porcentaje = round(inseguridad_transporte_publico_base * (1 + 1/2*tcma) ^ (años - año_base), 2),\n",
    "                              tipo = \"Deseable\")\n",
    "\n",
    "\n",
    "tendecia_transformadora <-data.frame(ano = años,\n",
    "                                     porcentaje = round(inseguridad_transporte_publico_base * (1 + 3/4*tcma) ^ (años - año_base), 2),\n",
    "                                     tipo = \"Transformador\")\n",
    "\n",
    "\n",
    "inseguridad_transporte_tendencias <- inseguridad_transporte_publico|>\n",
    "  bind_rows(tendencia_base,tendecia_deseable, \n",
    "            tendecia_transformadora)|>\n",
    "  select(ano, porcentaje, tipo)\n",
    "\n",
    "inseguridad_transporte_tendencias\n"
   ]
  },
  {
   "cell_type": "code",
   "execution_count": 13,
   "id": "957d46ac",
   "metadata": {
    "vscode": {
     "languageId": "r"
    }
   },
   "outputs": [],
   "source": [
    "lineas <- bind_rows(data.frame(ano = c(2024, 2030),\n",
    "                               porcentaje = c(inseguridad_transporte_tendencias$porcentaje[inseguridad_transporte_tendencias$ano == 2024 & inseguridad_transporte_tendencias$tipo == \"Observado\"],\n",
    "                                                            inseguridad_transporte_tendencias$porcentaje[inseguridad_transporte_tendencias$ano == 2030 & inseguridad_transporte_tendencias$tipo == \"Inercial\"]),\n",
    "                               tipo = \"Inercial\"),\n",
    "                    data.frame(ano = c(2024, 2030),\n",
    "                               porcentaje = c(inseguridad_transporte_tendencias$porcentaje[inseguridad_transporte_tendencias$ano == 2024 & inseguridad_transporte_tendencias$tipo == \"Observado\"], \n",
    "                                                            inseguridad_transporte_tendencias$porcentaje[inseguridad_transporte_tendencias$ano == 2030 & inseguridad_transporte_tendencias$tipo == \"Deseable\"]),\n",
    "                               tipo = \"Deseable\"), \n",
    "                    data.frame(ano = c(2024, 2030),\n",
    "                               porcentaje = c(inseguridad_transporte_tendencias$porcentaje[inseguridad_transporte_tendencias$ano == 2024 & inseguridad_transporte_tendencias$tipo == \"Observado\"], \n",
    "                                                            inseguridad_transporte_tendencias$porcentaje[inseguridad_transporte_tendencias$ano == 2030 & inseguridad_transporte_tendencias$tipo == \"Transformador\"]),\n",
    "                               tipo = \"Transformador\"))\n",
    "\n",
    "\n",
    "paleta_colores <- c(\"Observado\" = \"#9F2241\",\n",
    "                    \"Inercial\" = \"#cfcfcf\" ,\n",
    "                    \"Deseable\" = \"#027A35\", \n",
    "                    \"Transformador\" = \"#AC6D14\")\n",
    "\n",
    "linetypes <- c(\"Observado\" = \"solid\",\n",
    "               \"Inercial\" = \"dotdash\",\n",
    "               \"Deseable\" = \"dotdash\", \n",
    "               \"Transformador\" = \"dotdash\")\n"
   ]
  },
  {
   "cell_type": "code",
   "execution_count": 14,
   "id": "0706b81f",
   "metadata": {
    "vscode": {
     "languageId": "r"
    }
   },
   "outputs": [
    {
     "data": {
      "image/png": "[encoded data removed]",
      "text/plain": [
       "plot without title"
      ]
     },
     "metadata": {
      "image/png": {
       "height": 420,
       "width": 420
      }
     },
     "output_type": "display_data"
    }
   ],
   "source": [
    "# Gráfico con etiquetas y eje Y personalizado\n",
    "ggplot(inseguridad_transporte_tendencias, aes(x = ano, y = porcentaje, group = tipo, color = tipo, linetype = tipo)) +\n",
    "  geom_line(linewidth = 1.2) +\n",
    "  geom_point(size = 1.5) +\n",
    "  geom_line(data = lineas, aes(x = ano, y = porcentaje, group = tipo), linewidth = 1.2) +\n",
    "  geom_text(aes(label = round(porcentaje, 1)),\n",
    "            position = position_nudge(y = 2),\n",
    "            size = 3, show.legend = FALSE) +\n",
    "  scale_color_manual(values = paleta_colores) +\n",
    "  scale_linetype_manual(values = linetypes) +\n",
    "  scale_y_continuous(breaks = seq(0, max(inseguridad_transporte_tendencias$porcentaje, na.rm = TRUE) +100, by = 50),\n",
    "                     labels = function(x) paste0(x, \"\"),\n",
    "                     expand = expansion(mult = c(0.09,0.5))) +\n",
    "  labs(title = \"\",\n",
    "       x = \"Año\",\n",
    "       y = \"Porcentaje\",\n",
    "       color = \"\",\n",
    "       linetype = \"\") +\n",
    "  theme_bw(base_size = 15) +\n",
    "  theme( panel.grid.minor.y = element_line(color = \"gray80\", linetype = \"dotted\"),\n",
    "         panel.grid.minor.x = element_blank(),\n",
    "         panel.grid.major.y = element_blank(),\n",
    "         panel.border = element_blank(),\n",
    "         axis.line = element_line(color = \"gray80\"),\n",
    "         legend.position = \"top\",\n",
    "         plot.caption = element_text(hjust = 100))\n",
    "\n",
    "ggsave(\"inseguridad_transporte_tendencias.png\", width = 8, height = 5, dpi = 300)"
   ]
  }
 ],
 "metadata": {
  "kernelspec": {
   "display_name": "R",
   "language": "R",
   "name": "ir"
  },
  "language_info": {
   "codemirror_mode": "r",
   "file_extension": ".r",
   "mimetype": "text/x-r-source",
   "name": "R",
   "pygments_lexer": "r",
   "version": "4.4.3"
  }
 },
 "nbformat": 4,
 "nbformat_minor": 5
}
