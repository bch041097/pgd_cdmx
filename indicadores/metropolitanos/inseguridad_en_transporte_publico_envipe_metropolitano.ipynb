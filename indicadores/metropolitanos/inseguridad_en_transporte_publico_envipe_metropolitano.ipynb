{
 "cells": [
  {
   "cell_type": "markdown",
   "id": "232cdce3",
   "metadata": {},
   "source": [
    "**Porcentaje de población de la ZM Ciudad de México que se siente inseguro en el transporte público**"
   ]
  },
  {
   "cell_type": "code",
   "execution_count": null,
   "id": "e6cbe703",
   "metadata": {
    "vscode": {
     "languageId": "r"
    }
   },
   "outputs": [],
   "source": [
    "#Borrar entorno\n",
    "#rm(list=ls())\n",
    "\n",
    "# Librerías necesarias====\n",
    "#if(!require('pacman')) install.packages('pacman')\n",
    "pacman::p_load(modeest,\n",
    "  tidyverse, srvyr, showtext,survey)"
   ]
  },
  {
   "cell_type": "code",
   "execution_count": 33,
   "id": "699a64cf",
   "metadata": {
    "vscode": {
     "languageId": "r"
    }
   },
   "outputs": [],
   "source": [
    "#Función para leer los datos de la ENVIPE\n",
    "leer_envipe_vic <- function(anios) {\n",
    "\n",
    "  anios <- as.integer(anios)[anios %in% 2016:2024]\n",
    "  \n",
    "\n",
    "  data_list <- list()\n",
    "\n",
    "  for (anio in anios) {\n",
    "    url <- paste0(\"https://www.inegi.org.mx/contenidos/programas/envipe/\",\n",
    "                  anio,\n",
    "                 \"/microdatos/bd_envipe\",\n",
    "                 ifelse(anio < 2020, anio, paste0(\"_\", anio)),\n",
    "                 \"_dbf.zip\")\n",
    "\n",
    "    temp_zip <- tempfile(fileext = \".zip\")\n",
    "    temp_dir <- tempdir()\n",
    "    options(timeout = 1000)\n",
    "\n",
    "    result <- download.file(url, temp_zip, mode = \"wb\", quiet = TRUE)\n",
    "              unzip(temp_zip, exdir = temp_dir)\n",
    "\n",
    "    nombre <- list.files(temp_dir, pattern = \"TPer_Vic1.dbf\", \n",
    "                             full.names = TRUE, recursive = TRUE)\n",
    "\n",
    "  \n",
    "    datos <- foreign::read.dbf(nombre)|>\n",
    "           mutate(inse_t_publico = case_when(AP4_4_09 == \"1\" ~ \"Se siente seguro\", \n",
    "                                      AP4_4_09 == \"2\" ~ \"Se siente inseguro\", \n",
    "                                      TRUE ~ \"No responde\"), \n",
    "                  FAC_ELE_AM= as.numeric(FAC_ELE_AM))|>\n",
    "                  filter(AREAM == \"01\",\n",
    "                          AP4_4_09!=3)\n",
    "                         \n",
    "#Poner los datos en una lista\n",
    "    data_list[[as.character(anio)]] <- datos\n",
    "\n",
    "    # Limpiar archivos temporales\n",
    "    unlink(temp_zip)\n",
    "    unlink(list.files(temp_dir, full.names = TRUE), recursive = TRUE)\n",
    "  }\n",
    "\n",
    "  return(data_list)\n",
    "}"
   ]
  },
  {
   "cell_type": "code",
   "execution_count": 34,
   "id": "0c7d5c75",
   "metadata": {
    "vscode": {
     "languageId": "r"
    }
   },
   "outputs": [],
   "source": [
    "# Función para definir diseño muestral\n",
    "diseño_muestral_l <- function(lista_datos) {\n",
    "  \n",
    "  lista_dm <- list()\n",
    "\n",
    "  for (anio in names(lista_datos)) {\n",
    "    datos <- lista_datos[[anio]]\n",
    "\n",
    "    diseño <- datos|>\n",
    "      as_survey_design(strata = EST_DIS,\n",
    "                       weights = FAC_ELE_AM,\n",
    "                       ids = UPM_DIS,\n",
    "                        nest = TRUE)\n",
    "\n",
    "    lista_dm[[anio]] <- diseño \n",
    "  }\n",
    "\n",
    "  return(lista_dm)\n",
    "}"
   ]
  },
  {
   "cell_type": "code",
   "execution_count": 35,
   "id": "8aa0fc2b",
   "metadata": {
    "vscode": {
     "languageId": "r"
    }
   },
   "outputs": [],
   "source": [
    "#Obtener porcentajes y totales con coeficiente de variación\n",
    "resultados_inseguridad <- function(anio) {\n",
    "  datos <- get(paste0(\"inseg_tp_\", anio))\n",
    "  \n",
    "  datos_dm <- datos |>\n",
    "    group_by(inse_t_publico) |>\n",
    "    summarise(tot_p_inseg_tp = survey_total(vartype = \"cv\"),\n",
    "              porcentaje = survey_prop(vartype = \"cv\") * 100)|>\n",
    "    filter(inse_t_publico == \"Se siente inseguro\")|>\n",
    "    select(inse_t_publico, porcentaje, porcentaje_cv)|>\n",
    "    mutate(ano = anio)\n",
    "  \n",
    "  return(datos_dm)\n",
    "}"
   ]
  },
  {
   "cell_type": "code",
   "execution_count": 36,
   "id": "efab4596",
   "metadata": {
    "vscode": {
     "languageId": "r"
    }
   },
   "outputs": [],
   "source": [
    "#Función para obtener los porcentajes y totales con coeficiente de variación\n",
    "resultados_inseguridad <- function(lista_c_dm) {\n",
    "\n",
    "  resultados_l <- list()\n",
    "\n",
    "  for (anio in names(lista_c_dm)) {\n",
    "    datos <- lista_c_dm[[anio]]\n",
    "  \n",
    "  resultados <- datos|>\n",
    "    group_by(inse_t_publico) |>\n",
    "    summarise(tot_p_inseg_tp = survey_total(vartype = \"cv\"),\n",
    "              porcentaje = survey_prop(vartype = \"cv\") * 100)|>\n",
    "    filter(inse_t_publico == \"Se siente inseguro\")|>\n",
    "    select(inse_t_publico, porcentaje, porcentaje_cv)|>\n",
    "    mutate(ano = as.integer(anio),\n",
    "           tipo = \"Observado\")\n",
    "\n",
    "    resultados_l[[anio]] <- resultados \n",
    "  }\n",
    "  return(resultados_l)\n",
    "}"
   ]
  },
  {
   "cell_type": "code",
   "execution_count": 37,
   "id": "c713bf5b",
   "metadata": {
    "vscode": {
     "languageId": "r"
    }
   },
   "outputs": [],
   "source": [
    "#Leer datos de la ENVIPE\n",
    "lista_envipe_vic <- leer_envipe_vic(2016:2024)"
   ]
  },
  {
   "cell_type": "code",
   "execution_count": 38,
   "id": "c57c7ba4",
   "metadata": {
    "vscode": {
     "languageId": "r"
    }
   },
   "outputs": [],
   "source": [
    "# Crear lista de diseño muestral para cada serie\n",
    "lista_dm <- diseño_muestral_l(lista_envipe_vic)"
   ]
  },
  {
   "cell_type": "code",
   "execution_count": 39,
   "id": "6656e8a0",
   "metadata": {
    "vscode": {
     "languageId": "r"
    }
   },
   "outputs": [
    {
     "data": {
      "text/html": [
       "<table class=\"dataframe\">\n",
       "<caption>A tibble: 9 × 6</caption>\n",
       "<thead>\n",
       "\t<tr><th scope=col>anio</th><th scope=col>inse_t_publico</th><th scope=col>porcentaje</th><th scope=col>porcentaje_cv</th><th scope=col>ano</th><th scope=col>tipo</th></tr>\n",
       "\t<tr><th scope=col>&lt;chr&gt;</th><th scope=col>&lt;chr&gt;</th><th scope=col>&lt;dbl&gt;</th><th scope=col>&lt;dbl&gt;</th><th scope=col>&lt;int&gt;</th><th scope=col>&lt;chr&gt;</th></tr>\n",
       "</thead>\n",
       "<tbody>\n",
       "\t<tr><td>2016</td><td>Se siente inseguro</td><td>90.94581</td><td>0.6132194</td><td>2016</td><td>Observado</td></tr>\n",
       "\t<tr><td>2017</td><td>Se siente inseguro</td><td>92.50218</td><td>0.3863297</td><td>2017</td><td>Observado</td></tr>\n",
       "\t<tr><td>2018</td><td>Se siente inseguro</td><td>92.36783</td><td>0.3965389</td><td>2018</td><td>Observado</td></tr>\n",
       "\t<tr><td>2019</td><td>Se siente inseguro</td><td>92.73426</td><td>0.3918301</td><td>2019</td><td>Observado</td></tr>\n",
       "\t<tr><td>2020</td><td>Se siente inseguro</td><td>90.02955</td><td>0.4782366</td><td>2020</td><td>Observado</td></tr>\n",
       "\t<tr><td>2021</td><td>Se siente inseguro</td><td>90.47556</td><td>0.5534886</td><td>2021</td><td>Observado</td></tr>\n",
       "\t<tr><td>2022</td><td>Se siente inseguro</td><td>90.18854</td><td>0.5276182</td><td>2022</td><td>Observado</td></tr>\n",
       "\t<tr><td>2023</td><td>Se siente inseguro</td><td>85.69889</td><td>0.6179784</td><td>2023</td><td>Observado</td></tr>\n",
       "\t<tr><td>2024</td><td>Se siente inseguro</td><td>82.13023</td><td>0.6602219</td><td>2024</td><td>Observado</td></tr>\n",
       "</tbody>\n",
       "</table>\n"
      ],
      "text/latex": [
       "A tibble: 9 × 6\n",
       "\\begin{tabular}{llllll}\n",
       " anio & inse\\_t\\_publico & porcentaje & porcentaje\\_cv & ano & tipo\\\\\n",
       " <chr> & <chr> & <dbl> & <dbl> & <int> & <chr>\\\\\n",
       "\\hline\n",
       "\t 2016 & Se siente inseguro & 90.94581 & 0.6132194 & 2016 & Observado\\\\\n",
       "\t 2017 & Se siente inseguro & 92.50218 & 0.3863297 & 2017 & Observado\\\\\n",
       "\t 2018 & Se siente inseguro & 92.36783 & 0.3965389 & 2018 & Observado\\\\\n",
       "\t 2019 & Se siente inseguro & 92.73426 & 0.3918301 & 2019 & Observado\\\\\n",
       "\t 2020 & Se siente inseguro & 90.02955 & 0.4782366 & 2020 & Observado\\\\\n",
       "\t 2021 & Se siente inseguro & 90.47556 & 0.5534886 & 2021 & Observado\\\\\n",
       "\t 2022 & Se siente inseguro & 90.18854 & 0.5276182 & 2022 & Observado\\\\\n",
       "\t 2023 & Se siente inseguro & 85.69889 & 0.6179784 & 2023 & Observado\\\\\n",
       "\t 2024 & Se siente inseguro & 82.13023 & 0.6602219 & 2024 & Observado\\\\\n",
       "\\end{tabular}\n"
      ],
      "text/markdown": [
       "\n",
       "A tibble: 9 × 6\n",
       "\n",
       "| anio &lt;chr&gt; | inse_t_publico &lt;chr&gt; | porcentaje &lt;dbl&gt; | porcentaje_cv &lt;dbl&gt; | ano &lt;int&gt; | tipo &lt;chr&gt; |\n",
       "|---|---|---|---|---|---|\n",
       "| 2016 | Se siente inseguro | 90.94581 | 0.6132194 | 2016 | Observado |\n",
       "| 2017 | Se siente inseguro | 92.50218 | 0.3863297 | 2017 | Observado |\n",
       "| 2018 | Se siente inseguro | 92.36783 | 0.3965389 | 2018 | Observado |\n",
       "| 2019 | Se siente inseguro | 92.73426 | 0.3918301 | 2019 | Observado |\n",
       "| 2020 | Se siente inseguro | 90.02955 | 0.4782366 | 2020 | Observado |\n",
       "| 2021 | Se siente inseguro | 90.47556 | 0.5534886 | 2021 | Observado |\n",
       "| 2022 | Se siente inseguro | 90.18854 | 0.5276182 | 2022 | Observado |\n",
       "| 2023 | Se siente inseguro | 85.69889 | 0.6179784 | 2023 | Observado |\n",
       "| 2024 | Se siente inseguro | 82.13023 | 0.6602219 | 2024 | Observado |\n",
       "\n"
      ],
      "text/plain": [
       "  anio inse_t_publico     porcentaje porcentaje_cv ano  tipo     \n",
       "1 2016 Se siente inseguro 90.94581   0.6132194     2016 Observado\n",
       "2 2017 Se siente inseguro 92.50218   0.3863297     2017 Observado\n",
       "3 2018 Se siente inseguro 92.36783   0.3965389     2018 Observado\n",
       "4 2019 Se siente inseguro 92.73426   0.3918301     2019 Observado\n",
       "5 2020 Se siente inseguro 90.02955   0.4782366     2020 Observado\n",
       "6 2021 Se siente inseguro 90.47556   0.5534886     2021 Observado\n",
       "7 2022 Se siente inseguro 90.18854   0.5276182     2022 Observado\n",
       "8 2023 Se siente inseguro 85.69889   0.6179784     2023 Observado\n",
       "9 2024 Se siente inseguro 82.13023   0.6602219     2024 Observado"
      ]
     },
     "metadata": {},
     "output_type": "display_data"
    }
   ],
   "source": [
    "# Aplica la función a la lista de diseños muestrales\n",
    "resultados_envipe <- resultados_inseguridad(lista_dm)\n",
    "#Convertir la lista a un data frame\n",
    "inseguridad_transporte_publico <- bind_rows(resultados_envipe, .id = \"anio\")\n",
    "#Mostrar los resultados\n",
    "inseguridad_transporte_publico\n",
    "\n",
    "inseguridad_transporte_publico<-inseguridad_transporte_publico|>\n",
    "select(porcentaje, ano)|>\n",
    "  mutate(tipo = \"Observado\")"
   ]
  },
  {
   "cell_type": "code",
   "execution_count": 40,
   "id": "89ad3b68",
   "metadata": {
    "vscode": {
     "languageId": "r"
    }
   },
   "outputs": [],
   "source": [
    "inseguridad_transporte_publico_2024 <- inseguridad_transporte_publico |> filter(ano == 2024)\n",
    "inseguridad_transporte_publico_2016 <- inseguridad_transporte_publico |> filter(ano == 2016)\n"
   ]
  },
  {
   "cell_type": "code",
   "execution_count": 41,
   "id": "7461a634",
   "metadata": {
    "vscode": {
     "languageId": "r"
    }
   },
   "outputs": [
    {
     "data": {
      "text/html": [
       "-0.0126638444319622"
      ],
      "text/latex": [
       "-0.0126638444319622"
      ],
      "text/markdown": [
       "-0.0126638444319622"
      ],
      "text/plain": [
       "[1] -0.01266384"
      ]
     },
     "metadata": {},
     "output_type": "display_data"
    },
    {
     "data": {
      "text/html": [
       "82.1302268920112"
      ],
      "text/latex": [
       "82.1302268920112"
      ],
      "text/markdown": [
       "82.1302268920112"
      ],
      "text/plain": [
       "[1] 82.13023"
      ]
     },
     "metadata": {},
     "output_type": "display_data"
    },
    {
     "data": {
      "text/html": [
       "<table class=\"dataframe\">\n",
       "<caption>A tibble: 18 × 3</caption>\n",
       "<thead>\n",
       "\t<tr><th scope=col>ano</th><th scope=col>porcentaje</th><th scope=col>tipo</th></tr>\n",
       "\t<tr><th scope=col>&lt;dbl&gt;</th><th scope=col>&lt;dbl&gt;</th><th scope=col>&lt;chr&gt;</th></tr>\n",
       "</thead>\n",
       "<tbody>\n",
       "\t<tr><td>2016</td><td>90.94581</td><td>Observado    </td></tr>\n",
       "\t<tr><td>2017</td><td>92.50218</td><td>Observado    </td></tr>\n",
       "\t<tr><td>2018</td><td>92.36783</td><td>Observado    </td></tr>\n",
       "\t<tr><td>2019</td><td>92.73426</td><td>Observado    </td></tr>\n",
       "\t<tr><td>2020</td><td>90.02955</td><td>Observado    </td></tr>\n",
       "\t<tr><td>2021</td><td>90.47556</td><td>Observado    </td></tr>\n",
       "\t<tr><td>2022</td><td>90.18854</td><td>Observado    </td></tr>\n",
       "\t<tr><td>2023</td><td>85.69889</td><td>Observado    </td></tr>\n",
       "\t<tr><td>2024</td><td>82.13023</td><td>Observado    </td></tr>\n",
       "\t<tr><td>2030</td><td>84.23000</td><td>Inercial     </td></tr>\n",
       "\t<tr><td>2035</td><td>86.03000</td><td>Inercial     </td></tr>\n",
       "\t<tr><td>2045</td><td>89.73000</td><td>Inercial     </td></tr>\n",
       "\t<tr><td>2030</td><td>79.06000</td><td>Deseable     </td></tr>\n",
       "\t<tr><td>2035</td><td>76.59000</td><td>Deseable     </td></tr>\n",
       "\t<tr><td>2045</td><td>71.87000</td><td>Deseable     </td></tr>\n",
       "\t<tr><td>2030</td><td>77.56000</td><td>Transformador</td></tr>\n",
       "\t<tr><td>2035</td><td>73.95000</td><td>Transformador</td></tr>\n",
       "\t<tr><td>2045</td><td>67.22000</td><td>Transformador</td></tr>\n",
       "</tbody>\n",
       "</table>\n"
      ],
      "text/latex": [
       "A tibble: 18 × 3\n",
       "\\begin{tabular}{lll}\n",
       " ano & porcentaje & tipo\\\\\n",
       " <dbl> & <dbl> & <chr>\\\\\n",
       "\\hline\n",
       "\t 2016 & 90.94581 & Observado    \\\\\n",
       "\t 2017 & 92.50218 & Observado    \\\\\n",
       "\t 2018 & 92.36783 & Observado    \\\\\n",
       "\t 2019 & 92.73426 & Observado    \\\\\n",
       "\t 2020 & 90.02955 & Observado    \\\\\n",
       "\t 2021 & 90.47556 & Observado    \\\\\n",
       "\t 2022 & 90.18854 & Observado    \\\\\n",
       "\t 2023 & 85.69889 & Observado    \\\\\n",
       "\t 2024 & 82.13023 & Observado    \\\\\n",
       "\t 2030 & 84.23000 & Inercial     \\\\\n",
       "\t 2035 & 86.03000 & Inercial     \\\\\n",
       "\t 2045 & 89.73000 & Inercial     \\\\\n",
       "\t 2030 & 79.06000 & Deseable     \\\\\n",
       "\t 2035 & 76.59000 & Deseable     \\\\\n",
       "\t 2045 & 71.87000 & Deseable     \\\\\n",
       "\t 2030 & 77.56000 & Transformador\\\\\n",
       "\t 2035 & 73.95000 & Transformador\\\\\n",
       "\t 2045 & 67.22000 & Transformador\\\\\n",
       "\\end{tabular}\n"
      ],
      "text/markdown": [
       "\n",
       "A tibble: 18 × 3\n",
       "\n",
       "| ano &lt;dbl&gt; | porcentaje &lt;dbl&gt; | tipo &lt;chr&gt; |\n",
       "|---|---|---|\n",
       "| 2016 | 90.94581 | Observado     |\n",
       "| 2017 | 92.50218 | Observado     |\n",
       "| 2018 | 92.36783 | Observado     |\n",
       "| 2019 | 92.73426 | Observado     |\n",
       "| 2020 | 90.02955 | Observado     |\n",
       "| 2021 | 90.47556 | Observado     |\n",
       "| 2022 | 90.18854 | Observado     |\n",
       "| 2023 | 85.69889 | Observado     |\n",
       "| 2024 | 82.13023 | Observado     |\n",
       "| 2030 | 84.23000 | Inercial      |\n",
       "| 2035 | 86.03000 | Inercial      |\n",
       "| 2045 | 89.73000 | Inercial      |\n",
       "| 2030 | 79.06000 | Deseable      |\n",
       "| 2035 | 76.59000 | Deseable      |\n",
       "| 2045 | 71.87000 | Deseable      |\n",
       "| 2030 | 77.56000 | Transformador |\n",
       "| 2035 | 73.95000 | Transformador |\n",
       "| 2045 | 67.22000 | Transformador |\n",
       "\n"
      ],
      "text/plain": [
       "   ano  porcentaje tipo         \n",
       "1  2016 90.94581   Observado    \n",
       "2  2017 92.50218   Observado    \n",
       "3  2018 92.36783   Observado    \n",
       "4  2019 92.73426   Observado    \n",
       "5  2020 90.02955   Observado    \n",
       "6  2021 90.47556   Observado    \n",
       "7  2022 90.18854   Observado    \n",
       "8  2023 85.69889   Observado    \n",
       "9  2024 82.13023   Observado    \n",
       "10 2030 84.23000   Inercial     \n",
       "11 2035 86.03000   Inercial     \n",
       "12 2045 89.73000   Inercial     \n",
       "13 2030 79.06000   Deseable     \n",
       "14 2035 76.59000   Deseable     \n",
       "15 2045 71.87000   Deseable     \n",
       "16 2030 77.56000   Transformador\n",
       "17 2035 73.95000   Transformador\n",
       "18 2045 67.22000   Transformador"
      ]
     },
     "metadata": {},
     "output_type": "display_data"
    }
   ],
   "source": [
    "##ESCENARIOS TENDENCIALES 2030,2035,2045\n",
    "# Tasa de variación\n",
    "tcma<-((inseguridad_transporte_publico_2024$porcentaje /inseguridad_transporte_publico_2016$porcentaje)^(1/(2024-2016)) - 1) \n",
    "tcma\n",
    "\n",
    "inseguridad_transporte_publico_base <- inseguridad_transporte_publico |>\n",
    "  filter(ano == 2024) |>\n",
    "  pull(porcentaje)\n",
    "\n",
    "inseguridad_transporte_publico_base\n",
    "\n",
    "# Años a proyectar\n",
    "años <- c(2030,2035,2045)\n",
    "año_base <- 2024\n",
    "\n",
    "tendencia_base <- data.frame(ano = años,\n",
    "                             porcentaje = round(inseguridad_transporte_publico_base * (1 + -1/3*tcma) ^ (años - año_base), 2),\n",
    "                             tipo = \"Inercial\")\n",
    "\n",
    "\n",
    "tendecia_deseable<-data.frame(ano = años,\n",
    "                              porcentaje = round(inseguridad_transporte_publico_base * (1 + 1/2*tcma) ^ (años - año_base), 2),\n",
    "                              tipo = \"Deseable\")\n",
    "\n",
    "\n",
    "tendecia_transformadora <-data.frame(ano = años,\n",
    "                                     porcentaje = round(inseguridad_transporte_publico_base * (1 + 3/4*tcma) ^ (años - año_base), 2),\n",
    "                                     tipo = \"Transformador\")\n",
    "\n",
    "\n",
    "inseguridad_transporte_tendencias <- inseguridad_transporte_publico|>\n",
    "  bind_rows(tendencia_base,tendecia_deseable, \n",
    "            tendecia_transformadora)|>\n",
    "  select(ano, porcentaje, tipo)\n",
    "\n",
    "inseguridad_transporte_tendencias\n"
   ]
  },
  {
   "cell_type": "code",
   "execution_count": 42,
   "id": "957d46ac",
   "metadata": {
    "vscode": {
     "languageId": "r"
    }
   },
   "outputs": [],
   "source": [
    "lineas <- bind_rows(data.frame(ano = c(2024, 2030),\n",
    "                               porcentaje = c(inseguridad_transporte_tendencias$porcentaje[inseguridad_transporte_tendencias$ano == 2024 & inseguridad_transporte_tendencias$tipo == \"Observado\"],\n",
    "                                                            inseguridad_transporte_tendencias$porcentaje[inseguridad_transporte_tendencias$ano == 2030 & inseguridad_transporte_tendencias$tipo == \"Inercial\"]),\n",
    "                               tipo = \"Inercial\"),\n",
    "                    data.frame(ano = c(2024, 2030),\n",
    "                               porcentaje = c(inseguridad_transporte_tendencias$porcentaje[inseguridad_transporte_tendencias$ano == 2024 & inseguridad_transporte_tendencias$tipo == \"Observado\"], \n",
    "                                                            inseguridad_transporte_tendencias$porcentaje[inseguridad_transporte_tendencias$ano == 2030 & inseguridad_transporte_tendencias$tipo == \"Deseable\"]),\n",
    "                               tipo = \"Deseable\"), \n",
    "                    data.frame(ano = c(2024, 2030),\n",
    "                               porcentaje = c(inseguridad_transporte_tendencias$porcentaje[inseguridad_transporte_tendencias$ano == 2024 & inseguridad_transporte_tendencias$tipo == \"Observado\"], \n",
    "                                                            inseguridad_transporte_tendencias$porcentaje[inseguridad_transporte_tendencias$ano == 2030 & inseguridad_transporte_tendencias$tipo == \"Transformador\"]),\n",
    "                               tipo = \"Transformador\"))\n",
    "\n",
    "\n",
    "paleta_colores <- c(\"Observado\" = \"#9F2241\",\n",
    "                    \"Inercial\" = \"#cfcfcf\" ,\n",
    "                    \"Deseable\" = \"#027A35\", \n",
    "                    \"Transformador\" = \"#AC6D14\")\n",
    "\n",
    "linetypes <- c(\"Observado\" = \"solid\",\n",
    "               \"Inercial\" = \"dotdash\",\n",
    "               \"Deseable\" = \"dotdash\", \n",
    "               \"Transformador\" = \"dotdash\")\n"
   ]
  },
  {
   "cell_type": "code",
   "execution_count": 43,
   "id": "0706b81f",
   "metadata": {
    "vscode": {
     "languageId": "r"
    }
   },
   "outputs": [
    {
     "data": {
      "image/png": "[encoded data removed]",
      "text/plain": [
       "plot without title"
      ]
     },
     "metadata": {
      "image/png": {
       "height": 420,
       "width": 420
      }
     },
     "output_type": "display_data"
    }
   ],
   "source": [
    "# Gráfico con etiquetas y eje Y personalizado\n",
    "ggplot(inseguridad_transporte_tendencias, aes(x = ano, y = porcentaje, group = tipo, color = tipo, linetype = tipo)) +\n",
    "  geom_line(linewidth = 1.2) +\n",
    "  geom_point(size = 1.5) +\n",
    "  geom_line(data = lineas, aes(x = ano, y = porcentaje, group = tipo), linewidth = 1.2) +\n",
    "  geom_text(aes(label = round(porcentaje, 1)),\n",
    "            position = position_nudge(y = 2),\n",
    "            size = 3, show.legend = FALSE) +\n",
    "  scale_color_manual(values = paleta_colores) +\n",
    "  scale_linetype_manual(values = linetypes) +\n",
    "  scale_y_continuous(breaks = seq(0, max(inseguridad_transporte_tendencias$porcentaje, na.rm = TRUE) +100, by = 50),\n",
    "                     labels = function(x) paste0(x, \"\"),\n",
    "                     expand = expansion(mult = c(0.09,0.5))) +\n",
    "  labs(title = \"\",\n",
    "       x = \"Año\",\n",
    "       y = \"Porcentaje\",\n",
    "       color = \"\",\n",
    "       linetype = \"\") +\n",
    "  theme_bw(base_size = 15) +\n",
    "  theme( panel.grid.minor.y = element_line(color = \"gray80\", linetype = \"dotted\"),\n",
    "         panel.grid.minor.x = element_blank(),\n",
    "         panel.grid.major.y = element_blank(),\n",
    "         panel.border = element_blank(),\n",
    "         axis.line = element_line(color = \"gray80\"),\n",
    "         legend.position = \"top\",\n",
    "         plot.caption = element_text(hjust = 100))\n",
    "\n",
    "#ggsave(\"inseguridad_transporte_tendencias.png\", width = 8, height = 5, dpi = 300)"
   ]
  }
 ],
 "metadata": {
  "kernelspec": {
   "display_name": "R",
   "language": "R",
   "name": "ir"
  },
  "language_info": {
   "codemirror_mode": "r",
   "file_extension": ".r",
   "mimetype": "text/x-r-source",
   "name": "R",
   "pygments_lexer": "r",
   "version": "4.4.3"
  }
 },
 "nbformat": 4,
 "nbformat_minor": 5
}
