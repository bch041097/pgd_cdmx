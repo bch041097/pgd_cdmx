{
 "cells": [
  {
   "cell_type": "markdown",
   "id": "f62eca6a",
   "metadata": {},
   "source": [
    "**Porcentaje de hogares que tuvieron cambiarse de vivienda o lugar de residencia (hogares) por situaciones de violencia e inseguridad**\n"
   ]
  },
  {
   "cell_type": "code",
   "execution_count": 7,
   "id": "d6557d69",
   "metadata": {
    "vscode": {
     "languageId": "r"
    }
   },
   "outputs": [
    {
     "data": {
      "text/html": [
       "<ol>\n",
       "\t<li><style>\n",
       ".list-inline {list-style: none; margin:0; padding: 0}\n",
       ".list-inline>li {display: inline-block}\n",
       ".list-inline>li:not(:last-child)::after {content: \"\\00b7\"; padding: 0 .5ex}\n",
       "</style>\n",
       "<ol class=list-inline><li>'srvyr'</li><li>'lubridate'</li><li>'forcats'</li><li>'stringr'</li><li>'dplyr'</li><li>'purrr'</li><li>'readr'</li><li>'tidyr'</li><li>'tibble'</li><li>'ggplot2'</li><li>'tidyverse'</li><li>'stats'</li><li>'graphics'</li><li>'grDevices'</li><li>'utils'</li><li>'datasets'</li><li>'methods'</li><li>'base'</li></ol>\n",
       "</li>\n",
       "\t<li><style>\n",
       ".list-inline {list-style: none; margin:0; padding: 0}\n",
       ".list-inline>li {display: inline-block}\n",
       ".list-inline>li:not(:last-child)::after {content: \"\\00b7\"; padding: 0 .5ex}\n",
       "</style>\n",
       "<ol class=list-inline><li>'srvyr'</li><li>'lubridate'</li><li>'forcats'</li><li>'stringr'</li><li>'dplyr'</li><li>'purrr'</li><li>'readr'</li><li>'tidyr'</li><li>'tibble'</li><li>'ggplot2'</li><li>'tidyverse'</li><li>'stats'</li><li>'graphics'</li><li>'grDevices'</li><li>'utils'</li><li>'datasets'</li><li>'methods'</li><li>'base'</li></ol>\n",
       "</li>\n",
       "</ol>\n"
      ],
      "text/latex": [
       "\\begin{enumerate}\n",
       "\\item \\begin{enumerate*}\n",
       "\\item 'srvyr'\n",
       "\\item 'lubridate'\n",
       "\\item 'forcats'\n",
       "\\item 'stringr'\n",
       "\\item 'dplyr'\n",
       "\\item 'purrr'\n",
       "\\item 'readr'\n",
       "\\item 'tidyr'\n",
       "\\item 'tibble'\n",
       "\\item 'ggplot2'\n",
       "\\item 'tidyverse'\n",
       "\\item 'stats'\n",
       "\\item 'graphics'\n",
       "\\item 'grDevices'\n",
       "\\item 'utils'\n",
       "\\item 'datasets'\n",
       "\\item 'methods'\n",
       "\\item 'base'\n",
       "\\end{enumerate*}\n",
       "\n",
       "\\item \\begin{enumerate*}\n",
       "\\item 'srvyr'\n",
       "\\item 'lubridate'\n",
       "\\item 'forcats'\n",
       "\\item 'stringr'\n",
       "\\item 'dplyr'\n",
       "\\item 'purrr'\n",
       "\\item 'readr'\n",
       "\\item 'tidyr'\n",
       "\\item 'tibble'\n",
       "\\item 'ggplot2'\n",
       "\\item 'tidyverse'\n",
       "\\item 'stats'\n",
       "\\item 'graphics'\n",
       "\\item 'grDevices'\n",
       "\\item 'utils'\n",
       "\\item 'datasets'\n",
       "\\item 'methods'\n",
       "\\item 'base'\n",
       "\\end{enumerate*}\n",
       "\n",
       "\\end{enumerate}\n"
      ],
      "text/markdown": [
       "1. 1. 'srvyr'\n",
       "2. 'lubridate'\n",
       "3. 'forcats'\n",
       "4. 'stringr'\n",
       "5. 'dplyr'\n",
       "6. 'purrr'\n",
       "7. 'readr'\n",
       "8. 'tidyr'\n",
       "9. 'tibble'\n",
       "10. 'ggplot2'\n",
       "11. 'tidyverse'\n",
       "12. 'stats'\n",
       "13. 'graphics'\n",
       "14. 'grDevices'\n",
       "15. 'utils'\n",
       "16. 'datasets'\n",
       "17. 'methods'\n",
       "18. 'base'\n",
       "\n",
       "\n",
       "\n",
       "2. 1. 'srvyr'\n",
       "2. 'lubridate'\n",
       "3. 'forcats'\n",
       "4. 'stringr'\n",
       "5. 'dplyr'\n",
       "6. 'purrr'\n",
       "7. 'readr'\n",
       "8. 'tidyr'\n",
       "9. 'tibble'\n",
       "10. 'ggplot2'\n",
       "11. 'tidyverse'\n",
       "12. 'stats'\n",
       "13. 'graphics'\n",
       "14. 'grDevices'\n",
       "15. 'utils'\n",
       "16. 'datasets'\n",
       "17. 'methods'\n",
       "18. 'base'\n",
       "\n",
       "\n",
       "\n",
       "\n",
       "\n"
      ],
      "text/plain": [
       "[[1]]\n",
       " [1] \"srvyr\"     \"lubridate\" \"forcats\"   \"stringr\"   \"dplyr\"     \"purrr\"    \n",
       " [7] \"readr\"     \"tidyr\"     \"tibble\"    \"ggplot2\"   \"tidyverse\" \"stats\"    \n",
       "[13] \"graphics\"  \"grDevices\" \"utils\"     \"datasets\"  \"methods\"   \"base\"     \n",
       "\n",
       "[[2]]\n",
       " [1] \"srvyr\"     \"lubridate\" \"forcats\"   \"stringr\"   \"dplyr\"     \"purrr\"    \n",
       " [7] \"readr\"     \"tidyr\"     \"tibble\"    \"ggplot2\"   \"tidyverse\" \"stats\"    \n",
       "[13] \"graphics\"  \"grDevices\" \"utils\"     \"datasets\"  \"methods\"   \"base\"     \n"
      ]
     },
     "metadata": {},
     "output_type": "display_data"
    }
   ],
   "source": [
    "rm(list = ls())\n",
    "\n",
    "libraries <- c(\"tidyverse\",\n",
    "               \"srvyr\")\n",
    "\n",
    "installed_packages <- rownames(installed.packages())\n",
    "libraries_to_install <- setdiff(libraries, installed_packages)\n",
    "\n",
    "if (length(libraries_to_install) > 0) {\n",
    "  install.packages(libraries_to_install)\n",
    "}\n",
    "\n",
    "lapply(libraries, library, character.only = TRUE)\n"
   ]
  },
  {
   "cell_type": "code",
   "execution_count": 8,
   "id": "4acf646b",
   "metadata": {
    "vscode": {
     "languageId": "r"
    }
   },
   "outputs": [],
   "source": [
    "#Leeer tabla de victimas----\n",
    "leer_envipe_vic <- function(anio){\n",
    "  # Lista de URLs por año\n",
    "  urls <- list(\n",
    "    \"2016\" = \"https://www.inegi.org.mx/contenidos/programas/envipe/2016/microdatos/bd_envipe2016_dbf.zip\",\n",
    "    \"2017\" = \"https://www.inegi.org.mx/contenidos/programas/envipe/2017/microdatos/bd_envipe2017_dbf.zip\",\n",
    "    \"2018\" = \"https://www.inegi.org.mx/contenidos/programas/envipe/2018/microdatos/bd_envipe2018_dbf.zip\",\n",
    "    \"2019\" = \"https://www.inegi.org.mx/contenidos/programas/envipe/2019/microdatos/bd_envipe2019_dbf.zip\",\n",
    "    \"2020\" = \"https://www.inegi.org.mx/contenidos/programas/envipe/2020/microdatos/bd_envipe_2020_dbf.zip\",\n",
    "    \"2021\" = \"https://www.inegi.org.mx/contenidos/programas/envipe/2021/microdatos/bd_envipe_2021_dbf.zip\", \n",
    "    \"2022\" = \"https://www.inegi.org.mx/contenidos/programas/envipe/2022/microdatos/bd_envipe_2022_dbf.zip\", \n",
    "    \"2023\" = \"https://www.inegi.org.mx/contenidos/programas/envipe/2023/microdatos/bd_envipe_2023_dbf.zip\", \n",
    "    \"2024\" = \"https://www.inegi.org.mx/contenidos/programas/envipe/2024/microdatos/bd_envipe_2024_dbf.zip\")\n",
    "  \n",
    "  temp_zip <- tempfile(fileext = \".zip\")\n",
    "  temp_dir <- tempdir()\n",
    "  options(timeout = 800)\n",
    "  download.file(urls[[as.character(anio)]], temp_zip, mode = \"wb\")\n",
    "  unzip(temp_zip, exdir = temp_dir)\n",
    "  \n",
    "  envipe_datos <- list.files(temp_dir, pattern = \"TPer_Vic1.dbf\", \n",
    "                              full.names = TRUE, recursive = TRUE)\n",
    "  \n",
    "  datos <- foreign::read.dbf(envipe_datos)\n",
    "   \n",
    "  unlink(temp_zip)\n",
    "  unlink(list.files(temp_dir, full.names = TRUE), recursive = TRUE)\n",
    "  \n",
    "  return(datos)\n",
    "}\n"
   ]
  },
  {
   "cell_type": "code",
   "execution_count": 9,
   "id": "4dd181e8",
   "metadata": {
    "vscode": {
     "languageId": "r"
    }
   },
   "outputs": [],
   "source": [
    "#Ajustar los datos a las variables que quiero\n",
    "creacion_de_variable <- function(anio) {\n",
    "  \n",
    "  objeto_datos <- get(paste0(\"tpv\", anio))\n",
    "  \n",
    "  mutate(objeto_datos, \n",
    "         HOG = ifelse(!FAC_HOG_AM %in% \"0\",1,0), \n",
    "         cambio_viv = ifelse(AP4_11_10 %in% c(\"1\",\"2\"), \"población con respuesta\",\"sin respuesta\"))|>\n",
    "    filter(cambio_viv == \"población con respuesta\")|>\n",
    "    mutate(cambio_viv_violencia = ifelse(cambio_viv == \"población con respuesta\" & AP4_11_10 == \"1\", \"Se cambio de residencia\", \"No se cambio de residencia\"), \n",
    "           FAC_HOG_AM= as.numeric(FAC_HOG_AM))\n",
    "}"
   ]
  },
  {
   "cell_type": "code",
   "execution_count": 10,
   "id": "58577169",
   "metadata": {
    "vscode": {
     "languageId": "r"
    }
   },
   "outputs": [],
   "source": [
    "#Función para definir el diseño muestral----\n",
    "diseño_muestral <- function(anio) {\n",
    "  \n",
    "  objeto_datos <- get(paste0(\"tpv_\", anio))\n",
    "  \n",
    "  as_survey_design(objeto_datos,\n",
    "                   strata = EST_DIS,\n",
    "                   weights = FAC_HOG_AM,\n",
    "                   ids = UPM_DIS,\n",
    "                   nest = TRUE)\n",
    "}\n"
   ]
  },
  {
   "cell_type": "code",
   "execution_count": 11,
   "id": "b1ac5b6b",
   "metadata": {
    "vscode": {
     "languageId": "r"
    }
   },
   "outputs": [],
   "source": [
    "resultados_inseguridad <- function(anio) {\n",
    "  datos <- get(paste0(\"inseg_viv_\", anio))\n",
    "  \n",
    "  datos_dm <- datos |>\n",
    "    group_by(cambio_viv_violencia) |>\n",
    "    summarise(tot_p_inseg_viv = survey_total(vartype = \"cv\"),\n",
    "              porcentaje = survey_prop(vartype = \"cv\") * 100)|>\n",
    "    filter(cambio_viv_violencia == \"Se cambio de residencia\")|>\n",
    "    select(cambio_viv_violencia, porcentaje, porcentaje_cv)|>\n",
    "    mutate(ano = anio)\n",
    "  \n",
    "  return(datos_dm)\n",
    "}\n"
   ]
  },
  {
   "cell_type": "code",
   "execution_count": 12,
   "id": "075e1d4c",
   "metadata": {
    "vscode": {
     "languageId": "r"
    }
   },
   "outputs": [],
   "source": [
    "#Leer datos del la ENVIPE\n",
    "tpv2016 <- leer_envipe_vic(2016) |>  \n",
    "  filter(AREAM == \"01\")\n",
    "tpv2017 <- leer_envipe_vic(2017) |>  \n",
    "  filter(AREAM == \"01\")\n",
    "tpv2018 <- leer_envipe_vic(2018) |>  \n",
    "  filter(AREAM == \"01\")\n",
    "tpv2019 <- leer_envipe_vic(2019) |>  \n",
    "  filter(AREAM == \"01\")\n",
    "tpv2020 <- leer_envipe_vic(2020) |>  \n",
    "  filter(AREAM == \"01\")\n",
    "tpv2021 <- leer_envipe_vic(2021) |>  \n",
    "  filter(AREAM == \"01\")\n",
    "tpv2022 <- leer_envipe_vic(2022) |>  \n",
    "  filter(AREAM == \"01\")\n",
    "tpv2023 <- leer_envipe_vic(2023) |>  \n",
    "  filter(AREAM == \"01\")\n",
    "tpv2024 <- leer_envipe_vic(2024) |>  \n",
    "  filter(AREAM == \"01\")\n"
   ]
  },
  {
   "cell_type": "code",
   "execution_count": 13,
   "id": "5e8517e5",
   "metadata": {
    "vscode": {
     "languageId": "r"
    }
   },
   "outputs": [],
   "source": [
    "#Aplicar la generaación de campos para las variables de interes----\n",
    "tpv_2016<-creacion_de_variable(2016)\n",
    "tpv_2017<-creacion_de_variable(2017)\n",
    "tpv_2018<-creacion_de_variable(2018)\n",
    "tpv_2019<-creacion_de_variable(2019)\n",
    "tpv_2020<-creacion_de_variable(2020)\n",
    "tpv_2021<-creacion_de_variable(2021)\n",
    "tpv_2022<-creacion_de_variable(2022)\n",
    "tpv_2023<-creacion_de_variable(2023)\n",
    "tpv_2024<-creacion_de_variable(2024)\n"
   ]
  },
  {
   "cell_type": "code",
   "execution_count": 14,
   "id": "c820f98f",
   "metadata": {
    "vscode": {
     "languageId": "r"
    }
   },
   "outputs": [],
   "source": [
    "#Aplicar el diseño muestral para N años----\n",
    "inseg_viv_2016 <-diseño_muestral(2016)\n",
    "inseg_viv_2017 <-diseño_muestral(2017)\n",
    "inseg_viv_2018 <-diseño_muestral(2018)\n",
    "inseg_viv_2019 <-diseño_muestral(2019)\n",
    "inseg_viv_2020 <-diseño_muestral(2020)\n",
    "inseg_viv_2021 <-diseño_muestral(2021)\n",
    "inseg_viv_2022 <-diseño_muestral(2022)\n",
    "inseg_viv_2023 <-diseño_muestral(2023)\n",
    "inseg_viv_2024 <-diseño_muestral(2024)"
   ]
  },
  {
   "cell_type": "code",
   "execution_count": 15,
   "id": "da8b2065",
   "metadata": {
    "vscode": {
     "languageId": "r"
    }
   },
   "outputs": [],
   "source": [
    "p_inseg_viv_2016 <- resultados_inseguridad(2016)\n",
    "p_inseg_viv_2017 <- resultados_inseguridad(2017)\n",
    "p_inseg_viv_2018 <- resultados_inseguridad(2018)\n",
    "p_inseg_viv_2019 <- resultados_inseguridad(2019)\n",
    "p_inseg_viv_2020 <- resultados_inseguridad(2020)\n",
    "p_inseg_viv_2021 <- resultados_inseguridad(2021)\n",
    "p_inseg_viv_2022 <- resultados_inseguridad(2022)\n",
    "p_inseg_viv_2023 <- resultados_inseguridad(2023)\n",
    "p_inseg_viv_2024 <- resultados_inseguridad(2024)"
   ]
  },
  {
   "cell_type": "code",
   "execution_count": 16,
   "id": "4572457c",
   "metadata": {
    "vscode": {
     "languageId": "r"
    }
   },
   "outputs": [
    {
     "data": {
      "text/html": [
       "<table class=\"dataframe\">\n",
       "<caption>A tibble: 9 × 4</caption>\n",
       "<thead>\n",
       "\t<tr><th scope=col>porcentaje</th><th scope=col>porcentaje_cv</th><th scope=col>ano</th><th scope=col>tipo</th></tr>\n",
       "\t<tr><th scope=col>&lt;dbl&gt;</th><th scope=col>&lt;dbl&gt;</th><th scope=col>&lt;dbl&gt;</th><th scope=col>&lt;chr&gt;</th></tr>\n",
       "</thead>\n",
       "<tbody>\n",
       "\t<tr><td>0.5445647</td><td>22.65871</td><td>2016</td><td>Observado</td></tr>\n",
       "\t<tr><td>0.8511931</td><td>14.25700</td><td>2017</td><td>Observado</td></tr>\n",
       "\t<tr><td>0.9526708</td><td>13.81204</td><td>2018</td><td>Observado</td></tr>\n",
       "\t<tr><td>2.2724199</td><td>10.66799</td><td>2019</td><td>Observado</td></tr>\n",
       "\t<tr><td>1.4637549</td><td>11.41228</td><td>2020</td><td>Observado</td></tr>\n",
       "\t<tr><td>1.0784626</td><td>13.78512</td><td>2021</td><td>Observado</td></tr>\n",
       "\t<tr><td>0.4904186</td><td>17.13199</td><td>2022</td><td>Observado</td></tr>\n",
       "\t<tr><td>0.4384359</td><td>18.52074</td><td>2023</td><td>Observado</td></tr>\n",
       "\t<tr><td>1.1908910</td><td>13.05406</td><td>2024</td><td>Observado</td></tr>\n",
       "</tbody>\n",
       "</table>\n"
      ],
      "text/latex": [
       "A tibble: 9 × 4\n",
       "\\begin{tabular}{llll}\n",
       " porcentaje & porcentaje\\_cv & ano & tipo\\\\\n",
       " <dbl> & <dbl> & <dbl> & <chr>\\\\\n",
       "\\hline\n",
       "\t 0.5445647 & 22.65871 & 2016 & Observado\\\\\n",
       "\t 0.8511931 & 14.25700 & 2017 & Observado\\\\\n",
       "\t 0.9526708 & 13.81204 & 2018 & Observado\\\\\n",
       "\t 2.2724199 & 10.66799 & 2019 & Observado\\\\\n",
       "\t 1.4637549 & 11.41228 & 2020 & Observado\\\\\n",
       "\t 1.0784626 & 13.78512 & 2021 & Observado\\\\\n",
       "\t 0.4904186 & 17.13199 & 2022 & Observado\\\\\n",
       "\t 0.4384359 & 18.52074 & 2023 & Observado\\\\\n",
       "\t 1.1908910 & 13.05406 & 2024 & Observado\\\\\n",
       "\\end{tabular}\n"
      ],
      "text/markdown": [
       "\n",
       "A tibble: 9 × 4\n",
       "\n",
       "| porcentaje &lt;dbl&gt; | porcentaje_cv &lt;dbl&gt; | ano &lt;dbl&gt; | tipo &lt;chr&gt; |\n",
       "|---|---|---|---|\n",
       "| 0.5445647 | 22.65871 | 2016 | Observado |\n",
       "| 0.8511931 | 14.25700 | 2017 | Observado |\n",
       "| 0.9526708 | 13.81204 | 2018 | Observado |\n",
       "| 2.2724199 | 10.66799 | 2019 | Observado |\n",
       "| 1.4637549 | 11.41228 | 2020 | Observado |\n",
       "| 1.0784626 | 13.78512 | 2021 | Observado |\n",
       "| 0.4904186 | 17.13199 | 2022 | Observado |\n",
       "| 0.4384359 | 18.52074 | 2023 | Observado |\n",
       "| 1.1908910 | 13.05406 | 2024 | Observado |\n",
       "\n"
      ],
      "text/plain": [
       "  porcentaje porcentaje_cv ano  tipo     \n",
       "1 0.5445647  22.65871      2016 Observado\n",
       "2 0.8511931  14.25700      2017 Observado\n",
       "3 0.9526708  13.81204      2018 Observado\n",
       "4 2.2724199  10.66799      2019 Observado\n",
       "5 1.4637549  11.41228      2020 Observado\n",
       "6 1.0784626  13.78512      2021 Observado\n",
       "7 0.4904186  17.13199      2022 Observado\n",
       "8 0.4384359  18.52074      2023 Observado\n",
       "9 1.1908910  13.05406      2024 Observado"
      ]
     },
     "metadata": {},
     "output_type": "display_data"
    }
   ],
   "source": [
    "inseg_vivienda <-p_inseg_viv_2016|>\n",
    "  bind_rows(p_inseg_viv_2017, \n",
    "            p_inseg_viv_2018, \n",
    "            p_inseg_viv_2019, \n",
    "            p_inseg_viv_2020, \n",
    "            p_inseg_viv_2021,\n",
    "            p_inseg_viv_2022, \n",
    "            p_inseg_viv_2023, \n",
    "            p_inseg_viv_2024)|>\n",
    "  select(porcentaje,porcentaje_cv, ano)|>\n",
    "  mutate(tipo = \"Observado\")\n",
    "\n",
    "inseg_vivienda\n",
    "\n",
    "\n",
    "inseg_vivienda_2024 <- inseg_vivienda |> filter(ano == 2024)\n",
    "inseg_vivienda_2016 <- inseg_vivienda |> filter(ano == 2016)"
   ]
  },
  {
   "cell_type": "code",
   "execution_count": 17,
   "id": "f068029d",
   "metadata": {
    "vscode": {
     "languageId": "r"
    }
   },
   "outputs": [
    {
     "data": {
      "text/html": [
       "0.102751894211281"
      ],
      "text/latex": [
       "0.102751894211281"
      ],
      "text/markdown": [
       "0.102751894211281"
      ],
      "text/plain": [
       "[1] 0.1027519"
      ]
     },
     "metadata": {},
     "output_type": "display_data"
    },
    {
     "data": {
      "text/html": [
       "1.19089102996668"
      ],
      "text/latex": [
       "1.19089102996668"
      ],
      "text/markdown": [
       "1.19089102996668"
      ],
      "text/plain": [
       "[1] 1.190891"
      ]
     },
     "metadata": {},
     "output_type": "display_data"
    },
    {
     "data": {
      "text/html": [
       "<table class=\"dataframe\">\n",
       "<caption>A tibble: 18 × 3</caption>\n",
       "<thead>\n",
       "\t<tr><th scope=col>ano</th><th scope=col>porcentaje</th><th scope=col>tipo</th></tr>\n",
       "\t<tr><th scope=col>&lt;dbl&gt;</th><th scope=col>&lt;dbl&gt;</th><th scope=col>&lt;chr&gt;</th></tr>\n",
       "</thead>\n",
       "<tbody>\n",
       "\t<tr><td>2016</td><td>0.5445647</td><td>Observado    </td></tr>\n",
       "\t<tr><td>2017</td><td>0.8511931</td><td>Observado    </td></tr>\n",
       "\t<tr><td>2018</td><td>0.9526708</td><td>Observado    </td></tr>\n",
       "\t<tr><td>2019</td><td>2.2724199</td><td>Observado    </td></tr>\n",
       "\t<tr><td>2020</td><td>1.4637549</td><td>Observado    </td></tr>\n",
       "\t<tr><td>2021</td><td>1.0784626</td><td>Observado    </td></tr>\n",
       "\t<tr><td>2022</td><td>0.4904186</td><td>Observado    </td></tr>\n",
       "\t<tr><td>2023</td><td>0.4384359</td><td>Observado    </td></tr>\n",
       "\t<tr><td>2024</td><td>1.1908910</td><td>Observado    </td></tr>\n",
       "\t<tr><td>2030</td><td>1.4600000</td><td>Inercial     </td></tr>\n",
       "\t<tr><td>2035</td><td>1.7200000</td><td>Inercial     </td></tr>\n",
       "\t<tr><td>2045</td><td>2.4200000</td><td>Inercial     </td></tr>\n",
       "\t<tr><td>2030</td><td>0.8700000</td><td>Deseable     </td></tr>\n",
       "\t<tr><td>2035</td><td>0.6700000</td><td>Deseable     </td></tr>\n",
       "\t<tr><td>2045</td><td>0.3900000</td><td>Deseable     </td></tr>\n",
       "\t<tr><td>2030</td><td>0.7400000</td><td>Transformador</td></tr>\n",
       "\t<tr><td>2035</td><td>0.4900000</td><td>Transformador</td></tr>\n",
       "\t<tr><td>2045</td><td>0.2200000</td><td>Transformador</td></tr>\n",
       "</tbody>\n",
       "</table>\n"
      ],
      "text/latex": [
       "A tibble: 18 × 3\n",
       "\\begin{tabular}{lll}\n",
       " ano & porcentaje & tipo\\\\\n",
       " <dbl> & <dbl> & <chr>\\\\\n",
       "\\hline\n",
       "\t 2016 & 0.5445647 & Observado    \\\\\n",
       "\t 2017 & 0.8511931 & Observado    \\\\\n",
       "\t 2018 & 0.9526708 & Observado    \\\\\n",
       "\t 2019 & 2.2724199 & Observado    \\\\\n",
       "\t 2020 & 1.4637549 & Observado    \\\\\n",
       "\t 2021 & 1.0784626 & Observado    \\\\\n",
       "\t 2022 & 0.4904186 & Observado    \\\\\n",
       "\t 2023 & 0.4384359 & Observado    \\\\\n",
       "\t 2024 & 1.1908910 & Observado    \\\\\n",
       "\t 2030 & 1.4600000 & Inercial     \\\\\n",
       "\t 2035 & 1.7200000 & Inercial     \\\\\n",
       "\t 2045 & 2.4200000 & Inercial     \\\\\n",
       "\t 2030 & 0.8700000 & Deseable     \\\\\n",
       "\t 2035 & 0.6700000 & Deseable     \\\\\n",
       "\t 2045 & 0.3900000 & Deseable     \\\\\n",
       "\t 2030 & 0.7400000 & Transformador\\\\\n",
       "\t 2035 & 0.4900000 & Transformador\\\\\n",
       "\t 2045 & 0.2200000 & Transformador\\\\\n",
       "\\end{tabular}\n"
      ],
      "text/markdown": [
       "\n",
       "A tibble: 18 × 3\n",
       "\n",
       "| ano &lt;dbl&gt; | porcentaje &lt;dbl&gt; | tipo &lt;chr&gt; |\n",
       "|---|---|---|\n",
       "| 2016 | 0.5445647 | Observado     |\n",
       "| 2017 | 0.8511931 | Observado     |\n",
       "| 2018 | 0.9526708 | Observado     |\n",
       "| 2019 | 2.2724199 | Observado     |\n",
       "| 2020 | 1.4637549 | Observado     |\n",
       "| 2021 | 1.0784626 | Observado     |\n",
       "| 2022 | 0.4904186 | Observado     |\n",
       "| 2023 | 0.4384359 | Observado     |\n",
       "| 2024 | 1.1908910 | Observado     |\n",
       "| 2030 | 1.4600000 | Inercial      |\n",
       "| 2035 | 1.7200000 | Inercial      |\n",
       "| 2045 | 2.4200000 | Inercial      |\n",
       "| 2030 | 0.8700000 | Deseable      |\n",
       "| 2035 | 0.6700000 | Deseable      |\n",
       "| 2045 | 0.3900000 | Deseable      |\n",
       "| 2030 | 0.7400000 | Transformador |\n",
       "| 2035 | 0.4900000 | Transformador |\n",
       "| 2045 | 0.2200000 | Transformador |\n",
       "\n"
      ],
      "text/plain": [
       "   ano  porcentaje tipo         \n",
       "1  2016 0.5445647  Observado    \n",
       "2  2017 0.8511931  Observado    \n",
       "3  2018 0.9526708  Observado    \n",
       "4  2019 2.2724199  Observado    \n",
       "5  2020 1.4637549  Observado    \n",
       "6  2021 1.0784626  Observado    \n",
       "7  2022 0.4904186  Observado    \n",
       "8  2023 0.4384359  Observado    \n",
       "9  2024 1.1908910  Observado    \n",
       "10 2030 1.4600000  Inercial     \n",
       "11 2035 1.7200000  Inercial     \n",
       "12 2045 2.4200000  Inercial     \n",
       "13 2030 0.8700000  Deseable     \n",
       "14 2035 0.6700000  Deseable     \n",
       "15 2045 0.3900000  Deseable     \n",
       "16 2030 0.7400000  Transformador\n",
       "17 2035 0.4900000  Transformador\n",
       "18 2045 0.2200000  Transformador"
      ]
     },
     "metadata": {},
     "output_type": "display_data"
    }
   ],
   "source": [
    "##ESCENARIOS TENDENCIALES 2030,2035,2045\n",
    "# Tasa de variación\n",
    "tcma<-((inseg_vivienda_2024$porcentaje /inseg_vivienda_2016$porcentaje)^(1/(2024-2016)) - 1) \n",
    "tcma\n",
    "\n",
    "inseg_vivienda_base <- inseg_vivienda |>\n",
    "  filter(ano == 2024) |>\n",
    "  pull(porcentaje)\n",
    "\n",
    "inseg_vivienda_base\n",
    "\n",
    "# Años a proyectar\n",
    "años <- c(2030,2035,2045)\n",
    "año_base <- 2024\n",
    "\n",
    "tendencia_base <- data.frame(ano = años,\n",
    "                             porcentaje = round(inseg_vivienda_base * (1 + 1/3*tcma) ^ (años - año_base), 2),\n",
    "                             tipo = \"Inercial\")\n",
    "\n",
    "\n",
    "tendecia_deseable<-data.frame(ano = años,\n",
    "                              porcentaje = round(inseg_vivienda_base * (1 + -1/2*tcma) ^ (años - año_base), 2),\n",
    "                              tipo = \"Deseable\")\n",
    "\n",
    "\n",
    "tendecia_transformadora <-data.frame(ano = años,\n",
    "                                     porcentaje = round(inseg_vivienda_base * (1 + -3/4*tcma) ^ (años - año_base), 2),\n",
    "                                     tipo = \"Transformador\")\n",
    "\n",
    "\n",
    "inseg_vivienda_tendencias <- inseg_vivienda|>\n",
    "  bind_rows(tendencia_base,tendecia_deseable, \n",
    "            tendecia_transformadora)|>\n",
    "  select(ano, porcentaje, tipo)\n",
    "\n",
    "inseg_vivienda_tendencias"
   ]
  },
  {
   "cell_type": "code",
   "execution_count": null,
   "id": "dedc56e2",
   "metadata": {
    "vscode": {
     "languageId": "r"
    }
   },
   "outputs": [
    {
     "data": {
      "image/png": "[encoded data removed]",
      "text/plain": [
       "plot without title"
      ]
     },
     "metadata": {
      "image/png": {
       "height": 420,
       "width": 420
      }
     },
     "output_type": "display_data"
    }
   ],
   "source": [
    "lineas <- bind_rows(data.frame(ano = c(2024, 2030),\n",
    "                               porcentaje = c(inseg_vivienda_tendencias$porcentaje[inseg_vivienda_tendencias$ano == 2024 & inseg_vivienda_tendencias$tipo == \"Observado\"],\n",
    "                                              inseg_vivienda_tendencias$porcentaje[inseg_vivienda_tendencias$ano == 2030 & inseg_vivienda_tendencias$tipo == \"Inercial\"]),\n",
    "                               tipo = \"Inercial\"),\n",
    "                    data.frame(ano = c(2024, 2030),\n",
    "                               porcentaje = c(inseg_vivienda_tendencias$porcentaje[inseg_vivienda_tendencias$ano == 2024 & inseg_vivienda_tendencias$tipo == \"Observado\"], \n",
    "                                              inseg_vivienda_tendencias$porcentaje[inseg_vivienda_tendencias$ano == 2030 & inseg_vivienda_tendencias$tipo == \"Deseable\"]),\n",
    "                               tipo = \"Deseable\"), \n",
    "                    data.frame(ano = c(2024, 2030),\n",
    "                               porcentaje = c(inseg_vivienda_tendencias$porcentaje[inseg_vivienda_tendencias$ano == 2024 & inseg_vivienda_tendencias$tipo == \"Observado\"], \n",
    "                                              inseg_vivienda_tendencias$porcentaje[inseg_vivienda_tendencias$ano == 2030 & inseg_vivienda_tendencias$tipo == \"Transformador\"]),\n",
    "                               tipo = \"Transformador\"))\n",
    "\n",
    "\n",
    "paleta_colores <- c(\"Observado\" = \"#9F2241\",\n",
    "                    \"Inercial\" = \"#cfcfcf\" ,\n",
    "                    \"Deseable\" = \"#027A35\", \n",
    "                    \"Transformador\" = \"#AC6D14\")\n",
    "\n",
    "linetypes <- c(\"Observado\" = \"solid\",\n",
    "               \"Inercial\" = \"dotdash\",\n",
    "               \"Deseable\" = \"dotdash\", \n",
    "               \"Transformador\" = \"dotdash\")\n",
    "\n",
    "\n",
    "# Gráfico con etiquetas y eje Y personalizado\n",
    "ggplot(inseg_vivienda_tendencias, aes(x = ano, y = porcentaje, group = tipo, color = tipo, linetype = tipo)) +\n",
    "  geom_line(linewidth = 1.2) +\n",
    "  geom_point(size = 3) +\n",
    "  geom_line(data = lineas, aes(x = ano, y = porcentaje, group = tipo), linewidth = 1.2) +\n",
    "  geom_text(aes(label = round(porcentaje, 1)),\n",
    "            position = position_nudge(y = 0.2),\n",
    "            size = 5, show.legend = FALSE) +\n",
    "  scale_color_manual(values = paleta_colores) +\n",
    "  scale_linetype_manual(values = linetypes) +\n",
    "  scale_y_continuous(breaks = seq(0, max(inseg_vivienda_tendencias$porcentaje, na.rm = TRUE) +100, by = 50),\n",
    "                     labels = function(x) paste0(x, \"\"),\n",
    "                     expand = expansion(mult = c(0.09,0.5))) +\n",
    "  labs(title = \"\",\n",
    "       x = \"Año\",\n",
    "       y = \"Porcentaje\",\n",
    "       color = \"\",\n",
    "       linetype = \"\") +\n",
    "  theme_bw(base_size = 15) +\n",
    "  theme( panel.grid.minor.y = element_line(color = \"gray80\", linetype = \"dotted\"),\n",
    "         panel.grid.minor.x = element_blank(),\n",
    "         panel.grid.major.y = element_blank(),\n",
    "         panel.border = element_blank(),\n",
    "         axis.line = element_line(color = \"gray80\"),\n",
    "         legend.position = \"top\",\n",
    "         plot.caption = element_text(hjust = 100))\n",
    "\n",
    "ggsave(\"inseg_vivienda_tendencias.png\", width = 8, height = 5, dpi = 300)"
   ]
  }
 ],
 "metadata": {
  "kernelspec": {
   "display_name": "R",
   "language": "R",
   "name": "ir"
  },
  "language_info": {
   "codemirror_mode": "r",
   "file_extension": ".r",
   "mimetype": "text/x-r-source",
   "name": "R",
   "pygments_lexer": "r",
   "version": "4.4.3"
  }
 },
 "nbformat": 4,
 "nbformat_minor": 5
}
