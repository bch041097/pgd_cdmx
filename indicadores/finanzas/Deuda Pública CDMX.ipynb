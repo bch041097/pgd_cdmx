{
 "cells": [
  {
   "cell_type": "markdown",
   "id": "e9e413a4",
   "metadata": {},
   "source": [
    "Análisis de la Deuda Pública de la Ciudad de México.\n"
   ]
  },
  {
   "cell_type": "code",
   "execution_count": 1,
   "id": "072d1349",
   "metadata": {
    "vscode": {
     "languageId": "r"
    }
   },
   "outputs": [
    {
     "name": "stderr",
     "output_type": "stream",
     "text": [
      "Cargando paquete requerido: pacman\n",
      "\n",
      "Installing package into 'C:/Users/claud/AppData/Local/R/win-library/4.4'\n",
      "(as 'lib' is unspecified)\n",
      "\n",
      "Warning message:\n",
      "\"package 'ggplot' is not available for this version of R\n",
      "\n",
      "A version of this package for your version of R might be available elsewhere,\n",
      "see the ideas at\n",
      "https://cran.r-project.org/doc/manuals/r-patched/R-admin.html#Installing-packages\"\n",
      "Warning message:\n",
      "\"unable to access index for repository http://www.stats.ox.ac.uk/pub/RWin/bin/windows/contrib/4.4:\n",
      "  no fue posible abrir la URL 'http://www.stats.ox.ac.uk/pub/RWin/bin/windows/contrib/4.4/PACKAGES'\"\n",
      "Warning message:\n",
      "\"'BiocManager' not available.  Could not check Bioconductor.\n",
      "\n",
      "Please use `install.packages('BiocManager')` and then retry.\"\n",
      "Warning message in p_install(package, character.only = TRUE, ...):\n",
      "\"\"\n",
      "Warning message in library(package, lib.loc = lib.loc, character.only = TRUE, logical.return = TRUE, :\n",
      "\"no hay paquete llamado 'ggplot'\"\n",
      "Warning message in pacman::p_load(tidyverse, srvyr, janitor, stringr, readxl, writexl, :\n",
      "\"Failed to install/load:\n",
      "ggplot\"\n"
     ]
    }
   ],
   "source": [
    "#Se cargan las librerías\n",
    "rm(list=ls())\n",
    "if(! require('pacman')) install.packages('pacman')\n",
    "pacman::p_load(tidyverse, srvyr, janitor, stringr, readxl, writexl, tools, dplyr, jsonlite, ggplot, ggplot2)\n"
   ]
  },
  {
   "cell_type": "code",
   "execution_count": 29,
   "id": "61ce3117",
   "metadata": {
    "vscode": {
     "languageId": "r"
    }
   },
   "outputs": [
    {
     "data": {
      "text/html": [
       "<table class=\"dataframe\">\n",
       "<caption>A data.frame: 6 × 22</caption>\n",
       "<thead>\n",
       "\t<tr><th></th><th scope=col>anio</th><th scope=col>trimestre</th><th scope=col>mes</th><th scope=col>no_registro</th><th scope=col>tipo_deuda</th><th scope=col>detalle_tipo_deuda</th><th scope=col>acreedor</th><th scope=col>concepto</th><th scope=col>inicio_credito</th><th scope=col>fin_credito</th><th scope=col>⋯</th><th scope=col>disposicion_inicial_credito</th><th scope=col>colocacion_periodo</th><th scope=col>amortizaciones_periodo</th><th scope=col>intereses_periodo</th><th scope=col>pago_servicio_deuda</th><th scope=col>saldo_periodo</th><th scope=col>endeudamiento_periodo</th><th scope=col>tasa</th><th scope=col>sobretasa</th><th scope=col>tasa_final</th></tr>\n",
       "\t<tr><th></th><th scope=col>&lt;int&gt;</th><th scope=col>&lt;chr&gt;</th><th scope=col>&lt;chr&gt;</th><th scope=col>&lt;chr&gt;</th><th scope=col>&lt;chr&gt;</th><th scope=col>&lt;chr&gt;</th><th scope=col>&lt;chr&gt;</th><th scope=col>&lt;chr&gt;</th><th scope=col>&lt;chr&gt;</th><th scope=col>&lt;chr&gt;</th><th scope=col>⋯</th><th scope=col>&lt;dbl&gt;</th><th scope=col>&lt;dbl&gt;</th><th scope=col>&lt;dbl&gt;</th><th scope=col>&lt;dbl&gt;</th><th scope=col>&lt;dbl&gt;</th><th scope=col>&lt;dbl&gt;</th><th scope=col>&lt;dbl&gt;</th><th scope=col>&lt;chr&gt;</th><th scope=col>&lt;chr&gt;</th><th scope=col>&lt;chr&gt;</th></tr>\n",
       "</thead>\n",
       "<tbody>\n",
       "\t<tr><th scope=row>1</th><td>2018</td><td>Cuarto Trimestre</td><td>Diciembre</td><td>145/2010</td><td>Largo Plazo</td><td>Mercado de Capitales</td><td>CI BANCO</td><td>BONO GDFCB 10-2</td><td>2010-06-25</td><td>2020-06-12</td><td>⋯</td><td>2520951200</td><td>0</td><td>        0</td><td>201367980</td><td>201367980</td><td>2520951200</td><td>         0</td><td>7.9 </td><td>NA  </td><td>7.9      </td></tr>\n",
       "\t<tr><th scope=row>2</th><td>2018</td><td>Cuarto Trimestre</td><td>Diciembre</td><td>224/2007</td><td>Largo Plazo</td><td>Banca Comercial     </td><td>BANCOMER</td><td>BANCOMER 3,457 </td><td>2007-08-30</td><td>1937-07-27</td><td>⋯</td><td>3457974221</td><td>0</td><td> 14809395</td><td>286096649</td><td>300906044</td><td>3389145884</td><td> -14809395</td><td>TIIE</td><td>0.35</td><td>TIIE+0.35</td></tr>\n",
       "\t<tr><th scope=row>3</th><td>2018</td><td>Cuarto Trimestre</td><td>Diciembre</td><td>225/2007</td><td>Largo Plazo</td><td>Banca Comercial     </td><td>BANCOMER</td><td>BANCOMER 7000  </td><td>2007-08-31</td><td>1940-08-27</td><td>⋯</td><td>7000000000</td><td>0</td><td>108919451</td><td>580949163</td><td>689868614</td><td>6371209229</td><td>-108919451</td><td>8.91</td><td>NA  </td><td>8.91     </td></tr>\n",
       "\t<tr><th scope=row>4</th><td>2018</td><td>Cuarto Trimestre</td><td>Diciembre</td><td>226/2007</td><td>Largo Plazo</td><td>Banca Comercial     </td><td>BANCOMER</td><td>BANCOMER 4,700 </td><td>2007-08-31</td><td>1937-07-27</td><td>⋯</td><td>4700000000</td><td>0</td><td> 20128593</td><td>401869663</td><td>421998256</td><td>4606450089</td><td> -20128593</td><td>8.8 </td><td>NA  </td><td>8.8      </td></tr>\n",
       "\t<tr><th scope=row>5</th><td>2018</td><td>Cuarto Trimestre</td><td>Diciembre</td><td>513/2008</td><td>Largo Plazo</td><td>Banca de Desarrollo </td><td>BANOBRAS</td><td>BANOBRAS  1,914</td><td>2008-12-26</td><td>2019-10-25</td><td>⋯</td><td>1914680897</td><td>0</td><td>320373501</td><td> 24450928</td><td>344824429</td><td> 127743305</td><td>-320373501</td><td>TIIE</td><td>0.97</td><td>TIIE+0.97</td></tr>\n",
       "\t<tr><th scope=row>6</th><td>2018</td><td>Cuarto Trimestre</td><td>Diciembre</td><td>562/2010</td><td>Largo Plazo</td><td>Banca de Desarrollo </td><td>BANOBRAS</td><td>BANOBRAS  1,499</td><td>2010-12-28</td><td>1940-10-25</td><td>⋯</td><td>1499069398</td><td>0</td><td> 95833334</td><td>115783489</td><td>211616823</td><td>1199069398</td><td> -95833334</td><td>9.13</td><td>NA  </td><td>9.13     </td></tr>\n",
       "</tbody>\n",
       "</table>\n"
      ],
      "text/latex": [
       "A data.frame: 6 × 22\n",
       "\\begin{tabular}{r|lllllllllllllllllllll}\n",
       "  & anio & trimestre & mes & no\\_registro & tipo\\_deuda & detalle\\_tipo\\_deuda & acreedor & concepto & inicio\\_credito & fin\\_credito & ⋯ & disposicion\\_inicial\\_credito & colocacion\\_periodo & amortizaciones\\_periodo & intereses\\_periodo & pago\\_servicio\\_deuda & saldo\\_periodo & endeudamiento\\_periodo & tasa & sobretasa & tasa\\_final\\\\\n",
       "  & <int> & <chr> & <chr> & <chr> & <chr> & <chr> & <chr> & <chr> & <chr> & <chr> & ⋯ & <dbl> & <dbl> & <dbl> & <dbl> & <dbl> & <dbl> & <dbl> & <chr> & <chr> & <chr>\\\\\n",
       "\\hline\n",
       "\t1 & 2018 & Cuarto Trimestre & Diciembre & 145/2010 & Largo Plazo & Mercado de Capitales & CI BANCO & BONO GDFCB 10-2 & 2010-06-25 & 2020-06-12 & ⋯ & 2520951200 & 0 &         0 & 201367980 & 201367980 & 2520951200 &          0 & 7.9  & NA   & 7.9      \\\\\n",
       "\t2 & 2018 & Cuarto Trimestre & Diciembre & 224/2007 & Largo Plazo & Banca Comercial      & BANCOMER & BANCOMER 3,457  & 2007-08-30 & 1937-07-27 & ⋯ & 3457974221 & 0 &  14809395 & 286096649 & 300906044 & 3389145884 &  -14809395 & TIIE & 0.35 & TIIE+0.35\\\\\n",
       "\t3 & 2018 & Cuarto Trimestre & Diciembre & 225/2007 & Largo Plazo & Banca Comercial      & BANCOMER & BANCOMER 7000   & 2007-08-31 & 1940-08-27 & ⋯ & 7000000000 & 0 & 108919451 & 580949163 & 689868614 & 6371209229 & -108919451 & 8.91 & NA   & 8.91     \\\\\n",
       "\t4 & 2018 & Cuarto Trimestre & Diciembre & 226/2007 & Largo Plazo & Banca Comercial      & BANCOMER & BANCOMER 4,700  & 2007-08-31 & 1937-07-27 & ⋯ & 4700000000 & 0 &  20128593 & 401869663 & 421998256 & 4606450089 &  -20128593 & 8.8  & NA   & 8.8      \\\\\n",
       "\t5 & 2018 & Cuarto Trimestre & Diciembre & 513/2008 & Largo Plazo & Banca de Desarrollo  & BANOBRAS & BANOBRAS  1,914 & 2008-12-26 & 2019-10-25 & ⋯ & 1914680897 & 0 & 320373501 &  24450928 & 344824429 &  127743305 & -320373501 & TIIE & 0.97 & TIIE+0.97\\\\\n",
       "\t6 & 2018 & Cuarto Trimestre & Diciembre & 562/2010 & Largo Plazo & Banca de Desarrollo  & BANOBRAS & BANOBRAS  1,499 & 2010-12-28 & 1940-10-25 & ⋯ & 1499069398 & 0 &  95833334 & 115783489 & 211616823 & 1199069398 &  -95833334 & 9.13 & NA   & 9.13     \\\\\n",
       "\\end{tabular}\n"
      ],
      "text/markdown": [
       "\n",
       "A data.frame: 6 × 22\n",
       "\n",
       "| <!--/--> | anio &lt;int&gt; | trimestre &lt;chr&gt; | mes &lt;chr&gt; | no_registro &lt;chr&gt; | tipo_deuda &lt;chr&gt; | detalle_tipo_deuda &lt;chr&gt; | acreedor &lt;chr&gt; | concepto &lt;chr&gt; | inicio_credito &lt;chr&gt; | fin_credito &lt;chr&gt; | ⋯ ⋯ | disposicion_inicial_credito &lt;dbl&gt; | colocacion_periodo &lt;dbl&gt; | amortizaciones_periodo &lt;dbl&gt; | intereses_periodo &lt;dbl&gt; | pago_servicio_deuda &lt;dbl&gt; | saldo_periodo &lt;dbl&gt; | endeudamiento_periodo &lt;dbl&gt; | tasa &lt;chr&gt; | sobretasa &lt;chr&gt; | tasa_final &lt;chr&gt; |\n",
       "|---|---|---|---|---|---|---|---|---|---|---|---|---|---|---|---|---|---|---|---|---|---|\n",
       "| 1 | 2018 | Cuarto Trimestre | Diciembre | 145/2010 | Largo Plazo | Mercado de Capitales | CI BANCO | BONO GDFCB 10-2 | 2010-06-25 | 2020-06-12 | ⋯ | 2520951200 | 0 |         0 | 201367980 | 201367980 | 2520951200 |          0 | 7.9  | NA   | 7.9       |\n",
       "| 2 | 2018 | Cuarto Trimestre | Diciembre | 224/2007 | Largo Plazo | Banca Comercial      | BANCOMER | BANCOMER 3,457  | 2007-08-30 | 1937-07-27 | ⋯ | 3457974221 | 0 |  14809395 | 286096649 | 300906044 | 3389145884 |  -14809395 | TIIE | 0.35 | TIIE+0.35 |\n",
       "| 3 | 2018 | Cuarto Trimestre | Diciembre | 225/2007 | Largo Plazo | Banca Comercial      | BANCOMER | BANCOMER 7000   | 2007-08-31 | 1940-08-27 | ⋯ | 7000000000 | 0 | 108919451 | 580949163 | 689868614 | 6371209229 | -108919451 | 8.91 | NA   | 8.91      |\n",
       "| 4 | 2018 | Cuarto Trimestre | Diciembre | 226/2007 | Largo Plazo | Banca Comercial      | BANCOMER | BANCOMER 4,700  | 2007-08-31 | 1937-07-27 | ⋯ | 4700000000 | 0 |  20128593 | 401869663 | 421998256 | 4606450089 |  -20128593 | 8.8  | NA   | 8.8       |\n",
       "| 5 | 2018 | Cuarto Trimestre | Diciembre | 513/2008 | Largo Plazo | Banca de Desarrollo  | BANOBRAS | BANOBRAS  1,914 | 2008-12-26 | 2019-10-25 | ⋯ | 1914680897 | 0 | 320373501 |  24450928 | 344824429 |  127743305 | -320373501 | TIIE | 0.97 | TIIE+0.97 |\n",
       "| 6 | 2018 | Cuarto Trimestre | Diciembre | 562/2010 | Largo Plazo | Banca de Desarrollo  | BANOBRAS | BANOBRAS  1,499 | 2010-12-28 | 1940-10-25 | ⋯ | 1499069398 | 0 |  95833334 | 115783489 | 211616823 | 1199069398 |  -95833334 | 9.13 | NA   | 9.13      |\n",
       "\n"
      ],
      "text/plain": [
       "  anio trimestre        mes       no_registro tipo_deuda  detalle_tipo_deuda  \n",
       "1 2018 Cuarto Trimestre Diciembre 145/2010    Largo Plazo Mercado de Capitales\n",
       "2 2018 Cuarto Trimestre Diciembre 224/2007    Largo Plazo Banca Comercial     \n",
       "3 2018 Cuarto Trimestre Diciembre 225/2007    Largo Plazo Banca Comercial     \n",
       "4 2018 Cuarto Trimestre Diciembre 226/2007    Largo Plazo Banca Comercial     \n",
       "5 2018 Cuarto Trimestre Diciembre 513/2008    Largo Plazo Banca de Desarrollo \n",
       "6 2018 Cuarto Trimestre Diciembre 562/2010    Largo Plazo Banca de Desarrollo \n",
       "  acreedor concepto        inicio_credito fin_credito ⋯\n",
       "1 CI BANCO BONO GDFCB 10-2 2010-06-25     2020-06-12  ⋯\n",
       "2 BANCOMER BANCOMER 3,457  2007-08-30     1937-07-27  ⋯\n",
       "3 BANCOMER BANCOMER 7000   2007-08-31     1940-08-27  ⋯\n",
       "4 BANCOMER BANCOMER 4,700  2007-08-31     1937-07-27  ⋯\n",
       "5 BANOBRAS BANOBRAS  1,914 2008-12-26     2019-10-25  ⋯\n",
       "6 BANOBRAS BANOBRAS  1,499 2010-12-28     1940-10-25  ⋯\n",
       "  disposicion_inicial_credito colocacion_periodo amortizaciones_periodo\n",
       "1 2520951200                  0                          0             \n",
       "2 3457974221                  0                   14809395             \n",
       "3 7000000000                  0                  108919451             \n",
       "4 4700000000                  0                   20128593             \n",
       "5 1914680897                  0                  320373501             \n",
       "6 1499069398                  0                   95833334             \n",
       "  intereses_periodo pago_servicio_deuda saldo_periodo endeudamiento_periodo\n",
       "1 201367980         201367980           2520951200             0           \n",
       "2 286096649         300906044           3389145884     -14809395           \n",
       "3 580949163         689868614           6371209229    -108919451           \n",
       "4 401869663         421998256           4606450089     -20128593           \n",
       "5  24450928         344824429            127743305    -320373501           \n",
       "6 115783489         211616823           1199069398     -95833334           \n",
       "  tasa sobretasa tasa_final\n",
       "1 7.9  NA        7.9       \n",
       "2 TIIE 0.35      TIIE+0.35 \n",
       "3 8.91 NA        8.91      \n",
       "4 8.8  NA        8.8       \n",
       "5 TIIE 0.97      TIIE+0.97 \n",
       "6 9.13 NA        9.13      "
      ]
     },
     "metadata": {},
     "output_type": "display_data"
    },
    {
     "data": {
      "text/html": [
       "1141"
      ],
      "text/latex": [
       "1141"
      ],
      "text/markdown": [
       "1141"
      ],
      "text/plain": [
       "[1] 1141"
      ]
     },
     "metadata": {},
     "output_type": "display_data"
    },
    {
     "data": {
      "text/html": [
       "<style>\n",
       ".list-inline {list-style: none; margin:0; padding: 0}\n",
       ".list-inline>li {display: inline-block}\n",
       ".list-inline>li:not(:last-child)::after {content: \"\\00b7\"; padding: 0 .5ex}\n",
       "</style>\n",
       "<ol class=list-inline><li>2018</li><li>2019</li><li>2020</li><li>2021</li><li>2022</li><li>2023</li><li>2024</li><li>2025</li></ol>\n"
      ],
      "text/latex": [
       "\\begin{enumerate*}\n",
       "\\item 2018\n",
       "\\item 2019\n",
       "\\item 2020\n",
       "\\item 2021\n",
       "\\item 2022\n",
       "\\item 2023\n",
       "\\item 2024\n",
       "\\item 2025\n",
       "\\end{enumerate*}\n"
      ],
      "text/markdown": [
       "1. 2018\n",
       "2. 2019\n",
       "3. 2020\n",
       "4. 2021\n",
       "5. 2022\n",
       "6. 2023\n",
       "7. 2024\n",
       "8. 2025\n",
       "\n",
       "\n"
      ],
      "text/plain": [
       "[1] 2018 2019 2020 2021 2022 2023 2024 2025"
      ]
     },
     "metadata": {},
     "output_type": "display_data"
    },
    {
     "data": {
      "text/html": [
       "<style>\n",
       ".list-inline {list-style: none; margin:0; padding: 0}\n",
       ".list-inline>li {display: inline-block}\n",
       ".list-inline>li:not(:last-child)::after {content: \"\\00b7\"; padding: 0 .5ex}\n",
       "</style>\n",
       "<ol class=list-inline><li>'anio'</li><li>'trimestre'</li><li>'mes'</li><li>'no_registro'</li><li>'tipo_deuda'</li><li>'detalle_tipo_deuda'</li><li>'acreedor'</li><li>'concepto'</li><li>'inicio_credito'</li><li>'fin_credito'</li><li>'dias_contrato'</li><li>'dias_restantes_contrato'</li><li>'disposicion_inicial_credito'</li><li>'colocacion_periodo'</li><li>'amortizaciones_periodo'</li><li>'intereses_periodo'</li><li>'pago_servicio_deuda'</li><li>'saldo_periodo'</li><li>'endeudamiento_periodo'</li><li>'tasa'</li><li>'sobretasa'</li><li>'tasa_final'</li></ol>\n"
      ],
      "text/latex": [
       "\\begin{enumerate*}\n",
       "\\item 'anio'\n",
       "\\item 'trimestre'\n",
       "\\item 'mes'\n",
       "\\item 'no\\_registro'\n",
       "\\item 'tipo\\_deuda'\n",
       "\\item 'detalle\\_tipo\\_deuda'\n",
       "\\item 'acreedor'\n",
       "\\item 'concepto'\n",
       "\\item 'inicio\\_credito'\n",
       "\\item 'fin\\_credito'\n",
       "\\item 'dias\\_contrato'\n",
       "\\item 'dias\\_restantes\\_contrato'\n",
       "\\item 'disposicion\\_inicial\\_credito'\n",
       "\\item 'colocacion\\_periodo'\n",
       "\\item 'amortizaciones\\_periodo'\n",
       "\\item 'intereses\\_periodo'\n",
       "\\item 'pago\\_servicio\\_deuda'\n",
       "\\item 'saldo\\_periodo'\n",
       "\\item 'endeudamiento\\_periodo'\n",
       "\\item 'tasa'\n",
       "\\item 'sobretasa'\n",
       "\\item 'tasa\\_final'\n",
       "\\end{enumerate*}\n"
      ],
      "text/markdown": [
       "1. 'anio'\n",
       "2. 'trimestre'\n",
       "3. 'mes'\n",
       "4. 'no_registro'\n",
       "5. 'tipo_deuda'\n",
       "6. 'detalle_tipo_deuda'\n",
       "7. 'acreedor'\n",
       "8. 'concepto'\n",
       "9. 'inicio_credito'\n",
       "10. 'fin_credito'\n",
       "11. 'dias_contrato'\n",
       "12. 'dias_restantes_contrato'\n",
       "13. 'disposicion_inicial_credito'\n",
       "14. 'colocacion_periodo'\n",
       "15. 'amortizaciones_periodo'\n",
       "16. 'intereses_periodo'\n",
       "17. 'pago_servicio_deuda'\n",
       "18. 'saldo_periodo'\n",
       "19. 'endeudamiento_periodo'\n",
       "20. 'tasa'\n",
       "21. 'sobretasa'\n",
       "22. 'tasa_final'\n",
       "\n",
       "\n"
      ],
      "text/plain": [
       " [1] \"anio\"                        \"trimestre\"                  \n",
       " [3] \"mes\"                         \"no_registro\"                \n",
       " [5] \"tipo_deuda\"                  \"detalle_tipo_deuda\"         \n",
       " [7] \"acreedor\"                    \"concepto\"                   \n",
       " [9] \"inicio_credito\"              \"fin_credito\"                \n",
       "[11] \"dias_contrato\"               \"dias_restantes_contrato\"    \n",
       "[13] \"disposicion_inicial_credito\" \"colocacion_periodo\"         \n",
       "[15] \"amortizaciones_periodo\"      \"intereses_periodo\"          \n",
       "[17] \"pago_servicio_deuda\"         \"saldo_periodo\"              \n",
       "[19] \"endeudamiento_periodo\"       \"tasa\"                       \n",
       "[21] \"sobretasa\"                   \"tasa_final\"                 "
      ]
     },
     "metadata": {},
     "output_type": "display_data"
    }
   ],
   "source": [
    "#importamos data\n",
    "deuda_publica <- read.csv(\"https://datos.cdmx.gob.mx/dataset/08676205-f878-41af-a111-6214be5a578b/resource/df01194f-7065-4cac-8c5d-c89b944ee9fd/download/deuda_publica_2025_03.csv\")\n",
    "head(deuda_publica)\n",
    "nrow(deuda_publica)\n",
    "unique(deuda_publica$anio)\n",
    "colnames(deuda_publica)"
   ]
  },
  {
   "cell_type": "markdown",
   "id": "11116db4",
   "metadata": {},
   "source": [
    "Cálculo del saldo histórico de la Deuda Pública. El total del saldo, de acuerdo a los informes de la Secretaría de Administración y Finanzas de la Ciudad de México, es igual a la sumatoria del la columna \"saldo_periodo\" para cada año. Si se quiere hacer una gráfica de la deuda pública, se recomienda su seguimiento de su saldo al cuarto trimestre de cada año"
   ]
  },
  {
   "cell_type": "code",
   "execution_count": 85,
   "id": "6846f8d8",
   "metadata": {
    "vscode": {
     "languageId": "r"
    }
   },
   "outputs": [
    {
     "data": {
      "text/html": [
       "<table class=\"dataframe\">\n",
       "<caption>A tibble: 6 × 6</caption>\n",
       "<thead>\n",
       "\t<tr><th scope=col>anio</th><th scope=col>saldo_4t</th><th scope=col>variacion_nom</th><th scope=col>mdp</th><th scope=col>diferencia</th><th scope=col>mdp2</th></tr>\n",
       "\t<tr><th scope=col>&lt;int&gt;</th><th scope=col>&lt;dbl&gt;</th><th scope=col>&lt;dbl&gt;</th><th scope=col>&lt;dbl&gt;</th><th scope=col>&lt;dbl&gt;</th><th scope=col>&lt;dbl&gt;</th></tr>\n",
       "</thead>\n",
       "<tbody>\n",
       "\t<tr><td>2018</td><td> 84356822108</td><td>      NA</td><td> 84356.82</td><td>        NA</td><td>      NA</td></tr>\n",
       "\t<tr><td>2019</td><td> 87254854640</td><td>3.435445</td><td> 87254.85</td><td>2898032532</td><td>2898.033</td></tr>\n",
       "\t<tr><td>2020</td><td> 90366961313</td><td>3.566686</td><td> 90366.96</td><td>3112106673</td><td>3112.107</td></tr>\n",
       "\t<tr><td>2021</td><td> 94474194434</td><td>4.545061</td><td> 94474.19</td><td>4107233121</td><td>4107.233</td></tr>\n",
       "\t<tr><td>2022</td><td> 98937697391</td><td>4.724574</td><td> 98937.70</td><td>4463502958</td><td>4463.503</td></tr>\n",
       "\t<tr><td>2023</td><td>101606425246</td><td>2.697382</td><td>101606.43</td><td>2668727854</td><td>2668.728</td></tr>\n",
       "</tbody>\n",
       "</table>\n"
      ],
      "text/latex": [
       "A tibble: 6 × 6\n",
       "\\begin{tabular}{llllll}\n",
       " anio & saldo\\_4t & variacion\\_nom & mdp & diferencia & mdp2\\\\\n",
       " <int> & <dbl> & <dbl> & <dbl> & <dbl> & <dbl>\\\\\n",
       "\\hline\n",
       "\t 2018 &  84356822108 &       NA &  84356.82 &         NA &       NA\\\\\n",
       "\t 2019 &  87254854640 & 3.435445 &  87254.85 & 2898032532 & 2898.033\\\\\n",
       "\t 2020 &  90366961313 & 3.566686 &  90366.96 & 3112106673 & 3112.107\\\\\n",
       "\t 2021 &  94474194434 & 4.545061 &  94474.19 & 4107233121 & 4107.233\\\\\n",
       "\t 2022 &  98937697391 & 4.724574 &  98937.70 & 4463502958 & 4463.503\\\\\n",
       "\t 2023 & 101606425246 & 2.697382 & 101606.43 & 2668727854 & 2668.728\\\\\n",
       "\\end{tabular}\n"
      ],
      "text/markdown": [
       "\n",
       "A tibble: 6 × 6\n",
       "\n",
       "| anio &lt;int&gt; | saldo_4t &lt;dbl&gt; | variacion_nom &lt;dbl&gt; | mdp &lt;dbl&gt; | diferencia &lt;dbl&gt; | mdp2 &lt;dbl&gt; |\n",
       "|---|---|---|---|---|---|\n",
       "| 2018 |  84356822108 |       NA |  84356.82 |         NA |       NA |\n",
       "| 2019 |  87254854640 | 3.435445 |  87254.85 | 2898032532 | 2898.033 |\n",
       "| 2020 |  90366961313 | 3.566686 |  90366.96 | 3112106673 | 3112.107 |\n",
       "| 2021 |  94474194434 | 4.545061 |  94474.19 | 4107233121 | 4107.233 |\n",
       "| 2022 |  98937697391 | 4.724574 |  98937.70 | 4463502958 | 4463.503 |\n",
       "| 2023 | 101606425246 | 2.697382 | 101606.43 | 2668727854 | 2668.728 |\n",
       "\n"
      ],
      "text/plain": [
       "  anio saldo_4t     variacion_nom mdp       diferencia mdp2    \n",
       "1 2018  84356822108       NA       84356.82         NA       NA\n",
       "2 2019  87254854640 3.435445       87254.85 2898032532 2898.033\n",
       "3 2020  90366961313 3.566686       90366.96 3112106673 3112.107\n",
       "4 2021  94474194434 4.545061       94474.19 4107233121 4107.233\n",
       "5 2022  98937697391 4.724574       98937.70 4463502958 4463.503\n",
       "6 2023 101606425246 2.697382      101606.43 2668727854 2668.728"
      ]
     },
     "metadata": {},
     "output_type": "display_data"
    }
   ],
   "source": [
    "\n",
    "datos_4t <- deuda_publica %>% \n",
    "  filter(trimestre == \"Cuarto Trimestre\") %>% #se registra la deuda del cuarto trimestre\n",
    "  group_by(anio) %>% \n",
    "  summarise(saldo_4t= sum(saldo_periodo)) %>% #se agrupa por año y se suma el saldo del periodo\n",
    "  mutate(variacion_nom = ((saldo_4t)-lag(saldo_4t))/lag(saldo_4t) * 100) %>% #Se calcula la variación nominal respecto al trimestre anterior\n",
    "  mutate(mdp = saldo_4t/1000000) %>%  #convertir a millones de pesos\n",
    "  mutate(diferencia = (saldo_4t)- lag(saldo_4t), #cálculo de la diferencia entre cada año\n",
    "         mdp2 = diferencia / 1000000) %>% \n",
    "  ungroup()\n",
    "  \n",
    "head(datos_4t)\n"
   ]
  },
  {
   "cell_type": "code",
   "execution_count": 6,
   "id": "55e27d4a",
   "metadata": {
    "vscode": {
     "languageId": "r"
    }
   },
   "outputs": [
    {
     "data": {
      "image/png": "[encoded data removed]",
      "text/plain": [
       "plot without title"
      ]
     },
     "metadata": {
      "image/png": {
       "height": 420,
       "width": 420
      }
     },
     "output_type": "display_data"
    }
   ],
   "source": [
    "\n",
    "#Gráfica con saldo de la deuda al cuarto trimestre 2018-2023\n",
    "ggplot(datos_4t, aes(x = anio, y = mdp)) +\n",
    "  geom_bar(stat = \"identity\", fill = \"grey\", color = \"grey\", width = 0.7) +  \n",
    "  geom_text(aes(label = round(mdp, 1)), vjust = -0.5, size = 3) +  \n",
    "  labs(\n",
    "    title = \"Saldo de la Deuda Pública de la Ciudad de México al cuarto trimestre, 2018-2023\",\n",
    "    subtitle = \"Millones de pesos\"\n",
    "  ) +\n",
    "  theme_minimal()"
   ]
  },
  {
   "cell_type": "code",
   "execution_count": 7,
   "id": "aa2e6192",
   "metadata": {
    "vscode": {
     "languageId": "r"
    }
   },
   "outputs": [
    {
     "name": "stderr",
     "output_type": "stream",
     "text": [
      "Warning message:\n",
      "\"\u001b[1m\u001b[22mRemoved 1 row containing missing values or values outside the scale range\n",
      "(`geom_bar()`).\"\n",
      "Warning message:\n",
      "\"\u001b[1m\u001b[22mRemoved 1 row containing missing values or values outside the scale range\n",
      "(`geom_text()`).\"\n"
     ]
    },
    {
     "data": {
      "image/png": "[encoded data removed]",
      "text/plain": [
       "plot without title"
      ]
     },
     "metadata": {
      "image/png": {
       "height": 420,
       "width": 420
      }
     },
     "output_type": "display_data"
    }
   ],
   "source": [
    "#Gráfica de la variación de saldo de la deuda al cuarto trimestre 2018-2023\n",
    "ggplot(datos_4t, aes(x = anio, y = variacion_nom)) +\n",
    "  geom_bar(stat = \"identity\", fill = \"grey\", color = \"grey\", width = 0.7) +  \n",
    "  geom_text(aes(label = round(variacion_nom, 1)), vjust = -0.5, size = 3) +  \n",
    "  labs(\n",
    "    title = \"Variación de la Deuda Pública de la Ciudad de México al cuarto trimestre, 2018-2023\"\n",
    "  ) +\n",
    "  theme_minimal()\n"
   ]
  },
  {
   "cell_type": "markdown",
   "id": "413b204a",
   "metadata": {},
   "source": [
    "Comparación del saldo de la deuda por trimestre"
   ]
  },
  {
   "cell_type": "code",
   "execution_count": 8,
   "id": "bdd21d50",
   "metadata": {
    "vscode": {
     "languageId": "r"
    }
   },
   "outputs": [
    {
     "data": {
      "text/html": [
       "<table class=\"dataframe\">\n",
       "<caption>A tibble: 6 × 5</caption>\n",
       "<thead>\n",
       "\t<tr><th scope=col>anio</th><th scope=col>trimestre</th><th scope=col>saldo</th><th scope=col>mdp</th><th scope=col>variacion_nom</th></tr>\n",
       "\t<tr><th scope=col>&lt;int&gt;</th><th scope=col>&lt;chr&gt;</th><th scope=col>&lt;dbl&gt;</th><th scope=col>&lt;dbl&gt;</th><th scope=col>&lt;dbl&gt;</th></tr>\n",
       "</thead>\n",
       "<tbody>\n",
       "\t<tr><td>2018</td><td>Cuarto Trimestre </td><td>84356822108</td><td>84356.82</td><td>       NA</td></tr>\n",
       "\t<tr><td>2019</td><td>Primer Trimestre </td><td>83453039576</td><td>83453.04</td><td>-1.071380</td></tr>\n",
       "\t<tr><td>2019</td><td>Segundo Trimestre</td><td>82317288130</td><td>82317.29</td><td>-1.360947</td></tr>\n",
       "\t<tr><td>2019</td><td>Tercer Trimestre </td><td>80715122032</td><td>80715.12</td><td>-1.946330</td></tr>\n",
       "\t<tr><td>2019</td><td>Cuarto Trimestre </td><td>87254854640</td><td>87254.85</td><td> 8.102240</td></tr>\n",
       "\t<tr><td>2020</td><td>Primer Trimestre </td><td>86222646678</td><td>86222.65</td><td>-1.182981</td></tr>\n",
       "</tbody>\n",
       "</table>\n"
      ],
      "text/latex": [
       "A tibble: 6 × 5\n",
       "\\begin{tabular}{lllll}\n",
       " anio & trimestre & saldo & mdp & variacion\\_nom\\\\\n",
       " <int> & <chr> & <dbl> & <dbl> & <dbl>\\\\\n",
       "\\hline\n",
       "\t 2018 & Cuarto Trimestre  & 84356822108 & 84356.82 &        NA\\\\\n",
       "\t 2019 & Primer Trimestre  & 83453039576 & 83453.04 & -1.071380\\\\\n",
       "\t 2019 & Segundo Trimestre & 82317288130 & 82317.29 & -1.360947\\\\\n",
       "\t 2019 & Tercer Trimestre  & 80715122032 & 80715.12 & -1.946330\\\\\n",
       "\t 2019 & Cuarto Trimestre  & 87254854640 & 87254.85 &  8.102240\\\\\n",
       "\t 2020 & Primer Trimestre  & 86222646678 & 86222.65 & -1.182981\\\\\n",
       "\\end{tabular}\n"
      ],
      "text/markdown": [
       "\n",
       "A tibble: 6 × 5\n",
       "\n",
       "| anio &lt;int&gt; | trimestre &lt;chr&gt; | saldo &lt;dbl&gt; | mdp &lt;dbl&gt; | variacion_nom &lt;dbl&gt; |\n",
       "|---|---|---|---|---|\n",
       "| 2018 | Cuarto Trimestre  | 84356822108 | 84356.82 |        NA |\n",
       "| 2019 | Primer Trimestre  | 83453039576 | 83453.04 | -1.071380 |\n",
       "| 2019 | Segundo Trimestre | 82317288130 | 82317.29 | -1.360947 |\n",
       "| 2019 | Tercer Trimestre  | 80715122032 | 80715.12 | -1.946330 |\n",
       "| 2019 | Cuarto Trimestre  | 87254854640 | 87254.85 |  8.102240 |\n",
       "| 2020 | Primer Trimestre  | 86222646678 | 86222.65 | -1.182981 |\n",
       "\n"
      ],
      "text/plain": [
       "  anio trimestre         saldo       mdp      variacion_nom\n",
       "1 2018 Cuarto Trimestre  84356822108 84356.82        NA    \n",
       "2 2019 Primer Trimestre  83453039576 83453.04 -1.071380    \n",
       "3 2019 Segundo Trimestre 82317288130 82317.29 -1.360947    \n",
       "4 2019 Tercer Trimestre  80715122032 80715.12 -1.946330    \n",
       "5 2019 Cuarto Trimestre  87254854640 87254.85  8.102240    \n",
       "6 2020 Primer Trimestre  86222646678 86222.65 -1.182981    "
      ]
     },
     "metadata": {},
     "output_type": "display_data"
    },
    {
     "data": {
      "text/html": [
       "<table class=\"dataframe\">\n",
       "<caption>A tibble: 6 × 5</caption>\n",
       "<thead>\n",
       "\t<tr><th scope=col>anio</th><th scope=col>trimestre</th><th scope=col>saldo</th><th scope=col>mdp</th><th scope=col>variacion_nom</th></tr>\n",
       "\t<tr><th scope=col>&lt;int&gt;</th><th scope=col>&lt;chr&gt;</th><th scope=col>&lt;dbl&gt;</th><th scope=col>&lt;dbl&gt;</th><th scope=col>&lt;dbl&gt;</th></tr>\n",
       "</thead>\n",
       "<tbody>\n",
       "\t<tr><td>2023</td><td>Primer Trimestre </td><td> 97108312145</td><td> 97108.31</td><td>-1.849028</td></tr>\n",
       "\t<tr><td>2023</td><td>Segundo Trimestre</td><td> 95269077638</td><td> 95269.08</td><td>-1.894003</td></tr>\n",
       "\t<tr><td>2023</td><td>Tercer Trimestre </td><td> 93419663446</td><td> 93419.66</td><td>-1.941253</td></tr>\n",
       "\t<tr><td>2023</td><td>Cuarto Trimestre </td><td>101606425246</td><td>101606.43</td><td> 8.763425</td></tr>\n",
       "\t<tr><td>2024</td><td>Primer Trimestre </td><td>100006840119</td><td>100006.84</td><td>-1.574295</td></tr>\n",
       "\t<tr><td>2024</td><td>Segundo Trimestre</td><td> 98354231184</td><td> 98354.23</td><td>-1.652496</td></tr>\n",
       "</tbody>\n",
       "</table>\n"
      ],
      "text/latex": [
       "A tibble: 6 × 5\n",
       "\\begin{tabular}{lllll}\n",
       " anio & trimestre & saldo & mdp & variacion\\_nom\\\\\n",
       " <int> & <chr> & <dbl> & <dbl> & <dbl>\\\\\n",
       "\\hline\n",
       "\t 2023 & Primer Trimestre  &  97108312145 &  97108.31 & -1.849028\\\\\n",
       "\t 2023 & Segundo Trimestre &  95269077638 &  95269.08 & -1.894003\\\\\n",
       "\t 2023 & Tercer Trimestre  &  93419663446 &  93419.66 & -1.941253\\\\\n",
       "\t 2023 & Cuarto Trimestre  & 101606425246 & 101606.43 &  8.763425\\\\\n",
       "\t 2024 & Primer Trimestre  & 100006840119 & 100006.84 & -1.574295\\\\\n",
       "\t 2024 & Segundo Trimestre &  98354231184 &  98354.23 & -1.652496\\\\\n",
       "\\end{tabular}\n"
      ],
      "text/markdown": [
       "\n",
       "A tibble: 6 × 5\n",
       "\n",
       "| anio &lt;int&gt; | trimestre &lt;chr&gt; | saldo &lt;dbl&gt; | mdp &lt;dbl&gt; | variacion_nom &lt;dbl&gt; |\n",
       "|---|---|---|---|---|\n",
       "| 2023 | Primer Trimestre  |  97108312145 |  97108.31 | -1.849028 |\n",
       "| 2023 | Segundo Trimestre |  95269077638 |  95269.08 | -1.894003 |\n",
       "| 2023 | Tercer Trimestre  |  93419663446 |  93419.66 | -1.941253 |\n",
       "| 2023 | Cuarto Trimestre  | 101606425246 | 101606.43 |  8.763425 |\n",
       "| 2024 | Primer Trimestre  | 100006840119 | 100006.84 | -1.574295 |\n",
       "| 2024 | Segundo Trimestre |  98354231184 |  98354.23 | -1.652496 |\n",
       "\n"
      ],
      "text/plain": [
       "  anio trimestre         saldo        mdp       variacion_nom\n",
       "1 2023 Primer Trimestre   97108312145  97108.31 -1.849028    \n",
       "2 2023 Segundo Trimestre  95269077638  95269.08 -1.894003    \n",
       "3 2023 Tercer Trimestre   93419663446  93419.66 -1.941253    \n",
       "4 2023 Cuarto Trimestre  101606425246 101606.43  8.763425    \n",
       "5 2024 Primer Trimestre  100006840119 100006.84 -1.574295    \n",
       "6 2024 Segundo Trimestre  98354231184  98354.23 -1.652496    "
      ]
     },
     "metadata": {},
     "output_type": "display_data"
    }
   ],
   "source": [
    "      \n",
    "datos_t <- deuda_publica %>% \n",
    "  group_by(anio, trimestre) %>%\n",
    "  summarise(saldo = sum(saldo_periodo), .groups = \"drop\") %>% #se suma el saldo por trimestre y año\n",
    "  mutate(\n",
    "    mdp = as.numeric(saldo / 1000000), # convertir a millones de pesos\n",
    "    trimestre_num = case_when(\n",
    "      trimestre == \"Primer Trimestre\" ~ 1,\n",
    "      trimestre == \"Segundo Trimestre\" ~ 2,    \n",
    "      trimestre == \"Tercer Trimestre\" ~ 3,\n",
    "      trimestre == \"Cuarto Trimestre\" ~ 4,\n",
    "      TRUE ~ NA_real_\n",
    "    )\n",
    "  ) %>%                                            \n",
    "  arrange(anio, trimestre_num) %>%  # ordenar por año y trimestre\n",
    "  select(anio, trimestre, saldo, mdp) %>%  #Se seleccionan las columnas de interés\n",
    "  mutate(variacion_nom = ((mdp)-lag(mdp))/lag(mdp) * 100) %>%  #se calcula la variación nominal respecto al trimestre anterior\n",
    "  filter(anio <=2024)  #se filtran los datos hasta el año 2024 ya que el registro completo de los trimestres es consecutivo hasta el segundo trimestre de 2024\n",
    " \n",
    "\n",
    "head(datos_t)\n",
    "tail(datos_t)"
   ]
  },
  {
   "cell_type": "markdown",
   "id": "fd73996a",
   "metadata": {},
   "source": [
    "¿Por cuánto tiempo han sido los créditos de la Ciudad de México?"
   ]
  },
  {
   "cell_type": "code",
   "execution_count": 10,
   "id": "2465708d",
   "metadata": {
    "vscode": {
     "languageId": "r"
    }
   },
   "outputs": [
    {
     "data": {
      "text/html": [
       "<table class=\"dataframe\">\n",
       "<caption>A data.frame: 6 × 11</caption>\n",
       "<thead>\n",
       "\t<tr><th></th><th scope=col>anio</th><th scope=col>tipo_deuda</th><th scope=col>inicio_credito</th><th scope=col>fin_credito</th><th scope=col>detalle_tipo_deuda</th><th scope=col>saldo_periodo</th><th scope=col>acreedor</th><th scope=col>dias_contrato</th><th scope=col>no_registro</th><th scope=col>dias_restantes_contrato</th><th scope=col>años</th></tr>\n",
       "\t<tr><th></th><th scope=col>&lt;int&gt;</th><th scope=col>&lt;chr&gt;</th><th scope=col>&lt;chr&gt;</th><th scope=col>&lt;chr&gt;</th><th scope=col>&lt;chr&gt;</th><th scope=col>&lt;dbl&gt;</th><th scope=col>&lt;chr&gt;</th><th scope=col>&lt;int&gt;</th><th scope=col>&lt;chr&gt;</th><th scope=col>&lt;int&gt;</th><th scope=col>&lt;dbl&gt;</th></tr>\n",
       "</thead>\n",
       "<tbody>\n",
       "\t<tr><th scope=row>1</th><td>2025</td><td>Largo Plazo</td><td>2007-09-07</td><td>2047-09-25</td><td>Banca Comercial    </td><td>7000000000</td><td>HSBC    </td><td>14628</td><td>233/2007</td><td>8215</td><td>40.07671</td></tr>\n",
       "\t<tr><th scope=row>2</th><td>2025</td><td>Largo Plazo</td><td>2007-10-17</td><td>2047-10-25</td><td>Banca de Desarrollo</td><td>2876845028</td><td>BANOBRAS</td><td>14618</td><td>262/2007</td><td>8245</td><td>40.04932</td></tr>\n",
       "\t<tr><th scope=row>3</th><td>2025</td><td>Largo Plazo</td><td>2007-10-17</td><td>2040-10-25</td><td>Banca de Desarrollo</td><td>3945041541</td><td>BANOBRAS</td><td>12062</td><td>261/2007</td><td>5689</td><td>33.04658</td></tr>\n",
       "\t<tr><th scope=row>4</th><td>2025</td><td>Largo Plazo</td><td>2007-08-31</td><td>2040-08-27</td><td>Banca Comercial    </td><td>5462932711</td><td>BANCOMER</td><td>12050</td><td>225/2007</td><td>5630</td><td>33.01370</td></tr>\n",
       "\t<tr><th scope=row>5</th><td>2025</td><td>Largo Plazo</td><td>2007-10-17</td><td>2037-10-26</td><td>Banca de Desarrollo</td><td>4433858061</td><td>BANOBRAS</td><td>10967</td><td>260/2007</td><td>4594</td><td>30.04658</td></tr>\n",
       "\t<tr><th scope=row>6</th><td>2025</td><td>Largo Plazo</td><td>2007-08-30</td><td>2037-07-27</td><td>Banca Comercial    </td><td>3183704915</td><td>BANCOMER</td><td>10924</td><td>224/2007</td><td>4503</td><td>29.92877</td></tr>\n",
       "</tbody>\n",
       "</table>\n"
      ],
      "text/latex": [
       "A data.frame: 6 × 11\n",
       "\\begin{tabular}{r|lllllllllll}\n",
       "  & anio & tipo\\_deuda & inicio\\_credito & fin\\_credito & detalle\\_tipo\\_deuda & saldo\\_periodo & acreedor & dias\\_contrato & no\\_registro & dias\\_restantes\\_contrato & años\\\\\n",
       "  & <int> & <chr> & <chr> & <chr> & <chr> & <dbl> & <chr> & <int> & <chr> & <int> & <dbl>\\\\\n",
       "\\hline\n",
       "\t1 & 2025 & Largo Plazo & 2007-09-07 & 2047-09-25 & Banca Comercial     & 7000000000 & HSBC     & 14628 & 233/2007 & 8215 & 40.07671\\\\\n",
       "\t2 & 2025 & Largo Plazo & 2007-10-17 & 2047-10-25 & Banca de Desarrollo & 2876845028 & BANOBRAS & 14618 & 262/2007 & 8245 & 40.04932\\\\\n",
       "\t3 & 2025 & Largo Plazo & 2007-10-17 & 2040-10-25 & Banca de Desarrollo & 3945041541 & BANOBRAS & 12062 & 261/2007 & 5689 & 33.04658\\\\\n",
       "\t4 & 2025 & Largo Plazo & 2007-08-31 & 2040-08-27 & Banca Comercial     & 5462932711 & BANCOMER & 12050 & 225/2007 & 5630 & 33.01370\\\\\n",
       "\t5 & 2025 & Largo Plazo & 2007-10-17 & 2037-10-26 & Banca de Desarrollo & 4433858061 & BANOBRAS & 10967 & 260/2007 & 4594 & 30.04658\\\\\n",
       "\t6 & 2025 & Largo Plazo & 2007-08-30 & 2037-07-27 & Banca Comercial     & 3183704915 & BANCOMER & 10924 & 224/2007 & 4503 & 29.92877\\\\\n",
       "\\end{tabular}\n"
      ],
      "text/markdown": [
       "\n",
       "A data.frame: 6 × 11\n",
       "\n",
       "| <!--/--> | anio &lt;int&gt; | tipo_deuda &lt;chr&gt; | inicio_credito &lt;chr&gt; | fin_credito &lt;chr&gt; | detalle_tipo_deuda &lt;chr&gt; | saldo_periodo &lt;dbl&gt; | acreedor &lt;chr&gt; | dias_contrato &lt;int&gt; | no_registro &lt;chr&gt; | dias_restantes_contrato &lt;int&gt; | años &lt;dbl&gt; |\n",
       "|---|---|---|---|---|---|---|---|---|---|---|---|\n",
       "| 1 | 2025 | Largo Plazo | 2007-09-07 | 2047-09-25 | Banca Comercial     | 7000000000 | HSBC     | 14628 | 233/2007 | 8215 | 40.07671 |\n",
       "| 2 | 2025 | Largo Plazo | 2007-10-17 | 2047-10-25 | Banca de Desarrollo | 2876845028 | BANOBRAS | 14618 | 262/2007 | 8245 | 40.04932 |\n",
       "| 3 | 2025 | Largo Plazo | 2007-10-17 | 2040-10-25 | Banca de Desarrollo | 3945041541 | BANOBRAS | 12062 | 261/2007 | 5689 | 33.04658 |\n",
       "| 4 | 2025 | Largo Plazo | 2007-08-31 | 2040-08-27 | Banca Comercial     | 5462932711 | BANCOMER | 12050 | 225/2007 | 5630 | 33.01370 |\n",
       "| 5 | 2025 | Largo Plazo | 2007-10-17 | 2037-10-26 | Banca de Desarrollo | 4433858061 | BANOBRAS | 10967 | 260/2007 | 4594 | 30.04658 |\n",
       "| 6 | 2025 | Largo Plazo | 2007-08-30 | 2037-07-27 | Banca Comercial     | 3183704915 | BANCOMER | 10924 | 224/2007 | 4503 | 29.92877 |\n",
       "\n"
      ],
      "text/plain": [
       "  anio tipo_deuda  inicio_credito fin_credito detalle_tipo_deuda  saldo_periodo\n",
       "1 2025 Largo Plazo 2007-09-07     2047-09-25  Banca Comercial     7000000000   \n",
       "2 2025 Largo Plazo 2007-10-17     2047-10-25  Banca de Desarrollo 2876845028   \n",
       "3 2025 Largo Plazo 2007-10-17     2040-10-25  Banca de Desarrollo 3945041541   \n",
       "4 2025 Largo Plazo 2007-08-31     2040-08-27  Banca Comercial     5462932711   \n",
       "5 2025 Largo Plazo 2007-10-17     2037-10-26  Banca de Desarrollo 4433858061   \n",
       "6 2025 Largo Plazo 2007-08-30     2037-07-27  Banca Comercial     3183704915   \n",
       "  acreedor dias_contrato no_registro dias_restantes_contrato años    \n",
       "1 HSBC     14628         233/2007    8215                    40.07671\n",
       "2 BANOBRAS 14618         262/2007    8245                    40.04932\n",
       "3 BANOBRAS 12062         261/2007    5689                    33.04658\n",
       "4 BANCOMER 12050         225/2007    5630                    33.01370\n",
       "5 BANOBRAS 10967         260/2007    4594                    30.04658\n",
       "6 BANCOMER 10924         224/2007    4503                    29.92877"
      ]
     },
     "metadata": {},
     "output_type": "display_data"
    },
    {
     "data": {
      "text/html": [
       "<table class=\"dataframe\">\n",
       "<caption>A data.frame: 6 × 11</caption>\n",
       "<thead>\n",
       "\t<tr><th></th><th scope=col>anio</th><th scope=col>tipo_deuda</th><th scope=col>inicio_credito</th><th scope=col>fin_credito</th><th scope=col>detalle_tipo_deuda</th><th scope=col>saldo_periodo</th><th scope=col>acreedor</th><th scope=col>dias_contrato</th><th scope=col>no_registro</th><th scope=col>dias_restantes_contrato</th><th scope=col>años</th></tr>\n",
       "\t<tr><th></th><th scope=col>&lt;int&gt;</th><th scope=col>&lt;chr&gt;</th><th scope=col>&lt;chr&gt;</th><th scope=col>&lt;chr&gt;</th><th scope=col>&lt;chr&gt;</th><th scope=col>&lt;dbl&gt;</th><th scope=col>&lt;chr&gt;</th><th scope=col>&lt;int&gt;</th><th scope=col>&lt;chr&gt;</th><th scope=col>&lt;int&gt;</th><th scope=col>&lt;dbl&gt;</th></tr>\n",
       "</thead>\n",
       "<tbody>\n",
       "\t<tr><th scope=row>57</th><td>2025</td><td>Largo Plazo</td><td>2019-12-30</td><td>2026-12-28</td><td>Banca de Desarrollo </td><td>737315301</td><td>BANOBRAS </td><td>2555</td><td>P09-1219069</td><td>639</td><td>7.000000</td></tr>\n",
       "\t<tr><th scope=row>58</th><td>2025</td><td>Largo Plazo</td><td>2019-12-30</td><td>2026-12-28</td><td>Banca Comercial     </td><td>737315301</td><td>BANCOMER </td><td>2555</td><td>P09-1219070</td><td>639</td><td>7.000000</td></tr>\n",
       "\t<tr><th scope=row>59</th><td>2024</td><td>Largo Plazo</td><td>2017-12-29</td><td>2024-12-26</td><td>Banca Comercial     </td><td>178571429</td><td>HSBC     </td><td>2554</td><td>P09-1217133</td><td>181</td><td>6.997260</td></tr>\n",
       "\t<tr><th scope=row>60</th><td>2022</td><td>Largo Plazo</td><td>2015-12-30</td><td>2022-12-26</td><td>Banca Comercial     </td><td>        0</td><td>SANTANDER</td><td>2553</td><td>P09-1215163</td><td>  0</td><td>6.994521</td></tr>\n",
       "\t<tr><th scope=row>61</th><td>2023</td><td>Largo Plazo</td><td>2016-12-30</td><td>2023-12-26</td><td>Banca Comercial     </td><td>        0</td><td>BANCOMER </td><td>2552</td><td>P09-1216083</td><td>  0</td><td>6.991781</td></tr>\n",
       "\t<tr><th scope=row>62</th><td>2021</td><td>Largo Plazo</td><td>2016-12-09</td><td>2021-12-03</td><td>Mercado de Capitales</td><td>        0</td><td>EVERCORE </td><td>1820</td><td>P09-1216054</td><td>  0</td><td>4.986301</td></tr>\n",
       "</tbody>\n",
       "</table>\n"
      ],
      "text/latex": [
       "A data.frame: 6 × 11\n",
       "\\begin{tabular}{r|lllllllllll}\n",
       "  & anio & tipo\\_deuda & inicio\\_credito & fin\\_credito & detalle\\_tipo\\_deuda & saldo\\_periodo & acreedor & dias\\_contrato & no\\_registro & dias\\_restantes\\_contrato & años\\\\\n",
       "  & <int> & <chr> & <chr> & <chr> & <chr> & <dbl> & <chr> & <int> & <chr> & <int> & <dbl>\\\\\n",
       "\\hline\n",
       "\t57 & 2025 & Largo Plazo & 2019-12-30 & 2026-12-28 & Banca de Desarrollo  & 737315301 & BANOBRAS  & 2555 & P09-1219069 & 639 & 7.000000\\\\\n",
       "\t58 & 2025 & Largo Plazo & 2019-12-30 & 2026-12-28 & Banca Comercial      & 737315301 & BANCOMER  & 2555 & P09-1219070 & 639 & 7.000000\\\\\n",
       "\t59 & 2024 & Largo Plazo & 2017-12-29 & 2024-12-26 & Banca Comercial      & 178571429 & HSBC      & 2554 & P09-1217133 & 181 & 6.997260\\\\\n",
       "\t60 & 2022 & Largo Plazo & 2015-12-30 & 2022-12-26 & Banca Comercial      &         0 & SANTANDER & 2553 & P09-1215163 &   0 & 6.994521\\\\\n",
       "\t61 & 2023 & Largo Plazo & 2016-12-30 & 2023-12-26 & Banca Comercial      &         0 & BANCOMER  & 2552 & P09-1216083 &   0 & 6.991781\\\\\n",
       "\t62 & 2021 & Largo Plazo & 2016-12-09 & 2021-12-03 & Mercado de Capitales &         0 & EVERCORE  & 1820 & P09-1216054 &   0 & 4.986301\\\\\n",
       "\\end{tabular}\n"
      ],
      "text/markdown": [
       "\n",
       "A data.frame: 6 × 11\n",
       "\n",
       "| <!--/--> | anio &lt;int&gt; | tipo_deuda &lt;chr&gt; | inicio_credito &lt;chr&gt; | fin_credito &lt;chr&gt; | detalle_tipo_deuda &lt;chr&gt; | saldo_periodo &lt;dbl&gt; | acreedor &lt;chr&gt; | dias_contrato &lt;int&gt; | no_registro &lt;chr&gt; | dias_restantes_contrato &lt;int&gt; | años &lt;dbl&gt; |\n",
       "|---|---|---|---|---|---|---|---|---|---|---|---|\n",
       "| 57 | 2025 | Largo Plazo | 2019-12-30 | 2026-12-28 | Banca de Desarrollo  | 737315301 | BANOBRAS  | 2555 | P09-1219069 | 639 | 7.000000 |\n",
       "| 58 | 2025 | Largo Plazo | 2019-12-30 | 2026-12-28 | Banca Comercial      | 737315301 | BANCOMER  | 2555 | P09-1219070 | 639 | 7.000000 |\n",
       "| 59 | 2024 | Largo Plazo | 2017-12-29 | 2024-12-26 | Banca Comercial      | 178571429 | HSBC      | 2554 | P09-1217133 | 181 | 6.997260 |\n",
       "| 60 | 2022 | Largo Plazo | 2015-12-30 | 2022-12-26 | Banca Comercial      |         0 | SANTANDER | 2553 | P09-1215163 |   0 | 6.994521 |\n",
       "| 61 | 2023 | Largo Plazo | 2016-12-30 | 2023-12-26 | Banca Comercial      |         0 | BANCOMER  | 2552 | P09-1216083 |   0 | 6.991781 |\n",
       "| 62 | 2021 | Largo Plazo | 2016-12-09 | 2021-12-03 | Mercado de Capitales |         0 | EVERCORE  | 1820 | P09-1216054 |   0 | 4.986301 |\n",
       "\n"
      ],
      "text/plain": [
       "   anio tipo_deuda  inicio_credito fin_credito detalle_tipo_deuda  \n",
       "57 2025 Largo Plazo 2019-12-30     2026-12-28  Banca de Desarrollo \n",
       "58 2025 Largo Plazo 2019-12-30     2026-12-28  Banca Comercial     \n",
       "59 2024 Largo Plazo 2017-12-29     2024-12-26  Banca Comercial     \n",
       "60 2022 Largo Plazo 2015-12-30     2022-12-26  Banca Comercial     \n",
       "61 2023 Largo Plazo 2016-12-30     2023-12-26  Banca Comercial     \n",
       "62 2021 Largo Plazo 2016-12-09     2021-12-03  Mercado de Capitales\n",
       "   saldo_periodo acreedor  dias_contrato no_registro dias_restantes_contrato\n",
       "57 737315301     BANOBRAS  2555          P09-1219069 639                    \n",
       "58 737315301     BANCOMER  2555          P09-1219070 639                    \n",
       "59 178571429     HSBC      2554          P09-1217133 181                    \n",
       "60         0     SANTANDER 2553          P09-1215163   0                    \n",
       "61         0     BANCOMER  2552          P09-1216083   0                    \n",
       "62         0     EVERCORE  1820          P09-1216054   0                    \n",
       "   años    \n",
       "57 7.000000\n",
       "58 7.000000\n",
       "59 6.997260\n",
       "60 6.994521\n",
       "61 6.991781\n",
       "62 4.986301"
      ]
     },
     "metadata": {},
     "output_type": "display_data"
    }
   ],
   "source": [
    "# variable: dias_contrato, indica los días de duración del crédito.\n",
    "tiempo <- deuda_publica %>% \n",
    "  mutate(id_fila = row_number())  %>%             # Crear un ID para conservar el orden original\n",
    "  arrange(desc(id_fila))  %>%                     # Invertir el orden: del último al primero\n",
    " distinct(no_registro, .keep_all = TRUE) %>%      # Conservar solo la última aparición de cada no_registro\n",
    "  select(anio,tipo_deuda, inicio_credito, fin_credito, detalle_tipo_deuda, saldo_periodo, acreedor, dias_contrato, no_registro, dias_restantes_contrato) %>% \n",
    "  arrange(desc(dias_contrato)) %>%                #tabla ordenada de mayor a menor de acuerdo a los número de días de duración del crédito \n",
    "  mutate(años = dias_contrato / 365) %>%          # se calcula el número de años de duración del crédito\n",
    "  ungroup()\n",
    "head(tiempo)\n",
    "tail (tiempo)"
   ]
  },
  {
   "cell_type": "code",
   "execution_count": 78,
   "id": "55588e40",
   "metadata": {
    "vscode": {
     "languageId": "r"
    }
   },
   "outputs": [
    {
     "name": "stdout",
     "output_type": "stream",
     "text": [
      "[1] \"Mínimo de duración de créditos 7\"\n",
      "[1] \"Máximo de duración de créditos 40.1\"\n"
     ]
    }
   ],
   "source": [
    "print(paste0(\"Mínimo de duración de créditos \",deuda_publica %>% \n",
    "  filter(anio == 2023, trimestre == \"Cuarto Trimestre\") %>% \n",
    "  mutate(años = dias_contrato / 365) %>% \n",
    "  summarise(min_años = round(min(años, na.rm = TRUE), 1))))\n",
    "\n",
    "print(paste0(\"Máximo de duración de créditos \",deuda_publica %>% \n",
    "  filter(anio == 2023, trimestre == \"Cuarto Trimestre\") %>% \n",
    "  mutate(años = dias_contrato / 365) %>% \n",
    "  summarise(max_años = round(max(años, na.rm = TRUE), 1))))\n"
   ]
  },
  {
   "cell_type": "code",
   "execution_count": 11,
   "id": "1f74db75",
   "metadata": {
    "vscode": {
     "languageId": "r"
    }
   },
   "outputs": [
    {
     "data": {
      "text/plain": [
       "   Min. 1st Qu.  Median    Mean 3rd Qu.    Max. \n",
       "   1820    3646    3738    5591    7304   14628 "
      ]
     },
     "metadata": {},
     "output_type": "display_data"
    },
    {
     "data": {
      "text/plain": [
       "   Min. 1st Qu.  Median    Mean 3rd Qu.    Max. \n",
       "  4.986   9.989  10.240  15.317  20.011  40.077 "
      ]
     },
     "metadata": {},
     "output_type": "display_data"
    }
   ],
   "source": [
    "#¿Cuál es el número de días de duración del crédito?\n",
    "summary(tiempo$dias_contrato)\n",
    "summary(tiempo$años)"
   ]
  },
  {
   "cell_type": "code",
   "execution_count": 19,
   "id": "cd1b4d61",
   "metadata": {
    "vscode": {
     "languageId": "r"
    }
   },
   "outputs": [
    {
     "data": {
      "text/html": [
       "'2019-10-25'"
      ],
      "text/latex": [
       "'2019-10-25'"
      ],
      "text/markdown": [
       "'2019-10-25'"
      ],
      "text/plain": [
       "[1] \"2019-10-25\""
      ]
     },
     "metadata": {},
     "output_type": "display_data"
    }
   ],
   "source": [
    "min(tiempo$fin_credito)"
   ]
  },
  {
   "cell_type": "markdown",
   "id": "04432fd0",
   "metadata": {},
   "source": [
    "El crédito con menor duración de contrato fue de 1820 días, equivalente a 4.986 años.\n",
    "\n",
    "El crédito con mayor duración de contrato fue de 14,628 días, equivalente a 40.077 años"
   ]
  },
  {
   "cell_type": "markdown",
   "id": "5e17346f",
   "metadata": {},
   "source": [
    "¿De qué tipo de bancos provienen los créditos?"
   ]
  },
  {
   "cell_type": "code",
   "execution_count": 45,
   "id": "53609a0f",
   "metadata": {
    "vscode": {
     "languageId": "r"
    }
   },
   "outputs": [
    {
     "data": {
      "text/html": [
       "<table class=\"dataframe\">\n",
       "<caption>A tabyl: 54 × 2</caption>\n",
       "<thead>\n",
       "\t<tr><th scope=col>no_registro</th><th scope=col>registros</th></tr>\n",
       "\t<tr><th scope=col>&lt;chr&gt;</th><th scope=col>&lt;int&gt;</th></tr>\n",
       "</thead>\n",
       "<tbody>\n",
       "\t<tr><td>224/2007   </td><td> 1</td></tr>\n",
       "\t<tr><td>225/2007   </td><td> 1</td></tr>\n",
       "\t<tr><td>226/2007   </td><td> 1</td></tr>\n",
       "\t<tr><td>233/2007   </td><td> 1</td></tr>\n",
       "\t<tr><td>260/2007   </td><td> 1</td></tr>\n",
       "\t<tr><td>261/2007   </td><td> 1</td></tr>\n",
       "\t<tr><td>262/2007   </td><td> 1</td></tr>\n",
       "\t<tr><td>329/2007   </td><td> 1</td></tr>\n",
       "\t<tr><td>514/2008   </td><td> 1</td></tr>\n",
       "\t<tr><td>562/2010   </td><td> 1</td></tr>\n",
       "\t<tr><td>721/2011   </td><td> 1</td></tr>\n",
       "\t<tr><td>P09-0720076</td><td> 1</td></tr>\n",
       "\t<tr><td>P09-0720077</td><td> 1</td></tr>\n",
       "\t<tr><td>P09-0721036</td><td> 1</td></tr>\n",
       "\t<tr><td>P09-0721037</td><td> 1</td></tr>\n",
       "\t<tr><td>P09-0915121</td><td> 1</td></tr>\n",
       "\t<tr><td>P09-0917056</td><td> 1</td></tr>\n",
       "\t<tr><td>P09-1012161</td><td> 3</td></tr>\n",
       "\t<tr><td>P09-1014157</td><td> 1</td></tr>\n",
       "\t<tr><td>P09-1112186</td><td> 1</td></tr>\n",
       "\t<tr><td>P09-1113146</td><td> 1</td></tr>\n",
       "\t<tr><td>P09-1118104</td><td> 1</td></tr>\n",
       "\t<tr><td>P09-1212219</td><td> 2</td></tr>\n",
       "\t<tr><td>P09-1213189</td><td> 1</td></tr>\n",
       "\t<tr><td>P09-1213198</td><td> 1</td></tr>\n",
       "\t<tr><td>P09-1214242</td><td> 1</td></tr>\n",
       "\t<tr><td>P09-1214244</td><td> 1</td></tr>\n",
       "\t<tr><td>P09-1215162</td><td> 1</td></tr>\n",
       "\t<tr><td>P09-1216082</td><td> 1</td></tr>\n",
       "\t<tr><td>P09-1216083</td><td> 1</td></tr>\n",
       "\t<tr><td>P09-1217133</td><td> 1</td></tr>\n",
       "\t<tr><td>P09-1217134</td><td> 1</td></tr>\n",
       "\t<tr><td>P09-1218138</td><td> 1</td></tr>\n",
       "\t<tr><td>P09-1218139</td><td> 1</td></tr>\n",
       "\t<tr><td>P09-1218140</td><td> 1</td></tr>\n",
       "\t<tr><td>P09-1219057</td><td> 1</td></tr>\n",
       "\t<tr><td>P09-1219069</td><td> 1</td></tr>\n",
       "\t<tr><td>P09-1219070</td><td> 1</td></tr>\n",
       "\t<tr><td>P09-1219071</td><td> 1</td></tr>\n",
       "\t<tr><td>P09-1219072</td><td> 1</td></tr>\n",
       "\t<tr><td>P09-1220098</td><td> 1</td></tr>\n",
       "\t<tr><td>P09-1220099</td><td> 1</td></tr>\n",
       "\t<tr><td>P09-1221044</td><td> 1</td></tr>\n",
       "\t<tr><td>P09-1221045</td><td> 1</td></tr>\n",
       "\t<tr><td>P09-1221046</td><td> 1</td></tr>\n",
       "\t<tr><td>P09-1222047</td><td> 1</td></tr>\n",
       "\t<tr><td>P09-1222048</td><td> 1</td></tr>\n",
       "\t<tr><td>P09-1222049</td><td> 1</td></tr>\n",
       "\t<tr><td>P09-1222050</td><td> 1</td></tr>\n",
       "\t<tr><td>P09-1223078</td><td> 1</td></tr>\n",
       "\t<tr><td>P09-1223079</td><td> 1</td></tr>\n",
       "\t<tr><td>P09-1223080</td><td> 1</td></tr>\n",
       "\t<tr><td>P09-1223081</td><td> 1</td></tr>\n",
       "\t<tr><td>Total      </td><td>56</td></tr>\n",
       "</tbody>\n",
       "</table>\n"
      ],
      "text/latex": [
       "A tabyl: 54 × 2\n",
       "\\begin{tabular}{ll}\n",
       " no\\_registro & registros\\\\\n",
       " <chr> & <int>\\\\\n",
       "\\hline\n",
       "\t 224/2007    &  1\\\\\n",
       "\t 225/2007    &  1\\\\\n",
       "\t 226/2007    &  1\\\\\n",
       "\t 233/2007    &  1\\\\\n",
       "\t 260/2007    &  1\\\\\n",
       "\t 261/2007    &  1\\\\\n",
       "\t 262/2007    &  1\\\\\n",
       "\t 329/2007    &  1\\\\\n",
       "\t 514/2008    &  1\\\\\n",
       "\t 562/2010    &  1\\\\\n",
       "\t 721/2011    &  1\\\\\n",
       "\t P09-0720076 &  1\\\\\n",
       "\t P09-0720077 &  1\\\\\n",
       "\t P09-0721036 &  1\\\\\n",
       "\t P09-0721037 &  1\\\\\n",
       "\t P09-0915121 &  1\\\\\n",
       "\t P09-0917056 &  1\\\\\n",
       "\t P09-1012161 &  3\\\\\n",
       "\t P09-1014157 &  1\\\\\n",
       "\t P09-1112186 &  1\\\\\n",
       "\t P09-1113146 &  1\\\\\n",
       "\t P09-1118104 &  1\\\\\n",
       "\t P09-1212219 &  2\\\\\n",
       "\t P09-1213189 &  1\\\\\n",
       "\t P09-1213198 &  1\\\\\n",
       "\t P09-1214242 &  1\\\\\n",
       "\t P09-1214244 &  1\\\\\n",
       "\t P09-1215162 &  1\\\\\n",
       "\t P09-1216082 &  1\\\\\n",
       "\t P09-1216083 &  1\\\\\n",
       "\t P09-1217133 &  1\\\\\n",
       "\t P09-1217134 &  1\\\\\n",
       "\t P09-1218138 &  1\\\\\n",
       "\t P09-1218139 &  1\\\\\n",
       "\t P09-1218140 &  1\\\\\n",
       "\t P09-1219057 &  1\\\\\n",
       "\t P09-1219069 &  1\\\\\n",
       "\t P09-1219070 &  1\\\\\n",
       "\t P09-1219071 &  1\\\\\n",
       "\t P09-1219072 &  1\\\\\n",
       "\t P09-1220098 &  1\\\\\n",
       "\t P09-1220099 &  1\\\\\n",
       "\t P09-1221044 &  1\\\\\n",
       "\t P09-1221045 &  1\\\\\n",
       "\t P09-1221046 &  1\\\\\n",
       "\t P09-1222047 &  1\\\\\n",
       "\t P09-1222048 &  1\\\\\n",
       "\t P09-1222049 &  1\\\\\n",
       "\t P09-1222050 &  1\\\\\n",
       "\t P09-1223078 &  1\\\\\n",
       "\t P09-1223079 &  1\\\\\n",
       "\t P09-1223080 &  1\\\\\n",
       "\t P09-1223081 &  1\\\\\n",
       "\t Total       & 56\\\\\n",
       "\\end{tabular}\n"
      ],
      "text/markdown": [
       "\n",
       "A tabyl: 54 × 2\n",
       "\n",
       "| no_registro &lt;chr&gt; | registros &lt;int&gt; |\n",
       "|---|---|\n",
       "| 224/2007    |  1 |\n",
       "| 225/2007    |  1 |\n",
       "| 226/2007    |  1 |\n",
       "| 233/2007    |  1 |\n",
       "| 260/2007    |  1 |\n",
       "| 261/2007    |  1 |\n",
       "| 262/2007    |  1 |\n",
       "| 329/2007    |  1 |\n",
       "| 514/2008    |  1 |\n",
       "| 562/2010    |  1 |\n",
       "| 721/2011    |  1 |\n",
       "| P09-0720076 |  1 |\n",
       "| P09-0720077 |  1 |\n",
       "| P09-0721036 |  1 |\n",
       "| P09-0721037 |  1 |\n",
       "| P09-0915121 |  1 |\n",
       "| P09-0917056 |  1 |\n",
       "| P09-1012161 |  3 |\n",
       "| P09-1014157 |  1 |\n",
       "| P09-1112186 |  1 |\n",
       "| P09-1113146 |  1 |\n",
       "| P09-1118104 |  1 |\n",
       "| P09-1212219 |  2 |\n",
       "| P09-1213189 |  1 |\n",
       "| P09-1213198 |  1 |\n",
       "| P09-1214242 |  1 |\n",
       "| P09-1214244 |  1 |\n",
       "| P09-1215162 |  1 |\n",
       "| P09-1216082 |  1 |\n",
       "| P09-1216083 |  1 |\n",
       "| P09-1217133 |  1 |\n",
       "| P09-1217134 |  1 |\n",
       "| P09-1218138 |  1 |\n",
       "| P09-1218139 |  1 |\n",
       "| P09-1218140 |  1 |\n",
       "| P09-1219057 |  1 |\n",
       "| P09-1219069 |  1 |\n",
       "| P09-1219070 |  1 |\n",
       "| P09-1219071 |  1 |\n",
       "| P09-1219072 |  1 |\n",
       "| P09-1220098 |  1 |\n",
       "| P09-1220099 |  1 |\n",
       "| P09-1221044 |  1 |\n",
       "| P09-1221045 |  1 |\n",
       "| P09-1221046 |  1 |\n",
       "| P09-1222047 |  1 |\n",
       "| P09-1222048 |  1 |\n",
       "| P09-1222049 |  1 |\n",
       "| P09-1222050 |  1 |\n",
       "| P09-1223078 |  1 |\n",
       "| P09-1223079 |  1 |\n",
       "| P09-1223080 |  1 |\n",
       "| P09-1223081 |  1 |\n",
       "| Total       | 56 |\n",
       "\n"
      ],
      "text/plain": [
       "   no_registro registros\n",
       "1  224/2007     1       \n",
       "2  225/2007     1       \n",
       "3  226/2007     1       \n",
       "4  233/2007     1       \n",
       "5  260/2007     1       \n",
       "6  261/2007     1       \n",
       "7  262/2007     1       \n",
       "8  329/2007     1       \n",
       "9  514/2008     1       \n",
       "10 562/2010     1       \n",
       "11 721/2011     1       \n",
       "12 P09-0720076  1       \n",
       "13 P09-0720077  1       \n",
       "14 P09-0721036  1       \n",
       "15 P09-0721037  1       \n",
       "16 P09-0915121  1       \n",
       "17 P09-0917056  1       \n",
       "18 P09-1012161  3       \n",
       "19 P09-1014157  1       \n",
       "20 P09-1112186  1       \n",
       "21 P09-1113146  1       \n",
       "22 P09-1118104  1       \n",
       "23 P09-1212219  2       \n",
       "24 P09-1213189  1       \n",
       "25 P09-1213198  1       \n",
       "26 P09-1214242  1       \n",
       "27 P09-1214244  1       \n",
       "28 P09-1215162  1       \n",
       "29 P09-1216082  1       \n",
       "30 P09-1216083  1       \n",
       "31 P09-1217133  1       \n",
       "32 P09-1217134  1       \n",
       "33 P09-1218138  1       \n",
       "34 P09-1218139  1       \n",
       "35 P09-1218140  1       \n",
       "36 P09-1219057  1       \n",
       "37 P09-1219069  1       \n",
       "38 P09-1219070  1       \n",
       "39 P09-1219071  1       \n",
       "40 P09-1219072  1       \n",
       "41 P09-1220098  1       \n",
       "42 P09-1220099  1       \n",
       "43 P09-1221044  1       \n",
       "44 P09-1221045  1       \n",
       "45 P09-1221046  1       \n",
       "46 P09-1222047  1       \n",
       "47 P09-1222048  1       \n",
       "48 P09-1222049  1       \n",
       "49 P09-1222050  1       \n",
       "50 P09-1223078  1       \n",
       "51 P09-1223079  1       \n",
       "52 P09-1223080  1       \n",
       "53 P09-1223081  1       \n",
       "54 Total       56       "
      ]
     },
     "metadata": {},
     "output_type": "display_data"
    }
   ],
   "source": [
    "deuda_publica %>% \n",
    "filter(anio==2023)%>%\n",
    "filter(trimestre == \"Cuarto Trimestre\")%>%\n",
    "#distinct(no_registro, .keep_all = TRUE)%>%\n",
    "group_by(no_registro) %>%             #se agrupa por el tipo de de banco\n",
    "  summarise(registros= n ()\n",
    "  ) %>%\n",
    "  janitor::adorn_totals() "
   ]
  },
  {
   "cell_type": "code",
   "execution_count": 59,
   "id": "203de98f",
   "metadata": {
    "vscode": {
     "languageId": "r"
    }
   },
   "outputs": [
    {
     "data": {
      "text/html": [
       "<table class=\"dataframe\">\n",
       "<caption>A tabyl: 4 × 4</caption>\n",
       "<thead>\n",
       "\t<tr><th scope=col>detalle_tipo_deuda</th><th scope=col>registros</th><th scope=col>deuda</th><th scope=col>pct</th></tr>\n",
       "\t<tr><th scope=col>&lt;chr&gt;</th><th scope=col>&lt;int&gt;</th><th scope=col>&lt;dbl&gt;</th><th scope=col>&lt;dbl&gt;</th></tr>\n",
       "</thead>\n",
       "<tbody>\n",
       "\t<tr><td>Banca Comercial     </td><td>22</td><td> 43772406915</td><td> 39.3</td></tr>\n",
       "\t<tr><td>Banca de Desarrollo </td><td>26</td><td> 45159018331</td><td> 46.4</td></tr>\n",
       "\t<tr><td>Mercado de Capitales</td><td> 8</td><td> 12675000000</td><td> 14.3</td></tr>\n",
       "\t<tr><td>Total               </td><td>56</td><td>101606425246</td><td>100.0</td></tr>\n",
       "</tbody>\n",
       "</table>\n"
      ],
      "text/latex": [
       "A tabyl: 4 × 4\n",
       "\\begin{tabular}{llll}\n",
       " detalle\\_tipo\\_deuda & registros & deuda & pct\\\\\n",
       " <chr> & <int> & <dbl> & <dbl>\\\\\n",
       "\\hline\n",
       "\t Banca Comercial      & 22 &  43772406915 &  39.3\\\\\n",
       "\t Banca de Desarrollo  & 26 &  45159018331 &  46.4\\\\\n",
       "\t Mercado de Capitales &  8 &  12675000000 &  14.3\\\\\n",
       "\t Total                & 56 & 101606425246 & 100.0\\\\\n",
       "\\end{tabular}\n"
      ],
      "text/markdown": [
       "\n",
       "A tabyl: 4 × 4\n",
       "\n",
       "| detalle_tipo_deuda &lt;chr&gt; | registros &lt;int&gt; | deuda &lt;dbl&gt; | pct &lt;dbl&gt; |\n",
       "|---|---|---|---|\n",
       "| Banca Comercial      | 22 |  43772406915 |  39.3 |\n",
       "| Banca de Desarrollo  | 26 |  45159018331 |  46.4 |\n",
       "| Mercado de Capitales |  8 |  12675000000 |  14.3 |\n",
       "| Total                | 56 | 101606425246 | 100.0 |\n",
       "\n"
      ],
      "text/plain": [
       "  detalle_tipo_deuda   registros deuda        pct  \n",
       "1 Banca Comercial      22         43772406915  39.3\n",
       "2 Banca de Desarrollo  26         45159018331  46.4\n",
       "3 Mercado de Capitales  8         12675000000  14.3\n",
       "4 Total                56        101606425246 100.0"
      ]
     },
     "metadata": {},
     "output_type": "display_data"
    }
   ],
   "source": [
    "tipo_bancos<-deuda_publica %>% \n",
    "filter(anio==2023)%>%\n",
    "filter(trimestre == \"Cuarto Trimestre\")%>%\n",
    "#distinct(no_registro, .keep_all = TRUE)%>%\n",
    "group_by(detalle_tipo_deuda) %>%             #se agrupa por el tipo de de banco\n",
    "  summarise(registros= n (),\n",
    "  deuda=sum(saldo_periodo)\n",
    "  \n",
    "  ) %>%\n",
    "  mutate(pct= (registros / sum(registros)) * 100,\n",
    "  pct=round(pct,1)\n",
    "  )%>%\n",
    "  janitor::adorn_totals() \n",
    "\n",
    "  tipo_bancos"
   ]
  },
  {
   "cell_type": "code",
   "execution_count": 56,
   "id": "17f01c52",
   "metadata": {
    "vscode": {
     "languageId": "r"
    }
   },
   "outputs": [
    {
     "data": {
      "text/html": [
       "<table class=\"dataframe\">\n",
       "<caption>A data.frame: 4 × 22</caption>\n",
       "<thead>\n",
       "\t<tr><th scope=col>anio</th><th scope=col>trimestre</th><th scope=col>mes</th><th scope=col>no_registro</th><th scope=col>tipo_deuda</th><th scope=col>detalle_tipo_deuda</th><th scope=col>acreedor</th><th scope=col>concepto</th><th scope=col>inicio_credito</th><th scope=col>fin_credito</th><th scope=col>⋯</th><th scope=col>disposicion_inicial_credito</th><th scope=col>colocacion_periodo</th><th scope=col>amortizaciones_periodo</th><th scope=col>intereses_periodo</th><th scope=col>pago_servicio_deuda</th><th scope=col>saldo_periodo</th><th scope=col>endeudamiento_periodo</th><th scope=col>tasa</th><th scope=col>sobretasa</th><th scope=col>tasa_final</th></tr>\n",
       "\t<tr><th scope=col>&lt;int&gt;</th><th scope=col>&lt;chr&gt;</th><th scope=col>&lt;chr&gt;</th><th scope=col>&lt;chr&gt;</th><th scope=col>&lt;chr&gt;</th><th scope=col>&lt;chr&gt;</th><th scope=col>&lt;chr&gt;</th><th scope=col>&lt;chr&gt;</th><th scope=col>&lt;chr&gt;</th><th scope=col>&lt;chr&gt;</th><th scope=col>⋯</th><th scope=col>&lt;dbl&gt;</th><th scope=col>&lt;dbl&gt;</th><th scope=col>&lt;dbl&gt;</th><th scope=col>&lt;dbl&gt;</th><th scope=col>&lt;dbl&gt;</th><th scope=col>&lt;dbl&gt;</th><th scope=col>&lt;dbl&gt;</th><th scope=col>&lt;chr&gt;</th><th scope=col>&lt;chr&gt;</th><th scope=col>&lt;chr&gt;</th></tr>\n",
       "</thead>\n",
       "<tbody>\n",
       "\t<tr><td>2023</td><td>Cuarto Trimestre</td><td>Diciembre</td><td>P09-1223078</td><td>Largo Plazo</td><td>Banca Comercial    </td><td>SANTANDER</td><td>SANTANDER 2,169    </td><td>2023-12-15</td><td>2033-12-14</td><td>⋯</td><td>2169946419</td><td>2169946419</td><td>0</td><td>0</td><td>0</td><td>2169946419</td><td>2169946419</td><td>9.1999999999999993</td><td>NA  </td><td>9.1999999999999993</td></tr>\n",
       "\t<tr><td>2023</td><td>Cuarto Trimestre</td><td>Diciembre</td><td>P09-1223079</td><td>Largo Plazo</td><td>Banca de Desarrollo</td><td>BANOBRAS </td><td>BANOBRAS 2,500 23-1</td><td>2023-12-15</td><td>2043-12-15</td><td>⋯</td><td>2500000000</td><td>2500000000</td><td>0</td><td>0</td><td>0</td><td>2500000000</td><td>2500000000</td><td>8.83              </td><td>NA  </td><td>8.83              </td></tr>\n",
       "\t<tr><td>2023</td><td>Cuarto Trimestre</td><td>Diciembre</td><td>P09-1223080</td><td>Largo Plazo</td><td>Banca de Desarrollo</td><td>BANOBRAS </td><td>BANOBRAS 2,500 23-2</td><td>2023-12-15</td><td>2043-12-15</td><td>⋯</td><td>2500000000</td><td>2500000000</td><td>0</td><td>0</td><td>0</td><td>2500000000</td><td>2500000000</td><td>8.93              </td><td>NA  </td><td>8.93              </td></tr>\n",
       "\t<tr><td>2023</td><td>Cuarto Trimestre</td><td>Diciembre</td><td>P09-1223081</td><td>Largo Plazo</td><td>Banca de Desarrollo</td><td>BANOBRAS </td><td>BANOBRAS 5,276     </td><td>2023-12-15</td><td>2043-12-15</td><td>⋯</td><td>4974578885</td><td>4974578885</td><td>0</td><td>0</td><td>0</td><td>4974578885</td><td>4974578885</td><td>TIIE Fondeo       </td><td>0.44</td><td>TIIE Fondeo+0.44  </td></tr>\n",
       "</tbody>\n",
       "</table>\n"
      ],
      "text/latex": [
       "A data.frame: 4 × 22\n",
       "\\begin{tabular}{lllllllllllllllllllll}\n",
       " anio & trimestre & mes & no\\_registro & tipo\\_deuda & detalle\\_tipo\\_deuda & acreedor & concepto & inicio\\_credito & fin\\_credito & ⋯ & disposicion\\_inicial\\_credito & colocacion\\_periodo & amortizaciones\\_periodo & intereses\\_periodo & pago\\_servicio\\_deuda & saldo\\_periodo & endeudamiento\\_periodo & tasa & sobretasa & tasa\\_final\\\\\n",
       " <int> & <chr> & <chr> & <chr> & <chr> & <chr> & <chr> & <chr> & <chr> & <chr> & ⋯ & <dbl> & <dbl> & <dbl> & <dbl> & <dbl> & <dbl> & <dbl> & <chr> & <chr> & <chr>\\\\\n",
       "\\hline\n",
       "\t 2023 & Cuarto Trimestre & Diciembre & P09-1223078 & Largo Plazo & Banca Comercial     & SANTANDER & SANTANDER 2,169     & 2023-12-15 & 2033-12-14 & ⋯ & 2169946419 & 2169946419 & 0 & 0 & 0 & 2169946419 & 2169946419 & 9.1999999999999993 & NA   & 9.1999999999999993\\\\\n",
       "\t 2023 & Cuarto Trimestre & Diciembre & P09-1223079 & Largo Plazo & Banca de Desarrollo & BANOBRAS  & BANOBRAS 2,500 23-1 & 2023-12-15 & 2043-12-15 & ⋯ & 2500000000 & 2500000000 & 0 & 0 & 0 & 2500000000 & 2500000000 & 8.83               & NA   & 8.83              \\\\\n",
       "\t 2023 & Cuarto Trimestre & Diciembre & P09-1223080 & Largo Plazo & Banca de Desarrollo & BANOBRAS  & BANOBRAS 2,500 23-2 & 2023-12-15 & 2043-12-15 & ⋯ & 2500000000 & 2500000000 & 0 & 0 & 0 & 2500000000 & 2500000000 & 8.93               & NA   & 8.93              \\\\\n",
       "\t 2023 & Cuarto Trimestre & Diciembre & P09-1223081 & Largo Plazo & Banca de Desarrollo & BANOBRAS  & BANOBRAS 5,276      & 2023-12-15 & 2043-12-15 & ⋯ & 4974578885 & 4974578885 & 0 & 0 & 0 & 4974578885 & 4974578885 & TIIE Fondeo        & 0.44 & TIIE Fondeo+0.44  \\\\\n",
       "\\end{tabular}\n"
      ],
      "text/markdown": [
       "\n",
       "A data.frame: 4 × 22\n",
       "\n",
       "| anio &lt;int&gt; | trimestre &lt;chr&gt; | mes &lt;chr&gt; | no_registro &lt;chr&gt; | tipo_deuda &lt;chr&gt; | detalle_tipo_deuda &lt;chr&gt; | acreedor &lt;chr&gt; | concepto &lt;chr&gt; | inicio_credito &lt;chr&gt; | fin_credito &lt;chr&gt; | ⋯ ⋯ | disposicion_inicial_credito &lt;dbl&gt; | colocacion_periodo &lt;dbl&gt; | amortizaciones_periodo &lt;dbl&gt; | intereses_periodo &lt;dbl&gt; | pago_servicio_deuda &lt;dbl&gt; | saldo_periodo &lt;dbl&gt; | endeudamiento_periodo &lt;dbl&gt; | tasa &lt;chr&gt; | sobretasa &lt;chr&gt; | tasa_final &lt;chr&gt; |\n",
       "|---|---|---|---|---|---|---|---|---|---|---|---|---|---|---|---|---|---|---|---|---|\n",
       "| 2023 | Cuarto Trimestre | Diciembre | P09-1223078 | Largo Plazo | Banca Comercial     | SANTANDER | SANTANDER 2,169     | 2023-12-15 | 2033-12-14 | ⋯ | 2169946419 | 2169946419 | 0 | 0 | 0 | 2169946419 | 2169946419 | 9.1999999999999993 | NA   | 9.1999999999999993 |\n",
       "| 2023 | Cuarto Trimestre | Diciembre | P09-1223079 | Largo Plazo | Banca de Desarrollo | BANOBRAS  | BANOBRAS 2,500 23-1 | 2023-12-15 | 2043-12-15 | ⋯ | 2500000000 | 2500000000 | 0 | 0 | 0 | 2500000000 | 2500000000 | 8.83               | NA   | 8.83               |\n",
       "| 2023 | Cuarto Trimestre | Diciembre | P09-1223080 | Largo Plazo | Banca de Desarrollo | BANOBRAS  | BANOBRAS 2,500 23-2 | 2023-12-15 | 2043-12-15 | ⋯ | 2500000000 | 2500000000 | 0 | 0 | 0 | 2500000000 | 2500000000 | 8.93               | NA   | 8.93               |\n",
       "| 2023 | Cuarto Trimestre | Diciembre | P09-1223081 | Largo Plazo | Banca de Desarrollo | BANOBRAS  | BANOBRAS 5,276      | 2023-12-15 | 2043-12-15 | ⋯ | 4974578885 | 4974578885 | 0 | 0 | 0 | 4974578885 | 4974578885 | TIIE Fondeo        | 0.44 | TIIE Fondeo+0.44   |\n",
       "\n"
      ],
      "text/plain": [
       "  anio trimestre        mes       no_registro tipo_deuda  detalle_tipo_deuda \n",
       "1 2023 Cuarto Trimestre Diciembre P09-1223078 Largo Plazo Banca Comercial    \n",
       "2 2023 Cuarto Trimestre Diciembre P09-1223079 Largo Plazo Banca de Desarrollo\n",
       "3 2023 Cuarto Trimestre Diciembre P09-1223080 Largo Plazo Banca de Desarrollo\n",
       "4 2023 Cuarto Trimestre Diciembre P09-1223081 Largo Plazo Banca de Desarrollo\n",
       "  acreedor  concepto            inicio_credito fin_credito ⋯\n",
       "1 SANTANDER SANTANDER 2,169     2023-12-15     2033-12-14  ⋯\n",
       "2 BANOBRAS  BANOBRAS 2,500 23-1 2023-12-15     2043-12-15  ⋯\n",
       "3 BANOBRAS  BANOBRAS 2,500 23-2 2023-12-15     2043-12-15  ⋯\n",
       "4 BANOBRAS  BANOBRAS 5,276      2023-12-15     2043-12-15  ⋯\n",
       "  disposicion_inicial_credito colocacion_periodo amortizaciones_periodo\n",
       "1 2169946419                  2169946419         0                     \n",
       "2 2500000000                  2500000000         0                     \n",
       "3 2500000000                  2500000000         0                     \n",
       "4 4974578885                  4974578885         0                     \n",
       "  intereses_periodo pago_servicio_deuda saldo_periodo endeudamiento_periodo\n",
       "1 0                 0                   2169946419    2169946419           \n",
       "2 0                 0                   2500000000    2500000000           \n",
       "3 0                 0                   2500000000    2500000000           \n",
       "4 0                 0                   4974578885    4974578885           \n",
       "  tasa               sobretasa tasa_final        \n",
       "1 9.1999999999999993 NA        9.1999999999999993\n",
       "2 8.83               NA        8.83              \n",
       "3 8.93               NA        8.93              \n",
       "4 TIIE Fondeo        0.44      TIIE Fondeo+0.44  "
      ]
     },
     "metadata": {},
     "output_type": "display_data"
    }
   ],
   "source": [
    "deuda_publica %>% \n",
    "filter(anio==2023)%>%\n",
    "filter(trimestre == \"Cuarto Trimestre\")%>%\n",
    "filter(inicio_credito=='2023-12-15')"
   ]
  },
  {
   "cell_type": "markdown",
   "id": "67e18427",
   "metadata": {},
   "source": [
    "¿De qué bancos vienen los créditos?"
   ]
  },
  {
   "cell_type": "code",
   "execution_count": 82,
   "id": "1d942806",
   "metadata": {
    "vscode": {
     "languageId": "r"
    }
   },
   "outputs": [
    {
     "data": {
      "text/html": [
       "<table class=\"dataframe\">\n",
       "<caption>A tabyl: 7 × 4</caption>\n",
       "<thead>\n",
       "\t<tr><th scope=col>acreedor</th><th scope=col>registros</th><th scope=col>total</th><th scope=col>porcentaje</th></tr>\n",
       "\t<tr><th scope=col>&lt;chr&gt;</th><th scope=col>&lt;int&gt;</th><th scope=col>&lt;int&gt;</th><th scope=col>&lt;dbl&gt;</th></tr>\n",
       "</thead>\n",
       "<tbody>\n",
       "\t<tr><td>BANOBRAS </td><td>26</td><td> 56</td><td> 46.428571</td></tr>\n",
       "\t<tr><td>BANCOMER </td><td>14</td><td> 56</td><td> 25.000000</td></tr>\n",
       "\t<tr><td>CI BANCO </td><td> 8</td><td> 56</td><td> 14.285714</td></tr>\n",
       "\t<tr><td>HSBC     </td><td> 3</td><td> 56</td><td>  5.357143</td></tr>\n",
       "\t<tr><td>SANTANDER</td><td> 3</td><td> 56</td><td>  5.357143</td></tr>\n",
       "\t<tr><td>BANAMEX  </td><td> 2</td><td> 56</td><td>  3.571429</td></tr>\n",
       "\t<tr><td>Total    </td><td>56</td><td>336</td><td>100.000000</td></tr>\n",
       "</tbody>\n",
       "</table>\n"
      ],
      "text/latex": [
       "A tabyl: 7 × 4\n",
       "\\begin{tabular}{llll}\n",
       " acreedor & registros & total & porcentaje\\\\\n",
       " <chr> & <int> & <int> & <dbl>\\\\\n",
       "\\hline\n",
       "\t BANOBRAS  & 26 &  56 &  46.428571\\\\\n",
       "\t BANCOMER  & 14 &  56 &  25.000000\\\\\n",
       "\t CI BANCO  &  8 &  56 &  14.285714\\\\\n",
       "\t HSBC      &  3 &  56 &   5.357143\\\\\n",
       "\t SANTANDER &  3 &  56 &   5.357143\\\\\n",
       "\t BANAMEX   &  2 &  56 &   3.571429\\\\\n",
       "\t Total     & 56 & 336 & 100.000000\\\\\n",
       "\\end{tabular}\n"
      ],
      "text/markdown": [
       "\n",
       "A tabyl: 7 × 4\n",
       "\n",
       "| acreedor &lt;chr&gt; | registros &lt;int&gt; | total &lt;int&gt; | porcentaje &lt;dbl&gt; |\n",
       "|---|---|---|---|\n",
       "| BANOBRAS  | 26 |  56 |  46.428571 |\n",
       "| BANCOMER  | 14 |  56 |  25.000000 |\n",
       "| CI BANCO  |  8 |  56 |  14.285714 |\n",
       "| HSBC      |  3 |  56 |   5.357143 |\n",
       "| SANTANDER |  3 |  56 |   5.357143 |\n",
       "| BANAMEX   |  2 |  56 |   3.571429 |\n",
       "| Total     | 56 | 336 | 100.000000 |\n",
       "\n"
      ],
      "text/plain": [
       "  acreedor  registros total porcentaje\n",
       "1 BANOBRAS  26         56    46.428571\n",
       "2 BANCOMER  14         56    25.000000\n",
       "3 CI BANCO   8         56    14.285714\n",
       "4 HSBC       3         56     5.357143\n",
       "5 SANTANDER  3         56     5.357143\n",
       "6 BANAMEX    2         56     3.571429\n",
       "7 Total     56        336   100.000000"
      ]
     },
     "metadata": {},
     "output_type": "display_data"
    }
   ],
   "source": [
    "bancos <- deuda_publica %>%                     \n",
    "  filter(anio==2023) %>%\n",
    "  filter(trimestre == \"Cuarto Trimestre\") %>%\n",
    "  group_by(acreedor) %>%                       #se agrupa por el acreedor\n",
    "  summarise(registros= n ()) %>%               #se cuenta el número de registros por acreedor\n",
    "  mutate(total = sum(registros),               #se calcula el total de registros y se saca el porcentaje de cada acreedor\n",
    "         porcentaje = (registros /total) * 100) %>% \n",
    "  arrange(desc(porcentaje))%>%                    #se ordena de mayor a menor el porcentaje\n",
    "janitor::adorn_totals()\n",
    "bancos"
   ]
  },
  {
   "cell_type": "markdown",
   "id": "c8ade357",
   "metadata": {},
   "source": [
    "Relación entre deuda e ingresos"
   ]
  },
  {
   "cell_type": "code",
   "execution_count": 83,
   "id": "0cef1a45",
   "metadata": {
    "vscode": {
     "languageId": "r"
    }
   },
   "outputs": [
    {
     "name": "stderr",
     "output_type": "stream",
     "text": [
      "\u001b[1mRows: \u001b[22m\u001b[34m2281\u001b[39m \u001b[1mColumns: \u001b[22m\u001b[34m16\u001b[39m\n",
      "\u001b[36m──\u001b[39m \u001b[1mColumn specification\u001b[22m \u001b[36m────────────────────────────────────────────────────────\u001b[39m\n",
      "\u001b[1mDelimiter:\u001b[22m \",\"\n",
      "\u001b[31mchr\u001b[39m (10): periodo, desc_tipo_recurso_clase, desc_rubro, desc_tipo, clase, de...\n",
      "\u001b[32mdbl\u001b[39m  (6): ciclo, tipo_recurso_clase, rubro, tipo, monto_estimado, monto_reca...\n",
      "\n",
      "\u001b[36mℹ\u001b[39m Use `spec()` to retrieve the full column specification for this data.\n",
      "\u001b[36mℹ\u001b[39m Specify the column types or set `show_col_types = FALSE` to quiet this message.\n"
     ]
    },
    {
     "data": {
      "text/html": [
       "<table class=\"dataframe\">\n",
       "<caption>A tibble: 6 × 3</caption>\n",
       "<thead>\n",
       "\t<tr><th scope=col>ciclo</th><th scope=col>monto_recau</th><th scope=col>var</th></tr>\n",
       "\t<tr><th scope=col>&lt;dbl&gt;</th><th scope=col>&lt;dbl&gt;</th><th scope=col>&lt;dbl&gt;</th></tr>\n",
       "</thead>\n",
       "<tbody>\n",
       "\t<tr><td>2018</td><td>236843.1</td><td>  NA</td></tr>\n",
       "\t<tr><td>2019</td><td>243512.7</td><td> 2.8</td></tr>\n",
       "\t<tr><td>2020</td><td>232415.8</td><td>-4.6</td></tr>\n",
       "\t<tr><td>2021</td><td>232634.4</td><td> 0.1</td></tr>\n",
       "\t<tr><td>2022</td><td>267424.7</td><td>15.0</td></tr>\n",
       "\t<tr><td>2023</td><td>295619.3</td><td>10.5</td></tr>\n",
       "</tbody>\n",
       "</table>\n"
      ],
      "text/latex": [
       "A tibble: 6 × 3\n",
       "\\begin{tabular}{lll}\n",
       " ciclo & monto\\_recau & var\\\\\n",
       " <dbl> & <dbl> & <dbl>\\\\\n",
       "\\hline\n",
       "\t 2018 & 236843.1 &   NA\\\\\n",
       "\t 2019 & 243512.7 &  2.8\\\\\n",
       "\t 2020 & 232415.8 & -4.6\\\\\n",
       "\t 2021 & 232634.4 &  0.1\\\\\n",
       "\t 2022 & 267424.7 & 15.0\\\\\n",
       "\t 2023 & 295619.3 & 10.5\\\\\n",
       "\\end{tabular}\n"
      ],
      "text/markdown": [
       "\n",
       "A tibble: 6 × 3\n",
       "\n",
       "| ciclo &lt;dbl&gt; | monto_recau &lt;dbl&gt; | var &lt;dbl&gt; |\n",
       "|---|---|---|\n",
       "| 2018 | 236843.1 |   NA |\n",
       "| 2019 | 243512.7 |  2.8 |\n",
       "| 2020 | 232415.8 | -4.6 |\n",
       "| 2021 | 232634.4 |  0.1 |\n",
       "| 2022 | 267424.7 | 15.0 |\n",
       "| 2023 | 295619.3 | 10.5 |\n",
       "\n"
      ],
      "text/plain": [
       "  ciclo monto_recau var \n",
       "1 2018  236843.1      NA\n",
       "2 2019  243512.7     2.8\n",
       "3 2020  232415.8    -4.6\n",
       "4 2021  232634.4     0.1\n",
       "5 2022  267424.7    15.0\n",
       "6 2023  295619.3    10.5"
      ]
     },
     "metadata": {},
     "output_type": "display_data"
    }
   ],
   "source": [
    "#Se descarga la data de ingresos de la Ciudad de México\n",
    "ingresos_cdmx <- read_csv(\"https://datos.cdmx.gob.mx/dataset/f04b7092-782d-4206-9590-ac8b577891dc/resource/77c2e268-f5b4-4cdf-a705-13a73a9608b3/download/ingresos_2024_01.csv\", \n",
    "                          col_types = NULL)\n",
    "#MONTO TOTAL DE INGRESOS RECAUDADOS\n",
    "recaudados_por_ciclo <- ingresos_cdmx|>\n",
    "  filter(periodo == \"Cuenta Pública\",\n",
    "         desc_rubro !=  \"Ingresos Derivados de Financiamientos\") |>\n",
    "  group_by(ciclo)|>\n",
    " summarise(monto_recau = sum(monto_recaudado, na.rm = TRUE)/1000000)|>\n",
    "   mutate(var = round((monto_recau/lag(monto_recau, 1)-1)*100,1))\n",
    "recaudados_por_ciclo"
   ]
  },
  {
   "cell_type": "code",
   "execution_count": 86,
   "id": "7e439a00",
   "metadata": {
    "vscode": {
     "languageId": "r"
    }
   },
   "outputs": [
    {
     "data": {
      "text/html": [
       "<table class=\"dataframe\">\n",
       "<caption>A data.frame: 6 × 4</caption>\n",
       "<thead>\n",
       "\t<tr><th scope=col>año</th><th scope=col>dif_saldo</th><th scope=col>monto_recau</th><th scope=col>porcentaje</th></tr>\n",
       "\t<tr><th scope=col>&lt;dbl&gt;</th><th scope=col>&lt;dbl&gt;</th><th scope=col>&lt;dbl&gt;</th><th scope=col>&lt;dbl&gt;</th></tr>\n",
       "</thead>\n",
       "<tbody>\n",
       "\t<tr><td>2018</td><td>      NA</td><td>236843.1</td><td>       NA</td></tr>\n",
       "\t<tr><td>2019</td><td>2898.033</td><td>243512.7</td><td>1.1900950</td></tr>\n",
       "\t<tr><td>2020</td><td>3112.107</td><td>232415.8</td><td>1.3390252</td></tr>\n",
       "\t<tr><td>2021</td><td>4107.233</td><td>232634.4</td><td>1.7655311</td></tr>\n",
       "\t<tr><td>2022</td><td>4463.503</td><td>267424.7</td><td>1.6690691</td></tr>\n",
       "\t<tr><td>2023</td><td>2668.728</td><td>295619.3</td><td>0.9027583</td></tr>\n",
       "</tbody>\n",
       "</table>\n"
      ],
      "text/latex": [
       "A data.frame: 6 × 4\n",
       "\\begin{tabular}{llll}\n",
       " año & dif\\_saldo & monto\\_recau & porcentaje\\\\\n",
       " <dbl> & <dbl> & <dbl> & <dbl>\\\\\n",
       "\\hline\n",
       "\t 2018 &       NA & 236843.1 &        NA\\\\\n",
       "\t 2019 & 2898.033 & 243512.7 & 1.1900950\\\\\n",
       "\t 2020 & 3112.107 & 232415.8 & 1.3390252\\\\\n",
       "\t 2021 & 4107.233 & 232634.4 & 1.7655311\\\\\n",
       "\t 2022 & 4463.503 & 267424.7 & 1.6690691\\\\\n",
       "\t 2023 & 2668.728 & 295619.3 & 0.9027583\\\\\n",
       "\\end{tabular}\n"
      ],
      "text/markdown": [
       "\n",
       "A data.frame: 6 × 4\n",
       "\n",
       "| año &lt;dbl&gt; | dif_saldo &lt;dbl&gt; | monto_recau &lt;dbl&gt; | porcentaje &lt;dbl&gt; |\n",
       "|---|---|---|---|\n",
       "| 2018 |       NA | 236843.1 |        NA |\n",
       "| 2019 | 2898.033 | 243512.7 | 1.1900950 |\n",
       "| 2020 | 3112.107 | 232415.8 | 1.3390252 |\n",
       "| 2021 | 4107.233 | 232634.4 | 1.7655311 |\n",
       "| 2022 | 4463.503 | 267424.7 | 1.6690691 |\n",
       "| 2023 | 2668.728 | 295619.3 | 0.9027583 |\n",
       "\n"
      ],
      "text/plain": [
       "  año  dif_saldo monto_recau porcentaje\n",
       "1 2018       NA  236843.1           NA \n",
       "2 2019 2898.033  243512.7    1.1900950 \n",
       "3 2020 3112.107  232415.8    1.3390252 \n",
       "4 2021 4107.233  232634.4    1.7655311 \n",
       "5 2022 4463.503  267424.7    1.6690691 \n",
       "6 2023 2668.728  295619.3    0.9027583 "
      ]
     },
     "metadata": {},
     "output_type": "display_data"
    }
   ],
   "source": [
    "\n",
    "#se junta las datas referentes a los ingresos y el saldo de la deuda pública para 2018-2024\n",
    "recaudados_por_ciclo <- recaudados_por_ciclo %>%  \n",
    "  filter(ciclo <= 2023) #Se filtran los datos hasta el año 2023 ya que el registro completo de los ciclos es consecutivo hasta el primer ciclo de 2024\n",
    "datos <- cbind(datos_4t, recaudados_por_ciclo) %>% #se unen las dos tablas \n",
    "  select(ciclo, mdp2, monto_recau) %>% \n",
    "  rename(año = ciclo, dif_saldo = mdp2) %>% \n",
    "  mutate(porcentaje = (dif_saldo / monto_recau) * 100) #Se calcula el porcentaje de la diferencia del saldo de la deuda respecto a los ingresos recaudados\n",
    "datos"
   ]
  }
 ],
 "metadata": {
  "kernelspec": {
   "display_name": "R",
   "language": "R",
   "name": "ir"
  },
  "language_info": {
   "codemirror_mode": "r",
   "file_extension": ".r",
   "mimetype": "text/x-r-source",
   "name": "R",
   "pygments_lexer": "r",
   "version": "4.4.1"
  }
 },
 "nbformat": 4,
 "nbformat_minor": 5
}
