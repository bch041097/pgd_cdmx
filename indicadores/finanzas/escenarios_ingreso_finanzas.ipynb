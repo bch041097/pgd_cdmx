{
 "cells": [
  {
   "cell_type": "code",
   "execution_count": 260,
   "id": "652104d0",
   "metadata": {
    "vscode": {
     "languageId": "r"
    }
   },
   "outputs": [
    {
     "name": "stderr",
     "output_type": "stream",
     "text": [
      "Using GitHub PAT from the git credential store.\n",
      "\n",
      "Downloading GitHub repo cpyp-ipdp/funcionespgd@HEAD\n",
      "\n"
     ]
    },
    {
     "name": "stdout",
     "output_type": "stream",
     "text": [
      "rlang (1.1.4 -> 1.1.6) [CRAN]\n",
      "glue  (1.7.0 -> 1.8.0) [CRAN]\n",
      "cli   (3.6.3 -> 3.6.5) [CRAN]\n"
     ]
    },
    {
     "name": "stderr",
     "output_type": "stream",
     "text": [
      "Installing 3 packages: rlang, glue, cli\n",
      "\n",
      "Installing packages into 'C:/Users/claud/AppData/Local/R/win-library/4.4'\n",
      "(as 'lib' is unspecified)\n",
      "\n"
     ]
    },
    {
     "name": "stdout",
     "output_type": "stream",
     "text": [
      "package 'rlang' successfully unpacked and MD5 sums checked\n"
     ]
    },
    {
     "name": "stderr",
     "output_type": "stream",
     "text": [
      "Warning message:\n",
      "\"cannot remove prior installation of package 'rlang'\"\n",
      "Warning message in file.copy(savedcopy, lib, recursive = TRUE):\n",
      "\"problema al copiar C:\\Users\\claud\\AppData\\Local\\R\\win-library\\4.4\\00LOCK\\rlang\\libs\\x64\\rlang.dll  a C:\\Users\\claud\\AppData\\Local\\R\\win-library\\4.4\\rlang\\libs\\x64\\rlang.dll: Permission denied\"\n",
      "Warning message:\n",
      "\"restored 'rlang'\"\n"
     ]
    },
    {
     "name": "stdout",
     "output_type": "stream",
     "text": [
      "package 'glue' successfully unpacked and MD5 sums checked\n"
     ]
    },
    {
     "name": "stderr",
     "output_type": "stream",
     "text": [
      "Warning message:\n",
      "\"cannot remove prior installation of package 'glue'\"\n",
      "Warning message in file.copy(savedcopy, lib, recursive = TRUE):\n",
      "\"problema al copiar C:\\Users\\claud\\AppData\\Local\\R\\win-library\\4.4\\00LOCK\\glue\\libs\\x64\\glue.dll  a C:\\Users\\claud\\AppData\\Local\\R\\win-library\\4.4\\glue\\libs\\x64\\glue.dll: Permission denied\"\n",
      "Warning message:\n",
      "\"restored 'glue'\"\n"
     ]
    },
    {
     "name": "stdout",
     "output_type": "stream",
     "text": [
      "package 'cli' successfully unpacked and MD5 sums checked\n"
     ]
    },
    {
     "name": "stderr",
     "output_type": "stream",
     "text": [
      "Warning message:\n",
      "\"cannot remove prior installation of package 'cli'\"\n",
      "Warning message in file.copy(savedcopy, lib, recursive = TRUE):\n",
      "\"problema al copiar C:\\Users\\claud\\AppData\\Local\\R\\win-library\\4.4\\00LOCK\\cli\\libs\\x64\\cli.dll  a C:\\Users\\claud\\AppData\\Local\\R\\win-library\\4.4\\cli\\libs\\x64\\cli.dll: Permission denied\"\n",
      "Warning message:\n",
      "\"restored 'cli'\"\n"
     ]
    },
    {
     "name": "stdout",
     "output_type": "stream",
     "text": [
      "\n",
      "The downloaded binary packages are in\n",
      "\tC:\\Users\\claud\\AppData\\Local\\Temp\\RtmpkrE6FR\\downloaded_packages\n",
      "\u001b[36m──\u001b[39m \u001b[36mR CMD build\u001b[39m \u001b[36m─────────────────────────────────────────────────────────────────\u001b[39m\n",
      "* checking for file 'C:\\Users\\claud\\AppData\\Local\\Temp\\RtmpkrE6FR\\remotes65e0795da8d\\cpyp-ipdp-funcionespgd-8b2a39e/DESCRIPTION' ... OK\n",
      "* preparing 'funcionespgd':\n",
      "* checking DESCRIPTION meta-information ... OK\n",
      "* checking for LF line-endings in source and make files and shell scripts\n",
      "* checking for empty or unneeded directories\n",
      "Omitted 'LazyData' from DESCRIPTION\n",
      "* building 'funcionespgd_0.1.0.tar.gz'\n",
      "\n"
     ]
    },
    {
     "name": "stderr",
     "output_type": "stream",
     "text": [
      "Warning message:\n",
      "\"package 'funcionespgd' is in use and will not be installed\"\n"
     ]
    }
   ],
   "source": [
    "##Estimación de datos de finanzas públicas\n",
    "#Se borra todo lo que se encuentra en el entorno\n",
    "\n",
    "rm(list=ls())\n",
    "\n",
    "# Librerías ====\n",
    "if(!require('pacman')) install.packages('pacman')\n",
    "pacman::p_load(tidyverse,lubridate, showtext,srvyr,foreign,httr,jsonlite)\n",
    "font_add_google(\"Poppins\", \"pop\")\n",
    "showtext_auto()\n",
    "remotes::install_github(\"cpyp-ipdp/funcionespgd\", force = TRUE)\n",
    "library(funcionespgd)"
   ]
  },
  {
   "cell_type": "code",
   "execution_count": 261,
   "id": "b6790310",
   "metadata": {
    "vscode": {
     "languageId": "r"
    }
   },
   "outputs": [
    {
     "data": {
      "text/html": [
       "<table class=\"dataframe\">\n",
       "<caption>A tibble: 13 × 3</caption>\n",
       "<thead>\n",
       "\t<tr><th scope=col>year</th><th scope=col>ingresos</th><th scope=col>variacion_ing</th></tr>\n",
       "\t<tr><th scope=col>&lt;dbl&gt;</th><th scope=col>&lt;dbl&gt;</th><th scope=col>&lt;dbl&gt;</th></tr>\n",
       "</thead>\n",
       "<tbody>\n",
       "\t<tr><td>2018</td><td>240700.2</td><td>    NA</td></tr>\n",
       "\t<tr><td>2019</td><td>249012.7</td><td>  3.45</td></tr>\n",
       "\t<tr><td>2020</td><td>235527.9</td><td> -5.42</td></tr>\n",
       "\t<tr><td>2021</td><td>236741.7</td><td>  0.52</td></tr>\n",
       "\t<tr><td>2022</td><td>271888.2</td><td> 14.85</td></tr>\n",
       "\t<tr><td>2023</td><td>298288.0</td><td>  9.71</td></tr>\n",
       "\t<tr><td>2024</td><td>267965.3</td><td>-10.17</td></tr>\n",
       "\t<tr><td>2025</td><td>267811.2</td><td> -0.06</td></tr>\n",
       "\t<tr><td>2026</td><td>271875.9</td><td>  1.52</td></tr>\n",
       "\t<tr><td>2027</td><td>276776.5</td><td>  1.80</td></tr>\n",
       "\t<tr><td>2028</td><td>280238.5</td><td>  1.25</td></tr>\n",
       "\t<tr><td>2029</td><td>284262.3</td><td>  1.44</td></tr>\n",
       "\t<tr><td>2030</td><td>287679.4</td><td>  1.20</td></tr>\n",
       "</tbody>\n",
       "</table>\n"
      ],
      "text/latex": [
       "A tibble: 13 × 3\n",
       "\\begin{tabular}{lll}\n",
       " year & ingresos & variacion\\_ing\\\\\n",
       " <dbl> & <dbl> & <dbl>\\\\\n",
       "\\hline\n",
       "\t 2018 & 240700.2 &     NA\\\\\n",
       "\t 2019 & 249012.7 &   3.45\\\\\n",
       "\t 2020 & 235527.9 &  -5.42\\\\\n",
       "\t 2021 & 236741.7 &   0.52\\\\\n",
       "\t 2022 & 271888.2 &  14.85\\\\\n",
       "\t 2023 & 298288.0 &   9.71\\\\\n",
       "\t 2024 & 267965.3 & -10.17\\\\\n",
       "\t 2025 & 267811.2 &  -0.06\\\\\n",
       "\t 2026 & 271875.9 &   1.52\\\\\n",
       "\t 2027 & 276776.5 &   1.80\\\\\n",
       "\t 2028 & 280238.5 &   1.25\\\\\n",
       "\t 2029 & 284262.3 &   1.44\\\\\n",
       "\t 2030 & 287679.4 &   1.20\\\\\n",
       "\\end{tabular}\n"
      ],
      "text/markdown": [
       "\n",
       "A tibble: 13 × 3\n",
       "\n",
       "| year &lt;dbl&gt; | ingresos &lt;dbl&gt; | variacion_ing &lt;dbl&gt; |\n",
       "|---|---|---|\n",
       "| 2018 | 240700.2 |     NA |\n",
       "| 2019 | 249012.7 |   3.45 |\n",
       "| 2020 | 235527.9 |  -5.42 |\n",
       "| 2021 | 236741.7 |   0.52 |\n",
       "| 2022 | 271888.2 |  14.85 |\n",
       "| 2023 | 298288.0 |   9.71 |\n",
       "| 2024 | 267965.3 | -10.17 |\n",
       "| 2025 | 267811.2 |  -0.06 |\n",
       "| 2026 | 271875.9 |   1.52 |\n",
       "| 2027 | 276776.5 |   1.80 |\n",
       "| 2028 | 280238.5 |   1.25 |\n",
       "| 2029 | 284262.3 |   1.44 |\n",
       "| 2030 | 287679.4 |   1.20 |\n",
       "\n"
      ],
      "text/plain": [
       "   year ingresos variacion_ing\n",
       "1  2018 240700.2     NA       \n",
       "2  2019 249012.7   3.45       \n",
       "3  2020 235527.9  -5.42       \n",
       "4  2021 236741.7   0.52       \n",
       "5  2022 271888.2  14.85       \n",
       "6  2023 298288.0   9.71       \n",
       "7  2024 267965.3 -10.17       \n",
       "8  2025 267811.2  -0.06       \n",
       "9  2026 271875.9   1.52       \n",
       "10 2027 276776.5   1.80       \n",
       "11 2028 280238.5   1.25       \n",
       "12 2029 284262.3   1.44       \n",
       "13 2030 287679.4   1.20       "
      ]
     },
     "metadata": {},
     "output_type": "display_data"
    }
   ],
   "source": [
    "ingresos<-read.csv(\"https://datos.cdmx.gob.mx/dataset/f04b7092-782d-4206-9590-ac8b577891dc/resource/77c2e268-f5b4-4cdf-a705-13a73a9608b3/download/ingresos_2024_01.csv\")%>%\n",
    "filter(periodo==\"Cuenta Pública\")%>%\n",
    "#filter(desc_tipo_recurso_clase!=\"Endeudamiento\")%>%\n",
    "group_by(ciclo)%>%\n",
    "summarise(ingresos=sum(monto_recaudado))%>%\n",
    "bind_rows(tibble(ciclo = 2024, ingresos = 267965350437)) %>%\n",
    "\n",
    "#Transformar a millones de pesos\n",
    "mutate(ingresos=round(ingresos/1000000,2))%>%\n",
    "rename(year=ciclo)%>%\n",
    "#añadir year 2025 267811.2, 2026 271875.9\n",
    "bind_rows(tibble(year = 2025, ingresos = 267811.2),\n",
    "          tibble(year = 2026, ingresos = 271875.9),\n",
    "          tibble(year = 2027, ingresos = 276776.5),\n",
    "            tibble(year = 2028, ingresos = 280238.5),\n",
    "            tibble(year = 2029, ingresos = 284262.3),\n",
    "            tibble(year = 2030, ingresos = 287679.4),\n",
    "          \n",
    "          )%>%\n",
    "          #Calcular variación porcentual respecto al ciclo anterior\n",
    "mutate(variacion_ing=round((ingresos-lag(ingresos))/lag(ingresos)*100,2))\n",
    "ingresos"
   ]
  },
  {
   "cell_type": "code",
   "execution_count": 262,
   "id": "b0cf5776",
   "metadata": {
    "vscode": {
     "languageId": "r"
    }
   },
   "outputs": [
    {
     "data": {
      "text/html": [
       "1.44158019366982"
      ],
      "text/latex": [
       "1.44158019366982"
      ],
      "text/markdown": [
       "1.44158019366982"
      ],
      "text/plain": [
       "[1] 1.44158"
      ]
     },
     "metadata": {},
     "output_type": "display_data"
    }
   ],
   "source": [
    "ingresos_2025 <- ingresos %>% filter(year == 2025) %>% pull(ingresos)\n",
    "ingresos_2030 <- ingresos %>% filter(year == 2030) %>% pull(ingresos)\n",
    "años <- 2030 - 2025\n",
    "\n",
    "# Tasa promedio anual compuesta (en %)\n",
    "tcp <- ( (ingresos_2030 / ingresos_2025)^(1 / años) - 1 ) * 100\n",
    "tcp"
   ]
  },
  {
   "cell_type": "code",
   "execution_count": 263,
   "id": "27c7d8bd",
   "metadata": {
    "vscode": {
     "languageId": "r"
    }
   },
   "outputs": [
    {
     "data": {
      "text/html": [
       "<table class=\"dataframe\">\n",
       "<caption>A data.frame: 15 × 2</caption>\n",
       "<thead>\n",
       "\t<tr><th scope=col>year</th><th scope=col>ingresos</th></tr>\n",
       "\t<tr><th scope=col>&lt;int&gt;</th><th scope=col>&lt;dbl&gt;</th></tr>\n",
       "</thead>\n",
       "<tbody>\n",
       "\t<tr><td>2031</td><td>291826.5</td></tr>\n",
       "\t<tr><td>2032</td><td>295941.4</td></tr>\n",
       "\t<tr><td>2033</td><td>300020.9</td></tr>\n",
       "\t<tr><td>2034</td><td>304062.1</td></tr>\n",
       "\t<tr><td>2035</td><td>308061.8</td></tr>\n",
       "\t<tr><td>2036</td><td>312016.9</td></tr>\n",
       "\t<tr><td>2037</td><td>315924.4</td></tr>\n",
       "\t<tr><td>2038</td><td>319781.1</td></tr>\n",
       "\t<tr><td>2039</td><td>323584.1</td></tr>\n",
       "\t<tr><td>2040</td><td>327330.3</td></tr>\n",
       "\t<tr><td>2041</td><td>331016.6</td></tr>\n",
       "\t<tr><td>2042</td><td>334640.0</td></tr>\n",
       "\t<tr><td>2043</td><td>338197.5</td></tr>\n",
       "\t<tr><td>2044</td><td>341686.1</td></tr>\n",
       "\t<tr><td>2045</td><td>345103.0</td></tr>\n",
       "</tbody>\n",
       "</table>\n"
      ],
      "text/latex": [
       "A data.frame: 15 × 2\n",
       "\\begin{tabular}{ll}\n",
       " year & ingresos\\\\\n",
       " <int> & <dbl>\\\\\n",
       "\\hline\n",
       "\t 2031 & 291826.5\\\\\n",
       "\t 2032 & 295941.4\\\\\n",
       "\t 2033 & 300020.9\\\\\n",
       "\t 2034 & 304062.1\\\\\n",
       "\t 2035 & 308061.8\\\\\n",
       "\t 2036 & 312016.9\\\\\n",
       "\t 2037 & 315924.4\\\\\n",
       "\t 2038 & 319781.1\\\\\n",
       "\t 2039 & 323584.1\\\\\n",
       "\t 2040 & 327330.3\\\\\n",
       "\t 2041 & 331016.6\\\\\n",
       "\t 2042 & 334640.0\\\\\n",
       "\t 2043 & 338197.5\\\\\n",
       "\t 2044 & 341686.1\\\\\n",
       "\t 2045 & 345103.0\\\\\n",
       "\\end{tabular}\n"
      ],
      "text/markdown": [
       "\n",
       "A data.frame: 15 × 2\n",
       "\n",
       "| year &lt;int&gt; | ingresos &lt;dbl&gt; |\n",
       "|---|---|\n",
       "| 2031 | 291826.5 |\n",
       "| 2032 | 295941.4 |\n",
       "| 2033 | 300020.9 |\n",
       "| 2034 | 304062.1 |\n",
       "| 2035 | 308061.8 |\n",
       "| 2036 | 312016.9 |\n",
       "| 2037 | 315924.4 |\n",
       "| 2038 | 319781.1 |\n",
       "| 2039 | 323584.1 |\n",
       "| 2040 | 327330.3 |\n",
       "| 2041 | 331016.6 |\n",
       "| 2042 | 334640.0 |\n",
       "| 2043 | 338197.5 |\n",
       "| 2044 | 341686.1 |\n",
       "| 2045 | 345103.0 |\n",
       "\n"
      ],
      "text/plain": [
       "   year ingresos\n",
       "1  2031 291826.5\n",
       "2  2032 295941.4\n",
       "3  2033 300020.9\n",
       "4  2034 304062.1\n",
       "5  2035 308061.8\n",
       "6  2036 312016.9\n",
       "7  2037 315924.4\n",
       "8  2038 319781.1\n",
       "9  2039 323584.1\n",
       "10 2040 327330.3\n",
       "11 2041 331016.6\n",
       "12 2042 334640.0\n",
       "13 2043 338197.5\n",
       "14 2044 341686.1\n",
       "15 2045 345103.0"
      ]
     },
     "metadata": {},
     "output_type": "display_data"
    }
   ],
   "source": [
    "tasas <- seq(tcp, 1, length.out = 15)  # del 1.5% en 2031 al 1.0% en 2045\n",
    "\n",
    "ingreso_2030 <- ingresos %>% filter(year == 2030) %>% pull(ingresos)\n",
    "\n",
    "ingresos_futuros <- data.frame(\n",
    "  year = 2031:2045,\n",
    "  ingresos = Reduce(function(prev, tasa) prev * (1 + tasa / 100), tasas, init = ingreso_2030, accumulate = TRUE)[-1]\n",
    ")\n",
    "\n",
    "ingresos_futuros"
   ]
  },
  {
   "cell_type": "code",
   "execution_count": 264,
   "id": "b62fe4aa",
   "metadata": {
    "vscode": {
     "languageId": "r"
    }
   },
   "outputs": [
    {
     "data": {
      "text/html": [
       "<table class=\"dataframe\">\n",
       "<caption>A tibble: 28 × 2</caption>\n",
       "<thead>\n",
       "\t<tr><th scope=col>year</th><th scope=col>ingresos</th></tr>\n",
       "\t<tr><th scope=col>&lt;dbl&gt;</th><th scope=col>&lt;dbl&gt;</th></tr>\n",
       "</thead>\n",
       "<tbody>\n",
       "\t<tr><td>2018</td><td>240700.2</td></tr>\n",
       "\t<tr><td>2019</td><td>249012.7</td></tr>\n",
       "\t<tr><td>2020</td><td>235527.9</td></tr>\n",
       "\t<tr><td>2021</td><td>236741.7</td></tr>\n",
       "\t<tr><td>2022</td><td>271888.2</td></tr>\n",
       "\t<tr><td>2023</td><td>298288.0</td></tr>\n",
       "\t<tr><td>2024</td><td>267965.3</td></tr>\n",
       "\t<tr><td>2025</td><td>267811.2</td></tr>\n",
       "\t<tr><td>2026</td><td>271875.9</td></tr>\n",
       "\t<tr><td>2027</td><td>276776.5</td></tr>\n",
       "\t<tr><td>2028</td><td>280238.5</td></tr>\n",
       "\t<tr><td>2029</td><td>284262.3</td></tr>\n",
       "\t<tr><td>2030</td><td>287679.4</td></tr>\n",
       "\t<tr><td>2031</td><td>291826.5</td></tr>\n",
       "\t<tr><td>2032</td><td>295941.4</td></tr>\n",
       "\t<tr><td>2033</td><td>300020.9</td></tr>\n",
       "\t<tr><td>2034</td><td>304062.1</td></tr>\n",
       "\t<tr><td>2035</td><td>308061.8</td></tr>\n",
       "\t<tr><td>2036</td><td>312016.9</td></tr>\n",
       "\t<tr><td>2037</td><td>315924.4</td></tr>\n",
       "\t<tr><td>2038</td><td>319781.1</td></tr>\n",
       "\t<tr><td>2039</td><td>323584.1</td></tr>\n",
       "\t<tr><td>2040</td><td>327330.3</td></tr>\n",
       "\t<tr><td>2041</td><td>331016.6</td></tr>\n",
       "\t<tr><td>2042</td><td>334640.0</td></tr>\n",
       "\t<tr><td>2043</td><td>338197.5</td></tr>\n",
       "\t<tr><td>2044</td><td>341686.1</td></tr>\n",
       "\t<tr><td>2045</td><td>345103.0</td></tr>\n",
       "</tbody>\n",
       "</table>\n"
      ],
      "text/latex": [
       "A tibble: 28 × 2\n",
       "\\begin{tabular}{ll}\n",
       " year & ingresos\\\\\n",
       " <dbl> & <dbl>\\\\\n",
       "\\hline\n",
       "\t 2018 & 240700.2\\\\\n",
       "\t 2019 & 249012.7\\\\\n",
       "\t 2020 & 235527.9\\\\\n",
       "\t 2021 & 236741.7\\\\\n",
       "\t 2022 & 271888.2\\\\\n",
       "\t 2023 & 298288.0\\\\\n",
       "\t 2024 & 267965.3\\\\\n",
       "\t 2025 & 267811.2\\\\\n",
       "\t 2026 & 271875.9\\\\\n",
       "\t 2027 & 276776.5\\\\\n",
       "\t 2028 & 280238.5\\\\\n",
       "\t 2029 & 284262.3\\\\\n",
       "\t 2030 & 287679.4\\\\\n",
       "\t 2031 & 291826.5\\\\\n",
       "\t 2032 & 295941.4\\\\\n",
       "\t 2033 & 300020.9\\\\\n",
       "\t 2034 & 304062.1\\\\\n",
       "\t 2035 & 308061.8\\\\\n",
       "\t 2036 & 312016.9\\\\\n",
       "\t 2037 & 315924.4\\\\\n",
       "\t 2038 & 319781.1\\\\\n",
       "\t 2039 & 323584.1\\\\\n",
       "\t 2040 & 327330.3\\\\\n",
       "\t 2041 & 331016.6\\\\\n",
       "\t 2042 & 334640.0\\\\\n",
       "\t 2043 & 338197.5\\\\\n",
       "\t 2044 & 341686.1\\\\\n",
       "\t 2045 & 345103.0\\\\\n",
       "\\end{tabular}\n"
      ],
      "text/markdown": [
       "\n",
       "A tibble: 28 × 2\n",
       "\n",
       "| year &lt;dbl&gt; | ingresos &lt;dbl&gt; |\n",
       "|---|---|\n",
       "| 2018 | 240700.2 |\n",
       "| 2019 | 249012.7 |\n",
       "| 2020 | 235527.9 |\n",
       "| 2021 | 236741.7 |\n",
       "| 2022 | 271888.2 |\n",
       "| 2023 | 298288.0 |\n",
       "| 2024 | 267965.3 |\n",
       "| 2025 | 267811.2 |\n",
       "| 2026 | 271875.9 |\n",
       "| 2027 | 276776.5 |\n",
       "| 2028 | 280238.5 |\n",
       "| 2029 | 284262.3 |\n",
       "| 2030 | 287679.4 |\n",
       "| 2031 | 291826.5 |\n",
       "| 2032 | 295941.4 |\n",
       "| 2033 | 300020.9 |\n",
       "| 2034 | 304062.1 |\n",
       "| 2035 | 308061.8 |\n",
       "| 2036 | 312016.9 |\n",
       "| 2037 | 315924.4 |\n",
       "| 2038 | 319781.1 |\n",
       "| 2039 | 323584.1 |\n",
       "| 2040 | 327330.3 |\n",
       "| 2041 | 331016.6 |\n",
       "| 2042 | 334640.0 |\n",
       "| 2043 | 338197.5 |\n",
       "| 2044 | 341686.1 |\n",
       "| 2045 | 345103.0 |\n",
       "\n"
      ],
      "text/plain": [
       "   year ingresos\n",
       "1  2018 240700.2\n",
       "2  2019 249012.7\n",
       "3  2020 235527.9\n",
       "4  2021 236741.7\n",
       "5  2022 271888.2\n",
       "6  2023 298288.0\n",
       "7  2024 267965.3\n",
       "8  2025 267811.2\n",
       "9  2026 271875.9\n",
       "10 2027 276776.5\n",
       "11 2028 280238.5\n",
       "12 2029 284262.3\n",
       "13 2030 287679.4\n",
       "14 2031 291826.5\n",
       "15 2032 295941.4\n",
       "16 2033 300020.9\n",
       "17 2034 304062.1\n",
       "18 2035 308061.8\n",
       "19 2036 312016.9\n",
       "20 2037 315924.4\n",
       "21 2038 319781.1\n",
       "22 2039 323584.1\n",
       "23 2040 327330.3\n",
       "24 2041 331016.6\n",
       "25 2042 334640.0\n",
       "26 2043 338197.5\n",
       "27 2044 341686.1\n",
       "28 2045 345103.0"
      ]
     },
     "metadata": {},
     "output_type": "display_data"
    }
   ],
   "source": [
    "#Pegar ingresos e ingresos futuros\n",
    "futuros <- ingresos %>%\n",
    "  select(year, ingresos) %>%\n",
    "  bind_rows(ingresos_futuros)\n",
    "futuros"
   ]
  },
  {
   "cell_type": "code",
   "execution_count": 265,
   "id": "7b0b6e3a",
   "metadata": {
    "vscode": {
     "languageId": "r"
    }
   },
   "outputs": [
    {
     "data": {
      "text/html": [
       "<table class=\"dataframe\">\n",
       "<caption>A tibble: 28 × 4</caption>\n",
       "<thead>\n",
       "\t<tr><th scope=col>year</th><th scope=col>estimado</th><th scope=col>superior</th><th scope=col>inferior</th></tr>\n",
       "\t<tr><th scope=col>&lt;dbl&gt;</th><th scope=col>&lt;dbl&gt;</th><th scope=col>&lt;dbl&gt;</th><th scope=col>&lt;dbl&gt;</th></tr>\n",
       "</thead>\n",
       "<tbody>\n",
       "\t<tr><td>2018</td><td>240.7002</td><td>240.7002</td><td>240.7002</td></tr>\n",
       "\t<tr><td>2019</td><td>249.0127</td><td>249.0127</td><td>249.0127</td></tr>\n",
       "\t<tr><td>2020</td><td>235.5279</td><td>235.5279</td><td>235.5279</td></tr>\n",
       "\t<tr><td>2021</td><td>236.7417</td><td>236.7417</td><td>236.7417</td></tr>\n",
       "\t<tr><td>2022</td><td>271.8882</td><td>271.8882</td><td>271.8882</td></tr>\n",
       "\t<tr><td>2023</td><td>298.2880</td><td>298.2880</td><td>298.2880</td></tr>\n",
       "\t<tr><td>2024</td><td>267.9654</td><td>268.2333</td><td>267.6977</td></tr>\n",
       "\t<tr><td>2025</td><td>267.8112</td><td>268.3471</td><td>267.2764</td></tr>\n",
       "\t<tr><td>2026</td><td>271.8759</td><td>272.6923</td><td>271.0619</td></tr>\n",
       "\t<tr><td>2027</td><td>276.7765</td><td>277.8853</td><td>275.6722</td></tr>\n",
       "\t<tr><td>2028</td><td>280.2385</td><td>281.6425</td><td>278.8415</td></tr>\n",
       "\t<tr><td>2029</td><td>284.2623</td><td>285.9721</td><td>282.5627</td></tr>\n",
       "\t<tr><td>2030</td><td>287.6794</td><td>289.6992</td><td>285.6737</td></tr>\n",
       "\t<tr><td>2031</td><td>291.8265</td><td>294.1693</td><td>289.5024</td></tr>\n",
       "\t<tr><td>2032</td><td>295.9414</td><td>298.6155</td><td>293.2912</td></tr>\n",
       "\t<tr><td>2033</td><td>300.0209</td><td>303.0347</td><td>297.0372</td></tr>\n",
       "\t<tr><td>2034</td><td>304.0621</td><td>307.4235</td><td>300.7374</td></tr>\n",
       "\t<tr><td>2035</td><td>308.0618</td><td>311.7789</td><td>304.3889</td></tr>\n",
       "\t<tr><td>2036</td><td>312.0169</td><td>316.0975</td><td>307.9889</td></tr>\n",
       "\t<tr><td>2037</td><td>315.9244</td><td>320.3762</td><td>311.5344</td></tr>\n",
       "\t<tr><td>2038</td><td>319.7811</td><td>324.6116</td><td>315.0226</td></tr>\n",
       "\t<tr><td>2039</td><td>323.5841</td><td>328.8005</td><td>318.4505</td></tr>\n",
       "\t<tr><td>2040</td><td>327.3303</td><td>332.9397</td><td>321.8154</td></tr>\n",
       "\t<tr><td>2041</td><td>331.0166</td><td>337.0258</td><td>325.1145</td></tr>\n",
       "\t<tr><td>2042</td><td>334.6400</td><td>341.0557</td><td>328.3449</td></tr>\n",
       "\t<tr><td>2043</td><td>338.1975</td><td>345.0261</td><td>331.5040</td></tr>\n",
       "\t<tr><td>2044</td><td>341.6861</td><td>348.9337</td><td>334.5890</td></tr>\n",
       "\t<tr><td>2045</td><td>345.1030</td><td>352.7755</td><td>337.5973</td></tr>\n",
       "</tbody>\n",
       "</table>\n"
      ],
      "text/latex": [
       "A tibble: 28 × 4\n",
       "\\begin{tabular}{llll}\n",
       " year & estimado & superior & inferior\\\\\n",
       " <dbl> & <dbl> & <dbl> & <dbl>\\\\\n",
       "\\hline\n",
       "\t 2018 & 240.7002 & 240.7002 & 240.7002\\\\\n",
       "\t 2019 & 249.0127 & 249.0127 & 249.0127\\\\\n",
       "\t 2020 & 235.5279 & 235.5279 & 235.5279\\\\\n",
       "\t 2021 & 236.7417 & 236.7417 & 236.7417\\\\\n",
       "\t 2022 & 271.8882 & 271.8882 & 271.8882\\\\\n",
       "\t 2023 & 298.2880 & 298.2880 & 298.2880\\\\\n",
       "\t 2024 & 267.9654 & 268.2333 & 267.6977\\\\\n",
       "\t 2025 & 267.8112 & 268.3471 & 267.2764\\\\\n",
       "\t 2026 & 271.8759 & 272.6923 & 271.0619\\\\\n",
       "\t 2027 & 276.7765 & 277.8853 & 275.6722\\\\\n",
       "\t 2028 & 280.2385 & 281.6425 & 278.8415\\\\\n",
       "\t 2029 & 284.2623 & 285.9721 & 282.5627\\\\\n",
       "\t 2030 & 287.6794 & 289.6992 & 285.6737\\\\\n",
       "\t 2031 & 291.8265 & 294.1693 & 289.5024\\\\\n",
       "\t 2032 & 295.9414 & 298.6155 & 293.2912\\\\\n",
       "\t 2033 & 300.0209 & 303.0347 & 297.0372\\\\\n",
       "\t 2034 & 304.0621 & 307.4235 & 300.7374\\\\\n",
       "\t 2035 & 308.0618 & 311.7789 & 304.3889\\\\\n",
       "\t 2036 & 312.0169 & 316.0975 & 307.9889\\\\\n",
       "\t 2037 & 315.9244 & 320.3762 & 311.5344\\\\\n",
       "\t 2038 & 319.7811 & 324.6116 & 315.0226\\\\\n",
       "\t 2039 & 323.5841 & 328.8005 & 318.4505\\\\\n",
       "\t 2040 & 327.3303 & 332.9397 & 321.8154\\\\\n",
       "\t 2041 & 331.0166 & 337.0258 & 325.1145\\\\\n",
       "\t 2042 & 334.6400 & 341.0557 & 328.3449\\\\\n",
       "\t 2043 & 338.1975 & 345.0261 & 331.5040\\\\\n",
       "\t 2044 & 341.6861 & 348.9337 & 334.5890\\\\\n",
       "\t 2045 & 345.1030 & 352.7755 & 337.5973\\\\\n",
       "\\end{tabular}\n"
      ],
      "text/markdown": [
       "\n",
       "A tibble: 28 × 4\n",
       "\n",
       "| year &lt;dbl&gt; | estimado &lt;dbl&gt; | superior &lt;dbl&gt; | inferior &lt;dbl&gt; |\n",
       "|---|---|---|---|\n",
       "| 2018 | 240.7002 | 240.7002 | 240.7002 |\n",
       "| 2019 | 249.0127 | 249.0127 | 249.0127 |\n",
       "| 2020 | 235.5279 | 235.5279 | 235.5279 |\n",
       "| 2021 | 236.7417 | 236.7417 | 236.7417 |\n",
       "| 2022 | 271.8882 | 271.8882 | 271.8882 |\n",
       "| 2023 | 298.2880 | 298.2880 | 298.2880 |\n",
       "| 2024 | 267.9654 | 268.2333 | 267.6977 |\n",
       "| 2025 | 267.8112 | 268.3471 | 267.2764 |\n",
       "| 2026 | 271.8759 | 272.6923 | 271.0619 |\n",
       "| 2027 | 276.7765 | 277.8853 | 275.6722 |\n",
       "| 2028 | 280.2385 | 281.6425 | 278.8415 |\n",
       "| 2029 | 284.2623 | 285.9721 | 282.5627 |\n",
       "| 2030 | 287.6794 | 289.6992 | 285.6737 |\n",
       "| 2031 | 291.8265 | 294.1693 | 289.5024 |\n",
       "| 2032 | 295.9414 | 298.6155 | 293.2912 |\n",
       "| 2033 | 300.0209 | 303.0347 | 297.0372 |\n",
       "| 2034 | 304.0621 | 307.4235 | 300.7374 |\n",
       "| 2035 | 308.0618 | 311.7789 | 304.3889 |\n",
       "| 2036 | 312.0169 | 316.0975 | 307.9889 |\n",
       "| 2037 | 315.9244 | 320.3762 | 311.5344 |\n",
       "| 2038 | 319.7811 | 324.6116 | 315.0226 |\n",
       "| 2039 | 323.5841 | 328.8005 | 318.4505 |\n",
       "| 2040 | 327.3303 | 332.9397 | 321.8154 |\n",
       "| 2041 | 331.0166 | 337.0258 | 325.1145 |\n",
       "| 2042 | 334.6400 | 341.0557 | 328.3449 |\n",
       "| 2043 | 338.1975 | 345.0261 | 331.5040 |\n",
       "| 2044 | 341.6861 | 348.9337 | 334.5890 |\n",
       "| 2045 | 345.1030 | 352.7755 | 337.5973 |\n",
       "\n"
      ],
      "text/plain": [
       "   year estimado superior inferior\n",
       "1  2018 240.7002 240.7002 240.7002\n",
       "2  2019 249.0127 249.0127 249.0127\n",
       "3  2020 235.5279 235.5279 235.5279\n",
       "4  2021 236.7417 236.7417 236.7417\n",
       "5  2022 271.8882 271.8882 271.8882\n",
       "6  2023 298.2880 298.2880 298.2880\n",
       "7  2024 267.9654 268.2333 267.6977\n",
       "8  2025 267.8112 268.3471 267.2764\n",
       "9  2026 271.8759 272.6923 271.0619\n",
       "10 2027 276.7765 277.8853 275.6722\n",
       "11 2028 280.2385 281.6425 278.8415\n",
       "12 2029 284.2623 285.9721 282.5627\n",
       "13 2030 287.6794 289.6992 285.6737\n",
       "14 2031 291.8265 294.1693 289.5024\n",
       "15 2032 295.9414 298.6155 293.2912\n",
       "16 2033 300.0209 303.0347 297.0372\n",
       "17 2034 304.0621 307.4235 300.7374\n",
       "18 2035 308.0618 311.7789 304.3889\n",
       "19 2036 312.0169 316.0975 307.9889\n",
       "20 2037 315.9244 320.3762 311.5344\n",
       "21 2038 319.7811 324.6116 315.0226\n",
       "22 2039 323.5841 328.8005 318.4505\n",
       "23 2040 327.3303 332.9397 321.8154\n",
       "24 2041 331.0166 337.0258 325.1145\n",
       "25 2042 334.6400 341.0557 328.3449\n",
       "26 2043 338.1975 345.0261 331.5040\n",
       "27 2044 341.6861 348.9337 334.5890\n",
       "28 2045 345.1030 352.7755 337.5973"
      ]
     },
     "metadata": {},
     "output_type": "display_data"
    }
   ],
   "source": [
    "escenarios<-futuros%>%\n",
    "mutate(ingresos=ingresos/1000)%>%\n",
    "intervals(\"ingresos\", margen = 0.001, año_base = 2023)\n",
    "\n",
    "escenarios"
   ]
  },
  {
   "cell_type": "code",
   "execution_count": 266,
   "id": "5e5ced28",
   "metadata": {
    "vscode": {
     "languageId": "r"
    }
   },
   "outputs": [
    {
     "data": {
      "image/png": "[encoded data removed]",
      "text/plain": [
       "plot without title"
      ]
     },
     "metadata": {
      "image/png": {
       "height": 420,
       "width": 420
      }
     },
     "output_type": "display_data"
    }
   ],
   "source": [
    "grafica_bonita(\n",
    "  data = escenarios,\n",
    "  x = \"year\",\n",
    "  y = \"estimado\",\n",
    "  titulo = \"Ingresos del Gobierno de la Ciudad de México\n",
    "  (miles de millones de pesos)\",\n",
    "  linea_vertical = 2024,\n",
    "  mostrar_intervalo = \"ambos\",\n",
    "  nombre_observado = \"Observado\",\n",
    "  nombre_estimado_futuro = \"Deseable\",\n",
    "  nombre_intervalo_superior = \"Transformador\",\n",
    "  nombre_intervalo_inferior = \"Inercial\",\n",
    "  mostrar_leyenda = TRUE,\n",
    "  fuente = \"pop\",\n",
    "  etiqueta_x = \"Año\",\n",
    "  etiqueta_y = \"Miles de millones de pesos\",\n",
    "  titulo_leyenda = \"Escenarios\",\n",
    "  limite_inferior_y = 200\n",
    ")\n",
    "\n",
    "ggsave(\"finanzas/ingresos.png\", width = 12, height = 10, dpi = 100, bg = \"white\")"
   ]
  }
 ],
 "metadata": {
  "kernelspec": {
   "display_name": "R",
   "language": "R",
   "name": "ir"
  },
  "language_info": {
   "codemirror_mode": "r",
   "file_extension": ".r",
   "mimetype": "text/x-r-source",
   "name": "R",
   "pygments_lexer": "r",
   "version": "4.4.1"
  }
 },
 "nbformat": 4,
 "nbformat_minor": 5
}
