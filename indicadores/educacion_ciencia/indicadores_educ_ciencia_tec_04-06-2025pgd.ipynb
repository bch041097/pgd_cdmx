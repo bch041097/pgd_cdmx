{
 "cells": [
  {
   "cell_type": "markdown",
   "id": "1ce23e40",
   "metadata": {},
   "source": [
    "**Indicadores de Educación, Ciencia, Tecnología e Innovación**"
   ]
  },
  {
   "cell_type": "code",
   "execution_count": 147,
   "id": "703a2dab",
   "metadata": {
    "vscode": {
     "languageId": "r"
    }
   },
   "outputs": [
    {
     "data": {
      "text/html": [
       "<ol>\n",
       "\t<li><style>\n",
       ".list-inline {list-style: none; margin:0; padding: 0}\n",
       ".list-inline>li {display: inline-block}\n",
       ".list-inline>li:not(:last-child)::after {content: \"\\00b7\"; padding: 0 .5ex}\n",
       "</style>\n",
       "<ol class=list-inline><li>'openxlsx'</li><li>'haven'</li><li>'showtext'</li><li>'showtextdb'</li><li>'sysfonts'</li><li>'srvyr'</li><li>'lubridate'</li><li>'forcats'</li><li>'stringr'</li><li>'dplyr'</li><li>'purrr'</li><li>'readr'</li><li>'tidyr'</li><li>'tibble'</li><li>'ggplot2'</li><li>'tidyverse'</li><li>'stats'</li><li>'graphics'</li><li>'grDevices'</li><li>'utils'</li><li>'datasets'</li><li>'methods'</li><li>'base'</li></ol>\n",
       "</li>\n",
       "\t<li><style>\n",
       ".list-inline {list-style: none; margin:0; padding: 0}\n",
       ".list-inline>li {display: inline-block}\n",
       ".list-inline>li:not(:last-child)::after {content: \"\\00b7\"; padding: 0 .5ex}\n",
       "</style>\n",
       "<ol class=list-inline><li>'openxlsx'</li><li>'haven'</li><li>'showtext'</li><li>'showtextdb'</li><li>'sysfonts'</li><li>'srvyr'</li><li>'lubridate'</li><li>'forcats'</li><li>'stringr'</li><li>'dplyr'</li><li>'purrr'</li><li>'readr'</li><li>'tidyr'</li><li>'tibble'</li><li>'ggplot2'</li><li>'tidyverse'</li><li>'stats'</li><li>'graphics'</li><li>'grDevices'</li><li>'utils'</li><li>'datasets'</li><li>'methods'</li><li>'base'</li></ol>\n",
       "</li>\n",
       "\t<li><style>\n",
       ".list-inline {list-style: none; margin:0; padding: 0}\n",
       ".list-inline>li {display: inline-block}\n",
       ".list-inline>li:not(:last-child)::after {content: \"\\00b7\"; padding: 0 .5ex}\n",
       "</style>\n",
       "<ol class=list-inline><li>'openxlsx'</li><li>'haven'</li><li>'showtext'</li><li>'showtextdb'</li><li>'sysfonts'</li><li>'srvyr'</li><li>'lubridate'</li><li>'forcats'</li><li>'stringr'</li><li>'dplyr'</li><li>'purrr'</li><li>'readr'</li><li>'tidyr'</li><li>'tibble'</li><li>'ggplot2'</li><li>'tidyverse'</li><li>'stats'</li><li>'graphics'</li><li>'grDevices'</li><li>'utils'</li><li>'datasets'</li><li>'methods'</li><li>'base'</li></ol>\n",
       "</li>\n",
       "\t<li><style>\n",
       ".list-inline {list-style: none; margin:0; padding: 0}\n",
       ".list-inline>li {display: inline-block}\n",
       ".list-inline>li:not(:last-child)::after {content: \"\\00b7\"; padding: 0 .5ex}\n",
       "</style>\n",
       "<ol class=list-inline><li>'openxlsx'</li><li>'haven'</li><li>'showtext'</li><li>'showtextdb'</li><li>'sysfonts'</li><li>'srvyr'</li><li>'lubridate'</li><li>'forcats'</li><li>'stringr'</li><li>'dplyr'</li><li>'purrr'</li><li>'readr'</li><li>'tidyr'</li><li>'tibble'</li><li>'ggplot2'</li><li>'tidyverse'</li><li>'stats'</li><li>'graphics'</li><li>'grDevices'</li><li>'utils'</li><li>'datasets'</li><li>'methods'</li><li>'base'</li></ol>\n",
       "</li>\n",
       "\t<li><style>\n",
       ".list-inline {list-style: none; margin:0; padding: 0}\n",
       ".list-inline>li {display: inline-block}\n",
       ".list-inline>li:not(:last-child)::after {content: \"\\00b7\"; padding: 0 .5ex}\n",
       "</style>\n",
       "<ol class=list-inline><li>'openxlsx'</li><li>'haven'</li><li>'showtext'</li><li>'showtextdb'</li><li>'sysfonts'</li><li>'srvyr'</li><li>'lubridate'</li><li>'forcats'</li><li>'stringr'</li><li>'dplyr'</li><li>'purrr'</li><li>'readr'</li><li>'tidyr'</li><li>'tibble'</li><li>'ggplot2'</li><li>'tidyverse'</li><li>'stats'</li><li>'graphics'</li><li>'grDevices'</li><li>'utils'</li><li>'datasets'</li><li>'methods'</li><li>'base'</li></ol>\n",
       "</li>\n",
       "\t<li><style>\n",
       ".list-inline {list-style: none; margin:0; padding: 0}\n",
       ".list-inline>li {display: inline-block}\n",
       ".list-inline>li:not(:last-child)::after {content: \"\\00b7\"; padding: 0 .5ex}\n",
       "</style>\n",
       "<ol class=list-inline><li>'openxlsx'</li><li>'haven'</li><li>'showtext'</li><li>'showtextdb'</li><li>'sysfonts'</li><li>'srvyr'</li><li>'lubridate'</li><li>'forcats'</li><li>'stringr'</li><li>'dplyr'</li><li>'purrr'</li><li>'readr'</li><li>'tidyr'</li><li>'tibble'</li><li>'ggplot2'</li><li>'tidyverse'</li><li>'stats'</li><li>'graphics'</li><li>'grDevices'</li><li>'utils'</li><li>'datasets'</li><li>'methods'</li><li>'base'</li></ol>\n",
       "</li>\n",
       "\t<li><style>\n",
       ".list-inline {list-style: none; margin:0; padding: 0}\n",
       ".list-inline>li {display: inline-block}\n",
       ".list-inline>li:not(:last-child)::after {content: \"\\00b7\"; padding: 0 .5ex}\n",
       "</style>\n",
       "<ol class=list-inline><li>'openxlsx'</li><li>'haven'</li><li>'showtext'</li><li>'showtextdb'</li><li>'sysfonts'</li><li>'srvyr'</li><li>'lubridate'</li><li>'forcats'</li><li>'stringr'</li><li>'dplyr'</li><li>'purrr'</li><li>'readr'</li><li>'tidyr'</li><li>'tibble'</li><li>'ggplot2'</li><li>'tidyverse'</li><li>'stats'</li><li>'graphics'</li><li>'grDevices'</li><li>'utils'</li><li>'datasets'</li><li>'methods'</li><li>'base'</li></ol>\n",
       "</li>\n",
       "</ol>\n"
      ],
      "text/latex": [
       "\\begin{enumerate}\n",
       "\\item \\begin{enumerate*}\n",
       "\\item 'openxlsx'\n",
       "\\item 'haven'\n",
       "\\item 'showtext'\n",
       "\\item 'showtextdb'\n",
       "\\item 'sysfonts'\n",
       "\\item 'srvyr'\n",
       "\\item 'lubridate'\n",
       "\\item 'forcats'\n",
       "\\item 'stringr'\n",
       "\\item 'dplyr'\n",
       "\\item 'purrr'\n",
       "\\item 'readr'\n",
       "\\item 'tidyr'\n",
       "\\item 'tibble'\n",
       "\\item 'ggplot2'\n",
       "\\item 'tidyverse'\n",
       "\\item 'stats'\n",
       "\\item 'graphics'\n",
       "\\item 'grDevices'\n",
       "\\item 'utils'\n",
       "\\item 'datasets'\n",
       "\\item 'methods'\n",
       "\\item 'base'\n",
       "\\end{enumerate*}\n",
       "\n",
       "\\item \\begin{enumerate*}\n",
       "\\item 'openxlsx'\n",
       "\\item 'haven'\n",
       "\\item 'showtext'\n",
       "\\item 'showtextdb'\n",
       "\\item 'sysfonts'\n",
       "\\item 'srvyr'\n",
       "\\item 'lubridate'\n",
       "\\item 'forcats'\n",
       "\\item 'stringr'\n",
       "\\item 'dplyr'\n",
       "\\item 'purrr'\n",
       "\\item 'readr'\n",
       "\\item 'tidyr'\n",
       "\\item 'tibble'\n",
       "\\item 'ggplot2'\n",
       "\\item 'tidyverse'\n",
       "\\item 'stats'\n",
       "\\item 'graphics'\n",
       "\\item 'grDevices'\n",
       "\\item 'utils'\n",
       "\\item 'datasets'\n",
       "\\item 'methods'\n",
       "\\item 'base'\n",
       "\\end{enumerate*}\n",
       "\n",
       "\\item \\begin{enumerate*}\n",
       "\\item 'openxlsx'\n",
       "\\item 'haven'\n",
       "\\item 'showtext'\n",
       "\\item 'showtextdb'\n",
       "\\item 'sysfonts'\n",
       "\\item 'srvyr'\n",
       "\\item 'lubridate'\n",
       "\\item 'forcats'\n",
       "\\item 'stringr'\n",
       "\\item 'dplyr'\n",
       "\\item 'purrr'\n",
       "\\item 'readr'\n",
       "\\item 'tidyr'\n",
       "\\item 'tibble'\n",
       "\\item 'ggplot2'\n",
       "\\item 'tidyverse'\n",
       "\\item 'stats'\n",
       "\\item 'graphics'\n",
       "\\item 'grDevices'\n",
       "\\item 'utils'\n",
       "\\item 'datasets'\n",
       "\\item 'methods'\n",
       "\\item 'base'\n",
       "\\end{enumerate*}\n",
       "\n",
       "\\item \\begin{enumerate*}\n",
       "\\item 'openxlsx'\n",
       "\\item 'haven'\n",
       "\\item 'showtext'\n",
       "\\item 'showtextdb'\n",
       "\\item 'sysfonts'\n",
       "\\item 'srvyr'\n",
       "\\item 'lubridate'\n",
       "\\item 'forcats'\n",
       "\\item 'stringr'\n",
       "\\item 'dplyr'\n",
       "\\item 'purrr'\n",
       "\\item 'readr'\n",
       "\\item 'tidyr'\n",
       "\\item 'tibble'\n",
       "\\item 'ggplot2'\n",
       "\\item 'tidyverse'\n",
       "\\item 'stats'\n",
       "\\item 'graphics'\n",
       "\\item 'grDevices'\n",
       "\\item 'utils'\n",
       "\\item 'datasets'\n",
       "\\item 'methods'\n",
       "\\item 'base'\n",
       "\\end{enumerate*}\n",
       "\n",
       "\\item \\begin{enumerate*}\n",
       "\\item 'openxlsx'\n",
       "\\item 'haven'\n",
       "\\item 'showtext'\n",
       "\\item 'showtextdb'\n",
       "\\item 'sysfonts'\n",
       "\\item 'srvyr'\n",
       "\\item 'lubridate'\n",
       "\\item 'forcats'\n",
       "\\item 'stringr'\n",
       "\\item 'dplyr'\n",
       "\\item 'purrr'\n",
       "\\item 'readr'\n",
       "\\item 'tidyr'\n",
       "\\item 'tibble'\n",
       "\\item 'ggplot2'\n",
       "\\item 'tidyverse'\n",
       "\\item 'stats'\n",
       "\\item 'graphics'\n",
       "\\item 'grDevices'\n",
       "\\item 'utils'\n",
       "\\item 'datasets'\n",
       "\\item 'methods'\n",
       "\\item 'base'\n",
       "\\end{enumerate*}\n",
       "\n",
       "\\item \\begin{enumerate*}\n",
       "\\item 'openxlsx'\n",
       "\\item 'haven'\n",
       "\\item 'showtext'\n",
       "\\item 'showtextdb'\n",
       "\\item 'sysfonts'\n",
       "\\item 'srvyr'\n",
       "\\item 'lubridate'\n",
       "\\item 'forcats'\n",
       "\\item 'stringr'\n",
       "\\item 'dplyr'\n",
       "\\item 'purrr'\n",
       "\\item 'readr'\n",
       "\\item 'tidyr'\n",
       "\\item 'tibble'\n",
       "\\item 'ggplot2'\n",
       "\\item 'tidyverse'\n",
       "\\item 'stats'\n",
       "\\item 'graphics'\n",
       "\\item 'grDevices'\n",
       "\\item 'utils'\n",
       "\\item 'datasets'\n",
       "\\item 'methods'\n",
       "\\item 'base'\n",
       "\\end{enumerate*}\n",
       "\n",
       "\\item \\begin{enumerate*}\n",
       "\\item 'openxlsx'\n",
       "\\item 'haven'\n",
       "\\item 'showtext'\n",
       "\\item 'showtextdb'\n",
       "\\item 'sysfonts'\n",
       "\\item 'srvyr'\n",
       "\\item 'lubridate'\n",
       "\\item 'forcats'\n",
       "\\item 'stringr'\n",
       "\\item 'dplyr'\n",
       "\\item 'purrr'\n",
       "\\item 'readr'\n",
       "\\item 'tidyr'\n",
       "\\item 'tibble'\n",
       "\\item 'ggplot2'\n",
       "\\item 'tidyverse'\n",
       "\\item 'stats'\n",
       "\\item 'graphics'\n",
       "\\item 'grDevices'\n",
       "\\item 'utils'\n",
       "\\item 'datasets'\n",
       "\\item 'methods'\n",
       "\\item 'base'\n",
       "\\end{enumerate*}\n",
       "\n",
       "\\end{enumerate}\n"
      ],
      "text/markdown": [
       "1. 1. 'openxlsx'\n",
       "2. 'haven'\n",
       "3. 'showtext'\n",
       "4. 'showtextdb'\n",
       "5. 'sysfonts'\n",
       "6. 'srvyr'\n",
       "7. 'lubridate'\n",
       "8. 'forcats'\n",
       "9. 'stringr'\n",
       "10. 'dplyr'\n",
       "11. 'purrr'\n",
       "12. 'readr'\n",
       "13. 'tidyr'\n",
       "14. 'tibble'\n",
       "15. 'ggplot2'\n",
       "16. 'tidyverse'\n",
       "17. 'stats'\n",
       "18. 'graphics'\n",
       "19. 'grDevices'\n",
       "20. 'utils'\n",
       "21. 'datasets'\n",
       "22. 'methods'\n",
       "23. 'base'\n",
       "\n",
       "\n",
       "\n",
       "2. 1. 'openxlsx'\n",
       "2. 'haven'\n",
       "3. 'showtext'\n",
       "4. 'showtextdb'\n",
       "5. 'sysfonts'\n",
       "6. 'srvyr'\n",
       "7. 'lubridate'\n",
       "8. 'forcats'\n",
       "9. 'stringr'\n",
       "10. 'dplyr'\n",
       "11. 'purrr'\n",
       "12. 'readr'\n",
       "13. 'tidyr'\n",
       "14. 'tibble'\n",
       "15. 'ggplot2'\n",
       "16. 'tidyverse'\n",
       "17. 'stats'\n",
       "18. 'graphics'\n",
       "19. 'grDevices'\n",
       "20. 'utils'\n",
       "21. 'datasets'\n",
       "22. 'methods'\n",
       "23. 'base'\n",
       "\n",
       "\n",
       "\n",
       "3. 1. 'openxlsx'\n",
       "2. 'haven'\n",
       "3. 'showtext'\n",
       "4. 'showtextdb'\n",
       "5. 'sysfonts'\n",
       "6. 'srvyr'\n",
       "7. 'lubridate'\n",
       "8. 'forcats'\n",
       "9. 'stringr'\n",
       "10. 'dplyr'\n",
       "11. 'purrr'\n",
       "12. 'readr'\n",
       "13. 'tidyr'\n",
       "14. 'tibble'\n",
       "15. 'ggplot2'\n",
       "16. 'tidyverse'\n",
       "17. 'stats'\n",
       "18. 'graphics'\n",
       "19. 'grDevices'\n",
       "20. 'utils'\n",
       "21. 'datasets'\n",
       "22. 'methods'\n",
       "23. 'base'\n",
       "\n",
       "\n",
       "\n",
       "4. 1. 'openxlsx'\n",
       "2. 'haven'\n",
       "3. 'showtext'\n",
       "4. 'showtextdb'\n",
       "5. 'sysfonts'\n",
       "6. 'srvyr'\n",
       "7. 'lubridate'\n",
       "8. 'forcats'\n",
       "9. 'stringr'\n",
       "10. 'dplyr'\n",
       "11. 'purrr'\n",
       "12. 'readr'\n",
       "13. 'tidyr'\n",
       "14. 'tibble'\n",
       "15. 'ggplot2'\n",
       "16. 'tidyverse'\n",
       "17. 'stats'\n",
       "18. 'graphics'\n",
       "19. 'grDevices'\n",
       "20. 'utils'\n",
       "21. 'datasets'\n",
       "22. 'methods'\n",
       "23. 'base'\n",
       "\n",
       "\n",
       "\n",
       "5. 1. 'openxlsx'\n",
       "2. 'haven'\n",
       "3. 'showtext'\n",
       "4. 'showtextdb'\n",
       "5. 'sysfonts'\n",
       "6. 'srvyr'\n",
       "7. 'lubridate'\n",
       "8. 'forcats'\n",
       "9. 'stringr'\n",
       "10. 'dplyr'\n",
       "11. 'purrr'\n",
       "12. 'readr'\n",
       "13. 'tidyr'\n",
       "14. 'tibble'\n",
       "15. 'ggplot2'\n",
       "16. 'tidyverse'\n",
       "17. 'stats'\n",
       "18. 'graphics'\n",
       "19. 'grDevices'\n",
       "20. 'utils'\n",
       "21. 'datasets'\n",
       "22. 'methods'\n",
       "23. 'base'\n",
       "\n",
       "\n",
       "\n",
       "6. 1. 'openxlsx'\n",
       "2. 'haven'\n",
       "3. 'showtext'\n",
       "4. 'showtextdb'\n",
       "5. 'sysfonts'\n",
       "6. 'srvyr'\n",
       "7. 'lubridate'\n",
       "8. 'forcats'\n",
       "9. 'stringr'\n",
       "10. 'dplyr'\n",
       "11. 'purrr'\n",
       "12. 'readr'\n",
       "13. 'tidyr'\n",
       "14. 'tibble'\n",
       "15. 'ggplot2'\n",
       "16. 'tidyverse'\n",
       "17. 'stats'\n",
       "18. 'graphics'\n",
       "19. 'grDevices'\n",
       "20. 'utils'\n",
       "21. 'datasets'\n",
       "22. 'methods'\n",
       "23. 'base'\n",
       "\n",
       "\n",
       "\n",
       "7. 1. 'openxlsx'\n",
       "2. 'haven'\n",
       "3. 'showtext'\n",
       "4. 'showtextdb'\n",
       "5. 'sysfonts'\n",
       "6. 'srvyr'\n",
       "7. 'lubridate'\n",
       "8. 'forcats'\n",
       "9. 'stringr'\n",
       "10. 'dplyr'\n",
       "11. 'purrr'\n",
       "12. 'readr'\n",
       "13. 'tidyr'\n",
       "14. 'tibble'\n",
       "15. 'ggplot2'\n",
       "16. 'tidyverse'\n",
       "17. 'stats'\n",
       "18. 'graphics'\n",
       "19. 'grDevices'\n",
       "20. 'utils'\n",
       "21. 'datasets'\n",
       "22. 'methods'\n",
       "23. 'base'\n",
       "\n",
       "\n",
       "\n",
       "\n",
       "\n"
      ],
      "text/plain": [
       "[[1]]\n",
       " [1] \"openxlsx\"   \"haven\"      \"showtext\"   \"showtextdb\" \"sysfonts\"  \n",
       " [6] \"srvyr\"      \"lubridate\"  \"forcats\"    \"stringr\"    \"dplyr\"     \n",
       "[11] \"purrr\"      \"readr\"      \"tidyr\"      \"tibble\"     \"ggplot2\"   \n",
       "[16] \"tidyverse\"  \"stats\"      \"graphics\"   \"grDevices\"  \"utils\"     \n",
       "[21] \"datasets\"   \"methods\"    \"base\"      \n",
       "\n",
       "[[2]]\n",
       " [1] \"openxlsx\"   \"haven\"      \"showtext\"   \"showtextdb\" \"sysfonts\"  \n",
       " [6] \"srvyr\"      \"lubridate\"  \"forcats\"    \"stringr\"    \"dplyr\"     \n",
       "[11] \"purrr\"      \"readr\"      \"tidyr\"      \"tibble\"     \"ggplot2\"   \n",
       "[16] \"tidyverse\"  \"stats\"      \"graphics\"   \"grDevices\"  \"utils\"     \n",
       "[21] \"datasets\"   \"methods\"    \"base\"      \n",
       "\n",
       "[[3]]\n",
       " [1] \"openxlsx\"   \"haven\"      \"showtext\"   \"showtextdb\" \"sysfonts\"  \n",
       " [6] \"srvyr\"      \"lubridate\"  \"forcats\"    \"stringr\"    \"dplyr\"     \n",
       "[11] \"purrr\"      \"readr\"      \"tidyr\"      \"tibble\"     \"ggplot2\"   \n",
       "[16] \"tidyverse\"  \"stats\"      \"graphics\"   \"grDevices\"  \"utils\"     \n",
       "[21] \"datasets\"   \"methods\"    \"base\"      \n",
       "\n",
       "[[4]]\n",
       " [1] \"openxlsx\"   \"haven\"      \"showtext\"   \"showtextdb\" \"sysfonts\"  \n",
       " [6] \"srvyr\"      \"lubridate\"  \"forcats\"    \"stringr\"    \"dplyr\"     \n",
       "[11] \"purrr\"      \"readr\"      \"tidyr\"      \"tibble\"     \"ggplot2\"   \n",
       "[16] \"tidyverse\"  \"stats\"      \"graphics\"   \"grDevices\"  \"utils\"     \n",
       "[21] \"datasets\"   \"methods\"    \"base\"      \n",
       "\n",
       "[[5]]\n",
       " [1] \"openxlsx\"   \"haven\"      \"showtext\"   \"showtextdb\" \"sysfonts\"  \n",
       " [6] \"srvyr\"      \"lubridate\"  \"forcats\"    \"stringr\"    \"dplyr\"     \n",
       "[11] \"purrr\"      \"readr\"      \"tidyr\"      \"tibble\"     \"ggplot2\"   \n",
       "[16] \"tidyverse\"  \"stats\"      \"graphics\"   \"grDevices\"  \"utils\"     \n",
       "[21] \"datasets\"   \"methods\"    \"base\"      \n",
       "\n",
       "[[6]]\n",
       " [1] \"openxlsx\"   \"haven\"      \"showtext\"   \"showtextdb\" \"sysfonts\"  \n",
       " [6] \"srvyr\"      \"lubridate\"  \"forcats\"    \"stringr\"    \"dplyr\"     \n",
       "[11] \"purrr\"      \"readr\"      \"tidyr\"      \"tibble\"     \"ggplot2\"   \n",
       "[16] \"tidyverse\"  \"stats\"      \"graphics\"   \"grDevices\"  \"utils\"     \n",
       "[21] \"datasets\"   \"methods\"    \"base\"      \n",
       "\n",
       "[[7]]\n",
       " [1] \"openxlsx\"   \"haven\"      \"showtext\"   \"showtextdb\" \"sysfonts\"  \n",
       " [6] \"srvyr\"      \"lubridate\"  \"forcats\"    \"stringr\"    \"dplyr\"     \n",
       "[11] \"purrr\"      \"readr\"      \"tidyr\"      \"tibble\"     \"ggplot2\"   \n",
       "[16] \"tidyverse\"  \"stats\"      \"graphics\"   \"grDevices\"  \"utils\"     \n",
       "[21] \"datasets\"   \"methods\"    \"base\"      \n"
      ]
     },
     "metadata": {},
     "output_type": "display_data"
    }
   ],
   "source": [
    "#rm(list=ls()) #limpa el entorno de trabajo\n",
    "\n",
    "#LIBRERIAS\n",
    "libraries <- c(\"tidyverse\",\n",
    "               \"readr\", \n",
    "               \"srvyr\",\n",
    "               \"showtext\", \n",
    "               \"haven\", \n",
    "               \"openxlsx\", \n",
    "               \"tidyr\")\n",
    "\n",
    "installed_packages <- rownames(installed.packages())\n",
    "libraries_to_install <- setdiff(libraries, installed_packages)\n",
    "\n",
    "if (length(libraries_to_install) > 0) {\n",
    "  install.packages(libraries_to_install)}\n",
    "\n",
    "lapply(libraries, library, character.only = TRUE)"
   ]
  },
  {
   "cell_type": "code",
   "execution_count": 148,
   "id": "85616c83",
   "metadata": {
    "vscode": {
     "languageId": "r"
    }
   },
   "outputs": [],
   "source": [
    "#CONSIDERACIONES\n",
    "#Tiempo de espera para la descarga\n",
    "options(timeout = 8000)\n",
    "#Fuente Roboto\n",
    "font_add_google(name = \"Roboto\", family = \"Roboto\")\n",
    "showtext_auto()"
   ]
  },
  {
   "cell_type": "markdown",
   "id": "c53d6796",
   "metadata": {},
   "source": [
    "**Indicadores de educación**"
   ]
  },
  {
   "cell_type": "markdown",
   "id": "1d97582b",
   "metadata": {},
   "source": [
    "*Tasa de cobertura bruta de educación media superior e inicial*"
   ]
  },
  {
   "cell_type": "code",
   "execution_count": 149,
   "id": "1e6206d8",
   "metadata": {
    "vscode": {
     "languageId": "r"
    }
   },
   "outputs": [
    {
     "name": "stderr",
     "output_type": "stream",
     "text": [
      "\u001b[1mRows: \u001b[22m\u001b[34m737660\u001b[39m \u001b[1mColumns: \u001b[22m\u001b[34m7\u001b[39m\n",
      "\u001b[36m──\u001b[39m \u001b[1mColumn specification\u001b[22m \u001b[36m────────────────────────────────────────────────────────\u001b[39m\n",
      "\u001b[1mDelimiter:\u001b[22m \",\"\n",
      "\u001b[31mchr\u001b[39m (2): ENTIDAD, SEXO\n",
      "\u001b[32mdbl\u001b[39m (5): RENGLON, AÑO, CVE_GEO, EDAD, POBLACION\n",
      "\n",
      "\u001b[36mℹ\u001b[39m Use `spec()` to retrieve the full column specification for this data.\n",
      "\u001b[36mℹ\u001b[39m Specify the column types or set `show_col_types = FALSE` to quiet this message.\n",
      "\u001b[1m\u001b[22m`summarise()` has grouped output by 'ano'. You can override using the `.groups`\n",
      "argument.\n",
      "\u001b[1m\u001b[22m`summarise()` has grouped output by 'ano'. You can override using the `.groups`\n",
      "argument.\n"
     ]
    },
    {
     "data": {
      "text/html": [
       "<style>\n",
       ".list-inline {list-style: none; margin:0; padding: 0}\n",
       ".list-inline>li {display: inline-block}\n",
       ".list-inline>li:not(:last-child)::after {content: \"\\00b7\"; padding: 0 .5ex}\n",
       "</style>\n",
       "<ol class=list-inline><li>'INICIAL CIUDAD DE MÉXICO'</li><li>'MEDIA SUPERIOR'</li></ol>\n"
      ],
      "text/latex": [
       "\\begin{enumerate*}\n",
       "\\item 'INICIAL CIUDAD DE MÉXICO'\n",
       "\\item 'MEDIA SUPERIOR'\n",
       "\\end{enumerate*}\n"
      ],
      "text/markdown": [
       "1. 'INICIAL CIUDAD DE MÉXICO'\n",
       "2. 'MEDIA SUPERIOR'\n",
       "\n",
       "\n"
      ],
      "text/plain": [
       "[1] \"INICIAL CIUDAD DE MÉXICO\" \"MEDIA SUPERIOR\"          "
      ]
     },
     "metadata": {},
     "output_type": "display_data"
    }
   ],
   "source": [
    "#Carga datos de CONAPO\n",
    "conapo<-read_csv(\"https://conapo.segob.gob.mx/work/models/CONAPO/Datos_Abiertos/pry23/00_Pob_Mitad_1950_2070.csv\")%>%\n",
    "  janitor::clean_names()|>\n",
    "  filter(cve_geo==9)|>\n",
    "group_by(ano,edad)|>\n",
    "    summarise(poblacion= sum(poblacion))|>\n",
    "mutate(tipo=case_when(edad>=15 & edad<=17 ~ \"MEDIA SUPERIOR\",\n",
    "      edad>=0 & edad<=2 ~ \"INICIAL CIUDAD DE MÉXICO\"))|> #\"INICIAL CIUDAD DE MÉXICO\"\n",
    "filter(!is.na(tipo))|>\n",
    "group_by(ano,tipo)|>\n",
    "summarise(poblacion=sum(poblacion))\n",
    "\n",
    "unique(conapo$tipo) # Verifica los tipos de educación"
   ]
  },
  {
   "cell_type": "code",
   "execution_count": 150,
   "id": "1ccdcb53",
   "metadata": {
    "vscode": {
     "languageId": "r"
    }
   },
   "outputs": [
    {
     "data": {
      "text/html": [
       "<style>\n",
       ".list-inline {list-style: none; margin:0; padding: 0}\n",
       ".list-inline>li {display: inline-block}\n",
       ".list-inline>li:not(:last-child)::after {content: \"\\00b7\"; padding: 0 .5ex}\n",
       "</style>\n",
       "<ol class=list-inline><li>'INICIAL CIUDAD DE MÉXICO'</li><li>'MEDIA SUPERIOR'</li></ol>\n"
      ],
      "text/latex": [
       "\\begin{enumerate*}\n",
       "\\item 'INICIAL CIUDAD DE MÉXICO'\n",
       "\\item 'MEDIA SUPERIOR'\n",
       "\\end{enumerate*}\n"
      ],
      "text/markdown": [
       "1. 'INICIAL CIUDAD DE MÉXICO'\n",
       "2. 'MEDIA SUPERIOR'\n",
       "\n",
       "\n"
      ],
      "text/plain": [
       "[1] \"INICIAL CIUDAD DE MÉXICO\" \"MEDIA SUPERIOR\"          "
      ]
     },
     "metadata": {},
     "output_type": "display_data"
    }
   ],
   "source": [
    "##Leer datos de SEP\n",
    "sep<-openxlsx::read.xlsx(\"https://www.planeacion.sep.gob.mx/Doc/estadistica_e_indicadores/serie_historica_entidades_sep.xlsm\",sheet = 1)|>\n",
    "janitor::clean_names()%>%\n",
    "  { \n",
    "    colnames(.) <- as.character(.[2, ])\n",
    "    .[-2, ]\n",
    "  } |>\n",
    "  as.data.frame()|>\n",
    "janitor::clean_names()|>\n",
    "  rename(entidad = 1,\n",
    "         tipo= 3\n",
    "         )|>\n",
    " filter(entidad==\"9\",\n",
    "    tipo %in% c(\"MEDIA SUPERIOR\" , \"INICIAL CIUDAD DE MÉXICO\"))|> #\"INICIAL CIUDAD DE MÉXICO\"\n",
    "#Eliminar columnas 1,2 y 4\n",
    "select(-c(1,2,4))|>\n",
    "#Llevar los datos a long\n",
    "pivot_longer(cols = -c(tipo), names_to = \"ciclo\", values_to = \"matricula\")|>\n",
    "#Eliminar x de ciclo\n",
    "mutate(ciclo=str_replace(ciclo,\"x\",\"\"),\n",
    "#Seleccionar año inicial del ciclo\n",
    "ano=as.numeric(str_sub(ciclo,1,4)),\n",
    "matricula=as.numeric(matricula))|>\n",
    "#Pegar con datos de CONAPO utilizando la variable tipo y ano\n",
    "left_join(conapo,by=c(\"tipo\",\"ano\"))|>\n",
    "#Calcular tasa de cobertura\n",
    "mutate(tbcob=matricula/poblacion*100)\n",
    "\n",
    "unique(sep$tipo)"
   ]
  },
  {
   "cell_type": "markdown",
   "id": "801cac75",
   "metadata": {},
   "source": [
    "*Tasa de cobertura bruta de educación media superior*"
   ]
  },
  {
   "cell_type": "code",
   "execution_count": 151,
   "id": "7ef57de1",
   "metadata": {
    "vscode": {
     "languageId": "r"
    }
   },
   "outputs": [
    {
     "data": {
      "text/html": [
       "<table class=\"dataframe\">\n",
       "<caption>A tibble: 4 × 5</caption>\n",
       "<thead>\n",
       "\t<tr><th scope=col>matricula</th><th scope=col>ano</th><th scope=col>poblacion</th><th scope=col>tbcob</th><th scope=col>tipo</th></tr>\n",
       "\t<tr><th scope=col>&lt;dbl&gt;</th><th scope=col>&lt;dbl&gt;</th><th scope=col>&lt;dbl&gt;</th><th scope=col>&lt;dbl&gt;</th><th scope=col>&lt;chr&gt;</th></tr>\n",
       "</thead>\n",
       "<tbody>\n",
       "\t<tr><td>455030</td><td>2020</td><td>403534</td><td>112.7613</td><td>Observado</td></tr>\n",
       "\t<tr><td>460143</td><td>2021</td><td>395608</td><td>116.3129</td><td>Observado</td></tr>\n",
       "\t<tr><td>452717</td><td>2022</td><td>389088</td><td>116.3534</td><td>Observado</td></tr>\n",
       "\t<tr><td>449729</td><td>2023</td><td>383358</td><td>117.3131</td><td>Observado</td></tr>\n",
       "</tbody>\n",
       "</table>\n"
      ],
      "text/latex": [
       "A tibble: 4 × 5\n",
       "\\begin{tabular}{lllll}\n",
       " matricula & ano & poblacion & tbcob & tipo\\\\\n",
       " <dbl> & <dbl> & <dbl> & <dbl> & <chr>\\\\\n",
       "\\hline\n",
       "\t 455030 & 2020 & 403534 & 112.7613 & Observado\\\\\n",
       "\t 460143 & 2021 & 395608 & 116.3129 & Observado\\\\\n",
       "\t 452717 & 2022 & 389088 & 116.3534 & Observado\\\\\n",
       "\t 449729 & 2023 & 383358 & 117.3131 & Observado\\\\\n",
       "\\end{tabular}\n"
      ],
      "text/markdown": [
       "\n",
       "A tibble: 4 × 5\n",
       "\n",
       "| matricula &lt;dbl&gt; | ano &lt;dbl&gt; | poblacion &lt;dbl&gt; | tbcob &lt;dbl&gt; | tipo &lt;chr&gt; |\n",
       "|---|---|---|---|---|\n",
       "| 455030 | 2020 | 403534 | 112.7613 | Observado |\n",
       "| 460143 | 2021 | 395608 | 116.3129 | Observado |\n",
       "| 452717 | 2022 | 389088 | 116.3534 | Observado |\n",
       "| 449729 | 2023 | 383358 | 117.3131 | Observado |\n",
       "\n"
      ],
      "text/plain": [
       "  matricula ano  poblacion tbcob    tipo     \n",
       "1 455030    2020 403534    112.7613 Observado\n",
       "2 460143    2021 395608    116.3129 Observado\n",
       "3 452717    2022 389088    116.3534 Observado\n",
       "4 449729    2023 383358    117.3131 Observado"
      ]
     },
     "metadata": {},
     "output_type": "display_data"
    }
   ],
   "source": [
    "#tasa de cobertura media superior\n",
    "sep_med_sup<-sep|>\n",
    "  filter(tipo==\"MEDIA SUPERIOR\")|>\n",
    "  filter(ano>2019 &  ano < 2024)|>\n",
    "  select(-tipo, -ciclo)|>\n",
    "mutate(tipo = \"Observado\")\n",
    "\n",
    "sep_med_sup"
   ]
  },
  {
   "cell_type": "code",
   "execution_count": 152,
   "id": "a0fd782a",
   "metadata": {
    "vscode": {
     "languageId": "r"
    }
   },
   "outputs": [
    {
     "data": {
      "text/html": [
       "0.00204171094983474"
      ],
      "text/latex": [
       "0.00204171094983474"
      ],
      "text/markdown": [
       "0.00204171094983474"
      ],
      "text/plain": [
       "[1] 0.002041711"
      ]
     },
     "metadata": {},
     "output_type": "display_data"
    },
    {
     "data": {
      "text/html": [
       "0.00333897248822934"
      ],
      "text/latex": [
       "0.00333897248822934"
      ],
      "text/markdown": [
       "0.00333897248822934"
      ],
      "text/plain": [
       "[1] 0.003338972"
      ]
     },
     "metadata": {},
     "output_type": "display_data"
    },
    {
     "data": {
      "text/html": [
       "0.0032576136988256"
      ],
      "text/latex": [
       "0.0032576136988256"
      ],
      "text/markdown": [
       "0.0032576136988256"
      ],
      "text/plain": [
       "[1] 0.003257614"
      ]
     },
     "metadata": {},
     "output_type": "display_data"
    }
   ],
   "source": [
    "\n",
    "#Tasas de cobertura para los años 2030, 2035 y 2045 (estas tasas son las metas establecidas por la SECTEI)\n",
    "#Metas establecidas por la SECTEI\n",
    "cobertura <- data.frame(ano = c(2030, 2035, 2045), \n",
    "                        tbcob = c(119, 121, 125))\n",
    "tcob_bse <- sep_med_sup|>\n",
    "  filter(ano == 2023)\n",
    "  t2030<-cobertura|>\n",
    "filter(ano == 2030)\n",
    "t2035<-cobertura|>\n",
    "filter(ano == 2035)\n",
    "t2045<-cobertura|>\n",
    "filter(ano == 2045)\n",
    "\n",
    "tc1= (t2030$tbcob / tcob_bse$tbcob)^(1 / (2030 - 2023)) - 1\n",
    "tc2= (t2035$tbcob / t2030$tbcob)^(1 / (2035 - 2030)) - 1\n",
    "tc3= (t2045$tbcob / t2035$tbcob)^(1 / (2045 - 2035)) - 1\n",
    "\n",
    "tc1\n",
    "tc2\n",
    "tc3"
   ]
  },
  {
   "cell_type": "code",
   "execution_count": 153,
   "id": "8f9c572b",
   "metadata": {
    "vscode": {
     "languageId": "r"
    }
   },
   "outputs": [],
   "source": [
    "#Población de media superior conapo, años 2024 a 2045\n",
    "proyecciones_med_sup <- data.frame(\n",
    "  ano = 2024:2045) |>\n",
    "  mutate(tbcob = ifelse(ano < 2030,tcob_bse$tbcob * (1 + tc1)^(ano - tcob_bse$ano),\n",
    "                         ifelse(ano == 2030, t2030$tbcob,\n",
    "                                ifelse(ano < 2035, t2030$tbcob * (1 + tc2)^(ano - t2030$ano),\n",
    "                                        ifelse(ano == 2035, t2035$tbcob,\n",
    "                                                ifelse(ano < 2045, t2035$tbcob * (1 + tc3)^(ano - t2035$ano),\n",
    "                                                       ifelse(ano == 2045, t2045$tbcob, 0)))))))|>\n",
    "                                                       mutate(tipo = \"Deseable\")\n",
    "\n"
   ]
  },
  {
   "cell_type": "code",
   "execution_count": 154,
   "id": "bac5f2f2",
   "metadata": {
    "vscode": {
     "languageId": "r"
    }
   },
   "outputs": [
    {
     "data": {
      "text/html": [
       "<table class=\"dataframe\">\n",
       "<caption>A tibble: 26 × 3</caption>\n",
       "<thead>\n",
       "\t<tr><th scope=col>ano</th><th scope=col>tipo</th><th scope=col>tbcob</th></tr>\n",
       "\t<tr><th scope=col>&lt;dbl&gt;</th><th scope=col>&lt;chr&gt;</th><th scope=col>&lt;dbl&gt;</th></tr>\n",
       "</thead>\n",
       "<tbody>\n",
       "\t<tr><td>2020</td><td>Observado</td><td>112.7613</td></tr>\n",
       "\t<tr><td>2021</td><td>Observado</td><td>116.3129</td></tr>\n",
       "\t<tr><td>2022</td><td>Observado</td><td>116.3534</td></tr>\n",
       "\t<tr><td>2023</td><td>Observado</td><td>117.3131</td></tr>\n",
       "\t<tr><td>2024</td><td>Deseable </td><td>117.5526</td></tr>\n",
       "\t<tr><td>2025</td><td>Deseable </td><td>117.7926</td></tr>\n",
       "\t<tr><td>2026</td><td>Deseable </td><td>118.0331</td></tr>\n",
       "\t<tr><td>2027</td><td>Deseable </td><td>118.2741</td></tr>\n",
       "\t<tr><td>2028</td><td>Deseable </td><td>118.5156</td></tr>\n",
       "\t<tr><td>2029</td><td>Deseable </td><td>118.7575</td></tr>\n",
       "\t<tr><td>2030</td><td>Deseable </td><td>119.0000</td></tr>\n",
       "\t<tr><td>2031</td><td>Deseable </td><td>119.3973</td></tr>\n",
       "\t<tr><td>2032</td><td>Deseable </td><td>119.7960</td></tr>\n",
       "\t<tr><td>2033</td><td>Deseable </td><td>120.1960</td></tr>\n",
       "\t<tr><td>2034</td><td>Deseable </td><td>120.5973</td></tr>\n",
       "\t<tr><td>2035</td><td>Deseable </td><td>121.0000</td></tr>\n",
       "\t<tr><td>2036</td><td>Deseable </td><td>121.3942</td></tr>\n",
       "\t<tr><td>2037</td><td>Deseable </td><td>121.7896</td></tr>\n",
       "\t<tr><td>2038</td><td>Deseable </td><td>122.1864</td></tr>\n",
       "\t<tr><td>2039</td><td>Deseable </td><td>122.5844</td></tr>\n",
       "\t<tr><td>2040</td><td>Deseable </td><td>122.9837</td></tr>\n",
       "\t<tr><td>2041</td><td>Deseable </td><td>123.3844</td></tr>\n",
       "\t<tr><td>2042</td><td>Deseable </td><td>123.7863</td></tr>\n",
       "\t<tr><td>2043</td><td>Deseable </td><td>124.1896</td></tr>\n",
       "\t<tr><td>2044</td><td>Deseable </td><td>124.5941</td></tr>\n",
       "\t<tr><td>2045</td><td>Deseable </td><td>125.0000</td></tr>\n",
       "</tbody>\n",
       "</table>\n"
      ],
      "text/latex": [
       "A tibble: 26 × 3\n",
       "\\begin{tabular}{lll}\n",
       " ano & tipo & tbcob\\\\\n",
       " <dbl> & <chr> & <dbl>\\\\\n",
       "\\hline\n",
       "\t 2020 & Observado & 112.7613\\\\\n",
       "\t 2021 & Observado & 116.3129\\\\\n",
       "\t 2022 & Observado & 116.3534\\\\\n",
       "\t 2023 & Observado & 117.3131\\\\\n",
       "\t 2024 & Deseable  & 117.5526\\\\\n",
       "\t 2025 & Deseable  & 117.7926\\\\\n",
       "\t 2026 & Deseable  & 118.0331\\\\\n",
       "\t 2027 & Deseable  & 118.2741\\\\\n",
       "\t 2028 & Deseable  & 118.5156\\\\\n",
       "\t 2029 & Deseable  & 118.7575\\\\\n",
       "\t 2030 & Deseable  & 119.0000\\\\\n",
       "\t 2031 & Deseable  & 119.3973\\\\\n",
       "\t 2032 & Deseable  & 119.7960\\\\\n",
       "\t 2033 & Deseable  & 120.1960\\\\\n",
       "\t 2034 & Deseable  & 120.5973\\\\\n",
       "\t 2035 & Deseable  & 121.0000\\\\\n",
       "\t 2036 & Deseable  & 121.3942\\\\\n",
       "\t 2037 & Deseable  & 121.7896\\\\\n",
       "\t 2038 & Deseable  & 122.1864\\\\\n",
       "\t 2039 & Deseable  & 122.5844\\\\\n",
       "\t 2040 & Deseable  & 122.9837\\\\\n",
       "\t 2041 & Deseable  & 123.3844\\\\\n",
       "\t 2042 & Deseable  & 123.7863\\\\\n",
       "\t 2043 & Deseable  & 124.1896\\\\\n",
       "\t 2044 & Deseable  & 124.5941\\\\\n",
       "\t 2045 & Deseable  & 125.0000\\\\\n",
       "\\end{tabular}\n"
      ],
      "text/markdown": [
       "\n",
       "A tibble: 26 × 3\n",
       "\n",
       "| ano &lt;dbl&gt; | tipo &lt;chr&gt; | tbcob &lt;dbl&gt; |\n",
       "|---|---|---|\n",
       "| 2020 | Observado | 112.7613 |\n",
       "| 2021 | Observado | 116.3129 |\n",
       "| 2022 | Observado | 116.3534 |\n",
       "| 2023 | Observado | 117.3131 |\n",
       "| 2024 | Deseable  | 117.5526 |\n",
       "| 2025 | Deseable  | 117.7926 |\n",
       "| 2026 | Deseable  | 118.0331 |\n",
       "| 2027 | Deseable  | 118.2741 |\n",
       "| 2028 | Deseable  | 118.5156 |\n",
       "| 2029 | Deseable  | 118.7575 |\n",
       "| 2030 | Deseable  | 119.0000 |\n",
       "| 2031 | Deseable  | 119.3973 |\n",
       "| 2032 | Deseable  | 119.7960 |\n",
       "| 2033 | Deseable  | 120.1960 |\n",
       "| 2034 | Deseable  | 120.5973 |\n",
       "| 2035 | Deseable  | 121.0000 |\n",
       "| 2036 | Deseable  | 121.3942 |\n",
       "| 2037 | Deseable  | 121.7896 |\n",
       "| 2038 | Deseable  | 122.1864 |\n",
       "| 2039 | Deseable  | 122.5844 |\n",
       "| 2040 | Deseable  | 122.9837 |\n",
       "| 2041 | Deseable  | 123.3844 |\n",
       "| 2042 | Deseable  | 123.7863 |\n",
       "| 2043 | Deseable  | 124.1896 |\n",
       "| 2044 | Deseable  | 124.5941 |\n",
       "| 2045 | Deseable  | 125.0000 |\n",
       "\n"
      ],
      "text/plain": [
       "   ano  tipo      tbcob   \n",
       "1  2020 Observado 112.7613\n",
       "2  2021 Observado 116.3129\n",
       "3  2022 Observado 116.3534\n",
       "4  2023 Observado 117.3131\n",
       "5  2024 Deseable  117.5526\n",
       "6  2025 Deseable  117.7926\n",
       "7  2026 Deseable  118.0331\n",
       "8  2027 Deseable  118.2741\n",
       "9  2028 Deseable  118.5156\n",
       "10 2029 Deseable  118.7575\n",
       "11 2030 Deseable  119.0000\n",
       "12 2031 Deseable  119.3973\n",
       "13 2032 Deseable  119.7960\n",
       "14 2033 Deseable  120.1960\n",
       "15 2034 Deseable  120.5973\n",
       "16 2035 Deseable  121.0000\n",
       "17 2036 Deseable  121.3942\n",
       "18 2037 Deseable  121.7896\n",
       "19 2038 Deseable  122.1864\n",
       "20 2039 Deseable  122.5844\n",
       "21 2040 Deseable  122.9837\n",
       "22 2041 Deseable  123.3844\n",
       "23 2042 Deseable  123.7863\n",
       "24 2043 Deseable  124.1896\n",
       "25 2044 Deseable  124.5941\n",
       "26 2045 Deseable  125.0000"
      ]
     },
     "metadata": {},
     "output_type": "display_data"
    }
   ],
   "source": [
    "sep_med_sup_proy <- sep_med_sup |>\n",
    "  select(ano, tipo, tbcob)|>\n",
    "  bind_rows(proyecciones_med_sup)\n",
    "\n",
    "  sep_med_sup_proy"
   ]
  },
  {
   "cell_type": "markdown",
   "id": "768be8f2",
   "metadata": {},
   "source": [
    "*Tasa de cobertura bruta de educación inicial*"
   ]
  },
  {
   "cell_type": "code",
   "execution_count": 155,
   "id": "41723c45",
   "metadata": {
    "vscode": {
     "languageId": "r"
    }
   },
   "outputs": [
    {
     "data": {
      "text/html": [
       "<table class=\"dataframe\">\n",
       "<caption>A tibble: 0 × 6</caption>\n",
       "<thead>\n",
       "\t<tr><th scope=col>tipo</th><th scope=col>ciclo</th><th scope=col>matricula</th><th scope=col>ano</th><th scope=col>poblacion</th><th scope=col>tbcob</th></tr>\n",
       "\t<tr><th scope=col>&lt;chr&gt;</th><th scope=col>&lt;chr&gt;</th><th scope=col>&lt;dbl&gt;</th><th scope=col>&lt;dbl&gt;</th><th scope=col>&lt;dbl&gt;</th><th scope=col>&lt;dbl&gt;</th></tr>\n",
       "</thead>\n",
       "<tbody>\n",
       "</tbody>\n",
       "</table>\n"
      ],
      "text/latex": [
       "A tibble: 0 × 6\n",
       "\\begin{tabular}{llllll}\n",
       " tipo & ciclo & matricula & ano & poblacion & tbcob\\\\\n",
       " <chr> & <chr> & <dbl> & <dbl> & <dbl> & <dbl>\\\\\n",
       "\\hline\n",
       "\\end{tabular}\n"
      ],
      "text/markdown": [
       "\n",
       "A tibble: 0 × 6\n",
       "\n",
       "| tipo &lt;chr&gt; | ciclo &lt;chr&gt; | matricula &lt;dbl&gt; | ano &lt;dbl&gt; | poblacion &lt;dbl&gt; | tbcob &lt;dbl&gt; |\n",
       "|---|---|---|---|---|---|\n",
       "\n"
      ],
      "text/plain": [
       "     tipo ciclo matricula ano poblacion tbcob"
      ]
     },
     "metadata": {},
     "output_type": "display_data"
    }
   ],
   "source": [
    "#tasa de cobertura media inicialerior\n",
    "sep_inicial<-sep|>\n",
    "  filter(tipo==\"INICIAL PÚBLICO\")\n",
    "  \n",
    "sep_inicial"
   ]
  },
  {
   "cell_type": "code",
   "execution_count": 156,
   "id": "f0e07cb9",
   "metadata": {
    "vscode": {
     "languageId": "r"
    }
   },
   "outputs": [
    {
     "data": {
      "text/html": [],
      "text/latex": [],
      "text/markdown": [],
      "text/plain": [
       "numeric(0)"
      ]
     },
     "metadata": {},
     "output_type": "display_data"
    },
    {
     "data": {
      "text/html": [
       "0.245730939615517"
      ],
      "text/latex": [
       "0.245730939615517"
      ],
      "text/markdown": [
       "0.245730939615517"
      ],
      "text/plain": [
       "[1] 0.2457309"
      ]
     },
     "metadata": {},
     "output_type": "display_data"
    },
    {
     "data": {
      "text/html": [
       "0.0524097791489255"
      ],
      "text/latex": [
       "0.0524097791489255"
      ],
      "text/markdown": [
       "0.0524097791489255"
      ],
      "text/plain": [
       "[1] 0.05240978"
      ]
     },
     "metadata": {},
     "output_type": "display_data"
    }
   ],
   "source": [
    "#Metas establecidas por la SECTEI\n",
    "cobertura <- data.frame(\n",
    "  ano = c(2030, 2035, 2045), \n",
    "  tbcob = c(1, 3, 5))\n",
    "\n",
    "#TASAS GENERLES PARA CADA PERIODO\n",
    "año_base <- sep_inicial|>\n",
    "  filter(ano == 2023)\n",
    "  \n",
    "#Tasas de cobertura para los años 2030, 2035 y 2045 (estas tasas son las metas establecidas por la SECTEI)\n",
    "t2030<-cobertura|>\n",
    "filter(ano == 2030)\n",
    "t2035<-cobertura|>\n",
    "filter(ano == 2035)\n",
    "t2045<-cobertura|>\n",
    "filter(ano == 2045)\n",
    "\n",
    "tc1= (t2030$tbcob / año_base$tbcob)^(1 / (2030 - 2023)) - 1\n",
    "tc2= (t2035$tbcob / t2030$tbcob)^(1 / (2035 - 2030)) - 1\n",
    "tc3= (t2045$tbcob / t2035$tbcob)^(1 / (2045 - 2035)) - 1\n",
    "\n",
    "tc1\n",
    "tc2\n",
    "tc3"
   ]
  },
  {
   "cell_type": "code",
   "execution_count": 157,
   "id": "d623c6c9",
   "metadata": {
    "vscode": {
     "languageId": "r"
    }
   },
   "outputs": [
    {
     "ename": "ERROR",
     "evalue": "Error: objeto 'proyecciones_med_inicial' no encontrado\n",
     "output_type": "error",
     "traceback": [
      "Error: objeto 'proyecciones_med_inicial' no encontrado\nTraceback:\n",
      "1. list2(...)",
      "2. .handleSimpleError(function (cnd) \n . {\n .     watcher$capture_plot_and_output()\n .     cnd <- sanitize_call(cnd)\n .     watcher$push(cnd)\n .     switch(on_error, continue = invokeRestart(\"eval_continue\"), \n .         stop = invokeRestart(\"eval_stop\"), error = NULL)\n . }, \"objeto 'proyecciones_med_inicial' no encontrado\", base::quote(eval(expr, \n .     envir)))"
     ]
    }
   ],
   "source": [
    "#Proyecciones de la tasa de cobertura inicial, años 2024 a 2045\n",
    "proyecciones_inicial <- data.frame(\n",
    "  ano = 2024:2045) |>\n",
    "  mutate(tbcob = ifelse(ano < 2030,año_base$tbcob * (1 + tc1)^(ano - año_base$ano),\n",
    "                         ifelse(ano == 2030, t2030$tbcob,\n",
    "                                ifelse(ano < 2035, t2030$tbcob * (1 + tc2)^(ano - t2030$ano),\n",
    "                                        ifelse(ano == 2035, t2035$tbcob,\n",
    "                                                ifelse(ano < 2045, t2035$tbcob * (1 + tc3)^(ano - t2035$ano),\n",
    "                                                       ifelse(ano == 2045, t2045$tbcob, 0)))))))\n",
    "\n",
    "\n",
    "sep_med_inicial_proy <- sep_inicial |>\n",
    "  select(ano, tbcob)|>\n",
    "  bind_rows(proyecciones_med_inicial)\n",
    "\n",
    "sep_inicial_proy"
   ]
  },
  {
   "cell_type": "markdown",
   "id": "305e2b29",
   "metadata": {},
   "source": [
    "*Porcentaje de patentes solicitadas por personas mexicanas*"
   ]
  },
  {
   "cell_type": "code",
   "execution_count": null,
   "id": "7706be4f",
   "metadata": {
    "vscode": {
     "languageId": "r"
    }
   },
   "outputs": [
    {
     "data": {
      "text/html": [
       "<table class=\"dataframe\">\n",
       "<caption>A tibble: 32 × 3</caption>\n",
       "<thead>\n",
       "\t<tr><th scope=col>ano</th><th scope=col>porcentaje</th><th scope=col>tipo</th></tr>\n",
       "\t<tr><th scope=col>&lt;int&gt;</th><th scope=col>&lt;dbl&gt;</th><th scope=col>&lt;chr&gt;</th></tr>\n",
       "</thead>\n",
       "<tbody>\n",
       "\t<tr><td>1993</td><td>48.82459</td><td>Observado</td></tr>\n",
       "\t<tr><td>1994</td><td>42.36948</td><td>Observado</td></tr>\n",
       "\t<tr><td>1995</td><td>46.06481</td><td>Observado</td></tr>\n",
       "\t<tr><td>1996</td><td>40.67358</td><td>Observado</td></tr>\n",
       "\t<tr><td>1997</td><td>37.61905</td><td>Observado</td></tr>\n",
       "\t<tr><td>1998</td><td>40.17660</td><td>Observado</td></tr>\n",
       "\t<tr><td>1999</td><td>40.21978</td><td>Observado</td></tr>\n",
       "\t<tr><td>2000</td><td>38.97912</td><td>Observado</td></tr>\n",
       "\t<tr><td>2001</td><td>40.44944</td><td>Observado</td></tr>\n",
       "\t<tr><td>2002</td><td>39.16350</td><td>Observado</td></tr>\n",
       "\t<tr><td>2003</td><td>35.68376</td><td>Observado</td></tr>\n",
       "\t<tr><td>2004</td><td>31.68142</td><td>Observado</td></tr>\n",
       "\t<tr><td>2005</td><td>36.30137</td><td>Observado</td></tr>\n",
       "\t<tr><td>2006</td><td>31.53310</td><td>Observado</td></tr>\n",
       "\t<tr><td>2007</td><td>34.16537</td><td>Observado</td></tr>\n",
       "\t<tr><td>2008</td><td>31.97080</td><td>Observado</td></tr>\n",
       "\t<tr><td>2009</td><td>28.34550</td><td>Observado</td></tr>\n",
       "\t<tr><td>2010</td><td>33.75394</td><td>Observado</td></tr>\n",
       "\t<tr><td>2011</td><td>29.01408</td><td>Observado</td></tr>\n",
       "\t<tr><td>2012</td><td>33.04954</td><td>Observado</td></tr>\n",
       "\t<tr><td>2013</td><td>31.95706</td><td>Observado</td></tr>\n",
       "\t<tr><td>2014</td><td>27.17042</td><td>Observado</td></tr>\n",
       "\t<tr><td>2015</td><td>26.90616</td><td>Observado</td></tr>\n",
       "\t<tr><td>2016</td><td>23.51145</td><td>Observado</td></tr>\n",
       "\t<tr><td>2017</td><td>24.96252</td><td>Observado</td></tr>\n",
       "\t<tr><td>2018</td><td>22.18650</td><td>Observado</td></tr>\n",
       "\t<tr><td>2019</td><td>22.60536</td><td>Observado</td></tr>\n",
       "\t<tr><td>2020</td><td>19.43463</td><td>Observado</td></tr>\n",
       "\t<tr><td>2021</td><td>17.54700</td><td>Observado</td></tr>\n",
       "\t<tr><td>2022</td><td>22.17701</td><td>Observado</td></tr>\n",
       "\t<tr><td>2023</td><td>20.65440</td><td>Observado</td></tr>\n",
       "\t<tr><td>2024</td><td>20.47782</td><td>Observado</td></tr>\n",
       "</tbody>\n",
       "</table>\n"
      ],
      "text/latex": [
       "A tibble: 32 × 3\n",
       "\\begin{tabular}{lll}\n",
       " ano & porcentaje & tipo\\\\\n",
       " <int> & <dbl> & <chr>\\\\\n",
       "\\hline\n",
       "\t 1993 & 48.82459 & Observado\\\\\n",
       "\t 1994 & 42.36948 & Observado\\\\\n",
       "\t 1995 & 46.06481 & Observado\\\\\n",
       "\t 1996 & 40.67358 & Observado\\\\\n",
       "\t 1997 & 37.61905 & Observado\\\\\n",
       "\t 1998 & 40.17660 & Observado\\\\\n",
       "\t 1999 & 40.21978 & Observado\\\\\n",
       "\t 2000 & 38.97912 & Observado\\\\\n",
       "\t 2001 & 40.44944 & Observado\\\\\n",
       "\t 2002 & 39.16350 & Observado\\\\\n",
       "\t 2003 & 35.68376 & Observado\\\\\n",
       "\t 2004 & 31.68142 & Observado\\\\\n",
       "\t 2005 & 36.30137 & Observado\\\\\n",
       "\t 2006 & 31.53310 & Observado\\\\\n",
       "\t 2007 & 34.16537 & Observado\\\\\n",
       "\t 2008 & 31.97080 & Observado\\\\\n",
       "\t 2009 & 28.34550 & Observado\\\\\n",
       "\t 2010 & 33.75394 & Observado\\\\\n",
       "\t 2011 & 29.01408 & Observado\\\\\n",
       "\t 2012 & 33.04954 & Observado\\\\\n",
       "\t 2013 & 31.95706 & Observado\\\\\n",
       "\t 2014 & 27.17042 & Observado\\\\\n",
       "\t 2015 & 26.90616 & Observado\\\\\n",
       "\t 2016 & 23.51145 & Observado\\\\\n",
       "\t 2017 & 24.96252 & Observado\\\\\n",
       "\t 2018 & 22.18650 & Observado\\\\\n",
       "\t 2019 & 22.60536 & Observado\\\\\n",
       "\t 2020 & 19.43463 & Observado\\\\\n",
       "\t 2021 & 17.54700 & Observado\\\\\n",
       "\t 2022 & 22.17701 & Observado\\\\\n",
       "\t 2023 & 20.65440 & Observado\\\\\n",
       "\t 2024 & 20.47782 & Observado\\\\\n",
       "\\end{tabular}\n"
      ],
      "text/markdown": [
       "\n",
       "A tibble: 32 × 3\n",
       "\n",
       "| ano &lt;int&gt; | porcentaje &lt;dbl&gt; | tipo &lt;chr&gt; |\n",
       "|---|---|---|\n",
       "| 1993 | 48.82459 | Observado |\n",
       "| 1994 | 42.36948 | Observado |\n",
       "| 1995 | 46.06481 | Observado |\n",
       "| 1996 | 40.67358 | Observado |\n",
       "| 1997 | 37.61905 | Observado |\n",
       "| 1998 | 40.17660 | Observado |\n",
       "| 1999 | 40.21978 | Observado |\n",
       "| 2000 | 38.97912 | Observado |\n",
       "| 2001 | 40.44944 | Observado |\n",
       "| 2002 | 39.16350 | Observado |\n",
       "| 2003 | 35.68376 | Observado |\n",
       "| 2004 | 31.68142 | Observado |\n",
       "| 2005 | 36.30137 | Observado |\n",
       "| 2006 | 31.53310 | Observado |\n",
       "| 2007 | 34.16537 | Observado |\n",
       "| 2008 | 31.97080 | Observado |\n",
       "| 2009 | 28.34550 | Observado |\n",
       "| 2010 | 33.75394 | Observado |\n",
       "| 2011 | 29.01408 | Observado |\n",
       "| 2012 | 33.04954 | Observado |\n",
       "| 2013 | 31.95706 | Observado |\n",
       "| 2014 | 27.17042 | Observado |\n",
       "| 2015 | 26.90616 | Observado |\n",
       "| 2016 | 23.51145 | Observado |\n",
       "| 2017 | 24.96252 | Observado |\n",
       "| 2018 | 22.18650 | Observado |\n",
       "| 2019 | 22.60536 | Observado |\n",
       "| 2020 | 19.43463 | Observado |\n",
       "| 2021 | 17.54700 | Observado |\n",
       "| 2022 | 22.17701 | Observado |\n",
       "| 2023 | 20.65440 | Observado |\n",
       "| 2024 | 20.47782 | Observado |\n",
       "\n"
      ],
      "text/plain": [
       "   ano  porcentaje tipo     \n",
       "1  1993 48.82459   Observado\n",
       "2  1994 42.36948   Observado\n",
       "3  1995 46.06481   Observado\n",
       "4  1996 40.67358   Observado\n",
       "5  1997 37.61905   Observado\n",
       "6  1998 40.17660   Observado\n",
       "7  1999 40.21978   Observado\n",
       "8  2000 38.97912   Observado\n",
       "9  2001 40.44944   Observado\n",
       "10 2002 39.16350   Observado\n",
       "11 2003 35.68376   Observado\n",
       "12 2004 31.68142   Observado\n",
       "13 2005 36.30137   Observado\n",
       "14 2006 31.53310   Observado\n",
       "15 2007 34.16537   Observado\n",
       "16 2008 31.97080   Observado\n",
       "17 2009 28.34550   Observado\n",
       "18 2010 33.75394   Observado\n",
       "19 2011 29.01408   Observado\n",
       "20 2012 33.04954   Observado\n",
       "21 2013 31.95706   Observado\n",
       "22 2014 27.17042   Observado\n",
       "23 2015 26.90616   Observado\n",
       "24 2016 23.51145   Observado\n",
       "25 2017 24.96252   Observado\n",
       "26 2018 22.18650   Observado\n",
       "27 2019 22.60536   Observado\n",
       "28 2020 19.43463   Observado\n",
       "29 2021 17.54700   Observado\n",
       "30 2022 22.17701   Observado\n",
       "31 2023 20.65440   Observado\n",
       "32 2024 20.47782   Observado"
      ]
     },
     "metadata": {},
     "output_type": "display_data"
    }
   ],
   "source": [
    "impi <- read_csv(\"https://datosabiertos.impi.gob.mx/IMPICifras/Invenciones03.csv\", \n",
    "                 col_names = FALSE, show_col_types = FALSE)\n",
    "# Procesar datos de IMPI\n",
    "impi <- impi |>\n",
    "  # Eliminar las primeras 4 filas y renombrar las columnas\n",
    "  slice(5:n())|>                            \n",
    "  set_names(as.character(impi[5, ])) |>     \n",
    "  janitor::clean_names() |>                \n",
    "  slice(-1)|>\n",
    "rename(entidad=2)|>\n",
    "filter(entidad==\"Ciudad de México\" | entidad==\"Total / Total\")|>\n",
    "#Dejar columna entidad y todas aquellas que contengan \"patentes\"\n",
    "select(entidad,contains(\"patentes\"))|>\n",
    "#Transformar columnas patentes a numérico\n",
    "#Eliminar comas de los números\n",
    "mutate(across(contains(\"patentes\"), ~ as.numeric(str_replace_all(., \",\", \"\"))) )|>\n",
    "# #Calcular porcentaje de patentes\n",
    "mutate(across(contains(\"patentes\"), ~ . / .[entidad == \"Total / Total\"] * 100))|>\n",
    "filter(entidad==\"Ciudad de México\")|>\n",
    "# #Long\n",
    "pivot_longer(cols = -entidad, names_to = \"tipo\", values_to = \"porcentaje\")|>\n",
    "#Crear variable año de 1993 hasta que se terminan las columnas\n",
    "mutate(ano = 1993:(1993 + n() - 1))|>\n",
    "filter(ano < 2025)|>\n",
    "select(ano, porcentaje)|>\n",
    "mutate(tipo = \"Observado\")\n",
    "\n",
    "\n",
    "impi"
   ]
  },
  {
   "cell_type": "code",
   "execution_count": null,
   "id": "48a908d7",
   "metadata": {
    "vscode": {
     "languageId": "r"
    }
   },
   "outputs": [
    {
     "data": {
      "text/html": [
       "0.0131572208215134"
      ],
      "text/latex": [
       "0.0131572208215134"
      ],
      "text/markdown": [
       "0.0131572208215134"
      ],
      "text/plain": [
       "[1] 0.01315722"
      ]
     },
     "metadata": {},
     "output_type": "display_data"
    },
    {
     "data": {
      "text/html": [
       "0.0338147632856698"
      ],
      "text/latex": [
       "0.0338147632856698"
      ],
      "text/markdown": [
       "0.0338147632856698"
      ],
      "text/plain": [
       "[1] 0.03381476"
      ]
     },
     "metadata": {},
     "output_type": "display_data"
    },
    {
     "data": {
      "text/html": [
       "0.0371372893366482"
      ],
      "text/latex": [
       "0.0371372893366482"
      ],
      "text/markdown": [
       "0.0371372893366482"
      ],
      "text/plain": [
       "[1] 0.03713729"
      ]
     },
     "metadata": {},
     "output_type": "display_data"
    },
    {
     "data": {
      "text/html": [
       "0.0291860089647606"
      ],
      "text/latex": [
       "0.0291860089647606"
      ],
      "text/markdown": [
       "0.0291860089647606"
      ],
      "text/plain": [
       "[1] 0.02918601"
      ]
     },
     "metadata": {},
     "output_type": "display_data"
    }
   ],
   "source": [
    "\n",
    "#Metas establecidas por la SECTEI\n",
    "porcentaje <- data.frame(\n",
    "  ano = c(2030, 2035, 2045), \n",
    "  porcentaje = c(25, 30, 40))\n",
    "\n",
    "#TASAS GENERLES PARA CADA PERIODO\n",
    "año_bse <- impi|>\n",
    "  filter(ano == 2024)\n",
    "#Tasas de cobertura para los años 2030, 2035 y 2045 (estas tasas son las metas establecidas por la SECTEI)\n",
    "t2030<-porcentaje|>\n",
    "filter(ano == 2030)\n",
    "t2035<-porcentaje|>\n",
    "filter(ano == 2035)\n",
    "t2045<-porcentaje|>\n",
    "filter(ano == 2045)\n",
    "\n",
    "tc1= (t2030$porcentaje / año_bse$porcentaje)^(1 / (2030 - 2024)) - 1\n",
    "tc2= (t2035$porcentaje / t2030$porcentaje)^(1 / (2035 - 2030)) - 1\n",
    "tc3= (t2045$porcentaje / t2035$porcentaje)^(1 / (2045 - 2035)) - 1\n",
    "\n",
    "tc1\n",
    "tc2\n",
    "tc3"
   ]
  },
  {
   "cell_type": "code",
   "execution_count": null,
   "id": "73075906",
   "metadata": {
    "vscode": {
     "languageId": "r"
    }
   },
   "outputs": [
    {
     "data": {
      "text/html": [
       "<table class=\"dataframe\">\n",
       "<caption>A tibble: 97 × 3</caption>\n",
       "<thead>\n",
       "\t<tr><th scope=col>ano</th><th scope=col>tipo</th><th scope=col>porcentaje</th></tr>\n",
       "\t<tr><th scope=col>&lt;int&gt;</th><th scope=col>&lt;chr&gt;</th><th scope=col>&lt;dbl&gt;</th></tr>\n",
       "</thead>\n",
       "<tbody>\n",
       "\t<tr><td>1993</td><td>Observado</td><td>48.82459</td></tr>\n",
       "\t<tr><td>1994</td><td>Observado</td><td>42.36948</td></tr>\n",
       "\t<tr><td>1995</td><td>Observado</td><td>46.06481</td></tr>\n",
       "\t<tr><td>1996</td><td>Observado</td><td>40.67358</td></tr>\n",
       "\t<tr><td>1997</td><td>Observado</td><td>37.61905</td></tr>\n",
       "\t<tr><td>1998</td><td>Observado</td><td>40.17660</td></tr>\n",
       "\t<tr><td>1999</td><td>Observado</td><td>40.21978</td></tr>\n",
       "\t<tr><td>2000</td><td>Observado</td><td>38.97912</td></tr>\n",
       "\t<tr><td>2001</td><td>Observado</td><td>40.44944</td></tr>\n",
       "\t<tr><td>2002</td><td>Observado</td><td>39.16350</td></tr>\n",
       "\t<tr><td>2003</td><td>Observado</td><td>35.68376</td></tr>\n",
       "\t<tr><td>2004</td><td>Observado</td><td>31.68142</td></tr>\n",
       "\t<tr><td>2005</td><td>Observado</td><td>36.30137</td></tr>\n",
       "\t<tr><td>2006</td><td>Observado</td><td>31.53310</td></tr>\n",
       "\t<tr><td>2007</td><td>Observado</td><td>34.16537</td></tr>\n",
       "\t<tr><td>2008</td><td>Observado</td><td>31.97080</td></tr>\n",
       "\t<tr><td>2009</td><td>Observado</td><td>28.34550</td></tr>\n",
       "\t<tr><td>2010</td><td>Observado</td><td>33.75394</td></tr>\n",
       "\t<tr><td>2011</td><td>Observado</td><td>29.01408</td></tr>\n",
       "\t<tr><td>2012</td><td>Observado</td><td>33.04954</td></tr>\n",
       "\t<tr><td>2013</td><td>Observado</td><td>31.95706</td></tr>\n",
       "\t<tr><td>2014</td><td>Observado</td><td>27.17042</td></tr>\n",
       "\t<tr><td>2015</td><td>Observado</td><td>26.90616</td></tr>\n",
       "\t<tr><td>2016</td><td>Observado</td><td>23.51145</td></tr>\n",
       "\t<tr><td>2017</td><td>Observado</td><td>24.96252</td></tr>\n",
       "\t<tr><td>2018</td><td>Observado</td><td>22.18650</td></tr>\n",
       "\t<tr><td>2019</td><td>Observado</td><td>22.60536</td></tr>\n",
       "\t<tr><td>2020</td><td>Observado</td><td>19.43463</td></tr>\n",
       "\t<tr><td>2021</td><td>Observado</td><td>17.54700</td></tr>\n",
       "\t<tr><td>2022</td><td>Observado</td><td>22.17701</td></tr>\n",
       "\t<tr><td>⋮</td><td>⋮</td><td>⋮</td></tr>\n",
       "\t<tr><td>2038</td><td>Inercial     </td><td>24.59</td></tr>\n",
       "\t<tr><td>2039</td><td>Inercial     </td><td>24.91</td></tr>\n",
       "\t<tr><td>2040</td><td>Inercial     </td><td>25.24</td></tr>\n",
       "\t<tr><td>2041</td><td>Inercial     </td><td>25.57</td></tr>\n",
       "\t<tr><td>2042</td><td>Inercial     </td><td>25.91</td></tr>\n",
       "\t<tr><td>2043</td><td>Inercial     </td><td>26.25</td></tr>\n",
       "\t<tr><td>2044</td><td>Inercial     </td><td>26.60</td></tr>\n",
       "\t<tr><td>2045</td><td>Inercial     </td><td>26.95</td></tr>\n",
       "\t<tr><td>2024</td><td>Transformador</td><td>20.48</td></tr>\n",
       "\t<tr><td>2025</td><td>Transformador</td><td>21.29</td></tr>\n",
       "\t<tr><td>2026</td><td>Transformador</td><td>22.13</td></tr>\n",
       "\t<tr><td>2027</td><td>Transformador</td><td>23.00</td></tr>\n",
       "\t<tr><td>2028</td><td>Transformador</td><td>23.91</td></tr>\n",
       "\t<tr><td>2029</td><td>Transformador</td><td>24.85</td></tr>\n",
       "\t<tr><td>2030</td><td>Transformador</td><td>25.83</td></tr>\n",
       "\t<tr><td>2031</td><td>Transformador</td><td>26.85</td></tr>\n",
       "\t<tr><td>2032</td><td>Transformador</td><td>27.91</td></tr>\n",
       "\t<tr><td>2033</td><td>Transformador</td><td>29.01</td></tr>\n",
       "\t<tr><td>2034</td><td>Transformador</td><td>30.16</td></tr>\n",
       "\t<tr><td>2035</td><td>Transformador</td><td>31.35</td></tr>\n",
       "\t<tr><td>2036</td><td>Transformador</td><td>32.59</td></tr>\n",
       "\t<tr><td>2037</td><td>Transformador</td><td>33.87</td></tr>\n",
       "\t<tr><td>2038</td><td>Transformador</td><td>35.21</td></tr>\n",
       "\t<tr><td>2039</td><td>Transformador</td><td>36.60</td></tr>\n",
       "\t<tr><td>2040</td><td>Transformador</td><td>38.04</td></tr>\n",
       "\t<tr><td>2041</td><td>Transformador</td><td>39.55</td></tr>\n",
       "\t<tr><td>2042</td><td>Transformador</td><td>41.11</td></tr>\n",
       "\t<tr><td>2043</td><td>Transformador</td><td>42.73</td></tr>\n",
       "\t<tr><td>2044</td><td>Transformador</td><td>44.42</td></tr>\n",
       "\t<tr><td>2045</td><td>Transformador</td><td>46.17</td></tr>\n",
       "</tbody>\n",
       "</table>\n"
      ],
      "text/latex": [
       "A tibble: 97 × 3\n",
       "\\begin{tabular}{lll}\n",
       " ano & tipo & porcentaje\\\\\n",
       " <int> & <chr> & <dbl>\\\\\n",
       "\\hline\n",
       "\t 1993 & Observado & 48.82459\\\\\n",
       "\t 1994 & Observado & 42.36948\\\\\n",
       "\t 1995 & Observado & 46.06481\\\\\n",
       "\t 1996 & Observado & 40.67358\\\\\n",
       "\t 1997 & Observado & 37.61905\\\\\n",
       "\t 1998 & Observado & 40.17660\\\\\n",
       "\t 1999 & Observado & 40.21978\\\\\n",
       "\t 2000 & Observado & 38.97912\\\\\n",
       "\t 2001 & Observado & 40.44944\\\\\n",
       "\t 2002 & Observado & 39.16350\\\\\n",
       "\t 2003 & Observado & 35.68376\\\\\n",
       "\t 2004 & Observado & 31.68142\\\\\n",
       "\t 2005 & Observado & 36.30137\\\\\n",
       "\t 2006 & Observado & 31.53310\\\\\n",
       "\t 2007 & Observado & 34.16537\\\\\n",
       "\t 2008 & Observado & 31.97080\\\\\n",
       "\t 2009 & Observado & 28.34550\\\\\n",
       "\t 2010 & Observado & 33.75394\\\\\n",
       "\t 2011 & Observado & 29.01408\\\\\n",
       "\t 2012 & Observado & 33.04954\\\\\n",
       "\t 2013 & Observado & 31.95706\\\\\n",
       "\t 2014 & Observado & 27.17042\\\\\n",
       "\t 2015 & Observado & 26.90616\\\\\n",
       "\t 2016 & Observado & 23.51145\\\\\n",
       "\t 2017 & Observado & 24.96252\\\\\n",
       "\t 2018 & Observado & 22.18650\\\\\n",
       "\t 2019 & Observado & 22.60536\\\\\n",
       "\t 2020 & Observado & 19.43463\\\\\n",
       "\t 2021 & Observado & 17.54700\\\\\n",
       "\t 2022 & Observado & 22.17701\\\\\n",
       "\t ⋮ & ⋮ & ⋮\\\\\n",
       "\t 2038 & Inercial      & 24.59\\\\\n",
       "\t 2039 & Inercial      & 24.91\\\\\n",
       "\t 2040 & Inercial      & 25.24\\\\\n",
       "\t 2041 & Inercial      & 25.57\\\\\n",
       "\t 2042 & Inercial      & 25.91\\\\\n",
       "\t 2043 & Inercial      & 26.25\\\\\n",
       "\t 2044 & Inercial      & 26.60\\\\\n",
       "\t 2045 & Inercial      & 26.95\\\\\n",
       "\t 2024 & Transformador & 20.48\\\\\n",
       "\t 2025 & Transformador & 21.29\\\\\n",
       "\t 2026 & Transformador & 22.13\\\\\n",
       "\t 2027 & Transformador & 23.00\\\\\n",
       "\t 2028 & Transformador & 23.91\\\\\n",
       "\t 2029 & Transformador & 24.85\\\\\n",
       "\t 2030 & Transformador & 25.83\\\\\n",
       "\t 2031 & Transformador & 26.85\\\\\n",
       "\t 2032 & Transformador & 27.91\\\\\n",
       "\t 2033 & Transformador & 29.01\\\\\n",
       "\t 2034 & Transformador & 30.16\\\\\n",
       "\t 2035 & Transformador & 31.35\\\\\n",
       "\t 2036 & Transformador & 32.59\\\\\n",
       "\t 2037 & Transformador & 33.87\\\\\n",
       "\t 2038 & Transformador & 35.21\\\\\n",
       "\t 2039 & Transformador & 36.60\\\\\n",
       "\t 2040 & Transformador & 38.04\\\\\n",
       "\t 2041 & Transformador & 39.55\\\\\n",
       "\t 2042 & Transformador & 41.11\\\\\n",
       "\t 2043 & Transformador & 42.73\\\\\n",
       "\t 2044 & Transformador & 44.42\\\\\n",
       "\t 2045 & Transformador & 46.17\\\\\n",
       "\\end{tabular}\n"
      ],
      "text/markdown": [
       "\n",
       "A tibble: 97 × 3\n",
       "\n",
       "| ano &lt;int&gt; | tipo &lt;chr&gt; | porcentaje &lt;dbl&gt; |\n",
       "|---|---|---|\n",
       "| 1993 | Observado | 48.82459 |\n",
       "| 1994 | Observado | 42.36948 |\n",
       "| 1995 | Observado | 46.06481 |\n",
       "| 1996 | Observado | 40.67358 |\n",
       "| 1997 | Observado | 37.61905 |\n",
       "| 1998 | Observado | 40.17660 |\n",
       "| 1999 | Observado | 40.21978 |\n",
       "| 2000 | Observado | 38.97912 |\n",
       "| 2001 | Observado | 40.44944 |\n",
       "| 2002 | Observado | 39.16350 |\n",
       "| 2003 | Observado | 35.68376 |\n",
       "| 2004 | Observado | 31.68142 |\n",
       "| 2005 | Observado | 36.30137 |\n",
       "| 2006 | Observado | 31.53310 |\n",
       "| 2007 | Observado | 34.16537 |\n",
       "| 2008 | Observado | 31.97080 |\n",
       "| 2009 | Observado | 28.34550 |\n",
       "| 2010 | Observado | 33.75394 |\n",
       "| 2011 | Observado | 29.01408 |\n",
       "| 2012 | Observado | 33.04954 |\n",
       "| 2013 | Observado | 31.95706 |\n",
       "| 2014 | Observado | 27.17042 |\n",
       "| 2015 | Observado | 26.90616 |\n",
       "| 2016 | Observado | 23.51145 |\n",
       "| 2017 | Observado | 24.96252 |\n",
       "| 2018 | Observado | 22.18650 |\n",
       "| 2019 | Observado | 22.60536 |\n",
       "| 2020 | Observado | 19.43463 |\n",
       "| 2021 | Observado | 17.54700 |\n",
       "| 2022 | Observado | 22.17701 |\n",
       "| ⋮ | ⋮ | ⋮ |\n",
       "| 2038 | Inercial      | 24.59 |\n",
       "| 2039 | Inercial      | 24.91 |\n",
       "| 2040 | Inercial      | 25.24 |\n",
       "| 2041 | Inercial      | 25.57 |\n",
       "| 2042 | Inercial      | 25.91 |\n",
       "| 2043 | Inercial      | 26.25 |\n",
       "| 2044 | Inercial      | 26.60 |\n",
       "| 2045 | Inercial      | 26.95 |\n",
       "| 2024 | Transformador | 20.48 |\n",
       "| 2025 | Transformador | 21.29 |\n",
       "| 2026 | Transformador | 22.13 |\n",
       "| 2027 | Transformador | 23.00 |\n",
       "| 2028 | Transformador | 23.91 |\n",
       "| 2029 | Transformador | 24.85 |\n",
       "| 2030 | Transformador | 25.83 |\n",
       "| 2031 | Transformador | 26.85 |\n",
       "| 2032 | Transformador | 27.91 |\n",
       "| 2033 | Transformador | 29.01 |\n",
       "| 2034 | Transformador | 30.16 |\n",
       "| 2035 | Transformador | 31.35 |\n",
       "| 2036 | Transformador | 32.59 |\n",
       "| 2037 | Transformador | 33.87 |\n",
       "| 2038 | Transformador | 35.21 |\n",
       "| 2039 | Transformador | 36.60 |\n",
       "| 2040 | Transformador | 38.04 |\n",
       "| 2041 | Transformador | 39.55 |\n",
       "| 2042 | Transformador | 41.11 |\n",
       "| 2043 | Transformador | 42.73 |\n",
       "| 2044 | Transformador | 44.42 |\n",
       "| 2045 | Transformador | 46.17 |\n",
       "\n"
      ],
      "text/plain": [
       "   ano  tipo          porcentaje\n",
       "1  1993 Observado     48.82459  \n",
       "2  1994 Observado     42.36948  \n",
       "3  1995 Observado     46.06481  \n",
       "4  1996 Observado     40.67358  \n",
       "5  1997 Observado     37.61905  \n",
       "6  1998 Observado     40.17660  \n",
       "7  1999 Observado     40.21978  \n",
       "8  2000 Observado     38.97912  \n",
       "9  2001 Observado     40.44944  \n",
       "10 2002 Observado     39.16350  \n",
       "11 2003 Observado     35.68376  \n",
       "12 2004 Observado     31.68142  \n",
       "13 2005 Observado     36.30137  \n",
       "14 2006 Observado     31.53310  \n",
       "15 2007 Observado     34.16537  \n",
       "16 2008 Observado     31.97080  \n",
       "17 2009 Observado     28.34550  \n",
       "18 2010 Observado     33.75394  \n",
       "19 2011 Observado     29.01408  \n",
       "20 2012 Observado     33.04954  \n",
       "21 2013 Observado     31.95706  \n",
       "22 2014 Observado     27.17042  \n",
       "23 2015 Observado     26.90616  \n",
       "24 2016 Observado     23.51145  \n",
       "25 2017 Observado     24.96252  \n",
       "26 2018 Observado     22.18650  \n",
       "27 2019 Observado     22.60536  \n",
       "28 2020 Observado     19.43463  \n",
       "29 2021 Observado     17.54700  \n",
       "30 2022 Observado     22.17701  \n",
       "⋮  ⋮    ⋮             ⋮         \n",
       "68 2038 Inercial      24.59     \n",
       "69 2039 Inercial      24.91     \n",
       "70 2040 Inercial      25.24     \n",
       "71 2041 Inercial      25.57     \n",
       "72 2042 Inercial      25.91     \n",
       "73 2043 Inercial      26.25     \n",
       "74 2044 Inercial      26.60     \n",
       "75 2045 Inercial      26.95     \n",
       "76 2024 Transformador 20.48     \n",
       "77 2025 Transformador 21.29     \n",
       "78 2026 Transformador 22.13     \n",
       "79 2027 Transformador 23.00     \n",
       "80 2028 Transformador 23.91     \n",
       "81 2029 Transformador 24.85     \n",
       "82 2030 Transformador 25.83     \n",
       "83 2031 Transformador 26.85     \n",
       "84 2032 Transformador 27.91     \n",
       "85 2033 Transformador 29.01     \n",
       "86 2034 Transformador 30.16     \n",
       "87 2035 Transformador 31.35     \n",
       "88 2036 Transformador 32.59     \n",
       "89 2037 Transformador 33.87     \n",
       "90 2038 Transformador 35.21     \n",
       "91 2039 Transformador 36.60     \n",
       "92 2040 Transformador 38.04     \n",
       "93 2041 Transformador 39.55     \n",
       "94 2042 Transformador 41.11     \n",
       "95 2043 Transformador 42.73     \n",
       "96 2044 Transformador 44.42     \n",
       "97 2045 Transformador 46.17     "
      ]
     },
     "metadata": {},
     "output_type": "display_data"
    }
   ],
   "source": [
    "#Proyecciones \n",
    "proyecciones_impi <- data.frame(\n",
    "  ano = 2025:2045) |>\n",
    "  mutate(porcentaje = ifelse(ano < 2030,año_bse$porcentaje * (1 + tc1)^(ano - año_bse$ano),\n",
    "                         ifelse(ano == 2030, t2030$porcentaje,\n",
    "                                ifelse(ano < 2035, t2030$porcentaje * (1 + tc2)^(ano - t2030$ano),\n",
    "                                        ifelse(ano == 2035, t2035$porcentaje,\n",
    "                                                ifelse(ano < 2045, t2035$porcentaje * (1 + tc3)^(ano - t2035$ano),\n",
    "                                                       ifelse(ano == 2045, t2045$porcentaje, 0)))))),\n",
    "          tipo = \"Deseable\")\n",
    "\n",
    "\t\t\t\t\t\t\t\t\t   \n",
    "impi_proy <- impi |>\n",
    "  select(ano, tipo, porcentaje)|>\n",
    "  bind_rows(proyecciones_impi)\n",
    "\n",
    "  impi_proy"
   ]
  },
  {
   "cell_type": "markdown",
   "id": "80bbb356",
   "metadata": {},
   "source": [
    "*Porcentaje de población en pobreza por rezago educativo*"
   ]
  },
  {
   "cell_type": "code",
   "execution_count": null,
   "id": "c43dac82",
   "metadata": {
    "vscode": {
     "languageId": "r"
    }
   },
   "outputs": [
    {
     "name": "stderr",
     "output_type": "stream",
     "text": [
      "\u001b[1m\u001b[22mNew names:\n",
      "\u001b[36m•\u001b[39m `` -> `...2`\n",
      "\u001b[36m•\u001b[39m `` -> `...3`\n",
      "\u001b[36m•\u001b[39m `` -> `...4`\n",
      "\u001b[36m•\u001b[39m `` -> `...5`\n",
      "\u001b[36m•\u001b[39m `` -> `...6`\n",
      "\u001b[36m•\u001b[39m `` -> `...7`\n",
      "\u001b[36m•\u001b[39m `` -> `...8`\n",
      "\u001b[36m•\u001b[39m `` -> `...9`\n",
      "\u001b[36m•\u001b[39m `` -> `...10`\n",
      "\u001b[36m•\u001b[39m `` -> `...11`\n",
      "\u001b[36m•\u001b[39m `` -> `...12`\n",
      "\u001b[36m•\u001b[39m `` -> `...13`\n",
      "\u001b[36m•\u001b[39m `` -> `...14`\n",
      "\u001b[36m•\u001b[39m `` -> `...15`\n",
      "\u001b[36m•\u001b[39m `` -> `...16`\n",
      "\u001b[36m•\u001b[39m `` -> `...17`\n",
      "\u001b[36m•\u001b[39m `` -> `...18`\n",
      "\u001b[36m•\u001b[39m `` -> `...19`\n",
      "\u001b[36m•\u001b[39m `` -> `...20`\n",
      "\u001b[36m•\u001b[39m `` -> `...21`\n",
      "\u001b[36m•\u001b[39m `` -> `...22`\n",
      "\u001b[36m•\u001b[39m `` -> `...23`\n",
      "\u001b[36m•\u001b[39m `` -> `...24`\n",
      "\u001b[36m•\u001b[39m `` -> `...25`\n",
      "\u001b[36m•\u001b[39m `` -> `...26`\n",
      "\u001b[36m•\u001b[39m `` -> `...27`\n",
      "\u001b[36m•\u001b[39m `` -> `...28`\n",
      "\u001b[36m•\u001b[39m `` -> `...29`\n",
      "\u001b[36m•\u001b[39m `` -> `...30`\n",
      "\u001b[36m•\u001b[39m `` -> `...31`\n",
      "\u001b[36m•\u001b[39m `` -> `...32`\n",
      "\u001b[36m•\u001b[39m `` -> `...33`\n",
      "\u001b[36m•\u001b[39m `` -> `...34`\n",
      "\u001b[36m•\u001b[39m `` -> `...35`\n",
      "\u001b[36m•\u001b[39m `` -> `...36`\n",
      "\u001b[36m•\u001b[39m `` -> `...37`\n",
      "\u001b[36m•\u001b[39m `` -> `...38`\n",
      "\u001b[36m•\u001b[39m `` -> `...39`\n",
      "\u001b[36m•\u001b[39m `` -> `...40`\n",
      "\u001b[36m•\u001b[39m `` -> `...41`\n",
      "\u001b[36m•\u001b[39m `` -> `...42`\n",
      "\u001b[36m•\u001b[39m `` -> `...43`\n",
      "\u001b[36m•\u001b[39m `` -> `...44`\n",
      "\u001b[36m•\u001b[39m `` -> `...45`\n",
      "\u001b[36m•\u001b[39m `` -> `...46`\n",
      "\u001b[36m•\u001b[39m `` -> `...47`\n",
      "\u001b[36m•\u001b[39m `` -> `...48`\n",
      "\u001b[36m•\u001b[39m `` -> `...49`\n",
      "\u001b[36m•\u001b[39m `` -> `...50`\n",
      "\u001b[36m•\u001b[39m `` -> `...51`\n",
      "\u001b[36m•\u001b[39m `` -> `...52`\n",
      "\u001b[36m•\u001b[39m `` -> `...53`\n",
      "\u001b[36m•\u001b[39m `` -> `...54`\n",
      "\u001b[36m•\u001b[39m `` -> `...55`\n",
      "\u001b[36m•\u001b[39m `` -> `...56`\n",
      "\u001b[36m•\u001b[39m `` -> `...57`\n",
      "\u001b[36m•\u001b[39m `` -> `...58`\n",
      "\u001b[36m•\u001b[39m `` -> `...59`\n",
      "\u001b[36m•\u001b[39m `` -> `...60`\n",
      "\u001b[36m•\u001b[39m `` -> `...61`\n",
      "\u001b[36m•\u001b[39m `` -> `...62`\n",
      "\u001b[36m•\u001b[39m `` -> `...63`\n",
      "\u001b[36m•\u001b[39m `` -> `...64`\n",
      "\u001b[36m•\u001b[39m `` -> `...65`\n",
      "\u001b[36m•\u001b[39m `` -> `...66`\n",
      "\u001b[36m•\u001b[39m `` -> `...67`\n"
     ]
    }
   ],
   "source": [
    "#Base de datos del Consejo de Evaluación de la Ciudad de México: Pobreza y Desigualdad\n",
    "url <- \"https://www.evalua.cdmx.gob.mx/storage/app/media/2024/die/2018-2022/NA/4-Cuadros%20MMIP%20Entidad%20Federativa%202018-2022.xlsx\"\n",
    "base_pobreza <- tempfile(fileext = \".xlsx\")\n",
    "download.file(url, base_pobreza, mode = \"wb\")\n",
    "#Cargar la base de pobreza (Pobreza en Educación por entidad federativa)\n",
    "pobreza_edu <- readxl::read_excel(base_pobreza, sheet = 8, skip = 8)"
   ]
  },
  {
   "cell_type": "code",
   "execution_count": null,
   "id": "1a2295bb",
   "metadata": {
    "vscode": {
     "languageId": "r"
    }
   },
   "outputs": [
    {
     "data": {
      "text/html": [
       "<table class=\"dataframe\">\n",
       "<caption>A tibble: 3 × 3</caption>\n",
       "<thead>\n",
       "\t<tr><th scope=col>ano</th><th scope=col>porcentaje</th><th scope=col>tipo</th></tr>\n",
       "\t<tr><th scope=col>&lt;dbl&gt;</th><th scope=col>&lt;dbl&gt;</th><th scope=col>&lt;chr&gt;</th></tr>\n",
       "</thead>\n",
       "<tbody>\n",
       "\t<tr><td>2018</td><td>25.42980</td><td>Observado</td></tr>\n",
       "\t<tr><td>2020</td><td>24.16627</td><td>Observado</td></tr>\n",
       "\t<tr><td>2022</td><td>23.92191</td><td>Observado</td></tr>\n",
       "</tbody>\n",
       "</table>\n"
      ],
      "text/latex": [
       "A tibble: 3 × 3\n",
       "\\begin{tabular}{lll}\n",
       " ano & porcentaje & tipo\\\\\n",
       " <dbl> & <dbl> & <chr>\\\\\n",
       "\\hline\n",
       "\t 2018 & 25.42980 & Observado\\\\\n",
       "\t 2020 & 24.16627 & Observado\\\\\n",
       "\t 2022 & 23.92191 & Observado\\\\\n",
       "\\end{tabular}\n"
      ],
      "text/markdown": [
       "\n",
       "A tibble: 3 × 3\n",
       "\n",
       "| ano &lt;dbl&gt; | porcentaje &lt;dbl&gt; | tipo &lt;chr&gt; |\n",
       "|---|---|---|\n",
       "| 2018 | 25.42980 | Observado |\n",
       "| 2020 | 24.16627 | Observado |\n",
       "| 2022 | 23.92191 | Observado |\n",
       "\n"
      ],
      "text/plain": [
       "  ano  porcentaje tipo     \n",
       "1 2018 25.42980   Observado\n",
       "2 2020 24.16627   Observado\n",
       "3 2022 23.92191   Observado"
      ]
     },
     "metadata": {},
     "output_type": "display_data"
    }
   ],
   "source": [
    "#Preprocesamiento de la tabla de pobreza (limpieza de encabezados)\n",
    "#Construcción de los encabezados\n",
    "#Primera fila de encabezados: Tipo de pobreza\n",
    "header1 <- pobreza_edu[2, ] |> unlist(use.names = FALSE)\n",
    "header1_filled <- data.frame(valor = header1) |>\n",
    "  fill(valor, .direction = \"down\") |>\n",
    "  pull(valor) \n",
    "#Segunda fila de encabezados: Tipo de valor si es absoluto o porcentaje\n",
    "header2 <- pobreza_edu[3, ] |> unlist(use.names = FALSE)\n",
    "header2_filled <- data.frame(valor = header2) |>\n",
    "  fill(valor, .direction = \"down\") |>\n",
    "  pull(valor)\n",
    "# Asegurarse de que el primer valor no sea NA\n",
    "if (is.na(header2_filled[1])) {\n",
    "  header2_filled[1] <- \"E\"\n",
    "}\n",
    "#Tercer fila de encabezados: Año de la medición\n",
    "header3 <- pobreza_edu[4, ] |> unlist(use.names = FALSE)\n",
    "header3_filled <- data.frame(valor = header3) |>\n",
    "  fill(valor, .direction = \"down\") |>\n",
    "  pull(valor) \n",
    "# Asegurarse de que el primer valor no sea NA\n",
    "if (is.na(header3_filled[1])) {\n",
    "  header3_filled[1] <- \"_\"\n",
    "}\n",
    "\n",
    "#Combinar los encabezados para crear nombres de columnas únicos\n",
    "nombres_col <- mapply(function(h1, h2, h3) {\n",
    "  partes <- na.omit(c(h1, h2, h3))\n",
    "  paste(partes, collapse = \"_\")\n",
    "}, header1_filled, header2_filled, header3_filled)\n",
    "#Eliminar las filas de encabezados\n",
    "pobreza_edu <- pobreza_edu[-c(1:4), ]\n",
    "#Renombrar las columnas de la tabla de pobreza\n",
    "colnames(pobreza_edu) <- nombres_col\n",
    "#Limpiar los nombres de las columnas\n",
    "pobreza_edu <- pobreza_edu |>\n",
    "  janitor::clean_names()|>\n",
    "  select(entidades_federativas_e, pobreza_total2_porcentaje_2018, pobreza_total2_porcentaje_2020, pobreza_total2_porcentaje_2022)|>\n",
    "  mutate(across(2:4, ~ as.numeric(str_replace_all(., \",\", \"\"))))\n",
    "  \n",
    "#Seleccionamos las columnas de interes, en este caso los valores de pobreza total en porcentaje para los años 2018, 2020 y 2022\n",
    "pobreza_edu <- pobreza_edu |>\n",
    "  \n",
    "  rename(`2018` = pobreza_total2_porcentaje_2018,\n",
    "         `2020` = pobreza_total2_porcentaje_2020,\n",
    "         `2022` = pobreza_total2_porcentaje_2022) |>\n",
    "  filter(entidades_federativas_e == \"Ciudad de México\") |>\n",
    "  pivot_longer(cols = c(`2018`, `2020`, `2022`),\n",
    "               names_to = \"ano\",\n",
    "               values_to = \"porcentaje\")\n",
    "\n",
    "# Ver resultado\n",
    "pobreza_edu<-pobreza_edu|>\n",
    "  mutate(ano = as.numeric(ano)) |>\n",
    "  select(ano, porcentaje)|>\n",
    "  mutate(tipo = \"Observado\")\n",
    "\n",
    "pobreza_edu"
   ]
  },
  {
   "cell_type": "code",
   "execution_count": null,
   "id": "71252d2e",
   "metadata": {
    "vscode": {
     "languageId": "r"
    }
   },
   "outputs": [
    {
     "data": {
      "text/html": [
       "-0.0221341613262382"
      ],
      "text/latex": [
       "-0.0221341613262382"
      ],
      "text/markdown": [
       "-0.0221341613262382"
      ],
      "text/plain": [
       "[1] -0.02213416"
      ]
     },
     "metadata": {},
     "output_type": "display_data"
    },
    {
     "data": {
      "text/html": [
       "-0.0319812149975186"
      ],
      "text/latex": [
       "-0.0319812149975186"
      ],
      "text/markdown": [
       "-0.0319812149975186"
      ],
      "text/plain": [
       "[1] -0.03198121"
      ]
     },
     "metadata": {},
     "output_type": "display_data"
    },
    {
     "data": {
      "text/html": [
       "-0.0425978986024024"
      ],
      "text/latex": [
       "-0.0425978986024024"
      ],
      "text/markdown": [
       "-0.0425978986024024"
      ],
      "text/plain": [
       "[1] -0.0425979"
      ]
     },
     "metadata": {},
     "output_type": "display_data"
    }
   ],
   "source": [
    "\n",
    "#Metas establecidas por la SECTEI\n",
    "porcentaje <- data.frame(\n",
    "  ano = c(2030, 2035, 2045), \n",
    "  porcentaje = c(20, 17, 11))\n",
    "#TASAS GENERLES PARA CADA PERIODO\n",
    "año_bse <- pobreza_edu|>\n",
    "  filter(ano == 2022)\n",
    "\n",
    "#Tasas de cobertura para los años 2030, 2035 y 2045 (estas tasas son las metas establecidas por la SECTEI)\n",
    "t2030<-porcentaje|>\n",
    "filter(ano == 2030)\n",
    "t2035<-porcentaje|>\n",
    "filter(ano == 2035)\n",
    "t2045<-porcentaje|>\n",
    "filter(ano == 2045)\n",
    "\n",
    "tc1= (t2030$porcentaje / año_bse$porcentaje)^(1 / (2030 - 2022)) - 1\n",
    "tc2= (t2035$porcentaje / t2030$porcentaje)^(1 / (2035 - 2030)) - 1\n",
    "tc3= (t2045$porcentaje / t2035$porcentaje)^(1 / (2045 - 2035)) - 1\n",
    "\n",
    "tc1\n",
    "tc2\n",
    "tc3"
   ]
  },
  {
   "cell_type": "code",
   "execution_count": null,
   "id": "677b21a4",
   "metadata": {
    "vscode": {
     "languageId": "r"
    }
   },
   "outputs": [
    {
     "data": {
      "text/html": [
       "<table class=\"dataframe\">\n",
       "<caption>A tibble: 24 × 3</caption>\n",
       "<thead>\n",
       "\t<tr><th scope=col>ano</th><th scope=col>tipo</th><th scope=col>porcentaje</th></tr>\n",
       "\t<tr><th scope=col>&lt;dbl&gt;</th><th scope=col>&lt;chr&gt;</th><th scope=col>&lt;dbl&gt;</th></tr>\n",
       "</thead>\n",
       "<tbody>\n",
       "\t<tr><td>2018</td><td>Observado</td><td>25.429800</td></tr>\n",
       "\t<tr><td>2020</td><td>Observado</td><td>24.166270</td></tr>\n",
       "\t<tr><td>2022</td><td>Observado</td><td>23.921907</td></tr>\n",
       "\t<tr><td>2025</td><td>Deseable </td><td>16.649044</td></tr>\n",
       "\t<tr><td>2026</td><td>Deseable </td><td>16.305334</td></tr>\n",
       "\t<tr><td>2027</td><td>Deseable </td><td>15.968719</td></tr>\n",
       "\t<tr><td>2028</td><td>Deseable </td><td>15.639054</td></tr>\n",
       "\t<tr><td>2029</td><td>Deseable </td><td>15.316194</td></tr>\n",
       "\t<tr><td>2030</td><td>Deseable </td><td>15.000000</td></tr>\n",
       "\t<tr><td>2031</td><td>Deseable </td><td>14.576783</td></tr>\n",
       "\t<tr><td>2032</td><td>Deseable </td><td>14.165506</td></tr>\n",
       "\t<tr><td>2033</td><td>Deseable </td><td>13.765834</td></tr>\n",
       "\t<tr><td>2034</td><td>Deseable </td><td>13.377438</td></tr>\n",
       "\t<tr><td>2035</td><td>Deseable </td><td>13.000000</td></tr>\n",
       "\t<tr><td>2036</td><td>Deseable </td><td>12.530640</td></tr>\n",
       "\t<tr><td>2037</td><td>Deseable </td><td>12.078227</td></tr>\n",
       "\t<tr><td>2038</td><td>Deseable </td><td>11.642148</td></tr>\n",
       "\t<tr><td>2039</td><td>Deseable </td><td>11.221813</td></tr>\n",
       "\t<tr><td>2040</td><td>Deseable </td><td>10.816654</td></tr>\n",
       "\t<tr><td>2041</td><td>Deseable </td><td>10.426123</td></tr>\n",
       "\t<tr><td>2042</td><td>Deseable </td><td>10.049692</td></tr>\n",
       "\t<tr><td>2043</td><td>Deseable </td><td> 9.686852</td></tr>\n",
       "\t<tr><td>2044</td><td>Deseable </td><td> 9.337113</td></tr>\n",
       "\t<tr><td>2045</td><td>Deseable </td><td> 9.000000</td></tr>\n",
       "</tbody>\n",
       "</table>\n"
      ],
      "text/latex": [
       "A tibble: 24 × 3\n",
       "\\begin{tabular}{lll}\n",
       " ano & tipo & porcentaje\\\\\n",
       " <dbl> & <chr> & <dbl>\\\\\n",
       "\\hline\n",
       "\t 2018 & Observado & 25.429800\\\\\n",
       "\t 2020 & Observado & 24.166270\\\\\n",
       "\t 2022 & Observado & 23.921907\\\\\n",
       "\t 2025 & Deseable  & 16.649044\\\\\n",
       "\t 2026 & Deseable  & 16.305334\\\\\n",
       "\t 2027 & Deseable  & 15.968719\\\\\n",
       "\t 2028 & Deseable  & 15.639054\\\\\n",
       "\t 2029 & Deseable  & 15.316194\\\\\n",
       "\t 2030 & Deseable  & 15.000000\\\\\n",
       "\t 2031 & Deseable  & 14.576783\\\\\n",
       "\t 2032 & Deseable  & 14.165506\\\\\n",
       "\t 2033 & Deseable  & 13.765834\\\\\n",
       "\t 2034 & Deseable  & 13.377438\\\\\n",
       "\t 2035 & Deseable  & 13.000000\\\\\n",
       "\t 2036 & Deseable  & 12.530640\\\\\n",
       "\t 2037 & Deseable  & 12.078227\\\\\n",
       "\t 2038 & Deseable  & 11.642148\\\\\n",
       "\t 2039 & Deseable  & 11.221813\\\\\n",
       "\t 2040 & Deseable  & 10.816654\\\\\n",
       "\t 2041 & Deseable  & 10.426123\\\\\n",
       "\t 2042 & Deseable  & 10.049692\\\\\n",
       "\t 2043 & Deseable  &  9.686852\\\\\n",
       "\t 2044 & Deseable  &  9.337113\\\\\n",
       "\t 2045 & Deseable  &  9.000000\\\\\n",
       "\\end{tabular}\n"
      ],
      "text/markdown": [
       "\n",
       "A tibble: 24 × 3\n",
       "\n",
       "| ano &lt;dbl&gt; | tipo &lt;chr&gt; | porcentaje &lt;dbl&gt; |\n",
       "|---|---|---|\n",
       "| 2018 | Observado | 25.429800 |\n",
       "| 2020 | Observado | 24.166270 |\n",
       "| 2022 | Observado | 23.921907 |\n",
       "| 2025 | Deseable  | 16.649044 |\n",
       "| 2026 | Deseable  | 16.305334 |\n",
       "| 2027 | Deseable  | 15.968719 |\n",
       "| 2028 | Deseable  | 15.639054 |\n",
       "| 2029 | Deseable  | 15.316194 |\n",
       "| 2030 | Deseable  | 15.000000 |\n",
       "| 2031 | Deseable  | 14.576783 |\n",
       "| 2032 | Deseable  | 14.165506 |\n",
       "| 2033 | Deseable  | 13.765834 |\n",
       "| 2034 | Deseable  | 13.377438 |\n",
       "| 2035 | Deseable  | 13.000000 |\n",
       "| 2036 | Deseable  | 12.530640 |\n",
       "| 2037 | Deseable  | 12.078227 |\n",
       "| 2038 | Deseable  | 11.642148 |\n",
       "| 2039 | Deseable  | 11.221813 |\n",
       "| 2040 | Deseable  | 10.816654 |\n",
       "| 2041 | Deseable  | 10.426123 |\n",
       "| 2042 | Deseable  | 10.049692 |\n",
       "| 2043 | Deseable  |  9.686852 |\n",
       "| 2044 | Deseable  |  9.337113 |\n",
       "| 2045 | Deseable  |  9.000000 |\n",
       "\n"
      ],
      "text/plain": [
       "   ano  tipo      porcentaje\n",
       "1  2018 Observado 25.429800 \n",
       "2  2020 Observado 24.166270 \n",
       "3  2022 Observado 23.921907 \n",
       "4  2025 Deseable  16.649044 \n",
       "5  2026 Deseable  16.305334 \n",
       "6  2027 Deseable  15.968719 \n",
       "7  2028 Deseable  15.639054 \n",
       "8  2029 Deseable  15.316194 \n",
       "9  2030 Deseable  15.000000 \n",
       "10 2031 Deseable  14.576783 \n",
       "11 2032 Deseable  14.165506 \n",
       "12 2033 Deseable  13.765834 \n",
       "13 2034 Deseable  13.377438 \n",
       "14 2035 Deseable  13.000000 \n",
       "15 2036 Deseable  12.530640 \n",
       "16 2037 Deseable  12.078227 \n",
       "17 2038 Deseable  11.642148 \n",
       "18 2039 Deseable  11.221813 \n",
       "19 2040 Deseable  10.816654 \n",
       "20 2041 Deseable  10.426123 \n",
       "21 2042 Deseable  10.049692 \n",
       "22 2043 Deseable   9.686852 \n",
       "23 2044 Deseable   9.337113 \n",
       "24 2045 Deseable   9.000000 "
      ]
     },
     "metadata": {},
     "output_type": "display_data"
    }
   ],
   "source": [
    "#Proyecciones \n",
    "proyecciones_pobreza_edu <- data.frame(\n",
    "  ano = 2025:2045) |>\n",
    "  mutate(porcentaje = ifelse(ano < 2030,año_bse$porcentaje * (1 + tc1)^(ano - año_bse$ano),\n",
    "                         ifelse(ano == 2030, t2030$porcentaje,\n",
    "                                ifelse(ano < 2035, t2030$porcentaje * (1 + tc2)^(ano - t2030$ano),\n",
    "                                        ifelse(ano == 2035, t2035$porcentaje,\n",
    "                                                ifelse(ano < 2045, t2035$porcentaje * (1 + tc3)^(ano - t2035$ano),\n",
    "                                                       ifelse(ano == 2045, t2045$porcentaje, 0)))))), \n",
    "        tipo = \"Deseable\")\n",
    "\t\t\t\t\t\t\t\t\t   \n",
    "\t\t\t\t\t\t\t\t\t   \n",
    "pobreza_edu_proy <- pobreza_edu |>\n",
    "  select(ano, tipo, porcentaje)|>\n",
    "  bind_rows(proyecciones_pobreza_edu)\n",
    "\n",
    "  pobreza_edu_proy"
   ]
  },
  {
   "cell_type": "markdown",
   "id": "6cc46379",
   "metadata": {},
   "source": [
    "*Porcentaje de población de 15 años y más en rezago educativo*"
   ]
  },
  {
   "cell_type": "code",
   "execution_count": null,
   "id": "6f428ab3",
   "metadata": {
    "vscode": {
     "languageId": "r"
    }
   },
   "outputs": [],
   "source": [
    "leer_rezago <- function(anio) { \n",
    "  # URLs de descarga para los años disponibles\n",
    "  urls <- list(\n",
    "    \"2019\" = \"https://www.gob.mx/cms/uploads/attachment/file/976879/est_rez_2019_actualizado.xlsx\", \n",
    "    \"2020\" = \"https://www.gob.mx/cms/uploads/attachment/file/976878/est_rez_2020_actualizado.xlsx\", \n",
    "    \"2021\" = \"https://www.gob.mx/cms/uploads/attachment/file/976880/est_rez_2021_actualizado.xlsx\", \n",
    "    \"2022\" = \"https://www.gob.mx/cms/uploads/attachment/file/976881/est_rez_2022_actualizado.xlsx\", \n",
    "    \"2023\" = \"https://www.gob.mx/cms/uploads/attachment/file/976882/est_rez_2023_actualizado.xlsx\", \n",
    "    \"2024\" = \"https://www.gob.mx/cms/uploads/attachment/file/976883/est_rez_2024_actualizado.xlsx\"\n",
    "  )\n",
    "\n",
    "  #  URL del año\n",
    "  url <- urls[[as.character(anio)]]\n",
    "  \n",
    "  # Descargar el archivo y guardarlo en un archivo temporal\n",
    "  archivo_temp <- tempfile(fileext = \".xlsx\")\n",
    "  download.file(url, destfile = archivo_temp, mode = \"wb\")\n",
    "  \n",
    "  # Leer el archivo desde la hoja especificada\n",
    "  rez_edu <- readxl::read_excel(archivo_temp, skip = 8)|>\n",
    "    janitor::clean_names()\n",
    "  \n",
    "  return(rez_edu)\n",
    "}"
   ]
  },
  {
   "cell_type": "code",
   "execution_count": null,
   "id": "1ad19b51",
   "metadata": {
    "vscode": {
     "languageId": "r"
    }
   },
   "outputs": [
    {
     "name": "stderr",
     "output_type": "stream",
     "text": [
      "\u001b[1m\u001b[22mNew names:\n",
      "\u001b[36m•\u001b[39m `` -> `...2`\n",
      "\u001b[36m•\u001b[39m `Lugar` -> `Lugar...5`\n",
      "\u001b[36m•\u001b[39m `%` -> `%...6`\n",
      "\u001b[36m•\u001b[39m `Lugar` -> `Lugar...7`\n",
      "\u001b[36m•\u001b[39m `Lugar` -> `Lugar...9`\n",
      "\u001b[36m•\u001b[39m `%` -> `%...10`\n",
      "\u001b[36m•\u001b[39m `Lugar` -> `Lugar...11`\n",
      "\u001b[36m•\u001b[39m `Lugar` -> `Lugar...13`\n",
      "\u001b[36m•\u001b[39m `%` -> `%...14`\n",
      "\u001b[36m•\u001b[39m `Lugar` -> `Lugar...15`\n",
      "\u001b[36m•\u001b[39m `Lugar` -> `Lugar...17`\n",
      "\u001b[36m•\u001b[39m `%` -> `%...18`\n",
      "\u001b[36m•\u001b[39m `Lugar` -> `Lugar...19`\n",
      "\u001b[1m\u001b[22mNew names:\n",
      "\u001b[36m•\u001b[39m `` -> `...2`\n",
      "\u001b[36m•\u001b[39m `Lugar` -> `Lugar...5`\n",
      "\u001b[36m•\u001b[39m `%` -> `%...6`\n",
      "\u001b[36m•\u001b[39m `Lugar` -> `Lugar...7`\n",
      "\u001b[36m•\u001b[39m `Lugar` -> `Lugar...9`\n",
      "\u001b[36m•\u001b[39m `%` -> `%...10`\n",
      "\u001b[36m•\u001b[39m `Lugar` -> `Lugar...11`\n",
      "\u001b[36m•\u001b[39m `Lugar` -> `Lugar...13`\n",
      "\u001b[36m•\u001b[39m `%` -> `%...14`\n",
      "\u001b[36m•\u001b[39m `Lugar` -> `Lugar...15`\n",
      "\u001b[36m•\u001b[39m `Lugar` -> `Lugar...17`\n",
      "\u001b[36m•\u001b[39m `%` -> `%...18`\n",
      "\u001b[36m•\u001b[39m `Lugar` -> `Lugar...19`\n",
      "\u001b[1m\u001b[22mNew names:\n",
      "\u001b[36m•\u001b[39m `` -> `...2`\n",
      "\u001b[36m•\u001b[39m `Lugar` -> `Lugar...5`\n",
      "\u001b[36m•\u001b[39m `%` -> `%...6`\n",
      "\u001b[36m•\u001b[39m `Lugar` -> `Lugar...7`\n",
      "\u001b[36m•\u001b[39m `Lugar` -> `Lugar...9`\n",
      "\u001b[36m•\u001b[39m `%` -> `%...10`\n",
      "\u001b[36m•\u001b[39m `Lugar` -> `Lugar...11`\n",
      "\u001b[36m•\u001b[39m `Lugar` -> `Lugar...13`\n",
      "\u001b[36m•\u001b[39m `%` -> `%...14`\n",
      "\u001b[36m•\u001b[39m `Lugar` -> `Lugar...15`\n",
      "\u001b[36m•\u001b[39m `Lugar` -> `Lugar...17`\n",
      "\u001b[36m•\u001b[39m `%` -> `%...18`\n",
      "\u001b[36m•\u001b[39m `Lugar` -> `Lugar...19`\n",
      "\u001b[1m\u001b[22mNew names:\n",
      "\u001b[36m•\u001b[39m `` -> `...2`\n",
      "\u001b[36m•\u001b[39m `Lugar` -> `Lugar...5`\n",
      "\u001b[36m•\u001b[39m `%` -> `%...6`\n",
      "\u001b[36m•\u001b[39m `Lugar` -> `Lugar...7`\n",
      "\u001b[36m•\u001b[39m `Lugar` -> `Lugar...9`\n",
      "\u001b[36m•\u001b[39m `%` -> `%...10`\n",
      "\u001b[36m•\u001b[39m `Lugar` -> `Lugar...11`\n",
      "\u001b[36m•\u001b[39m `Lugar` -> `Lugar...13`\n",
      "\u001b[36m•\u001b[39m `%` -> `%...14`\n",
      "\u001b[36m•\u001b[39m `Lugar` -> `Lugar...15`\n",
      "\u001b[36m•\u001b[39m `Lugar` -> `Lugar...17`\n",
      "\u001b[36m•\u001b[39m `%` -> `%...18`\n",
      "\u001b[36m•\u001b[39m `Lugar` -> `Lugar...19`\n",
      "\u001b[1m\u001b[22mNew names:\n",
      "\u001b[36m•\u001b[39m `` -> `...2`\n",
      "\u001b[36m•\u001b[39m `Lugar` -> `Lugar...5`\n",
      "\u001b[36m•\u001b[39m `%` -> `%...6`\n",
      "\u001b[36m•\u001b[39m `Lugar` -> `Lugar...7`\n",
      "\u001b[36m•\u001b[39m `Lugar` -> `Lugar...9`\n",
      "\u001b[36m•\u001b[39m `%` -> `%...10`\n",
      "\u001b[36m•\u001b[39m `Lugar` -> `Lugar...11`\n",
      "\u001b[36m•\u001b[39m `Lugar` -> `Lugar...13`\n",
      "\u001b[36m•\u001b[39m `%` -> `%...14`\n",
      "\u001b[36m•\u001b[39m `Lugar` -> `Lugar...15`\n",
      "\u001b[36m•\u001b[39m `Lugar` -> `Lugar...17`\n",
      "\u001b[36m•\u001b[39m `%` -> `%...18`\n",
      "\u001b[36m•\u001b[39m `Lugar` -> `Lugar...19`\n",
      "\u001b[1m\u001b[22mNew names:\n",
      "\u001b[36m•\u001b[39m `` -> `...2`\n",
      "\u001b[36m•\u001b[39m `Lugar` -> `Lugar...5`\n",
      "\u001b[36m•\u001b[39m `%` -> `%...6`\n",
      "\u001b[36m•\u001b[39m `Lugar` -> `Lugar...7`\n",
      "\u001b[36m•\u001b[39m `Lugar` -> `Lugar...9`\n",
      "\u001b[36m•\u001b[39m `%` -> `%...10`\n",
      "\u001b[36m•\u001b[39m `Lugar` -> `Lugar...11`\n",
      "\u001b[36m•\u001b[39m `Lugar` -> `Lugar...13`\n",
      "\u001b[36m•\u001b[39m `%` -> `%...14`\n",
      "\u001b[36m•\u001b[39m `Lugar` -> `Lugar...15`\n",
      "\u001b[36m•\u001b[39m `Lugar` -> `Lugar...17`\n",
      "\u001b[36m•\u001b[39m `%` -> `%...18`\n",
      "\u001b[36m•\u001b[39m `Lugar` -> `Lugar...19`\n"
     ]
    }
   ],
   "source": [
    "# Leer los datos de rezago \n",
    "rz2019 <- leer_rezago(2019)\n",
    "rz2020 <- leer_rezago(2020)\n",
    "rz2021 <- leer_rezago(2021)\n",
    "rz2022 <- leer_rezago(2022)\n",
    "rz2023 <- leer_rezago(2023)\n",
    "rz2024 <- leer_rezago(2024)\n"
   ]
  },
  {
   "cell_type": "code",
   "execution_count": null,
   "id": "3b442e67",
   "metadata": {
    "vscode": {
     "languageId": "r"
    }
   },
   "outputs": [
    {
     "data": {
      "text/html": [
       "<table class=\"dataframe\">\n",
       "<caption>A tibble: 6 × 3</caption>\n",
       "<thead>\n",
       "\t<tr><th scope=col>ano</th><th scope=col>porcentaje</th><th scope=col>tipo</th></tr>\n",
       "\t<tr><th scope=col>&lt;dbl&gt;</th><th scope=col>&lt;dbl&gt;</th><th scope=col>&lt;chr&gt;</th></tr>\n",
       "</thead>\n",
       "<tbody>\n",
       "\t<tr><td>2019</td><td>18.0</td><td>Observado</td></tr>\n",
       "\t<tr><td>2020</td><td>18.0</td><td>Observado</td></tr>\n",
       "\t<tr><td>2021</td><td>17.8</td><td>Observado</td></tr>\n",
       "\t<tr><td>2022</td><td>17.4</td><td>Observado</td></tr>\n",
       "\t<tr><td>2023</td><td>16.9</td><td>Observado</td></tr>\n",
       "\t<tr><td>2024</td><td>17.0</td><td>Observado</td></tr>\n",
       "</tbody>\n",
       "</table>\n"
      ],
      "text/latex": [
       "A tibble: 6 × 3\n",
       "\\begin{tabular}{lll}\n",
       " ano & porcentaje & tipo\\\\\n",
       " <dbl> & <dbl> & <chr>\\\\\n",
       "\\hline\n",
       "\t 2019 & 18.0 & Observado\\\\\n",
       "\t 2020 & 18.0 & Observado\\\\\n",
       "\t 2021 & 17.8 & Observado\\\\\n",
       "\t 2022 & 17.4 & Observado\\\\\n",
       "\t 2023 & 16.9 & Observado\\\\\n",
       "\t 2024 & 17.0 & Observado\\\\\n",
       "\\end{tabular}\n"
      ],
      "text/markdown": [
       "\n",
       "A tibble: 6 × 3\n",
       "\n",
       "| ano &lt;dbl&gt; | porcentaje &lt;dbl&gt; | tipo &lt;chr&gt; |\n",
       "|---|---|---|\n",
       "| 2019 | 18.0 | Observado |\n",
       "| 2020 | 18.0 | Observado |\n",
       "| 2021 | 17.8 | Observado |\n",
       "| 2022 | 17.4 | Observado |\n",
       "| 2023 | 16.9 | Observado |\n",
       "| 2024 | 17.0 | Observado |\n",
       "\n"
      ],
      "text/plain": [
       "  ano  porcentaje tipo     \n",
       "1 2019 18.0       Observado\n",
       "2 2020 18.0       Observado\n",
       "3 2021 17.8       Observado\n",
       "4 2022 17.4       Observado\n",
       "5 2023 16.9       Observado\n",
       "6 2024 17.0       Observado"
      ]
     },
     "metadata": {},
     "output_type": "display_data"
    }
   ],
   "source": [
    "\n",
    "rz2019 <- rz2019[-1,-1]|>\n",
    "  rename(Entidad = x2)|>\n",
    "  filter(Entidad == \"Ciudad de México\")|>\n",
    "  mutate(ano = 2019)|>\n",
    "  select(ano,percent_18)\n",
    "\n",
    "rz2020 <- rz2020[-1,-1]|>\n",
    "  rename(Entidad = x2)|>\n",
    "  filter(Entidad == \"Ciudad de México\")|>\n",
    "  mutate(ano = 2020)|>\n",
    "  select(ano,percent_18)\n",
    "\n",
    "rz2021 <- rz2021[-1,-1]|>\n",
    "  rename(Entidad = x2)|>\n",
    "  filter(Entidad == \"Ciudad de México\")|>\n",
    "  mutate(ano = 2021)|>\n",
    "  select(ano,percent_18)\n",
    "\n",
    "rz2022 <- rz2022[-1,-1]|>\n",
    "  rename(Entidad = x2)|>\n",
    "  filter(Entidad == \"Ciudad de México\")|>\n",
    "  mutate(ano = 2022)|>\n",
    "  select(ano,percent_18)\n",
    "\n",
    "rz2023 <- rz2023[-1,-1]|>\n",
    "  rename(Entidad = x2)|>\n",
    "  filter(Entidad == \"Ciudad de México\")|>\n",
    "  mutate(ano = 2023)|>\n",
    "  select(ano,percent_18)\n",
    "\n",
    "rz2024 <- rz2024[-1,-1]|>\n",
    "  rename(Entidad = x2)|>\n",
    "  filter(Entidad == \"Ciudad de México\")|>\n",
    "  mutate(ano = 2024)|>\n",
    "  select(ano,percent_18)\n",
    "\n",
    "\n",
    "rezago_educacion<-rz2019|>\n",
    "  bind_rows(rz2020, rz2021, rz2022, rz2023, rz2024)|>  \n",
    "  rename(porcentaje = percent_18)|>\n",
    "  mutate(porcentaje = round(porcentaje, 1),\n",
    "          tipo = \"Observado\")\n",
    "\n",
    "rezago_educacion"
   ]
  },
  {
   "cell_type": "code",
   "execution_count": null,
   "id": "964edd12",
   "metadata": {
    "vscode": {
     "languageId": "r"
    }
   },
   "outputs": [
    {
     "data": {
      "text/html": [
       "-0.0206444481904172"
      ],
      "text/latex": [
       "-0.0206444481904172"
      ],
      "text/markdown": [
       "-0.0206444481904172"
      ],
      "text/plain": [
       "[1] -0.02064445"
      ]
     },
     "metadata": {},
     "output_type": "display_data"
    },
    {
     "data": {
      "text/html": [
       "-0.0282144910993144"
      ],
      "text/latex": [
       "-0.0282144910993144"
      ],
      "text/markdown": [
       "-0.0282144910993144"
      ],
      "text/plain": [
       "[1] -0.02821449"
      ]
     },
     "metadata": {},
     "output_type": "display_data"
    },
    {
     "data": {
      "text/html": [
       "-0.0361045821965122"
      ],
      "text/latex": [
       "-0.0361045821965122"
      ],
      "text/markdown": [
       "-0.0361045821965122"
      ],
      "text/plain": [
       "[1] -0.03610458"
      ]
     },
     "metadata": {},
     "output_type": "display_data"
    }
   ],
   "source": [
    "\n",
    "#Metas establecidas por la SECTEI\n",
    "porcentaje <- data.frame(\n",
    "  ano = c(2030, 2035, 2045), \n",
    "  porcentaje = c(15, 13, 9))\n",
    "#TASAS GENERLES PARA CADA PERIODO\n",
    "año_bse <- rezago_educacion|>\n",
    "  filter(ano == 2024)\n",
    "\n",
    "#Tasas de cobertura para los años 2030, 2035 y 2045 (estas tasas son las metas establecidas por la SECTEI)\n",
    "t2030<-porcentaje|>\n",
    "filter(ano == 2030)\n",
    "t2035<-porcentaje|>\n",
    "filter(ano == 2035)\n",
    "t2045<-porcentaje|>\n",
    "filter(ano == 2045)\n",
    "\n",
    "tc1= (t2030$porcentaje / año_bse$porcentaje)^(1 / (2030 - 2024)) - 1\n",
    "tc2= (t2035$porcentaje / t2030$porcentaje)^(1 / (2035 - 2030)) - 1\n",
    "tc3= (t2045$porcentaje / t2035$porcentaje)^(1 / (2045 - 2035)) - 1\n",
    "\n",
    "tc1\n",
    "tc2\n",
    "tc3"
   ]
  },
  {
   "cell_type": "code",
   "execution_count": null,
   "id": "47164a85",
   "metadata": {
    "vscode": {
     "languageId": "r"
    }
   },
   "outputs": [
    {
     "data": {
      "text/html": [
       "<table class=\"dataframe\">\n",
       "<caption>A tibble: 27 × 3</caption>\n",
       "<thead>\n",
       "\t<tr><th scope=col>ano</th><th scope=col>tipo</th><th scope=col>porcentaje</th></tr>\n",
       "\t<tr><th scope=col>&lt;dbl&gt;</th><th scope=col>&lt;chr&gt;</th><th scope=col>&lt;dbl&gt;</th></tr>\n",
       "</thead>\n",
       "<tbody>\n",
       "\t<tr><td>2019</td><td>Observado</td><td>18.000000</td></tr>\n",
       "\t<tr><td>2020</td><td>Observado</td><td>18.000000</td></tr>\n",
       "\t<tr><td>2021</td><td>Observado</td><td>17.800000</td></tr>\n",
       "\t<tr><td>2022</td><td>Observado</td><td>17.400000</td></tr>\n",
       "\t<tr><td>2023</td><td>Observado</td><td>16.900000</td></tr>\n",
       "\t<tr><td>2024</td><td>Observado</td><td>17.000000</td></tr>\n",
       "\t<tr><td>2025</td><td>Deseable </td><td>16.649044</td></tr>\n",
       "\t<tr><td>2026</td><td>Deseable </td><td>16.305334</td></tr>\n",
       "\t<tr><td>2027</td><td>Deseable </td><td>15.968719</td></tr>\n",
       "\t<tr><td>2028</td><td>Deseable </td><td>15.639054</td></tr>\n",
       "\t<tr><td>2029</td><td>Deseable </td><td>15.316194</td></tr>\n",
       "\t<tr><td>2030</td><td>Deseable </td><td>15.000000</td></tr>\n",
       "\t<tr><td>2031</td><td>Deseable </td><td>14.576783</td></tr>\n",
       "\t<tr><td>2032</td><td>Deseable </td><td>14.165506</td></tr>\n",
       "\t<tr><td>2033</td><td>Deseable </td><td>13.765834</td></tr>\n",
       "\t<tr><td>2034</td><td>Deseable </td><td>13.377438</td></tr>\n",
       "\t<tr><td>2035</td><td>Deseable </td><td>13.000000</td></tr>\n",
       "\t<tr><td>2036</td><td>Deseable </td><td>12.530640</td></tr>\n",
       "\t<tr><td>2037</td><td>Deseable </td><td>12.078227</td></tr>\n",
       "\t<tr><td>2038</td><td>Deseable </td><td>11.642148</td></tr>\n",
       "\t<tr><td>2039</td><td>Deseable </td><td>11.221813</td></tr>\n",
       "\t<tr><td>2040</td><td>Deseable </td><td>10.816654</td></tr>\n",
       "\t<tr><td>2041</td><td>Deseable </td><td>10.426123</td></tr>\n",
       "\t<tr><td>2042</td><td>Deseable </td><td>10.049692</td></tr>\n",
       "\t<tr><td>2043</td><td>Deseable </td><td> 9.686852</td></tr>\n",
       "\t<tr><td>2044</td><td>Deseable </td><td> 9.337113</td></tr>\n",
       "\t<tr><td>2045</td><td>Deseable </td><td> 9.000000</td></tr>\n",
       "</tbody>\n",
       "</table>\n"
      ],
      "text/latex": [
       "A tibble: 27 × 3\n",
       "\\begin{tabular}{lll}\n",
       " ano & tipo & porcentaje\\\\\n",
       " <dbl> & <chr> & <dbl>\\\\\n",
       "\\hline\n",
       "\t 2019 & Observado & 18.000000\\\\\n",
       "\t 2020 & Observado & 18.000000\\\\\n",
       "\t 2021 & Observado & 17.800000\\\\\n",
       "\t 2022 & Observado & 17.400000\\\\\n",
       "\t 2023 & Observado & 16.900000\\\\\n",
       "\t 2024 & Observado & 17.000000\\\\\n",
       "\t 2025 & Deseable  & 16.649044\\\\\n",
       "\t 2026 & Deseable  & 16.305334\\\\\n",
       "\t 2027 & Deseable  & 15.968719\\\\\n",
       "\t 2028 & Deseable  & 15.639054\\\\\n",
       "\t 2029 & Deseable  & 15.316194\\\\\n",
       "\t 2030 & Deseable  & 15.000000\\\\\n",
       "\t 2031 & Deseable  & 14.576783\\\\\n",
       "\t 2032 & Deseable  & 14.165506\\\\\n",
       "\t 2033 & Deseable  & 13.765834\\\\\n",
       "\t 2034 & Deseable  & 13.377438\\\\\n",
       "\t 2035 & Deseable  & 13.000000\\\\\n",
       "\t 2036 & Deseable  & 12.530640\\\\\n",
       "\t 2037 & Deseable  & 12.078227\\\\\n",
       "\t 2038 & Deseable  & 11.642148\\\\\n",
       "\t 2039 & Deseable  & 11.221813\\\\\n",
       "\t 2040 & Deseable  & 10.816654\\\\\n",
       "\t 2041 & Deseable  & 10.426123\\\\\n",
       "\t 2042 & Deseable  & 10.049692\\\\\n",
       "\t 2043 & Deseable  &  9.686852\\\\\n",
       "\t 2044 & Deseable  &  9.337113\\\\\n",
       "\t 2045 & Deseable  &  9.000000\\\\\n",
       "\\end{tabular}\n"
      ],
      "text/markdown": [
       "\n",
       "A tibble: 27 × 3\n",
       "\n",
       "| ano &lt;dbl&gt; | tipo &lt;chr&gt; | porcentaje &lt;dbl&gt; |\n",
       "|---|---|---|\n",
       "| 2019 | Observado | 18.000000 |\n",
       "| 2020 | Observado | 18.000000 |\n",
       "| 2021 | Observado | 17.800000 |\n",
       "| 2022 | Observado | 17.400000 |\n",
       "| 2023 | Observado | 16.900000 |\n",
       "| 2024 | Observado | 17.000000 |\n",
       "| 2025 | Deseable  | 16.649044 |\n",
       "| 2026 | Deseable  | 16.305334 |\n",
       "| 2027 | Deseable  | 15.968719 |\n",
       "| 2028 | Deseable  | 15.639054 |\n",
       "| 2029 | Deseable  | 15.316194 |\n",
       "| 2030 | Deseable  | 15.000000 |\n",
       "| 2031 | Deseable  | 14.576783 |\n",
       "| 2032 | Deseable  | 14.165506 |\n",
       "| 2033 | Deseable  | 13.765834 |\n",
       "| 2034 | Deseable  | 13.377438 |\n",
       "| 2035 | Deseable  | 13.000000 |\n",
       "| 2036 | Deseable  | 12.530640 |\n",
       "| 2037 | Deseable  | 12.078227 |\n",
       "| 2038 | Deseable  | 11.642148 |\n",
       "| 2039 | Deseable  | 11.221813 |\n",
       "| 2040 | Deseable  | 10.816654 |\n",
       "| 2041 | Deseable  | 10.426123 |\n",
       "| 2042 | Deseable  | 10.049692 |\n",
       "| 2043 | Deseable  |  9.686852 |\n",
       "| 2044 | Deseable  |  9.337113 |\n",
       "| 2045 | Deseable  |  9.000000 |\n",
       "\n"
      ],
      "text/plain": [
       "   ano  tipo      porcentaje\n",
       "1  2019 Observado 18.000000 \n",
       "2  2020 Observado 18.000000 \n",
       "3  2021 Observado 17.800000 \n",
       "4  2022 Observado 17.400000 \n",
       "5  2023 Observado 16.900000 \n",
       "6  2024 Observado 17.000000 \n",
       "7  2025 Deseable  16.649044 \n",
       "8  2026 Deseable  16.305334 \n",
       "9  2027 Deseable  15.968719 \n",
       "10 2028 Deseable  15.639054 \n",
       "11 2029 Deseable  15.316194 \n",
       "12 2030 Deseable  15.000000 \n",
       "13 2031 Deseable  14.576783 \n",
       "14 2032 Deseable  14.165506 \n",
       "15 2033 Deseable  13.765834 \n",
       "16 2034 Deseable  13.377438 \n",
       "17 2035 Deseable  13.000000 \n",
       "18 2036 Deseable  12.530640 \n",
       "19 2037 Deseable  12.078227 \n",
       "20 2038 Deseable  11.642148 \n",
       "21 2039 Deseable  11.221813 \n",
       "22 2040 Deseable  10.816654 \n",
       "23 2041 Deseable  10.426123 \n",
       "24 2042 Deseable  10.049692 \n",
       "25 2043 Deseable   9.686852 \n",
       "26 2044 Deseable   9.337113 \n",
       "27 2045 Deseable   9.000000 "
      ]
     },
     "metadata": {},
     "output_type": "display_data"
    }
   ],
   "source": [
    "#Proyecciones \n",
    "proyecciones_rezago_educacion <- data.frame(\n",
    "  ano = 2025:2045) |>\n",
    "  mutate(porcentaje = ifelse(ano < 2030,año_bse$porcentaje * (1 + tc1)^(ano - año_bse$ano),\n",
    "                         ifelse(ano == 2030, t2030$porcentaje,\n",
    "                                ifelse(ano < 2035, t2030$porcentaje * (1 + tc2)^(ano - t2030$ano),\n",
    "                                        ifelse(ano == 2035, t2035$porcentaje,\n",
    "                                                ifelse(ano < 2045, t2035$porcentaje * (1 + tc3)^(ano - t2035$ano),\n",
    "                                                       ifelse(ano == 2045, t2045$porcentaje, 0)))))), \n",
    "          tipo = \"Deseable\")\n",
    "\n",
    "\t\t\t\t\t\t\t\t\t   \n",
    "rezago_educacion_proy <- rezago_educacion |>\n",
    "  select(ano, tipo, porcentaje)|>\n",
    "  bind_rows(proyecciones_rezago_educacion)\n",
    "\n",
    "rezago_educacion_proy\n"
   ]
  },
  {
   "cell_type": "markdown",
   "id": "f7284543",
   "metadata": {},
   "source": [
    "*Porcentaje de integrantes del SNII en áreas del conocimiento STEM*"
   ]
  },
  {
   "cell_type": "code",
   "execution_count": null,
   "id": "16e1b623",
   "metadata": {
    "vscode": {
     "languageId": "r"
    }
   },
   "outputs": [],
   "source": [
    "leer_snii <- function(anio) {\n",
    "  # URLs de descarga para los años disponibles\n",
    "  urls <- list(\n",
    "    \"2018\" = \"https://secihti.mx/wp-content/uploads/sni/archivo_historico/Investigadores_Vigentes_2018.xlsx\",\n",
    "    \"2019\" = \"https://secihti.mx/wp-content/uploads/sni/archivo_historico/Investigadores_Vigentes_2019.xlsx\", \n",
    "    \"2020\" = \"https://secihti.mx/wp-content/uploads/sni/archivo_historico/Investigadores_Vigentes_2020.xlsx\", \n",
    "    \"2021\" = \"https://secihti.mx/wp-content/uploads/sni/archivo_historico/Padron_de_Beneficiarios_2021.xlsx\", \n",
    "    \"2022\" = \"https://secihti.mx/wp-content/uploads/sni/padron_de_beneficiarios/2022/Padron_de_Beneficiarios_2022_actualizado_julio_2.xlsx\", \n",
    "    \"2023\" = \"https://secihti.mx/wp-content/uploads/sni/archivo_historico/Investigadores_vigentes_2023.xlsx\", \n",
    "    \"2024\" = \"https://secihti.mx/wp-content/uploads/sni/archivo_historico/Padron_de_Investigadores_Vigentes_2024.xlsx\"\n",
    "  )\n",
    "  \n",
    "  # Obtener URL correspondiente\n",
    "  url <- urls[[as.character(anio)]]\n",
    "  if (is.null(url)) stop(\"Año no disponible.\")\n",
    "  \n",
    "  # Descargar archivo temporal\n",
    "  archivo_temp <- tempfile(fileext = \".xlsx\")\n",
    "  download.file(url, destfile = archivo_temp, mode = \"wb\")\n",
    "  \n",
    "  # Leer según el año\n",
    "  if (anio == 2022) {\n",
    "    reg_snii <- readxl::read_excel(archivo_temp, sheet = 3, col_types = \"text\") |> \n",
    "      janitor::clean_names()\n",
    "    \n",
    "  } else if (anio %in% c(2023, 2024)) {\n",
    "    reg_snii <- readxl::read_excel(archivo_temp, sheet = 4, col_types = \"text\") |> \n",
    "      janitor::clean_names()\n",
    "    \n",
    "  } else {\n",
    "    hojas <- readxl::excel_sheets(archivo_temp)\n",
    "    reg_snii <- lapply(hojas, function(hoja) {\n",
    "      readxl::read_excel(archivo_temp, sheet = hoja, col_types = \"text\") |> \n",
    "        janitor::clean_names()\n",
    "    }) |> \n",
    "      dplyr::bind_rows()\n",
    "  }\n",
    "  \n",
    "  return(reg_snii)\n",
    "}"
   ]
  },
  {
   "cell_type": "code",
   "execution_count": null,
   "id": "d643f880",
   "metadata": {
    "vscode": {
     "languageId": "r"
    }
   },
   "outputs": [],
   "source": [
    "#Leer las bases del SNI de los años 2018 a 2024\n",
    "snii2018 <-leer_snii(2018)|>\n",
    "  filter(area_del_conocimiento %in% c(\"I.- FÍSICO-MATEMÁTICAS Y CIENCIAS DE LA TIERRA\",\n",
    "                                      \"II.- BIOLOGÍA Y QUÍMICA\", \n",
    "                                      \"III.- MEDICINA Y CIENCIAS DE LA SALUD\", \n",
    "                                      \"VII.- INGENIERÍAS\"))\n",
    "\n",
    "snii2019 <-leer_snii(2019)|>\n",
    "  filter(area_del_conocimiento %in% c(\"I.- FÍSICO-MATEMÁTICAS Y CIENCIAS DE LA TIERRA\",\n",
    "                                      \"II.- BIOLOGÍA Y QUÍMICA\", \n",
    "                                      \"III.- MEDICINA Y CIENCIAS DE LA SALUD\", \n",
    "                                      \"VII.- INGENIERÍAS\"))\n",
    "snii2020 <-leer_snii(2020)|>\n",
    "  filter(area_del_conocimiento %in% c(\"I.- FÍSICO-MATEMÁTICAS Y CIENCIAS DE LA TIERRA\",\n",
    "                                      \"II.- BIOLOGÍA Y QUÍMICA\", \n",
    "                                      \"III.- MEDICINA Y CIENCIAS DE LA SALUD\", \n",
    "                                      \"VII.- INGENIERÍAS\"))\n",
    "snii2021 <-leer_snii(2021)|>\n",
    "  filter(area_del_conocimiento %in% c(\"I.- FÍSICO-MATEMÁTICAS Y CIENCIAS DE LA TIERRA\",\n",
    "                                      \"II.- BIOLOGÍA Y QUÍMICA\", \n",
    "                                      \"III.- MEDICINA Y CIENCIAS DE LA SALUD\", \n",
    "                                      \"VII.- INGENIERÍAS\"))\n",
    "snii2022 <-leer_snii(2022)|>\n",
    "  filter(area_del_conocimiento %in% c(\"I.- FÍSICO-MATEMÁTICAS Y CIENCIAS DE LA TIERRA\",\n",
    "                                      \"II.- BIOLOGÍA Y QUÍMICA\", \n",
    "                                      \"III.- MEDICINA Y CIENCIAS DE LA SALUD\", \n",
    "                                      \"VIII.- INGENIERÍAS Y DESARROLLO TECNOLÓGICO\", \n",
    "                                      \"Físico-Matemáticas y Ciencias de la Tierra\", \n",
    "                                      \"Medicina y Ciencias de la Salud\",\n",
    "                                      \"Biología y Química\"))\n",
    "\n",
    "snii2023 <-leer_snii(2023)|>\n",
    "  filter(area_del_conocimiento %in% c(\"FÍSICO-MATEMÁTICAS Y CIENCIAS DE LA TIERRA\",\n",
    "                                      \"BIOLOGÍA Y QUÍMICA\", \n",
    "                                      \"MEDICINA Y CIENCIAS DE LA SALUD\", \n",
    "                                      \"INGENIERÍAS Y DESARROLLO TECNOLÓGICO\"))\n",
    "snii2024 <-leer_snii(2024)|>\n",
    "  filter(area_de_conocimiento %in% c(\"FÍSICO-MATEMÁTICAS Y CIENCIAS DE LA TIERRA\",\n",
    "                                      \"BIOLOGÍA Y QUÍMICA\", \n",
    "                                      \"MEDICINA Y CIENCIAS DE LA SALUD\", \n",
    "                                      \"INGENIERÍAS Y DESARROLLO TECNOLÓGICO\"))"
   ]
  },
  {
   "cell_type": "code",
   "execution_count": null,
   "id": "5af22d5d",
   "metadata": {
    "vscode": {
     "languageId": "r"
    }
   },
   "outputs": [
    {
     "data": {
      "text/html": [
       "<table class=\"dataframe\">\n",
       "<caption>A tibble: 1 × 2</caption>\n",
       "<thead>\n",
       "\t<tr><th scope=col>nacional</th><th scope=col>ano</th></tr>\n",
       "\t<tr><th scope=col>&lt;int&gt;</th><th scope=col>&lt;dbl&gt;</th></tr>\n",
       "</thead>\n",
       "<tbody>\n",
       "\t<tr><td>16280</td><td>2018</td></tr>\n",
       "</tbody>\n",
       "</table>\n"
      ],
      "text/latex": [
       "A tibble: 1 × 2\n",
       "\\begin{tabular}{ll}\n",
       " nacional & ano\\\\\n",
       " <int> & <dbl>\\\\\n",
       "\\hline\n",
       "\t 16280 & 2018\\\\\n",
       "\\end{tabular}\n"
      ],
      "text/markdown": [
       "\n",
       "A tibble: 1 × 2\n",
       "\n",
       "| nacional &lt;int&gt; | ano &lt;dbl&gt; |\n",
       "|---|---|\n",
       "| 16280 | 2018 |\n",
       "\n"
      ],
      "text/plain": [
       "  nacional ano \n",
       "1 16280    2018"
      ]
     },
     "metadata": {},
     "output_type": "display_data"
    },
    {
     "data": {
      "text/html": [
       "<table class=\"dataframe\">\n",
       "<caption>A tibble: 7 × 2</caption>\n",
       "<thead>\n",
       "\t<tr><th scope=col>nacional</th><th scope=col>ano</th></tr>\n",
       "\t<tr><th scope=col>&lt;int&gt;</th><th scope=col>&lt;dbl&gt;</th></tr>\n",
       "</thead>\n",
       "<tbody>\n",
       "\t<tr><td>16280</td><td>2018</td></tr>\n",
       "\t<tr><td>17243</td><td>2019</td></tr>\n",
       "\t<tr><td>18445</td><td>2020</td></tr>\n",
       "\t<tr><td>19343</td><td>2021</td></tr>\n",
       "\t<tr><td>19554</td><td>2022</td></tr>\n",
       "\t<tr><td>21702</td><td>2023</td></tr>\n",
       "\t<tr><td>22414</td><td>2024</td></tr>\n",
       "</tbody>\n",
       "</table>\n"
      ],
      "text/latex": [
       "A tibble: 7 × 2\n",
       "\\begin{tabular}{ll}\n",
       " nacional & ano\\\\\n",
       " <int> & <dbl>\\\\\n",
       "\\hline\n",
       "\t 16280 & 2018\\\\\n",
       "\t 17243 & 2019\\\\\n",
       "\t 18445 & 2020\\\\\n",
       "\t 19343 & 2021\\\\\n",
       "\t 19554 & 2022\\\\\n",
       "\t 21702 & 2023\\\\\n",
       "\t 22414 & 2024\\\\\n",
       "\\end{tabular}\n"
      ],
      "text/markdown": [
       "\n",
       "A tibble: 7 × 2\n",
       "\n",
       "| nacional &lt;int&gt; | ano &lt;dbl&gt; |\n",
       "|---|---|\n",
       "| 16280 | 2018 |\n",
       "| 17243 | 2019 |\n",
       "| 18445 | 2020 |\n",
       "| 19343 | 2021 |\n",
       "| 19554 | 2022 |\n",
       "| 21702 | 2023 |\n",
       "| 22414 | 2024 |\n",
       "\n"
      ],
      "text/plain": [
       "  nacional ano \n",
       "1 16280    2018\n",
       "2 17243    2019\n",
       "3 18445    2020\n",
       "4 19343    2021\n",
       "5 19554    2022\n",
       "6 21702    2023\n",
       "7 22414    2024"
      ]
     },
     "metadata": {},
     "output_type": "display_data"
    },
    {
     "data": {
      "text/html": [
       "<table class=\"dataframe\">\n",
       "<caption>A tibble: 1 × 3</caption>\n",
       "<thead>\n",
       "\t<tr><th scope=col>entidad_federativa</th><th scope=col>cdmx</th><th scope=col>ano</th></tr>\n",
       "\t<tr><th scope=col>&lt;chr&gt;</th><th scope=col>&lt;int&gt;</th><th scope=col>&lt;dbl&gt;</th></tr>\n",
       "</thead>\n",
       "<tbody>\n",
       "\t<tr><td>CIUDAD DE MÉXICO</td><td>5217</td><td>2018</td></tr>\n",
       "</tbody>\n",
       "</table>\n"
      ],
      "text/latex": [
       "A tibble: 1 × 3\n",
       "\\begin{tabular}{lll}\n",
       " entidad\\_federativa & cdmx & ano\\\\\n",
       " <chr> & <int> & <dbl>\\\\\n",
       "\\hline\n",
       "\t CIUDAD DE MÉXICO & 5217 & 2018\\\\\n",
       "\\end{tabular}\n"
      ],
      "text/markdown": [
       "\n",
       "A tibble: 1 × 3\n",
       "\n",
       "| entidad_federativa &lt;chr&gt; | cdmx &lt;int&gt; | ano &lt;dbl&gt; |\n",
       "|---|---|---|\n",
       "| CIUDAD DE MÉXICO | 5217 | 2018 |\n",
       "\n"
      ],
      "text/plain": [
       "  entidad_federativa cdmx ano \n",
       "1 CIUDAD DE MÉXICO   5217 2018"
      ]
     },
     "metadata": {},
     "output_type": "display_data"
    },
    {
     "data": {
      "text/html": [
       "<table class=\"dataframe\">\n",
       "<caption>A tibble: 7 × 2</caption>\n",
       "<thead>\n",
       "\t<tr><th scope=col>ano</th><th scope=col>cdmx</th></tr>\n",
       "\t<tr><th scope=col>&lt;dbl&gt;</th><th scope=col>&lt;int&gt;</th></tr>\n",
       "</thead>\n",
       "<tbody>\n",
       "\t<tr><td>2018</td><td>5217</td></tr>\n",
       "\t<tr><td>2019</td><td>5297</td></tr>\n",
       "\t<tr><td>2020</td><td>5427</td></tr>\n",
       "\t<tr><td>2021</td><td>5594</td></tr>\n",
       "\t<tr><td>2022</td><td>6645</td></tr>\n",
       "\t<tr><td>2023</td><td>7903</td></tr>\n",
       "\t<tr><td>2024</td><td>8063</td></tr>\n",
       "</tbody>\n",
       "</table>\n"
      ],
      "text/latex": [
       "A tibble: 7 × 2\n",
       "\\begin{tabular}{ll}\n",
       " ano & cdmx\\\\\n",
       " <dbl> & <int>\\\\\n",
       "\\hline\n",
       "\t 2018 & 5217\\\\\n",
       "\t 2019 & 5297\\\\\n",
       "\t 2020 & 5427\\\\\n",
       "\t 2021 & 5594\\\\\n",
       "\t 2022 & 6645\\\\\n",
       "\t 2023 & 7903\\\\\n",
       "\t 2024 & 8063\\\\\n",
       "\\end{tabular}\n"
      ],
      "text/markdown": [
       "\n",
       "A tibble: 7 × 2\n",
       "\n",
       "| ano &lt;dbl&gt; | cdmx &lt;int&gt; |\n",
       "|---|---|\n",
       "| 2018 | 5217 |\n",
       "| 2019 | 5297 |\n",
       "| 2020 | 5427 |\n",
       "| 2021 | 5594 |\n",
       "| 2022 | 6645 |\n",
       "| 2023 | 7903 |\n",
       "| 2024 | 8063 |\n",
       "\n"
      ],
      "text/plain": [
       "  ano  cdmx\n",
       "1 2018 5217\n",
       "2 2019 5297\n",
       "3 2020 5427\n",
       "4 2021 5594\n",
       "5 2022 6645\n",
       "6 2023 7903\n",
       "7 2024 8063"
      ]
     },
     "metadata": {},
     "output_type": "display_data"
    }
   ],
   "source": [
    "#Obtener los totales nacionales y de la Ciudad de México\n",
    "snii2018_nac<-snii2018|>\n",
    "  summarise(nacional = n())|>\n",
    "  mutate(ano = 2018)\n",
    "\n",
    "snii2018_nac\n",
    "\n",
    "snii2019_nac<-snii2019|>\n",
    "  summarise(nacional = n())|>\n",
    "  mutate(ano = 2019)\n",
    "\n",
    "snii2020_nac<-snii2020|>\n",
    "  summarise(nacional = n())|>\n",
    "  mutate(ano = 2020)\n",
    "\n",
    "snii2021_nac<-snii2021|>\n",
    "  summarise(nacional = n())|>\n",
    "  mutate(ano = 2021)\n",
    "\n",
    "snii2022_nac<-snii2022|>\n",
    "  summarise(nacional = n())|>\n",
    "  mutate(ano = 2022)\n",
    "\n",
    "snii2023_nac<-snii2023|>\n",
    "  summarise(nacional = n())|>\n",
    "  mutate(ano = 2023)\n",
    "\n",
    "snii2024_nac<-snii2024|>\n",
    "  summarise(nacional = n())|>\n",
    "  mutate(ano = 2024)\n",
    "\n",
    "nacional_snii<-snii2018_nac|>\n",
    "  bind_rows(snii2019_nac,snii2020_nac, snii2021_nac,snii2022_nac, snii2023_nac, snii2024_nac)\n",
    "\n",
    "nacional_snii\n",
    "\n",
    "snii2018_cdmx<-snii2018|>\n",
    "  group_by(entidad_federativa)|>\n",
    "  summarise(cdmx = n())|>\n",
    "  filter(entidad_federativa==\"CIUDAD DE MÉXICO\")|>\n",
    "  mutate(ano = 2018)\n",
    "\n",
    "snii2018_cdmx\n",
    "\n",
    "snii2019_cdmx<-snii2019|>\n",
    "  group_by(entidad_federativa)|>\n",
    "  summarise(cdmx = n())|>\n",
    "  filter(entidad_federativa==\"CIUDAD DE MÉXICO\")|>\n",
    "  mutate(ano = 2019)\n",
    "\n",
    "snii2020_cdmx<-snii2020|>\n",
    "  group_by(entidad_federativa)|>\n",
    "  summarise(cdmx = n())|>\n",
    "  filter(entidad_federativa==\"CIUDAD DE MÉXICO\")|>\n",
    "  mutate(ano = 2020)\n",
    "\n",
    "snii2021_cdmx<-snii2021|>\n",
    "  group_by(entidad_federativa)|>\n",
    "  summarise(cdmx = n())|>\n",
    "  filter(entidad_federativa==\"CIUDAD DE MÉXICO\")|>\n",
    "  mutate(ano = 2021)\n",
    "\n",
    "snii2022_cdmx<-snii2022|>\n",
    "  group_by(entidad_federativa_de_adscripcion)|>\n",
    "  summarise(cdmx = n())|>\n",
    "  filter(entidad_federativa_de_adscripcion==\"CIUDAD DE MÉXICO\")|>\n",
    "  mutate(ano = 2022)\n",
    "\n",
    "snii2023_cdmx<-snii2023|>\n",
    "  group_by(entidad_federativa_de_adscripcion)|>\n",
    "  summarise(cdmx = n())|>\n",
    "  filter(entidad_federativa_de_adscripcion==\"CIUDAD DE MÉXICO\")|>\n",
    "  mutate(ano = 2023)\n",
    "         \n",
    "snii2024_cdmx<-snii2024|>\n",
    "  group_by(entidad_de_acreditacion)|>\n",
    "  summarise(cdmx = n())|>\n",
    "  filter(entidad_de_acreditacion==\"CIUDAD DE MÉXICO\")|>\n",
    "  mutate(ano = 2024)\n",
    "\n",
    "cdmx_snii<-snii2018_cdmx|>\n",
    "  bind_rows(snii2019_cdmx,snii2020_cdmx, snii2021_cdmx,snii2022_cdmx, snii2023_cdmx,snii2024_cdmx)|>\n",
    "  select(ano, cdmx)\n",
    "\n",
    "cdmx_snii"
   ]
  },
  {
   "cell_type": "code",
   "execution_count": null,
   "id": "868889b5",
   "metadata": {
    "vscode": {
     "languageId": "r"
    }
   },
   "outputs": [
    {
     "data": {
      "text/html": [
       "<table class=\"dataframe\">\n",
       "<caption>A tibble: 7 × 5</caption>\n",
       "<thead>\n",
       "\t<tr><th scope=col>nacional</th><th scope=col>ano</th><th scope=col>cdmx</th><th scope=col>porcentaje</th><th scope=col>tipo</th></tr>\n",
       "\t<tr><th scope=col>&lt;int&gt;</th><th scope=col>&lt;dbl&gt;</th><th scope=col>&lt;int&gt;</th><th scope=col>&lt;dbl&gt;</th><th scope=col>&lt;chr&gt;</th></tr>\n",
       "</thead>\n",
       "<tbody>\n",
       "\t<tr><td>16280</td><td>2018</td><td>5217</td><td>32.04545</td><td>Observado</td></tr>\n",
       "\t<tr><td>17243</td><td>2019</td><td>5297</td><td>30.71971</td><td>Observado</td></tr>\n",
       "\t<tr><td>18445</td><td>2020</td><td>5427</td><td>29.42261</td><td>Observado</td></tr>\n",
       "\t<tr><td>19343</td><td>2021</td><td>5594</td><td>28.92002</td><td>Observado</td></tr>\n",
       "\t<tr><td>19554</td><td>2022</td><td>6645</td><td>33.98282</td><td>Observado</td></tr>\n",
       "\t<tr><td>21702</td><td>2023</td><td>7903</td><td>36.41600</td><td>Observado</td></tr>\n",
       "\t<tr><td>22414</td><td>2024</td><td>8063</td><td>35.97305</td><td>Observado</td></tr>\n",
       "</tbody>\n",
       "</table>\n"
      ],
      "text/latex": [
       "A tibble: 7 × 5\n",
       "\\begin{tabular}{lllll}\n",
       " nacional & ano & cdmx & porcentaje & tipo\\\\\n",
       " <int> & <dbl> & <int> & <dbl> & <chr>\\\\\n",
       "\\hline\n",
       "\t 16280 & 2018 & 5217 & 32.04545 & Observado\\\\\n",
       "\t 17243 & 2019 & 5297 & 30.71971 & Observado\\\\\n",
       "\t 18445 & 2020 & 5427 & 29.42261 & Observado\\\\\n",
       "\t 19343 & 2021 & 5594 & 28.92002 & Observado\\\\\n",
       "\t 19554 & 2022 & 6645 & 33.98282 & Observado\\\\\n",
       "\t 21702 & 2023 & 7903 & 36.41600 & Observado\\\\\n",
       "\t 22414 & 2024 & 8063 & 35.97305 & Observado\\\\\n",
       "\\end{tabular}\n"
      ],
      "text/markdown": [
       "\n",
       "A tibble: 7 × 5\n",
       "\n",
       "| nacional &lt;int&gt; | ano &lt;dbl&gt; | cdmx &lt;int&gt; | porcentaje &lt;dbl&gt; | tipo &lt;chr&gt; |\n",
       "|---|---|---|---|---|\n",
       "| 16280 | 2018 | 5217 | 32.04545 | Observado |\n",
       "| 17243 | 2019 | 5297 | 30.71971 | Observado |\n",
       "| 18445 | 2020 | 5427 | 29.42261 | Observado |\n",
       "| 19343 | 2021 | 5594 | 28.92002 | Observado |\n",
       "| 19554 | 2022 | 6645 | 33.98282 | Observado |\n",
       "| 21702 | 2023 | 7903 | 36.41600 | Observado |\n",
       "| 22414 | 2024 | 8063 | 35.97305 | Observado |\n",
       "\n"
      ],
      "text/plain": [
       "  nacional ano  cdmx porcentaje tipo     \n",
       "1 16280    2018 5217 32.04545   Observado\n",
       "2 17243    2019 5297 30.71971   Observado\n",
       "3 18445    2020 5427 29.42261   Observado\n",
       "4 19343    2021 5594 28.92002   Observado\n",
       "5 19554    2022 6645 33.98282   Observado\n",
       "6 21702    2023 7903 36.41600   Observado\n",
       "7 22414    2024 8063 35.97305   Observado"
      ]
     },
     "metadata": {},
     "output_type": "display_data"
    }
   ],
   "source": [
    "#Porcentaje de integrantes del SNII en áreas del conocimiento STEM\n",
    "porcentaje_part_snii<-nacional_snii|>\n",
    "  left_join(cdmx_snii, by = \"ano\")|>\n",
    "  mutate(porcentaje = (cdmx*100)/nacional,\n",
    "          tipo = \"Observado\")\n",
    "\n",
    "porcentaje_part_snii"
   ]
  },
  {
   "cell_type": "code",
   "execution_count": null,
   "id": "88585274",
   "metadata": {
    "vscode": {
     "languageId": "r"
    }
   },
   "outputs": [
    {
     "data": {
      "text/html": [
       "0.0178421929282855"
      ],
      "text/latex": [
       "0.0178421929282855"
      ],
      "text/markdown": [
       "0.0178421929282855"
      ],
      "text/plain": [
       "[1] 0.01784219"
      ]
     },
     "metadata": {},
     "output_type": "display_data"
    },
    {
     "data": {
      "text/html": [
       "0.0192448764914566"
      ],
      "text/latex": [
       "0.0192448764914566"
      ],
      "text/markdown": [
       "0.0192448764914566"
      ],
      "text/plain": [
       "[1] 0.01924488"
      ]
     },
     "metadata": {},
     "output_type": "display_data"
    },
    {
     "data": {
      "text/html": [
       "0.0168457240564814"
      ],
      "text/latex": [
       "0.0168457240564814"
      ],
      "text/markdown": [
       "0.0168457240564814"
      ],
      "text/plain": [
       "[1] 0.01684572"
      ]
     },
     "metadata": {},
     "output_type": "display_data"
    }
   ],
   "source": [
    "#ESCENARIOS\n",
    "#Metas establecidas por la SECTEI\n",
    "porcentaje <- data.frame(\n",
    "  ano = c(2030, 2035, 2045), \n",
    "  porcentaje = c(40, 44, 52))\n",
    "#TASAS GENERLES PARA CADA PERIODO\n",
    "año_bse <- porcentaje_part_snii|>\n",
    "  filter(ano == 2024)\n",
    "\n",
    "#Tasas de cobertura para los años 2030, 2035 y 2045 (estas tasas son las metas establecidas por la SECTEI)\n",
    "t2030<-porcentaje|>\n",
    "filter(ano == 2030)\n",
    "t2035<-porcentaje|>\n",
    "filter(ano == 2035)\n",
    "t2045<-porcentaje|>\n",
    "filter(ano == 2045)\n",
    "\n",
    "tc1= (t2030$porcentaje / año_bse$porcentaje)^(1 / (2030 - 2024)) - 1\n",
    "tc2= (t2035$porcentaje / t2030$porcentaje)^(1 / (2035 - 2030)) - 1\n",
    "tc3= (t2045$porcentaje / t2035$porcentaje)^(1 / (2045 - 2035)) - 1\n",
    "\n",
    "tc1\n",
    "tc2\n",
    "tc3"
   ]
  },
  {
   "cell_type": "code",
   "execution_count": null,
   "id": "b2e1822a",
   "metadata": {
    "vscode": {
     "languageId": "r"
    }
   },
   "outputs": [
    {
     "data": {
      "text/html": [
       "<table class=\"dataframe\">\n",
       "<caption>A tibble: 28 × 3</caption>\n",
       "<thead>\n",
       "\t<tr><th scope=col>ano</th><th scope=col>tipo</th><th scope=col>porcentaje</th></tr>\n",
       "\t<tr><th scope=col>&lt;dbl&gt;</th><th scope=col>&lt;chr&gt;</th><th scope=col>&lt;dbl&gt;</th></tr>\n",
       "</thead>\n",
       "<tbody>\n",
       "\t<tr><td>2018</td><td>Observado</td><td>32.045455</td></tr>\n",
       "\t<tr><td>2019</td><td>Observado</td><td>30.719712</td></tr>\n",
       "\t<tr><td>2020</td><td>Observado</td><td>29.422608</td></tr>\n",
       "\t<tr><td>2021</td><td>Observado</td><td>28.920023</td></tr>\n",
       "\t<tr><td>2022</td><td>Observado</td><td>33.982817</td></tr>\n",
       "\t<tr><td>2023</td><td>Observado</td><td>36.415999</td></tr>\n",
       "\t<tr><td>2024</td><td>Observado</td><td>35.973053</td></tr>\n",
       "\t<tr><td>2025</td><td>Deseable </td><td>16.649044</td></tr>\n",
       "\t<tr><td>2026</td><td>Deseable </td><td>16.305334</td></tr>\n",
       "\t<tr><td>2027</td><td>Deseable </td><td>15.968719</td></tr>\n",
       "\t<tr><td>2028</td><td>Deseable </td><td>15.639054</td></tr>\n",
       "\t<tr><td>2029</td><td>Deseable </td><td>15.316194</td></tr>\n",
       "\t<tr><td>2030</td><td>Deseable </td><td>15.000000</td></tr>\n",
       "\t<tr><td>2031</td><td>Deseable </td><td>14.576783</td></tr>\n",
       "\t<tr><td>2032</td><td>Deseable </td><td>14.165506</td></tr>\n",
       "\t<tr><td>2033</td><td>Deseable </td><td>13.765834</td></tr>\n",
       "\t<tr><td>2034</td><td>Deseable </td><td>13.377438</td></tr>\n",
       "\t<tr><td>2035</td><td>Deseable </td><td>13.000000</td></tr>\n",
       "\t<tr><td>2036</td><td>Deseable </td><td>12.530640</td></tr>\n",
       "\t<tr><td>2037</td><td>Deseable </td><td>12.078227</td></tr>\n",
       "\t<tr><td>2038</td><td>Deseable </td><td>11.642148</td></tr>\n",
       "\t<tr><td>2039</td><td>Deseable </td><td>11.221813</td></tr>\n",
       "\t<tr><td>2040</td><td>Deseable </td><td>10.816654</td></tr>\n",
       "\t<tr><td>2041</td><td>Deseable </td><td>10.426123</td></tr>\n",
       "\t<tr><td>2042</td><td>Deseable </td><td>10.049692</td></tr>\n",
       "\t<tr><td>2043</td><td>Deseable </td><td> 9.686852</td></tr>\n",
       "\t<tr><td>2044</td><td>Deseable </td><td> 9.337113</td></tr>\n",
       "\t<tr><td>2045</td><td>Deseable </td><td> 9.000000</td></tr>\n",
       "</tbody>\n",
       "</table>\n"
      ],
      "text/latex": [
       "A tibble: 28 × 3\n",
       "\\begin{tabular}{lll}\n",
       " ano & tipo & porcentaje\\\\\n",
       " <dbl> & <chr> & <dbl>\\\\\n",
       "\\hline\n",
       "\t 2018 & Observado & 32.045455\\\\\n",
       "\t 2019 & Observado & 30.719712\\\\\n",
       "\t 2020 & Observado & 29.422608\\\\\n",
       "\t 2021 & Observado & 28.920023\\\\\n",
       "\t 2022 & Observado & 33.982817\\\\\n",
       "\t 2023 & Observado & 36.415999\\\\\n",
       "\t 2024 & Observado & 35.973053\\\\\n",
       "\t 2025 & Deseable  & 16.649044\\\\\n",
       "\t 2026 & Deseable  & 16.305334\\\\\n",
       "\t 2027 & Deseable  & 15.968719\\\\\n",
       "\t 2028 & Deseable  & 15.639054\\\\\n",
       "\t 2029 & Deseable  & 15.316194\\\\\n",
       "\t 2030 & Deseable  & 15.000000\\\\\n",
       "\t 2031 & Deseable  & 14.576783\\\\\n",
       "\t 2032 & Deseable  & 14.165506\\\\\n",
       "\t 2033 & Deseable  & 13.765834\\\\\n",
       "\t 2034 & Deseable  & 13.377438\\\\\n",
       "\t 2035 & Deseable  & 13.000000\\\\\n",
       "\t 2036 & Deseable  & 12.530640\\\\\n",
       "\t 2037 & Deseable  & 12.078227\\\\\n",
       "\t 2038 & Deseable  & 11.642148\\\\\n",
       "\t 2039 & Deseable  & 11.221813\\\\\n",
       "\t 2040 & Deseable  & 10.816654\\\\\n",
       "\t 2041 & Deseable  & 10.426123\\\\\n",
       "\t 2042 & Deseable  & 10.049692\\\\\n",
       "\t 2043 & Deseable  &  9.686852\\\\\n",
       "\t 2044 & Deseable  &  9.337113\\\\\n",
       "\t 2045 & Deseable  &  9.000000\\\\\n",
       "\\end{tabular}\n"
      ],
      "text/markdown": [
       "\n",
       "A tibble: 28 × 3\n",
       "\n",
       "| ano &lt;dbl&gt; | tipo &lt;chr&gt; | porcentaje &lt;dbl&gt; |\n",
       "|---|---|---|\n",
       "| 2018 | Observado | 32.045455 |\n",
       "| 2019 | Observado | 30.719712 |\n",
       "| 2020 | Observado | 29.422608 |\n",
       "| 2021 | Observado | 28.920023 |\n",
       "| 2022 | Observado | 33.982817 |\n",
       "| 2023 | Observado | 36.415999 |\n",
       "| 2024 | Observado | 35.973053 |\n",
       "| 2025 | Deseable  | 16.649044 |\n",
       "| 2026 | Deseable  | 16.305334 |\n",
       "| 2027 | Deseable  | 15.968719 |\n",
       "| 2028 | Deseable  | 15.639054 |\n",
       "| 2029 | Deseable  | 15.316194 |\n",
       "| 2030 | Deseable  | 15.000000 |\n",
       "| 2031 | Deseable  | 14.576783 |\n",
       "| 2032 | Deseable  | 14.165506 |\n",
       "| 2033 | Deseable  | 13.765834 |\n",
       "| 2034 | Deseable  | 13.377438 |\n",
       "| 2035 | Deseable  | 13.000000 |\n",
       "| 2036 | Deseable  | 12.530640 |\n",
       "| 2037 | Deseable  | 12.078227 |\n",
       "| 2038 | Deseable  | 11.642148 |\n",
       "| 2039 | Deseable  | 11.221813 |\n",
       "| 2040 | Deseable  | 10.816654 |\n",
       "| 2041 | Deseable  | 10.426123 |\n",
       "| 2042 | Deseable  | 10.049692 |\n",
       "| 2043 | Deseable  |  9.686852 |\n",
       "| 2044 | Deseable  |  9.337113 |\n",
       "| 2045 | Deseable  |  9.000000 |\n",
       "\n"
      ],
      "text/plain": [
       "   ano  tipo      porcentaje\n",
       "1  2018 Observado 32.045455 \n",
       "2  2019 Observado 30.719712 \n",
       "3  2020 Observado 29.422608 \n",
       "4  2021 Observado 28.920023 \n",
       "5  2022 Observado 33.982817 \n",
       "6  2023 Observado 36.415999 \n",
       "7  2024 Observado 35.973053 \n",
       "8  2025 Deseable  16.649044 \n",
       "9  2026 Deseable  16.305334 \n",
       "10 2027 Deseable  15.968719 \n",
       "11 2028 Deseable  15.639054 \n",
       "12 2029 Deseable  15.316194 \n",
       "13 2030 Deseable  15.000000 \n",
       "14 2031 Deseable  14.576783 \n",
       "15 2032 Deseable  14.165506 \n",
       "16 2033 Deseable  13.765834 \n",
       "17 2034 Deseable  13.377438 \n",
       "18 2035 Deseable  13.000000 \n",
       "19 2036 Deseable  12.530640 \n",
       "20 2037 Deseable  12.078227 \n",
       "21 2038 Deseable  11.642148 \n",
       "22 2039 Deseable  11.221813 \n",
       "23 2040 Deseable  10.816654 \n",
       "24 2041 Deseable  10.426123 \n",
       "25 2042 Deseable  10.049692 \n",
       "26 2043 Deseable   9.686852 \n",
       "27 2044 Deseable   9.337113 \n",
       "28 2045 Deseable   9.000000 "
      ]
     },
     "metadata": {},
     "output_type": "display_data"
    }
   ],
   "source": [
    "#Proyecciones \n",
    "proyecciones_porcentaje_part_snii <- data.frame(\n",
    "  ano = 2025:2045) |>\n",
    "  mutate(porcentaje = ifelse(ano < 2030,año_bse$porcentaje * (1 + tc1)^(ano - año_bse$ano),\n",
    "                         ifelse(ano == 2030, t2030$porcentaje,\n",
    "                                ifelse(ano < 2035, t2030$porcentaje * (1 + tc2)^(ano - t2030$ano),\n",
    "                                        ifelse(ano == 2035, t2035$porcentaje,\n",
    "                                                ifelse(ano < 2045, t2035$porcentaje * (1 + tc3)^(ano - t2035$ano),\n",
    "                                                       ifelse(ano == 2045, t2045$porcentaje, 0)))))),\n",
    "\n",
    "        tipo = \"Deseable\")\n",
    "\t\t\t\t\t\t\t\t\t   \n",
    "\t\t\t\t\t\t\t\t\t   \n",
    "snii <- porcentaje_part_snii |>\n",
    "  select(ano, tipo, porcentaje)|>\n",
    "  bind_rows(proyecciones_porcentaje_part_snii,)\n",
    "\n",
    "snii\n"
   ]
  }
 ],
 "metadata": {
  "kernelspec": {
   "display_name": "R",
   "language": "R",
   "name": "ir"
  },
  "language_info": {
   "codemirror_mode": "r",
   "file_extension": ".r",
   "mimetype": "text/x-r-source",
   "name": "R",
   "pygments_lexer": "r",
   "version": "4.4.3"
  }
 },
 "nbformat": 4,
 "nbformat_minor": 5
}
