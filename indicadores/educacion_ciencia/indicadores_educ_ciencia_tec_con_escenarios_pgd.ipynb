{
 "cells": [
  {
   "cell_type": "markdown",
   "id": "1ce23e40",
   "metadata": {},
   "source": [
    "**Indicadores de Educación, Ciencia, Tecnología e Innovación**"
   ]
  },
  {
   "cell_type": "code",
   "execution_count": null,
   "id": "703a2dab",
   "metadata": {
    "vscode": {
     "languageId": "r"
    }
   },
   "outputs": [],
   "source": [
    "#rm(list=ls()) #limpa el entorno de trabajo\n",
    "\n",
    "#LIBRERIAS\n",
    "libraries <- c(\"tidyverse\",\n",
    "               \"readr\", \n",
    "               \"srvyr\",\n",
    "               \"showtext\", \n",
    "               \"haven\", \n",
    "               \"openxlsx\", \n",
    "               \"tidyr\")\n",
    "\n",
    "installed_packages <- rownames(installed.packages())\n",
    "libraries_to_install <- setdiff(libraries, installed_packages)\n",
    "\n",
    "if (length(libraries_to_install) > 0) {\n",
    "  install.packages(libraries_to_install)}\n",
    "\n",
    "lapply(libraries, library, character.only = TRUE)"
   ]
  },
  {
   "cell_type": "code",
   "execution_count": 37,
   "id": "85616c83",
   "metadata": {
    "vscode": {
     "languageId": "r"
    }
   },
   "outputs": [],
   "source": [
    "#CONSIDERACIONES\n",
    "#Tiempo de espera para la descarga\n",
    "options(timeout = 8000)\n",
    "#Fuente Roboto\n",
    "font_add_google(name = \"Roboto\", family = \"Roboto\")\n",
    "showtext_auto()"
   ]
  },
  {
   "cell_type": "markdown",
   "id": "1d97582b",
   "metadata": {},
   "source": [
    "*Tasa de cobertura bruta de educación media superior e inicial*"
   ]
  },
  {
   "cell_type": "code",
   "execution_count": 38,
   "id": "1e6206d8",
   "metadata": {
    "vscode": {
     "languageId": "r"
    }
   },
   "outputs": [
    {
     "name": "stderr",
     "output_type": "stream",
     "text": [
      "\u001b[1mRows: \u001b[22m\u001b[34m737660\u001b[39m \u001b[1mColumns: \u001b[22m\u001b[34m7\u001b[39m\n",
      "\u001b[36m──\u001b[39m \u001b[1mColumn specification\u001b[22m \u001b[36m────────────────────────────────────────────────────────\u001b[39m\n",
      "\u001b[1mDelimiter:\u001b[22m \",\"\n",
      "\u001b[31mchr\u001b[39m (2): ENTIDAD, SEXO\n",
      "\u001b[32mdbl\u001b[39m (5): RENGLON, AÑO, CVE_GEO, EDAD, POBLACION\n",
      "\n",
      "\u001b[36mℹ\u001b[39m Use `spec()` to retrieve the full column specification for this data.\n",
      "\u001b[36mℹ\u001b[39m Specify the column types or set `show_col_types = FALSE` to quiet this message.\n",
      "\u001b[1m\u001b[22m`summarise()` has grouped output by 'ano'. You can override using the `.groups`\n",
      "argument.\n",
      "\u001b[1m\u001b[22m`summarise()` has grouped output by 'ano'. You can override using the `.groups`\n",
      "argument.\n"
     ]
    },
    {
     "data": {
      "text/html": [
       "<style>\n",
       ".list-inline {list-style: none; margin:0; padding: 0}\n",
       ".list-inline>li {display: inline-block}\n",
       ".list-inline>li:not(:last-child)::after {content: \"\\00b7\"; padding: 0 .5ex}\n",
       "</style>\n",
       "<ol class=list-inline><li>'INICIAL CIUDAD DE MÉXICO'</li><li>'MEDIA SUPERIOR'</li></ol>\n"
      ],
      "text/latex": [
       "\\begin{enumerate*}\n",
       "\\item 'INICIAL CIUDAD DE MÉXICO'\n",
       "\\item 'MEDIA SUPERIOR'\n",
       "\\end{enumerate*}\n"
      ],
      "text/markdown": [
       "1. 'INICIAL CIUDAD DE MÉXICO'\n",
       "2. 'MEDIA SUPERIOR'\n",
       "\n",
       "\n"
      ],
      "text/plain": [
       "[1] \"INICIAL CIUDAD DE MÉXICO\" \"MEDIA SUPERIOR\"          "
      ]
     },
     "metadata": {},
     "output_type": "display_data"
    }
   ],
   "source": [
    "#Carga datos de CONAPO\n",
    "conapo<-read_csv(\"https://conapo.segob.gob.mx/work/models/CONAPO/Datos_Abiertos/pry23/00_Pob_Mitad_1950_2070.csv\")%>%\n",
    "  janitor::clean_names()|>\n",
    "  filter(cve_geo==9)|>\n",
    "group_by(ano,edad)|>\n",
    "    summarise(poblacion= sum(poblacion))|>\n",
    "mutate(tipo=case_when(edad>=15 & edad<=17 ~ \"MEDIA SUPERIOR\",\n",
    "      edad>=0 & edad<=2 ~ \"INICIAL CIUDAD DE MÉXICO\"))|> #\"INICIAL CIUDAD DE MÉXICO\"\n",
    "filter(!is.na(tipo))|>\n",
    "group_by(ano,tipo)|>\n",
    "summarise(poblacion=sum(poblacion))\n",
    "\n",
    "unique(conapo$tipo) # Verifica los tipos de educación"
   ]
  },
  {
   "cell_type": "code",
   "execution_count": 39,
   "id": "1ccdcb53",
   "metadata": {
    "vscode": {
     "languageId": "r"
    }
   },
   "outputs": [
    {
     "data": {
      "text/html": [
       "<style>\n",
       ".list-inline {list-style: none; margin:0; padding: 0}\n",
       ".list-inline>li {display: inline-block}\n",
       ".list-inline>li:not(:last-child)::after {content: \"\\00b7\"; padding: 0 .5ex}\n",
       "</style>\n",
       "<ol class=list-inline><li>'INICIAL CIUDAD DE MÉXICO'</li><li>'MEDIA SUPERIOR'</li></ol>\n"
      ],
      "text/latex": [
       "\\begin{enumerate*}\n",
       "\\item 'INICIAL CIUDAD DE MÉXICO'\n",
       "\\item 'MEDIA SUPERIOR'\n",
       "\\end{enumerate*}\n"
      ],
      "text/markdown": [
       "1. 'INICIAL CIUDAD DE MÉXICO'\n",
       "2. 'MEDIA SUPERIOR'\n",
       "\n",
       "\n"
      ],
      "text/plain": [
       "[1] \"INICIAL CIUDAD DE MÉXICO\" \"MEDIA SUPERIOR\"          "
      ]
     },
     "metadata": {},
     "output_type": "display_data"
    }
   ],
   "source": [
    "##Leer datos de SEP\n",
    "sep<-openxlsx::read.xlsx(\"https://www.planeacion.sep.gob.mx/Doc/estadistica_e_indicadores/serie_historica_entidades_sep.xlsm\",sheet = 1)|>\n",
    "janitor::clean_names()%>%\n",
    "  { \n",
    "    colnames(.) <- as.character(.[2, ])\n",
    "    .[-2, ]\n",
    "  } |>\n",
    "  as.data.frame()|>\n",
    "janitor::clean_names()|>\n",
    "  rename(entidad = 1,\n",
    "         tipo= 3\n",
    "         )|>\n",
    " filter(entidad==\"9\",\n",
    "    tipo %in% c(\"MEDIA SUPERIOR\" , \"INICIAL CIUDAD DE MÉXICO\"))|> #\"INICIAL CIUDAD DE MÉXICO\"\n",
    "#Eliminar columnas 1,2 y 4\n",
    "select(-c(1,2,4))|>\n",
    "#Llevar los datos a long\n",
    "pivot_longer(cols = -c(tipo), names_to = \"ciclo\", values_to = \"matricula\")|>\n",
    "#Eliminar x de ciclo\n",
    "mutate(ciclo=str_replace(ciclo,\"x\",\"\"),\n",
    "#Seleccionar año inicial del ciclo\n",
    "ano=as.numeric(str_sub(ciclo,1,4)),\n",
    "matricula=as.numeric(matricula))|>\n",
    "#Pegar con datos de CONAPO utilizando la variable tipo y ano\n",
    "left_join(conapo,by=c(\"tipo\",\"ano\"))|>\n",
    "#Calcular tasa de cobertura\n",
    "mutate(tbcob=matricula/poblacion*100)\n",
    "\n",
    "unique(sep$tipo)"
   ]
  },
  {
   "cell_type": "markdown",
   "id": "801cac75",
   "metadata": {},
   "source": [
    "*Tasa de cobertura bruta de educación media superior*"
   ]
  },
  {
   "cell_type": "code",
   "execution_count": 40,
   "id": "7ef57de1",
   "metadata": {
    "vscode": {
     "languageId": "r"
    }
   },
   "outputs": [
    {
     "data": {
      "text/html": [
       "<table class=\"dataframe\">\n",
       "<caption>A tibble: 4 × 5</caption>\n",
       "<thead>\n",
       "\t<tr><th scope=col>matricula</th><th scope=col>ano</th><th scope=col>poblacion</th><th scope=col>tbcob</th><th scope=col>tipo</th></tr>\n",
       "\t<tr><th scope=col>&lt;dbl&gt;</th><th scope=col>&lt;dbl&gt;</th><th scope=col>&lt;dbl&gt;</th><th scope=col>&lt;dbl&gt;</th><th scope=col>&lt;chr&gt;</th></tr>\n",
       "</thead>\n",
       "<tbody>\n",
       "\t<tr><td>455030</td><td>2020</td><td>403534</td><td>112.7613</td><td>Observado</td></tr>\n",
       "\t<tr><td>460143</td><td>2021</td><td>395608</td><td>116.3129</td><td>Observado</td></tr>\n",
       "\t<tr><td>452717</td><td>2022</td><td>389088</td><td>116.3534</td><td>Observado</td></tr>\n",
       "\t<tr><td>449729</td><td>2023</td><td>383358</td><td>117.3131</td><td>Observado</td></tr>\n",
       "</tbody>\n",
       "</table>\n"
      ],
      "text/latex": [
       "A tibble: 4 × 5\n",
       "\\begin{tabular}{lllll}\n",
       " matricula & ano & poblacion & tbcob & tipo\\\\\n",
       " <dbl> & <dbl> & <dbl> & <dbl> & <chr>\\\\\n",
       "\\hline\n",
       "\t 455030 & 2020 & 403534 & 112.7613 & Observado\\\\\n",
       "\t 460143 & 2021 & 395608 & 116.3129 & Observado\\\\\n",
       "\t 452717 & 2022 & 389088 & 116.3534 & Observado\\\\\n",
       "\t 449729 & 2023 & 383358 & 117.3131 & Observado\\\\\n",
       "\\end{tabular}\n"
      ],
      "text/markdown": [
       "\n",
       "A tibble: 4 × 5\n",
       "\n",
       "| matricula &lt;dbl&gt; | ano &lt;dbl&gt; | poblacion &lt;dbl&gt; | tbcob &lt;dbl&gt; | tipo &lt;chr&gt; |\n",
       "|---|---|---|---|---|\n",
       "| 455030 | 2020 | 403534 | 112.7613 | Observado |\n",
       "| 460143 | 2021 | 395608 | 116.3129 | Observado |\n",
       "| 452717 | 2022 | 389088 | 116.3534 | Observado |\n",
       "| 449729 | 2023 | 383358 | 117.3131 | Observado |\n",
       "\n"
      ],
      "text/plain": [
       "  matricula ano  poblacion tbcob    tipo     \n",
       "1 455030    2020 403534    112.7613 Observado\n",
       "2 460143    2021 395608    116.3129 Observado\n",
       "3 452717    2022 389088    116.3534 Observado\n",
       "4 449729    2023 383358    117.3131 Observado"
      ]
     },
     "metadata": {},
     "output_type": "display_data"
    }
   ],
   "source": [
    "#tasa de cobertura media superior\n",
    "sep_med_sup<-sep|>\n",
    "  filter(tipo==\"MEDIA SUPERIOR\")|>\n",
    "  filter(ano>2019 &  ano < 2024)|>\n",
    "  select(-tipo, -ciclo)|>\n",
    "mutate(tipo = \"Observado\")\n",
    "\n",
    "sep_med_sup"
   ]
  },
  {
   "cell_type": "code",
   "execution_count": 47,
   "id": "a0fd782a",
   "metadata": {
    "vscode": {
     "languageId": "r"
    }
   },
   "outputs": [
    {
     "data": {
      "text/html": [
       "0.0132784852652923"
      ],
      "text/latex": [
       "0.0132784852652923"
      ],
      "text/markdown": [
       "0.0132784852652923"
      ],
      "text/plain": [
       "[1] 0.01327849"
      ]
     },
     "metadata": {},
     "output_type": "display_data"
    },
    {
     "data": {
      "text/html": [
       "0.00204171094983474"
      ],
      "text/latex": [
       "0.00204171094983474"
      ],
      "text/markdown": [
       "0.00204171094983474"
      ],
      "text/plain": [
       "[1] 0.002041711"
      ]
     },
     "metadata": {},
     "output_type": "display_data"
    },
    {
     "data": {
      "text/html": [
       "0.00333897248822934"
      ],
      "text/latex": [
       "0.00333897248822934"
      ],
      "text/markdown": [
       "0.00333897248822934"
      ],
      "text/plain": [
       "[1] 0.003338972"
      ]
     },
     "metadata": {},
     "output_type": "display_data"
    },
    {
     "data": {
      "text/html": [
       "0.0032576136988256"
      ],
      "text/latex": [
       "0.0032576136988256"
      ],
      "text/markdown": [
       "0.0032576136988256"
      ],
      "text/plain": [
       "[1] 0.003257614"
      ]
     },
     "metadata": {},
     "output_type": "display_data"
    }
   ],
   "source": [
    "#ESCENARIOS\n",
    "#TASAS GENERLES PARA CADA PERIODO\n",
    "tcob_base <- sep_med_sup|>\n",
    "  filter(ano == 2023)|>\n",
    "  pull(tbcob)\n",
    "\n",
    "#Tasa de crecimiento media anual para el periodo 2020-2023\n",
    "ano = (2024:2045)\n",
    "año_base <- 2023\n",
    "tcma<-((sep_med_sup$tbcob[sep_med_sup$ano==2023]/sep_med_sup$tbcob[sep_med_sup$ano==2020])^(1/(2023-2020))-1)\n",
    "tcma\n",
    "\n",
    "#Tasas de cobertura para los años 2030, 2035 y 2045 (estas tasas son las metas establecidas por la SECTEI)\n",
    "#Metas establecidas por la SECTEI\n",
    "cobertura <- data.frame(ano = c(2030, 2035, 2045), \n",
    "                        tbcob = c(119, 121, 125))\n",
    "tcob_bse <- sep_med_sup|>\n",
    "  filter(ano == 2023)\n",
    "  t2030<-cobertura|>\n",
    "filter(ano == 2030)\n",
    "t2035<-cobertura|>\n",
    "filter(ano == 2035)\n",
    "t2045<-cobertura|>\n",
    "filter(ano == 2045)\n",
    "\n",
    "tc1= (t2030$tbcob / tcob_bse$tbcob)^(1 / (2030 - 2023)) - 1\n",
    "tc2= (t2035$tbcob / t2030$tbcob)^(1 / (2035 - 2030)) - 1\n",
    "tc3= (t2045$tbcob / t2035$tbcob)^(1 / (2045 - 2035)) - 1\n",
    "\n",
    "tc1\n",
    "tc2\n",
    "tc3"
   ]
  },
  {
   "cell_type": "code",
   "execution_count": null,
   "id": "8f9c572b",
   "metadata": {
    "vscode": {
     "languageId": "r"
    }
   },
   "outputs": [],
   "source": [
    "#Población de media superior conapo, años 2024 a 2045\n",
    "proyecciones_med_sup <- data.frame(\n",
    "  ano = 2024:2045) |>\n",
    "  mutate(tbcob = ifelse(ano < 2030,tcob_bse$tbcob * (1 + tc1)^(ano - tcob_bse$ano),\n",
    "                         ifelse(ano == 2030, t2030$tbcob,\n",
    "                                ifelse(ano < 2035, t2030$tbcob * (1 + tc2)^(ano - t2030$ano),\n",
    "                                        ifelse(ano == 2035, t2035$tbcob,\n",
    "                                                ifelse(ano < 2045, t2035$tbcob * (1 + tc3)^(ano - t2035$ano),\n",
    "                                                       ifelse(ano == 2045, t2045$tbcob, 0)))))))|>\n",
    "                                                       mutate(tipo = \"Deseable\")\n",
    "\n",
    "#ESTABLECIMIENTO DE LAS TENEDENCIAS (ESCENARIO INERCIAL Y TRANSFORMADOR)\n",
    "tendencia_base <- data.frame(ano = ano,\n",
    "                             tbcob = round(tcob_base * (1 + tcma ) ^ (ano - año_base), 2),\n",
    "                             tipo = \"Inercial\")\n",
    "\n",
    "tendencia_transformador <- data.frame(ano = ano,\n",
    "                                       tbcob = round(tcob_base * (1 + tcma+.002 ) ^ (ano - ano_base), 2),\n",
    "                                       tipo = \"Transformador\")"
   ]
  },
  {
   "cell_type": "code",
   "execution_count": 51,
   "id": "bac5f2f2",
   "metadata": {
    "vscode": {
     "languageId": "r"
    }
   },
   "outputs": [
    {
     "data": {
      "text/html": [
       "<table class=\"dataframe\">\n",
       "<caption>A tibble: 70 × 3</caption>\n",
       "<thead>\n",
       "\t<tr><th scope=col>ano</th><th scope=col>tipo</th><th scope=col>tbcob</th></tr>\n",
       "\t<tr><th scope=col>&lt;dbl&gt;</th><th scope=col>&lt;chr&gt;</th><th scope=col>&lt;dbl&gt;</th></tr>\n",
       "</thead>\n",
       "<tbody>\n",
       "\t<tr><td>2020</td><td>Observado</td><td>112.7613</td></tr>\n",
       "\t<tr><td>2021</td><td>Observado</td><td>116.3129</td></tr>\n",
       "\t<tr><td>2022</td><td>Observado</td><td>116.3534</td></tr>\n",
       "\t<tr><td>2023</td><td>Observado</td><td>117.3131</td></tr>\n",
       "\t<tr><td>2024</td><td>Deseable </td><td>117.5526</td></tr>\n",
       "\t<tr><td>2025</td><td>Deseable </td><td>117.7926</td></tr>\n",
       "\t<tr><td>2026</td><td>Deseable </td><td>118.0331</td></tr>\n",
       "\t<tr><td>2027</td><td>Deseable </td><td>118.2741</td></tr>\n",
       "\t<tr><td>2028</td><td>Deseable </td><td>118.5156</td></tr>\n",
       "\t<tr><td>2029</td><td>Deseable </td><td>118.7575</td></tr>\n",
       "\t<tr><td>2030</td><td>Deseable </td><td>119.0000</td></tr>\n",
       "\t<tr><td>2031</td><td>Deseable </td><td>119.3973</td></tr>\n",
       "\t<tr><td>2032</td><td>Deseable </td><td>119.7960</td></tr>\n",
       "\t<tr><td>2033</td><td>Deseable </td><td>120.1960</td></tr>\n",
       "\t<tr><td>2034</td><td>Deseable </td><td>120.5973</td></tr>\n",
       "\t<tr><td>2035</td><td>Deseable </td><td>121.0000</td></tr>\n",
       "\t<tr><td>2036</td><td>Deseable </td><td>121.3942</td></tr>\n",
       "\t<tr><td>2037</td><td>Deseable </td><td>121.7896</td></tr>\n",
       "\t<tr><td>2038</td><td>Deseable </td><td>122.1864</td></tr>\n",
       "\t<tr><td>2039</td><td>Deseable </td><td>122.5844</td></tr>\n",
       "\t<tr><td>2040</td><td>Deseable </td><td>122.9837</td></tr>\n",
       "\t<tr><td>2041</td><td>Deseable </td><td>123.3844</td></tr>\n",
       "\t<tr><td>2042</td><td>Deseable </td><td>123.7863</td></tr>\n",
       "\t<tr><td>2043</td><td>Deseable </td><td>124.1896</td></tr>\n",
       "\t<tr><td>2044</td><td>Deseable </td><td>124.5941</td></tr>\n",
       "\t<tr><td>2045</td><td>Deseable </td><td>125.0000</td></tr>\n",
       "\t<tr><td>2024</td><td>Inercial </td><td>118.8700</td></tr>\n",
       "\t<tr><td>2025</td><td>Inercial </td><td>120.4500</td></tr>\n",
       "\t<tr><td>2026</td><td>Inercial </td><td>122.0500</td></tr>\n",
       "\t<tr><td>2027</td><td>Inercial </td><td>123.6700</td></tr>\n",
       "\t<tr><td>⋮</td><td>⋮</td><td>⋮</td></tr>\n",
       "\t<tr><td>2038</td><td>Inercial     </td><td>142.98</td></tr>\n",
       "\t<tr><td>2039</td><td>Inercial     </td><td>144.88</td></tr>\n",
       "\t<tr><td>2040</td><td>Inercial     </td><td>146.80</td></tr>\n",
       "\t<tr><td>2041</td><td>Inercial     </td><td>148.75</td></tr>\n",
       "\t<tr><td>2042</td><td>Inercial     </td><td>150.73</td></tr>\n",
       "\t<tr><td>2043</td><td>Inercial     </td><td>152.73</td></tr>\n",
       "\t<tr><td>2044</td><td>Inercial     </td><td>154.76</td></tr>\n",
       "\t<tr><td>2045</td><td>Inercial     </td><td>156.81</td></tr>\n",
       "\t<tr><td>2024</td><td>Transformador</td><td>119.11</td></tr>\n",
       "\t<tr><td>2025</td><td>Transformador</td><td>120.93</td></tr>\n",
       "\t<tr><td>2026</td><td>Transformador</td><td>122.77</td></tr>\n",
       "\t<tr><td>2027</td><td>Transformador</td><td>124.65</td></tr>\n",
       "\t<tr><td>2028</td><td>Transformador</td><td>126.55</td></tr>\n",
       "\t<tr><td>2029</td><td>Transformador</td><td>128.49</td></tr>\n",
       "\t<tr><td>2030</td><td>Transformador</td><td>130.45</td></tr>\n",
       "\t<tr><td>2031</td><td>Transformador</td><td>132.44</td></tr>\n",
       "\t<tr><td>2032</td><td>Transformador</td><td>134.47</td></tr>\n",
       "\t<tr><td>2033</td><td>Transformador</td><td>136.52</td></tr>\n",
       "\t<tr><td>2034</td><td>Transformador</td><td>138.61</td></tr>\n",
       "\t<tr><td>2035</td><td>Transformador</td><td>140.72</td></tr>\n",
       "\t<tr><td>2036</td><td>Transformador</td><td>142.87</td></tr>\n",
       "\t<tr><td>2037</td><td>Transformador</td><td>145.06</td></tr>\n",
       "\t<tr><td>2038</td><td>Transformador</td><td>147.27</td></tr>\n",
       "\t<tr><td>2039</td><td>Transformador</td><td>149.52</td></tr>\n",
       "\t<tr><td>2040</td><td>Transformador</td><td>151.81</td></tr>\n",
       "\t<tr><td>2041</td><td>Transformador</td><td>154.13</td></tr>\n",
       "\t<tr><td>2042</td><td>Transformador</td><td>156.48</td></tr>\n",
       "\t<tr><td>2043</td><td>Transformador</td><td>158.87</td></tr>\n",
       "\t<tr><td>2044</td><td>Transformador</td><td>161.30</td></tr>\n",
       "\t<tr><td>2045</td><td>Transformador</td><td>163.76</td></tr>\n",
       "</tbody>\n",
       "</table>\n"
      ],
      "text/latex": [
       "A tibble: 70 × 3\n",
       "\\begin{tabular}{lll}\n",
       " ano & tipo & tbcob\\\\\n",
       " <dbl> & <chr> & <dbl>\\\\\n",
       "\\hline\n",
       "\t 2020 & Observado & 112.7613\\\\\n",
       "\t 2021 & Observado & 116.3129\\\\\n",
       "\t 2022 & Observado & 116.3534\\\\\n",
       "\t 2023 & Observado & 117.3131\\\\\n",
       "\t 2024 & Deseable  & 117.5526\\\\\n",
       "\t 2025 & Deseable  & 117.7926\\\\\n",
       "\t 2026 & Deseable  & 118.0331\\\\\n",
       "\t 2027 & Deseable  & 118.2741\\\\\n",
       "\t 2028 & Deseable  & 118.5156\\\\\n",
       "\t 2029 & Deseable  & 118.7575\\\\\n",
       "\t 2030 & Deseable  & 119.0000\\\\\n",
       "\t 2031 & Deseable  & 119.3973\\\\\n",
       "\t 2032 & Deseable  & 119.7960\\\\\n",
       "\t 2033 & Deseable  & 120.1960\\\\\n",
       "\t 2034 & Deseable  & 120.5973\\\\\n",
       "\t 2035 & Deseable  & 121.0000\\\\\n",
       "\t 2036 & Deseable  & 121.3942\\\\\n",
       "\t 2037 & Deseable  & 121.7896\\\\\n",
       "\t 2038 & Deseable  & 122.1864\\\\\n",
       "\t 2039 & Deseable  & 122.5844\\\\\n",
       "\t 2040 & Deseable  & 122.9837\\\\\n",
       "\t 2041 & Deseable  & 123.3844\\\\\n",
       "\t 2042 & Deseable  & 123.7863\\\\\n",
       "\t 2043 & Deseable  & 124.1896\\\\\n",
       "\t 2044 & Deseable  & 124.5941\\\\\n",
       "\t 2045 & Deseable  & 125.0000\\\\\n",
       "\t 2024 & Inercial  & 118.8700\\\\\n",
       "\t 2025 & Inercial  & 120.4500\\\\\n",
       "\t 2026 & Inercial  & 122.0500\\\\\n",
       "\t 2027 & Inercial  & 123.6700\\\\\n",
       "\t ⋮ & ⋮ & ⋮\\\\\n",
       "\t 2038 & Inercial      & 142.98\\\\\n",
       "\t 2039 & Inercial      & 144.88\\\\\n",
       "\t 2040 & Inercial      & 146.80\\\\\n",
       "\t 2041 & Inercial      & 148.75\\\\\n",
       "\t 2042 & Inercial      & 150.73\\\\\n",
       "\t 2043 & Inercial      & 152.73\\\\\n",
       "\t 2044 & Inercial      & 154.76\\\\\n",
       "\t 2045 & Inercial      & 156.81\\\\\n",
       "\t 2024 & Transformador & 119.11\\\\\n",
       "\t 2025 & Transformador & 120.93\\\\\n",
       "\t 2026 & Transformador & 122.77\\\\\n",
       "\t 2027 & Transformador & 124.65\\\\\n",
       "\t 2028 & Transformador & 126.55\\\\\n",
       "\t 2029 & Transformador & 128.49\\\\\n",
       "\t 2030 & Transformador & 130.45\\\\\n",
       "\t 2031 & Transformador & 132.44\\\\\n",
       "\t 2032 & Transformador & 134.47\\\\\n",
       "\t 2033 & Transformador & 136.52\\\\\n",
       "\t 2034 & Transformador & 138.61\\\\\n",
       "\t 2035 & Transformador & 140.72\\\\\n",
       "\t 2036 & Transformador & 142.87\\\\\n",
       "\t 2037 & Transformador & 145.06\\\\\n",
       "\t 2038 & Transformador & 147.27\\\\\n",
       "\t 2039 & Transformador & 149.52\\\\\n",
       "\t 2040 & Transformador & 151.81\\\\\n",
       "\t 2041 & Transformador & 154.13\\\\\n",
       "\t 2042 & Transformador & 156.48\\\\\n",
       "\t 2043 & Transformador & 158.87\\\\\n",
       "\t 2044 & Transformador & 161.30\\\\\n",
       "\t 2045 & Transformador & 163.76\\\\\n",
       "\\end{tabular}\n"
      ],
      "text/markdown": [
       "\n",
       "A tibble: 70 × 3\n",
       "\n",
       "| ano &lt;dbl&gt; | tipo &lt;chr&gt; | tbcob &lt;dbl&gt; |\n",
       "|---|---|---|\n",
       "| 2020 | Observado | 112.7613 |\n",
       "| 2021 | Observado | 116.3129 |\n",
       "| 2022 | Observado | 116.3534 |\n",
       "| 2023 | Observado | 117.3131 |\n",
       "| 2024 | Deseable  | 117.5526 |\n",
       "| 2025 | Deseable  | 117.7926 |\n",
       "| 2026 | Deseable  | 118.0331 |\n",
       "| 2027 | Deseable  | 118.2741 |\n",
       "| 2028 | Deseable  | 118.5156 |\n",
       "| 2029 | Deseable  | 118.7575 |\n",
       "| 2030 | Deseable  | 119.0000 |\n",
       "| 2031 | Deseable  | 119.3973 |\n",
       "| 2032 | Deseable  | 119.7960 |\n",
       "| 2033 | Deseable  | 120.1960 |\n",
       "| 2034 | Deseable  | 120.5973 |\n",
       "| 2035 | Deseable  | 121.0000 |\n",
       "| 2036 | Deseable  | 121.3942 |\n",
       "| 2037 | Deseable  | 121.7896 |\n",
       "| 2038 | Deseable  | 122.1864 |\n",
       "| 2039 | Deseable  | 122.5844 |\n",
       "| 2040 | Deseable  | 122.9837 |\n",
       "| 2041 | Deseable  | 123.3844 |\n",
       "| 2042 | Deseable  | 123.7863 |\n",
       "| 2043 | Deseable  | 124.1896 |\n",
       "| 2044 | Deseable  | 124.5941 |\n",
       "| 2045 | Deseable  | 125.0000 |\n",
       "| 2024 | Inercial  | 118.8700 |\n",
       "| 2025 | Inercial  | 120.4500 |\n",
       "| 2026 | Inercial  | 122.0500 |\n",
       "| 2027 | Inercial  | 123.6700 |\n",
       "| ⋮ | ⋮ | ⋮ |\n",
       "| 2038 | Inercial      | 142.98 |\n",
       "| 2039 | Inercial      | 144.88 |\n",
       "| 2040 | Inercial      | 146.80 |\n",
       "| 2041 | Inercial      | 148.75 |\n",
       "| 2042 | Inercial      | 150.73 |\n",
       "| 2043 | Inercial      | 152.73 |\n",
       "| 2044 | Inercial      | 154.76 |\n",
       "| 2045 | Inercial      | 156.81 |\n",
       "| 2024 | Transformador | 119.11 |\n",
       "| 2025 | Transformador | 120.93 |\n",
       "| 2026 | Transformador | 122.77 |\n",
       "| 2027 | Transformador | 124.65 |\n",
       "| 2028 | Transformador | 126.55 |\n",
       "| 2029 | Transformador | 128.49 |\n",
       "| 2030 | Transformador | 130.45 |\n",
       "| 2031 | Transformador | 132.44 |\n",
       "| 2032 | Transformador | 134.47 |\n",
       "| 2033 | Transformador | 136.52 |\n",
       "| 2034 | Transformador | 138.61 |\n",
       "| 2035 | Transformador | 140.72 |\n",
       "| 2036 | Transformador | 142.87 |\n",
       "| 2037 | Transformador | 145.06 |\n",
       "| 2038 | Transformador | 147.27 |\n",
       "| 2039 | Transformador | 149.52 |\n",
       "| 2040 | Transformador | 151.81 |\n",
       "| 2041 | Transformador | 154.13 |\n",
       "| 2042 | Transformador | 156.48 |\n",
       "| 2043 | Transformador | 158.87 |\n",
       "| 2044 | Transformador | 161.30 |\n",
       "| 2045 | Transformador | 163.76 |\n",
       "\n"
      ],
      "text/plain": [
       "   ano  tipo          tbcob   \n",
       "1  2020 Observado     112.7613\n",
       "2  2021 Observado     116.3129\n",
       "3  2022 Observado     116.3534\n",
       "4  2023 Observado     117.3131\n",
       "5  2024 Deseable      117.5526\n",
       "6  2025 Deseable      117.7926\n",
       "7  2026 Deseable      118.0331\n",
       "8  2027 Deseable      118.2741\n",
       "9  2028 Deseable      118.5156\n",
       "10 2029 Deseable      118.7575\n",
       "11 2030 Deseable      119.0000\n",
       "12 2031 Deseable      119.3973\n",
       "13 2032 Deseable      119.7960\n",
       "14 2033 Deseable      120.1960\n",
       "15 2034 Deseable      120.5973\n",
       "16 2035 Deseable      121.0000\n",
       "17 2036 Deseable      121.3942\n",
       "18 2037 Deseable      121.7896\n",
       "19 2038 Deseable      122.1864\n",
       "20 2039 Deseable      122.5844\n",
       "21 2040 Deseable      122.9837\n",
       "22 2041 Deseable      123.3844\n",
       "23 2042 Deseable      123.7863\n",
       "24 2043 Deseable      124.1896\n",
       "25 2044 Deseable      124.5941\n",
       "26 2045 Deseable      125.0000\n",
       "27 2024 Inercial      118.8700\n",
       "28 2025 Inercial      120.4500\n",
       "29 2026 Inercial      122.0500\n",
       "30 2027 Inercial      123.6700\n",
       "⋮  ⋮    ⋮             ⋮       \n",
       "41 2038 Inercial      142.98  \n",
       "42 2039 Inercial      144.88  \n",
       "43 2040 Inercial      146.80  \n",
       "44 2041 Inercial      148.75  \n",
       "45 2042 Inercial      150.73  \n",
       "46 2043 Inercial      152.73  \n",
       "47 2044 Inercial      154.76  \n",
       "48 2045 Inercial      156.81  \n",
       "49 2024 Transformador 119.11  \n",
       "50 2025 Transformador 120.93  \n",
       "51 2026 Transformador 122.77  \n",
       "52 2027 Transformador 124.65  \n",
       "53 2028 Transformador 126.55  \n",
       "54 2029 Transformador 128.49  \n",
       "55 2030 Transformador 130.45  \n",
       "56 2031 Transformador 132.44  \n",
       "57 2032 Transformador 134.47  \n",
       "58 2033 Transformador 136.52  \n",
       "59 2034 Transformador 138.61  \n",
       "60 2035 Transformador 140.72  \n",
       "61 2036 Transformador 142.87  \n",
       "62 2037 Transformador 145.06  \n",
       "63 2038 Transformador 147.27  \n",
       "64 2039 Transformador 149.52  \n",
       "65 2040 Transformador 151.81  \n",
       "66 2041 Transformador 154.13  \n",
       "67 2042 Transformador 156.48  \n",
       "68 2043 Transformador 158.87  \n",
       "69 2044 Transformador 161.30  \n",
       "70 2045 Transformador 163.76  "
      ]
     },
     "metadata": {},
     "output_type": "display_data"
    }
   ],
   "source": [
    "sep_med_sup_proy <- sep_med_sup |>\n",
    "  select(ano, tipo, tbcob)|>\n",
    "  bind_rows(proyecciones_med_sup, tendencia_base, tendencia_transformador)\n",
    "\n",
    "  sep_med_sup_proy"
   ]
  },
  {
   "cell_type": "code",
   "execution_count": 53,
   "id": "8c83c5f5",
   "metadata": {
    "vscode": {
     "languageId": "r"
    }
   },
   "outputs": [],
   "source": [
    "lineas <- bind_rows(data.frame(ano = c(2023, 2030),\n",
    "                               tbcob = c(sep_med_sup_proy$tbcob[sep_med_sup_proy$ano == 2023 & sep_med_sup_proy$tipo == \"Observado\"],\n",
    "                                              sep_med_sup_proy$tbcob[sep_med_sup_proy$ano == 2030 & sep_med_sup_proy$tipo == \"Inercial\"]),\n",
    "                               tipo = \"Inercial\"),\n",
    "                    data.frame(ano = c(2023, 2030),\n",
    "                               tbcob = c(sep_med_sup_proy$tbcob[sep_med_sup_proy$ano == 2023 & sep_med_sup_proy$tipo == \"Observado\"], \n",
    "                                              sep_med_sup_proy$tbcob[sep_med_sup_proy$ano == 2030 & sep_med_sup_proy$tipo == \"Deseable\"]),\n",
    "                               tipo = \"Deseable\"), \n",
    "                    data.frame(ano = c(2023, 2030),\n",
    "                               tbcob = c(sep_med_sup_proy$tbcob[sep_med_sup_proy$ano == 2023 & sep_med_sup_proy$tipo == \"Observado\"], \n",
    "                                              sep_med_sup_proy$tbcob[sep_med_sup_proy$ano == 2030 & sep_med_sup_proy$tipo == \"Transformador\"]),\n",
    "                               tipo = \"Transformador\"))\n",
    "\n",
    "\n",
    "paleta_colores <- c(\"Observado\" = \"#9F2241\",\n",
    "                    \"Inercial\" = \"#cfcfcf\" ,\n",
    "                    \"Deseable\" = \"#027A35\", \n",
    "                    \"Transformador\" = \"#AC6D14\")\n",
    "\n",
    "linetypes <- c(\"Observado\" = \"solid\",\n",
    "               \"Inercial\" = \"dotdash\",\n",
    "               \"Deseable\" = \"dotdash\", \n",
    "               \"Transformador\" = \"dotdash\")"
   ]
  },
  {
   "cell_type": "code",
   "execution_count": null,
   "id": "e8052bff",
   "metadata": {
    "vscode": {
     "languageId": "r"
    }
   },
   "outputs": [
    {
     "data": {
      "image/png": "[encoded data removed]",
      "text/plain": [
       "plot without title"
      ]
     },
     "metadata": {
      "image/png": {
       "height": 420,
       "width": 420
      }
     },
     "output_type": "display_data"
    }
   ],
   "source": [
    "# Gráfico con etiquetas y eje Y personalizado\n",
    "ggplot(sep_med_sup_proy, aes(x = ano, y = tbcob, group = tipo, color = tipo, linetype = tipo)) +\n",
    "  geom_line(linewidth = 1.2) +\n",
    "  geom_point(size = 1.5) +\n",
    "geom_text(data = subset(sep_med_sup_proy, ano %in% c(2020, 2023, 2030, 2035, 2045)),\n",
    "          aes(label = paste0(round(tbcob, 1), \"\")),\n",
    "          vjust = -1, size = 8, family = \"Roboto\", show.legend = FALSE) +\n",
    "  scale_color_manual(values = paleta_colores) +\n",
    "  scale_linetype_manual(values = linetypes) +\n",
    "  scale_y_continuous(breaks = seq(0, max(sep_med_sup_proy$tbcob, na.rm = TRUE) + 5, by = 5),\n",
    "                     labels = function(x) paste0(x, \"\"),\n",
    "                     expand = expansion(mult = c(1, 1))) +\n",
    "  labs(title = \"Tasa de cobertura bruta de educación media superior\",\n",
    "       x = \"Año\",\n",
    "       y = \"tasa bruta de cobertura\",\n",
    "       color = \"\",\n",
    "       linetype = \"\") +\n",
    "  theme_bw(base_size = 15, base_family = \"Roboto\") +\n",
    "  theme( panel.grid.minor.y = element_line(color = \"gray80\", linetype = \"dotted\"),\n",
    "         panel.grid.minor.x = element_blank(),\n",
    "         panel.grid.major.y = element_blank(),\n",
    "         panel.border = element_blank(),\n",
    "         axis.line = element_line(color = \"gray80\"),\n",
    "         legend.position = \"top\",\n",
    "         plot.caption = element_text(hjust = 0))\n",
    "\n",
    "# Guardar el gráfico\n",
    "#ggsave(\"tasa_cobertura_media_superior.png\", width = 12, height = 8, dpi = 300)\n",
    "         "
   ]
  },
  {
   "cell_type": "markdown",
   "id": "768be8f2",
   "metadata": {},
   "source": [
    "*Tasa de cobertura bruta de educación inicial*"
   ]
  },
  {
   "cell_type": "code",
   "execution_count": 136,
   "id": "41723c45",
   "metadata": {
    "vscode": {
     "languageId": "r"
    }
   },
   "outputs": [
    {
     "data": {
      "text/html": [
       "<table class=\"dataframe\">\n",
       "<caption>A tibble: 41 × 6</caption>\n",
       "<thead>\n",
       "\t<tr><th scope=col>tipo</th><th scope=col>ciclo</th><th scope=col>matricula</th><th scope=col>ano</th><th scope=col>poblacion</th><th scope=col>tbcob</th></tr>\n",
       "\t<tr><th scope=col>&lt;chr&gt;</th><th scope=col>&lt;chr&gt;</th><th scope=col>&lt;dbl&gt;</th><th scope=col>&lt;dbl&gt;</th><th scope=col>&lt;dbl&gt;</th><th scope=col>&lt;dbl&gt;</th></tr>\n",
       "</thead>\n",
       "<tbody>\n",
       "\t<tr><td>INICIAL PÚBLICO</td><td>1990_1991</td><td>   NA</td><td>1990</td><td>571443</td><td>      NA</td></tr>\n",
       "\t<tr><td>INICIAL PÚBLICO</td><td>1991_1992</td><td>   NA</td><td>1991</td><td>558938</td><td>      NA</td></tr>\n",
       "\t<tr><td>INICIAL PÚBLICO</td><td>1992_1993</td><td>   NA</td><td>1992</td><td>549389</td><td>      NA</td></tr>\n",
       "\t<tr><td>INICIAL PÚBLICO</td><td>1993_1994</td><td>   NA</td><td>1993</td><td>539694</td><td>      NA</td></tr>\n",
       "\t<tr><td>INICIAL PÚBLICO</td><td>1994_1995</td><td>   NA</td><td>1994</td><td>528980</td><td>      NA</td></tr>\n",
       "\t<tr><td>INICIAL PÚBLICO</td><td>1995_1996</td><td>   NA</td><td>1995</td><td>516994</td><td>      NA</td></tr>\n",
       "\t<tr><td>INICIAL PÚBLICO</td><td>1996_1997</td><td>   NA</td><td>1996</td><td>504812</td><td>      NA</td></tr>\n",
       "\t<tr><td>INICIAL PÚBLICO</td><td>1997_1998</td><td>   NA</td><td>1997</td><td>494056</td><td>      NA</td></tr>\n",
       "\t<tr><td>INICIAL PÚBLICO</td><td>1998_1999</td><td>   NA</td><td>1998</td><td>485294</td><td>      NA</td></tr>\n",
       "\t<tr><td>INICIAL PÚBLICO</td><td>1999_2000</td><td>   NA</td><td>1999</td><td>478946</td><td>      NA</td></tr>\n",
       "\t<tr><td>INICIAL PÚBLICO</td><td>2000_2001</td><td>35665</td><td>2000</td><td>474054</td><td>7.523405</td></tr>\n",
       "\t<tr><td>INICIAL PÚBLICO</td><td>2001_2002</td><td>34637</td><td>2001</td><td>470967</td><td>7.354443</td></tr>\n",
       "\t<tr><td>INICIAL PÚBLICO</td><td>2002_2003</td><td>34059</td><td>2002</td><td>468365</td><td>7.271893</td></tr>\n",
       "\t<tr><td>INICIAL PÚBLICO</td><td>2003_2004</td><td>31349</td><td>2003</td><td>463628</td><td>6.761671</td></tr>\n",
       "\t<tr><td>INICIAL PÚBLICO</td><td>2004_2005</td><td>25318</td><td>2004</td><td>457806</td><td>5.530290</td></tr>\n",
       "\t<tr><td>INICIAL PÚBLICO</td><td>2005_2006</td><td>24736</td><td>2005</td><td>451245</td><td>5.481723</td></tr>\n",
       "\t<tr><td>INICIAL PÚBLICO</td><td>2006_2007</td><td>21836</td><td>2006</td><td>445333</td><td>4.903297</td></tr>\n",
       "\t<tr><td>INICIAL PÚBLICO</td><td>2007_2008</td><td>21404</td><td>2007</td><td>440599</td><td>4.857932</td></tr>\n",
       "\t<tr><td>INICIAL PÚBLICO</td><td>2008_2009</td><td>20944</td><td>2008</td><td>435574</td><td>4.808368</td></tr>\n",
       "\t<tr><td>INICIAL PÚBLICO</td><td>2009_2010</td><td>20314</td><td>2009</td><td>429762</td><td>4.726802</td></tr>\n",
       "\t<tr><td>INICIAL PÚBLICO</td><td>2010_2011</td><td>19230</td><td>2010</td><td>425925</td><td>4.514879</td></tr>\n",
       "\t<tr><td>INICIAL PÚBLICO</td><td>2011_2012</td><td>18854</td><td>2011</td><td>420544</td><td>4.483241</td></tr>\n",
       "\t<tr><td>INICIAL PÚBLICO</td><td>2012_2013</td><td>18800</td><td>2012</td><td>410089</td><td>4.584371</td></tr>\n",
       "\t<tr><td>INICIAL PÚBLICO</td><td>2013_2014</td><td>16501</td><td>2013</td><td>398333</td><td>4.142514</td></tr>\n",
       "\t<tr><td>INICIAL PÚBLICO</td><td>2014_2015</td><td>17772</td><td>2014</td><td>386073</td><td>4.603275</td></tr>\n",
       "\t<tr><td>INICIAL PÚBLICO</td><td>2015_2016</td><td>14557</td><td>2015</td><td>372480</td><td>3.908129</td></tr>\n",
       "\t<tr><td>INICIAL PÚBLICO</td><td>2016_2017</td><td>14326</td><td>2016</td><td>359351</td><td>3.986631</td></tr>\n",
       "\t<tr><td>INICIAL PÚBLICO</td><td>2017_2018</td><td>12843</td><td>2017</td><td>346981</td><td>3.701355</td></tr>\n",
       "\t<tr><td>INICIAL PÚBLICO</td><td>2018_2019</td><td>13646</td><td>2018</td><td>333739</td><td>4.088824</td></tr>\n",
       "\t<tr><td>INICIAL PÚBLICO</td><td>2019_2020</td><td>14053</td><td>2019</td><td>320780</td><td>4.380884</td></tr>\n",
       "\t<tr><td>INICIAL PÚBLICO</td><td>2020_2021</td><td>10272</td><td>2020</td><td>307812</td><td>3.337102</td></tr>\n",
       "\t<tr><td>INICIAL PÚBLICO</td><td>2021_2022</td><td> 6635</td><td>2021</td><td>296657</td><td>2.236590</td></tr>\n",
       "\t<tr><td>INICIAL PÚBLICO</td><td>2022_2023</td><td> 8827</td><td>2022</td><td>289255</td><td>3.051633</td></tr>\n",
       "\t<tr><td>INICIAL PÚBLICO</td><td>2023_2024</td><td>10236</td><td>2023</td><td>283980</td><td>3.604479</td></tr>\n",
       "\t<tr><td>INICIAL PÚBLICO</td><td>2024_2025</td><td>10754</td><td>2024</td><td>278779</td><td>3.857536</td></tr>\n",
       "\t<tr><td>INICIAL PÚBLICO</td><td>2025_2026</td><td>11090</td><td>2025</td><td>273253</td><td>4.058510</td></tr>\n",
       "\t<tr><td>INICIAL PÚBLICO</td><td>2026_2027</td><td>11369</td><td>2026</td><td>267811</td><td>4.245158</td></tr>\n",
       "\t<tr><td>INICIAL PÚBLICO</td><td>2027_2028</td><td>11609</td><td>2027</td><td>262340</td><td>4.425173</td></tr>\n",
       "\t<tr><td>INICIAL PÚBLICO</td><td>2028_2029</td><td>11814</td><td>2028</td><td>256887</td><td>4.598909</td></tr>\n",
       "\t<tr><td>INICIAL PÚBLICO</td><td>2029_2030</td><td>11997</td><td>2029</td><td>251429</td><td>4.771526</td></tr>\n",
       "\t<tr><td>INICIAL PÚBLICO</td><td>2030_2031</td><td>12164</td><td>2030</td><td>245982</td><td>4.945077</td></tr>\n",
       "</tbody>\n",
       "</table>\n"
      ],
      "text/latex": [
       "A tibble: 41 × 6\n",
       "\\begin{tabular}{llllll}\n",
       " tipo & ciclo & matricula & ano & poblacion & tbcob\\\\\n",
       " <chr> & <chr> & <dbl> & <dbl> & <dbl> & <dbl>\\\\\n",
       "\\hline\n",
       "\t INICIAL PÚBLICO & 1990\\_1991 &    NA & 1990 & 571443 &       NA\\\\\n",
       "\t INICIAL PÚBLICO & 1991\\_1992 &    NA & 1991 & 558938 &       NA\\\\\n",
       "\t INICIAL PÚBLICO & 1992\\_1993 &    NA & 1992 & 549389 &       NA\\\\\n",
       "\t INICIAL PÚBLICO & 1993\\_1994 &    NA & 1993 & 539694 &       NA\\\\\n",
       "\t INICIAL PÚBLICO & 1994\\_1995 &    NA & 1994 & 528980 &       NA\\\\\n",
       "\t INICIAL PÚBLICO & 1995\\_1996 &    NA & 1995 & 516994 &       NA\\\\\n",
       "\t INICIAL PÚBLICO & 1996\\_1997 &    NA & 1996 & 504812 &       NA\\\\\n",
       "\t INICIAL PÚBLICO & 1997\\_1998 &    NA & 1997 & 494056 &       NA\\\\\n",
       "\t INICIAL PÚBLICO & 1998\\_1999 &    NA & 1998 & 485294 &       NA\\\\\n",
       "\t INICIAL PÚBLICO & 1999\\_2000 &    NA & 1999 & 478946 &       NA\\\\\n",
       "\t INICIAL PÚBLICO & 2000\\_2001 & 35665 & 2000 & 474054 & 7.523405\\\\\n",
       "\t INICIAL PÚBLICO & 2001\\_2002 & 34637 & 2001 & 470967 & 7.354443\\\\\n",
       "\t INICIAL PÚBLICO & 2002\\_2003 & 34059 & 2002 & 468365 & 7.271893\\\\\n",
       "\t INICIAL PÚBLICO & 2003\\_2004 & 31349 & 2003 & 463628 & 6.761671\\\\\n",
       "\t INICIAL PÚBLICO & 2004\\_2005 & 25318 & 2004 & 457806 & 5.530290\\\\\n",
       "\t INICIAL PÚBLICO & 2005\\_2006 & 24736 & 2005 & 451245 & 5.481723\\\\\n",
       "\t INICIAL PÚBLICO & 2006\\_2007 & 21836 & 2006 & 445333 & 4.903297\\\\\n",
       "\t INICIAL PÚBLICO & 2007\\_2008 & 21404 & 2007 & 440599 & 4.857932\\\\\n",
       "\t INICIAL PÚBLICO & 2008\\_2009 & 20944 & 2008 & 435574 & 4.808368\\\\\n",
       "\t INICIAL PÚBLICO & 2009\\_2010 & 20314 & 2009 & 429762 & 4.726802\\\\\n",
       "\t INICIAL PÚBLICO & 2010\\_2011 & 19230 & 2010 & 425925 & 4.514879\\\\\n",
       "\t INICIAL PÚBLICO & 2011\\_2012 & 18854 & 2011 & 420544 & 4.483241\\\\\n",
       "\t INICIAL PÚBLICO & 2012\\_2013 & 18800 & 2012 & 410089 & 4.584371\\\\\n",
       "\t INICIAL PÚBLICO & 2013\\_2014 & 16501 & 2013 & 398333 & 4.142514\\\\\n",
       "\t INICIAL PÚBLICO & 2014\\_2015 & 17772 & 2014 & 386073 & 4.603275\\\\\n",
       "\t INICIAL PÚBLICO & 2015\\_2016 & 14557 & 2015 & 372480 & 3.908129\\\\\n",
       "\t INICIAL PÚBLICO & 2016\\_2017 & 14326 & 2016 & 359351 & 3.986631\\\\\n",
       "\t INICIAL PÚBLICO & 2017\\_2018 & 12843 & 2017 & 346981 & 3.701355\\\\\n",
       "\t INICIAL PÚBLICO & 2018\\_2019 & 13646 & 2018 & 333739 & 4.088824\\\\\n",
       "\t INICIAL PÚBLICO & 2019\\_2020 & 14053 & 2019 & 320780 & 4.380884\\\\\n",
       "\t INICIAL PÚBLICO & 2020\\_2021 & 10272 & 2020 & 307812 & 3.337102\\\\\n",
       "\t INICIAL PÚBLICO & 2021\\_2022 &  6635 & 2021 & 296657 & 2.236590\\\\\n",
       "\t INICIAL PÚBLICO & 2022\\_2023 &  8827 & 2022 & 289255 & 3.051633\\\\\n",
       "\t INICIAL PÚBLICO & 2023\\_2024 & 10236 & 2023 & 283980 & 3.604479\\\\\n",
       "\t INICIAL PÚBLICO & 2024\\_2025 & 10754 & 2024 & 278779 & 3.857536\\\\\n",
       "\t INICIAL PÚBLICO & 2025\\_2026 & 11090 & 2025 & 273253 & 4.058510\\\\\n",
       "\t INICIAL PÚBLICO & 2026\\_2027 & 11369 & 2026 & 267811 & 4.245158\\\\\n",
       "\t INICIAL PÚBLICO & 2027\\_2028 & 11609 & 2027 & 262340 & 4.425173\\\\\n",
       "\t INICIAL PÚBLICO & 2028\\_2029 & 11814 & 2028 & 256887 & 4.598909\\\\\n",
       "\t INICIAL PÚBLICO & 2029\\_2030 & 11997 & 2029 & 251429 & 4.771526\\\\\n",
       "\t INICIAL PÚBLICO & 2030\\_2031 & 12164 & 2030 & 245982 & 4.945077\\\\\n",
       "\\end{tabular}\n"
      ],
      "text/markdown": [
       "\n",
       "A tibble: 41 × 6\n",
       "\n",
       "| tipo &lt;chr&gt; | ciclo &lt;chr&gt; | matricula &lt;dbl&gt; | ano &lt;dbl&gt; | poblacion &lt;dbl&gt; | tbcob &lt;dbl&gt; |\n",
       "|---|---|---|---|---|---|\n",
       "| INICIAL PÚBLICO | 1990_1991 |    NA | 1990 | 571443 |       NA |\n",
       "| INICIAL PÚBLICO | 1991_1992 |    NA | 1991 | 558938 |       NA |\n",
       "| INICIAL PÚBLICO | 1992_1993 |    NA | 1992 | 549389 |       NA |\n",
       "| INICIAL PÚBLICO | 1993_1994 |    NA | 1993 | 539694 |       NA |\n",
       "| INICIAL PÚBLICO | 1994_1995 |    NA | 1994 | 528980 |       NA |\n",
       "| INICIAL PÚBLICO | 1995_1996 |    NA | 1995 | 516994 |       NA |\n",
       "| INICIAL PÚBLICO | 1996_1997 |    NA | 1996 | 504812 |       NA |\n",
       "| INICIAL PÚBLICO | 1997_1998 |    NA | 1997 | 494056 |       NA |\n",
       "| INICIAL PÚBLICO | 1998_1999 |    NA | 1998 | 485294 |       NA |\n",
       "| INICIAL PÚBLICO | 1999_2000 |    NA | 1999 | 478946 |       NA |\n",
       "| INICIAL PÚBLICO | 2000_2001 | 35665 | 2000 | 474054 | 7.523405 |\n",
       "| INICIAL PÚBLICO | 2001_2002 | 34637 | 2001 | 470967 | 7.354443 |\n",
       "| INICIAL PÚBLICO | 2002_2003 | 34059 | 2002 | 468365 | 7.271893 |\n",
       "| INICIAL PÚBLICO | 2003_2004 | 31349 | 2003 | 463628 | 6.761671 |\n",
       "| INICIAL PÚBLICO | 2004_2005 | 25318 | 2004 | 457806 | 5.530290 |\n",
       "| INICIAL PÚBLICO | 2005_2006 | 24736 | 2005 | 451245 | 5.481723 |\n",
       "| INICIAL PÚBLICO | 2006_2007 | 21836 | 2006 | 445333 | 4.903297 |\n",
       "| INICIAL PÚBLICO | 2007_2008 | 21404 | 2007 | 440599 | 4.857932 |\n",
       "| INICIAL PÚBLICO | 2008_2009 | 20944 | 2008 | 435574 | 4.808368 |\n",
       "| INICIAL PÚBLICO | 2009_2010 | 20314 | 2009 | 429762 | 4.726802 |\n",
       "| INICIAL PÚBLICO | 2010_2011 | 19230 | 2010 | 425925 | 4.514879 |\n",
       "| INICIAL PÚBLICO | 2011_2012 | 18854 | 2011 | 420544 | 4.483241 |\n",
       "| INICIAL PÚBLICO | 2012_2013 | 18800 | 2012 | 410089 | 4.584371 |\n",
       "| INICIAL PÚBLICO | 2013_2014 | 16501 | 2013 | 398333 | 4.142514 |\n",
       "| INICIAL PÚBLICO | 2014_2015 | 17772 | 2014 | 386073 | 4.603275 |\n",
       "| INICIAL PÚBLICO | 2015_2016 | 14557 | 2015 | 372480 | 3.908129 |\n",
       "| INICIAL PÚBLICO | 2016_2017 | 14326 | 2016 | 359351 | 3.986631 |\n",
       "| INICIAL PÚBLICO | 2017_2018 | 12843 | 2017 | 346981 | 3.701355 |\n",
       "| INICIAL PÚBLICO | 2018_2019 | 13646 | 2018 | 333739 | 4.088824 |\n",
       "| INICIAL PÚBLICO | 2019_2020 | 14053 | 2019 | 320780 | 4.380884 |\n",
       "| INICIAL PÚBLICO | 2020_2021 | 10272 | 2020 | 307812 | 3.337102 |\n",
       "| INICIAL PÚBLICO | 2021_2022 |  6635 | 2021 | 296657 | 2.236590 |\n",
       "| INICIAL PÚBLICO | 2022_2023 |  8827 | 2022 | 289255 | 3.051633 |\n",
       "| INICIAL PÚBLICO | 2023_2024 | 10236 | 2023 | 283980 | 3.604479 |\n",
       "| INICIAL PÚBLICO | 2024_2025 | 10754 | 2024 | 278779 | 3.857536 |\n",
       "| INICIAL PÚBLICO | 2025_2026 | 11090 | 2025 | 273253 | 4.058510 |\n",
       "| INICIAL PÚBLICO | 2026_2027 | 11369 | 2026 | 267811 | 4.245158 |\n",
       "| INICIAL PÚBLICO | 2027_2028 | 11609 | 2027 | 262340 | 4.425173 |\n",
       "| INICIAL PÚBLICO | 2028_2029 | 11814 | 2028 | 256887 | 4.598909 |\n",
       "| INICIAL PÚBLICO | 2029_2030 | 11997 | 2029 | 251429 | 4.771526 |\n",
       "| INICIAL PÚBLICO | 2030_2031 | 12164 | 2030 | 245982 | 4.945077 |\n",
       "\n"
      ],
      "text/plain": [
       "   tipo            ciclo     matricula ano  poblacion tbcob   \n",
       "1  INICIAL PÚBLICO 1990_1991    NA     1990 571443          NA\n",
       "2  INICIAL PÚBLICO 1991_1992    NA     1991 558938          NA\n",
       "3  INICIAL PÚBLICO 1992_1993    NA     1992 549389          NA\n",
       "4  INICIAL PÚBLICO 1993_1994    NA     1993 539694          NA\n",
       "5  INICIAL PÚBLICO 1994_1995    NA     1994 528980          NA\n",
       "6  INICIAL PÚBLICO 1995_1996    NA     1995 516994          NA\n",
       "7  INICIAL PÚBLICO 1996_1997    NA     1996 504812          NA\n",
       "8  INICIAL PÚBLICO 1997_1998    NA     1997 494056          NA\n",
       "9  INICIAL PÚBLICO 1998_1999    NA     1998 485294          NA\n",
       "10 INICIAL PÚBLICO 1999_2000    NA     1999 478946          NA\n",
       "11 INICIAL PÚBLICO 2000_2001 35665     2000 474054    7.523405\n",
       "12 INICIAL PÚBLICO 2001_2002 34637     2001 470967    7.354443\n",
       "13 INICIAL PÚBLICO 2002_2003 34059     2002 468365    7.271893\n",
       "14 INICIAL PÚBLICO 2003_2004 31349     2003 463628    6.761671\n",
       "15 INICIAL PÚBLICO 2004_2005 25318     2004 457806    5.530290\n",
       "16 INICIAL PÚBLICO 2005_2006 24736     2005 451245    5.481723\n",
       "17 INICIAL PÚBLICO 2006_2007 21836     2006 445333    4.903297\n",
       "18 INICIAL PÚBLICO 2007_2008 21404     2007 440599    4.857932\n",
       "19 INICIAL PÚBLICO 2008_2009 20944     2008 435574    4.808368\n",
       "20 INICIAL PÚBLICO 2009_2010 20314     2009 429762    4.726802\n",
       "21 INICIAL PÚBLICO 2010_2011 19230     2010 425925    4.514879\n",
       "22 INICIAL PÚBLICO 2011_2012 18854     2011 420544    4.483241\n",
       "23 INICIAL PÚBLICO 2012_2013 18800     2012 410089    4.584371\n",
       "24 INICIAL PÚBLICO 2013_2014 16501     2013 398333    4.142514\n",
       "25 INICIAL PÚBLICO 2014_2015 17772     2014 386073    4.603275\n",
       "26 INICIAL PÚBLICO 2015_2016 14557     2015 372480    3.908129\n",
       "27 INICIAL PÚBLICO 2016_2017 14326     2016 359351    3.986631\n",
       "28 INICIAL PÚBLICO 2017_2018 12843     2017 346981    3.701355\n",
       "29 INICIAL PÚBLICO 2018_2019 13646     2018 333739    4.088824\n",
       "30 INICIAL PÚBLICO 2019_2020 14053     2019 320780    4.380884\n",
       "31 INICIAL PÚBLICO 2020_2021 10272     2020 307812    3.337102\n",
       "32 INICIAL PÚBLICO 2021_2022  6635     2021 296657    2.236590\n",
       "33 INICIAL PÚBLICO 2022_2023  8827     2022 289255    3.051633\n",
       "34 INICIAL PÚBLICO 2023_2024 10236     2023 283980    3.604479\n",
       "35 INICIAL PÚBLICO 2024_2025 10754     2024 278779    3.857536\n",
       "36 INICIAL PÚBLICO 2025_2026 11090     2025 273253    4.058510\n",
       "37 INICIAL PÚBLICO 2026_2027 11369     2026 267811    4.245158\n",
       "38 INICIAL PÚBLICO 2027_2028 11609     2027 262340    4.425173\n",
       "39 INICIAL PÚBLICO 2028_2029 11814     2028 256887    4.598909\n",
       "40 INICIAL PÚBLICO 2029_2030 11997     2029 251429    4.771526\n",
       "41 INICIAL PÚBLICO 2030_2031 12164     2030 245982    4.945077"
      ]
     },
     "metadata": {},
     "output_type": "display_data"
    }
   ],
   "source": [
    "#tasa de cobertura media inicialerior\n",
    "sep_inicial<-sep|>\n",
    "  filter(tipo==\"INICIAL PÚBLICO\")\n",
    "  \n",
    "sep_inicial"
   ]
  },
  {
   "cell_type": "code",
   "execution_count": null,
   "id": "f0e07cb9",
   "metadata": {
    "vscode": {
     "languageId": "r"
    }
   },
   "outputs": [],
   "source": [
    "#Metas establecidas por la SECTEI\n",
    "cobertura <- data.frame(\n",
    "  ano = c(2030, 2035, 2045), \n",
    "  tbcob = c(1, 3, 5))\n",
    "\n",
    "#TASAS GENERLES PARA CADA PERIODO\n",
    "año_base <- sep_inicial|>\n",
    "  filter(ano == 2023)\n",
    "  \n",
    "#Tasas de cobertura para los años 2030, 2035 y 2045 (estas tasas son las metas establecidas por la SECTEI)\n",
    "t2030<-cobertura|>\n",
    "filter(ano == 2030)\n",
    "t2035<-cobertura|>\n",
    "filter(ano == 2035)\n",
    "t2045<-cobertura|>\n",
    "filter(ano == 2045)\n",
    "\n",
    "tc1= (t2030$tbcob / año_base$tbcob)^(1 / (2030 - 2023)) - 1\n",
    "tc2= (t2035$tbcob / t2030$tbcob)^(1 / (2035 - 2030)) - 1\n",
    "tc3= (t2045$tbcob / t2035$tbcob)^(1 / (2045 - 2035)) - 1\n",
    "\n",
    "tc1\n",
    "tc2\n",
    "tc3"
   ]
  },
  {
   "cell_type": "code",
   "execution_count": null,
   "id": "d623c6c9",
   "metadata": {
    "vscode": {
     "languageId": "r"
    }
   },
   "outputs": [],
   "source": [
    "#Proyecciones de la tasa de cobertura inicial, años 2024 a 2045\n",
    "proyecciones_inicial <- data.frame(\n",
    "  ano = 2024:2045) |>\n",
    "  mutate(tbcob = ifelse(ano < 2030,año_base$tbcob * (1 + tc1)^(ano - año_base$ano),\n",
    "                         ifelse(ano == 2030, t2030$tbcob,\n",
    "                                ifelse(ano < 2035, t2030$tbcob * (1 + tc2)^(ano - t2030$ano),\n",
    "                                        ifelse(ano == 2035, t2035$tbcob,\n",
    "                                                ifelse(ano < 2045, t2035$tbcob * (1 + tc3)^(ano - t2035$ano),\n",
    "                                                       ifelse(ano == 2045, t2045$tbcob, 0)))))))\n",
    "\n",
    "\n",
    "sep_med_inicial_proy <- sep_inicial |>\n",
    "  select(ano, tbcob)|>\n",
    "  bind_rows(proyecciones_med_inicial)\n",
    "\n",
    "sep_inicial_proy"
   ]
  },
  {
   "cell_type": "markdown",
   "id": "305e2b29",
   "metadata": {},
   "source": [
    "*Porcentaje de patentes solicitadas por personas mexicanas*"
   ]
  },
  {
   "cell_type": "code",
   "execution_count": 63,
   "id": "7706be4f",
   "metadata": {
    "vscode": {
     "languageId": "r"
    }
   },
   "outputs": [
    {
     "data": {
      "text/html": [
       "<table class=\"dataframe\">\n",
       "<caption>A tibble: 32 × 3</caption>\n",
       "<thead>\n",
       "\t<tr><th scope=col>ano</th><th scope=col>porcentaje</th><th scope=col>tipo</th></tr>\n",
       "\t<tr><th scope=col>&lt;int&gt;</th><th scope=col>&lt;dbl&gt;</th><th scope=col>&lt;chr&gt;</th></tr>\n",
       "</thead>\n",
       "<tbody>\n",
       "\t<tr><td>1993</td><td>48.82459</td><td>Observado</td></tr>\n",
       "\t<tr><td>1994</td><td>42.36948</td><td>Observado</td></tr>\n",
       "\t<tr><td>1995</td><td>46.06481</td><td>Observado</td></tr>\n",
       "\t<tr><td>1996</td><td>40.67358</td><td>Observado</td></tr>\n",
       "\t<tr><td>1997</td><td>37.61905</td><td>Observado</td></tr>\n",
       "\t<tr><td>1998</td><td>40.17660</td><td>Observado</td></tr>\n",
       "\t<tr><td>1999</td><td>40.21978</td><td>Observado</td></tr>\n",
       "\t<tr><td>2000</td><td>38.97912</td><td>Observado</td></tr>\n",
       "\t<tr><td>2001</td><td>40.44944</td><td>Observado</td></tr>\n",
       "\t<tr><td>2002</td><td>39.16350</td><td>Observado</td></tr>\n",
       "\t<tr><td>2003</td><td>35.68376</td><td>Observado</td></tr>\n",
       "\t<tr><td>2004</td><td>31.68142</td><td>Observado</td></tr>\n",
       "\t<tr><td>2005</td><td>36.30137</td><td>Observado</td></tr>\n",
       "\t<tr><td>2006</td><td>31.53310</td><td>Observado</td></tr>\n",
       "\t<tr><td>2007</td><td>34.16537</td><td>Observado</td></tr>\n",
       "\t<tr><td>2008</td><td>31.97080</td><td>Observado</td></tr>\n",
       "\t<tr><td>2009</td><td>28.34550</td><td>Observado</td></tr>\n",
       "\t<tr><td>2010</td><td>33.75394</td><td>Observado</td></tr>\n",
       "\t<tr><td>2011</td><td>29.01408</td><td>Observado</td></tr>\n",
       "\t<tr><td>2012</td><td>33.04954</td><td>Observado</td></tr>\n",
       "\t<tr><td>2013</td><td>31.95706</td><td>Observado</td></tr>\n",
       "\t<tr><td>2014</td><td>27.17042</td><td>Observado</td></tr>\n",
       "\t<tr><td>2015</td><td>26.90616</td><td>Observado</td></tr>\n",
       "\t<tr><td>2016</td><td>23.51145</td><td>Observado</td></tr>\n",
       "\t<tr><td>2017</td><td>24.96252</td><td>Observado</td></tr>\n",
       "\t<tr><td>2018</td><td>22.18650</td><td>Observado</td></tr>\n",
       "\t<tr><td>2019</td><td>22.60536</td><td>Observado</td></tr>\n",
       "\t<tr><td>2020</td><td>19.43463</td><td>Observado</td></tr>\n",
       "\t<tr><td>2021</td><td>17.54700</td><td>Observado</td></tr>\n",
       "\t<tr><td>2022</td><td>22.17701</td><td>Observado</td></tr>\n",
       "\t<tr><td>2023</td><td>20.65440</td><td>Observado</td></tr>\n",
       "\t<tr><td>2024</td><td>20.47782</td><td>Observado</td></tr>\n",
       "</tbody>\n",
       "</table>\n"
      ],
      "text/latex": [
       "A tibble: 32 × 3\n",
       "\\begin{tabular}{lll}\n",
       " ano & porcentaje & tipo\\\\\n",
       " <int> & <dbl> & <chr>\\\\\n",
       "\\hline\n",
       "\t 1993 & 48.82459 & Observado\\\\\n",
       "\t 1994 & 42.36948 & Observado\\\\\n",
       "\t 1995 & 46.06481 & Observado\\\\\n",
       "\t 1996 & 40.67358 & Observado\\\\\n",
       "\t 1997 & 37.61905 & Observado\\\\\n",
       "\t 1998 & 40.17660 & Observado\\\\\n",
       "\t 1999 & 40.21978 & Observado\\\\\n",
       "\t 2000 & 38.97912 & Observado\\\\\n",
       "\t 2001 & 40.44944 & Observado\\\\\n",
       "\t 2002 & 39.16350 & Observado\\\\\n",
       "\t 2003 & 35.68376 & Observado\\\\\n",
       "\t 2004 & 31.68142 & Observado\\\\\n",
       "\t 2005 & 36.30137 & Observado\\\\\n",
       "\t 2006 & 31.53310 & Observado\\\\\n",
       "\t 2007 & 34.16537 & Observado\\\\\n",
       "\t 2008 & 31.97080 & Observado\\\\\n",
       "\t 2009 & 28.34550 & Observado\\\\\n",
       "\t 2010 & 33.75394 & Observado\\\\\n",
       "\t 2011 & 29.01408 & Observado\\\\\n",
       "\t 2012 & 33.04954 & Observado\\\\\n",
       "\t 2013 & 31.95706 & Observado\\\\\n",
       "\t 2014 & 27.17042 & Observado\\\\\n",
       "\t 2015 & 26.90616 & Observado\\\\\n",
       "\t 2016 & 23.51145 & Observado\\\\\n",
       "\t 2017 & 24.96252 & Observado\\\\\n",
       "\t 2018 & 22.18650 & Observado\\\\\n",
       "\t 2019 & 22.60536 & Observado\\\\\n",
       "\t 2020 & 19.43463 & Observado\\\\\n",
       "\t 2021 & 17.54700 & Observado\\\\\n",
       "\t 2022 & 22.17701 & Observado\\\\\n",
       "\t 2023 & 20.65440 & Observado\\\\\n",
       "\t 2024 & 20.47782 & Observado\\\\\n",
       "\\end{tabular}\n"
      ],
      "text/markdown": [
       "\n",
       "A tibble: 32 × 3\n",
       "\n",
       "| ano &lt;int&gt; | porcentaje &lt;dbl&gt; | tipo &lt;chr&gt; |\n",
       "|---|---|---|\n",
       "| 1993 | 48.82459 | Observado |\n",
       "| 1994 | 42.36948 | Observado |\n",
       "| 1995 | 46.06481 | Observado |\n",
       "| 1996 | 40.67358 | Observado |\n",
       "| 1997 | 37.61905 | Observado |\n",
       "| 1998 | 40.17660 | Observado |\n",
       "| 1999 | 40.21978 | Observado |\n",
       "| 2000 | 38.97912 | Observado |\n",
       "| 2001 | 40.44944 | Observado |\n",
       "| 2002 | 39.16350 | Observado |\n",
       "| 2003 | 35.68376 | Observado |\n",
       "| 2004 | 31.68142 | Observado |\n",
       "| 2005 | 36.30137 | Observado |\n",
       "| 2006 | 31.53310 | Observado |\n",
       "| 2007 | 34.16537 | Observado |\n",
       "| 2008 | 31.97080 | Observado |\n",
       "| 2009 | 28.34550 | Observado |\n",
       "| 2010 | 33.75394 | Observado |\n",
       "| 2011 | 29.01408 | Observado |\n",
       "| 2012 | 33.04954 | Observado |\n",
       "| 2013 | 31.95706 | Observado |\n",
       "| 2014 | 27.17042 | Observado |\n",
       "| 2015 | 26.90616 | Observado |\n",
       "| 2016 | 23.51145 | Observado |\n",
       "| 2017 | 24.96252 | Observado |\n",
       "| 2018 | 22.18650 | Observado |\n",
       "| 2019 | 22.60536 | Observado |\n",
       "| 2020 | 19.43463 | Observado |\n",
       "| 2021 | 17.54700 | Observado |\n",
       "| 2022 | 22.17701 | Observado |\n",
       "| 2023 | 20.65440 | Observado |\n",
       "| 2024 | 20.47782 | Observado |\n",
       "\n"
      ],
      "text/plain": [
       "   ano  porcentaje tipo     \n",
       "1  1993 48.82459   Observado\n",
       "2  1994 42.36948   Observado\n",
       "3  1995 46.06481   Observado\n",
       "4  1996 40.67358   Observado\n",
       "5  1997 37.61905   Observado\n",
       "6  1998 40.17660   Observado\n",
       "7  1999 40.21978   Observado\n",
       "8  2000 38.97912   Observado\n",
       "9  2001 40.44944   Observado\n",
       "10 2002 39.16350   Observado\n",
       "11 2003 35.68376   Observado\n",
       "12 2004 31.68142   Observado\n",
       "13 2005 36.30137   Observado\n",
       "14 2006 31.53310   Observado\n",
       "15 2007 34.16537   Observado\n",
       "16 2008 31.97080   Observado\n",
       "17 2009 28.34550   Observado\n",
       "18 2010 33.75394   Observado\n",
       "19 2011 29.01408   Observado\n",
       "20 2012 33.04954   Observado\n",
       "21 2013 31.95706   Observado\n",
       "22 2014 27.17042   Observado\n",
       "23 2015 26.90616   Observado\n",
       "24 2016 23.51145   Observado\n",
       "25 2017 24.96252   Observado\n",
       "26 2018 22.18650   Observado\n",
       "27 2019 22.60536   Observado\n",
       "28 2020 19.43463   Observado\n",
       "29 2021 17.54700   Observado\n",
       "30 2022 22.17701   Observado\n",
       "31 2023 20.65440   Observado\n",
       "32 2024 20.47782   Observado"
      ]
     },
     "metadata": {},
     "output_type": "display_data"
    }
   ],
   "source": [
    "impi <- read_csv(\"https://datosabiertos.impi.gob.mx/IMPICifras/Invenciones03.csv\", \n",
    "                 col_names = FALSE, show_col_types = FALSE)\n",
    "# Procesar datos de IMPI\n",
    "impi <- impi |>\n",
    "  # Eliminar las primeras 4 filas y renombrar las columnas\n",
    "  slice(5:n())|>                            \n",
    "  set_names(as.character(impi[5, ])) |>     \n",
    "  janitor::clean_names() |>                \n",
    "  slice(-1)|>\n",
    "rename(entidad=2)|>\n",
    "filter(entidad==\"Ciudad de México\" | entidad==\"Total / Total\")|>\n",
    "#Dejar columna entidad y todas aquellas que contengan \"patentes\"\n",
    "select(entidad,contains(\"patentes\"))|>\n",
    "#Transformar columnas patentes a numérico\n",
    "#Eliminar comas de los números\n",
    "mutate(across(contains(\"patentes\"), ~ as.numeric(str_replace_all(., \",\", \"\"))) )|>\n",
    "# #Calcular porcentaje de patentes\n",
    "mutate(across(contains(\"patentes\"), ~ . / .[entidad == \"Total / Total\"] * 100))|>\n",
    "filter(entidad==\"Ciudad de México\")|>\n",
    "# #Long\n",
    "pivot_longer(cols = -entidad, names_to = \"tipo\", values_to = \"porcentaje\")|>\n",
    "#Crear variable año de 1993 hasta que se terminan las columnas\n",
    "mutate(ano = 1993:(1993 + n() - 1))|>\n",
    "filter(ano < 2025)|>\n",
    "select(ano, porcentaje)|>\n",
    "mutate(tipo = \"Observado\")\n",
    "\n",
    "\n",
    "impi"
   ]
  },
  {
   "cell_type": "code",
   "execution_count": 69,
   "id": "48a908d7",
   "metadata": {
    "vscode": {
     "languageId": "r"
    }
   },
   "outputs": [
    {
     "data": {
      "text/html": [
       "0.0131572208215134"
      ],
      "text/latex": [
       "0.0131572208215134"
      ],
      "text/markdown": [
       "0.0131572208215134"
      ],
      "text/plain": [
       "[1] 0.01315722"
      ]
     },
     "metadata": {},
     "output_type": "display_data"
    },
    {
     "data": {
      "text/html": [
       "0.0338147632856698"
      ],
      "text/latex": [
       "0.0338147632856698"
      ],
      "text/markdown": [
       "0.0338147632856698"
      ],
      "text/plain": [
       "[1] 0.03381476"
      ]
     },
     "metadata": {},
     "output_type": "display_data"
    },
    {
     "data": {
      "text/html": [
       "0.0371372893366482"
      ],
      "text/latex": [
       "0.0371372893366482"
      ],
      "text/markdown": [
       "0.0371372893366482"
      ],
      "text/plain": [
       "[1] 0.03713729"
      ]
     },
     "metadata": {},
     "output_type": "display_data"
    },
    {
     "data": {
      "text/html": [
       "0.0291860089647606"
      ],
      "text/latex": [
       "0.0291860089647606"
      ],
      "text/markdown": [
       "0.0291860089647606"
      ],
      "text/plain": [
       "[1] 0.02918601"
      ]
     },
     "metadata": {},
     "output_type": "display_data"
    }
   ],
   "source": [
    "#ESCENARIOS\n",
    "#TASAS GENERLES PARA CADA PERIODO\n",
    "porcentaje_base <- impi|>\n",
    "  filter(ano == 2024)|>\n",
    "  pull(porcentaje)\n",
    "\n",
    "#Tasa de crecimiento media anual para el periodo 2020-2024\n",
    "ano = (2024:2045)\n",
    "ano_base <- 2024\n",
    "tcma<-((impi$porcentaje[impi$ano==2024]/impi$porcentaje[impi$ano==2020])^(1/(2024-2020))-1)\n",
    "tcma\n",
    "\n",
    "#Metas establecidas por la SECTEI\n",
    "porcentaje <- data.frame(\n",
    "  ano = c(2030, 2035, 2045), \n",
    "  porcentaje = c(25, 30, 40))\n",
    "\n",
    "#TASAS GENERLES PARA CADA PERIODO\n",
    "año_bse <- impi|>\n",
    "  filter(ano == 2024)\n",
    "#Tasas de cobertura para los años 2030, 2035 y 2045 (estas tasas son las metas establecidas por la SECTEI)\n",
    "t2030<-porcentaje|>\n",
    "filter(ano == 2030)\n",
    "t2035<-porcentaje|>\n",
    "filter(ano == 2035)\n",
    "t2045<-porcentaje|>\n",
    "filter(ano == 2045)\n",
    "\n",
    "tc1= (t2030$porcentaje / año_bse$porcentaje)^(1 / (2030 - 2024)) - 1\n",
    "tc2= (t2035$porcentaje / t2030$porcentaje)^(1 / (2035 - 2030)) - 1\n",
    "tc3= (t2045$porcentaje / t2035$porcentaje)^(1 / (2045 - 2035)) - 1\n",
    "\n",
    "tc1\n",
    "tc2\n",
    "tc3"
   ]
  },
  {
   "cell_type": "code",
   "execution_count": 77,
   "id": "73075906",
   "metadata": {
    "vscode": {
     "languageId": "r"
    }
   },
   "outputs": [
    {
     "data": {
      "text/html": [
       "<table class=\"dataframe\">\n",
       "<caption>A tibble: 97 × 3</caption>\n",
       "<thead>\n",
       "\t<tr><th scope=col>ano</th><th scope=col>tipo</th><th scope=col>porcentaje</th></tr>\n",
       "\t<tr><th scope=col>&lt;int&gt;</th><th scope=col>&lt;chr&gt;</th><th scope=col>&lt;dbl&gt;</th></tr>\n",
       "</thead>\n",
       "<tbody>\n",
       "\t<tr><td>1993</td><td>Observado</td><td>48.82459</td></tr>\n",
       "\t<tr><td>1994</td><td>Observado</td><td>42.36948</td></tr>\n",
       "\t<tr><td>1995</td><td>Observado</td><td>46.06481</td></tr>\n",
       "\t<tr><td>1996</td><td>Observado</td><td>40.67358</td></tr>\n",
       "\t<tr><td>1997</td><td>Observado</td><td>37.61905</td></tr>\n",
       "\t<tr><td>1998</td><td>Observado</td><td>40.17660</td></tr>\n",
       "\t<tr><td>1999</td><td>Observado</td><td>40.21978</td></tr>\n",
       "\t<tr><td>2000</td><td>Observado</td><td>38.97912</td></tr>\n",
       "\t<tr><td>2001</td><td>Observado</td><td>40.44944</td></tr>\n",
       "\t<tr><td>2002</td><td>Observado</td><td>39.16350</td></tr>\n",
       "\t<tr><td>2003</td><td>Observado</td><td>35.68376</td></tr>\n",
       "\t<tr><td>2004</td><td>Observado</td><td>31.68142</td></tr>\n",
       "\t<tr><td>2005</td><td>Observado</td><td>36.30137</td></tr>\n",
       "\t<tr><td>2006</td><td>Observado</td><td>31.53310</td></tr>\n",
       "\t<tr><td>2007</td><td>Observado</td><td>34.16537</td></tr>\n",
       "\t<tr><td>2008</td><td>Observado</td><td>31.97080</td></tr>\n",
       "\t<tr><td>2009</td><td>Observado</td><td>28.34550</td></tr>\n",
       "\t<tr><td>2010</td><td>Observado</td><td>33.75394</td></tr>\n",
       "\t<tr><td>2011</td><td>Observado</td><td>29.01408</td></tr>\n",
       "\t<tr><td>2012</td><td>Observado</td><td>33.04954</td></tr>\n",
       "\t<tr><td>2013</td><td>Observado</td><td>31.95706</td></tr>\n",
       "\t<tr><td>2014</td><td>Observado</td><td>27.17042</td></tr>\n",
       "\t<tr><td>2015</td><td>Observado</td><td>26.90616</td></tr>\n",
       "\t<tr><td>2016</td><td>Observado</td><td>23.51145</td></tr>\n",
       "\t<tr><td>2017</td><td>Observado</td><td>24.96252</td></tr>\n",
       "\t<tr><td>2018</td><td>Observado</td><td>22.18650</td></tr>\n",
       "\t<tr><td>2019</td><td>Observado</td><td>22.60536</td></tr>\n",
       "\t<tr><td>2020</td><td>Observado</td><td>19.43463</td></tr>\n",
       "\t<tr><td>2021</td><td>Observado</td><td>17.54700</td></tr>\n",
       "\t<tr><td>2022</td><td>Observado</td><td>22.17701</td></tr>\n",
       "\t<tr><td>⋮</td><td>⋮</td><td>⋮</td></tr>\n",
       "\t<tr><td>2038</td><td>Inercial     </td><td>24.59</td></tr>\n",
       "\t<tr><td>2039</td><td>Inercial     </td><td>24.91</td></tr>\n",
       "\t<tr><td>2040</td><td>Inercial     </td><td>25.24</td></tr>\n",
       "\t<tr><td>2041</td><td>Inercial     </td><td>25.57</td></tr>\n",
       "\t<tr><td>2042</td><td>Inercial     </td><td>25.91</td></tr>\n",
       "\t<tr><td>2043</td><td>Inercial     </td><td>26.25</td></tr>\n",
       "\t<tr><td>2044</td><td>Inercial     </td><td>26.60</td></tr>\n",
       "\t<tr><td>2045</td><td>Inercial     </td><td>26.95</td></tr>\n",
       "\t<tr><td>2024</td><td>Transformador</td><td>20.48</td></tr>\n",
       "\t<tr><td>2025</td><td>Transformador</td><td>21.29</td></tr>\n",
       "\t<tr><td>2026</td><td>Transformador</td><td>22.13</td></tr>\n",
       "\t<tr><td>2027</td><td>Transformador</td><td>23.00</td></tr>\n",
       "\t<tr><td>2028</td><td>Transformador</td><td>23.91</td></tr>\n",
       "\t<tr><td>2029</td><td>Transformador</td><td>24.85</td></tr>\n",
       "\t<tr><td>2030</td><td>Transformador</td><td>25.83</td></tr>\n",
       "\t<tr><td>2031</td><td>Transformador</td><td>26.85</td></tr>\n",
       "\t<tr><td>2032</td><td>Transformador</td><td>27.91</td></tr>\n",
       "\t<tr><td>2033</td><td>Transformador</td><td>29.01</td></tr>\n",
       "\t<tr><td>2034</td><td>Transformador</td><td>30.16</td></tr>\n",
       "\t<tr><td>2035</td><td>Transformador</td><td>31.35</td></tr>\n",
       "\t<tr><td>2036</td><td>Transformador</td><td>32.59</td></tr>\n",
       "\t<tr><td>2037</td><td>Transformador</td><td>33.87</td></tr>\n",
       "\t<tr><td>2038</td><td>Transformador</td><td>35.21</td></tr>\n",
       "\t<tr><td>2039</td><td>Transformador</td><td>36.60</td></tr>\n",
       "\t<tr><td>2040</td><td>Transformador</td><td>38.04</td></tr>\n",
       "\t<tr><td>2041</td><td>Transformador</td><td>39.55</td></tr>\n",
       "\t<tr><td>2042</td><td>Transformador</td><td>41.11</td></tr>\n",
       "\t<tr><td>2043</td><td>Transformador</td><td>42.73</td></tr>\n",
       "\t<tr><td>2044</td><td>Transformador</td><td>44.42</td></tr>\n",
       "\t<tr><td>2045</td><td>Transformador</td><td>46.17</td></tr>\n",
       "</tbody>\n",
       "</table>\n"
      ],
      "text/latex": [
       "A tibble: 97 × 3\n",
       "\\begin{tabular}{lll}\n",
       " ano & tipo & porcentaje\\\\\n",
       " <int> & <chr> & <dbl>\\\\\n",
       "\\hline\n",
       "\t 1993 & Observado & 48.82459\\\\\n",
       "\t 1994 & Observado & 42.36948\\\\\n",
       "\t 1995 & Observado & 46.06481\\\\\n",
       "\t 1996 & Observado & 40.67358\\\\\n",
       "\t 1997 & Observado & 37.61905\\\\\n",
       "\t 1998 & Observado & 40.17660\\\\\n",
       "\t 1999 & Observado & 40.21978\\\\\n",
       "\t 2000 & Observado & 38.97912\\\\\n",
       "\t 2001 & Observado & 40.44944\\\\\n",
       "\t 2002 & Observado & 39.16350\\\\\n",
       "\t 2003 & Observado & 35.68376\\\\\n",
       "\t 2004 & Observado & 31.68142\\\\\n",
       "\t 2005 & Observado & 36.30137\\\\\n",
       "\t 2006 & Observado & 31.53310\\\\\n",
       "\t 2007 & Observado & 34.16537\\\\\n",
       "\t 2008 & Observado & 31.97080\\\\\n",
       "\t 2009 & Observado & 28.34550\\\\\n",
       "\t 2010 & Observado & 33.75394\\\\\n",
       "\t 2011 & Observado & 29.01408\\\\\n",
       "\t 2012 & Observado & 33.04954\\\\\n",
       "\t 2013 & Observado & 31.95706\\\\\n",
       "\t 2014 & Observado & 27.17042\\\\\n",
       "\t 2015 & Observado & 26.90616\\\\\n",
       "\t 2016 & Observado & 23.51145\\\\\n",
       "\t 2017 & Observado & 24.96252\\\\\n",
       "\t 2018 & Observado & 22.18650\\\\\n",
       "\t 2019 & Observado & 22.60536\\\\\n",
       "\t 2020 & Observado & 19.43463\\\\\n",
       "\t 2021 & Observado & 17.54700\\\\\n",
       "\t 2022 & Observado & 22.17701\\\\\n",
       "\t ⋮ & ⋮ & ⋮\\\\\n",
       "\t 2038 & Inercial      & 24.59\\\\\n",
       "\t 2039 & Inercial      & 24.91\\\\\n",
       "\t 2040 & Inercial      & 25.24\\\\\n",
       "\t 2041 & Inercial      & 25.57\\\\\n",
       "\t 2042 & Inercial      & 25.91\\\\\n",
       "\t 2043 & Inercial      & 26.25\\\\\n",
       "\t 2044 & Inercial      & 26.60\\\\\n",
       "\t 2045 & Inercial      & 26.95\\\\\n",
       "\t 2024 & Transformador & 20.48\\\\\n",
       "\t 2025 & Transformador & 21.29\\\\\n",
       "\t 2026 & Transformador & 22.13\\\\\n",
       "\t 2027 & Transformador & 23.00\\\\\n",
       "\t 2028 & Transformador & 23.91\\\\\n",
       "\t 2029 & Transformador & 24.85\\\\\n",
       "\t 2030 & Transformador & 25.83\\\\\n",
       "\t 2031 & Transformador & 26.85\\\\\n",
       "\t 2032 & Transformador & 27.91\\\\\n",
       "\t 2033 & Transformador & 29.01\\\\\n",
       "\t 2034 & Transformador & 30.16\\\\\n",
       "\t 2035 & Transformador & 31.35\\\\\n",
       "\t 2036 & Transformador & 32.59\\\\\n",
       "\t 2037 & Transformador & 33.87\\\\\n",
       "\t 2038 & Transformador & 35.21\\\\\n",
       "\t 2039 & Transformador & 36.60\\\\\n",
       "\t 2040 & Transformador & 38.04\\\\\n",
       "\t 2041 & Transformador & 39.55\\\\\n",
       "\t 2042 & Transformador & 41.11\\\\\n",
       "\t 2043 & Transformador & 42.73\\\\\n",
       "\t 2044 & Transformador & 44.42\\\\\n",
       "\t 2045 & Transformador & 46.17\\\\\n",
       "\\end{tabular}\n"
      ],
      "text/markdown": [
       "\n",
       "A tibble: 97 × 3\n",
       "\n",
       "| ano &lt;int&gt; | tipo &lt;chr&gt; | porcentaje &lt;dbl&gt; |\n",
       "|---|---|---|\n",
       "| 1993 | Observado | 48.82459 |\n",
       "| 1994 | Observado | 42.36948 |\n",
       "| 1995 | Observado | 46.06481 |\n",
       "| 1996 | Observado | 40.67358 |\n",
       "| 1997 | Observado | 37.61905 |\n",
       "| 1998 | Observado | 40.17660 |\n",
       "| 1999 | Observado | 40.21978 |\n",
       "| 2000 | Observado | 38.97912 |\n",
       "| 2001 | Observado | 40.44944 |\n",
       "| 2002 | Observado | 39.16350 |\n",
       "| 2003 | Observado | 35.68376 |\n",
       "| 2004 | Observado | 31.68142 |\n",
       "| 2005 | Observado | 36.30137 |\n",
       "| 2006 | Observado | 31.53310 |\n",
       "| 2007 | Observado | 34.16537 |\n",
       "| 2008 | Observado | 31.97080 |\n",
       "| 2009 | Observado | 28.34550 |\n",
       "| 2010 | Observado | 33.75394 |\n",
       "| 2011 | Observado | 29.01408 |\n",
       "| 2012 | Observado | 33.04954 |\n",
       "| 2013 | Observado | 31.95706 |\n",
       "| 2014 | Observado | 27.17042 |\n",
       "| 2015 | Observado | 26.90616 |\n",
       "| 2016 | Observado | 23.51145 |\n",
       "| 2017 | Observado | 24.96252 |\n",
       "| 2018 | Observado | 22.18650 |\n",
       "| 2019 | Observado | 22.60536 |\n",
       "| 2020 | Observado | 19.43463 |\n",
       "| 2021 | Observado | 17.54700 |\n",
       "| 2022 | Observado | 22.17701 |\n",
       "| ⋮ | ⋮ | ⋮ |\n",
       "| 2038 | Inercial      | 24.59 |\n",
       "| 2039 | Inercial      | 24.91 |\n",
       "| 2040 | Inercial      | 25.24 |\n",
       "| 2041 | Inercial      | 25.57 |\n",
       "| 2042 | Inercial      | 25.91 |\n",
       "| 2043 | Inercial      | 26.25 |\n",
       "| 2044 | Inercial      | 26.60 |\n",
       "| 2045 | Inercial      | 26.95 |\n",
       "| 2024 | Transformador | 20.48 |\n",
       "| 2025 | Transformador | 21.29 |\n",
       "| 2026 | Transformador | 22.13 |\n",
       "| 2027 | Transformador | 23.00 |\n",
       "| 2028 | Transformador | 23.91 |\n",
       "| 2029 | Transformador | 24.85 |\n",
       "| 2030 | Transformador | 25.83 |\n",
       "| 2031 | Transformador | 26.85 |\n",
       "| 2032 | Transformador | 27.91 |\n",
       "| 2033 | Transformador | 29.01 |\n",
       "| 2034 | Transformador | 30.16 |\n",
       "| 2035 | Transformador | 31.35 |\n",
       "| 2036 | Transformador | 32.59 |\n",
       "| 2037 | Transformador | 33.87 |\n",
       "| 2038 | Transformador | 35.21 |\n",
       "| 2039 | Transformador | 36.60 |\n",
       "| 2040 | Transformador | 38.04 |\n",
       "| 2041 | Transformador | 39.55 |\n",
       "| 2042 | Transformador | 41.11 |\n",
       "| 2043 | Transformador | 42.73 |\n",
       "| 2044 | Transformador | 44.42 |\n",
       "| 2045 | Transformador | 46.17 |\n",
       "\n"
      ],
      "text/plain": [
       "   ano  tipo          porcentaje\n",
       "1  1993 Observado     48.82459  \n",
       "2  1994 Observado     42.36948  \n",
       "3  1995 Observado     46.06481  \n",
       "4  1996 Observado     40.67358  \n",
       "5  1997 Observado     37.61905  \n",
       "6  1998 Observado     40.17660  \n",
       "7  1999 Observado     40.21978  \n",
       "8  2000 Observado     38.97912  \n",
       "9  2001 Observado     40.44944  \n",
       "10 2002 Observado     39.16350  \n",
       "11 2003 Observado     35.68376  \n",
       "12 2004 Observado     31.68142  \n",
       "13 2005 Observado     36.30137  \n",
       "14 2006 Observado     31.53310  \n",
       "15 2007 Observado     34.16537  \n",
       "16 2008 Observado     31.97080  \n",
       "17 2009 Observado     28.34550  \n",
       "18 2010 Observado     33.75394  \n",
       "19 2011 Observado     29.01408  \n",
       "20 2012 Observado     33.04954  \n",
       "21 2013 Observado     31.95706  \n",
       "22 2014 Observado     27.17042  \n",
       "23 2015 Observado     26.90616  \n",
       "24 2016 Observado     23.51145  \n",
       "25 2017 Observado     24.96252  \n",
       "26 2018 Observado     22.18650  \n",
       "27 2019 Observado     22.60536  \n",
       "28 2020 Observado     19.43463  \n",
       "29 2021 Observado     17.54700  \n",
       "30 2022 Observado     22.17701  \n",
       "⋮  ⋮    ⋮             ⋮         \n",
       "68 2038 Inercial      24.59     \n",
       "69 2039 Inercial      24.91     \n",
       "70 2040 Inercial      25.24     \n",
       "71 2041 Inercial      25.57     \n",
       "72 2042 Inercial      25.91     \n",
       "73 2043 Inercial      26.25     \n",
       "74 2044 Inercial      26.60     \n",
       "75 2045 Inercial      26.95     \n",
       "76 2024 Transformador 20.48     \n",
       "77 2025 Transformador 21.29     \n",
       "78 2026 Transformador 22.13     \n",
       "79 2027 Transformador 23.00     \n",
       "80 2028 Transformador 23.91     \n",
       "81 2029 Transformador 24.85     \n",
       "82 2030 Transformador 25.83     \n",
       "83 2031 Transformador 26.85     \n",
       "84 2032 Transformador 27.91     \n",
       "85 2033 Transformador 29.01     \n",
       "86 2034 Transformador 30.16     \n",
       "87 2035 Transformador 31.35     \n",
       "88 2036 Transformador 32.59     \n",
       "89 2037 Transformador 33.87     \n",
       "90 2038 Transformador 35.21     \n",
       "91 2039 Transformador 36.60     \n",
       "92 2040 Transformador 38.04     \n",
       "93 2041 Transformador 39.55     \n",
       "94 2042 Transformador 41.11     \n",
       "95 2043 Transformador 42.73     \n",
       "96 2044 Transformador 44.42     \n",
       "97 2045 Transformador 46.17     "
      ]
     },
     "metadata": {},
     "output_type": "display_data"
    }
   ],
   "source": [
    "#Proyecciones \n",
    "proyecciones_impi <- data.frame(\n",
    "  ano = 2025:2045) |>\n",
    "  mutate(porcentaje = ifelse(ano < 2030,año_bse$porcentaje * (1 + tc1)^(ano - año_bse$ano),\n",
    "                         ifelse(ano == 2030, t2030$porcentaje,\n",
    "                                ifelse(ano < 2035, t2030$porcentaje * (1 + tc2)^(ano - t2030$ano),\n",
    "                                        ifelse(ano == 2035, t2035$porcentaje,\n",
    "                                                ifelse(ano < 2045, t2035$porcentaje * (1 + tc3)^(ano - t2035$ano),\n",
    "                                                       ifelse(ano == 2045, t2045$porcentaje, 0)))))),\n",
    "          tipo = \"Deseable\")\n",
    "\n",
    "\n",
    "#ESTABLECIMIENTO DE LAS TENEDENCIAS (ESCENARIO INERCIAL Y TRANSFORMADOR)\n",
    "tendencia_base <- data.frame(ano = ano,\n",
    "                             porcentaje = round(porcentaje_base * (1 + tcma ) ^ (ano - año_base), 2),\n",
    "                             tipo = \"Inercial\")\n",
    "\n",
    "tendencia_transformador <- data.frame(ano = ano,\n",
    "                                       porcentaje = round(porcentaje_base * (1 + tcma*3) ^ (ano - ano_base), 2),\n",
    "                                       tipo = \"Transformador\")\n",
    "\t\t\t\t\t\t\t\t\t   \n",
    "\t\t\t\t\t\t\t\t\t   \n",
    "impi_proy <- impi |>\n",
    "  select(ano, tipo, porcentaje)|>\n",
    "  bind_rows(proyecciones_impi, tendencia_base, tendencia_transformador)\n",
    "\n",
    "  impi_proy"
   ]
  },
  {
   "cell_type": "code",
   "execution_count": 78,
   "id": "2452e396",
   "metadata": {
    "vscode": {
     "languageId": "r"
    }
   },
   "outputs": [],
   "source": [
    " lineas <- bind_rows(data.frame(ano = c(2024, 2030),\n",
    "                               porcentaje = c(impi_proy$porcentaje[impi_proy$ano == 2024 & impi_proy$tipo == \"Observado\"],\n",
    "                                              impi_proy$porcentaje[impi_proy$ano == 2030 & impi_proy$tipo == \"Inercial\"]),\n",
    "                               tipo = \"Inercial\"),\n",
    "                    data.frame(ano = c(2024, 2030),\n",
    "                               porcentaje = c(impi_proy$porcentaje[impi_proy$ano == 2024 & impi_proy$tipo == \"Observado\"], \n",
    "                                              impi_proy$porcentaje[impi_proy$ano == 2030 & impi_proy$tipo == \"Deseable\"]),\n",
    "                               tipo = \"Deseable\"), \n",
    "                    data.frame(ano = c(2024, 2030),\n",
    "                               porcentaje = c(impi_proy$porcentaje[impi_proy$ano == 2024 & impi_proy$tipo == \"Observado\"], \n",
    "                                              impi_proy$porcentaje[impi_proy$ano == 2030 & impi_proy$tipo == \"Transformador\"]),\n",
    "                               tipo = \"Transformador\"))\n",
    "                               \n",
    "paleta_colores <- c(\"Observado\" = \"#9F2241\",\n",
    "                    \"Inercial\" = \"#cfcfcf\" ,\n",
    "                    \"Deseable\" = \"#027A35\", \n",
    "                    \"Transformador\" = \"#AC6D14\")\n",
    "\n",
    "linetypes <- c(\"Observado\" = \"solid\",\n",
    "               \"Inercial\" = \"dotdash\",\n",
    "               \"Deseable\" = \"dotdash\", \n",
    "               \"Transformador\" = \"dotdash\")\n",
    "\n"
   ]
  },
  {
   "cell_type": "code",
   "execution_count": null,
   "id": "079a8f75",
   "metadata": {
    "vscode": {
     "languageId": "r"
    }
   },
   "outputs": [
    {
     "data": {
      "image/png": "[encoded data removed]",
      "text/plain": [
       "plot without title"
      ]
     },
     "metadata": {
      "image/png": {
       "height": 420,
       "width": 420
      }
     },
     "output_type": "display_data"
    }
   ],
   "source": [
    "# Gráfico con etiquetas y eje Y personalizado\n",
    "ggplot(impi_proy, aes(x = ano, y = porcentaje, group = tipo, color = tipo, linetype = tipo)) +\n",
    "  geom_line(linewidth = 1.2) +\n",
    "  geom_point(size = 1.5) +\n",
    "geom_text(data = subset(impi_proy, ano %in% c(2020, 2024, 2030, 2035, 2045)),\n",
    "          aes(label = paste0(round(porcentaje, 1), \"%\")),\n",
    "          vjust = -1, size = 8, family = \"Roboto\", show.legend = FALSE) +\n",
    "  scale_color_manual(values = paleta_colores) +\n",
    "  scale_linetype_manual(values = linetypes) +\n",
    "  scale_y_continuous(breaks = seq(0, max(impi_proy$porcentaje, na.rm = TRUE) + 5, by = 5),\n",
    "                     labels = function(x) paste0(x, \"%\"),\n",
    "                     expand = expansion(mult = c(1, 1))) +\n",
    "  labs(title = \"Porcentaje de patentes solicitadas por personas mexicanas en Ciudad de México\",\n",
    "       x = \"Año\",\n",
    "       y = \"Porcentaje\",\n",
    "       color = \"\",\n",
    "       linetype = \"\") +\n",
    "  theme_bw(base_size = 15, base_family = \"Roboto\") +\n",
    "  theme( panel.grid.minor.y = element_line(color = \"gray80\", linetype = \"dotted\"),\n",
    "         panel.grid.minor.x = element_blank(),\n",
    "         panel.grid.major.y = element_blank(),\n",
    "         panel.border = element_blank(),\n",
    "         axis.line = element_line(color = \"gray80\"),\n",
    "         legend.position = \"top\",\n",
    "         plot.caption = element_text(hjust = 0))\n",
    "\n",
    "# Guardar el gráfico\n",
    "#ggsave(\"porcentaje_patentes_ciudad_mexico.png\", width = 12, height = 8, dpi = 300)"
   ]
  },
  {
   "cell_type": "markdown",
   "id": "80bbb356",
   "metadata": {},
   "source": [
    "*Porcentaje de población en pobreza por rezago educativo*"
   ]
  },
  {
   "cell_type": "code",
   "execution_count": 87,
   "id": "c43dac82",
   "metadata": {
    "vscode": {
     "languageId": "r"
    }
   },
   "outputs": [
    {
     "name": "stderr",
     "output_type": "stream",
     "text": [
      "\u001b[1m\u001b[22mNew names:\n",
      "\u001b[36m•\u001b[39m `` -> `...2`\n",
      "\u001b[36m•\u001b[39m `` -> `...3`\n",
      "\u001b[36m•\u001b[39m `` -> `...4`\n",
      "\u001b[36m•\u001b[39m `` -> `...5`\n",
      "\u001b[36m•\u001b[39m `` -> `...6`\n",
      "\u001b[36m•\u001b[39m `` -> `...7`\n",
      "\u001b[36m•\u001b[39m `` -> `...8`\n",
      "\u001b[36m•\u001b[39m `` -> `...9`\n",
      "\u001b[36m•\u001b[39m `` -> `...10`\n",
      "\u001b[36m•\u001b[39m `` -> `...11`\n",
      "\u001b[36m•\u001b[39m `` -> `...12`\n",
      "\u001b[36m•\u001b[39m `` -> `...13`\n",
      "\u001b[36m•\u001b[39m `` -> `...14`\n",
      "\u001b[36m•\u001b[39m `` -> `...15`\n",
      "\u001b[36m•\u001b[39m `` -> `...16`\n",
      "\u001b[36m•\u001b[39m `` -> `...17`\n",
      "\u001b[36m•\u001b[39m `` -> `...18`\n",
      "\u001b[36m•\u001b[39m `` -> `...19`\n",
      "\u001b[36m•\u001b[39m `` -> `...20`\n",
      "\u001b[36m•\u001b[39m `` -> `...21`\n",
      "\u001b[36m•\u001b[39m `` -> `...22`\n",
      "\u001b[36m•\u001b[39m `` -> `...23`\n",
      "\u001b[36m•\u001b[39m `` -> `...24`\n",
      "\u001b[36m•\u001b[39m `` -> `...25`\n",
      "\u001b[36m•\u001b[39m `` -> `...26`\n",
      "\u001b[36m•\u001b[39m `` -> `...27`\n",
      "\u001b[36m•\u001b[39m `` -> `...28`\n",
      "\u001b[36m•\u001b[39m `` -> `...29`\n",
      "\u001b[36m•\u001b[39m `` -> `...30`\n",
      "\u001b[36m•\u001b[39m `` -> `...31`\n",
      "\u001b[36m•\u001b[39m `` -> `...32`\n",
      "\u001b[36m•\u001b[39m `` -> `...33`\n",
      "\u001b[36m•\u001b[39m `` -> `...34`\n",
      "\u001b[36m•\u001b[39m `` -> `...35`\n",
      "\u001b[36m•\u001b[39m `` -> `...36`\n",
      "\u001b[36m•\u001b[39m `` -> `...37`\n",
      "\u001b[36m•\u001b[39m `` -> `...38`\n",
      "\u001b[36m•\u001b[39m `` -> `...39`\n",
      "\u001b[36m•\u001b[39m `` -> `...40`\n",
      "\u001b[36m•\u001b[39m `` -> `...41`\n",
      "\u001b[36m•\u001b[39m `` -> `...42`\n",
      "\u001b[36m•\u001b[39m `` -> `...43`\n",
      "\u001b[36m•\u001b[39m `` -> `...44`\n",
      "\u001b[36m•\u001b[39m `` -> `...45`\n",
      "\u001b[36m•\u001b[39m `` -> `...46`\n",
      "\u001b[36m•\u001b[39m `` -> `...47`\n",
      "\u001b[36m•\u001b[39m `` -> `...48`\n",
      "\u001b[36m•\u001b[39m `` -> `...49`\n",
      "\u001b[36m•\u001b[39m `` -> `...50`\n",
      "\u001b[36m•\u001b[39m `` -> `...51`\n",
      "\u001b[36m•\u001b[39m `` -> `...52`\n",
      "\u001b[36m•\u001b[39m `` -> `...53`\n",
      "\u001b[36m•\u001b[39m `` -> `...54`\n",
      "\u001b[36m•\u001b[39m `` -> `...55`\n",
      "\u001b[36m•\u001b[39m `` -> `...56`\n",
      "\u001b[36m•\u001b[39m `` -> `...57`\n",
      "\u001b[36m•\u001b[39m `` -> `...58`\n",
      "\u001b[36m•\u001b[39m `` -> `...59`\n",
      "\u001b[36m•\u001b[39m `` -> `...60`\n",
      "\u001b[36m•\u001b[39m `` -> `...61`\n",
      "\u001b[36m•\u001b[39m `` -> `...62`\n",
      "\u001b[36m•\u001b[39m `` -> `...63`\n",
      "\u001b[36m•\u001b[39m `` -> `...64`\n",
      "\u001b[36m•\u001b[39m `` -> `...65`\n",
      "\u001b[36m•\u001b[39m `` -> `...66`\n",
      "\u001b[36m•\u001b[39m `` -> `...67`\n"
     ]
    }
   ],
   "source": [
    "#Base de datos del Consejo de Evaluación de la Ciudad de México: Pobreza y Desigualdad\n",
    "url <- \"https://www.evalua.cdmx.gob.mx/storage/app/media/2024/die/2018-2022/NA/4-Cuadros%20MMIP%20Entidad%20Federativa%202018-2022.xlsx\"\n",
    "base_pobreza <- tempfile(fileext = \".xlsx\")\n",
    "download.file(url, base_pobreza, mode = \"wb\")\n",
    "#Cargar la base de pobreza (Pobreza en Educación por entidad federativa)\n",
    "pobreza_edu <- readxl::read_excel(base_pobreza, sheet = 8, skip = 8)"
   ]
  },
  {
   "cell_type": "code",
   "execution_count": 88,
   "id": "1a2295bb",
   "metadata": {
    "vscode": {
     "languageId": "r"
    }
   },
   "outputs": [
    {
     "data": {
      "text/html": [
       "<table class=\"dataframe\">\n",
       "<caption>A tibble: 3 × 3</caption>\n",
       "<thead>\n",
       "\t<tr><th scope=col>ano</th><th scope=col>porcentaje</th><th scope=col>tipo</th></tr>\n",
       "\t<tr><th scope=col>&lt;dbl&gt;</th><th scope=col>&lt;dbl&gt;</th><th scope=col>&lt;chr&gt;</th></tr>\n",
       "</thead>\n",
       "<tbody>\n",
       "\t<tr><td>2018</td><td>25.42980</td><td>Observado</td></tr>\n",
       "\t<tr><td>2020</td><td>24.16627</td><td>Observado</td></tr>\n",
       "\t<tr><td>2022</td><td>23.92191</td><td>Observado</td></tr>\n",
       "</tbody>\n",
       "</table>\n"
      ],
      "text/latex": [
       "A tibble: 3 × 3\n",
       "\\begin{tabular}{lll}\n",
       " ano & porcentaje & tipo\\\\\n",
       " <dbl> & <dbl> & <chr>\\\\\n",
       "\\hline\n",
       "\t 2018 & 25.42980 & Observado\\\\\n",
       "\t 2020 & 24.16627 & Observado\\\\\n",
       "\t 2022 & 23.92191 & Observado\\\\\n",
       "\\end{tabular}\n"
      ],
      "text/markdown": [
       "\n",
       "A tibble: 3 × 3\n",
       "\n",
       "| ano &lt;dbl&gt; | porcentaje &lt;dbl&gt; | tipo &lt;chr&gt; |\n",
       "|---|---|---|\n",
       "| 2018 | 25.42980 | Observado |\n",
       "| 2020 | 24.16627 | Observado |\n",
       "| 2022 | 23.92191 | Observado |\n",
       "\n"
      ],
      "text/plain": [
       "  ano  porcentaje tipo     \n",
       "1 2018 25.42980   Observado\n",
       "2 2020 24.16627   Observado\n",
       "3 2022 23.92191   Observado"
      ]
     },
     "metadata": {},
     "output_type": "display_data"
    }
   ],
   "source": [
    "#Preprocesamiento de la tabla de pobreza (limpieza de encabezados)\n",
    "#Construcción de los encabezados\n",
    "#Primera fila de encabezados: Tipo de pobreza\n",
    "header1 <- pobreza_edu[2, ] |> unlist(use.names = FALSE)\n",
    "header1_filled <- data.frame(valor = header1) |>\n",
    "  fill(valor, .direction = \"down\") |>\n",
    "  pull(valor) \n",
    "#Segunda fila de encabezados: Tipo de valor si es absoluto o porcentaje\n",
    "header2 <- pobreza_edu[3, ] |> unlist(use.names = FALSE)\n",
    "header2_filled <- data.frame(valor = header2) |>\n",
    "  fill(valor, .direction = \"down\") |>\n",
    "  pull(valor)\n",
    "# Asegurarse de que el primer valor no sea NA\n",
    "if (is.na(header2_filled[1])) {\n",
    "  header2_filled[1] <- \"E\"\n",
    "}\n",
    "#Tercer fila de encabezados: Año de la medición\n",
    "header3 <- pobreza_edu[4, ] |> unlist(use.names = FALSE)\n",
    "header3_filled <- data.frame(valor = header3) |>\n",
    "  fill(valor, .direction = \"down\") |>\n",
    "  pull(valor) \n",
    "# Asegurarse de que el primer valor no sea NA\n",
    "if (is.na(header3_filled[1])) {\n",
    "  header3_filled[1] <- \"_\"\n",
    "}\n",
    "\n",
    "#Combinar los encabezados para crear nombres de columnas únicos\n",
    "nombres_col <- mapply(function(h1, h2, h3) {\n",
    "  partes <- na.omit(c(h1, h2, h3))\n",
    "  paste(partes, collapse = \"_\")\n",
    "}, header1_filled, header2_filled, header3_filled)\n",
    "#Eliminar las filas de encabezados\n",
    "pobreza_edu <- pobreza_edu[-c(1:4), ]\n",
    "#Renombrar las columnas de la tabla de pobreza\n",
    "colnames(pobreza_edu) <- nombres_col\n",
    "#Limpiar los nombres de las columnas\n",
    "pobreza_edu <- pobreza_edu |>\n",
    "  janitor::clean_names()|>\n",
    "  select(entidades_federativas_e, pobreza_total2_porcentaje_2018, pobreza_total2_porcentaje_2020, pobreza_total2_porcentaje_2022)|>\n",
    "  mutate(across(2:4, ~ as.numeric(str_replace_all(., \",\", \"\"))))\n",
    "  \n",
    "#Seleccionamos las columnas de interes, en este caso los valores de pobreza total en porcentaje para los años 2018, 2020 y 2022\n",
    "pobreza_edu <- pobreza_edu |>\n",
    "  \n",
    "  rename(`2018` = pobreza_total2_porcentaje_2018,\n",
    "         `2020` = pobreza_total2_porcentaje_2020,\n",
    "         `2022` = pobreza_total2_porcentaje_2022) |>\n",
    "  filter(entidades_federativas_e == \"Ciudad de México\") |>\n",
    "  pivot_longer(cols = c(`2018`, `2020`, `2022`),\n",
    "               names_to = \"ano\",\n",
    "               values_to = \"porcentaje\")\n",
    "\n",
    "# Ver resultado\n",
    "pobreza_edu<-pobreza_edu|>\n",
    "  mutate(ano = as.numeric(ano)) |>\n",
    "  select(ano, porcentaje)|>\n",
    "  mutate(tipo = \"Observado\")\n",
    "\n",
    "pobreza_edu"
   ]
  },
  {
   "cell_type": "code",
   "execution_count": 96,
   "id": "71252d2e",
   "metadata": {
    "vscode": {
     "languageId": "r"
    }
   },
   "outputs": [
    {
     "data": {
      "text/html": [
       "-0.0050687175741374"
      ],
      "text/latex": [
       "-0.0050687175741374"
      ],
      "text/markdown": [
       "-0.0050687175741374"
      ],
      "text/plain": [
       "[1] -0.005068718"
      ]
     },
     "metadata": {},
     "output_type": "display_data"
    },
    {
     "data": {
      "text/html": [
       "-0.0221341613262382"
      ],
      "text/latex": [
       "-0.0221341613262382"
      ],
      "text/markdown": [
       "-0.0221341613262382"
      ],
      "text/plain": [
       "[1] -0.02213416"
      ]
     },
     "metadata": {},
     "output_type": "display_data"
    },
    {
     "data": {
      "text/html": [
       "-0.0319812149975186"
      ],
      "text/latex": [
       "-0.0319812149975186"
      ],
      "text/markdown": [
       "-0.0319812149975186"
      ],
      "text/plain": [
       "[1] -0.03198121"
      ]
     },
     "metadata": {},
     "output_type": "display_data"
    },
    {
     "data": {
      "text/html": [
       "-0.0425978986024024"
      ],
      "text/latex": [
       "-0.0425978986024024"
      ],
      "text/markdown": [
       "-0.0425978986024024"
      ],
      "text/plain": [
       "[1] -0.0425979"
      ]
     },
     "metadata": {},
     "output_type": "display_data"
    }
   ],
   "source": [
    "#ESCENARIOS\n",
    "#TASAS GENERLES PARA CADA PERIODO\n",
    "porcentaje_base <- pobreza_edu|>\n",
    "  filter(ano == 2022)|>\n",
    "  pull(porcentaje)\n",
    "\n",
    "#Tasa de crecimiento media anual para el periodo 2020-2022\n",
    "ano = (2022:2045)\n",
    "año_base <- 2022\n",
    "tcma<-((pobreza_edu$porcentaje[pobreza_edu$ano==2022]/pobreza_edu$porcentaje[pobreza_edu$ano==2020])^(1/(2022-2020))-1)\n",
    "tcma\n",
    "#Metas establecidas por la SECTEI\n",
    "porcentaje <- data.frame(\n",
    "  ano = c(2030, 2035, 2045), \n",
    "  porcentaje = c(20, 17, 11))\n",
    "#TASAS GENERLES PARA CADA PERIODO\n",
    "año_bse <- pobreza_edu|>\n",
    "  filter(ano == 2022)\n",
    "\n",
    "#Tasas de cobertura para los años 2030, 2035 y 2045 (estas tasas son las metas establecidas por la SECTEI)\n",
    "t2030<-porcentaje|>\n",
    "filter(ano == 2030)\n",
    "t2035<-porcentaje|>\n",
    "filter(ano == 2035)\n",
    "t2045<-porcentaje|>\n",
    "filter(ano == 2045)\n",
    "\n",
    "tc1= (t2030$porcentaje / año_bse$porcentaje)^(1 / (2030 - 2022)) - 1\n",
    "tc2= (t2035$porcentaje / t2030$porcentaje)^(1 / (2035 - 2030)) - 1\n",
    "tc3= (t2045$porcentaje / t2035$porcentaje)^(1 / (2045 - 2035)) - 1\n",
    "\n",
    "tc1\n",
    "tc2\n",
    "tc3"
   ]
  },
  {
   "cell_type": "code",
   "execution_count": 108,
   "id": "677b21a4",
   "metadata": {
    "vscode": {
     "languageId": "r"
    }
   },
   "outputs": [
    {
     "data": {
      "text/html": [
       "<table class=\"dataframe\">\n",
       "<caption>A tibble: 72 × 3</caption>\n",
       "<thead>\n",
       "\t<tr><th scope=col>ano</th><th scope=col>tipo</th><th scope=col>porcentaje</th></tr>\n",
       "\t<tr><th scope=col>&lt;dbl&gt;</th><th scope=col>&lt;chr&gt;</th><th scope=col>&lt;dbl&gt;</th></tr>\n",
       "</thead>\n",
       "<tbody>\n",
       "\t<tr><td>2018</td><td>Observado</td><td>25.42980</td></tr>\n",
       "\t<tr><td>2020</td><td>Observado</td><td>24.16627</td></tr>\n",
       "\t<tr><td>2022</td><td>Observado</td><td>23.92191</td></tr>\n",
       "\t<tr><td>2025</td><td>Deseable </td><td>22.36833</td></tr>\n",
       "\t<tr><td>2026</td><td>Deseable </td><td>21.87323</td></tr>\n",
       "\t<tr><td>2027</td><td>Deseable </td><td>21.38908</td></tr>\n",
       "\t<tr><td>2028</td><td>Deseable </td><td>20.91565</td></tr>\n",
       "\t<tr><td>2029</td><td>Deseable </td><td>20.45270</td></tr>\n",
       "\t<tr><td>2030</td><td>Deseable </td><td>20.00000</td></tr>\n",
       "\t<tr><td>2031</td><td>Deseable </td><td>19.36038</td></tr>\n",
       "\t<tr><td>2032</td><td>Deseable </td><td>18.74121</td></tr>\n",
       "\t<tr><td>2033</td><td>Deseable </td><td>18.14184</td></tr>\n",
       "\t<tr><td>2034</td><td>Deseable </td><td>17.56164</td></tr>\n",
       "\t<tr><td>2035</td><td>Deseable </td><td>17.00000</td></tr>\n",
       "\t<tr><td>2036</td><td>Deseable </td><td>16.27584</td></tr>\n",
       "\t<tr><td>2037</td><td>Deseable </td><td>15.58252</td></tr>\n",
       "\t<tr><td>2038</td><td>Deseable </td><td>14.91874</td></tr>\n",
       "\t<tr><td>2039</td><td>Deseable </td><td>14.28323</td></tr>\n",
       "\t<tr><td>2040</td><td>Deseable </td><td>13.67479</td></tr>\n",
       "\t<tr><td>2041</td><td>Deseable </td><td>13.09228</td></tr>\n",
       "\t<tr><td>2042</td><td>Deseable </td><td>12.53457</td></tr>\n",
       "\t<tr><td>2043</td><td>Deseable </td><td>12.00063</td></tr>\n",
       "\t<tr><td>2044</td><td>Deseable </td><td>11.48943</td></tr>\n",
       "\t<tr><td>2045</td><td>Deseable </td><td>11.00000</td></tr>\n",
       "\t<tr><td>2022</td><td>Inercial </td><td>23.92000</td></tr>\n",
       "\t<tr><td>2023</td><td>Inercial </td><td>23.80000</td></tr>\n",
       "\t<tr><td>2024</td><td>Inercial </td><td>23.68000</td></tr>\n",
       "\t<tr><td>2025</td><td>Inercial </td><td>23.56000</td></tr>\n",
       "\t<tr><td>2026</td><td>Inercial </td><td>23.44000</td></tr>\n",
       "\t<tr><td>2027</td><td>Inercial </td><td>23.32000</td></tr>\n",
       "\t<tr><td>⋮</td><td>⋮</td><td>⋮</td></tr>\n",
       "\t<tr><td>2040</td><td>Inercial     </td><td>21.83</td></tr>\n",
       "\t<tr><td>2041</td><td>Inercial     </td><td>21.72</td></tr>\n",
       "\t<tr><td>2042</td><td>Inercial     </td><td>21.61</td></tr>\n",
       "\t<tr><td>2043</td><td>Inercial     </td><td>21.50</td></tr>\n",
       "\t<tr><td>2044</td><td>Inercial     </td><td>21.39</td></tr>\n",
       "\t<tr><td>2045</td><td>Inercial     </td><td>21.28</td></tr>\n",
       "\t<tr><td>2022</td><td>Transformador</td><td>23.92</td></tr>\n",
       "\t<tr><td>2023</td><td>Transformador</td><td>22.83</td></tr>\n",
       "\t<tr><td>2024</td><td>Transformador</td><td>21.79</td></tr>\n",
       "\t<tr><td>2025</td><td>Transformador</td><td>20.80</td></tr>\n",
       "\t<tr><td>2026</td><td>Transformador</td><td>19.85</td></tr>\n",
       "\t<tr><td>2027</td><td>Transformador</td><td>18.94</td></tr>\n",
       "\t<tr><td>2028</td><td>Transformador</td><td>18.08</td></tr>\n",
       "\t<tr><td>2029</td><td>Transformador</td><td>17.25</td></tr>\n",
       "\t<tr><td>2030</td><td>Transformador</td><td>16.47</td></tr>\n",
       "\t<tr><td>2031</td><td>Transformador</td><td>15.71</td></tr>\n",
       "\t<tr><td>2032</td><td>Transformador</td><td>15.00</td></tr>\n",
       "\t<tr><td>2033</td><td>Transformador</td><td>14.31</td></tr>\n",
       "\t<tr><td>2034</td><td>Transformador</td><td>13.66</td></tr>\n",
       "\t<tr><td>2035</td><td>Transformador</td><td>13.04</td></tr>\n",
       "\t<tr><td>2036</td><td>Transformador</td><td>12.44</td></tr>\n",
       "\t<tr><td>2037</td><td>Transformador</td><td>11.87</td></tr>\n",
       "\t<tr><td>2038</td><td>Transformador</td><td>11.33</td></tr>\n",
       "\t<tr><td>2039</td><td>Transformador</td><td>10.82</td></tr>\n",
       "\t<tr><td>2040</td><td>Transformador</td><td>10.32</td></tr>\n",
       "\t<tr><td>2041</td><td>Transformador</td><td> 9.85</td></tr>\n",
       "\t<tr><td>2042</td><td>Transformador</td><td> 9.40</td></tr>\n",
       "\t<tr><td>2043</td><td>Transformador</td><td> 8.97</td></tr>\n",
       "\t<tr><td>2044</td><td>Transformador</td><td> 8.56</td></tr>\n",
       "\t<tr><td>2045</td><td>Transformador</td><td> 8.17</td></tr>\n",
       "</tbody>\n",
       "</table>\n"
      ],
      "text/latex": [
       "A tibble: 72 × 3\n",
       "\\begin{tabular}{lll}\n",
       " ano & tipo & porcentaje\\\\\n",
       " <dbl> & <chr> & <dbl>\\\\\n",
       "\\hline\n",
       "\t 2018 & Observado & 25.42980\\\\\n",
       "\t 2020 & Observado & 24.16627\\\\\n",
       "\t 2022 & Observado & 23.92191\\\\\n",
       "\t 2025 & Deseable  & 22.36833\\\\\n",
       "\t 2026 & Deseable  & 21.87323\\\\\n",
       "\t 2027 & Deseable  & 21.38908\\\\\n",
       "\t 2028 & Deseable  & 20.91565\\\\\n",
       "\t 2029 & Deseable  & 20.45270\\\\\n",
       "\t 2030 & Deseable  & 20.00000\\\\\n",
       "\t 2031 & Deseable  & 19.36038\\\\\n",
       "\t 2032 & Deseable  & 18.74121\\\\\n",
       "\t 2033 & Deseable  & 18.14184\\\\\n",
       "\t 2034 & Deseable  & 17.56164\\\\\n",
       "\t 2035 & Deseable  & 17.00000\\\\\n",
       "\t 2036 & Deseable  & 16.27584\\\\\n",
       "\t 2037 & Deseable  & 15.58252\\\\\n",
       "\t 2038 & Deseable  & 14.91874\\\\\n",
       "\t 2039 & Deseable  & 14.28323\\\\\n",
       "\t 2040 & Deseable  & 13.67479\\\\\n",
       "\t 2041 & Deseable  & 13.09228\\\\\n",
       "\t 2042 & Deseable  & 12.53457\\\\\n",
       "\t 2043 & Deseable  & 12.00063\\\\\n",
       "\t 2044 & Deseable  & 11.48943\\\\\n",
       "\t 2045 & Deseable  & 11.00000\\\\\n",
       "\t 2022 & Inercial  & 23.92000\\\\\n",
       "\t 2023 & Inercial  & 23.80000\\\\\n",
       "\t 2024 & Inercial  & 23.68000\\\\\n",
       "\t 2025 & Inercial  & 23.56000\\\\\n",
       "\t 2026 & Inercial  & 23.44000\\\\\n",
       "\t 2027 & Inercial  & 23.32000\\\\\n",
       "\t ⋮ & ⋮ & ⋮\\\\\n",
       "\t 2040 & Inercial      & 21.83\\\\\n",
       "\t 2041 & Inercial      & 21.72\\\\\n",
       "\t 2042 & Inercial      & 21.61\\\\\n",
       "\t 2043 & Inercial      & 21.50\\\\\n",
       "\t 2044 & Inercial      & 21.39\\\\\n",
       "\t 2045 & Inercial      & 21.28\\\\\n",
       "\t 2022 & Transformador & 23.92\\\\\n",
       "\t 2023 & Transformador & 22.83\\\\\n",
       "\t 2024 & Transformador & 21.79\\\\\n",
       "\t 2025 & Transformador & 20.80\\\\\n",
       "\t 2026 & Transformador & 19.85\\\\\n",
       "\t 2027 & Transformador & 18.94\\\\\n",
       "\t 2028 & Transformador & 18.08\\\\\n",
       "\t 2029 & Transformador & 17.25\\\\\n",
       "\t 2030 & Transformador & 16.47\\\\\n",
       "\t 2031 & Transformador & 15.71\\\\\n",
       "\t 2032 & Transformador & 15.00\\\\\n",
       "\t 2033 & Transformador & 14.31\\\\\n",
       "\t 2034 & Transformador & 13.66\\\\\n",
       "\t 2035 & Transformador & 13.04\\\\\n",
       "\t 2036 & Transformador & 12.44\\\\\n",
       "\t 2037 & Transformador & 11.87\\\\\n",
       "\t 2038 & Transformador & 11.33\\\\\n",
       "\t 2039 & Transformador & 10.82\\\\\n",
       "\t 2040 & Transformador & 10.32\\\\\n",
       "\t 2041 & Transformador &  9.85\\\\\n",
       "\t 2042 & Transformador &  9.40\\\\\n",
       "\t 2043 & Transformador &  8.97\\\\\n",
       "\t 2044 & Transformador &  8.56\\\\\n",
       "\t 2045 & Transformador &  8.17\\\\\n",
       "\\end{tabular}\n"
      ],
      "text/markdown": [
       "\n",
       "A tibble: 72 × 3\n",
       "\n",
       "| ano &lt;dbl&gt; | tipo &lt;chr&gt; | porcentaje &lt;dbl&gt; |\n",
       "|---|---|---|\n",
       "| 2018 | Observado | 25.42980 |\n",
       "| 2020 | Observado | 24.16627 |\n",
       "| 2022 | Observado | 23.92191 |\n",
       "| 2025 | Deseable  | 22.36833 |\n",
       "| 2026 | Deseable  | 21.87323 |\n",
       "| 2027 | Deseable  | 21.38908 |\n",
       "| 2028 | Deseable  | 20.91565 |\n",
       "| 2029 | Deseable  | 20.45270 |\n",
       "| 2030 | Deseable  | 20.00000 |\n",
       "| 2031 | Deseable  | 19.36038 |\n",
       "| 2032 | Deseable  | 18.74121 |\n",
       "| 2033 | Deseable  | 18.14184 |\n",
       "| 2034 | Deseable  | 17.56164 |\n",
       "| 2035 | Deseable  | 17.00000 |\n",
       "| 2036 | Deseable  | 16.27584 |\n",
       "| 2037 | Deseable  | 15.58252 |\n",
       "| 2038 | Deseable  | 14.91874 |\n",
       "| 2039 | Deseable  | 14.28323 |\n",
       "| 2040 | Deseable  | 13.67479 |\n",
       "| 2041 | Deseable  | 13.09228 |\n",
       "| 2042 | Deseable  | 12.53457 |\n",
       "| 2043 | Deseable  | 12.00063 |\n",
       "| 2044 | Deseable  | 11.48943 |\n",
       "| 2045 | Deseable  | 11.00000 |\n",
       "| 2022 | Inercial  | 23.92000 |\n",
       "| 2023 | Inercial  | 23.80000 |\n",
       "| 2024 | Inercial  | 23.68000 |\n",
       "| 2025 | Inercial  | 23.56000 |\n",
       "| 2026 | Inercial  | 23.44000 |\n",
       "| 2027 | Inercial  | 23.32000 |\n",
       "| ⋮ | ⋮ | ⋮ |\n",
       "| 2040 | Inercial      | 21.83 |\n",
       "| 2041 | Inercial      | 21.72 |\n",
       "| 2042 | Inercial      | 21.61 |\n",
       "| 2043 | Inercial      | 21.50 |\n",
       "| 2044 | Inercial      | 21.39 |\n",
       "| 2045 | Inercial      | 21.28 |\n",
       "| 2022 | Transformador | 23.92 |\n",
       "| 2023 | Transformador | 22.83 |\n",
       "| 2024 | Transformador | 21.79 |\n",
       "| 2025 | Transformador | 20.80 |\n",
       "| 2026 | Transformador | 19.85 |\n",
       "| 2027 | Transformador | 18.94 |\n",
       "| 2028 | Transformador | 18.08 |\n",
       "| 2029 | Transformador | 17.25 |\n",
       "| 2030 | Transformador | 16.47 |\n",
       "| 2031 | Transformador | 15.71 |\n",
       "| 2032 | Transformador | 15.00 |\n",
       "| 2033 | Transformador | 14.31 |\n",
       "| 2034 | Transformador | 13.66 |\n",
       "| 2035 | Transformador | 13.04 |\n",
       "| 2036 | Transformador | 12.44 |\n",
       "| 2037 | Transformador | 11.87 |\n",
       "| 2038 | Transformador | 11.33 |\n",
       "| 2039 | Transformador | 10.82 |\n",
       "| 2040 | Transformador | 10.32 |\n",
       "| 2041 | Transformador |  9.85 |\n",
       "| 2042 | Transformador |  9.40 |\n",
       "| 2043 | Transformador |  8.97 |\n",
       "| 2044 | Transformador |  8.56 |\n",
       "| 2045 | Transformador |  8.17 |\n",
       "\n"
      ],
      "text/plain": [
       "   ano  tipo          porcentaje\n",
       "1  2018 Observado     25.42980  \n",
       "2  2020 Observado     24.16627  \n",
       "3  2022 Observado     23.92191  \n",
       "4  2025 Deseable      22.36833  \n",
       "5  2026 Deseable      21.87323  \n",
       "6  2027 Deseable      21.38908  \n",
       "7  2028 Deseable      20.91565  \n",
       "8  2029 Deseable      20.45270  \n",
       "9  2030 Deseable      20.00000  \n",
       "10 2031 Deseable      19.36038  \n",
       "11 2032 Deseable      18.74121  \n",
       "12 2033 Deseable      18.14184  \n",
       "13 2034 Deseable      17.56164  \n",
       "14 2035 Deseable      17.00000  \n",
       "15 2036 Deseable      16.27584  \n",
       "16 2037 Deseable      15.58252  \n",
       "17 2038 Deseable      14.91874  \n",
       "18 2039 Deseable      14.28323  \n",
       "19 2040 Deseable      13.67479  \n",
       "20 2041 Deseable      13.09228  \n",
       "21 2042 Deseable      12.53457  \n",
       "22 2043 Deseable      12.00063  \n",
       "23 2044 Deseable      11.48943  \n",
       "24 2045 Deseable      11.00000  \n",
       "25 2022 Inercial      23.92000  \n",
       "26 2023 Inercial      23.80000  \n",
       "27 2024 Inercial      23.68000  \n",
       "28 2025 Inercial      23.56000  \n",
       "29 2026 Inercial      23.44000  \n",
       "30 2027 Inercial      23.32000  \n",
       "⋮  ⋮    ⋮             ⋮         \n",
       "43 2040 Inercial      21.83     \n",
       "44 2041 Inercial      21.72     \n",
       "45 2042 Inercial      21.61     \n",
       "46 2043 Inercial      21.50     \n",
       "47 2044 Inercial      21.39     \n",
       "48 2045 Inercial      21.28     \n",
       "49 2022 Transformador 23.92     \n",
       "50 2023 Transformador 22.83     \n",
       "51 2024 Transformador 21.79     \n",
       "52 2025 Transformador 20.80     \n",
       "53 2026 Transformador 19.85     \n",
       "54 2027 Transformador 18.94     \n",
       "55 2028 Transformador 18.08     \n",
       "56 2029 Transformador 17.25     \n",
       "57 2030 Transformador 16.47     \n",
       "58 2031 Transformador 15.71     \n",
       "59 2032 Transformador 15.00     \n",
       "60 2033 Transformador 14.31     \n",
       "61 2034 Transformador 13.66     \n",
       "62 2035 Transformador 13.04     \n",
       "63 2036 Transformador 12.44     \n",
       "64 2037 Transformador 11.87     \n",
       "65 2038 Transformador 11.33     \n",
       "66 2039 Transformador 10.82     \n",
       "67 2040 Transformador 10.32     \n",
       "68 2041 Transformador  9.85     \n",
       "69 2042 Transformador  9.40     \n",
       "70 2043 Transformador  8.97     \n",
       "71 2044 Transformador  8.56     \n",
       "72 2045 Transformador  8.17     "
      ]
     },
     "metadata": {},
     "output_type": "display_data"
    }
   ],
   "source": [
    "#Proyecciones \n",
    "proyecciones_pobreza_edu <- data.frame(\n",
    "  ano = 2025:2045) |>\n",
    "  mutate(porcentaje = ifelse(ano < 2030,año_bse$porcentaje * (1 + tc1)^(ano - año_bse$ano),\n",
    "                         ifelse(ano == 2030, t2030$porcentaje,\n",
    "                                ifelse(ano < 2035, t2030$porcentaje * (1 + tc2)^(ano - t2030$ano),\n",
    "                                        ifelse(ano == 2035, t2035$porcentaje,\n",
    "                                                ifelse(ano < 2045, t2035$porcentaje * (1 + tc3)^(ano - t2035$ano),\n",
    "                                                       ifelse(ano == 2045, t2045$porcentaje, 0)))))), \n",
    "        tipo = \"Deseable\")\n",
    "\n",
    "\n",
    "#ESTABLECIMIENTO DE LAS TENEDENCIAS (ESCENARIO INERCIAL Y TRANSFORMADOR)\n",
    "tendencia_base <- data.frame(ano = ano,\n",
    "                             porcentaje = round(porcentaje_base * (1 + tcma ) ^ (ano - año_base), 2),\n",
    "                             tipo = \"Inercial\")\n",
    "\n",
    "tendencia_transformador <- data.frame(ano = ano,\n",
    "                                       porcentaje = round(porcentaje_base * (1 + tcma* 9 ) ^ (ano - año_base), 2),\n",
    "                                       tipo = \"Transformador\")\n",
    "\t\t\t\t\t\t\t\t\t   \n",
    "\t\t\t\t\t\t\t\t\t   \n",
    "pobreza_edu_proy <- pobreza_edu |>\n",
    "  select(ano, tipo, porcentaje)|>\n",
    "  bind_rows(proyecciones_pobreza_edu, tendencia_base, tendencia_transformador)\n",
    "\n",
    "  pobreza_edu_proy"
   ]
  },
  {
   "cell_type": "code",
   "execution_count": 109,
   "id": "b38d21dd",
   "metadata": {
    "vscode": {
     "languageId": "r"
    }
   },
   "outputs": [],
   "source": [
    "lineas <- bind_rows(data.frame(ano = c(2022, 2030),\n",
    "                               porcentaje = c(pobreza_edu_proy$porcentaje[pobreza_edu_proy$ano == 2022 & pobreza_edu_proy$tipo == \"Observado\"],\n",
    "                                              pobreza_edu_proy$porcentaje[pobreza_edu_proy$ano == 2030 & pobreza_edu_proy$tipo == \"Inercial\"]),\n",
    "                               tipo = \"Inercial\"),\n",
    "                    data.frame(ano = c(2022, 2030),\n",
    "                               porcentaje = c(pobreza_edu_proy$porcentaje[pobreza_edu_proy$ano == 2022 & pobreza_edu_proy$tipo == \"Observado\"], \n",
    "                                              pobreza_edu_proy$porcentaje[pobreza_edu_proy$ano == 2030 & pobreza_edu_proy$tipo == \"Deseable\"]),\n",
    "                               tipo = \"Deseable\"), \n",
    "                    data.frame(ano = c(2022, 2030),\n",
    "                               porcentaje = c(pobreza_edu_proy$porcentaje[pobreza_edu_proy$ano == 2022 & pobreza_edu_proy$tipo == \"Observado\"], \n",
    "                                              pobreza_edu_proy$porcentaje[pobreza_edu_proy$ano == 2030 & pobreza_edu_proy$tipo == \"Transformador\"]),\n",
    "                               tipo = \"Transformador\"))\n",
    "\n",
    "\n",
    "paleta_colores <- c(\"Observado\" = \"#9F2241\",\n",
    "                    \"Inercial\" = \"#cfcfcf\" ,\n",
    "                    \"Deseable\" = \"#027A35\", \n",
    "                    \"Transformador\" = \"#AC6D14\")\n",
    "\n",
    "linetypes <- c(\"Observado\" = \"solid\",\n",
    "               \"Inercial\" = \"dotdash\",\n",
    "               \"Deseable\" = \"dotdash\", \n",
    "               \"Transformador\" = \"dotdash\")"
   ]
  },
  {
   "cell_type": "code",
   "execution_count": null,
   "id": "1ab8f8a2",
   "metadata": {
    "vscode": {
     "languageId": "r"
    }
   },
   "outputs": [
    {
     "data": {
      "image/png": "[encoded data removed]",
      "text/plain": [
       "plot without title"
      ]
     },
     "metadata": {
      "image/png": {
       "height": 420,
       "width": 420
      }
     },
     "output_type": "display_data"
    }
   ],
   "source": [
    "# Gráfico con etiquetas y eje Y personalizado\n",
    "ggplot(pobreza_edu_proy, aes(x = ano, y = porcentaje, group = tipo, color = tipo, linetype = tipo)) +\n",
    "  geom_line(linewidth = 1.2) +\n",
    "  geom_point(size = 1.5) +\n",
    "geom_text(data = subset(pobreza_edu_proy, ano %in% c(2020, 2022, 2030, 2035, 2045)),\n",
    "          aes(label = paste0(round(porcentaje, 1), \"%\")),\n",
    "          vjust = -1, size = 8, family = \"Roboto\", show.legend = FALSE) +\n",
    "  scale_color_manual(values = paleta_colores) +\n",
    "  scale_linetype_manual(values = linetypes) +\n",
    "  scale_y_continuous(breaks = seq(0, max(pobreza_edu_proy$porcentaje, na.rm = TRUE) + 5, by = 5),\n",
    "                     labels = function(x) paste0(x, \"%\"),\n",
    "                     expand = expansion(mult = c(1, 1))) +\n",
    "  labs(title = \"Porcentaje de población en pobreza por rezago educativo en Ciudad de México\",\n",
    "       x = \"Año\",\n",
    "       y = \"Porcentaje\",\n",
    "       color = \"\",\n",
    "       linetype = \"\") +\n",
    "  theme_bw(base_size = 15, base_family = \"Roboto\") +\n",
    "  theme( panel.grid.minor.y = element_line(color = \"gray80\", linetype = \"dotted\"),\n",
    "         panel.grid.minor.x = element_blank(),\n",
    "         panel.grid.major.y = element_blank(),\n",
    "         panel.border = element_blank(),\n",
    "         axis.line = element_line(color = \"gray80\"),\n",
    "         legend.position = \"top\",\n",
    "         plot.caption = element_text(hjust = 0))\n",
    "\n",
    "# Guardar el gráfico\n",
    "#ggsave(\"pobreza_educacion_ciudad_mexico.png\", width = 12, height = 8, dpi = 300)"
   ]
  },
  {
   "cell_type": "markdown",
   "id": "6cc46379",
   "metadata": {},
   "source": [
    "*Porcentaje de población de 15 años y más en rezago educativo*"
   ]
  },
  {
   "cell_type": "code",
   "execution_count": 111,
   "id": "6f428ab3",
   "metadata": {
    "vscode": {
     "languageId": "r"
    }
   },
   "outputs": [],
   "source": [
    "leer_rezago <- function(anio) { \n",
    "  # URLs de descarga para los años disponibles\n",
    "  urls <- list(\n",
    "    \"2019\" = \"https://www.gob.mx/cms/uploads/attachment/file/976879/est_rez_2019_actualizado.xlsx\", \n",
    "    \"2020\" = \"https://www.gob.mx/cms/uploads/attachment/file/976878/est_rez_2020_actualizado.xlsx\", \n",
    "    \"2021\" = \"https://www.gob.mx/cms/uploads/attachment/file/976880/est_rez_2021_actualizado.xlsx\", \n",
    "    \"2022\" = \"https://www.gob.mx/cms/uploads/attachment/file/976881/est_rez_2022_actualizado.xlsx\", \n",
    "    \"2023\" = \"https://www.gob.mx/cms/uploads/attachment/file/976882/est_rez_2023_actualizado.xlsx\", \n",
    "    \"2024\" = \"https://www.gob.mx/cms/uploads/attachment/file/976883/est_rez_2024_actualizado.xlsx\"\n",
    "  )\n",
    "\n",
    "  #  URL del año\n",
    "  url <- urls[[as.character(anio)]]\n",
    "  \n",
    "  # Descargar el archivo y guardarlo en un archivo temporal\n",
    "  archivo_temp <- tempfile(fileext = \".xlsx\")\n",
    "  download.file(url, destfile = archivo_temp, mode = \"wb\")\n",
    "  \n",
    "  # Leer el archivo desde la hoja especificada\n",
    "  rez_edu <- readxl::read_excel(archivo_temp, skip = 8)|>\n",
    "    janitor::clean_names()\n",
    "  \n",
    "  return(rez_edu)\n",
    "}"
   ]
  },
  {
   "cell_type": "code",
   "execution_count": 115,
   "id": "1ad19b51",
   "metadata": {
    "vscode": {
     "languageId": "r"
    }
   },
   "outputs": [
    {
     "name": "stderr",
     "output_type": "stream",
     "text": [
      "\u001b[1m\u001b[22mNew names:\n",
      "\u001b[36m•\u001b[39m `` -> `...2`\n",
      "\u001b[36m•\u001b[39m `Lugar` -> `Lugar...5`\n",
      "\u001b[36m•\u001b[39m `%` -> `%...6`\n",
      "\u001b[36m•\u001b[39m `Lugar` -> `Lugar...7`\n",
      "\u001b[36m•\u001b[39m `Lugar` -> `Lugar...9`\n",
      "\u001b[36m•\u001b[39m `%` -> `%...10`\n",
      "\u001b[36m•\u001b[39m `Lugar` -> `Lugar...11`\n",
      "\u001b[36m•\u001b[39m `Lugar` -> `Lugar...13`\n",
      "\u001b[36m•\u001b[39m `%` -> `%...14`\n",
      "\u001b[36m•\u001b[39m `Lugar` -> `Lugar...15`\n",
      "\u001b[36m•\u001b[39m `Lugar` -> `Lugar...17`\n",
      "\u001b[36m•\u001b[39m `%` -> `%...18`\n",
      "\u001b[36m•\u001b[39m `Lugar` -> `Lugar...19`\n",
      "\u001b[1m\u001b[22mNew names:\n",
      "\u001b[36m•\u001b[39m `` -> `...2`\n",
      "\u001b[36m•\u001b[39m `Lugar` -> `Lugar...5`\n",
      "\u001b[36m•\u001b[39m `%` -> `%...6`\n",
      "\u001b[36m•\u001b[39m `Lugar` -> `Lugar...7`\n",
      "\u001b[36m•\u001b[39m `Lugar` -> `Lugar...9`\n",
      "\u001b[36m•\u001b[39m `%` -> `%...10`\n",
      "\u001b[36m•\u001b[39m `Lugar` -> `Lugar...11`\n",
      "\u001b[36m•\u001b[39m `Lugar` -> `Lugar...13`\n",
      "\u001b[36m•\u001b[39m `%` -> `%...14`\n",
      "\u001b[36m•\u001b[39m `Lugar` -> `Lugar...15`\n",
      "\u001b[36m•\u001b[39m `Lugar` -> `Lugar...17`\n",
      "\u001b[36m•\u001b[39m `%` -> `%...18`\n",
      "\u001b[36m•\u001b[39m `Lugar` -> `Lugar...19`\n",
      "\u001b[1m\u001b[22mNew names:\n",
      "\u001b[36m•\u001b[39m `` -> `...2`\n",
      "\u001b[36m•\u001b[39m `Lugar` -> `Lugar...5`\n",
      "\u001b[36m•\u001b[39m `%` -> `%...6`\n",
      "\u001b[36m•\u001b[39m `Lugar` -> `Lugar...7`\n",
      "\u001b[36m•\u001b[39m `Lugar` -> `Lugar...9`\n",
      "\u001b[36m•\u001b[39m `%` -> `%...10`\n",
      "\u001b[36m•\u001b[39m `Lugar` -> `Lugar...11`\n",
      "\u001b[36m•\u001b[39m `Lugar` -> `Lugar...13`\n",
      "\u001b[36m•\u001b[39m `%` -> `%...14`\n",
      "\u001b[36m•\u001b[39m `Lugar` -> `Lugar...15`\n",
      "\u001b[36m•\u001b[39m `Lugar` -> `Lugar...17`\n",
      "\u001b[36m•\u001b[39m `%` -> `%...18`\n",
      "\u001b[36m•\u001b[39m `Lugar` -> `Lugar...19`\n",
      "\u001b[1m\u001b[22mNew names:\n",
      "\u001b[36m•\u001b[39m `` -> `...2`\n",
      "\u001b[36m•\u001b[39m `Lugar` -> `Lugar...5`\n",
      "\u001b[36m•\u001b[39m `%` -> `%...6`\n",
      "\u001b[36m•\u001b[39m `Lugar` -> `Lugar...7`\n",
      "\u001b[36m•\u001b[39m `Lugar` -> `Lugar...9`\n",
      "\u001b[36m•\u001b[39m `%` -> `%...10`\n",
      "\u001b[36m•\u001b[39m `Lugar` -> `Lugar...11`\n",
      "\u001b[36m•\u001b[39m `Lugar` -> `Lugar...13`\n",
      "\u001b[36m•\u001b[39m `%` -> `%...14`\n",
      "\u001b[36m•\u001b[39m `Lugar` -> `Lugar...15`\n",
      "\u001b[36m•\u001b[39m `Lugar` -> `Lugar...17`\n",
      "\u001b[36m•\u001b[39m `%` -> `%...18`\n",
      "\u001b[36m•\u001b[39m `Lugar` -> `Lugar...19`\n",
      "\u001b[1m\u001b[22mNew names:\n",
      "\u001b[36m•\u001b[39m `` -> `...2`\n",
      "\u001b[36m•\u001b[39m `Lugar` -> `Lugar...5`\n",
      "\u001b[36m•\u001b[39m `%` -> `%...6`\n",
      "\u001b[36m•\u001b[39m `Lugar` -> `Lugar...7`\n",
      "\u001b[36m•\u001b[39m `Lugar` -> `Lugar...9`\n",
      "\u001b[36m•\u001b[39m `%` -> `%...10`\n",
      "\u001b[36m•\u001b[39m `Lugar` -> `Lugar...11`\n",
      "\u001b[36m•\u001b[39m `Lugar` -> `Lugar...13`\n",
      "\u001b[36m•\u001b[39m `%` -> `%...14`\n",
      "\u001b[36m•\u001b[39m `Lugar` -> `Lugar...15`\n",
      "\u001b[36m•\u001b[39m `Lugar` -> `Lugar...17`\n",
      "\u001b[36m•\u001b[39m `%` -> `%...18`\n",
      "\u001b[36m•\u001b[39m `Lugar` -> `Lugar...19`\n",
      "\u001b[1m\u001b[22mNew names:\n",
      "\u001b[36m•\u001b[39m `` -> `...2`\n",
      "\u001b[36m•\u001b[39m `Lugar` -> `Lugar...5`\n",
      "\u001b[36m•\u001b[39m `%` -> `%...6`\n",
      "\u001b[36m•\u001b[39m `Lugar` -> `Lugar...7`\n",
      "\u001b[36m•\u001b[39m `Lugar` -> `Lugar...9`\n",
      "\u001b[36m•\u001b[39m `%` -> `%...10`\n",
      "\u001b[36m•\u001b[39m `Lugar` -> `Lugar...11`\n",
      "\u001b[36m•\u001b[39m `Lugar` -> `Lugar...13`\n",
      "\u001b[36m•\u001b[39m `%` -> `%...14`\n",
      "\u001b[36m•\u001b[39m `Lugar` -> `Lugar...15`\n",
      "\u001b[36m•\u001b[39m `Lugar` -> `Lugar...17`\n",
      "\u001b[36m•\u001b[39m `%` -> `%...18`\n",
      "\u001b[36m•\u001b[39m `Lugar` -> `Lugar...19`\n"
     ]
    }
   ],
   "source": [
    "# Leer los datos de rezago \n",
    "rz2019 <- leer_rezago(2019)\n",
    "rz2020 <- leer_rezago(2020)\n",
    "rz2021 <- leer_rezago(2021)\n",
    "rz2022 <- leer_rezago(2022)\n",
    "rz2023 <- leer_rezago(2023)\n",
    "rz2024 <- leer_rezago(2024)\n"
   ]
  },
  {
   "cell_type": "code",
   "execution_count": 116,
   "id": "3b442e67",
   "metadata": {
    "vscode": {
     "languageId": "r"
    }
   },
   "outputs": [
    {
     "data": {
      "text/html": [
       "<table class=\"dataframe\">\n",
       "<caption>A tibble: 6 × 3</caption>\n",
       "<thead>\n",
       "\t<tr><th scope=col>ano</th><th scope=col>porcentaje</th><th scope=col>tipo</th></tr>\n",
       "\t<tr><th scope=col>&lt;dbl&gt;</th><th scope=col>&lt;dbl&gt;</th><th scope=col>&lt;chr&gt;</th></tr>\n",
       "</thead>\n",
       "<tbody>\n",
       "\t<tr><td>2019</td><td>18.0</td><td>Observado</td></tr>\n",
       "\t<tr><td>2020</td><td>18.0</td><td>Observado</td></tr>\n",
       "\t<tr><td>2021</td><td>17.8</td><td>Observado</td></tr>\n",
       "\t<tr><td>2022</td><td>17.4</td><td>Observado</td></tr>\n",
       "\t<tr><td>2023</td><td>16.9</td><td>Observado</td></tr>\n",
       "\t<tr><td>2024</td><td>17.0</td><td>Observado</td></tr>\n",
       "</tbody>\n",
       "</table>\n"
      ],
      "text/latex": [
       "A tibble: 6 × 3\n",
       "\\begin{tabular}{lll}\n",
       " ano & porcentaje & tipo\\\\\n",
       " <dbl> & <dbl> & <chr>\\\\\n",
       "\\hline\n",
       "\t 2019 & 18.0 & Observado\\\\\n",
       "\t 2020 & 18.0 & Observado\\\\\n",
       "\t 2021 & 17.8 & Observado\\\\\n",
       "\t 2022 & 17.4 & Observado\\\\\n",
       "\t 2023 & 16.9 & Observado\\\\\n",
       "\t 2024 & 17.0 & Observado\\\\\n",
       "\\end{tabular}\n"
      ],
      "text/markdown": [
       "\n",
       "A tibble: 6 × 3\n",
       "\n",
       "| ano &lt;dbl&gt; | porcentaje &lt;dbl&gt; | tipo &lt;chr&gt; |\n",
       "|---|---|---|\n",
       "| 2019 | 18.0 | Observado |\n",
       "| 2020 | 18.0 | Observado |\n",
       "| 2021 | 17.8 | Observado |\n",
       "| 2022 | 17.4 | Observado |\n",
       "| 2023 | 16.9 | Observado |\n",
       "| 2024 | 17.0 | Observado |\n",
       "\n"
      ],
      "text/plain": [
       "  ano  porcentaje tipo     \n",
       "1 2019 18.0       Observado\n",
       "2 2020 18.0       Observado\n",
       "3 2021 17.8       Observado\n",
       "4 2022 17.4       Observado\n",
       "5 2023 16.9       Observado\n",
       "6 2024 17.0       Observado"
      ]
     },
     "metadata": {},
     "output_type": "display_data"
    }
   ],
   "source": [
    "\n",
    "rz2019 <- rz2019[-1,-1]|>\n",
    "  rename(Entidad = x2)|>\n",
    "  filter(Entidad == \"Ciudad de México\")|>\n",
    "  mutate(ano = 2019)|>\n",
    "  select(ano,percent_18)\n",
    "\n",
    "rz2020 <- rz2020[-1,-1]|>\n",
    "  rename(Entidad = x2)|>\n",
    "  filter(Entidad == \"Ciudad de México\")|>\n",
    "  mutate(ano = 2020)|>\n",
    "  select(ano,percent_18)\n",
    "\n",
    "rz2021 <- rz2021[-1,-1]|>\n",
    "  rename(Entidad = x2)|>\n",
    "  filter(Entidad == \"Ciudad de México\")|>\n",
    "  mutate(ano = 2021)|>\n",
    "  select(ano,percent_18)\n",
    "\n",
    "rz2022 <- rz2022[-1,-1]|>\n",
    "  rename(Entidad = x2)|>\n",
    "  filter(Entidad == \"Ciudad de México\")|>\n",
    "  mutate(ano = 2022)|>\n",
    "  select(ano,percent_18)\n",
    "\n",
    "rz2023 <- rz2023[-1,-1]|>\n",
    "  rename(Entidad = x2)|>\n",
    "  filter(Entidad == \"Ciudad de México\")|>\n",
    "  mutate(ano = 2023)|>\n",
    "  select(ano,percent_18)\n",
    "\n",
    "rz2024 <- rz2024[-1,-1]|>\n",
    "  rename(Entidad = x2)|>\n",
    "  filter(Entidad == \"Ciudad de México\")|>\n",
    "  mutate(ano = 2024)|>\n",
    "  select(ano,percent_18)\n",
    "\n",
    "\n",
    "rezago_educacion<-rz2019|>\n",
    "  bind_rows(rz2020, rz2021, rz2022, rz2023, rz2024)|>  \n",
    "  rename(porcentaje = percent_18)|>\n",
    "  mutate(porcentaje = round(porcentaje, 1),\n",
    "          tipo = \"Observado\")\n",
    "\n",
    "rezago_educacion"
   ]
  },
  {
   "cell_type": "code",
   "execution_count": 127,
   "id": "964edd12",
   "metadata": {
    "vscode": {
     "languageId": "r"
    }
   },
   "outputs": [
    {
     "data": {
      "text/html": [
       "-0.0141879916497517"
      ],
      "text/latex": [
       "-0.0141879916497517"
      ],
      "text/markdown": [
       "-0.0141879916497517"
      ],
      "text/plain": [
       "[1] -0.01418799"
      ]
     },
     "metadata": {},
     "output_type": "display_data"
    },
    {
     "data": {
      "text/html": [
       "-0.0206444481904172"
      ],
      "text/latex": [
       "-0.0206444481904172"
      ],
      "text/markdown": [
       "-0.0206444481904172"
      ],
      "text/plain": [
       "[1] -0.02064445"
      ]
     },
     "metadata": {},
     "output_type": "display_data"
    },
    {
     "data": {
      "text/html": [
       "-0.0282144910993144"
      ],
      "text/latex": [
       "-0.0282144910993144"
      ],
      "text/markdown": [
       "-0.0282144910993144"
      ],
      "text/plain": [
       "[1] -0.02821449"
      ]
     },
     "metadata": {},
     "output_type": "display_data"
    },
    {
     "data": {
      "text/html": [
       "-0.0361045821965122"
      ],
      "text/latex": [
       "-0.0361045821965122"
      ],
      "text/markdown": [
       "-0.0361045821965122"
      ],
      "text/plain": [
       "[1] -0.03610458"
      ]
     },
     "metadata": {},
     "output_type": "display_data"
    }
   ],
   "source": [
    "#ESCENARIOS\n",
    "#TASAS GENERLES PARA CADA PERIODO\n",
    "porcentaje_base <- rezago_educacion|>\n",
    "  filter(ano == 2024)|>\n",
    "  pull(porcentaje)\n",
    "\n",
    "#Tasa de crecimiento media anual para el periodo 2020-2024\n",
    "ano = (2024:2045)\n",
    "año_base <- 2024\n",
    "tcma<-((rezago_educacion$porcentaje[rezago_educacion$ano==2024]/rezago_educacion$porcentaje[rezago_educacion$ano==2020])^(1/(2024-2020))-1)\n",
    "tcma\n",
    "#Metas establecidas por la SECTEI\n",
    "porcentaje <- data.frame(\n",
    "  ano = c(2030, 2035, 2045), \n",
    "  porcentaje = c(15, 13, 9))\n",
    "#TASAS GENERLES PARA CADA PERIODO\n",
    "año_bse <- rezago_educacion|>\n",
    "  filter(ano == 2024)\n",
    "\n",
    "#Tasas de cobertura para los años 2030, 2035 y 2045 (estas tasas son las metas establecidas por la SECTEI)\n",
    "t2030<-porcentaje|>\n",
    "filter(ano == 2030)\n",
    "t2035<-porcentaje|>\n",
    "filter(ano == 2035)\n",
    "t2045<-porcentaje|>\n",
    "filter(ano == 2045)\n",
    "\n",
    "tc1= (t2030$porcentaje / año_bse$porcentaje)^(1 / (2030 - 2024)) - 1\n",
    "tc2= (t2035$porcentaje / t2030$porcentaje)^(1 / (2035 - 2030)) - 1\n",
    "tc3= (t2045$porcentaje / t2035$porcentaje)^(1 / (2045 - 2035)) - 1\n",
    "\n",
    "tc1\n",
    "tc2\n",
    "tc3"
   ]
  },
  {
   "cell_type": "code",
   "execution_count": 128,
   "id": "47164a85",
   "metadata": {
    "vscode": {
     "languageId": "r"
    }
   },
   "outputs": [
    {
     "data": {
      "text/html": [
       "<table class=\"dataframe\">\n",
       "<caption>A tibble: 71 × 3</caption>\n",
       "<thead>\n",
       "\t<tr><th scope=col>ano</th><th scope=col>tipo</th><th scope=col>porcentaje</th></tr>\n",
       "\t<tr><th scope=col>&lt;dbl&gt;</th><th scope=col>&lt;chr&gt;</th><th scope=col>&lt;dbl&gt;</th></tr>\n",
       "</thead>\n",
       "<tbody>\n",
       "\t<tr><td>2019</td><td>Observado</td><td>18.000000</td></tr>\n",
       "\t<tr><td>2020</td><td>Observado</td><td>18.000000</td></tr>\n",
       "\t<tr><td>2021</td><td>Observado</td><td>17.800000</td></tr>\n",
       "\t<tr><td>2022</td><td>Observado</td><td>17.400000</td></tr>\n",
       "\t<tr><td>2023</td><td>Observado</td><td>16.900000</td></tr>\n",
       "\t<tr><td>2024</td><td>Observado</td><td>17.000000</td></tr>\n",
       "\t<tr><td>2025</td><td>Deseable </td><td>16.649044</td></tr>\n",
       "\t<tr><td>2026</td><td>Deseable </td><td>16.305334</td></tr>\n",
       "\t<tr><td>2027</td><td>Deseable </td><td>15.968719</td></tr>\n",
       "\t<tr><td>2028</td><td>Deseable </td><td>15.639054</td></tr>\n",
       "\t<tr><td>2029</td><td>Deseable </td><td>15.316194</td></tr>\n",
       "\t<tr><td>2030</td><td>Deseable </td><td>15.000000</td></tr>\n",
       "\t<tr><td>2031</td><td>Deseable </td><td>14.576783</td></tr>\n",
       "\t<tr><td>2032</td><td>Deseable </td><td>14.165506</td></tr>\n",
       "\t<tr><td>2033</td><td>Deseable </td><td>13.765834</td></tr>\n",
       "\t<tr><td>2034</td><td>Deseable </td><td>13.377438</td></tr>\n",
       "\t<tr><td>2035</td><td>Deseable </td><td>13.000000</td></tr>\n",
       "\t<tr><td>2036</td><td>Deseable </td><td>12.530640</td></tr>\n",
       "\t<tr><td>2037</td><td>Deseable </td><td>12.078227</td></tr>\n",
       "\t<tr><td>2038</td><td>Deseable </td><td>11.642148</td></tr>\n",
       "\t<tr><td>2039</td><td>Deseable </td><td>11.221813</td></tr>\n",
       "\t<tr><td>2040</td><td>Deseable </td><td>10.816654</td></tr>\n",
       "\t<tr><td>2041</td><td>Deseable </td><td>10.426123</td></tr>\n",
       "\t<tr><td>2042</td><td>Deseable </td><td>10.049692</td></tr>\n",
       "\t<tr><td>2043</td><td>Deseable </td><td> 9.686852</td></tr>\n",
       "\t<tr><td>2044</td><td>Deseable </td><td> 9.337113</td></tr>\n",
       "\t<tr><td>2045</td><td>Deseable </td><td> 9.000000</td></tr>\n",
       "\t<tr><td>2024</td><td>Inercial </td><td>17.000000</td></tr>\n",
       "\t<tr><td>2025</td><td>Inercial </td><td>16.760000</td></tr>\n",
       "\t<tr><td>2026</td><td>Inercial </td><td>16.520000</td></tr>\n",
       "\t<tr><td>⋮</td><td>⋮</td><td>⋮</td></tr>\n",
       "\t<tr><td>2038</td><td>Inercial     </td><td>13.92</td></tr>\n",
       "\t<tr><td>2039</td><td>Inercial     </td><td>13.72</td></tr>\n",
       "\t<tr><td>2040</td><td>Inercial     </td><td>13.53</td></tr>\n",
       "\t<tr><td>2041</td><td>Inercial     </td><td>13.33</td></tr>\n",
       "\t<tr><td>2042</td><td>Inercial     </td><td>13.14</td></tr>\n",
       "\t<tr><td>2043</td><td>Inercial     </td><td>12.96</td></tr>\n",
       "\t<tr><td>2044</td><td>Inercial     </td><td>12.77</td></tr>\n",
       "\t<tr><td>2045</td><td>Inercial     </td><td>12.59</td></tr>\n",
       "\t<tr><td>2024</td><td>Transformador</td><td>17.00</td></tr>\n",
       "\t<tr><td>2025</td><td>Transformador</td><td>16.04</td></tr>\n",
       "\t<tr><td>2026</td><td>Transformador</td><td>15.13</td></tr>\n",
       "\t<tr><td>2027</td><td>Transformador</td><td>14.27</td></tr>\n",
       "\t<tr><td>2028</td><td>Transformador</td><td>13.46</td></tr>\n",
       "\t<tr><td>2029</td><td>Transformador</td><td>12.69</td></tr>\n",
       "\t<tr><td>2030</td><td>Transformador</td><td>11.97</td></tr>\n",
       "\t<tr><td>2031</td><td>Transformador</td><td>11.29</td></tr>\n",
       "\t<tr><td>2032</td><td>Transformador</td><td>10.65</td></tr>\n",
       "\t<tr><td>2033</td><td>Transformador</td><td>10.05</td></tr>\n",
       "\t<tr><td>2034</td><td>Transformador</td><td> 9.48</td></tr>\n",
       "\t<tr><td>2035</td><td>Transformador</td><td> 8.94</td></tr>\n",
       "\t<tr><td>2036</td><td>Transformador</td><td> 8.43</td></tr>\n",
       "\t<tr><td>2037</td><td>Transformador</td><td> 7.95</td></tr>\n",
       "\t<tr><td>2038</td><td>Transformador</td><td> 7.50</td></tr>\n",
       "\t<tr><td>2039</td><td>Transformador</td><td> 7.08</td></tr>\n",
       "\t<tr><td>2040</td><td>Transformador</td><td> 6.68</td></tr>\n",
       "\t<tr><td>2041</td><td>Transformador</td><td> 6.30</td></tr>\n",
       "\t<tr><td>2042</td><td>Transformador</td><td> 5.94</td></tr>\n",
       "\t<tr><td>2043</td><td>Transformador</td><td> 5.60</td></tr>\n",
       "\t<tr><td>2044</td><td>Transformador</td><td> 5.28</td></tr>\n",
       "\t<tr><td>2045</td><td>Transformador</td><td> 4.98</td></tr>\n",
       "</tbody>\n",
       "</table>\n"
      ],
      "text/latex": [
       "A tibble: 71 × 3\n",
       "\\begin{tabular}{lll}\n",
       " ano & tipo & porcentaje\\\\\n",
       " <dbl> & <chr> & <dbl>\\\\\n",
       "\\hline\n",
       "\t 2019 & Observado & 18.000000\\\\\n",
       "\t 2020 & Observado & 18.000000\\\\\n",
       "\t 2021 & Observado & 17.800000\\\\\n",
       "\t 2022 & Observado & 17.400000\\\\\n",
       "\t 2023 & Observado & 16.900000\\\\\n",
       "\t 2024 & Observado & 17.000000\\\\\n",
       "\t 2025 & Deseable  & 16.649044\\\\\n",
       "\t 2026 & Deseable  & 16.305334\\\\\n",
       "\t 2027 & Deseable  & 15.968719\\\\\n",
       "\t 2028 & Deseable  & 15.639054\\\\\n",
       "\t 2029 & Deseable  & 15.316194\\\\\n",
       "\t 2030 & Deseable  & 15.000000\\\\\n",
       "\t 2031 & Deseable  & 14.576783\\\\\n",
       "\t 2032 & Deseable  & 14.165506\\\\\n",
       "\t 2033 & Deseable  & 13.765834\\\\\n",
       "\t 2034 & Deseable  & 13.377438\\\\\n",
       "\t 2035 & Deseable  & 13.000000\\\\\n",
       "\t 2036 & Deseable  & 12.530640\\\\\n",
       "\t 2037 & Deseable  & 12.078227\\\\\n",
       "\t 2038 & Deseable  & 11.642148\\\\\n",
       "\t 2039 & Deseable  & 11.221813\\\\\n",
       "\t 2040 & Deseable  & 10.816654\\\\\n",
       "\t 2041 & Deseable  & 10.426123\\\\\n",
       "\t 2042 & Deseable  & 10.049692\\\\\n",
       "\t 2043 & Deseable  &  9.686852\\\\\n",
       "\t 2044 & Deseable  &  9.337113\\\\\n",
       "\t 2045 & Deseable  &  9.000000\\\\\n",
       "\t 2024 & Inercial  & 17.000000\\\\\n",
       "\t 2025 & Inercial  & 16.760000\\\\\n",
       "\t 2026 & Inercial  & 16.520000\\\\\n",
       "\t ⋮ & ⋮ & ⋮\\\\\n",
       "\t 2038 & Inercial      & 13.92\\\\\n",
       "\t 2039 & Inercial      & 13.72\\\\\n",
       "\t 2040 & Inercial      & 13.53\\\\\n",
       "\t 2041 & Inercial      & 13.33\\\\\n",
       "\t 2042 & Inercial      & 13.14\\\\\n",
       "\t 2043 & Inercial      & 12.96\\\\\n",
       "\t 2044 & Inercial      & 12.77\\\\\n",
       "\t 2045 & Inercial      & 12.59\\\\\n",
       "\t 2024 & Transformador & 17.00\\\\\n",
       "\t 2025 & Transformador & 16.04\\\\\n",
       "\t 2026 & Transformador & 15.13\\\\\n",
       "\t 2027 & Transformador & 14.27\\\\\n",
       "\t 2028 & Transformador & 13.46\\\\\n",
       "\t 2029 & Transformador & 12.69\\\\\n",
       "\t 2030 & Transformador & 11.97\\\\\n",
       "\t 2031 & Transformador & 11.29\\\\\n",
       "\t 2032 & Transformador & 10.65\\\\\n",
       "\t 2033 & Transformador & 10.05\\\\\n",
       "\t 2034 & Transformador &  9.48\\\\\n",
       "\t 2035 & Transformador &  8.94\\\\\n",
       "\t 2036 & Transformador &  8.43\\\\\n",
       "\t 2037 & Transformador &  7.95\\\\\n",
       "\t 2038 & Transformador &  7.50\\\\\n",
       "\t 2039 & Transformador &  7.08\\\\\n",
       "\t 2040 & Transformador &  6.68\\\\\n",
       "\t 2041 & Transformador &  6.30\\\\\n",
       "\t 2042 & Transformador &  5.94\\\\\n",
       "\t 2043 & Transformador &  5.60\\\\\n",
       "\t 2044 & Transformador &  5.28\\\\\n",
       "\t 2045 & Transformador &  4.98\\\\\n",
       "\\end{tabular}\n"
      ],
      "text/markdown": [
       "\n",
       "A tibble: 71 × 3\n",
       "\n",
       "| ano &lt;dbl&gt; | tipo &lt;chr&gt; | porcentaje &lt;dbl&gt; |\n",
       "|---|---|---|\n",
       "| 2019 | Observado | 18.000000 |\n",
       "| 2020 | Observado | 18.000000 |\n",
       "| 2021 | Observado | 17.800000 |\n",
       "| 2022 | Observado | 17.400000 |\n",
       "| 2023 | Observado | 16.900000 |\n",
       "| 2024 | Observado | 17.000000 |\n",
       "| 2025 | Deseable  | 16.649044 |\n",
       "| 2026 | Deseable  | 16.305334 |\n",
       "| 2027 | Deseable  | 15.968719 |\n",
       "| 2028 | Deseable  | 15.639054 |\n",
       "| 2029 | Deseable  | 15.316194 |\n",
       "| 2030 | Deseable  | 15.000000 |\n",
       "| 2031 | Deseable  | 14.576783 |\n",
       "| 2032 | Deseable  | 14.165506 |\n",
       "| 2033 | Deseable  | 13.765834 |\n",
       "| 2034 | Deseable  | 13.377438 |\n",
       "| 2035 | Deseable  | 13.000000 |\n",
       "| 2036 | Deseable  | 12.530640 |\n",
       "| 2037 | Deseable  | 12.078227 |\n",
       "| 2038 | Deseable  | 11.642148 |\n",
       "| 2039 | Deseable  | 11.221813 |\n",
       "| 2040 | Deseable  | 10.816654 |\n",
       "| 2041 | Deseable  | 10.426123 |\n",
       "| 2042 | Deseable  | 10.049692 |\n",
       "| 2043 | Deseable  |  9.686852 |\n",
       "| 2044 | Deseable  |  9.337113 |\n",
       "| 2045 | Deseable  |  9.000000 |\n",
       "| 2024 | Inercial  | 17.000000 |\n",
       "| 2025 | Inercial  | 16.760000 |\n",
       "| 2026 | Inercial  | 16.520000 |\n",
       "| ⋮ | ⋮ | ⋮ |\n",
       "| 2038 | Inercial      | 13.92 |\n",
       "| 2039 | Inercial      | 13.72 |\n",
       "| 2040 | Inercial      | 13.53 |\n",
       "| 2041 | Inercial      | 13.33 |\n",
       "| 2042 | Inercial      | 13.14 |\n",
       "| 2043 | Inercial      | 12.96 |\n",
       "| 2044 | Inercial      | 12.77 |\n",
       "| 2045 | Inercial      | 12.59 |\n",
       "| 2024 | Transformador | 17.00 |\n",
       "| 2025 | Transformador | 16.04 |\n",
       "| 2026 | Transformador | 15.13 |\n",
       "| 2027 | Transformador | 14.27 |\n",
       "| 2028 | Transformador | 13.46 |\n",
       "| 2029 | Transformador | 12.69 |\n",
       "| 2030 | Transformador | 11.97 |\n",
       "| 2031 | Transformador | 11.29 |\n",
       "| 2032 | Transformador | 10.65 |\n",
       "| 2033 | Transformador | 10.05 |\n",
       "| 2034 | Transformador |  9.48 |\n",
       "| 2035 | Transformador |  8.94 |\n",
       "| 2036 | Transformador |  8.43 |\n",
       "| 2037 | Transformador |  7.95 |\n",
       "| 2038 | Transformador |  7.50 |\n",
       "| 2039 | Transformador |  7.08 |\n",
       "| 2040 | Transformador |  6.68 |\n",
       "| 2041 | Transformador |  6.30 |\n",
       "| 2042 | Transformador |  5.94 |\n",
       "| 2043 | Transformador |  5.60 |\n",
       "| 2044 | Transformador |  5.28 |\n",
       "| 2045 | Transformador |  4.98 |\n",
       "\n"
      ],
      "text/plain": [
       "   ano  tipo          porcentaje\n",
       "1  2019 Observado     18.000000 \n",
       "2  2020 Observado     18.000000 \n",
       "3  2021 Observado     17.800000 \n",
       "4  2022 Observado     17.400000 \n",
       "5  2023 Observado     16.900000 \n",
       "6  2024 Observado     17.000000 \n",
       "7  2025 Deseable      16.649044 \n",
       "8  2026 Deseable      16.305334 \n",
       "9  2027 Deseable      15.968719 \n",
       "10 2028 Deseable      15.639054 \n",
       "11 2029 Deseable      15.316194 \n",
       "12 2030 Deseable      15.000000 \n",
       "13 2031 Deseable      14.576783 \n",
       "14 2032 Deseable      14.165506 \n",
       "15 2033 Deseable      13.765834 \n",
       "16 2034 Deseable      13.377438 \n",
       "17 2035 Deseable      13.000000 \n",
       "18 2036 Deseable      12.530640 \n",
       "19 2037 Deseable      12.078227 \n",
       "20 2038 Deseable      11.642148 \n",
       "21 2039 Deseable      11.221813 \n",
       "22 2040 Deseable      10.816654 \n",
       "23 2041 Deseable      10.426123 \n",
       "24 2042 Deseable      10.049692 \n",
       "25 2043 Deseable       9.686852 \n",
       "26 2044 Deseable       9.337113 \n",
       "27 2045 Deseable       9.000000 \n",
       "28 2024 Inercial      17.000000 \n",
       "29 2025 Inercial      16.760000 \n",
       "30 2026 Inercial      16.520000 \n",
       "⋮  ⋮    ⋮             ⋮         \n",
       "42 2038 Inercial      13.92     \n",
       "43 2039 Inercial      13.72     \n",
       "44 2040 Inercial      13.53     \n",
       "45 2041 Inercial      13.33     \n",
       "46 2042 Inercial      13.14     \n",
       "47 2043 Inercial      12.96     \n",
       "48 2044 Inercial      12.77     \n",
       "49 2045 Inercial      12.59     \n",
       "50 2024 Transformador 17.00     \n",
       "51 2025 Transformador 16.04     \n",
       "52 2026 Transformador 15.13     \n",
       "53 2027 Transformador 14.27     \n",
       "54 2028 Transformador 13.46     \n",
       "55 2029 Transformador 12.69     \n",
       "56 2030 Transformador 11.97     \n",
       "57 2031 Transformador 11.29     \n",
       "58 2032 Transformador 10.65     \n",
       "59 2033 Transformador 10.05     \n",
       "60 2034 Transformador  9.48     \n",
       "61 2035 Transformador  8.94     \n",
       "62 2036 Transformador  8.43     \n",
       "63 2037 Transformador  7.95     \n",
       "64 2038 Transformador  7.50     \n",
       "65 2039 Transformador  7.08     \n",
       "66 2040 Transformador  6.68     \n",
       "67 2041 Transformador  6.30     \n",
       "68 2042 Transformador  5.94     \n",
       "69 2043 Transformador  5.60     \n",
       "70 2044 Transformador  5.28     \n",
       "71 2045 Transformador  4.98     "
      ]
     },
     "metadata": {},
     "output_type": "display_data"
    }
   ],
   "source": [
    "#Proyecciones \n",
    "proyecciones_rezago_educacion <- data.frame(\n",
    "  ano = 2025:2045) |>\n",
    "  mutate(porcentaje = ifelse(ano < 2030,año_bse$porcentaje * (1 + tc1)^(ano - año_bse$ano),\n",
    "                         ifelse(ano == 2030, t2030$porcentaje,\n",
    "                                ifelse(ano < 2035, t2030$porcentaje * (1 + tc2)^(ano - t2030$ano),\n",
    "                                        ifelse(ano == 2035, t2035$porcentaje,\n",
    "                                                ifelse(ano < 2045, t2035$porcentaje * (1 + tc3)^(ano - t2035$ano),\n",
    "                                                       ifelse(ano == 2045, t2045$porcentaje, 0)))))), \n",
    "          tipo = \"Deseable\")\n",
    "\n",
    "\n",
    "#ESTABLECIMIENTO DE LAS TENEDENCIAS (ESCENARIO INERCIAL Y TRANSFORMADOR)\n",
    "tendencia_base <- data.frame(ano = ano,\n",
    "                             porcentaje = round(porcentaje_base * (1 + tcma ) ^ (ano - año_base), 2),\n",
    "                             tipo = \"Inercial\")\n",
    "\n",
    "tendencia_transformador <- data.frame(ano = ano,\n",
    "                                       porcentaje = round(porcentaje_base * (1 + tcma*4) ^ (ano - año_base), 2),\n",
    "                                       tipo = \"Transformador\")\n",
    "\t\t\t\t\t\t\t\t\t   \n",
    "\t\t\t\t\t\t\t\t\t   \n",
    "rezago_educacion_proy <- rezago_educacion |>\n",
    "  select(ano, tipo, porcentaje)|>\n",
    "  bind_rows(proyecciones_rezago_educacion, tendencia_base, tendencia_transformador)\n",
    "\n",
    "rezago_educacion_proy\n"
   ]
  },
  {
   "cell_type": "code",
   "execution_count": 129,
   "id": "5de98a60",
   "metadata": {
    "vscode": {
     "languageId": "r"
    }
   },
   "outputs": [],
   "source": [
    "lineas <- bind_rows(data.frame(ano = c(2024, 2030),\n",
    "                               porcentaje = c(rezago_educacion_proy$porcentaje[rezago_educacion_proy$ano == 2024 & rezago_educacion_proy$tipo == \"Observado\"],\n",
    "                                              rezago_educacion_proy$porcentaje[rezago_educacion_proy$ano == 2030 & rezago_educacion_proy$tipo == \"Inercial\"]),\n",
    "                               tipo = \"Inercial\"),\n",
    "                    data.frame(ano = c(2024, 2030),\n",
    "                               porcentaje = c(rezago_educacion_proy$porcentaje[rezago_educacion_proy$ano == 2024 & rezago_educacion_proy$tipo == \"Observado\"], \n",
    "                                              rezago_educacion_proy$porcentaje[rezago_educacion_proy$ano == 2030 & rezago_educacion_proy$tipo == \"Deseable\"]),\n",
    "                               tipo = \"Deseable\"), \n",
    "                    data.frame(ano = c(2024, 2030),\n",
    "                               porcentaje = c(rezago_educacion_proy$porcentaje[rezago_educacion_proy$ano == 2024 & rezago_educacion_proy$tipo == \"Observado\"], \n",
    "                                              rezago_educacion_proy$porcentaje[rezago_educacion_proy$ano == 2030 & rezago_educacion_proy$tipo == \"Transformador\"]),\n",
    "                               tipo = \"Transformador\"))\n",
    "\n",
    "\n",
    "paleta_colores <- c(\"Observado\" = \"#9F2241\",\n",
    "                    \"Inercial\" = \"#cfcfcf\" ,\n",
    "                    \"Deseable\" = \"#027A35\", \n",
    "                    \"Transformador\" = \"#AC6D14\")\n",
    "\n",
    "linetypes <- c(\"Observado\" = \"solid\",\n",
    "               \"Inercial\" = \"dotdash\",\n",
    "               \"Deseable\" = \"dotdash\", \n",
    "               \"Transformador\" = \"dotdash\")"
   ]
  },
  {
   "cell_type": "code",
   "execution_count": 130,
   "id": "424dd915",
   "metadata": {
    "vscode": {
     "languageId": "r"
    }
   },
   "outputs": [
    {
     "data": {
      "image/png": "[encoded data removed]",
      "text/plain": [
       "plot without title"
      ]
     },
     "metadata": {
      "image/png": {
       "height": 420,
       "width": 420
      }
     },
     "output_type": "display_data"
    }
   ],
   "source": [
    "# Gráfico con etiquetas y eje Y personalizado\n",
    "ggplot(rezago_educacion_proy, aes(x = ano, y = porcentaje, group = tipo, color = tipo, linetype = tipo)) +\n",
    "  geom_line(linewidth = 1.2) +\n",
    "  geom_point(size = 1.5) +\n",
    "geom_text(data = subset(rezago_educacion_proy, ano %in% c(2020, 2024, 2030, 2035, 2045)),\n",
    "          aes(label = paste0(round(porcentaje, 1), \"%\")),\n",
    "          vjust = -1, size = 8, family = \"Roboto\", show.legend = FALSE) +\n",
    "  scale_color_manual(values = paleta_colores) +\n",
    "  scale_linetype_manual(values = linetypes) +\n",
    "  scale_y_continuous(breaks = seq(0, max(rezago_educacion_proy$porcentaje, na.rm = TRUE) + 5, by = 5),\n",
    "                     labels = function(x) paste0(x, \"%\"),\n",
    "                     expand = expansion(mult = c(1, 1))) +\n",
    "  labs(title = \"Porcentaje de población de 15 años y más en rezago educativo en Ciudad de México\",\n",
    "       x = \"Año\",\n",
    "       y = \"Porcentaje\",\n",
    "       color = \"\",\n",
    "       linetype = \"\") +\n",
    "  theme_bw(base_size = 15, base_family = \"Roboto\") +\n",
    "  theme( panel.grid.minor.y = element_line(color = \"gray80\", linetype = \"dotted\"),\n",
    "         panel.grid.minor.x = element_blank(),\n",
    "         panel.grid.major.y = element_blank(),\n",
    "         panel.border = element_blank(),\n",
    "         axis.line = element_line(color = \"gray80\"),\n",
    "         legend.position = \"top\",\n",
    "         plot.caption = element_text(hjust = 0))\n",
    "\n",
    "# Guardar el gráfico"
   ]
  },
  {
   "cell_type": "markdown",
   "id": "f7284543",
   "metadata": {},
   "source": [
    "*Porcentaje de integrantes del SNII en áreas del conocimiento STEM*"
   ]
  },
  {
   "cell_type": "code",
   "execution_count": 131,
   "id": "16e1b623",
   "metadata": {
    "vscode": {
     "languageId": "r"
    }
   },
   "outputs": [],
   "source": [
    "leer_snii <- function(anio) {\n",
    "  # URLs de descarga para los años disponibles\n",
    "  urls <- list(\n",
    "    \"2018\" = \"https://secihti.mx/wp-content/uploads/sni/archivo_historico/Investigadores_Vigentes_2018.xlsx\",\n",
    "    \"2019\" = \"https://secihti.mx/wp-content/uploads/sni/archivo_historico/Investigadores_Vigentes_2019.xlsx\", \n",
    "    \"2020\" = \"https://secihti.mx/wp-content/uploads/sni/archivo_historico/Investigadores_Vigentes_2020.xlsx\", \n",
    "    \"2021\" = \"https://secihti.mx/wp-content/uploads/sni/archivo_historico/Padron_de_Beneficiarios_2021.xlsx\", \n",
    "    \"2022\" = \"https://secihti.mx/wp-content/uploads/sni/padron_de_beneficiarios/2022/Padron_de_Beneficiarios_2022_actualizado_julio_2.xlsx\", \n",
    "    \"2023\" = \"https://secihti.mx/wp-content/uploads/sni/archivo_historico/Investigadores_vigentes_2023.xlsx\", \n",
    "    \"2024\" = \"https://secihti.mx/wp-content/uploads/sni/archivo_historico/Padron_de_Investigadores_Vigentes_2024.xlsx\"\n",
    "  )\n",
    "  \n",
    "  # Obtener URL correspondiente\n",
    "  url <- urls[[as.character(anio)]]\n",
    "  if (is.null(url)) stop(\"Año no disponible.\")\n",
    "  \n",
    "  # Descargar archivo temporal\n",
    "  archivo_temp <- tempfile(fileext = \".xlsx\")\n",
    "  download.file(url, destfile = archivo_temp, mode = \"wb\")\n",
    "  \n",
    "  # Leer según el año\n",
    "  if (anio == 2022) {\n",
    "    reg_snii <- readxl::read_excel(archivo_temp, sheet = 3, col_types = \"text\") |> \n",
    "      janitor::clean_names()\n",
    "    \n",
    "  } else if (anio %in% c(2023, 2024)) {\n",
    "    reg_snii <- readxl::read_excel(archivo_temp, sheet = 4, col_types = \"text\") |> \n",
    "      janitor::clean_names()\n",
    "    \n",
    "  } else {\n",
    "    hojas <- readxl::excel_sheets(archivo_temp)\n",
    "    reg_snii <- lapply(hojas, function(hoja) {\n",
    "      readxl::read_excel(archivo_temp, sheet = hoja, col_types = \"text\") |> \n",
    "        janitor::clean_names()\n",
    "    }) |> \n",
    "      dplyr::bind_rows()\n",
    "  }\n",
    "  \n",
    "  return(reg_snii)\n",
    "}"
   ]
  },
  {
   "cell_type": "code",
   "execution_count": 132,
   "id": "d643f880",
   "metadata": {
    "vscode": {
     "languageId": "r"
    }
   },
   "outputs": [],
   "source": [
    "#Leer las bases del SNI de los años 2018 a 2024\n",
    "snii2018 <-leer_snii(2018)|>\n",
    "  filter(area_del_conocimiento %in% c(\"I.- FÍSICO-MATEMÁTICAS Y CIENCIAS DE LA TIERRA\",\n",
    "                                      \"II.- BIOLOGÍA Y QUÍMICA\", \n",
    "                                      \"III.- MEDICINA Y CIENCIAS DE LA SALUD\", \n",
    "                                      \"VII.- INGENIERÍAS\"))\n",
    "\n",
    "snii2019 <-leer_snii(2019)|>\n",
    "  filter(area_del_conocimiento %in% c(\"I.- FÍSICO-MATEMÁTICAS Y CIENCIAS DE LA TIERRA\",\n",
    "                                      \"II.- BIOLOGÍA Y QUÍMICA\", \n",
    "                                      \"III.- MEDICINA Y CIENCIAS DE LA SALUD\", \n",
    "                                      \"VII.- INGENIERÍAS\"))\n",
    "snii2020 <-leer_snii(2020)|>\n",
    "  filter(area_del_conocimiento %in% c(\"I.- FÍSICO-MATEMÁTICAS Y CIENCIAS DE LA TIERRA\",\n",
    "                                      \"II.- BIOLOGÍA Y QUÍMICA\", \n",
    "                                      \"III.- MEDICINA Y CIENCIAS DE LA SALUD\", \n",
    "                                      \"VII.- INGENIERÍAS\"))\n",
    "snii2021 <-leer_snii(2021)|>\n",
    "  filter(area_del_conocimiento %in% c(\"I.- FÍSICO-MATEMÁTICAS Y CIENCIAS DE LA TIERRA\",\n",
    "                                      \"II.- BIOLOGÍA Y QUÍMICA\", \n",
    "                                      \"III.- MEDICINA Y CIENCIAS DE LA SALUD\", \n",
    "                                      \"VII.- INGENIERÍAS\"))\n",
    "snii2022 <-leer_snii(2022)|>\n",
    "  filter(area_del_conocimiento %in% c(\"I.- FÍSICO-MATEMÁTICAS Y CIENCIAS DE LA TIERRA\",\n",
    "                                      \"II.- BIOLOGÍA Y QUÍMICA\", \n",
    "                                      \"III.- MEDICINA Y CIENCIAS DE LA SALUD\", \n",
    "                                      \"VIII.- INGENIERÍAS Y DESARROLLO TECNOLÓGICO\", \n",
    "                                      \"Físico-Matemáticas y Ciencias de la Tierra\", \n",
    "                                      \"Medicina y Ciencias de la Salud\",\n",
    "                                      \"Biología y Química\"))\n",
    "\n",
    "snii2023 <-leer_snii(2023)|>\n",
    "  filter(area_del_conocimiento %in% c(\"FÍSICO-MATEMÁTICAS Y CIENCIAS DE LA TIERRA\",\n",
    "                                      \"BIOLOGÍA Y QUÍMICA\", \n",
    "                                      \"MEDICINA Y CIENCIAS DE LA SALUD\", \n",
    "                                      \"INGENIERÍAS Y DESARROLLO TECNOLÓGICO\"))\n",
    "snii2024 <-leer_snii(2024)|>\n",
    "  filter(area_de_conocimiento %in% c(\"FÍSICO-MATEMÁTICAS Y CIENCIAS DE LA TIERRA\",\n",
    "                                      \"BIOLOGÍA Y QUÍMICA\", \n",
    "                                      \"MEDICINA Y CIENCIAS DE LA SALUD\", \n",
    "                                      \"INGENIERÍAS Y DESARROLLO TECNOLÓGICO\"))"
   ]
  },
  {
   "cell_type": "code",
   "execution_count": 133,
   "id": "5af22d5d",
   "metadata": {
    "vscode": {
     "languageId": "r"
    }
   },
   "outputs": [
    {
     "data": {
      "text/html": [
       "<table class=\"dataframe\">\n",
       "<caption>A tibble: 1 × 2</caption>\n",
       "<thead>\n",
       "\t<tr><th scope=col>nacional</th><th scope=col>ano</th></tr>\n",
       "\t<tr><th scope=col>&lt;int&gt;</th><th scope=col>&lt;dbl&gt;</th></tr>\n",
       "</thead>\n",
       "<tbody>\n",
       "\t<tr><td>16280</td><td>2018</td></tr>\n",
       "</tbody>\n",
       "</table>\n"
      ],
      "text/latex": [
       "A tibble: 1 × 2\n",
       "\\begin{tabular}{ll}\n",
       " nacional & ano\\\\\n",
       " <int> & <dbl>\\\\\n",
       "\\hline\n",
       "\t 16280 & 2018\\\\\n",
       "\\end{tabular}\n"
      ],
      "text/markdown": [
       "\n",
       "A tibble: 1 × 2\n",
       "\n",
       "| nacional &lt;int&gt; | ano &lt;dbl&gt; |\n",
       "|---|---|\n",
       "| 16280 | 2018 |\n",
       "\n"
      ],
      "text/plain": [
       "  nacional ano \n",
       "1 16280    2018"
      ]
     },
     "metadata": {},
     "output_type": "display_data"
    },
    {
     "data": {
      "text/html": [
       "<table class=\"dataframe\">\n",
       "<caption>A tibble: 7 × 2</caption>\n",
       "<thead>\n",
       "\t<tr><th scope=col>nacional</th><th scope=col>ano</th></tr>\n",
       "\t<tr><th scope=col>&lt;int&gt;</th><th scope=col>&lt;dbl&gt;</th></tr>\n",
       "</thead>\n",
       "<tbody>\n",
       "\t<tr><td>16280</td><td>2018</td></tr>\n",
       "\t<tr><td>17243</td><td>2019</td></tr>\n",
       "\t<tr><td>18445</td><td>2020</td></tr>\n",
       "\t<tr><td>19343</td><td>2021</td></tr>\n",
       "\t<tr><td>19554</td><td>2022</td></tr>\n",
       "\t<tr><td>21702</td><td>2023</td></tr>\n",
       "\t<tr><td>22414</td><td>2024</td></tr>\n",
       "</tbody>\n",
       "</table>\n"
      ],
      "text/latex": [
       "A tibble: 7 × 2\n",
       "\\begin{tabular}{ll}\n",
       " nacional & ano\\\\\n",
       " <int> & <dbl>\\\\\n",
       "\\hline\n",
       "\t 16280 & 2018\\\\\n",
       "\t 17243 & 2019\\\\\n",
       "\t 18445 & 2020\\\\\n",
       "\t 19343 & 2021\\\\\n",
       "\t 19554 & 2022\\\\\n",
       "\t 21702 & 2023\\\\\n",
       "\t 22414 & 2024\\\\\n",
       "\\end{tabular}\n"
      ],
      "text/markdown": [
       "\n",
       "A tibble: 7 × 2\n",
       "\n",
       "| nacional &lt;int&gt; | ano &lt;dbl&gt; |\n",
       "|---|---|\n",
       "| 16280 | 2018 |\n",
       "| 17243 | 2019 |\n",
       "| 18445 | 2020 |\n",
       "| 19343 | 2021 |\n",
       "| 19554 | 2022 |\n",
       "| 21702 | 2023 |\n",
       "| 22414 | 2024 |\n",
       "\n"
      ],
      "text/plain": [
       "  nacional ano \n",
       "1 16280    2018\n",
       "2 17243    2019\n",
       "3 18445    2020\n",
       "4 19343    2021\n",
       "5 19554    2022\n",
       "6 21702    2023\n",
       "7 22414    2024"
      ]
     },
     "metadata": {},
     "output_type": "display_data"
    },
    {
     "data": {
      "text/html": [
       "<table class=\"dataframe\">\n",
       "<caption>A tibble: 1 × 3</caption>\n",
       "<thead>\n",
       "\t<tr><th scope=col>entidad_federativa</th><th scope=col>cdmx</th><th scope=col>ano</th></tr>\n",
       "\t<tr><th scope=col>&lt;chr&gt;</th><th scope=col>&lt;int&gt;</th><th scope=col>&lt;dbl&gt;</th></tr>\n",
       "</thead>\n",
       "<tbody>\n",
       "\t<tr><td>CIUDAD DE MÉXICO</td><td>5217</td><td>2018</td></tr>\n",
       "</tbody>\n",
       "</table>\n"
      ],
      "text/latex": [
       "A tibble: 1 × 3\n",
       "\\begin{tabular}{lll}\n",
       " entidad\\_federativa & cdmx & ano\\\\\n",
       " <chr> & <int> & <dbl>\\\\\n",
       "\\hline\n",
       "\t CIUDAD DE MÉXICO & 5217 & 2018\\\\\n",
       "\\end{tabular}\n"
      ],
      "text/markdown": [
       "\n",
       "A tibble: 1 × 3\n",
       "\n",
       "| entidad_federativa &lt;chr&gt; | cdmx &lt;int&gt; | ano &lt;dbl&gt; |\n",
       "|---|---|---|\n",
       "| CIUDAD DE MÉXICO | 5217 | 2018 |\n",
       "\n"
      ],
      "text/plain": [
       "  entidad_federativa cdmx ano \n",
       "1 CIUDAD DE MÉXICO   5217 2018"
      ]
     },
     "metadata": {},
     "output_type": "display_data"
    },
    {
     "data": {
      "text/html": [
       "<table class=\"dataframe\">\n",
       "<caption>A tibble: 7 × 2</caption>\n",
       "<thead>\n",
       "\t<tr><th scope=col>ano</th><th scope=col>cdmx</th></tr>\n",
       "\t<tr><th scope=col>&lt;dbl&gt;</th><th scope=col>&lt;int&gt;</th></tr>\n",
       "</thead>\n",
       "<tbody>\n",
       "\t<tr><td>2018</td><td>5217</td></tr>\n",
       "\t<tr><td>2019</td><td>5297</td></tr>\n",
       "\t<tr><td>2020</td><td>5427</td></tr>\n",
       "\t<tr><td>2021</td><td>5594</td></tr>\n",
       "\t<tr><td>2022</td><td>6645</td></tr>\n",
       "\t<tr><td>2023</td><td>7903</td></tr>\n",
       "\t<tr><td>2024</td><td>8063</td></tr>\n",
       "</tbody>\n",
       "</table>\n"
      ],
      "text/latex": [
       "A tibble: 7 × 2\n",
       "\\begin{tabular}{ll}\n",
       " ano & cdmx\\\\\n",
       " <dbl> & <int>\\\\\n",
       "\\hline\n",
       "\t 2018 & 5217\\\\\n",
       "\t 2019 & 5297\\\\\n",
       "\t 2020 & 5427\\\\\n",
       "\t 2021 & 5594\\\\\n",
       "\t 2022 & 6645\\\\\n",
       "\t 2023 & 7903\\\\\n",
       "\t 2024 & 8063\\\\\n",
       "\\end{tabular}\n"
      ],
      "text/markdown": [
       "\n",
       "A tibble: 7 × 2\n",
       "\n",
       "| ano &lt;dbl&gt; | cdmx &lt;int&gt; |\n",
       "|---|---|\n",
       "| 2018 | 5217 |\n",
       "| 2019 | 5297 |\n",
       "| 2020 | 5427 |\n",
       "| 2021 | 5594 |\n",
       "| 2022 | 6645 |\n",
       "| 2023 | 7903 |\n",
       "| 2024 | 8063 |\n",
       "\n"
      ],
      "text/plain": [
       "  ano  cdmx\n",
       "1 2018 5217\n",
       "2 2019 5297\n",
       "3 2020 5427\n",
       "4 2021 5594\n",
       "5 2022 6645\n",
       "6 2023 7903\n",
       "7 2024 8063"
      ]
     },
     "metadata": {},
     "output_type": "display_data"
    }
   ],
   "source": [
    "#Obtener los totales nacionales y de la Ciudad de México\n",
    "snii2018_nac<-snii2018|>\n",
    "  summarise(nacional = n())|>\n",
    "  mutate(ano = 2018)\n",
    "\n",
    "snii2018_nac\n",
    "\n",
    "snii2019_nac<-snii2019|>\n",
    "  summarise(nacional = n())|>\n",
    "  mutate(ano = 2019)\n",
    "\n",
    "snii2020_nac<-snii2020|>\n",
    "  summarise(nacional = n())|>\n",
    "  mutate(ano = 2020)\n",
    "\n",
    "snii2021_nac<-snii2021|>\n",
    "  summarise(nacional = n())|>\n",
    "  mutate(ano = 2021)\n",
    "\n",
    "snii2022_nac<-snii2022|>\n",
    "  summarise(nacional = n())|>\n",
    "  mutate(ano = 2022)\n",
    "\n",
    "snii2023_nac<-snii2023|>\n",
    "  summarise(nacional = n())|>\n",
    "  mutate(ano = 2023)\n",
    "\n",
    "snii2024_nac<-snii2024|>\n",
    "  summarise(nacional = n())|>\n",
    "  mutate(ano = 2024)\n",
    "\n",
    "nacional_snii<-snii2018_nac|>\n",
    "  bind_rows(snii2019_nac,snii2020_nac, snii2021_nac,snii2022_nac, snii2023_nac, snii2024_nac)\n",
    "\n",
    "nacional_snii\n",
    "\n",
    "snii2018_cdmx<-snii2018|>\n",
    "  group_by(entidad_federativa)|>\n",
    "  summarise(cdmx = n())|>\n",
    "  filter(entidad_federativa==\"CIUDAD DE MÉXICO\")|>\n",
    "  mutate(ano = 2018)\n",
    "\n",
    "snii2018_cdmx\n",
    "\n",
    "snii2019_cdmx<-snii2019|>\n",
    "  group_by(entidad_federativa)|>\n",
    "  summarise(cdmx = n())|>\n",
    "  filter(entidad_federativa==\"CIUDAD DE MÉXICO\")|>\n",
    "  mutate(ano = 2019)\n",
    "\n",
    "snii2020_cdmx<-snii2020|>\n",
    "  group_by(entidad_federativa)|>\n",
    "  summarise(cdmx = n())|>\n",
    "  filter(entidad_federativa==\"CIUDAD DE MÉXICO\")|>\n",
    "  mutate(ano = 2020)\n",
    "\n",
    "snii2021_cdmx<-snii2021|>\n",
    "  group_by(entidad_federativa)|>\n",
    "  summarise(cdmx = n())|>\n",
    "  filter(entidad_federativa==\"CIUDAD DE MÉXICO\")|>\n",
    "  mutate(ano = 2021)\n",
    "\n",
    "snii2022_cdmx<-snii2022|>\n",
    "  group_by(entidad_federativa_de_adscripcion)|>\n",
    "  summarise(cdmx = n())|>\n",
    "  filter(entidad_federativa_de_adscripcion==\"CIUDAD DE MÉXICO\")|>\n",
    "  mutate(ano = 2022)\n",
    "\n",
    "snii2023_cdmx<-snii2023|>\n",
    "  group_by(entidad_federativa_de_adscripcion)|>\n",
    "  summarise(cdmx = n())|>\n",
    "  filter(entidad_federativa_de_adscripcion==\"CIUDAD DE MÉXICO\")|>\n",
    "  mutate(ano = 2023)\n",
    "         \n",
    "snii2024_cdmx<-snii2024|>\n",
    "  group_by(entidad_de_acreditacion)|>\n",
    "  summarise(cdmx = n())|>\n",
    "  filter(entidad_de_acreditacion==\"CIUDAD DE MÉXICO\")|>\n",
    "  mutate(ano = 2024)\n",
    "\n",
    "cdmx_snii<-snii2018_cdmx|>\n",
    "  bind_rows(snii2019_cdmx,snii2020_cdmx, snii2021_cdmx,snii2022_cdmx, snii2023_cdmx,snii2024_cdmx)|>\n",
    "  select(ano, cdmx)\n",
    "\n",
    "cdmx_snii"
   ]
  },
  {
   "cell_type": "code",
   "execution_count": null,
   "id": "868889b5",
   "metadata": {
    "vscode": {
     "languageId": "r"
    }
   },
   "outputs": [
    {
     "data": {
      "text/html": [
       "<table class=\"dataframe\">\n",
       "<caption>A tibble: 7 × 5</caption>\n",
       "<thead>\n",
       "\t<tr><th scope=col>nacional</th><th scope=col>ano</th><th scope=col>cdmx</th><th scope=col>porcentaje</th><th scope=col>tipo</th></tr>\n",
       "\t<tr><th scope=col>&lt;int&gt;</th><th scope=col>&lt;dbl&gt;</th><th scope=col>&lt;int&gt;</th><th scope=col>&lt;dbl&gt;</th><th scope=col>&lt;chr&gt;</th></tr>\n",
       "</thead>\n",
       "<tbody>\n",
       "\t<tr><td>16280</td><td>2018</td><td>5217</td><td>32.04545</td><td>Observado</td></tr>\n",
       "\t<tr><td>17243</td><td>2019</td><td>5297</td><td>30.71971</td><td>Observado</td></tr>\n",
       "\t<tr><td>18445</td><td>2020</td><td>5427</td><td>29.42261</td><td>Observado</td></tr>\n",
       "\t<tr><td>19343</td><td>2021</td><td>5594</td><td>28.92002</td><td>Observado</td></tr>\n",
       "\t<tr><td>19554</td><td>2022</td><td>6645</td><td>33.98282</td><td>Observado</td></tr>\n",
       "\t<tr><td>21702</td><td>2023</td><td>7903</td><td>36.41600</td><td>Observado</td></tr>\n",
       "\t<tr><td>22414</td><td>2024</td><td>8063</td><td>35.97305</td><td>Observado</td></tr>\n",
       "</tbody>\n",
       "</table>\n"
      ],
      "text/latex": [
       "A tibble: 7 × 5\n",
       "\\begin{tabular}{lllll}\n",
       " nacional & ano & cdmx & porcentaje & tipo\\\\\n",
       " <int> & <dbl> & <int> & <dbl> & <chr>\\\\\n",
       "\\hline\n",
       "\t 16280 & 2018 & 5217 & 32.04545 & Observado\\\\\n",
       "\t 17243 & 2019 & 5297 & 30.71971 & Observado\\\\\n",
       "\t 18445 & 2020 & 5427 & 29.42261 & Observado\\\\\n",
       "\t 19343 & 2021 & 5594 & 28.92002 & Observado\\\\\n",
       "\t 19554 & 2022 & 6645 & 33.98282 & Observado\\\\\n",
       "\t 21702 & 2023 & 7903 & 36.41600 & Observado\\\\\n",
       "\t 22414 & 2024 & 8063 & 35.97305 & Observado\\\\\n",
       "\\end{tabular}\n"
      ],
      "text/markdown": [
       "\n",
       "A tibble: 7 × 5\n",
       "\n",
       "| nacional &lt;int&gt; | ano &lt;dbl&gt; | cdmx &lt;int&gt; | porcentaje &lt;dbl&gt; | tipo &lt;chr&gt; |\n",
       "|---|---|---|---|---|\n",
       "| 16280 | 2018 | 5217 | 32.04545 | Observado |\n",
       "| 17243 | 2019 | 5297 | 30.71971 | Observado |\n",
       "| 18445 | 2020 | 5427 | 29.42261 | Observado |\n",
       "| 19343 | 2021 | 5594 | 28.92002 | Observado |\n",
       "| 19554 | 2022 | 6645 | 33.98282 | Observado |\n",
       "| 21702 | 2023 | 7903 | 36.41600 | Observado |\n",
       "| 22414 | 2024 | 8063 | 35.97305 | Observado |\n",
       "\n"
      ],
      "text/plain": [
       "  nacional ano  cdmx porcentaje tipo     \n",
       "1 16280    2018 5217 32.04545   Observado\n",
       "2 17243    2019 5297 30.71971   Observado\n",
       "3 18445    2020 5427 29.42261   Observado\n",
       "4 19343    2021 5594 28.92002   Observado\n",
       "5 19554    2022 6645 33.98282   Observado\n",
       "6 21702    2023 7903 36.41600   Observado\n",
       "7 22414    2024 8063 35.97305   Observado"
      ]
     },
     "metadata": {},
     "output_type": "display_data"
    }
   ],
   "source": [
    "#Porcentaje de integrantes del SNII en áreas del conocimiento STEM\n",
    "porcentaje_part_snii<-nacional_snii|>\n",
    "  left_join(cdmx_snii, by = \"ano\")|>\n",
    "  mutate(porcentaje = (cdmx*100)/nacional,\n",
    "          tipo = \"Observado\")\n",
    "\n",
    "porcentaje_part_snii"
   ]
  },
  {
   "cell_type": "code",
   "execution_count": 136,
   "id": "88585274",
   "metadata": {
    "vscode": {
     "languageId": "r"
    }
   },
   "outputs": [
    {
     "data": {
      "text/html": [
       "0.051535726212647"
      ],
      "text/latex": [
       "0.051535726212647"
      ],
      "text/markdown": [
       "0.051535726212647"
      ],
      "text/plain": [
       "[1] 0.05153573"
      ]
     },
     "metadata": {},
     "output_type": "display_data"
    },
    {
     "data": {
      "text/html": [
       "0.0178421929282855"
      ],
      "text/latex": [
       "0.0178421929282855"
      ],
      "text/markdown": [
       "0.0178421929282855"
      ],
      "text/plain": [
       "[1] 0.01784219"
      ]
     },
     "metadata": {},
     "output_type": "display_data"
    },
    {
     "data": {
      "text/html": [
       "0.0192448764914566"
      ],
      "text/latex": [
       "0.0192448764914566"
      ],
      "text/markdown": [
       "0.0192448764914566"
      ],
      "text/plain": [
       "[1] 0.01924488"
      ]
     },
     "metadata": {},
     "output_type": "display_data"
    },
    {
     "data": {
      "text/html": [
       "0.0168457240564814"
      ],
      "text/latex": [
       "0.0168457240564814"
      ],
      "text/markdown": [
       "0.0168457240564814"
      ],
      "text/plain": [
       "[1] 0.01684572"
      ]
     },
     "metadata": {},
     "output_type": "display_data"
    }
   ],
   "source": [
    "#ESCENARIOS\n",
    "#TASAS GENERLES PARA CADA PERIODO\n",
    "porcentaje_base <- porcentaje_part_snii|>\n",
    "  filter(ano == 2024)|>\n",
    "  pull(porcentaje)\n",
    "\n",
    "#Tasa de crecimiento media anual para el periodo 2020-2024\n",
    "ano = (2024:2045)\n",
    "año_base <- 2024\n",
    "tcma<-((porcentaje_part_snii$porcentaje[porcentaje_part_snii$ano==2024]/porcentaje_part_snii$porcentaje[porcentaje_part_snii$ano==2020])^(1/(2024-2020))-1)\n",
    "tcma\n",
    "#Metas establecidas por la SECTEI\n",
    "porcentaje <- data.frame(\n",
    "  ano = c(2030, 2035, 2045), \n",
    "  porcentaje = c(40, 44, 52))\n",
    "#TASAS GENERLES PARA CADA PERIODO\n",
    "año_bse <- porcentaje_part_snii|>\n",
    "  filter(ano == 2024)\n",
    "\n",
    "#Tasas de cobertura para los años 2030, 2035 y 2045 (estas tasas son las metas establecidas por la SECTEI)\n",
    "t2030<-porcentaje|>\n",
    "filter(ano == 2030)\n",
    "t2035<-porcentaje|>\n",
    "filter(ano == 2035)\n",
    "t2045<-porcentaje|>\n",
    "filter(ano == 2045)\n",
    "\n",
    "tc1= (t2030$porcentaje / año_bse$porcentaje)^(1 / (2030 - 2024)) - 1\n",
    "tc2= (t2035$porcentaje / t2030$porcentaje)^(1 / (2035 - 2030)) - 1\n",
    "tc3= (t2045$porcentaje / t2035$porcentaje)^(1 / (2045 - 2035)) - 1\n",
    "\n",
    "tc1\n",
    "tc2\n",
    "tc3"
   ]
  },
  {
   "cell_type": "code",
   "execution_count": 139,
   "id": "b2e1822a",
   "metadata": {
    "vscode": {
     "languageId": "r"
    }
   },
   "outputs": [
    {
     "data": {
      "text/html": [
       "<table class=\"dataframe\">\n",
       "<caption>A tibble: 72 × 3</caption>\n",
       "<thead>\n",
       "\t<tr><th scope=col>ano</th><th scope=col>tipo</th><th scope=col>porcentaje</th></tr>\n",
       "\t<tr><th scope=col>&lt;dbl&gt;</th><th scope=col>&lt;chr&gt;</th><th scope=col>&lt;dbl&gt;</th></tr>\n",
       "</thead>\n",
       "<tbody>\n",
       "\t<tr><td>2018</td><td>Observado</td><td>32.04545</td></tr>\n",
       "\t<tr><td>2019</td><td>Observado</td><td>30.71971</td></tr>\n",
       "\t<tr><td>2020</td><td>Observado</td><td>29.42261</td></tr>\n",
       "\t<tr><td>2021</td><td>Observado</td><td>28.92002</td></tr>\n",
       "\t<tr><td>2022</td><td>Observado</td><td>33.98282</td></tr>\n",
       "\t<tr><td>2023</td><td>Observado</td><td>36.41600</td></tr>\n",
       "\t<tr><td>2024</td><td>Observado</td><td>35.97305</td></tr>\n",
       "\t<tr><td>2025</td><td>Deseable </td><td>36.61489</td></tr>\n",
       "\t<tr><td>2026</td><td>Deseable </td><td>37.26818</td></tr>\n",
       "\t<tr><td>2027</td><td>Deseable </td><td>37.93313</td></tr>\n",
       "\t<tr><td>2028</td><td>Deseable </td><td>38.60994</td></tr>\n",
       "\t<tr><td>2029</td><td>Deseable </td><td>39.29882</td></tr>\n",
       "\t<tr><td>2030</td><td>Deseable </td><td>40.00000</td></tr>\n",
       "\t<tr><td>2031</td><td>Deseable </td><td>40.76980</td></tr>\n",
       "\t<tr><td>2032</td><td>Deseable </td><td>41.55440</td></tr>\n",
       "\t<tr><td>2033</td><td>Deseable </td><td>42.35411</td></tr>\n",
       "\t<tr><td>2034</td><td>Deseable </td><td>43.16921</td></tr>\n",
       "\t<tr><td>2035</td><td>Deseable </td><td>44.00000</td></tr>\n",
       "\t<tr><td>2036</td><td>Deseable </td><td>44.74121</td></tr>\n",
       "\t<tr><td>2037</td><td>Deseable </td><td>45.49491</td></tr>\n",
       "\t<tr><td>2038</td><td>Deseable </td><td>46.26130</td></tr>\n",
       "\t<tr><td>2039</td><td>Deseable </td><td>47.04061</td></tr>\n",
       "\t<tr><td>2040</td><td>Deseable </td><td>47.83304</td></tr>\n",
       "\t<tr><td>2041</td><td>Deseable </td><td>48.63883</td></tr>\n",
       "\t<tr><td>2042</td><td>Deseable </td><td>49.45818</td></tr>\n",
       "\t<tr><td>2043</td><td>Deseable </td><td>50.29134</td></tr>\n",
       "\t<tr><td>2044</td><td>Deseable </td><td>51.13853</td></tr>\n",
       "\t<tr><td>2045</td><td>Deseable </td><td>52.00000</td></tr>\n",
       "\t<tr><td>2024</td><td>Inercial </td><td>35.97000</td></tr>\n",
       "\t<tr><td>2025</td><td>Inercial </td><td>36.59000</td></tr>\n",
       "\t<tr><td>⋮</td><td>⋮</td><td>⋮</td></tr>\n",
       "\t<tr><td>2038</td><td>Inercial     </td><td>45.66</td></tr>\n",
       "\t<tr><td>2039</td><td>Inercial     </td><td>46.44</td></tr>\n",
       "\t<tr><td>2040</td><td>Inercial     </td><td>47.24</td></tr>\n",
       "\t<tr><td>2041</td><td>Inercial     </td><td>48.05</td></tr>\n",
       "\t<tr><td>2042</td><td>Inercial     </td><td>48.88</td></tr>\n",
       "\t<tr><td>2043</td><td>Inercial     </td><td>49.72</td></tr>\n",
       "\t<tr><td>2044</td><td>Inercial     </td><td>50.57</td></tr>\n",
       "\t<tr><td>2045</td><td>Inercial     </td><td>51.44</td></tr>\n",
       "\t<tr><td>2024</td><td>Transformador</td><td>35.97</td></tr>\n",
       "\t<tr><td>2025</td><td>Transformador</td><td>36.90</td></tr>\n",
       "\t<tr><td>2026</td><td>Transformador</td><td>37.85</td></tr>\n",
       "\t<tr><td>2027</td><td>Transformador</td><td>38.83</td></tr>\n",
       "\t<tr><td>2028</td><td>Transformador</td><td>39.83</td></tr>\n",
       "\t<tr><td>2029</td><td>Transformador</td><td>40.85</td></tr>\n",
       "\t<tr><td>2030</td><td>Transformador</td><td>41.91</td></tr>\n",
       "\t<tr><td>2031</td><td>Transformador</td><td>42.99</td></tr>\n",
       "\t<tr><td>2032</td><td>Transformador</td><td>44.09</td></tr>\n",
       "\t<tr><td>2033</td><td>Transformador</td><td>45.23</td></tr>\n",
       "\t<tr><td>2034</td><td>Transformador</td><td>46.39</td></tr>\n",
       "\t<tr><td>2035</td><td>Transformador</td><td>47.59</td></tr>\n",
       "\t<tr><td>2036</td><td>Transformador</td><td>48.82</td></tr>\n",
       "\t<tr><td>2037</td><td>Transformador</td><td>50.07</td></tr>\n",
       "\t<tr><td>2038</td><td>Transformador</td><td>51.36</td></tr>\n",
       "\t<tr><td>2039</td><td>Transformador</td><td>52.69</td></tr>\n",
       "\t<tr><td>2040</td><td>Transformador</td><td>54.05</td></tr>\n",
       "\t<tr><td>2041</td><td>Transformador</td><td>55.44</td></tr>\n",
       "\t<tr><td>2042</td><td>Transformador</td><td>56.87</td></tr>\n",
       "\t<tr><td>2043</td><td>Transformador</td><td>58.33</td></tr>\n",
       "\t<tr><td>2044</td><td>Transformador</td><td>59.84</td></tr>\n",
       "\t<tr><td>2045</td><td>Transformador</td><td>61.38</td></tr>\n",
       "</tbody>\n",
       "</table>\n"
      ],
      "text/latex": [
       "A tibble: 72 × 3\n",
       "\\begin{tabular}{lll}\n",
       " ano & tipo & porcentaje\\\\\n",
       " <dbl> & <chr> & <dbl>\\\\\n",
       "\\hline\n",
       "\t 2018 & Observado & 32.04545\\\\\n",
       "\t 2019 & Observado & 30.71971\\\\\n",
       "\t 2020 & Observado & 29.42261\\\\\n",
       "\t 2021 & Observado & 28.92002\\\\\n",
       "\t 2022 & Observado & 33.98282\\\\\n",
       "\t 2023 & Observado & 36.41600\\\\\n",
       "\t 2024 & Observado & 35.97305\\\\\n",
       "\t 2025 & Deseable  & 36.61489\\\\\n",
       "\t 2026 & Deseable  & 37.26818\\\\\n",
       "\t 2027 & Deseable  & 37.93313\\\\\n",
       "\t 2028 & Deseable  & 38.60994\\\\\n",
       "\t 2029 & Deseable  & 39.29882\\\\\n",
       "\t 2030 & Deseable  & 40.00000\\\\\n",
       "\t 2031 & Deseable  & 40.76980\\\\\n",
       "\t 2032 & Deseable  & 41.55440\\\\\n",
       "\t 2033 & Deseable  & 42.35411\\\\\n",
       "\t 2034 & Deseable  & 43.16921\\\\\n",
       "\t 2035 & Deseable  & 44.00000\\\\\n",
       "\t 2036 & Deseable  & 44.74121\\\\\n",
       "\t 2037 & Deseable  & 45.49491\\\\\n",
       "\t 2038 & Deseable  & 46.26130\\\\\n",
       "\t 2039 & Deseable  & 47.04061\\\\\n",
       "\t 2040 & Deseable  & 47.83304\\\\\n",
       "\t 2041 & Deseable  & 48.63883\\\\\n",
       "\t 2042 & Deseable  & 49.45818\\\\\n",
       "\t 2043 & Deseable  & 50.29134\\\\\n",
       "\t 2044 & Deseable  & 51.13853\\\\\n",
       "\t 2045 & Deseable  & 52.00000\\\\\n",
       "\t 2024 & Inercial  & 35.97000\\\\\n",
       "\t 2025 & Inercial  & 36.59000\\\\\n",
       "\t ⋮ & ⋮ & ⋮\\\\\n",
       "\t 2038 & Inercial      & 45.66\\\\\n",
       "\t 2039 & Inercial      & 46.44\\\\\n",
       "\t 2040 & Inercial      & 47.24\\\\\n",
       "\t 2041 & Inercial      & 48.05\\\\\n",
       "\t 2042 & Inercial      & 48.88\\\\\n",
       "\t 2043 & Inercial      & 49.72\\\\\n",
       "\t 2044 & Inercial      & 50.57\\\\\n",
       "\t 2045 & Inercial      & 51.44\\\\\n",
       "\t 2024 & Transformador & 35.97\\\\\n",
       "\t 2025 & Transformador & 36.90\\\\\n",
       "\t 2026 & Transformador & 37.85\\\\\n",
       "\t 2027 & Transformador & 38.83\\\\\n",
       "\t 2028 & Transformador & 39.83\\\\\n",
       "\t 2029 & Transformador & 40.85\\\\\n",
       "\t 2030 & Transformador & 41.91\\\\\n",
       "\t 2031 & Transformador & 42.99\\\\\n",
       "\t 2032 & Transformador & 44.09\\\\\n",
       "\t 2033 & Transformador & 45.23\\\\\n",
       "\t 2034 & Transformador & 46.39\\\\\n",
       "\t 2035 & Transformador & 47.59\\\\\n",
       "\t 2036 & Transformador & 48.82\\\\\n",
       "\t 2037 & Transformador & 50.07\\\\\n",
       "\t 2038 & Transformador & 51.36\\\\\n",
       "\t 2039 & Transformador & 52.69\\\\\n",
       "\t 2040 & Transformador & 54.05\\\\\n",
       "\t 2041 & Transformador & 55.44\\\\\n",
       "\t 2042 & Transformador & 56.87\\\\\n",
       "\t 2043 & Transformador & 58.33\\\\\n",
       "\t 2044 & Transformador & 59.84\\\\\n",
       "\t 2045 & Transformador & 61.38\\\\\n",
       "\\end{tabular}\n"
      ],
      "text/markdown": [
       "\n",
       "A tibble: 72 × 3\n",
       "\n",
       "| ano &lt;dbl&gt; | tipo &lt;chr&gt; | porcentaje &lt;dbl&gt; |\n",
       "|---|---|---|\n",
       "| 2018 | Observado | 32.04545 |\n",
       "| 2019 | Observado | 30.71971 |\n",
       "| 2020 | Observado | 29.42261 |\n",
       "| 2021 | Observado | 28.92002 |\n",
       "| 2022 | Observado | 33.98282 |\n",
       "| 2023 | Observado | 36.41600 |\n",
       "| 2024 | Observado | 35.97305 |\n",
       "| 2025 | Deseable  | 36.61489 |\n",
       "| 2026 | Deseable  | 37.26818 |\n",
       "| 2027 | Deseable  | 37.93313 |\n",
       "| 2028 | Deseable  | 38.60994 |\n",
       "| 2029 | Deseable  | 39.29882 |\n",
       "| 2030 | Deseable  | 40.00000 |\n",
       "| 2031 | Deseable  | 40.76980 |\n",
       "| 2032 | Deseable  | 41.55440 |\n",
       "| 2033 | Deseable  | 42.35411 |\n",
       "| 2034 | Deseable  | 43.16921 |\n",
       "| 2035 | Deseable  | 44.00000 |\n",
       "| 2036 | Deseable  | 44.74121 |\n",
       "| 2037 | Deseable  | 45.49491 |\n",
       "| 2038 | Deseable  | 46.26130 |\n",
       "| 2039 | Deseable  | 47.04061 |\n",
       "| 2040 | Deseable  | 47.83304 |\n",
       "| 2041 | Deseable  | 48.63883 |\n",
       "| 2042 | Deseable  | 49.45818 |\n",
       "| 2043 | Deseable  | 50.29134 |\n",
       "| 2044 | Deseable  | 51.13853 |\n",
       "| 2045 | Deseable  | 52.00000 |\n",
       "| 2024 | Inercial  | 35.97000 |\n",
       "| 2025 | Inercial  | 36.59000 |\n",
       "| ⋮ | ⋮ | ⋮ |\n",
       "| 2038 | Inercial      | 45.66 |\n",
       "| 2039 | Inercial      | 46.44 |\n",
       "| 2040 | Inercial      | 47.24 |\n",
       "| 2041 | Inercial      | 48.05 |\n",
       "| 2042 | Inercial      | 48.88 |\n",
       "| 2043 | Inercial      | 49.72 |\n",
       "| 2044 | Inercial      | 50.57 |\n",
       "| 2045 | Inercial      | 51.44 |\n",
       "| 2024 | Transformador | 35.97 |\n",
       "| 2025 | Transformador | 36.90 |\n",
       "| 2026 | Transformador | 37.85 |\n",
       "| 2027 | Transformador | 38.83 |\n",
       "| 2028 | Transformador | 39.83 |\n",
       "| 2029 | Transformador | 40.85 |\n",
       "| 2030 | Transformador | 41.91 |\n",
       "| 2031 | Transformador | 42.99 |\n",
       "| 2032 | Transformador | 44.09 |\n",
       "| 2033 | Transformador | 45.23 |\n",
       "| 2034 | Transformador | 46.39 |\n",
       "| 2035 | Transformador | 47.59 |\n",
       "| 2036 | Transformador | 48.82 |\n",
       "| 2037 | Transformador | 50.07 |\n",
       "| 2038 | Transformador | 51.36 |\n",
       "| 2039 | Transformador | 52.69 |\n",
       "| 2040 | Transformador | 54.05 |\n",
       "| 2041 | Transformador | 55.44 |\n",
       "| 2042 | Transformador | 56.87 |\n",
       "| 2043 | Transformador | 58.33 |\n",
       "| 2044 | Transformador | 59.84 |\n",
       "| 2045 | Transformador | 61.38 |\n",
       "\n"
      ],
      "text/plain": [
       "   ano  tipo          porcentaje\n",
       "1  2018 Observado     32.04545  \n",
       "2  2019 Observado     30.71971  \n",
       "3  2020 Observado     29.42261  \n",
       "4  2021 Observado     28.92002  \n",
       "5  2022 Observado     33.98282  \n",
       "6  2023 Observado     36.41600  \n",
       "7  2024 Observado     35.97305  \n",
       "8  2025 Deseable      36.61489  \n",
       "9  2026 Deseable      37.26818  \n",
       "10 2027 Deseable      37.93313  \n",
       "11 2028 Deseable      38.60994  \n",
       "12 2029 Deseable      39.29882  \n",
       "13 2030 Deseable      40.00000  \n",
       "14 2031 Deseable      40.76980  \n",
       "15 2032 Deseable      41.55440  \n",
       "16 2033 Deseable      42.35411  \n",
       "17 2034 Deseable      43.16921  \n",
       "18 2035 Deseable      44.00000  \n",
       "19 2036 Deseable      44.74121  \n",
       "20 2037 Deseable      45.49491  \n",
       "21 2038 Deseable      46.26130  \n",
       "22 2039 Deseable      47.04061  \n",
       "23 2040 Deseable      47.83304  \n",
       "24 2041 Deseable      48.63883  \n",
       "25 2042 Deseable      49.45818  \n",
       "26 2043 Deseable      50.29134  \n",
       "27 2044 Deseable      51.13853  \n",
       "28 2045 Deseable      52.00000  \n",
       "29 2024 Inercial      35.97000  \n",
       "30 2025 Inercial      36.59000  \n",
       "⋮  ⋮    ⋮             ⋮         \n",
       "43 2038 Inercial      45.66     \n",
       "44 2039 Inercial      46.44     \n",
       "45 2040 Inercial      47.24     \n",
       "46 2041 Inercial      48.05     \n",
       "47 2042 Inercial      48.88     \n",
       "48 2043 Inercial      49.72     \n",
       "49 2044 Inercial      50.57     \n",
       "50 2045 Inercial      51.44     \n",
       "51 2024 Transformador 35.97     \n",
       "52 2025 Transformador 36.90     \n",
       "53 2026 Transformador 37.85     \n",
       "54 2027 Transformador 38.83     \n",
       "55 2028 Transformador 39.83     \n",
       "56 2029 Transformador 40.85     \n",
       "57 2030 Transformador 41.91     \n",
       "58 2031 Transformador 42.99     \n",
       "59 2032 Transformador 44.09     \n",
       "60 2033 Transformador 45.23     \n",
       "61 2034 Transformador 46.39     \n",
       "62 2035 Transformador 47.59     \n",
       "63 2036 Transformador 48.82     \n",
       "64 2037 Transformador 50.07     \n",
       "65 2038 Transformador 51.36     \n",
       "66 2039 Transformador 52.69     \n",
       "67 2040 Transformador 54.05     \n",
       "68 2041 Transformador 55.44     \n",
       "69 2042 Transformador 56.87     \n",
       "70 2043 Transformador 58.33     \n",
       "71 2044 Transformador 59.84     \n",
       "72 2045 Transformador 61.38     "
      ]
     },
     "metadata": {},
     "output_type": "display_data"
    }
   ],
   "source": [
    "#Proyecciones \n",
    "proyecciones_porcentaje_part_snii <- data.frame(\n",
    "  ano = 2025:2045) |>\n",
    "  mutate(porcentaje = ifelse(ano < 2030,año_bse$porcentaje * (1 + tc1)^(ano - año_bse$ano),\n",
    "                         ifelse(ano == 2030, t2030$porcentaje,\n",
    "                                ifelse(ano < 2035, t2030$porcentaje * (1 + tc2)^(ano - t2030$ano),\n",
    "                                        ifelse(ano == 2035, t2035$porcentaje,\n",
    "                                                ifelse(ano < 2045, t2035$porcentaje * (1 + tc3)^(ano - t2035$ano),\n",
    "                                                       ifelse(ano == 2045, t2045$porcentaje, 0)))))),\n",
    "\n",
    "        tipo = \"Deseable\")\n",
    "\n",
    "\n",
    "#ESTABLECIMIENTO DE LAS TENEDENCIAS (ESCENARIO INERCIAL Y TRANSFORMADOR)\n",
    "tendencia_base <- data.frame(ano = ano,\n",
    "                             porcentaje = round(porcentaje_base * (1 + 1/3*tcma ) ^ (ano - año_base), 2),\n",
    "                             tipo = \"Inercial\")\n",
    "\n",
    "tendencia_transformador <- data.frame(ano = ano,\n",
    "                                       porcentaje = round(porcentaje_base * (1 + 1/2*tcma ) ^ (ano - año_base), 2),\n",
    "                                       tipo = \"Transformador\")\n",
    "\t\t\t\t\t\t\t\t\t   \n",
    "\t\t\t\t\t\t\t\t\t   \n",
    "snii <- porcentaje_part_snii |>\n",
    "  select(ano, tipo, porcentaje)|>\n",
    "  bind_rows(proyecciones_porcentaje_part_snii, tendencia_base, tendencia_transformador)\n",
    "\n",
    "snii\n"
   ]
  },
  {
   "cell_type": "code",
   "execution_count": null,
   "id": "6bb6927a",
   "metadata": {
    "vscode": {
     "languageId": "r"
    }
   },
   "outputs": [],
   "source": [
    "lineas <- bind_rows(data.frame(ano = c(2024, 2030),\n",
    "                               porcentaje = c(porcentaje_part_snii_proy$porcentaje[porcentaje_part_snii_proy$ano == 2024 & porcentaje_part_snii_proy$tipo == \"Observado\"],\n",
    "                                              porcentaje_part_snii_proy$porcentaje[porcentaje_part_snii_proy$ano == 2030 & porcentaje_part_snii_proy$tipo == \"Inercial\"]),\n",
    "                               tipo = \"Inercial\"),\n",
    "                    data.frame(ano = c(2024, 2030),\n",
    "                               porcentaje = c(porcentaje_part_snii_proy$porcentaje[porcentaje_part_snii_proy$ano == 2024 & porcentaje_part_snii_proy$tipo == \"Observado\"], \n",
    "                                              porcentaje_part_snii_proy$porcentaje[porcentaje_part_snii_proy$ano == 2030 & porcentaje_part_snii_proy$tipo == \"Deseable\"]),\n",
    "                               tipo = \"Deseable\"), \n",
    "                    data.frame(ano = c(2024, 2030),\n",
    "                               porcentaje = c(porcentaje_part_snii_proy$porcentaje[porcentaje_part_snii_proy$ano == 2024 & porcentaje_part_snii_proy$tipo == \"Observado\"], \n",
    "                                              porcentaje_part_snii_proy$porcentaje[porcentaje_part_snii_proy$ano == 2030 & porcentaje_part_snii_proy$tipo == \"Transformador\"]),\n",
    "                               tipo = \"Transformador\"))\n",
    "\n",
    "paleta_colores <- c(\"Observado\" = \"#9F2241\",\n",
    "                    \"Inercial\" = \"#cfcfcf\" ,\n",
    "                    \"Deseable\" = \"#027A35\", \n",
    "                    \"Transformador\" = \"#AC6D14\")\n",
    "\n",
    "linetypes <- c(\"Observado\" = \"solid\",\n",
    "               \"Inercial\" = \"dotdash\",\n",
    "               \"Deseable\" = \"dotdash\", \n",
    "               \"Transformador\" = \"dotdash\""
   ]
  },
  {
   "cell_type": "code",
   "execution_count": null,
   "id": "15a399f1",
   "metadata": {
    "vscode": {
     "languageId": "r"
    }
   },
   "outputs": [
    {
     "data": {
      "image/png": "[encoded data removed]",
      "text/plain": [
       "plot without title"
      ]
     },
     "metadata": {
      "image/png": {
       "height": 420,
       "width": 420
      }
     },
     "output_type": "display_data"
    }
   ],
   "source": [
    "# Gráfico con etiquetas y eje Y personalizado\n",
    "ggplot(snii, aes(x = ano, y = porcentaje, group = tipo, color = tipo, linetype = tipo)) +\n",
    "  geom_line(linewidth = 1.2) +\n",
    "  geom_point(size = 1.5) +\n",
    "geom_text(data = subset(snii, ano %in% c(2020, 2024, 2030, 2035, 2045)),\n",
    "          aes(label = paste0(round(porcentaje, 1), \"%\")),\n",
    "          vjust = -1, size = 8, family = \"Roboto\", show.legend = FALSE) +\n",
    "  scale_color_manual(values = paleta_colores) +\n",
    "  scale_linetype_manual(values = linetypes) +\n",
    "  scale_y_continuous(breaks = seq(0, max(snii$porcentaje, na.rm = TRUE) + 5, by = 5),\n",
    "                     labels = function(x) paste0(x, \"%\"),\n",
    "                     expand = expansion(mult = c(1, 1))) +\n",
    "  labs(title = \"Porcentaje de integrantes del SNII en áreas del conocimiento STEM en Ciudad de México\",\n",
    "       x = \"Año\",\n",
    "       y = \"Porcentaje\",\n",
    "       color = \"\",\n",
    "       linetype = \"\") +\n",
    "  theme_bw(base_size = 15, base_family = \"Roboto\") +\n",
    "  theme( panel.grid.minor.y = element_line(color = \"gray80\", linetype = \"dotted\"),\n",
    "         panel.grid.minor.x = element_blank(),\n",
    "         panel.grid.major.y = element_blank(),\n",
    "         panel.border = element_blank(),\n",
    "         axis.line = element_line(color = \"gray80\"),\n",
    "         legend.position = \"top\",\n",
    "         plot.caption = element_text(hjust = 0))\n",
    "\n",
    "# Guardar el gráfico\n",
    "#ggsave(\"snii_stem_ciudad_mexico.png\", width = 12, height = 8, dpi = 300)\n"
   ]
  }
 ],
 "metadata": {
  "kernelspec": {
   "display_name": "R",
   "language": "R",
   "name": "ir"
  },
  "language_info": {
   "codemirror_mode": "r",
   "file_extension": ".r",
   "mimetype": "text/x-r-source",
   "name": "R",
   "pygments_lexer": "r",
   "version": "4.4.3"
  }
 },
 "nbformat": 4,
 "nbformat_minor": 5
}
