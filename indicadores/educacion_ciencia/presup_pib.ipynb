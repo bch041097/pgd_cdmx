{
 "cells": [
  {
   "metadata": {
    "ExecuteTime": {
     "end_time": "2025-02-06T20:16:21.616897Z",
     "start_time": "2025-02-06T20:16:21.604240Z"
    }
   },
   "cell_type": "code",
   "source": [
    "#Se borra todo lo que se encuentra en el entorno\n",
    "\n",
    "rm(list=ls())\n",
    "\n",
    "# Librerías ====\n",
    "if (!require('pacman')) install.packages('pacman')\n",
    "pacman::p_load(tidyverse, httr,jsonlite)"
   ],
   "id": "74419a388487c712",
   "outputs": [],
   "execution_count": 40
  },
  {
   "metadata": {
    "ExecuteTime": {
     "end_time": "2025-02-06T20:16:24.733292Z",
     "start_time": "2025-02-06T20:16:24.722469Z"
    }
   },
   "cell_type": "code",
   "source": [
    "##Hacer lista con urls de los archivos\n",
    "\n",
    "presupuestos <- list(\n",
    "  '2024' = 'https://datos.cdmx.gob.mx/dataset/3a6cba97-adb1-4f35-9df1-984cc3657aca/resource/7fa1da81-531c-477c-93db-7580bc1c7ad0/download/egresos_2024_aprobado.csv',\n",
    "  '2023' = 'https://datos.cdmx.gob.mx/dataset/ea119a03-4f5a-46fa-afbe-bc32bcf79ec3/resource/5137e3db-227e-462d-8d59-1942afbc0c6a/download/egresos_2023_aprobado.csv',\n",
    "  '2022' = 'https://datos.cdmx.gob.mx/dataset/755f47f1-b937-4131-8a7b-fbe306e747c8/resource/fc93c940-ad75-4e7f-afe6-c624726623a9/download/egresos_2022_aprobado.csv',\n",
    "  '2021' = 'https://datos.cdmx.gob.mx/dataset/246be014-62ba-46e0-a7ce-9f37c8f01886/resource/682c37bd-96a2-4f78-94bf-3c77c3870f04/download/egresos_2021_aprobado.csv',\n",
    "  '2020' = 'https://datos.cdmx.gob.mx/dataset/2bb4de63-8212-4d2a-a377-98b10f8384c6/resource/def0fc56-4e26-4cd2-9ec6-200cb86b418e/download/egresos_2020_aprobado.csv',\n",
    "  '2019' = 'https://datos.cdmx.gob.mx/dataset/8dc52617-63f6-4bfd-9fae-54239675c6d0/resource/9a6f53d7-1751-4ae4-8bd8-d31807be7789/download/egresos_2019_aprobado.csv',\n",
    "  '2018' = 'https://datos.cdmx.gob.mx/dataset/7a8820f2-3bea-4c69-8b20-1d01b1a99a6a/resource/5b20655c-072f-4347-baee-ab93d930b27b/download/egresos_2018_aprobado.csv'\n",
    ")"
   ],
   "id": "8559b438f6e54483",
   "outputs": [],
   "execution_count": 42
  },
  {
   "metadata": {
    "ExecuteTime": {
     "end_time": "2025-02-06T20:16:27.248579Z",
     "start_time": "2025-02-06T20:16:27.237982Z"
    }
   },
   "cell_type": "code",
   "source": [
    "#Función para consultar la api\n",
    "\n",
    "consulta_api<-function(url){\n",
    "  r <- GET(url, timeout(10000))\n",
    "  df <- fromJSON(rawToChar(r$content))\n",
    "  return(df)\n",
    "}"
   ],
   "id": "249ff7121cfa0e49",
   "outputs": [],
   "execution_count": 43
  },
  {
   "metadata": {
    "ExecuteTime": {
     "end_time": "2025-02-06T20:17:14.655092Z",
     "start_time": "2025-02-06T20:16:29.104404Z"
    }
   },
   "cell_type": "code",
   "source": [
    "presupuestos <- map_dfr(\n",
    "  names(presupuestos),\n",
    "  ~ read_csv(presupuestos[[.x]],show_col_types = FALSE)%>%\n",
    "    mutate(year = as.numeric(.x))%>%\n",
    "#Identificar presupuesto de innovación, ciencia y tecnología\n",
    "mutate(ict=case_when((funcion==38) ~ 1, TRUE ~ 0))%>%\n",
    "group_by(year)%>%\n",
    "summarise(preup_ict=sum(monto_aprobado[ict == 1]))\n",
    ")\n",
    "\n",
    "presupuestos"
   ],
   "id": "148da5eb4012facf",
   "outputs": [
    {
     "data": {
      "text/html": [
       "<table class=\"dataframe\">\n",
       "<caption>A tibble: 7 × 2</caption>\n",
       "<thead>\n",
       "\t<tr><th scope=col>year</th><th scope=col>preup_ict</th></tr>\n",
       "\t<tr><th scope=col>&lt;dbl&gt;</th><th scope=col>&lt;dbl&gt;</th></tr>\n",
       "</thead>\n",
       "<tbody>\n",
       "\t<tr><td>2024</td><td>325495931</td></tr>\n",
       "\t<tr><td>2023</td><td>263752539</td></tr>\n",
       "\t<tr><td>2022</td><td> 65365439</td></tr>\n",
       "\t<tr><td>2021</td><td>146634666</td></tr>\n",
       "\t<tr><td>2020</td><td>406148625</td></tr>\n",
       "\t<tr><td>2019</td><td>359279543</td></tr>\n",
       "\t<tr><td>2018</td><td>350824762</td></tr>\n",
       "</tbody>\n",
       "</table>\n"
      ],
      "text/markdown": "\nA tibble: 7 × 2\n\n| year &lt;dbl&gt; | preup_ict &lt;dbl&gt; |\n|---|---|\n| 2024 | 325495931 |\n| 2023 | 263752539 |\n| 2022 |  65365439 |\n| 2021 | 146634666 |\n| 2020 | 406148625 |\n| 2019 | 359279543 |\n| 2018 | 350824762 |\n\n",
      "text/latex": "A tibble: 7 × 2\n\\begin{tabular}{ll}\n year & preup\\_ict\\\\\n <dbl> & <dbl>\\\\\n\\hline\n\t 2024 & 325495931\\\\\n\t 2023 & 263752539\\\\\n\t 2022 &  65365439\\\\\n\t 2021 & 146634666\\\\\n\t 2020 & 406148625\\\\\n\t 2019 & 359279543\\\\\n\t 2018 & 350824762\\\\\n\\end{tabular}\n",
      "text/plain": [
       "  year preup_ict\n",
       "1 2024 325495931\n",
       "2 2023 263752539\n",
       "3 2022  65365439\n",
       "4 2021 146634666\n",
       "5 2020 406148625\n",
       "6 2019 359279543\n",
       "7 2018 350824762"
      ]
     },
     "metadata": {},
     "output_type": "display_data"
    }
   ],
   "execution_count": 44
  },
  {
   "metadata": {},
   "cell_type": "markdown",
   "source": "### Obtener datos de PIB e INPC de INEGI",
   "id": "5dee85fae1975348"
  },
  {
   "metadata": {
    "ExecuteTime": {
     "end_time": "2025-02-06T20:17:14.670387Z",
     "start_time": "2025-02-06T20:17:14.659912Z"
    }
   },
   "cell_type": "code",
   "source": [
    "url_pib<-\"https://www.inegi.org.mx/app/api/indicadores/desarrolladores/jsonxml/INDICATOR/746106/es/0700/false/BIE/2.0/fe198fe7-c264-840e-c24e-7b28b9af856c?type=json\"\n",
    "\n",
    "url_ipc<-\"https://www.inegi.org.mx/app/api/indicadores/desarrolladores/jsonxml/INDICATOR/746105,753366/es/0700/false/BIE/2.0/fe198fe7-c264-840e-c24e-7b28b9af856c?type=json\""
   ],
   "id": "1e2e06f18cce4444",
   "outputs": [],
   "execution_count": 45
  },
  {
   "metadata": {
    "ExecuteTime": {
     "end_time": "2025-02-06T20:17:15.585506Z",
     "start_time": "2025-02-06T20:17:14.703177Z"
    }
   },
   "cell_type": "code",
   "source": [
    "dfpib<-consulta_api(url_pib)%>%\n",
    "pluck(\"Series\")%>%\n",
    "pluck(\"OBSERVATIONS\")%>%\n",
    "as.data.frame()%>%\n",
    "janitor::clean_names()%>%\n",
    "mutate(obs_value=as.numeric(obs_value))%>%\n",
    "rename(year=time_period,\n",
    "pib=obs_value\n",
    ")%>%\n",
    "mutate(year=as.numeric(year),\n",
    "pib=as.numeric(pib))%>%\n",
    "select(year,pib)%>%\n",
    "filter(year>=2018)%>%\n",
    "arrange(year)\n",
    "\n",
    "\n",
    "ipccdmx<-consulta_api(url_ipc)%>%\n",
    "pluck(\"Series\")%>%\n",
    "pluck(\"OBSERVATIONS\")%>%\n",
    "as.data.frame()%>%\n",
    "janitor::clean_names()%>%\n",
    "select(time_period_1, obs_value_1)%>%\n",
    "rename(year=time_period_1,\n",
    "ipc=obs_value_1)%>%\n",
    "mutate(year=as.numeric(year),\n",
    "ipc=as.numeric(ipc))%>%\n",
    "filter(year>=2018)%>%\n",
    "arrange(year)\n",
    "\n",
    "#Pegar los dataframes\n",
    "dfpib<-dfpib%>%\n",
    "left_join(ipccdmx, by=\"year\")\n",
    "dfpib\n",
    "\n"
   ],
   "id": "e09f760d0d9872ce",
   "outputs": [
    {
     "data": {
      "text/html": [
       "<table class=\"dataframe\">\n",
       "<caption>A data.frame: 6 × 3</caption>\n",
       "<thead>\n",
       "\t<tr><th scope=col>year</th><th scope=col>pib</th><th scope=col>ipc</th></tr>\n",
       "\t<tr><th scope=col>&lt;dbl&gt;</th><th scope=col>&lt;dbl&gt;</th><th scope=col>&lt;dbl&gt;</th></tr>\n",
       "</thead>\n",
       "<tbody>\n",
       "\t<tr><td>2018</td><td>3694575</td><td>100.0000</td></tr>\n",
       "\t<tr><td>2019</td><td>3679917</td><td>102.9339</td></tr>\n",
       "\t<tr><td>2020</td><td>3293855</td><td>107.9443</td></tr>\n",
       "\t<tr><td>2021</td><td>3496056</td><td>111.1398</td></tr>\n",
       "\t<tr><td>2022</td><td>3650609</td><td>117.6172</td></tr>\n",
       "\t<tr><td>2023</td><td>3806083</td><td>123.9455</td></tr>\n",
       "</tbody>\n",
       "</table>\n"
      ],
      "text/markdown": "\nA data.frame: 6 × 3\n\n| year &lt;dbl&gt; | pib &lt;dbl&gt; | ipc &lt;dbl&gt; |\n|---|---|---|\n| 2018 | 3694575 | 100.0000 |\n| 2019 | 3679917 | 102.9339 |\n| 2020 | 3293855 | 107.9443 |\n| 2021 | 3496056 | 111.1398 |\n| 2022 | 3650609 | 117.6172 |\n| 2023 | 3806083 | 123.9455 |\n\n",
      "text/latex": "A data.frame: 6 × 3\n\\begin{tabular}{lll}\n year & pib & ipc\\\\\n <dbl> & <dbl> & <dbl>\\\\\n\\hline\n\t 2018 & 3694575 & 100.0000\\\\\n\t 2019 & 3679917 & 102.9339\\\\\n\t 2020 & 3293855 & 107.9443\\\\\n\t 2021 & 3496056 & 111.1398\\\\\n\t 2022 & 3650609 & 117.6172\\\\\n\t 2023 & 3806083 & 123.9455\\\\\n\\end{tabular}\n",
      "text/plain": [
       "  year pib     ipc     \n",
       "1 2018 3694575 100.0000\n",
       "2 2019 3679917 102.9339\n",
       "3 2020 3293855 107.9443\n",
       "4 2021 3496056 111.1398\n",
       "5 2022 3650609 117.6172\n",
       "6 2023 3806083 123.9455"
      ]
     },
     "metadata": {},
     "output_type": "display_data"
    }
   ],
   "execution_count": 46
  },
  {
   "metadata": {
    "ExecuteTime": {
     "end_time": "2025-02-06T20:23:57.061247Z",
     "start_time": "2025-02-06T20:23:57.024797Z"
    }
   },
   "cell_type": "code",
   "source": [
    "#Pegar datos a presupuestos\n",
    "data_presp_pib<-presupuestos%>%\n",
    "left_join(dfpib, by=\"year\")%>%\n",
    "#Presupuesto en términos reales\n",
    "mutate(preup_real=(preup_ict*ipc)/100,\n",
    "#Prespuesto real en millones de pesos\n",
    "preup_real=preup_real/1000000,\n",
    "#Participación del presupuesto en el PIB\n",
    "participacion=(preup_real/pib)*100)%>%\n",
    "arrange(year)%>%\n",
    "filter(year<2024)\n",
    "data_presp_pib"
   ],
   "id": "a8b7e5f90e46dcca",
   "outputs": [
    {
     "data": {
      "text/html": [
       "<table class=\"dataframe\">\n",
       "<caption>A tibble: 6 × 6</caption>\n",
       "<thead>\n",
       "\t<tr><th scope=col>year</th><th scope=col>preup_ict</th><th scope=col>pib</th><th scope=col>ipc</th><th scope=col>preup_real</th><th scope=col>participacion</th></tr>\n",
       "\t<tr><th scope=col>&lt;dbl&gt;</th><th scope=col>&lt;dbl&gt;</th><th scope=col>&lt;dbl&gt;</th><th scope=col>&lt;dbl&gt;</th><th scope=col>&lt;dbl&gt;</th><th scope=col>&lt;dbl&gt;</th></tr>\n",
       "</thead>\n",
       "<tbody>\n",
       "\t<tr><td>2018</td><td>350824762</td><td>3694575</td><td>100.0000</td><td>350.82476</td><td>0.009495673</td></tr>\n",
       "\t<tr><td>2019</td><td>359279543</td><td>3679917</td><td>102.9339</td><td>369.82053</td><td>0.010049697</td></tr>\n",
       "\t<tr><td>2020</td><td>406148625</td><td>3293855</td><td>107.9443</td><td>438.41448</td><td>0.013310071</td></tr>\n",
       "\t<tr><td>2021</td><td>146634666</td><td>3496056</td><td>111.1398</td><td>162.96949</td><td>0.004661524</td></tr>\n",
       "\t<tr><td>2022</td><td> 65365439</td><td>3650609</td><td>117.6172</td><td> 76.88099</td><td>0.002105977</td></tr>\n",
       "\t<tr><td>2023</td><td>263752539</td><td>3806083</td><td>123.9455</td><td>326.90933</td><td>0.008589128</td></tr>\n",
       "</tbody>\n",
       "</table>\n"
      ],
      "text/markdown": "\nA tibble: 6 × 6\n\n| year &lt;dbl&gt; | preup_ict &lt;dbl&gt; | pib &lt;dbl&gt; | ipc &lt;dbl&gt; | preup_real &lt;dbl&gt; | participacion &lt;dbl&gt; |\n|---|---|---|---|---|---|\n| 2018 | 350824762 | 3694575 | 100.0000 | 350.82476 | 0.009495673 |\n| 2019 | 359279543 | 3679917 | 102.9339 | 369.82053 | 0.010049697 |\n| 2020 | 406148625 | 3293855 | 107.9443 | 438.41448 | 0.013310071 |\n| 2021 | 146634666 | 3496056 | 111.1398 | 162.96949 | 0.004661524 |\n| 2022 |  65365439 | 3650609 | 117.6172 |  76.88099 | 0.002105977 |\n| 2023 | 263752539 | 3806083 | 123.9455 | 326.90933 | 0.008589128 |\n\n",
      "text/latex": "A tibble: 6 × 6\n\\begin{tabular}{llllll}\n year & preup\\_ict & pib & ipc & preup\\_real & participacion\\\\\n <dbl> & <dbl> & <dbl> & <dbl> & <dbl> & <dbl>\\\\\n\\hline\n\t 2018 & 350824762 & 3694575 & 100.0000 & 350.82476 & 0.009495673\\\\\n\t 2019 & 359279543 & 3679917 & 102.9339 & 369.82053 & 0.010049697\\\\\n\t 2020 & 406148625 & 3293855 & 107.9443 & 438.41448 & 0.013310071\\\\\n\t 2021 & 146634666 & 3496056 & 111.1398 & 162.96949 & 0.004661524\\\\\n\t 2022 &  65365439 & 3650609 & 117.6172 &  76.88099 & 0.002105977\\\\\n\t 2023 & 263752539 & 3806083 & 123.9455 & 326.90933 & 0.008589128\\\\\n\\end{tabular}\n",
      "text/plain": [
       "  year preup_ict pib     ipc      preup_real participacion\n",
       "1 2018 350824762 3694575 100.0000 350.82476  0.009495673  \n",
       "2 2019 359279543 3679917 102.9339 369.82053  0.010049697  \n",
       "3 2020 406148625 3293855 107.9443 438.41448  0.013310071  \n",
       "4 2021 146634666 3496056 111.1398 162.96949  0.004661524  \n",
       "5 2022  65365439 3650609 117.6172  76.88099  0.002105977  \n",
       "6 2023 263752539 3806083 123.9455 326.90933  0.008589128  "
      ]
     },
     "metadata": {},
     "output_type": "display_data"
    }
   ],
   "execution_count": 54
  }
 ],
 "metadata": {
  "kernelspec": {
   "name": "ir",
   "language": "R",
   "display_name": "R"
  }
 },
 "nbformat": 4,
 "nbformat_minor": 5
}
