{
  "cells": [
    {
      "cell_type": "markdown",
      "metadata": {
        "id": "view-in-github",
        "colab_type": "text"
      },
      "source": [
        "<a href=\"https://colab.research.google.com/github/cpyp-ipdp/pgd_cdmx/blob/main/indicadores/educacion_ciencia/indicadores_educ_ciencia_tec_pgd.ipynb\" target=\"_parent\"><img src=\"https://colab.research.google.com/assets/colab-badge.svg\" alt=\"Open In Colab\"/></a>"
      ]
    },
    {
      "cell_type": "code",
      "id": "initial_id",
      "metadata": {
        "collapsed": true,
        "ExecuteTime": {
          "end_time": "2025-01-26T02:45:43.538737Z",
          "start_time": "2025-01-26T02:45:43.525396Z"
        },
        "id": "initial_id",
        "outputId": "9278f22e-6375-41ad-ba4f-ddb39e463060",
        "colab": {
          "base_uri": "https://localhost:8080/"
        }
      },
      "source": [
        "##Estimación de indicadores de vivienda\n",
        "#Se borra todo lo que se encuentra en el entorno\n",
        "\n",
        "rm(list=ls())\n",
        "\n",
        "# Librerías ====\n",
        "if(!require('pacman')) install.packages('pacman')\n",
        "pacman::p_load(tidyverse, showtext, srvyr,googledrive,haven)"
      ],
      "outputs": [
        {
          "output_type": "stream",
          "name": "stderr",
          "text": [
            "Loading required package: pacman\n",
            "\n"
          ]
        }
      ],
      "execution_count": 13
    },
    {
      "metadata": {
        "ExecuteTime": {
          "end_time": "2025-01-26T02:45:43.576925Z",
          "start_time": "2025-01-26T02:45:43.564795Z"
        },
        "id": "7c4096ee81c6d00"
      },
      "cell_type": "code",
      "source": [
        "#Crear directorio para guardar los archivos\n",
        "dir.create(\"data\", showWarnings = FALSE)"
      ],
      "id": "7c4096ee81c6d00",
      "outputs": [],
      "execution_count": 14
    },
    {
      "metadata": {
        "ExecuteTime": {
          "end_time": "2025-01-26T02:45:43.596055Z",
          "start_time": "2025-01-26T02:45:43.581150Z"
        },
        "id": "1ceff72a8129701e"
      },
      "cell_type": "code",
      "source": [
        "url_basica<-\"https://www.inegi.org.mx/contenidos/programas/enigh/nc/\"\n",
        "segunda_parte<-\"microdatos/enigh\"\n",
        "fin1<-\"_ns_\"\n",
        "fin2<-\"_csv.zip\""
      ],
      "id": "1ceff72a8129701e",
      "outputs": [],
      "execution_count": null
    },
    {
      "metadata": {
        "ExecuteTime": {
          "end_time": "2025-01-26T02:45:43.620637Z",
          "start_time": "2025-01-26T02:45:43.610165Z"
        },
        "id": "34b177e9c5e08703"
      },
      "cell_type": "code",
      "source": [
        "years<-c(\"2016\", \"2018\", \"2020\", \"2022\")"
      ],
      "id": "34b177e9c5e08703",
      "outputs": [],
      "execution_count": null
    },
    {
      "metadata": {
        "ExecuteTime": {
          "end_time": "2025-01-26T02:45:43.645955Z",
          "start_time": "2025-01-26T02:45:43.634444Z"
        },
        "id": "ee8764bc300a81ee"
      },
      "cell_type": "code",
      "source": [
        "# Función genérica para descargar, descomprimir, renombrar y eliminar\n",
        "procesar_archivo <- function(year, tipo, url_base, segunda_parte, fin1, fin2, carpeta_destino) {\n",
        "  # Construir URL y ruta de destino\n",
        "  url <- paste0(url_base, year, \"/\", segunda_parte, year, fin1, tipo, fin2)\n",
        "  destfile <- paste0(carpeta_destino, \"/\", year, fin1, tipo, fin2)\n",
        "\n",
        "  # Descargar el archivo\n",
        "  download.file(url, destfile = destfile)\n",
        "\n",
        "  # Descomprimir el archivo\n",
        "  unzip(destfile, exdir = carpeta_destino)\n",
        "\n",
        "  # Renombrar el archivo descomprimido\n",
        "  file.rename(\n",
        "    from = paste0(carpeta_destino, \"/\", tipo, \".csv\"),\n",
        "    to = paste0(carpeta_destino, \"/\", tipo, \"_\", year, \".csv\")\n",
        "  )\n",
        "\n",
        "  # Eliminar el archivo descargado\n",
        "  file.remove(destfile)\n",
        "}"
      ],
      "id": "ee8764bc300a81ee",
      "outputs": [],
      "execution_count": null
    },
    {
      "metadata": {
        "ExecuteTime": {
          "end_time": "2025-01-26T02:48:18.302853Z",
          "start_time": "2025-01-26T02:47:30.043842Z"
        },
        "id": "6e8b08216c920af1"
      },
      "cell_type": "code",
      "source": [
        "# Iterar sobre los años y procesar cada tipo de archivo\n",
        "for (i in 1:length(years)) {\n",
        "  procesar_archivo(years[i], \"poblacion\", url_basica, segunda_parte, fin1, fin2, \"data\")\n",
        "  procesar_archivo(years[i], \"viviendas\", url_basica, segunda_parte, fin1, fin2, \"data\")\n",
        "}"
      ],
      "id": "6e8b08216c920af1",
      "outputs": [],
      "execution_count": null
    },
    {
      "metadata": {
        "id": "5e498ef9371fac18"
      },
      "cell_type": "markdown",
      "source": [
        "#### Función de estimación"
      ],
      "id": "5e498ef9371fac18"
    },
    {
      "metadata": {
        "ExecuteTime": {
          "end_time": "2025-01-26T03:55:01.435421Z",
          "start_time": "2025-01-26T03:55:01.422838Z"
        },
        "id": "14c37c4e4ab5eb3a"
      },
      "cell_type": "code",
      "source": [
        "estimacion <- function(path, variable) {\n",
        "      # Cargar los datos de población\n",
        "  datos <- read_csv(path, show_col_types = FALSE)\n",
        "\n",
        "  # Si son datos de 2016 a 2020, unir con la tabla de viviendas\n",
        "  if (substr(path, 16, 19) %in% c(\"2016\", \"2018\", \"2020\")) {\n",
        "    # Cargar tabla viviendas\n",
        "    vivienda <- read_csv(str_replace(path, \"poblacion\", \"viviendas\"), show_col_types = FALSE)\n",
        "\n",
        "    # Pegar factor, upm y est_dis de la tabla vivienda\n",
        "    datos <- datos %>%\n",
        "      left_join(vivienda %>% select(folioviv, factor, upm, est_dis), by = \"folioviv\")\n",
        "  }\n",
        "\n",
        "  # Cargar los datos\n",
        "  datos <- datos %>%\n",
        "    mutate(cve_ent = case_when(\n",
        "      nchar(folioviv) == 9  ~ paste0(\"0\", substr(folioviv, 1, 1)),\n",
        "      nchar(folioviv) == 10 ~ substr(folioviv, 1, 2)\n",
        "    )) %>%\n",
        "    # Filtrar si entidad es 9\n",
        "  filter(cve_ent == \"09\")\n",
        "\n",
        "\n",
        "  # Definir diseño muestral\n",
        "  mydesign <- datos %>%\n",
        "    as_survey_design(ids = upm,\n",
        "                     strata = est_dis,\n",
        "                     weights = factor)\n",
        "\n",
        "\n",
        "###Estimaciones###\n",
        "  # Población de 6 a 14 años que asiste a la escuela\n",
        "  asistencia <- mydesign %>%\n",
        "filter(edad >= 6 & edad <= 14)%>%\n",
        "    group_by(asis_esc) %>%\n",
        "    summarise(\n",
        "      personas = survey_total(vartype = \"cv\"),\n",
        "      porcentaje = survey_prop(vartype = \"cv\")\n",
        "    ) %>%\n",
        "    mutate(porcentaje = round(porcentaje * 100, 2)) %>%\n",
        "    filter(asis_esc == 1) %>%\n",
        "    # Añadir año\n",
        "    mutate(year = substr(path, 16, 19))\n",
        "\n",
        "\n",
        "#Población mayor a 3 años analfabeta\n",
        "    analfabetismo <- mydesign %>%\n",
        "filter(edad>3)%>%\n",
        "        group_by(alfabetism) %>%\n",
        "        summarise(\n",
        "        personas = survey_total(vartype = \"cv\"),\n",
        "        porcentaje = survey_prop(vartype = \"cv\")\n",
        "        ) %>%\n",
        "        mutate(porcentaje = round(porcentaje * 100, 2)) %>%\n",
        "        filter(alfabetism == 2) %>%\n",
        "        # Añadir año\n",
        "        mutate(year = substr(path, 16, 19))\n",
        "\n",
        "\n",
        "\n",
        "##Grado promedio de escolaridad\n",
        "        gradoprom<-mydesign%>%\n",
        "filter(!is.na(nivelaprob))%>%\n",
        "    filter(nivelaprob>=2)%>%\n",
        "#Filtrar 15 años y más\n",
        "    filter(edad>=15)%>%\n",
        "#Calcular años de escolaridad según nivel y grados aprobados\n",
        "    mutate(\n",
        "        anos_escolaridad=\n",
        "        case_when(\n",
        "            #Primaria\n",
        "            nivelaprob==2 ~ gradoaprob,\n",
        "            #Secundaria\n",
        "            nivelaprob==3 ~ gradoaprob+6,\n",
        "            #Preparatoria\n",
        "            nivelaprob==4 ~ gradoaprob+9,\n",
        "#Licenciatura, normal o carrera técnica\n",
        "            nivelaprob %in% c(5,6,7) ~ gradoaprob+12,\n",
        "#Posgrado (nivelaprob 8,9)\n",
        "            nivelaprob %in% c(8,9) ~ gradoaprob+17\n",
        "        )\n",
        "\n",
        "\n",
        "    )%>%\n",
        "    summarise(\n",
        "        promedio_escolaridad=survey_mean(anos_escolaridad,na.rm = TRUE, vartype = \"cv\")\n",
        "    )%>%\n",
        "    mutate(year=substr(path,16,19))\n",
        "\n",
        "\n",
        "\n",
        "\n",
        "\n",
        "\n",
        "  # Devolver el resultado basado en la variable\n",
        "  if (variable == \"asistencia_escolar\") {\n",
        "    return(asistencia)\n",
        "  }\n",
        "    else if (variable == \"analfabetismo\") {\n",
        "    return(analfabetismo)\n",
        "    }\n",
        "    else if (variable == \"grado_escolaridad\") {\n",
        "    return(gradoprom)\n",
        "    }\n",
        "else {\n",
        "    stop(\"Variable no reconocida. Use 'rezago' o 'sin_escrituras'.\")\n",
        "  }\n",
        "\n",
        "}\n"
      ],
      "id": "14c37c4e4ab5eb3a",
      "outputs": [],
      "execution_count": null
    },
    {
      "metadata": {
        "id": "8533a1dd58043c9c"
      },
      "cell_type": "markdown",
      "source": [
        "### Indicadores educativos\n",
        "#### Porcentaje de población de 6 a 14 años que asiste a la escuela"
      ],
      "id": "8533a1dd58043c9c"
    },
    {
      "metadata": {
        "ExecuteTime": {
          "end_time": "2025-01-26T02:54:05.427541Z",
          "start_time": "2025-01-26T02:53:56.452575Z"
        },
        "id": "3a8d3ff0397e3751",
        "outputId": "5bdf2198-7f82-4b0c-e562-284d25641fe8"
      },
      "cell_type": "code",
      "source": [
        "tabla_asistencia<-map_dfr(\n",
        "  list.files(\"data\", full.names = TRUE,pattern = \"poblacion_.*.csv\"),\n",
        "  estimacion,\n",
        "  variable = \"asistencia_escolar\"\n",
        ")\n",
        "print(\"Porcentaje de población de 6 a 14 años que asiste a la escuela\")\n",
        "tabla_asistencia"
      ],
      "id": "3a8d3ff0397e3751",
      "outputs": [
        {
          "name": "stderr",
          "output_type": "stream",
          "text": [
            "Warning message:\n",
            "\"\u001b[1m\u001b[22mOne or more parsing issues, call `problems()` on your data frame for details,\n",
            "e.g.:\n",
            "  dat <- vroom(...)\n",
            "  problems(dat)\"\n",
            "Warning message:\n",
            "\"\u001b[1m\u001b[22mOne or more parsing issues, call `problems()` on your data frame for details,\n",
            "e.g.:\n",
            "  dat <- vroom(...)\n",
            "  problems(dat)\"\n",
            "Warning message:\n",
            "\"\u001b[1m\u001b[22mOne or more parsing issues, call `problems()` on your data frame for details,\n",
            "e.g.:\n",
            "  dat <- vroom(...)\n",
            "  problems(dat)\"\n",
            "Warning message:\n",
            "\"\u001b[1m\u001b[22mOne or more parsing issues, call `problems()` on your data frame for details,\n",
            "e.g.:\n",
            "  dat <- vroom(...)\n",
            "  problems(dat)\"\n",
            "Warning message:\n",
            "\"\u001b[1m\u001b[22mOne or more parsing issues, call `problems()` on your data frame for details,\n",
            "e.g.:\n",
            "  dat <- vroom(...)\n",
            "  problems(dat)\"\n",
            "Warning message:\n",
            "\"\u001b[1m\u001b[22mOne or more parsing issues, call `problems()` on your data frame for details,\n",
            "e.g.:\n",
            "  dat <- vroom(...)\n",
            "  problems(dat)\"\n",
            "Warning message:\n",
            "\"\u001b[1m\u001b[22mOne or more parsing issues, call `problems()` on your data frame for details,\n",
            "e.g.:\n",
            "  dat <- vroom(...)\n",
            "  problems(dat)\"\n"
          ]
        },
        {
          "data": {
            "text/html": [
              "<table class=\"dataframe\">\n",
              "<caption>A tibble: 4 × 6</caption>\n",
              "<thead>\n",
              "\t<tr><th scope=col>asis_esc</th><th scope=col>personas</th><th scope=col>personas_cv</th><th scope=col>porcentaje</th><th scope=col>porcentaje_cv</th><th scope=col>year</th></tr>\n",
              "\t<tr><th scope=col>&lt;dbl&gt;</th><th scope=col>&lt;dbl&gt;</th><th scope=col>&lt;dbl&gt;</th><th scope=col>&lt;dbl&gt;</th><th scope=col>&lt;dbl&gt;</th><th scope=col>&lt;chr&gt;</th></tr>\n",
              "</thead>\n",
              "<tbody>\n",
              "\t<tr><td>1</td><td>1174501</td><td>0.04769559</td><td>99.11</td><td>0.003358606</td><td>2016</td></tr>\n",
              "\t<tr><td>1</td><td>1134481</td><td>0.04667804</td><td>98.98</td><td>0.005532614</td><td>2018</td></tr>\n",
              "\t<tr><td>1</td><td>1022955</td><td>0.04437516</td><td>97.91</td><td>0.005801212</td><td>2020</td></tr>\n",
              "\t<tr><td>1</td><td>1050982</td><td>0.04475938</td><td>98.79</td><td>0.003823138</td><td>2022</td></tr>\n",
              "</tbody>\n",
              "</table>\n"
            ],
            "text/markdown": "\nA tibble: 4 × 6\n\n| asis_esc &lt;dbl&gt; | personas &lt;dbl&gt; | personas_cv &lt;dbl&gt; | porcentaje &lt;dbl&gt; | porcentaje_cv &lt;dbl&gt; | year &lt;chr&gt; |\n|---|---|---|---|---|---|\n| 1 | 1174501 | 0.04769559 | 99.11 | 0.003358606 | 2016 |\n| 1 | 1134481 | 0.04667804 | 98.98 | 0.005532614 | 2018 |\n| 1 | 1022955 | 0.04437516 | 97.91 | 0.005801212 | 2020 |\n| 1 | 1050982 | 0.04475938 | 98.79 | 0.003823138 | 2022 |\n\n",
            "text/latex": "A tibble: 4 × 6\n\\begin{tabular}{llllll}\n asis\\_esc & personas & personas\\_cv & porcentaje & porcentaje\\_cv & year\\\\\n <dbl> & <dbl> & <dbl> & <dbl> & <dbl> & <chr>\\\\\n\\hline\n\t 1 & 1174501 & 0.04769559 & 99.11 & 0.003358606 & 2016\\\\\n\t 1 & 1134481 & 0.04667804 & 98.98 & 0.005532614 & 2018\\\\\n\t 1 & 1022955 & 0.04437516 & 97.91 & 0.005801212 & 2020\\\\\n\t 1 & 1050982 & 0.04475938 & 98.79 & 0.003823138 & 2022\\\\\n\\end{tabular}\n",
            "text/plain": [
              "  asis_esc personas personas_cv porcentaje porcentaje_cv year\n",
              "1 1        1174501  0.04769559  99.11      0.003358606   2016\n",
              "2 1        1134481  0.04667804  98.98      0.005532614   2018\n",
              "3 1        1022955  0.04437516  97.91      0.005801212   2020\n",
              "4 1        1050982  0.04475938  98.79      0.003823138   2022"
            ]
          },
          "metadata": {},
          "output_type": "display_data"
        }
      ],
      "execution_count": null
    },
    {
      "metadata": {
        "id": "578cdf3ae8fe880b"
      },
      "cell_type": "markdown",
      "source": [
        "#### Porcentaje de población mayor a 3 años analfabeta"
      ],
      "id": "578cdf3ae8fe880b"
    },
    {
      "metadata": {
        "ExecuteTime": {
          "end_time": "2025-01-26T02:57:28.281583Z",
          "start_time": "2025-01-26T02:57:18.738588Z"
        },
        "id": "6cb29be2a10de101",
        "outputId": "cbb1e60e-7022-439f-fb06-c097e5830240"
      },
      "cell_type": "code",
      "source": [
        "tabla_analfabetismo<-map_dfr(\n",
        "  list.files(\"data\", full.names = TRUE,pattern = \"poblacion_.*.csv\"),\n",
        "  estimacion,\n",
        "  variable = \"analfabetismo\"\n",
        ")\n",
        "print(\"Porcentaje de población mayor a 3 años analfabeta\")\n",
        "tabla_analfabetismo"
      ],
      "id": "6cb29be2a10de101",
      "outputs": [
        {
          "name": "stderr",
          "output_type": "stream",
          "text": [
            "Warning message:\n",
            "\"\u001b[1m\u001b[22mOne or more parsing issues, call `problems()` on your data frame for details,\n",
            "e.g.:\n",
            "  dat <- vroom(...)\n",
            "  problems(dat)\"\n",
            "Warning message:\n",
            "\"\u001b[1m\u001b[22mOne or more parsing issues, call `problems()` on your data frame for details,\n",
            "e.g.:\n",
            "  dat <- vroom(...)\n",
            "  problems(dat)\"\n",
            "Warning message:\n",
            "\"\u001b[1m\u001b[22mOne or more parsing issues, call `problems()` on your data frame for details,\n",
            "e.g.:\n",
            "  dat <- vroom(...)\n",
            "  problems(dat)\"\n",
            "Warning message:\n",
            "\"\u001b[1m\u001b[22mOne or more parsing issues, call `problems()` on your data frame for details,\n",
            "e.g.:\n",
            "  dat <- vroom(...)\n",
            "  problems(dat)\"\n",
            "Warning message:\n",
            "\"\u001b[1m\u001b[22mOne or more parsing issues, call `problems()` on your data frame for details,\n",
            "e.g.:\n",
            "  dat <- vroom(...)\n",
            "  problems(dat)\"\n",
            "Warning message:\n",
            "\"\u001b[1m\u001b[22mOne or more parsing issues, call `problems()` on your data frame for details,\n",
            "e.g.:\n",
            "  dat <- vroom(...)\n",
            "  problems(dat)\"\n",
            "Warning message:\n",
            "\"\u001b[1m\u001b[22mOne or more parsing issues, call `problems()` on your data frame for details,\n",
            "e.g.:\n",
            "  dat <- vroom(...)\n",
            "  problems(dat)\"\n"
          ]
        },
        {
          "name": "stdout",
          "output_type": "stream",
          "text": [
            "[1] \"Porcentaje de población mayor a 3 años analfabeta\"\n"
          ]
        },
        {
          "data": {
            "text/html": [
              "<table class=\"dataframe\">\n",
              "<caption>A tibble: 4 × 6</caption>\n",
              "<thead>\n",
              "\t<tr><th scope=col>alfabetism</th><th scope=col>personas</th><th scope=col>personas_cv</th><th scope=col>porcentaje</th><th scope=col>porcentaje_cv</th><th scope=col>year</th></tr>\n",
              "\t<tr><th scope=col>&lt;dbl&gt;</th><th scope=col>&lt;dbl&gt;</th><th scope=col>&lt;dbl&gt;</th><th scope=col>&lt;dbl&gt;</th><th scope=col>&lt;dbl&gt;</th><th scope=col>&lt;chr&gt;</th></tr>\n",
              "</thead>\n",
              "<tbody>\n",
              "\t<tr><td>2</td><td>392513</td><td>0.07218314</td><td>4.48</td><td>0.06826306</td><td>2016</td></tr>\n",
              "\t<tr><td>2</td><td>385054</td><td>0.06821630</td><td>4.33</td><td>0.06324768</td><td>2018</td></tr>\n",
              "\t<tr><td>2</td><td>362758</td><td>0.06924958</td><td>4.05</td><td>0.06339509</td><td>2020</td></tr>\n",
              "\t<tr><td>2</td><td>318218</td><td>0.07606005</td><td>3.50</td><td>0.07296126</td><td>2022</td></tr>\n",
              "</tbody>\n",
              "</table>\n"
            ],
            "text/markdown": "\nA tibble: 4 × 6\n\n| alfabetism &lt;dbl&gt; | personas &lt;dbl&gt; | personas_cv &lt;dbl&gt; | porcentaje &lt;dbl&gt; | porcentaje_cv &lt;dbl&gt; | year &lt;chr&gt; |\n|---|---|---|---|---|---|\n| 2 | 392513 | 0.07218314 | 4.48 | 0.06826306 | 2016 |\n| 2 | 385054 | 0.06821630 | 4.33 | 0.06324768 | 2018 |\n| 2 | 362758 | 0.06924958 | 4.05 | 0.06339509 | 2020 |\n| 2 | 318218 | 0.07606005 | 3.50 | 0.07296126 | 2022 |\n\n",
            "text/latex": "A tibble: 4 × 6\n\\begin{tabular}{llllll}\n alfabetism & personas & personas\\_cv & porcentaje & porcentaje\\_cv & year\\\\\n <dbl> & <dbl> & <dbl> & <dbl> & <dbl> & <chr>\\\\\n\\hline\n\t 2 & 392513 & 0.07218314 & 4.48 & 0.06826306 & 2016\\\\\n\t 2 & 385054 & 0.06821630 & 4.33 & 0.06324768 & 2018\\\\\n\t 2 & 362758 & 0.06924958 & 4.05 & 0.06339509 & 2020\\\\\n\t 2 & 318218 & 0.07606005 & 3.50 & 0.07296126 & 2022\\\\\n\\end{tabular}\n",
            "text/plain": [
              "  alfabetism personas personas_cv porcentaje porcentaje_cv year\n",
              "1 2          392513   0.07218314  4.48       0.06826306    2016\n",
              "2 2          385054   0.06821630  4.33       0.06324768    2018\n",
              "3 2          362758   0.06924958  4.05       0.06339509    2020\n",
              "4 2          318218   0.07606005  3.50       0.07296126    2022"
            ]
          },
          "metadata": {},
          "output_type": "display_data"
        }
      ],
      "execution_count": null
    },
    {
      "metadata": {
        "id": "9b6ffc11b903d8c9"
      },
      "cell_type": "markdown",
      "source": [
        "\n",
        "#### Grado promedio de escolaridad"
      ],
      "id": "9b6ffc11b903d8c9"
    },
    {
      "metadata": {
        "ExecuteTime": {
          "end_time": "2025-01-26T03:55:52.874363Z",
          "start_time": "2025-01-26T03:55:42.152225Z"
        },
        "id": "e9227d29a08bf9b8",
        "outputId": "43023560-ae49-47be-ed77-5e98e1cc7b19"
      },
      "cell_type": "code",
      "source": [
        "tabla_gradoprom<-map_dfr(\n",
        "  list.files(\"data\", full.names = TRUE,pattern = \"poblacion_.*.csv\"),\n",
        "  estimacion,\n",
        "  variable = \"grado_escolaridad\"\n",
        ")\n",
        "print(\"Grado promedio de escolaridad de la población de 15 años y más\")\n",
        "tabla_gradoprom"
      ],
      "id": "e9227d29a08bf9b8",
      "outputs": [
        {
          "name": "stderr",
          "output_type": "stream",
          "text": [
            "Warning message:\n",
            "\"\u001b[1m\u001b[22mOne or more parsing issues, call `problems()` on your data frame for details,\n",
            "e.g.:\n",
            "  dat <- vroom(...)\n",
            "  problems(dat)\"\n",
            "Warning message:\n",
            "\"\u001b[1m\u001b[22mOne or more parsing issues, call `problems()` on your data frame for details,\n",
            "e.g.:\n",
            "  dat <- vroom(...)\n",
            "  problems(dat)\"\n",
            "Warning message:\n",
            "\"\u001b[1m\u001b[22mOne or more parsing issues, call `problems()` on your data frame for details,\n",
            "e.g.:\n",
            "  dat <- vroom(...)\n",
            "  problems(dat)\"\n",
            "Warning message:\n",
            "\"\u001b[1m\u001b[22mOne or more parsing issues, call `problems()` on your data frame for details,\n",
            "e.g.:\n",
            "  dat <- vroom(...)\n",
            "  problems(dat)\"\n",
            "Warning message:\n",
            "\"\u001b[1m\u001b[22mOne or more parsing issues, call `problems()` on your data frame for details,\n",
            "e.g.:\n",
            "  dat <- vroom(...)\n",
            "  problems(dat)\"\n",
            "Warning message:\n",
            "\"\u001b[1m\u001b[22mOne or more parsing issues, call `problems()` on your data frame for details,\n",
            "e.g.:\n",
            "  dat <- vroom(...)\n",
            "  problems(dat)\"\n",
            "Warning message:\n",
            "\"\u001b[1m\u001b[22mOne or more parsing issues, call `problems()` on your data frame for details,\n",
            "e.g.:\n",
            "  dat <- vroom(...)\n",
            "  problems(dat)\"\n"
          ]
        },
        {
          "name": "stdout",
          "output_type": "stream",
          "text": [
            "[1] \"Grado promedio de escolaridad de la población de 15 años y más\"\n"
          ]
        },
        {
          "data": {
            "text/html": [
              "<table class=\"dataframe\">\n",
              "<caption>A tibble: 4 × 3</caption>\n",
              "<thead>\n",
              "\t<tr><th scope=col>promedio_escolaridad</th><th scope=col>promedio_escolaridad_cv</th><th scope=col>year</th></tr>\n",
              "\t<tr><th scope=col>&lt;dbl&gt;</th><th scope=col>&lt;dbl&gt;</th><th scope=col>&lt;chr&gt;</th></tr>\n",
              "</thead>\n",
              "<tbody>\n",
              "\t<tr><td>11.56641</td><td>0.007964465</td><td>2016</td></tr>\n",
              "\t<tr><td>11.67076</td><td>0.007571768</td><td>2018</td></tr>\n",
              "\t<tr><td>11.76720</td><td>0.006940187</td><td>2020</td></tr>\n",
              "\t<tr><td>11.95221</td><td>0.006589243</td><td>2022</td></tr>\n",
              "</tbody>\n",
              "</table>\n"
            ],
            "text/markdown": "\nA tibble: 4 × 3\n\n| promedio_escolaridad &lt;dbl&gt; | promedio_escolaridad_cv &lt;dbl&gt; | year &lt;chr&gt; |\n|---|---|---|\n| 11.56641 | 0.007964465 | 2016 |\n| 11.67076 | 0.007571768 | 2018 |\n| 11.76720 | 0.006940187 | 2020 |\n| 11.95221 | 0.006589243 | 2022 |\n\n",
            "text/latex": "A tibble: 4 × 3\n\\begin{tabular}{lll}\n promedio\\_escolaridad & promedio\\_escolaridad\\_cv & year\\\\\n <dbl> & <dbl> & <chr>\\\\\n\\hline\n\t 11.56641 & 0.007964465 & 2016\\\\\n\t 11.67076 & 0.007571768 & 2018\\\\\n\t 11.76720 & 0.006940187 & 2020\\\\\n\t 11.95221 & 0.006589243 & 2022\\\\\n\\end{tabular}\n",
            "text/plain": [
              "  promedio_escolaridad promedio_escolaridad_cv year\n",
              "1 11.56641             0.007964465             2016\n",
              "2 11.67076             0.007571768             2018\n",
              "3 11.76720             0.006940187             2020\n",
              "4 11.95221             0.006589243             2022"
            ]
          },
          "metadata": {},
          "output_type": "display_data"
        }
      ],
      "execution_count": null
    },
    {
      "cell_type": "markdown",
      "source": [
        "#### Porcentaje de población en pobreza por rezago educativo"
      ],
      "metadata": {
        "id": "QJgxw-LOSEMI"
      },
      "id": "QJgxw-LOSEMI"
    },
    {
      "cell_type": "code",
      "source": [
        "  #Conectar a google drive\n",
        "drive_auth(email = \"claudiodanielpc@gmail.com\",cache = FALSE)"
      ],
      "metadata": {
        "id": "e9eVT2n3SlZ-",
        "outputId": "12c70b8a-7f98-4258-cc15-ca979149fec2",
        "colab": {
          "base_uri": "https://localhost:8080/"
        }
      },
      "id": "e9eVT2n3SlZ-",
      "execution_count": 15,
      "outputs": [
        {
          "output_type": "stream",
          "name": "stderr",
          "text": [
            "Please point your browser to the following url: \n",
            "\n",
            "https://accounts.google.com/o/oauth2/v2/auth?client_id=603366585132-frjlouoa3s2ono25d2l9ukvhlsrlnr7k.apps.googleusercontent.com&scope=https%3A%2F%2Fwww.googleapis.com%2Fauth%2Fdrive%20https%3A%2F%2Fwww.googleapis.com%2Fauth%2Fuserinfo.email&redirect_uri=https%3A%2F%2Fwww.tidyverse.org%2Fgoogle-callback%2F&response_type=code&state=aeac4526bbef34c54aefa9b71442f263&login_hint=claudiodanielpc%40gmail.com&access_type=offline&prompt=consent\n",
            "\n"
          ]
        },
        {
          "name": "stdout",
          "output_type": "stream",
          "text": [
            "Enter authorization code: eyJjb2RlIjoiNC8wQVNWZ2kzS2wzZUxmQUpsLVRpNWhNazd3YWV6bkZLaHR1Tm5nQ1JsTy1yUUpONW02cEtJRFVkQU5iVkpQMmhJN0RnT3ZrZyIsInN0YXRlIjoiYWVhYzQ1MjZiYmVmMzRjNTRhZWZhOWI3MTQ0MmYyNjMifQ==\n"
          ]
        }
      ]
    },
    {
      "cell_type": "code",
      "source": [
        "carpeta<-as_id(drive_get(\"https://drive.google.com/drive/folders/1TBfoik4w4DWhwFqWeZFgkZvrBdDbqzku\"))\n",
        "\n",
        "\n",
        "archivos<-drive_ls(carpeta)\n",
        "print(archivos)"
      ],
      "metadata": {
        "id": "MzsOdtbuTqiR",
        "outputId": "c4e54833-f827-458f-a846-066479bc19d4",
        "colab": {
          "base_uri": "https://localhost:8080/"
        }
      },
      "id": "MzsOdtbuTqiR",
      "execution_count": 16,
      "outputs": [
        {
          "output_type": "stream",
          "name": "stdout",
          "text": [
            "\u001b[90m# A dribble: 3 × 3\u001b[39m\n",
            "  name             id                                drive_resource   \n",
            "  \u001b[3m\u001b[90m<chr>\u001b[39m\u001b[23m            \u001b[3m\u001b[90m<drv_id>\u001b[39m\u001b[23m                          \u001b[3m\u001b[90m<list>\u001b[39m\u001b[23m           \n",
            "\u001b[90m1\u001b[39m pobreza_2022.dta 1T_WfYanYMOoWWbhj_CeiqxYRNrpXmDan \u001b[90m<named list [42]>\u001b[39m\n",
            "\u001b[90m2\u001b[39m pobreza_2020.dta 1TXJLNA_itWfjsGIdoj1bJQ4erNjc1wIx \u001b[90m<named list [42]>\u001b[39m\n",
            "\u001b[90m3\u001b[39m pobreza_2018.dta 1TTRfiRDGWgQwHylvduHx1IRdm5vQ3VeL \u001b[90m<named list [42]>\u001b[39m\n"
          ]
        }
      ]
    },
    {
      "cell_type": "code",
      "source": [
        "estimacion_pobreza <- function(file_id, file_name) {\n",
        "  # Descarga de datos\n",
        "  local_path <- file.path(\"data\", file_name)\n",
        "  drive_download(as_id(file_id), path = local_path, overwrite = TRUE)\n",
        "\n",
        "  # Leer datos\n",
        "  datos <- read_dta(local_path)\n",
        "\n",
        "  # Añadir año\n",
        "  year <- str_extract(file_name, \"\\\\d{4}\")\n",
        "\n",
        "\n",
        "  # Diseño muestral\n",
        "  mydesign <- datos %>%\n",
        "    as_survey_design(ids = upm,\n",
        "                     strata = est_dis,\n",
        "                     weights = factor)\n",
        "\n",
        "  # Estima pobreza\n",
        "  pobreza <- mydesign %>%\n",
        "    #Filtrar datos para CDMX\n",
        "  filter(entidad==9)%>%\n",
        "group_by(pobreza_rei)%>%\n",
        "    #Filtar grupo de población en pobreza\n",
        "\n",
        "    summarise(\n",
        "      poblacion = survey_total(vartype = \"cv\"),\n",
        "      porcentaje = survey_prop(vartype = \"cv\")\n",
        "    ) %>%\n",
        "    mutate(porcentaje = round(porcentaje * 100, 2),\n",
        "           year = as.numeric(year))%>%\n",
        "filter(pobreza_rei == 1)\n",
        "\n",
        "  return(pobreza)\n",
        "}"
      ],
      "metadata": {
        "id": "tU0AP5UFTvV0"
      },
      "id": "tU0AP5UFTvV0",
      "execution_count": 19,
      "outputs": []
    },
    {
      "cell_type": "code",
      "source": [
        "tabla_pobreza <- map_dfr(\n",
        "  seq_len(nrow(archivos)),\n",
        "  ~ estimacion_pobreza(archivos$id[.x], archivos$name[.x])\n",
        ")%>%\n",
        "  arrange(year)\n",
        "\n",
        "print(\"Porcentaje de población en pobreza por rezago educativo\")\n",
        "tabla_pobreza"
      ],
      "metadata": {
        "id": "y5g3ph8AUpXF",
        "outputId": "e00a325c-9ded-4d0a-86e0-9fd3ef597018",
        "colab": {
          "base_uri": "https://localhost:8080/",
          "height": 654
        }
      },
      "id": "y5g3ph8AUpXF",
      "execution_count": 20,
      "outputs": [
        {
          "output_type": "stream",
          "name": "stderr",
          "text": [
            "File downloaded:\n",
            "\n",
            "• \u001b[36mpobreza_2022.dta\u001b[39m \u001b[90m<id: 1T_WfYanYMOoWWbhj_CeiqxYRNrpXmDan>\u001b[39m\n",
            "\n",
            "Saved locally as:\n",
            "\n",
            "• \u001b[34mdata/pobreza_2022.dta\u001b[39m\n",
            "\n",
            "File downloaded:\n",
            "\n",
            "• \u001b[36mpobreza_2020.dta\u001b[39m \u001b[90m<id: 1TXJLNA_itWfjsGIdoj1bJQ4erNjc1wIx>\u001b[39m\n",
            "\n",
            "Saved locally as:\n",
            "\n",
            "• \u001b[34mdata/pobreza_2020.dta\u001b[39m\n",
            "\n",
            "File downloaded:\n",
            "\n",
            "• \u001b[36mpobreza_2018.dta\u001b[39m \u001b[90m<id: 1TTRfiRDGWgQwHylvduHx1IRdm5vQ3VeL>\u001b[39m\n",
            "\n",
            "Saved locally as:\n",
            "\n",
            "• \u001b[34mdata/pobreza_2018.dta\u001b[39m\n",
            "\n"
          ]
        },
        {
          "output_type": "stream",
          "name": "stdout",
          "text": [
            "[1] \"Porcentaje de población en pobreza por rezago educativo\"\n"
          ]
        },
        {
          "output_type": "display_data",
          "data": {
            "text/html": [
              "<table class=\"dataframe\">\n",
              "<caption>A tibble: 3 × 6</caption>\n",
              "<thead>\n",
              "\t<tr><th scope=col>pobreza_rei</th><th scope=col>poblacion</th><th scope=col>poblacion_cv</th><th scope=col>porcentaje</th><th scope=col>porcentaje_cv</th><th scope=col>year</th></tr>\n",
              "\t<tr><th scope=col>&lt;dbl&gt;</th><th scope=col>&lt;dbl&gt;</th><th scope=col>&lt;dbl&gt;</th><th scope=col>&lt;dbl&gt;</th><th scope=col>&lt;dbl&gt;</th><th scope=col>&lt;dbl&gt;</th></tr>\n",
              "</thead>\n",
              "<tbody>\n",
              "\t<tr><td>1</td><td>2338591</td><td>0.03957730</td><td>25.43</td><td>0.03024622</td><td>2018</td></tr>\n",
              "\t<tr><td>1</td><td>2233119</td><td>0.03768032</td><td>24.17</td><td>0.03081337</td><td>2020</td></tr>\n",
              "\t<tr><td>1</td><td>2225816</td><td>0.03786385</td><td>23.92</td><td>0.03114584</td><td>2022</td></tr>\n",
              "</tbody>\n",
              "</table>\n"
            ],
            "text/markdown": "\nA tibble: 3 × 6\n\n| pobreza_rei &lt;dbl&gt; | poblacion &lt;dbl&gt; | poblacion_cv &lt;dbl&gt; | porcentaje &lt;dbl&gt; | porcentaje_cv &lt;dbl&gt; | year &lt;dbl&gt; |\n|---|---|---|---|---|---|\n| 1 | 2338591 | 0.03957730 | 25.43 | 0.03024622 | 2018 |\n| 1 | 2233119 | 0.03768032 | 24.17 | 0.03081337 | 2020 |\n| 1 | 2225816 | 0.03786385 | 23.92 | 0.03114584 | 2022 |\n\n",
            "text/latex": "A tibble: 3 × 6\n\\begin{tabular}{llllll}\n pobreza\\_rei & poblacion & poblacion\\_cv & porcentaje & porcentaje\\_cv & year\\\\\n <dbl> & <dbl> & <dbl> & <dbl> & <dbl> & <dbl>\\\\\n\\hline\n\t 1 & 2338591 & 0.03957730 & 25.43 & 0.03024622 & 2018\\\\\n\t 1 & 2233119 & 0.03768032 & 24.17 & 0.03081337 & 2020\\\\\n\t 1 & 2225816 & 0.03786385 & 23.92 & 0.03114584 & 2022\\\\\n\\end{tabular}\n",
            "text/plain": [
              "  pobreza_rei poblacion poblacion_cv porcentaje porcentaje_cv year\n",
              "1 1           2338591   0.03957730   25.43      0.03024622    2018\n",
              "2 1           2233119   0.03768032   24.17      0.03081337    2020\n",
              "3 1           2225816   0.03786385   23.92      0.03114584    2022"
            ]
          },
          "metadata": {}
        }
      ]
    }
  ],
  "metadata": {
    "kernelspec": {
      "display_name": "R",
      "language": "R",
      "name": "ir"
    },
    "language_info": {
      "codemirror_mode": {
        "name": "ipython",
        "version": 2
      },
      "file_extension": ".py",
      "mimetype": "text/x-python",
      "name": "python",
      "nbconvert_exporter": "python",
      "pygments_lexer": "ipython2",
      "version": "2.7.6"
    },
    "colab": {
      "provenance": [],
      "include_colab_link": true
    }
  },
  "nbformat": 4,
  "nbformat_minor": 5
}