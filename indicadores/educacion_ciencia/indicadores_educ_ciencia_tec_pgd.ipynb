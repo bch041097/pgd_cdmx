{
 "cells": [
  {
   "cell_type": "markdown",
   "metadata": {
    "id": "view-in-github",
    "colab_type": "text"
   },
   "source": [
    "<a href=\"https://colab.research.google.com/github/cpyp-ipdp/pgd_cdmx/blob/main/indicadores/educacion_ciencia/indicadores_educ_ciencia_tec_pgd.ipynb\" target=\"_parent\"><img src=\"https://colab.research.google.com/assets/colab-badge.svg\" alt=\"Open In Colab\"/></a>"
   ],
   "id": "2f3c7c4102d1e6f3"
  },
  {
   "cell_type": "code",
   "id": "initial_id",
   "metadata": {
    "collapsed": true,
    "id": "initial_id",
    "outputId": "9278f22e-6375-41ad-ba4f-ddb39e463060",
    "colab": {
     "base_uri": "https://localhost:8080/"
    },
    "ExecuteTime": {
     "end_time": "2025-01-27T01:59:44.819658Z",
     "start_time": "2025-01-27T01:59:40.716974Z"
    }
   },
   "source": [
    "##Estimación de indicadores de vivienda\n",
    "#Se borra todo lo que se encuentra en el entorno\n",
    "\n",
    "rm(list=ls())\n",
    "\n",
    "# Librerías ====\n",
    "if(!require('pacman')) install.packages('pacman')\n",
    "pacman::p_load(tidyverse, showtext, srvyr,googledrive,haven)"
   ],
   "outputs": [
    {
     "name": "stderr",
     "output_type": "stream",
     "text": [
      "Loading required package: pacman\n",
      "\n"
     ]
    }
   ],
   "execution_count": 2
  },
  {
   "metadata": {
    "ExecuteTime": {
     "end_time": "2025-01-26T02:45:43.576925Z",
     "start_time": "2025-01-26T02:45:43.564795Z"
    },
    "id": "7c4096ee81c6d00"
   },
   "cell_type": "code",
   "source": [
    "#Crear directorio para guardar los archivos\n",
    "dir.create(\"data\", showWarnings = FALSE)"
   ],
   "id": "7c4096ee81c6d00",
   "outputs": [],
   "execution_count": 14
  },
  {
   "metadata": {
    "ExecuteTime": {
     "end_time": "2025-01-26T02:45:43.596055Z",
     "start_time": "2025-01-26T02:45:43.581150Z"
    },
    "id": "1ceff72a8129701e"
   },
   "cell_type": "code",
   "source": [
    "url_basica<-\"https://www.inegi.org.mx/contenidos/programas/enigh/nc/\"\n",
    "segunda_parte<-\"microdatos/enigh\"\n",
    "fin1<-\"_ns_\"\n",
    "fin2<-\"_csv.zip\""
   ],
   "id": "1ceff72a8129701e",
   "outputs": [],
   "execution_count": null
  },
  {
   "metadata": {
    "ExecuteTime": {
     "end_time": "2025-01-26T02:45:43.620637Z",
     "start_time": "2025-01-26T02:45:43.610165Z"
    },
    "id": "34b177e9c5e08703"
   },
   "cell_type": "code",
   "source": [
    "years<-c(\"2016\", \"2018\", \"2020\", \"2022\")"
   ],
   "id": "34b177e9c5e08703",
   "outputs": [],
   "execution_count": null
  },
  {
   "metadata": {
    "ExecuteTime": {
     "end_time": "2025-01-26T02:45:43.645955Z",
     "start_time": "2025-01-26T02:45:43.634444Z"
    },
    "id": "ee8764bc300a81ee"
   },
   "cell_type": "code",
   "source": [
    "# Función genérica para descargar, descomprimir, renombrar y eliminar\n",
    "procesar_archivo <- function(year, tipo, url_base, segunda_parte, fin1, fin2, carpeta_destino) {\n",
    "  # Construir URL y ruta de destino\n",
    "  url <- paste0(url_base, year, \"/\", segunda_parte, year, fin1, tipo, fin2)\n",
    "  destfile <- paste0(carpeta_destino, \"/\", year, fin1, tipo, fin2)\n",
    "\n",
    "  # Descargar el archivo\n",
    "  download.file(url, destfile = destfile)\n",
    "\n",
    "  # Descomprimir el archivo\n",
    "  unzip(destfile, exdir = carpeta_destino)\n",
    "\n",
    "  # Renombrar el archivo descomprimido\n",
    "  file.rename(\n",
    "    from = paste0(carpeta_destino, \"/\", tipo, \".csv\"),\n",
    "    to = paste0(carpeta_destino, \"/\", tipo, \"_\", year, \".csv\")\n",
    "  )\n",
    "\n",
    "  # Eliminar el archivo descargado\n",
    "  file.remove(destfile)\n",
    "}"
   ],
   "id": "ee8764bc300a81ee",
   "outputs": [],
   "execution_count": null
  },
  {
   "metadata": {
    "ExecuteTime": {
     "end_time": "2025-01-26T02:48:18.302853Z",
     "start_time": "2025-01-26T02:47:30.043842Z"
    },
    "id": "6e8b08216c920af1"
   },
   "cell_type": "code",
   "source": [
    "# Iterar sobre los años y procesar cada tipo de archivo\n",
    "for (i in 1:length(years)) {\n",
    "  procesar_archivo(years[i], \"poblacion\", url_basica, segunda_parte, fin1, fin2, \"data\")\n",
    "  procesar_archivo(years[i], \"viviendas\", url_basica, segunda_parte, fin1, fin2, \"data\")\n",
    "}"
   ],
   "id": "6e8b08216c920af1",
   "outputs": [],
   "execution_count": null
  },
  {
   "metadata": {
    "id": "5e498ef9371fac18"
   },
   "cell_type": "markdown",
   "source": [
    "#### Función de estimación"
   ],
   "id": "5e498ef9371fac18"
  },
  {
   "metadata": {
    "ExecuteTime": {
     "end_time": "2025-01-26T03:55:01.435421Z",
     "start_time": "2025-01-26T03:55:01.422838Z"
    },
    "id": "14c37c4e4ab5eb3a"
   },
   "cell_type": "code",
   "source": [
    "estimacion <- function(path, variable) {\n",
    "      # Cargar los datos de población\n",
    "  datos <- read_csv(path, show_col_types = FALSE)\n",
    "\n",
    "  # Si son datos de 2016 a 2020, unir con la tabla de viviendas\n",
    "  if (substr(path, 16, 19) %in% c(\"2016\", \"2018\", \"2020\")) {\n",
    "    # Cargar tabla viviendas\n",
    "    vivienda <- read_csv(str_replace(path, \"poblacion\", \"viviendas\"), show_col_types = FALSE)\n",
    "\n",
    "    # Pegar factor, upm y est_dis de la tabla vivienda\n",
    "    datos <- datos %>%\n",
    "      left_join(vivienda %>% select(folioviv, factor, upm, est_dis), by = \"folioviv\")\n",
    "  }\n",
    "\n",
    "  # Cargar los datos\n",
    "  datos <- datos %>%\n",
    "    mutate(cve_ent = case_when(\n",
    "      nchar(folioviv) == 9  ~ paste0(\"0\", substr(folioviv, 1, 1)),\n",
    "      nchar(folioviv) == 10 ~ substr(folioviv, 1, 2)\n",
    "    )) %>%\n",
    "    # Filtrar si entidad es 9\n",
    "  filter(cve_ent == \"09\")\n",
    "\n",
    "\n",
    "  # Definir diseño muestral\n",
    "  mydesign <- datos %>%\n",
    "    as_survey_design(ids = upm,\n",
    "                     strata = est_dis,\n",
    "                     weights = factor)\n",
    "\n",
    "\n",
    "###Estimaciones###\n",
    "  # Población de 6 a 14 años que asiste a la escuela\n",
    "  asistencia <- mydesign %>%\n",
    "filter(edad >= 6 & edad <= 14)%>%\n",
    "    group_by(asis_esc) %>%\n",
    "    summarise(\n",
    "      personas = survey_total(vartype = \"cv\"),\n",
    "      porcentaje = survey_prop(vartype = \"cv\")\n",
    "    ) %>%\n",
    "    mutate(porcentaje = round(porcentaje * 100, 2)) %>%\n",
    "    filter(asis_esc == 1) %>%\n",
    "    # Añadir año\n",
    "    mutate(year = substr(path, 16, 19))\n",
    "\n",
    "\n",
    "#Población mayor a 3 años analfabeta\n",
    "    analfabetismo <- mydesign %>%\n",
    "filter(edad>3)%>%\n",
    "        group_by(alfabetism) %>%\n",
    "        summarise(\n",
    "        personas = survey_total(vartype = \"cv\"),\n",
    "        porcentaje = survey_prop(vartype = \"cv\")\n",
    "        ) %>%\n",
    "        mutate(porcentaje = round(porcentaje * 100, 2)) %>%\n",
    "        filter(alfabetism == 2) %>%\n",
    "        # Añadir año\n",
    "        mutate(year = substr(path, 16, 19))\n",
    "\n",
    "\n",
    "\n",
    "##Grado promedio de escolaridad\n",
    "        gradoprom<-mydesign%>%\n",
    "filter(!is.na(nivelaprob))%>%\n",
    "    filter(nivelaprob>=2)%>%\n",
    "#Filtrar 15 años y más\n",
    "    filter(edad>=15)%>%\n",
    "#Calcular años de escolaridad según nivel y grados aprobados\n",
    "    mutate(\n",
    "        anos_escolaridad=\n",
    "        case_when(\n",
    "            #Primaria\n",
    "            nivelaprob==2 ~ gradoaprob,\n",
    "            #Secundaria\n",
    "            nivelaprob==3 ~ gradoaprob+6,\n",
    "            #Preparatoria\n",
    "            nivelaprob==4 ~ gradoaprob+9,\n",
    "#Licenciatura, normal o carrera técnica\n",
    "            nivelaprob %in% c(5,6,7) ~ gradoaprob+12,\n",
    "#Posgrado (nivelaprob 8,9)\n",
    "            nivelaprob %in% c(8,9) ~ gradoaprob+17\n",
    "        )\n",
    "\n",
    "\n",
    "    )%>%\n",
    "    summarise(\n",
    "        promedio_escolaridad=survey_mean(anos_escolaridad,na.rm = TRUE, vartype = \"cv\")\n",
    "    )%>%\n",
    "    mutate(year=substr(path,16,19))\n",
    "\n",
    "\n",
    "\n",
    "\n",
    "\n",
    "\n",
    "  # Devolver el resultado basado en la variable\n",
    "  if (variable == \"asistencia_escolar\") {\n",
    "    return(asistencia)\n",
    "  }\n",
    "    else if (variable == \"analfabetismo\") {\n",
    "    return(analfabetismo)\n",
    "    }\n",
    "    else if (variable == \"grado_escolaridad\") {\n",
    "    return(gradoprom)\n",
    "    }\n",
    "else {\n",
    "    stop(\"Variable no reconocida. Use 'rezago' o 'sin_escrituras'.\")\n",
    "  }\n",
    "\n",
    "}\n"
   ],
   "id": "14c37c4e4ab5eb3a",
   "outputs": [],
   "execution_count": null
  },
  {
   "metadata": {
    "id": "8533a1dd58043c9c"
   },
   "cell_type": "markdown",
   "source": [
    "### Indicadores educativos\n",
    "#### Porcentaje de población de 6 a 14 años que asiste a la escuela"
   ],
   "id": "8533a1dd58043c9c"
  },
  {
   "metadata": {
    "ExecuteTime": {
     "end_time": "2025-01-26T02:54:05.427541Z",
     "start_time": "2025-01-26T02:53:56.452575Z"
    },
    "id": "3a8d3ff0397e3751",
    "outputId": "5bdf2198-7f82-4b0c-e562-284d25641fe8"
   },
   "cell_type": "code",
   "source": [
    "tabla_asistencia<-map_dfr(\n",
    "  list.files(\"data\", full.names = TRUE,pattern = \"poblacion_.*.csv\"),\n",
    "  estimacion,\n",
    "  variable = \"asistencia_escolar\"\n",
    ")\n",
    "print(\"Porcentaje de población de 6 a 14 años que asiste a la escuela\")\n",
    "tabla_asistencia"
   ],
   "id": "3a8d3ff0397e3751",
   "outputs": [
    {
     "name": "stderr",
     "output_type": "stream",
     "text": [
      "Warning message:\n",
      "\"\u001B[1m\u001B[22mOne or more parsing issues, call `problems()` on your data frame for details,\n",
      "e.g.:\n",
      "  dat <- vroom(...)\n",
      "  problems(dat)\"\n",
      "Warning message:\n",
      "\"\u001B[1m\u001B[22mOne or more parsing issues, call `problems()` on your data frame for details,\n",
      "e.g.:\n",
      "  dat <- vroom(...)\n",
      "  problems(dat)\"\n",
      "Warning message:\n",
      "\"\u001B[1m\u001B[22mOne or more parsing issues, call `problems()` on your data frame for details,\n",
      "e.g.:\n",
      "  dat <- vroom(...)\n",
      "  problems(dat)\"\n",
      "Warning message:\n",
      "\"\u001B[1m\u001B[22mOne or more parsing issues, call `problems()` on your data frame for details,\n",
      "e.g.:\n",
      "  dat <- vroom(...)\n",
      "  problems(dat)\"\n",
      "Warning message:\n",
      "\"\u001B[1m\u001B[22mOne or more parsing issues, call `problems()` on your data frame for details,\n",
      "e.g.:\n",
      "  dat <- vroom(...)\n",
      "  problems(dat)\"\n",
      "Warning message:\n",
      "\"\u001B[1m\u001B[22mOne or more parsing issues, call `problems()` on your data frame for details,\n",
      "e.g.:\n",
      "  dat <- vroom(...)\n",
      "  problems(dat)\"\n",
      "Warning message:\n",
      "\"\u001B[1m\u001B[22mOne or more parsing issues, call `problems()` on your data frame for details,\n",
      "e.g.:\n",
      "  dat <- vroom(...)\n",
      "  problems(dat)\"\n"
     ]
    },
    {
     "data": {
      "text/html": [
       "<table class=\"dataframe\">\n",
       "<caption>A tibble: 4 × 6</caption>\n",
       "<thead>\n",
       "\t<tr><th scope=col>asis_esc</th><th scope=col>personas</th><th scope=col>personas_cv</th><th scope=col>porcentaje</th><th scope=col>porcentaje_cv</th><th scope=col>year</th></tr>\n",
       "\t<tr><th scope=col>&lt;dbl&gt;</th><th scope=col>&lt;dbl&gt;</th><th scope=col>&lt;dbl&gt;</th><th scope=col>&lt;dbl&gt;</th><th scope=col>&lt;dbl&gt;</th><th scope=col>&lt;chr&gt;</th></tr>\n",
       "</thead>\n",
       "<tbody>\n",
       "\t<tr><td>1</td><td>1174501</td><td>0.04769559</td><td>99.11</td><td>0.003358606</td><td>2016</td></tr>\n",
       "\t<tr><td>1</td><td>1134481</td><td>0.04667804</td><td>98.98</td><td>0.005532614</td><td>2018</td></tr>\n",
       "\t<tr><td>1</td><td>1022955</td><td>0.04437516</td><td>97.91</td><td>0.005801212</td><td>2020</td></tr>\n",
       "\t<tr><td>1</td><td>1050982</td><td>0.04475938</td><td>98.79</td><td>0.003823138</td><td>2022</td></tr>\n",
       "</tbody>\n",
       "</table>\n"
      ],
      "text/markdown": "\nA tibble: 4 × 6\n\n| asis_esc &lt;dbl&gt; | personas &lt;dbl&gt; | personas_cv &lt;dbl&gt; | porcentaje &lt;dbl&gt; | porcentaje_cv &lt;dbl&gt; | year &lt;chr&gt; |\n|---|---|---|---|---|---|\n| 1 | 1174501 | 0.04769559 | 99.11 | 0.003358606 | 2016 |\n| 1 | 1134481 | 0.04667804 | 98.98 | 0.005532614 | 2018 |\n| 1 | 1022955 | 0.04437516 | 97.91 | 0.005801212 | 2020 |\n| 1 | 1050982 | 0.04475938 | 98.79 | 0.003823138 | 2022 |\n\n",
      "text/latex": "A tibble: 4 × 6\n\\begin{tabular}{llllll}\n asis\\_esc & personas & personas\\_cv & porcentaje & porcentaje\\_cv & year\\\\\n <dbl> & <dbl> & <dbl> & <dbl> & <dbl> & <chr>\\\\\n\\hline\n\t 1 & 1174501 & 0.04769559 & 99.11 & 0.003358606 & 2016\\\\\n\t 1 & 1134481 & 0.04667804 & 98.98 & 0.005532614 & 2018\\\\\n\t 1 & 1022955 & 0.04437516 & 97.91 & 0.005801212 & 2020\\\\\n\t 1 & 1050982 & 0.04475938 & 98.79 & 0.003823138 & 2022\\\\\n\\end{tabular}\n",
      "text/plain": [
       "  asis_esc personas personas_cv porcentaje porcentaje_cv year\n",
       "1 1        1174501  0.04769559  99.11      0.003358606   2016\n",
       "2 1        1134481  0.04667804  98.98      0.005532614   2018\n",
       "3 1        1022955  0.04437516  97.91      0.005801212   2020\n",
       "4 1        1050982  0.04475938  98.79      0.003823138   2022"
      ]
     },
     "metadata": {},
     "output_type": "display_data"
    }
   ],
   "execution_count": null
  },
  {
   "metadata": {
    "id": "578cdf3ae8fe880b"
   },
   "cell_type": "markdown",
   "source": [
    "#### Porcentaje de población mayor a 3 años analfabeta"
   ],
   "id": "578cdf3ae8fe880b"
  },
  {
   "metadata": {
    "ExecuteTime": {
     "end_time": "2025-01-26T02:57:28.281583Z",
     "start_time": "2025-01-26T02:57:18.738588Z"
    },
    "id": "6cb29be2a10de101",
    "outputId": "cbb1e60e-7022-439f-fb06-c097e5830240"
   },
   "cell_type": "code",
   "source": [
    "tabla_analfabetismo<-map_dfr(\n",
    "  list.files(\"data\", full.names = TRUE,pattern = \"poblacion_.*.csv\"),\n",
    "  estimacion,\n",
    "  variable = \"analfabetismo\"\n",
    ")\n",
    "print(\"Porcentaje de población mayor a 3 años analfabeta\")\n",
    "tabla_analfabetismo"
   ],
   "id": "6cb29be2a10de101",
   "outputs": [
    {
     "name": "stderr",
     "output_type": "stream",
     "text": [
      "Warning message:\n",
      "\"\u001B[1m\u001B[22mOne or more parsing issues, call `problems()` on your data frame for details,\n",
      "e.g.:\n",
      "  dat <- vroom(...)\n",
      "  problems(dat)\"\n",
      "Warning message:\n",
      "\"\u001B[1m\u001B[22mOne or more parsing issues, call `problems()` on your data frame for details,\n",
      "e.g.:\n",
      "  dat <- vroom(...)\n",
      "  problems(dat)\"\n",
      "Warning message:\n",
      "\"\u001B[1m\u001B[22mOne or more parsing issues, call `problems()` on your data frame for details,\n",
      "e.g.:\n",
      "  dat <- vroom(...)\n",
      "  problems(dat)\"\n",
      "Warning message:\n",
      "\"\u001B[1m\u001B[22mOne or more parsing issues, call `problems()` on your data frame for details,\n",
      "e.g.:\n",
      "  dat <- vroom(...)\n",
      "  problems(dat)\"\n",
      "Warning message:\n",
      "\"\u001B[1m\u001B[22mOne or more parsing issues, call `problems()` on your data frame for details,\n",
      "e.g.:\n",
      "  dat <- vroom(...)\n",
      "  problems(dat)\"\n",
      "Warning message:\n",
      "\"\u001B[1m\u001B[22mOne or more parsing issues, call `problems()` on your data frame for details,\n",
      "e.g.:\n",
      "  dat <- vroom(...)\n",
      "  problems(dat)\"\n",
      "Warning message:\n",
      "\"\u001B[1m\u001B[22mOne or more parsing issues, call `problems()` on your data frame for details,\n",
      "e.g.:\n",
      "  dat <- vroom(...)\n",
      "  problems(dat)\"\n"
     ]
    },
    {
     "name": "stdout",
     "output_type": "stream",
     "text": [
      "[1] \"Porcentaje de población mayor a 3 años analfabeta\"\n"
     ]
    },
    {
     "data": {
      "text/html": [
       "<table class=\"dataframe\">\n",
       "<caption>A tibble: 4 × 6</caption>\n",
       "<thead>\n",
       "\t<tr><th scope=col>alfabetism</th><th scope=col>personas</th><th scope=col>personas_cv</th><th scope=col>porcentaje</th><th scope=col>porcentaje_cv</th><th scope=col>year</th></tr>\n",
       "\t<tr><th scope=col>&lt;dbl&gt;</th><th scope=col>&lt;dbl&gt;</th><th scope=col>&lt;dbl&gt;</th><th scope=col>&lt;dbl&gt;</th><th scope=col>&lt;dbl&gt;</th><th scope=col>&lt;chr&gt;</th></tr>\n",
       "</thead>\n",
       "<tbody>\n",
       "\t<tr><td>2</td><td>392513</td><td>0.07218314</td><td>4.48</td><td>0.06826306</td><td>2016</td></tr>\n",
       "\t<tr><td>2</td><td>385054</td><td>0.06821630</td><td>4.33</td><td>0.06324768</td><td>2018</td></tr>\n",
       "\t<tr><td>2</td><td>362758</td><td>0.06924958</td><td>4.05</td><td>0.06339509</td><td>2020</td></tr>\n",
       "\t<tr><td>2</td><td>318218</td><td>0.07606005</td><td>3.50</td><td>0.07296126</td><td>2022</td></tr>\n",
       "</tbody>\n",
       "</table>\n"
      ],
      "text/markdown": "\nA tibble: 4 × 6\n\n| alfabetism &lt;dbl&gt; | personas &lt;dbl&gt; | personas_cv &lt;dbl&gt; | porcentaje &lt;dbl&gt; | porcentaje_cv &lt;dbl&gt; | year &lt;chr&gt; |\n|---|---|---|---|---|---|\n| 2 | 392513 | 0.07218314 | 4.48 | 0.06826306 | 2016 |\n| 2 | 385054 | 0.06821630 | 4.33 | 0.06324768 | 2018 |\n| 2 | 362758 | 0.06924958 | 4.05 | 0.06339509 | 2020 |\n| 2 | 318218 | 0.07606005 | 3.50 | 0.07296126 | 2022 |\n\n",
      "text/latex": "A tibble: 4 × 6\n\\begin{tabular}{llllll}\n alfabetism & personas & personas\\_cv & porcentaje & porcentaje\\_cv & year\\\\\n <dbl> & <dbl> & <dbl> & <dbl> & <dbl> & <chr>\\\\\n\\hline\n\t 2 & 392513 & 0.07218314 & 4.48 & 0.06826306 & 2016\\\\\n\t 2 & 385054 & 0.06821630 & 4.33 & 0.06324768 & 2018\\\\\n\t 2 & 362758 & 0.06924958 & 4.05 & 0.06339509 & 2020\\\\\n\t 2 & 318218 & 0.07606005 & 3.50 & 0.07296126 & 2022\\\\\n\\end{tabular}\n",
      "text/plain": [
       "  alfabetism personas personas_cv porcentaje porcentaje_cv year\n",
       "1 2          392513   0.07218314  4.48       0.06826306    2016\n",
       "2 2          385054   0.06821630  4.33       0.06324768    2018\n",
       "3 2          362758   0.06924958  4.05       0.06339509    2020\n",
       "4 2          318218   0.07606005  3.50       0.07296126    2022"
      ]
     },
     "metadata": {},
     "output_type": "display_data"
    }
   ],
   "execution_count": null
  },
  {
   "metadata": {
    "id": "9b6ffc11b903d8c9"
   },
   "cell_type": "markdown",
   "source": [
    "\n",
    "#### Grado promedio de escolaridad"
   ],
   "id": "9b6ffc11b903d8c9"
  },
  {
   "metadata": {
    "ExecuteTime": {
     "end_time": "2025-01-26T03:55:52.874363Z",
     "start_time": "2025-01-26T03:55:42.152225Z"
    },
    "id": "e9227d29a08bf9b8",
    "outputId": "43023560-ae49-47be-ed77-5e98e1cc7b19"
   },
   "cell_type": "code",
   "source": [
    "tabla_gradoprom<-map_dfr(\n",
    "  list.files(\"data\", full.names = TRUE,pattern = \"poblacion_.*.csv\"),\n",
    "  estimacion,\n",
    "  variable = \"grado_escolaridad\"\n",
    ")\n",
    "print(\"Grado promedio de escolaridad de la población de 15 años y más\")\n",
    "tabla_gradoprom"
   ],
   "id": "e9227d29a08bf9b8",
   "outputs": [
    {
     "name": "stderr",
     "output_type": "stream",
     "text": [
      "Warning message:\n",
      "\"\u001B[1m\u001B[22mOne or more parsing issues, call `problems()` on your data frame for details,\n",
      "e.g.:\n",
      "  dat <- vroom(...)\n",
      "  problems(dat)\"\n",
      "Warning message:\n",
      "\"\u001B[1m\u001B[22mOne or more parsing issues, call `problems()` on your data frame for details,\n",
      "e.g.:\n",
      "  dat <- vroom(...)\n",
      "  problems(dat)\"\n",
      "Warning message:\n",
      "\"\u001B[1m\u001B[22mOne or more parsing issues, call `problems()` on your data frame for details,\n",
      "e.g.:\n",
      "  dat <- vroom(...)\n",
      "  problems(dat)\"\n",
      "Warning message:\n",
      "\"\u001B[1m\u001B[22mOne or more parsing issues, call `problems()` on your data frame for details,\n",
      "e.g.:\n",
      "  dat <- vroom(...)\n",
      "  problems(dat)\"\n",
      "Warning message:\n",
      "\"\u001B[1m\u001B[22mOne or more parsing issues, call `problems()` on your data frame for details,\n",
      "e.g.:\n",
      "  dat <- vroom(...)\n",
      "  problems(dat)\"\n",
      "Warning message:\n",
      "\"\u001B[1m\u001B[22mOne or more parsing issues, call `problems()` on your data frame for details,\n",
      "e.g.:\n",
      "  dat <- vroom(...)\n",
      "  problems(dat)\"\n",
      "Warning message:\n",
      "\"\u001B[1m\u001B[22mOne or more parsing issues, call `problems()` on your data frame for details,\n",
      "e.g.:\n",
      "  dat <- vroom(...)\n",
      "  problems(dat)\"\n"
     ]
    },
    {
     "name": "stdout",
     "output_type": "stream",
     "text": [
      "[1] \"Grado promedio de escolaridad de la población de 15 años y más\"\n"
     ]
    },
    {
     "data": {
      "text/html": [
       "<table class=\"dataframe\">\n",
       "<caption>A tibble: 4 × 3</caption>\n",
       "<thead>\n",
       "\t<tr><th scope=col>promedio_escolaridad</th><th scope=col>promedio_escolaridad_cv</th><th scope=col>year</th></tr>\n",
       "\t<tr><th scope=col>&lt;dbl&gt;</th><th scope=col>&lt;dbl&gt;</th><th scope=col>&lt;chr&gt;</th></tr>\n",
       "</thead>\n",
       "<tbody>\n",
       "\t<tr><td>11.56641</td><td>0.007964465</td><td>2016</td></tr>\n",
       "\t<tr><td>11.67076</td><td>0.007571768</td><td>2018</td></tr>\n",
       "\t<tr><td>11.76720</td><td>0.006940187</td><td>2020</td></tr>\n",
       "\t<tr><td>11.95221</td><td>0.006589243</td><td>2022</td></tr>\n",
       "</tbody>\n",
       "</table>\n"
      ],
      "text/markdown": "\nA tibble: 4 × 3\n\n| promedio_escolaridad &lt;dbl&gt; | promedio_escolaridad_cv &lt;dbl&gt; | year &lt;chr&gt; |\n|---|---|---|\n| 11.56641 | 0.007964465 | 2016 |\n| 11.67076 | 0.007571768 | 2018 |\n| 11.76720 | 0.006940187 | 2020 |\n| 11.95221 | 0.006589243 | 2022 |\n\n",
      "text/latex": "A tibble: 4 × 3\n\\begin{tabular}{lll}\n promedio\\_escolaridad & promedio\\_escolaridad\\_cv & year\\\\\n <dbl> & <dbl> & <chr>\\\\\n\\hline\n\t 11.56641 & 0.007964465 & 2016\\\\\n\t 11.67076 & 0.007571768 & 2018\\\\\n\t 11.76720 & 0.006940187 & 2020\\\\\n\t 11.95221 & 0.006589243 & 2022\\\\\n\\end{tabular}\n",
      "text/plain": [
       "  promedio_escolaridad promedio_escolaridad_cv year\n",
       "1 11.56641             0.007964465             2016\n",
       "2 11.67076             0.007571768             2018\n",
       "3 11.76720             0.006940187             2020\n",
       "4 11.95221             0.006589243             2022"
      ]
     },
     "metadata": {},
     "output_type": "display_data"
    }
   ],
   "execution_count": null
  },
  {
   "metadata": {},
   "cell_type": "markdown",
   "source": [
    "#### Tasa de cobertura de educación primaria, secundaria y media superior\n",
    "\n",
    "Para calcular estas tasas se utilizan los datos de las matrículas reportadas por la SEP y las proyecciones de población de CONAPO. La tasa de cobertura se calcula como la matrícula reportada por la SEP por tipo de educación dividida entre la población proyectada por CONAPO por rango de edad que tradicionalmente corresponde a cada tipo de educación."
   ],
   "id": "1032b8cd6e9d7d91"
  },
  {
   "metadata": {
    "ExecuteTime": {
     "end_time": "2025-01-26T20:59:38.829255Z",
     "start_time": "2025-01-26T20:59:30.374764Z"
    }
   },
   "cell_type": "code",
   "source": [
    "##Leer datos de proyecciones de población de CONAPO\n",
    "\n",
    "conapo<-read_csv(\"https://conapo.segob.gob.mx/work/models/CONAPO/Datos_Abiertos/pry23/00_Pob_Mitad_1950_2070.csv\")%>%\n",
    "  janitor::clean_names()%>%\n",
    "  filter(cve_geo==9)%>%\n",
    "group_by(ano,edad)%>%\n",
    "    summarise(poblacion= sum(poblacion))%>%\n",
    "mutate(tipo=\n",
    "case_when(edad>=6 & edad<=11 ~ \"PRIMARIA TOTAL\",\n",
    "          edad>=12 & edad<=14 ~ \"SECUNDARIA TOTAL\",\n",
    "            edad>=15 & edad<=17 ~ \"MEDIA SUPERIOR\"\n",
    "            )\n",
    ")%>%\n",
    "#Eliminar si tipo es NA\n",
    "filter(!is.na(tipo))%>%\n",
    "group_by(ano,tipo)%>%\n",
    "summarise(poblacion=sum(poblacion))\n",
    "\n",
    "\n",
    "head(conapo)"
   ],
   "id": "e2f48d3506e836d1",
   "outputs": [
    {
     "name": "stderr",
     "output_type": "stream",
     "text": [
      "\u001B[1mRows: \u001B[22m\u001B[34m737660\u001B[39m \u001B[1mColumns: \u001B[22m\u001B[34m7\u001B[39m\n",
      "\u001B[36m──\u001B[39m \u001B[1mColumn specification\u001B[22m \u001B[36m────────────────────────────────────────────────────────\u001B[39m\n",
      "\u001B[1mDelimiter:\u001B[22m \",\"\n",
      "\u001B[31mchr\u001B[39m (2): ENTIDAD, SEXO\n",
      "\u001B[32mdbl\u001B[39m (5): RENGLON, AÑO, CVE_GEO, EDAD, POBLACION\n",
      "\n",
      "\u001B[36mℹ\u001B[39m Use `spec()` to retrieve the full column specification for this data.\n",
      "\u001B[36mℹ\u001B[39m Specify the column types or set `show_col_types = FALSE` to quiet this message.\n",
      "\u001B[1m\u001B[22m`summarise()` has grouped output by 'ano'. You can override using the `.groups`\n",
      "argument.\n",
      "\u001B[1m\u001B[22m`summarise()` has grouped output by 'ano'. You can override using the `.groups`\n",
      "argument.\n"
     ]
    },
    {
     "data": {
      "text/html": [
       "<table class=\"dataframe\">\n",
       "<caption>A grouped_df: 6 × 3</caption>\n",
       "<thead>\n",
       "\t<tr><th scope=col>ano</th><th scope=col>tipo</th><th scope=col>poblacion</th></tr>\n",
       "\t<tr><th scope=col>&lt;dbl&gt;</th><th scope=col>&lt;chr&gt;</th><th scope=col>&lt;dbl&gt;</th></tr>\n",
       "</thead>\n",
       "<tbody>\n",
       "\t<tr><td>1970</td><td>MEDIA SUPERIOR  </td><td> 469921</td></tr>\n",
       "\t<tr><td>1970</td><td>PRIMARIA TOTAL  </td><td>1133443</td></tr>\n",
       "\t<tr><td>1970</td><td>SECUNDARIA TOTAL</td><td> 505690</td></tr>\n",
       "\t<tr><td>1971</td><td>MEDIA SUPERIOR  </td><td> 486252</td></tr>\n",
       "\t<tr><td>1971</td><td>PRIMARIA TOTAL  </td><td>1161388</td></tr>\n",
       "\t<tr><td>1971</td><td>SECUNDARIA TOTAL</td><td> 519472</td></tr>\n",
       "</tbody>\n",
       "</table>\n"
      ],
      "text/markdown": "\nA grouped_df: 6 × 3\n\n| ano &lt;dbl&gt; | tipo &lt;chr&gt; | poblacion &lt;dbl&gt; |\n|---|---|---|\n| 1970 | MEDIA SUPERIOR   |  469921 |\n| 1970 | PRIMARIA TOTAL   | 1133443 |\n| 1970 | SECUNDARIA TOTAL |  505690 |\n| 1971 | MEDIA SUPERIOR   |  486252 |\n| 1971 | PRIMARIA TOTAL   | 1161388 |\n| 1971 | SECUNDARIA TOTAL |  519472 |\n\n",
      "text/latex": "A grouped\\_df: 6 × 3\n\\begin{tabular}{lll}\n ano & tipo & poblacion\\\\\n <dbl> & <chr> & <dbl>\\\\\n\\hline\n\t 1970 & MEDIA SUPERIOR   &  469921\\\\\n\t 1970 & PRIMARIA TOTAL   & 1133443\\\\\n\t 1970 & SECUNDARIA TOTAL &  505690\\\\\n\t 1971 & MEDIA SUPERIOR   &  486252\\\\\n\t 1971 & PRIMARIA TOTAL   & 1161388\\\\\n\t 1971 & SECUNDARIA TOTAL &  519472\\\\\n\\end{tabular}\n",
      "text/plain": [
       "  ano  tipo             poblacion\n",
       "1 1970 MEDIA SUPERIOR    469921  \n",
       "2 1970 PRIMARIA TOTAL   1133443  \n",
       "3 1970 SECUNDARIA TOTAL  505690  \n",
       "4 1971 MEDIA SUPERIOR    486252  \n",
       "5 1971 PRIMARIA TOTAL   1161388  \n",
       "6 1971 SECUNDARIA TOTAL  519472  "
      ]
     },
     "metadata": {},
     "output_type": "display_data"
    }
   ],
   "execution_count": 67
  },
  {
   "metadata": {
    "ExecuteTime": {
     "end_time": "2025-01-26T20:59:46.278271Z",
     "start_time": "2025-01-26T20:59:38.874327Z"
    }
   },
   "cell_type": "code",
   "source": [
    "##Leer datos de SEP\n",
    "\n",
    "sep<-openxlsx::read.xlsx(\"https://www.planeacion.sep.gob.mx/Doc/estadistica_e_indicadores/serie_historica_entidades_sep.xlsm\",sheet = 1)%>%\n",
    "janitor::clean_names()%>%\n",
    "  { \n",
    "    colnames(.) <- as.character(.[2, ])\n",
    "    .[-2, ]\n",
    "  } %>%\n",
    "  as.data.frame()%>%\n",
    "janitor::clean_names()%>%\n",
    "  rename(entidad = 1,\n",
    "         tipo=3\n",
    "         )%>%\n",
    "filter(entidad==\"9\")%>%\n",
    "filter(tipo==\"PRIMARIA TOTAL\" | tipo==\"SECUNDARIA TOTAL\" | tipo==\"MEDIA SUPERIOR\")%>%\n",
    "#Eliminar columnas 1,2 y 4\n",
    "select(-c(1,2,4))%>%\n",
    "#Llevar los datos a long\n",
    "pivot_longer(cols = -c(tipo), names_to = \"ciclo\", values_to = \"matricula\")%>%\n",
    "#Eliminar x de ciclo\n",
    "mutate(ciclo=str_replace(ciclo,\"x\",\"\"),\n",
    "#Seleccionar año inicial del ciclo\n",
    "ano=as.numeric(str_sub(ciclo,1,4)),\n",
    "matricula=as.numeric(matricula))%>%\n",
    "#Pegar con datos de CONAPO utilizando la variable tipo y ano\n",
    "left_join(conapo,by=c(\"tipo\",\"ano\"))%>%\n",
    "#Calcular tasa de cobertura\n",
    "mutate(tasa_cobertura=matricula/poblacion*100)"
   ],
   "id": "6fe40189f37f5560",
   "outputs": [],
   "execution_count": 68
  },
  {
   "metadata": {
    "ExecuteTime": {
     "end_time": "2025-01-26T20:51:13.557348Z",
     "start_time": "2025-01-26T20:51:13.453847Z"
    }
   },
   "cell_type": "code",
   "source": [
    "#Mostrar las tablas por tipo de educación y año\n",
    "\n",
    "for (i in unique(sep$tipo)) {\n",
    "  cat(\"Tasa de cobertura de\", i, \"\\n\")\n",
    "  sep %>%\n",
    "    filter(tipo == i) %>%\n",
    "    mutate(tasa_cobertura = format(round(tasa_cobertura, 2), nsmall = 2)) %>%\n",
    "    select(ano, tasa_cobertura) %>%\n",
    "    print(n = Inf)\n",
    "  cat(\"\\n\")\n",
    "}\n"
   ],
   "id": "e68436cb79151d66",
   "outputs": [
    {
     "name": "stdout",
     "output_type": "stream",
     "text": [
      "Tasa de cobertura de PRIMARIA TOTAL \n",
      "\u001B[90m# A tibble: 41 × 2\u001B[39m\n",
      "     ano tasa_cobertura\n",
      "   \u001B[3m\u001B[90m<dbl>\u001B[39m\u001B[23m \u001B[3m\u001B[90m<chr>\u001B[39m\u001B[23m         \n",
      "\u001B[90m 1\u001B[39m  \u001B[4m1\u001B[24m990 109.81        \n",
      "\u001B[90m 2\u001B[39m  \u001B[4m1\u001B[24m991 109.40        \n",
      "\u001B[90m 3\u001B[39m  \u001B[4m1\u001B[24m992 107.76        \n",
      "\u001B[90m 4\u001B[39m  \u001B[4m1\u001B[24m993 108.37        \n",
      "\u001B[90m 5\u001B[39m  \u001B[4m1\u001B[24m994 108.85        \n",
      "\u001B[90m 6\u001B[39m  \u001B[4m1\u001B[24m995 108.55        \n",
      "\u001B[90m 7\u001B[39m  \u001B[4m1\u001B[24m996 108.03        \n",
      "\u001B[90m 8\u001B[39m  \u001B[4m1\u001B[24m997 107.98        \n",
      "\u001B[90m 9\u001B[39m  \u001B[4m1\u001B[24m998 107.89        \n",
      "\u001B[90m10\u001B[39m  \u001B[4m1\u001B[24m999 107.74        \n",
      "\u001B[90m11\u001B[39m  \u001B[4m2\u001B[24m000 107.38        \n",
      "\u001B[90m12\u001B[39m  \u001B[4m2\u001B[24m001 107.26        \n",
      "\u001B[90m13\u001B[39m  \u001B[4m2\u001B[24m002 107.41        \n",
      "\u001B[90m14\u001B[39m  \u001B[4m2\u001B[24m003 107.43        \n",
      "\u001B[90m15\u001B[39m  \u001B[4m2\u001B[24m004 106.70        \n",
      "\u001B[90m16\u001B[39m  \u001B[4m2\u001B[24m005 107.45        \n",
      "\u001B[90m17\u001B[39m  \u001B[4m2\u001B[24m006 107.61        \n",
      "\u001B[90m18\u001B[39m  \u001B[4m2\u001B[24m007 108.16        \n",
      "\u001B[90m19\u001B[39m  \u001B[4m2\u001B[24m008 109.12        \n",
      "\u001B[90m20\u001B[39m  \u001B[4m2\u001B[24m009 110.36        \n",
      "\u001B[90m21\u001B[39m  \u001B[4m2\u001B[24m010 112.31        \n",
      "\u001B[90m22\u001B[39m  \u001B[4m2\u001B[24m011 114.91        \n",
      "\u001B[90m23\u001B[39m  \u001B[4m2\u001B[24m012 114.99        \n",
      "\u001B[90m24\u001B[39m  \u001B[4m2\u001B[24m013 115.45        \n",
      "\u001B[90m25\u001B[39m  \u001B[4m2\u001B[24m014 113.81        \n",
      "\u001B[90m26\u001B[39m  \u001B[4m2\u001B[24m015 115.76        \n",
      "\u001B[90m27\u001B[39m  \u001B[4m2\u001B[24m016 113.67        \n",
      "\u001B[90m28\u001B[39m  \u001B[4m2\u001B[24m017 112.19        \n",
      "\u001B[90m29\u001B[39m  \u001B[4m2\u001B[24m018 110.69        \n",
      "\u001B[90m30\u001B[39m  \u001B[4m2\u001B[24m019 110.13        \n",
      "\u001B[90m31\u001B[39m  \u001B[4m2\u001B[24m020 110.16        \n",
      "\u001B[90m32\u001B[39m  \u001B[4m2\u001B[24m021 111.36        \n",
      "\u001B[90m33\u001B[39m  \u001B[4m2\u001B[24m022 110.52        \n",
      "\u001B[90m34\u001B[39m  \u001B[4m2\u001B[24m023 111.03        \n",
      "\u001B[90m35\u001B[39m  \u001B[4m2\u001B[24m024 111.14        \n",
      "\u001B[90m36\u001B[39m  \u001B[4m2\u001B[24m025 111.46        \n",
      "\u001B[90m37\u001B[39m  \u001B[4m2\u001B[24m026 111.98        \n",
      "\u001B[90m38\u001B[39m  \u001B[4m2\u001B[24m027 112.15        \n",
      "\u001B[90m39\u001B[39m  \u001B[4m2\u001B[24m028 112.39        \n",
      "\u001B[90m40\u001B[39m  \u001B[4m2\u001B[24m029 112.70        \n",
      "\u001B[90m41\u001B[39m  \u001B[4m2\u001B[24m030 112.99        \n",
      "\n",
      "Tasa de cobertura de SECUNDARIA TOTAL \n",
      "\u001B[90m# A tibble: 41 × 2\u001B[39m\n",
      "     ano tasa_cobertura\n",
      "   \u001B[3m\u001B[90m<dbl>\u001B[39m\u001B[23m \u001B[3m\u001B[90m<chr>\u001B[39m\u001B[23m         \n",
      "\u001B[90m 1\u001B[39m  \u001B[4m1\u001B[24m990 \u001B[90m\"\u001B[39m100.47\u001B[90m\"\u001B[39m      \n",
      "\u001B[90m 2\u001B[39m  \u001B[4m1\u001B[24m991 \u001B[90m\"\u001B[39m 99.23\u001B[90m\"\u001B[39m      \n",
      "\u001B[90m 3\u001B[39m  \u001B[4m1\u001B[24m992 \u001B[90m\"\u001B[39m100.17\u001B[90m\"\u001B[39m      \n",
      "\u001B[90m 4\u001B[39m  \u001B[4m1\u001B[24m993 \u001B[90m\"\u001B[39m102.27\u001B[90m\"\u001B[39m      \n",
      "\u001B[90m 5\u001B[39m  \u001B[4m1\u001B[24m994 \u001B[90m\"\u001B[39m103.99\u001B[90m\"\u001B[39m      \n",
      "\u001B[90m 6\u001B[39m  \u001B[4m1\u001B[24m995 \u001B[90m\"\u001B[39m105.15\u001B[90m\"\u001B[39m      \n",
      "\u001B[90m 7\u001B[39m  \u001B[4m1\u001B[24m996 \u001B[90m\"\u001B[39m104.93\u001B[90m\"\u001B[39m      \n",
      "\u001B[90m 8\u001B[39m  \u001B[4m1\u001B[24m997 \u001B[90m\"\u001B[39m103.71\u001B[90m\"\u001B[39m      \n",
      "\u001B[90m 9\u001B[39m  \u001B[4m1\u001B[24m998 \u001B[90m\"\u001B[39m102.98\u001B[90m\"\u001B[39m      \n",
      "\u001B[90m10\u001B[39m  \u001B[4m1\u001B[24m999 \u001B[90m\"\u001B[39m102.84\u001B[90m\"\u001B[39m      \n",
      "\u001B[90m11\u001B[39m  \u001B[4m2\u001B[24m000 \u001B[90m\"\u001B[39m102.52\u001B[90m\"\u001B[39m      \n",
      "\u001B[90m12\u001B[39m  \u001B[4m2\u001B[24m001 \u001B[90m\"\u001B[39m103.80\u001B[90m\"\u001B[39m      \n",
      "\u001B[90m13\u001B[39m  \u001B[4m2\u001B[24m002 \u001B[90m\"\u001B[39m102.91\u001B[90m\"\u001B[39m      \n",
      "\u001B[90m14\u001B[39m  \u001B[4m2\u001B[24m003 \u001B[90m\"\u001B[39m102.94\u001B[90m\"\u001B[39m      \n",
      "\u001B[90m15\u001B[39m  \u001B[4m2\u001B[24m004 \u001B[90m\"\u001B[39m104.02\u001B[90m\"\u001B[39m      \n",
      "\u001B[90m16\u001B[39m  \u001B[4m2\u001B[24m005 \u001B[90m\"\u001B[39m106.46\u001B[90m\"\u001B[39m      \n",
      "\u001B[90m17\u001B[39m  \u001B[4m2\u001B[24m006 \u001B[90m\"\u001B[39m105.65\u001B[90m\"\u001B[39m      \n",
      "\u001B[90m18\u001B[39m  \u001B[4m2\u001B[24m007 \u001B[90m\"\u001B[39m105.79\u001B[90m\"\u001B[39m      \n",
      "\u001B[90m19\u001B[39m  \u001B[4m2\u001B[24m008 \u001B[90m\"\u001B[39m106.73\u001B[90m\"\u001B[39m      \n",
      "\u001B[90m20\u001B[39m  \u001B[4m2\u001B[24m009 \u001B[90m\"\u001B[39m106.49\u001B[90m\"\u001B[39m      \n",
      "\u001B[90m21\u001B[39m  \u001B[4m2\u001B[24m010 \u001B[90m\"\u001B[39m107.47\u001B[90m\"\u001B[39m      \n",
      "\u001B[90m22\u001B[39m  \u001B[4m2\u001B[24m011 \u001B[90m\"\u001B[39m108.21\u001B[90m\"\u001B[39m      \n",
      "\u001B[90m23\u001B[39m  \u001B[4m2\u001B[24m012 \u001B[90m\"\u001B[39m113.28\u001B[90m\"\u001B[39m      \n",
      "\u001B[90m24\u001B[39m  \u001B[4m2\u001B[24m013 \u001B[90m\"\u001B[39m118.17\u001B[90m\"\u001B[39m      \n",
      "\u001B[90m25\u001B[39m  \u001B[4m2\u001B[24m014 \u001B[90m\"\u001B[39m120.70\u001B[90m\"\u001B[39m      \n",
      "\u001B[90m26\u001B[39m  \u001B[4m2\u001B[24m015 \u001B[90m\"\u001B[39m121.03\u001B[90m\"\u001B[39m      \n",
      "\u001B[90m27\u001B[39m  \u001B[4m2\u001B[24m016 \u001B[90m\"\u001B[39m118.33\u001B[90m\"\u001B[39m      \n",
      "\u001B[90m28\u001B[39m  \u001B[4m2\u001B[24m017 \u001B[90m\"\u001B[39m116.17\u001B[90m\"\u001B[39m      \n",
      "\u001B[90m29\u001B[39m  \u001B[4m2\u001B[24m018 \u001B[90m\"\u001B[39m114.40\u001B[90m\"\u001B[39m      \n",
      "\u001B[90m30\u001B[39m  \u001B[4m2\u001B[24m019 \u001B[90m\"\u001B[39m112.57\u001B[90m\"\u001B[39m      \n",
      "\u001B[90m31\u001B[39m  \u001B[4m2\u001B[24m020 \u001B[90m\"\u001B[39m113.98\u001B[90m\"\u001B[39m      \n",
      "\u001B[90m32\u001B[39m  \u001B[4m2\u001B[24m021 \u001B[90m\"\u001B[39m114.02\u001B[90m\"\u001B[39m      \n",
      "\u001B[90m33\u001B[39m  \u001B[4m2\u001B[24m022 \u001B[90m\"\u001B[39m109.70\u001B[90m\"\u001B[39m      \n",
      "\u001B[90m34\u001B[39m  \u001B[4m2\u001B[24m023 \u001B[90m\"\u001B[39m110.78\u001B[90m\"\u001B[39m      \n",
      "\u001B[90m35\u001B[39m  \u001B[4m2\u001B[24m024 \u001B[90m\"\u001B[39m113.78\u001B[90m\"\u001B[39m      \n",
      "\u001B[90m36\u001B[39m  \u001B[4m2\u001B[24m025 \u001B[90m\"\u001B[39m115.79\u001B[90m\"\u001B[39m      \n",
      "\u001B[90m37\u001B[39m  \u001B[4m2\u001B[24m026 \u001B[90m\"\u001B[39m115.82\u001B[90m\"\u001B[39m      \n",
      "\u001B[90m38\u001B[39m  \u001B[4m2\u001B[24m027 \u001B[90m\"\u001B[39m115.35\u001B[90m\"\u001B[39m      \n",
      "\u001B[90m39\u001B[39m  \u001B[4m2\u001B[24m028 \u001B[90m\"\u001B[39m115.22\u001B[90m\"\u001B[39m      \n",
      "\u001B[90m40\u001B[39m  \u001B[4m2\u001B[24m029 \u001B[90m\"\u001B[39m115.44\u001B[90m\"\u001B[39m      \n",
      "\u001B[90m41\u001B[39m  \u001B[4m2\u001B[24m030 \u001B[90m\"\u001B[39m115.11\u001B[90m\"\u001B[39m      \n",
      "\n",
      "Tasa de cobertura de MEDIA SUPERIOR \n",
      "\u001B[90m# A tibble: 41 × 2\u001B[39m\n",
      "     ano tasa_cobertura\n",
      "   \u001B[3m\u001B[90m<dbl>\u001B[39m\u001B[23m \u001B[3m\u001B[90m<chr>\u001B[39m\u001B[23m         \n",
      "\u001B[90m 1\u001B[39m  \u001B[4m1\u001B[24m990 \u001B[90m\"\u001B[39m 71.20\u001B[90m\"\u001B[39m      \n",
      "\u001B[90m 2\u001B[39m  \u001B[4m1\u001B[24m991 \u001B[90m\"\u001B[39m 72.29\u001B[90m\"\u001B[39m      \n",
      "\u001B[90m 3\u001B[39m  \u001B[4m1\u001B[24m992 \u001B[90m\"\u001B[39m 73.80\u001B[90m\"\u001B[39m      \n",
      "\u001B[90m 4\u001B[39m  \u001B[4m1\u001B[24m993 \u001B[90m\"\u001B[39m 73.39\u001B[90m\"\u001B[39m      \n",
      "\u001B[90m 5\u001B[39m  \u001B[4m1\u001B[24m994 \u001B[90m\"\u001B[39m 74.86\u001B[90m\"\u001B[39m      \n",
      "\u001B[90m 6\u001B[39m  \u001B[4m1\u001B[24m995 \u001B[90m\"\u001B[39m 76.45\u001B[90m\"\u001B[39m      \n",
      "\u001B[90m 7\u001B[39m  \u001B[4m1\u001B[24m996 \u001B[90m\"\u001B[39m 82.96\u001B[90m\"\u001B[39m      \n",
      "\u001B[90m 8\u001B[39m  \u001B[4m1\u001B[24m997 \u001B[90m\"\u001B[39m 83.63\u001B[90m\"\u001B[39m      \n",
      "\u001B[90m 9\u001B[39m  \u001B[4m1\u001B[24m998 \u001B[90m\"\u001B[39m 83.53\u001B[90m\"\u001B[39m      \n",
      "\u001B[90m10\u001B[39m  \u001B[4m1\u001B[24m999 \u001B[90m\"\u001B[39m 84.47\u001B[90m\"\u001B[39m      \n",
      "\u001B[90m11\u001B[39m  \u001B[4m2\u001B[24m000 \u001B[90m\"\u001B[39m 82.24\u001B[90m\"\u001B[39m      \n",
      "\u001B[90m12\u001B[39m  \u001B[4m2\u001B[24m001 \u001B[90m\"\u001B[39m 85.30\u001B[90m\"\u001B[39m      \n",
      "\u001B[90m13\u001B[39m  \u001B[4m2\u001B[24m002 \u001B[90m\"\u001B[39m 84.67\u001B[90m\"\u001B[39m      \n",
      "\u001B[90m14\u001B[39m  \u001B[4m2\u001B[24m003 \u001B[90m\"\u001B[39m 82.29\u001B[90m\"\u001B[39m      \n",
      "\u001B[90m15\u001B[39m  \u001B[4m2\u001B[24m004 \u001B[90m\"\u001B[39m 85.18\u001B[90m\"\u001B[39m      \n",
      "\u001B[90m16\u001B[39m  \u001B[4m2\u001B[24m005 \u001B[90m\"\u001B[39m 85.47\u001B[90m\"\u001B[39m      \n",
      "\u001B[90m17\u001B[39m  \u001B[4m2\u001B[24m006 \u001B[90m\"\u001B[39m 86.51\u001B[90m\"\u001B[39m      \n",
      "\u001B[90m18\u001B[39m  \u001B[4m2\u001B[24m007 \u001B[90m\"\u001B[39m 89.29\u001B[90m\"\u001B[39m      \n",
      "\u001B[90m19\u001B[39m  \u001B[4m2\u001B[24m008 \u001B[90m\"\u001B[39m 89.99\u001B[90m\"\u001B[39m      \n",
      "\u001B[90m20\u001B[39m  \u001B[4m2\u001B[24m009 \u001B[90m\"\u001B[39m 94.05\u001B[90m\"\u001B[39m      \n",
      "\u001B[90m21\u001B[39m  \u001B[4m2\u001B[24m010 \u001B[90m\"\u001B[39m 95.56\u001B[90m\"\u001B[39m      \n",
      "\u001B[90m22\u001B[39m  \u001B[4m2\u001B[24m011 \u001B[90m\"\u001B[39m 98.32\u001B[90m\"\u001B[39m      \n",
      "\u001B[90m23\u001B[39m  \u001B[4m2\u001B[24m012 \u001B[90m\"\u001B[39m 99.62\u001B[90m\"\u001B[39m      \n",
      "\u001B[90m24\u001B[39m  \u001B[4m2\u001B[24m013 \u001B[90m\"\u001B[39m107.20\u001B[90m\"\u001B[39m      \n",
      "\u001B[90m25\u001B[39m  \u001B[4m2\u001B[24m014 \u001B[90m\"\u001B[39m112.22\u001B[90m\"\u001B[39m      \n",
      "\u001B[90m26\u001B[39m  \u001B[4m2\u001B[24m015 \u001B[90m\"\u001B[39m113.67\u001B[90m\"\u001B[39m      \n",
      "\u001B[90m27\u001B[39m  \u001B[4m2\u001B[24m016 \u001B[90m\"\u001B[39m114.38\u001B[90m\"\u001B[39m      \n",
      "\u001B[90m28\u001B[39m  \u001B[4m2\u001B[24m017 \u001B[90m\"\u001B[39m114.57\u001B[90m\"\u001B[39m      \n",
      "\u001B[90m29\u001B[39m  \u001B[4m2\u001B[24m018 \u001B[90m\"\u001B[39m113.87\u001B[90m\"\u001B[39m      \n",
      "\u001B[90m30\u001B[39m  \u001B[4m2\u001B[24m019 \u001B[90m\"\u001B[39m113.81\u001B[90m\"\u001B[39m      \n",
      "\u001B[90m31\u001B[39m  \u001B[4m2\u001B[24m020 \u001B[90m\"\u001B[39m112.76\u001B[90m\"\u001B[39m      \n",
      "\u001B[90m32\u001B[39m  \u001B[4m2\u001B[24m021 \u001B[90m\"\u001B[39m116.31\u001B[90m\"\u001B[39m      \n",
      "\u001B[90m33\u001B[39m  \u001B[4m2\u001B[24m022 \u001B[90m\"\u001B[39m116.35\u001B[90m\"\u001B[39m      \n",
      "\u001B[90m34\u001B[39m  \u001B[4m2\u001B[24m023 \u001B[90m\"\u001B[39m117.31\u001B[90m\"\u001B[39m      \n",
      "\u001B[90m35\u001B[39m  \u001B[4m2\u001B[24m024 \u001B[90m\"\u001B[39m120.63\u001B[90m\"\u001B[39m      \n",
      "\u001B[90m36\u001B[39m  \u001B[4m2\u001B[24m025 \u001B[90m\"\u001B[39m124.28\u001B[90m\"\u001B[39m      \n",
      "\u001B[90m37\u001B[39m  \u001B[4m2\u001B[24m026 \u001B[90m\"\u001B[39m127.84\u001B[90m\"\u001B[39m      \n",
      "\u001B[90m38\u001B[39m  \u001B[4m2\u001B[24m027 \u001B[90m\"\u001B[39m132.15\u001B[90m\"\u001B[39m      \n",
      "\u001B[90m39\u001B[39m  \u001B[4m2\u001B[24m028 \u001B[90m\"\u001B[39m134.46\u001B[90m\"\u001B[39m      \n",
      "\u001B[90m40\u001B[39m  \u001B[4m2\u001B[24m029 \u001B[90m\"\u001B[39m134.54\u001B[90m\"\u001B[39m      \n",
      "\u001B[90m41\u001B[39m  \u001B[4m2\u001B[24m030 \u001B[90m\"\u001B[39m134.45\u001B[90m\"\u001B[39m      \n",
      "\n"
     ]
    }
   ],
   "execution_count": 56
  },
  {
   "metadata": {
    "ExecuteTime": {
     "end_time": "2025-01-26T21:07:04.526109Z",
     "start_time": "2025-01-26T21:07:03.889801Z"
    }
   },
   "cell_type": "code",
   "source": [
    "#Crear gráficas de tasas de cobertura por tipo y año\n",
    "ggplot(sep,aes(x=ano,y=tasa_cobertura,color=tipo))+\n",
    "geom_line()+\n",
    "theme_minimal()+\n",
    "#Eje y que inicie en 20\n",
    "scale_y_continuous(limits=c(40,150))+\n",
    "#Línea en 2024\n",
    "geom_vline(xintercept=2024,linetype=\"dashed\")+\n",
    "#Línea horizontal en 100\n",
    "geom_hline(yintercept=100,linetype=\"dashed\")+\n",
    "labs(title=\"Tasa de cobertura por tipo y año\",x=\"Año\",y=\"Tasa de cobertura (%)\",\n",
    "        color=\"Tipo de educación\",\n",
    "        caption=\"Fuente: Elaborado por IPDP con datos de CONAPO y SEP\")+\n",
    "theme(plot.title = element_text(hjust = 0, size=16, face=\"bold\"),\n",
    "    \n",
    "        plot.caption = element_text(hjust = 0, size=10),\n",
    "      axis.title = element_text(size=12, face=\"bold\"),\n",
    "      axis.text = element_text(size=10),\n",
    "      legend.title = element_text(size=10),\n",
    "      legend.text = element_text(size=10),\n",
    "        legend.position = \"bottom\")\n",
    "\n",
    "#Salvar gráfica\n",
    "ggsave(\"tasa_cobertura_educacion.png\",width=10,height=6,dpi=300,bg=\"white\")\n"
   ],
   "id": "ccc38bf5b45e0283",
   "outputs": [
    {
     "data": {
      "text/plain": [
       "plot without title"
      ],
      "image/png": "[encoded data removed]"
     },
     "metadata": {
      "image/png": {
       "width": 420,
       "height": 420
      }
     },
     "output_type": "display_data"
    }
   ],
   "execution_count": 70
  },
  {
   "cell_type": "markdown",
   "source": [
    "#### Porcentaje de población en pobreza por rezago educativo"
   ],
   "metadata": {
    "id": "QJgxw-LOSEMI"
   },
   "id": "QJgxw-LOSEMI"
  },
  {
   "cell_type": "code",
   "source": [
    "  #Conectar a google drive\n",
    "drive_auth(email = \"claudiodanielpc@gmail.com\",cache = FALSE)"
   ],
   "metadata": {
    "id": "e9eVT2n3SlZ-",
    "outputId": "12c70b8a-7f98-4258-cc15-ca979149fec2",
    "colab": {
     "base_uri": "https://localhost:8080/"
    }
   },
   "id": "e9eVT2n3SlZ-",
   "execution_count": 15,
   "outputs": [
    {
     "output_type": "stream",
     "name": "stderr",
     "text": [
      "Please point your browser to the following url: \n",
      "\n",
      "https://accounts.google.com/o/oauth2/v2/auth?client_id=603366585132-frjlouoa3s2ono25d2l9ukvhlsrlnr7k.apps.googleusercontent.com&scope=https%3A%2F%2Fwww.googleapis.com%2Fauth%2Fdrive%20https%3A%2F%2Fwww.googleapis.com%2Fauth%2Fuserinfo.email&redirect_uri=https%3A%2F%2Fwww.tidyverse.org%2Fgoogle-callback%2F&response_type=code&state=aeac4526bbef34c54aefa9b71442f263&login_hint=claudiodanielpc%40gmail.com&access_type=offline&prompt=consent\n",
      "\n"
     ]
    },
    {
     "name": "stdout",
     "output_type": "stream",
     "text": [
      "Enter authorization code: eyJjb2RlIjoiNC8wQVNWZ2kzS2wzZUxmQUpsLVRpNWhNazd3YWV6bkZLaHR1Tm5nQ1JsTy1yUUpONW02cEtJRFVkQU5iVkpQMmhJN0RnT3ZrZyIsInN0YXRlIjoiYWVhYzQ1MjZiYmVmMzRjNTRhZWZhOWI3MTQ0MmYyNjMifQ==\n"
     ]
    }
   ]
  },
  {
   "cell_type": "code",
   "source": [
    "carpeta<-as_id(drive_get(\"https://drive.google.com/drive/folders/1TBfoik4w4DWhwFqWeZFgkZvrBdDbqzku\"))\n",
    "\n",
    "\n",
    "archivos<-drive_ls(carpeta)\n",
    "print(archivos)"
   ],
   "metadata": {
    "id": "MzsOdtbuTqiR",
    "outputId": "c4e54833-f827-458f-a846-066479bc19d4",
    "colab": {
     "base_uri": "https://localhost:8080/"
    }
   },
   "id": "MzsOdtbuTqiR",
   "execution_count": 16,
   "outputs": [
    {
     "output_type": "stream",
     "name": "stdout",
     "text": [
      "\u001B[90m# A dribble: 3 × 3\u001B[39m\n",
      "  name             id                                drive_resource   \n",
      "  \u001B[3m\u001B[90m<chr>\u001B[39m\u001B[23m            \u001B[3m\u001B[90m<drv_id>\u001B[39m\u001B[23m                          \u001B[3m\u001B[90m<list>\u001B[39m\u001B[23m           \n",
      "\u001B[90m1\u001B[39m pobreza_2022.dta 1T_WfYanYMOoWWbhj_CeiqxYRNrpXmDan \u001B[90m<named list [42]>\u001B[39m\n",
      "\u001B[90m2\u001B[39m pobreza_2020.dta 1TXJLNA_itWfjsGIdoj1bJQ4erNjc1wIx \u001B[90m<named list [42]>\u001B[39m\n",
      "\u001B[90m3\u001B[39m pobreza_2018.dta 1TTRfiRDGWgQwHylvduHx1IRdm5vQ3VeL \u001B[90m<named list [42]>\u001B[39m\n"
     ]
    }
   ]
  },
  {
   "cell_type": "code",
   "source": [
    "estimacion_pobreza <- function(file_id, file_name) {\n",
    "  # Descarga de datos\n",
    "  local_path <- file.path(\"data\", file_name)\n",
    "  drive_download(as_id(file_id), path = local_path, overwrite = TRUE)\n",
    "\n",
    "  # Leer datos\n",
    "  datos <- read_dta(local_path)\n",
    "\n",
    "  # Añadir año\n",
    "  year <- str_extract(file_name, \"\\\\d{4}\")\n",
    "\n",
    "\n",
    "  # Diseño muestral\n",
    "  mydesign <- datos %>%\n",
    "    as_survey_design(ids = upm,\n",
    "                     strata = est_dis,\n",
    "                     weights = factor)\n",
    "\n",
    "  # Estima pobreza\n",
    "  pobreza <- mydesign %>%\n",
    "    #Filtrar datos para CDMX\n",
    "  filter(entidad==9)%>%\n",
    "group_by(pobreza_rei)%>%\n",
    "    #Filtar grupo de población en pobreza\n",
    "\n",
    "    summarise(\n",
    "      poblacion = survey_total(vartype = \"cv\"),\n",
    "      porcentaje = survey_prop(vartype = \"cv\")\n",
    "    ) %>%\n",
    "    mutate(porcentaje = round(porcentaje * 100, 2),\n",
    "           year = as.numeric(year))%>%\n",
    "filter(pobreza_rei == 1)\n",
    "\n",
    "  return(pobreza)\n",
    "}"
   ],
   "metadata": {
    "id": "tU0AP5UFTvV0"
   },
   "id": "tU0AP5UFTvV0",
   "execution_count": 19,
   "outputs": []
  },
  {
   "cell_type": "code",
   "source": [
    "tabla_pobreza <- map_dfr(\n",
    "  seq_len(nrow(archivos)),\n",
    "  ~ estimacion_pobreza(archivos$id[.x], archivos$name[.x])\n",
    ")%>%\n",
    "  arrange(year)\n",
    "\n",
    "print(\"Porcentaje de población en pobreza por rezago educativo\")\n",
    "tabla_pobreza"
   ],
   "metadata": {
    "id": "y5g3ph8AUpXF",
    "outputId": "e00a325c-9ded-4d0a-86e0-9fd3ef597018",
    "colab": {
     "base_uri": "https://localhost:8080/",
     "height": 654
    }
   },
   "id": "y5g3ph8AUpXF",
   "execution_count": 20,
   "outputs": [
    {
     "output_type": "stream",
     "name": "stderr",
     "text": [
      "File downloaded:\n",
      "\n",
      "• \u001B[36mpobreza_2022.dta\u001B[39m \u001B[90m<id: 1T_WfYanYMOoWWbhj_CeiqxYRNrpXmDan>\u001B[39m\n",
      "\n",
      "Saved locally as:\n",
      "\n",
      "• \u001B[34mdata/pobreza_2022.dta\u001B[39m\n",
      "\n",
      "File downloaded:\n",
      "\n",
      "• \u001B[36mpobreza_2020.dta\u001B[39m \u001B[90m<id: 1TXJLNA_itWfjsGIdoj1bJQ4erNjc1wIx>\u001B[39m\n",
      "\n",
      "Saved locally as:\n",
      "\n",
      "• \u001B[34mdata/pobreza_2020.dta\u001B[39m\n",
      "\n",
      "File downloaded:\n",
      "\n",
      "• \u001B[36mpobreza_2018.dta\u001B[39m \u001B[90m<id: 1TTRfiRDGWgQwHylvduHx1IRdm5vQ3VeL>\u001B[39m\n",
      "\n",
      "Saved locally as:\n",
      "\n",
      "• \u001B[34mdata/pobreza_2018.dta\u001B[39m\n",
      "\n"
     ]
    },
    {
     "output_type": "stream",
     "name": "stdout",
     "text": [
      "[1] \"Porcentaje de población en pobreza por rezago educativo\"\n"
     ]
    },
    {
     "output_type": "display_data",
     "data": {
      "text/html": [
       "<table class=\"dataframe\">\n",
       "<caption>A tibble: 3 × 6</caption>\n",
       "<thead>\n",
       "\t<tr><th scope=col>pobreza_rei</th><th scope=col>poblacion</th><th scope=col>poblacion_cv</th><th scope=col>porcentaje</th><th scope=col>porcentaje_cv</th><th scope=col>year</th></tr>\n",
       "\t<tr><th scope=col>&lt;dbl&gt;</th><th scope=col>&lt;dbl&gt;</th><th scope=col>&lt;dbl&gt;</th><th scope=col>&lt;dbl&gt;</th><th scope=col>&lt;dbl&gt;</th><th scope=col>&lt;dbl&gt;</th></tr>\n",
       "</thead>\n",
       "<tbody>\n",
       "\t<tr><td>1</td><td>2338591</td><td>0.03957730</td><td>25.43</td><td>0.03024622</td><td>2018</td></tr>\n",
       "\t<tr><td>1</td><td>2233119</td><td>0.03768032</td><td>24.17</td><td>0.03081337</td><td>2020</td></tr>\n",
       "\t<tr><td>1</td><td>2225816</td><td>0.03786385</td><td>23.92</td><td>0.03114584</td><td>2022</td></tr>\n",
       "</tbody>\n",
       "</table>\n"
      ],
      "text/markdown": "\nA tibble: 3 × 6\n\n| pobreza_rei &lt;dbl&gt; | poblacion &lt;dbl&gt; | poblacion_cv &lt;dbl&gt; | porcentaje &lt;dbl&gt; | porcentaje_cv &lt;dbl&gt; | year &lt;dbl&gt; |\n|---|---|---|---|---|---|\n| 1 | 2338591 | 0.03957730 | 25.43 | 0.03024622 | 2018 |\n| 1 | 2233119 | 0.03768032 | 24.17 | 0.03081337 | 2020 |\n| 1 | 2225816 | 0.03786385 | 23.92 | 0.03114584 | 2022 |\n\n",
      "text/latex": "A tibble: 3 × 6\n\\begin{tabular}{llllll}\n pobreza\\_rei & poblacion & poblacion\\_cv & porcentaje & porcentaje\\_cv & year\\\\\n <dbl> & <dbl> & <dbl> & <dbl> & <dbl> & <dbl>\\\\\n\\hline\n\t 1 & 2338591 & 0.03957730 & 25.43 & 0.03024622 & 2018\\\\\n\t 1 & 2233119 & 0.03768032 & 24.17 & 0.03081337 & 2020\\\\\n\t 1 & 2225816 & 0.03786385 & 23.92 & 0.03114584 & 2022\\\\\n\\end{tabular}\n",
      "text/plain": [
       "  pobreza_rei poblacion poblacion_cv porcentaje porcentaje_cv year\n",
       "1 1           2338591   0.03957730   25.43      0.03024622    2018\n",
       "2 1           2233119   0.03768032   24.17      0.03081337    2020\n",
       "3 1           2225816   0.03786385   23.92      0.03114584    2022"
      ]
     },
     "metadata": {}
    }
   ]
  },
  {
   "metadata": {},
   "cell_type": "markdown",
   "source": "#### Porcentaje de presupuesto aprobado para innovación, ciencia y tecnoogía respecto del total",
   "id": "88ae9b14c0150139"
  },
  {
   "metadata": {
    "ExecuteTime": {
     "end_time": "2025-01-27T02:24:33.012239Z",
     "start_time": "2025-01-27T02:24:33.001894Z"
    }
   },
   "cell_type": "code",
   "source": [
    "##Hacer lista con urls de los archivos\n",
    "\n",
    "presupuestos <- list(\n",
    "  '2024' = 'https://datos.cdmx.gob.mx/dataset/3a6cba97-adb1-4f35-9df1-984cc3657aca/resource/7fa1da81-531c-477c-93db-7580bc1c7ad0/download/egresos_2024_aprobado.csv',\n",
    "  '2023' = 'https://datos.cdmx.gob.mx/dataset/ea119a03-4f5a-46fa-afbe-bc32bcf79ec3/resource/5137e3db-227e-462d-8d59-1942afbc0c6a/download/egresos_2023_aprobado.csv',\n",
    "  '2022' = 'https://datos.cdmx.gob.mx/dataset/755f47f1-b937-4131-8a7b-fbe306e747c8/resource/fc93c940-ad75-4e7f-afe6-c624726623a9/download/egresos_2022_aprobado.csv',\n",
    "  '2021' = 'https://datos.cdmx.gob.mx/dataset/246be014-62ba-46e0-a7ce-9f37c8f01886/resource/682c37bd-96a2-4f78-94bf-3c77c3870f04/download/egresos_2021_aprobado.csv',\n",
    "  '2020' = 'https://datos.cdmx.gob.mx/dataset/2bb4de63-8212-4d2a-a377-98b10f8384c6/resource/def0fc56-4e26-4cd2-9ec6-200cb86b418e/download/egresos_2020_aprobado.csv',\n",
    "  '2019' = 'https://datos.cdmx.gob.mx/dataset/8dc52617-63f6-4bfd-9fae-54239675c6d0/resource/9a6f53d7-1751-4ae4-8bd8-d31807be7789/download/egresos_2019_aprobado.csv',\n",
    "  '2018' = 'https://datos.cdmx.gob.mx/dataset/7a8820f2-3bea-4c69-8b20-1d01b1a99a6a/resource/5b20655c-072f-4347-baee-ab93d930b27b/download/egresos_2018_aprobado.csv'\n",
    ")\n"
   ],
   "id": "ab3b679250a4e730",
   "outputs": [],
   "execution_count": 48
  },
  {
   "metadata": {
    "ExecuteTime": {
     "end_time": "2025-01-27T02:24:55.625690Z",
     "start_time": "2025-01-27T02:24:34.678306Z"
    }
   },
   "cell_type": "code",
   "source": [
    "##Concentrar archivos en una sola tabla\n",
    "\n",
    "presupuestos <- map_dfr(\n",
    "  names(presupuestos),\n",
    "  ~ read_csv(presupuestos[[.x]],show_col_types = FALSE)%>%\n",
    "    mutate(year = as.numeric(.x))%>%\n",
    "#Identificar presupuesto de innovación, ciencia y tecnología\n",
    "mutate(ict=case_when((funcion==38) ~ 1, TRUE ~ 0))\n",
    ")"
   ],
   "id": "3e35cc01951b9fa",
   "outputs": [],
   "execution_count": 49
  },
  {
   "metadata": {
    "ExecuteTime": {
     "end_time": "2025-01-27T02:26:10.748209Z",
     "start_time": "2025-01-27T02:26:10.730289Z"
    }
   },
   "cell_type": "code",
   "source": [
    "#Funciones y subfunciones presupuestales\n",
    "print(paste0(\"Funciones presupuestales: \", unique(presupuestos$desc_funcion[presupuestos$ict==1])))\n",
    "print(paste0(\"Claves de funciones presupuestales: \", unique(presupuestos$funcion[presupuestos$ict==1])))\n",
    "print(paste0(\"Subfunciones presupuestales: \", unique(presupuestos$subfuncion[presupuestos$ict==1])))\n",
    "print(paste0(\"Subfunciones presupuestales: \", unique(presupuestos$desc_subfuncion[presupuestos$ict==1])))"
   ],
   "id": "b83853b48be1eaf3",
   "outputs": [
    {
     "name": "stdout",
     "output_type": "stream",
     "text": [
      "[1] \"Funciones presupuestales: Ciencia, Tecnología e Innovación\"      \n",
      "[2] \"Funciones presupuestales: Ciencia, Tecnolog\\xeda e Innovaci\\xf3n\"\n",
      "[1] \"Claves de funciones presupuestales: 38\"\n",
      "[1] \"Subfunciones presupuestales: 384\" \"Subfunciones presupuestales: 381\"\n",
      "[3] \"Subfunciones presupuestales: 383\" \"Subfunciones presupuestales: 382\"\n",
      "[1] \"Subfunciones presupuestales: Innovación\"                          \n",
      "[2] \"Subfunciones presupuestales: Investigación Científica\"            \n",
      "[3] \"Subfunciones presupuestales: Innovaci\\xf3n\"                       \n",
      "[4] \"Subfunciones presupuestales: Servicios Científicos y Tecnológicos\"\n",
      "[5] \"Subfunciones presupuestales: Desarrollo Tecnológico\"              \n"
     ]
    }
   ],
   "execution_count": 53
  },
  {
   "metadata": {
    "ExecuteTime": {
     "end_time": "2025-01-27T02:27:13.076664Z",
     "start_time": "2025-01-27T02:27:13.050415Z"
    }
   },
   "cell_type": "code",
   "source": [
    "#Calcular porcentaje de presupuesto aprobado para ICT respecto del total por año\n",
    "tabla_cienciatec<-presupuestos %>%\n",
    "  group_by(year) %>%\n",
    "  summarise(\n",
    "    aprobado = sum(monto_aprobado),\n",
    "    monto_ict = sum(monto_aprobado[ict == 1]),\n",
    "    porcentaje = monto_ict / aprobado * 100\n",
    "  ) %>%\n",
    "  arrange(year)\n",
    "tabla_cienciatec"
   ],
   "id": "168de886ece1c8bc",
   "outputs": [
    {
     "data": {
      "text/html": [
       "<table class=\"dataframe\">\n",
       "<caption>A tibble: 7 × 4</caption>\n",
       "<thead>\n",
       "\t<tr><th scope=col>year</th><th scope=col>aprobado</th><th scope=col>monto_ict</th><th scope=col>porcentaje</th></tr>\n",
       "\t<tr><th scope=col>&lt;dbl&gt;</th><th scope=col>&lt;dbl&gt;</th><th scope=col>&lt;dbl&gt;</th><th scope=col>&lt;dbl&gt;</th></tr>\n",
       "</thead>\n",
       "<tbody>\n",
       "\t<tr><td>2018</td><td>226851897840</td><td>350824762</td><td>0.15464925</td></tr>\n",
       "\t<tr><td>2019</td><td>234016325579</td><td>359279543</td><td>0.15352756</td></tr>\n",
       "\t<tr><td>2020</td><td>238974793216</td><td>406148625</td><td>0.16995459</td></tr>\n",
       "\t<tr><td>2021</td><td>217962157170</td><td>146634666</td><td>0.06727529</td></tr>\n",
       "\t<tr><td>2022</td><td>234005875723</td><td> 65365439</td><td>0.02793325</td></tr>\n",
       "\t<tr><td>2023</td><td>248415083383</td><td>263752539</td><td>0.10617412</td></tr>\n",
       "\t<tr><td>2024</td><td>267965350437</td><td>325495931</td><td>0.12146941</td></tr>\n",
       "</tbody>\n",
       "</table>\n"
      ],
      "text/markdown": "\nA tibble: 7 × 4\n\n| year &lt;dbl&gt; | aprobado &lt;dbl&gt; | monto_ict &lt;dbl&gt; | porcentaje &lt;dbl&gt; |\n|---|---|---|---|\n| 2018 | 226851897840 | 350824762 | 0.15464925 |\n| 2019 | 234016325579 | 359279543 | 0.15352756 |\n| 2020 | 238974793216 | 406148625 | 0.16995459 |\n| 2021 | 217962157170 | 146634666 | 0.06727529 |\n| 2022 | 234005875723 |  65365439 | 0.02793325 |\n| 2023 | 248415083383 | 263752539 | 0.10617412 |\n| 2024 | 267965350437 | 325495931 | 0.12146941 |\n\n",
      "text/latex": "A tibble: 7 × 4\n\\begin{tabular}{llll}\n year & aprobado & monto\\_ict & porcentaje\\\\\n <dbl> & <dbl> & <dbl> & <dbl>\\\\\n\\hline\n\t 2018 & 226851897840 & 350824762 & 0.15464925\\\\\n\t 2019 & 234016325579 & 359279543 & 0.15352756\\\\\n\t 2020 & 238974793216 & 406148625 & 0.16995459\\\\\n\t 2021 & 217962157170 & 146634666 & 0.06727529\\\\\n\t 2022 & 234005875723 &  65365439 & 0.02793325\\\\\n\t 2023 & 248415083383 & 263752539 & 0.10617412\\\\\n\t 2024 & 267965350437 & 325495931 & 0.12146941\\\\\n\\end{tabular}\n",
      "text/plain": [
       "  year aprobado     monto_ict porcentaje\n",
       "1 2018 226851897840 350824762 0.15464925\n",
       "2 2019 234016325579 359279543 0.15352756\n",
       "3 2020 238974793216 406148625 0.16995459\n",
       "4 2021 217962157170 146634666 0.06727529\n",
       "5 2022 234005875723  65365439 0.02793325\n",
       "6 2023 248415083383 263752539 0.10617412\n",
       "7 2024 267965350437 325495931 0.12146941"
      ]
     },
     "metadata": {},
     "output_type": "display_data"
    }
   ],
   "execution_count": 56
  },
  {
   "metadata": {
    "ExecuteTime": {
     "end_time": "2025-01-27T02:32:08.508398Z",
     "start_time": "2025-01-27T02:32:08.214941Z"
    }
   },
   "cell_type": "code",
   "source": [
    "#Crear gráfica\n",
    "ggplot(tabla_cienciatec, aes(x = year, y = porcentaje)) +\n",
    "  geom_line() +\n",
    "  geom_smooth(method = \"loess\", se = FALSE, color = \"red\") +\n",
    "scale_y_continuous(limits=c(0,0.25))+\n",
    "  labs(title = \"Porcentaje de presupuesto aprobado para innovación, ciencia y tecnología respecto del total, 2018-2024\",\n",
    "       x = \"Año\",\n",
    "       y = \"Porcentaje (%)\",\n",
    "       caption = \"Fuente: Elaborado por IPDP con información del Portal de Datos Abiertos de la CDMX\") +\n",
    "  theme_minimal() +\n",
    "  theme(plot.title = element_text(hjust = 0, size = 16, face = \"bold\"),\n",
    "        plot.caption = element_text(hjust = 0, size = 10),\n",
    "        axis.title = element_text(size = 12, face = \"bold\"),\n",
    "        axis.text = element_text(size = 10),\n",
    "        legend.title = element_text(size = 10),\n",
    "        legend.text = element_text(size = 10),\n",
    "        legend.position = \"none\")\n",
    "\n",
    "#Salvar gráfica\n",
    "ggsave(\"porcentaje_cienciatec.png\", width = 10, height = 6, dpi = 300, bg = \"white\")"
   ],
   "id": "1a35d7477c18a2ab",
   "outputs": [
    {
     "name": "stderr",
     "output_type": "stream",
     "text": [
      "\u001B[1m\u001B[22m`geom_smooth()` using formula = 'y ~ x'\n",
      "\u001B[1m\u001B[22m`geom_smooth()` using formula = 'y ~ x'\n"
     ]
    },
    {
     "data": {
      "text/plain": [
       "plot without title"
      ],
      "image/png": "[encoded data removed]"
     },
     "metadata": {
      "image/png": {
       "width": 420,
       "height": 420
      }
     },
     "output_type": "display_data"
    }
   ],
   "execution_count": 64
  },
  {
   "metadata": {},
   "cell_type": "markdown",
   "source": "#### Porcentaje de solicitudes de patentes de mexicanos en la Ciudad de México respecto del total",
   "id": "2ae23191158f1066"
  },
  {
   "metadata": {
    "ExecuteTime": {
     "end_time": "2025-01-26T22:06:48.154656Z",
     "start_time": "2025-01-26T22:06:47.623647Z"
    }
   },
   "cell_type": "code",
   "source": [
    "impi <- read_csv(\"https://datosabiertos.impi.gob.mx/IMPICifras/Invenciones03.csv\", \n",
    "                 col_names = FALSE, show_col_types = FALSE)\n",
    "\n",
    "\n",
    "impi <- impi %>%\n",
    "  slice(5:n()) %>%                             \n",
    "  set_names(as.character(impi[5, ])) %>%       \n",
    "  janitor::clean_names() %>%                   \n",
    "  slice(-1)%>%\n",
    "rename(entidad=2)%>%\n",
    "filter(entidad==\"Ciudad de México\" | entidad==\"Total / Total\")%>%\n",
    "#Dejar columna entidad y todas aquellas que contengan \"patentes\"\n",
    "select(entidad,contains(\"patentes\"))%>%\n",
    "#Transformar columnas patentes a numérico\n",
    "#Eliminar comas de los números\n",
    "mutate(across(contains(\"patentes\"), ~ as.numeric(str_replace_all(., \",\", \"\"))) )%>%\n",
    "\n",
    "# #Calcular porcentaje de patentes diviendo entidad \"Ciudad de México\" entre \"Total / Total\"\n",
    "  # Calculate percentages for columns containing 'patentes'\n",
    "mutate(across(contains(\"patentes\"), ~ . / .[entidad == \"Total / Total\"] * 100))%>%\n",
    "filter(entidad==\"Ciudad de México\")%>%\n",
    "# #Long\n",
    "pivot_longer(cols = -entidad, names_to = \"tipo\", values_to = \"porcentaje\")%>%\n",
    "# #Crear variable año de 1993 hasta que se terminan las columnas\n",
    "mutate(year = 1993:(1993 + n() - 1)) %>%\n",
    "filter(year <= 2020 | (year > 2020 & (year - 2020) %% 5 == 0))%>%\n",
    "mutate(year = 1993:(1993 + n() - 1))\n",
    "impi"
   ],
   "id": "516735a28e7077ff",
   "outputs": [
    {
     "data": {
      "text/html": [
       "<table class=\"dataframe\">\n",
       "<caption>A tibble: 31 × 4</caption>\n",
       "<thead>\n",
       "\t<tr><th scope=col>entidad</th><th scope=col>tipo</th><th scope=col>porcentaje</th><th scope=col>year</th></tr>\n",
       "\t<tr><th scope=col>&lt;chr&gt;</th><th scope=col>&lt;chr&gt;</th><th scope=col>&lt;dbl&gt;</th><th scope=col>&lt;int&gt;</th></tr>\n",
       "</thead>\n",
       "<tbody>\n",
       "\t<tr><td>Ciudad de México</td><td>patentes_patents   </td><td>48.82459</td><td>1993</td></tr>\n",
       "\t<tr><td>Ciudad de México</td><td>patentes_patents_2 </td><td>42.36948</td><td>1994</td></tr>\n",
       "\t<tr><td>Ciudad de México</td><td>patentes_patents_3 </td><td>46.06481</td><td>1995</td></tr>\n",
       "\t<tr><td>Ciudad de México</td><td>patentes_patents_4 </td><td>40.67358</td><td>1996</td></tr>\n",
       "\t<tr><td>Ciudad de México</td><td>patentes_patents_5 </td><td>37.61905</td><td>1997</td></tr>\n",
       "\t<tr><td>Ciudad de México</td><td>patentes_patents_6 </td><td>40.17660</td><td>1998</td></tr>\n",
       "\t<tr><td>Ciudad de México</td><td>patentes_patents_7 </td><td>40.21978</td><td>1999</td></tr>\n",
       "\t<tr><td>Ciudad de México</td><td>patentes_patents_8 </td><td>38.97912</td><td>2000</td></tr>\n",
       "\t<tr><td>Ciudad de México</td><td>patentes_patents_9 </td><td>40.44944</td><td>2001</td></tr>\n",
       "\t<tr><td>Ciudad de México</td><td>patentes_patents_10</td><td>39.16350</td><td>2002</td></tr>\n",
       "\t<tr><td>Ciudad de México</td><td>patentes_patents_11</td><td>35.68376</td><td>2003</td></tr>\n",
       "\t<tr><td>Ciudad de México</td><td>patentes_patents_12</td><td>31.68142</td><td>2004</td></tr>\n",
       "\t<tr><td>Ciudad de México</td><td>patentes_patents_13</td><td>36.30137</td><td>2005</td></tr>\n",
       "\t<tr><td>Ciudad de México</td><td>patentes_patents_14</td><td>31.53310</td><td>2006</td></tr>\n",
       "\t<tr><td>Ciudad de México</td><td>patentes_patents_15</td><td>34.16537</td><td>2007</td></tr>\n",
       "\t<tr><td>Ciudad de México</td><td>patentes_patents_16</td><td>31.97080</td><td>2008</td></tr>\n",
       "\t<tr><td>Ciudad de México</td><td>patentes_patents_17</td><td>28.34550</td><td>2009</td></tr>\n",
       "\t<tr><td>Ciudad de México</td><td>patentes_patents_18</td><td>33.75394</td><td>2010</td></tr>\n",
       "\t<tr><td>Ciudad de México</td><td>patentes_patents_19</td><td>29.01408</td><td>2011</td></tr>\n",
       "\t<tr><td>Ciudad de México</td><td>patentes_patents_20</td><td>33.04954</td><td>2012</td></tr>\n",
       "\t<tr><td>Ciudad de México</td><td>patentes_patents_21</td><td>31.95706</td><td>2013</td></tr>\n",
       "\t<tr><td>Ciudad de México</td><td>patentes_patents_22</td><td>27.17042</td><td>2014</td></tr>\n",
       "\t<tr><td>Ciudad de México</td><td>patentes_patents_23</td><td>26.90616</td><td>2015</td></tr>\n",
       "\t<tr><td>Ciudad de México</td><td>patentes_patents_24</td><td>23.51145</td><td>2016</td></tr>\n",
       "\t<tr><td>Ciudad de México</td><td>patentes_patents_25</td><td>24.96252</td><td>2017</td></tr>\n",
       "\t<tr><td>Ciudad de México</td><td>patentes_patents_26</td><td>22.18650</td><td>2018</td></tr>\n",
       "\t<tr><td>Ciudad de México</td><td>patentes_patents_27</td><td>22.60536</td><td>2019</td></tr>\n",
       "\t<tr><td>Ciudad de México</td><td>patentes_patents_28</td><td>19.43463</td><td>2020</td></tr>\n",
       "\t<tr><td>Ciudad de México</td><td>patentes_patents_33</td><td>17.54700</td><td>2021</td></tr>\n",
       "\t<tr><td>Ciudad de México</td><td>patentes_patents_38</td><td>22.17701</td><td>2022</td></tr>\n",
       "\t<tr><td>Ciudad de México</td><td>patentes_patents_43</td><td>20.65440</td><td>2023</td></tr>\n",
       "</tbody>\n",
       "</table>\n"
      ],
      "text/markdown": "\nA tibble: 31 × 4\n\n| entidad &lt;chr&gt; | tipo &lt;chr&gt; | porcentaje &lt;dbl&gt; | year &lt;int&gt; |\n|---|---|---|---|\n| Ciudad de México | patentes_patents    | 48.82459 | 1993 |\n| Ciudad de México | patentes_patents_2  | 42.36948 | 1994 |\n| Ciudad de México | patentes_patents_3  | 46.06481 | 1995 |\n| Ciudad de México | patentes_patents_4  | 40.67358 | 1996 |\n| Ciudad de México | patentes_patents_5  | 37.61905 | 1997 |\n| Ciudad de México | patentes_patents_6  | 40.17660 | 1998 |\n| Ciudad de México | patentes_patents_7  | 40.21978 | 1999 |\n| Ciudad de México | patentes_patents_8  | 38.97912 | 2000 |\n| Ciudad de México | patentes_patents_9  | 40.44944 | 2001 |\n| Ciudad de México | patentes_patents_10 | 39.16350 | 2002 |\n| Ciudad de México | patentes_patents_11 | 35.68376 | 2003 |\n| Ciudad de México | patentes_patents_12 | 31.68142 | 2004 |\n| Ciudad de México | patentes_patents_13 | 36.30137 | 2005 |\n| Ciudad de México | patentes_patents_14 | 31.53310 | 2006 |\n| Ciudad de México | patentes_patents_15 | 34.16537 | 2007 |\n| Ciudad de México | patentes_patents_16 | 31.97080 | 2008 |\n| Ciudad de México | patentes_patents_17 | 28.34550 | 2009 |\n| Ciudad de México | patentes_patents_18 | 33.75394 | 2010 |\n| Ciudad de México | patentes_patents_19 | 29.01408 | 2011 |\n| Ciudad de México | patentes_patents_20 | 33.04954 | 2012 |\n| Ciudad de México | patentes_patents_21 | 31.95706 | 2013 |\n| Ciudad de México | patentes_patents_22 | 27.17042 | 2014 |\n| Ciudad de México | patentes_patents_23 | 26.90616 | 2015 |\n| Ciudad de México | patentes_patents_24 | 23.51145 | 2016 |\n| Ciudad de México | patentes_patents_25 | 24.96252 | 2017 |\n| Ciudad de México | patentes_patents_26 | 22.18650 | 2018 |\n| Ciudad de México | patentes_patents_27 | 22.60536 | 2019 |\n| Ciudad de México | patentes_patents_28 | 19.43463 | 2020 |\n| Ciudad de México | patentes_patents_33 | 17.54700 | 2021 |\n| Ciudad de México | patentes_patents_38 | 22.17701 | 2022 |\n| Ciudad de México | patentes_patents_43 | 20.65440 | 2023 |\n\n",
      "text/latex": "A tibble: 31 × 4\n\\begin{tabular}{llll}\n entidad & tipo & porcentaje & year\\\\\n <chr> & <chr> & <dbl> & <int>\\\\\n\\hline\n\t Ciudad de México & patentes\\_patents    & 48.82459 & 1993\\\\\n\t Ciudad de México & patentes\\_patents\\_2  & 42.36948 & 1994\\\\\n\t Ciudad de México & patentes\\_patents\\_3  & 46.06481 & 1995\\\\\n\t Ciudad de México & patentes\\_patents\\_4  & 40.67358 & 1996\\\\\n\t Ciudad de México & patentes\\_patents\\_5  & 37.61905 & 1997\\\\\n\t Ciudad de México & patentes\\_patents\\_6  & 40.17660 & 1998\\\\\n\t Ciudad de México & patentes\\_patents\\_7  & 40.21978 & 1999\\\\\n\t Ciudad de México & patentes\\_patents\\_8  & 38.97912 & 2000\\\\\n\t Ciudad de México & patentes\\_patents\\_9  & 40.44944 & 2001\\\\\n\t Ciudad de México & patentes\\_patents\\_10 & 39.16350 & 2002\\\\\n\t Ciudad de México & patentes\\_patents\\_11 & 35.68376 & 2003\\\\\n\t Ciudad de México & patentes\\_patents\\_12 & 31.68142 & 2004\\\\\n\t Ciudad de México & patentes\\_patents\\_13 & 36.30137 & 2005\\\\\n\t Ciudad de México & patentes\\_patents\\_14 & 31.53310 & 2006\\\\\n\t Ciudad de México & patentes\\_patents\\_15 & 34.16537 & 2007\\\\\n\t Ciudad de México & patentes\\_patents\\_16 & 31.97080 & 2008\\\\\n\t Ciudad de México & patentes\\_patents\\_17 & 28.34550 & 2009\\\\\n\t Ciudad de México & patentes\\_patents\\_18 & 33.75394 & 2010\\\\\n\t Ciudad de México & patentes\\_patents\\_19 & 29.01408 & 2011\\\\\n\t Ciudad de México & patentes\\_patents\\_20 & 33.04954 & 2012\\\\\n\t Ciudad de México & patentes\\_patents\\_21 & 31.95706 & 2013\\\\\n\t Ciudad de México & patentes\\_patents\\_22 & 27.17042 & 2014\\\\\n\t Ciudad de México & patentes\\_patents\\_23 & 26.90616 & 2015\\\\\n\t Ciudad de México & patentes\\_patents\\_24 & 23.51145 & 2016\\\\\n\t Ciudad de México & patentes\\_patents\\_25 & 24.96252 & 2017\\\\\n\t Ciudad de México & patentes\\_patents\\_26 & 22.18650 & 2018\\\\\n\t Ciudad de México & patentes\\_patents\\_27 & 22.60536 & 2019\\\\\n\t Ciudad de México & patentes\\_patents\\_28 & 19.43463 & 2020\\\\\n\t Ciudad de México & patentes\\_patents\\_33 & 17.54700 & 2021\\\\\n\t Ciudad de México & patentes\\_patents\\_38 & 22.17701 & 2022\\\\\n\t Ciudad de México & patentes\\_patents\\_43 & 20.65440 & 2023\\\\\n\\end{tabular}\n",
      "text/plain": [
       "   entidad          tipo                porcentaje year\n",
       "1  Ciudad de México patentes_patents    48.82459   1993\n",
       "2  Ciudad de México patentes_patents_2  42.36948   1994\n",
       "3  Ciudad de México patentes_patents_3  46.06481   1995\n",
       "4  Ciudad de México patentes_patents_4  40.67358   1996\n",
       "5  Ciudad de México patentes_patents_5  37.61905   1997\n",
       "6  Ciudad de México patentes_patents_6  40.17660   1998\n",
       "7  Ciudad de México patentes_patents_7  40.21978   1999\n",
       "8  Ciudad de México patentes_patents_8  38.97912   2000\n",
       "9  Ciudad de México patentes_patents_9  40.44944   2001\n",
       "10 Ciudad de México patentes_patents_10 39.16350   2002\n",
       "11 Ciudad de México patentes_patents_11 35.68376   2003\n",
       "12 Ciudad de México patentes_patents_12 31.68142   2004\n",
       "13 Ciudad de México patentes_patents_13 36.30137   2005\n",
       "14 Ciudad de México patentes_patents_14 31.53310   2006\n",
       "15 Ciudad de México patentes_patents_15 34.16537   2007\n",
       "16 Ciudad de México patentes_patents_16 31.97080   2008\n",
       "17 Ciudad de México patentes_patents_17 28.34550   2009\n",
       "18 Ciudad de México patentes_patents_18 33.75394   2010\n",
       "19 Ciudad de México patentes_patents_19 29.01408   2011\n",
       "20 Ciudad de México patentes_patents_20 33.04954   2012\n",
       "21 Ciudad de México patentes_patents_21 31.95706   2013\n",
       "22 Ciudad de México patentes_patents_22 27.17042   2014\n",
       "23 Ciudad de México patentes_patents_23 26.90616   2015\n",
       "24 Ciudad de México patentes_patents_24 23.51145   2016\n",
       "25 Ciudad de México patentes_patents_25 24.96252   2017\n",
       "26 Ciudad de México patentes_patents_26 22.18650   2018\n",
       "27 Ciudad de México patentes_patents_27 22.60536   2019\n",
       "28 Ciudad de México patentes_patents_28 19.43463   2020\n",
       "29 Ciudad de México patentes_patents_33 17.54700   2021\n",
       "30 Ciudad de México patentes_patents_38 22.17701   2022\n",
       "31 Ciudad de México patentes_patents_43 20.65440   2023"
      ]
     },
     "metadata": {},
     "output_type": "display_data"
    }
   ],
   "execution_count": 139
  },
  {
   "metadata": {
    "ExecuteTime": {
     "end_time": "2025-01-26T22:06:30.828356Z",
     "start_time": "2025-01-26T22:06:30.536319Z"
    }
   },
   "cell_type": "code",
   "source": [
    "#Crear gráfica\n",
    "ggplot(impi, aes(x = year, y = porcentaje)) +\n",
    "  geom_line() +\n",
    "  geom_smooth(method = \"loess\", se = FALSE, color = \"red\") +\n",
    "  labs(title = \"Porcentaje de solicitudes de patentes de mexicanos en la Ciudad de México respecto del total\",\n",
    "       x = \"Año\",\n",
    "       y = \"Porcentaje (%)\",\n",
    "       caption = \"Fuente: Elaborado por IPDP con datos del IMPI\") +\n",
    "  theme_minimal() +\n",
    "  theme(plot.title = element_text(hjust = 0, size = 16, face = \"bold\"),\n",
    "        plot.caption = element_text(hjust = 0, size = 10),\n",
    "        axis.title = element_text(size = 12, face = \"bold\"),\n",
    "        axis.text = element_text(size = 10),\n",
    "        legend.title = element_text(size = 10),\n",
    "        legend.text = element_text(size = 10),\n",
    "        legend.position = \"none\")\n",
    "\n",
    "#Salvar gráfica\n",
    "ggsave(\"porcentaje_patentes.png\", width = 10, height = 6, dpi = 300, bg = \"white\")"
   ],
   "id": "47491b4d8ff5359e",
   "outputs": [
    {
     "name": "stderr",
     "output_type": "stream",
     "text": [
      "\u001B[1m\u001B[22m`geom_smooth()` using formula = 'y ~ x'\n",
      "\u001B[1m\u001B[22m`geom_smooth()` using formula = 'y ~ x'\n"
     ]
    },
    {
     "data": {
      "text/plain": [
       "plot without title"
      ],
      "image/png": "[encoded data removed]"
     },
     "metadata": {
      "image/png": {
       "width": 420,
       "height": 420
      }
     },
     "output_type": "display_data"
    }
   ],
   "execution_count": 138
  }
 ],
 "metadata": {
  "kernelspec": {
   "display_name": "R",
   "language": "R",
   "name": "ir"
  },
  "language_info": {
   "codemirror_mode": {
    "name": "ipython",
    "version": 2
   },
   "file_extension": ".py",
   "mimetype": "text/x-python",
   "name": "python",
   "nbconvert_exporter": "python",
   "pygments_lexer": "ipython2",
   "version": "2.7.6"
  },
  "colab": {
   "provenance": [],
   "include_colab_link": true
  }
 },
 "nbformat": 4,
 "nbformat_minor": 5
}
