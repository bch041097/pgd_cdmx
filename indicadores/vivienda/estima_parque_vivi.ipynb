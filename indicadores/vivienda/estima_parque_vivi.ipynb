{
 "cells": [
  {
   "metadata": {
    "ExecuteTime": {
     "end_time": "2025-02-10T22:41:10.720014Z",
     "start_time": "2025-02-10T22:41:10.670824Z"
    }
   },
   "cell_type": "code",
   "source": [
    "##Estimación de pobreza de vivienda de acuerdo con Evalúa CDMX\n",
    "#Se borra todo lo que se encuentra en el entorno\n",
    "\n",
    "rm(list=ls())\n",
    "\n",
    "# Librerías ====\n",
    "if(!require('pacman')) install.packages('pacman')\n",
    "pacman::p_load(tidyverse, httr,jsonlite)"
   ],
   "id": "6281d1ffa0e340c2",
   "outputs": [],
   "execution_count": 9
  },
  {
   "metadata": {
    "ExecuteTime": {
     "end_time": "2025-02-10T22:41:12.430046Z",
     "start_time": "2025-02-10T22:41:12.419215Z"
    }
   },
   "cell_type": "code",
   "source": [
    "#Función para consultar la api\n",
    "\n",
    "consulta_api<-function(url){\n",
    "  r <- GET(url, timeout(10000))\n",
    "  df <- fromJSON(rawToChar(r$content))\n",
    "  return(df)\n",
    "}"
   ],
   "id": "6c53df5f1352e1",
   "outputs": [],
   "execution_count": 10
  },
  {
   "metadata": {
    "ExecuteTime": {
     "end_time": "2025-02-10T22:58:43.463529Z",
     "start_time": "2025-02-10T22:58:43.450381Z"
    }
   },
   "cell_type": "code",
   "source": "url_hog<-\"https://www.inegi.org.mx/app/api/indicadores/desarrolladores/jsonxml/INDICATOR/1002000018/es/07000009/false/BISE/2.0/fe198fe7-c264-840e-c24e-7b28b9af856c?type=json\"",
   "id": "51bae3aa8490af44",
   "outputs": [],
   "execution_count": 20
  },
  {
   "metadata": {
    "ExecuteTime": {
     "end_time": "2025-02-11T00:25:57.117409Z",
     "start_time": "2025-02-11T00:25:56.646651Z"
    }
   },
   "cell_type": "code",
   "source": [
    "hog<-consulta_api(url_hog)%>%\n",
    "pluck(\"Series\")%>%\n",
    "pluck(\"OBSERVATIONS\")%>%\n",
    "as.data.frame()%>%\n",
    "janitor::clean_names()%>%\n",
    "mutate(obs_value=as.numeric(obs_value))%>%\n",
    "rename(year=time_period,\n",
    "hog=obs_value\n",
    ")%>%\n",
    "mutate(year=as.numeric(year),\n",
    "hog=as.numeric(hog))%>%\n",
    "select(year,hog)%>%\n",
    "na.omit()%>%\n",
    "arrange(year)%>%\n",
    "#Calcular tasas de crecimiento promedio anual\n",
    "mutate(tcma=100*((hog/lag(hog,1))^(1/5)-1))%>%\n",
    "#Poner los años que faltan en la tabla\n",
    "complete(year=2000:2020)%>%\n",
    "  arrange(year) %>%\n",
    "  mutate(future_tcma = lead(tcma)) %>%\n",
    "  fill(future_tcma, .direction = \"up\") %>%\n",
    "  mutate(tcma = ifelse(is.na(tcma), future_tcma, tcma)) %>%\n",
    "  select(-future_tcma)%>%\n",
    "\n",
    "  # Inicializar la columna de estimación\n",
    "  mutate(hog_est = hog)\n",
    "\n",
    "# Estimar valores de hog iterativamente\n",
    "for (i in 2:nrow(hog)) {\n",
    "  if (is.na(hog$hog_est[i])) {\n",
    "    hog$hog_est[i] <- hog$hog_est[i-1] * (1 + hog$tcma[i] / 100)\n",
    "  }\n",
    "}\n",
    "\n",
    "# Final selection and renaming\n",
    "hog <- hog %>%\n",
    "  select(year, hog_est) %>%\n",
    "  rename(hog = hog_est)\n",
    "hog"
   ],
   "id": "6974f2e86f6c01ad",
   "outputs": [
    {
     "data": {
      "text/html": [
       "<table class=\"dataframe\">\n",
       "<caption>A tibble: 21 × 2</caption>\n",
       "<thead>\n",
       "\t<tr><th scope=col>year</th><th scope=col>hog</th></tr>\n",
       "\t<tr><th scope=col>&lt;dbl&gt;</th><th scope=col>&lt;dbl&gt;</th></tr>\n",
       "</thead>\n",
       "<tbody>\n",
       "\t<tr><td>2000</td><td>2180243</td></tr>\n",
       "\t<tr><td>2001</td><td>2202163</td></tr>\n",
       "\t<tr><td>2002</td><td>2224303</td></tr>\n",
       "\t<tr><td>2003</td><td>2246666</td></tr>\n",
       "\t<tr><td>2004</td><td>2269254</td></tr>\n",
       "\t<tr><td>2005</td><td>2292069</td></tr>\n",
       "\t<tr><td>2006</td><td>2311045</td></tr>\n",
       "\t<tr><td>2007</td><td>2330178</td></tr>\n",
       "\t<tr><td>2008</td><td>2349470</td></tr>\n",
       "\t<tr><td>2009</td><td>2368922</td></tr>\n",
       "\t<tr><td>2010</td><td>2388534</td></tr>\n",
       "\t<tr><td>2011</td><td>2429652</td></tr>\n",
       "\t<tr><td>2012</td><td>2471477</td></tr>\n",
       "\t<tr><td>2013</td><td>2514022</td></tr>\n",
       "\t<tr><td>2014</td><td>2557300</td></tr>\n",
       "\t<tr><td>2015</td><td>2601323</td></tr>\n",
       "\t<tr><td>2016</td><td>2631609</td></tr>\n",
       "\t<tr><td>2017</td><td>2662247</td></tr>\n",
       "\t<tr><td>2018</td><td>2693242</td></tr>\n",
       "\t<tr><td>2019</td><td>2724598</td></tr>\n",
       "\t<tr><td>2020</td><td>2756319</td></tr>\n",
       "</tbody>\n",
       "</table>\n"
      ],
      "text/markdown": "\nA tibble: 21 × 2\n\n| year &lt;dbl&gt; | hog &lt;dbl&gt; |\n|---|---|\n| 2000 | 2180243 |\n| 2001 | 2202163 |\n| 2002 | 2224303 |\n| 2003 | 2246666 |\n| 2004 | 2269254 |\n| 2005 | 2292069 |\n| 2006 | 2311045 |\n| 2007 | 2330178 |\n| 2008 | 2349470 |\n| 2009 | 2368922 |\n| 2010 | 2388534 |\n| 2011 | 2429652 |\n| 2012 | 2471477 |\n| 2013 | 2514022 |\n| 2014 | 2557300 |\n| 2015 | 2601323 |\n| 2016 | 2631609 |\n| 2017 | 2662247 |\n| 2018 | 2693242 |\n| 2019 | 2724598 |\n| 2020 | 2756319 |\n\n",
      "text/latex": "A tibble: 21 × 2\n\\begin{tabular}{ll}\n year & hog\\\\\n <dbl> & <dbl>\\\\\n\\hline\n\t 2000 & 2180243\\\\\n\t 2001 & 2202163\\\\\n\t 2002 & 2224303\\\\\n\t 2003 & 2246666\\\\\n\t 2004 & 2269254\\\\\n\t 2005 & 2292069\\\\\n\t 2006 & 2311045\\\\\n\t 2007 & 2330178\\\\\n\t 2008 & 2349470\\\\\n\t 2009 & 2368922\\\\\n\t 2010 & 2388534\\\\\n\t 2011 & 2429652\\\\\n\t 2012 & 2471477\\\\\n\t 2013 & 2514022\\\\\n\t 2014 & 2557300\\\\\n\t 2015 & 2601323\\\\\n\t 2016 & 2631609\\\\\n\t 2017 & 2662247\\\\\n\t 2018 & 2693242\\\\\n\t 2019 & 2724598\\\\\n\t 2020 & 2756319\\\\\n\\end{tabular}\n",
      "text/plain": [
       "   year hog    \n",
       "1  2000 2180243\n",
       "2  2001 2202163\n",
       "3  2002 2224303\n",
       "4  2003 2246666\n",
       "5  2004 2269254\n",
       "6  2005 2292069\n",
       "7  2006 2311045\n",
       "8  2007 2330178\n",
       "9  2008 2349470\n",
       "10 2009 2368922\n",
       "11 2010 2388534\n",
       "12 2011 2429652\n",
       "13 2012 2471477\n",
       "14 2013 2514022\n",
       "15 2014 2557300\n",
       "16 2015 2601323\n",
       "17 2016 2631609\n",
       "18 2017 2662247\n",
       "19 2018 2693242\n",
       "20 2019 2724598\n",
       "21 2020 2756319"
      ]
     },
     "metadata": {},
     "output_type": "display_data"
    }
   ],
   "execution_count": 54
  },
  {
   "metadata": {
    "ExecuteTime": {
     "end_time": "2025-02-11T00:52:50.415935Z",
     "start_time": "2025-02-11T00:52:35.966717Z"
    }
   },
   "cell_type": "code",
   "source": [
    "### Proyecciones de población CONAPO\n",
    "pob<-read_csv(\"https://conapo.segob.gob.mx/work/models/CONAPO/Datos_Abiertos/pry23/00_Pob_Mitad_1950_2070.csv\",show_col_types = FALSE)%>%\n",
    "janitor::clean_names()%>%\n",
    "filter(cve_geo==9)%>%\n",
    "group_by(ano)%>%\n",
    "summarise(poblacion=sum(poblacion))%>%\n",
    "filter(ano<=2045)%>%\n",
    "rename(year=ano)\n",
    "\n",
    "pob"
   ],
   "id": "63e72e4192d55985",
   "outputs": [
    {
     "data": {
      "text/html": [
       "<table class=\"dataframe\">\n",
       "<caption>A tibble: 76 × 2</caption>\n",
       "<thead>\n",
       "\t<tr><th scope=col>year</th><th scope=col>poblacion</th></tr>\n",
       "\t<tr><th scope=col>&lt;dbl&gt;</th><th scope=col>&lt;dbl&gt;</th></tr>\n",
       "</thead>\n",
       "<tbody>\n",
       "\t<tr><td>1970</td><td>7336320</td></tr>\n",
       "\t<tr><td>1971</td><td>7509052</td></tr>\n",
       "\t<tr><td>1972</td><td>7677940</td></tr>\n",
       "\t<tr><td>1973</td><td>7849693</td></tr>\n",
       "\t<tr><td>1974</td><td>8022978</td></tr>\n",
       "\t<tr><td>1975</td><td>8199978</td></tr>\n",
       "\t<tr><td>1976</td><td>8373187</td></tr>\n",
       "\t<tr><td>1977</td><td>8537180</td></tr>\n",
       "\t<tr><td>1978</td><td>8696633</td></tr>\n",
       "\t<tr><td>1979</td><td>8852608</td></tr>\n",
       "\t<tr><td>1980</td><td>8960023</td></tr>\n",
       "\t<tr><td>1981</td><td>8986452</td></tr>\n",
       "\t<tr><td>1982</td><td>8972564</td></tr>\n",
       "\t<tr><td>1983</td><td>8946602</td></tr>\n",
       "\t<tr><td>1984</td><td>8909640</td></tr>\n",
       "\t<tr><td>1985</td><td>8857453</td></tr>\n",
       "\t<tr><td>1986</td><td>8792733</td></tr>\n",
       "\t<tr><td>1987</td><td>8718524</td></tr>\n",
       "\t<tr><td>1988</td><td>8631272</td></tr>\n",
       "\t<tr><td>1989</td><td>8533199</td></tr>\n",
       "\t<tr><td>1990</td><td>8485531</td></tr>\n",
       "\t<tr><td>1991</td><td>8505567</td></tr>\n",
       "\t<tr><td>1992</td><td>8537054</td></tr>\n",
       "\t<tr><td>1993</td><td>8564878</td></tr>\n",
       "\t<tr><td>1994</td><td>8588560</td></tr>\n",
       "\t<tr><td>1995</td><td>8607943</td></tr>\n",
       "\t<tr><td>1996</td><td>8631281</td></tr>\n",
       "\t<tr><td>1997</td><td>8657116</td></tr>\n",
       "\t<tr><td>1998</td><td>8674660</td></tr>\n",
       "\t<tr><td>1999</td><td>8682629</td></tr>\n",
       "\t<tr><td>⋮</td><td>⋮</td></tr>\n",
       "\t<tr><td>2016</td><td>9196836</td></tr>\n",
       "\t<tr><td>2017</td><td>9246758</td></tr>\n",
       "\t<tr><td>2018</td><td>9296268</td></tr>\n",
       "\t<tr><td>2019</td><td>9343071</td></tr>\n",
       "\t<tr><td>2020</td><td>9332593</td></tr>\n",
       "\t<tr><td>2021</td><td>9272649</td></tr>\n",
       "\t<tr><td>2022</td><td>9237644</td></tr>\n",
       "\t<tr><td>2023</td><td>9221637</td></tr>\n",
       "\t<tr><td>2024</td><td>9204018</td></tr>\n",
       "\t<tr><td>2025</td><td>9183658</td></tr>\n",
       "\t<tr><td>2026</td><td>9159966</td></tr>\n",
       "\t<tr><td>2027</td><td>9132734</td></tr>\n",
       "\t<tr><td>2028</td><td>9102136</td></tr>\n",
       "\t<tr><td>2029</td><td>9068610</td></tr>\n",
       "\t<tr><td>2030</td><td>9032705</td></tr>\n",
       "\t<tr><td>2031</td><td>8994951</td></tr>\n",
       "\t<tr><td>2032</td><td>8955799</td></tr>\n",
       "\t<tr><td>2033</td><td>8915667</td></tr>\n",
       "\t<tr><td>2034</td><td>8874820</td></tr>\n",
       "\t<tr><td>2035</td><td>8833389</td></tr>\n",
       "\t<tr><td>2036</td><td>8791338</td></tr>\n",
       "\t<tr><td>2037</td><td>8748390</td></tr>\n",
       "\t<tr><td>2038</td><td>8704119</td></tr>\n",
       "\t<tr><td>2039</td><td>8657948</td></tr>\n",
       "\t<tr><td>2040</td><td>8609423</td></tr>\n",
       "\t<tr><td>2041</td><td>8558319</td></tr>\n",
       "\t<tr><td>2042</td><td>8504596</td></tr>\n",
       "\t<tr><td>2043</td><td>8448448</td></tr>\n",
       "\t<tr><td>2044</td><td>8390214</td></tr>\n",
       "\t<tr><td>2045</td><td>8330174</td></tr>\n",
       "</tbody>\n",
       "</table>\n"
      ],
      "text/markdown": "\nA tibble: 76 × 2\n\n| year &lt;dbl&gt; | poblacion &lt;dbl&gt; |\n|---|---|\n| 1970 | 7336320 |\n| 1971 | 7509052 |\n| 1972 | 7677940 |\n| 1973 | 7849693 |\n| 1974 | 8022978 |\n| 1975 | 8199978 |\n| 1976 | 8373187 |\n| 1977 | 8537180 |\n| 1978 | 8696633 |\n| 1979 | 8852608 |\n| 1980 | 8960023 |\n| 1981 | 8986452 |\n| 1982 | 8972564 |\n| 1983 | 8946602 |\n| 1984 | 8909640 |\n| 1985 | 8857453 |\n| 1986 | 8792733 |\n| 1987 | 8718524 |\n| 1988 | 8631272 |\n| 1989 | 8533199 |\n| 1990 | 8485531 |\n| 1991 | 8505567 |\n| 1992 | 8537054 |\n| 1993 | 8564878 |\n| 1994 | 8588560 |\n| 1995 | 8607943 |\n| 1996 | 8631281 |\n| 1997 | 8657116 |\n| 1998 | 8674660 |\n| 1999 | 8682629 |\n| ⋮ | ⋮ |\n| 2016 | 9196836 |\n| 2017 | 9246758 |\n| 2018 | 9296268 |\n| 2019 | 9343071 |\n| 2020 | 9332593 |\n| 2021 | 9272649 |\n| 2022 | 9237644 |\n| 2023 | 9221637 |\n| 2024 | 9204018 |\n| 2025 | 9183658 |\n| 2026 | 9159966 |\n| 2027 | 9132734 |\n| 2028 | 9102136 |\n| 2029 | 9068610 |\n| 2030 | 9032705 |\n| 2031 | 8994951 |\n| 2032 | 8955799 |\n| 2033 | 8915667 |\n| 2034 | 8874820 |\n| 2035 | 8833389 |\n| 2036 | 8791338 |\n| 2037 | 8748390 |\n| 2038 | 8704119 |\n| 2039 | 8657948 |\n| 2040 | 8609423 |\n| 2041 | 8558319 |\n| 2042 | 8504596 |\n| 2043 | 8448448 |\n| 2044 | 8390214 |\n| 2045 | 8330174 |\n\n",
      "text/latex": "A tibble: 76 × 2\n\\begin{tabular}{ll}\n year & poblacion\\\\\n <dbl> & <dbl>\\\\\n\\hline\n\t 1970 & 7336320\\\\\n\t 1971 & 7509052\\\\\n\t 1972 & 7677940\\\\\n\t 1973 & 7849693\\\\\n\t 1974 & 8022978\\\\\n\t 1975 & 8199978\\\\\n\t 1976 & 8373187\\\\\n\t 1977 & 8537180\\\\\n\t 1978 & 8696633\\\\\n\t 1979 & 8852608\\\\\n\t 1980 & 8960023\\\\\n\t 1981 & 8986452\\\\\n\t 1982 & 8972564\\\\\n\t 1983 & 8946602\\\\\n\t 1984 & 8909640\\\\\n\t 1985 & 8857453\\\\\n\t 1986 & 8792733\\\\\n\t 1987 & 8718524\\\\\n\t 1988 & 8631272\\\\\n\t 1989 & 8533199\\\\\n\t 1990 & 8485531\\\\\n\t 1991 & 8505567\\\\\n\t 1992 & 8537054\\\\\n\t 1993 & 8564878\\\\\n\t 1994 & 8588560\\\\\n\t 1995 & 8607943\\\\\n\t 1996 & 8631281\\\\\n\t 1997 & 8657116\\\\\n\t 1998 & 8674660\\\\\n\t 1999 & 8682629\\\\\n\t ⋮ & ⋮\\\\\n\t 2016 & 9196836\\\\\n\t 2017 & 9246758\\\\\n\t 2018 & 9296268\\\\\n\t 2019 & 9343071\\\\\n\t 2020 & 9332593\\\\\n\t 2021 & 9272649\\\\\n\t 2022 & 9237644\\\\\n\t 2023 & 9221637\\\\\n\t 2024 & 9204018\\\\\n\t 2025 & 9183658\\\\\n\t 2026 & 9159966\\\\\n\t 2027 & 9132734\\\\\n\t 2028 & 9102136\\\\\n\t 2029 & 9068610\\\\\n\t 2030 & 9032705\\\\\n\t 2031 & 8994951\\\\\n\t 2032 & 8955799\\\\\n\t 2033 & 8915667\\\\\n\t 2034 & 8874820\\\\\n\t 2035 & 8833389\\\\\n\t 2036 & 8791338\\\\\n\t 2037 & 8748390\\\\\n\t 2038 & 8704119\\\\\n\t 2039 & 8657948\\\\\n\t 2040 & 8609423\\\\\n\t 2041 & 8558319\\\\\n\t 2042 & 8504596\\\\\n\t 2043 & 8448448\\\\\n\t 2044 & 8390214\\\\\n\t 2045 & 8330174\\\\\n\\end{tabular}\n",
      "text/plain": [
       "   year poblacion\n",
       "1  1970 7336320  \n",
       "2  1971 7509052  \n",
       "3  1972 7677940  \n",
       "4  1973 7849693  \n",
       "5  1974 8022978  \n",
       "6  1975 8199978  \n",
       "7  1976 8373187  \n",
       "8  1977 8537180  \n",
       "9  1978 8696633  \n",
       "10 1979 8852608  \n",
       "11 1980 8960023  \n",
       "12 1981 8986452  \n",
       "13 1982 8972564  \n",
       "14 1983 8946602  \n",
       "15 1984 8909640  \n",
       "16 1985 8857453  \n",
       "17 1986 8792733  \n",
       "18 1987 8718524  \n",
       "19 1988 8631272  \n",
       "20 1989 8533199  \n",
       "21 1990 8485531  \n",
       "22 1991 8505567  \n",
       "23 1992 8537054  \n",
       "24 1993 8564878  \n",
       "25 1994 8588560  \n",
       "26 1995 8607943  \n",
       "27 1996 8631281  \n",
       "28 1997 8657116  \n",
       "29 1998 8674660  \n",
       "30 1999 8682629  \n",
       "⋮  ⋮    ⋮        \n",
       "47 2016 9196836  \n",
       "48 2017 9246758  \n",
       "49 2018 9296268  \n",
       "50 2019 9343071  \n",
       "51 2020 9332593  \n",
       "52 2021 9272649  \n",
       "53 2022 9237644  \n",
       "54 2023 9221637  \n",
       "55 2024 9204018  \n",
       "56 2025 9183658  \n",
       "57 2026 9159966  \n",
       "58 2027 9132734  \n",
       "59 2028 9102136  \n",
       "60 2029 9068610  \n",
       "61 2030 9032705  \n",
       "62 2031 8994951  \n",
       "63 2032 8955799  \n",
       "64 2033 8915667  \n",
       "65 2034 8874820  \n",
       "66 2035 8833389  \n",
       "67 2036 8791338  \n",
       "68 2037 8748390  \n",
       "69 2038 8704119  \n",
       "70 2039 8657948  \n",
       "71 2040 8609423  \n",
       "72 2041 8558319  \n",
       "73 2042 8504596  \n",
       "74 2043 8448448  \n",
       "75 2044 8390214  \n",
       "76 2045 8330174  "
      ]
     },
     "metadata": {},
     "output_type": "display_data"
    }
   ],
   "execution_count": 80
  },
  {
   "metadata": {
    "ExecuteTime": {
     "end_time": "2025-02-11T01:06:32.406294Z",
     "start_time": "2025-02-11T01:06:32.348157Z"
    }
   },
   "cell_type": "code",
   "source": [
    "#Pegar tablas para estimar tasas de jefatura\n",
    "\n",
    "tj<-hog%>%\n",
    "left_join(pob, by=\"year\")%>%\n",
    "#Calcular tasas de jefatura\n",
    "mutate(tj=hog/poblacion)%>%na.omit()\n",
    "tj"
   ],
   "id": "5e66fc6066ae4159",
   "outputs": [
    {
     "data": {
      "text/html": [
       "<table class=\"dataframe\">\n",
       "<caption>A tibble: 21 × 4</caption>\n",
       "<thead>\n",
       "\t<tr><th scope=col>year</th><th scope=col>hog</th><th scope=col>poblacion</th><th scope=col>tj</th></tr>\n",
       "\t<tr><th scope=col>&lt;dbl&gt;</th><th scope=col>&lt;dbl&gt;</th><th scope=col>&lt;dbl&gt;</th><th scope=col>&lt;dbl&gt;</th></tr>\n",
       "</thead>\n",
       "<tbody>\n",
       "\t<tr><td>2000</td><td>2180243</td><td>8706087</td><td>0.2504274</td></tr>\n",
       "\t<tr><td>2001</td><td>2202163</td><td>8758667</td><td>0.2514267</td></tr>\n",
       "\t<tr><td>2002</td><td>2224303</td><td>8819709</td><td>0.2521969</td></tr>\n",
       "\t<tr><td>2003</td><td>2246666</td><td>8878329</td><td>0.2530506</td></tr>\n",
       "\t<tr><td>2004</td><td>2269254</td><td>8931633</td><td>0.2540693</td></tr>\n",
       "\t<tr><td>2005</td><td>2292069</td><td>8977190</td><td>0.2553214</td></tr>\n",
       "\t<tr><td>2006</td><td>2311045</td><td>9001741</td><td>0.2567331</td></tr>\n",
       "\t<tr><td>2007</td><td>2330178</td><td>9011907</td><td>0.2585666</td></tr>\n",
       "\t<tr><td>2008</td><td>2349470</td><td>9022695</td><td>0.2603956</td></tr>\n",
       "\t<tr><td>2009</td><td>2368922</td><td>9029228</td><td>0.2623615</td></tr>\n",
       "\t<tr><td>2010</td><td>2388534</td><td>9044151</td><td>0.2640971</td></tr>\n",
       "\t<tr><td>2011</td><td>2429652</td><td>9074286</td><td>0.2677513</td></tr>\n",
       "\t<tr><td>2012</td><td>2471477</td><td>9102171</td><td>0.2715261</td></tr>\n",
       "\t<tr><td>2013</td><td>2514022</td><td>9121489</td><td>0.2756153</td></tr>\n",
       "\t<tr><td>2014</td><td>2557300</td><td>9131261</td><td>0.2800599</td></tr>\n",
       "\t<tr><td>2015</td><td>2601323</td><td>9152227</td><td>0.2842284</td></tr>\n",
       "\t<tr><td>2016</td><td>2631609</td><td>9196836</td><td>0.2861428</td></tr>\n",
       "\t<tr><td>2017</td><td>2662247</td><td>9246758</td><td>0.2879114</td></tr>\n",
       "\t<tr><td>2018</td><td>2693242</td><td>9296268</td><td>0.2897122</td></tr>\n",
       "\t<tr><td>2019</td><td>2724598</td><td>9343071</td><td>0.2916170</td></tr>\n",
       "\t<tr><td>2020</td><td>2756319</td><td>9332593</td><td>0.2953433</td></tr>\n",
       "</tbody>\n",
       "</table>\n"
      ],
      "text/markdown": "\nA tibble: 21 × 4\n\n| year &lt;dbl&gt; | hog &lt;dbl&gt; | poblacion &lt;dbl&gt; | tj &lt;dbl&gt; |\n|---|---|---|---|\n| 2000 | 2180243 | 8706087 | 0.2504274 |\n| 2001 | 2202163 | 8758667 | 0.2514267 |\n| 2002 | 2224303 | 8819709 | 0.2521969 |\n| 2003 | 2246666 | 8878329 | 0.2530506 |\n| 2004 | 2269254 | 8931633 | 0.2540693 |\n| 2005 | 2292069 | 8977190 | 0.2553214 |\n| 2006 | 2311045 | 9001741 | 0.2567331 |\n| 2007 | 2330178 | 9011907 | 0.2585666 |\n| 2008 | 2349470 | 9022695 | 0.2603956 |\n| 2009 | 2368922 | 9029228 | 0.2623615 |\n| 2010 | 2388534 | 9044151 | 0.2640971 |\n| 2011 | 2429652 | 9074286 | 0.2677513 |\n| 2012 | 2471477 | 9102171 | 0.2715261 |\n| 2013 | 2514022 | 9121489 | 0.2756153 |\n| 2014 | 2557300 | 9131261 | 0.2800599 |\n| 2015 | 2601323 | 9152227 | 0.2842284 |\n| 2016 | 2631609 | 9196836 | 0.2861428 |\n| 2017 | 2662247 | 9246758 | 0.2879114 |\n| 2018 | 2693242 | 9296268 | 0.2897122 |\n| 2019 | 2724598 | 9343071 | 0.2916170 |\n| 2020 | 2756319 | 9332593 | 0.2953433 |\n\n",
      "text/latex": "A tibble: 21 × 4\n\\begin{tabular}{llll}\n year & hog & poblacion & tj\\\\\n <dbl> & <dbl> & <dbl> & <dbl>\\\\\n\\hline\n\t 2000 & 2180243 & 8706087 & 0.2504274\\\\\n\t 2001 & 2202163 & 8758667 & 0.2514267\\\\\n\t 2002 & 2224303 & 8819709 & 0.2521969\\\\\n\t 2003 & 2246666 & 8878329 & 0.2530506\\\\\n\t 2004 & 2269254 & 8931633 & 0.2540693\\\\\n\t 2005 & 2292069 & 8977190 & 0.2553214\\\\\n\t 2006 & 2311045 & 9001741 & 0.2567331\\\\\n\t 2007 & 2330178 & 9011907 & 0.2585666\\\\\n\t 2008 & 2349470 & 9022695 & 0.2603956\\\\\n\t 2009 & 2368922 & 9029228 & 0.2623615\\\\\n\t 2010 & 2388534 & 9044151 & 0.2640971\\\\\n\t 2011 & 2429652 & 9074286 & 0.2677513\\\\\n\t 2012 & 2471477 & 9102171 & 0.2715261\\\\\n\t 2013 & 2514022 & 9121489 & 0.2756153\\\\\n\t 2014 & 2557300 & 9131261 & 0.2800599\\\\\n\t 2015 & 2601323 & 9152227 & 0.2842284\\\\\n\t 2016 & 2631609 & 9196836 & 0.2861428\\\\\n\t 2017 & 2662247 & 9246758 & 0.2879114\\\\\n\t 2018 & 2693242 & 9296268 & 0.2897122\\\\\n\t 2019 & 2724598 & 9343071 & 0.2916170\\\\\n\t 2020 & 2756319 & 9332593 & 0.2953433\\\\\n\\end{tabular}\n",
      "text/plain": [
       "   year hog     poblacion tj       \n",
       "1  2000 2180243 8706087   0.2504274\n",
       "2  2001 2202163 8758667   0.2514267\n",
       "3  2002 2224303 8819709   0.2521969\n",
       "4  2003 2246666 8878329   0.2530506\n",
       "5  2004 2269254 8931633   0.2540693\n",
       "6  2005 2292069 8977190   0.2553214\n",
       "7  2006 2311045 9001741   0.2567331\n",
       "8  2007 2330178 9011907   0.2585666\n",
       "9  2008 2349470 9022695   0.2603956\n",
       "10 2009 2368922 9029228   0.2623615\n",
       "11 2010 2388534 9044151   0.2640971\n",
       "12 2011 2429652 9074286   0.2677513\n",
       "13 2012 2471477 9102171   0.2715261\n",
       "14 2013 2514022 9121489   0.2756153\n",
       "15 2014 2557300 9131261   0.2800599\n",
       "16 2015 2601323 9152227   0.2842284\n",
       "17 2016 2631609 9196836   0.2861428\n",
       "18 2017 2662247 9246758   0.2879114\n",
       "19 2018 2693242 9296268   0.2897122\n",
       "20 2019 2724598 9343071   0.2916170\n",
       "21 2020 2756319 9332593   0.2953433"
      ]
     },
     "metadata": {},
     "output_type": "display_data"
    }
   ],
   "execution_count": 112
  },
  {
   "metadata": {
    "ExecuteTime": {
     "end_time": "2025-02-11T01:34:30.827075Z",
     "start_time": "2025-02-11T01:34:30.811491Z"
    }
   },
   "cell_type": "code",
   "source": [
    "#Supuesto: tasa de crecimiento promedio anual de tasa de jefatura de 2010 a 2020\n",
    "tcma_valor<-((tj%>%\n",
    "filter(year==2020)%>%pull(tj))/(tj%>%\n",
    "filter(year==2010)%>%pull(tj)))^(1/10)-1\n",
    "tcma_valor"
   ],
   "id": "fc813549a26370c6",
   "outputs": [
    {
     "data": {
      "text/html": [
       "0.011244919986422"
      ],
      "text/markdown": "0.011244919986422",
      "text/latex": "0.011244919986422",
      "text/plain": [
       "[1] 0.01124492"
      ]
     },
     "metadata": {},
     "output_type": "display_data"
    }
   ],
   "execution_count": 149
  },
  {
   "metadata": {
    "ExecuteTime": {
     "end_time": "2025-02-11T01:37:16.179382Z",
     "start_time": "2025-02-11T01:37:16.127487Z"
    }
   },
   "cell_type": "code",
   "source": [
    "\n",
    "tj_final <- tj %>%\n",
    "  complete(year = 2000:2045) %>%\n",
    "  arrange(year) %>%\n",
    "\n",
    "  mutate(tcma_tj = as.numeric(tcma_valor)) %>%\n",
    "  fill(tcma_tj, .direction = \"down\") %>%\n",
    "\n",
    "  mutate(tj_est = tj)\n",
    "\n",
    "# Estimar valores de tj iterativamente\n",
    "for (i in 2:nrow(tj_final)) {\n",
    "  if (is.na(tj_final$tj_est[i])) {\n",
    "    tj_final$tj_est[i] <- tj_final$tj_est[i-1] * (1 + tj_final$tcma_tj[i])\n",
    "  }\n",
    "}\n",
    "\n",
    "\n",
    "tj_final<-tj_final%>%\n",
    "select(-poblacion)%>%\n",
    "left_join(pob, by=\"year\")%>%\n",
    "mutate(hog=tj_est*poblacion)%>%\n",
    "#Diferencias de un año a otro de los hogares\n",
    "mutate(dif_hog=hog-lag(hog,1))%>%\n",
    "select(year,hog,tj_est,dif_hog)%>%\n",
    "#Supuesto: hogares censales\n",
    "rename(viviendas=hog)\n",
    "tj_final\n"
   ],
   "id": "62cee06fa7516738",
   "outputs": [
    {
     "data": {
      "text/html": [
       "<table class=\"dataframe\">\n",
       "<caption>A tibble: 46 × 4</caption>\n",
       "<thead>\n",
       "\t<tr><th scope=col>year</th><th scope=col>viviendas</th><th scope=col>tj_est</th><th scope=col>dif_hog</th></tr>\n",
       "\t<tr><th scope=col>&lt;dbl&gt;</th><th scope=col>&lt;dbl&gt;</th><th scope=col>&lt;dbl&gt;</th><th scope=col>&lt;dbl&gt;</th></tr>\n",
       "</thead>\n",
       "<tbody>\n",
       "\t<tr><td>2000</td><td>2180243</td><td>0.2504274</td><td>      NA</td></tr>\n",
       "\t<tr><td>2001</td><td>2202163</td><td>0.2514267</td><td>21919.98</td></tr>\n",
       "\t<tr><td>2002</td><td>2224303</td><td>0.2521969</td><td>22140.36</td></tr>\n",
       "\t<tr><td>2003</td><td>2246666</td><td>0.2530506</td><td>22362.96</td></tr>\n",
       "\t<tr><td>2004</td><td>2269254</td><td>0.2540693</td><td>22587.80</td></tr>\n",
       "\t<tr><td>2005</td><td>2292069</td><td>0.2553214</td><td>22814.89</td></tr>\n",
       "\t<tr><td>2006</td><td>2311045</td><td>0.2567331</td><td>18976.18</td></tr>\n",
       "\t<tr><td>2007</td><td>2330178</td><td>0.2585666</td><td>19133.28</td></tr>\n",
       "\t<tr><td>2008</td><td>2349470</td><td>0.2603956</td><td>19291.69</td></tr>\n",
       "\t<tr><td>2009</td><td>2368922</td><td>0.2623615</td><td>19451.41</td></tr>\n",
       "\t<tr><td>2010</td><td>2388534</td><td>0.2640971</td><td>19612.44</td></tr>\n",
       "\t<tr><td>2011</td><td>2429652</td><td>0.2677513</td><td>41117.58</td></tr>\n",
       "\t<tr><td>2012</td><td>2471477</td><td>0.2715261</td><td>41825.40</td></tr>\n",
       "\t<tr><td>2013</td><td>2514022</td><td>0.2756153</td><td>42545.40</td></tr>\n",
       "\t<tr><td>2014</td><td>2557300</td><td>0.2800599</td><td>43277.81</td></tr>\n",
       "\t<tr><td>2015</td><td>2601323</td><td>0.2842284</td><td>44022.81</td></tr>\n",
       "\t<tr><td>2016</td><td>2631609</td><td>0.2861428</td><td>30285.74</td></tr>\n",
       "\t<tr><td>2017</td><td>2662247</td><td>0.2879114</td><td>30638.34</td></tr>\n",
       "\t<tr><td>2018</td><td>2693242</td><td>0.2897122</td><td>30995.05</td></tr>\n",
       "\t<tr><td>2019</td><td>2724598</td><td>0.2916170</td><td>31355.90</td></tr>\n",
       "\t<tr><td>2020</td><td>2756319</td><td>0.2953433</td><td>31720.96</td></tr>\n",
       "\t<tr><td>2021</td><td>2769410</td><td>0.2986644</td><td>13091.45</td></tr>\n",
       "\t<tr><td>2022</td><td>2789980</td><td>0.3020229</td><td>20569.49</td></tr>\n",
       "\t<tr><td>2023</td><td>2816464</td><td>0.3054191</td><td>26484.26</td></tr>\n",
       "\t<tr><td>2024</td><td>2842693</td><td>0.3088535</td><td>26229.22</td></tr>\n",
       "\t<tr><td>2025</td><td>2868300</td><td>0.3123266</td><td>25606.89</td></tr>\n",
       "\t<tr><td>2026</td><td>2893071</td><td>0.3158386</td><td>24770.96</td></tr>\n",
       "\t<tr><td>2027</td><td>2916906</td><td>0.3193902</td><td>23834.72</td></tr>\n",
       "\t<tr><td>2028</td><td>2939824</td><td>0.3229817</td><td>22917.78</td></tr>\n",
       "\t<tr><td>2029</td><td>2961932</td><td>0.3266136</td><td>22108.03</td></tr>\n",
       "\t<tr><td>2030</td><td>2983380</td><td>0.3302864</td><td>21447.75</td></tr>\n",
       "\t<tr><td>2031</td><td>3004318</td><td>0.3340004</td><td>20938.01</td></tr>\n",
       "\t<tr><td>2032</td><td>3024877</td><td>0.3377562</td><td>20559.48</td></tr>\n",
       "\t<tr><td>2033</td><td>3045184</td><td>0.3415543</td><td>20307.24</td></tr>\n",
       "\t<tr><td>2034</td><td>3065319</td><td>0.3453950</td><td>20134.50</td></tr>\n",
       "\t<tr><td>2035</td><td>3085317</td><td>0.3492790</td><td>19998.29</td></tr>\n",
       "\t<tr><td>2036</td><td>3105159</td><td>0.3532066</td><td>19841.45</td></tr>\n",
       "\t<tr><td>2037</td><td>3124736</td><td>0.3571784</td><td>19577.16</td></tr>\n",
       "\t<tr><td>2038</td><td>3143883</td><td>0.3611948</td><td>19146.95</td></tr>\n",
       "\t<tr><td>2039</td><td>3162371</td><td>0.3652564</td><td>18488.45</td></tr>\n",
       "\t<tr><td>2040</td><td>3180008</td><td>0.3693637</td><td>17637.24</td></tr>\n",
       "\t<tr><td>2041</td><td>3196679</td><td>0.3735172</td><td>16670.72</td></tr>\n",
       "\t<tr><td>2042</td><td>3212333</td><td>0.3777173</td><td>15654.29</td></tr>\n",
       "\t<tr><td>2043</td><td>3227009</td><td>0.3819647</td><td>14675.88</td></tr>\n",
       "\t<tr><td>2044</td><td>3240803</td><td>0.3862599</td><td>13794.00</td></tr>\n",
       "\t<tr><td>2045</td><td>3253794</td><td>0.3906034</td><td>12990.75</td></tr>\n",
       "</tbody>\n",
       "</table>\n"
      ],
      "text/markdown": "\nA tibble: 46 × 4\n\n| year &lt;dbl&gt; | viviendas &lt;dbl&gt; | tj_est &lt;dbl&gt; | dif_hog &lt;dbl&gt; |\n|---|---|---|---|\n| 2000 | 2180243 | 0.2504274 |       NA |\n| 2001 | 2202163 | 0.2514267 | 21919.98 |\n| 2002 | 2224303 | 0.2521969 | 22140.36 |\n| 2003 | 2246666 | 0.2530506 | 22362.96 |\n| 2004 | 2269254 | 0.2540693 | 22587.80 |\n| 2005 | 2292069 | 0.2553214 | 22814.89 |\n| 2006 | 2311045 | 0.2567331 | 18976.18 |\n| 2007 | 2330178 | 0.2585666 | 19133.28 |\n| 2008 | 2349470 | 0.2603956 | 19291.69 |\n| 2009 | 2368922 | 0.2623615 | 19451.41 |\n| 2010 | 2388534 | 0.2640971 | 19612.44 |\n| 2011 | 2429652 | 0.2677513 | 41117.58 |\n| 2012 | 2471477 | 0.2715261 | 41825.40 |\n| 2013 | 2514022 | 0.2756153 | 42545.40 |\n| 2014 | 2557300 | 0.2800599 | 43277.81 |\n| 2015 | 2601323 | 0.2842284 | 44022.81 |\n| 2016 | 2631609 | 0.2861428 | 30285.74 |\n| 2017 | 2662247 | 0.2879114 | 30638.34 |\n| 2018 | 2693242 | 0.2897122 | 30995.05 |\n| 2019 | 2724598 | 0.2916170 | 31355.90 |\n| 2020 | 2756319 | 0.2953433 | 31720.96 |\n| 2021 | 2769410 | 0.2986644 | 13091.45 |\n| 2022 | 2789980 | 0.3020229 | 20569.49 |\n| 2023 | 2816464 | 0.3054191 | 26484.26 |\n| 2024 | 2842693 | 0.3088535 | 26229.22 |\n| 2025 | 2868300 | 0.3123266 | 25606.89 |\n| 2026 | 2893071 | 0.3158386 | 24770.96 |\n| 2027 | 2916906 | 0.3193902 | 23834.72 |\n| 2028 | 2939824 | 0.3229817 | 22917.78 |\n| 2029 | 2961932 | 0.3266136 | 22108.03 |\n| 2030 | 2983380 | 0.3302864 | 21447.75 |\n| 2031 | 3004318 | 0.3340004 | 20938.01 |\n| 2032 | 3024877 | 0.3377562 | 20559.48 |\n| 2033 | 3045184 | 0.3415543 | 20307.24 |\n| 2034 | 3065319 | 0.3453950 | 20134.50 |\n| 2035 | 3085317 | 0.3492790 | 19998.29 |\n| 2036 | 3105159 | 0.3532066 | 19841.45 |\n| 2037 | 3124736 | 0.3571784 | 19577.16 |\n| 2038 | 3143883 | 0.3611948 | 19146.95 |\n| 2039 | 3162371 | 0.3652564 | 18488.45 |\n| 2040 | 3180008 | 0.3693637 | 17637.24 |\n| 2041 | 3196679 | 0.3735172 | 16670.72 |\n| 2042 | 3212333 | 0.3777173 | 15654.29 |\n| 2043 | 3227009 | 0.3819647 | 14675.88 |\n| 2044 | 3240803 | 0.3862599 | 13794.00 |\n| 2045 | 3253794 | 0.3906034 | 12990.75 |\n\n",
      "text/latex": "A tibble: 46 × 4\n\\begin{tabular}{llll}\n year & viviendas & tj\\_est & dif\\_hog\\\\\n <dbl> & <dbl> & <dbl> & <dbl>\\\\\n\\hline\n\t 2000 & 2180243 & 0.2504274 &       NA\\\\\n\t 2001 & 2202163 & 0.2514267 & 21919.98\\\\\n\t 2002 & 2224303 & 0.2521969 & 22140.36\\\\\n\t 2003 & 2246666 & 0.2530506 & 22362.96\\\\\n\t 2004 & 2269254 & 0.2540693 & 22587.80\\\\\n\t 2005 & 2292069 & 0.2553214 & 22814.89\\\\\n\t 2006 & 2311045 & 0.2567331 & 18976.18\\\\\n\t 2007 & 2330178 & 0.2585666 & 19133.28\\\\\n\t 2008 & 2349470 & 0.2603956 & 19291.69\\\\\n\t 2009 & 2368922 & 0.2623615 & 19451.41\\\\\n\t 2010 & 2388534 & 0.2640971 & 19612.44\\\\\n\t 2011 & 2429652 & 0.2677513 & 41117.58\\\\\n\t 2012 & 2471477 & 0.2715261 & 41825.40\\\\\n\t 2013 & 2514022 & 0.2756153 & 42545.40\\\\\n\t 2014 & 2557300 & 0.2800599 & 43277.81\\\\\n\t 2015 & 2601323 & 0.2842284 & 44022.81\\\\\n\t 2016 & 2631609 & 0.2861428 & 30285.74\\\\\n\t 2017 & 2662247 & 0.2879114 & 30638.34\\\\\n\t 2018 & 2693242 & 0.2897122 & 30995.05\\\\\n\t 2019 & 2724598 & 0.2916170 & 31355.90\\\\\n\t 2020 & 2756319 & 0.2953433 & 31720.96\\\\\n\t 2021 & 2769410 & 0.2986644 & 13091.45\\\\\n\t 2022 & 2789980 & 0.3020229 & 20569.49\\\\\n\t 2023 & 2816464 & 0.3054191 & 26484.26\\\\\n\t 2024 & 2842693 & 0.3088535 & 26229.22\\\\\n\t 2025 & 2868300 & 0.3123266 & 25606.89\\\\\n\t 2026 & 2893071 & 0.3158386 & 24770.96\\\\\n\t 2027 & 2916906 & 0.3193902 & 23834.72\\\\\n\t 2028 & 2939824 & 0.3229817 & 22917.78\\\\\n\t 2029 & 2961932 & 0.3266136 & 22108.03\\\\\n\t 2030 & 2983380 & 0.3302864 & 21447.75\\\\\n\t 2031 & 3004318 & 0.3340004 & 20938.01\\\\\n\t 2032 & 3024877 & 0.3377562 & 20559.48\\\\\n\t 2033 & 3045184 & 0.3415543 & 20307.24\\\\\n\t 2034 & 3065319 & 0.3453950 & 20134.50\\\\\n\t 2035 & 3085317 & 0.3492790 & 19998.29\\\\\n\t 2036 & 3105159 & 0.3532066 & 19841.45\\\\\n\t 2037 & 3124736 & 0.3571784 & 19577.16\\\\\n\t 2038 & 3143883 & 0.3611948 & 19146.95\\\\\n\t 2039 & 3162371 & 0.3652564 & 18488.45\\\\\n\t 2040 & 3180008 & 0.3693637 & 17637.24\\\\\n\t 2041 & 3196679 & 0.3735172 & 16670.72\\\\\n\t 2042 & 3212333 & 0.3777173 & 15654.29\\\\\n\t 2043 & 3227009 & 0.3819647 & 14675.88\\\\\n\t 2044 & 3240803 & 0.3862599 & 13794.00\\\\\n\t 2045 & 3253794 & 0.3906034 & 12990.75\\\\\n\\end{tabular}\n",
      "text/plain": [
       "   year viviendas tj_est    dif_hog \n",
       "1  2000 2180243   0.2504274       NA\n",
       "2  2001 2202163   0.2514267 21919.98\n",
       "3  2002 2224303   0.2521969 22140.36\n",
       "4  2003 2246666   0.2530506 22362.96\n",
       "5  2004 2269254   0.2540693 22587.80\n",
       "6  2005 2292069   0.2553214 22814.89\n",
       "7  2006 2311045   0.2567331 18976.18\n",
       "8  2007 2330178   0.2585666 19133.28\n",
       "9  2008 2349470   0.2603956 19291.69\n",
       "10 2009 2368922   0.2623615 19451.41\n",
       "11 2010 2388534   0.2640971 19612.44\n",
       "12 2011 2429652   0.2677513 41117.58\n",
       "13 2012 2471477   0.2715261 41825.40\n",
       "14 2013 2514022   0.2756153 42545.40\n",
       "15 2014 2557300   0.2800599 43277.81\n",
       "16 2015 2601323   0.2842284 44022.81\n",
       "17 2016 2631609   0.2861428 30285.74\n",
       "18 2017 2662247   0.2879114 30638.34\n",
       "19 2018 2693242   0.2897122 30995.05\n",
       "20 2019 2724598   0.2916170 31355.90\n",
       "21 2020 2756319   0.2953433 31720.96\n",
       "22 2021 2769410   0.2986644 13091.45\n",
       "23 2022 2789980   0.3020229 20569.49\n",
       "24 2023 2816464   0.3054191 26484.26\n",
       "25 2024 2842693   0.3088535 26229.22\n",
       "26 2025 2868300   0.3123266 25606.89\n",
       "27 2026 2893071   0.3158386 24770.96\n",
       "28 2027 2916906   0.3193902 23834.72\n",
       "29 2028 2939824   0.3229817 22917.78\n",
       "30 2029 2961932   0.3266136 22108.03\n",
       "31 2030 2983380   0.3302864 21447.75\n",
       "32 2031 3004318   0.3340004 20938.01\n",
       "33 2032 3024877   0.3377562 20559.48\n",
       "34 2033 3045184   0.3415543 20307.24\n",
       "35 2034 3065319   0.3453950 20134.50\n",
       "36 2035 3085317   0.3492790 19998.29\n",
       "37 2036 3105159   0.3532066 19841.45\n",
       "38 2037 3124736   0.3571784 19577.16\n",
       "39 2038 3143883   0.3611948 19146.95\n",
       "40 2039 3162371   0.3652564 18488.45\n",
       "41 2040 3180008   0.3693637 17637.24\n",
       "42 2041 3196679   0.3735172 16670.72\n",
       "43 2042 3212333   0.3777173 15654.29\n",
       "44 2043 3227009   0.3819647 14675.88\n",
       "45 2044 3240803   0.3862599 13794.00\n",
       "46 2045 3253794   0.3906034 12990.75"
      ]
     },
     "metadata": {},
     "output_type": "display_data"
    }
   ],
   "execution_count": 157
  },
  {
   "metadata": {
    "ExecuteTime": {
     "end_time": "2025-02-11T01:37:49.007538Z",
     "start_time": "2025-02-11T01:37:48.912945Z"
    }
   },
   "cell_type": "code",
   "source": [
    "#Graficar hog\n",
    "tj_final%>%\n",
    "ggplot(aes(x=year,y=viviendas))+geom_line()+labs(title=\"Proyección de viviendas en CDMX\",x=\"Año\",y=\"Viviendas\")"
   ],
   "id": "ebd4ef6feb16a3a",
   "outputs": [
    {
     "data": {
      "text/plain": [
       "plot without title"
      ],
      "image/png": "[encoded data removed]"
     },
     "metadata": {
      "image/png": {
       "width": 420,
       "height": 420
      }
     },
     "output_type": "display_data"
    }
   ],
   "execution_count": 162
  },
  {
   "metadata": {
    "ExecuteTime": {
     "end_time": "2025-02-11T01:39:17.498856Z",
     "start_time": "2025-02-11T01:39:17.393024Z"
    }
   },
   "cell_type": "code",
   "source": [
    "#Graficar diferencias de hogares\n",
    "tj_final%>%\n",
    "ggplot(aes(x=year,y=dif_hog))+geom_line()+labs(title=\"Diferencias de hogares en CDMX\",x=\"Año\",y=\"Diferencia de hogares\")"
   ],
   "id": "9aa6f837611acf2f",
   "outputs": [
    {
     "name": "stderr",
     "output_type": "stream",
     "text": [
      "Warning message:\n",
      "\"\u001B[1m\u001B[22mRemoved 1 row containing missing values or values outside the scale range\n",
      "(`geom_line()`).\"\n"
     ]
    },
    {
     "data": {
      "text/plain": [
       "plot without title"
      ],
      "image/png": "[encoded data removed]"
     },
     "metadata": {
      "image/png": {
       "width": 420,
       "height": 420
      }
     },
     "output_type": "display_data"
    }
   ],
   "execution_count": 163
  }
 ],
 "metadata": {
  "kernelspec": {
   "name": "ir",
   "language": "R",
   "display_name": "R"
  }
 },
 "nbformat": 5,
 "nbformat_minor": 9
}
