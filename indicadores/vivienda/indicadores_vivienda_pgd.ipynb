{
  "cells": [
    {
      "cell_type": "markdown",
      "metadata": {
        "id": "view-in-github",
        "colab_type": "text"
      },
      "source": [
        "<a href=\"https://colab.research.google.com/github/cpyp-ipdp/pgd_cdmx/blob/main/indicadores/vivienda/indicadores_vivienda_pgd.ipynb\" target=\"_parent\"><img src=\"https://colab.research.google.com/assets/colab-badge.svg\" alt=\"Open In Colab\"/></a>"
      ]
    },
    {
      "metadata": {
        "id": "e446b748f7e7c90e"
      },
      "cell_type": "markdown",
      "source": [
        "### Estimación de indicadores de vivienda para el Plan General de Desarrollo de la Ciudad de México\n",
        "\n",
        "En este script se descargan los microdatos de la Encuesta Nacional de Ingresos y Gastos de los Hogares (ENIGH) para los años 2016, 2018, 2020 y 2022. Posteriormente, se estiman dos indicadores de vivienda para la Ciudad de México: rezago habitacional y viviendas sin escrituras. Los resultados se presentan en dos cuadros."
      ],
      "id": "e446b748f7e7c90e"
    },
    {
      "cell_type": "code",
      "id": "initial_id",
      "metadata": {
        "collapsed": true,
        "ExecuteTime": {
          "end_time": "2025-01-24T08:56:44.902446Z",
          "start_time": "2025-01-24T08:56:41.502324Z"
        },
        "id": "initial_id",
        "outputId": "e20886c0-380a-4049-ab16-2c9bc6dfbd53"
      },
      "source": [
        "##Estimación de indicadores de vivienda\n",
        "#Se borra todo lo que se encuentra en el entorno\n",
        "\n",
        "rm(list=ls())\n",
        "\n",
        "# Librerías ====\n",
        "if(!require('pacman')) install.packages('pacman')\n",
        "pacman::p_load(tidyverse, showtext, srvyr,archive)"
      ],
      "outputs": [
        {
          "name": "stderr",
          "output_type": "stream",
          "text": [
            "Loading required package: pacman\n",
            "\n"
          ]
        }
      ],
      "execution_count": null
    },
    {
      "metadata": {
        "ExecuteTime": {
          "end_time": "2025-01-24T08:56:44.945807Z",
          "start_time": "2025-01-24T08:56:44.913573Z"
        },
        "id": "9aa368e34821e8e1"
      },
      "cell_type": "code",
      "source": [
        "#Crear directorio para guardar los archivos\n",
        "dir.create(\"data\", showWarnings = FALSE)"
      ],
      "id": "9aa368e34821e8e1",
      "outputs": [],
      "execution_count": null
    },
    {
      "metadata": {
        "ExecuteTime": {
          "end_time": "2025-01-24T08:56:44.971971Z",
          "start_time": "2025-01-24T08:56:44.959507Z"
        },
        "id": "f20f9e705a143bce"
      },
      "cell_type": "code",
      "source": [
        "url_basica<-\"https://www.inegi.org.mx/contenidos/programas/enigh/nc/\"\n",
        "segunda_parte<-\"microdatos/enigh\"\n",
        "fin<-\"_ns_viviendas_csv.zip\""
      ],
      "id": "f20f9e705a143bce",
      "outputs": [],
      "execution_count": null
    },
    {
      "metadata": {
        "ExecuteTime": {
          "end_time": "2025-01-24T08:56:45.033854Z",
          "start_time": "2025-01-24T08:56:45.023185Z"
        },
        "id": "2a2a7cd7419394ac"
      },
      "cell_type": "code",
      "source": [
        "years<-c(\"2016\", \"2018\", \"2020\", \"2022\")"
      ],
      "id": "2a2a7cd7419394ac",
      "outputs": [],
      "execution_count": null
    },
    {
      "metadata": {
        "ExecuteTime": {
          "end_time": "2025-01-24T08:56:52.610531Z",
          "start_time": "2025-01-24T08:56:45.047642Z"
        },
        "id": "854a59a424f73935"
      },
      "cell_type": "code",
      "source": [
        "# Descargar los archivos, descomprimirlos y renombrarlos\n",
        "for (i in 1:length(years)) {\n",
        "  url <- paste0(url_basica, years[i], \"/\", segunda_parte, years[i], fin)\n",
        "  destfile <- paste0(\"data/\", years[i], fin)\n",
        "\n",
        "  # Descargar el archivo\n",
        "  download.file(url, destfile = destfile)\n",
        "\n",
        "  # Descomprimir el archivo\n",
        "  unzip(destfile, exdir = \"data\")\n",
        "\n",
        "  # Renombrar el archivo descomprimido a \"viviendas_xxxx.csv\"\n",
        "  file.rename(\n",
        "    from = \"data/viviendas.csv\",\n",
        "    to = paste0(\"data/viviendas_\", years[i], \".csv\")\n",
        "  )\n",
        "}"
      ],
      "id": "854a59a424f73935",
      "outputs": [],
      "execution_count": null
    },
    {
      "metadata": {
        "id": "88d2dd45a9ce0b2c"
      },
      "cell_type": "markdown",
      "source": [
        "### Función de estimación"
      ],
      "id": "88d2dd45a9ce0b2c"
    },
    {
      "metadata": {
        "ExecuteTime": {
          "end_time": "2025-01-24T08:56:52.631906Z",
          "start_time": "2025-01-24T08:56:52.621962Z"
        },
        "id": "f5e298e3e532ea04"
      },
      "cell_type": "code",
      "source": [
        "estimacion <- function(path, variable) {\n",
        "  # Cargar los datos\n",
        "  datos <- read_csv(path)\n",
        "\n",
        "  datos <- datos %>%\n",
        "    mutate(\n",
        "      across(starts_with(\"mat\") & where(is.character),\n",
        "             ~ replace_na(parse_number(.x, na = c('', 'NA', '&')), 0)),\n",
        "      rezago = if_else(\n",
        "        ((tot_resid / num_cuarto) > 2.5) |\n",
        "          (mat_pared %in% 1:6) |\n",
        "          (mat_techos %in% c(1:4, 6, 7, 9)) |\n",
        "          (mat_pisos == 1) |\n",
        "          (excusado == 2),\n",
        "        \"En rezago\",\n",
        "        \"Fuera de rezago\"\n",
        "      )\n",
        "    ) %>%\n",
        "    mutate(cve_ent = case_when(\n",
        "      nchar(folioviv) == 9  ~ paste0(\"0\", substr(folioviv, 1, 1)),\n",
        "      nchar(folioviv) == 10 ~ substr(folioviv, 1, 2)\n",
        "    )) %>%\n",
        "    # Filtrar si entidad es 9\n",
        "  filter(cve_ent == \"09\")\n",
        "\n",
        "  # Definir diseño muestral\n",
        "  mydesign <- datos %>%\n",
        "    as_survey_design(ids = upm,\n",
        "                     strata = est_dis,\n",
        "                     weights = factor)\n",
        "\n",
        "  # Estimar rezago habitacional\n",
        "  rezago <- mydesign %>%\n",
        "    group_by(rezago) %>%\n",
        "    summarise(\n",
        "      viviendas = survey_total(vartype = \"cv\"),\n",
        "      pct = survey_prop(vartype = \"cv\")\n",
        "    ) %>%\n",
        "    mutate(pct = round(pct * 100, 2)) %>%\n",
        "    filter(rezago == \"En rezago\") %>%\n",
        "    # Añadir año\n",
        "    mutate(year = substr(path, 16, 19))\n",
        "\n",
        "\n",
        "\n",
        "  # Estimar viviendas sin escrituras\n",
        "  escrituras <- mydesign %>%\n",
        "    filter(tenencia %in% c(3,4)) %>%\n",
        "group_by(escrituras) %>%\n",
        "    summarise(\n",
        "      viviendas = survey_total(vartype = \"cv\"),\n",
        "      pct = survey_prop(vartype = \"cv\")\n",
        "    ) %>%\n",
        "    filter(escrituras == 3) %>%\n",
        "    mutate(pct = round(pct * 100, 2),\n",
        "           escrituras = case_when(\n",
        "        escrituras == 3 ~ \"Sin escrituras\"\n",
        "))%>%\n",
        "mutate(year = substr(path, 16, 19))\n",
        "\n",
        "\n",
        "#Hogares en la vivienda\n",
        "\n",
        "hogares<-mydesign %>%\n",
        "summarise(\n",
        "    hogares=survey_total(tot_hog, vartype = \"cv\")\n",
        "    ) %>%\n",
        "mutate(year = substr(path, 16, 19))\n",
        "\n",
        "\n",
        "\n",
        "\n",
        "\n",
        "##Hogares hacinamiento\n",
        "\n",
        "hogares_hac<-mydesign %>%\n",
        "#Identificar hacinamiento\n",
        "mutate(hacinamiento=ifelse((tot_resid/num_cuarto)>2.5,1,0))%>%\n",
        "#filtrar hacinamiento\n",
        "#filter(hacinamiento==1)%>%\n",
        "group_by(hacinamiento)%>%\n",
        "summarise(\n",
        "    hogares_hac=survey_total(vartype = \"cv\"),\n",
        "    pct=survey_prop(vartype = \"cv\")\n",
        "    ) %>%\n",
        "mutate(year = substr(path, 16, 19))%>%\n",
        "mutate(pct=round(pct*100,2))\n",
        "\n",
        "\n",
        "\n",
        "\n",
        "\n",
        "\n",
        "#Hog hacinamiento no propietarios\n",
        "hogares_hac_no_prop<-mydesign%>%\n",
        "#Identificar hacinamiento\n",
        "mutate(hacinamiento=ifelse((tot_resid/num_cuarto)>2.5,1,0))%>%\n",
        "mutate(ten_vivi=case_when(tenencia==3 | tenencia==4 ~ \"Propietarios\",\n",
        "            TRUE ~ \"No propietarios\"))%>%\n",
        "#filtrar hacinamiento\n",
        "filter(hacinamiento==1)%>%\n",
        "group_by(ten_vivi)%>%\n",
        "#Contar hogares con hacinamiento\n",
        "summarise(\n",
        "    hogares_hac=survey_prop(vartype = \"cv\")\n",
        "    ) %>%\n",
        "ungroup()%>%\n",
        "mutate(year = as.integer(substr(path, 16, 19)))%>%\n",
        "filter(ten_vivi==\"No propietarios\")%>%\n",
        "mutate(hogares_hac=round(hogares_hac*100,2))\n",
        "\n",
        "\n",
        "\n",
        "  # Devolver el resultado basado en la variable\n",
        "  if (variable == \"rezago\") {\n",
        "    return(rezago)\n",
        "  } else if (variable == \"sin_escrituras\") {\n",
        "    return(escrituras)\n",
        "  }\n",
        "else if (variable == \"hogares\") {\n",
        "    return(hogares)\n",
        "  }\n",
        "  else if (variable == \"hogares_hac_no_prop\") {\n",
        "    return(hogares_hac_no_prop)\n",
        "}\n",
        "else if (variable == \"hogares_hac\") {\n",
        "    return(hogares_hac)\n",
        "\n",
        "  }\n",
        "\n",
        "else {\n",
        "    stop(\"Variable no reconocida. Use 'rezago' o 'sin_escrituras'.\")\n",
        "  }}\n"
      ],
      "id": "f5e298e3e532ea04",
      "outputs": [],
      "execution_count": null
    },
    {
      "metadata": {
        "ExecuteTime": {
          "end_time": "2025-01-24T08:56:55.685307Z",
          "start_time": "2025-01-24T08:56:52.687359Z"
        },
        "id": "830dd86ff956b74a",
        "outputId": "8aaa4614-67ca-43f0-ba06-a41d8b0fb624"
      },
      "cell_type": "code",
      "source": [
        "#Construir cuadros de rezago habitacional\n",
        "\n",
        "tabla_rezago<-map_dfr(\n",
        "  list.files(\"data\", full.names = TRUE, pattern = \"viviendas_.*.csv\"),\n",
        "  estimacion,\n",
        "  variable = \"rezago\"\n",
        ")\n",
        "print(\"Porcentaje de viviendas cuyos habitantes viven en rezago habitacional\")\n",
        "tabla_rezago\n"
      ],
      "id": "830dd86ff956b74a",
      "outputs": [
        {
          "name": "stderr",
          "output_type": "stream",
          "text": [
            "Warning message:\n",
            "\"\u001b[1m\u001b[22mOne or more parsing issues, call `problems()` on your data frame for details,\n",
            "e.g.:\n",
            "  dat <- vroom(...)\n",
            "  problems(dat)\"\n",
            "\u001b[1mRows: \u001b[22m\u001b[34m69169\u001b[39m \u001b[1mColumns: \u001b[22m\u001b[34m64\u001b[39m\n",
            "\u001b[36m──\u001b[39m \u001b[1mColumn specification\u001b[22m \u001b[36m────────────────────────────────────────────────────────\u001b[39m\n",
            "\u001b[1mDelimiter:\u001b[22m \",\"\n",
            "\u001b[31mchr\u001b[39m (10): folioviv, tipo_viv, mat_techos, tipo_finan, num_dueno1, num_dueno2...\n",
            "\u001b[32mdbl\u001b[39m (54): mat_pared, mat_pisos, antiguedad, antigua_ne, cocina, cocina_dor, ...\n",
            "\n",
            "\u001b[36mℹ\u001b[39m Use `spec()` to retrieve the full column specification for this data.\n",
            "\u001b[36mℹ\u001b[39m Specify the column types or set `show_col_types = FALSE` to quiet this message.\n",
            "Warning message:\n",
            "\"\u001b[1m\u001b[22mOne or more parsing issues, call `problems()` on your data frame for details,\n",
            "e.g.:\n",
            "  dat <- vroom(...)\n",
            "  problems(dat)\"\n",
            "\u001b[1mRows: \u001b[22m\u001b[34m73405\u001b[39m \u001b[1mColumns: \u001b[22m\u001b[34m64\u001b[39m\n",
            "\u001b[36m──\u001b[39m \u001b[1mColumn specification\u001b[22m \u001b[36m────────────────────────────────────────────────────────\u001b[39m\n",
            "\u001b[1mDelimiter:\u001b[22m \",\"\n",
            "\u001b[31mchr\u001b[39m  (9): folioviv, tipo_viv, mat_techos, tipo_finan, num_dueno1, num_dueno2...\n",
            "\u001b[32mdbl\u001b[39m (55): mat_pared, mat_pisos, antiguedad, antigua_ne, cocina, cocina_dor, ...\n",
            "\n",
            "\u001b[36mℹ\u001b[39m Use `spec()` to retrieve the full column specification for this data.\n",
            "\u001b[36mℹ\u001b[39m Specify the column types or set `show_col_types = FALSE` to quiet this message.\n",
            "Warning message:\n",
            "\"\u001b[1m\u001b[22mOne or more parsing issues, call `problems()` on your data frame for details,\n",
            "e.g.:\n",
            "  dat <- vroom(...)\n",
            "  problems(dat)\"\n",
            "\u001b[1mRows: \u001b[22m\u001b[34m87754\u001b[39m \u001b[1mColumns: \u001b[22m\u001b[34m64\u001b[39m\n",
            "\u001b[36m──\u001b[39m \u001b[1mColumn specification\u001b[22m \u001b[36m────────────────────────────────────────────────────────\u001b[39m\n",
            "\u001b[1mDelimiter:\u001b[22m \",\"\n",
            "\u001b[31mchr\u001b[39m  (9): folioviv, tipo_viv, mat_techos, tipo_finan, num_dueno1, num_dueno2...\n",
            "\u001b[32mdbl\u001b[39m (55): mat_pared, mat_pisos, antiguedad, antigua_ne, cocina, cocina_dor, ...\n",
            "\n",
            "\u001b[36mℹ\u001b[39m Use `spec()` to retrieve the full column specification for this data.\n",
            "\u001b[36mℹ\u001b[39m Specify the column types or set `show_col_types = FALSE` to quiet this message.\n",
            "Warning message:\n",
            "\"\u001b[1m\u001b[22mOne or more parsing issues, call `problems()` on your data frame for details,\n",
            "e.g.:\n",
            "  dat <- vroom(...)\n",
            "  problems(dat)\"\n",
            "\u001b[1mRows: \u001b[22m\u001b[34m88823\u001b[39m \u001b[1mColumns: \u001b[22m\u001b[34m64\u001b[39m\n",
            "\u001b[36m──\u001b[39m \u001b[1mColumn specification\u001b[22m \u001b[36m────────────────────────────────────────────────────────\u001b[39m\n",
            "\u001b[1mDelimiter:\u001b[22m \",\"\n",
            "\u001b[31mchr\u001b[39m  (9): folioviv, tipo_viv, mat_techos, tipo_finan, num_dueno1, num_dueno2...\n",
            "\u001b[32mdbl\u001b[39m (55): mat_pared, mat_pisos, antiguedad, antigua_ne, cocina, cocina_dor, ...\n",
            "\n",
            "\u001b[36mℹ\u001b[39m Use `spec()` to retrieve the full column specification for this data.\n",
            "\u001b[36mℹ\u001b[39m Specify the column types or set `show_col_types = FALSE` to quiet this message.\n"
          ]
        },
        {
          "name": "stdout",
          "output_type": "stream",
          "text": [
            "[1] \"Porcentaje de viviendas cuyos habitantes viven en rezago habitacional\"\n"
          ]
        },
        {
          "data": {
            "text/html": [
              "<table class=\"dataframe\">\n",
              "<caption>A tibble: 4 × 6</caption>\n",
              "<thead>\n",
              "\t<tr><th scope=col>rezago</th><th scope=col>viviendas</th><th scope=col>viviendas_cv</th><th scope=col>pct</th><th scope=col>pct_cv</th><th scope=col>year</th></tr>\n",
              "\t<tr><th scope=col>&lt;chr&gt;</th><th scope=col>&lt;dbl&gt;</th><th scope=col>&lt;dbl&gt;</th><th scope=col>&lt;dbl&gt;</th><th scope=col>&lt;dbl&gt;</th><th scope=col>&lt;chr&gt;</th></tr>\n",
              "</thead>\n",
              "<tbody>\n",
              "\t<tr><td>En rezago</td><td>272200</td><td>0.08809435</td><td>9.81</td><td>0.08684886</td><td>2016</td></tr>\n",
              "\t<tr><td>En rezago</td><td>218501</td><td>0.08906203</td><td>8.02</td><td>0.08727815</td><td>2018</td></tr>\n",
              "\t<tr><td>En rezago</td><td>198021</td><td>0.08360376</td><td>7.31</td><td>0.08292165</td><td>2020</td></tr>\n",
              "\t<tr><td>En rezago</td><td>175242</td><td>0.09933936</td><td>5.94</td><td>0.09870452</td><td>2022</td></tr>\n",
              "</tbody>\n",
              "</table>\n"
            ],
            "text/markdown": "\nA tibble: 4 × 6\n\n| rezago &lt;chr&gt; | viviendas &lt;dbl&gt; | viviendas_cv &lt;dbl&gt; | pct &lt;dbl&gt; | pct_cv &lt;dbl&gt; | year &lt;chr&gt; |\n|---|---|---|---|---|---|\n| En rezago | 272200 | 0.08809435 | 9.81 | 0.08684886 | 2016 |\n| En rezago | 218501 | 0.08906203 | 8.02 | 0.08727815 | 2018 |\n| En rezago | 198021 | 0.08360376 | 7.31 | 0.08292165 | 2020 |\n| En rezago | 175242 | 0.09933936 | 5.94 | 0.09870452 | 2022 |\n\n",
            "text/latex": "A tibble: 4 × 6\n\\begin{tabular}{llllll}\n rezago & viviendas & viviendas\\_cv & pct & pct\\_cv & year\\\\\n <chr> & <dbl> & <dbl> & <dbl> & <dbl> & <chr>\\\\\n\\hline\n\t En rezago & 272200 & 0.08809435 & 9.81 & 0.08684886 & 2016\\\\\n\t En rezago & 218501 & 0.08906203 & 8.02 & 0.08727815 & 2018\\\\\n\t En rezago & 198021 & 0.08360376 & 7.31 & 0.08292165 & 2020\\\\\n\t En rezago & 175242 & 0.09933936 & 5.94 & 0.09870452 & 2022\\\\\n\\end{tabular}\n",
            "text/plain": [
              "  rezago    viviendas viviendas_cv pct  pct_cv     year\n",
              "1 En rezago 272200    0.08809435   9.81 0.08684886 2016\n",
              "2 En rezago 218501    0.08906203   8.02 0.08727815 2018\n",
              "3 En rezago 198021    0.08360376   7.31 0.08292165 2020\n",
              "4 En rezago 175242    0.09933936   5.94 0.09870452 2022"
            ]
          },
          "metadata": {},
          "output_type": "display_data"
        }
      ],
      "execution_count": null
    },
    {
      "metadata": {
        "ExecuteTime": {
          "end_time": "2025-01-24T08:56:57.990642Z",
          "start_time": "2025-01-24T08:56:55.719870Z"
        },
        "id": "f7420f59e5cbff5c",
        "outputId": "d1ba04e6-d4ce-4c5b-b937-2028e1e91ac6"
      },
      "cell_type": "code",
      "source": [
        "#Construir cuadros de viviendas sin escrituras\n",
        "#Viviendas sin escrituras corresponden a viviendas propias y propias que se están pagando y no cuentan con escrituras\n",
        "\n",
        "tabla_escrituras<-map_dfr(\n",
        "    list.files(\"data\", full.names = TRUE, pattern = \"viviendas_.*.csv\"),\n",
        "    estimacion,\n",
        "    variable = \"sin_escrituras\"\n",
        "    )\n",
        "print(\"Porcentaje de viviviendas propias o propias en proceso de pago que no cuentan con escrituras\")\n",
        "tabla_escrituras"
      ],
      "id": "f7420f59e5cbff5c",
      "outputs": [
        {
          "name": "stderr",
          "output_type": "stream",
          "text": [
            "Warning message:\n",
            "\"\u001b[1m\u001b[22mOne or more parsing issues, call `problems()` on your data frame for details,\n",
            "e.g.:\n",
            "  dat <- vroom(...)\n",
            "  problems(dat)\"\n",
            "\u001b[1mRows: \u001b[22m\u001b[34m69169\u001b[39m \u001b[1mColumns: \u001b[22m\u001b[34m64\u001b[39m\n",
            "\u001b[36m──\u001b[39m \u001b[1mColumn specification\u001b[22m \u001b[36m────────────────────────────────────────────────────────\u001b[39m\n",
            "\u001b[1mDelimiter:\u001b[22m \",\"\n",
            "\u001b[31mchr\u001b[39m (10): folioviv, tipo_viv, mat_techos, tipo_finan, num_dueno1, num_dueno2...\n",
            "\u001b[32mdbl\u001b[39m (54): mat_pared, mat_pisos, antiguedad, antigua_ne, cocina, cocina_dor, ...\n",
            "\n",
            "\u001b[36mℹ\u001b[39m Use `spec()` to retrieve the full column specification for this data.\n",
            "\u001b[36mℹ\u001b[39m Specify the column types or set `show_col_types = FALSE` to quiet this message.\n",
            "Warning message:\n",
            "\"\u001b[1m\u001b[22mOne or more parsing issues, call `problems()` on your data frame for details,\n",
            "e.g.:\n",
            "  dat <- vroom(...)\n",
            "  problems(dat)\"\n",
            "\u001b[1mRows: \u001b[22m\u001b[34m73405\u001b[39m \u001b[1mColumns: \u001b[22m\u001b[34m64\u001b[39m\n",
            "\u001b[36m──\u001b[39m \u001b[1mColumn specification\u001b[22m \u001b[36m────────────────────────────────────────────────────────\u001b[39m\n",
            "\u001b[1mDelimiter:\u001b[22m \",\"\n",
            "\u001b[31mchr\u001b[39m  (9): folioviv, tipo_viv, mat_techos, tipo_finan, num_dueno1, num_dueno2...\n",
            "\u001b[32mdbl\u001b[39m (55): mat_pared, mat_pisos, antiguedad, antigua_ne, cocina, cocina_dor, ...\n",
            "\n",
            "\u001b[36mℹ\u001b[39m Use `spec()` to retrieve the full column specification for this data.\n",
            "\u001b[36mℹ\u001b[39m Specify the column types or set `show_col_types = FALSE` to quiet this message.\n",
            "Warning message:\n",
            "\"\u001b[1m\u001b[22mOne or more parsing issues, call `problems()` on your data frame for details,\n",
            "e.g.:\n",
            "  dat <- vroom(...)\n",
            "  problems(dat)\"\n",
            "\u001b[1mRows: \u001b[22m\u001b[34m87754\u001b[39m \u001b[1mColumns: \u001b[22m\u001b[34m64\u001b[39m\n",
            "\u001b[36m──\u001b[39m \u001b[1mColumn specification\u001b[22m \u001b[36m────────────────────────────────────────────────────────\u001b[39m\n",
            "\u001b[1mDelimiter:\u001b[22m \",\"\n",
            "\u001b[31mchr\u001b[39m  (9): folioviv, tipo_viv, mat_techos, tipo_finan, num_dueno1, num_dueno2...\n",
            "\u001b[32mdbl\u001b[39m (55): mat_pared, mat_pisos, antiguedad, antigua_ne, cocina, cocina_dor, ...\n",
            "\n",
            "\u001b[36mℹ\u001b[39m Use `spec()` to retrieve the full column specification for this data.\n",
            "\u001b[36mℹ\u001b[39m Specify the column types or set `show_col_types = FALSE` to quiet this message.\n",
            "Warning message:\n",
            "\"\u001b[1m\u001b[22mOne or more parsing issues, call `problems()` on your data frame for details,\n",
            "e.g.:\n",
            "  dat <- vroom(...)\n",
            "  problems(dat)\"\n",
            "\u001b[1mRows: \u001b[22m\u001b[34m88823\u001b[39m \u001b[1mColumns: \u001b[22m\u001b[34m64\u001b[39m\n",
            "\u001b[36m──\u001b[39m \u001b[1mColumn specification\u001b[22m \u001b[36m────────────────────────────────────────────────────────\u001b[39m\n",
            "\u001b[1mDelimiter:\u001b[22m \",\"\n",
            "\u001b[31mchr\u001b[39m  (9): folioviv, tipo_viv, mat_techos, tipo_finan, num_dueno1, num_dueno2...\n",
            "\u001b[32mdbl\u001b[39m (55): mat_pared, mat_pisos, antiguedad, antigua_ne, cocina, cocina_dor, ...\n",
            "\n",
            "\u001b[36mℹ\u001b[39m Use `spec()` to retrieve the full column specification for this data.\n",
            "\u001b[36mℹ\u001b[39m Specify the column types or set `show_col_types = FALSE` to quiet this message.\n"
          ]
        },
        {
          "name": "stdout",
          "output_type": "stream",
          "text": [
            "[1] \"Porcentaje de viviviendas propias o propias en proceso de pago que no cuentan con escrituras\"\n"
          ]
        },
        {
          "data": {
            "text/html": [
              "<table class=\"dataframe\">\n",
              "<caption>A tibble: 4 × 6</caption>\n",
              "<thead>\n",
              "\t<tr><th scope=col>escrituras</th><th scope=col>viviendas</th><th scope=col>viviendas_cv</th><th scope=col>pct</th><th scope=col>pct_cv</th><th scope=col>year</th></tr>\n",
              "\t<tr><th scope=col>&lt;chr&gt;</th><th scope=col>&lt;dbl&gt;</th><th scope=col>&lt;dbl&gt;</th><th scope=col>&lt;dbl&gt;</th><th scope=col>&lt;dbl&gt;</th><th scope=col>&lt;chr&gt;</th></tr>\n",
              "</thead>\n",
              "<tbody>\n",
              "\t<tr><td>Sin escrituras</td><td>266547</td><td>0.08646642</td><td>17.71</td><td>0.08298775</td><td>2016</td></tr>\n",
              "\t<tr><td>Sin escrituras</td><td>246283</td><td>0.09985847</td><td>17.22</td><td>0.09461881</td><td>2018</td></tr>\n",
              "\t<tr><td>Sin escrituras</td><td>259056</td><td>0.09464920</td><td>16.23</td><td>0.08765464</td><td>2020</td></tr>\n",
              "\t<tr><td>Sin escrituras</td><td>310191</td><td>0.08428046</td><td>17.63</td><td>0.07835935</td><td>2022</td></tr>\n",
              "</tbody>\n",
              "</table>\n"
            ],
            "text/markdown": "\nA tibble: 4 × 6\n\n| escrituras &lt;chr&gt; | viviendas &lt;dbl&gt; | viviendas_cv &lt;dbl&gt; | pct &lt;dbl&gt; | pct_cv &lt;dbl&gt; | year &lt;chr&gt; |\n|---|---|---|---|---|---|\n| Sin escrituras | 266547 | 0.08646642 | 17.71 | 0.08298775 | 2016 |\n| Sin escrituras | 246283 | 0.09985847 | 17.22 | 0.09461881 | 2018 |\n| Sin escrituras | 259056 | 0.09464920 | 16.23 | 0.08765464 | 2020 |\n| Sin escrituras | 310191 | 0.08428046 | 17.63 | 0.07835935 | 2022 |\n\n",
            "text/latex": "A tibble: 4 × 6\n\\begin{tabular}{llllll}\n escrituras & viviendas & viviendas\\_cv & pct & pct\\_cv & year\\\\\n <chr> & <dbl> & <dbl> & <dbl> & <dbl> & <chr>\\\\\n\\hline\n\t Sin escrituras & 266547 & 0.08646642 & 17.71 & 0.08298775 & 2016\\\\\n\t Sin escrituras & 246283 & 0.09985847 & 17.22 & 0.09461881 & 2018\\\\\n\t Sin escrituras & 259056 & 0.09464920 & 16.23 & 0.08765464 & 2020\\\\\n\t Sin escrituras & 310191 & 0.08428046 & 17.63 & 0.07835935 & 2022\\\\\n\\end{tabular}\n",
            "text/plain": [
              "  escrituras     viviendas viviendas_cv pct   pct_cv     year\n",
              "1 Sin escrituras 266547    0.08646642   17.71 0.08298775 2016\n",
              "2 Sin escrituras 246283    0.09985847   17.22 0.09461881 2018\n",
              "3 Sin escrituras 259056    0.09464920   16.23 0.08765464 2020\n",
              "4 Sin escrituras 310191    0.08428046   17.63 0.07835935 2022"
            ]
          },
          "metadata": {},
          "output_type": "display_data"
        }
      ],
      "execution_count": null
    },
    {
      "metadata": {
        "ExecuteTime": {
          "end_time": "2025-01-24T08:57:00.236211Z",
          "start_time": "2025-01-24T08:56:58.021718Z"
        },
        "id": "73e9a224b0bbe1a",
        "outputId": "7868b299-2a15-4325-c5d8-12c35032dc51"
      },
      "cell_type": "code",
      "source": [
        "tabla_hogares<-map_dfr(\n",
        "    list.files(\"data\", full.names = TRUE, pattern = \"viviendas_.*.csv\"),\n",
        "    estimacion,\n",
        "    variable = \"hogares\"\n",
        "    )%>%\n",
        "mutate(\n",
        "  year = as.integer(year),\n",
        "tasa_crec=(hogares/lag(hogares)-1)*100)\n",
        "tabla_hogares"
      ],
      "id": "73e9a224b0bbe1a",
      "outputs": [
        {
          "name": "stderr",
          "output_type": "stream",
          "text": [
            "Warning message:\n",
            "\"\u001b[1m\u001b[22mOne or more parsing issues, call `problems()` on your data frame for details,\n",
            "e.g.:\n",
            "  dat <- vroom(...)\n",
            "  problems(dat)\"\n",
            "\u001b[1mRows: \u001b[22m\u001b[34m69169\u001b[39m \u001b[1mColumns: \u001b[22m\u001b[34m64\u001b[39m\n",
            "\u001b[36m──\u001b[39m \u001b[1mColumn specification\u001b[22m \u001b[36m────────────────────────────────────────────────────────\u001b[39m\n",
            "\u001b[1mDelimiter:\u001b[22m \",\"\n",
            "\u001b[31mchr\u001b[39m (10): folioviv, tipo_viv, mat_techos, tipo_finan, num_dueno1, num_dueno2...\n",
            "\u001b[32mdbl\u001b[39m (54): mat_pared, mat_pisos, antiguedad, antigua_ne, cocina, cocina_dor, ...\n",
            "\n",
            "\u001b[36mℹ\u001b[39m Use `spec()` to retrieve the full column specification for this data.\n",
            "\u001b[36mℹ\u001b[39m Specify the column types or set `show_col_types = FALSE` to quiet this message.\n",
            "Warning message:\n",
            "\"\u001b[1m\u001b[22mOne or more parsing issues, call `problems()` on your data frame for details,\n",
            "e.g.:\n",
            "  dat <- vroom(...)\n",
            "  problems(dat)\"\n",
            "\u001b[1mRows: \u001b[22m\u001b[34m73405\u001b[39m \u001b[1mColumns: \u001b[22m\u001b[34m64\u001b[39m\n",
            "\u001b[36m──\u001b[39m \u001b[1mColumn specification\u001b[22m \u001b[36m────────────────────────────────────────────────────────\u001b[39m\n",
            "\u001b[1mDelimiter:\u001b[22m \",\"\n",
            "\u001b[31mchr\u001b[39m  (9): folioviv, tipo_viv, mat_techos, tipo_finan, num_dueno1, num_dueno2...\n",
            "\u001b[32mdbl\u001b[39m (55): mat_pared, mat_pisos, antiguedad, antigua_ne, cocina, cocina_dor, ...\n",
            "\n",
            "\u001b[36mℹ\u001b[39m Use `spec()` to retrieve the full column specification for this data.\n",
            "\u001b[36mℹ\u001b[39m Specify the column types or set `show_col_types = FALSE` to quiet this message.\n",
            "Warning message:\n",
            "\"\u001b[1m\u001b[22mOne or more parsing issues, call `problems()` on your data frame for details,\n",
            "e.g.:\n",
            "  dat <- vroom(...)\n",
            "  problems(dat)\"\n",
            "\u001b[1mRows: \u001b[22m\u001b[34m87754\u001b[39m \u001b[1mColumns: \u001b[22m\u001b[34m64\u001b[39m\n",
            "\u001b[36m──\u001b[39m \u001b[1mColumn specification\u001b[22m \u001b[36m────────────────────────────────────────────────────────\u001b[39m\n",
            "\u001b[1mDelimiter:\u001b[22m \",\"\n",
            "\u001b[31mchr\u001b[39m  (9): folioviv, tipo_viv, mat_techos, tipo_finan, num_dueno1, num_dueno2...\n",
            "\u001b[32mdbl\u001b[39m (55): mat_pared, mat_pisos, antiguedad, antigua_ne, cocina, cocina_dor, ...\n",
            "\n",
            "\u001b[36mℹ\u001b[39m Use `spec()` to retrieve the full column specification for this data.\n",
            "\u001b[36mℹ\u001b[39m Specify the column types or set `show_col_types = FALSE` to quiet this message.\n",
            "Warning message:\n",
            "\"\u001b[1m\u001b[22mOne or more parsing issues, call `problems()` on your data frame for details,\n",
            "e.g.:\n",
            "  dat <- vroom(...)\n",
            "  problems(dat)\"\n",
            "\u001b[1mRows: \u001b[22m\u001b[34m88823\u001b[39m \u001b[1mColumns: \u001b[22m\u001b[34m64\u001b[39m\n",
            "\u001b[36m──\u001b[39m \u001b[1mColumn specification\u001b[22m \u001b[36m────────────────────────────────────────────────────────\u001b[39m\n",
            "\u001b[1mDelimiter:\u001b[22m \",\"\n",
            "\u001b[31mchr\u001b[39m  (9): folioviv, tipo_viv, mat_techos, tipo_finan, num_dueno1, num_dueno2...\n",
            "\u001b[32mdbl\u001b[39m (55): mat_pared, mat_pisos, antiguedad, antigua_ne, cocina, cocina_dor, ...\n",
            "\n",
            "\u001b[36mℹ\u001b[39m Use `spec()` to retrieve the full column specification for this data.\n",
            "\u001b[36mℹ\u001b[39m Specify the column types or set `show_col_types = FALSE` to quiet this message.\n"
          ]
        },
        {
          "data": {
            "text/html": [
              "<table class=\"dataframe\">\n",
              "<caption>A tibble: 4 × 4</caption>\n",
              "<thead>\n",
              "\t<tr><th scope=col>hogares</th><th scope=col>hogares_cv</th><th scope=col>year</th><th scope=col>tasa_crec</th></tr>\n",
              "\t<tr><th scope=col>&lt;dbl&gt;</th><th scope=col>&lt;dbl&gt;</th><th scope=col>&lt;int&gt;</th><th scope=col>&lt;dbl&gt;</th></tr>\n",
              "</thead>\n",
              "<tbody>\n",
              "\t<tr><td>2825100</td><td>0.01357273</td><td>2016</td><td>       NA</td></tr>\n",
              "\t<tr><td>2778842</td><td>0.01510168</td><td>2018</td><td>-1.637393</td></tr>\n",
              "\t<tr><td>2731683</td><td>0.01285271</td><td>2020</td><td>-1.697074</td></tr>\n",
              "\t<tr><td>2990030</td><td>0.01388237</td><td>2022</td><td> 9.457430</td></tr>\n",
              "</tbody>\n",
              "</table>\n"
            ],
            "text/markdown": "\nA tibble: 4 × 4\n\n| hogares &lt;dbl&gt; | hogares_cv &lt;dbl&gt; | year &lt;int&gt; | tasa_crec &lt;dbl&gt; |\n|---|---|---|---|\n| 2825100 | 0.01357273 | 2016 |        NA |\n| 2778842 | 0.01510168 | 2018 | -1.637393 |\n| 2731683 | 0.01285271 | 2020 | -1.697074 |\n| 2990030 | 0.01388237 | 2022 |  9.457430 |\n\n",
            "text/latex": "A tibble: 4 × 4\n\\begin{tabular}{llll}\n hogares & hogares\\_cv & year & tasa\\_crec\\\\\n <dbl> & <dbl> & <int> & <dbl>\\\\\n\\hline\n\t 2825100 & 0.01357273 & 2016 &        NA\\\\\n\t 2778842 & 0.01510168 & 2018 & -1.637393\\\\\n\t 2731683 & 0.01285271 & 2020 & -1.697074\\\\\n\t 2990030 & 0.01388237 & 2022 &  9.457430\\\\\n\\end{tabular}\n",
            "text/plain": [
              "  hogares hogares_cv year tasa_crec\n",
              "1 2825100 0.01357273 2016        NA\n",
              "2 2778842 0.01510168 2018 -1.637393\n",
              "3 2731683 0.01285271 2020 -1.697074\n",
              "4 2990030 0.01388237 2022  9.457430"
            ]
          },
          "metadata": {},
          "output_type": "display_data"
        }
      ],
      "execution_count": null
    },
    {
      "metadata": {
        "ExecuteTime": {
          "end_time": "2025-01-24T08:57:02.632395Z",
          "start_time": "2025-01-24T08:57:00.248284Z"
        },
        "id": "510d50c3c9a98117",
        "outputId": "9b38a69a-2f87-45ef-c551-e1320a93a839"
      },
      "cell_type": "code",
      "source": [
        "tabla_hogares_hac<-map_dfr(\n",
        "    list.files(\"data\", full.names = TRUE, pattern = \"viviendas_.*.csv\"),\n",
        "    estimacion,\n",
        "    variable=\"hogares_hac\"\n",
        "    )%>%\n",
        "mutate(\n",
        "  year = as.integer(year),\n",
        "  #asa_crec = (hogares_hac / lag(hogares_hac) - 1) * 100\n",
        ")%>%\n",
        "filter(hacinamiento==1)\n",
        "print(\"Porcentaje de hogares en hacinamiento\")\n",
        "tabla_hogares_hac"
      ],
      "id": "510d50c3c9a98117",
      "outputs": [
        {
          "name": "stderr",
          "output_type": "stream",
          "text": [
            "Warning message:\n",
            "\"\u001b[1m\u001b[22mOne or more parsing issues, call `problems()` on your data frame for details,\n",
            "e.g.:\n",
            "  dat <- vroom(...)\n",
            "  problems(dat)\"\n",
            "\u001b[1mRows: \u001b[22m\u001b[34m69169\u001b[39m \u001b[1mColumns: \u001b[22m\u001b[34m64\u001b[39m\n",
            "\u001b[36m──\u001b[39m \u001b[1mColumn specification\u001b[22m \u001b[36m────────────────────────────────────────────────────────\u001b[39m\n",
            "\u001b[1mDelimiter:\u001b[22m \",\"\n",
            "\u001b[31mchr\u001b[39m (10): folioviv, tipo_viv, mat_techos, tipo_finan, num_dueno1, num_dueno2...\n",
            "\u001b[32mdbl\u001b[39m (54): mat_pared, mat_pisos, antiguedad, antigua_ne, cocina, cocina_dor, ...\n",
            "\n",
            "\u001b[36mℹ\u001b[39m Use `spec()` to retrieve the full column specification for this data.\n",
            "\u001b[36mℹ\u001b[39m Specify the column types or set `show_col_types = FALSE` to quiet this message.\n",
            "Warning message:\n",
            "\"\u001b[1m\u001b[22mOne or more parsing issues, call `problems()` on your data frame for details,\n",
            "e.g.:\n",
            "  dat <- vroom(...)\n",
            "  problems(dat)\"\n",
            "\u001b[1mRows: \u001b[22m\u001b[34m73405\u001b[39m \u001b[1mColumns: \u001b[22m\u001b[34m64\u001b[39m\n",
            "\u001b[36m──\u001b[39m \u001b[1mColumn specification\u001b[22m \u001b[36m────────────────────────────────────────────────────────\u001b[39m\n",
            "\u001b[1mDelimiter:\u001b[22m \",\"\n",
            "\u001b[31mchr\u001b[39m  (9): folioviv, tipo_viv, mat_techos, tipo_finan, num_dueno1, num_dueno2...\n",
            "\u001b[32mdbl\u001b[39m (55): mat_pared, mat_pisos, antiguedad, antigua_ne, cocina, cocina_dor, ...\n",
            "\n",
            "\u001b[36mℹ\u001b[39m Use `spec()` to retrieve the full column specification for this data.\n",
            "\u001b[36mℹ\u001b[39m Specify the column types or set `show_col_types = FALSE` to quiet this message.\n",
            "Warning message:\n",
            "\"\u001b[1m\u001b[22mOne or more parsing issues, call `problems()` on your data frame for details,\n",
            "e.g.:\n",
            "  dat <- vroom(...)\n",
            "  problems(dat)\"\n",
            "\u001b[1mRows: \u001b[22m\u001b[34m87754\u001b[39m \u001b[1mColumns: \u001b[22m\u001b[34m64\u001b[39m\n",
            "\u001b[36m──\u001b[39m \u001b[1mColumn specification\u001b[22m \u001b[36m────────────────────────────────────────────────────────\u001b[39m\n",
            "\u001b[1mDelimiter:\u001b[22m \",\"\n",
            "\u001b[31mchr\u001b[39m  (9): folioviv, tipo_viv, mat_techos, tipo_finan, num_dueno1, num_dueno2...\n",
            "\u001b[32mdbl\u001b[39m (55): mat_pared, mat_pisos, antiguedad, antigua_ne, cocina, cocina_dor, ...\n",
            "\n",
            "\u001b[36mℹ\u001b[39m Use `spec()` to retrieve the full column specification for this data.\n",
            "\u001b[36mℹ\u001b[39m Specify the column types or set `show_col_types = FALSE` to quiet this message.\n",
            "Warning message:\n",
            "\"\u001b[1m\u001b[22mOne or more parsing issues, call `problems()` on your data frame for details,\n",
            "e.g.:\n",
            "  dat <- vroom(...)\n",
            "  problems(dat)\"\n",
            "\u001b[1mRows: \u001b[22m\u001b[34m88823\u001b[39m \u001b[1mColumns: \u001b[22m\u001b[34m64\u001b[39m\n",
            "\u001b[36m──\u001b[39m \u001b[1mColumn specification\u001b[22m \u001b[36m────────────────────────────────────────────────────────\u001b[39m\n",
            "\u001b[1mDelimiter:\u001b[22m \",\"\n",
            "\u001b[31mchr\u001b[39m  (9): folioviv, tipo_viv, mat_techos, tipo_finan, num_dueno1, num_dueno2...\n",
            "\u001b[32mdbl\u001b[39m (55): mat_pared, mat_pisos, antiguedad, antigua_ne, cocina, cocina_dor, ...\n",
            "\n",
            "\u001b[36mℹ\u001b[39m Use `spec()` to retrieve the full column specification for this data.\n",
            "\u001b[36mℹ\u001b[39m Specify the column types or set `show_col_types = FALSE` to quiet this message.\n"
          ]
        },
        {
          "name": "stdout",
          "output_type": "stream",
          "text": [
            "[1] \"Porcentaje de hogares en hacinamiento\"\n"
          ]
        },
        {
          "data": {
            "text/html": [
              "<table class=\"dataframe\">\n",
              "<caption>A tibble: 4 × 6</caption>\n",
              "<thead>\n",
              "\t<tr><th scope=col>hacinamiento</th><th scope=col>hogares_hac</th><th scope=col>hogares_hac_cv</th><th scope=col>pct</th><th scope=col>pct_cv</th><th scope=col>year</th></tr>\n",
              "\t<tr><th scope=col>&lt;dbl&gt;</th><th scope=col>&lt;dbl&gt;</th><th scope=col>&lt;dbl&gt;</th><th scope=col>&lt;dbl&gt;</th><th scope=col>&lt;dbl&gt;</th><th scope=col>&lt;int&gt;</th></tr>\n",
              "</thead>\n",
              "<tbody>\n",
              "\t<tr><td>1</td><td>94467</td><td>0.1494674</td><td>3.40</td><td>0.1489454</td><td>2016</td></tr>\n",
              "\t<tr><td>1</td><td>69444</td><td>0.1668508</td><td>2.55</td><td>0.1655767</td><td>2018</td></tr>\n",
              "\t<tr><td>1</td><td>79858</td><td>0.1226073</td><td>2.95</td><td>0.1215774</td><td>2020</td></tr>\n",
              "\t<tr><td>1</td><td>50615</td><td>0.1625358</td><td>1.72</td><td>0.1624582</td><td>2022</td></tr>\n",
              "</tbody>\n",
              "</table>\n"
            ],
            "text/markdown": "\nA tibble: 4 × 6\n\n| hacinamiento &lt;dbl&gt; | hogares_hac &lt;dbl&gt; | hogares_hac_cv &lt;dbl&gt; | pct &lt;dbl&gt; | pct_cv &lt;dbl&gt; | year &lt;int&gt; |\n|---|---|---|---|---|---|\n| 1 | 94467 | 0.1494674 | 3.40 | 0.1489454 | 2016 |\n| 1 | 69444 | 0.1668508 | 2.55 | 0.1655767 | 2018 |\n| 1 | 79858 | 0.1226073 | 2.95 | 0.1215774 | 2020 |\n| 1 | 50615 | 0.1625358 | 1.72 | 0.1624582 | 2022 |\n\n",
            "text/latex": "A tibble: 4 × 6\n\\begin{tabular}{llllll}\n hacinamiento & hogares\\_hac & hogares\\_hac\\_cv & pct & pct\\_cv & year\\\\\n <dbl> & <dbl> & <dbl> & <dbl> & <dbl> & <int>\\\\\n\\hline\n\t 1 & 94467 & 0.1494674 & 3.40 & 0.1489454 & 2016\\\\\n\t 1 & 69444 & 0.1668508 & 2.55 & 0.1655767 & 2018\\\\\n\t 1 & 79858 & 0.1226073 & 2.95 & 0.1215774 & 2020\\\\\n\t 1 & 50615 & 0.1625358 & 1.72 & 0.1624582 & 2022\\\\\n\\end{tabular}\n",
            "text/plain": [
              "  hacinamiento hogares_hac hogares_hac_cv pct  pct_cv    year\n",
              "1 1            94467       0.1494674      3.40 0.1489454 2016\n",
              "2 1            69444       0.1668508      2.55 0.1655767 2018\n",
              "3 1            79858       0.1226073      2.95 0.1215774 2020\n",
              "4 1            50615       0.1625358      1.72 0.1624582 2022"
            ]
          },
          "metadata": {},
          "output_type": "display_data"
        }
      ],
      "execution_count": null
    },
    {
      "metadata": {
        "ExecuteTime": {
          "end_time": "2025-01-24T08:57:04.974833Z",
          "start_time": "2025-01-24T08:57:02.663197Z"
        },
        "id": "5d41fbe7446835d4",
        "outputId": "ead395b3-d9f2-4062-c9fc-7077e1cbc9fe"
      },
      "cell_type": "code",
      "source": [
        "tabla_hogares_hac_no_prop<-map_dfr(\n",
        "    list.files(\"data\", full.names = TRUE, pattern = \"viviendas_.*.csv\"),\n",
        "    estimacion,\n",
        "    variable=\"hogares_hac_no_prop\"\n",
        "    )\n",
        "print(\"Porcentaje de hogares en hacinamiento que no son propietarios de la vivienda\")\n",
        "tabla_hogares_hac_no_prop"
      ],
      "id": "5d41fbe7446835d4",
      "outputs": [
        {
          "name": "stderr",
          "output_type": "stream",
          "text": [
            "Warning message:\n",
            "\"\u001b[1m\u001b[22mOne or more parsing issues, call `problems()` on your data frame for details,\n",
            "e.g.:\n",
            "  dat <- vroom(...)\n",
            "  problems(dat)\"\n",
            "\u001b[1mRows: \u001b[22m\u001b[34m69169\u001b[39m \u001b[1mColumns: \u001b[22m\u001b[34m64\u001b[39m\n",
            "\u001b[36m──\u001b[39m \u001b[1mColumn specification\u001b[22m \u001b[36m────────────────────────────────────────────────────────\u001b[39m\n",
            "\u001b[1mDelimiter:\u001b[22m \",\"\n",
            "\u001b[31mchr\u001b[39m (10): folioviv, tipo_viv, mat_techos, tipo_finan, num_dueno1, num_dueno2...\n",
            "\u001b[32mdbl\u001b[39m (54): mat_pared, mat_pisos, antiguedad, antigua_ne, cocina, cocina_dor, ...\n",
            "\n",
            "\u001b[36mℹ\u001b[39m Use `spec()` to retrieve the full column specification for this data.\n",
            "\u001b[36mℹ\u001b[39m Specify the column types or set `show_col_types = FALSE` to quiet this message.\n",
            "Warning message:\n",
            "\"\u001b[1m\u001b[22mOne or more parsing issues, call `problems()` on your data frame for details,\n",
            "e.g.:\n",
            "  dat <- vroom(...)\n",
            "  problems(dat)\"\n",
            "\u001b[1mRows: \u001b[22m\u001b[34m73405\u001b[39m \u001b[1mColumns: \u001b[22m\u001b[34m64\u001b[39m\n",
            "\u001b[36m──\u001b[39m \u001b[1mColumn specification\u001b[22m \u001b[36m────────────────────────────────────────────────────────\u001b[39m\n",
            "\u001b[1mDelimiter:\u001b[22m \",\"\n",
            "\u001b[31mchr\u001b[39m  (9): folioviv, tipo_viv, mat_techos, tipo_finan, num_dueno1, num_dueno2...\n",
            "\u001b[32mdbl\u001b[39m (55): mat_pared, mat_pisos, antiguedad, antigua_ne, cocina, cocina_dor, ...\n",
            "\n",
            "\u001b[36mℹ\u001b[39m Use `spec()` to retrieve the full column specification for this data.\n",
            "\u001b[36mℹ\u001b[39m Specify the column types or set `show_col_types = FALSE` to quiet this message.\n",
            "Warning message:\n",
            "\"\u001b[1m\u001b[22mOne or more parsing issues, call `problems()` on your data frame for details,\n",
            "e.g.:\n",
            "  dat <- vroom(...)\n",
            "  problems(dat)\"\n",
            "\u001b[1mRows: \u001b[22m\u001b[34m87754\u001b[39m \u001b[1mColumns: \u001b[22m\u001b[34m64\u001b[39m\n",
            "\u001b[36m──\u001b[39m \u001b[1mColumn specification\u001b[22m \u001b[36m────────────────────────────────────────────────────────\u001b[39m\n",
            "\u001b[1mDelimiter:\u001b[22m \",\"\n",
            "\u001b[31mchr\u001b[39m  (9): folioviv, tipo_viv, mat_techos, tipo_finan, num_dueno1, num_dueno2...\n",
            "\u001b[32mdbl\u001b[39m (55): mat_pared, mat_pisos, antiguedad, antigua_ne, cocina, cocina_dor, ...\n",
            "\n",
            "\u001b[36mℹ\u001b[39m Use `spec()` to retrieve the full column specification for this data.\n",
            "\u001b[36mℹ\u001b[39m Specify the column types or set `show_col_types = FALSE` to quiet this message.\n",
            "Warning message:\n",
            "\"\u001b[1m\u001b[22mOne or more parsing issues, call `problems()` on your data frame for details,\n",
            "e.g.:\n",
            "  dat <- vroom(...)\n",
            "  problems(dat)\"\n",
            "\u001b[1mRows: \u001b[22m\u001b[34m88823\u001b[39m \u001b[1mColumns: \u001b[22m\u001b[34m64\u001b[39m\n",
            "\u001b[36m──\u001b[39m \u001b[1mColumn specification\u001b[22m \u001b[36m────────────────────────────────────────────────────────\u001b[39m\n",
            "\u001b[1mDelimiter:\u001b[22m \",\"\n",
            "\u001b[31mchr\u001b[39m  (9): folioviv, tipo_viv, mat_techos, tipo_finan, num_dueno1, num_dueno2...\n",
            "\u001b[32mdbl\u001b[39m (55): mat_pared, mat_pisos, antiguedad, antigua_ne, cocina, cocina_dor, ...\n",
            "\n",
            "\u001b[36mℹ\u001b[39m Use `spec()` to retrieve the full column specification for this data.\n",
            "\u001b[36mℹ\u001b[39m Specify the column types or set `show_col_types = FALSE` to quiet this message.\n"
          ]
        },
        {
          "name": "stdout",
          "output_type": "stream",
          "text": [
            "[1] \"Porcentaje de hogares en hacinamiento que no son propietarios de la vivienda\"\n"
          ]
        },
        {
          "data": {
            "text/html": [
              "<table class=\"dataframe\">\n",
              "<caption>A tibble: 4 × 4</caption>\n",
              "<thead>\n",
              "\t<tr><th scope=col>ten_vivi</th><th scope=col>hogares_hac</th><th scope=col>hogares_hac_cv</th><th scope=col>year</th></tr>\n",
              "\t<tr><th scope=col>&lt;chr&gt;</th><th scope=col>&lt;dbl&gt;</th><th scope=col>&lt;dbl&gt;</th><th scope=col>&lt;int&gt;</th></tr>\n",
              "</thead>\n",
              "<tbody>\n",
              "\t<tr><td>No propietarios</td><td>81.57</td><td>0.07178577</td><td>2016</td></tr>\n",
              "\t<tr><td>No propietarios</td><td>83.33</td><td>0.06234368</td><td>2018</td></tr>\n",
              "\t<tr><td>No propietarios</td><td>78.57</td><td>0.06250299</td><td>2020</td></tr>\n",
              "\t<tr><td>No propietarios</td><td>72.08</td><td>0.10327248</td><td>2022</td></tr>\n",
              "</tbody>\n",
              "</table>\n"
            ],
            "text/markdown": "\nA tibble: 4 × 4\n\n| ten_vivi &lt;chr&gt; | hogares_hac &lt;dbl&gt; | hogares_hac_cv &lt;dbl&gt; | year &lt;int&gt; |\n|---|---|---|---|\n| No propietarios | 81.57 | 0.07178577 | 2016 |\n| No propietarios | 83.33 | 0.06234368 | 2018 |\n| No propietarios | 78.57 | 0.06250299 | 2020 |\n| No propietarios | 72.08 | 0.10327248 | 2022 |\n\n",
            "text/latex": "A tibble: 4 × 4\n\\begin{tabular}{llll}\n ten\\_vivi & hogares\\_hac & hogares\\_hac\\_cv & year\\\\\n <chr> & <dbl> & <dbl> & <int>\\\\\n\\hline\n\t No propietarios & 81.57 & 0.07178577 & 2016\\\\\n\t No propietarios & 83.33 & 0.06234368 & 2018\\\\\n\t No propietarios & 78.57 & 0.06250299 & 2020\\\\\n\t No propietarios & 72.08 & 0.10327248 & 2022\\\\\n\\end{tabular}\n",
            "text/plain": [
              "  ten_vivi        hogares_hac hogares_hac_cv year\n",
              "1 No propietarios 81.57       0.07178577     2016\n",
              "2 No propietarios 83.33       0.06234368     2018\n",
              "3 No propietarios 78.57       0.06250299     2020\n",
              "4 No propietarios 72.08       0.10327248     2022"
            ]
          },
          "metadata": {},
          "output_type": "display_data"
        }
      ],
      "execution_count": null
    },
    {
      "metadata": {
        "id": "d3a29c348a926e0a"
      },
      "cell_type": "markdown",
      "source": [
        "### Indicador de migración por causas relacionadas con ubicación o vivienda\n",
        "\n",
        "\n",
        "Para este indicador se utilizan los datos de migración del Censo. Concretamente, se consideran aquellos que cambiaron de residencia en los últimos cinco años y que se mudaron por causas relacionadas con ubicación o vivienda."
      ],
      "id": "d3a29c348a926e0a"
    },
    {
      "metadata": {
        "ExecuteTime": {
          "end_time": "2025-01-24T08:57:05.020205Z",
          "start_time": "2025-01-24T08:57:05.009474Z"
        },
        "id": "da6bf07254bf187f"
      },
      "cell_type": "code",
      "source": [
        "#Descarga de población de Censo 2020\n",
        "\n",
        "url_censo<-\"https://www.inegi.org.mx/contenidos/programas/ccpv/2020/microdatos/Censo2020_CA_eum_csv.zip\""
      ],
      "id": "da6bf07254bf187f",
      "outputs": [],
      "execution_count": null
    },
    {
      "metadata": {
        "ExecuteTime": {
          "end_time": "2025-01-24T08:57:05.075623Z",
          "start_time": "2025-01-24T08:57:05.063807Z"
        },
        "id": "603397e0d734068e",
        "outputId": "fd22eae5-b069-428d-e2d0-ef38b19679c7"
      },
      "cell_type": "code",
      "source": [
        "# Verificar si existe el archivo Personas00.CSV\n",
        "if (!file.exists(\"data/Personas00.CSV\")) {\n",
        "  # Descarga en carpeta data\n",
        "  destfile_censo <- \"data/Censo2020_CA_eum_csv.zip\"\n",
        "\n",
        "  # Configuración de tiempo de espera para la descarga\n",
        "  options(timeout = 900)\n",
        "  download.file(url_censo, destfile = destfile_censo, quiet = FALSE, mode = \"wb\")\n",
        "\n",
        "  # Ruta a WinRAR (asegúrate de que sea la correcta)\n",
        "  winrar <- shQuote(\"C:/Program Files/WinRAR/WinRAR\")\n",
        "  destino <- paste0(getwd(), \"/data/\")\n",
        "\n",
        "  # Ejecutar extracción\n",
        "  cmd <- paste(winrar, 'e', shQuote(destfile_censo), '-r', shQuote(destino), sep = ' ')\n",
        "  system(cmd)\n",
        "} else {\n",
        "  message(\"El archivo Personas00.CSV ya existe en la carpeta data. Proceso omitido.\")\n",
        "}\n"
      ],
      "id": "603397e0d734068e",
      "outputs": [
        {
          "name": "stderr",
          "output_type": "stream",
          "text": [
            "El archivo Personas00.CSV ya existe en la carpeta data. Proceso omitido.\n",
            "\n"
          ]
        }
      ],
      "execution_count": null
    },
    {
      "metadata": {
        "ExecuteTime": {
          "end_time": "2025-01-24T09:24:14.686294Z",
          "start_time": "2025-01-24T08:57:05.163002Z"
        },
        "id": "9e859a13ebd2323b",
        "outputId": "2182b6bc-34c1-4abc-c6b8-28dde299c5c4"
      },
      "cell_type": "code",
      "source": [
        "pob<-read_csv(\"data/Personas00.CSV\")%>%\n",
        "janitor::clean_names()%>%\n",
        "filter(ent_pais_res_5a <= \"032\") %>%\n",
        "#Sustraer 2 dígitos de la clave de la entidad\n",
        "mutate(ent_pais_res_5a = substr(ent_pais_res_5a, 2, 3))%>%\n",
        "   mutate(ent_pais_res_5a = case_when(\n",
        "     nchar(as.character(ent_pais_res_5a)) == 1 ~ paste0(\"0\", ent_pais_res_5a),\n",
        "     TRUE ~ as.character(ent_pais_res_5a)\n",
        "   )) %>%\n",
        "\n",
        "  mutate(ent = case_when(\n",
        "  nchar(as.character(ent)) == 1 ~ paste0(\"0\", ent),TRUE ~ as.character(ent)))%>%\n",
        " # No contabilizar la misma entidad\n",
        "    filter(ent_pais_res_5a==\"09\")%>%\n",
        "filter(ent!=\"09\")%>%\n",
        "  filter(edad>=5)%>%\n",
        "\n",
        "##Se identifican las causas de migración relacionadas con la vivienda y ubicación\n",
        "#El catálogo de causas se puede descargar de https://www.inegi.org.mx/contenidos/productos/prod_serv/contenidos/espanol/bvinegi/productos/nueva_estruc/702825198701.pdf\n",
        "\n",
        "mutate(causa_vivi=\n",
        "case_when(causa_mig_v %in% c(\"0104\",\"0201\",\"0503\",\"0901\",\"0902\", \"0903\",\"0905\",\"0909\") ~ \"Causas relacionadas con ubicación o vivienda\",\n",
        "TRUE ~ \"Otra causa\"))"
      ],
      "id": "9e859a13ebd2323b",
      "outputs": [
        {
          "name": "stderr",
          "output_type": "stream",
          "text": [
            "Warning message:\n",
            "\"\u001b[1m\u001b[22mOne or more parsing issues, call `problems()` on your data frame for details,\n",
            "e.g.:\n",
            "  dat <- vroom(...)\n",
            "  problems(dat)\"\n",
            "\u001b[1mRows: \u001b[22m\u001b[34m15015683\u001b[39m \u001b[1mColumns: \u001b[22m\u001b[34m91\u001b[39m\n",
            "\u001b[36m──\u001b[39m \u001b[1mColumn specification\u001b[22m \u001b[36m────────────────────────────────────────────────────────\u001b[39m\n",
            "\u001b[1mDelimiter:\u001b[22m \",\"\n",
            "\u001b[31mchr\u001b[39m (33): ENT, MUN, LOC50K, ID_VIV, ID_PERSONA, ESTRATO, UPM, CLAVIVP, NUMPE...\n",
            "\u001b[32mdbl\u001b[39m (57): COBERTURA, FACTOR, SEXO, EDAD, PARENTESCO, NACIONALIDAD, AFRODES, ...\n",
            "\u001b[33mlgl\u001b[39m  (1): MED_TRASLADO_ESC3\n",
            "\n",
            "\u001b[36mℹ\u001b[39m Use `spec()` to retrieve the full column specification for this data.\n",
            "\u001b[36mℹ\u001b[39m Specify the column types or set `show_col_types = FALSE` to quiet this message.\n"
          ]
        }
      ],
      "execution_count": null
    },
    {
      "metadata": {
        "ExecuteTime": {
          "end_time": "2025-01-24T09:24:15.623230Z",
          "start_time": "2025-01-24T09:24:14.993272Z"
        },
        "id": "990193ecf18c2256"
      },
      "cell_type": "code",
      "source": [
        "#Opción para ajustar si se tiene una sola upm\n",
        "options(survey.lonely.psu=\"certainty\")\n",
        "#Definir diseño muestral\n",
        "\n",
        "dm<-pob%>%\n",
        "  #Diseño muestral\n",
        "  as_survey_design(weights=factor, strata=estrato, ids=upm, nest=TRUE)"
      ],
      "id": "990193ecf18c2256",
      "outputs": [],
      "execution_count": null
    },
    {
      "metadata": {
        "ExecuteTime": {
          "end_time": "2025-01-24T09:25:48.388777Z",
          "start_time": "2025-01-24T09:24:16.791832Z"
        },
        "id": "fca6509b654cb552",
        "outputId": "2de1f0a2-f636-4055-bc43-9a166e296ae8"
      },
      "cell_type": "code",
      "source": [
        "print(\"Personas que salieron de CDMX de 2015 a 2020 por causas relacionadas con la ubicación o vivienda\")\n",
        "dm%>%\n",
        "group_by(causa_vivi)%>%\n",
        "    summarise(personas=survey_total(vartype=\"cv\"),\n",
        "              porcentaje=survey_prop(vartype=\"cv\"))%>%\n",
        "    mutate(porcentaje=round(porcentaje*100,2))"
      ],
      "id": "fca6509b654cb552",
      "outputs": [
        {
          "name": "stdout",
          "output_type": "stream",
          "text": [
            "[1] \"Personas que salieron de CDMX de 2015 a 2020 por causas relacionadas con la ubicación o vivienda\"\n"
          ]
        },
        {
          "data": {
            "text/html": [
              "<table class=\"dataframe\">\n",
              "<caption>A tibble: 2 × 5</caption>\n",
              "<thead>\n",
              "\t<tr><th scope=col>causa_vivi</th><th scope=col>personas</th><th scope=col>personas_cv</th><th scope=col>porcentaje</th><th scope=col>porcentaje_cv</th></tr>\n",
              "\t<tr><th scope=col>&lt;chr&gt;</th><th scope=col>&lt;dbl&gt;</th><th scope=col>&lt;dbl&gt;</th><th scope=col>&lt;dbl&gt;</th><th scope=col>&lt;dbl&gt;</th></tr>\n",
              "</thead>\n",
              "<tbody>\n",
              "\t<tr><td>Causas relacionadas con ubicación o vivienda</td><td> 42329</td><td>0.05677074</td><td> 7.48</td><td>0.049071527</td></tr>\n",
              "\t<tr><td>Otra causa                                  </td><td>523922</td><td>0.01806808</td><td>92.52</td><td>0.003964614</td></tr>\n",
              "</tbody>\n",
              "</table>\n"
            ],
            "text/markdown": "\nA tibble: 2 × 5\n\n| causa_vivi &lt;chr&gt; | personas &lt;dbl&gt; | personas_cv &lt;dbl&gt; | porcentaje &lt;dbl&gt; | porcentaje_cv &lt;dbl&gt; |\n|---|---|---|---|---|\n| Causas relacionadas con ubicación o vivienda |  42329 | 0.05677074 |  7.48 | 0.049071527 |\n| Otra causa                                   | 523922 | 0.01806808 | 92.52 | 0.003964614 |\n\n",
            "text/latex": "A tibble: 2 × 5\n\\begin{tabular}{lllll}\n causa\\_vivi & personas & personas\\_cv & porcentaje & porcentaje\\_cv\\\\\n <chr> & <dbl> & <dbl> & <dbl> & <dbl>\\\\\n\\hline\n\t Causas relacionadas con ubicación o vivienda &  42329 & 0.05677074 &  7.48 & 0.049071527\\\\\n\t Otra causa                                   & 523922 & 0.01806808 & 92.52 & 0.003964614\\\\\n\\end{tabular}\n",
            "text/plain": [
              "  causa_vivi                                   personas personas_cv porcentaje\n",
              "1 Causas relacionadas con ubicación o vivienda  42329   0.05677074   7.48     \n",
              "2 Otra causa                                   523922   0.01806808  92.52     \n",
              "  porcentaje_cv\n",
              "1 0.049071527  \n",
              "2 0.003964614  "
            ]
          },
          "metadata": {},
          "output_type": "display_data"
        }
      ],
      "execution_count": null
    },
    {
      "cell_type": "markdown",
      "source": [
        "#### Indicador de pobreza por calidad y espacios de la vivienda de Evalúa CDMX"
      ],
      "metadata": {
        "id": "uDsIgJ9SpcNS"
      },
      "id": "uDsIgJ9SpcNS"
    },
    {
      "cell_type": "code",
      "source": [
        "\n",
        "# Librerías ====\n",
        "if(!require('pacman')) install.packages('pacman')\n",
        "pacman::p_load(tidyverse, srvyr, haven, googledrive)"
      ],
      "metadata": {
        "id": "FcRMpTR2pi8-",
        "outputId": "92e0e798-1d06-4980-b375-d49b01d6cba8",
        "colab": {
          "base_uri": "https://localhost:8080/"
        }
      },
      "id": "FcRMpTR2pi8-",
      "execution_count": 1,
      "outputs": [
        {
          "output_type": "stream",
          "name": "stderr",
          "text": [
            "Loading required package: pacman\n",
            "\n",
            "Warning message in library(package, lib.loc = lib.loc, character.only = TRUE, logical.return = TRUE, :\n",
            "“there is no package called ‘pacman’”\n",
            "Installing package into ‘/usr/local/lib/R/site-library’\n",
            "(as ‘lib’ is unspecified)\n",
            "\n",
            "Installing package into ‘/usr/local/lib/R/site-library’\n",
            "(as ‘lib’ is unspecified)\n",
            "\n",
            "also installing the dependencies ‘minqa’, ‘numDeriv’, ‘mitools’, ‘RcppArmadillo’, ‘survey’\n",
            "\n",
            "\n",
            "\n",
            "srvyr installed\n",
            "\n"
          ]
        }
      ]
    },
    {
      "cell_type": "code",
      "source": [
        "#Crear directorio para guardar los archivos\n",
        "dir.create(\"data\", showWarnings = FALSE)"
      ],
      "metadata": {
        "id": "d3EF8vhnpukD"
      },
      "id": "d3EF8vhnpukD",
      "execution_count": 2,
      "outputs": []
    },
    {
      "cell_type": "code",
      "source": [
        "  #Conectar a google drive\n",
        "drive_auth(email = \"claudiodanielpc@gmail.com\",cache = FALSE)"
      ],
      "metadata": {
        "id": "KfwiPkdYpxpb",
        "outputId": "1ce3c198-682f-40dc-fb98-a97446eba1d2",
        "colab": {
          "base_uri": "https://localhost:8080/"
        }
      },
      "id": "KfwiPkdYpxpb",
      "execution_count": 3,
      "outputs": [
        {
          "output_type": "stream",
          "name": "stderr",
          "text": [
            "Please point your browser to the following url: \n",
            "\n",
            "https://accounts.google.com/o/oauth2/v2/auth?client_id=603366585132-frjlouoa3s2ono25d2l9ukvhlsrlnr7k.apps.googleusercontent.com&scope=https%3A%2F%2Fwww.googleapis.com%2Fauth%2Fdrive%20https%3A%2F%2Fwww.googleapis.com%2Fauth%2Fuserinfo.email&redirect_uri=https%3A%2F%2Fwww.tidyverse.org%2Fgoogle-callback%2F&response_type=code&state=82457bbdce82c5ef25bda511fe1c26d8&login_hint=claudiodanielpc%40gmail.com&access_type=offline&prompt=consent\n",
            "\n"
          ]
        },
        {
          "name": "stdout",
          "output_type": "stream",
          "text": [
            "Enter authorization code: eyJjb2RlIjoiNC8wQVNWZ2kzSjA4amRDZzBTcG1vOEVYeUkxcnVfb2pqOWphaWZEZGZfd3pCOVlMeURiRVdxWmdHZVpaUVYxWFBvUmh5dm5BQSIsInN0YXRlIjoiODI0NTdiYmRjZTgyYzVlZjI1YmRhNTExZmUxYzI2ZDgifQ==\n"
          ]
        }
      ]
    },
    {
      "cell_type": "code",
      "source": [
        "carpeta<-as_id(drive_get(\"https://drive.google.com/drive/folders/1TBfoik4w4DWhwFqWeZFgkZvrBdDbqzku\"))\n",
        "\n",
        "\n",
        "archivos<-drive_ls(carpeta)\n",
        "print(archivos)"
      ],
      "metadata": {
        "id": "w5RAWqTKpy6j",
        "outputId": "65f1e718-e480-458a-d620-3f0209426354",
        "colab": {
          "base_uri": "https://localhost:8080/"
        }
      },
      "id": "w5RAWqTKpy6j",
      "execution_count": 4,
      "outputs": [
        {
          "output_type": "stream",
          "name": "stdout",
          "text": [
            "\u001b[90m# A dribble: 3 × 3\u001b[39m\n",
            "  name             id                                drive_resource   \n",
            "  \u001b[3m\u001b[90m<chr>\u001b[39m\u001b[23m            \u001b[3m\u001b[90m<drv_id>\u001b[39m\u001b[23m                          \u001b[3m\u001b[90m<list>\u001b[39m\u001b[23m           \n",
            "\u001b[90m1\u001b[39m pobreza_2022.dta 1T_WfYanYMOoWWbhj_CeiqxYRNrpXmDan \u001b[90m<named list [42]>\u001b[39m\n",
            "\u001b[90m2\u001b[39m pobreza_2020.dta 1TXJLNA_itWfjsGIdoj1bJQ4erNjc1wIx \u001b[90m<named list [42]>\u001b[39m\n",
            "\u001b[90m3\u001b[39m pobreza_2018.dta 1TTRfiRDGWgQwHylvduHx1IRdm5vQ3VeL \u001b[90m<named list [42]>\u001b[39m\n"
          ]
        }
      ]
    },
    {
      "cell_type": "code",
      "source": [
        "estimacion_pobreza <- function(file_id, file_name) {\n",
        "  # Descarga de datos\n",
        "  local_path <- file.path(\"data\", file_name)\n",
        "  drive_download(as_id(file_id), path = local_path, overwrite = TRUE)\n",
        "\n",
        "  # Leer datos\n",
        "  datos <- read_dta(local_path)\n",
        "\n",
        "  # Añadir año\n",
        "  year <- str_extract(file_name, \"\\\\d{4}\")\n",
        "\n",
        "\n",
        "  # Diseño muestral\n",
        "  mydesign <- datos %>%\n",
        "    as_survey_design(ids = upm,\n",
        "                     strata = est_dis,\n",
        "                     weights = factor)\n",
        "\n",
        "  # Estima pobreza\n",
        "  pobreza <- mydesign %>%\n",
        "    #Filtrar datos para CDMX\n",
        "  filter(entidad==9)%>%\n",
        "    #Filtar grupo de población en pobreza\n",
        "   group_by(pobreza_ccevj)%>%\n",
        "    summarise(\n",
        "      poblacion = survey_total(vartype = \"cv\"),\n",
        "      porcentaje = survey_prop(vartype = \"cv\")\n",
        "    ) %>%\n",
        "    mutate(porcentaje = round(porcentaje * 100, 2),\n",
        "           year = as.numeric(year))%>%\n",
        "            filter(pobreza_ccevj == 1)\n",
        "\n",
        "  return(pobreza)\n",
        "}"
      ],
      "metadata": {
        "id": "U1PXZVNbpzpJ"
      },
      "id": "U1PXZVNbpzpJ",
      "execution_count": 5,
      "outputs": []
    },
    {
      "cell_type": "code",
      "source": [
        "tabla_pobreza <- map_dfr(\n",
        "  seq_len(nrow(archivos)),\n",
        "  ~ estimacion_pobreza(archivos$id[.x], archivos$name[.x])\n",
        ")%>%\n",
        "  arrange(year)\n",
        "\n",
        "print(\"Estimación de población en situación de pobreza por calidad y espacios de la vivienda en la CDMX\")\n",
        "tabla_pobreza"
      ],
      "metadata": {
        "id": "LRIELTyhp1BY",
        "outputId": "ec648c2c-6951-4614-e1d5-de2530caf964",
        "colab": {
          "base_uri": "https://localhost:8080/",
          "height": 654
        }
      },
      "id": "LRIELTyhp1BY",
      "execution_count": 6,
      "outputs": [
        {
          "output_type": "stream",
          "name": "stderr",
          "text": [
            "File downloaded:\n",
            "\n",
            "• \u001b[36mpobreza_2022.dta\u001b[39m \u001b[90m<id: 1T_WfYanYMOoWWbhj_CeiqxYRNrpXmDan>\u001b[39m\n",
            "\n",
            "Saved locally as:\n",
            "\n",
            "• \u001b[34mdata/pobreza_2022.dta\u001b[39m\n",
            "\n",
            "File downloaded:\n",
            "\n",
            "• \u001b[36mpobreza_2020.dta\u001b[39m \u001b[90m<id: 1TXJLNA_itWfjsGIdoj1bJQ4erNjc1wIx>\u001b[39m\n",
            "\n",
            "Saved locally as:\n",
            "\n",
            "• \u001b[34mdata/pobreza_2020.dta\u001b[39m\n",
            "\n",
            "File downloaded:\n",
            "\n",
            "• \u001b[36mpobreza_2018.dta\u001b[39m \u001b[90m<id: 1TTRfiRDGWgQwHylvduHx1IRdm5vQ3VeL>\u001b[39m\n",
            "\n",
            "Saved locally as:\n",
            "\n",
            "• \u001b[34mdata/pobreza_2018.dta\u001b[39m\n",
            "\n"
          ]
        },
        {
          "output_type": "stream",
          "name": "stdout",
          "text": [
            "[1] \"Estimación de población en situación de pobreza por calidad y espacios de la vivienda en la CDMX\"\n"
          ]
        },
        {
          "output_type": "display_data",
          "data": {
            "text/html": [
              "<table class=\"dataframe\">\n",
              "<caption>A tibble: 3 × 6</caption>\n",
              "<thead>\n",
              "\t<tr><th scope=col>pobreza_ccevj</th><th scope=col>poblacion</th><th scope=col>poblacion_cv</th><th scope=col>porcentaje</th><th scope=col>porcentaje_cv</th><th scope=col>year</th></tr>\n",
              "\t<tr><th scope=col>&lt;dbl&gt;</th><th scope=col>&lt;dbl&gt;</th><th scope=col>&lt;dbl&gt;</th><th scope=col>&lt;dbl&gt;</th><th scope=col>&lt;dbl&gt;</th><th scope=col>&lt;dbl&gt;</th></tr>\n",
              "</thead>\n",
              "<tbody>\n",
              "\t<tr><td>1</td><td>4510741</td><td>0.04025664</td><td>49.05</td><td>0.02873110</td><td>2018</td></tr>\n",
              "\t<tr><td>1</td><td>4456576</td><td>0.03860316</td><td>48.23</td><td>0.02895216</td><td>2020</td></tr>\n",
              "\t<tr><td>1</td><td>3968378</td><td>0.04693254</td><td>42.65</td><td>0.03663865</td><td>2022</td></tr>\n",
              "</tbody>\n",
              "</table>\n"
            ],
            "text/markdown": "\nA tibble: 3 × 6\n\n| pobreza_ccevj &lt;dbl&gt; | poblacion &lt;dbl&gt; | poblacion_cv &lt;dbl&gt; | porcentaje &lt;dbl&gt; | porcentaje_cv &lt;dbl&gt; | year &lt;dbl&gt; |\n|---|---|---|---|---|---|\n| 1 | 4510741 | 0.04025664 | 49.05 | 0.02873110 | 2018 |\n| 1 | 4456576 | 0.03860316 | 48.23 | 0.02895216 | 2020 |\n| 1 | 3968378 | 0.04693254 | 42.65 | 0.03663865 | 2022 |\n\n",
            "text/latex": "A tibble: 3 × 6\n\\begin{tabular}{llllll}\n pobreza\\_ccevj & poblacion & poblacion\\_cv & porcentaje & porcentaje\\_cv & year\\\\\n <dbl> & <dbl> & <dbl> & <dbl> & <dbl> & <dbl>\\\\\n\\hline\n\t 1 & 4510741 & 0.04025664 & 49.05 & 0.02873110 & 2018\\\\\n\t 1 & 4456576 & 0.03860316 & 48.23 & 0.02895216 & 2020\\\\\n\t 1 & 3968378 & 0.04693254 & 42.65 & 0.03663865 & 2022\\\\\n\\end{tabular}\n",
            "text/plain": [
              "  pobreza_ccevj poblacion poblacion_cv porcentaje porcentaje_cv year\n",
              "1 1             4510741   0.04025664   49.05      0.02873110    2018\n",
              "2 1             4456576   0.03860316   48.23      0.02895216    2020\n",
              "3 1             3968378   0.04693254   42.65      0.03663865    2022"
            ]
          },
          "metadata": {}
        }
      ]
    }
  ],
  "metadata": {
    "kernelspec": {
      "display_name": "R",
      "language": "R",
      "name": "ir"
    },
    "language_info": {
      "codemirror_mode": {
        "name": "ipython",
        "version": 2
      },
      "file_extension": ".py",
      "mimetype": "text/x-python",
      "name": "python",
      "nbconvert_exporter": "python",
      "pygments_lexer": "ipython2",
      "version": "2.7.6"
    },
    "colab": {
      "provenance": [],
      "include_colab_link": true
    }
  },
  "nbformat": 4,
  "nbformat_minor": 5
}