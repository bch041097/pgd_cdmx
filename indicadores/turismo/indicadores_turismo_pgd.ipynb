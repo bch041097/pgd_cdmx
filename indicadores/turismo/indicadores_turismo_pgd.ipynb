{
 "cells": [
  {
   "metadata": {
    "ExecuteTime": {
     "end_time": "2025-02-09T04:31:26.364855Z",
     "start_time": "2025-02-09T04:31:25.365056Z"
    }
   },
   "cell_type": "code",
   "source": [
    "#Se borra todo lo que se encuentra en el entorno\n",
    "\n",
    "rm(list=ls())\n",
    "\n",
    "# Librerías ====\n",
    "if (!require('pacman')) install.packages('pacman')\n",
    "pacman::p_load(tidyverse, httr,jsonlite, srvyr)"
   ],
   "id": "1305f130af1e9efb",
   "outputs": [
    {
     "name": "stderr",
     "output_type": "stream",
     "text": [
      "Loading required package: pacman\n",
      "\n"
     ]
    }
   ],
   "execution_count": 1
  },
  {
   "metadata": {},
   "cell_type": "markdown",
   "source": "### Turistas en CDMX",
   "id": "fffbd7a9e903d7e9"
  },
  {
   "metadata": {
    "ExecuteTime": {
     "end_time": "2025-02-09T04:31:26.393161Z",
     "start_time": "2025-02-09T04:31:26.368566Z"
    }
   },
   "cell_type": "code",
   "source": "url_tur<-\"https://datos.cdmx.gob.mx/dataset/f4bcda9f-803b-4a64-bee1-79fbf02446e3/resource/ce6bc859-5e50-44e4-82b8-990fa97a0dac/download/turistas_desglosado_2024_7.csv\"",
   "id": "dbb6c78e11173a9d",
   "outputs": [],
   "execution_count": 2
  },
  {
   "metadata": {
    "ExecuteTime": {
     "end_time": "2025-02-09T04:31:26.917843Z",
     "start_time": "2025-02-09T04:31:26.399029Z"
    }
   },
   "cell_type": "code",
   "source": [
    "turistas<-read_csv(url_tur,show_col_types = FALSE)%>%\n",
    "#Agrupar por año\n",
    "group_by(anio)%>%\n",
    "#Sumar turistas\n",
    "summarise(turistas=sum(turistas))%>%\n",
    "#Crear índice base 2018=100\n",
    "mutate(turistas_index=turistas/turistas[anio==2018]*100)%>%\n",
    "filter(anio<=2019)%>%\n",
    "#Calcular tasa de crecimiento de turistas index\n",
    "mutate(tasa_crecimiento=(turistas_index-lag(turistas_index))/lag(turistas_index)*100)%>%na.omit()\n",
    "turistas"
   ],
   "id": "10c9f99cbb37350f",
   "outputs": [
    {
     "data": {
      "text/html": [
       "<table class=\"dataframe\">\n",
       "<caption>A tibble: 21 × 4</caption>\n",
       "<thead>\n",
       "\t<tr><th scope=col>anio</th><th scope=col>turistas</th><th scope=col>turistas_index</th><th scope=col>tasa_crecimiento</th></tr>\n",
       "\t<tr><th scope=col>&lt;dbl&gt;</th><th scope=col>&lt;dbl&gt;</th><th scope=col>&lt;dbl&gt;</th><th scope=col>&lt;dbl&gt;</th></tr>\n",
       "</thead>\n",
       "<tbody>\n",
       "\t<tr><td>1999</td><td> 8893087</td><td> 63.60288</td><td> 12.7029977</td></tr>\n",
       "\t<tr><td>2000</td><td> 9123995</td><td> 65.25432</td><td>  2.5964887</td></tr>\n",
       "\t<tr><td>2001</td><td>10451936</td><td> 74.75168</td><td> 14.5543811</td></tr>\n",
       "\t<tr><td>2002</td><td>10170832</td><td> 72.74124</td><td> -2.6894922</td></tr>\n",
       "\t<tr><td>2003</td><td>10438037</td><td> 74.65227</td><td>  2.6271695</td></tr>\n",
       "\t<tr><td>2004</td><td>11615335</td><td> 83.07225</td><td> 11.2789215</td></tr>\n",
       "\t<tr><td>2005</td><td>12212665</td><td> 87.34432</td><td>  5.1425981</td></tr>\n",
       "\t<tr><td>2006</td><td>11149161</td><td> 79.73819</td><td> -8.7082058</td></tr>\n",
       "\t<tr><td>2007</td><td>11057203</td><td> 79.08052</td><td> -0.8247975</td></tr>\n",
       "\t<tr><td>2008</td><td>11565225</td><td> 82.71386</td><td>  4.5944892</td></tr>\n",
       "\t<tr><td>2009</td><td> 9966507</td><td> 71.27992</td><td>-13.8234924</td></tr>\n",
       "\t<tr><td>2010</td><td>11074690</td><td> 79.20558</td><td> 11.1190711</td></tr>\n",
       "\t<tr><td>2011</td><td>12380036</td><td> 88.54135</td><td> 11.7867498</td></tr>\n",
       "\t<tr><td>2012</td><td>12305483</td><td> 88.00815</td><td> -0.6022034</td></tr>\n",
       "\t<tr><td>2013</td><td>12677217</td><td> 90.66677</td><td>  3.0208810</td></tr>\n",
       "\t<tr><td>2014</td><td>13095264</td><td> 93.65662</td><td>  3.2976244</td></tr>\n",
       "\t<tr><td>2015</td><td>13125008</td><td> 93.86934</td><td>  0.2271356</td></tr>\n",
       "\t<tr><td>2016</td><td>13582755</td><td> 97.14313</td><td>  3.4875941</td></tr>\n",
       "\t<tr><td>2017</td><td>13746859</td><td> 98.31679</td><td>  1.2081790</td></tr>\n",
       "\t<tr><td>2018</td><td>13982209</td><td>100.00000</td><td>  1.7120275</td></tr>\n",
       "\t<tr><td>2019</td><td>13905083</td><td> 99.44840</td><td> -0.5516010</td></tr>\n",
       "</tbody>\n",
       "</table>\n"
      ],
      "text/markdown": "\nA tibble: 21 × 4\n\n| anio &lt;dbl&gt; | turistas &lt;dbl&gt; | turistas_index &lt;dbl&gt; | tasa_crecimiento &lt;dbl&gt; |\n|---|---|---|---|\n| 1999 |  8893087 |  63.60288 |  12.7029977 |\n| 2000 |  9123995 |  65.25432 |   2.5964887 |\n| 2001 | 10451936 |  74.75168 |  14.5543811 |\n| 2002 | 10170832 |  72.74124 |  -2.6894922 |\n| 2003 | 10438037 |  74.65227 |   2.6271695 |\n| 2004 | 11615335 |  83.07225 |  11.2789215 |\n| 2005 | 12212665 |  87.34432 |   5.1425981 |\n| 2006 | 11149161 |  79.73819 |  -8.7082058 |\n| 2007 | 11057203 |  79.08052 |  -0.8247975 |\n| 2008 | 11565225 |  82.71386 |   4.5944892 |\n| 2009 |  9966507 |  71.27992 | -13.8234924 |\n| 2010 | 11074690 |  79.20558 |  11.1190711 |\n| 2011 | 12380036 |  88.54135 |  11.7867498 |\n| 2012 | 12305483 |  88.00815 |  -0.6022034 |\n| 2013 | 12677217 |  90.66677 |   3.0208810 |\n| 2014 | 13095264 |  93.65662 |   3.2976244 |\n| 2015 | 13125008 |  93.86934 |   0.2271356 |\n| 2016 | 13582755 |  97.14313 |   3.4875941 |\n| 2017 | 13746859 |  98.31679 |   1.2081790 |\n| 2018 | 13982209 | 100.00000 |   1.7120275 |\n| 2019 | 13905083 |  99.44840 |  -0.5516010 |\n\n",
      "text/latex": "A tibble: 21 × 4\n\\begin{tabular}{llll}\n anio & turistas & turistas\\_index & tasa\\_crecimiento\\\\\n <dbl> & <dbl> & <dbl> & <dbl>\\\\\n\\hline\n\t 1999 &  8893087 &  63.60288 &  12.7029977\\\\\n\t 2000 &  9123995 &  65.25432 &   2.5964887\\\\\n\t 2001 & 10451936 &  74.75168 &  14.5543811\\\\\n\t 2002 & 10170832 &  72.74124 &  -2.6894922\\\\\n\t 2003 & 10438037 &  74.65227 &   2.6271695\\\\\n\t 2004 & 11615335 &  83.07225 &  11.2789215\\\\\n\t 2005 & 12212665 &  87.34432 &   5.1425981\\\\\n\t 2006 & 11149161 &  79.73819 &  -8.7082058\\\\\n\t 2007 & 11057203 &  79.08052 &  -0.8247975\\\\\n\t 2008 & 11565225 &  82.71386 &   4.5944892\\\\\n\t 2009 &  9966507 &  71.27992 & -13.8234924\\\\\n\t 2010 & 11074690 &  79.20558 &  11.1190711\\\\\n\t 2011 & 12380036 &  88.54135 &  11.7867498\\\\\n\t 2012 & 12305483 &  88.00815 &  -0.6022034\\\\\n\t 2013 & 12677217 &  90.66677 &   3.0208810\\\\\n\t 2014 & 13095264 &  93.65662 &   3.2976244\\\\\n\t 2015 & 13125008 &  93.86934 &   0.2271356\\\\\n\t 2016 & 13582755 &  97.14313 &   3.4875941\\\\\n\t 2017 & 13746859 &  98.31679 &   1.2081790\\\\\n\t 2018 & 13982209 & 100.00000 &   1.7120275\\\\\n\t 2019 & 13905083 &  99.44840 &  -0.5516010\\\\\n\\end{tabular}\n",
      "text/plain": [
       "   anio turistas turistas_index tasa_crecimiento\n",
       "1  1999  8893087  63.60288       12.7029977     \n",
       "2  2000  9123995  65.25432        2.5964887     \n",
       "3  2001 10451936  74.75168       14.5543811     \n",
       "4  2002 10170832  72.74124       -2.6894922     \n",
       "5  2003 10438037  74.65227        2.6271695     \n",
       "6  2004 11615335  83.07225       11.2789215     \n",
       "7  2005 12212665  87.34432        5.1425981     \n",
       "8  2006 11149161  79.73819       -8.7082058     \n",
       "9  2007 11057203  79.08052       -0.8247975     \n",
       "10 2008 11565225  82.71386        4.5944892     \n",
       "11 2009  9966507  71.27992      -13.8234924     \n",
       "12 2010 11074690  79.20558       11.1190711     \n",
       "13 2011 12380036  88.54135       11.7867498     \n",
       "14 2012 12305483  88.00815       -0.6022034     \n",
       "15 2013 12677217  90.66677        3.0208810     \n",
       "16 2014 13095264  93.65662        3.2976244     \n",
       "17 2015 13125008  93.86934        0.2271356     \n",
       "18 2016 13582755  97.14313        3.4875941     \n",
       "19 2017 13746859  98.31679        1.2081790     \n",
       "20 2018 13982209 100.00000        1.7120275     \n",
       "21 2019 13905083  99.44840       -0.5516010     "
      ]
     },
     "metadata": {},
     "output_type": "display_data"
    }
   ],
   "execution_count": 3
  },
  {
   "metadata": {
    "ExecuteTime": {
     "end_time": "2025-02-09T04:31:26.947768Z",
     "start_time": "2025-02-09T04:31:26.928914Z"
    }
   },
   "cell_type": "code",
   "source": [
    "#Hacer regresión lineal de indice de turistas\n",
    "modelo<-lm(turistas_index~anio,data=turistas)\n",
    "modelo%>%summary()"
   ],
   "id": "bb9689789a923e1a",
   "outputs": [
    {
     "data": {
      "text/plain": [
       "\n",
       "Call:\n",
       "lm(formula = turistas_index ~ anio, data = turistas)\n",
       "\n",
       "Residuals:\n",
       "     Min       1Q   Median       3Q      Max \n",
       "-12.6766  -0.8273   0.3836   1.4069   9.8929 \n",
       "\n",
       "Coefficients:\n",
       "              Estimate Std. Error t value Pr(>|t|)    \n",
       "(Intercept) -3183.2457   338.6029  -9.401 1.41e-08 ***\n",
       "anio            1.6263     0.1685   9.649 9.33e-09 ***\n",
       "---\n",
       "Signif. codes:  0 '***' 0.001 '**' 0.01 '*' 0.05 '.' 0.1 ' ' 1\n",
       "\n",
       "Residual standard error: 4.677 on 19 degrees of freedom\n",
       "Multiple R-squared:  0.8305,\tAdjusted R-squared:  0.8216 \n",
       "F-statistic: 93.11 on 1 and 19 DF,  p-value: 9.327e-09\n"
      ]
     },
     "metadata": {},
     "output_type": "display_data"
    }
   ],
   "execution_count": 4
  },
  {
   "metadata": {
    "ExecuteTime": {
     "end_time": "2025-02-09T04:31:27.223306Z",
     "start_time": "2025-02-09T04:31:27.022147Z"
    }
   },
   "cell_type": "code",
   "source": [
    "#Graficar\n",
    "turistas%>%\n",
    "ggplot(aes(x=anio, y=turistas_index))+\n",
    "geom_point()+\n",
    "geom_smooth(method=\"lm\",se=FALSE)+\n",
    "labs(title=\"Índice de turistas en CDMX\",x=\"Año\",y=\"Índice de turistas\")+\n",
    "theme_minimal()+\n",
    "theme(legend.position = \"none\")\n"
   ],
   "id": "6224aff1c5570108",
   "outputs": [
    {
     "name": "stderr",
     "output_type": "stream",
     "text": [
      "\u001B[1m\u001B[22m`geom_smooth()` using formula = 'y ~ x'\n"
     ]
    },
    {
     "data": {
      "text/plain": [
       "plot without title"
      ],
      "image/png": "[encoded data removed]"
     },
     "metadata": {
      "image/png": {
       "width": 420,
       "height": 420
      }
     },
     "output_type": "display_data"
    }
   ],
   "execution_count": 5
  },
  {
   "metadata": {
    "ExecuteTime": {
     "end_time": "2025-02-09T04:31:27.268943Z",
     "start_time": "2025-02-09T04:31:27.230206Z"
    }
   },
   "cell_type": "code",
   "source": [
    "#Hacer predicción de índice de turistas para 2025 a 2045\n",
    "prediccion<-data.frame(anio=2020:2045)\n",
    "prediccion$turistas_index<-predict(modelo,newdata=prediccion)\n",
    "#Tasa de crecimiento del índice de turistas\n",
    "prediccion$tasa_crecimiento<-diff(prediccion$turistas_index)/prediccion$turistas_index*100\n",
    "prediccion"
   ],
   "id": "72fa6fb93d1ff582",
   "outputs": [
    {
     "name": "stderr",
     "output_type": "stream",
     "text": [
      "Warning message in diff(prediccion$turistas_index)/prediccion$turistas_index:\n",
      "\"longer object length is not a multiple of shorter object length\"\n"
     ]
    },
    {
     "data": {
      "text/html": [
       "<table class=\"dataframe\">\n",
       "<caption>A data.frame: 26 × 3</caption>\n",
       "<thead>\n",
       "\t<tr><th scope=col>anio</th><th scope=col>turistas_index</th><th scope=col>tasa_crecimiento</th></tr>\n",
       "\t<tr><th scope=col>&lt;int&gt;</th><th scope=col>&lt;dbl&gt;</th><th scope=col>&lt;dbl&gt;</th></tr>\n",
       "</thead>\n",
       "<tbody>\n",
       "\t<tr><td>2020</td><td>101.8457</td><td>1.596811</td></tr>\n",
       "\t<tr><td>2021</td><td>103.4719</td><td>1.571714</td></tr>\n",
       "\t<tr><td>2022</td><td>105.0982</td><td>1.547393</td></tr>\n",
       "\t<tr><td>2023</td><td>106.7245</td><td>1.523814</td></tr>\n",
       "\t<tr><td>2024</td><td>108.3508</td><td>1.500942</td></tr>\n",
       "\t<tr><td>2025</td><td>109.9771</td><td>1.478747</td></tr>\n",
       "\t<tr><td>2026</td><td>111.6034</td><td>1.457199</td></tr>\n",
       "\t<tr><td>2027</td><td>113.2296</td><td>1.436270</td></tr>\n",
       "\t<tr><td>2028</td><td>114.8559</td><td>1.415933</td></tr>\n",
       "\t<tr><td>2029</td><td>116.4822</td><td>1.396164</td></tr>\n",
       "\t<tr><td>2030</td><td>118.1085</td><td>1.376940</td></tr>\n",
       "\t<tr><td>2031</td><td>119.7348</td><td>1.358238</td></tr>\n",
       "\t<tr><td>2032</td><td>121.3611</td><td>1.340037</td></tr>\n",
       "\t<tr><td>2033</td><td>122.9873</td><td>1.322317</td></tr>\n",
       "\t<tr><td>2034</td><td>124.6136</td><td>1.305060</td></tr>\n",
       "\t<tr><td>2035</td><td>126.2399</td><td>1.288248</td></tr>\n",
       "\t<tr><td>2036</td><td>127.8662</td><td>1.271863</td></tr>\n",
       "\t<tr><td>2037</td><td>129.4925</td><td>1.255890</td></tr>\n",
       "\t<tr><td>2038</td><td>131.1188</td><td>1.240313</td></tr>\n",
       "\t<tr><td>2039</td><td>132.7450</td><td>1.225118</td></tr>\n",
       "\t<tr><td>2040</td><td>134.3713</td><td>1.210290</td></tr>\n",
       "\t<tr><td>2041</td><td>135.9976</td><td>1.195817</td></tr>\n",
       "\t<tr><td>2042</td><td>137.6239</td><td>1.181686</td></tr>\n",
       "\t<tr><td>2043</td><td>139.2502</td><td>1.167886</td></tr>\n",
       "\t<tr><td>2044</td><td>140.8765</td><td>1.154404</td></tr>\n",
       "\t<tr><td>2045</td><td>142.5027</td><td>1.141229</td></tr>\n",
       "</tbody>\n",
       "</table>\n"
      ],
      "text/markdown": "\nA data.frame: 26 × 3\n\n| anio &lt;int&gt; | turistas_index &lt;dbl&gt; | tasa_crecimiento &lt;dbl&gt; |\n|---|---|---|\n| 2020 | 101.8457 | 1.596811 |\n| 2021 | 103.4719 | 1.571714 |\n| 2022 | 105.0982 | 1.547393 |\n| 2023 | 106.7245 | 1.523814 |\n| 2024 | 108.3508 | 1.500942 |\n| 2025 | 109.9771 | 1.478747 |\n| 2026 | 111.6034 | 1.457199 |\n| 2027 | 113.2296 | 1.436270 |\n| 2028 | 114.8559 | 1.415933 |\n| 2029 | 116.4822 | 1.396164 |\n| 2030 | 118.1085 | 1.376940 |\n| 2031 | 119.7348 | 1.358238 |\n| 2032 | 121.3611 | 1.340037 |\n| 2033 | 122.9873 | 1.322317 |\n| 2034 | 124.6136 | 1.305060 |\n| 2035 | 126.2399 | 1.288248 |\n| 2036 | 127.8662 | 1.271863 |\n| 2037 | 129.4925 | 1.255890 |\n| 2038 | 131.1188 | 1.240313 |\n| 2039 | 132.7450 | 1.225118 |\n| 2040 | 134.3713 | 1.210290 |\n| 2041 | 135.9976 | 1.195817 |\n| 2042 | 137.6239 | 1.181686 |\n| 2043 | 139.2502 | 1.167886 |\n| 2044 | 140.8765 | 1.154404 |\n| 2045 | 142.5027 | 1.141229 |\n\n",
      "text/latex": "A data.frame: 26 × 3\n\\begin{tabular}{lll}\n anio & turistas\\_index & tasa\\_crecimiento\\\\\n <int> & <dbl> & <dbl>\\\\\n\\hline\n\t 2020 & 101.8457 & 1.596811\\\\\n\t 2021 & 103.4719 & 1.571714\\\\\n\t 2022 & 105.0982 & 1.547393\\\\\n\t 2023 & 106.7245 & 1.523814\\\\\n\t 2024 & 108.3508 & 1.500942\\\\\n\t 2025 & 109.9771 & 1.478747\\\\\n\t 2026 & 111.6034 & 1.457199\\\\\n\t 2027 & 113.2296 & 1.436270\\\\\n\t 2028 & 114.8559 & 1.415933\\\\\n\t 2029 & 116.4822 & 1.396164\\\\\n\t 2030 & 118.1085 & 1.376940\\\\\n\t 2031 & 119.7348 & 1.358238\\\\\n\t 2032 & 121.3611 & 1.340037\\\\\n\t 2033 & 122.9873 & 1.322317\\\\\n\t 2034 & 124.6136 & 1.305060\\\\\n\t 2035 & 126.2399 & 1.288248\\\\\n\t 2036 & 127.8662 & 1.271863\\\\\n\t 2037 & 129.4925 & 1.255890\\\\\n\t 2038 & 131.1188 & 1.240313\\\\\n\t 2039 & 132.7450 & 1.225118\\\\\n\t 2040 & 134.3713 & 1.210290\\\\\n\t 2041 & 135.9976 & 1.195817\\\\\n\t 2042 & 137.6239 & 1.181686\\\\\n\t 2043 & 139.2502 & 1.167886\\\\\n\t 2044 & 140.8765 & 1.154404\\\\\n\t 2045 & 142.5027 & 1.141229\\\\\n\\end{tabular}\n",
      "text/plain": [
       "   anio turistas_index tasa_crecimiento\n",
       "1  2020 101.8457       1.596811        \n",
       "2  2021 103.4719       1.571714        \n",
       "3  2022 105.0982       1.547393        \n",
       "4  2023 106.7245       1.523814        \n",
       "5  2024 108.3508       1.500942        \n",
       "6  2025 109.9771       1.478747        \n",
       "7  2026 111.6034       1.457199        \n",
       "8  2027 113.2296       1.436270        \n",
       "9  2028 114.8559       1.415933        \n",
       "10 2029 116.4822       1.396164        \n",
       "11 2030 118.1085       1.376940        \n",
       "12 2031 119.7348       1.358238        \n",
       "13 2032 121.3611       1.340037        \n",
       "14 2033 122.9873       1.322317        \n",
       "15 2034 124.6136       1.305060        \n",
       "16 2035 126.2399       1.288248        \n",
       "17 2036 127.8662       1.271863        \n",
       "18 2037 129.4925       1.255890        \n",
       "19 2038 131.1188       1.240313        \n",
       "20 2039 132.7450       1.225118        \n",
       "21 2040 134.3713       1.210290        \n",
       "22 2041 135.9976       1.195817        \n",
       "23 2042 137.6239       1.181686        \n",
       "24 2043 139.2502       1.167886        \n",
       "25 2044 140.8765       1.154404        \n",
       "26 2045 142.5027       1.141229        "
      ]
     },
     "metadata": {},
     "output_type": "display_data"
    }
   ],
   "execution_count": 6
  },
  {
   "metadata": {
    "ExecuteTime": {
     "end_time": "2025-02-09T04:31:27.332259Z",
     "start_time": "2025-02-09T04:31:27.298810Z"
    }
   },
   "cell_type": "code",
   "source": [
    "turistas_extended<-bind_rows(turistas,prediccion)%>%\n",
    "#Calcular turistas\n",
    "mutate(turistas=turistas_index*turistas[anio==2018]/100)\n",
    "turistas_extended"
   ],
   "id": "9836c9f1ce011d0e",
   "outputs": [
    {
     "data": {
      "text/html": [
       "<table class=\"dataframe\">\n",
       "<caption>A tibble: 47 × 4</caption>\n",
       "<thead>\n",
       "\t<tr><th scope=col>anio</th><th scope=col>turistas</th><th scope=col>turistas_index</th><th scope=col>tasa_crecimiento</th></tr>\n",
       "\t<tr><th scope=col>&lt;dbl&gt;</th><th scope=col>&lt;dbl&gt;</th><th scope=col>&lt;dbl&gt;</th><th scope=col>&lt;dbl&gt;</th></tr>\n",
       "</thead>\n",
       "<tbody>\n",
       "\t<tr><td>1999</td><td> 8893087</td><td> 63.60288</td><td> 12.7029977</td></tr>\n",
       "\t<tr><td>2000</td><td> 9123995</td><td> 65.25432</td><td>  2.5964887</td></tr>\n",
       "\t<tr><td>2001</td><td>10451936</td><td> 74.75168</td><td> 14.5543811</td></tr>\n",
       "\t<tr><td>2002</td><td>10170832</td><td> 72.74124</td><td> -2.6894922</td></tr>\n",
       "\t<tr><td>2003</td><td>10438037</td><td> 74.65227</td><td>  2.6271695</td></tr>\n",
       "\t<tr><td>2004</td><td>11615335</td><td> 83.07225</td><td> 11.2789215</td></tr>\n",
       "\t<tr><td>2005</td><td>12212665</td><td> 87.34432</td><td>  5.1425981</td></tr>\n",
       "\t<tr><td>2006</td><td>11149161</td><td> 79.73819</td><td> -8.7082058</td></tr>\n",
       "\t<tr><td>2007</td><td>11057203</td><td> 79.08052</td><td> -0.8247975</td></tr>\n",
       "\t<tr><td>2008</td><td>11565225</td><td> 82.71386</td><td>  4.5944892</td></tr>\n",
       "\t<tr><td>2009</td><td> 9966507</td><td> 71.27992</td><td>-13.8234924</td></tr>\n",
       "\t<tr><td>2010</td><td>11074690</td><td> 79.20558</td><td> 11.1190711</td></tr>\n",
       "\t<tr><td>2011</td><td>12380036</td><td> 88.54135</td><td> 11.7867498</td></tr>\n",
       "\t<tr><td>2012</td><td>12305483</td><td> 88.00815</td><td> -0.6022034</td></tr>\n",
       "\t<tr><td>2013</td><td>12677217</td><td> 90.66677</td><td>  3.0208810</td></tr>\n",
       "\t<tr><td>2014</td><td>13095264</td><td> 93.65662</td><td>  3.2976244</td></tr>\n",
       "\t<tr><td>2015</td><td>13125008</td><td> 93.86934</td><td>  0.2271356</td></tr>\n",
       "\t<tr><td>2016</td><td>13582755</td><td> 97.14313</td><td>  3.4875941</td></tr>\n",
       "\t<tr><td>2017</td><td>13746859</td><td> 98.31679</td><td>  1.2081790</td></tr>\n",
       "\t<tr><td>2018</td><td>13982209</td><td>100.00000</td><td>  1.7120275</td></tr>\n",
       "\t<tr><td>2019</td><td>13905083</td><td> 99.44840</td><td> -0.5516010</td></tr>\n",
       "\t<tr><td>2020</td><td>14240273</td><td>101.84566</td><td>  1.5968111</td></tr>\n",
       "\t<tr><td>2021</td><td>14467664</td><td>103.47194</td><td>  1.5717138</td></tr>\n",
       "\t<tr><td>2022</td><td>14695054</td><td>105.09823</td><td>  1.5473932</td></tr>\n",
       "\t<tr><td>2023</td><td>14922444</td><td>106.72451</td><td>  1.5238138</td></tr>\n",
       "\t<tr><td>2024</td><td>15149834</td><td>108.35079</td><td>  1.5009423</td></tr>\n",
       "\t<tr><td>2025</td><td>15377225</td><td>109.97708</td><td>  1.4787471</td></tr>\n",
       "\t<tr><td>2026</td><td>15604615</td><td>111.60336</td><td>  1.4571988</td></tr>\n",
       "\t<tr><td>2027</td><td>15832005</td><td>113.22964</td><td>  1.4362695</td></tr>\n",
       "\t<tr><td>2028</td><td>16059395</td><td>114.85592</td><td>  1.4159329</td></tr>\n",
       "\t<tr><td>2029</td><td>16286786</td><td>116.48221</td><td>  1.3961642</td></tr>\n",
       "\t<tr><td>2030</td><td>16514176</td><td>118.10849</td><td>  1.3769398</td></tr>\n",
       "\t<tr><td>2031</td><td>16741566</td><td>119.73477</td><td>  1.3582377</td></tr>\n",
       "\t<tr><td>2032</td><td>16968957</td><td>121.36106</td><td>  1.3400368</td></tr>\n",
       "\t<tr><td>2033</td><td>17196347</td><td>122.98734</td><td>  1.3223173</td></tr>\n",
       "\t<tr><td>2034</td><td>17423737</td><td>124.61362</td><td>  1.3050603</td></tr>\n",
       "\t<tr><td>2035</td><td>17651127</td><td>126.23990</td><td>  1.2882479</td></tr>\n",
       "\t<tr><td>2036</td><td>17878518</td><td>127.86619</td><td>  1.2718631</td></tr>\n",
       "\t<tr><td>2037</td><td>18105908</td><td>129.49247</td><td>  1.2558899</td></tr>\n",
       "\t<tr><td>2038</td><td>18333298</td><td>131.11875</td><td>  1.2403129</td></tr>\n",
       "\t<tr><td>2039</td><td>18560688</td><td>132.74504</td><td>  1.2251176</td></tr>\n",
       "\t<tr><td>2040</td><td>18788079</td><td>134.37132</td><td>  1.2102902</td></tr>\n",
       "\t<tr><td>2041</td><td>19015469</td><td>135.99760</td><td>  1.1958173</td></tr>\n",
       "\t<tr><td>2042</td><td>19242859</td><td>137.62388</td><td>  1.1816865</td></tr>\n",
       "\t<tr><td>2043</td><td>19470249</td><td>139.25017</td><td>  1.1678857</td></tr>\n",
       "\t<tr><td>2044</td><td>19697640</td><td>140.87645</td><td>  1.1544036</td></tr>\n",
       "\t<tr><td>2045</td><td>19925030</td><td>142.50273</td><td>  1.1412292</td></tr>\n",
       "</tbody>\n",
       "</table>\n"
      ],
      "text/markdown": "\nA tibble: 47 × 4\n\n| anio &lt;dbl&gt; | turistas &lt;dbl&gt; | turistas_index &lt;dbl&gt; | tasa_crecimiento &lt;dbl&gt; |\n|---|---|---|---|\n| 1999 |  8893087 |  63.60288 |  12.7029977 |\n| 2000 |  9123995 |  65.25432 |   2.5964887 |\n| 2001 | 10451936 |  74.75168 |  14.5543811 |\n| 2002 | 10170832 |  72.74124 |  -2.6894922 |\n| 2003 | 10438037 |  74.65227 |   2.6271695 |\n| 2004 | 11615335 |  83.07225 |  11.2789215 |\n| 2005 | 12212665 |  87.34432 |   5.1425981 |\n| 2006 | 11149161 |  79.73819 |  -8.7082058 |\n| 2007 | 11057203 |  79.08052 |  -0.8247975 |\n| 2008 | 11565225 |  82.71386 |   4.5944892 |\n| 2009 |  9966507 |  71.27992 | -13.8234924 |\n| 2010 | 11074690 |  79.20558 |  11.1190711 |\n| 2011 | 12380036 |  88.54135 |  11.7867498 |\n| 2012 | 12305483 |  88.00815 |  -0.6022034 |\n| 2013 | 12677217 |  90.66677 |   3.0208810 |\n| 2014 | 13095264 |  93.65662 |   3.2976244 |\n| 2015 | 13125008 |  93.86934 |   0.2271356 |\n| 2016 | 13582755 |  97.14313 |   3.4875941 |\n| 2017 | 13746859 |  98.31679 |   1.2081790 |\n| 2018 | 13982209 | 100.00000 |   1.7120275 |\n| 2019 | 13905083 |  99.44840 |  -0.5516010 |\n| 2020 | 14240273 | 101.84566 |   1.5968111 |\n| 2021 | 14467664 | 103.47194 |   1.5717138 |\n| 2022 | 14695054 | 105.09823 |   1.5473932 |\n| 2023 | 14922444 | 106.72451 |   1.5238138 |\n| 2024 | 15149834 | 108.35079 |   1.5009423 |\n| 2025 | 15377225 | 109.97708 |   1.4787471 |\n| 2026 | 15604615 | 111.60336 |   1.4571988 |\n| 2027 | 15832005 | 113.22964 |   1.4362695 |\n| 2028 | 16059395 | 114.85592 |   1.4159329 |\n| 2029 | 16286786 | 116.48221 |   1.3961642 |\n| 2030 | 16514176 | 118.10849 |   1.3769398 |\n| 2031 | 16741566 | 119.73477 |   1.3582377 |\n| 2032 | 16968957 | 121.36106 |   1.3400368 |\n| 2033 | 17196347 | 122.98734 |   1.3223173 |\n| 2034 | 17423737 | 124.61362 |   1.3050603 |\n| 2035 | 17651127 | 126.23990 |   1.2882479 |\n| 2036 | 17878518 | 127.86619 |   1.2718631 |\n| 2037 | 18105908 | 129.49247 |   1.2558899 |\n| 2038 | 18333298 | 131.11875 |   1.2403129 |\n| 2039 | 18560688 | 132.74504 |   1.2251176 |\n| 2040 | 18788079 | 134.37132 |   1.2102902 |\n| 2041 | 19015469 | 135.99760 |   1.1958173 |\n| 2042 | 19242859 | 137.62388 |   1.1816865 |\n| 2043 | 19470249 | 139.25017 |   1.1678857 |\n| 2044 | 19697640 | 140.87645 |   1.1544036 |\n| 2045 | 19925030 | 142.50273 |   1.1412292 |\n\n",
      "text/latex": "A tibble: 47 × 4\n\\begin{tabular}{llll}\n anio & turistas & turistas\\_index & tasa\\_crecimiento\\\\\n <dbl> & <dbl> & <dbl> & <dbl>\\\\\n\\hline\n\t 1999 &  8893087 &  63.60288 &  12.7029977\\\\\n\t 2000 &  9123995 &  65.25432 &   2.5964887\\\\\n\t 2001 & 10451936 &  74.75168 &  14.5543811\\\\\n\t 2002 & 10170832 &  72.74124 &  -2.6894922\\\\\n\t 2003 & 10438037 &  74.65227 &   2.6271695\\\\\n\t 2004 & 11615335 &  83.07225 &  11.2789215\\\\\n\t 2005 & 12212665 &  87.34432 &   5.1425981\\\\\n\t 2006 & 11149161 &  79.73819 &  -8.7082058\\\\\n\t 2007 & 11057203 &  79.08052 &  -0.8247975\\\\\n\t 2008 & 11565225 &  82.71386 &   4.5944892\\\\\n\t 2009 &  9966507 &  71.27992 & -13.8234924\\\\\n\t 2010 & 11074690 &  79.20558 &  11.1190711\\\\\n\t 2011 & 12380036 &  88.54135 &  11.7867498\\\\\n\t 2012 & 12305483 &  88.00815 &  -0.6022034\\\\\n\t 2013 & 12677217 &  90.66677 &   3.0208810\\\\\n\t 2014 & 13095264 &  93.65662 &   3.2976244\\\\\n\t 2015 & 13125008 &  93.86934 &   0.2271356\\\\\n\t 2016 & 13582755 &  97.14313 &   3.4875941\\\\\n\t 2017 & 13746859 &  98.31679 &   1.2081790\\\\\n\t 2018 & 13982209 & 100.00000 &   1.7120275\\\\\n\t 2019 & 13905083 &  99.44840 &  -0.5516010\\\\\n\t 2020 & 14240273 & 101.84566 &   1.5968111\\\\\n\t 2021 & 14467664 & 103.47194 &   1.5717138\\\\\n\t 2022 & 14695054 & 105.09823 &   1.5473932\\\\\n\t 2023 & 14922444 & 106.72451 &   1.5238138\\\\\n\t 2024 & 15149834 & 108.35079 &   1.5009423\\\\\n\t 2025 & 15377225 & 109.97708 &   1.4787471\\\\\n\t 2026 & 15604615 & 111.60336 &   1.4571988\\\\\n\t 2027 & 15832005 & 113.22964 &   1.4362695\\\\\n\t 2028 & 16059395 & 114.85592 &   1.4159329\\\\\n\t 2029 & 16286786 & 116.48221 &   1.3961642\\\\\n\t 2030 & 16514176 & 118.10849 &   1.3769398\\\\\n\t 2031 & 16741566 & 119.73477 &   1.3582377\\\\\n\t 2032 & 16968957 & 121.36106 &   1.3400368\\\\\n\t 2033 & 17196347 & 122.98734 &   1.3223173\\\\\n\t 2034 & 17423737 & 124.61362 &   1.3050603\\\\\n\t 2035 & 17651127 & 126.23990 &   1.2882479\\\\\n\t 2036 & 17878518 & 127.86619 &   1.2718631\\\\\n\t 2037 & 18105908 & 129.49247 &   1.2558899\\\\\n\t 2038 & 18333298 & 131.11875 &   1.2403129\\\\\n\t 2039 & 18560688 & 132.74504 &   1.2251176\\\\\n\t 2040 & 18788079 & 134.37132 &   1.2102902\\\\\n\t 2041 & 19015469 & 135.99760 &   1.1958173\\\\\n\t 2042 & 19242859 & 137.62388 &   1.1816865\\\\\n\t 2043 & 19470249 & 139.25017 &   1.1678857\\\\\n\t 2044 & 19697640 & 140.87645 &   1.1544036\\\\\n\t 2045 & 19925030 & 142.50273 &   1.1412292\\\\\n\\end{tabular}\n",
      "text/plain": [
       "   anio turistas turistas_index tasa_crecimiento\n",
       "1  1999  8893087  63.60288       12.7029977     \n",
       "2  2000  9123995  65.25432        2.5964887     \n",
       "3  2001 10451936  74.75168       14.5543811     \n",
       "4  2002 10170832  72.74124       -2.6894922     \n",
       "5  2003 10438037  74.65227        2.6271695     \n",
       "6  2004 11615335  83.07225       11.2789215     \n",
       "7  2005 12212665  87.34432        5.1425981     \n",
       "8  2006 11149161  79.73819       -8.7082058     \n",
       "9  2007 11057203  79.08052       -0.8247975     \n",
       "10 2008 11565225  82.71386        4.5944892     \n",
       "11 2009  9966507  71.27992      -13.8234924     \n",
       "12 2010 11074690  79.20558       11.1190711     \n",
       "13 2011 12380036  88.54135       11.7867498     \n",
       "14 2012 12305483  88.00815       -0.6022034     \n",
       "15 2013 12677217  90.66677        3.0208810     \n",
       "16 2014 13095264  93.65662        3.2976244     \n",
       "17 2015 13125008  93.86934        0.2271356     \n",
       "18 2016 13582755  97.14313        3.4875941     \n",
       "19 2017 13746859  98.31679        1.2081790     \n",
       "20 2018 13982209 100.00000        1.7120275     \n",
       "21 2019 13905083  99.44840       -0.5516010     \n",
       "22 2020 14240273 101.84566        1.5968111     \n",
       "23 2021 14467664 103.47194        1.5717138     \n",
       "24 2022 14695054 105.09823        1.5473932     \n",
       "25 2023 14922444 106.72451        1.5238138     \n",
       "26 2024 15149834 108.35079        1.5009423     \n",
       "27 2025 15377225 109.97708        1.4787471     \n",
       "28 2026 15604615 111.60336        1.4571988     \n",
       "29 2027 15832005 113.22964        1.4362695     \n",
       "30 2028 16059395 114.85592        1.4159329     \n",
       "31 2029 16286786 116.48221        1.3961642     \n",
       "32 2030 16514176 118.10849        1.3769398     \n",
       "33 2031 16741566 119.73477        1.3582377     \n",
       "34 2032 16968957 121.36106        1.3400368     \n",
       "35 2033 17196347 122.98734        1.3223173     \n",
       "36 2034 17423737 124.61362        1.3050603     \n",
       "37 2035 17651127 126.23990        1.2882479     \n",
       "38 2036 17878518 127.86619        1.2718631     \n",
       "39 2037 18105908 129.49247        1.2558899     \n",
       "40 2038 18333298 131.11875        1.2403129     \n",
       "41 2039 18560688 132.74504        1.2251176     \n",
       "42 2040 18788079 134.37132        1.2102902     \n",
       "43 2041 19015469 135.99760        1.1958173     \n",
       "44 2042 19242859 137.62388        1.1816865     \n",
       "45 2043 19470249 139.25017        1.1678857     \n",
       "46 2044 19697640 140.87645        1.1544036     \n",
       "47 2045 19925030 142.50273        1.1412292     "
      ]
     },
     "metadata": {},
     "output_type": "display_data"
    }
   ],
   "execution_count": 7
  },
  {
   "metadata": {
    "ExecuteTime": {
     "end_time": "2025-02-09T04:31:27.630620Z",
     "start_time": "2025-02-09T04:31:27.361026Z"
    }
   },
   "cell_type": "code",
   "source": [
    "# Plotear índice de turistas\n",
    "turistas_extended%>%\n",
    "ggplot(aes(x=anio, y=turistas_index, color=anio))+\n",
    "geom_line()+geom_point()+\n",
    "labs(title=\"Índice de turistas en la Ciudad de México, 2018-2045\",x=\"Año\",y=\"Índice de turistas\",\n",
    "subtitle=\"2018=100\")+\n",
    "theme_minimal()+\n",
    "theme(legend.position = \"none\")"
   ],
   "id": "f046f1f573598ce5",
   "outputs": [
    {
     "data": {
      "text/plain": [
       "plot without title"
      ],
      "image/png": "[encoded data removed]"
     },
     "metadata": {
      "image/png": {
       "width": 420,
       "height": 420
      }
     },
     "output_type": "display_data"
    }
   ],
   "execution_count": 8
  },
  {
   "metadata": {
    "ExecuteTime": {
     "end_time": "2025-02-09T04:31:27.770267Z",
     "start_time": "2025-02-09T04:31:27.646043Z"
    }
   },
   "cell_type": "code",
   "source": [
    "# Plotear turistas\n",
    "turistas_extended%>%\n",
    "ggplot(aes(x=anio, y=turistas, color=anio))+\n",
    "geom_line()+geom_point()+\n",
    "labs(title=\"Llegada de turistas a la Ciudad de México, 2018-2045\",x=\"Año\",y=\"Turistas\")+\n",
    "theme_minimal()+\n",
    "theme(legend.position = \"none\")"
   ],
   "id": "76fe1a0825eca3a2",
   "outputs": [
    {
     "data": {
      "text/plain": [
       "plot without title"
      ],
      "image/png": "[encoded data removed]"
     },
     "metadata": {
      "image/png": {
       "width": 420,
       "height": 420
      }
     },
     "output_type": "display_data"
    }
   ],
   "execution_count": 9
  },
  {
   "metadata": {
    "ExecuteTime": {
     "end_time": "2025-02-09T04:31:27.800451Z",
     "start_time": "2025-02-09T04:31:27.777358Z"
    }
   },
   "cell_type": "code",
   "source": [
    "## Mostrar valores 2030, 2035 y 2045\n",
    "turistas_extended%>%\n",
    "filter(anio %in% c(2030,2035,2045))%>%\n",
    "select(anio,turistas_index)\n"
   ],
   "id": "13479afbe767a290",
   "outputs": [
    {
     "data": {
      "text/html": [
       "<table class=\"dataframe\">\n",
       "<caption>A tibble: 3 × 2</caption>\n",
       "<thead>\n",
       "\t<tr><th scope=col>anio</th><th scope=col>turistas_index</th></tr>\n",
       "\t<tr><th scope=col>&lt;dbl&gt;</th><th scope=col>&lt;dbl&gt;</th></tr>\n",
       "</thead>\n",
       "<tbody>\n",
       "\t<tr><td>2030</td><td>118.1085</td></tr>\n",
       "\t<tr><td>2035</td><td>126.2399</td></tr>\n",
       "\t<tr><td>2045</td><td>142.5027</td></tr>\n",
       "</tbody>\n",
       "</table>\n"
      ],
      "text/markdown": "\nA tibble: 3 × 2\n\n| anio &lt;dbl&gt; | turistas_index &lt;dbl&gt; |\n|---|---|\n| 2030 | 118.1085 |\n| 2035 | 126.2399 |\n| 2045 | 142.5027 |\n\n",
      "text/latex": "A tibble: 3 × 2\n\\begin{tabular}{ll}\n anio & turistas\\_index\\\\\n <dbl> & <dbl>\\\\\n\\hline\n\t 2030 & 118.1085\\\\\n\t 2035 & 126.2399\\\\\n\t 2045 & 142.5027\\\\\n\\end{tabular}\n",
      "text/plain": [
       "  anio turistas_index\n",
       "1 2030 118.1085      \n",
       "2 2035 126.2399      \n",
       "3 2045 142.5027      "
      ]
     },
     "metadata": {},
     "output_type": "display_data"
    }
   ],
   "execution_count": 10
  },
  {
   "metadata": {},
   "cell_type": "markdown",
   "source": "### Relación turista internacional por turista nacional",
   "id": "e99cd9be73422d3b"
  },
  {
   "metadata": {
    "ExecuteTime": {
     "end_time": "2025-02-09T04:31:28.276103Z",
     "start_time": "2025-02-09T04:31:27.826683Z"
    }
   },
   "cell_type": "code",
   "source": [
    "##Calcular turista internacional por cada turista nacional\n",
    "turnal<-read_csv(url_tur,show_col_types = FALSE)%>%filter(anio<=2019)%>%\n",
    "group_by(anio,ambito)%>%\n",
    "summarise(turistas=sum(turistas))%>%\n",
    "pivot_wider(names_from = \"ambito\", values_from = \"turistas\")%>%\n",
    "janitor::clean_names()%>%\n",
    "#Calcular turista internacional por cada turista nacional\n",
    "mutate(turintnal=internacionales/nacionales)\n",
    "\n",
    "turnal\n"
   ],
   "id": "34efaeda76bf5cc2",
   "outputs": [
    {
     "name": "stderr",
     "output_type": "stream",
     "text": [
      "\u001B[1m\u001B[22m`summarise()` has grouped output by 'anio'. You can override using the\n",
      "`.groups` argument.\n"
     ]
    },
    {
     "data": {
      "text/html": [
       "<table class=\"dataframe\">\n",
       "<caption>A grouped_df: 22 × 4</caption>\n",
       "<thead>\n",
       "\t<tr><th scope=col>anio</th><th scope=col>internacionales</th><th scope=col>nacionales</th><th scope=col>turintnal</th></tr>\n",
       "\t<tr><th scope=col>&lt;dbl&gt;</th><th scope=col>&lt;dbl&gt;</th><th scope=col>&lt;dbl&gt;</th><th scope=col>&lt;dbl&gt;</th></tr>\n",
       "</thead>\n",
       "<tbody>\n",
       "\t<tr><td>1998</td><td>1960885</td><td> 5929843</td><td>0.3306808</td></tr>\n",
       "\t<tr><td>1999</td><td>1993834</td><td> 6899253</td><td>0.2889927</td></tr>\n",
       "\t<tr><td>2000</td><td>2098581</td><td> 7025414</td><td>0.2987128</td></tr>\n",
       "\t<tr><td>2001</td><td>2505806</td><td> 7946130</td><td>0.3153492</td></tr>\n",
       "\t<tr><td>2002</td><td>2311649</td><td> 7859183</td><td>0.2941335</td></tr>\n",
       "\t<tr><td>2003</td><td>2595500</td><td> 7842537</td><td>0.3309516</td></tr>\n",
       "\t<tr><td>2004</td><td>2811310</td><td> 8804025</td><td>0.3193210</td></tr>\n",
       "\t<tr><td>2005</td><td>3279097</td><td> 8933568</td><td>0.3670535</td></tr>\n",
       "\t<tr><td>2006</td><td>2822909</td><td> 8326252</td><td>0.3390372</td></tr>\n",
       "\t<tr><td>2007</td><td>2711485</td><td> 8345718</td><td>0.3248954</td></tr>\n",
       "\t<tr><td>2008</td><td>2850799</td><td> 8714426</td><td>0.3271356</td></tr>\n",
       "\t<tr><td>2009</td><td>1952483</td><td> 8014024</td><td>0.2436333</td></tr>\n",
       "\t<tr><td>2010</td><td>1830557</td><td> 9244133</td><td>0.1980237</td></tr>\n",
       "\t<tr><td>2011</td><td>2073594</td><td>10306442</td><td>0.2011940</td></tr>\n",
       "\t<tr><td>2012</td><td>2276948</td><td>10028535</td><td>0.2270469</td></tr>\n",
       "\t<tr><td>2013</td><td>2378687</td><td>10298530</td><td>0.2309734</td></tr>\n",
       "\t<tr><td>2014</td><td>2588458</td><td>10506806</td><td>0.2463601</td></tr>\n",
       "\t<tr><td>2015</td><td>2708387</td><td>10416621</td><td>0.2600063</td></tr>\n",
       "\t<tr><td>2016</td><td>3010122</td><td>10572633</td><td>0.2847088</td></tr>\n",
       "\t<tr><td>2017</td><td>3113640</td><td>10633219</td><td>0.2928219</td></tr>\n",
       "\t<tr><td>2018</td><td>3163907</td><td>10818302</td><td>0.2924587</td></tr>\n",
       "\t<tr><td>2019</td><td>3755044</td><td>10150039</td><td>0.3699537</td></tr>\n",
       "</tbody>\n",
       "</table>\n"
      ],
      "text/markdown": "\nA grouped_df: 22 × 4\n\n| anio &lt;dbl&gt; | internacionales &lt;dbl&gt; | nacionales &lt;dbl&gt; | turintnal &lt;dbl&gt; |\n|---|---|---|---|\n| 1998 | 1960885 |  5929843 | 0.3306808 |\n| 1999 | 1993834 |  6899253 | 0.2889927 |\n| 2000 | 2098581 |  7025414 | 0.2987128 |\n| 2001 | 2505806 |  7946130 | 0.3153492 |\n| 2002 | 2311649 |  7859183 | 0.2941335 |\n| 2003 | 2595500 |  7842537 | 0.3309516 |\n| 2004 | 2811310 |  8804025 | 0.3193210 |\n| 2005 | 3279097 |  8933568 | 0.3670535 |\n| 2006 | 2822909 |  8326252 | 0.3390372 |\n| 2007 | 2711485 |  8345718 | 0.3248954 |\n| 2008 | 2850799 |  8714426 | 0.3271356 |\n| 2009 | 1952483 |  8014024 | 0.2436333 |\n| 2010 | 1830557 |  9244133 | 0.1980237 |\n| 2011 | 2073594 | 10306442 | 0.2011940 |\n| 2012 | 2276948 | 10028535 | 0.2270469 |\n| 2013 | 2378687 | 10298530 | 0.2309734 |\n| 2014 | 2588458 | 10506806 | 0.2463601 |\n| 2015 | 2708387 | 10416621 | 0.2600063 |\n| 2016 | 3010122 | 10572633 | 0.2847088 |\n| 2017 | 3113640 | 10633219 | 0.2928219 |\n| 2018 | 3163907 | 10818302 | 0.2924587 |\n| 2019 | 3755044 | 10150039 | 0.3699537 |\n\n",
      "text/latex": "A grouped\\_df: 22 × 4\n\\begin{tabular}{llll}\n anio & internacionales & nacionales & turintnal\\\\\n <dbl> & <dbl> & <dbl> & <dbl>\\\\\n\\hline\n\t 1998 & 1960885 &  5929843 & 0.3306808\\\\\n\t 1999 & 1993834 &  6899253 & 0.2889927\\\\\n\t 2000 & 2098581 &  7025414 & 0.2987128\\\\\n\t 2001 & 2505806 &  7946130 & 0.3153492\\\\\n\t 2002 & 2311649 &  7859183 & 0.2941335\\\\\n\t 2003 & 2595500 &  7842537 & 0.3309516\\\\\n\t 2004 & 2811310 &  8804025 & 0.3193210\\\\\n\t 2005 & 3279097 &  8933568 & 0.3670535\\\\\n\t 2006 & 2822909 &  8326252 & 0.3390372\\\\\n\t 2007 & 2711485 &  8345718 & 0.3248954\\\\\n\t 2008 & 2850799 &  8714426 & 0.3271356\\\\\n\t 2009 & 1952483 &  8014024 & 0.2436333\\\\\n\t 2010 & 1830557 &  9244133 & 0.1980237\\\\\n\t 2011 & 2073594 & 10306442 & 0.2011940\\\\\n\t 2012 & 2276948 & 10028535 & 0.2270469\\\\\n\t 2013 & 2378687 & 10298530 & 0.2309734\\\\\n\t 2014 & 2588458 & 10506806 & 0.2463601\\\\\n\t 2015 & 2708387 & 10416621 & 0.2600063\\\\\n\t 2016 & 3010122 & 10572633 & 0.2847088\\\\\n\t 2017 & 3113640 & 10633219 & 0.2928219\\\\\n\t 2018 & 3163907 & 10818302 & 0.2924587\\\\\n\t 2019 & 3755044 & 10150039 & 0.3699537\\\\\n\\end{tabular}\n",
      "text/plain": [
       "   anio internacionales nacionales turintnal\n",
       "1  1998 1960885          5929843   0.3306808\n",
       "2  1999 1993834          6899253   0.2889927\n",
       "3  2000 2098581          7025414   0.2987128\n",
       "4  2001 2505806          7946130   0.3153492\n",
       "5  2002 2311649          7859183   0.2941335\n",
       "6  2003 2595500          7842537   0.3309516\n",
       "7  2004 2811310          8804025   0.3193210\n",
       "8  2005 3279097          8933568   0.3670535\n",
       "9  2006 2822909          8326252   0.3390372\n",
       "10 2007 2711485          8345718   0.3248954\n",
       "11 2008 2850799          8714426   0.3271356\n",
       "12 2009 1952483          8014024   0.2436333\n",
       "13 2010 1830557          9244133   0.1980237\n",
       "14 2011 2073594         10306442   0.2011940\n",
       "15 2012 2276948         10028535   0.2270469\n",
       "16 2013 2378687         10298530   0.2309734\n",
       "17 2014 2588458         10506806   0.2463601\n",
       "18 2015 2708387         10416621   0.2600063\n",
       "19 2016 3010122         10572633   0.2847088\n",
       "20 2017 3113640         10633219   0.2928219\n",
       "21 2018 3163907         10818302   0.2924587\n",
       "22 2019 3755044         10150039   0.3699537"
      ]
     },
     "metadata": {},
     "output_type": "display_data"
    }
   ],
   "execution_count": 11
  },
  {
   "metadata": {
    "ExecuteTime": {
     "end_time": "2025-02-09T04:31:28.446046Z",
     "start_time": "2025-02-09T04:31:28.299851Z"
    }
   },
   "cell_type": "code",
   "source": [
    "##Graficar turista internacional por cada turista nacional\n",
    "turnal%>%\n",
    "ggplot(aes(x=anio, y=turintnal, color=anio))+\n",
    "geom_line()+geom_point()+\n",
    "labs(title=\"Turista internacional por cada turista nacional en CDMX\",x=\"Año\",y=\"Turista internacional por cada turista nacional\")"
   ],
   "id": "20b94c57e37f68e2",
   "outputs": [
    {
     "data": {
      "text/plain": [
       "plot without title"
      ],
      "image/png": "[encoded data removed]"
     },
     "metadata": {
      "image/png": {
       "width": 420,
       "height": 420
      }
     },
     "output_type": "display_data"
    }
   ],
   "execution_count": 12
  },
  {
   "metadata": {},
   "cell_type": "markdown",
   "source": [
    "## Indicador de empleo turístico\n",
    "La primera aproximación será utilizando el sector Restaurantes y servicios de alojamiento. Esto puede representar una sobreestimación del empleo turístico, ya que los restaurantes son actividades conexas al turismo."
   ],
   "id": "1a853e80463aaec7"
  },
  {
   "metadata": {
    "ExecuteTime": {
     "end_time": "2025-02-09T04:31:28.464236Z",
     "start_time": "2025-02-09T04:31:28.451735Z"
    }
   },
   "cell_type": "code",
   "source": [
    "url_trabajo<-\"https://www.stps.gob.mx/gobmx/estadisticas/ENOE_TRIM15_2020/df.xls\"\n",
    "#Crear carpeta data\n",
    "dir.create(\"data\",showWarnings = FALSE)"
   ],
   "id": "3570f522f9279911",
   "outputs": [],
   "execution_count": 13
  },
  {
   "metadata": {
    "ExecuteTime": {
     "end_time": "2025-02-09T04:31:29.105956Z",
     "start_time": "2025-02-09T04:31:28.469788Z"
    }
   },
   "cell_type": "code",
   "source": [
    "##Descargar archivo\n",
    "GET(url_trabajo, write_disk(\"data/trabajo.xls\",overwrite = TRUE), config = config(ssl_verifypeer = FALSE))"
   ],
   "id": "6fdf12d81a9f8baa",
   "outputs": [
    {
     "data": {
      "text/plain": [
       "Response [https://www.stps.gob.mx/gobmx/estadisticas/ENOE_TRIM15_2020/df.xls]\n",
       "  Date: 2025-02-09 04:31\n",
       "  Status: 200\n",
       "  Content-Type: application/vnd.ms-excel\n",
       "  Size: 554 kB\n",
       "<ON DISK>  C:\\Users\\claud\\Documents\\GitHub\\pgd_cdmx\\indicadores\\turismo\\data\\trabajo.xlsNULL"
      ]
     },
     "metadata": {},
     "output_type": "display_data"
    }
   ],
   "execution_count": 14
  },
  {
   "metadata": {
    "ExecuteTime": {
     "end_time": "2025-02-09T04:31:29.582540Z",
     "start_time": "2025-02-09T04:31:29.116184Z"
    }
   },
   "cell_type": "code",
   "source": [
    "##Leer archivo\n",
    "trabajo<-readxl::read_xls(\"data/trabajo.xls\",sheet=1, skip=5, col_names = FALSE)%>%\n",
    "rename(concepto=1)%>%\n",
    "#Filtrar si concepto contiene Población ocupada o Restaurantes\n",
    "filter(grepl(\"Ocupada|Restaurantes\",concepto))%>%\n",
    "#seleccioanr primeros dos renglones\n",
    "slice(1:2)\n",
    "trabajo"
   ],
   "id": "884a6f5ca32abe27",
   "outputs": [
    {
     "name": "stderr",
     "output_type": "stream",
     "text": [
      "\u001B[1m\u001B[22mNew names:\n",
      "\u001B[36m•\u001B[39m `` -> `...1`\n",
      "\u001B[36m•\u001B[39m `` -> `...2`\n",
      "\u001B[36m•\u001B[39m `` -> `...3`\n",
      "\u001B[36m•\u001B[39m `` -> `...4`\n",
      "\u001B[36m•\u001B[39m `` -> `...5`\n",
      "\u001B[36m•\u001B[39m `` -> `...6`\n",
      "\u001B[36m•\u001B[39m `` -> `...7`\n",
      "\u001B[36m•\u001B[39m `` -> `...8`\n",
      "\u001B[36m•\u001B[39m `` -> `...9`\n",
      "\u001B[36m•\u001B[39m `` -> `...10`\n",
      "\u001B[36m•\u001B[39m `` -> `...11`\n",
      "\u001B[36m•\u001B[39m `` -> `...12`\n",
      "\u001B[36m•\u001B[39m `` -> `...13`\n",
      "\u001B[36m•\u001B[39m `` -> `...14`\n",
      "\u001B[36m•\u001B[39m `` -> `...15`\n",
      "\u001B[36m•\u001B[39m `` -> `...16`\n",
      "\u001B[36m•\u001B[39m `` -> `...17`\n",
      "\u001B[36m•\u001B[39m `` -> `...18`\n",
      "\u001B[36m•\u001B[39m `` -> `...19`\n",
      "\u001B[36m•\u001B[39m `` -> `...20`\n",
      "\u001B[36m•\u001B[39m `` -> `...21`\n",
      "\u001B[36m•\u001B[39m `` -> `...22`\n",
      "\u001B[36m•\u001B[39m `` -> `...23`\n",
      "\u001B[36m•\u001B[39m `` -> `...24`\n",
      "\u001B[36m•\u001B[39m `` -> `...25`\n",
      "\u001B[36m•\u001B[39m `` -> `...26`\n",
      "\u001B[36m•\u001B[39m `` -> `...27`\n",
      "\u001B[36m•\u001B[39m `` -> `...28`\n",
      "\u001B[36m•\u001B[39m `` -> `...29`\n",
      "\u001B[36m•\u001B[39m `` -> `...30`\n",
      "\u001B[36m•\u001B[39m `` -> `...31`\n",
      "\u001B[36m•\u001B[39m `` -> `...32`\n",
      "\u001B[36m•\u001B[39m `` -> `...33`\n",
      "\u001B[36m•\u001B[39m `` -> `...34`\n",
      "\u001B[36m•\u001B[39m `` -> `...35`\n",
      "\u001B[36m•\u001B[39m `` -> `...36`\n",
      "\u001B[36m•\u001B[39m `` -> `...37`\n",
      "\u001B[36m•\u001B[39m `` -> `...38`\n",
      "\u001B[36m•\u001B[39m `` -> `...39`\n",
      "\u001B[36m•\u001B[39m `` -> `...40`\n",
      "\u001B[36m•\u001B[39m `` -> `...41`\n",
      "\u001B[36m•\u001B[39m `` -> `...42`\n",
      "\u001B[36m•\u001B[39m `` -> `...43`\n",
      "\u001B[36m•\u001B[39m `` -> `...44`\n",
      "\u001B[36m•\u001B[39m `` -> `...45`\n",
      "\u001B[36m•\u001B[39m `` -> `...46`\n",
      "\u001B[36m•\u001B[39m `` -> `...47`\n",
      "\u001B[36m•\u001B[39m `` -> `...48`\n",
      "\u001B[36m•\u001B[39m `` -> `...49`\n",
      "\u001B[36m•\u001B[39m `` -> `...50`\n",
      "\u001B[36m•\u001B[39m `` -> `...51`\n",
      "\u001B[36m•\u001B[39m `` -> `...52`\n",
      "\u001B[36m•\u001B[39m `` -> `...53`\n",
      "\u001B[36m•\u001B[39m `` -> `...54`\n",
      "\u001B[36m•\u001B[39m `` -> `...55`\n",
      "\u001B[36m•\u001B[39m `` -> `...56`\n",
      "\u001B[36m•\u001B[39m `` -> `...57`\n",
      "\u001B[36m•\u001B[39m `` -> `...58`\n",
      "\u001B[36m•\u001B[39m `` -> `...59`\n",
      "\u001B[36m•\u001B[39m `` -> `...60`\n",
      "\u001B[36m•\u001B[39m `` -> `...61`\n",
      "\u001B[36m•\u001B[39m `` -> `...62`\n",
      "\u001B[36m•\u001B[39m `` -> `...63`\n",
      "\u001B[36m•\u001B[39m `` -> `...64`\n",
      "\u001B[36m•\u001B[39m `` -> `...65`\n",
      "\u001B[36m•\u001B[39m `` -> `...66`\n",
      "\u001B[36m•\u001B[39m `` -> `...67`\n",
      "\u001B[36m•\u001B[39m `` -> `...68`\n",
      "\u001B[36m•\u001B[39m `` -> `...69`\n",
      "\u001B[36m•\u001B[39m `` -> `...70`\n",
      "\u001B[36m•\u001B[39m `` -> `...71`\n",
      "\u001B[36m•\u001B[39m `` -> `...72`\n"
     ]
    },
    {
     "data": {
      "text/html": [
       "<table class=\"dataframe\">\n",
       "<caption>A tibble: 2 × 72</caption>\n",
       "<thead>\n",
       "\t<tr><th scope=col>concepto</th><th scope=col>...2</th><th scope=col>...3</th><th scope=col>...4</th><th scope=col>...5</th><th scope=col>...6</th><th scope=col>...7</th><th scope=col>...8</th><th scope=col>...9</th><th scope=col>...10</th><th scope=col>⋯</th><th scope=col>...63</th><th scope=col>...64</th><th scope=col>...65</th><th scope=col>...66</th><th scope=col>...67</th><th scope=col>...68</th><th scope=col>...69</th><th scope=col>...70</th><th scope=col>...71</th><th scope=col>...72</th></tr>\n",
       "\t<tr><th scope=col>&lt;chr&gt;</th><th scope=col>&lt;dbl&gt;</th><th scope=col>&lt;dbl&gt;</th><th scope=col>&lt;dbl&gt;</th><th scope=col>&lt;dbl&gt;</th><th scope=col>&lt;dbl&gt;</th><th scope=col>&lt;dbl&gt;</th><th scope=col>&lt;dbl&gt;</th><th scope=col>&lt;dbl&gt;</th><th scope=col>&lt;dbl&gt;</th><th scope=col>⋯</th><th scope=col>&lt;dbl&gt;</th><th scope=col>&lt;dbl&gt;</th><th scope=col>&lt;dbl&gt;</th><th scope=col>&lt;dbl&gt;</th><th scope=col>&lt;dbl&gt;</th><th scope=col>&lt;dbl&gt;</th><th scope=col>&lt;dbl&gt;</th><th scope=col>&lt;dbl&gt;</th><th scope=col>&lt;dbl&gt;</th><th scope=col>&lt;dbl&gt;</th></tr>\n",
       "</thead>\n",
       "<tbody>\n",
       "\t<tr><td>Ocupada                                </td><td>3944569</td><td>3882601</td><td>3924236</td><td>3964657</td><td>3949209</td><td>3992661</td><td>3904975</td><td>3845065</td><td>3896719</td><td>⋯</td><td>4534376</td><td>4546515</td><td>4698174</td><td>4693298</td><td>4709095</td><td>4712506</td><td>4657701</td><td>4715069</td><td>4834239</td><td>4894634</td></tr>\n",
       "\t<tr><td>Restaurantes y servicios de alojamiento</td><td> 265813</td><td> 232611</td><td> 252652</td><td> 259892</td><td> 260925</td><td> 277272</td><td> 264525</td><td> 273183</td><td> 281031</td><td>⋯</td><td> 402309</td><td> 360642</td><td> 381627</td><td> 343656</td><td> 352408</td><td> 379942</td><td> 381154</td><td> 350950</td><td> 411774</td><td> 415820</td></tr>\n",
       "</tbody>\n",
       "</table>\n"
      ],
      "text/markdown": "\nA tibble: 2 × 72\n\n| concepto &lt;chr&gt; | ...2 &lt;dbl&gt; | ...3 &lt;dbl&gt; | ...4 &lt;dbl&gt; | ...5 &lt;dbl&gt; | ...6 &lt;dbl&gt; | ...7 &lt;dbl&gt; | ...8 &lt;dbl&gt; | ...9 &lt;dbl&gt; | ...10 &lt;dbl&gt; | ⋯ ⋯ | ...63 &lt;dbl&gt; | ...64 &lt;dbl&gt; | ...65 &lt;dbl&gt; | ...66 &lt;dbl&gt; | ...67 &lt;dbl&gt; | ...68 &lt;dbl&gt; | ...69 &lt;dbl&gt; | ...70 &lt;dbl&gt; | ...71 &lt;dbl&gt; | ...72 &lt;dbl&gt; |\n|---|---|---|---|---|---|---|---|---|---|---|---|---|---|---|---|---|---|---|---|---|\n| Ocupada                                 | 3944569 | 3882601 | 3924236 | 3964657 | 3949209 | 3992661 | 3904975 | 3845065 | 3896719 | ⋯ | 4534376 | 4546515 | 4698174 | 4693298 | 4709095 | 4712506 | 4657701 | 4715069 | 4834239 | 4894634 |\n| Restaurantes y servicios de alojamiento |  265813 |  232611 |  252652 |  259892 |  260925 |  277272 |  264525 |  273183 |  281031 | ⋯ |  402309 |  360642 |  381627 |  343656 |  352408 |  379942 |  381154 |  350950 |  411774 |  415820 |\n\n",
      "text/latex": "A tibble: 2 × 72\n\\begin{tabular}{lllllllllllllllllllll}\n concepto & ...2 & ...3 & ...4 & ...5 & ...6 & ...7 & ...8 & ...9 & ...10 & ⋯ & ...63 & ...64 & ...65 & ...66 & ...67 & ...68 & ...69 & ...70 & ...71 & ...72\\\\\n <chr> & <dbl> & <dbl> & <dbl> & <dbl> & <dbl> & <dbl> & <dbl> & <dbl> & <dbl> & ⋯ & <dbl> & <dbl> & <dbl> & <dbl> & <dbl> & <dbl> & <dbl> & <dbl> & <dbl> & <dbl>\\\\\n\\hline\n\t Ocupada                                 & 3944569 & 3882601 & 3924236 & 3964657 & 3949209 & 3992661 & 3904975 & 3845065 & 3896719 & ⋯ & 4534376 & 4546515 & 4698174 & 4693298 & 4709095 & 4712506 & 4657701 & 4715069 & 4834239 & 4894634\\\\\n\t Restaurantes y servicios de alojamiento &  265813 &  232611 &  252652 &  259892 &  260925 &  277272 &  264525 &  273183 &  281031 & ⋯ &  402309 &  360642 &  381627 &  343656 &  352408 &  379942 &  381154 &  350950 &  411774 &  415820\\\\\n\\end{tabular}\n",
      "text/plain": [
       "  concepto                                ...2    ...3    ...4    ...5   \n",
       "1 Ocupada                                 3944569 3882601 3924236 3964657\n",
       "2 Restaurantes y servicios de alojamiento  265813  232611  252652  259892\n",
       "  ...6    ...7    ...8    ...9    ...10   ⋯ ...63   ...64   ...65   ...66  \n",
       "1 3949209 3992661 3904975 3845065 3896719 ⋯ 4534376 4546515 4698174 4693298\n",
       "2  260925  277272  264525  273183  281031 ⋯  402309  360642  381627  343656\n",
       "  ...67   ...68   ...69   ...70   ...71   ...72  \n",
       "1 4709095 4712506 4657701 4715069 4834239 4894634\n",
       "2  352408  379942  381154  350950  411774  415820"
      ]
     },
     "metadata": {},
     "output_type": "display_data"
    }
   ],
   "execution_count": 15
  },
  {
   "metadata": {
    "ExecuteTime": {
     "end_time": "2025-02-09T04:31:30.129849Z",
     "start_time": "2025-02-09T04:31:29.609987Z"
    }
   },
   "cell_type": "code",
   "source": [
    "# Generar nombre de columnas 2 hacia adelante\n",
    "start_year <- 2007\n",
    "start_quarter <- 1\n",
    "\n",
    "trabajo <- readxl::read_xls(\"data/trabajo.xls\",sheet=1, skip=5, col_names = FALSE)%>%\n",
    "    rename(concepto = 1) %>%\n",
    "#Filtrar si concepto contiene Población ocupada o Restaurantes\n",
    "  filter(grepl(\"Ocupada|Restaurantes\", concepto)) %>%\n",
    "  slice(1:2) %>%\n",
    "  #Generar nombre de columnas 2 hacia adelante\n",
    "\n",
    "  {\n",
    "    num_quarters <- ncol(.) - 1\n",
    "    quarter_names <- sapply(0:(num_quarters - 1), function(i) {\n",
    "      year <- start_year + (start_quarter + i - 1) %/% 4\n",
    "      quarter <- (start_quarter + i - 1) %% 4 + 1\n",
    "      paste0(year, \" Q\", quarter)\n",
    "    })\n",
    "    setNames(., c(\"concepto\", quarter_names))\n",
    "  }%>%\n",
    "  mutate(across(-concepto, as.numeric))%>%\n",
    "    pivot_longer(cols = -concepto, names_to = \"quarter\", values_to = \"value\")%>%\n",
    "    #Filtrar si quarter contiene Q4\n",
    "    filter(grepl(\"Q4\",quarter))%>%\n",
    "    #Crear año\n",
    "    mutate(year=as.numeric(str_extract(quarter,\"\\\\d{4}\")))%>%\n",
    "  group_by(year) %>%\n",
    "  mutate(\n",
    "    porcentaje_po = value[concepto == \"Restaurantes y servicios de alojamiento\"] /\n",
    "      value[concepto == \"Ocupada\"] * 100\n",
    "  ) %>%\n",
    "  ungroup() %>%\n",
    "  # Select only the desired columns\n",
    "  select(year, porcentaje_po)\n",
    "\n",
    "\n",
    "trabajo"
   ],
   "id": "5b770aab95536ba6",
   "outputs": [
    {
     "name": "stderr",
     "output_type": "stream",
     "text": [
      "\u001B[1m\u001B[22mNew names:\n",
      "\u001B[36m•\u001B[39m `` -> `...1`\n",
      "\u001B[36m•\u001B[39m `` -> `...2`\n",
      "\u001B[36m•\u001B[39m `` -> `...3`\n",
      "\u001B[36m•\u001B[39m `` -> `...4`\n",
      "\u001B[36m•\u001B[39m `` -> `...5`\n",
      "\u001B[36m•\u001B[39m `` -> `...6`\n",
      "\u001B[36m•\u001B[39m `` -> `...7`\n",
      "\u001B[36m•\u001B[39m `` -> `...8`\n",
      "\u001B[36m•\u001B[39m `` -> `...9`\n",
      "\u001B[36m•\u001B[39m `` -> `...10`\n",
      "\u001B[36m•\u001B[39m `` -> `...11`\n",
      "\u001B[36m•\u001B[39m `` -> `...12`\n",
      "\u001B[36m•\u001B[39m `` -> `...13`\n",
      "\u001B[36m•\u001B[39m `` -> `...14`\n",
      "\u001B[36m•\u001B[39m `` -> `...15`\n",
      "\u001B[36m•\u001B[39m `` -> `...16`\n",
      "\u001B[36m•\u001B[39m `` -> `...17`\n",
      "\u001B[36m•\u001B[39m `` -> `...18`\n",
      "\u001B[36m•\u001B[39m `` -> `...19`\n",
      "\u001B[36m•\u001B[39m `` -> `...20`\n",
      "\u001B[36m•\u001B[39m `` -> `...21`\n",
      "\u001B[36m•\u001B[39m `` -> `...22`\n",
      "\u001B[36m•\u001B[39m `` -> `...23`\n",
      "\u001B[36m•\u001B[39m `` -> `...24`\n",
      "\u001B[36m•\u001B[39m `` -> `...25`\n",
      "\u001B[36m•\u001B[39m `` -> `...26`\n",
      "\u001B[36m•\u001B[39m `` -> `...27`\n",
      "\u001B[36m•\u001B[39m `` -> `...28`\n",
      "\u001B[36m•\u001B[39m `` -> `...29`\n",
      "\u001B[36m•\u001B[39m `` -> `...30`\n",
      "\u001B[36m•\u001B[39m `` -> `...31`\n",
      "\u001B[36m•\u001B[39m `` -> `...32`\n",
      "\u001B[36m•\u001B[39m `` -> `...33`\n",
      "\u001B[36m•\u001B[39m `` -> `...34`\n",
      "\u001B[36m•\u001B[39m `` -> `...35`\n",
      "\u001B[36m•\u001B[39m `` -> `...36`\n",
      "\u001B[36m•\u001B[39m `` -> `...37`\n",
      "\u001B[36m•\u001B[39m `` -> `...38`\n",
      "\u001B[36m•\u001B[39m `` -> `...39`\n",
      "\u001B[36m•\u001B[39m `` -> `...40`\n",
      "\u001B[36m•\u001B[39m `` -> `...41`\n",
      "\u001B[36m•\u001B[39m `` -> `...42`\n",
      "\u001B[36m•\u001B[39m `` -> `...43`\n",
      "\u001B[36m•\u001B[39m `` -> `...44`\n",
      "\u001B[36m•\u001B[39m `` -> `...45`\n",
      "\u001B[36m•\u001B[39m `` -> `...46`\n",
      "\u001B[36m•\u001B[39m `` -> `...47`\n",
      "\u001B[36m•\u001B[39m `` -> `...48`\n",
      "\u001B[36m•\u001B[39m `` -> `...49`\n",
      "\u001B[36m•\u001B[39m `` -> `...50`\n",
      "\u001B[36m•\u001B[39m `` -> `...51`\n",
      "\u001B[36m•\u001B[39m `` -> `...52`\n",
      "\u001B[36m•\u001B[39m `` -> `...53`\n",
      "\u001B[36m•\u001B[39m `` -> `...54`\n",
      "\u001B[36m•\u001B[39m `` -> `...55`\n",
      "\u001B[36m•\u001B[39m `` -> `...56`\n",
      "\u001B[36m•\u001B[39m `` -> `...57`\n",
      "\u001B[36m•\u001B[39m `` -> `...58`\n",
      "\u001B[36m•\u001B[39m `` -> `...59`\n",
      "\u001B[36m•\u001B[39m `` -> `...60`\n",
      "\u001B[36m•\u001B[39m `` -> `...61`\n",
      "\u001B[36m•\u001B[39m `` -> `...62`\n",
      "\u001B[36m•\u001B[39m `` -> `...63`\n",
      "\u001B[36m•\u001B[39m `` -> `...64`\n",
      "\u001B[36m•\u001B[39m `` -> `...65`\n",
      "\u001B[36m•\u001B[39m `` -> `...66`\n",
      "\u001B[36m•\u001B[39m `` -> `...67`\n",
      "\u001B[36m•\u001B[39m `` -> `...68`\n",
      "\u001B[36m•\u001B[39m `` -> `...69`\n",
      "\u001B[36m•\u001B[39m `` -> `...70`\n",
      "\u001B[36m•\u001B[39m `` -> `...71`\n",
      "\u001B[36m•\u001B[39m `` -> `...72`\n",
      "Warning message:\n",
      "\"\u001B[1m\u001B[22mThere was 1 warning in `mutate()`.\n",
      "\u001B[1m\u001B[22m\u001B[36mℹ\u001B[39m In argument: `across(-concepto, as.numeric)`.\n",
      "Caused by warning:\n",
      "\u001B[33m!\u001B[39m NAs introduced by coercion\"\n"
     ]
    },
    {
     "data": {
      "text/html": [
       "<table class=\"dataframe\">\n",
       "<caption>A tibble: 34 × 2</caption>\n",
       "<thead>\n",
       "\t<tr><th scope=col>year</th><th scope=col>porcentaje_po</th></tr>\n",
       "\t<tr><th scope=col>&lt;dbl&gt;</th><th scope=col>&lt;dbl&gt;</th></tr>\n",
       "</thead>\n",
       "<tbody>\n",
       "\t<tr><td>2007</td><td>6.555220</td></tr>\n",
       "\t<tr><td>2008</td><td>7.104769</td></tr>\n",
       "\t<tr><td>2009</td><td>6.871464</td></tr>\n",
       "\t<tr><td>2010</td><td>6.731017</td></tr>\n",
       "\t<tr><td>2011</td><td>6.790198</td></tr>\n",
       "\t<tr><td>2012</td><td>7.634546</td></tr>\n",
       "\t<tr><td>2013</td><td>7.727865</td></tr>\n",
       "\t<tr><td>2014</td><td>8.539687</td></tr>\n",
       "\t<tr><td>2015</td><td>6.883214</td></tr>\n",
       "\t<tr><td>2016</td><td>7.770897</td></tr>\n",
       "\t<tr><td>2017</td><td>7.775654</td></tr>\n",
       "\t<tr><td>2018</td><td>7.421999</td></tr>\n",
       "\t<tr><td>2019</td><td>7.956652</td></tr>\n",
       "\t<tr><td>2020</td><td>6.829410</td></tr>\n",
       "\t<tr><td>2021</td><td>8.773207</td></tr>\n",
       "\t<tr><td>2022</td><td>8.122879</td></tr>\n",
       "\t<tr><td>2023</td><td>8.183308</td></tr>\n",
       "\t<tr><td>2007</td><td>6.555220</td></tr>\n",
       "\t<tr><td>2008</td><td>7.104769</td></tr>\n",
       "\t<tr><td>2009</td><td>6.871464</td></tr>\n",
       "\t<tr><td>2010</td><td>6.731017</td></tr>\n",
       "\t<tr><td>2011</td><td>6.790198</td></tr>\n",
       "\t<tr><td>2012</td><td>7.634546</td></tr>\n",
       "\t<tr><td>2013</td><td>7.727865</td></tr>\n",
       "\t<tr><td>2014</td><td>8.539687</td></tr>\n",
       "\t<tr><td>2015</td><td>6.883214</td></tr>\n",
       "\t<tr><td>2016</td><td>7.770897</td></tr>\n",
       "\t<tr><td>2017</td><td>7.775654</td></tr>\n",
       "\t<tr><td>2018</td><td>7.421999</td></tr>\n",
       "\t<tr><td>2019</td><td>7.956652</td></tr>\n",
       "\t<tr><td>2020</td><td>6.829410</td></tr>\n",
       "\t<tr><td>2021</td><td>8.773207</td></tr>\n",
       "\t<tr><td>2022</td><td>8.122879</td></tr>\n",
       "\t<tr><td>2023</td><td>8.183308</td></tr>\n",
       "</tbody>\n",
       "</table>\n"
      ],
      "text/markdown": "\nA tibble: 34 × 2\n\n| year &lt;dbl&gt; | porcentaje_po &lt;dbl&gt; |\n|---|---|\n| 2007 | 6.555220 |\n| 2008 | 7.104769 |\n| 2009 | 6.871464 |\n| 2010 | 6.731017 |\n| 2011 | 6.790198 |\n| 2012 | 7.634546 |\n| 2013 | 7.727865 |\n| 2014 | 8.539687 |\n| 2015 | 6.883214 |\n| 2016 | 7.770897 |\n| 2017 | 7.775654 |\n| 2018 | 7.421999 |\n| 2019 | 7.956652 |\n| 2020 | 6.829410 |\n| 2021 | 8.773207 |\n| 2022 | 8.122879 |\n| 2023 | 8.183308 |\n| 2007 | 6.555220 |\n| 2008 | 7.104769 |\n| 2009 | 6.871464 |\n| 2010 | 6.731017 |\n| 2011 | 6.790198 |\n| 2012 | 7.634546 |\n| 2013 | 7.727865 |\n| 2014 | 8.539687 |\n| 2015 | 6.883214 |\n| 2016 | 7.770897 |\n| 2017 | 7.775654 |\n| 2018 | 7.421999 |\n| 2019 | 7.956652 |\n| 2020 | 6.829410 |\n| 2021 | 8.773207 |\n| 2022 | 8.122879 |\n| 2023 | 8.183308 |\n\n",
      "text/latex": "A tibble: 34 × 2\n\\begin{tabular}{ll}\n year & porcentaje\\_po\\\\\n <dbl> & <dbl>\\\\\n\\hline\n\t 2007 & 6.555220\\\\\n\t 2008 & 7.104769\\\\\n\t 2009 & 6.871464\\\\\n\t 2010 & 6.731017\\\\\n\t 2011 & 6.790198\\\\\n\t 2012 & 7.634546\\\\\n\t 2013 & 7.727865\\\\\n\t 2014 & 8.539687\\\\\n\t 2015 & 6.883214\\\\\n\t 2016 & 7.770897\\\\\n\t 2017 & 7.775654\\\\\n\t 2018 & 7.421999\\\\\n\t 2019 & 7.956652\\\\\n\t 2020 & 6.829410\\\\\n\t 2021 & 8.773207\\\\\n\t 2022 & 8.122879\\\\\n\t 2023 & 8.183308\\\\\n\t 2007 & 6.555220\\\\\n\t 2008 & 7.104769\\\\\n\t 2009 & 6.871464\\\\\n\t 2010 & 6.731017\\\\\n\t 2011 & 6.790198\\\\\n\t 2012 & 7.634546\\\\\n\t 2013 & 7.727865\\\\\n\t 2014 & 8.539687\\\\\n\t 2015 & 6.883214\\\\\n\t 2016 & 7.770897\\\\\n\t 2017 & 7.775654\\\\\n\t 2018 & 7.421999\\\\\n\t 2019 & 7.956652\\\\\n\t 2020 & 6.829410\\\\\n\t 2021 & 8.773207\\\\\n\t 2022 & 8.122879\\\\\n\t 2023 & 8.183308\\\\\n\\end{tabular}\n",
      "text/plain": [
       "   year porcentaje_po\n",
       "1  2007 6.555220     \n",
       "2  2008 7.104769     \n",
       "3  2009 6.871464     \n",
       "4  2010 6.731017     \n",
       "5  2011 6.790198     \n",
       "6  2012 7.634546     \n",
       "7  2013 7.727865     \n",
       "8  2014 8.539687     \n",
       "9  2015 6.883214     \n",
       "10 2016 7.770897     \n",
       "11 2017 7.775654     \n",
       "12 2018 7.421999     \n",
       "13 2019 7.956652     \n",
       "14 2020 6.829410     \n",
       "15 2021 8.773207     \n",
       "16 2022 8.122879     \n",
       "17 2023 8.183308     \n",
       "18 2007 6.555220     \n",
       "19 2008 7.104769     \n",
       "20 2009 6.871464     \n",
       "21 2010 6.731017     \n",
       "22 2011 6.790198     \n",
       "23 2012 7.634546     \n",
       "24 2013 7.727865     \n",
       "25 2014 8.539687     \n",
       "26 2015 6.883214     \n",
       "27 2016 7.770897     \n",
       "28 2017 7.775654     \n",
       "29 2018 7.421999     \n",
       "30 2019 7.956652     \n",
       "31 2020 6.829410     \n",
       "32 2021 8.773207     \n",
       "33 2022 8.122879     \n",
       "34 2023 8.183308     "
      ]
     },
     "metadata": {},
     "output_type": "display_data"
    }
   ],
   "execution_count": 16
  },
  {
   "metadata": {
    "ExecuteTime": {
     "end_time": "2025-02-09T04:31:30.297192Z",
     "start_time": "2025-02-09T04:31:30.155102Z"
    }
   },
   "cell_type": "code",
   "source": [
    "#Graficar\n",
    "trabajo%>%\n",
    "ggplot(aes(x=year, y=porcentaje_po, color=year))+\n",
    "geom_line()+geom_point()+geom_smooth(method=\"lm\",se=FALSE)+\n",
    "labs(title=\"Porcentaje de empleo en Restaurantes y servicios de alojamiento\",x=\"Año\",y=\"Porcentaje de empleo\")+theme_minimal()+\n",
    "theme(legend.position = \"none\")"
   ],
   "id": "72b046afaf7d4bd3",
   "outputs": [
    {
     "name": "stderr",
     "output_type": "stream",
     "text": [
      "\u001B[1m\u001B[22m`geom_smooth()` using formula = 'y ~ x'\n",
      "Warning message:\n",
      "\"\u001B[1m\u001B[22mThe following aesthetics were dropped during statistical transformation:\n",
      "\u001B[32mcolour\u001B[39m.\n",
      "\u001B[36mℹ\u001B[39m This can happen when ggplot fails to infer the correct grouping structure in\n",
      "  the data.\n",
      "\u001B[36mℹ\u001B[39m Did you forget to specify a `group` aesthetic or to convert a numerical\n",
      "  variable into a factor?\"\n"
     ]
    },
    {
     "data": {
      "text/plain": [
       "plot without title"
      ],
      "image/png": "[encoded data removed]"
     },
     "metadata": {
      "image/png": {
       "width": 420,
       "height": 420
      }
     },
     "output_type": "display_data"
    }
   ],
   "execution_count": 17
  },
  {
   "metadata": {
    "ExecuteTime": {
     "end_time": "2025-02-09T04:31:30.320894Z",
     "start_time": "2025-02-09T04:31:30.302392Z"
    }
   },
   "cell_type": "code",
   "source": [
    "#Calcular tasa de crecimiento media anual de empleo en Restaurantes y servicios de alojamiento de 2009 a 2019\n",
    "\n",
    "valor_inicial<-trabajo%>%filter(year==2009)%>%pull(porcentaje_po)\n",
    "valor_final<-trabajo%>%filter(year==2019)%>%pull(porcentaje_po)\n",
    "tasa_crecimiento<-((valor_final/valor_inicial)^(1/(2019-2009))-1)*100\n",
    "print(paste(\"La tasa de crecimiento media anual de empleo en Restaurantes y servicios de alojamiento de 2009 a 2019 es de\",round(tasa_crecimiento,2),\"%\"))"
   ],
   "id": "3c592e1e81a4b821",
   "outputs": [
    {
     "name": "stdout",
     "output_type": "stream",
     "text": [
      "[1] \"La tasa de crecimiento media anual de empleo en Restaurantes y servicios de alojamiento de 2009 a 2019 es de 1.48 %\"\n",
      "[2] \"La tasa de crecimiento media anual de empleo en Restaurantes y servicios de alojamiento de 2009 a 2019 es de 1.48 %\"\n"
     ]
    }
   ],
   "execution_count": 18
  },
  {
   "metadata": {
    "ExecuteTime": {
     "end_time": "2025-02-09T04:31:30.359272Z",
     "start_time": "2025-02-09T04:31:30.338872Z"
    }
   },
   "cell_type": "code",
   "source": [
    "#Aplicar tasa de crecimiento a 2020 a 2045\n",
    "trabajo_extended<-data.frame(year=2020:2045)\n",
    "trabajo_extended$porcentaje_po<-valor_final*(1+tasa_crecimiento/100)^((2020:2045)-2019)\n",
    "trabajo_extended"
   ],
   "id": "372eeaea5c121d1e",
   "outputs": [
    {
     "data": {
      "text/html": [
       "<table class=\"dataframe\">\n",
       "<caption>A data.frame: 26 × 2</caption>\n",
       "<thead>\n",
       "\t<tr><th scope=col>year</th><th scope=col>porcentaje_po</th></tr>\n",
       "\t<tr><th scope=col>&lt;int&gt;</th><th scope=col>&lt;dbl&gt;</th></tr>\n",
       "</thead>\n",
       "<tbody>\n",
       "\t<tr><td>2020</td><td> 8.074180</td></tr>\n",
       "\t<tr><td>2021</td><td> 8.193445</td></tr>\n",
       "\t<tr><td>2022</td><td> 8.314471</td></tr>\n",
       "\t<tr><td>2023</td><td> 8.437286</td></tr>\n",
       "\t<tr><td>2024</td><td> 8.561914</td></tr>\n",
       "\t<tr><td>2025</td><td> 8.688383</td></tr>\n",
       "\t<tr><td>2026</td><td> 8.816720</td></tr>\n",
       "\t<tr><td>2027</td><td> 8.946953</td></tr>\n",
       "\t<tr><td>2028</td><td> 9.079110</td></tr>\n",
       "\t<tr><td>2029</td><td> 9.213219</td></tr>\n",
       "\t<tr><td>2030</td><td> 9.349308</td></tr>\n",
       "\t<tr><td>2031</td><td> 9.487408</td></tr>\n",
       "\t<tr><td>2032</td><td> 9.627548</td></tr>\n",
       "\t<tr><td>2033</td><td> 9.769758</td></tr>\n",
       "\t<tr><td>2034</td><td> 9.914068</td></tr>\n",
       "\t<tr><td>2035</td><td>10.060510</td></tr>\n",
       "\t<tr><td>2036</td><td>10.209115</td></tr>\n",
       "\t<tr><td>2037</td><td>10.359915</td></tr>\n",
       "\t<tr><td>2038</td><td>10.512943</td></tr>\n",
       "\t<tr><td>2039</td><td>10.668231</td></tr>\n",
       "\t<tr><td>2040</td><td>10.825813</td></tr>\n",
       "\t<tr><td>2041</td><td>10.985722</td></tr>\n",
       "\t<tr><td>2042</td><td>11.147994</td></tr>\n",
       "\t<tr><td>2043</td><td>11.312662</td></tr>\n",
       "\t<tr><td>2044</td><td>11.479763</td></tr>\n",
       "\t<tr><td>2045</td><td>11.649332</td></tr>\n",
       "</tbody>\n",
       "</table>\n"
      ],
      "text/markdown": "\nA data.frame: 26 × 2\n\n| year &lt;int&gt; | porcentaje_po &lt;dbl&gt; |\n|---|---|\n| 2020 |  8.074180 |\n| 2021 |  8.193445 |\n| 2022 |  8.314471 |\n| 2023 |  8.437286 |\n| 2024 |  8.561914 |\n| 2025 |  8.688383 |\n| 2026 |  8.816720 |\n| 2027 |  8.946953 |\n| 2028 |  9.079110 |\n| 2029 |  9.213219 |\n| 2030 |  9.349308 |\n| 2031 |  9.487408 |\n| 2032 |  9.627548 |\n| 2033 |  9.769758 |\n| 2034 |  9.914068 |\n| 2035 | 10.060510 |\n| 2036 | 10.209115 |\n| 2037 | 10.359915 |\n| 2038 | 10.512943 |\n| 2039 | 10.668231 |\n| 2040 | 10.825813 |\n| 2041 | 10.985722 |\n| 2042 | 11.147994 |\n| 2043 | 11.312662 |\n| 2044 | 11.479763 |\n| 2045 | 11.649332 |\n\n",
      "text/latex": "A data.frame: 26 × 2\n\\begin{tabular}{ll}\n year & porcentaje\\_po\\\\\n <int> & <dbl>\\\\\n\\hline\n\t 2020 &  8.074180\\\\\n\t 2021 &  8.193445\\\\\n\t 2022 &  8.314471\\\\\n\t 2023 &  8.437286\\\\\n\t 2024 &  8.561914\\\\\n\t 2025 &  8.688383\\\\\n\t 2026 &  8.816720\\\\\n\t 2027 &  8.946953\\\\\n\t 2028 &  9.079110\\\\\n\t 2029 &  9.213219\\\\\n\t 2030 &  9.349308\\\\\n\t 2031 &  9.487408\\\\\n\t 2032 &  9.627548\\\\\n\t 2033 &  9.769758\\\\\n\t 2034 &  9.914068\\\\\n\t 2035 & 10.060510\\\\\n\t 2036 & 10.209115\\\\\n\t 2037 & 10.359915\\\\\n\t 2038 & 10.512943\\\\\n\t 2039 & 10.668231\\\\\n\t 2040 & 10.825813\\\\\n\t 2041 & 10.985722\\\\\n\t 2042 & 11.147994\\\\\n\t 2043 & 11.312662\\\\\n\t 2044 & 11.479763\\\\\n\t 2045 & 11.649332\\\\\n\\end{tabular}\n",
      "text/plain": [
       "   year porcentaje_po\n",
       "1  2020  8.074180    \n",
       "2  2021  8.193445    \n",
       "3  2022  8.314471    \n",
       "4  2023  8.437286    \n",
       "5  2024  8.561914    \n",
       "6  2025  8.688383    \n",
       "7  2026  8.816720    \n",
       "8  2027  8.946953    \n",
       "9  2028  9.079110    \n",
       "10 2029  9.213219    \n",
       "11 2030  9.349308    \n",
       "12 2031  9.487408    \n",
       "13 2032  9.627548    \n",
       "14 2033  9.769758    \n",
       "15 2034  9.914068    \n",
       "16 2035 10.060510    \n",
       "17 2036 10.209115    \n",
       "18 2037 10.359915    \n",
       "19 2038 10.512943    \n",
       "20 2039 10.668231    \n",
       "21 2040 10.825813    \n",
       "22 2041 10.985722    \n",
       "23 2042 11.147994    \n",
       "24 2043 11.312662    \n",
       "25 2044 11.479763    \n",
       "26 2045 11.649332    "
      ]
     },
     "metadata": {},
     "output_type": "display_data"
    }
   ],
   "execution_count": 19
  },
  {
   "metadata": {
    "ExecuteTime": {
     "end_time": "2025-02-09T04:31:30.492588Z",
     "start_time": "2025-02-09T04:31:30.370201Z"
    }
   },
   "cell_type": "code",
   "source": [
    "#Pegar datos\n",
    "trabajos_final<-bind_rows(trabajo,trabajo_extended)\n",
    "#Graficar\n",
    "trabajos_final%>%\n",
    "ggplot(aes(x=year, y=porcentaje_po, color=year))+\n",
    "geom_line()+geom_point()+\n",
    "labs(title=\"Porcentaje de empleo en Restaurantes y servicios de alojamiento\",x=\"Año\",y=\"Porcentaje de empleo\")+theme_minimal()+\n",
    "theme(legend.position = \"none\")\n"
   ],
   "id": "5c8dd3eb2f4f0938",
   "outputs": [
    {
     "data": {
      "text/plain": [
       "plot without title"
      ],
      "image/png": "[encoded data removed]"
     },
     "metadata": {
      "image/png": {
       "width": 420,
       "height": 420
      }
     },
     "output_type": "display_data"
    }
   ],
   "execution_count": 20
  },
  {
   "metadata": {
    "ExecuteTime": {
     "end_time": "2025-02-09T04:31:30.517354Z",
     "start_time": "2025-02-09T04:31:30.500442Z"
    }
   },
   "cell_type": "code",
   "source": [
    "#Sacar valores 2030, 2035 y 2045\n",
    "trabajos_final%>%\n",
    "filter(year %in% c(2030,2035,2045))%>%\n",
    "select(year,porcentaje_po)"
   ],
   "id": "3ea698fb199abb9f",
   "outputs": [
    {
     "data": {
      "text/html": [
       "<table class=\"dataframe\">\n",
       "<caption>A tibble: 3 × 2</caption>\n",
       "<thead>\n",
       "\t<tr><th scope=col>year</th><th scope=col>porcentaje_po</th></tr>\n",
       "\t<tr><th scope=col>&lt;dbl&gt;</th><th scope=col>&lt;dbl&gt;</th></tr>\n",
       "</thead>\n",
       "<tbody>\n",
       "\t<tr><td>2030</td><td> 9.349308</td></tr>\n",
       "\t<tr><td>2035</td><td>10.060510</td></tr>\n",
       "\t<tr><td>2045</td><td>11.649332</td></tr>\n",
       "</tbody>\n",
       "</table>\n"
      ],
      "text/markdown": "\nA tibble: 3 × 2\n\n| year &lt;dbl&gt; | porcentaje_po &lt;dbl&gt; |\n|---|---|\n| 2030 |  9.349308 |\n| 2035 | 10.060510 |\n| 2045 | 11.649332 |\n\n",
      "text/latex": "A tibble: 3 × 2\n\\begin{tabular}{ll}\n year & porcentaje\\_po\\\\\n <dbl> & <dbl>\\\\\n\\hline\n\t 2030 &  9.349308\\\\\n\t 2035 & 10.060510\\\\\n\t 2045 & 11.649332\\\\\n\\end{tabular}\n",
      "text/plain": [
       "  year porcentaje_po\n",
       "1 2030  9.349308    \n",
       "2 2035 10.060510    \n",
       "3 2045 11.649332    "
      ]
     },
     "metadata": {},
     "output_type": "display_data"
    }
   ],
   "execution_count": 21
  },
  {
   "metadata": {},
   "cell_type": "markdown",
   "source": "La segunda aproximación será considerando microdatos de ENOE y únicamente la actividad de servicios de alojamiento temporal.",
   "id": "1bf34ddf43b41e7e"
  },
  {
   "metadata": {
    "ExecuteTime": {
     "end_time": "2025-02-09T04:31:56.409451Z",
     "start_time": "2025-02-09T04:31:30.527390Z"
    }
   },
   "cell_type": "code",
   "source": [
    "url<-\"https://www.inegi.org.mx/contenidos/programas/enoe/15ymas/microdatos/enoe_2023_trim4_csv.zip\"\n",
    "\n",
    "\n",
    "# Descargar el archivo y descomprimirlo\n",
    "options(timeout = 9999999)\n",
    "destfile <- \"data/conjunto_de_datos_enoe_2023_4t_csv.zip\"\n",
    "download.file(url, destfile = destfile)\n",
    "unzip(destfile, exdir = \"data\")"
   ],
   "id": "67b15947cdaf22f8",
   "outputs": [],
   "execution_count": 22
  },
  {
   "metadata": {
    "ExecuteTime": {
     "end_time": "2025-02-09T04:31:58.564961Z",
     "start_time": "2025-02-09T04:31:56.415894Z"
    }
   },
   "cell_type": "code",
   "source": [
    "#Leer tabla y filtrar ocupados\n",
    "\n",
    "ocupados<-read_csv(\"data/ENOE_SDEMT423.csv\", show_col_types = FALSE)%>%\n",
    "janitor::clean_names()%>%\n",
    "filter(\n",
    "       clase2==1,\n",
    "       ((eda>=15 & eda<=98 & !is.na(eda)) &\n",
    "                                     (c_res==1 | c_res==3)))\n",
    "nrow(ocupados)"
   ],
   "id": "71c487e4b23fe76a",
   "outputs": [
    {
     "name": "stderr",
     "output_type": "stream",
     "text": [
      "Warning message:\n",
      "\"\u001B[1m\u001B[22mOne or more parsing issues, call `problems()` on your data frame for details,\n",
      "e.g.:\n",
      "  dat <- vroom(...)\n",
      "  problems(dat)\"\n"
     ]
    },
    {
     "data": {
      "text/html": [
       "192399"
      ],
      "text/markdown": "192399",
      "text/latex": "192399",
      "text/plain": [
       "[1] 192399"
      ]
     },
     "metadata": {},
     "output_type": "display_data"
    }
   ],
   "execution_count": 23
  },
  {
   "metadata": {
    "ExecuteTime": {
     "end_time": "2025-02-09T04:32:00.475399Z",
     "start_time": "2025-02-09T04:31:58.570341Z"
    }
   },
   "cell_type": "code",
   "source": [
    "#Traer clasificación SINCO\n",
    "\n",
    "scian<-read_csv(\"data/ENOE_COE1T423.csv\", show_col_types = FALSE)%>%janitor::clean_names()%>%\n",
    "select(tipo, mes_cal,cd_a,ent,con,v_sel,n_hog,h_mud, n_ren,p4a)%>%\n",
    "#Renombrar p4a a scian_4\n",
    "rename(scian_4 = p4a)"
   ],
   "id": "38b0ae56d02dd4a1",
   "outputs": [
    {
     "name": "stderr",
     "output_type": "stream",
     "text": [
      "Warning message:\n",
      "\"\u001B[1m\u001B[22mOne or more parsing issues, call `problems()` on your data frame for details,\n",
      "e.g.:\n",
      "  dat <- vroom(...)\n",
      "  problems(dat)\"\n"
     ]
    }
   ],
   "execution_count": 24
  },
  {
   "metadata": {
    "ExecuteTime": {
     "end_time": "2025-02-09T04:32:00.892910Z",
     "start_time": "2025-02-09T04:32:00.480930Z"
    }
   },
   "cell_type": "code",
   "source": [
    "ocupados<-left_join(ocupados, scian, by = c(\"tipo\", \"mes_cal\", \"cd_a\", \"ent\", \"con\", \"v_sel\", \"n_hog\", \"h_mud\", \"n_ren\"))%>%\n",
    "#Obtener ocupados en servicios de alojamiento temporal\n",
    "mutate(turismo=case_when(scian_4 %in% c(7210) ~ 1,\n",
    "            TRUE ~ 0))\n",
    "nrow(ocupados)"
   ],
   "id": "6e89a820255b9482",
   "outputs": [
    {
     "data": {
      "text/html": [
       "192399"
      ],
      "text/markdown": "192399",
      "text/latex": "192399",
      "text/plain": [
       "[1] 192399"
      ]
     },
     "metadata": {},
     "output_type": "display_data"
    }
   ],
   "execution_count": 25
  },
  {
   "metadata": {
    "ExecuteTime": {
     "end_time": "2025-02-09T04:44:01.374063Z",
     "start_time": "2025-02-09T04:44:01.336529Z"
    }
   },
   "cell_type": "code",
   "source": [
    "##unique scian_4 si scian es 18\n",
    "print(\"Subsectores de Restaurantes y servicios de alojamiento\")\n",
    "ocupados%>%\n",
    "filter(scian %in% c(18))%>%\n",
    "select(scian_4)%>%\n",
    "unique()"
   ],
   "id": "cc8fe6074a1d41a5",
   "outputs": [
    {
     "name": "stdout",
     "output_type": "stream",
     "text": [
      "[1] \"Subsectores de Restaurantes y servicios de alojamiento\"\n"
     ]
    },
    {
     "data": {
      "text/html": [
       "<table class=\"dataframe\">\n",
       "<caption>A tibble: 4 × 1</caption>\n",
       "<thead>\n",
       "\t<tr><th scope=col>scian_4</th></tr>\n",
       "\t<tr><th scope=col>&lt;dbl&gt;</th></tr>\n",
       "</thead>\n",
       "<tbody>\n",
       "\t<tr><td>7221</td></tr>\n",
       "\t<tr><td>7210</td></tr>\n",
       "\t<tr><td>7222</td></tr>\n",
       "\t<tr><td>7223</td></tr>\n",
       "</tbody>\n",
       "</table>\n"
      ],
      "text/markdown": "\nA tibble: 4 × 1\n\n| scian_4 &lt;dbl&gt; |\n|---|\n| 7221 |\n| 7210 |\n| 7222 |\n| 7223 |\n\n",
      "text/latex": "A tibble: 4 × 1\n\\begin{tabular}{l}\n scian\\_4\\\\\n <dbl>\\\\\n\\hline\n\t 7221\\\\\n\t 7210\\\\\n\t 7222\\\\\n\t 7223\\\\\n\\end{tabular}\n",
      "text/plain": [
       "  scian_4\n",
       "1 7221   \n",
       "2 7210   \n",
       "3 7222   \n",
       "4 7223   "
      ]
     },
     "metadata": {},
     "output_type": "display_data"
    }
   ],
   "execution_count": 39
  },
  {
   "metadata": {
    "ExecuteTime": {
     "end_time": "2025-02-09T04:32:01.865897Z",
     "start_time": "2025-02-09T04:32:00.901002Z"
    }
   },
   "cell_type": "code",
   "source": [
    "options(survey.lonely.psu=\"certainty\")\n",
    "dm<-ocupados%>%\n",
    "as_survey_design(ids = upm,\n",
    "                 strata = est_d_tri,\n",
    "                 weights = fac_tri,\n",
    "                    nest = TRUE)"
   ],
   "id": "977543f0cc6d9133",
   "outputs": [],
   "execution_count": 26
  },
  {
   "metadata": {
    "ExecuteTime": {
     "end_time": "2025-02-09T04:54:01.149189Z",
     "start_time": "2025-02-09T04:52:19.102987Z"
    }
   },
   "cell_type": "code",
   "source": [
    "print(\"Población ocupada en turismo por entidad federativa\")\n",
    "dm%>%\n",
    "filter(turismo==1)%>%\n",
    "  mutate(nom_ent=case_when(ent==1 ~ \"Aguascalientes\",\n",
    "                           ent==2 ~ \"Baja California\",\n",
    "                           ent==3 ~ \"Baja California Sur\",\n",
    "                           ent==4 ~ \"Campeche\",\n",
    "                           ent==5 ~ \"Coahuila de Zaragoza\",\n",
    "                           ent==6 ~ \"Colima\",\n",
    "                           ent==7 ~ \"Chiapas\",\n",
    "                           ent==8 ~ \"Chihuahua\",\n",
    "                           ent==9 ~ \"Ciudad de México\",\n",
    "                           ent==10 ~ \"Durango\",\n",
    "                           ent==11 ~ \"Guanajuato\",\n",
    "                           ent==12 ~ \"Guerrero\",\n",
    "                           ent==13 ~ \"Hidalgo\",\n",
    "                           ent==14 ~ \"Jalisco\",\n",
    "                           ent==15 ~ \"México\",\n",
    "                           ent==16 ~ \"Michoacán de Ocampo\",\n",
    "                           ent==17 ~ \"Morelos\",\n",
    "                           ent==18 ~ \"Nayarit\",\n",
    "                           ent==19 ~ \"Nuevo León\",\n",
    "                           ent==20 ~ \"Oaxaca\",\n",
    "                           ent==21 ~ \"Puebla\",\n",
    "                           ent==22 ~ \"Querétaro\",\n",
    "                           ent==23 ~ \"Quintana Roo\",\n",
    "                           ent==24 ~ \"San Luis Potosí\",\n",
    "                           ent==25 ~ \"Sinaloa\",\n",
    "                           ent==26 ~ \"Sonora\",\n",
    "                           ent==27 ~ \"Tabasco\",\n",
    "                           ent==28 ~ \"Tamaulipas\",\n",
    "                           ent==29 ~ \"Tlaxcala\",\n",
    "                           ent==30 ~ \"Veracruz de Ignacio de la Llave\",\n",
    "                           ent==31 ~ \"Yucatán\",\n",
    "                           ent==32 ~ \"Zacatecas\"))%>%\n",
    "                             group_by(nom_ent)%>%\n",
    "summarise(ocupados = survey_total(vartype = \"cv\"),\n",
    "porcentaje = survey_prop(vartype = \"cv\"))%>%\n",
    "mutate(porcentaje = porcentaje*100)%>%\n",
    "arrange(desc(porcentaje))%>%\n",
    "janitor::adorn_totals(\"row\")"
   ],
   "id": "9e37c6349d2089a8",
   "outputs": [
    {
     "name": "stdout",
     "output_type": "stream",
     "text": [
      "[1] \"Población ocupada en turismo por entidad federativa\"\n"
     ]
    },
    {
     "data": {
      "text/html": [
       "<table class=\"dataframe\">\n",
       "<caption>A tabyl: 33 × 5</caption>\n",
       "<thead>\n",
       "\t<tr><th scope=col>nom_ent</th><th scope=col>ocupados</th><th scope=col>ocupados_cv</th><th scope=col>porcentaje</th><th scope=col>porcentaje_cv</th></tr>\n",
       "\t<tr><th scope=col>&lt;chr&gt;</th><th scope=col>&lt;dbl&gt;</th><th scope=col>&lt;dbl&gt;</th><th scope=col>&lt;dbl&gt;</th><th scope=col>&lt;dbl&gt;</th></tr>\n",
       "</thead>\n",
       "<tbody>\n",
       "\t<tr><td>Quintana Roo                   </td><td>137606</td><td>0.05668803</td><td> 27.5088210</td><td>0.0557282</td></tr>\n",
       "\t<tr><td>Jalisco                        </td><td> 43947</td><td>0.17269958</td><td>  8.7854465</td><td>0.1620022</td></tr>\n",
       "\t<tr><td>Baja California Sur            </td><td> 43203</td><td>0.10706990</td><td>  8.6367135</td><td>0.1055645</td></tr>\n",
       "\t<tr><td>Veracruz de Ignacio de la Llave</td><td> 28626</td><td>0.29975641</td><td>  5.7226248</td><td>0.2850088</td></tr>\n",
       "\t<tr><td>Nayarit                        </td><td> 27567</td><td>0.17335917</td><td>  5.5109201</td><td>0.1685262</td></tr>\n",
       "\t<tr><td>Guerrero                       </td><td> 27409</td><td>0.24177879</td><td>  5.4793343</td><td>0.2317563</td></tr>\n",
       "\t<tr><td>Ciudad de México               </td><td> 24473</td><td>0.22338291</td><td>  4.8923984</td><td>0.2160496</td></tr>\n",
       "\t<tr><td>Guanajuato                     </td><td> 14325</td><td>0.27357605</td><td>  2.8637113</td><td>0.2687328</td></tr>\n",
       "\t<tr><td>México                         </td><td> 12572</td><td>0.37553441</td><td>  2.5132690</td><td>0.3682356</td></tr>\n",
       "\t<tr><td>Chiapas                        </td><td> 11188</td><td>0.27320149</td><td>  2.2365935</td><td>0.2701119</td></tr>\n",
       "\t<tr><td>Yucatán                        </td><td> 11023</td><td>0.16718471</td><td>  2.2036084</td><td>0.1684606</td></tr>\n",
       "\t<tr><td>Puebla                         </td><td> 10714</td><td>0.21044747</td><td>  2.1418362</td><td>0.2098835</td></tr>\n",
       "\t<tr><td>Baja California                </td><td> 10219</td><td>0.20976658</td><td>  2.0428807</td><td>0.2094381</td></tr>\n",
       "\t<tr><td>Sinaloa                        </td><td>  9424</td><td>0.22656966</td><td>  1.8839522</td><td>0.2259640</td></tr>\n",
       "\t<tr><td>Oaxaca                         </td><td>  8108</td><td>0.31077321</td><td>  1.6208707</td><td>0.3083978</td></tr>\n",
       "\t<tr><td>Tamaulipas                     </td><td>  7837</td><td>0.22322170</td><td>  1.5666950</td><td>0.2234429</td></tr>\n",
       "\t<tr><td>Nuevo León                     </td><td>  7769</td><td>0.24916145</td><td>  1.5531011</td><td>0.2486225</td></tr>\n",
       "\t<tr><td>Sonora                         </td><td>  7268</td><td>0.26907377</td><td>  1.4529462</td><td>0.2682479</td></tr>\n",
       "\t<tr><td>San Luis Potosí                </td><td>  6584</td><td>0.35302912</td><td>  1.3162077</td><td>0.3507262</td></tr>\n",
       "\t<tr><td>Morelos                        </td><td>  6472</td><td>0.21626132</td><td>  1.2938178</td><td>0.2172990</td></tr>\n",
       "\t<tr><td>Coahuila de Zaragoza           </td><td>  6004</td><td>0.26881504</td><td>  1.2002599</td><td>0.2686764</td></tr>\n",
       "\t<tr><td>Hidalgo                        </td><td>  5207</td><td>0.42677051</td><td>  1.0409316</td><td>0.4242657</td></tr>\n",
       "\t<tr><td>Colima                         </td><td>  4413</td><td>0.20276676</td><td>  0.8822030</td><td>0.2050586</td></tr>\n",
       "\t<tr><td>Campeche                       </td><td>  4087</td><td>0.14090164</td><td>  0.8170323</td><td>0.1455643</td></tr>\n",
       "\t<tr><td>Chihuahua                      </td><td>  4054</td><td>0.27104879</td><td>  0.8104353</td><td>0.2719131</td></tr>\n",
       "\t<tr><td>Querétaro                      </td><td>  4002</td><td>0.27785650</td><td>  0.8000400</td><td>0.2786198</td></tr>\n",
       "\t<tr><td>Tabasco                        </td><td>  3900</td><td>0.34511041</td><td>  0.7796492</td><td>0.3448248</td></tr>\n",
       "\t<tr><td>Michoacán de Ocampo            </td><td>  3656</td><td>0.32259909</td><td>  0.7308711</td><td>0.3228143</td></tr>\n",
       "\t<tr><td>Aguascalientes                 </td><td>  2467</td><td>0.22084561</td><td>  0.4931781</td><td>0.2234990</td></tr>\n",
       "\t<tr><td>Durango                        </td><td>  2263</td><td>0.31468005</td><td>  0.4523964</td><td>0.3158919</td></tr>\n",
       "\t<tr><td>Zacatecas                      </td><td>  2232</td><td>0.43956936</td><td>  0.4461992</td><td>0.4394963</td></tr>\n",
       "\t<tr><td>Tlaxcala                       </td><td>  1606</td><td>0.29436182</td><td>  0.3210555</td><td>0.2962307</td></tr>\n",
       "\t<tr><td>Total                          </td><td>500225</td><td>8.15786131</td><td>100.0000001</td><td>8.0990536</td></tr>\n",
       "</tbody>\n",
       "</table>\n"
      ],
      "text/markdown": "\nA tabyl: 33 × 5\n\n| nom_ent &lt;chr&gt; | ocupados &lt;dbl&gt; | ocupados_cv &lt;dbl&gt; | porcentaje &lt;dbl&gt; | porcentaje_cv &lt;dbl&gt; |\n|---|---|---|---|---|\n| Quintana Roo                    | 137606 | 0.05668803 |  27.5088210 | 0.0557282 |\n| Jalisco                         |  43947 | 0.17269958 |   8.7854465 | 0.1620022 |\n| Baja California Sur             |  43203 | 0.10706990 |   8.6367135 | 0.1055645 |\n| Veracruz de Ignacio de la Llave |  28626 | 0.29975641 |   5.7226248 | 0.2850088 |\n| Nayarit                         |  27567 | 0.17335917 |   5.5109201 | 0.1685262 |\n| Guerrero                        |  27409 | 0.24177879 |   5.4793343 | 0.2317563 |\n| Ciudad de México                |  24473 | 0.22338291 |   4.8923984 | 0.2160496 |\n| Guanajuato                      |  14325 | 0.27357605 |   2.8637113 | 0.2687328 |\n| México                          |  12572 | 0.37553441 |   2.5132690 | 0.3682356 |\n| Chiapas                         |  11188 | 0.27320149 |   2.2365935 | 0.2701119 |\n| Yucatán                         |  11023 | 0.16718471 |   2.2036084 | 0.1684606 |\n| Puebla                          |  10714 | 0.21044747 |   2.1418362 | 0.2098835 |\n| Baja California                 |  10219 | 0.20976658 |   2.0428807 | 0.2094381 |\n| Sinaloa                         |   9424 | 0.22656966 |   1.8839522 | 0.2259640 |\n| Oaxaca                          |   8108 | 0.31077321 |   1.6208707 | 0.3083978 |\n| Tamaulipas                      |   7837 | 0.22322170 |   1.5666950 | 0.2234429 |\n| Nuevo León                      |   7769 | 0.24916145 |   1.5531011 | 0.2486225 |\n| Sonora                          |   7268 | 0.26907377 |   1.4529462 | 0.2682479 |\n| San Luis Potosí                 |   6584 | 0.35302912 |   1.3162077 | 0.3507262 |\n| Morelos                         |   6472 | 0.21626132 |   1.2938178 | 0.2172990 |\n| Coahuila de Zaragoza            |   6004 | 0.26881504 |   1.2002599 | 0.2686764 |\n| Hidalgo                         |   5207 | 0.42677051 |   1.0409316 | 0.4242657 |\n| Colima                          |   4413 | 0.20276676 |   0.8822030 | 0.2050586 |\n| Campeche                        |   4087 | 0.14090164 |   0.8170323 | 0.1455643 |\n| Chihuahua                       |   4054 | 0.27104879 |   0.8104353 | 0.2719131 |\n| Querétaro                       |   4002 | 0.27785650 |   0.8000400 | 0.2786198 |\n| Tabasco                         |   3900 | 0.34511041 |   0.7796492 | 0.3448248 |\n| Michoacán de Ocampo             |   3656 | 0.32259909 |   0.7308711 | 0.3228143 |\n| Aguascalientes                  |   2467 | 0.22084561 |   0.4931781 | 0.2234990 |\n| Durango                         |   2263 | 0.31468005 |   0.4523964 | 0.3158919 |\n| Zacatecas                       |   2232 | 0.43956936 |   0.4461992 | 0.4394963 |\n| Tlaxcala                        |   1606 | 0.29436182 |   0.3210555 | 0.2962307 |\n| Total                           | 500225 | 8.15786131 | 100.0000001 | 8.0990536 |\n\n",
      "text/latex": "A tabyl: 33 × 5\n\\begin{tabular}{lllll}\n nom\\_ent & ocupados & ocupados\\_cv & porcentaje & porcentaje\\_cv\\\\\n <chr> & <dbl> & <dbl> & <dbl> & <dbl>\\\\\n\\hline\n\t Quintana Roo                    & 137606 & 0.05668803 &  27.5088210 & 0.0557282\\\\\n\t Jalisco                         &  43947 & 0.17269958 &   8.7854465 & 0.1620022\\\\\n\t Baja California Sur             &  43203 & 0.10706990 &   8.6367135 & 0.1055645\\\\\n\t Veracruz de Ignacio de la Llave &  28626 & 0.29975641 &   5.7226248 & 0.2850088\\\\\n\t Nayarit                         &  27567 & 0.17335917 &   5.5109201 & 0.1685262\\\\\n\t Guerrero                        &  27409 & 0.24177879 &   5.4793343 & 0.2317563\\\\\n\t Ciudad de México                &  24473 & 0.22338291 &   4.8923984 & 0.2160496\\\\\n\t Guanajuato                      &  14325 & 0.27357605 &   2.8637113 & 0.2687328\\\\\n\t México                          &  12572 & 0.37553441 &   2.5132690 & 0.3682356\\\\\n\t Chiapas                         &  11188 & 0.27320149 &   2.2365935 & 0.2701119\\\\\n\t Yucatán                         &  11023 & 0.16718471 &   2.2036084 & 0.1684606\\\\\n\t Puebla                          &  10714 & 0.21044747 &   2.1418362 & 0.2098835\\\\\n\t Baja California                 &  10219 & 0.20976658 &   2.0428807 & 0.2094381\\\\\n\t Sinaloa                         &   9424 & 0.22656966 &   1.8839522 & 0.2259640\\\\\n\t Oaxaca                          &   8108 & 0.31077321 &   1.6208707 & 0.3083978\\\\\n\t Tamaulipas                      &   7837 & 0.22322170 &   1.5666950 & 0.2234429\\\\\n\t Nuevo León                      &   7769 & 0.24916145 &   1.5531011 & 0.2486225\\\\\n\t Sonora                          &   7268 & 0.26907377 &   1.4529462 & 0.2682479\\\\\n\t San Luis Potosí                 &   6584 & 0.35302912 &   1.3162077 & 0.3507262\\\\\n\t Morelos                         &   6472 & 0.21626132 &   1.2938178 & 0.2172990\\\\\n\t Coahuila de Zaragoza            &   6004 & 0.26881504 &   1.2002599 & 0.2686764\\\\\n\t Hidalgo                         &   5207 & 0.42677051 &   1.0409316 & 0.4242657\\\\\n\t Colima                          &   4413 & 0.20276676 &   0.8822030 & 0.2050586\\\\\n\t Campeche                        &   4087 & 0.14090164 &   0.8170323 & 0.1455643\\\\\n\t Chihuahua                       &   4054 & 0.27104879 &   0.8104353 & 0.2719131\\\\\n\t Querétaro                       &   4002 & 0.27785650 &   0.8000400 & 0.2786198\\\\\n\t Tabasco                         &   3900 & 0.34511041 &   0.7796492 & 0.3448248\\\\\n\t Michoacán de Ocampo             &   3656 & 0.32259909 &   0.7308711 & 0.3228143\\\\\n\t Aguascalientes                  &   2467 & 0.22084561 &   0.4931781 & 0.2234990\\\\\n\t Durango                         &   2263 & 0.31468005 &   0.4523964 & 0.3158919\\\\\n\t Zacatecas                       &   2232 & 0.43956936 &   0.4461992 & 0.4394963\\\\\n\t Tlaxcala                        &   1606 & 0.29436182 &   0.3210555 & 0.2962307\\\\\n\t Total                           & 500225 & 8.15786131 & 100.0000001 & 8.0990536\\\\\n\\end{tabular}\n",
      "text/plain": [
       "   nom_ent                         ocupados ocupados_cv porcentaje \n",
       "1  Quintana Roo                    137606   0.05668803   27.5088210\n",
       "2  Jalisco                          43947   0.17269958    8.7854465\n",
       "3  Baja California Sur              43203   0.10706990    8.6367135\n",
       "4  Veracruz de Ignacio de la Llave  28626   0.29975641    5.7226248\n",
       "5  Nayarit                          27567   0.17335917    5.5109201\n",
       "6  Guerrero                         27409   0.24177879    5.4793343\n",
       "7  Ciudad de México                 24473   0.22338291    4.8923984\n",
       "8  Guanajuato                       14325   0.27357605    2.8637113\n",
       "9  México                           12572   0.37553441    2.5132690\n",
       "10 Chiapas                          11188   0.27320149    2.2365935\n",
       "11 Yucatán                          11023   0.16718471    2.2036084\n",
       "12 Puebla                           10714   0.21044747    2.1418362\n",
       "13 Baja California                  10219   0.20976658    2.0428807\n",
       "14 Sinaloa                           9424   0.22656966    1.8839522\n",
       "15 Oaxaca                            8108   0.31077321    1.6208707\n",
       "16 Tamaulipas                        7837   0.22322170    1.5666950\n",
       "17 Nuevo León                        7769   0.24916145    1.5531011\n",
       "18 Sonora                            7268   0.26907377    1.4529462\n",
       "19 San Luis Potosí                   6584   0.35302912    1.3162077\n",
       "20 Morelos                           6472   0.21626132    1.2938178\n",
       "21 Coahuila de Zaragoza              6004   0.26881504    1.2002599\n",
       "22 Hidalgo                           5207   0.42677051    1.0409316\n",
       "23 Colima                            4413   0.20276676    0.8822030\n",
       "24 Campeche                          4087   0.14090164    0.8170323\n",
       "25 Chihuahua                         4054   0.27104879    0.8104353\n",
       "26 Querétaro                         4002   0.27785650    0.8000400\n",
       "27 Tabasco                           3900   0.34511041    0.7796492\n",
       "28 Michoacán de Ocampo               3656   0.32259909    0.7308711\n",
       "29 Aguascalientes                    2467   0.22084561    0.4931781\n",
       "30 Durango                           2263   0.31468005    0.4523964\n",
       "31 Zacatecas                         2232   0.43956936    0.4461992\n",
       "32 Tlaxcala                          1606   0.29436182    0.3210555\n",
       "33 Total                           500225   8.15786131  100.0000001\n",
       "   porcentaje_cv\n",
       "1  0.0557282    \n",
       "2  0.1620022    \n",
       "3  0.1055645    \n",
       "4  0.2850088    \n",
       "5  0.1685262    \n",
       "6  0.2317563    \n",
       "7  0.2160496    \n",
       "8  0.2687328    \n",
       "9  0.3682356    \n",
       "10 0.2701119    \n",
       "11 0.1684606    \n",
       "12 0.2098835    \n",
       "13 0.2094381    \n",
       "14 0.2259640    \n",
       "15 0.3083978    \n",
       "16 0.2234429    \n",
       "17 0.2486225    \n",
       "18 0.2682479    \n",
       "19 0.3507262    \n",
       "20 0.2172990    \n",
       "21 0.2686764    \n",
       "22 0.4242657    \n",
       "23 0.2050586    \n",
       "24 0.1455643    \n",
       "25 0.2719131    \n",
       "26 0.2786198    \n",
       "27 0.3448248    \n",
       "28 0.3228143    \n",
       "29 0.2234990    \n",
       "30 0.3158919    \n",
       "31 0.4394963    \n",
       "32 0.2962307    \n",
       "33 8.0990536    "
      ]
     },
     "metadata": {},
     "output_type": "display_data"
    }
   ],
   "execution_count": 44
  },
  {
   "metadata": {
    "ExecuteTime": {
     "end_time": "2025-02-09T04:40:58.293977Z",
     "start_time": "2025-02-09T04:40:57.968301Z"
    }
   },
   "cell_type": "code",
   "source": [
    "#Población ocupada en cultura en la Ciudad de México\n",
    "\n",
    "print(\"Población ocupada en turismo en la Ciudad de México\")\n",
    "dm%>%\n",
    "  filter(ent==9)%>%\n",
    "  group_by(turismo)%>%\n",
    "    summarise(ocupados = survey_total(vartype = \"cv\"),\n",
    "                porcentaje = survey_prop(vartype = \"cv\"))%>%\n",
    "  mutate(porcentaje = porcentaje*100)%>%\n",
    "    janitor::adorn_totals(\"row\")"
   ],
   "id": "176be3e150d60fbb",
   "outputs": [
    {
     "name": "stdout",
     "output_type": "stream",
     "text": [
      "[1] \"Población ocupada en turismo en la Ciudad de México\"\n"
     ]
    },
    {
     "data": {
      "text/html": [
       "<table class=\"dataframe\">\n",
       "<caption>A tabyl: 3 × 5</caption>\n",
       "<thead>\n",
       "\t<tr><th scope=col>turismo</th><th scope=col>ocupados</th><th scope=col>ocupados_cv</th><th scope=col>porcentaje</th><th scope=col>porcentaje_cv</th></tr>\n",
       "\t<tr><th scope=col>&lt;chr&gt;</th><th scope=col>&lt;dbl&gt;</th><th scope=col>&lt;dbl&gt;</th><th scope=col>&lt;dbl&gt;</th><th scope=col>&lt;dbl&gt;</th></tr>\n",
       "</thead>\n",
       "<tbody>\n",
       "\t<tr><td>0    </td><td>4633228</td><td>0.01752721</td><td> 99.4745691</td><td>0.001178609</td></tr>\n",
       "\t<tr><td>1    </td><td>  24473</td><td>0.22338291</td><td>  0.5254309</td><td>0.223134214</td></tr>\n",
       "\t<tr><td>Total</td><td>4657701</td><td>0.24091012</td><td>100.0000000</td><td>0.224312823</td></tr>\n",
       "</tbody>\n",
       "</table>\n"
      ],
      "text/markdown": "\nA tabyl: 3 × 5\n\n| turismo &lt;chr&gt; | ocupados &lt;dbl&gt; | ocupados_cv &lt;dbl&gt; | porcentaje &lt;dbl&gt; | porcentaje_cv &lt;dbl&gt; |\n|---|---|---|---|---|\n| 0     | 4633228 | 0.01752721 |  99.4745691 | 0.001178609 |\n| 1     |   24473 | 0.22338291 |   0.5254309 | 0.223134214 |\n| Total | 4657701 | 0.24091012 | 100.0000000 | 0.224312823 |\n\n",
      "text/latex": "A tabyl: 3 × 5\n\\begin{tabular}{lllll}\n turismo & ocupados & ocupados\\_cv & porcentaje & porcentaje\\_cv\\\\\n <chr> & <dbl> & <dbl> & <dbl> & <dbl>\\\\\n\\hline\n\t 0     & 4633228 & 0.01752721 &  99.4745691 & 0.001178609\\\\\n\t 1     &   24473 & 0.22338291 &   0.5254309 & 0.223134214\\\\\n\t Total & 4657701 & 0.24091012 & 100.0000000 & 0.224312823\\\\\n\\end{tabular}\n",
      "text/plain": [
       "  turismo ocupados ocupados_cv porcentaje  porcentaje_cv\n",
       "1 0       4633228  0.01752721   99.4745691 0.001178609  \n",
       "2 1         24473  0.22338291    0.5254309 0.223134214  \n",
       "3 Total   4657701  0.24091012  100.0000000 0.224312823  "
      ]
     },
     "metadata": {},
     "output_type": "display_data"
    }
   ],
   "execution_count": 37
  }
 ],
 "metadata": {
  "kernelspec": {
   "name": "ir",
   "language": "R",
   "display_name": "R"
  }
 },
 "nbformat": 4,
 "nbformat_minor": 5
}
