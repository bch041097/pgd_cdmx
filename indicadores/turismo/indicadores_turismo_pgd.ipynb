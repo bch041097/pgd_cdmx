{
 "cells": [
  {
   "metadata": {
    "ExecuteTime": {
     "end_time": "2025-02-18T06:54:47.387439Z",
     "start_time": "2025-02-18T06:54:46.286551Z"
    }
   },
   "cell_type": "code",
   "source": [
    "#Se borra todo lo que se encuentra en el entorno\n",
    "\n",
    "rm(list=ls())\n",
    "\n",
    "# Librerías ====\n",
    "if (!require('pacman')) install.packages('pacman')\n",
    "pacman::p_load(tidyverse, httr,jsonlite, srvyr,showtext)"
   ],
   "id": "1305f130af1e9efb",
   "outputs": [
    {
     "name": "stderr",
     "output_type": "stream",
     "text": [
      "Loading required package: pacman\n",
      "\n"
     ]
    }
   ],
   "execution_count": 2
  },
  {
   "metadata": {
    "ExecuteTime": {
     "end_time": "2025-02-18T06:54:48.784424Z",
     "start_time": "2025-02-18T06:54:47.421658Z"
    }
   },
   "cell_type": "code",
   "source": [
    "font_add_google(\"Roboto\", \"rob\")\n",
    "showtext_auto()"
   ],
   "id": "13b60434038d6c82",
   "outputs": [],
   "execution_count": 3
  },
  {
   "metadata": {},
   "cell_type": "markdown",
   "source": "### Turistas en CDMX",
   "id": "fffbd7a9e903d7e9"
  },
  {
   "metadata": {
    "ExecuteTime": {
     "end_time": "2025-02-18T06:54:48.905859Z",
     "start_time": "2025-02-18T06:54:48.895150Z"
    }
   },
   "cell_type": "code",
   "source": "url_tur<-\"https://datos.cdmx.gob.mx/dataset/f4bcda9f-803b-4a64-bee1-79fbf02446e3/resource/ce6bc859-5e50-44e4-82b8-990fa97a0dac/download/turistas_desglosado_2024_7.csv\"",
   "id": "dbb6c78e11173a9d",
   "outputs": [],
   "execution_count": 4
  },
  {
   "metadata": {
    "ExecuteTime": {
     "end_time": "2025-02-18T06:54:50.342484Z",
     "start_time": "2025-02-18T06:54:49.842859Z"
    }
   },
   "cell_type": "code",
   "source": [
    "turistas<-read_csv(url_tur,show_col_types = FALSE)%>%\n",
    "#Agrupar por año\n",
    "group_by(anio)%>%\n",
    "#Sumar turistas\n",
    "summarise(turistas=sum(turistas))%>%\n",
    "#Crear índice base 2018=100\n",
    "mutate(turistas_index=turistas/turistas[anio==2018]*100)%>%\n",
    "filter(anio<=2019)%>%\n",
    "#Calcular tasa de crecimiento de turistas index\n",
    "mutate(tasa_crecimiento=(turistas_index-lag(turistas_index))/lag(turistas_index)*100)%>%na.omit()\n",
    "turistas"
   ],
   "id": "10c9f99cbb37350f",
   "outputs": [
    {
     "data": {
      "text/html": [
       "<table class=\"dataframe\">\n",
       "<caption>A tibble: 21 × 4</caption>\n",
       "<thead>\n",
       "\t<tr><th scope=col>anio</th><th scope=col>turistas</th><th scope=col>turistas_index</th><th scope=col>tasa_crecimiento</th></tr>\n",
       "\t<tr><th scope=col>&lt;dbl&gt;</th><th scope=col>&lt;dbl&gt;</th><th scope=col>&lt;dbl&gt;</th><th scope=col>&lt;dbl&gt;</th></tr>\n",
       "</thead>\n",
       "<tbody>\n",
       "\t<tr><td>1999</td><td> 8893087</td><td> 63.60288</td><td> 12.7029977</td></tr>\n",
       "\t<tr><td>2000</td><td> 9123995</td><td> 65.25432</td><td>  2.5964887</td></tr>\n",
       "\t<tr><td>2001</td><td>10451936</td><td> 74.75168</td><td> 14.5543811</td></tr>\n",
       "\t<tr><td>2002</td><td>10170832</td><td> 72.74124</td><td> -2.6894922</td></tr>\n",
       "\t<tr><td>2003</td><td>10438037</td><td> 74.65227</td><td>  2.6271695</td></tr>\n",
       "\t<tr><td>2004</td><td>11615335</td><td> 83.07225</td><td> 11.2789215</td></tr>\n",
       "\t<tr><td>2005</td><td>12212665</td><td> 87.34432</td><td>  5.1425981</td></tr>\n",
       "\t<tr><td>2006</td><td>11149161</td><td> 79.73819</td><td> -8.7082058</td></tr>\n",
       "\t<tr><td>2007</td><td>11057203</td><td> 79.08052</td><td> -0.8247975</td></tr>\n",
       "\t<tr><td>2008</td><td>11565225</td><td> 82.71386</td><td>  4.5944892</td></tr>\n",
       "\t<tr><td>2009</td><td> 9966507</td><td> 71.27992</td><td>-13.8234924</td></tr>\n",
       "\t<tr><td>2010</td><td>11074690</td><td> 79.20558</td><td> 11.1190711</td></tr>\n",
       "\t<tr><td>2011</td><td>12380036</td><td> 88.54135</td><td> 11.7867498</td></tr>\n",
       "\t<tr><td>2012</td><td>12305483</td><td> 88.00815</td><td> -0.6022034</td></tr>\n",
       "\t<tr><td>2013</td><td>12677217</td><td> 90.66677</td><td>  3.0208810</td></tr>\n",
       "\t<tr><td>2014</td><td>13095264</td><td> 93.65662</td><td>  3.2976244</td></tr>\n",
       "\t<tr><td>2015</td><td>13125008</td><td> 93.86934</td><td>  0.2271356</td></tr>\n",
       "\t<tr><td>2016</td><td>13582755</td><td> 97.14313</td><td>  3.4875941</td></tr>\n",
       "\t<tr><td>2017</td><td>13746859</td><td> 98.31679</td><td>  1.2081790</td></tr>\n",
       "\t<tr><td>2018</td><td>13982209</td><td>100.00000</td><td>  1.7120275</td></tr>\n",
       "\t<tr><td>2019</td><td>13905083</td><td> 99.44840</td><td> -0.5516010</td></tr>\n",
       "</tbody>\n",
       "</table>\n"
      ],
      "text/markdown": "\nA tibble: 21 × 4\n\n| anio &lt;dbl&gt; | turistas &lt;dbl&gt; | turistas_index &lt;dbl&gt; | tasa_crecimiento &lt;dbl&gt; |\n|---|---|---|---|\n| 1999 |  8893087 |  63.60288 |  12.7029977 |\n| 2000 |  9123995 |  65.25432 |   2.5964887 |\n| 2001 | 10451936 |  74.75168 |  14.5543811 |\n| 2002 | 10170832 |  72.74124 |  -2.6894922 |\n| 2003 | 10438037 |  74.65227 |   2.6271695 |\n| 2004 | 11615335 |  83.07225 |  11.2789215 |\n| 2005 | 12212665 |  87.34432 |   5.1425981 |\n| 2006 | 11149161 |  79.73819 |  -8.7082058 |\n| 2007 | 11057203 |  79.08052 |  -0.8247975 |\n| 2008 | 11565225 |  82.71386 |   4.5944892 |\n| 2009 |  9966507 |  71.27992 | -13.8234924 |\n| 2010 | 11074690 |  79.20558 |  11.1190711 |\n| 2011 | 12380036 |  88.54135 |  11.7867498 |\n| 2012 | 12305483 |  88.00815 |  -0.6022034 |\n| 2013 | 12677217 |  90.66677 |   3.0208810 |\n| 2014 | 13095264 |  93.65662 |   3.2976244 |\n| 2015 | 13125008 |  93.86934 |   0.2271356 |\n| 2016 | 13582755 |  97.14313 |   3.4875941 |\n| 2017 | 13746859 |  98.31679 |   1.2081790 |\n| 2018 | 13982209 | 100.00000 |   1.7120275 |\n| 2019 | 13905083 |  99.44840 |  -0.5516010 |\n\n",
      "text/latex": "A tibble: 21 × 4\n\\begin{tabular}{llll}\n anio & turistas & turistas\\_index & tasa\\_crecimiento\\\\\n <dbl> & <dbl> & <dbl> & <dbl>\\\\\n\\hline\n\t 1999 &  8893087 &  63.60288 &  12.7029977\\\\\n\t 2000 &  9123995 &  65.25432 &   2.5964887\\\\\n\t 2001 & 10451936 &  74.75168 &  14.5543811\\\\\n\t 2002 & 10170832 &  72.74124 &  -2.6894922\\\\\n\t 2003 & 10438037 &  74.65227 &   2.6271695\\\\\n\t 2004 & 11615335 &  83.07225 &  11.2789215\\\\\n\t 2005 & 12212665 &  87.34432 &   5.1425981\\\\\n\t 2006 & 11149161 &  79.73819 &  -8.7082058\\\\\n\t 2007 & 11057203 &  79.08052 &  -0.8247975\\\\\n\t 2008 & 11565225 &  82.71386 &   4.5944892\\\\\n\t 2009 &  9966507 &  71.27992 & -13.8234924\\\\\n\t 2010 & 11074690 &  79.20558 &  11.1190711\\\\\n\t 2011 & 12380036 &  88.54135 &  11.7867498\\\\\n\t 2012 & 12305483 &  88.00815 &  -0.6022034\\\\\n\t 2013 & 12677217 &  90.66677 &   3.0208810\\\\\n\t 2014 & 13095264 &  93.65662 &   3.2976244\\\\\n\t 2015 & 13125008 &  93.86934 &   0.2271356\\\\\n\t 2016 & 13582755 &  97.14313 &   3.4875941\\\\\n\t 2017 & 13746859 &  98.31679 &   1.2081790\\\\\n\t 2018 & 13982209 & 100.00000 &   1.7120275\\\\\n\t 2019 & 13905083 &  99.44840 &  -0.5516010\\\\\n\\end{tabular}\n",
      "text/plain": [
       "   anio turistas turistas_index tasa_crecimiento\n",
       "1  1999  8893087  63.60288       12.7029977     \n",
       "2  2000  9123995  65.25432        2.5964887     \n",
       "3  2001 10451936  74.75168       14.5543811     \n",
       "4  2002 10170832  72.74124       -2.6894922     \n",
       "5  2003 10438037  74.65227        2.6271695     \n",
       "6  2004 11615335  83.07225       11.2789215     \n",
       "7  2005 12212665  87.34432        5.1425981     \n",
       "8  2006 11149161  79.73819       -8.7082058     \n",
       "9  2007 11057203  79.08052       -0.8247975     \n",
       "10 2008 11565225  82.71386        4.5944892     \n",
       "11 2009  9966507  71.27992      -13.8234924     \n",
       "12 2010 11074690  79.20558       11.1190711     \n",
       "13 2011 12380036  88.54135       11.7867498     \n",
       "14 2012 12305483  88.00815       -0.6022034     \n",
       "15 2013 12677217  90.66677        3.0208810     \n",
       "16 2014 13095264  93.65662        3.2976244     \n",
       "17 2015 13125008  93.86934        0.2271356     \n",
       "18 2016 13582755  97.14313        3.4875941     \n",
       "19 2017 13746859  98.31679        1.2081790     \n",
       "20 2018 13982209 100.00000        1.7120275     \n",
       "21 2019 13905083  99.44840       -0.5516010     "
      ]
     },
     "metadata": {},
     "output_type": "display_data"
    }
   ],
   "execution_count": 5
  },
  {
   "metadata": {
    "ExecuteTime": {
     "end_time": "2025-02-18T06:54:53.843975Z",
     "start_time": "2025-02-18T06:54:53.815414Z"
    }
   },
   "cell_type": "code",
   "source": [
    "#Hacer regresión lineal de indice de turistas\n",
    "modelo<-lm(turistas_index~anio,data=turistas)\n",
    "modelo%>%summary()"
   ],
   "id": "bb9689789a923e1a",
   "outputs": [
    {
     "data": {
      "text/plain": [
       "\n",
       "Call:\n",
       "lm(formula = turistas_index ~ anio, data = turistas)\n",
       "\n",
       "Residuals:\n",
       "     Min       1Q   Median       3Q      Max \n",
       "-12.6766  -0.8273   0.3836   1.4069   9.8929 \n",
       "\n",
       "Coefficients:\n",
       "              Estimate Std. Error t value Pr(>|t|)    \n",
       "(Intercept) -3183.2457   338.6029  -9.401 1.41e-08 ***\n",
       "anio            1.6263     0.1685   9.649 9.33e-09 ***\n",
       "---\n",
       "Signif. codes:  0 '***' 0.001 '**' 0.01 '*' 0.05 '.' 0.1 ' ' 1\n",
       "\n",
       "Residual standard error: 4.677 on 19 degrees of freedom\n",
       "Multiple R-squared:  0.8305,\tAdjusted R-squared:  0.8216 \n",
       "F-statistic: 93.11 on 1 and 19 DF,  p-value: 9.327e-09\n"
      ]
     },
     "metadata": {},
     "output_type": "display_data"
    }
   ],
   "execution_count": 6
  },
  {
   "metadata": {
    "ExecuteTime": {
     "end_time": "2025-02-18T06:54:59.098133Z",
     "start_time": "2025-02-18T06:54:58.790951Z"
    }
   },
   "cell_type": "code",
   "source": [
    "#Graficar\n",
    "turistas%>%\n",
    "ggplot(aes(x=anio, y=turistas_index))+\n",
    "geom_point()+\n",
    "geom_smooth(method=\"lm\",se=FALSE)+\n",
    "labs(title=\"Índice de turistas en CDMX\",x=\"Año\",y=\"Índice de turistas\")+\n",
    "theme_minimal()+\n",
    "theme(legend.position = \"none\")\n"
   ],
   "id": "6224aff1c5570108",
   "outputs": [
    {
     "name": "stderr",
     "output_type": "stream",
     "text": [
      "\u001B[1m\u001B[22m`geom_smooth()` using formula = 'y ~ x'\n"
     ]
    },
    {
     "data": {
      "text/plain": [
       "plot without title"
      ],
      "image/png": "[encoded data removed]"
     },
     "metadata": {
      "image/png": {
       "width": 420,
       "height": 420
      }
     },
     "output_type": "display_data"
    }
   ],
   "execution_count": 7
  },
  {
   "metadata": {
    "ExecuteTime": {
     "end_time": "2025-02-18T06:55:01.912411Z",
     "start_time": "2025-02-18T06:55:01.889575Z"
    }
   },
   "cell_type": "code",
   "source": [
    "#Hacer predicción de índice de turistas para 2025 a 2045\n",
    "prediccion<-data.frame(anio=2020:2045)\n",
    "prediccion$turistas_index<-predict(modelo,newdata=prediccion)\n",
    "#Tasa de crecimiento del índice de turistas\n",
    "prediccion$tasa_crecimiento<-diff(prediccion$turistas_index)/prediccion$turistas_index*100\n",
    "prediccion"
   ],
   "id": "72fa6fb93d1ff582",
   "outputs": [
    {
     "name": "stderr",
     "output_type": "stream",
     "text": [
      "Warning message in diff(prediccion$turistas_index)/prediccion$turistas_index:\n",
      "\"longer object length is not a multiple of shorter object length\"\n"
     ]
    },
    {
     "data": {
      "text/html": [
       "<table class=\"dataframe\">\n",
       "<caption>A data.frame: 26 × 3</caption>\n",
       "<thead>\n",
       "\t<tr><th scope=col>anio</th><th scope=col>turistas_index</th><th scope=col>tasa_crecimiento</th></tr>\n",
       "\t<tr><th scope=col>&lt;int&gt;</th><th scope=col>&lt;dbl&gt;</th><th scope=col>&lt;dbl&gt;</th></tr>\n",
       "</thead>\n",
       "<tbody>\n",
       "\t<tr><td>2020</td><td>101.8457</td><td>1.596811</td></tr>\n",
       "\t<tr><td>2021</td><td>103.4719</td><td>1.571714</td></tr>\n",
       "\t<tr><td>2022</td><td>105.0982</td><td>1.547393</td></tr>\n",
       "\t<tr><td>2023</td><td>106.7245</td><td>1.523814</td></tr>\n",
       "\t<tr><td>2024</td><td>108.3508</td><td>1.500942</td></tr>\n",
       "\t<tr><td>2025</td><td>109.9771</td><td>1.478747</td></tr>\n",
       "\t<tr><td>2026</td><td>111.6034</td><td>1.457199</td></tr>\n",
       "\t<tr><td>2027</td><td>113.2296</td><td>1.436270</td></tr>\n",
       "\t<tr><td>2028</td><td>114.8559</td><td>1.415933</td></tr>\n",
       "\t<tr><td>2029</td><td>116.4822</td><td>1.396164</td></tr>\n",
       "\t<tr><td>2030</td><td>118.1085</td><td>1.376940</td></tr>\n",
       "\t<tr><td>2031</td><td>119.7348</td><td>1.358238</td></tr>\n",
       "\t<tr><td>2032</td><td>121.3611</td><td>1.340037</td></tr>\n",
       "\t<tr><td>2033</td><td>122.9873</td><td>1.322317</td></tr>\n",
       "\t<tr><td>2034</td><td>124.6136</td><td>1.305060</td></tr>\n",
       "\t<tr><td>2035</td><td>126.2399</td><td>1.288248</td></tr>\n",
       "\t<tr><td>2036</td><td>127.8662</td><td>1.271863</td></tr>\n",
       "\t<tr><td>2037</td><td>129.4925</td><td>1.255890</td></tr>\n",
       "\t<tr><td>2038</td><td>131.1188</td><td>1.240313</td></tr>\n",
       "\t<tr><td>2039</td><td>132.7450</td><td>1.225118</td></tr>\n",
       "\t<tr><td>2040</td><td>134.3713</td><td>1.210290</td></tr>\n",
       "\t<tr><td>2041</td><td>135.9976</td><td>1.195817</td></tr>\n",
       "\t<tr><td>2042</td><td>137.6239</td><td>1.181686</td></tr>\n",
       "\t<tr><td>2043</td><td>139.2502</td><td>1.167886</td></tr>\n",
       "\t<tr><td>2044</td><td>140.8765</td><td>1.154404</td></tr>\n",
       "\t<tr><td>2045</td><td>142.5027</td><td>1.141229</td></tr>\n",
       "</tbody>\n",
       "</table>\n"
      ],
      "text/markdown": "\nA data.frame: 26 × 3\n\n| anio &lt;int&gt; | turistas_index &lt;dbl&gt; | tasa_crecimiento &lt;dbl&gt; |\n|---|---|---|\n| 2020 | 101.8457 | 1.596811 |\n| 2021 | 103.4719 | 1.571714 |\n| 2022 | 105.0982 | 1.547393 |\n| 2023 | 106.7245 | 1.523814 |\n| 2024 | 108.3508 | 1.500942 |\n| 2025 | 109.9771 | 1.478747 |\n| 2026 | 111.6034 | 1.457199 |\n| 2027 | 113.2296 | 1.436270 |\n| 2028 | 114.8559 | 1.415933 |\n| 2029 | 116.4822 | 1.396164 |\n| 2030 | 118.1085 | 1.376940 |\n| 2031 | 119.7348 | 1.358238 |\n| 2032 | 121.3611 | 1.340037 |\n| 2033 | 122.9873 | 1.322317 |\n| 2034 | 124.6136 | 1.305060 |\n| 2035 | 126.2399 | 1.288248 |\n| 2036 | 127.8662 | 1.271863 |\n| 2037 | 129.4925 | 1.255890 |\n| 2038 | 131.1188 | 1.240313 |\n| 2039 | 132.7450 | 1.225118 |\n| 2040 | 134.3713 | 1.210290 |\n| 2041 | 135.9976 | 1.195817 |\n| 2042 | 137.6239 | 1.181686 |\n| 2043 | 139.2502 | 1.167886 |\n| 2044 | 140.8765 | 1.154404 |\n| 2045 | 142.5027 | 1.141229 |\n\n",
      "text/latex": "A data.frame: 26 × 3\n\\begin{tabular}{lll}\n anio & turistas\\_index & tasa\\_crecimiento\\\\\n <int> & <dbl> & <dbl>\\\\\n\\hline\n\t 2020 & 101.8457 & 1.596811\\\\\n\t 2021 & 103.4719 & 1.571714\\\\\n\t 2022 & 105.0982 & 1.547393\\\\\n\t 2023 & 106.7245 & 1.523814\\\\\n\t 2024 & 108.3508 & 1.500942\\\\\n\t 2025 & 109.9771 & 1.478747\\\\\n\t 2026 & 111.6034 & 1.457199\\\\\n\t 2027 & 113.2296 & 1.436270\\\\\n\t 2028 & 114.8559 & 1.415933\\\\\n\t 2029 & 116.4822 & 1.396164\\\\\n\t 2030 & 118.1085 & 1.376940\\\\\n\t 2031 & 119.7348 & 1.358238\\\\\n\t 2032 & 121.3611 & 1.340037\\\\\n\t 2033 & 122.9873 & 1.322317\\\\\n\t 2034 & 124.6136 & 1.305060\\\\\n\t 2035 & 126.2399 & 1.288248\\\\\n\t 2036 & 127.8662 & 1.271863\\\\\n\t 2037 & 129.4925 & 1.255890\\\\\n\t 2038 & 131.1188 & 1.240313\\\\\n\t 2039 & 132.7450 & 1.225118\\\\\n\t 2040 & 134.3713 & 1.210290\\\\\n\t 2041 & 135.9976 & 1.195817\\\\\n\t 2042 & 137.6239 & 1.181686\\\\\n\t 2043 & 139.2502 & 1.167886\\\\\n\t 2044 & 140.8765 & 1.154404\\\\\n\t 2045 & 142.5027 & 1.141229\\\\\n\\end{tabular}\n",
      "text/plain": [
       "   anio turistas_index tasa_crecimiento\n",
       "1  2020 101.8457       1.596811        \n",
       "2  2021 103.4719       1.571714        \n",
       "3  2022 105.0982       1.547393        \n",
       "4  2023 106.7245       1.523814        \n",
       "5  2024 108.3508       1.500942        \n",
       "6  2025 109.9771       1.478747        \n",
       "7  2026 111.6034       1.457199        \n",
       "8  2027 113.2296       1.436270        \n",
       "9  2028 114.8559       1.415933        \n",
       "10 2029 116.4822       1.396164        \n",
       "11 2030 118.1085       1.376940        \n",
       "12 2031 119.7348       1.358238        \n",
       "13 2032 121.3611       1.340037        \n",
       "14 2033 122.9873       1.322317        \n",
       "15 2034 124.6136       1.305060        \n",
       "16 2035 126.2399       1.288248        \n",
       "17 2036 127.8662       1.271863        \n",
       "18 2037 129.4925       1.255890        \n",
       "19 2038 131.1188       1.240313        \n",
       "20 2039 132.7450       1.225118        \n",
       "21 2040 134.3713       1.210290        \n",
       "22 2041 135.9976       1.195817        \n",
       "23 2042 137.6239       1.181686        \n",
       "24 2043 139.2502       1.167886        \n",
       "25 2044 140.8765       1.154404        \n",
       "26 2045 142.5027       1.141229        "
      ]
     },
     "metadata": {},
     "output_type": "display_data"
    }
   ],
   "execution_count": 8
  },
  {
   "metadata": {
    "ExecuteTime": {
     "end_time": "2025-02-18T06:55:49.536607Z",
     "start_time": "2025-02-18T06:55:49.455579Z"
    }
   },
   "cell_type": "code",
   "source": [
    "turistas_extended<-bind_rows(turistas,prediccion)%>%\n",
    "#Calcular turistas\n",
    "mutate(turistas=turistas_index*turistas[anio==2018]/100)\n",
    "turistas_extended"
   ],
   "id": "9836c9f1ce011d0e",
   "outputs": [
    {
     "data": {
      "text/html": [
       "<table class=\"dataframe\">\n",
       "<caption>A tibble: 47 × 4</caption>\n",
       "<thead>\n",
       "\t<tr><th scope=col>anio</th><th scope=col>turistas</th><th scope=col>turistas_index</th><th scope=col>tasa_crecimiento</th></tr>\n",
       "\t<tr><th scope=col>&lt;dbl&gt;</th><th scope=col>&lt;dbl&gt;</th><th scope=col>&lt;dbl&gt;</th><th scope=col>&lt;dbl&gt;</th></tr>\n",
       "</thead>\n",
       "<tbody>\n",
       "\t<tr><td>1999</td><td> 8893087</td><td> 63.60288</td><td> 12.7029977</td></tr>\n",
       "\t<tr><td>2000</td><td> 9123995</td><td> 65.25432</td><td>  2.5964887</td></tr>\n",
       "\t<tr><td>2001</td><td>10451936</td><td> 74.75168</td><td> 14.5543811</td></tr>\n",
       "\t<tr><td>2002</td><td>10170832</td><td> 72.74124</td><td> -2.6894922</td></tr>\n",
       "\t<tr><td>2003</td><td>10438037</td><td> 74.65227</td><td>  2.6271695</td></tr>\n",
       "\t<tr><td>2004</td><td>11615335</td><td> 83.07225</td><td> 11.2789215</td></tr>\n",
       "\t<tr><td>2005</td><td>12212665</td><td> 87.34432</td><td>  5.1425981</td></tr>\n",
       "\t<tr><td>2006</td><td>11149161</td><td> 79.73819</td><td> -8.7082058</td></tr>\n",
       "\t<tr><td>2007</td><td>11057203</td><td> 79.08052</td><td> -0.8247975</td></tr>\n",
       "\t<tr><td>2008</td><td>11565225</td><td> 82.71386</td><td>  4.5944892</td></tr>\n",
       "\t<tr><td>2009</td><td> 9966507</td><td> 71.27992</td><td>-13.8234924</td></tr>\n",
       "\t<tr><td>2010</td><td>11074690</td><td> 79.20558</td><td> 11.1190711</td></tr>\n",
       "\t<tr><td>2011</td><td>12380036</td><td> 88.54135</td><td> 11.7867498</td></tr>\n",
       "\t<tr><td>2012</td><td>12305483</td><td> 88.00815</td><td> -0.6022034</td></tr>\n",
       "\t<tr><td>2013</td><td>12677217</td><td> 90.66677</td><td>  3.0208810</td></tr>\n",
       "\t<tr><td>2014</td><td>13095264</td><td> 93.65662</td><td>  3.2976244</td></tr>\n",
       "\t<tr><td>2015</td><td>13125008</td><td> 93.86934</td><td>  0.2271356</td></tr>\n",
       "\t<tr><td>2016</td><td>13582755</td><td> 97.14313</td><td>  3.4875941</td></tr>\n",
       "\t<tr><td>2017</td><td>13746859</td><td> 98.31679</td><td>  1.2081790</td></tr>\n",
       "\t<tr><td>2018</td><td>13982209</td><td>100.00000</td><td>  1.7120275</td></tr>\n",
       "\t<tr><td>2019</td><td>13905083</td><td> 99.44840</td><td> -0.5516010</td></tr>\n",
       "\t<tr><td>2020</td><td>14240273</td><td>101.84566</td><td>  1.5968111</td></tr>\n",
       "\t<tr><td>2021</td><td>14467664</td><td>103.47194</td><td>  1.5717138</td></tr>\n",
       "\t<tr><td>2022</td><td>14695054</td><td>105.09823</td><td>  1.5473932</td></tr>\n",
       "\t<tr><td>2023</td><td>14922444</td><td>106.72451</td><td>  1.5238138</td></tr>\n",
       "\t<tr><td>2024</td><td>15149834</td><td>108.35079</td><td>  1.5009423</td></tr>\n",
       "\t<tr><td>2025</td><td>15377225</td><td>109.97708</td><td>  1.4787471</td></tr>\n",
       "\t<tr><td>2026</td><td>15604615</td><td>111.60336</td><td>  1.4571988</td></tr>\n",
       "\t<tr><td>2027</td><td>15832005</td><td>113.22964</td><td>  1.4362695</td></tr>\n",
       "\t<tr><td>2028</td><td>16059395</td><td>114.85592</td><td>  1.4159329</td></tr>\n",
       "\t<tr><td>2029</td><td>16286786</td><td>116.48221</td><td>  1.3961642</td></tr>\n",
       "\t<tr><td>2030</td><td>16514176</td><td>118.10849</td><td>  1.3769398</td></tr>\n",
       "\t<tr><td>2031</td><td>16741566</td><td>119.73477</td><td>  1.3582377</td></tr>\n",
       "\t<tr><td>2032</td><td>16968957</td><td>121.36106</td><td>  1.3400368</td></tr>\n",
       "\t<tr><td>2033</td><td>17196347</td><td>122.98734</td><td>  1.3223173</td></tr>\n",
       "\t<tr><td>2034</td><td>17423737</td><td>124.61362</td><td>  1.3050603</td></tr>\n",
       "\t<tr><td>2035</td><td>17651127</td><td>126.23990</td><td>  1.2882479</td></tr>\n",
       "\t<tr><td>2036</td><td>17878518</td><td>127.86619</td><td>  1.2718631</td></tr>\n",
       "\t<tr><td>2037</td><td>18105908</td><td>129.49247</td><td>  1.2558899</td></tr>\n",
       "\t<tr><td>2038</td><td>18333298</td><td>131.11875</td><td>  1.2403129</td></tr>\n",
       "\t<tr><td>2039</td><td>18560688</td><td>132.74504</td><td>  1.2251176</td></tr>\n",
       "\t<tr><td>2040</td><td>18788079</td><td>134.37132</td><td>  1.2102902</td></tr>\n",
       "\t<tr><td>2041</td><td>19015469</td><td>135.99760</td><td>  1.1958173</td></tr>\n",
       "\t<tr><td>2042</td><td>19242859</td><td>137.62388</td><td>  1.1816865</td></tr>\n",
       "\t<tr><td>2043</td><td>19470249</td><td>139.25017</td><td>  1.1678857</td></tr>\n",
       "\t<tr><td>2044</td><td>19697640</td><td>140.87645</td><td>  1.1544036</td></tr>\n",
       "\t<tr><td>2045</td><td>19925030</td><td>142.50273</td><td>  1.1412292</td></tr>\n",
       "</tbody>\n",
       "</table>\n"
      ],
      "text/markdown": "\nA tibble: 47 × 4\n\n| anio &lt;dbl&gt; | turistas &lt;dbl&gt; | turistas_index &lt;dbl&gt; | tasa_crecimiento &lt;dbl&gt; |\n|---|---|---|---|\n| 1999 |  8893087 |  63.60288 |  12.7029977 |\n| 2000 |  9123995 |  65.25432 |   2.5964887 |\n| 2001 | 10451936 |  74.75168 |  14.5543811 |\n| 2002 | 10170832 |  72.74124 |  -2.6894922 |\n| 2003 | 10438037 |  74.65227 |   2.6271695 |\n| 2004 | 11615335 |  83.07225 |  11.2789215 |\n| 2005 | 12212665 |  87.34432 |   5.1425981 |\n| 2006 | 11149161 |  79.73819 |  -8.7082058 |\n| 2007 | 11057203 |  79.08052 |  -0.8247975 |\n| 2008 | 11565225 |  82.71386 |   4.5944892 |\n| 2009 |  9966507 |  71.27992 | -13.8234924 |\n| 2010 | 11074690 |  79.20558 |  11.1190711 |\n| 2011 | 12380036 |  88.54135 |  11.7867498 |\n| 2012 | 12305483 |  88.00815 |  -0.6022034 |\n| 2013 | 12677217 |  90.66677 |   3.0208810 |\n| 2014 | 13095264 |  93.65662 |   3.2976244 |\n| 2015 | 13125008 |  93.86934 |   0.2271356 |\n| 2016 | 13582755 |  97.14313 |   3.4875941 |\n| 2017 | 13746859 |  98.31679 |   1.2081790 |\n| 2018 | 13982209 | 100.00000 |   1.7120275 |\n| 2019 | 13905083 |  99.44840 |  -0.5516010 |\n| 2020 | 14240273 | 101.84566 |   1.5968111 |\n| 2021 | 14467664 | 103.47194 |   1.5717138 |\n| 2022 | 14695054 | 105.09823 |   1.5473932 |\n| 2023 | 14922444 | 106.72451 |   1.5238138 |\n| 2024 | 15149834 | 108.35079 |   1.5009423 |\n| 2025 | 15377225 | 109.97708 |   1.4787471 |\n| 2026 | 15604615 | 111.60336 |   1.4571988 |\n| 2027 | 15832005 | 113.22964 |   1.4362695 |\n| 2028 | 16059395 | 114.85592 |   1.4159329 |\n| 2029 | 16286786 | 116.48221 |   1.3961642 |\n| 2030 | 16514176 | 118.10849 |   1.3769398 |\n| 2031 | 16741566 | 119.73477 |   1.3582377 |\n| 2032 | 16968957 | 121.36106 |   1.3400368 |\n| 2033 | 17196347 | 122.98734 |   1.3223173 |\n| 2034 | 17423737 | 124.61362 |   1.3050603 |\n| 2035 | 17651127 | 126.23990 |   1.2882479 |\n| 2036 | 17878518 | 127.86619 |   1.2718631 |\n| 2037 | 18105908 | 129.49247 |   1.2558899 |\n| 2038 | 18333298 | 131.11875 |   1.2403129 |\n| 2039 | 18560688 | 132.74504 |   1.2251176 |\n| 2040 | 18788079 | 134.37132 |   1.2102902 |\n| 2041 | 19015469 | 135.99760 |   1.1958173 |\n| 2042 | 19242859 | 137.62388 |   1.1816865 |\n| 2043 | 19470249 | 139.25017 |   1.1678857 |\n| 2044 | 19697640 | 140.87645 |   1.1544036 |\n| 2045 | 19925030 | 142.50273 |   1.1412292 |\n\n",
      "text/latex": "A tibble: 47 × 4\n\\begin{tabular}{llll}\n anio & turistas & turistas\\_index & tasa\\_crecimiento\\\\\n <dbl> & <dbl> & <dbl> & <dbl>\\\\\n\\hline\n\t 1999 &  8893087 &  63.60288 &  12.7029977\\\\\n\t 2000 &  9123995 &  65.25432 &   2.5964887\\\\\n\t 2001 & 10451936 &  74.75168 &  14.5543811\\\\\n\t 2002 & 10170832 &  72.74124 &  -2.6894922\\\\\n\t 2003 & 10438037 &  74.65227 &   2.6271695\\\\\n\t 2004 & 11615335 &  83.07225 &  11.2789215\\\\\n\t 2005 & 12212665 &  87.34432 &   5.1425981\\\\\n\t 2006 & 11149161 &  79.73819 &  -8.7082058\\\\\n\t 2007 & 11057203 &  79.08052 &  -0.8247975\\\\\n\t 2008 & 11565225 &  82.71386 &   4.5944892\\\\\n\t 2009 &  9966507 &  71.27992 & -13.8234924\\\\\n\t 2010 & 11074690 &  79.20558 &  11.1190711\\\\\n\t 2011 & 12380036 &  88.54135 &  11.7867498\\\\\n\t 2012 & 12305483 &  88.00815 &  -0.6022034\\\\\n\t 2013 & 12677217 &  90.66677 &   3.0208810\\\\\n\t 2014 & 13095264 &  93.65662 &   3.2976244\\\\\n\t 2015 & 13125008 &  93.86934 &   0.2271356\\\\\n\t 2016 & 13582755 &  97.14313 &   3.4875941\\\\\n\t 2017 & 13746859 &  98.31679 &   1.2081790\\\\\n\t 2018 & 13982209 & 100.00000 &   1.7120275\\\\\n\t 2019 & 13905083 &  99.44840 &  -0.5516010\\\\\n\t 2020 & 14240273 & 101.84566 &   1.5968111\\\\\n\t 2021 & 14467664 & 103.47194 &   1.5717138\\\\\n\t 2022 & 14695054 & 105.09823 &   1.5473932\\\\\n\t 2023 & 14922444 & 106.72451 &   1.5238138\\\\\n\t 2024 & 15149834 & 108.35079 &   1.5009423\\\\\n\t 2025 & 15377225 & 109.97708 &   1.4787471\\\\\n\t 2026 & 15604615 & 111.60336 &   1.4571988\\\\\n\t 2027 & 15832005 & 113.22964 &   1.4362695\\\\\n\t 2028 & 16059395 & 114.85592 &   1.4159329\\\\\n\t 2029 & 16286786 & 116.48221 &   1.3961642\\\\\n\t 2030 & 16514176 & 118.10849 &   1.3769398\\\\\n\t 2031 & 16741566 & 119.73477 &   1.3582377\\\\\n\t 2032 & 16968957 & 121.36106 &   1.3400368\\\\\n\t 2033 & 17196347 & 122.98734 &   1.3223173\\\\\n\t 2034 & 17423737 & 124.61362 &   1.3050603\\\\\n\t 2035 & 17651127 & 126.23990 &   1.2882479\\\\\n\t 2036 & 17878518 & 127.86619 &   1.2718631\\\\\n\t 2037 & 18105908 & 129.49247 &   1.2558899\\\\\n\t 2038 & 18333298 & 131.11875 &   1.2403129\\\\\n\t 2039 & 18560688 & 132.74504 &   1.2251176\\\\\n\t 2040 & 18788079 & 134.37132 &   1.2102902\\\\\n\t 2041 & 19015469 & 135.99760 &   1.1958173\\\\\n\t 2042 & 19242859 & 137.62388 &   1.1816865\\\\\n\t 2043 & 19470249 & 139.25017 &   1.1678857\\\\\n\t 2044 & 19697640 & 140.87645 &   1.1544036\\\\\n\t 2045 & 19925030 & 142.50273 &   1.1412292\\\\\n\\end{tabular}\n",
      "text/plain": [
       "   anio turistas turistas_index tasa_crecimiento\n",
       "1  1999  8893087  63.60288       12.7029977     \n",
       "2  2000  9123995  65.25432        2.5964887     \n",
       "3  2001 10451936  74.75168       14.5543811     \n",
       "4  2002 10170832  72.74124       -2.6894922     \n",
       "5  2003 10438037  74.65227        2.6271695     \n",
       "6  2004 11615335  83.07225       11.2789215     \n",
       "7  2005 12212665  87.34432        5.1425981     \n",
       "8  2006 11149161  79.73819       -8.7082058     \n",
       "9  2007 11057203  79.08052       -0.8247975     \n",
       "10 2008 11565225  82.71386        4.5944892     \n",
       "11 2009  9966507  71.27992      -13.8234924     \n",
       "12 2010 11074690  79.20558       11.1190711     \n",
       "13 2011 12380036  88.54135       11.7867498     \n",
       "14 2012 12305483  88.00815       -0.6022034     \n",
       "15 2013 12677217  90.66677        3.0208810     \n",
       "16 2014 13095264  93.65662        3.2976244     \n",
       "17 2015 13125008  93.86934        0.2271356     \n",
       "18 2016 13582755  97.14313        3.4875941     \n",
       "19 2017 13746859  98.31679        1.2081790     \n",
       "20 2018 13982209 100.00000        1.7120275     \n",
       "21 2019 13905083  99.44840       -0.5516010     \n",
       "22 2020 14240273 101.84566        1.5968111     \n",
       "23 2021 14467664 103.47194        1.5717138     \n",
       "24 2022 14695054 105.09823        1.5473932     \n",
       "25 2023 14922444 106.72451        1.5238138     \n",
       "26 2024 15149834 108.35079        1.5009423     \n",
       "27 2025 15377225 109.97708        1.4787471     \n",
       "28 2026 15604615 111.60336        1.4571988     \n",
       "29 2027 15832005 113.22964        1.4362695     \n",
       "30 2028 16059395 114.85592        1.4159329     \n",
       "31 2029 16286786 116.48221        1.3961642     \n",
       "32 2030 16514176 118.10849        1.3769398     \n",
       "33 2031 16741566 119.73477        1.3582377     \n",
       "34 2032 16968957 121.36106        1.3400368     \n",
       "35 2033 17196347 122.98734        1.3223173     \n",
       "36 2034 17423737 124.61362        1.3050603     \n",
       "37 2035 17651127 126.23990        1.2882479     \n",
       "38 2036 17878518 127.86619        1.2718631     \n",
       "39 2037 18105908 129.49247        1.2558899     \n",
       "40 2038 18333298 131.11875        1.2403129     \n",
       "41 2039 18560688 132.74504        1.2251176     \n",
       "42 2040 18788079 134.37132        1.2102902     \n",
       "43 2041 19015469 135.99760        1.1958173     \n",
       "44 2042 19242859 137.62388        1.1816865     \n",
       "45 2043 19470249 139.25017        1.1678857     \n",
       "46 2044 19697640 140.87645        1.1544036     \n",
       "47 2045 19925030 142.50273        1.1412292     "
      ]
     },
     "metadata": {},
     "output_type": "display_data"
    }
   ],
   "execution_count": 10
  },
  {
   "metadata": {
    "ExecuteTime": {
     "end_time": "2025-02-18T06:55:55.180649Z",
     "start_time": "2025-02-18T06:55:54.923441Z"
    }
   },
   "cell_type": "code",
   "source": [
    "# Plotear índice de turistas\n",
    "turistas_extended%>%\n",
    "ggplot(aes(x=anio, y=turistas_index))+\n",
    "geom_line(color=\"#9f2241\",linewidth=1.5)+\n",
    "geom_vline(xintercept = c(2020), linetype = \"dashed\", color = \"red\")+\n",
    "labs(title=\"Índice de turistas en la Ciudad de México, 2018-2045\",x=\"Año\",y=\"Índice de turistas\",\n",
    "subtitle=\"2018=100\")+\n",
    "theme_minimal()+\n",
    "    theme(\n",
    "      plot.title = element_text(hjust = 0, size=20, face=\"bold\"),\n",
    "      plot.subtitle = element_text(hjust = 0, size=15, face=\"italic\"),\n",
    "      plot.caption = element_text(hjust = 0, size=10),\n",
    "      legend.position = \"None\",\n",
    "      legend.text = element_text(size=18),\n",
    "      axis.text.x = element_text(angle = 90, hjust = 1, size=18),\n",
    "      legend.title = element_text(size=18),\n",
    "      text = element_text(family=\"rob\")\n",
    "    )\n",
    "\n",
    "  ggsave(\"indice_turistas.png\", width = 10, height = 6, dpi = 100,bg=\"white\")"
   ],
   "id": "f046f1f573598ce5",
   "outputs": [
    {
     "data": {
      "text/plain": [
       "plot without title"
      ],
      "image/png": "[encoded data removed]"
     },
     "metadata": {
      "image/png": {
       "width": 420,
       "height": 420
      }
     },
     "output_type": "display_data"
    }
   ],
   "execution_count": 11
  },
  {
   "metadata": {
    "ExecuteTime": {
     "end_time": "2025-02-18T06:56:34.243891Z",
     "start_time": "2025-02-18T06:56:34.225282Z"
    }
   },
   "cell_type": "code",
   "source": [
    "## Mostrar valores 2030, 2035 y 2045\n",
    "turistas_extended%>%\n",
    "filter(anio %in% c(2030,2035,2045))%>%\n",
    "select(anio,turistas_index)\n"
   ],
   "id": "13479afbe767a290",
   "outputs": [
    {
     "data": {
      "text/html": [
       "<table class=\"dataframe\">\n",
       "<caption>A tibble: 3 × 2</caption>\n",
       "<thead>\n",
       "\t<tr><th scope=col>anio</th><th scope=col>turistas_index</th></tr>\n",
       "\t<tr><th scope=col>&lt;dbl&gt;</th><th scope=col>&lt;dbl&gt;</th></tr>\n",
       "</thead>\n",
       "<tbody>\n",
       "\t<tr><td>2030</td><td>118.1085</td></tr>\n",
       "\t<tr><td>2035</td><td>126.2399</td></tr>\n",
       "\t<tr><td>2045</td><td>142.5027</td></tr>\n",
       "</tbody>\n",
       "</table>\n"
      ],
      "text/markdown": "\nA tibble: 3 × 2\n\n| anio &lt;dbl&gt; | turistas_index &lt;dbl&gt; |\n|---|---|\n| 2030 | 118.1085 |\n| 2035 | 126.2399 |\n| 2045 | 142.5027 |\n\n",
      "text/latex": "A tibble: 3 × 2\n\\begin{tabular}{ll}\n anio & turistas\\_index\\\\\n <dbl> & <dbl>\\\\\n\\hline\n\t 2030 & 118.1085\\\\\n\t 2035 & 126.2399\\\\\n\t 2045 & 142.5027\\\\\n\\end{tabular}\n",
      "text/plain": [
       "  anio turistas_index\n",
       "1 2030 118.1085      \n",
       "2 2035 126.2399      \n",
       "3 2045 142.5027      "
      ]
     },
     "metadata": {},
     "output_type": "display_data"
    }
   ],
   "execution_count": 12
  },
  {
   "metadata": {},
   "cell_type": "markdown",
   "source": "### Relación turista internacional por turista nacional",
   "id": "e99cd9be73422d3b"
  },
  {
   "metadata": {
    "ExecuteTime": {
     "end_time": "2025-02-18T06:56:39.795578Z",
     "start_time": "2025-02-18T06:56:39.382617Z"
    }
   },
   "cell_type": "code",
   "source": [
    "##Calcular turista internacional por cada turista nacional\n",
    "turnal<-read_csv(url_tur,show_col_types = FALSE)%>%filter(anio<=2019)%>%\n",
    "group_by(anio,ambito)%>%\n",
    "summarise(turistas=sum(turistas))%>%\n",
    "pivot_wider(names_from = \"ambito\", values_from = \"turistas\")%>%\n",
    "janitor::clean_names()%>%\n",
    "#Calcular turista internacional por cada turista nacional\n",
    "mutate(turintnal=internacionales/nacionales)\n",
    "\n",
    "turnal\n"
   ],
   "id": "34efaeda76bf5cc2",
   "outputs": [
    {
     "name": "stderr",
     "output_type": "stream",
     "text": [
      "\u001B[1m\u001B[22m`summarise()` has grouped output by 'anio'. You can override using the\n",
      "`.groups` argument.\n"
     ]
    },
    {
     "data": {
      "text/html": [
       "<table class=\"dataframe\">\n",
       "<caption>A grouped_df: 22 × 4</caption>\n",
       "<thead>\n",
       "\t<tr><th scope=col>anio</th><th scope=col>internacionales</th><th scope=col>nacionales</th><th scope=col>turintnal</th></tr>\n",
       "\t<tr><th scope=col>&lt;dbl&gt;</th><th scope=col>&lt;dbl&gt;</th><th scope=col>&lt;dbl&gt;</th><th scope=col>&lt;dbl&gt;</th></tr>\n",
       "</thead>\n",
       "<tbody>\n",
       "\t<tr><td>1998</td><td>1960885</td><td> 5929843</td><td>0.3306808</td></tr>\n",
       "\t<tr><td>1999</td><td>1993834</td><td> 6899253</td><td>0.2889927</td></tr>\n",
       "\t<tr><td>2000</td><td>2098581</td><td> 7025414</td><td>0.2987128</td></tr>\n",
       "\t<tr><td>2001</td><td>2505806</td><td> 7946130</td><td>0.3153492</td></tr>\n",
       "\t<tr><td>2002</td><td>2311649</td><td> 7859183</td><td>0.2941335</td></tr>\n",
       "\t<tr><td>2003</td><td>2595500</td><td> 7842537</td><td>0.3309516</td></tr>\n",
       "\t<tr><td>2004</td><td>2811310</td><td> 8804025</td><td>0.3193210</td></tr>\n",
       "\t<tr><td>2005</td><td>3279097</td><td> 8933568</td><td>0.3670535</td></tr>\n",
       "\t<tr><td>2006</td><td>2822909</td><td> 8326252</td><td>0.3390372</td></tr>\n",
       "\t<tr><td>2007</td><td>2711485</td><td> 8345718</td><td>0.3248954</td></tr>\n",
       "\t<tr><td>2008</td><td>2850799</td><td> 8714426</td><td>0.3271356</td></tr>\n",
       "\t<tr><td>2009</td><td>1952483</td><td> 8014024</td><td>0.2436333</td></tr>\n",
       "\t<tr><td>2010</td><td>1830557</td><td> 9244133</td><td>0.1980237</td></tr>\n",
       "\t<tr><td>2011</td><td>2073594</td><td>10306442</td><td>0.2011940</td></tr>\n",
       "\t<tr><td>2012</td><td>2276948</td><td>10028535</td><td>0.2270469</td></tr>\n",
       "\t<tr><td>2013</td><td>2378687</td><td>10298530</td><td>0.2309734</td></tr>\n",
       "\t<tr><td>2014</td><td>2588458</td><td>10506806</td><td>0.2463601</td></tr>\n",
       "\t<tr><td>2015</td><td>2708387</td><td>10416621</td><td>0.2600063</td></tr>\n",
       "\t<tr><td>2016</td><td>3010122</td><td>10572633</td><td>0.2847088</td></tr>\n",
       "\t<tr><td>2017</td><td>3113640</td><td>10633219</td><td>0.2928219</td></tr>\n",
       "\t<tr><td>2018</td><td>3163907</td><td>10818302</td><td>0.2924587</td></tr>\n",
       "\t<tr><td>2019</td><td>3755044</td><td>10150039</td><td>0.3699537</td></tr>\n",
       "</tbody>\n",
       "</table>\n"
      ],
      "text/markdown": "\nA grouped_df: 22 × 4\n\n| anio &lt;dbl&gt; | internacionales &lt;dbl&gt; | nacionales &lt;dbl&gt; | turintnal &lt;dbl&gt; |\n|---|---|---|---|\n| 1998 | 1960885 |  5929843 | 0.3306808 |\n| 1999 | 1993834 |  6899253 | 0.2889927 |\n| 2000 | 2098581 |  7025414 | 0.2987128 |\n| 2001 | 2505806 |  7946130 | 0.3153492 |\n| 2002 | 2311649 |  7859183 | 0.2941335 |\n| 2003 | 2595500 |  7842537 | 0.3309516 |\n| 2004 | 2811310 |  8804025 | 0.3193210 |\n| 2005 | 3279097 |  8933568 | 0.3670535 |\n| 2006 | 2822909 |  8326252 | 0.3390372 |\n| 2007 | 2711485 |  8345718 | 0.3248954 |\n| 2008 | 2850799 |  8714426 | 0.3271356 |\n| 2009 | 1952483 |  8014024 | 0.2436333 |\n| 2010 | 1830557 |  9244133 | 0.1980237 |\n| 2011 | 2073594 | 10306442 | 0.2011940 |\n| 2012 | 2276948 | 10028535 | 0.2270469 |\n| 2013 | 2378687 | 10298530 | 0.2309734 |\n| 2014 | 2588458 | 10506806 | 0.2463601 |\n| 2015 | 2708387 | 10416621 | 0.2600063 |\n| 2016 | 3010122 | 10572633 | 0.2847088 |\n| 2017 | 3113640 | 10633219 | 0.2928219 |\n| 2018 | 3163907 | 10818302 | 0.2924587 |\n| 2019 | 3755044 | 10150039 | 0.3699537 |\n\n",
      "text/latex": "A grouped\\_df: 22 × 4\n\\begin{tabular}{llll}\n anio & internacionales & nacionales & turintnal\\\\\n <dbl> & <dbl> & <dbl> & <dbl>\\\\\n\\hline\n\t 1998 & 1960885 &  5929843 & 0.3306808\\\\\n\t 1999 & 1993834 &  6899253 & 0.2889927\\\\\n\t 2000 & 2098581 &  7025414 & 0.2987128\\\\\n\t 2001 & 2505806 &  7946130 & 0.3153492\\\\\n\t 2002 & 2311649 &  7859183 & 0.2941335\\\\\n\t 2003 & 2595500 &  7842537 & 0.3309516\\\\\n\t 2004 & 2811310 &  8804025 & 0.3193210\\\\\n\t 2005 & 3279097 &  8933568 & 0.3670535\\\\\n\t 2006 & 2822909 &  8326252 & 0.3390372\\\\\n\t 2007 & 2711485 &  8345718 & 0.3248954\\\\\n\t 2008 & 2850799 &  8714426 & 0.3271356\\\\\n\t 2009 & 1952483 &  8014024 & 0.2436333\\\\\n\t 2010 & 1830557 &  9244133 & 0.1980237\\\\\n\t 2011 & 2073594 & 10306442 & 0.2011940\\\\\n\t 2012 & 2276948 & 10028535 & 0.2270469\\\\\n\t 2013 & 2378687 & 10298530 & 0.2309734\\\\\n\t 2014 & 2588458 & 10506806 & 0.2463601\\\\\n\t 2015 & 2708387 & 10416621 & 0.2600063\\\\\n\t 2016 & 3010122 & 10572633 & 0.2847088\\\\\n\t 2017 & 3113640 & 10633219 & 0.2928219\\\\\n\t 2018 & 3163907 & 10818302 & 0.2924587\\\\\n\t 2019 & 3755044 & 10150039 & 0.3699537\\\\\n\\end{tabular}\n",
      "text/plain": [
       "   anio internacionales nacionales turintnal\n",
       "1  1998 1960885          5929843   0.3306808\n",
       "2  1999 1993834          6899253   0.2889927\n",
       "3  2000 2098581          7025414   0.2987128\n",
       "4  2001 2505806          7946130   0.3153492\n",
       "5  2002 2311649          7859183   0.2941335\n",
       "6  2003 2595500          7842537   0.3309516\n",
       "7  2004 2811310          8804025   0.3193210\n",
       "8  2005 3279097          8933568   0.3670535\n",
       "9  2006 2822909          8326252   0.3390372\n",
       "10 2007 2711485          8345718   0.3248954\n",
       "11 2008 2850799          8714426   0.3271356\n",
       "12 2009 1952483          8014024   0.2436333\n",
       "13 2010 1830557          9244133   0.1980237\n",
       "14 2011 2073594         10306442   0.2011940\n",
       "15 2012 2276948         10028535   0.2270469\n",
       "16 2013 2378687         10298530   0.2309734\n",
       "17 2014 2588458         10506806   0.2463601\n",
       "18 2015 2708387         10416621   0.2600063\n",
       "19 2016 3010122         10572633   0.2847088\n",
       "20 2017 3113640         10633219   0.2928219\n",
       "21 2018 3163907         10818302   0.2924587\n",
       "22 2019 3755044         10150039   0.3699537"
      ]
     },
     "metadata": {},
     "output_type": "display_data"
    }
   ],
   "execution_count": 13
  },
  {
   "metadata": {
    "ExecuteTime": {
     "end_time": "2025-02-18T06:56:44.797101Z",
     "start_time": "2025-02-18T06:56:44.661629Z"
    }
   },
   "cell_type": "code",
   "source": [
    "##Graficar turista internacional por cada turista nacional\n",
    "turnal%>%\n",
    "ggplot(aes(x=anio, y=turintnal, color=anio))+\n",
    "geom_line()+geom_point()+\n",
    "labs(title=\"Turista internacional por cada turista nacional en CDMX\",x=\"Año\",y=\"Turista internacional por cada turista nacional\")"
   ],
   "id": "20b94c57e37f68e2",
   "outputs": [
    {
     "data": {
      "text/plain": [
       "plot without title"
      ],
      "image/png": "[encoded data removed]"
     },
     "metadata": {
      "image/png": {
       "width": 420,
       "height": 420
      }
     },
     "output_type": "display_data"
    }
   ],
   "execution_count": 14
  },
  {
   "metadata": {},
   "cell_type": "markdown",
   "source": [
    "## Indicador de empleo turístico\n",
    "La primera aproximación será utilizando el sector Restaurantes y servicios de alojamiento. Esto puede representar una sobreestimación del empleo turístico, ya que los restaurantes son actividades conexas al turismo."
   ],
   "id": "1a853e80463aaec7"
  },
  {
   "metadata": {
    "ExecuteTime": {
     "end_time": "2025-02-18T06:56:56.380307Z",
     "start_time": "2025-02-18T06:56:56.364635Z"
    }
   },
   "cell_type": "code",
   "source": [
    "url_trabajo<-\"https://www.stps.gob.mx/gobmx/estadisticas/ENOE_TRIM15_2020/df.xls\"\n",
    "#Crear carpeta data\n",
    "dir.create(\"data\",showWarnings = FALSE)"
   ],
   "id": "3570f522f9279911",
   "outputs": [],
   "execution_count": 15
  },
  {
   "metadata": {
    "ExecuteTime": {
     "end_time": "2025-02-18T06:56:58.766499Z",
     "start_time": "2025-02-18T06:56:58.067630Z"
    }
   },
   "cell_type": "code",
   "source": [
    "##Descargar archivo\n",
    "GET(url_trabajo, write_disk(\"data/trabajo.xls\",overwrite = TRUE), config = config(ssl_verifypeer = FALSE))"
   ],
   "id": "6fdf12d81a9f8baa",
   "outputs": [
    {
     "data": {
      "text/plain": [
       "Response [https://www.stps.gob.mx/gobmx/estadisticas/ENOE_TRIM15_2020/df.xls]\n",
       "  Date: 2025-02-18 06:57\n",
       "  Status: 200\n",
       "  Content-Type: application/vnd.ms-excel\n",
       "  Size: 554 kB\n",
       "<ON DISK>  C:\\Users\\claud\\Documents\\GitHub\\pgd_cdmx\\indicadores\\turismo\\data\\trabajo.xlsNULL"
      ]
     },
     "metadata": {},
     "output_type": "display_data"
    }
   ],
   "execution_count": 16
  },
  {
   "metadata": {
    "ExecuteTime": {
     "end_time": "2025-02-18T06:57:00.022453Z",
     "start_time": "2025-02-18T06:56:59.548177Z"
    }
   },
   "cell_type": "code",
   "source": [
    "##Leer archivo\n",
    "trabajo<-readxl::read_xls(\"data/trabajo.xls\",sheet=1, skip=5, col_names = FALSE)%>%\n",
    "rename(concepto=1)%>%\n",
    "#Filtrar si concepto contiene Población ocupada o Restaurantes\n",
    "filter(grepl(\"Ocupada|Restaurantes\",concepto))%>%\n",
    "#seleccioanr primeros dos renglones\n",
    "slice(1:2)\n",
    "trabajo"
   ],
   "id": "884a6f5ca32abe27",
   "outputs": [
    {
     "name": "stderr",
     "output_type": "stream",
     "text": [
      "\u001B[1m\u001B[22mNew names:\n",
      "\u001B[36m•\u001B[39m `` -> `...1`\n",
      "\u001B[36m•\u001B[39m `` -> `...2`\n",
      "\u001B[36m•\u001B[39m `` -> `...3`\n",
      "\u001B[36m•\u001B[39m `` -> `...4`\n",
      "\u001B[36m•\u001B[39m `` -> `...5`\n",
      "\u001B[36m•\u001B[39m `` -> `...6`\n",
      "\u001B[36m•\u001B[39m `` -> `...7`\n",
      "\u001B[36m•\u001B[39m `` -> `...8`\n",
      "\u001B[36m•\u001B[39m `` -> `...9`\n",
      "\u001B[36m•\u001B[39m `` -> `...10`\n",
      "\u001B[36m•\u001B[39m `` -> `...11`\n",
      "\u001B[36m•\u001B[39m `` -> `...12`\n",
      "\u001B[36m•\u001B[39m `` -> `...13`\n",
      "\u001B[36m•\u001B[39m `` -> `...14`\n",
      "\u001B[36m•\u001B[39m `` -> `...15`\n",
      "\u001B[36m•\u001B[39m `` -> `...16`\n",
      "\u001B[36m•\u001B[39m `` -> `...17`\n",
      "\u001B[36m•\u001B[39m `` -> `...18`\n",
      "\u001B[36m•\u001B[39m `` -> `...19`\n",
      "\u001B[36m•\u001B[39m `` -> `...20`\n",
      "\u001B[36m•\u001B[39m `` -> `...21`\n",
      "\u001B[36m•\u001B[39m `` -> `...22`\n",
      "\u001B[36m•\u001B[39m `` -> `...23`\n",
      "\u001B[36m•\u001B[39m `` -> `...24`\n",
      "\u001B[36m•\u001B[39m `` -> `...25`\n",
      "\u001B[36m•\u001B[39m `` -> `...26`\n",
      "\u001B[36m•\u001B[39m `` -> `...27`\n",
      "\u001B[36m•\u001B[39m `` -> `...28`\n",
      "\u001B[36m•\u001B[39m `` -> `...29`\n",
      "\u001B[36m•\u001B[39m `` -> `...30`\n",
      "\u001B[36m•\u001B[39m `` -> `...31`\n",
      "\u001B[36m•\u001B[39m `` -> `...32`\n",
      "\u001B[36m•\u001B[39m `` -> `...33`\n",
      "\u001B[36m•\u001B[39m `` -> `...34`\n",
      "\u001B[36m•\u001B[39m `` -> `...35`\n",
      "\u001B[36m•\u001B[39m `` -> `...36`\n",
      "\u001B[36m•\u001B[39m `` -> `...37`\n",
      "\u001B[36m•\u001B[39m `` -> `...38`\n",
      "\u001B[36m•\u001B[39m `` -> `...39`\n",
      "\u001B[36m•\u001B[39m `` -> `...40`\n",
      "\u001B[36m•\u001B[39m `` -> `...41`\n",
      "\u001B[36m•\u001B[39m `` -> `...42`\n",
      "\u001B[36m•\u001B[39m `` -> `...43`\n",
      "\u001B[36m•\u001B[39m `` -> `...44`\n",
      "\u001B[36m•\u001B[39m `` -> `...45`\n",
      "\u001B[36m•\u001B[39m `` -> `...46`\n",
      "\u001B[36m•\u001B[39m `` -> `...47`\n",
      "\u001B[36m•\u001B[39m `` -> `...48`\n",
      "\u001B[36m•\u001B[39m `` -> `...49`\n",
      "\u001B[36m•\u001B[39m `` -> `...50`\n",
      "\u001B[36m•\u001B[39m `` -> `...51`\n",
      "\u001B[36m•\u001B[39m `` -> `...52`\n",
      "\u001B[36m•\u001B[39m `` -> `...53`\n",
      "\u001B[36m•\u001B[39m `` -> `...54`\n",
      "\u001B[36m•\u001B[39m `` -> `...55`\n",
      "\u001B[36m•\u001B[39m `` -> `...56`\n",
      "\u001B[36m•\u001B[39m `` -> `...57`\n",
      "\u001B[36m•\u001B[39m `` -> `...58`\n",
      "\u001B[36m•\u001B[39m `` -> `...59`\n",
      "\u001B[36m•\u001B[39m `` -> `...60`\n",
      "\u001B[36m•\u001B[39m `` -> `...61`\n",
      "\u001B[36m•\u001B[39m `` -> `...62`\n",
      "\u001B[36m•\u001B[39m `` -> `...63`\n",
      "\u001B[36m•\u001B[39m `` -> `...64`\n",
      "\u001B[36m•\u001B[39m `` -> `...65`\n",
      "\u001B[36m•\u001B[39m `` -> `...66`\n",
      "\u001B[36m•\u001B[39m `` -> `...67`\n",
      "\u001B[36m•\u001B[39m `` -> `...68`\n",
      "\u001B[36m•\u001B[39m `` -> `...69`\n",
      "\u001B[36m•\u001B[39m `` -> `...70`\n",
      "\u001B[36m•\u001B[39m `` -> `...71`\n",
      "\u001B[36m•\u001B[39m `` -> `...72`\n"
     ]
    },
    {
     "data": {
      "text/html": [
       "<table class=\"dataframe\">\n",
       "<caption>A tibble: 2 × 72</caption>\n",
       "<thead>\n",
       "\t<tr><th scope=col>concepto</th><th scope=col>...2</th><th scope=col>...3</th><th scope=col>...4</th><th scope=col>...5</th><th scope=col>...6</th><th scope=col>...7</th><th scope=col>...8</th><th scope=col>...9</th><th scope=col>...10</th><th scope=col>⋯</th><th scope=col>...63</th><th scope=col>...64</th><th scope=col>...65</th><th scope=col>...66</th><th scope=col>...67</th><th scope=col>...68</th><th scope=col>...69</th><th scope=col>...70</th><th scope=col>...71</th><th scope=col>...72</th></tr>\n",
       "\t<tr><th scope=col>&lt;chr&gt;</th><th scope=col>&lt;dbl&gt;</th><th scope=col>&lt;dbl&gt;</th><th scope=col>&lt;dbl&gt;</th><th scope=col>&lt;dbl&gt;</th><th scope=col>&lt;dbl&gt;</th><th scope=col>&lt;dbl&gt;</th><th scope=col>&lt;dbl&gt;</th><th scope=col>&lt;dbl&gt;</th><th scope=col>&lt;dbl&gt;</th><th scope=col>⋯</th><th scope=col>&lt;dbl&gt;</th><th scope=col>&lt;dbl&gt;</th><th scope=col>&lt;dbl&gt;</th><th scope=col>&lt;dbl&gt;</th><th scope=col>&lt;dbl&gt;</th><th scope=col>&lt;dbl&gt;</th><th scope=col>&lt;dbl&gt;</th><th scope=col>&lt;dbl&gt;</th><th scope=col>&lt;dbl&gt;</th><th scope=col>&lt;dbl&gt;</th></tr>\n",
       "</thead>\n",
       "<tbody>\n",
       "\t<tr><td>Ocupada                                </td><td>3944569</td><td>3882601</td><td>3924236</td><td>3964657</td><td>3949209</td><td>3992661</td><td>3904975</td><td>3845065</td><td>3896719</td><td>⋯</td><td>4534376</td><td>4546515</td><td>4698174</td><td>4693298</td><td>4709095</td><td>4712506</td><td>4657701</td><td>4715069</td><td>4834239</td><td>4894634</td></tr>\n",
       "\t<tr><td>Restaurantes y servicios de alojamiento</td><td> 265813</td><td> 232611</td><td> 252652</td><td> 259892</td><td> 260925</td><td> 277272</td><td> 264525</td><td> 273183</td><td> 281031</td><td>⋯</td><td> 402309</td><td> 360642</td><td> 381627</td><td> 343656</td><td> 352408</td><td> 379942</td><td> 381154</td><td> 350950</td><td> 411774</td><td> 415820</td></tr>\n",
       "</tbody>\n",
       "</table>\n"
      ],
      "text/markdown": "\nA tibble: 2 × 72\n\n| concepto &lt;chr&gt; | ...2 &lt;dbl&gt; | ...3 &lt;dbl&gt; | ...4 &lt;dbl&gt; | ...5 &lt;dbl&gt; | ...6 &lt;dbl&gt; | ...7 &lt;dbl&gt; | ...8 &lt;dbl&gt; | ...9 &lt;dbl&gt; | ...10 &lt;dbl&gt; | ⋯ ⋯ | ...63 &lt;dbl&gt; | ...64 &lt;dbl&gt; | ...65 &lt;dbl&gt; | ...66 &lt;dbl&gt; | ...67 &lt;dbl&gt; | ...68 &lt;dbl&gt; | ...69 &lt;dbl&gt; | ...70 &lt;dbl&gt; | ...71 &lt;dbl&gt; | ...72 &lt;dbl&gt; |\n|---|---|---|---|---|---|---|---|---|---|---|---|---|---|---|---|---|---|---|---|---|\n| Ocupada                                 | 3944569 | 3882601 | 3924236 | 3964657 | 3949209 | 3992661 | 3904975 | 3845065 | 3896719 | ⋯ | 4534376 | 4546515 | 4698174 | 4693298 | 4709095 | 4712506 | 4657701 | 4715069 | 4834239 | 4894634 |\n| Restaurantes y servicios de alojamiento |  265813 |  232611 |  252652 |  259892 |  260925 |  277272 |  264525 |  273183 |  281031 | ⋯ |  402309 |  360642 |  381627 |  343656 |  352408 |  379942 |  381154 |  350950 |  411774 |  415820 |\n\n",
      "text/latex": "A tibble: 2 × 72\n\\begin{tabular}{lllllllllllllllllllll}\n concepto & ...2 & ...3 & ...4 & ...5 & ...6 & ...7 & ...8 & ...9 & ...10 & ⋯ & ...63 & ...64 & ...65 & ...66 & ...67 & ...68 & ...69 & ...70 & ...71 & ...72\\\\\n <chr> & <dbl> & <dbl> & <dbl> & <dbl> & <dbl> & <dbl> & <dbl> & <dbl> & <dbl> & ⋯ & <dbl> & <dbl> & <dbl> & <dbl> & <dbl> & <dbl> & <dbl> & <dbl> & <dbl> & <dbl>\\\\\n\\hline\n\t Ocupada                                 & 3944569 & 3882601 & 3924236 & 3964657 & 3949209 & 3992661 & 3904975 & 3845065 & 3896719 & ⋯ & 4534376 & 4546515 & 4698174 & 4693298 & 4709095 & 4712506 & 4657701 & 4715069 & 4834239 & 4894634\\\\\n\t Restaurantes y servicios de alojamiento &  265813 &  232611 &  252652 &  259892 &  260925 &  277272 &  264525 &  273183 &  281031 & ⋯ &  402309 &  360642 &  381627 &  343656 &  352408 &  379942 &  381154 &  350950 &  411774 &  415820\\\\\n\\end{tabular}\n",
      "text/plain": [
       "  concepto                                ...2    ...3    ...4    ...5   \n",
       "1 Ocupada                                 3944569 3882601 3924236 3964657\n",
       "2 Restaurantes y servicios de alojamiento  265813  232611  252652  259892\n",
       "  ...6    ...7    ...8    ...9    ...10   ⋯ ...63   ...64   ...65   ...66  \n",
       "1 3949209 3992661 3904975 3845065 3896719 ⋯ 4534376 4546515 4698174 4693298\n",
       "2  260925  277272  264525  273183  281031 ⋯  402309  360642  381627  343656\n",
       "  ...67   ...68   ...69   ...70   ...71   ...72  \n",
       "1 4709095 4712506 4657701 4715069 4834239 4894634\n",
       "2  352408  379942  381154  350950  411774  415820"
      ]
     },
     "metadata": {},
     "output_type": "display_data"
    }
   ],
   "execution_count": 17
  },
  {
   "metadata": {
    "ExecuteTime": {
     "end_time": "2025-02-18T06:57:05.427911Z",
     "start_time": "2025-02-18T06:57:04.955945Z"
    }
   },
   "cell_type": "code",
   "source": [
    "# Generar nombre de columnas 2 hacia adelante\n",
    "start_year <- 2007\n",
    "start_quarter <- 1\n",
    "\n",
    "trabajo <- readxl::read_xls(\"data/trabajo.xls\",sheet=1, skip=5, col_names = FALSE)%>%\n",
    "    rename(concepto = 1) %>%\n",
    "#Filtrar si concepto contiene Población ocupada o Restaurantes\n",
    "  filter(grepl(\"Ocupada|Restaurantes\", concepto)) %>%\n",
    "  slice(1:2) %>%\n",
    "  #Generar nombre de columnas 2 hacia adelante\n",
    "\n",
    "  {\n",
    "    num_quarters <- ncol(.) - 1\n",
    "    quarter_names <- sapply(0:(num_quarters - 1), function(i) {\n",
    "      year <- start_year + (start_quarter + i - 1) %/% 4\n",
    "      quarter <- (start_quarter + i - 1) %% 4 + 1\n",
    "      paste0(year, \" Q\", quarter)\n",
    "    })\n",
    "    setNames(., c(\"concepto\", quarter_names))\n",
    "  }%>%\n",
    "  mutate(across(-concepto, as.numeric))%>%\n",
    "    pivot_longer(cols = -concepto, names_to = \"quarter\", values_to = \"value\")%>%\n",
    "    #Filtrar si quarter contiene Q4\n",
    "    filter(grepl(\"Q4\",quarter))%>%\n",
    "    #Crear año\n",
    "    mutate(year=as.numeric(str_extract(quarter,\"\\\\d{4}\")))%>%\n",
    "  group_by(year) %>%\n",
    "  mutate(\n",
    "    porcentaje_po = value[concepto == \"Restaurantes y servicios de alojamiento\"] /\n",
    "      value[concepto == \"Ocupada\"] * 100\n",
    "  ) %>%\n",
    "  ungroup() %>%\n",
    "  # Select only the desired columns\n",
    "  select(year, porcentaje_po)\n",
    "\n",
    "\n",
    "trabajo"
   ],
   "id": "5b770aab95536ba6",
   "outputs": [
    {
     "name": "stderr",
     "output_type": "stream",
     "text": [
      "\u001B[1m\u001B[22mNew names:\n",
      "\u001B[36m•\u001B[39m `` -> `...1`\n",
      "\u001B[36m•\u001B[39m `` -> `...2`\n",
      "\u001B[36m•\u001B[39m `` -> `...3`\n",
      "\u001B[36m•\u001B[39m `` -> `...4`\n",
      "\u001B[36m•\u001B[39m `` -> `...5`\n",
      "\u001B[36m•\u001B[39m `` -> `...6`\n",
      "\u001B[36m•\u001B[39m `` -> `...7`\n",
      "\u001B[36m•\u001B[39m `` -> `...8`\n",
      "\u001B[36m•\u001B[39m `` -> `...9`\n",
      "\u001B[36m•\u001B[39m `` -> `...10`\n",
      "\u001B[36m•\u001B[39m `` -> `...11`\n",
      "\u001B[36m•\u001B[39m `` -> `...12`\n",
      "\u001B[36m•\u001B[39m `` -> `...13`\n",
      "\u001B[36m•\u001B[39m `` -> `...14`\n",
      "\u001B[36m•\u001B[39m `` -> `...15`\n",
      "\u001B[36m•\u001B[39m `` -> `...16`\n",
      "\u001B[36m•\u001B[39m `` -> `...17`\n",
      "\u001B[36m•\u001B[39m `` -> `...18`\n",
      "\u001B[36m•\u001B[39m `` -> `...19`\n",
      "\u001B[36m•\u001B[39m `` -> `...20`\n",
      "\u001B[36m•\u001B[39m `` -> `...21`\n",
      "\u001B[36m•\u001B[39m `` -> `...22`\n",
      "\u001B[36m•\u001B[39m `` -> `...23`\n",
      "\u001B[36m•\u001B[39m `` -> `...24`\n",
      "\u001B[36m•\u001B[39m `` -> `...25`\n",
      "\u001B[36m•\u001B[39m `` -> `...26`\n",
      "\u001B[36m•\u001B[39m `` -> `...27`\n",
      "\u001B[36m•\u001B[39m `` -> `...28`\n",
      "\u001B[36m•\u001B[39m `` -> `...29`\n",
      "\u001B[36m•\u001B[39m `` -> `...30`\n",
      "\u001B[36m•\u001B[39m `` -> `...31`\n",
      "\u001B[36m•\u001B[39m `` -> `...32`\n",
      "\u001B[36m•\u001B[39m `` -> `...33`\n",
      "\u001B[36m•\u001B[39m `` -> `...34`\n",
      "\u001B[36m•\u001B[39m `` -> `...35`\n",
      "\u001B[36m•\u001B[39m `` -> `...36`\n",
      "\u001B[36m•\u001B[39m `` -> `...37`\n",
      "\u001B[36m•\u001B[39m `` -> `...38`\n",
      "\u001B[36m•\u001B[39m `` -> `...39`\n",
      "\u001B[36m•\u001B[39m `` -> `...40`\n",
      "\u001B[36m•\u001B[39m `` -> `...41`\n",
      "\u001B[36m•\u001B[39m `` -> `...42`\n",
      "\u001B[36m•\u001B[39m `` -> `...43`\n",
      "\u001B[36m•\u001B[39m `` -> `...44`\n",
      "\u001B[36m•\u001B[39m `` -> `...45`\n",
      "\u001B[36m•\u001B[39m `` -> `...46`\n",
      "\u001B[36m•\u001B[39m `` -> `...47`\n",
      "\u001B[36m•\u001B[39m `` -> `...48`\n",
      "\u001B[36m•\u001B[39m `` -> `...49`\n",
      "\u001B[36m•\u001B[39m `` -> `...50`\n",
      "\u001B[36m•\u001B[39m `` -> `...51`\n",
      "\u001B[36m•\u001B[39m `` -> `...52`\n",
      "\u001B[36m•\u001B[39m `` -> `...53`\n",
      "\u001B[36m•\u001B[39m `` -> `...54`\n",
      "\u001B[36m•\u001B[39m `` -> `...55`\n",
      "\u001B[36m•\u001B[39m `` -> `...56`\n",
      "\u001B[36m•\u001B[39m `` -> `...57`\n",
      "\u001B[36m•\u001B[39m `` -> `...58`\n",
      "\u001B[36m•\u001B[39m `` -> `...59`\n",
      "\u001B[36m•\u001B[39m `` -> `...60`\n",
      "\u001B[36m•\u001B[39m `` -> `...61`\n",
      "\u001B[36m•\u001B[39m `` -> `...62`\n",
      "\u001B[36m•\u001B[39m `` -> `...63`\n",
      "\u001B[36m•\u001B[39m `` -> `...64`\n",
      "\u001B[36m•\u001B[39m `` -> `...65`\n",
      "\u001B[36m•\u001B[39m `` -> `...66`\n",
      "\u001B[36m•\u001B[39m `` -> `...67`\n",
      "\u001B[36m•\u001B[39m `` -> `...68`\n",
      "\u001B[36m•\u001B[39m `` -> `...69`\n",
      "\u001B[36m•\u001B[39m `` -> `...70`\n",
      "\u001B[36m•\u001B[39m `` -> `...71`\n",
      "\u001B[36m•\u001B[39m `` -> `...72`\n",
      "Warning message:\n",
      "\"\u001B[1m\u001B[22mThere was 1 warning in `mutate()`.\n",
      "\u001B[1m\u001B[22m\u001B[36mℹ\u001B[39m In argument: `across(-concepto, as.numeric)`.\n",
      "Caused by warning:\n",
      "\u001B[33m!\u001B[39m NAs introduced by coercion\"\n"
     ]
    },
    {
     "data": {
      "text/html": [
       "<table class=\"dataframe\">\n",
       "<caption>A tibble: 34 × 2</caption>\n",
       "<thead>\n",
       "\t<tr><th scope=col>year</th><th scope=col>porcentaje_po</th></tr>\n",
       "\t<tr><th scope=col>&lt;dbl&gt;</th><th scope=col>&lt;dbl&gt;</th></tr>\n",
       "</thead>\n",
       "<tbody>\n",
       "\t<tr><td>2007</td><td>6.555220</td></tr>\n",
       "\t<tr><td>2008</td><td>7.104769</td></tr>\n",
       "\t<tr><td>2009</td><td>6.871464</td></tr>\n",
       "\t<tr><td>2010</td><td>6.731017</td></tr>\n",
       "\t<tr><td>2011</td><td>6.790198</td></tr>\n",
       "\t<tr><td>2012</td><td>7.634546</td></tr>\n",
       "\t<tr><td>2013</td><td>7.727865</td></tr>\n",
       "\t<tr><td>2014</td><td>8.539687</td></tr>\n",
       "\t<tr><td>2015</td><td>6.883214</td></tr>\n",
       "\t<tr><td>2016</td><td>7.770897</td></tr>\n",
       "\t<tr><td>2017</td><td>7.775654</td></tr>\n",
       "\t<tr><td>2018</td><td>7.421999</td></tr>\n",
       "\t<tr><td>2019</td><td>7.956652</td></tr>\n",
       "\t<tr><td>2020</td><td>6.829410</td></tr>\n",
       "\t<tr><td>2021</td><td>8.773207</td></tr>\n",
       "\t<tr><td>2022</td><td>8.122879</td></tr>\n",
       "\t<tr><td>2023</td><td>8.183308</td></tr>\n",
       "\t<tr><td>2007</td><td>6.555220</td></tr>\n",
       "\t<tr><td>2008</td><td>7.104769</td></tr>\n",
       "\t<tr><td>2009</td><td>6.871464</td></tr>\n",
       "\t<tr><td>2010</td><td>6.731017</td></tr>\n",
       "\t<tr><td>2011</td><td>6.790198</td></tr>\n",
       "\t<tr><td>2012</td><td>7.634546</td></tr>\n",
       "\t<tr><td>2013</td><td>7.727865</td></tr>\n",
       "\t<tr><td>2014</td><td>8.539687</td></tr>\n",
       "\t<tr><td>2015</td><td>6.883214</td></tr>\n",
       "\t<tr><td>2016</td><td>7.770897</td></tr>\n",
       "\t<tr><td>2017</td><td>7.775654</td></tr>\n",
       "\t<tr><td>2018</td><td>7.421999</td></tr>\n",
       "\t<tr><td>2019</td><td>7.956652</td></tr>\n",
       "\t<tr><td>2020</td><td>6.829410</td></tr>\n",
       "\t<tr><td>2021</td><td>8.773207</td></tr>\n",
       "\t<tr><td>2022</td><td>8.122879</td></tr>\n",
       "\t<tr><td>2023</td><td>8.183308</td></tr>\n",
       "</tbody>\n",
       "</table>\n"
      ],
      "text/markdown": "\nA tibble: 34 × 2\n\n| year &lt;dbl&gt; | porcentaje_po &lt;dbl&gt; |\n|---|---|\n| 2007 | 6.555220 |\n| 2008 | 7.104769 |\n| 2009 | 6.871464 |\n| 2010 | 6.731017 |\n| 2011 | 6.790198 |\n| 2012 | 7.634546 |\n| 2013 | 7.727865 |\n| 2014 | 8.539687 |\n| 2015 | 6.883214 |\n| 2016 | 7.770897 |\n| 2017 | 7.775654 |\n| 2018 | 7.421999 |\n| 2019 | 7.956652 |\n| 2020 | 6.829410 |\n| 2021 | 8.773207 |\n| 2022 | 8.122879 |\n| 2023 | 8.183308 |\n| 2007 | 6.555220 |\n| 2008 | 7.104769 |\n| 2009 | 6.871464 |\n| 2010 | 6.731017 |\n| 2011 | 6.790198 |\n| 2012 | 7.634546 |\n| 2013 | 7.727865 |\n| 2014 | 8.539687 |\n| 2015 | 6.883214 |\n| 2016 | 7.770897 |\n| 2017 | 7.775654 |\n| 2018 | 7.421999 |\n| 2019 | 7.956652 |\n| 2020 | 6.829410 |\n| 2021 | 8.773207 |\n| 2022 | 8.122879 |\n| 2023 | 8.183308 |\n\n",
      "text/latex": "A tibble: 34 × 2\n\\begin{tabular}{ll}\n year & porcentaje\\_po\\\\\n <dbl> & <dbl>\\\\\n\\hline\n\t 2007 & 6.555220\\\\\n\t 2008 & 7.104769\\\\\n\t 2009 & 6.871464\\\\\n\t 2010 & 6.731017\\\\\n\t 2011 & 6.790198\\\\\n\t 2012 & 7.634546\\\\\n\t 2013 & 7.727865\\\\\n\t 2014 & 8.539687\\\\\n\t 2015 & 6.883214\\\\\n\t 2016 & 7.770897\\\\\n\t 2017 & 7.775654\\\\\n\t 2018 & 7.421999\\\\\n\t 2019 & 7.956652\\\\\n\t 2020 & 6.829410\\\\\n\t 2021 & 8.773207\\\\\n\t 2022 & 8.122879\\\\\n\t 2023 & 8.183308\\\\\n\t 2007 & 6.555220\\\\\n\t 2008 & 7.104769\\\\\n\t 2009 & 6.871464\\\\\n\t 2010 & 6.731017\\\\\n\t 2011 & 6.790198\\\\\n\t 2012 & 7.634546\\\\\n\t 2013 & 7.727865\\\\\n\t 2014 & 8.539687\\\\\n\t 2015 & 6.883214\\\\\n\t 2016 & 7.770897\\\\\n\t 2017 & 7.775654\\\\\n\t 2018 & 7.421999\\\\\n\t 2019 & 7.956652\\\\\n\t 2020 & 6.829410\\\\\n\t 2021 & 8.773207\\\\\n\t 2022 & 8.122879\\\\\n\t 2023 & 8.183308\\\\\n\\end{tabular}\n",
      "text/plain": [
       "   year porcentaje_po\n",
       "1  2007 6.555220     \n",
       "2  2008 7.104769     \n",
       "3  2009 6.871464     \n",
       "4  2010 6.731017     \n",
       "5  2011 6.790198     \n",
       "6  2012 7.634546     \n",
       "7  2013 7.727865     \n",
       "8  2014 8.539687     \n",
       "9  2015 6.883214     \n",
       "10 2016 7.770897     \n",
       "11 2017 7.775654     \n",
       "12 2018 7.421999     \n",
       "13 2019 7.956652     \n",
       "14 2020 6.829410     \n",
       "15 2021 8.773207     \n",
       "16 2022 8.122879     \n",
       "17 2023 8.183308     \n",
       "18 2007 6.555220     \n",
       "19 2008 7.104769     \n",
       "20 2009 6.871464     \n",
       "21 2010 6.731017     \n",
       "22 2011 6.790198     \n",
       "23 2012 7.634546     \n",
       "24 2013 7.727865     \n",
       "25 2014 8.539687     \n",
       "26 2015 6.883214     \n",
       "27 2016 7.770897     \n",
       "28 2017 7.775654     \n",
       "29 2018 7.421999     \n",
       "30 2019 7.956652     \n",
       "31 2020 6.829410     \n",
       "32 2021 8.773207     \n",
       "33 2022 8.122879     \n",
       "34 2023 8.183308     "
      ]
     },
     "metadata": {},
     "output_type": "display_data"
    }
   ],
   "execution_count": 18
  },
  {
   "metadata": {},
   "cell_type": "code",
   "outputs": [],
   "execution_count": null,
   "source": "",
   "id": "7ce1138ee4efe5b3"
  },
  {
   "metadata": {
    "ExecuteTime": {
     "end_time": "2025-02-18T06:57:40.187621Z",
     "start_time": "2025-02-18T06:57:40.043018Z"
    }
   },
   "cell_type": "code",
   "source": [
    "#Graficar\n",
    "trabajo%>%\n",
    "ggplot(aes(x=year, y=porcentaje_po, color=year))+\n",
    "geom_line()+geom_point()+geom_smooth(method=\"lm\",se=FALSE)+\n",
    "labs(title=\"Porcentaje de empleo en Restaurantes y servicios de alojamiento respecto del total\",x=\"Año\",y=\"Porcentaje\")+theme_minimal()+\n",
    "theme(legend.position = \"none\")"
   ],
   "id": "72b046afaf7d4bd3",
   "outputs": [
    {
     "name": "stderr",
     "output_type": "stream",
     "text": [
      "\u001B[1m\u001B[22m`geom_smooth()` using formula = 'y ~ x'\n",
      "Warning message:\n",
      "\"\u001B[1m\u001B[22mThe following aesthetics were dropped during statistical transformation:\n",
      "\u001B[32mcolour\u001B[39m.\n",
      "\u001B[36mℹ\u001B[39m This can happen when ggplot fails to infer the correct grouping structure in\n",
      "  the data.\n",
      "\u001B[36mℹ\u001B[39m Did you forget to specify a `group` aesthetic or to convert a numerical\n",
      "  variable into a factor?\"\n"
     ]
    },
    {
     "data": {
      "text/plain": [
       "plot without title"
      ],
      "image/png": "[encoded data removed]"
     },
     "metadata": {
      "image/png": {
       "width": 420,
       "height": 420
      }
     },
     "output_type": "display_data"
    }
   ],
   "execution_count": 20
  },
  {
   "metadata": {
    "ExecuteTime": {
     "end_time": "2025-02-18T06:57:50.812855Z",
     "start_time": "2025-02-18T06:57:50.797223Z"
    }
   },
   "cell_type": "code",
   "source": [
    "#Calcular tasa de crecimiento media anual de empleo en Restaurantes y servicios de alojamiento de 2009 a 2019\n",
    "\n",
    "valor_inicial<-trabajo%>%filter(year==2009)%>%pull(porcentaje_po)\n",
    "valor_final<-trabajo%>%filter(year==2019)%>%pull(porcentaje_po)\n",
    "tasa_crecimiento<-((valor_final/valor_inicial)^(1/(2019-2009))-1)*100\n",
    "print(paste(\"La tasa de crecimiento media anual de empleo en Restaurantes y servicios de alojamiento de 2009 a 2019 es de\",round(tasa_crecimiento,2),\"%\"))"
   ],
   "id": "3c592e1e81a4b821",
   "outputs": [
    {
     "name": "stdout",
     "output_type": "stream",
     "text": [
      "[1] \"La tasa de crecimiento media anual de empleo en Restaurantes y servicios de alojamiento de 2009 a 2019 es de 1.48 %\"\n",
      "[2] \"La tasa de crecimiento media anual de empleo en Restaurantes y servicios de alojamiento de 2009 a 2019 es de 1.48 %\"\n"
     ]
    }
   ],
   "execution_count": 21
  },
  {
   "metadata": {
    "ExecuteTime": {
     "end_time": "2025-02-18T06:57:52.820411Z",
     "start_time": "2025-02-18T06:57:52.800184Z"
    }
   },
   "cell_type": "code",
   "source": [
    "#Aplicar tasa de crecimiento a 2020 a 2045\n",
    "trabajo_extended<-data.frame(year=2020:2045)\n",
    "trabajo_extended$porcentaje_po<-valor_final*(1+tasa_crecimiento/100)^((2020:2045)-2019)\n",
    "trabajo_extended"
   ],
   "id": "372eeaea5c121d1e",
   "outputs": [
    {
     "data": {
      "text/html": [
       "<table class=\"dataframe\">\n",
       "<caption>A data.frame: 26 × 2</caption>\n",
       "<thead>\n",
       "\t<tr><th scope=col>year</th><th scope=col>porcentaje_po</th></tr>\n",
       "\t<tr><th scope=col>&lt;int&gt;</th><th scope=col>&lt;dbl&gt;</th></tr>\n",
       "</thead>\n",
       "<tbody>\n",
       "\t<tr><td>2020</td><td> 8.074180</td></tr>\n",
       "\t<tr><td>2021</td><td> 8.193445</td></tr>\n",
       "\t<tr><td>2022</td><td> 8.314471</td></tr>\n",
       "\t<tr><td>2023</td><td> 8.437286</td></tr>\n",
       "\t<tr><td>2024</td><td> 8.561914</td></tr>\n",
       "\t<tr><td>2025</td><td> 8.688383</td></tr>\n",
       "\t<tr><td>2026</td><td> 8.816720</td></tr>\n",
       "\t<tr><td>2027</td><td> 8.946953</td></tr>\n",
       "\t<tr><td>2028</td><td> 9.079110</td></tr>\n",
       "\t<tr><td>2029</td><td> 9.213219</td></tr>\n",
       "\t<tr><td>2030</td><td> 9.349308</td></tr>\n",
       "\t<tr><td>2031</td><td> 9.487408</td></tr>\n",
       "\t<tr><td>2032</td><td> 9.627548</td></tr>\n",
       "\t<tr><td>2033</td><td> 9.769758</td></tr>\n",
       "\t<tr><td>2034</td><td> 9.914068</td></tr>\n",
       "\t<tr><td>2035</td><td>10.060510</td></tr>\n",
       "\t<tr><td>2036</td><td>10.209115</td></tr>\n",
       "\t<tr><td>2037</td><td>10.359915</td></tr>\n",
       "\t<tr><td>2038</td><td>10.512943</td></tr>\n",
       "\t<tr><td>2039</td><td>10.668231</td></tr>\n",
       "\t<tr><td>2040</td><td>10.825813</td></tr>\n",
       "\t<tr><td>2041</td><td>10.985722</td></tr>\n",
       "\t<tr><td>2042</td><td>11.147994</td></tr>\n",
       "\t<tr><td>2043</td><td>11.312662</td></tr>\n",
       "\t<tr><td>2044</td><td>11.479763</td></tr>\n",
       "\t<tr><td>2045</td><td>11.649332</td></tr>\n",
       "</tbody>\n",
       "</table>\n"
      ],
      "text/markdown": "\nA data.frame: 26 × 2\n\n| year &lt;int&gt; | porcentaje_po &lt;dbl&gt; |\n|---|---|\n| 2020 |  8.074180 |\n| 2021 |  8.193445 |\n| 2022 |  8.314471 |\n| 2023 |  8.437286 |\n| 2024 |  8.561914 |\n| 2025 |  8.688383 |\n| 2026 |  8.816720 |\n| 2027 |  8.946953 |\n| 2028 |  9.079110 |\n| 2029 |  9.213219 |\n| 2030 |  9.349308 |\n| 2031 |  9.487408 |\n| 2032 |  9.627548 |\n| 2033 |  9.769758 |\n| 2034 |  9.914068 |\n| 2035 | 10.060510 |\n| 2036 | 10.209115 |\n| 2037 | 10.359915 |\n| 2038 | 10.512943 |\n| 2039 | 10.668231 |\n| 2040 | 10.825813 |\n| 2041 | 10.985722 |\n| 2042 | 11.147994 |\n| 2043 | 11.312662 |\n| 2044 | 11.479763 |\n| 2045 | 11.649332 |\n\n",
      "text/latex": "A data.frame: 26 × 2\n\\begin{tabular}{ll}\n year & porcentaje\\_po\\\\\n <int> & <dbl>\\\\\n\\hline\n\t 2020 &  8.074180\\\\\n\t 2021 &  8.193445\\\\\n\t 2022 &  8.314471\\\\\n\t 2023 &  8.437286\\\\\n\t 2024 &  8.561914\\\\\n\t 2025 &  8.688383\\\\\n\t 2026 &  8.816720\\\\\n\t 2027 &  8.946953\\\\\n\t 2028 &  9.079110\\\\\n\t 2029 &  9.213219\\\\\n\t 2030 &  9.349308\\\\\n\t 2031 &  9.487408\\\\\n\t 2032 &  9.627548\\\\\n\t 2033 &  9.769758\\\\\n\t 2034 &  9.914068\\\\\n\t 2035 & 10.060510\\\\\n\t 2036 & 10.209115\\\\\n\t 2037 & 10.359915\\\\\n\t 2038 & 10.512943\\\\\n\t 2039 & 10.668231\\\\\n\t 2040 & 10.825813\\\\\n\t 2041 & 10.985722\\\\\n\t 2042 & 11.147994\\\\\n\t 2043 & 11.312662\\\\\n\t 2044 & 11.479763\\\\\n\t 2045 & 11.649332\\\\\n\\end{tabular}\n",
      "text/plain": [
       "   year porcentaje_po\n",
       "1  2020  8.074180    \n",
       "2  2021  8.193445    \n",
       "3  2022  8.314471    \n",
       "4  2023  8.437286    \n",
       "5  2024  8.561914    \n",
       "6  2025  8.688383    \n",
       "7  2026  8.816720    \n",
       "8  2027  8.946953    \n",
       "9  2028  9.079110    \n",
       "10 2029  9.213219    \n",
       "11 2030  9.349308    \n",
       "12 2031  9.487408    \n",
       "13 2032  9.627548    \n",
       "14 2033  9.769758    \n",
       "15 2034  9.914068    \n",
       "16 2035 10.060510    \n",
       "17 2036 10.209115    \n",
       "18 2037 10.359915    \n",
       "19 2038 10.512943    \n",
       "20 2039 10.668231    \n",
       "21 2040 10.825813    \n",
       "22 2041 10.985722    \n",
       "23 2042 11.147994    \n",
       "24 2043 11.312662    \n",
       "25 2044 11.479763    \n",
       "26 2045 11.649332    "
      ]
     },
     "metadata": {},
     "output_type": "display_data"
    }
   ],
   "execution_count": 22
  },
  {
   "metadata": {
    "ExecuteTime": {
     "end_time": "2025-02-18T07:04:34.797293Z",
     "start_time": "2025-02-18T07:04:34.628268Z"
    }
   },
   "cell_type": "code",
   "source": [
    "#Pegar datos\n",
    "trabajos_final<-bind_rows(trabajo,trabajo_extended)\n",
    "#Graficar\n",
    "trabajos_final%>%\n",
    "ggplot(aes(x=year, y=porcentaje_po))+\n",
    "geom_line(color=\"#9f2241\",linewidth=1.5)+\n",
    "geom_vline(xintercept = c(2024), linetype = \"dashed\", color = \"red\")+\n",
    "labs(title=\"Porcentaje de población ocupada en el sector turístico\",x=\"Año\",y=\"Porcentaje de empleo\")+theme_minimal()+\n",
    "theme(legend.position = \"none\",\n",
    "        plot.title = element_text(hjust = 0, size=20, face=\"bold\"),\n",
    "        plot.subtitle = element_text(hjust = 0, size=15, face=\"italic\"),\n",
    "        plot.caption = element_text(hjust = 0, size=10),\n",
    "        legend.text = element_text(size=18),\n",
    "        axis.text.x = element_text(angle = 90, hjust = 1, size=18),\n",
    "        legend.title = element_text(size=18),\n",
    "        text = element_text(family=\"rob\")\n",
    "        )\n",
    "\n",
    "ggsave(\"empleo_turistico_1.png\", width = 10, height = 6, dpi = 100,bg=\"white\")\n"
   ],
   "id": "5c8dd3eb2f4f0938",
   "outputs": [
    {
     "data": {
      "text/plain": [
       "plot without title"
      ],
      "image/png": "[encoded data removed]"
     },
     "metadata": {
      "image/png": {
       "width": 420,
       "height": 420
      }
     },
     "output_type": "display_data"
    }
   ],
   "execution_count": 41
  },
  {
   "metadata": {
    "ExecuteTime": {
     "end_time": "2025-02-18T06:28:38.505892Z",
     "start_time": "2025-02-18T06:28:38.487852Z"
    }
   },
   "cell_type": "code",
   "source": [
    "#Sacar valores 2030, 2035 y 2045\n",
    "trabajos_final%>%\n",
    "filter(year %in% c(2030,2035,2045))%>%\n",
    "select(year,porcentaje_po)"
   ],
   "id": "3ea698fb199abb9f",
   "outputs": [
    {
     "data": {
      "text/html": [
       "<table class=\"dataframe\">\n",
       "<caption>A tibble: 3 × 2</caption>\n",
       "<thead>\n",
       "\t<tr><th scope=col>year</th><th scope=col>porcentaje_po</th></tr>\n",
       "\t<tr><th scope=col>&lt;dbl&gt;</th><th scope=col>&lt;dbl&gt;</th></tr>\n",
       "</thead>\n",
       "<tbody>\n",
       "\t<tr><td>2030</td><td> 9.349308</td></tr>\n",
       "\t<tr><td>2035</td><td>10.060510</td></tr>\n",
       "\t<tr><td>2045</td><td>11.649332</td></tr>\n",
       "</tbody>\n",
       "</table>\n"
      ],
      "text/markdown": "\nA tibble: 3 × 2\n\n| year &lt;dbl&gt; | porcentaje_po &lt;dbl&gt; |\n|---|---|\n| 2030 |  9.349308 |\n| 2035 | 10.060510 |\n| 2045 | 11.649332 |\n\n",
      "text/latex": "A tibble: 3 × 2\n\\begin{tabular}{ll}\n year & porcentaje\\_po\\\\\n <dbl> & <dbl>\\\\\n\\hline\n\t 2030 &  9.349308\\\\\n\t 2035 & 10.060510\\\\\n\t 2045 & 11.649332\\\\\n\\end{tabular}\n",
      "text/plain": [
       "  year porcentaje_po\n",
       "1 2030  9.349308    \n",
       "2 2035 10.060510    \n",
       "3 2045 11.649332    "
      ]
     },
     "metadata": {},
     "output_type": "display_data"
    }
   ],
   "execution_count": 22
  },
  {
   "metadata": {},
   "cell_type": "markdown",
   "source": "La segunda aproximación será considerando microdatos de ENOE y únicamente la actividad de servicios de alojamiento temporal.",
   "id": "1bf34ddf43b41e7e"
  },
  {
   "metadata": {
    "ExecuteTime": {
     "end_time": "2025-02-18T06:28:38.525754Z",
     "start_time": "2025-02-18T06:28:38.515438Z"
    }
   },
   "cell_type": "code",
   "source": [
    "# Función para descargar los datos de la ENOE en formato CSV\n",
    "descargar_enoe_csv <- function() {\n",
    "  # Crear directorio de trabajo si no existe\n",
    "  if (!dir.exists(\"datos\")) {\n",
    "    dir.create(\"datos\")\n",
    "  }\n",
    "  if (!dir.exists(\"datos/enoe\")) {\n",
    "    dir.create(\"datos/enoe\")\n",
    "  }\n",
    "\n",
    "  # Cambiar al directorio de trabajo\n",
    "  setwd(\"datos/enoe\")\n",
    "\n",
    "  # Función para descargar y extraer archivos\n",
    "  descargar_extraer <- function(url) {\n",
    "    temp <- tempfile()\n",
    "    download.file(url, temp, mode = \"wb\")\n",
    "    unzip(temp)\n",
    "    unlink(temp)\n",
    "  }\n",
    "\n",
    "  # Descargar datos de 2005 a 2009\n",
    "  for (i in 7:9) {\n",
    "    url <- paste0(\"https://www.inegi.org.mx/contenidos/programas/enoe/15ymas/microdatos/200\", i, \"trim3_csv.zip\")\n",
    "    descargar_extraer(url)\n",
    "  }\n",
    "\n",
    "  # Descargar datos de 2010 a 2019\n",
    "  for (i in 10:19) {\n",
    "    url <- paste0(\"https://www.inegi.org.mx/contenidos/programas/enoe/15ymas/microdatos/20\", i, \"trim3_csv.zip\")\n",
    "    print(url)\n",
    "    descargar_extraer(url)\n",
    "  }\n",
    "\n",
    "  # Descargar datos de 2020\n",
    "  for (i in 20:20) {\n",
    "    url <- paste0(\"https://www.inegi.org.mx/contenidos/programas/enoe/15ymas/microdatos/enoe_n_20\", i, \"_trim3_csv.zip\")\n",
    "    descargar_extraer(url)\n",
    "  }\n",
    "\n",
    "  # Descargar datos de 2021 a 2022\n",
    "  for (i in 21:22) {\n",
    "    url <- paste0(\"https://www.inegi.org.mx/contenidos/programas/enoe/15ymas/microdatos/enoe_n_20\", i, \"_trim3_csv.zip\")\n",
    "    descargar_extraer(url)\n",
    "  }\n",
    "\n",
    "  # Descargar datos de 2023\n",
    "  for (i in 23:23) {\n",
    "    url <- paste0(\"https://www.inegi.org.mx/contenidos/programas/enoe/15ymas/microdatos/enoe_20\", i, \"_trim3_csv.zip\")\n",
    "    descargar_extraer(url)\n",
    "  }\n",
    "\n",
    "  # Eliminar archivos innecesarios (conservar solo SDEMT y COE1T)\n",
    "  # Listar archivos con extensión .csv, sin importar mayúsculas/minúsculas\n",
    "  archivos <- list.files(pattern = \"\\\\.csv$\", ignore.case = TRUE)\n",
    "\n",
    "  # Lista de archivos a eliminar (que NO contienen \"SDEMT\" o \"COE1T\", sin importar mayúsculas/minúsculas)\n",
    "  archivos_a_eliminar <- archivos[!grepl(\"sdemt|coe1t\", archivos, ignore.case = TRUE)]\n",
    "  file.remove(archivos_a_eliminar)\n",
    "\n",
    "  # Eliminar archivo zip (si existe)\n",
    "  if (file.exists(\"archivos.zip\")) {\n",
    "    file.remove(\"archivos.zip\")\n",
    "  }\n",
    "\n",
    "  # Regresar al directorio original\n",
    "  setwd(\"../..\")\n",
    "}"
   ],
   "id": "fe7dc3b585f3c73f",
   "outputs": [],
   "execution_count": 23
  },
  {
   "metadata": {
    "ExecuteTime": {
     "end_time": "2025-02-18T06:35:34.323895Z",
     "start_time": "2025-02-18T06:28:38.579392Z"
    }
   },
   "cell_type": "code",
   "source": [
    "options(timeout = 3000)\n",
    "descargar_enoe_csv()"
   ],
   "id": "f6e3bba9e63ea8ca",
   "outputs": [
    {
     "name": "stdout",
     "output_type": "stream",
     "text": [
      "[1] \"https://www.inegi.org.mx/contenidos/programas/enoe/15ymas/microdatos/2010trim3_csv.zip\"\n",
      "[1] \"https://www.inegi.org.mx/contenidos/programas/enoe/15ymas/microdatos/2011trim3_csv.zip\"\n",
      "[1] \"https://www.inegi.org.mx/contenidos/programas/enoe/15ymas/microdatos/2012trim3_csv.zip\"\n",
      "[1] \"https://www.inegi.org.mx/contenidos/programas/enoe/15ymas/microdatos/2013trim3_csv.zip\"\n",
      "[1] \"https://www.inegi.org.mx/contenidos/programas/enoe/15ymas/microdatos/2014trim3_csv.zip\"\n",
      "[1] \"https://www.inegi.org.mx/contenidos/programas/enoe/15ymas/microdatos/2015trim3_csv.zip\"\n",
      "[1] \"https://www.inegi.org.mx/contenidos/programas/enoe/15ymas/microdatos/2016trim3_csv.zip\"\n",
      "[1] \"https://www.inegi.org.mx/contenidos/programas/enoe/15ymas/microdatos/2017trim3_csv.zip\"\n",
      "[1] \"https://www.inegi.org.mx/contenidos/programas/enoe/15ymas/microdatos/2018trim3_csv.zip\"\n",
      "[1] \"https://www.inegi.org.mx/contenidos/programas/enoe/15ymas/microdatos/2019trim3_csv.zip\"\n"
     ]
    }
   ],
   "execution_count": 24
  },
  {
   "metadata": {
    "ExecuteTime": {
     "end_time": "2025-02-18T07:00:32.701169Z",
     "start_time": "2025-02-18T07:00:32.691301Z"
    }
   },
   "cell_type": "code",
   "source": [
    "# Función para extraer el año desde el nombre del archivo\n",
    "extraer_anio <- function(path) {\n",
    "  anio_str <- str_extract(path, \"\\\\d{2}(?=\\\\D*$)\") # Extrae los últimos dos dígitos del año\n",
    "  anio <- as.numeric(paste0(\"20\", anio_str)) # Convierte a formato 20XX\n",
    "  return(anio)\n",
    "}"
   ],
   "id": "923ec0daecb45ad2",
   "outputs": [],
   "execution_count": 30
  },
  {
   "metadata": {
    "ExecuteTime": {
     "end_time": "2025-02-18T07:00:25.693473Z",
     "start_time": "2025-02-18T07:00:25.682425Z"
    }
   },
   "cell_type": "code",
   "source": [
    "# Función para procesar la ENOE con ajuste para `tipo`\n",
    "estima_empleo_turismo <- function(sdemt_path, coe1t_path, tipo_empleo = \"empleo_cultural_federal\") {\n",
    "  year <- extraer_anio(sdemt_path)\n",
    "\n",
    "  # Leer y filtrar ocupados\n",
    "  ocupados <- read_csv(sdemt_path, show_col_types = FALSE) %>%\n",
    "    janitor::clean_names() %>%\n",
    "    filter(\n",
    "      clase2 == 1,\n",
    "      (eda >= 15 & eda <= 98 & !is.na(eda)) & (c_res == 1 | c_res == 3)\n",
    "    ) %>%\n",
    "    mutate(year = year) # Agregar el año\n",
    "\n",
    "  # Leer COE1T y seleccionar columnas según el año\n",
    "  scian <- read_csv(coe1t_path, show_col_types = FALSE) %>%\n",
    "    janitor::clean_names() %>%\n",
    "    { if (year <= 2019) select(., cd_a, ent, con, v_sel, n_hog, h_mud, n_ren, p4a) else\n",
    "        select(., tipo, mes_cal, cd_a, ent, con, v_sel, n_hog, h_mud, n_ren, p4a) } %>%\n",
    "    rename(scian_4 = p4a)\n",
    "\n",
    "\n",
    "\n",
    "  # Hacer el `left_join()` sin `tipo` si el año está entre 2005 y 2019\n",
    "  if (year <= 2019) {\n",
    "    ocupados <- left_join(ocupados, scian, by = c(\"cd_a\", \"ent\", \"con\", \"v_sel\", \"n_hog\", \"h_mud\", \"n_ren\"))\n",
    "  } else {\n",
    "    ocupados <- left_join(ocupados, scian, by = c(\"tipo\", \"mes_cal\", \"cd_a\", \"ent\", \"con\", \"v_sel\", \"n_hog\", \"h_mud\", \"n_ren\"))\n",
    "  }\n",
    "\n",
    "  # Clasificación de empleo cultural\n",
    "  ocupados <- ocupados %>%\n",
    "    mutate(turismo=case_when(scian_4 %in% c(7210) ~ 1,\n",
    "            TRUE ~ 0))\n",
    "\n",
    "  # Crear diseño de encuesta\n",
    "  options(survey.lonely.psu = \"certainty\")\n",
    "  if (year <= 2019) {\n",
    "    dm <- ocupados %>%\n",
    "      as_survey_design(\n",
    "        ids = upm,\n",
    "        strata = est_d,\n",
    "        weights = fac,\n",
    "        nest = TRUE\n",
    "      )\n",
    "  } else {\n",
    "    dm <- ocupados %>%\n",
    "      as_survey_design(\n",
    "        ids = upm,\n",
    "        strata = est_d_tri,\n",
    "        weights = fac_tri,\n",
    "        nest = TRUE\n",
    "      )\n",
    "  }\n",
    "  # Filtrar y calcular ocupados por tipo de empleo\n",
    "  resultado <- if (tipo_empleo == \"turismo\") {\n",
    "    dm %>%\n",
    "      filter(ent == 9) %>%\n",
    "      group_by(turismo) %>%\n",
    "      summarise(\n",
    "        ocupados = survey_total(vartype = \"cv\"),\n",
    "        porcentaje = survey_prop(vartype = \"cv\")\n",
    "      ) %>%\n",
    "      mutate(porcentaje = porcentaje * 100) %>%\n",
    "      filter(turismo == 1)%>%\n",
    "                mutate(year = year)\n",
    "  }\n",
    "\n",
    "            else {\n",
    "    stop(\"El parámetro 'tipo_empleo' debe ser 'turismo'\")\n",
    "  }\n",
    "\n",
    "  return(resultado)\n",
    "}"
   ],
   "id": "3ffcc1f330a76fc0",
   "outputs": [],
   "execution_count": 29
  },
  {
   "metadata": {
    "ExecuteTime": {
     "end_time": "2025-02-18T07:00:37.976440Z",
     "start_time": "2025-02-18T07:00:37.963426Z"
    }
   },
   "cell_type": "code",
   "source": [
    "lista_archivos <- list.files(path = \"datos/enoe\", full.names = TRUE)\n",
    "archivos_sdemt <- lista_archivos[str_detect(lista_archivos, regex(\"sdemt\", ignore_case = TRUE))]\n",
    "archivos_coe1t <- lista_archivos[str_detect(lista_archivos, regex(\"coe1t\", ignore_case = TRUE))]\n"
   ],
   "id": "58f2fc58ebaae6bc",
   "outputs": [],
   "execution_count": 31
  },
  {
   "metadata": {
    "ExecuteTime": {
     "end_time": "2025-02-18T07:00:39.555824Z",
     "start_time": "2025-02-18T07:00:39.525827Z"
    }
   },
   "cell_type": "code",
   "source": [
    "# Crear un data frame con los nombres de archivos y sus años\n",
    "df_archivos <- tibble(\n",
    "  sdemt = archivos_sdemt,\n",
    "  year = map_int(archivos_sdemt, extraer_anio)\n",
    ") %>%\n",
    "  left_join(\n",
    "    tibble(\n",
    "      coe1t = archivos_coe1t,\n",
    "      year = map_int(archivos_coe1t, extraer_anio)\n",
    "    ),\n",
    "    by = \"year\"\n",
    "  ) %>%\n",
    "  filter(!is.na(sdemt) & !is.na(coe1t))%>%\n",
    "        arrange(year)\n",
    "df_archivos"
   ],
   "id": "34dd2a155c3a1b13",
   "outputs": [
    {
     "data": {
      "text/html": [
       "<table class=\"dataframe\">\n",
       "<caption>A tibble: 17 × 3</caption>\n",
       "<thead>\n",
       "\t<tr><th scope=col>sdemt</th><th scope=col>year</th><th scope=col>coe1t</th></tr>\n",
       "\t<tr><th scope=col>&lt;chr&gt;</th><th scope=col>&lt;int&gt;</th><th scope=col>&lt;chr&gt;</th></tr>\n",
       "</thead>\n",
       "<tbody>\n",
       "\t<tr><td>datos/enoe/SDEMT307.csv      </td><td>2007</td><td>datos/enoe/COE1T307.csv      </td></tr>\n",
       "\t<tr><td>datos/enoe/SDEMT308.csv      </td><td>2008</td><td>datos/enoe/COE1T308.csv      </td></tr>\n",
       "\t<tr><td>datos/enoe/SDEMT309.csv      </td><td>2009</td><td>datos/enoe/COE1T309.csv      </td></tr>\n",
       "\t<tr><td>datos/enoe/SDEMT310.csv      </td><td>2010</td><td>datos/enoe/COE1T310.csv      </td></tr>\n",
       "\t<tr><td>datos/enoe/SDEMT311.csv      </td><td>2011</td><td>datos/enoe/COE1T311.csv      </td></tr>\n",
       "\t<tr><td>datos/enoe/sdemt312.csv      </td><td>2012</td><td>datos/enoe/coe1t312.csv      </td></tr>\n",
       "\t<tr><td>datos/enoe/sdemt313.csv      </td><td>2013</td><td>datos/enoe/coe1t313.csv      </td></tr>\n",
       "\t<tr><td>datos/enoe/SDEMT314.csv      </td><td>2014</td><td>datos/enoe/COE1T314.csv      </td></tr>\n",
       "\t<tr><td>datos/enoe/SDEMT315.csv      </td><td>2015</td><td>datos/enoe/COE1T315.csv      </td></tr>\n",
       "\t<tr><td>datos/enoe/SDEMT316.csv      </td><td>2016</td><td>datos/enoe/COE1T316.csv      </td></tr>\n",
       "\t<tr><td>datos/enoe/SDEMT317.csv      </td><td>2017</td><td>datos/enoe/COE1T317.csv      </td></tr>\n",
       "\t<tr><td>datos/enoe/SDEMT318.csv      </td><td>2018</td><td>datos/enoe/COE1T318.csv      </td></tr>\n",
       "\t<tr><td>datos/enoe/sdemt319.csv      </td><td>2019</td><td>datos/enoe/coe1t319.csv      </td></tr>\n",
       "\t<tr><td>datos/enoe/ENOEN_SDEMT320.csv</td><td>2020</td><td>datos/enoe/ENOEN_COE1T320.csv</td></tr>\n",
       "\t<tr><td>datos/enoe/ENOEN_SDEMT321.csv</td><td>2021</td><td>datos/enoe/ENOEN_COE1T321.csv</td></tr>\n",
       "\t<tr><td>datos/enoe/ENOEN_SDEMT322.csv</td><td>2022</td><td>datos/enoe/ENOEN_COE1T322.csv</td></tr>\n",
       "\t<tr><td>datos/enoe/ENOE_SDEMT323.csv </td><td>2023</td><td>datos/enoe/ENOE_COE1T323.csv </td></tr>\n",
       "</tbody>\n",
       "</table>\n"
      ],
      "text/markdown": "\nA tibble: 17 × 3\n\n| sdemt &lt;chr&gt; | year &lt;int&gt; | coe1t &lt;chr&gt; |\n|---|---|---|\n| datos/enoe/SDEMT307.csv       | 2007 | datos/enoe/COE1T307.csv       |\n| datos/enoe/SDEMT308.csv       | 2008 | datos/enoe/COE1T308.csv       |\n| datos/enoe/SDEMT309.csv       | 2009 | datos/enoe/COE1T309.csv       |\n| datos/enoe/SDEMT310.csv       | 2010 | datos/enoe/COE1T310.csv       |\n| datos/enoe/SDEMT311.csv       | 2011 | datos/enoe/COE1T311.csv       |\n| datos/enoe/sdemt312.csv       | 2012 | datos/enoe/coe1t312.csv       |\n| datos/enoe/sdemt313.csv       | 2013 | datos/enoe/coe1t313.csv       |\n| datos/enoe/SDEMT314.csv       | 2014 | datos/enoe/COE1T314.csv       |\n| datos/enoe/SDEMT315.csv       | 2015 | datos/enoe/COE1T315.csv       |\n| datos/enoe/SDEMT316.csv       | 2016 | datos/enoe/COE1T316.csv       |\n| datos/enoe/SDEMT317.csv       | 2017 | datos/enoe/COE1T317.csv       |\n| datos/enoe/SDEMT318.csv       | 2018 | datos/enoe/COE1T318.csv       |\n| datos/enoe/sdemt319.csv       | 2019 | datos/enoe/coe1t319.csv       |\n| datos/enoe/ENOEN_SDEMT320.csv | 2020 | datos/enoe/ENOEN_COE1T320.csv |\n| datos/enoe/ENOEN_SDEMT321.csv | 2021 | datos/enoe/ENOEN_COE1T321.csv |\n| datos/enoe/ENOEN_SDEMT322.csv | 2022 | datos/enoe/ENOEN_COE1T322.csv |\n| datos/enoe/ENOE_SDEMT323.csv  | 2023 | datos/enoe/ENOE_COE1T323.csv  |\n\n",
      "text/latex": "A tibble: 17 × 3\n\\begin{tabular}{lll}\n sdemt & year & coe1t\\\\\n <chr> & <int> & <chr>\\\\\n\\hline\n\t datos/enoe/SDEMT307.csv       & 2007 & datos/enoe/COE1T307.csv      \\\\\n\t datos/enoe/SDEMT308.csv       & 2008 & datos/enoe/COE1T308.csv      \\\\\n\t datos/enoe/SDEMT309.csv       & 2009 & datos/enoe/COE1T309.csv      \\\\\n\t datos/enoe/SDEMT310.csv       & 2010 & datos/enoe/COE1T310.csv      \\\\\n\t datos/enoe/SDEMT311.csv       & 2011 & datos/enoe/COE1T311.csv      \\\\\n\t datos/enoe/sdemt312.csv       & 2012 & datos/enoe/coe1t312.csv      \\\\\n\t datos/enoe/sdemt313.csv       & 2013 & datos/enoe/coe1t313.csv      \\\\\n\t datos/enoe/SDEMT314.csv       & 2014 & datos/enoe/COE1T314.csv      \\\\\n\t datos/enoe/SDEMT315.csv       & 2015 & datos/enoe/COE1T315.csv      \\\\\n\t datos/enoe/SDEMT316.csv       & 2016 & datos/enoe/COE1T316.csv      \\\\\n\t datos/enoe/SDEMT317.csv       & 2017 & datos/enoe/COE1T317.csv      \\\\\n\t datos/enoe/SDEMT318.csv       & 2018 & datos/enoe/COE1T318.csv      \\\\\n\t datos/enoe/sdemt319.csv       & 2019 & datos/enoe/coe1t319.csv      \\\\\n\t datos/enoe/ENOEN\\_SDEMT320.csv & 2020 & datos/enoe/ENOEN\\_COE1T320.csv\\\\\n\t datos/enoe/ENOEN\\_SDEMT321.csv & 2021 & datos/enoe/ENOEN\\_COE1T321.csv\\\\\n\t datos/enoe/ENOEN\\_SDEMT322.csv & 2022 & datos/enoe/ENOEN\\_COE1T322.csv\\\\\n\t datos/enoe/ENOE\\_SDEMT323.csv  & 2023 & datos/enoe/ENOE\\_COE1T323.csv \\\\\n\\end{tabular}\n",
      "text/plain": [
       "   sdemt                         year coe1t                        \n",
       "1  datos/enoe/SDEMT307.csv       2007 datos/enoe/COE1T307.csv      \n",
       "2  datos/enoe/SDEMT308.csv       2008 datos/enoe/COE1T308.csv      \n",
       "3  datos/enoe/SDEMT309.csv       2009 datos/enoe/COE1T309.csv      \n",
       "4  datos/enoe/SDEMT310.csv       2010 datos/enoe/COE1T310.csv      \n",
       "5  datos/enoe/SDEMT311.csv       2011 datos/enoe/COE1T311.csv      \n",
       "6  datos/enoe/sdemt312.csv       2012 datos/enoe/coe1t312.csv      \n",
       "7  datos/enoe/sdemt313.csv       2013 datos/enoe/coe1t313.csv      \n",
       "8  datos/enoe/SDEMT314.csv       2014 datos/enoe/COE1T314.csv      \n",
       "9  datos/enoe/SDEMT315.csv       2015 datos/enoe/COE1T315.csv      \n",
       "10 datos/enoe/SDEMT316.csv       2016 datos/enoe/COE1T316.csv      \n",
       "11 datos/enoe/SDEMT317.csv       2017 datos/enoe/COE1T317.csv      \n",
       "12 datos/enoe/SDEMT318.csv       2018 datos/enoe/COE1T318.csv      \n",
       "13 datos/enoe/sdemt319.csv       2019 datos/enoe/coe1t319.csv      \n",
       "14 datos/enoe/ENOEN_SDEMT320.csv 2020 datos/enoe/ENOEN_COE1T320.csv\n",
       "15 datos/enoe/ENOEN_SDEMT321.csv 2021 datos/enoe/ENOEN_COE1T321.csv\n",
       "16 datos/enoe/ENOEN_SDEMT322.csv 2022 datos/enoe/ENOEN_COE1T322.csv\n",
       "17 datos/enoe/ENOE_SDEMT323.csv  2023 datos/enoe/ENOE_COE1T323.csv "
      ]
     },
     "metadata": {},
     "output_type": "display_data"
    }
   ],
   "execution_count": 32
  },
  {
   "metadata": {
    "ExecuteTime": {
     "end_time": "2025-02-18T07:02:05.641138Z",
     "start_time": "2025-02-18T07:00:44.690874Z"
    }
   },
   "cell_type": "code",
   "source": [
    "print(\"Población ocupada en turismo en la Ciudad de México respecto del total\")\n",
    "empleo_turismo_cdmx <- df_archivos %>%\n",
    "        select(-year) %>%\n",
    "  mutate(data = map2(sdemt, coe1t, ~ estima_empleo_turismo(.x, .y, \"turismo\"))) %>%\n",
    "  unnest(data)%>%\n",
    "        select(year,ocupados,ocupados_cv,porcentaje,porcentaje_cv)%>%\n",
    "        mutate(porcentaje=round(porcentaje,2))\n",
    "empleo_turismo_cdmx"
   ],
   "id": "deb5155cd1963e5c",
   "outputs": [
    {
     "name": "stdout",
     "output_type": "stream",
     "text": [
      "[1] \"Población ocupada en turismo en la Ciudad de México respecto del total\"\n"
     ]
    },
    {
     "name": "stderr",
     "output_type": "stream",
     "text": [
      "Warning message:\n",
      "\"\u001B[1m\u001B[22mThere were 21 warnings in `mutate()`.\n",
      "The first warning was:\n",
      "\u001B[1m\u001B[22m\u001B[36mℹ\u001B[39m In argument: `data = map2(sdemt, coe1t, ~estima_empleo_turismo(.x, .y,\n",
      "  \"turismo\"))`.\n",
      "Caused by warning:\n",
      "\u001B[33m!\u001B[39m \u001B[1m\u001B[22mOne or more parsing issues, call `problems()` on your data frame for details,\n",
      "e.g.:\n",
      "  dat <- vroom(...)\n",
      "  problems(dat)\n",
      "\u001B[1m\u001B[22m\u001B[36mℹ\u001B[39m Run `dplyr::last_dplyr_warnings()` to see the 20 remaining warnings.\"\n"
     ]
    },
    {
     "data": {
      "text/html": [
       "<table class=\"dataframe\">\n",
       "<caption>A tibble: 17 × 5</caption>\n",
       "<thead>\n",
       "\t<tr><th scope=col>year</th><th scope=col>ocupados</th><th scope=col>ocupados_cv</th><th scope=col>porcentaje</th><th scope=col>porcentaje_cv</th></tr>\n",
       "\t<tr><th scope=col>&lt;dbl&gt;</th><th scope=col>&lt;dbl&gt;</th><th scope=col>&lt;dbl&gt;</th><th scope=col>&lt;dbl&gt;</th><th scope=col>&lt;dbl&gt;</th></tr>\n",
       "</thead>\n",
       "<tbody>\n",
       "\t<tr><td>2007</td><td>21498</td><td>0.2417355</td><td>0.55</td><td>0.2420155</td></tr>\n",
       "\t<tr><td>2008</td><td>16533</td><td>0.2466487</td><td>0.42</td><td>0.2474475</td></tr>\n",
       "\t<tr><td>2009</td><td>17372</td><td>0.2670146</td><td>0.44</td><td>0.2664210</td></tr>\n",
       "\t<tr><td>2010</td><td>10617</td><td>0.2907634</td><td>0.27</td><td>0.2916917</td></tr>\n",
       "\t<tr><td>2011</td><td>19063</td><td>0.2335202</td><td>0.47</td><td>0.2341760</td></tr>\n",
       "\t<tr><td>2012</td><td>17558</td><td>0.2443583</td><td>0.42</td><td>0.2438694</td></tr>\n",
       "\t<tr><td>2013</td><td>14213</td><td>0.2780863</td><td>0.34</td><td>0.2768918</td></tr>\n",
       "\t<tr><td>2014</td><td>17072</td><td>0.2941403</td><td>0.41</td><td>0.2936938</td></tr>\n",
       "\t<tr><td>2015</td><td>15179</td><td>0.3116599</td><td>0.34</td><td>0.3108393</td></tr>\n",
       "\t<tr><td>2016</td><td>23863</td><td>0.2250240</td><td>0.55</td><td>0.2250972</td></tr>\n",
       "\t<tr><td>2017</td><td>16924</td><td>0.2606439</td><td>0.39</td><td>0.2600043</td></tr>\n",
       "\t<tr><td>2018</td><td>20859</td><td>0.2293809</td><td>0.47</td><td>0.2284052</td></tr>\n",
       "\t<tr><td>2019</td><td>18323</td><td>0.2424702</td><td>0.41</td><td>0.2429902</td></tr>\n",
       "\t<tr><td>2020</td><td>18422</td><td>0.3396843</td><td>0.51</td><td>0.3345759</td></tr>\n",
       "\t<tr><td>2021</td><td>19580</td><td>0.2696209</td><td>0.45</td><td>0.2685109</td></tr>\n",
       "\t<tr><td>2022</td><td>21000</td><td>0.2785409</td><td>0.46</td><td>0.2797914</td></tr>\n",
       "\t<tr><td>2023</td><td>24645</td><td>0.2306619</td><td>0.52</td><td>0.2310095</td></tr>\n",
       "</tbody>\n",
       "</table>\n"
      ],
      "text/markdown": "\nA tibble: 17 × 5\n\n| year &lt;dbl&gt; | ocupados &lt;dbl&gt; | ocupados_cv &lt;dbl&gt; | porcentaje &lt;dbl&gt; | porcentaje_cv &lt;dbl&gt; |\n|---|---|---|---|---|\n| 2007 | 21498 | 0.2417355 | 0.55 | 0.2420155 |\n| 2008 | 16533 | 0.2466487 | 0.42 | 0.2474475 |\n| 2009 | 17372 | 0.2670146 | 0.44 | 0.2664210 |\n| 2010 | 10617 | 0.2907634 | 0.27 | 0.2916917 |\n| 2011 | 19063 | 0.2335202 | 0.47 | 0.2341760 |\n| 2012 | 17558 | 0.2443583 | 0.42 | 0.2438694 |\n| 2013 | 14213 | 0.2780863 | 0.34 | 0.2768918 |\n| 2014 | 17072 | 0.2941403 | 0.41 | 0.2936938 |\n| 2015 | 15179 | 0.3116599 | 0.34 | 0.3108393 |\n| 2016 | 23863 | 0.2250240 | 0.55 | 0.2250972 |\n| 2017 | 16924 | 0.2606439 | 0.39 | 0.2600043 |\n| 2018 | 20859 | 0.2293809 | 0.47 | 0.2284052 |\n| 2019 | 18323 | 0.2424702 | 0.41 | 0.2429902 |\n| 2020 | 18422 | 0.3396843 | 0.51 | 0.3345759 |\n| 2021 | 19580 | 0.2696209 | 0.45 | 0.2685109 |\n| 2022 | 21000 | 0.2785409 | 0.46 | 0.2797914 |\n| 2023 | 24645 | 0.2306619 | 0.52 | 0.2310095 |\n\n",
      "text/latex": "A tibble: 17 × 5\n\\begin{tabular}{lllll}\n year & ocupados & ocupados\\_cv & porcentaje & porcentaje\\_cv\\\\\n <dbl> & <dbl> & <dbl> & <dbl> & <dbl>\\\\\n\\hline\n\t 2007 & 21498 & 0.2417355 & 0.55 & 0.2420155\\\\\n\t 2008 & 16533 & 0.2466487 & 0.42 & 0.2474475\\\\\n\t 2009 & 17372 & 0.2670146 & 0.44 & 0.2664210\\\\\n\t 2010 & 10617 & 0.2907634 & 0.27 & 0.2916917\\\\\n\t 2011 & 19063 & 0.2335202 & 0.47 & 0.2341760\\\\\n\t 2012 & 17558 & 0.2443583 & 0.42 & 0.2438694\\\\\n\t 2013 & 14213 & 0.2780863 & 0.34 & 0.2768918\\\\\n\t 2014 & 17072 & 0.2941403 & 0.41 & 0.2936938\\\\\n\t 2015 & 15179 & 0.3116599 & 0.34 & 0.3108393\\\\\n\t 2016 & 23863 & 0.2250240 & 0.55 & 0.2250972\\\\\n\t 2017 & 16924 & 0.2606439 & 0.39 & 0.2600043\\\\\n\t 2018 & 20859 & 0.2293809 & 0.47 & 0.2284052\\\\\n\t 2019 & 18323 & 0.2424702 & 0.41 & 0.2429902\\\\\n\t 2020 & 18422 & 0.3396843 & 0.51 & 0.3345759\\\\\n\t 2021 & 19580 & 0.2696209 & 0.45 & 0.2685109\\\\\n\t 2022 & 21000 & 0.2785409 & 0.46 & 0.2797914\\\\\n\t 2023 & 24645 & 0.2306619 & 0.52 & 0.2310095\\\\\n\\end{tabular}\n",
      "text/plain": [
       "   year ocupados ocupados_cv porcentaje porcentaje_cv\n",
       "1  2007 21498    0.2417355   0.55       0.2420155    \n",
       "2  2008 16533    0.2466487   0.42       0.2474475    \n",
       "3  2009 17372    0.2670146   0.44       0.2664210    \n",
       "4  2010 10617    0.2907634   0.27       0.2916917    \n",
       "5  2011 19063    0.2335202   0.47       0.2341760    \n",
       "6  2012 17558    0.2443583   0.42       0.2438694    \n",
       "7  2013 14213    0.2780863   0.34       0.2768918    \n",
       "8  2014 17072    0.2941403   0.41       0.2936938    \n",
       "9  2015 15179    0.3116599   0.34       0.3108393    \n",
       "10 2016 23863    0.2250240   0.55       0.2250972    \n",
       "11 2017 16924    0.2606439   0.39       0.2600043    \n",
       "12 2018 20859    0.2293809   0.47       0.2284052    \n",
       "13 2019 18323    0.2424702   0.41       0.2429902    \n",
       "14 2020 18422    0.3396843   0.51       0.3345759    \n",
       "15 2021 19580    0.2696209   0.45       0.2685109    \n",
       "16 2022 21000    0.2785409   0.46       0.2797914    \n",
       "17 2023 24645    0.2306619   0.52       0.2310095    "
      ]
     },
     "metadata": {},
     "output_type": "display_data"
    }
   ],
   "execution_count": 33
  },
  {
   "metadata": {
    "ExecuteTime": {
     "end_time": "2025-02-18T07:02:05.711910Z",
     "start_time": "2025-02-18T07:02:05.697177Z"
    }
   },
   "cell_type": "code",
   "source": [
    "#Regresión lineal\n",
    "modelo<-lm(porcentaje~year,data=empleo_turismo_cdmx%>%filter(year>=2009))\n",
    "modelo%>%summary()"
   ],
   "id": "975086bc0b268163",
   "outputs": [
    {
     "data": {
      "text/plain": [
       "\n",
       "Call:\n",
       "lm(formula = porcentaje ~ year, data = empleo_turismo_cdmx %>% \n",
       "    filter(year >= 2009))\n",
       "\n",
       "Residuals:\n",
       "      Min        1Q    Median        3Q       Max \n",
       "-0.109857 -0.046714 -0.003286  0.039036  0.120000 \n",
       "\n",
       "Coefficients:\n",
       "              Estimate Std. Error t value Pr(>|t|)  \n",
       "(Intercept) -16.418000   8.064315  -2.036   0.0627 .\n",
       "year          0.008357   0.004000   2.089   0.0569 .\n",
       "---\n",
       "Signif. codes:  0 '***' 0.001 '**' 0.01 '*' 0.05 '.' 0.1 ' ' 1\n",
       "\n",
       "Residual standard error: 0.06694 on 13 degrees of freedom\n",
       "Multiple R-squared:  0.2514,\tAdjusted R-squared:  0.1938 \n",
       "F-statistic: 4.365 on 1 and 13 DF,  p-value: 0.05692\n"
      ]
     },
     "metadata": {},
     "output_type": "display_data"
    }
   ],
   "execution_count": 34
  },
  {
   "metadata": {
    "ExecuteTime": {
     "end_time": "2025-02-18T07:02:05.856007Z",
     "start_time": "2025-02-18T07:02:05.835163Z"
    }
   },
   "cell_type": "code",
   "source": [
    "#Predecir porcentaje de empleo en turismo para 2024 a 2045\n",
    "prediccion<-data.frame(year=2024:2045)\n",
    "prediccion$porcentaje<-predict(modelo,newdata=prediccion)\n",
    "prediccion"
   ],
   "id": "80247f1e8fa51b45",
   "outputs": [
    {
     "data": {
      "text/html": [
       "<table class=\"dataframe\">\n",
       "<caption>A data.frame: 22 × 2</caption>\n",
       "<thead>\n",
       "\t<tr><th scope=col>year</th><th scope=col>porcentaje</th></tr>\n",
       "\t<tr><th scope=col>&lt;int&gt;</th><th scope=col>&lt;dbl&gt;</th></tr>\n",
       "</thead>\n",
       "<tbody>\n",
       "\t<tr><td>2024</td><td>0.4968571</td></tr>\n",
       "\t<tr><td>2025</td><td>0.5052143</td></tr>\n",
       "\t<tr><td>2026</td><td>0.5135714</td></tr>\n",
       "\t<tr><td>2027</td><td>0.5219286</td></tr>\n",
       "\t<tr><td>2028</td><td>0.5302857</td></tr>\n",
       "\t<tr><td>2029</td><td>0.5386429</td></tr>\n",
       "\t<tr><td>2030</td><td>0.5470000</td></tr>\n",
       "\t<tr><td>2031</td><td>0.5553571</td></tr>\n",
       "\t<tr><td>2032</td><td>0.5637143</td></tr>\n",
       "\t<tr><td>2033</td><td>0.5720714</td></tr>\n",
       "\t<tr><td>2034</td><td>0.5804286</td></tr>\n",
       "\t<tr><td>2035</td><td>0.5887857</td></tr>\n",
       "\t<tr><td>2036</td><td>0.5971429</td></tr>\n",
       "\t<tr><td>2037</td><td>0.6055000</td></tr>\n",
       "\t<tr><td>2038</td><td>0.6138571</td></tr>\n",
       "\t<tr><td>2039</td><td>0.6222143</td></tr>\n",
       "\t<tr><td>2040</td><td>0.6305714</td></tr>\n",
       "\t<tr><td>2041</td><td>0.6389286</td></tr>\n",
       "\t<tr><td>2042</td><td>0.6472857</td></tr>\n",
       "\t<tr><td>2043</td><td>0.6556429</td></tr>\n",
       "\t<tr><td>2044</td><td>0.6640000</td></tr>\n",
       "\t<tr><td>2045</td><td>0.6723571</td></tr>\n",
       "</tbody>\n",
       "</table>\n"
      ],
      "text/markdown": "\nA data.frame: 22 × 2\n\n| year &lt;int&gt; | porcentaje &lt;dbl&gt; |\n|---|---|\n| 2024 | 0.4968571 |\n| 2025 | 0.5052143 |\n| 2026 | 0.5135714 |\n| 2027 | 0.5219286 |\n| 2028 | 0.5302857 |\n| 2029 | 0.5386429 |\n| 2030 | 0.5470000 |\n| 2031 | 0.5553571 |\n| 2032 | 0.5637143 |\n| 2033 | 0.5720714 |\n| 2034 | 0.5804286 |\n| 2035 | 0.5887857 |\n| 2036 | 0.5971429 |\n| 2037 | 0.6055000 |\n| 2038 | 0.6138571 |\n| 2039 | 0.6222143 |\n| 2040 | 0.6305714 |\n| 2041 | 0.6389286 |\n| 2042 | 0.6472857 |\n| 2043 | 0.6556429 |\n| 2044 | 0.6640000 |\n| 2045 | 0.6723571 |\n\n",
      "text/latex": "A data.frame: 22 × 2\n\\begin{tabular}{ll}\n year & porcentaje\\\\\n <int> & <dbl>\\\\\n\\hline\n\t 2024 & 0.4968571\\\\\n\t 2025 & 0.5052143\\\\\n\t 2026 & 0.5135714\\\\\n\t 2027 & 0.5219286\\\\\n\t 2028 & 0.5302857\\\\\n\t 2029 & 0.5386429\\\\\n\t 2030 & 0.5470000\\\\\n\t 2031 & 0.5553571\\\\\n\t 2032 & 0.5637143\\\\\n\t 2033 & 0.5720714\\\\\n\t 2034 & 0.5804286\\\\\n\t 2035 & 0.5887857\\\\\n\t 2036 & 0.5971429\\\\\n\t 2037 & 0.6055000\\\\\n\t 2038 & 0.6138571\\\\\n\t 2039 & 0.6222143\\\\\n\t 2040 & 0.6305714\\\\\n\t 2041 & 0.6389286\\\\\n\t 2042 & 0.6472857\\\\\n\t 2043 & 0.6556429\\\\\n\t 2044 & 0.6640000\\\\\n\t 2045 & 0.6723571\\\\\n\\end{tabular}\n",
      "text/plain": [
       "   year porcentaje\n",
       "1  2024 0.4968571 \n",
       "2  2025 0.5052143 \n",
       "3  2026 0.5135714 \n",
       "4  2027 0.5219286 \n",
       "5  2028 0.5302857 \n",
       "6  2029 0.5386429 \n",
       "7  2030 0.5470000 \n",
       "8  2031 0.5553571 \n",
       "9  2032 0.5637143 \n",
       "10 2033 0.5720714 \n",
       "11 2034 0.5804286 \n",
       "12 2035 0.5887857 \n",
       "13 2036 0.5971429 \n",
       "14 2037 0.6055000 \n",
       "15 2038 0.6138571 \n",
       "16 2039 0.6222143 \n",
       "17 2040 0.6305714 \n",
       "18 2041 0.6389286 \n",
       "19 2042 0.6472857 \n",
       "20 2043 0.6556429 \n",
       "21 2044 0.6640000 \n",
       "22 2045 0.6723571 "
      ]
     },
     "metadata": {},
     "output_type": "display_data"
    }
   ],
   "execution_count": 35
  },
  {
   "metadata": {
    "ExecuteTime": {
     "end_time": "2025-02-18T07:04:17.278804Z",
     "start_time": "2025-02-18T07:04:16.955627Z"
    }
   },
   "cell_type": "code",
   "source": [
    "#Pegar datos\n",
    "empleo_turismo_cdmx_final<-bind_rows(empleo_turismo_cdmx,prediccion)\n",
    "#Graficar\n",
    "empleo_turismo_cdmx_final%>%\n",
    "ggplot(aes(x=year, y=porcentaje))+\n",
    "geom_line()+\n",
    "geom_line(color=\"#9f2241\",linewidth=1.5)+\n",
    "geom_vline(xintercept = c(2024), linetype = \"dashed\", color = \"red\")+\n",
    "labs(title=\"Porcentaje de población ocupada en el sector turístico\",x=\"Año\",y=\"Porcentaje de empleo\")+theme_minimal()+\n",
    "theme(legend.position = \"none\",\n",
    "        plot.title = element_text(hjust = 0, size=20, face=\"bold\"),\n",
    "        plot.subtitle = element_text(hjust = 0, size=15, face=\"italic\"),\n",
    "        plot.caption = element_text(hjust = 0, size=10),\n",
    "        legend.text = element_text(size=18),\n",
    "        axis.text.x = element_text(angle = 90, hjust = 1, size=18),\n",
    "        legend.title = element_text(size=18),\n",
    "        text = element_text(family=\"rob\")\n",
    "        )\n",
    "\n",
    "ggsave(\"empleo_turismo_2.png\", width = 10, height = 6, dpi = 100,bg=\"white\")\n"
   ],
   "id": "1360d51d50500bdf",
   "outputs": [
    {
     "data": {
      "text/plain": [
       "plot without title"
      ],
      "image/png": "[encoded data removed]"
     },
     "metadata": {
      "image/png": {
       "width": 420,
       "height": 420
      }
     },
     "output_type": "display_data"
    }
   ],
   "execution_count": 40
  },
  {
   "metadata": {
    "ExecuteTime": {
     "end_time": "2025-02-18T06:36:38.043879Z",
     "start_time": "2025-02-18T06:36:38.033720Z"
    }
   },
   "cell_type": "code",
   "source": [
    "#Calcular tcma de 2014 a 2023\n",
    "#tcma<-((empleo_turismo_cdmx$porcentaje[empleo_turismo_cdmx$year==2023]/empleo_turismo_cdmx$porcentaje[empleo_turismo_cdmx$year==2014])^(1/(2023-2014))-1)\n",
    "#tcma"
   ],
   "id": "314f25a9d4ecc35f",
   "outputs": [],
   "execution_count": 33
  },
  {
   "metadata": {
    "ExecuteTime": {
     "end_time": "2025-02-18T06:36:38.059056Z",
     "start_time": "2025-02-18T06:36:38.048525Z"
    }
   },
   "cell_type": "code",
   "source": [
    "#Aplicar tcma a 2024 a 2045\n",
    "#empleo_turismo_cdmx_extended<-data.frame(year=2024:2045)\n",
    "#empleo_turismo_cdmx_extended$porcentaje <- empleo_turismo_cdmx$porcentaje[empleo_turismo_cdmx$year == 2023] *\n",
    "#                                           cumprod(rep(1 + tcma, length(2024:2045)))\n",
    "#empleo_turismo_cdmx_extended"
   ],
   "id": "b435fba9025afe57",
   "outputs": [],
   "execution_count": 34
  },
  {
   "metadata": {
    "ExecuteTime": {
     "end_time": "2025-02-18T06:36:38.073795Z",
     "start_time": "2025-02-18T06:36:38.063777Z"
    }
   },
   "cell_type": "code",
   "source": [
    "#Pegar datos\n",
    "#empleo_turismo_cdmx_final<-bind_rows(empleo_turismo_cdmx,empleo_turismo_cdmx_extended)\n",
    "#Graficar\n",
    "#empleo_turismo_cdmx_final%>%\n",
    "#ggplot(aes(x=year, y=porcentaje, color=year))+\n",
    "#geom_line()+geom_point()+\n",
    "#labs(title=\"Porcentaje de empleo en servicios de alojamiento temporal\",x=\"Año\",y=\"Porcentaje de empleo\")+theme_minimal()+\n",
    "#theme(legend.position = \"none\")"
   ],
   "id": "7a7a8e63ac5d177d",
   "outputs": [],
   "execution_count": 35
  },
  {
   "metadata": {},
   "cell_type": "markdown",
   "source": "### Valor agregado censal bruto\n",
   "id": "14bc1264f5333165"
  },
  {
   "metadata": {
    "ExecuteTime": {
     "end_time": "2025-02-18T06:36:38.092998Z",
     "start_time": "2025-02-18T06:36:38.078463Z"
    }
   },
   "cell_type": "code",
   "source": [
    "years<-c(\"2004\",\"2009\",\"2014\",\"2019\")\n",
    "url_basica<-\"https://www.inegi.org.mx/contenidos/programas/ce/2019/\"\n",
    "segunda_parte<-\"Datosabiertos/ce\"\n",
    "fin<-\"_cdmx_csv.zip\""
   ],
   "id": "84a17195d61a624d",
   "outputs": [],
   "execution_count": 36
  },
  {
   "metadata": {
    "ExecuteTime": {
     "end_time": "2025-02-18T06:36:38.111278Z",
     "start_time": "2025-02-18T06:36:38.097866Z"
    }
   },
   "cell_type": "code",
   "source": [
    "# Función para descargar y descomprimir\n",
    "download_unzip <- function(url, path) {\n",
    "\n",
    "  r <- httr::GET(url, httr::write_disk(path, overwrite = TRUE))\n",
    "\n",
    "\n",
    "  unzip(path, exdir = dirname(path))\n",
    "}"
   ],
   "id": "a3682f33e8afc22e",
   "outputs": [],
   "execution_count": 37
  },
  {
   "metadata": {
    "ExecuteTime": {
     "end_time": "2025-02-18T06:37:31.180026Z",
     "start_time": "2025-02-18T06:36:38.118424Z"
    }
   },
   "cell_type": "code",
   "source": [
    "# Loop\n",
    "for (year in years) {\n",
    "  # Construir url\n",
    "  url <- paste0(url_basica, segunda_parte, year, fin)\n",
    "  print(url)\n",
    "\n",
    "  # Crear carpeta para guardar los datos\n",
    "  dir.create(paste0(\"data/\", year), showWarnings = FALSE, recursive = TRUE)\n",
    "\n",
    "  # Descargar y descomprimir\n",
    "  download_unzip(url, paste0(\"data/\", year, \".zip\"))\n",
    "}"
   ],
   "id": "7a7b45499b86ec41",
   "outputs": [
    {
     "name": "stdout",
     "output_type": "stream",
     "text": [
      "[1] \"https://www.inegi.org.mx/contenidos/programas/ce/2019/Datosabiertos/ce2004_cdmx_csv.zip\"\n",
      "[1] \"https://www.inegi.org.mx/contenidos/programas/ce/2019/Datosabiertos/ce2009_cdmx_csv.zip\"\n",
      "[1] \"https://www.inegi.org.mx/contenidos/programas/ce/2019/Datosabiertos/ce2014_cdmx_csv.zip\"\n",
      "[1] \"https://www.inegi.org.mx/contenidos/programas/ce/2019/Datosabiertos/ce2019_cdmx_csv.zip\"\n"
     ]
    }
   ],
   "execution_count": 38
  },
  {
   "metadata": {
    "ExecuteTime": {
     "end_time": "2025-02-18T07:06:00.123084Z",
     "start_time": "2025-02-18T07:05:51.979630Z"
    }
   },
   "cell_type": "code",
   "source": [
    "file_names <- list.files(path =\"data/conjunto_de_datos\", pattern = \"^ce[0-9]{4}_cdmx\\\\.csv$\", full.names = TRUE)\n",
    "\n",
    "\n",
    "dataframes <- map(file_names, ~ {\n",
    "  df <- read.csv(.x, stringsAsFactors = FALSE, header = FALSE)\n",
    "  colnames(df) <- df[1, ]  # Asignar nombres de columna\n",
    "  df <- df[-1, ]  #Remover primera fila\n",
    "\n",
    "  # Extraer el año del nombre del archivo para agregarlo como columna\n",
    "  year <- gsub(\"^.*ce([0-9]{4})_cdmx\\\\.csv$\", \"\\\\1\", .x)\n",
    "  df$year <- year\n",
    "\n",
    "  return(df)\n",
    "})\n",
    "\n",
    "# Combinar dataframes y limpiar\n",
    "censos <- bind_rows(dataframes)%>%\n",
    "janitor::clean_names()%>%\n",
    "mutate(municipio = trimws(municipio),\n",
    "         codigo = trimws(codigo),\n",
    "         id_estrato = trimws(id_estrato))%>%\n",
    " filter(municipio==\"\")%>%\n",
    " filter(id_estrato==\"\")%>%\n",
    " filter(codigo==\"\" | codigo==\"721\")%>%\n",
    " select(year,codigo,a131a)%>%\n",
    " rename(va=a131a)%>%\n",
    " mutate(codigo=case_when(codigo==\"\" ~ \"total\",\n",
    "                         codigo==\"721\" ~ \"hospedaje\"),\n",
    "                         va=as.numeric(va))%>%\n",
    "    pivot_wider(names_from = \"codigo\", values_from = \"va\")%>%\n",
    "    mutate(porcentaje=100*hospedaje/total,\n",
    "    year=as.numeric(year))\n",
    "\n",
    "\n",
    "censos"
   ],
   "id": "dbeae5b513f54d49",
   "outputs": [
    {
     "data": {
      "text/html": [
       "<table class=\"dataframe\">\n",
       "<caption>A tibble: 4 × 4</caption>\n",
       "<thead>\n",
       "\t<tr><th scope=col>year</th><th scope=col>total</th><th scope=col>hospedaje</th><th scope=col>porcentaje</th></tr>\n",
       "\t<tr><th scope=col>&lt;dbl&gt;</th><th scope=col>&lt;dbl&gt;</th><th scope=col>&lt;dbl&gt;</th><th scope=col>&lt;dbl&gt;</th></tr>\n",
       "</thead>\n",
       "<tbody>\n",
       "\t<tr><td>2004</td><td> 958820.5</td><td> 2966.965</td><td>0.3094391</td></tr>\n",
       "\t<tr><td>2009</td><td>1332929.0</td><td> 2735.351</td><td>0.2052136</td></tr>\n",
       "\t<tr><td>2014</td><td>1535020.7</td><td> 3991.001</td><td>0.2599966</td></tr>\n",
       "\t<tr><td>2019</td><td>2292636.5</td><td>12353.472</td><td>0.5388326</td></tr>\n",
       "</tbody>\n",
       "</table>\n"
      ],
      "text/markdown": "\nA tibble: 4 × 4\n\n| year &lt;dbl&gt; | total &lt;dbl&gt; | hospedaje &lt;dbl&gt; | porcentaje &lt;dbl&gt; |\n|---|---|---|---|\n| 2004 |  958820.5 |  2966.965 | 0.3094391 |\n| 2009 | 1332929.0 |  2735.351 | 0.2052136 |\n| 2014 | 1535020.7 |  3991.001 | 0.2599966 |\n| 2019 | 2292636.5 | 12353.472 | 0.5388326 |\n\n",
      "text/latex": "A tibble: 4 × 4\n\\begin{tabular}{llll}\n year & total & hospedaje & porcentaje\\\\\n <dbl> & <dbl> & <dbl> & <dbl>\\\\\n\\hline\n\t 2004 &  958820.5 &  2966.965 & 0.3094391\\\\\n\t 2009 & 1332929.0 &  2735.351 & 0.2052136\\\\\n\t 2014 & 1535020.7 &  3991.001 & 0.2599966\\\\\n\t 2019 & 2292636.5 & 12353.472 & 0.5388326\\\\\n\\end{tabular}\n",
      "text/plain": [
       "  year total     hospedaje porcentaje\n",
       "1 2004  958820.5  2966.965 0.3094391 \n",
       "2 2009 1332929.0  2735.351 0.2052136 \n",
       "3 2014 1535020.7  3991.001 0.2599966 \n",
       "4 2019 2292636.5 12353.472 0.5388326 "
      ]
     },
     "metadata": {},
     "output_type": "display_data"
    }
   ],
   "execution_count": 42
  },
  {
   "metadata": {
    "ExecuteTime": {
     "end_time": "2025-02-18T07:06:00.165771Z",
     "start_time": "2025-02-18T07:06:00.150466Z"
    }
   },
   "cell_type": "code",
   "source": [
    "#Calcular tasa de crecimiento media anual de 2009 a 2019\n",
    "tcma<-((censos$porcentaje[censos$year==2019]/censos$porcentaje[censos$year==2004])^(1/(2019-2004))-1)\n",
    "tcma"
   ],
   "id": "4f076883fc302708",
   "outputs": [
    {
     "data": {
      "text/html": [
       "0.0376683750521425"
      ],
      "text/markdown": "0.0376683750521425",
      "text/latex": "0.0376683750521425",
      "text/plain": [
       "[1] 0.03766838"
      ]
     },
     "metadata": {},
     "output_type": "display_data"
    }
   ],
   "execution_count": 43
  },
  {
   "metadata": {
    "ExecuteTime": {
     "end_time": "2025-02-18T07:06:05.435739Z",
     "start_time": "2025-02-18T07:06:05.417026Z"
    }
   },
   "cell_type": "code",
   "source": [
    "\n",
    "censos_extended<-data.frame(year=2020:2045)\n",
    "censos_extended$porcentaje <- censos$porcentaje[censos$year == 2019] *\n",
    "                                           cumprod(rep(1 + tcma, length(2020:2045)))\n",
    "censos_extended"
   ],
   "id": "3f0332800249a43f",
   "outputs": [
    {
     "data": {
      "text/html": [
       "<table class=\"dataframe\">\n",
       "<caption>A data.frame: 26 × 2</caption>\n",
       "<thead>\n",
       "\t<tr><th scope=col>year</th><th scope=col>porcentaje</th></tr>\n",
       "\t<tr><th scope=col>&lt;int&gt;</th><th scope=col>&lt;dbl&gt;</th></tr>\n",
       "</thead>\n",
       "<tbody>\n",
       "\t<tr><td>2020</td><td>0.5591295</td></tr>\n",
       "\t<tr><td>2021</td><td>0.5801910</td></tr>\n",
       "\t<tr><td>2022</td><td>0.6020459</td></tr>\n",
       "\t<tr><td>2023</td><td>0.6247240</td></tr>\n",
       "\t<tr><td>2024</td><td>0.6482563</td></tr>\n",
       "\t<tr><td>2025</td><td>0.6726751</td></tr>\n",
       "\t<tr><td>2026</td><td>0.6980136</td></tr>\n",
       "\t<tr><td>2027</td><td>0.7243067</td></tr>\n",
       "\t<tr><td>2028</td><td>0.7515901</td></tr>\n",
       "\t<tr><td>2029</td><td>0.7799013</td></tr>\n",
       "\t<tr><td>2030</td><td>0.8092789</td></tr>\n",
       "\t<tr><td>2031</td><td>0.8397631</td></tr>\n",
       "\t<tr><td>2032</td><td>0.8713956</td></tr>\n",
       "\t<tr><td>2033</td><td>0.9042197</td></tr>\n",
       "\t<tr><td>2034</td><td>0.9382802</td></tr>\n",
       "\t<tr><td>2035</td><td>0.9736237</td></tr>\n",
       "\t<tr><td>2036</td><td>1.0102985</td></tr>\n",
       "\t<tr><td>2037</td><td>1.0483548</td></tr>\n",
       "\t<tr><td>2038</td><td>1.0878446</td></tr>\n",
       "\t<tr><td>2039</td><td>1.1288220</td></tr>\n",
       "\t<tr><td>2040</td><td>1.1713429</td></tr>\n",
       "\t<tr><td>2041</td><td>1.2154654</td></tr>\n",
       "\t<tr><td>2042</td><td>1.2612501</td></tr>\n",
       "\t<tr><td>2043</td><td>1.3087593</td></tr>\n",
       "\t<tr><td>2044</td><td>1.3580581</td></tr>\n",
       "\t<tr><td>2045</td><td>1.4092140</td></tr>\n",
       "</tbody>\n",
       "</table>\n"
      ],
      "text/markdown": "\nA data.frame: 26 × 2\n\n| year &lt;int&gt; | porcentaje &lt;dbl&gt; |\n|---|---|\n| 2020 | 0.5591295 |\n| 2021 | 0.5801910 |\n| 2022 | 0.6020459 |\n| 2023 | 0.6247240 |\n| 2024 | 0.6482563 |\n| 2025 | 0.6726751 |\n| 2026 | 0.6980136 |\n| 2027 | 0.7243067 |\n| 2028 | 0.7515901 |\n| 2029 | 0.7799013 |\n| 2030 | 0.8092789 |\n| 2031 | 0.8397631 |\n| 2032 | 0.8713956 |\n| 2033 | 0.9042197 |\n| 2034 | 0.9382802 |\n| 2035 | 0.9736237 |\n| 2036 | 1.0102985 |\n| 2037 | 1.0483548 |\n| 2038 | 1.0878446 |\n| 2039 | 1.1288220 |\n| 2040 | 1.1713429 |\n| 2041 | 1.2154654 |\n| 2042 | 1.2612501 |\n| 2043 | 1.3087593 |\n| 2044 | 1.3580581 |\n| 2045 | 1.4092140 |\n\n",
      "text/latex": "A data.frame: 26 × 2\n\\begin{tabular}{ll}\n year & porcentaje\\\\\n <int> & <dbl>\\\\\n\\hline\n\t 2020 & 0.5591295\\\\\n\t 2021 & 0.5801910\\\\\n\t 2022 & 0.6020459\\\\\n\t 2023 & 0.6247240\\\\\n\t 2024 & 0.6482563\\\\\n\t 2025 & 0.6726751\\\\\n\t 2026 & 0.6980136\\\\\n\t 2027 & 0.7243067\\\\\n\t 2028 & 0.7515901\\\\\n\t 2029 & 0.7799013\\\\\n\t 2030 & 0.8092789\\\\\n\t 2031 & 0.8397631\\\\\n\t 2032 & 0.8713956\\\\\n\t 2033 & 0.9042197\\\\\n\t 2034 & 0.9382802\\\\\n\t 2035 & 0.9736237\\\\\n\t 2036 & 1.0102985\\\\\n\t 2037 & 1.0483548\\\\\n\t 2038 & 1.0878446\\\\\n\t 2039 & 1.1288220\\\\\n\t 2040 & 1.1713429\\\\\n\t 2041 & 1.2154654\\\\\n\t 2042 & 1.2612501\\\\\n\t 2043 & 1.3087593\\\\\n\t 2044 & 1.3580581\\\\\n\t 2045 & 1.4092140\\\\\n\\end{tabular}\n",
      "text/plain": [
       "   year porcentaje\n",
       "1  2020 0.5591295 \n",
       "2  2021 0.5801910 \n",
       "3  2022 0.6020459 \n",
       "4  2023 0.6247240 \n",
       "5  2024 0.6482563 \n",
       "6  2025 0.6726751 \n",
       "7  2026 0.6980136 \n",
       "8  2027 0.7243067 \n",
       "9  2028 0.7515901 \n",
       "10 2029 0.7799013 \n",
       "11 2030 0.8092789 \n",
       "12 2031 0.8397631 \n",
       "13 2032 0.8713956 \n",
       "14 2033 0.9042197 \n",
       "15 2034 0.9382802 \n",
       "16 2035 0.9736237 \n",
       "17 2036 1.0102985 \n",
       "18 2037 1.0483548 \n",
       "19 2038 1.0878446 \n",
       "20 2039 1.1288220 \n",
       "21 2040 1.1713429 \n",
       "22 2041 1.2154654 \n",
       "23 2042 1.2612501 \n",
       "24 2043 1.3087593 \n",
       "25 2044 1.3580581 \n",
       "26 2045 1.4092140 "
      ]
     },
     "metadata": {},
     "output_type": "display_data"
    }
   ],
   "execution_count": 44
  },
  {
   "metadata": {
    "ExecuteTime": {
     "end_time": "2025-02-18T07:06:10.194415Z",
     "start_time": "2025-02-18T07:06:10.176474Z"
    }
   },
   "cell_type": "code",
   "source": [
    "#Pegar datos\n",
    "censos_final<-bind_rows(censos,censos_extended)%>%\n",
    "#Filtrar 2004, 2009, 2014, 2030, 2035 y 2045\n",
    "filter(year %in% c(2004,2009,2014,2030,2035,2045))%>%\n",
    "select(year,porcentaje)\n",
    "censos_final"
   ],
   "id": "846ca8ddfb568d4f",
   "outputs": [
    {
     "data": {
      "text/html": [
       "<table class=\"dataframe\">\n",
       "<caption>A tibble: 6 × 2</caption>\n",
       "<thead>\n",
       "\t<tr><th scope=col>year</th><th scope=col>porcentaje</th></tr>\n",
       "\t<tr><th scope=col>&lt;dbl&gt;</th><th scope=col>&lt;dbl&gt;</th></tr>\n",
       "</thead>\n",
       "<tbody>\n",
       "\t<tr><td>2004</td><td>0.3094391</td></tr>\n",
       "\t<tr><td>2009</td><td>0.2052136</td></tr>\n",
       "\t<tr><td>2014</td><td>0.2599966</td></tr>\n",
       "\t<tr><td>2030</td><td>0.8092789</td></tr>\n",
       "\t<tr><td>2035</td><td>0.9736237</td></tr>\n",
       "\t<tr><td>2045</td><td>1.4092140</td></tr>\n",
       "</tbody>\n",
       "</table>\n"
      ],
      "text/markdown": "\nA tibble: 6 × 2\n\n| year &lt;dbl&gt; | porcentaje &lt;dbl&gt; |\n|---|---|\n| 2004 | 0.3094391 |\n| 2009 | 0.2052136 |\n| 2014 | 0.2599966 |\n| 2030 | 0.8092789 |\n| 2035 | 0.9736237 |\n| 2045 | 1.4092140 |\n\n",
      "text/latex": "A tibble: 6 × 2\n\\begin{tabular}{ll}\n year & porcentaje\\\\\n <dbl> & <dbl>\\\\\n\\hline\n\t 2004 & 0.3094391\\\\\n\t 2009 & 0.2052136\\\\\n\t 2014 & 0.2599966\\\\\n\t 2030 & 0.8092789\\\\\n\t 2035 & 0.9736237\\\\\n\t 2045 & 1.4092140\\\\\n\\end{tabular}\n",
      "text/plain": [
       "  year porcentaje\n",
       "1 2004 0.3094391 \n",
       "2 2009 0.2052136 \n",
       "3 2014 0.2599966 \n",
       "4 2030 0.8092789 \n",
       "5 2035 0.9736237 \n",
       "6 2045 1.4092140 "
      ]
     },
     "metadata": {},
     "output_type": "display_data"
    }
   ],
   "execution_count": 45
  },
  {
   "metadata": {
    "ExecuteTime": {
     "end_time": "2025-02-18T07:08:02.724538Z",
     "start_time": "2025-02-18T07:08:02.485909Z"
    }
   },
   "cell_type": "code",
   "source": [
    "#Graficar\n",
    "censos_final%>%\n",
    "ggplot(aes(x=year, y=porcentaje))+\n",
    "geom_line(color=\"#9f2241\",linewidth=1.5)+\n",
    "geom_vline(xintercept = c(2020), linetype = \"dashed\", color = \"red\")+\n",
    "labs(title=\"Porcentaje de valor agregado censal bruto de servicios de hospedaje respecto del total\",x=\"Año\",y=\"Porcentaje\")+theme_minimal()+\n",
    "theme(legend.position = \"none\",\n",
    "        plot.title = element_text(hjust = 0, size=20, face=\"bold\"),\n",
    "        plot.subtitle = element_text(hjust = 0, size=15, face=\"italic\"),\n",
    "        plot.caption = element_text(hjust = 0, size=10),\n",
    "        legend.text = element_text(size=18),\n",
    "        axis.text.x = element_text(angle = 90, hjust = 1, size=18),\n",
    "        legend.title = element_text(size=18),\n",
    "        text = element_text(family=\"rob\")\n",
    "        )\n",
    "\n",
    "ggsave(\"valor_agregado.png\", width = 12, height = 6, dpi = 100,bg=\"white\")"
   ],
   "id": "f1a80faa12b27e74",
   "outputs": [
    {
     "data": {
      "text/plain": [
       "plot without title"
      ],
      "image/png": "[encoded data removed]"
     },
     "metadata": {
      "image/png": {
       "width": 420,
       "height": 420
      }
     },
     "output_type": "display_data"
    }
   ],
   "execution_count": 48
  },
  {
   "metadata": {},
   "cell_type": "markdown",
   "source": "",
   "id": "9e6bed7918a23d2a"
  },
  {
   "metadata": {
    "ExecuteTime": {
     "end_time": "2025-02-18T07:08:41.084676Z",
     "start_time": "2025-02-18T07:08:41.075249Z"
    }
   },
   "cell_type": "code",
   "source": "url_gasto<-\"https://datos.cdmx.gob.mx/dataset/d99e5cd1-641e-4e53-9fb1-ef2ac039d48e/resource/315ed64e-5344-4cf9-b586-e50beda97cec/download/gasto_turismo_desglosado_2024_7.csv\"",
   "id": "75ff411e1f2d7c6c",
   "outputs": [],
   "execution_count": 49
  },
  {
   "metadata": {
    "ExecuteTime": {
     "end_time": "2025-02-18T07:08:42.385859Z",
     "start_time": "2025-02-18T07:08:41.986112Z"
    }
   },
   "cell_type": "code",
   "source": [
    "gasto<-read_csv(url_gasto,show_col_types = FALSE)%>%\n",
    "janitor::clean_names()%>%\n",
    "group_by(anio)%>%\n",
    "summarise(gasto=sum(gasto))%>%filter(anio<=2023)\n",
    "\n",
    "gasto"
   ],
   "id": "ce8950e6edc67942",
   "outputs": [
    {
     "data": {
      "text/html": [
       "<table class=\"dataframe\">\n",
       "<caption>A tibble: 26 × 2</caption>\n",
       "<thead>\n",
       "\t<tr><th scope=col>anio</th><th scope=col>gasto</th></tr>\n",
       "\t<tr><th scope=col>&lt;dbl&gt;</th><th scope=col>&lt;dbl&gt;</th></tr>\n",
       "</thead>\n",
       "<tbody>\n",
       "\t<tr><td>1998</td><td> 22881.47</td></tr>\n",
       "\t<tr><td>1999</td><td> 25528.05</td></tr>\n",
       "\t<tr><td>2000</td><td> 27520.43</td></tr>\n",
       "\t<tr><td>2001</td><td> 34374.73</td></tr>\n",
       "\t<tr><td>2002</td><td> 35416.61</td></tr>\n",
       "\t<tr><td>2003</td><td> 40296.27</td></tr>\n",
       "\t<tr><td>2004</td><td> 47623.53</td></tr>\n",
       "\t<tr><td>2005</td><td> 49736.81</td></tr>\n",
       "\t<tr><td>2006</td><td> 45936.08</td></tr>\n",
       "\t<tr><td>2007</td><td> 47405.61</td></tr>\n",
       "\t<tr><td>2008</td><td> 50797.87</td></tr>\n",
       "\t<tr><td>2009</td><td> 44371.54</td></tr>\n",
       "\t<tr><td>2010</td><td> 45451.15</td></tr>\n",
       "\t<tr><td>2011</td><td> 52083.80</td></tr>\n",
       "\t<tr><td>2012</td><td> 56154.11</td></tr>\n",
       "\t<tr><td>2013</td><td> 59090.55</td></tr>\n",
       "\t<tr><td>2014</td><td> 67874.44</td></tr>\n",
       "\t<tr><td>2015</td><td> 74375.62</td></tr>\n",
       "\t<tr><td>2016</td><td> 90023.06</td></tr>\n",
       "\t<tr><td>2017</td><td> 93191.46</td></tr>\n",
       "\t<tr><td>2018</td><td> 98824.74</td></tr>\n",
       "\t<tr><td>2019</td><td>113113.28</td></tr>\n",
       "\t<tr><td>2020</td><td> 36606.20</td></tr>\n",
       "\t<tr><td>2021</td><td> 63545.95</td></tr>\n",
       "\t<tr><td>2022</td><td>110786.11</td></tr>\n",
       "\t<tr><td>2023</td><td>132853.86</td></tr>\n",
       "</tbody>\n",
       "</table>\n"
      ],
      "text/markdown": "\nA tibble: 26 × 2\n\n| anio &lt;dbl&gt; | gasto &lt;dbl&gt; |\n|---|---|\n| 1998 |  22881.47 |\n| 1999 |  25528.05 |\n| 2000 |  27520.43 |\n| 2001 |  34374.73 |\n| 2002 |  35416.61 |\n| 2003 |  40296.27 |\n| 2004 |  47623.53 |\n| 2005 |  49736.81 |\n| 2006 |  45936.08 |\n| 2007 |  47405.61 |\n| 2008 |  50797.87 |\n| 2009 |  44371.54 |\n| 2010 |  45451.15 |\n| 2011 |  52083.80 |\n| 2012 |  56154.11 |\n| 2013 |  59090.55 |\n| 2014 |  67874.44 |\n| 2015 |  74375.62 |\n| 2016 |  90023.06 |\n| 2017 |  93191.46 |\n| 2018 |  98824.74 |\n| 2019 | 113113.28 |\n| 2020 |  36606.20 |\n| 2021 |  63545.95 |\n| 2022 | 110786.11 |\n| 2023 | 132853.86 |\n\n",
      "text/latex": "A tibble: 26 × 2\n\\begin{tabular}{ll}\n anio & gasto\\\\\n <dbl> & <dbl>\\\\\n\\hline\n\t 1998 &  22881.47\\\\\n\t 1999 &  25528.05\\\\\n\t 2000 &  27520.43\\\\\n\t 2001 &  34374.73\\\\\n\t 2002 &  35416.61\\\\\n\t 2003 &  40296.27\\\\\n\t 2004 &  47623.53\\\\\n\t 2005 &  49736.81\\\\\n\t 2006 &  45936.08\\\\\n\t 2007 &  47405.61\\\\\n\t 2008 &  50797.87\\\\\n\t 2009 &  44371.54\\\\\n\t 2010 &  45451.15\\\\\n\t 2011 &  52083.80\\\\\n\t 2012 &  56154.11\\\\\n\t 2013 &  59090.55\\\\\n\t 2014 &  67874.44\\\\\n\t 2015 &  74375.62\\\\\n\t 2016 &  90023.06\\\\\n\t 2017 &  93191.46\\\\\n\t 2018 &  98824.74\\\\\n\t 2019 & 113113.28\\\\\n\t 2020 &  36606.20\\\\\n\t 2021 &  63545.95\\\\\n\t 2022 & 110786.11\\\\\n\t 2023 & 132853.86\\\\\n\\end{tabular}\n",
      "text/plain": [
       "   anio gasto    \n",
       "1  1998  22881.47\n",
       "2  1999  25528.05\n",
       "3  2000  27520.43\n",
       "4  2001  34374.73\n",
       "5  2002  35416.61\n",
       "6  2003  40296.27\n",
       "7  2004  47623.53\n",
       "8  2005  49736.81\n",
       "9  2006  45936.08\n",
       "10 2007  47405.61\n",
       "11 2008  50797.87\n",
       "12 2009  44371.54\n",
       "13 2010  45451.15\n",
       "14 2011  52083.80\n",
       "15 2012  56154.11\n",
       "16 2013  59090.55\n",
       "17 2014  67874.44\n",
       "18 2015  74375.62\n",
       "19 2016  90023.06\n",
       "20 2017  93191.46\n",
       "21 2018  98824.74\n",
       "22 2019 113113.28\n",
       "23 2020  36606.20\n",
       "24 2021  63545.95\n",
       "25 2022 110786.11\n",
       "26 2023 132853.86"
      ]
     },
     "metadata": {},
     "output_type": "display_data"
    }
   ],
   "execution_count": 50
  },
  {
   "metadata": {
    "ExecuteTime": {
     "end_time": "2025-02-18T07:08:46.539748Z",
     "start_time": "2025-02-18T07:08:46.178180Z"
    }
   },
   "cell_type": "code",
   "source": [
    "tur<-read_csv(url_tur,show_col_types = FALSE)%>%\n",
    "#Agrupar por año\n",
    "group_by(anio)%>%\n",
    "#Sumar turistas\n",
    "summarise(turistas=sum(turistas))%>%filter(anio<=2023)\n",
    "\n",
    "\n",
    "#Pegar datos\n",
    "gasto_prom<-gasto%>%\n",
    "left_join(tur,by=\"anio\")%>%mutate(gasto_turista=(gasto*1000000)/turistas)\n",
    "\n",
    "gasto_prom"
   ],
   "id": "133eac454c457c81",
   "outputs": [
    {
     "data": {
      "text/html": [
       "<table class=\"dataframe\">\n",
       "<caption>A tibble: 26 × 4</caption>\n",
       "<thead>\n",
       "\t<tr><th scope=col>anio</th><th scope=col>gasto</th><th scope=col>turistas</th><th scope=col>gasto_turista</th></tr>\n",
       "\t<tr><th scope=col>&lt;dbl&gt;</th><th scope=col>&lt;dbl&gt;</th><th scope=col>&lt;dbl&gt;</th><th scope=col>&lt;dbl&gt;</th></tr>\n",
       "</thead>\n",
       "<tbody>\n",
       "\t<tr><td>1998</td><td> 22881.47</td><td> 7890728</td><td>2899.792</td></tr>\n",
       "\t<tr><td>1999</td><td> 25528.05</td><td> 8893087</td><td>2870.549</td></tr>\n",
       "\t<tr><td>2000</td><td> 27520.43</td><td> 9123995</td><td>3016.270</td></tr>\n",
       "\t<tr><td>2001</td><td> 34374.73</td><td>10451936</td><td>3288.839</td></tr>\n",
       "\t<tr><td>2002</td><td> 35416.61</td><td>10170832</td><td>3482.174</td></tr>\n",
       "\t<tr><td>2003</td><td> 40296.27</td><td>10438037</td><td>3860.522</td></tr>\n",
       "\t<tr><td>2004</td><td> 47623.53</td><td>11615335</td><td>4100.056</td></tr>\n",
       "\t<tr><td>2005</td><td> 49736.81</td><td>12212665</td><td>4072.560</td></tr>\n",
       "\t<tr><td>2006</td><td> 45936.08</td><td>11149161</td><td>4120.137</td></tr>\n",
       "\t<tr><td>2007</td><td> 47405.61</td><td>11057203</td><td>4287.305</td></tr>\n",
       "\t<tr><td>2008</td><td> 50797.87</td><td>11565225</td><td>4392.294</td></tr>\n",
       "\t<tr><td>2009</td><td> 44371.54</td><td> 9966507</td><td>4452.065</td></tr>\n",
       "\t<tr><td>2010</td><td> 45451.15</td><td>11074690</td><td>4104.056</td></tr>\n",
       "\t<tr><td>2011</td><td> 52083.80</td><td>12380036</td><td>4207.079</td></tr>\n",
       "\t<tr><td>2012</td><td> 56154.11</td><td>12305483</td><td>4563.341</td></tr>\n",
       "\t<tr><td>2013</td><td> 59090.55</td><td>12677217</td><td>4661.161</td></tr>\n",
       "\t<tr><td>2014</td><td> 67874.44</td><td>13095264</td><td>5183.129</td></tr>\n",
       "\t<tr><td>2015</td><td> 74375.62</td><td>13125008</td><td>5666.710</td></tr>\n",
       "\t<tr><td>2016</td><td> 90023.06</td><td>13582755</td><td>6627.747</td></tr>\n",
       "\t<tr><td>2017</td><td> 93191.46</td><td>13746859</td><td>6779.109</td></tr>\n",
       "\t<tr><td>2018</td><td> 98824.74</td><td>13982209</td><td>7067.892</td></tr>\n",
       "\t<tr><td>2019</td><td>113113.28</td><td>13905083</td><td>8134.671</td></tr>\n",
       "\t<tr><td>2020</td><td> 36606.20</td><td> 4574178</td><td>8002.792</td></tr>\n",
       "\t<tr><td>2021</td><td> 63545.95</td><td> 6864129</td><td>9257.686</td></tr>\n",
       "\t<tr><td>2022</td><td>110786.11</td><td>11900041</td><td>9309.725</td></tr>\n",
       "\t<tr><td>2023</td><td>132853.86</td><td>14403349</td><td>9223.817</td></tr>\n",
       "</tbody>\n",
       "</table>\n"
      ],
      "text/markdown": "\nA tibble: 26 × 4\n\n| anio &lt;dbl&gt; | gasto &lt;dbl&gt; | turistas &lt;dbl&gt; | gasto_turista &lt;dbl&gt; |\n|---|---|---|---|\n| 1998 |  22881.47 |  7890728 | 2899.792 |\n| 1999 |  25528.05 |  8893087 | 2870.549 |\n| 2000 |  27520.43 |  9123995 | 3016.270 |\n| 2001 |  34374.73 | 10451936 | 3288.839 |\n| 2002 |  35416.61 | 10170832 | 3482.174 |\n| 2003 |  40296.27 | 10438037 | 3860.522 |\n| 2004 |  47623.53 | 11615335 | 4100.056 |\n| 2005 |  49736.81 | 12212665 | 4072.560 |\n| 2006 |  45936.08 | 11149161 | 4120.137 |\n| 2007 |  47405.61 | 11057203 | 4287.305 |\n| 2008 |  50797.87 | 11565225 | 4392.294 |\n| 2009 |  44371.54 |  9966507 | 4452.065 |\n| 2010 |  45451.15 | 11074690 | 4104.056 |\n| 2011 |  52083.80 | 12380036 | 4207.079 |\n| 2012 |  56154.11 | 12305483 | 4563.341 |\n| 2013 |  59090.55 | 12677217 | 4661.161 |\n| 2014 |  67874.44 | 13095264 | 5183.129 |\n| 2015 |  74375.62 | 13125008 | 5666.710 |\n| 2016 |  90023.06 | 13582755 | 6627.747 |\n| 2017 |  93191.46 | 13746859 | 6779.109 |\n| 2018 |  98824.74 | 13982209 | 7067.892 |\n| 2019 | 113113.28 | 13905083 | 8134.671 |\n| 2020 |  36606.20 |  4574178 | 8002.792 |\n| 2021 |  63545.95 |  6864129 | 9257.686 |\n| 2022 | 110786.11 | 11900041 | 9309.725 |\n| 2023 | 132853.86 | 14403349 | 9223.817 |\n\n",
      "text/latex": "A tibble: 26 × 4\n\\begin{tabular}{llll}\n anio & gasto & turistas & gasto\\_turista\\\\\n <dbl> & <dbl> & <dbl> & <dbl>\\\\\n\\hline\n\t 1998 &  22881.47 &  7890728 & 2899.792\\\\\n\t 1999 &  25528.05 &  8893087 & 2870.549\\\\\n\t 2000 &  27520.43 &  9123995 & 3016.270\\\\\n\t 2001 &  34374.73 & 10451936 & 3288.839\\\\\n\t 2002 &  35416.61 & 10170832 & 3482.174\\\\\n\t 2003 &  40296.27 & 10438037 & 3860.522\\\\\n\t 2004 &  47623.53 & 11615335 & 4100.056\\\\\n\t 2005 &  49736.81 & 12212665 & 4072.560\\\\\n\t 2006 &  45936.08 & 11149161 & 4120.137\\\\\n\t 2007 &  47405.61 & 11057203 & 4287.305\\\\\n\t 2008 &  50797.87 & 11565225 & 4392.294\\\\\n\t 2009 &  44371.54 &  9966507 & 4452.065\\\\\n\t 2010 &  45451.15 & 11074690 & 4104.056\\\\\n\t 2011 &  52083.80 & 12380036 & 4207.079\\\\\n\t 2012 &  56154.11 & 12305483 & 4563.341\\\\\n\t 2013 &  59090.55 & 12677217 & 4661.161\\\\\n\t 2014 &  67874.44 & 13095264 & 5183.129\\\\\n\t 2015 &  74375.62 & 13125008 & 5666.710\\\\\n\t 2016 &  90023.06 & 13582755 & 6627.747\\\\\n\t 2017 &  93191.46 & 13746859 & 6779.109\\\\\n\t 2018 &  98824.74 & 13982209 & 7067.892\\\\\n\t 2019 & 113113.28 & 13905083 & 8134.671\\\\\n\t 2020 &  36606.20 &  4574178 & 8002.792\\\\\n\t 2021 &  63545.95 &  6864129 & 9257.686\\\\\n\t 2022 & 110786.11 & 11900041 & 9309.725\\\\\n\t 2023 & 132853.86 & 14403349 & 9223.817\\\\\n\\end{tabular}\n",
      "text/plain": [
       "   anio gasto     turistas gasto_turista\n",
       "1  1998  22881.47  7890728 2899.792     \n",
       "2  1999  25528.05  8893087 2870.549     \n",
       "3  2000  27520.43  9123995 3016.270     \n",
       "4  2001  34374.73 10451936 3288.839     \n",
       "5  2002  35416.61 10170832 3482.174     \n",
       "6  2003  40296.27 10438037 3860.522     \n",
       "7  2004  47623.53 11615335 4100.056     \n",
       "8  2005  49736.81 12212665 4072.560     \n",
       "9  2006  45936.08 11149161 4120.137     \n",
       "10 2007  47405.61 11057203 4287.305     \n",
       "11 2008  50797.87 11565225 4392.294     \n",
       "12 2009  44371.54  9966507 4452.065     \n",
       "13 2010  45451.15 11074690 4104.056     \n",
       "14 2011  52083.80 12380036 4207.079     \n",
       "15 2012  56154.11 12305483 4563.341     \n",
       "16 2013  59090.55 12677217 4661.161     \n",
       "17 2014  67874.44 13095264 5183.129     \n",
       "18 2015  74375.62 13125008 5666.710     \n",
       "19 2016  90023.06 13582755 6627.747     \n",
       "20 2017  93191.46 13746859 6779.109     \n",
       "21 2018  98824.74 13982209 7067.892     \n",
       "22 2019 113113.28 13905083 8134.671     \n",
       "23 2020  36606.20  4574178 8002.792     \n",
       "24 2021  63545.95  6864129 9257.686     \n",
       "25 2022 110786.11 11900041 9309.725     \n",
       "26 2023 132853.86 14403349 9223.817     "
      ]
     },
     "metadata": {},
     "output_type": "display_data"
    }
   ],
   "execution_count": 51
  },
  {
   "metadata": {
    "ExecuteTime": {
     "end_time": "2025-02-18T07:08:50.875036Z",
     "start_time": "2025-02-18T07:08:50.861835Z"
    }
   },
   "cell_type": "code",
   "source": [
    "#Regresión lineal\n",
    "\n",
    "modelo_gasto<-lm(gasto_turista~anio,data=gasto_prom)\n",
    "modelo_gasto%>%summary()"
   ],
   "id": "7457f5a94589bd49",
   "outputs": [
    {
     "data": {
      "text/plain": [
       "\n",
       "Call:\n",
       "lm(formula = gasto_turista ~ anio, data = gasto_prom)\n",
       "\n",
       "Residuals:\n",
       "     Min       1Q   Median       3Q      Max \n",
       "-1263.93  -414.29    65.98   458.46  1311.54 \n",
       "\n",
       "Coefficients:\n",
       "              Estimate Std. Error t value Pr(>|t|)    \n",
       "(Intercept) -502620.90   38905.30  -12.92 2.67e-12 ***\n",
       "anio            252.63      19.35   13.05 2.14e-12 ***\n",
       "---\n",
       "Signif. codes:  0 '***' 0.001 '**' 0.01 '*' 0.05 '.' 0.1 ' ' 1\n",
       "\n",
       "Residual standard error: 740 on 24 degrees of freedom\n",
       "Multiple R-squared:  0.8766,\tAdjusted R-squared:  0.8714 \n",
       "F-statistic: 170.4 on 1 and 24 DF,  p-value: 2.142e-12\n"
      ]
     },
     "metadata": {},
     "output_type": "display_data"
    }
   ],
   "execution_count": 52
  },
  {
   "metadata": {
    "ExecuteTime": {
     "end_time": "2025-02-18T07:08:53.581105Z",
     "start_time": "2025-02-18T07:08:53.563055Z"
    }
   },
   "cell_type": "code",
   "source": [
    "#Hacer predicción de gasto turístico para 2024 a 2045\n",
    "prediccion_gasto<-data.frame(anio=2024:2045)\n",
    "prediccion_gasto$gasto_turista<-predict(modelo_gasto,newdata=prediccion_gasto)\n",
    "prediccion_gasto"
   ],
   "id": "fbe74e5db7d2b0b9",
   "outputs": [
    {
     "data": {
      "text/html": [
       "<table class=\"dataframe\">\n",
       "<caption>A data.frame: 22 × 2</caption>\n",
       "<thead>\n",
       "\t<tr><th scope=col>anio</th><th scope=col>gasto_turista</th></tr>\n",
       "\t<tr><th scope=col>&lt;int&gt;</th><th scope=col>&lt;dbl&gt;</th></tr>\n",
       "</thead>\n",
       "<tbody>\n",
       "\t<tr><td>2024</td><td> 8704.036</td></tr>\n",
       "\t<tr><td>2025</td><td> 8956.667</td></tr>\n",
       "\t<tr><td>2026</td><td> 9209.297</td></tr>\n",
       "\t<tr><td>2027</td><td> 9461.928</td></tr>\n",
       "\t<tr><td>2028</td><td> 9714.559</td></tr>\n",
       "\t<tr><td>2029</td><td> 9967.190</td></tr>\n",
       "\t<tr><td>2030</td><td>10219.821</td></tr>\n",
       "\t<tr><td>2031</td><td>10472.452</td></tr>\n",
       "\t<tr><td>2032</td><td>10725.083</td></tr>\n",
       "\t<tr><td>2033</td><td>10977.714</td></tr>\n",
       "\t<tr><td>2034</td><td>11230.345</td></tr>\n",
       "\t<tr><td>2035</td><td>11482.975</td></tr>\n",
       "\t<tr><td>2036</td><td>11735.606</td></tr>\n",
       "\t<tr><td>2037</td><td>11988.237</td></tr>\n",
       "\t<tr><td>2038</td><td>12240.868</td></tr>\n",
       "\t<tr><td>2039</td><td>12493.499</td></tr>\n",
       "\t<tr><td>2040</td><td>12746.130</td></tr>\n",
       "\t<tr><td>2041</td><td>12998.761</td></tr>\n",
       "\t<tr><td>2042</td><td>13251.392</td></tr>\n",
       "\t<tr><td>2043</td><td>13504.023</td></tr>\n",
       "\t<tr><td>2044</td><td>13756.654</td></tr>\n",
       "\t<tr><td>2045</td><td>14009.284</td></tr>\n",
       "</tbody>\n",
       "</table>\n"
      ],
      "text/markdown": "\nA data.frame: 22 × 2\n\n| anio &lt;int&gt; | gasto_turista &lt;dbl&gt; |\n|---|---|\n| 2024 |  8704.036 |\n| 2025 |  8956.667 |\n| 2026 |  9209.297 |\n| 2027 |  9461.928 |\n| 2028 |  9714.559 |\n| 2029 |  9967.190 |\n| 2030 | 10219.821 |\n| 2031 | 10472.452 |\n| 2032 | 10725.083 |\n| 2033 | 10977.714 |\n| 2034 | 11230.345 |\n| 2035 | 11482.975 |\n| 2036 | 11735.606 |\n| 2037 | 11988.237 |\n| 2038 | 12240.868 |\n| 2039 | 12493.499 |\n| 2040 | 12746.130 |\n| 2041 | 12998.761 |\n| 2042 | 13251.392 |\n| 2043 | 13504.023 |\n| 2044 | 13756.654 |\n| 2045 | 14009.284 |\n\n",
      "text/latex": "A data.frame: 22 × 2\n\\begin{tabular}{ll}\n anio & gasto\\_turista\\\\\n <int> & <dbl>\\\\\n\\hline\n\t 2024 &  8704.036\\\\\n\t 2025 &  8956.667\\\\\n\t 2026 &  9209.297\\\\\n\t 2027 &  9461.928\\\\\n\t 2028 &  9714.559\\\\\n\t 2029 &  9967.190\\\\\n\t 2030 & 10219.821\\\\\n\t 2031 & 10472.452\\\\\n\t 2032 & 10725.083\\\\\n\t 2033 & 10977.714\\\\\n\t 2034 & 11230.345\\\\\n\t 2035 & 11482.975\\\\\n\t 2036 & 11735.606\\\\\n\t 2037 & 11988.237\\\\\n\t 2038 & 12240.868\\\\\n\t 2039 & 12493.499\\\\\n\t 2040 & 12746.130\\\\\n\t 2041 & 12998.761\\\\\n\t 2042 & 13251.392\\\\\n\t 2043 & 13504.023\\\\\n\t 2044 & 13756.654\\\\\n\t 2045 & 14009.284\\\\\n\\end{tabular}\n",
      "text/plain": [
       "   anio gasto_turista\n",
       "1  2024  8704.036    \n",
       "2  2025  8956.667    \n",
       "3  2026  9209.297    \n",
       "4  2027  9461.928    \n",
       "5  2028  9714.559    \n",
       "6  2029  9967.190    \n",
       "7  2030 10219.821    \n",
       "8  2031 10472.452    \n",
       "9  2032 10725.083    \n",
       "10 2033 10977.714    \n",
       "11 2034 11230.345    \n",
       "12 2035 11482.975    \n",
       "13 2036 11735.606    \n",
       "14 2037 11988.237    \n",
       "15 2038 12240.868    \n",
       "16 2039 12493.499    \n",
       "17 2040 12746.130    \n",
       "18 2041 12998.761    \n",
       "19 2042 13251.392    \n",
       "20 2043 13504.023    \n",
       "21 2044 13756.654    \n",
       "22 2045 14009.284    "
      ]
     },
     "metadata": {},
     "output_type": "display_data"
    }
   ],
   "execution_count": 53
  },
  {
   "metadata": {
    "ExecuteTime": {
     "end_time": "2025-02-18T07:09:00.007658Z",
     "start_time": "2025-02-18T07:08:59.817589Z"
    }
   },
   "cell_type": "code",
   "source": [
    "#Pegar datos\n",
    "gasto_final<-bind_rows(gasto_prom,prediccion_gasto)\n",
    "#Graficar\n",
    "gasto_final%>%\n",
    "ggplot(aes(x=anio, y=gasto_turista))+\n",
    "geom_line(color=\"#9f2241\",linewidth=1.5)+\n",
    "geom_vline(xintercept = c(2024), linetype = \"dashed\", color = \"red\")+\n",
    "labs(title=\"Gasto promedio realizado por turistas en la Ciudad de México\",x=\"Año\",y=\"Gasto\")+\n",
    "theme_minimal()+\n",
    "    theme(\n",
    "      plot.title = element_text(hjust = 0, size=20, face=\"bold\"),\n",
    "      plot.subtitle = element_text(hjust = 0, size=15, face=\"italic\"),\n",
    "      plot.caption = element_text(hjust = 0, size=10),\n",
    "      legend.position = \"None\",\n",
    "      legend.text = element_text(size=18),\n",
    "      axis.text.x = element_text(angle = 90, hjust = 1, size=18),\n",
    "      legend.title = element_text(size=18),\n",
    "      text = element_text(family=\"rob\")\n",
    "    )\n",
    "ggsave(\"gasto_turistico.png\", width = 10, height = 6, dpi = 100,bg=\"white\")\n"
   ],
   "id": "23b4dfde2e503b94",
   "outputs": [
    {
     "data": {
      "text/plain": [
       "plot without title"
      ],
      "image/png": "[encoded data removed]"
     },
     "metadata": {
      "image/png": {
       "width": 420,
       "height": 420
      }
     },
     "output_type": "display_data"
    }
   ],
   "execution_count": 54
  }
 ],
 "metadata": {
  "kernelspec": {
   "name": "ir",
   "language": "R",
   "display_name": "R"
  }
 },
 "nbformat": 4,
 "nbformat_minor": 5
}
