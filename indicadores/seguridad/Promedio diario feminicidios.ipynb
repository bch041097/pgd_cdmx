{
 "cells": [
  {
   "cell_type": "code",
   "execution_count": 132,
   "metadata": {
    "vscode": {
     "languageId": "r"
    }
   },
   "outputs": [],
   "source": [
    "if(! require('pacman')) install.packages('pacman')\n",
    "pacman::p_load(tidyverse, srvyr, janitor, stringr, readxl)"
   ]
  },
  {
   "cell_type": "code",
   "execution_count": 133,
   "metadata": {
    "vscode": {
     "languageId": "r"
    }
   },
   "outputs": [],
   "source": [
    "delitos <- read_excel('D:/Escritorio/VSC/Estatal_victimas_15_25.xlsx') %>%\n",
    "clean_names()"
   ]
  },
  {
   "cell_type": "code",
   "execution_count": 134,
   "metadata": {
    "vscode": {
     "languageId": "r"
    }
   },
   "outputs": [
    {
     "data": {
      "text/html": [
       "<table class=\"dataframe\">\n",
       "<caption>A tibble: 6 × 21</caption>\n",
       "<thead>\n",
       "\t<tr><th scope=col>ano</th><th scope=col>clave_ent</th><th scope=col>entidad</th><th scope=col>bien_juridico_afectado</th><th scope=col>tipo_de_delito</th><th scope=col>subtipo_de_delito</th><th scope=col>modalidad</th><th scope=col>sexo</th><th scope=col>rango_de_edad</th><th scope=col>enero</th><th scope=col>⋯</th><th scope=col>marzo</th><th scope=col>abril</th><th scope=col>mayo</th><th scope=col>junio</th><th scope=col>julio</th><th scope=col>agosto</th><th scope=col>septiembre</th><th scope=col>octubre</th><th scope=col>noviembre</th><th scope=col>diciembre</th></tr>\n",
       "\t<tr><th scope=col>&lt;dbl&gt;</th><th scope=col>&lt;dbl&gt;</th><th scope=col>&lt;chr&gt;</th><th scope=col>&lt;chr&gt;</th><th scope=col>&lt;chr&gt;</th><th scope=col>&lt;chr&gt;</th><th scope=col>&lt;chr&gt;</th><th scope=col>&lt;chr&gt;</th><th scope=col>&lt;chr&gt;</th><th scope=col>&lt;dbl&gt;</th><th scope=col>⋯</th><th scope=col>&lt;dbl&gt;</th><th scope=col>&lt;dbl&gt;</th><th scope=col>&lt;dbl&gt;</th><th scope=col>&lt;dbl&gt;</th><th scope=col>&lt;dbl&gt;</th><th scope=col>&lt;dbl&gt;</th><th scope=col>&lt;dbl&gt;</th><th scope=col>&lt;dbl&gt;</th><th scope=col>&lt;dbl&gt;</th><th scope=col>&lt;dbl&gt;</th></tr>\n",
       "</thead>\n",
       "<tbody>\n",
       "\t<tr><td>2015</td><td>1</td><td>Aguascalientes</td><td>La vida y la Integridad corporal</td><td>Homicidio</td><td>Homicidio doloso </td><td>Con arma de fuego</td><td>Mujer</td><td>Menores de edad (0-17)</td><td>0</td><td>⋯</td><td>0</td><td>0</td><td>0</td><td>0</td><td>0</td><td>0</td><td>0</td><td>0</td><td>0</td><td>0</td></tr>\n",
       "\t<tr><td>2015</td><td>1</td><td>Aguascalientes</td><td>La vida y la Integridad corporal</td><td>Homicidio</td><td>Homicidio doloso </td><td>Con arma blanca  </td><td>Mujer</td><td>Menores de edad (0-17)</td><td>0</td><td>⋯</td><td>0</td><td>0</td><td>0</td><td>0</td><td>0</td><td>0</td><td>0</td><td>0</td><td>0</td><td>0</td></tr>\n",
       "\t<tr><td>2015</td><td>1</td><td>Aguascalientes</td><td>La vida y la Integridad corporal</td><td>Homicidio</td><td>Homicidio doloso </td><td>Con otro elemento</td><td>Mujer</td><td>Menores de edad (0-17)</td><td>0</td><td>⋯</td><td>0</td><td>0</td><td>1</td><td>0</td><td>0</td><td>1</td><td>0</td><td>0</td><td>0</td><td>0</td></tr>\n",
       "\t<tr><td>2015</td><td>1</td><td>Aguascalientes</td><td>La vida y la Integridad corporal</td><td>Homicidio</td><td>Homicidio doloso </td><td>No especificado  </td><td>Mujer</td><td>Menores de edad (0-17)</td><td>0</td><td>⋯</td><td>0</td><td>0</td><td>0</td><td>0</td><td>0</td><td>0</td><td>0</td><td>0</td><td>0</td><td>0</td></tr>\n",
       "\t<tr><td>2015</td><td>1</td><td>Aguascalientes</td><td>La vida y la Integridad corporal</td><td>Homicidio</td><td>Homicidio culposo</td><td>Con arma de fuego</td><td>Mujer</td><td>Menores de edad (0-17)</td><td>0</td><td>⋯</td><td>0</td><td>0</td><td>0</td><td>0</td><td>0</td><td>0</td><td>0</td><td>0</td><td>0</td><td>0</td></tr>\n",
       "\t<tr><td>2015</td><td>1</td><td>Aguascalientes</td><td>La vida y la Integridad corporal</td><td>Homicidio</td><td>Homicidio culposo</td><td>Con arma blanca  </td><td>Mujer</td><td>Menores de edad (0-17)</td><td>0</td><td>⋯</td><td>0</td><td>0</td><td>0</td><td>0</td><td>0</td><td>0</td><td>0</td><td>0</td><td>0</td><td>0</td></tr>\n",
       "</tbody>\n",
       "</table>\n"
      ],
      "text/latex": [
       "A tibble: 6 × 21\n",
       "\\begin{tabular}{lllllllllllllllllllll}\n",
       " ano & clave\\_ent & entidad & bien\\_juridico\\_afectado & tipo\\_de\\_delito & subtipo\\_de\\_delito & modalidad & sexo & rango\\_de\\_edad & enero & ⋯ & marzo & abril & mayo & junio & julio & agosto & septiembre & octubre & noviembre & diciembre\\\\\n",
       " <dbl> & <dbl> & <chr> & <chr> & <chr> & <chr> & <chr> & <chr> & <chr> & <dbl> & ⋯ & <dbl> & <dbl> & <dbl> & <dbl> & <dbl> & <dbl> & <dbl> & <dbl> & <dbl> & <dbl>\\\\\n",
       "\\hline\n",
       "\t 2015 & 1 & Aguascalientes & La vida y la Integridad corporal & Homicidio & Homicidio doloso  & Con arma de fuego & Mujer & Menores de edad (0-17) & 0 & ⋯ & 0 & 0 & 0 & 0 & 0 & 0 & 0 & 0 & 0 & 0\\\\\n",
       "\t 2015 & 1 & Aguascalientes & La vida y la Integridad corporal & Homicidio & Homicidio doloso  & Con arma blanca   & Mujer & Menores de edad (0-17) & 0 & ⋯ & 0 & 0 & 0 & 0 & 0 & 0 & 0 & 0 & 0 & 0\\\\\n",
       "\t 2015 & 1 & Aguascalientes & La vida y la Integridad corporal & Homicidio & Homicidio doloso  & Con otro elemento & Mujer & Menores de edad (0-17) & 0 & ⋯ & 0 & 0 & 1 & 0 & 0 & 1 & 0 & 0 & 0 & 0\\\\\n",
       "\t 2015 & 1 & Aguascalientes & La vida y la Integridad corporal & Homicidio & Homicidio doloso  & No especificado   & Mujer & Menores de edad (0-17) & 0 & ⋯ & 0 & 0 & 0 & 0 & 0 & 0 & 0 & 0 & 0 & 0\\\\\n",
       "\t 2015 & 1 & Aguascalientes & La vida y la Integridad corporal & Homicidio & Homicidio culposo & Con arma de fuego & Mujer & Menores de edad (0-17) & 0 & ⋯ & 0 & 0 & 0 & 0 & 0 & 0 & 0 & 0 & 0 & 0\\\\\n",
       "\t 2015 & 1 & Aguascalientes & La vida y la Integridad corporal & Homicidio & Homicidio culposo & Con arma blanca   & Mujer & Menores de edad (0-17) & 0 & ⋯ & 0 & 0 & 0 & 0 & 0 & 0 & 0 & 0 & 0 & 0\\\\\n",
       "\\end{tabular}\n"
      ],
      "text/markdown": [
       "\n",
       "A tibble: 6 × 21\n",
       "\n",
       "| ano &lt;dbl&gt; | clave_ent &lt;dbl&gt; | entidad &lt;chr&gt; | bien_juridico_afectado &lt;chr&gt; | tipo_de_delito &lt;chr&gt; | subtipo_de_delito &lt;chr&gt; | modalidad &lt;chr&gt; | sexo &lt;chr&gt; | rango_de_edad &lt;chr&gt; | enero &lt;dbl&gt; | ⋯ ⋯ | marzo &lt;dbl&gt; | abril &lt;dbl&gt; | mayo &lt;dbl&gt; | junio &lt;dbl&gt; | julio &lt;dbl&gt; | agosto &lt;dbl&gt; | septiembre &lt;dbl&gt; | octubre &lt;dbl&gt; | noviembre &lt;dbl&gt; | diciembre &lt;dbl&gt; |\n",
       "|---|---|---|---|---|---|---|---|---|---|---|---|---|---|---|---|---|---|---|---|---|\n",
       "| 2015 | 1 | Aguascalientes | La vida y la Integridad corporal | Homicidio | Homicidio doloso  | Con arma de fuego | Mujer | Menores de edad (0-17) | 0 | ⋯ | 0 | 0 | 0 | 0 | 0 | 0 | 0 | 0 | 0 | 0 |\n",
       "| 2015 | 1 | Aguascalientes | La vida y la Integridad corporal | Homicidio | Homicidio doloso  | Con arma blanca   | Mujer | Menores de edad (0-17) | 0 | ⋯ | 0 | 0 | 0 | 0 | 0 | 0 | 0 | 0 | 0 | 0 |\n",
       "| 2015 | 1 | Aguascalientes | La vida y la Integridad corporal | Homicidio | Homicidio doloso  | Con otro elemento | Mujer | Menores de edad (0-17) | 0 | ⋯ | 0 | 0 | 1 | 0 | 0 | 1 | 0 | 0 | 0 | 0 |\n",
       "| 2015 | 1 | Aguascalientes | La vida y la Integridad corporal | Homicidio | Homicidio doloso  | No especificado   | Mujer | Menores de edad (0-17) | 0 | ⋯ | 0 | 0 | 0 | 0 | 0 | 0 | 0 | 0 | 0 | 0 |\n",
       "| 2015 | 1 | Aguascalientes | La vida y la Integridad corporal | Homicidio | Homicidio culposo | Con arma de fuego | Mujer | Menores de edad (0-17) | 0 | ⋯ | 0 | 0 | 0 | 0 | 0 | 0 | 0 | 0 | 0 | 0 |\n",
       "| 2015 | 1 | Aguascalientes | La vida y la Integridad corporal | Homicidio | Homicidio culposo | Con arma blanca   | Mujer | Menores de edad (0-17) | 0 | ⋯ | 0 | 0 | 0 | 0 | 0 | 0 | 0 | 0 | 0 | 0 |\n",
       "\n"
      ],
      "text/plain": [
       "  ano  clave_ent entidad        bien_juridico_afectado           tipo_de_delito\n",
       "1 2015 1         Aguascalientes La vida y la Integridad corporal Homicidio     \n",
       "2 2015 1         Aguascalientes La vida y la Integridad corporal Homicidio     \n",
       "3 2015 1         Aguascalientes La vida y la Integridad corporal Homicidio     \n",
       "4 2015 1         Aguascalientes La vida y la Integridad corporal Homicidio     \n",
       "5 2015 1         Aguascalientes La vida y la Integridad corporal Homicidio     \n",
       "6 2015 1         Aguascalientes La vida y la Integridad corporal Homicidio     \n",
       "  subtipo_de_delito modalidad         sexo  rango_de_edad          enero ⋯\n",
       "1 Homicidio doloso  Con arma de fuego Mujer Menores de edad (0-17) 0     ⋯\n",
       "2 Homicidio doloso  Con arma blanca   Mujer Menores de edad (0-17) 0     ⋯\n",
       "3 Homicidio doloso  Con otro elemento Mujer Menores de edad (0-17) 0     ⋯\n",
       "4 Homicidio doloso  No especificado   Mujer Menores de edad (0-17) 0     ⋯\n",
       "5 Homicidio culposo Con arma de fuego Mujer Menores de edad (0-17) 0     ⋯\n",
       "6 Homicidio culposo Con arma blanca   Mujer Menores de edad (0-17) 0     ⋯\n",
       "  marzo abril mayo junio julio agosto septiembre octubre noviembre diciembre\n",
       "1 0     0     0    0     0     0      0          0       0         0        \n",
       "2 0     0     0    0     0     0      0          0       0         0        \n",
       "3 0     0     1    0     0     1      0          0       0         0        \n",
       "4 0     0     0    0     0     0      0          0       0         0        \n",
       "5 0     0     0    0     0     0      0          0       0         0        \n",
       "6 0     0     0    0     0     0      0          0       0         0        "
      ]
     },
     "metadata": {},
     "output_type": "display_data"
    }
   ],
   "source": [
    "head(delitos)"
   ]
  },
  {
   "cell_type": "code",
   "execution_count": 147,
   "metadata": {
    "vscode": {
     "languageId": "r"
    }
   },
   "outputs": [],
   "source": [
    "meses <- c('enero', 'febrero', 'marzo', 'abril', 'mayo', 'junio', \n",
    "           'julio', 'agosto', 'septiembre', 'octubre', 'noviembre', 'diciembre')"
   ]
  },
  {
   "cell_type": "code",
   "execution_count": 159,
   "metadata": {
    "vscode": {
     "languageId": "r"
    }
   },
   "outputs": [
    {
     "data": {
      "text/html": [
       "<table class=\"dataframe\">\n",
       "<caption>A tibble: 10 × 3</caption>\n",
       "<thead>\n",
       "\t<tr><th scope=col>ano</th><th scope=col>victimas</th><th scope=col>prom_diario</th></tr>\n",
       "\t<tr><th scope=col>&lt;dbl&gt;</th><th scope=col>&lt;dbl&gt;</th><th scope=col>&lt;dbl&gt;</th></tr>\n",
       "</thead>\n",
       "<tbody>\n",
       "\t<tr><td>2015</td><td>59</td><td>0.1616438</td></tr>\n",
       "\t<tr><td>2016</td><td>47</td><td>0.1284153</td></tr>\n",
       "\t<tr><td>2017</td><td>39</td><td>0.1068493</td></tr>\n",
       "\t<tr><td>2018</td><td>47</td><td>0.1287671</td></tr>\n",
       "\t<tr><td>2019</td><td>72</td><td>0.1972603</td></tr>\n",
       "\t<tr><td>2020</td><td>82</td><td>0.2240437</td></tr>\n",
       "\t<tr><td>2021</td><td>72</td><td>0.1972603</td></tr>\n",
       "\t<tr><td>2022</td><td>76</td><td>0.2082192</td></tr>\n",
       "\t<tr><td>2023</td><td>61</td><td>0.1671233</td></tr>\n",
       "\t<tr><td>2024</td><td>68</td><td>0.1857923</td></tr>\n",
       "</tbody>\n",
       "</table>\n"
      ],
      "text/latex": [
       "A tibble: 10 × 3\n",
       "\\begin{tabular}{lll}\n",
       " ano & victimas & prom\\_diario\\\\\n",
       " <dbl> & <dbl> & <dbl>\\\\\n",
       "\\hline\n",
       "\t 2015 & 59 & 0.1616438\\\\\n",
       "\t 2016 & 47 & 0.1284153\\\\\n",
       "\t 2017 & 39 & 0.1068493\\\\\n",
       "\t 2018 & 47 & 0.1287671\\\\\n",
       "\t 2019 & 72 & 0.1972603\\\\\n",
       "\t 2020 & 82 & 0.2240437\\\\\n",
       "\t 2021 & 72 & 0.1972603\\\\\n",
       "\t 2022 & 76 & 0.2082192\\\\\n",
       "\t 2023 & 61 & 0.1671233\\\\\n",
       "\t 2024 & 68 & 0.1857923\\\\\n",
       "\\end{tabular}\n"
      ],
      "text/markdown": [
       "\n",
       "A tibble: 10 × 3\n",
       "\n",
       "| ano &lt;dbl&gt; | victimas &lt;dbl&gt; | prom_diario &lt;dbl&gt; |\n",
       "|---|---|---|\n",
       "| 2015 | 59 | 0.1616438 |\n",
       "| 2016 | 47 | 0.1284153 |\n",
       "| 2017 | 39 | 0.1068493 |\n",
       "| 2018 | 47 | 0.1287671 |\n",
       "| 2019 | 72 | 0.1972603 |\n",
       "| 2020 | 82 | 0.2240437 |\n",
       "| 2021 | 72 | 0.1972603 |\n",
       "| 2022 | 76 | 0.2082192 |\n",
       "| 2023 | 61 | 0.1671233 |\n",
       "| 2024 | 68 | 0.1857923 |\n",
       "\n"
      ],
      "text/plain": [
       "   ano  victimas prom_diario\n",
       "1  2015 59       0.1616438  \n",
       "2  2016 47       0.1284153  \n",
       "3  2017 39       0.1068493  \n",
       "4  2018 47       0.1287671  \n",
       "5  2019 72       0.1972603  \n",
       "6  2020 82       0.2240437  \n",
       "7  2021 72       0.1972603  \n",
       "8  2022 76       0.2082192  \n",
       "9  2023 61       0.1671233  \n",
       "10 2024 68       0.1857923  "
      ]
     },
     "metadata": {},
     "output_type": "display_data"
    }
   ],
   "source": [
    "feminicidios_cdmx <- delitos %>%\n",
    "  filter( \n",
    "         clave_ent == 9, \n",
    "         tipo_de_delito == 'Feminicidio')%>%\n",
    "         rowwise() %>%\n",
    "  mutate(total_fila = sum(c_across(meses), na.rm = TRUE))%>%\n",
    "group_by(ano) %>%  \n",
    "  summarise(victimas = sum(total_fila, na.rm = TRUE))%>%\n",
    "mutate(dias_en_ano = if_else(leap_year(ano), 366, 365),  # Verifica si es bisiesto\n",
    "         prom_diario = victimas / dias_en_ano)%>%\n",
    "       select(ano, victimas, prom_diario)%>%\n",
    "       filter(ano<2025)\n",
    "feminicidios_cdmx"
   ]
  },
  {
   "cell_type": "code",
   "execution_count": null,
   "metadata": {
    "vscode": {
     "languageId": "r"
    }
   },
   "outputs": [
    {
     "name": "stderr",
     "output_type": "stream",
     "text": [
      "\u001b[1m\u001b[22m`geom_smooth()` using formula = 'y ~ x'\n"
     ]
    },
    {
     "data": {
      "image/png": "[encoded data removed]",
      "text/plain": [
       "plot without title"
      ]
     },
     "metadata": {
      "image/png": {
       "height": 420,
       "width": 420
      }
     },
     "output_type": "display_data"
    }
   ],
   "source": [
    "ggplot(data = feminicidios_cdmx, aes(x = ano)) +\n",
    "  geom_line(aes(y = prom_diario), color = \"#9F2241\", size = 1) +  \n",
    "  #geom_point(aes(y = total_casos), color = \"#909090\", size = 3) +\n",
    "  labs(title = 'Promedio diario de feminicidios en la Ciudad de México, 2015-2024',\n",
    "       x = 'Año',\n",
    "       y = 'Promedio diario de feminicidios',\n",
    "       caption=\"Fuente: Elaborado por IPDP con datos del Secretariado Ejecutivo del Sistema Nacional de Seguridad Pública.\"\n",
    "       ) +\n",
    "       geom_smooth(aes(y = prom_diario), method = 'loess', se = FALSE, color = \"black\",linetype=\"dashed\") +\n",
    "  theme_minimal() +\n",
    "  theme(axis.text.x = element_text(angle = 90, hjust = 1),\n",
    "  plot.title = element_text(hjust = 0, size = 16, face = 'bold'),\n",
    "  plot.caption = element_text(hjust = 0, size = 8),\n",
    "  \n",
    "  ) +\n",
    "  scale_x_continuous(breaks = seq(2015, 2024, 1)) "
   ]
  },
  {
   "cell_type": "code",
   "execution_count": 140,
   "metadata": {
    "vscode": {
     "languageId": "r"
    }
   },
   "outputs": [
    {
     "name": "stderr",
     "output_type": "stream",
     "text": [
      "\u001b[1m\u001b[22mScale for \u001b[32my\u001b[39m is already present.\n",
      "Adding another scale for \u001b[32my\u001b[39m, which will replace the existing scale.\n"
     ]
    },
    {
     "data": {
      "image/png": "[encoded data removed]",
      "text/plain": [
       "plot without title"
      ]
     },
     "metadata": {
      "image/png": {
       "height": 420,
       "width": 420
      }
     },
     "output_type": "display_data"
    }
   ],
   "source": [
    "ggplot(data = feminicidios_cdmx, aes(x = ano)) +\n",
    "  geom_bar(aes(y = total_casos), stat = \"identity\", fill = \"#027a35\", alpha = 0.6) +\n",
    "  labs(title = 'Número de feminicidios en Ciudad de México',\n",
    "       x = 'Año',\n",
    "       y = 'Número de feminicidios') +\n",
    "  scale_y_continuous(\n",
    "    name = \"Número de feminicidios\",\n",
    "    sec.axis = sec_axis(~ . / 100)\n",
    "  ) +\n",
    "  theme_minimal() +\n",
    "  theme(axis.text.x = element_text(angle = 45, hjust = 1)) +\n",
    "  scale_x_continuous(breaks = seq(2018, 2024, 1)) +\n",
    "  scale_y_continuous(limits = c(0, 100))"
   ]
  }
 ],
 "metadata": {
  "kernelspec": {
   "display_name": "R",
   "language": "R",
   "name": "ir"
  },
  "language_info": {
   "codemirror_mode": "r",
   "file_extension": ".r",
   "mimetype": "text/x-r-source",
   "name": "R",
   "pygments_lexer": "r",
   "version": "4.4.2"
  }
 },
 "nbformat": 4,
 "nbformat_minor": 2
}
