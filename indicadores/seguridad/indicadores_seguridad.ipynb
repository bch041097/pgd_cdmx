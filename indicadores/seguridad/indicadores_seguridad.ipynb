{
 "cells": [
  {
   "cell_type": "code",
   "id": "initial_id",
   "metadata": {
    "collapsed": true,
    "ExecuteTime": {
     "end_time": "2025-01-23T23:09:51.955913Z",
     "start_time": "2025-01-23T23:09:51.943907Z"
    }
   },
   "source": [
    "##Estimación de indicadores de vivienda\n",
    "#Se borra todo lo que se encuentra en el entorno\n",
    "\n",
    "rm(list=ls())\n",
    "\n",
    "# Librerías ====\n",
    "if(!require('pacman')) install.packages('pacman')\n",
    "pacman::p_load(tidyverse,lubridate)"
   ],
   "outputs": [],
   "execution_count": 17
  },
  {
   "metadata": {
    "ExecuteTime": {
     "end_time": "2025-01-23T23:13:45.789283Z",
     "start_time": "2025-01-23T23:09:51.977894Z"
    }
   },
   "cell_type": "code",
   "source": "carpetas <- read_csv('https://archivo.datos.cdmx.gob.mx/FGJ/carpetas/carpetasFGJ_acumulado_2024_09.csv')",
   "id": "7854d574d5984959",
   "outputs": [
    {
     "name": "stderr",
     "output_type": "stream",
     "text": [
      "\u001B[1mRows: \u001B[22m\u001B[34m2025785\u001B[39m \u001B[1mColumns: \u001B[22m\u001B[34m21\u001B[39m\n",
      "\u001B[36m──\u001B[39m \u001B[1mColumn specification\u001B[22m \u001B[36m────────────────────────────────────────────────────────\u001B[39m\n",
      "\u001B[1mDelimiter:\u001B[22m \",\"\n",
      "\u001B[31mchr\u001B[39m  (13): mes_inicio, mes_hecho, delito, categoria_delito, competencia, fis...\n",
      "\u001B[32mdbl\u001B[39m   (4): anio_inicio, anio_hecho, latitud, longitud\n",
      "\u001B[34mdate\u001B[39m  (2): fecha_inicio, fecha_hecho\n",
      "\u001B[34mtime\u001B[39m  (2): hora_inicio, hora_hecho\n",
      "\n",
      "\u001B[36mℹ\u001B[39m Use `spec()` to retrieve the full column specification for this data.\n",
      "\u001B[36mℹ\u001B[39m Specify the column types or set `show_col_types = FALSE` to quiet this message.\n"
     ]
    }
   ],
   "execution_count": 18
  },
  {
   "metadata": {
    "ExecuteTime": {
     "end_time": "2025-01-23T23:13:45.813858Z",
     "start_time": "2025-01-23T23:13:45.802094Z"
    }
   },
   "cell_type": "code",
   "source": "colnames(carpetas)",
   "id": "ae6fa63aa2600430",
   "outputs": [
    {
     "data": {
      "text/html": [
       "<style>\n",
       ".list-inline {list-style: none; margin:0; padding: 0}\n",
       ".list-inline>li {display: inline-block}\n",
       ".list-inline>li:not(:last-child)::after {content: \"\\00b7\"; padding: 0 .5ex}\n",
       "</style>\n",
       "<ol class=list-inline><li>'anio_inicio'</li><li>'mes_inicio'</li><li>'fecha_inicio'</li><li>'hora_inicio'</li><li>'anio_hecho'</li><li>'mes_hecho'</li><li>'fecha_hecho'</li><li>'hora_hecho'</li><li>'delito'</li><li>'categoria_delito'</li><li>'competencia'</li><li>'fiscalia'</li><li>'agencia'</li><li>'unidad_investigacion'</li><li>'colonia_hecho'</li><li>'colonia_catalogo'</li><li>'alcaldia_hecho'</li><li>'alcaldia_catalogo'</li><li>'municipio_hecho'</li><li>'latitud'</li><li>'longitud'</li></ol>\n"
      ],
      "text/markdown": "1. 'anio_inicio'\n2. 'mes_inicio'\n3. 'fecha_inicio'\n4. 'hora_inicio'\n5. 'anio_hecho'\n6. 'mes_hecho'\n7. 'fecha_hecho'\n8. 'hora_hecho'\n9. 'delito'\n10. 'categoria_delito'\n11. 'competencia'\n12. 'fiscalia'\n13. 'agencia'\n14. 'unidad_investigacion'\n15. 'colonia_hecho'\n16. 'colonia_catalogo'\n17. 'alcaldia_hecho'\n18. 'alcaldia_catalogo'\n19. 'municipio_hecho'\n20. 'latitud'\n21. 'longitud'\n\n\n",
      "text/latex": "\\begin{enumerate*}\n\\item 'anio\\_inicio'\n\\item 'mes\\_inicio'\n\\item 'fecha\\_inicio'\n\\item 'hora\\_inicio'\n\\item 'anio\\_hecho'\n\\item 'mes\\_hecho'\n\\item 'fecha\\_hecho'\n\\item 'hora\\_hecho'\n\\item 'delito'\n\\item 'categoria\\_delito'\n\\item 'competencia'\n\\item 'fiscalia'\n\\item 'agencia'\n\\item 'unidad\\_investigacion'\n\\item 'colonia\\_hecho'\n\\item 'colonia\\_catalogo'\n\\item 'alcaldia\\_hecho'\n\\item 'alcaldia\\_catalogo'\n\\item 'municipio\\_hecho'\n\\item 'latitud'\n\\item 'longitud'\n\\end{enumerate*}\n",
      "text/plain": [
       " [1] \"anio_inicio\"          \"mes_inicio\"           \"fecha_inicio\"        \n",
       " [4] \"hora_inicio\"          \"anio_hecho\"           \"mes_hecho\"           \n",
       " [7] \"fecha_hecho\"          \"hora_hecho\"           \"delito\"              \n",
       "[10] \"categoria_delito\"     \"competencia\"          \"fiscalia\"            \n",
       "[13] \"agencia\"              \"unidad_investigacion\" \"colonia_hecho\"       \n",
       "[16] \"colonia_catalogo\"     \"alcaldia_hecho\"       \"alcaldia_catalogo\"   \n",
       "[19] \"municipio_hecho\"      \"latitud\"              \"longitud\"            "
      ]
     },
     "metadata": {},
     "output_type": "display_data"
    }
   ],
   "execution_count": 19
  },
  {
   "metadata": {
    "ExecuteTime": {
     "end_time": "2025-01-23T23:13:45.927772Z",
     "start_time": "2025-01-23T23:13:45.839732Z"
    }
   },
   "cell_type": "code",
   "source": [
    "print(unique(carpetas$alcaldia_hecho))\n",
    "print(unique(carpetas$categoria_delito))"
   ],
   "id": "5f8d495830f48cbc",
   "outputs": [
    {
     "name": "stdout",
     "output_type": "stream",
     "text": [
      " [1] \"TLALPAN\"                \"IZTAPALAPA\"             \"GUSTAVO A. MADERO\"     \n",
      " [4] \"BENITO JUAREZ\"          \"COYOACAN\"               \"MIGUEL HIDALGO\"        \n",
      " [7] \"AZCAPOTZALCO\"           \"VENUSTIANO CARRANZA\"    \"IZTACALCO\"             \n",
      "[10] \"ALVARO OBREGON\"         \"CUAUHTEMOC\"             \"XOCHIMILCO\"            \n",
      "[13] \"FUERA DE CDMX\"          \"LA MAGDALENA CONTRERAS\" \"TLAHUAC\"               \n",
      "[16] \"MILPA ALTA\"             \"CUAJIMALPA DE MORELOS\"  NA                      \n",
      "[19] \"CDMX (indeterminada)\"  \n",
      " [1] \"DELITO DE BAJO IMPACTO\"                                 \n",
      " [2] \"ROBO A PASAJERO A BORDO DE TAXI CON VIOLENCIA\"          \n",
      " [3] \"ROBO A TRANSEUNTE EN VÍA PÚBLICA CON Y SIN VIOLENCIA\"   \n",
      " [4] \"ROBO DE VEHÍCULO CON Y SIN VIOLENCIA\"                   \n",
      " [5] \"HOMICIDIO DOLOSO\"                                       \n",
      " [6] \"HECHO NO DELICTIVO\"                                     \n",
      " [7] \"LESIONES DOLOSAS POR DISPARO DE ARMA DE FUEGO\"          \n",
      " [8] \"ROBO A NEGOCIO CON VIOLENCIA\"                           \n",
      " [9] \"ROBO A REPARTIDOR CON Y SIN VIOLENCIA\"                  \n",
      "[10] \"ROBO A CASA HABITACIÓN CON VIOLENCIA\"                   \n",
      "[11] \"ROBO A CUENTAHABIENTE SALIENDO DEL CAJERO CON VIOLENCIA\"\n",
      "[12] \"ROBO A PASAJERO A BORDO DE MICROBUS CON Y SIN VIOLENCIA\"\n",
      "[13] \"ROBO A PASAJERO A BORDO DEL METRO CON Y SIN VIOLENCIA\"  \n",
      "[14] \"ROBO A TRANSPORTISTA CON Y SIN VIOLENCIA\"               \n",
      "[15] \"PLAGIO O SECUESTRO\"                                     \n",
      "[16] \"FEMINICIDIO\"                                            \n",
      "[17] \"VIOLACIÓN\"                                              \n",
      "[18] \"SECUESTRO\"                                              \n"
     ]
    }
   ],
   "execution_count": 20
  },
  {
   "metadata": {
    "ExecuteTime": {
     "end_time": "2025-01-23T23:13:46.021507Z",
     "start_time": "2025-01-23T23:13:45.940999Z"
    }
   },
   "cell_type": "code",
   "source": "print(unique(carpetas$delito))",
   "id": "7a85e088e48ec2c1",
   "outputs": [
    {
     "name": "stdout",
     "output_type": "stream",
     "text": [
      "  [1] \"LESIONES CULPOSAS POR TRANSITO VEHICULAR EN COLISION\"                                                                                                                            \n",
      "  [2] \"ROBO A PASAJERO A BORDO DE TAXI CON VIOLENCIA\"                                                                                                                                   \n",
      "  [3] \"ROBO A TRANSEUNTE EN VIA PUBLICA CON VIOLENCIA\"                                                                                                                                  \n",
      "  [4] \"ROBO DE VEHICULO DE SERVICIO PARTICULAR SIN VIOLENCIA\"                                                                                                                           \n",
      "  [5] \"HOMICIDIOS INTENCIONALES (OTROS)\"                                                                                                                                                \n",
      "  [6] \"ROBO DE OBJETOS\"                                                                                                                                                                 \n",
      "  [7] \"PERDIDA DE LA VIDA POR CAIDA\"                                                                                                                                                    \n",
      "  [8] \"LESIONES INTENCIONALES POR ARMA DE FUEGO\"                                                                                                                                        \n",
      "  [9] \"PERDIDA DE LA VIDA POR OTRAS CAUSAS\"                                                                                                                                             \n",
      " [10] \"HOMICIDIO CULPOSO POR ARMA DE FUEGO\"                                                                                                                                             \n",
      " [11] \"DAÑO EN PROPIEDAD AJENA INTENCIONAL A AUTOMOVIL\"                                                                                                                                 \n",
      " [12] \"ROBO A CASA HABITACION SIN VIOLENCIA\"                                                                                                                                            \n",
      " [13] \"DAÑO EN PROPIEDAD AJENA INTENCIONAL A NEGOCIO\"                                                                                                                                   \n",
      " [14] \"LESIONES CULPOSAS\"                                                                                                                                                               \n",
      " [15] \"ROBO A NEGOCIO CON VIOLENCIA\"                                                                                                                                                    \n",
      " [16] \"HOMICIDIO CULPOSO POR TRÁNSITO VEHICULAR (CAIDA)\"                                                                                                                                \n",
      " [17] \"PERDIDA DE LA VIDA POR QUEMADURA\"                                                                                                                                                \n",
      " [18] \"FRAUDE\"                                                                                                                                                                          \n",
      " [19] \"LESIONES INTENCIONALES POR ARMA BLANCA\"                                                                                                                                          \n",
      " [20] \"DENUNCIA DE HECHOS\"                                                                                                                                                              \n",
      " [21] \"LESIONES INTENCIONALES\"                                                                                                                                                          \n",
      " [22] \"ROBO DE DINERO\"                                                                                                                                                                  \n",
      " [23] \"DAÑO EN PROPIEDAD AJENA CULPOSA POR TRÁNSITO VEHICULAR A AUTOMOVIL\"                                                                                                              \n",
      " [24] \"DAÑO EN PROPIEDAD AJENA INTENCIONAL\"                                                                                                                                             \n",
      " [25] \"ROBO DE VEHICULO DE SERVICIO PARTICULAR CON VIOLENCIA\"                                                                                                                           \n",
      " [26] \"DAÑO EN PROPIEDAD AJENA CULPOSA\"                                                                                                                                                 \n",
      " [27] \"ROBO A PASAJERO / CONDUCTOR DE VEHICULO CON VIOLENCIA\"                                                                                                                           \n",
      " [28] \"LESIONES INTENCIONALES POR GOLPES\"                                                                                                                                               \n",
      " [29] \"ROBO A TRANSEUNTE DE CELULAR CON VIOLENCIA\"                                                                                                                                      \n",
      " [30] \"ROBO A NEGOCIO SIN VIOLENCIA\"                                                                                                                                                    \n",
      " [31] \"ROBO DE ACCESORIOS DE AUTO\"                                                                                                                                                      \n",
      " [32] \"CONTRA FUNCIONARIOS PUBLICOS\"                                                                                                                                                    \n",
      " [33] \"PERDIDA DE LA VIDA POR SUICIDIO\"                                                                                                                                                 \n",
      " [34] \"HOMICIDIO POR ARMA DE FUEGO\"                                                                                                                                                     \n",
      " [35] \"DAÑO EN PROPIEDAD AJENA INTENCIONAL A BIENES INMUEBLES\"                                                                                                                          \n",
      " [36] \"NEGACION DEL SERVICIO PUBLICO\"                                                                                                                                                   \n",
      " [37] \"ROBO A REPARTIDOR Y VEHICULO CON VIOLENCIA\"                                                                                                                                      \n",
      " [38] \"PERDIDA DE LA VIDA POR PARO CARDIACO\"                                                                                                                                            \n",
      " [39] \"RESISTENCIA DE PARTICULARES (SE OPONGA O RESISTA)\"                                                                                                                               \n",
      " [40] \"AMENAZAS\"                                                                                                                                                                        \n",
      " [41] \"LA ADMINISTRACION DE JUSTICIA\"                                                                                                                                                   \n",
      " [42] \"ABUSO DE AUTORIDAD\"                                                                                                                                                              \n",
      " [43] \"HOMICIDIO CULPOSO POR TRÁNSITO VEHICULAR (COLISION)\"                                                                                                                             \n",
      " [44] \"ROBO A CASA HABITACION CON VIOLENCIA\"                                                                                                                                            \n",
      " [45] \"ENCUBRIMIENTO\"                                                                                                                                                                   \n",
      " [46] \"ABUSO DE CONFIANZA\"                                                                                                                                                              \n",
      " [47] \"ROBO DE VEHICULO DE SERVICIO PÚBLICO SIN VIOLENCIA\"                                                                                                                              \n",
      " [48] \"FALSIFICACION DE TITULOS AL PORTADOR Y DOCUMENTOS DE CREDITO PUBLICO\"                                                                                                            \n",
      " [49] \"ROBO A PASAJERO A BORDO DE TRANSPORTE PÚBLICO CON VIOLENCIA\"                                                                                                                     \n",
      " [50] \"USURPACIÓN DE IDENTIDAD\"                                                                                                                                                         \n",
      " [51] \"HOMICIDIO CULPOSO FUERA DEL D.F (ATROPELLADO)\"                                                                                                                                   \n",
      " [52] \"LESIONES CULPOSAS POR CAIDA\"                                                                                                                                                     \n",
      " [53] \"ROBO DE VEHICULO DE PEDALES\"                                                                                                                                                     \n",
      " [54] \"PERDIDA DE LA VIDA POR ENFERMEDAD\"                                                                                                                                               \n",
      " [55] \"HOMICIDIO POR ARMA BLANCA\"                                                                                                                                                       \n",
      " [56] \"ALLANAMIENTO DE MORADA\"                                                                                                                                                          \n",
      " [57] \"ROBO DE OBJETOS DEL INTERIOR DE UN VEHICULO\"                                                                                                                                     \n",
      " [58] \"ROBO A TRANSEUNTE DE CELULAR SIN VIOLENCIA\"                                                                                                                                      \n",
      " [59] \"HOMICIDIO POR GOLPES\"                                                                                                                                                            \n",
      " [60] \"ROBO A REPARTIDOR SIN VIOLENCIA\"                                                                                                                                                 \n",
      " [61] \"ROBO DE VEHICULO DE SERVICIO PÚBLICO CON VIOLENCIA\"                                                                                                                              \n",
      " [62] \"DAÑO EN PROPIEDAD AJENA CULPOSA POR TRÁNSITO VEHICULAR A BIENES INMUEBLES\"                                                                                                       \n",
      " [63] \"ROBO DE DOCUMENTOS\"                                                                                                                                                              \n",
      " [64] \"FALSEDAD DE DECLARACIONES\"                                                                                                                                                       \n",
      " [65] \"DESPOJO\"                                                                                                                                                                         \n",
      " [66] \"ROBO DE MOTOCICLETA CON VIOLENCIA\"                                                                                                                                               \n",
      " [67] \"DAÑO EN PROPIEDAD AJENA INTENCIONAL A CASA HABITACION\"                                                                                                                           \n",
      " [68] \"SUSTRACCION DE MENORES\"                                                                                                                                                          \n",
      " [69] \"ROBO DE ANIMALES\"                                                                                                                                                                \n",
      " [70] \"ROBO A REPARTIDOR CON VIOLENCIA\"                                                                                                                                                 \n",
      " [71] \"ROBO DE MOTOCICLETA SIN VIOLENCIA\"                                                                                                                                               \n",
      " [72] \"LESIONES CULPOSAS POR TRANSITO VEHICULAR\"                                                                                                                                        \n",
      " [73] \"ATAQUE A LAS VIAS DE COMUNICACION (DAÑO A VIAS O MEDIOS DE TRANSPORTE)\"                                                                                                          \n",
      " [74] \"DELITOS DE ABOGADOS PATRONOS Y LITIGANTES\"                                                                                                                                       \n",
      " [75] \"ROBO A TRANSEUNTE SALIENDO DEL CAJERO CON VIOLENCIA\"                                                                                                                             \n",
      " [76] \"TENTATIVA DE ROBO DE VEHICULO\"                                                                                                                                                   \n",
      " [77] \"FALSIFICACION DE DOCUMENTOS\"                                                                                                                                                     \n",
      " [78] \"ROBO DE ARMA\"                                                                                                                                                                    \n",
      " [79] \"ABORTO\"                                                                                                                                                                          \n",
      " [80] \"ROBO DE OBJETOS A ESCUELA\"                                                                                                                                                       \n",
      " [81] \"NARCOMENUDEO POSESION SIMPLE\"                                                                                                                                                    \n",
      " [82] \"ROBO A CASA HABITACION Y VEHICULO SIN VIOLENCIA\"                                                                                                                                 \n",
      " [83] \"HOMICIDIO CULPOSO POR TRÁNSITO VEHICULAR (ATROPELLADO)\"                                                                                                                          \n",
      " [84] \"INSOLVENCIA ALIMENTARIA\"                                                                                                                                                         \n",
      " [85] \"USO DE DOCUMENTO FALSO\"                                                                                                                                                          \n",
      " [86] \"TENTATIVA DE ROBO\"                                                                                                                                                               \n",
      " [87] \"EJERCICIO INDEBIDO DEL SERVIDOR PUBLICO\"                                                                                                                                         \n",
      " [88] \"ROBO A PASAJERO A BORDO DE PESERO COLECTIVO CON VIOLENCIA\"                                                                                                                       \n",
      " [89] \"COHECHO\"                                                                                                                                                                         \n",
      " [90] \"QUEBRANTAMIENTO DE SELLOS\"                                                                                                                                                       \n",
      " [91] \"PORTACION ARMA/PROHIB.\"                                                                                                                                                          \n",
      " [92] \"DELITOS AMBIENTALES\"                                                                                                                                                             \n",
      " [93] \"ROBO A PASAJERO A BORDO DE METRO SIN VIOLENCIA\"                                                                                                                                  \n",
      " [94] \"ROBO A PASAJERO / CONDUCTOR DE TAXI CON VIOLENCIA\"                                                                                                                               \n",
      " [95] \"ROBO A OFICINA PÚBLICA CON VIOLENCIA\"                                                                                                                                            \n",
      " [96] \"LESIONES CULPOSAS POR CAIDA DE VEHÍCULO EN MOVIMIENTO\"                                                                                                                           \n",
      " [97] \"RESPONSABILIDAD PROFESIONAL\"                                                                                                                                                     \n",
      " [98] \"ROBO A PASAJERO A BORDO DE METRO CON VIOLENCIA\"                                                                                                                                  \n",
      " [99] \"BIGAMIA\"                                                                                                                                                                         \n",
      "[100] \"ROBO A TRANSEUNTE SALIENDO DEL BANCO CON VIOLENCIA\"                                                                                                                              \n",
      "[101] \"PORNOGRAFIA INFANTIL\"                                                                                                                                                            \n",
      "[102] \"ROBO A PASAJERO A BORDO DE METROBUS SIN VIOLENCIA\"                                                                                                                               \n",
      "[103] \"ROBO A TRANSEUNTE EN VIA PUBLICA SIN VIOLENCIA\"                                                                                                                                  \n",
      "[104] \"ROBO DE VEHICULO DE SERVICIO DE TRANSPORTE SIN VIOLENCIA\"                                                                                                                        \n",
      "[105] \"NARCOMENUDEO POSESIÓN CON FINES DE VENTA, COMERCIO Y SUMINISTRO\"                                                                                                                 \n",
      "[106] \"ROBO A NEGOCIO Y VEHICULO CON VIOLENCIA\"                                                                                                                                         \n",
      "[107] \"ROBO DE ALHAJAS\"                                                                                                                                                                 \n",
      "[108] \"ROBO A TRANSEUNTE EN PARQUES Y MERCADOS CON VIOLENCIA\"                                                                                                                           \n",
      "[109] \"PORTACION DE ARMA DE FUEGO\"                                                                                                                                                      \n",
      "[110] \"ROBO A PASAJERO A BORDO DE TAXI SIN VIOLENCIA\"                                                                                                                                   \n",
      "[111] \"ROBO A PASAJERO EN RTP SIN VIOLENCIA\"                                                                                                                                            \n",
      "[112] \"LESIONES CULPOSAS POR QUEMADURAS\"                                                                                                                                                \n",
      "[113] \"ROBO DE PLACA DE AUTOMOVIL\"                                                                                                                                                      \n",
      "[114] \"DESOBEDENCIA DE PARTICULARES\"                                                                                                                                                    \n",
      "[115] \"ROBO A TRANSEUNTE EN NEGOCIO CON VIOLENCIA\"                                                                                                                                      \n",
      "[116] \"ROBO A TRANSPORTISTA Y VEHICULO PESADO CON VIOLENCIA\"                                                                                                                            \n",
      "[117] \"DISPAROS DE ARMA DE FUEGO\"                                                                                                                                                       \n",
      "[118] \"ROBO DE FLUIDOS\"                                                                                                                                                                 \n",
      "[119] \"ROBO A TRANSEUNTE EN HOTEL CON VIOLENCIA\"                                                                                                                                        \n",
      "[120] \"ABANDONO DE PERSONA\"                                                                                                                                                             \n",
      "[121] \"ROBO A PASAJERO A BORDO DE TRANSPORTE PÚBLICO SIN VIOLENCIA\"                                                                                                                     \n",
      "[122] \"PERDIDA DE LA VIDA POR INTOXICACION\"                                                                                                                                             \n",
      "[123] \"LESIONES CULPOSAS ACCIDENTE LABORAL\"                                                                                                                                             \n",
      "[124] \"PERDIDA DE LA VIDA POR AHOGAMIENTO\"                                                                                                                                              \n",
      "[125] \"ROBO A TRANSEUNTE EN RESTAURANT CON VIOLENCIA\"                                                                                                                                   \n",
      "[126] \"CORRUPCION DE MENORES\"                                                                                                                                                           \n",
      "[127] \"USURPACION DE FUNCIONES\"                                                                                                                                                         \n",
      "[128] \"PERDIDA DE LA VIDA POR DERRUMBE\"                                                                                                                                                 \n",
      "[129] \"POSESION DE VEHICULO ROBADO\"                                                                                                                                                     \n",
      "[130] \"HOMICIDIO CULPOSO FUERA DEL D.F (COLISION)\"                                                                                                                                      \n",
      "[131] \"FEMINICIDIO\"                                                                                                                                                                     \n",
      "[132] \"HOMICIDIO CULPOSO POR INSTRUMENTO PUNZO CORTANTE\"                                                                                                                                \n",
      "[133] \"MALTRATO ANIMAL\"                                                                                                                                                                 \n",
      "[134] \"ROBO DE VEHICULO DE SERVICIO OFICIAL SIN VIOLENCIA\"                                                                                                                              \n",
      "[135] \"OPOSICION A LA OBRA PUBLICA\"                                                                                                                                                     \n",
      "[136] \"HOMICIDIO CULPOSO POR TRÁNSITO VEHICULAR\"                                                                                                                                        \n",
      "[137] \"ROBO DE MAQUINARIA SIN VIOLENCIA\"                                                                                                                                                \n",
      "[138] \"ROBO A PASAJERO A BORDO DE PESERO COLECTIVO SIN VIOLENCIA\"                                                                                                                       \n",
      "[139] \"REVELACION DE SECRETOS\"                                                                                                                                                          \n",
      "[140] \"ROBO A SUCURSAL BANCARIA (ASALTO BANCARIO) CON VIOLENCIA\"                                                                                                                        \n",
      "[141] \"INHUMACIONES Y/O EXHUMACIONES\"                                                                                                                                                   \n",
      "[142] \"ROBO A PASAJERO A BORDO DE METROBUS CON VIOLENCIA\"                                                                                                                               \n",
      "[143] \"ROBO DE VEHICULO DE SERVICIO DE TRANSPORTE CON VIOLENCIA\"                                                                                                                        \n",
      "[144] \"USURPACION DE PROFESION\"                                                                                                                                                         \n",
      "[145] \"ACOSO SEXUAL\"                                                                                                                                                                    \n",
      "[146] \"ROBO A PASAJERO EN TROLEBUS SIN VIOLENCIA\"                                                                                                                                       \n",
      "[147] \"ROBO A CASA HABITACION Y VEHICULO CON VIOLENCIA\"                                                                                                                                 \n",
      "[148] \"PERDIDA DE LA VIDA ASFIXIA POR ALIMENTOS/ LIQUIDOS\"                                                                                                                              \n",
      "[149] \"PERDIDA DE LA VIDA POR CONGESTION ALCOHOLICA\"                                                                                                                                    \n",
      "[150] \"ROBO A REPARTIDOR Y VEHICULO SIN VIOLENCIA\"                                                                                                                                      \n",
      "[151] \"OPERACIONES CON RECURSOS DE PROCEDENCIA ILICITA\"                                                                                                                                 \n",
      "[152] \"FALSIFICACION DE SELLOS, MARCAS, LLAVES Y OTROS\"                                                                                                                                 \n",
      "[153] \"PELIGRO DE CONTAGIO\"                                                                                                                                                             \n",
      "[154] \"SECUESTRO EXPRESS (PARA COMETER ROBO O EXTORSIÓN)\"                                                                                                                               \n",
      "[155] \"ROBO A NEGOCIO Y VEHICULO SIN VIOLENCIA\"                                                                                                                                         \n",
      "[156] \"PERDIDA DE LA VIDA POR ACCIDENTE LABORAL\"                                                                                                                                        \n",
      "[157] \"CONTAMINACIÓN O RESIDUOS\"                                                                                                                                                        \n",
      "[158] \"USO INDEBIDO DE ATRIBUCIONES Y FACULTADES\"                                                                                                                                       \n",
      "[159] \"TRAFICO DE INFLUENCIA\"                                                                                                                                                           \n",
      "[160] \"ROBO A PASAJERO EN RTP CON VIOLENCIA\"                                                                                                                                            \n",
      "[161] \"EXPLOTACIÓN DE MENOR O DISCAPACITADO\"                                                                                                                                            \n",
      "[162] \"EVASION DE PRESOS\"                                                                                                                                                               \n",
      "[163] \"ROBO A OFICINA PÚBLICA SIN VIOLENCIA\"                                                                                                                                            \n",
      "[164] \"VIOLACION DE CORRESPONDENCIA\"                                                                                                                                                    \n",
      "[165] \"TENTATIVA DE FRAUDE\"                                                                                                                                                             \n",
      "[166] \"PERDIDA DE LA VIDA POR PRECIPITACION\"                                                                                                                                            \n",
      "[167] \"ROBO A PASAJERO EN TREN LIGERO SIN VIOLENCIA\"                                                                                                                                    \n",
      "[168] \"ROBO A TRANSPORTISTA Y VEHICULO PESADO SIN VIOLENCIA\"                                                                                                                            \n",
      "[169] \"HOMICIDIO POR AHORCAMIENTO\"                                                                                                                                                      \n",
      "[170] \"VARIACION DE NOMBRE O DOMICILIO\"                                                                                                                                                 \n",
      "[171] \"PECULADO\"                                                                                                                                                                        \n",
      "[172] \"ROBO A SUCURSAL BANCARIA (SUPERMERCADO) SIN VIOLENCIA\"                                                                                                                           \n",
      "[173] \"MOTIN\"                                                                                                                                                                           \n",
      "[174] \"ROBO DE MAQUINARIA CON VIOLENCIA\"                                                                                                                                                \n",
      "[175] \"PERDIDA DE LA VIDA POR SUICIDIO EN EL METRO\"                                                                                                                                     \n",
      "[176] \"ENRIQUECIMIENTO ILICITO\"                                                                                                                                                         \n",
      "[177] \"ROBO DE VEHICULO DE SERVICIO OFICIAL CON VIOLENCIA\"                                                                                                                              \n",
      "[178] \"ROBO A PASAJERO EN TREN LIGERO CON VIOLENCIA\"                                                                                                                                    \n",
      "[179] \"DAÑO EN PROPIEDAD AJENA CULPOSA POR TRÁNSITO VEHICULAR A VIAS DE COMUNICACION\"                                                                                                   \n",
      "[180] \"ROBO A TRANSEUNTE EN CINE CON VIOLENCIA\"                                                                                                                                         \n",
      "[181] \"INTIMIDACION (EVITAR DENUNCIA, APORTE INFORMACIÓN O PRUEBAS)\"                                                                                                                    \n",
      "[182] \"COACCION DE SERVIDORES PUBLICOS\"                                                                                                                                                 \n",
      "[183] \"ROBO A SUCURSAL BANCARIA (SUPERMERCADO) CON VIOLENCIA\"                                                                                                                           \n",
      "[184] \"ROBO A PASAJERO EN ECOBUS SIN VIOLENCIA\"                                                                                                                                         \n",
      "[185] \"PROVOCACION O APOLOGIA DE DELITO\"                                                                                                                                                \n",
      "[186] \"PERDIDA DE LA VIDA POR ASFIXIA\"                                                                                                                                                  \n",
      "[187] \"DIFAMACION\"                                                                                                                                                                      \n",
      "[188] \"INTIMIDACION\"                                                                                                                                                                    \n",
      "[189] \"ROBO A PASAJERO EN AUTOBÚS FORÁNEO CON VIOLENCIA\"                                                                                                                                \n",
      "[190] \"ROBO A PASAJERO EN TROLEBUS CON VIOLENCIA\"                                                                                                                                       \n",
      "[191] \"CONTRA EL ESTADO CIVIL\"                                                                                                                                                          \n",
      "[192] \"GESTIÓN AMBIENTAL\"                                                                                                                                                               \n",
      "[193] \"HOMICIDIO CULPOSO\"                                                                                                                                                               \n",
      "[194] \"DAÑO EN PROPIEDAD AJENA INTENCIONAL A VIAS DE COMUNICACION\"                                                                                                                      \n",
      "[195] \"CONCUSION\"                                                                                                                                                                       \n",
      "[196] \"ROBO A PASAJERO A BORDO DE PESERO Y VEHICULO CON VIOLENCIA\"                                                                                                                      \n",
      "[197] \"DELITOS ELECTORALES\"                                                                                                                                                             \n",
      "[198] \"ASOCIACION DELICTUOSA\"                                                                                                                                                           \n",
      "[199] \"TALA\"                                                                                                                                                                            \n",
      "[200] \"REGULACIÓN URBANA\"                                                                                                                                                               \n",
      "[201] \"DELITOS CONTRA LA SALUD\"                                                                                                                                                         \n",
      "[202] \"CAMBIO DE USO DE SUELO\"                                                                                                                                                          \n",
      "[203] \"DAÑO SUELO (ACTIVIDAD, INVASIÓN O EXTRACCIÓN)\"                                                                                                                                   \n",
      "[204] \"DESACATO\"                                                                                                                                                                        \n",
      "[205] \"ULTRAJES\"                                                                                                                                                                        \n",
      "[206] \"ATAQUE A LAS VIAS GENERALES DE COMUNICACIÓN\"                                                                                                                                     \n",
      "[207] \"ROBO EN INTERIOR DE EMPRESA (NOMINA) CON VIOLENCIA\"                                                                                                                              \n",
      "[208] \"ROBO A PASAJERO EN TREN SUBURBANO SIN VIOLENCIA\"                                                                                                                                 \n",
      "[209] \"ROBO A TRANSEUNTE EN TERMINAL DE PASAJEROS CON VIOLENCIA\"                                                                                                                        \n",
      "[210] \"ROBO EN INTERIOR DE EMPRESA (NOMINA) SIN VIOLENCIA\"                                                                                                                              \n",
      "[211] \"USO INDEBIDO DE CONDECORACIONES UNIFORMES E INSIGNIAS\"                                                                                                                           \n",
      "[212] \"ROBO DURANTE TRASLADO DE VALORES (NOMINA) CON VIOLENCIA\"                                                                                                                         \n",
      "[213] \"ATAQUES A LA PAZ PUBLICA\"                                                                                                                                                        \n",
      "[214] \"ROBO A PASAJERO EN ECOBUS CON VIOLENCIA\"                                                                                                                                         \n",
      "[215] \"OTROS CULPOSOS\"                                                                                                                                                                  \n",
      "[216] \"ROBO DURANTE TRASLADO DE VALORES (NOMINA) SIN VIOLENCIA\"                                                                                                                         \n",
      "[217] \"PROCREACION ASISTIDA\"                                                                                                                                                            \n",
      "[218] \"ROBO A TRANSEUNTE EN VIA PUBLICA (NOMINA) CON VIOLENCIA\"                                                                                                                         \n",
      "[219] \"ROBO A TRANSEUNTE Y VEHICULO CON VIOLENCIA\"                                                                                                                                      \n",
      "[220] \"ROBO A PASAJERO EN AUTOBUS FORANEO SIN VIOLENCIA\"                                                                                                                                \n",
      "[221] \"LESIONES INTENCIONALES Y ROBO DE VEHICULO\"                                                                                                                                       \n",
      "[222] \"ROBO DE VEHICULO Y NOMINA CON VIOLENCIA\"                                                                                                                                         \n",
      "[223] \"HOMICIDIO INTENCIONAL Y ROBO DE VEHICULO\"                                                                                                                                        \n",
      "[224] \"SABOTAJE\"                                                                                                                                                                        \n",
      "[225] \"PERDIDA DE LA VIDA POR ENVENENAMIENTO\"                                                                                                                                           \n",
      "[226] \"ROBO A PASAJERO EN TREN SUBURBANO CON VIOLENCIA\"                                                                                                                                 \n",
      "[227] \"EJERCICIO ABUSIVO DE FUNCIONES\"                                                                                                                                                  \n",
      "[228] \"CONTRA LA LEY GENERAL DE EXPLOSIVOS\"                                                                                                                                             \n",
      "[229] \"CALUMNIAS\"                                                                                                                                                                       \n",
      "[230] \"FEMINICIDIO POR DISPARO DE ARMA DE FUEGO\"                                                                                                                                        \n",
      "[231] \"LENOCINIO\"                                                                                                                                                                       \n",
      "[232] \"COBRANZA ILEGITIMA\"                                                                                                                                                              \n",
      "[233] \"OTROS DELITOS\"                                                                                                                                                                   \n",
      "[234] \"PERSONAS EXTRAVIADAS\"                                                                                                                                                            \n",
      "[235] \"ROBO DE INFANTE\"                                                                                                                                                                 \n",
      "[236] \"DENUNCIA DE HECHOS POR ROBO DE CELULAR\"                                                                                                                                          \n",
      "[237] \"EJERCICIO ILEGAL Y ABANDONO DEL SERVICIO PUBLICO\"                                                                                                                                \n",
      "[238] \"ALLANAMIENTO DE MORADA, DESPACHO, OFICINA O ESTABLECIMIENTO MERCANTIL\"                                                                                                           \n",
      "[239] \"FALSEDAD ANTE AUTORIDADES\"                                                                                                                                                       \n",
      "[240] \"ROBO A TRANSEUNTE A BORDO DE TAXI PÚBLICO Y PRIVADO CON VIOLENCIA\"                                                                                                               \n",
      "[241] \"PRODUCCIÓN, IMPRESIÓN, ENAJENACIÓN, DISTRIBUCIÓN, ALTERACIÓN O FALSIFICACIÓN DE TÍTULOS AL PORTADOR, DOCUMENTOS DE CRÉDITO PÚBLICOS O VALES DE CANJE\"                            \n",
      "[242] \"ROBO A TRANSEUNTE A BORDO DE TAXI PUBLICO Y PRIVADO SIN VIOLENCIA\"                                                                                                               \n",
      "[243] \"PORTACIÓN, FABRICACIÓN E IMPORTACIÓN DE OBJETOS APTOS PARA AGREDIR\"                                                                                                              \n",
      "[244] \"FALSIFICACION O ALTERACION Y USO INDEBIDO DE DOCUMENTOS\"                                                                                                                         \n",
      "[245] \"ENCUBRIMIENTO POR FAVORECIMIENTO Y RECEPTACIÓN\"                                                                                                                                  \n",
      "[246] \"PERSONAS EXTRAVIADAS Y AUSENTES\"                                                                                                                                                 \n",
      "[247] \"DESOBEDIENCIA Y RESISTENCIA DE PARTICULARES\"                                                                                                                                     \n",
      "[248] \"USURPACION DE FUNCIONES PUBLICAS\"                                                                                                                                                \n",
      "[249] \"INHUMACION, EXHUMACION Y RESPETO A LOS CADAVERES O RESTOS HUMANOS\"                                                                                                               \n",
      "[250] \"RETENCIÓN O SUSTRACCIÓN DE MENORES INCAPACES\"                                                                                                                                    \n",
      "[251] \"FABRICACION, COMERCIALIZACION Y USO INDEBIDO DE INSIGNIAS Y UNIFORMES\"                                                                                                           \n",
      "[252] \"ROBO A TRANSEUNTE CONDUCTOR DE TAXI PUBLICO Y PRIVADO CON VIOLENCIA\"                                                                                                             \n",
      "[253] \"DELITOS DE ABOGADOS, PATRONOS, LITIGANTES Y ASESORES JURIDICOS\"                                                                                                                  \n",
      "[254] \"OPOSICION A QUE SE EJECUTE ALGUNA OBRA O TRABAJO PUBLICOS\"                                                                                                                       \n",
      "[255] \"RESPONSABILIDAD PROFESIONAL Y TECNICA\"                                                                                                                                           \n",
      "[256] \"ROBO A SUCURSAL BANCARIA CON VIOLENCIA\"                                                                                                                                          \n",
      "[257] \"DDH REDES\"                                                                                                                                                                       \n",
      "[258] \"ROBO A SUCURSAL BANCARIA DENTRO DE  TIENDAS DE AUTOSERVICIO CON VIOLENCIA\"                                                                                                       \n",
      "[259] \"FEMINICIDIO POR ARMA BLANCA\"                                                                                                                                                     \n",
      "[260] \"FALSIFICACIÓN DE SELLOS, MARCAS, LLAVES, CUÑOS, TROQUELES, CONTRASEÑAS Y OTROS\"                                                                                                  \n",
      "[261] \"COALICIÓN DE SERVIDORES PÚBLICOS\"                                                                                                                                                \n",
      "[262] \"FEMINICIDIO POR GOLPES\"                                                                                                                                                          \n",
      "[263] \"CONTAGIO VENERERO\"                                                                                                                                                               \n",
      "[264] \"DDH RELACIONADAS\"                                                                                                                                                                \n",
      "[265] \"DDH FDS\"                                                                                                                                                                         \n",
      "[266] \"DDH FRVT\"                                                                                                                                                                        \n",
      "[267] \"DDH OFICIO COLABORACION\"                                                                                                                                                         \n",
      "[268] \"DDH CERESO\"                                                                                                                                                                      \n",
      "[269] \"DDH ANONIMAS\"                                                                                                                                                                    \n",
      "[270] \"DDH SIN DATOS\"                                                                                                                                                                   \n",
      "[271] \"DDH OTRAS MATERIAS\"                                                                                                                                                              \n",
      "[272] \"DDH INCOMPETENCIA\"                                                                                                                                                               \n",
      "[273] \"EXHORTOS\"                                                                                                                                                                        \n",
      "[274] \"UTILIZACION INDEBIDA DE LA VIA PUBLICA\"                                                                                                                                          \n",
      "[275] \"OTROS AMBIENTALES\"                                                                                                                                                               \n",
      "[276] \"ROBO A NEGOCIO SIN VIOLENCIA POR FARDEROS (TIENDAS DE AUTOSERVICIO)\"                                                                                                             \n",
      "[277] \"ROBO A NEGOCIO SIN VIOLENCIA POR FARDEROS (TIENDAS DE CONVENIENCIA)\"                                                                                                             \n",
      "[278] \"HOMICIDIO CULPOSO CON EXCLUYENTES DE RESPONSABILIDAD\"                                                                                                                            \n",
      "[279] \"ROBO A SUCURSAL BANCARIA SIN VIOLENCIA\"                                                                                                                                          \n",
      "[280] \"OPERACIONES CON RECURSOS DE PROCEDENCIA ILEGAL\"                                                                                                                                  \n",
      "[281] \"ROBO S/V DENTRO DE NEGOCIOS, AUTOSERVICIOS, CONVENIENCIA\"                                                                                                                        \n",
      "[282] \"SECUESTRO\"                                                                                                                                                                       \n",
      "[283] \"ROBO A NEGOCIO CON VIOLENCIA POR FARDEROS (TIENDAS DE CONVENIENCIA)\"                                                                                                             \n",
      "[284] \"ROBO DE CONTENEDORES DE TRAILERS S/V\"                                                                                                                                            \n",
      "[285] \"ROBO A NEGOCIO CON VIOLENCIA POR FARDEROS (TIENDAS DE AUTOSERVICIO)\"                                                                                                             \n",
      "[286] \"ROBO A LOCALES SEMIFIJOS (PUESTOS DE ALIMENTOS,BEBIDAS, ENSERES, PERIODICOS,LOTERIA, OTROS)\"                                                                                     \n",
      "[287] \"ROBO DE VEHICULO EN PENSION, TALLER Y AGENCIAS C/V\"                                                                                                                              \n",
      "[288] \"ROBO EN EVENTOS MASIVOS (DEPORTIVOS, CULTURALES, RELIGIOSOS Y ARTISTICOS) S/V\"                                                                                                   \n",
      "[289] \"LESIONES DOLOSAS POR QUEMADURAS\"                                                                                                                                                 \n",
      "[290] \"ROBO DE VEHICULO ELECTRICO MOTOPATIN\"                                                                                                                                            \n",
      "[291] \"ROBO DE VEHICULO EN PENSION, TALLER Y AGENCIAS S/V\"                                                                                                                              \n",
      "[292] \"HOMICIDIO DOLOSO\"                                                                                                                                                                \n",
      "[293] \"ROBO DE MERCANCIA EN CONTENEDEROS EN ÁREAS FEDERALES\"                                                                                                                            \n",
      "[294] \"LESIONES CULPOSAS CON EXCLUYENTES DE RESPONSABILIDAD\"                                                                                                                            \n",
      "[295] \"ROBO A SUCURSAL BANCARIA DENTRO DE  TIENDAS DE AUTOSERVICIO S/V\"                                                                                                                 \n",
      "[296] \"ENCUBRIMIENTO POR FAVORECIMIENTO\"                                                                                                                                                \n",
      "[297] \"PROCREACION ASISTIDA, INSEMINACION ARTIFICIAL Y ESTERILIZACION FORZADA\"                                                                                                          \n",
      "[298] \"VIOLACION A LOS DERECHOS HUMANOS\"                                                                                                                                                \n",
      "[299] \"EJERCICIO INDEBIDO DEL PROPIO DER.\"                                                                                                                                              \n",
      "[300] \"ROBO DE MERCANCIA A TRANSPORTISTA C/V\"                                                                                                                                           \n",
      "[301] \"ROBO A TRANSEUNTE EN VIA PUBLICA (NOMINA) SIN VIOLENCIA\"                                                                                                                         \n",
      "[302] \"ROBO A NEGOCIO SIN VIOLENCIA POR FARDEROS\"                                                                                                                                       \n",
      "[303] \"INJURIAS\"                                                                                                                                                                        \n",
      "[304] \"CONTRA LA LEY FEDERAL DE POBLACION\"                                                                                                                                              \n",
      "[305] \"ROBO A PASAJERO A BORDO DE CABLEBUS SIN VIOLENCIA\"                                                                                                                               \n",
      "[306] \"HOMICIDIO POR INMERSION\"                                                                                                                                                         \n",
      "[307] \"ROBO A PASAJERO A BORDO DE CABLEBUS CON VIOLENCIA\"                                                                                                                               \n",
      "[308] \"VIOLENCIA FAMILIAR\"                                                                                                                                                              \n",
      "[309] \"TENTATIVA DE EXTORSION\"                                                                                                                                                          \n",
      "[310] \"ABUSO SEXUAL\"                                                                                                                                                                    \n",
      "[311] \"VIOLACION\"                                                                                                                                                                       \n",
      "[312] \"TORTURA\"                                                                                                                                                                         \n",
      "[313] \"CORRUPCION DE MENORES E INCAPACES\"                                                                                                                                               \n",
      "[314] \"PRIVACION DE LA LIBERTAD PERSONAL\"                                                                                                                                               \n",
      "[315] \"TENTATIVA DE HOMICIDIO\"                                                                                                                                                          \n",
      "[316] \"DISCRIMINACION\"                                                                                                                                                                  \n",
      "[317] \"EXTORSION\"                                                                                                                                                                       \n",
      "[318] \"TRATA DE PERSONAS\"                                                                                                                                                               \n",
      "[319] \"ESTUPRO\"                                                                                                                                                                         \n",
      "[320] \"PLAGIO O SECUESTRO\"                                                                                                                                                              \n",
      "[321] \"DESAPARICION FORZADA DE PERSONAS\"                                                                                                                                                \n",
      "[322] \"TENTATIVA DE VIOLACION\"                                                                                                                                                          \n",
      "[323] \"PRIVACION DE LA LIBERTAD PERSONAL (REALIZAR ACTO SEXUAL)\"                                                                                                                        \n",
      "[324] \"VIOLACION EQUIPARADA\"                                                                                                                                                            \n",
      "[325] \"TRAFICO DE INFANTES\"                                                                                                                                                             \n",
      "[326] \"PRIV. ILEGAL DE LA LIB. Y ROBO DE VEHICULO\"                                                                                                                                      \n",
      "[327] \"TENTATIVA DE SUICIDIO\"                                                                                                                                                           \n",
      "[328] \"VIOLACION TUMULTUARIA\"                                                                                                                                                           \n",
      "[329] \"VIOLACION Y ROBO DE VEHICULO\"                                                                                                                                                    \n",
      "[330] \"VIOLACION EQUIPARADA Y ROBO DE VEHICULO\"                                                                                                                                         \n",
      "[331] \"VIOLACION EQUIPARADA POR CONOCIDO\"                                                                                                                                               \n",
      "[332] \"EXPOSICION DE MENORES\"                                                                                                                                                           \n",
      "[333] \"VIOLACION TUMULTUARIA EQUIPARADA POR CONOCIDO\"                                                                                                                                   \n",
      "[334] \"ENTREGA ILEGITIMA DE UN MENOR\"                                                                                                                                                   \n",
      "[335] \"VIOLACION DE LA INTIMIDAD\"                                                                                                                                                       \n",
      "[336] \"OMISION DE AUXILIO O DE CUIDADO\"                                                                                                                                                 \n",
      "[337] \"ABUSO DE AUTORIDAD Y USO ILEGAL DE LA FUERZA PUBLICA\"                                                                                                                            \n",
      "[338] \"CONTRA EL CUMPLIMIENTO DE LA OBLIGACION ALIMENTARIA\"                                                                                                                             \n",
      "[339] \"CORRUPCIÓN DE PERSONAS MENORES DE EDAD O PERSONAS QUE NO TENGAN CAPACIDAD PARA COMPRENDER EL SIGNIFICADO DEL HECHO O DE PERSONAS QUE NO TENGAN CAPACIDAD DE RESISTIR LA CONDUCTA\"\n",
      "[340] \"PORNOGRAFÍA\"                                                                                                                                                                     \n",
      "[341] \"EXPLOTACIÓN LABORAL DE MENORES, PERSONAS CON DISCAPACIDAD FÍSICA O MENTAL Y ADULTOS MAYORES\"                                                                                     \n",
      "[342] \"PANDILLA, ASOCIACIÓN DELICTUOSA Y DELINCUENCIA ORGANIZADA\"                                                                                                                       \n",
      "[343] \"VIOLACION TUMULTUARIA EQUIPARADA\"                                                                                                                                                \n",
      "[344] \"LEY FEDERAL DE ARMAS DE FUEGO Y EXPLOSIVOS\"                                                                                                                                      \n",
      "[345] \"SUSTRACCIÓN DE MENORES\"                                                                                                                                                          \n",
      "[346] \"RETENCIÓN DE MENORES\"                                                                                                                                                            \n",
      "[347] \"CONTRA LA INTIMIDAD SEXUAL\"                                                                                                                                                      \n",
      "[348] \"ACOSO SEXUAL AGRAVADO EN CONTRA DE MENORES\"                                                                                                                                      \n",
      "[349] \"TENTATIVA DE FEMINICIDIO\"                                                                                                                                                        \n",
      "[350] \"INCESTO\"                                                                                                                                                                         \n",
      "[351] \"PRIVACIÓN DE LA LIBERTAD PERSONAL  ( SI LIBERA DENTRO DE 24 HORAS)\"                                                                                                              \n",
      "[352] \"ROBO A NEGOCIO (NOMINA) Y VEHICULO CON VIOLENCIA\"                                                                                                                                \n"
     ]
    }
   ],
   "execution_count": 21
  },
  {
   "metadata": {
    "ExecuteTime": {
     "end_time": "2025-01-23T23:14:04.474957Z",
     "start_time": "2025-01-23T23:13:46.036199Z"
    }
   },
   "cell_type": "code",
   "source": [
    "poblacion <- read_csv('https://conapo.segob.gob.mx/work/models/CONAPO/Datos_Abiertos/pry23/00_Pob_Mitad_1950_2070.csv', quote = ';')%>%\n",
    "janitor::clean_names()"
   ],
   "id": "b16ad50be78a8373",
   "outputs": [
    {
     "name": "stderr",
     "output_type": "stream",
     "text": [
      "\u001B[1mRows: \u001B[22m\u001B[34m737660\u001B[39m \u001B[1mColumns: \u001B[22m\u001B[34m7\u001B[39m\n",
      "\u001B[36m──\u001B[39m \u001B[1mColumn specification\u001B[22m \u001B[36m────────────────────────────────────────────────────────\u001B[39m\n",
      "\u001B[1mDelimiter:\u001B[22m \",\"\n",
      "\u001B[31mchr\u001B[39m (2): ENTIDAD, SEXO\n",
      "\u001B[32mdbl\u001B[39m (5): RENGLON, AÑO, CVE_GEO, EDAD, POBLACION\n",
      "\n",
      "\u001B[36mℹ\u001B[39m Use `spec()` to retrieve the full column specification for this data.\n",
      "\u001B[36mℹ\u001B[39m Specify the column types or set `show_col_types = FALSE` to quiet this message.\n"
     ]
    }
   ],
   "execution_count": 22
  },
  {
   "metadata": {
    "ExecuteTime": {
     "end_time": "2025-01-23T23:14:04.500606Z",
     "start_time": "2025-01-23T23:14:04.488799Z"
    }
   },
   "cell_type": "code",
   "source": "colnames(poblacion)",
   "id": "3932ae2514ff5106",
   "outputs": [
    {
     "data": {
      "text/html": [
       "<style>\n",
       ".list-inline {list-style: none; margin:0; padding: 0}\n",
       ".list-inline>li {display: inline-block}\n",
       ".list-inline>li:not(:last-child)::after {content: \"\\00b7\"; padding: 0 .5ex}\n",
       "</style>\n",
       "<ol class=list-inline><li>'renglon'</li><li>'ano'</li><li>'entidad'</li><li>'cve_geo'</li><li>'edad'</li><li>'sexo'</li><li>'poblacion'</li></ol>\n"
      ],
      "text/markdown": "1. 'renglon'\n2. 'ano'\n3. 'entidad'\n4. 'cve_geo'\n5. 'edad'\n6. 'sexo'\n7. 'poblacion'\n\n\n",
      "text/latex": "\\begin{enumerate*}\n\\item 'renglon'\n\\item 'ano'\n\\item 'entidad'\n\\item 'cve\\_geo'\n\\item 'edad'\n\\item 'sexo'\n\\item 'poblacion'\n\\end{enumerate*}\n",
      "text/plain": [
       "[1] \"renglon\"   \"ano\"       \"entidad\"   \"cve_geo\"   \"edad\"      \"sexo\"     \n",
       "[7] \"poblacion\""
      ]
     },
     "metadata": {},
     "output_type": "display_data"
    }
   ],
   "execution_count": 23
  },
  {
   "metadata": {
    "ExecuteTime": {
     "end_time": "2025-01-23T23:14:04.555847Z",
     "start_time": "2025-01-23T23:14:04.517091Z"
    }
   },
   "cell_type": "code",
   "source": [
    "pob_cdmx <- poblacion %>%\n",
    "  filter(ano %in% c(2016:2024),\n",
    "         cve_geo == 9,\n",
    "         edad >= 18) %>% \n",
    "  select(-renglon) %>%\n",
    "  group_by(ano, entidad, cve_geo) %>%\n",
    "  summarise(poblacion_total = sum(poblacion), .groups = 'drop') %>% \n",
    "  group_by(ano)\n",
    "  \n",
    "  pob_cdmx\n"
   ],
   "id": "effcdad8e8903e0d",
   "outputs": [
    {
     "data": {
      "text/html": [
       "<table class=\"dataframe\">\n",
       "<caption>A grouped_df: 9 × 4</caption>\n",
       "<thead>\n",
       "\t<tr><th scope=col>ano</th><th scope=col>entidad</th><th scope=col>cve_geo</th><th scope=col>poblacion_total</th></tr>\n",
       "\t<tr><th scope=col>&lt;dbl&gt;</th><th scope=col>&lt;chr&gt;</th><th scope=col>&lt;dbl&gt;</th><th scope=col>&lt;dbl&gt;</th></tr>\n",
       "</thead>\n",
       "<tbody>\n",
       "\t<tr><td>2016</td><td>Ciudad de México</td><td>9</td><td>6909676</td></tr>\n",
       "\t<tr><td>2017</td><td>Ciudad de México</td><td>9</td><td>6991272</td></tr>\n",
       "\t<tr><td>2018</td><td>Ciudad de México</td><td>9</td><td>7074976</td></tr>\n",
       "\t<tr><td>2019</td><td>Ciudad de México</td><td>9</td><td>7157355</td></tr>\n",
       "\t<tr><td>2020</td><td>Ciudad de México</td><td>9</td><td>7197032</td></tr>\n",
       "\t<tr><td>2021</td><td>Ciudad de México</td><td>9</td><td>7198885</td></tr>\n",
       "\t<tr><td>2022</td><td>Ciudad de México</td><td>9</td><td>7222176</td></tr>\n",
       "\t<tr><td>2023</td><td>Ciudad de México</td><td>9</td><td>7262596</td></tr>\n",
       "\t<tr><td>2024</td><td>Ciudad de México</td><td>9</td><td>7300177</td></tr>\n",
       "</tbody>\n",
       "</table>\n"
      ],
      "text/markdown": "\nA grouped_df: 9 × 4\n\n| ano &lt;dbl&gt; | entidad &lt;chr&gt; | cve_geo &lt;dbl&gt; | poblacion_total &lt;dbl&gt; |\n|---|---|---|---|\n| 2016 | Ciudad de México | 9 | 6909676 |\n| 2017 | Ciudad de México | 9 | 6991272 |\n| 2018 | Ciudad de México | 9 | 7074976 |\n| 2019 | Ciudad de México | 9 | 7157355 |\n| 2020 | Ciudad de México | 9 | 7197032 |\n| 2021 | Ciudad de México | 9 | 7198885 |\n| 2022 | Ciudad de México | 9 | 7222176 |\n| 2023 | Ciudad de México | 9 | 7262596 |\n| 2024 | Ciudad de México | 9 | 7300177 |\n\n",
      "text/latex": "A grouped\\_df: 9 × 4\n\\begin{tabular}{llll}\n ano & entidad & cve\\_geo & poblacion\\_total\\\\\n <dbl> & <chr> & <dbl> & <dbl>\\\\\n\\hline\n\t 2016 & Ciudad de México & 9 & 6909676\\\\\n\t 2017 & Ciudad de México & 9 & 6991272\\\\\n\t 2018 & Ciudad de México & 9 & 7074976\\\\\n\t 2019 & Ciudad de México & 9 & 7157355\\\\\n\t 2020 & Ciudad de México & 9 & 7197032\\\\\n\t 2021 & Ciudad de México & 9 & 7198885\\\\\n\t 2022 & Ciudad de México & 9 & 7222176\\\\\n\t 2023 & Ciudad de México & 9 & 7262596\\\\\n\t 2024 & Ciudad de México & 9 & 7300177\\\\\n\\end{tabular}\n",
      "text/plain": [
       "  ano  entidad          cve_geo poblacion_total\n",
       "1 2016 Ciudad de México 9       6909676        \n",
       "2 2017 Ciudad de México 9       6991272        \n",
       "3 2018 Ciudad de México 9       7074976        \n",
       "4 2019 Ciudad de México 9       7157355        \n",
       "5 2020 Ciudad de México 9       7197032        \n",
       "6 2021 Ciudad de México 9       7198885        \n",
       "7 2022 Ciudad de México 9       7222176        \n",
       "8 2023 Ciudad de México 9       7262596        \n",
       "9 2024 Ciudad de México 9       7300177        "
      ]
     },
     "metadata": {},
     "output_type": "display_data"
    }
   ],
   "execution_count": 24
  },
  {
   "metadata": {
    "ExecuteTime": {
     "end_time": "2025-01-23T23:14:07.038731Z",
     "start_time": "2025-01-23T23:14:06.536314Z"
    }
   },
   "cell_type": "code",
   "source": [
    "# Filtar por aquellos que sucedieron solo en la ciudad, año (16-24) y categoría de delito\n",
    "carpetas_cdmx <- carpetas %>%\n",
    "  filter(alcaldia_hecho != 'FUERA DE CDMX',\n",
    "         anio_hecho %in% c(2016:2024),\n",
    "         str_detect(\n",
    "           categoria_delito, 'ROBO A CASA HABITACION CON VIOLENCIA|ROBO A CASA HABITACION SIN VIOLENCIA' ) |\n",
    "           str_detect(\n",
    "             categoria_delito, \"ROBO DE VEHICULO CON Y SIN VIOLENCIA|HOMICIDIO DOLOSO\"))"
   ],
   "id": "626978327fed921e",
   "outputs": [],
   "execution_count": 30
  },
  {
   "metadata": {
    "ExecuteTime": {
     "end_time": "2025-01-23T23:14:05.178242Z",
     "start_time": "2025-01-23T23:14:05.148739Z"
    }
   },
   "cell_type": "code",
   "source": "head(carpetas_cdmx)",
   "id": "74b3f3e274b66ca0",
   "outputs": [
    {
     "data": {
      "text/html": [
       "<table class=\"dataframe\">\n",
       "<caption>A tibble: 6 × 21</caption>\n",
       "<thead>\n",
       "\t<tr><th scope=col>anio_inicio</th><th scope=col>mes_inicio</th><th scope=col>fecha_inicio</th><th scope=col>hora_inicio</th><th scope=col>anio_hecho</th><th scope=col>mes_hecho</th><th scope=col>fecha_hecho</th><th scope=col>hora_hecho</th><th scope=col>delito</th><th scope=col>categoria_delito</th><th scope=col>⋯</th><th scope=col>fiscalia</th><th scope=col>agencia</th><th scope=col>unidad_investigacion</th><th scope=col>colonia_hecho</th><th scope=col>colonia_catalogo</th><th scope=col>alcaldia_hecho</th><th scope=col>alcaldia_catalogo</th><th scope=col>municipio_hecho</th><th scope=col>latitud</th><th scope=col>longitud</th></tr>\n",
       "\t<tr><th scope=col>&lt;dbl&gt;</th><th scope=col>&lt;chr&gt;</th><th scope=col>&lt;date&gt;</th><th scope=col>&lt;time&gt;</th><th scope=col>&lt;dbl&gt;</th><th scope=col>&lt;chr&gt;</th><th scope=col>&lt;date&gt;</th><th scope=col>&lt;time&gt;</th><th scope=col>&lt;chr&gt;</th><th scope=col>&lt;chr&gt;</th><th scope=col>⋯</th><th scope=col>&lt;chr&gt;</th><th scope=col>&lt;chr&gt;</th><th scope=col>&lt;chr&gt;</th><th scope=col>&lt;chr&gt;</th><th scope=col>&lt;chr&gt;</th><th scope=col>&lt;chr&gt;</th><th scope=col>&lt;chr&gt;</th><th scope=col>&lt;chr&gt;</th><th scope=col>&lt;dbl&gt;</th><th scope=col>&lt;dbl&gt;</th></tr>\n",
       "</thead>\n",
       "<tbody>\n",
       "\t<tr><td>2016</td><td>Enero</td><td>2016-01-01</td><td>00:00:00</td><td>2016</td><td>Enero</td><td>2016-01-01</td><td>11:30:00</td><td>HOMICIDIO POR ARMA DE FUEGO     </td><td>HOMICIDIO DOLOSO</td><td>⋯</td><td>INVESTIGACIÓN EN TLALPAN          </td><td>TLP-3</td><td>UI-3CD</td><td>PARAJE TETENCO               </td><td>Pueblo San Pedro Martir       </td><td>TLALPAN          </td><td>Tlalpan          </td><td>CDMX</td><td>19.26288</td><td>-99.18075</td></tr>\n",
       "\t<tr><td>2016</td><td>Enero</td><td>2016-01-01</td><td>00:00:00</td><td>2016</td><td>Enero</td><td>2016-01-01</td><td>17:50:00</td><td>HOMICIDIO POR ARMA DE FUEGO     </td><td>HOMICIDIO DOLOSO</td><td>⋯</td><td>INVESTIGACIÓN EN ÁLVARO OBREGÓN   </td><td>AO-2 </td><td>UI-3CD</td><td>ZEDEC SANTA FE               </td><td>San Gabriel                   </td><td>ALVARO OBREGON   </td><td>Álvaro Obregón   </td><td>CDMX</td><td>19.38218</td><td>-99.25283</td></tr>\n",
       "\t<tr><td>2016</td><td>Enero</td><td>2016-01-02</td><td>00:00:00</td><td>2016</td><td>Enero</td><td>2016-01-01</td><td>08:00:00</td><td>HOMICIDIO POR ARMA DE FUEGO     </td><td>HOMICIDIO DOLOSO</td><td>⋯</td><td>INVESTIGACIÓN EN COYOACÁN         </td><td>COY-5</td><td>UI-3CD</td><td>PUEBLO DE SAN PABLO TEPETLAPA</td><td>Pueblo San Pablo Tepetlapa    </td><td>COYOACAN         </td><td>Coyoacán         </td><td>CDMX</td><td>19.32258</td><td>-99.14194</td></tr>\n",
       "\t<tr><td>2016</td><td>Enero</td><td>2016-01-02</td><td>00:00:00</td><td>2016</td><td>Enero</td><td>2016-01-01</td><td>19:30:00</td><td>HOMICIDIO POR ARMA BLANCA       </td><td>HOMICIDIO DOLOSO</td><td>⋯</td><td>INVESTIGACIÓN EN TLAHUAC          </td><td>TLH-1</td><td>UI-3SD</td><td>SAN FRANCISCO TLALTENCO      </td><td>Pueblo San Francisco Tlaltenco</td><td>TLAHUAC          </td><td>Tláhuac          </td><td>CDMX</td><td>19.29470</td><td>-99.01898</td></tr>\n",
       "\t<tr><td>2016</td><td>Enero</td><td>2016-01-02</td><td>00:00:00</td><td>2016</td><td>Enero</td><td>2016-01-02</td><td>07:50:00</td><td>HOMICIDIO POR GOLPES            </td><td>HOMICIDIO DOLOSO</td><td>⋯</td><td>INVESTIGACIÓN EN GUSTAVO A. MADERO</td><td>GAM-5</td><td>UI-1CD</td><td>AMPLIACIÓN PROVIDENCIA       </td><td>Ampliacion Providencia        </td><td>GUSTAVO A. MADERO</td><td>Gustavo A. Madero</td><td>CDMX</td><td>19.47941</td><td>-99.06919</td></tr>\n",
       "\t<tr><td>2016</td><td>Enero</td><td>2016-01-02</td><td>00:00:00</td><td>2016</td><td>Enero</td><td>2016-01-02</td><td>16:00:00</td><td>HOMICIDIOS INTENCIONALES (OTROS)</td><td>HOMICIDIO DOLOSO</td><td>⋯</td><td>INVESTIGACIÓN EN IZTAPALAPA       </td><td>IZP-8</td><td>UI-1CD</td><td>EL MOLINO                    </td><td>El Santuario                  </td><td>IZTAPALAPA       </td><td>Iztapalapa       </td><td>CDMX</td><td>19.35558</td><td>-99.08981</td></tr>\n",
       "</tbody>\n",
       "</table>\n"
      ],
      "text/markdown": "\nA tibble: 6 × 21\n\n| anio_inicio &lt;dbl&gt; | mes_inicio &lt;chr&gt; | fecha_inicio &lt;date&gt; | hora_inicio &lt;time&gt; | anio_hecho &lt;dbl&gt; | mes_hecho &lt;chr&gt; | fecha_hecho &lt;date&gt; | hora_hecho &lt;time&gt; | delito &lt;chr&gt; | categoria_delito &lt;chr&gt; | ⋯ ⋯ | fiscalia &lt;chr&gt; | agencia &lt;chr&gt; | unidad_investigacion &lt;chr&gt; | colonia_hecho &lt;chr&gt; | colonia_catalogo &lt;chr&gt; | alcaldia_hecho &lt;chr&gt; | alcaldia_catalogo &lt;chr&gt; | municipio_hecho &lt;chr&gt; | latitud &lt;dbl&gt; | longitud &lt;dbl&gt; |\n|---|---|---|---|---|---|---|---|---|---|---|---|---|---|---|---|---|---|---|---|---|\n| 2016 | Enero | 2016-01-01 | 00:00:00 | 2016 | Enero | 2016-01-01 | 11:30:00 | HOMICIDIO POR ARMA DE FUEGO      | HOMICIDIO DOLOSO | ⋯ | INVESTIGACIÓN EN TLALPAN           | TLP-3 | UI-3CD | PARAJE TETENCO                | Pueblo San Pedro Martir        | TLALPAN           | Tlalpan           | CDMX | 19.26288 | -99.18075 |\n| 2016 | Enero | 2016-01-01 | 00:00:00 | 2016 | Enero | 2016-01-01 | 17:50:00 | HOMICIDIO POR ARMA DE FUEGO      | HOMICIDIO DOLOSO | ⋯ | INVESTIGACIÓN EN ÁLVARO OBREGÓN    | AO-2  | UI-3CD | ZEDEC SANTA FE                | San Gabriel                    | ALVARO OBREGON    | Álvaro Obregón    | CDMX | 19.38218 | -99.25283 |\n| 2016 | Enero | 2016-01-02 | 00:00:00 | 2016 | Enero | 2016-01-01 | 08:00:00 | HOMICIDIO POR ARMA DE FUEGO      | HOMICIDIO DOLOSO | ⋯ | INVESTIGACIÓN EN COYOACÁN          | COY-5 | UI-3CD | PUEBLO DE SAN PABLO TEPETLAPA | Pueblo San Pablo Tepetlapa     | COYOACAN          | Coyoacán          | CDMX | 19.32258 | -99.14194 |\n| 2016 | Enero | 2016-01-02 | 00:00:00 | 2016 | Enero | 2016-01-01 | 19:30:00 | HOMICIDIO POR ARMA BLANCA        | HOMICIDIO DOLOSO | ⋯ | INVESTIGACIÓN EN TLAHUAC           | TLH-1 | UI-3SD | SAN FRANCISCO TLALTENCO       | Pueblo San Francisco Tlaltenco | TLAHUAC           | Tláhuac           | CDMX | 19.29470 | -99.01898 |\n| 2016 | Enero | 2016-01-02 | 00:00:00 | 2016 | Enero | 2016-01-02 | 07:50:00 | HOMICIDIO POR GOLPES             | HOMICIDIO DOLOSO | ⋯ | INVESTIGACIÓN EN GUSTAVO A. MADERO | GAM-5 | UI-1CD | AMPLIACIÓN PROVIDENCIA        | Ampliacion Providencia         | GUSTAVO A. MADERO | Gustavo A. Madero | CDMX | 19.47941 | -99.06919 |\n| 2016 | Enero | 2016-01-02 | 00:00:00 | 2016 | Enero | 2016-01-02 | 16:00:00 | HOMICIDIOS INTENCIONALES (OTROS) | HOMICIDIO DOLOSO | ⋯ | INVESTIGACIÓN EN IZTAPALAPA        | IZP-8 | UI-1CD | EL MOLINO                     | El Santuario                   | IZTAPALAPA        | Iztapalapa        | CDMX | 19.35558 | -99.08981 |\n\n",
      "text/latex": "A tibble: 6 × 21\n\\begin{tabular}{lllllllllllllllllllll}\n anio\\_inicio & mes\\_inicio & fecha\\_inicio & hora\\_inicio & anio\\_hecho & mes\\_hecho & fecha\\_hecho & hora\\_hecho & delito & categoria\\_delito & ⋯ & fiscalia & agencia & unidad\\_investigacion & colonia\\_hecho & colonia\\_catalogo & alcaldia\\_hecho & alcaldia\\_catalogo & municipio\\_hecho & latitud & longitud\\\\\n <dbl> & <chr> & <date> & <time> & <dbl> & <chr> & <date> & <time> & <chr> & <chr> & ⋯ & <chr> & <chr> & <chr> & <chr> & <chr> & <chr> & <chr> & <chr> & <dbl> & <dbl>\\\\\n\\hline\n\t 2016 & Enero & 2016-01-01 & 00:00:00 & 2016 & Enero & 2016-01-01 & 11:30:00 & HOMICIDIO POR ARMA DE FUEGO      & HOMICIDIO DOLOSO & ⋯ & INVESTIGACIÓN EN TLALPAN           & TLP-3 & UI-3CD & PARAJE TETENCO                & Pueblo San Pedro Martir        & TLALPAN           & Tlalpan           & CDMX & 19.26288 & -99.18075\\\\\n\t 2016 & Enero & 2016-01-01 & 00:00:00 & 2016 & Enero & 2016-01-01 & 17:50:00 & HOMICIDIO POR ARMA DE FUEGO      & HOMICIDIO DOLOSO & ⋯ & INVESTIGACIÓN EN ÁLVARO OBREGÓN    & AO-2  & UI-3CD & ZEDEC SANTA FE                & San Gabriel                    & ALVARO OBREGON    & Álvaro Obregón    & CDMX & 19.38218 & -99.25283\\\\\n\t 2016 & Enero & 2016-01-02 & 00:00:00 & 2016 & Enero & 2016-01-01 & 08:00:00 & HOMICIDIO POR ARMA DE FUEGO      & HOMICIDIO DOLOSO & ⋯ & INVESTIGACIÓN EN COYOACÁN          & COY-5 & UI-3CD & PUEBLO DE SAN PABLO TEPETLAPA & Pueblo San Pablo Tepetlapa     & COYOACAN          & Coyoacán          & CDMX & 19.32258 & -99.14194\\\\\n\t 2016 & Enero & 2016-01-02 & 00:00:00 & 2016 & Enero & 2016-01-01 & 19:30:00 & HOMICIDIO POR ARMA BLANCA        & HOMICIDIO DOLOSO & ⋯ & INVESTIGACIÓN EN TLAHUAC           & TLH-1 & UI-3SD & SAN FRANCISCO TLALTENCO       & Pueblo San Francisco Tlaltenco & TLAHUAC           & Tláhuac           & CDMX & 19.29470 & -99.01898\\\\\n\t 2016 & Enero & 2016-01-02 & 00:00:00 & 2016 & Enero & 2016-01-02 & 07:50:00 & HOMICIDIO POR GOLPES             & HOMICIDIO DOLOSO & ⋯ & INVESTIGACIÓN EN GUSTAVO A. MADERO & GAM-5 & UI-1CD & AMPLIACIÓN PROVIDENCIA        & Ampliacion Providencia         & GUSTAVO A. MADERO & Gustavo A. Madero & CDMX & 19.47941 & -99.06919\\\\\n\t 2016 & Enero & 2016-01-02 & 00:00:00 & 2016 & Enero & 2016-01-02 & 16:00:00 & HOMICIDIOS INTENCIONALES (OTROS) & HOMICIDIO DOLOSO & ⋯ & INVESTIGACIÓN EN IZTAPALAPA        & IZP-8 & UI-1CD & EL MOLINO                     & El Santuario                   & IZTAPALAPA        & Iztapalapa        & CDMX & 19.35558 & -99.08981\\\\\n\\end{tabular}\n",
      "text/plain": [
       "  anio_inicio mes_inicio fecha_inicio hora_inicio anio_hecho mes_hecho\n",
       "1 2016        Enero      2016-01-01   00:00:00    2016       Enero    \n",
       "2 2016        Enero      2016-01-01   00:00:00    2016       Enero    \n",
       "3 2016        Enero      2016-01-02   00:00:00    2016       Enero    \n",
       "4 2016        Enero      2016-01-02   00:00:00    2016       Enero    \n",
       "5 2016        Enero      2016-01-02   00:00:00    2016       Enero    \n",
       "6 2016        Enero      2016-01-02   00:00:00    2016       Enero    \n",
       "  fecha_hecho hora_hecho delito                           categoria_delito ⋯\n",
       "1 2016-01-01  11:30:00   HOMICIDIO POR ARMA DE FUEGO      HOMICIDIO DOLOSO ⋯\n",
       "2 2016-01-01  17:50:00   HOMICIDIO POR ARMA DE FUEGO      HOMICIDIO DOLOSO ⋯\n",
       "3 2016-01-01  08:00:00   HOMICIDIO POR ARMA DE FUEGO      HOMICIDIO DOLOSO ⋯\n",
       "4 2016-01-01  19:30:00   HOMICIDIO POR ARMA BLANCA        HOMICIDIO DOLOSO ⋯\n",
       "5 2016-01-02  07:50:00   HOMICIDIO POR GOLPES             HOMICIDIO DOLOSO ⋯\n",
       "6 2016-01-02  16:00:00   HOMICIDIOS INTENCIONALES (OTROS) HOMICIDIO DOLOSO ⋯\n",
       "  fiscalia                           agencia unidad_investigacion\n",
       "1 INVESTIGACIÓN EN TLALPAN           TLP-3   UI-3CD              \n",
       "2 INVESTIGACIÓN EN ÁLVARO OBREGÓN    AO-2    UI-3CD              \n",
       "3 INVESTIGACIÓN EN COYOACÁN          COY-5   UI-3CD              \n",
       "4 INVESTIGACIÓN EN TLAHUAC           TLH-1   UI-3SD              \n",
       "5 INVESTIGACIÓN EN GUSTAVO A. MADERO GAM-5   UI-1CD              \n",
       "6 INVESTIGACIÓN EN IZTAPALAPA        IZP-8   UI-1CD              \n",
       "  colonia_hecho                 colonia_catalogo              \n",
       "1 PARAJE TETENCO                Pueblo San Pedro Martir       \n",
       "2 ZEDEC SANTA FE                San Gabriel                   \n",
       "3 PUEBLO DE SAN PABLO TEPETLAPA Pueblo San Pablo Tepetlapa    \n",
       "4 SAN FRANCISCO TLALTENCO       Pueblo San Francisco Tlaltenco\n",
       "5 AMPLIACIÓN PROVIDENCIA        Ampliacion Providencia        \n",
       "6 EL MOLINO                     El Santuario                  \n",
       "  alcaldia_hecho    alcaldia_catalogo municipio_hecho latitud  longitud \n",
       "1 TLALPAN           Tlalpan           CDMX            19.26288 -99.18075\n",
       "2 ALVARO OBREGON    Álvaro Obregón    CDMX            19.38218 -99.25283\n",
       "3 COYOACAN          Coyoacán          CDMX            19.32258 -99.14194\n",
       "4 TLAHUAC           Tláhuac           CDMX            19.29470 -99.01898\n",
       "5 GUSTAVO A. MADERO Gustavo A. Madero CDMX            19.47941 -99.06919\n",
       "6 IZTAPALAPA        Iztapalapa        CDMX            19.35558 -99.08981"
      ]
     },
     "metadata": {},
     "output_type": "display_data"
    }
   ],
   "execution_count": 26
  },
  {
   "metadata": {
    "ExecuteTime": {
     "end_time": "2025-01-23T23:14:05.220381Z",
     "start_time": "2025-01-23T23:14:05.194353Z"
    }
   },
   "cell_type": "code",
   "source": [
    "# Tabla delitos mensuales\n",
    "delitos_mensual <- carpetas_cdmx %>%\n",
    "  mutate(fecha_hecho = as.Date(fecha_hecho),\n",
    "         ano = year(fecha_hecho),\n",
    "         mes = month(fecha_hecho)) %>%\n",
    "  group_by(ano, mes) %>%\n",
    "  summarise(delitos = n(), .groups = 'drop') %>%\n",
    "    #Obtener promedio diario de delitos\n",
    "    mutate(promedio_diario = delitos / days_in_month(as.Date(paste(ano, mes, '01', sep = '-'))))\n",
    "\n",
    "head(delitos_mensual)\n"
   ],
   "id": "49e8089ea98022dd",
   "outputs": [
    {
     "data": {
      "text/html": [
       "<table class=\"dataframe\">\n",
       "<caption>A tibble: 6 × 4</caption>\n",
       "<thead>\n",
       "\t<tr><th scope=col>ano</th><th scope=col>mes</th><th scope=col>delitos</th><th scope=col>promedio_diario</th></tr>\n",
       "\t<tr><th scope=col>&lt;dbl&gt;</th><th scope=col>&lt;dbl&gt;</th><th scope=col>&lt;int&gt;</th><th scope=col>&lt;dbl&gt;</th></tr>\n",
       "</thead>\n",
       "<tbody>\n",
       "\t<tr><td>2016</td><td>1</td><td>69</td><td>2.225806</td></tr>\n",
       "\t<tr><td>2016</td><td>2</td><td>73</td><td>2.517241</td></tr>\n",
       "\t<tr><td>2016</td><td>3</td><td>83</td><td>2.677419</td></tr>\n",
       "\t<tr><td>2016</td><td>4</td><td>75</td><td>2.500000</td></tr>\n",
       "\t<tr><td>2016</td><td>5</td><td>86</td><td>2.774194</td></tr>\n",
       "\t<tr><td>2016</td><td>6</td><td>76</td><td>2.533333</td></tr>\n",
       "</tbody>\n",
       "</table>\n"
      ],
      "text/markdown": "\nA tibble: 6 × 4\n\n| ano &lt;dbl&gt; | mes &lt;dbl&gt; | delitos &lt;int&gt; | promedio_diario &lt;dbl&gt; |\n|---|---|---|---|\n| 2016 | 1 | 69 | 2.225806 |\n| 2016 | 2 | 73 | 2.517241 |\n| 2016 | 3 | 83 | 2.677419 |\n| 2016 | 4 | 75 | 2.500000 |\n| 2016 | 5 | 86 | 2.774194 |\n| 2016 | 6 | 76 | 2.533333 |\n\n",
      "text/latex": "A tibble: 6 × 4\n\\begin{tabular}{llll}\n ano & mes & delitos & promedio\\_diario\\\\\n <dbl> & <dbl> & <int> & <dbl>\\\\\n\\hline\n\t 2016 & 1 & 69 & 2.225806\\\\\n\t 2016 & 2 & 73 & 2.517241\\\\\n\t 2016 & 3 & 83 & 2.677419\\\\\n\t 2016 & 4 & 75 & 2.500000\\\\\n\t 2016 & 5 & 86 & 2.774194\\\\\n\t 2016 & 6 & 76 & 2.533333\\\\\n\\end{tabular}\n",
      "text/plain": [
       "    ano  mes delitos promedio_diario\n",
       "Jan 2016 1   69      2.225806       \n",
       "Feb 2016 2   73      2.517241       \n",
       "Mar 2016 3   83      2.677419       \n",
       "Apr 2016 4   75      2.500000       \n",
       "May 2016 5   86      2.774194       \n",
       "Jun 2016 6   76      2.533333       "
      ]
     },
     "metadata": {},
     "output_type": "display_data"
    }
   ],
   "execution_count": 27
  },
  {
   "metadata": {
    "ExecuteTime": {
     "end_time": "2025-01-23T23:15:30.141932Z",
     "start_time": "2025-01-23T23:15:29.724479Z"
    }
   },
   "cell_type": "code",
   "source": [
    "#Gráfica\n",
    "\n",
    "delitos_mensual %>%\n",
    "ggplot(aes(x = as.Date(paste(ano, mes, '01', sep = '-')), y = promedio_diario)) +\n",
    "    geom_line() +\n",
    "    labs(title = 'Promedio diario de delitos en la Ciudad de México',\n",
    "         x = 'Fecha',\n",
    "         y = 'Promedio diario de delitos',\n",
    "         caption=\"Fuente:Elaborado por IPDP CDMX con base en datos abiertos del Gobierno de la Ciudad de México\"\n",
    "         ) +\n",
    "    theme_minimal()+\n",
    "    geom_smooth(method = 'loess', se = FALSE, color = 'red')+\n",
    "    theme_minimal()+\n",
    "    scale_x_date(date_labels = '%Y-%m', date_breaks = '6 month')+\n",
    "    scale_y_continuous(labels = scales::comma)+\n",
    "    theme(axis.text.x = element_text(angle = 90, hjust = 1),\n",
    "    plot.title = element_text(hjust = 0, size=25,face=\"bold\"),\n",
    "        plot.subtitle = element_text(hjust = 0, size=20, face=\"italic\"),\n",
    "        plot.caption = element_text(hjust = 0,size=15),\n",
    "        legend.position = \"none\")\n",
    "\n",
    "ggsave('delitos_mensual.png', width = 12, height = 8, units = 'in',,dpi=300,bg=\"white\")"
   ],
   "id": "ac5742b8cb0e2651",
   "outputs": [
    {
     "name": "stderr",
     "output_type": "stream",
     "text": [
      "\u001B[1m\u001B[22m`geom_smooth()` using formula = 'y ~ x'\n",
      "\u001B[1m\u001B[22m`geom_smooth()` using formula = 'y ~ x'\n"
     ]
    },
    {
     "data": {
      "text/plain": [
       "plot without title"
      ],
      "image/png": "[encoded data removed]"
     },
     "metadata": {
      "image/png": {
       "width": 420,
       "height": 420
      }
     },
     "output_type": "display_data"
    }
   ],
   "execution_count": 35
  }
 ],
 "metadata": {
  "kernelspec": {
   "display_name": "R",
   "language": "R",
   "name": "ir"
  },
  "language_info": {
   "codemirror_mode": {
    "name": "ipython",
    "version": 2
   },
   "file_extension": ".py",
   "mimetype": "text/x-python",
   "name": "python",
   "nbconvert_exporter": "python",
   "pygments_lexer": "ipython2",
   "version": "2.7.6"
  }
 },
 "nbformat": 4,
 "nbformat_minor": 5
}
